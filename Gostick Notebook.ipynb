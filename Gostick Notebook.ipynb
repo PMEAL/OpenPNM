{
 "metadata": {
  "name": "",
  "signature": "sha256:9a14192e202d679d466866e8d83014eaacb86378ba109f32ad898520af0c18f4"
 },
 "nbformat": 3,
 "nbformat_minor": 0,
 "worksheets": [
  {
   "cells": [
    {
     "cell_type": "heading",
     "level": 1,
     "metadata": {},
     "source": [
      "Regerating Data from Gostick et Al, \"Pore network modeling of fibrous gas diffusion layers for polymer electrolyte membrane fule cells\""
     ]
    },
    {
     "cell_type": "heading",
     "level": 1,
     "metadata": {},
     "source": [
      "CURRENT PROBLEM: WHAT'S WRONG WITH STRICT MODE IN THE Z DIRECTION?!?!?!?!?!"
     ]
    },
    {
     "cell_type": "markdown",
     "metadata": {},
     "source": [
      "In this tutorial, we will regenerate data from Gostick's 2007 paper.  This will both show that OpenPNM can recreate results accurately, and will also show some more specific uses of OpenPNM.  While his paper deals with both SGL and Toray GDLs, we will deal only with SGL. \n",
      "\n",
      "There will be a general layout to complete this simulation:\n",
      "1) Set up network\n",
      "2) Set up geometry and geometrical methods\n",
      "3) constrict throat's by a constriction factor\n",
      "4) Set up fluids and methods\n",
      "5) Set up fluid physics and methods\n",
      "6) Run invasion percolation\n",
      "7) Run Stokes and Fickian algorithms \n",
      "8) generate effective permeability and effective diffusivity values at different saturations\n",
      "9) plot generated data\n",
      "\n",
      "To begin, we must download OpenPNM found at https://github.com/PMEAL/OpenPNM.  Then we can begin our simulation by adding OpenPNM to our pythonpath, and importing OpenPNM.  \n",
      "\n",
      "The command line argument for adding OpenPNM to our python path (for MacOSX, note that a folder along the path used must contain an init folder in order for this to work):\n",
      "export PYTHONPATH=$PYTHONPATH:/path/to/OpenPNM\n",
      "\n",
      "We should also import matplotlib.pyplot so that we can plot our graphs at the end."
     ]
    },
    {
     "cell_type": "code",
     "collapsed": false,
     "input": [
      "cd OpenPNM"
     ],
     "language": "python",
     "metadata": {},
     "outputs": [
      {
       "output_type": "stream",
       "stream": "stdout",
       "text": [
        "/Users/Jackie/OpenPNM\n"
       ]
      }
     ],
     "prompt_number": 1
    },
    {
     "cell_type": "code",
     "collapsed": false,
     "input": [
      "import OpenPNM\n",
      "import matplotlib.pyplot"
     ],
     "language": "python",
     "metadata": {},
     "outputs": [],
     "prompt_number": 2
    },
    {
     "cell_type": "heading",
     "level": 2,
     "metadata": {},
     "source": [
      "Setting up Network and Geometry"
     ]
    },
    {
     "cell_type": "markdown",
     "metadata": {},
     "source": [
      "To begin our simulation, we must first generate our SGL network and geometry.  This includes \n",
      "\n",
      "1) creating a cubic network object and an SGL10 geometry object\n",
      "2) sending our geometry object our internal pores\n",
      "3) calculating values for throat and pore properties for both internal and boundary pores\n",
      "4) accounting for pores that are too big (making maximum pore size the lattice parameter)"
     ]
    },
    {
     "cell_type": "code",
     "collapsed": false,
     "input": [
      "Lc = 40.5e-6\n",
      "\n",
      "#setting up network\n",
      "sgl = OpenPNM.Network.Cubic(name = 'SGL10BA', loglevel = 30)\n",
      "#divisions = [26, 26, 10]\n",
      "sgl.generate(divisions = [26, 26, 10], add_boundaries = True, lattice_spacing = [Lc])\n",
      "\n",
      "#set up geometries (geo for internal pores, boun for boundary pores)\n",
      "geo = OpenPNM.Geometry.SGL10(name = 'geo', network = sgl)\n",
      "geo.set_locations(pores=sgl.pores('internal'),throats='all')\n",
      "\n",
      "boun = sgl.add_geometry(subclass='Boundary',name='boun')\n",
      "boun.set_locations(pores=sgl.pores('boundary'))\n",
      "\n",
      "#calculates values for pore and throat properties (such as diameter and volume)\n",
      "sgl.regenerate_geometries()\n",
      "\n",
      "#account for pores that are too big (note: pores in boundary are automatically 0 volume)\n",
      "value = [min(sgl.get_pore_data(prop = 'diameter', locations = x), Lc) for x in geo.pores()]\n",
      "sgl.set_data(prop='diameter',pores=geo.pores(),data=value)\n",
      "#account for throats that are too big\n",
      "value = [min(sgl.get_throat_data(prop = 'diameter', locations = x), Lc) for x in geo.throats()]\n",
      "sgl.set_data(prop='diameter',throats=geo.throats(),data=value)"
     ],
     "language": "python",
     "metadata": {},
     "outputs": [
      {
       "output_type": "stream",
       "stream": "stderr",
       "text": [
        "ERROR:Cubic:Cannot overwrite throat.vector with an array of the wrong length\n"
       ]
      }
     ],
     "prompt_number": 3
    },
    {
     "cell_type": "markdown",
     "metadata": {},
     "source": [
      "Before we move on to setting up our fluid and physics objects, we must constrict throats in the z and y direction.  For his SGL simulation, he uses a constriction factor of .95.  Finally, because we have changed values for pore and throat diameters (first by accounting for pores and throats that are too big, and the finally constricting throats in the y and z directions), we must recalculate all pore and throat values relying on these diameters."
     ]
    },
    {
     "cell_type": "code",
     "collapsed": false,
     "input": [
      "#constricting throats by .95 in both the z and y direction  \n",
      "throats = geo.throats()\n",
      "connected_pores = sgl.find_connected_pores(throats)\n",
      "#finding x coordinates at both ends of each throat\n",
      "x1 = [sgl['pore.coords'][pair[0]][0] for pair in connected_pores]\n",
      "x2 = [sgl['pore.coords'][pair[1]][0] for pair in connected_pores]\n",
      "#checking if x coordinate at one end of throat is the same as at the other end\n",
      "same_x = [x - y == 0 for x, y in zip(x1,x2)]\n",
      "factor = [s*.95 + (not s)*1 for s in same_x]\n",
      "throat_diameters = sgl['throat.diameter'][throats]*factor\n",
      "sgl.set_data(throats = throats, prop = 'diameter', data = throat_diameters)\n",
      "\n",
      "#recalculate values relying on pore and throat diameters\n",
      "geo.pore_volume()\n",
      "geo.throat_volume()\n",
      "geo.throat_surface_area()"
     ],
     "language": "python",
     "metadata": {},
     "outputs": [],
     "prompt_number": 4
    },
    {
     "cell_type": "heading",
     "level": 2,
     "metadata": {},
     "source": [
      "Setting up fluids and physics"
     ]
    },
    {
     "cell_type": "markdown",
     "metadata": {},
     "source": [
      "Now we are ready to set up our fluids (water and air) and the physics corresponding to each of these fluids.  OpenPNM has built in air and water objects, so we can use those.  We must remember to use regenerate_fluids() so that important values for each fluid will be set.  However, Gostick specifies using a water pore contact angle of 100, so we will reset this value after regenerating our fluids."
     ]
    },
    {
     "cell_type": "code",
     "collapsed": false,
     "input": [
      "#set up fluids \n",
      "air = OpenPNM.Fluids.Air(network = sgl, name = 'air')\n",
      "water = OpenPNM.Fluids.Water(network = sgl, name = 'water')\n",
      "\n",
      "#regenerating fluids to calculate all fluid values\n",
      "sgl.regenerate_fluids()\n",
      "\n",
      "#specifying our contact angle at 100 instead of the automatic 110\n",
      "water['pore.contact_angle'] = 100"
     ],
     "language": "python",
     "metadata": {},
     "outputs": [],
     "prompt_number": 5
    },
    {
     "cell_type": "markdown",
     "metadata": {},
     "source": [
      "We are now ready to establish physical properties for our fluid objects.  To do this, we will:\n",
      "1) create physics objects associated with our fluids\n",
      "2) add methods concerning each physical property we will want calculated\n",
      "3) use our regenerate_physics() method to recalculate these properties"
     ]
    },
    {
     "cell_type": "code",
     "collapsed": false,
     "input": [
      "#set up physics \n",
      "phys_water = OpenPNM.Physics.GenericPhysics(network=sgl,fluid=water, geometry = geo, name='standard_water_physics')\n",
      "phys_air = OpenPNM.Physics.GenericPhysics(network=sgl,fluid=air, geometry = geo, name='standard_air_physics')\n",
      "   \n",
      "#adding our desired water physics calculation methods\n",
      "phys_water.add_property(prop='capillary_pressure', model='washburn')\n",
      "phys_water.add_property(prop='hydraulic_conductance',model='hagen_poiseuille')\n",
      "phys_water.add_property(prop='diffusive_conductance', model='bulk_diffusion', shape = 'square')\n",
      "\n",
      "#adding our desired air physics calculation methods\n",
      "phys_air.add_property(prop='hydraulic_conductance',model='hagen_poiseuille')\n",
      "phys_air.add_property(prop='diffusive_conductance', model='bulk_diffusion') \n",
      "\n",
      "#calling regenerate to calculate properties using chosen methods\n",
      "sgl.regenerate_physics()"
     ],
     "language": "python",
     "metadata": {},
     "outputs": [
      {
       "output_type": "stream",
       "stream": "stderr",
       "text": [
        "/Users/Jackie/OpenPNM/OpenPNM/Physics/hydraulic_conductance.py:59: RuntimeWarning: invalid value encountered in true_divide\n",
        "  gp2 = 2.28*(pdia[pores[:,1]]/2)**4/(pdia[pores[:,1]]*mut)\n",
        "/Users/Jackie/OpenPNM/OpenPNM/Physics/hydraulic_conductance.py:60: RuntimeWarning: invalid value encountered in greater\n",
        "  gp2[~(gp2>0)] = sp.inf #Set 0 conductance pores (boundaries) to inf\n",
        "/Users/Jackie/OpenPNM/OpenPNM/Physics/diffusive_conductance.py:72: RuntimeWarning: invalid value encountered in true_divide\n",
        "  gp2 = ct*DABt*pdia[Ps[:,1]]**2/(0.5*pdia[Ps[:,1]])\n",
        "/Users/Jackie/OpenPNM/OpenPNM/Physics/diffusive_conductance.py:73: RuntimeWarning: invalid value encountered in greater\n",
        "  gp2[~(gp2>0)] = sp.inf #Set 0 conductance pores (boundaries) to inf\n"
       ]
      }
     ],
     "prompt_number": 6
    },
    {
     "cell_type": "heading",
     "level": 2,
     "metadata": {},
     "source": [
      "Running ordinary percolation, Fickian diffusion, and Stokes flow"
     ]
    },
    {
     "cell_type": "markdown",
     "metadata": {},
     "source": [
      "Gostick uses ordinary percolation to spread water through his GDL before calculating relative permeability and relative diffusivity.  This way, a graph showing the relationship between saturation and relative permeability and between saturation and relative diffusivity can be created.  \n",
      "\n",
      "To run our ordinary percolation, we will:\n",
      "1) pick inlet and outlet pores\n",
      "2) create an Ordinary Percolation algorithm object\n",
      "3) setup our algorithm object\n",
      "4) run our algorithm object\n",
      "5) call update() so that occupancy of pores and throats for each fluid will be set"
     ]
    },
    {
     "cell_type": "code",
     "collapsed": false,
     "input": [
      "inlets = sgl.get_pore_indices(labels = ['bottom','boundary'],mode='intersection')\n",
      "outlets = sgl.get_pore_indices(labels = ['top','boundary'],mode='intersection')\n",
      "    \n",
      "OP_1 = OpenPNM.Algorithms.OrdinaryPercolation(network=sgl,loglevel=30)\n",
      "OP_1.setup(invading_fluid = water, defending_fluid = air, inlets = inlets,npts=100)\n",
      "OP_1.run() \n",
      "OP_1.update()"
     ],
     "language": "python",
     "metadata": {},
     "outputs": [],
     "prompt_number": 7
    },
    {
     "cell_type": "markdown",
     "metadata": {},
     "source": [
      "update() takes either a sequence value or a pressure value.  If we give no parameters, it uses a capillary pressure value of 0.  This means that the percolation process is updated to the point in time at which the capillary pressure is 0, or when all pores have not been invaded by the invading fluid.  We can check that water pore occupancy is 0 for all pores."
     ]
    },
    {
     "cell_type": "code",
     "collapsed": false,
     "input": [
      "water['pore.occupancy'][water.pores()]"
     ],
     "language": "python",
     "metadata": {},
     "outputs": [
      {
       "metadata": {},
       "output_type": "pyout",
       "prompt_number": 8,
       "text": [
        "array([ 0.,  0.,  0., ...,  0.,  0.,  0.])"
       ]
      }
     ],
     "prompt_number": 8
    },
    {
     "cell_type": "markdown",
     "metadata": {},
     "source": [
      "The next step will be to calculate effective diffusivity and permeability at different saturations.  Note that we want to run Fickian diffusion and Stokes flow algorithms at different points within our ordinary percolation process.  OpenPNM has a very helpful update() method for updating the occupancy of pores to their values during a specified part of percolation.  During percolation, each pore is given a sequence value showing when in time it was invaded.  We can send update() a sequence parameter, determining when during the percolation we want to update our pore occupancy to.  \n",
      "\n",
      "The rest of our code will exist within a loop updating our network to different stages of percolation, so that we may view our relative diffusivity and permeability at different points of saturation.\n",
      "\n",
      "Before we add in the loop aspect, we will walk through the code that will be inside the loop.  \n",
      "\n",
      "First, we will want to add a physics property that recalculates diffusive and hydraulic conductance in each throat based on occupancy.  There are two modes for this- 'strict' and 'loose'.  'loose' lowers conductivity if the throat is filled with invading fluid, while 'strict' lowers conductivity if the throat or either neighboring pore is filled with the invading fluid.  We will start off with 'loose', and later try 'strict' to compare results."
     ]
    },
    {
     "cell_type": "code",
     "collapsed": false,
     "input": [
      "#adding multiphase conductances\n",
      "phys_air.add_property(prop='multiphase',model='conduit_conductance',\n",
      "                  conductance = 'diffusive_conductance', prop_name='conduit_diffusive_conductance',mode='loose')\n",
      "phys_water.add_property(prop='multiphase',model='conduit_conductance',\n",
      "                  conductance = 'diffusive_conductance', prop_name='conduit_diffusive_conductance',mode='loose')\n",
      "phys_air.add_property(prop='multiphase',model='conduit_conductance',\n",
      "                  conductance = 'hydraulic_conductance', prop_name='conduit_hydraulic_conductance',mode='loose')\n",
      "phys_water.add_property(prop='multiphase',model='conduit_conductance',\n",
      "                  conductance = 'hydraulic_conductance', prop_name='conduit_hydraulic_conductance',mode='loose')\n",
      "sgl.regenerate_physics()"
     ],
     "language": "python",
     "metadata": {},
     "outputs": [],
     "prompt_number": 9
    },
    {
     "cell_type": "markdown",
     "metadata": {},
     "source": [
      "We can finally instatiate, setup, and run our algorithm objects for Stokes flow and Fickian diffusion.  We want to set up 8 different algorithm objects.\n",
      "\n",
      "1) Stokes flow, single phase air\n",
      "2) Stokes flow, multi phase air \n",
      "3) Stokes flow, single phase water\n",
      "4) Stokes flow, multi phase water\n",
      "5) Fickian diffusion, single phase air\n",
      "6) Fickian diffusion, multi phase air \n",
      "7) Fickian diffusion, sing phase water\n",
      "8) Fickian diffusion, multi phase water\n",
      "\n",
      "Note that we want the algorithms that are single phase (where only the specified fluid exists in the network) to make our permeability and diffusivity values relative.  Any algorithm that is single phase will use the hydraulic or diffusive conductances before we recalculated based on occupancy.  This calls for our conductance parameter to be 'hydraulic_conductance' or 'diffusive_conductance' instead of 'conduit_hydraulic_conductance' or 'conduit_diffusive_conductance'."
     ]
    },
    {
     "cell_type": "code",
     "collapsed": false,
     "input": [
      "#run Stokes Flow and find Permeability\n",
      "Stokes_alg_single_phase_air = OpenPNM.Algorithms.StokesFlow(loggername = 'Stokes', name = 'Stokes_alg_single_phase_air', network = sgl, loglevel = 30)\n",
      "Stokes_alg_single_phase_water = OpenPNM.Algorithms.StokesFlow(loggername = 'Stokes_2', name = 'Stokes_alg_single_phase_water', network = sgl, loglevel = 30)\n",
      "\n",
      "Fickian_alg_single_phase_air = OpenPNM.Algorithms.FickianDiffusion(loggername = 'Fickian', name = 'Fickian_alg_single_phase_air', network = sgl, loglevel = 30)\n",
      "Fickian_alg_single_phase_water = OpenPNM.Algorithms.FickianDiffusion(loggername = 'Fickian_2', name = 'Fickian_alg_single_phase_water', network = sgl, loglevel = 30)\n",
      "\n",
      "Stokes_alg_multi_phase_air = OpenPNM.Algorithms.StokesFlow(loggername = 'Stokes', name = 'Stokes_alg_multi_phase_air', network = sgl, loglevel = 30)\n",
      "Stokes_alg_multi_phase_water = OpenPNM.Algorithms.StokesFlow(loggername = 'Stokes_2', name = 'Stokes_alg_multi_phase_water', network = sgl, loglevel = 30)\n",
      "\n",
      "Fickian_alg_multi_phase_air = OpenPNM.Algorithms.FickianDiffusion(loggername = 'Fickian', name = 'Fickian_alg_multi_phase_air', network = sgl, loglevel = 30)\n",
      "Fickian_alg_multi_phase_water = OpenPNM.Algorithms.FickianDiffusion(loggername = 'Fickian_2', name = 'Fickian_alg_multi_phase_water', network = sgl, loglevel = 30)\n",
      "\n",
      "#setting up boundary conditions (diffusion will take place only in the Z direction for now)\n",
      "BC1_pores = sgl.pores(labels=['top', 'boundary'],mode='intersection')\n",
      "BC2_pores = sgl.pores(labels=['bottom', 'boundary'],mode='intersection')\n",
      "\n",
      "Stokes_alg_single_phase_air.set_boundary_conditions(bctype='Dirichlet', bcvalue=0.6, pores=BC1_pores)\n",
      "Stokes_alg_single_phase_water.set_boundary_conditions(bctype='Dirichlet', bcvalue=0.6, pores=BC1_pores)\n",
      "Fickian_alg_single_phase_air.set_boundary_conditions(bctype = 'Dirichlet', bcvalue = .6, pores = BC1_pores)\n",
      "Fickian_alg_single_phase_water.set_boundary_conditions(bctype = 'Dirichlet', bcvalue = .6, pores = BC1_pores)\n",
      "\n",
      "Stokes_alg_multi_phase_air.set_boundary_conditions(bctype='Dirichlet', bcvalue=0.6, pores=BC1_pores)\n",
      "Stokes_alg_multi_phase_water.set_boundary_conditions(bctype='Dirichlet', bcvalue=0.6, pores=BC1_pores)\n",
      "Fickian_alg_multi_phase_air.set_boundary_conditions(bctype = 'Dirichlet', bcvalue = .6, pores = BC1_pores)\n",
      "Fickian_alg_multi_phase_water.set_boundary_conditions(bctype = 'Dirichlet', bcvalue = .6, pores = BC1_pores)   \n",
      "\n",
      "#BC2    \n",
      "Stokes_alg_single_phase_air.set_boundary_conditions(bctype='Dirichlet', bcvalue=0.2, pores=BC2_pores)\n",
      "Stokes_alg_single_phase_water.set_boundary_conditions(bctype='Dirichlet', bcvalue=0.2, pores=BC2_pores)\n",
      "Fickian_alg_single_phase_air.set_boundary_conditions(bctype = 'Dirichlet', bcvalue = .2, pores = BC2_pores)\n",
      "Fickian_alg_single_phase_water.set_boundary_conditions(bctype = 'Dirichlet', bcvalue = .2, pores = BC2_pores)\n",
      "\n",
      "Stokes_alg_multi_phase_air.set_boundary_conditions(bctype='Dirichlet', bcvalue=0.2, pores=BC2_pores)\n",
      "Stokes_alg_multi_phase_water.set_boundary_conditions(bctype='Dirichlet', bcvalue=0.2, pores=BC2_pores)\n",
      "Fickian_alg_multi_phase_air.set_boundary_conditions(bctype = 'Dirichlet', bcvalue = .2, pores = BC2_pores)\n",
      "Fickian_alg_multi_phase_water.set_boundary_conditions(bctype = 'Dirichlet', bcvalue = .2, pores = BC2_pores)\n",
      "\n",
      "#conduit conductance\n",
      "Stokes_alg_single_phase_air.setup(conductance = 'hydraulic_conductance',fluid=air)\n",
      "Stokes_alg_single_phase_water.setup(conductance = 'hydraulic_conductance',fluid=water)\n",
      "Fickian_alg_single_phase_air.setup(conductance = 'diffusive_conductance',fluid=air) \n",
      "Fickian_alg_single_phase_water.setup(conductance = 'diffusive_conductance',fluid=water)\n",
      "\n",
      "Stokes_alg_multi_phase_air.setup(conductance = 'conduit_hydraulic_conductance',fluid=air)\n",
      "Stokes_alg_multi_phase_water.setup(conductance = 'conduit_hydraulic_conductance',fluid=water)\n",
      "Fickian_alg_multi_phase_air.setup(conductance = 'conduit_diffusive_conductance',fluid=air) \n",
      "Fickian_alg_multi_phase_water.setup(conductance = 'conduit_diffusive_conductance',fluid=water)\n",
      "\n",
      "#run\n",
      "Stokes_alg_single_phase_air.run(loglevel = 30)\n",
      "Stokes_alg_single_phase_water.run(loglevel = 30)\n",
      "Fickian_alg_single_phase_air.run(loglevel = 30)\n",
      "Fickian_alg_single_phase_water.run(loglevel = 30)\n",
      "\n",
      "Stokes_alg_multi_phase_air.run(loglevel = 30)\n",
      "Stokes_alg_multi_phase_water.run(loglevel = 30)\n",
      "Fickian_alg_multi_phase_air.run(loglevel = 30)\n",
      "Fickian_alg_multi_phase_water.run(loglevel = 30)"
     ],
     "language": "python",
     "metadata": {},
     "outputs": [],
     "prompt_number": 10
    },
    {
     "cell_type": "markdown",
     "metadata": {},
     "source": [
      "Now that we have run our all algorithms, we are ready to calculate saturation, all our effective properties, and finally our relative effective properties.  Because we called update() without setting any parameters, our GDL is filled with air.  Therefore, as a sanity check, any relative effective properties for air should be 1, while those for water should be 0."
     ]
    },
    {
     "cell_type": "code",
     "collapsed": false,
     "input": [
      "#saturation calculation\n",
      "final_pores = water.get_pore_data('occupancy')*1\n",
      "pore_volumes = sgl.get_pore_data(prop = 'volume')\n",
      "final_throats = water.get_throat_data('occupancy')*1\n",
      "throat_volumes = sgl.get_throat_data(prop = 'volume')\n",
      "\n",
      "saturation = (sum(final_pores*pore_volumes) + sum(final_throats*throat_volumes))/(sum(pore_volumes) + sum(throat_volumes))\n",
      "\n",
      "#calc effective properties\n",
      "effective_permeability_air_single = Stokes_alg_single_phase_air.calc_eff_permeability(clean = False)  \n",
      "effective_diffusivity_air_single = Fickian_alg_single_phase_air.calc_eff_diffusivity(clean = False)\n",
      "effective_permeability_water_single = Stokes_alg_single_phase_water.calc_eff_permeability(clean = False)  \n",
      "effective_diffusivity_water_single = Fickian_alg_single_phase_water.calc_eff_diffusivity(clean = False)\n",
      "\n",
      "effective_permeability_air_multi = Stokes_alg_multi_phase_air.calc_eff_permeability(clean = False)  \n",
      "effective_diffusivity_air_multi = Fickian_alg_multi_phase_air.calc_eff_diffusivity(clean = False)\n",
      "effective_permeability_water_multi = Stokes_alg_multi_phase_water.calc_eff_permeability(clean = False)  \n",
      "effective_diffusivity_water_multi = Fickian_alg_multi_phase_water.calc_eff_diffusivity(clean = False)\n",
      "\n",
      "#calc relative effective properties\n",
      "relative_eff_perm_air = effective_permeability_air_multi/effective_permeability_air_single\n",
      "relative_eff_perm_water = effective_permeability_water_multi/effective_permeability_water_single\n",
      "relative_eff_diff_air = effective_diffusivity_air_multi/effective_diffusivity_air_single\n",
      "relative_eff_diff_water = effective_diffusivity_water_multi/effective_diffusivity_water_single\n",
      "\n",
      "#printing values as a sanity check\n",
      "print(relative_eff_perm_air)\n",
      "print(relative_eff_perm_water)\n",
      "print(relative_eff_diff_air)\n",
      "print(relative_eff_diff_water)"
     ],
     "language": "python",
     "metadata": {},
     "outputs": [
      {
       "output_type": "stream",
       "stream": "stdout",
       "text": [
        "[ 1.]\n",
        "[ 0.001]\n",
        "[ 1.]\n",
        "[ 0.001]\n"
       ]
      }
     ],
     "prompt_number": 11
    },
    {
     "cell_type": "markdown",
     "metadata": {},
     "source": [
      "Now we will use the for loop above mentioned to find relative effective properties at different levels of saturation.  This way, we can update the network to different states of occupancy, save our saturation and relative effective property values into arrays, so that we can finally spit out a graph showing the trend.  To simplify and make our code run faster, we will show only 10 points along each curve, and only calculate effective properties in the Z direction.\n",
      "\n",
      "Note that if we use the network size that Gostick has chosen (26x26x10) this may take a couple minutes."
     ]
    },
    {
     "cell_type": "code",
     "collapsed": false,
     "input": [
      "#initiating arrays for saving data gathered within loop\n",
      "sat = []\n",
      "perm_air = []\n",
      "diff_air = []\n",
      "perm_water = []\n",
      "diff_water = []\n",
      "\n",
      "#gather the final sequence value once all pores and throats are filled\n",
      "max_inv_seq = max(OP_1.get_throat_data(prop = 'inv_seq'))\n",
      "  \n",
      "#loop through until all pores and throats are filled\n",
      "for x in range(11):\n",
      "    OP_1.update(seq = max_inv_seq*(x/10))\n",
      "    \n",
      "    #adding multiphase conductances\n",
      "    phys_air.add_property(prop='multiphase',model='conduit_conductance',\n",
      "                      conductance = 'diffusive_conductance', prop_name='conduit_diffusive_conductance',mode='loose')\n",
      "    phys_water.add_property(prop='multiphase',model='conduit_conductance',\n",
      "                      conductance = 'diffusive_conductance', prop_name='conduit_diffusive_conductance',mode='loose')\n",
      "    phys_air.add_property(prop='multiphase',model='conduit_conductance',\n",
      "                      conductance = 'hydraulic_conductance', prop_name='conduit_hydraulic_conductance',mode='loose')\n",
      "    phys_water.add_property(prop='multiphase',model='conduit_conductance',\n",
      "                      conductance = 'hydraulic_conductance', prop_name='conduit_hydraulic_conductance',mode='loose')\n",
      "    sgl.regenerate_physics()\n",
      "    \n",
      "    #run Stokes Flow and find Permeability\n",
      "    Stokes_alg_single_phase_air = OpenPNM.Algorithms.StokesFlow(loggername = 'Stokes', name = 'Stokes_alg_single_phase_air', network = sgl, loglevel = 30)\n",
      "    Stokes_alg_single_phase_water = OpenPNM.Algorithms.StokesFlow(loggername = 'Stokes_2', name = 'Stokes_alg_single_phase_water', network = sgl, loglevel = 30)\n",
      "\n",
      "    Fickian_alg_single_phase_air = OpenPNM.Algorithms.FickianDiffusion(loggername = 'Fickian', name = 'Fickian_alg_single_phase_air', network = sgl, loglevel = 30)\n",
      "    Fickian_alg_single_phase_water = OpenPNM.Algorithms.FickianDiffusion(loggername = 'Fickian_2', name = 'Fickian_alg_single_phase_water', network = sgl, loglevel = 30)\n",
      "\n",
      "    Stokes_alg_multi_phase_air = OpenPNM.Algorithms.StokesFlow(loggername = 'Stokes', name = 'Stokes_alg_multi_phase_air', network = sgl, loglevel = 30)\n",
      "    Stokes_alg_multi_phase_water = OpenPNM.Algorithms.StokesFlow(loggername = 'Stokes_2', name = 'Stokes_alg_multi_phase_water', network = sgl, loglevel = 30)\n",
      "\n",
      "    Fickian_alg_multi_phase_air = OpenPNM.Algorithms.FickianDiffusion(loggername = 'Fickian', name = 'Fickian_alg_multi_phase_air', network = sgl, loglevel = 30)\n",
      "    Fickian_alg_multi_phase_water = OpenPNM.Algorithms.FickianDiffusion(loggername = 'Fickian_2', name = 'Fickian_alg_multi_phase_water', network = sgl, loglevel = 30)\n",
      "\n",
      "    #setting up boundary conditions (diffusion will take place only in the Z direction for now)\n",
      "    BC1_pores = sgl.pores(labels=['top', 'boundary'],mode='intersection')\n",
      "    BC2_pores = sgl.pores(labels=['bottom', 'boundary'],mode='intersection')\n",
      "\n",
      "    Stokes_alg_single_phase_air.set_boundary_conditions(bctype='Dirichlet', bcvalue=0.6, pores=BC1_pores)\n",
      "    Stokes_alg_single_phase_water.set_boundary_conditions(bctype='Dirichlet', bcvalue=0.6, pores=BC1_pores)\n",
      "    Fickian_alg_single_phase_air.set_boundary_conditions(bctype = 'Dirichlet', bcvalue = .6, pores = BC1_pores)\n",
      "    Fickian_alg_single_phase_water.set_boundary_conditions(bctype = 'Dirichlet', bcvalue = .6, pores = BC1_pores)\n",
      "\n",
      "    Stokes_alg_multi_phase_air.set_boundary_conditions(bctype='Dirichlet', bcvalue=0.6, pores=BC1_pores)\n",
      "    Stokes_alg_multi_phase_water.set_boundary_conditions(bctype='Dirichlet', bcvalue=0.6, pores=BC1_pores)\n",
      "    Fickian_alg_multi_phase_air.set_boundary_conditions(bctype = 'Dirichlet', bcvalue = .6, pores = BC1_pores)\n",
      "    Fickian_alg_multi_phase_water.set_boundary_conditions(bctype = 'Dirichlet', bcvalue = .6, pores = BC1_pores)   \n",
      "\n",
      "    #BC2    \n",
      "    Stokes_alg_single_phase_air.set_boundary_conditions(bctype='Dirichlet', bcvalue=0.2, pores=BC2_pores)\n",
      "    Stokes_alg_single_phase_water.set_boundary_conditions(bctype='Dirichlet', bcvalue=0.2, pores=BC2_pores)\n",
      "    Fickian_alg_single_phase_air.set_boundary_conditions(bctype = 'Dirichlet', bcvalue = .2, pores = BC2_pores)\n",
      "    Fickian_alg_single_phase_water.set_boundary_conditions(bctype = 'Dirichlet', bcvalue = .2, pores = BC2_pores)\n",
      "\n",
      "    Stokes_alg_multi_phase_air.set_boundary_conditions(bctype='Dirichlet', bcvalue=0.2, pores=BC2_pores)\n",
      "    Stokes_alg_multi_phase_water.set_boundary_conditions(bctype='Dirichlet', bcvalue=0.2, pores=BC2_pores)\n",
      "    Fickian_alg_multi_phase_air.set_boundary_conditions(bctype = 'Dirichlet', bcvalue = .2, pores = BC2_pores)\n",
      "    Fickian_alg_multi_phase_water.set_boundary_conditions(bctype = 'Dirichlet', bcvalue = .2, pores = BC2_pores)\n",
      "\n",
      "    #conduit conductance\n",
      "    Stokes_alg_single_phase_air.setup(conductance = 'hydraulic_conductance',fluid=air)\n",
      "    Stokes_alg_single_phase_water.setup(conductance = 'hydraulic_conductance',fluid=water)\n",
      "    Fickian_alg_single_phase_air.setup(conductance = 'diffusive_conductance',fluid=air) \n",
      "    Fickian_alg_single_phase_water.setup(conductance = 'diffusive_conductance',fluid=water)\n",
      "\n",
      "    Stokes_alg_multi_phase_air.setup(conductance = 'conduit_hydraulic_conductance',fluid=air)\n",
      "    Stokes_alg_multi_phase_water.setup(conductance = 'conduit_hydraulic_conductance',fluid=water)\n",
      "    Fickian_alg_multi_phase_air.setup(conductance = 'conduit_diffusive_conductance',fluid=air) \n",
      "    Fickian_alg_multi_phase_water.setup(conductance = 'conduit_diffusive_conductance',fluid=water)\n",
      "\n",
      "    #run\n",
      "    Stokes_alg_single_phase_air.run(loglevel = 30)\n",
      "    Stokes_alg_single_phase_water.run(loglevel = 30)\n",
      "    Fickian_alg_single_phase_air.run(loglevel = 30)\n",
      "    Fickian_alg_single_phase_water.run(loglevel = 30)\n",
      "\n",
      "    Stokes_alg_multi_phase_air.run(loglevel = 30)\n",
      "    Stokes_alg_multi_phase_water.run(loglevel = 30)\n",
      "    Fickian_alg_multi_phase_air.run(loglevel = 30)\n",
      "    Fickian_alg_multi_phase_water.run(loglevel = 30)\n",
      "    \n",
      "    #saturation calculation\n",
      "    final_pores = water.get_pore_data('occupancy')*1\n",
      "    pore_volumes = sgl.get_pore_data(prop = 'volume')\n",
      "    final_throats = water.get_throat_data('occupancy')*1\n",
      "    throat_volumes = sgl.get_throat_data(prop = 'volume')\n",
      "\n",
      "    saturation = (sum(final_pores*pore_volumes) + sum(final_throats*throat_volumes))/(sum(pore_volumes) + sum(throat_volumes))\n",
      "\n",
      "    #calc effective properties\n",
      "    effective_permeability_air_single = Stokes_alg_single_phase_air.calc_eff_permeability(clean = False)  \n",
      "    effective_diffusivity_air_single = Fickian_alg_single_phase_air.calc_eff_diffusivity(clean = False)\n",
      "    effective_permeability_water_single = Stokes_alg_single_phase_water.calc_eff_permeability(clean = False)  \n",
      "    effective_diffusivity_water_single = Fickian_alg_single_phase_water.calc_eff_diffusivity(clean = False)\n",
      "\n",
      "    effective_permeability_air_multi = Stokes_alg_multi_phase_air.calc_eff_permeability(clean = False)  \n",
      "    effective_diffusivity_air_multi = Fickian_alg_multi_phase_air.calc_eff_diffusivity(clean = False)\n",
      "    effective_permeability_water_multi = Stokes_alg_multi_phase_water.calc_eff_permeability(clean = False)  \n",
      "    effective_diffusivity_water_multi = Fickian_alg_multi_phase_water.calc_eff_diffusivity(clean = False)\n",
      "\n",
      "    #calc relative effective properties\n",
      "    relative_eff_perm_air = effective_permeability_air_multi/effective_permeability_air_single\n",
      "    relative_eff_perm_water = effective_permeability_water_multi/effective_permeability_water_single\n",
      "    relative_eff_diff_air = effective_diffusivity_air_multi/effective_diffusivity_air_single\n",
      "    relative_eff_diff_water = effective_diffusivity_water_multi/effective_diffusivity_water_single\n",
      "    \n",
      "    #adding values to array\n",
      "    sat.append(saturation)\n",
      "    perm_air.append(relative_eff_perm_air)\n",
      "    perm_water.append(relative_eff_perm_water)\n",
      "    diff_air.append(relative_eff_diff_air)\n",
      "    diff_water.append(relative_eff_diff_water)"
     ],
     "language": "python",
     "metadata": {},
     "outputs": [],
     "prompt_number": 12
    },
    {
     "cell_type": "heading",
     "level": 2,
     "metadata": {},
     "source": [
      "Displaying final results"
     ]
    },
    {
     "cell_type": "markdown",
     "metadata": {},
     "source": [
      "We have all our data stored in our arrays, and we are ready to generate a graph.  This graph will be slightly less involved than Gosticks, as it will only include relative values in the Z directions, and only at 10 different points during the percolation.  For comparison purposes, we will setup our graphs to be 2 subplots showing each relative property for air and water.  On the figure will be a curve for air, a curve for water, and the curve that shows a general trend (saturation^2 or saturation^3).  A legend will help guide the eye."
     ]
    },
    {
     "cell_type": "code",
     "collapsed": false,
     "input": [
      "from matplotlib.font_manager import FontProperties\n",
      "\n",
      "#setting font size small so that legends will fit property\n",
      "fontP = FontProperties()\n",
      "fontP.set_size('small')\n",
      "\n",
      "#setting up subplots\n",
      "#f, ((ax1, ax2), (ax3, ax4)) = plt.subplots(2, 2, sharex='col', sharey='row')\n",
      "fig = plt.figure(num=1, figsize=(10, 10), dpi=80, facecolor='w', edgecolor='k')\n",
      "ax1 = fig.add_subplot(221)   #top left\n",
      "ax2 = fig.add_subplot(223)   #bottom left\n",
      "\n",
      "x_values1 = [x/20 for x in range(21)]\n",
      "z = '.75'\n",
      "\n",
      "#plots for subplot1 - loose permeability\n",
      "p1, = ax1.plot(sat, perm_water, color = 'k', linestyle = '-', marker = 'o')\n",
      "p2, = ax1.plot(sat, perm_air, color = 'k', linestyle = '-', marker = 'D')\n",
      "p3, = ax1.plot(x_values1, [x**(3) for x in x_values1], 'k--')\n",
      "ax1.plot(x_values1, [(1-x)**(3) for x in x_values1], 'k--')\n",
      "ax1.set_title(\"loose permeability\")\n",
      "ax1.set_ylabel('permeability')\n",
      "ax1.set_ylim([0,1])\n",
      "ax1.set_xlim([0,1])\n",
      "\n",
      "#need to work on legend to match up with the right things\n",
      "lgd1 = ax1.legend([p1, p2, p3],\n",
      "           [\"KrWater\", \"KrAir (loose)\", \"a = 3\"], loc='center left', bbox_to_anchor=(1, 0.5), prop = fontP)\n",
      "\n",
      "#plots for subplot3 - loose diffusivity\n",
      "p4, = ax2.plot(sat, diff_water, color = 'k', linestyle = '-', marker = 'o')\n",
      "p5, = ax2.plot(sat, diff_air, color = 'k', linestyle = '-', marker = 'D')\n",
      "p6, = ax2.plot(x_values1, [x**(2) for x in x_values1], 'k--')\n",
      "ax2.plot(x_values1, [(1-x)**(2) for x in x_values1], 'k--')\n",
      "ax2.set_title(\"loose diffusivity\")\n",
      "ax2.set_ylabel(\"diffusivity\")\n",
      "ax2.set_xlabel(\"saturation\")\n",
      "ax2.set_ylim([0,1])\n",
      "ax2.set_xlim([0,1])\n",
      "\n",
      "lgd2 = ax2.legend([p4, p5, p6],\n",
      "           [\"DrWater\", \"DrAir, (loose)\", \"a = 3\"], loc='center left', bbox_to_anchor=(1, 0.5), prop = fontP)\n",
      "\n",
      "fig.subplots_adjust(left=0.1, right=0.8, top=0.9, bottom=0.1) \n",
      "         \n",
      "fig.show()\n"
     ],
     "language": "python",
     "metadata": {},
     "outputs": [
      {
       "output_type": "stream",
       "stream": "stderr",
       "text": [
        "/Users/Jackie/anaconda/lib/python3.4/site-packages/matplotlib/figure.py:372: UserWarning: matplotlib is currently using a non-GUI backend, so cannot show the figure\n",
        "  \"matplotlib is currently using a non-GUI backend, \"\n"
       ]
      },
      {
       "metadata": {},
       "output_type": "display_data",
       "png": "[encoded data removed]",
       "text": [
        "<matplotlib.figure.Figure at 0x10a9adcf8>"
       ]
      }
     ],
     "prompt_number": 13
    },
    {
     "cell_type": "markdown",
     "metadata": {},
     "source": [
      "The figures generated thus far should appear something like this:"
     ]
    },
    {
     "cell_type": "code",
     "collapsed": false,
     "input": [
      "from IPython.display import display\n",
      "from IPython.display import Image\n",
      "\n",
      "i = Image(url = 'http://i.imgur.com/wXz7xg9.png')\n",
      "display(i)\n",
      "g = Image(url = 'http://i.imgur.com/Gc76cz6.png')\n",
      "display(g)"
     ],
     "language": "python",
     "metadata": {},
     "outputs": [
      {
       "html": [
        "<img src=\"http://i.imgur.com/wXz7xg9.png\"/>"
       ],
       "metadata": {},
       "output_type": "display_data",
       "text": [
        "<IPython.core.display.Image at 0x107e4fda0>"
       ]
      },
      {
       "html": [
        "<img src=\"http://i.imgur.com/Gc76cz6.png\"/>"
       ],
       "metadata": {},
       "output_type": "display_data",
       "text": [
        "<IPython.core.display.Image at 0x107e4ff28>"
       ]
      }
     ],
     "prompt_number": 15
    },
    {
     "cell_type": "heading",
     "level": 2,
     "metadata": {},
     "source": [
      "'Loose' and 'Strict' modes"
     ]
    },
    {
     "cell_type": "markdown",
     "metadata": {},
     "source": [
      "As mentioned above, OpenPNM has 'Loose' and 'Strict' modes for updating hydraulic and diffusive conductance based on occupancy.  To reiterate, 'Loose' will update the conductance when the throat is filled with water.  'Strict' will update the conductance when either the throat is filled with water, or at least one of the neighboring pores is filled with water.  We will run our for loop again, to gather data using 'Strict'.  A similar graph to before will be generated, for comparison purposes."
     ]
    },
    {
     "cell_type": "code",
     "collapsed": false,
     "input": [
      "#initiating arrays for saving data gathered within loop\n",
      "sat = []\n",
      "perm_air = []\n",
      "diff_air = []\n",
      "perm_water = []\n",
      "diff_water = []\n",
      "\n",
      "#gather the final sequence value once all pores and throats are filled\n",
      "max_inv_seq = max(OP_1.get_throat_data(prop = 'inv_seq'))\n",
      "  \n",
      "#loop through until all pores and throats are filled\n",
      "for x in range(11):\n",
      "    OP_1.update(seq = max_inv_seq*(x/10))\n",
      "    \n",
      "    #adding multiphase conductances\n",
      "    phys_air.add_property(prop='multiphase',model='conduit_conductance',\n",
      "                      conductance = 'diffusive_conductance', prop_name='conduit_diffusive_conductance',mode='strict')\n",
      "    phys_water.add_property(prop='multiphase',model='conduit_conductance',\n",
      "                      conductance = 'diffusive_conductance', prop_name='conduit_diffusive_conductance',mode='strict')\n",
      "    phys_air.add_property(prop='multiphase',model='conduit_conductance',\n",
      "                      conductance = 'hydraulic_conductance', prop_name='conduit_hydraulic_conductance',mode='strict')\n",
      "    phys_water.add_property(prop='multiphase',model='conduit_conductance',\n",
      "                      conductance = 'hydraulic_conductance', prop_name='conduit_hydraulic_conductance',mode='strict')\n",
      "    sgl.regenerate_physics()\n",
      "    \n",
      "    #run Stokes Flow and find Permeability\n",
      "    Stokes_alg_single_phase_air = OpenPNM.Algorithms.StokesFlow(loggername = 'Stokes', name = 'Stokes_alg_single_phase_air', network = sgl, loglevel = 30)\n",
      "    Stokes_alg_single_phase_water = OpenPNM.Algorithms.StokesFlow(loggername = 'Stokes_2', name = 'Stokes_alg_single_phase_water', network = sgl, loglevel = 30)\n",
      "\n",
      "    Fickian_alg_single_phase_air = OpenPNM.Algorithms.FickianDiffusion(loggername = 'Fickian', name = 'Fickian_alg_single_phase_air', network = sgl, loglevel = 30)\n",
      "    Fickian_alg_single_phase_water = OpenPNM.Algorithms.FickianDiffusion(loggername = 'Fickian_2', name = 'Fickian_alg_single_phase_water', network = sgl, loglevel = 30)\n",
      "\n",
      "    Stokes_alg_multi_phase_air = OpenPNM.Algorithms.StokesFlow(loggername = 'Stokes', name = 'Stokes_alg_multi_phase_air', network = sgl, loglevel = 30)\n",
      "    Stokes_alg_multi_phase_water = OpenPNM.Algorithms.StokesFlow(loggername = 'Stokes_2', name = 'Stokes_alg_multi_phase_water', network = sgl, loglevel = 30)\n",
      "\n",
      "    Fickian_alg_multi_phase_air = OpenPNM.Algorithms.FickianDiffusion(loggername = 'Fickian', name = 'Fickian_alg_multi_phase_air', network = sgl, loglevel = 30)\n",
      "    Fickian_alg_multi_phase_water = OpenPNM.Algorithms.FickianDiffusion(loggername = 'Fickian_2', name = 'Fickian_alg_multi_phase_water', network = sgl, loglevel = 30)\n",
      "\n",
      "    #setting up boundary conditions (diffusion will take place only in the Z direction for now)\n",
      "    BC1_pores = sgl.pores(labels=['top', 'boundary'],mode='intersection')\n",
      "    BC2_pores = sgl.pores(labels=['bottom', 'boundary'],mode='intersection')\n",
      "\n",
      "    Stokes_alg_single_phase_air.set_boundary_conditions(bctype='Dirichlet', bcvalue=0.6, pores=BC1_pores)\n",
      "    Stokes_alg_single_phase_water.set_boundary_conditions(bctype='Dirichlet', bcvalue=0.6, pores=BC1_pores)\n",
      "    Fickian_alg_single_phase_air.set_boundary_conditions(bctype = 'Dirichlet', bcvalue = .6, pores = BC1_pores)\n",
      "    Fickian_alg_single_phase_water.set_boundary_conditions(bctype = 'Dirichlet', bcvalue = .6, pores = BC1_pores)\n",
      "\n",
      "    Stokes_alg_multi_phase_air.set_boundary_conditions(bctype='Dirichlet', bcvalue=0.6, pores=BC1_pores)\n",
      "    Stokes_alg_multi_phase_water.set_boundary_conditions(bctype='Dirichlet', bcvalue=0.6, pores=BC1_pores)\n",
      "    Fickian_alg_multi_phase_air.set_boundary_conditions(bctype = 'Dirichlet', bcvalue = .6, pores = BC1_pores)\n",
      "    Fickian_alg_multi_phase_water.set_boundary_conditions(bctype = 'Dirichlet', bcvalue = .6, pores = BC1_pores)   \n",
      "\n",
      "    #BC2    \n",
      "    Stokes_alg_single_phase_air.set_boundary_conditions(bctype='Dirichlet', bcvalue=0.2, pores=BC2_pores)\n",
      "    Stokes_alg_single_phase_water.set_boundary_conditions(bctype='Dirichlet', bcvalue=0.2, pores=BC2_pores)\n",
      "    Fickian_alg_single_phase_air.set_boundary_conditions(bctype = 'Dirichlet', bcvalue = .2, pores = BC2_pores)\n",
      "    Fickian_alg_single_phase_water.set_boundary_conditions(bctype = 'Dirichlet', bcvalue = .2, pores = BC2_pores)\n",
      "\n",
      "    Stokes_alg_multi_phase_air.set_boundary_conditions(bctype='Dirichlet', bcvalue=0.2, pores=BC2_pores)\n",
      "    Stokes_alg_multi_phase_water.set_boundary_conditions(bctype='Dirichlet', bcvalue=0.2, pores=BC2_pores)\n",
      "    Fickian_alg_multi_phase_air.set_boundary_conditions(bctype = 'Dirichlet', bcvalue = .2, pores = BC2_pores)\n",
      "    Fickian_alg_multi_phase_water.set_boundary_conditions(bctype = 'Dirichlet', bcvalue = .2, pores = BC2_pores)\n",
      "\n",
      "    #conduit conductance\n",
      "    Stokes_alg_single_phase_air.setup(conductance = 'hydraulic_conductance',fluid=air)\n",
      "    Stokes_alg_single_phase_water.setup(conductance = 'hydraulic_conductance',fluid=water)\n",
      "    Fickian_alg_single_phase_air.setup(conductance = 'diffusive_conductance',fluid=air) \n",
      "    Fickian_alg_single_phase_water.setup(conductance = 'diffusive_conductance',fluid=water)\n",
      "\n",
      "    Stokes_alg_multi_phase_air.setup(conductance = 'conduit_hydraulic_conductance',fluid=air)\n",
      "    Stokes_alg_multi_phase_water.setup(conductance = 'conduit_hydraulic_conductance',fluid=water)\n",
      "    Fickian_alg_multi_phase_air.setup(conductance = 'conduit_diffusive_conductance',fluid=air) \n",
      "    Fickian_alg_multi_phase_water.setup(conductance = 'conduit_diffusive_conductance',fluid=water)\n",
      "\n",
      "    #run\n",
      "    Stokes_alg_single_phase_air.run(loglevel = 30)\n",
      "    Stokes_alg_single_phase_water.run(loglevel = 30)\n",
      "    Fickian_alg_single_phase_air.run(loglevel = 30)\n",
      "    Fickian_alg_single_phase_water.run(loglevel = 30)\n",
      "\n",
      "    Stokes_alg_multi_phase_air.run(loglevel = 30)\n",
      "    Stokes_alg_multi_phase_water.run(loglevel = 30)\n",
      "    Fickian_alg_multi_phase_air.run(loglevel = 30)\n",
      "    Fickian_alg_multi_phase_water.run(loglevel = 30)\n",
      "    \n",
      "    #saturation calculation\n",
      "    final_pores = water.get_pore_data('occupancy')*1\n",
      "    pore_volumes = sgl.get_pore_data(prop = 'volume')\n",
      "    final_throats = water.get_throat_data('occupancy')*1\n",
      "    throat_volumes = sgl.get_throat_data(prop = 'volume')\n",
      "\n",
      "    saturation = (sum(final_pores*pore_volumes) + sum(final_throats*throat_volumes))/(sum(pore_volumes) + sum(throat_volumes))\n",
      "\n",
      "    #calc effective properties\n",
      "    effective_permeability_air_single = Stokes_alg_single_phase_air.calc_eff_permeability(clean = False)  \n",
      "    effective_diffusivity_air_single = Fickian_alg_single_phase_air.calc_eff_diffusivity(clean = False)\n",
      "    effective_permeability_water_single = Stokes_alg_single_phase_water.calc_eff_permeability(clean = False)  \n",
      "    effective_diffusivity_water_single = Fickian_alg_single_phase_water.calc_eff_diffusivity(clean = False)\n",
      "\n",
      "    effective_permeability_air_multi = Stokes_alg_multi_phase_air.calc_eff_permeability(clean = False)  \n",
      "    effective_diffusivity_air_multi = Fickian_alg_multi_phase_air.calc_eff_diffusivity(clean = False)\n",
      "    effective_permeability_water_multi = Stokes_alg_multi_phase_water.calc_eff_permeability(clean = False)  \n",
      "    effective_diffusivity_water_multi = Fickian_alg_multi_phase_water.calc_eff_diffusivity(clean = False)\n",
      "\n",
      "    #calc relative effective properties\n",
      "    relative_eff_perm_air = effective_permeability_air_multi/effective_permeability_air_single\n",
      "    relative_eff_perm_water = effective_permeability_water_multi/effective_permeability_water_single\n",
      "    relative_eff_diff_air = effective_diffusivity_air_multi/effective_diffusivity_air_single\n",
      "    relative_eff_diff_water = effective_diffusivity_water_multi/effective_diffusivity_water_single\n",
      "    \n",
      "    #adding values to array\n",
      "    sat.append(saturation)\n",
      "    perm_air.append(relative_eff_perm_air)\n",
      "    perm_water.append(relative_eff_perm_water)\n",
      "    diff_air.append(relative_eff_diff_air)\n",
      "    diff_water.append(relative_eff_diff_water)"
     ],
     "language": "python",
     "metadata": {},
     "outputs": [],
     "prompt_number": 16
    },
    {
     "cell_type": "markdown",
     "metadata": {},
     "source": [
      "Finally, we will take this code generated using 'strict' mode and create identical graphs to before.  Note that the effective properties have a lower curve to them.  For example, relative effective permeability and diffusivity for air reach 0 at a lower saturation.  This makes sense, as it is harder for air to find a path if conductance is lowered even if one of the neighboring pores is filled with water."
     ]
    },
    {
     "cell_type": "code",
     "collapsed": false,
     "input": [
      "from matplotlib.font_manager import FontProperties\n",
      "\n",
      "#setting font size small so that legends will fit property\n",
      "fontP = FontProperties()\n",
      "fontP.set_size('small')\n",
      "\n",
      "#setting up subplots\n",
      "#f, ((ax1, ax2), (ax3, ax4)) = plt.subplots(2, 2, sharex='col', sharey='row')\n",
      "fig = plt.figure(num=1, figsize=(10, 10), dpi=80, facecolor='w', edgecolor='k')\n",
      "ax1 = fig.add_subplot(221)   #top left\n",
      "ax2 = fig.add_subplot(223)   #bottom left\n",
      "\n",
      "x_values1 = [x/20 for x in range(21)]\n",
      "z = '.75'\n",
      "\n",
      "#plots for subplot1 - loose permeability\n",
      "p1, = ax1.plot(sat, perm_water, color = 'k', linestyle = '-', marker = 'o')\n",
      "p2, = ax1.plot(sat, perm_air, color = 'k', linestyle = '-', marker = 'D')\n",
      "p3, = ax1.plot(x_values1, [x**(3) for x in x_values1], 'k--')\n",
      "ax1.plot(x_values1, [(1-x)**(3) for x in x_values1], 'k--')\n",
      "ax1.set_title(\"loose permeability\")\n",
      "ax1.set_ylabel('permeability')\n",
      "ax1.set_ylim([0,1])\n",
      "ax1.set_xlim([0,1])\n",
      "\n",
      "#need to work on legend to match up with the right things\n",
      "lgd1 = ax1.legend([p1, p2, p3],\n",
      "           [\"KrWater\", \"KrAir (strict)\", \"a = 3\"], loc='center left', bbox_to_anchor=(1, 0.5), prop = fontP)\n",
      "\n",
      "#plots for subplot3 - loose diffusivity\n",
      "p4, = ax2.plot(sat, diff_water, color = 'k', linestyle = '-', marker = 'o')\n",
      "p5, = ax2.plot(sat, diff_air, color = 'k', linestyle = '-', marker = 'D')\n",
      "p6, = ax2.plot(x_values1, [x**(2) for x in x_values1], 'k--')\n",
      "ax2.plot(x_values1, [(1-x)**(2) for x in x_values1], 'k--')\n",
      "ax2.set_title(\"loose diffusivity\")\n",
      "ax2.set_ylabel(\"diffusivity\")\n",
      "ax2.set_xlabel(\"saturation\")\n",
      "ax2.set_ylim([0,1])\n",
      "ax2.set_xlim([0,1])\n",
      "\n",
      "lgd2 = ax2.legend([p4, p5, p6],\n",
      "           [\"DrWater\", \"DrAir, (strict)\", \"a = 3\"], loc='center left', bbox_to_anchor=(1, 0.5), prop = fontP)\n",
      "\n",
      "fig.subplots_adjust(left=0.1, right=0.8, top=0.9, bottom=0.1) \n",
      "         \n",
      "fig.show()\n"
     ],
     "language": "python",
     "metadata": {},
     "outputs": [
      {
       "metadata": {},
       "output_type": "display_data",
       "png": "[encoded data removed]",
       "text": [
        "<matplotlib.figure.Figure at 0x10905b438>"
       ]
      }
     ],
     "prompt_number": 17
    },
    {
     "cell_type": "markdown",
     "metadata": {},
     "source": [
      "The above code should generate graphs looking something like this:"
     ]
    },
    {
     "cell_type": "code",
     "collapsed": false,
     "input": [
      "#GRAPHS NOT GENERATED YET- PROBLEM WITH STRICT MODE IN THE Z DIRECTION?!\n",
      "i = Image(url = 'http://i.imgur.com/wXz7xg9.png')\n",
      "display(i)\n",
      "g = Image(url = 'http://i.imgur.com/Gc76cz6.png')\n",
      "display(g)"
     ],
     "language": "python",
     "metadata": {},
     "outputs": []
    },
    {
     "cell_type": "heading",
     "level": 2,
     "metadata": {},
     "source": [
      "Completely recreating Gostick's graphs"
     ]
    },
    {
     "cell_type": "markdown",
     "metadata": {},
     "source": [
      "The following code more completley recreates Gostick's data.  It checks many more points during saturation to give more data points on the graph, and calculates effective properties in the x, y, and z directions.  There are 4 subplot graphs.  It takes around 15 minutes to finish running.\n",
      "\n",
      "If you are running this in IPython Notebook, you will have to restart the kernel so that python does not complain about objects that have the same name as ones already created."
     ]
    },
    {
     "cell_type": "code",
     "collapsed": false,
     "input": [
      "import OpenPNM\n",
      "import matplotlib.pyplot as plt\n",
      "\n",
      "Lc = 40.5e-6\n",
      "\n",
      "#setting up network\n",
      "sgl = OpenPNM.Network.Cubic(name = 'SGL10BA', loglevel = 30)\n",
      "sgl.generate(divisions = [26, 26, 10], add_boundaries = True, lattice_spacing = [Lc])\n",
      "\n",
      "#set up geometries\n",
      "geo = OpenPNM.Geometry.SGL10(name = 'geo', network = sgl)\n",
      "geo.set_locations(pores=sgl.pores('internal'),throats='all')\n",
      "\n",
      "boun = sgl.add_geometry(subclass='Boundary',name='boun')\n",
      "boun.set_locations(pores=sgl.pores('boundary'))\n",
      "\n",
      "\n",
      "sgl.regenerate_geometries()\n",
      "\n",
      "#account for pores that are too big\n",
      "value = [min(sgl.get_pore_data(prop = 'diameter', locations = x), Lc) for x in geo.pores()]\n",
      "sgl.set_data(prop='diameter',pores=geo.pores(),data=value)\n",
      "#account for throats that are too big\n",
      "value = [min(sgl.get_throat_data(prop = 'diameter', locations = x), Lc) for x in geo.throats()]\n",
      "sgl.set_data(prop='diameter',throats=geo.throats(),data=value)\n",
      "\n",
      "#spatial correlation of pore sizes?!\n",
      "\n",
      "#constricting sgl by .95 in both the z and y direction  \n",
      "throats = geo.throats()\n",
      "connected_pores = sgl.find_connected_pores(throats)\n",
      "x1 = [sgl['pore.coords'][pair[0]][0] for pair in connected_pores]\n",
      "x2 = [sgl['pore.coords'][pair[1]][0] for pair in connected_pores]\n",
      "same_x = [x - y == 0 for x, y in zip(x1,x2)]\n",
      "factor = [s*.95 + (not s)*1 for s in same_x]\n",
      "throat_diameters = sgl['throat.diameter'][throats]*factor\n",
      "sgl.set_data(throats = throats, prop = 'diameter', data = throat_diameters)\n",
      "\n",
      "#reset aspects relying on pore and throat sizes\n",
      "geo.pore_volume()\n",
      "geo.throat_volume()\n",
      "geo.throat_surface_area()\n",
      "\n",
      "#set up fluids \n",
      "air = OpenPNM.Fluids.Air(network = sgl, name = 'air')\n",
      "water = OpenPNM.Fluids.Water(network = sgl, name = 'water')\n",
      "#MYSTERIOUSLY BROKEN LINE\n",
      "#water_sgl.add_property(prop = 'contact_angle', model = 'constant', value = 100)\n",
      "\n",
      "sgl.regenerate_fluids()\n",
      "water['pore.contact_angle'] = 100\n",
      "\n",
      "#set up physics \n",
      "phys_water = OpenPNM.Physics.GenericPhysics(network=sgl,fluid=water, geometry = geo, name='standard_water_physics')\n",
      "phys_air = OpenPNM.Physics.GenericPhysics(network=sgl,fluid=air, geometry = geo, name='standard_air_physics')\n",
      "   \n",
      "phys_water.add_property(prop='capillary_pressure', model='washburn')\n",
      "phys_water.add_property(prop='hydraulic_conductance',model='hagen_poiseuille')\n",
      "phys_water.add_property(prop='diffusive_conductance', model='bulk_diffusion', shape = 'square')\n",
      "\n",
      "phys_air.add_property(prop='hydraulic_conductance',model='hagen_poiseuille')\n",
      "phys_air.add_property(prop='diffusive_conductance', model='bulk_diffusion') \n",
      "\n",
      "\n",
      "sgl.regenerate_physics()\n",
      "\n",
      "#late pore filling?!\n",
      "\n",
      "#running invasion percolation\n",
      "sat = sat = {'00': [], '10': [], '20': [], '01': [], '11': [], '21': []}\n",
      "perm_air = {'00': [], '10': [], '20': [], '01': [], '11': [], '21': []}\n",
      "diff_air = {'00': [], '10': [], '20': [], '01': [], '11': [], '21': []}\n",
      "perm_water = {'00': [], '10': [], '20': [], '01': [], '11': [], '21': []}\n",
      "diff_water = {'00': [], '10': [], '20': [], '01': [], '11': [], '21': []}\n",
      "\n",
      "inlets = sgl.get_pore_indices(labels = ['bottom','boundary'],mode='intersection')\n",
      "outlets = sgl.get_pore_indices(labels = ['top','boundary'],mode='intersection')\n",
      "\n",
      "\n",
      "end_condition = 'breakthrough'\n",
      "    \n",
      "OP_1 = OpenPNM.Algorithms.OrdinaryPercolation(network=sgl,loglevel=30)\n",
      "OP_1.setup(invading_fluid = water, defending_fluid = air, inlets = inlets,npts=100)\n",
      "OP_1.run() \n",
      "\n",
      "\n",
      "max_inv_seq = max(OP_1.get_throat_data(prop = 'inv_seq'))\n",
      "    \n",
      "for x in range(21):\n",
      "    OP_1.update(seq = max_inv_seq*(x/20))\n",
      "    \n",
      "    modes = ['loose', 'strict']\n",
      "    \n",
      "    for mode_increment in range(len(modes)):\n",
      "        #adding multiphase conductances\n",
      "        phys_air.add_property(prop='multiphase',model='conduit_conductance',\n",
      "                          conductance = 'diffusive_conductance', prop_name='conduit_diffusive_conductance',mode=modes[mode_increment])\n",
      "        phys_water.add_property(prop='multiphase',model='conduit_conductance',\n",
      "                          conductance = 'diffusive_conductance', prop_name='conduit_diffusive_conductance',mode=modes[mode_increment])\n",
      "        phys_air.add_property(prop='multiphase',model='conduit_conductance',\n",
      "                          conductance = 'hydraulic_conductance', prop_name='conduit_hydraulic_conductance',mode=modes[mode_increment])\n",
      "        phys_water.add_property(prop='multiphase',model='conduit_conductance',\n",
      "                          conductance = 'hydraulic_conductance', prop_name='conduit_hydraulic_conductance',mode=modes[mode_increment])\n",
      "        sgl.regenerate_physics()\n",
      "        \n",
      "        \n",
      "        #run Stokes Flow and find Permeability\n",
      "        #single phase\n",
      "        Stokes_alg_single_phase_air = OpenPNM.Algorithms.StokesFlow(loggername = 'Stokes', name = 'Stokes_alg_single_phase_air', network = sgl, loglevel = 30)\n",
      "        Stokes_alg_single_phase_water = OpenPNM.Algorithms.StokesFlow(loggername = 'Stokes_2', name = 'Stokes_alg_single_phase_water', network = sgl, loglevel = 30)\n",
      "        \n",
      "        Fickian_alg_single_phase_air = OpenPNM.Algorithms.FickianDiffusion(loggername = 'Fickian', name = 'Fickian_alg_single_phase_air', network = sgl, loglevel = 30)\n",
      "        Fickian_alg_single_phase_water = OpenPNM.Algorithms.FickianDiffusion(loggername = 'Fickian_2', name = 'Fickian_alg_single_phase_water', network = sgl, loglevel = 30)\n",
      "        \n",
      "        Stokes_alg_multi_phase_air = OpenPNM.Algorithms.StokesFlow(loggername = 'Stokes', name = 'Stokes_alg_multi_phase_air', network = sgl, loglevel = 30)\n",
      "        Stokes_alg_multi_phase_water = OpenPNM.Algorithms.StokesFlow(loggername = 'Stokes_2', name = 'Stokes_alg_multi_phase_water', network = sgl, loglevel = 30)\n",
      "        \n",
      "        Fickian_alg_multi_phase_air = OpenPNM.Algorithms.FickianDiffusion(loggername = 'Fickian', name = 'Fickian_alg_multi_phase_air', network = sgl, loglevel = 30)\n",
      "        Fickian_alg_multi_phase_water = OpenPNM.Algorithms.FickianDiffusion(loggername = 'Fickian_2', name = 'Fickian_alg_multi_phase_water', network = sgl, loglevel = 30)\n",
      "        \n",
      "        #setting up boundary conditions and calculating effective_permeability\n",
      "        #BC1\n",
      "        \n",
      "        bounds = [['front', 'back'], ['left', 'right'], ['top', 'bottom']]\n",
      "        for bound_increment in range(len(bounds)):\n",
      "            BC1_pores = sgl.pores(labels=[bounds[bound_increment][0], 'boundary'],mode='intersection')\n",
      "            BC2_pores = sgl.pores(labels=[bounds[bound_increment][1], 'boundary'],mode='intersection')\n",
      "            \n",
      "            \n",
      "            Stokes_alg_single_phase_air.set_boundary_conditions(bctype='Dirichlet', bcvalue=0.6, pores=BC1_pores)\n",
      "            Stokes_alg_single_phase_water.set_boundary_conditions(bctype='Dirichlet', bcvalue=0.6, pores=BC1_pores)\n",
      "            Fickian_alg_single_phase_air.set_boundary_conditions(bctype = 'Dirichlet', bcvalue = .6, pores = BC1_pores)\n",
      "            Fickian_alg_single_phase_water.set_boundary_conditions(bctype = 'Dirichlet', bcvalue = .6, pores = BC1_pores)\n",
      "            \n",
      "            Stokes_alg_multi_phase_air.set_boundary_conditions(bctype='Dirichlet', bcvalue=0.6, pores=BC1_pores)\n",
      "            Stokes_alg_multi_phase_water.set_boundary_conditions(bctype='Dirichlet', bcvalue=0.6, pores=BC1_pores)\n",
      "            Fickian_alg_multi_phase_air.set_boundary_conditions(bctype = 'Dirichlet', bcvalue = .6, pores = BC1_pores)\n",
      "            Fickian_alg_multi_phase_water.set_boundary_conditions(bctype = 'Dirichlet', bcvalue = .6, pores = BC1_pores)   \n",
      "            \n",
      "            #BC2    \n",
      "            Stokes_alg_single_phase_air.set_boundary_conditions(bctype='Dirichlet', bcvalue=0.2, pores=BC2_pores)\n",
      "            Stokes_alg_single_phase_water.set_boundary_conditions(bctype='Dirichlet', bcvalue=0.2, pores=BC2_pores)\n",
      "            Fickian_alg_single_phase_air.set_boundary_conditions(bctype = 'Dirichlet', bcvalue = .2, pores = BC2_pores)\n",
      "            Fickian_alg_single_phase_water.set_boundary_conditions(bctype = 'Dirichlet', bcvalue = .2, pores = BC2_pores)\n",
      "            \n",
      "            Stokes_alg_multi_phase_air.set_boundary_conditions(bctype='Dirichlet', bcvalue=0.2, pores=BC2_pores)\n",
      "            Stokes_alg_multi_phase_water.set_boundary_conditions(bctype='Dirichlet', bcvalue=0.2, pores=BC2_pores)\n",
      "            Fickian_alg_multi_phase_air.set_boundary_conditions(bctype = 'Dirichlet', bcvalue = .2, pores = BC2_pores)\n",
      "            Fickian_alg_multi_phase_water.set_boundary_conditions(bctype = 'Dirichlet', bcvalue = .2, pores = BC2_pores)\n",
      "            \n",
      "            #conduit conductance\n",
      "            Stokes_alg_single_phase_air.setup(conductance = 'hydraulic_conductance',fluid=air)\n",
      "            Stokes_alg_single_phase_water.setup(conductance = 'hydraulic_conductance',fluid=water)\n",
      "            Fickian_alg_single_phase_air.setup(conductance = 'diffusive_conductance',fluid=air) \n",
      "            Fickian_alg_single_phase_water.setup(conductance = 'diffusive_conductance',fluid=water)\n",
      "            \n",
      "            Stokes_alg_multi_phase_air.setup(conductance = 'conduit_hydraulic_conductance',fluid=air)\n",
      "            Stokes_alg_multi_phase_water.setup(conductance = 'conduit_hydraulic_conductance',fluid=water)\n",
      "            Fickian_alg_multi_phase_air.setup(conductance = 'conduit_diffusive_conductance',fluid=air) \n",
      "            Fickian_alg_multi_phase_water.setup(conductance = 'conduit_diffusive_conductance',fluid=water)\n",
      "            \n",
      "            #run\n",
      "            Stokes_alg_single_phase_air.run(loglevel = 30)\n",
      "            Stokes_alg_single_phase_water.run(loglevel = 30)\n",
      "            Fickian_alg_single_phase_air.run(loglevel = 30)\n",
      "            Fickian_alg_single_phase_water.run(loglevel = 30)\n",
      "            \n",
      "            Stokes_alg_multi_phase_air.run(loglevel = 30)\n",
      "            Stokes_alg_multi_phase_water.run(loglevel = 30)\n",
      "            Fickian_alg_multi_phase_air.run(loglevel = 30)\n",
      "            Fickian_alg_multi_phase_water.run(loglevel = 30)\n",
      "            \n",
      "            #calc effective properties\n",
      "            effective_permeability_air_single = Stokes_alg_single_phase_air.calc_eff_permeability(clean = False)  \n",
      "            effective_diffusivity_air_single = Fickian_alg_single_phase_air.calc_eff_diffusivity(clean = False)\n",
      "            effective_permeability_water_single = Stokes_alg_single_phase_water.calc_eff_permeability(clean = False)  \n",
      "            effective_diffusivity_water_single = Fickian_alg_single_phase_water.calc_eff_diffusivity(clean = False)\n",
      "            \n",
      "            effective_permeability_air_multi = Stokes_alg_multi_phase_air.calc_eff_permeability(clean = False)  \n",
      "            effective_diffusivity_air_multi = Fickian_alg_multi_phase_air.calc_eff_diffusivity(clean = False)\n",
      "            effective_permeability_water_multi = Stokes_alg_multi_phase_water.calc_eff_permeability(clean = False)  \n",
      "            effective_diffusivity_water_multi = Fickian_alg_multi_phase_water.calc_eff_diffusivity(clean = False)\n",
      "            \n",
      "            final_pores = water.get_pore_data('occupancy')*1\n",
      "            pore_volumes = sgl.get_pore_data(prop = 'volume')\n",
      "            final_throats = water.get_throat_data('occupancy')*1\n",
      "            throat_volumes = sgl.get_throat_data(prop = 'volume')\n",
      "            \n",
      "            saturation = (sum(final_pores*pore_volumes) + sum(final_throats*throat_volumes))/(sum(pore_volumes) + sum(throat_volumes))\n",
      "            \n",
      "            relative_eff_perm_air = effective_permeability_air_multi/effective_permeability_air_single\n",
      "            relative_eff_perm_water = effective_permeability_water_multi/effective_permeability_water_single\n",
      "            relative_eff_diff_air = effective_diffusivity_air_multi/effective_diffusivity_air_single\n",
      "            relative_eff_diff_water = effective_diffusivity_water_multi/effective_diffusivity_water_single\n",
      "            \n",
      "            sat[str(bound_increment) + str(mode_increment)].append(saturation)\n",
      "            perm_air[str(bound_increment) + str(mode_increment)].append(relative_eff_perm_air)\n",
      "            diff_air[str(bound_increment) + str(mode_increment)].append(relative_eff_diff_air) \n",
      "            perm_water[str(bound_increment) + str(mode_increment)].append(relative_eff_perm_water)\n",
      "            diff_water[str(bound_increment) + str(mode_increment)].append(relative_eff_diff_water)\n",
      "\n",
      "from matplotlib.font_manager import FontProperties\n",
      "\n",
      "fontP = FontProperties()\n",
      "fontP.set_size('small')\n",
      "#setting up subplots\n",
      "#f, ((ax1, ax2), (ax3, ax4)) = plt.subplots(2, 2, sharex='col', sharey='row')\n",
      "fig = plt.figure(num=1, figsize=(10, 10), dpi=80, facecolor='w', edgecolor='k')\n",
      "ax1 = fig.add_subplot(221)   #top left\n",
      "ax2 = fig.add_subplot(222)   #top right\n",
      "ax3 = fig.add_subplot(223)   #bottom left\n",
      "ax4 = fig.add_subplot(224)\n",
      "\n",
      "x_values1 = [x/20 for x in range(21)]\n",
      "z = '.75'\n",
      "\n",
      "#plots for subplot1 - loose permeability\n",
      "p1, = ax1.plot(sat['00'], perm_water['00'], color = 'k', linestyle = '-', marker = 'o')\n",
      "p2, = ax1.plot(sat['10'], perm_water['10'], color = z, linestyle = '-', marker = 'o')\n",
      "p3, = ax1.plot(sat['20'], perm_water['20'], color = 'w', linestyle = '-', marker = 'o')\n",
      "p4, = ax1.plot(sat['00'], perm_air['00'], color = 'k', linestyle = '-', marker = 'D')\n",
      "p5, = ax1.plot(sat['10'], perm_air['10'], color = z, linestyle = '-', marker = 'D')\n",
      "p6, = ax1.plot(sat['20'], perm_air['20'], color = 'w', linestyle = '-', marker = 'D')\n",
      "p10, = ax1.plot(x_values1, [x**(3) for x in x_values1], 'k--')\n",
      "ax1.plot(x_values1, [(1-x)**(3) for x in x_values1], 'k--')\n",
      "ax1.set_title(\"loose permeability\")\n",
      "ax1.set_ylabel('permeability')\n",
      "ax1.set_ylim([0,1])\n",
      "\n",
      "\n",
      "#plots for subplot2 - strict permeability\n",
      "p1, = ax2.plot(sat['00'], perm_water['00'], color = 'k', linestyle = '-', marker = 'o')\n",
      "p2, = ax2.plot(sat['10'], perm_water['10'], color = z, linestyle = '-', marker = 'o')\n",
      "p3, = ax2.plot(sat['20'], perm_water['20'], color = 'w', linestyle = '-', marker = 'o')\n",
      "p7, = ax2.plot(sat['01'], perm_air['01'], color = 'k', linestyle = '-', marker = '^')\n",
      "p8, = ax2.plot(sat['11'], perm_air['11'], color = z, linestyle = '-', marker = '^')\n",
      "p9, = ax2.plot(sat['21'], perm_air['21'], color = 'w', linestyle = '-', marker = '^')\n",
      "p10, = ax2.plot(x_values1, [x**(3) for x in x_values1], 'k--')\n",
      "ax2.plot(x_values1, [(1-x)**(3) for x in x_values1], 'k--')\n",
      "ax2.set_title(\"strict permeability\")\n",
      "ax2.set_ylim([0,1])\n",
      "\n",
      "#need to work on legend to match up with the right things\n",
      "lgd1 = ax2.legend([p1, p2, p3, p4, p5, p6, p7, p8, p9, p10],\n",
      "           [\"KrWater,x\", \"KrWater,y\", \"KrWater,z\",\n",
      "           \"KrAir,x (loose)\",\"KrAir,y (loose)\",\"KrAir,z (loose)\",\n",
      "           \"KrAir,x (strict)\",\"KrAir,y (strict)\",\"KrAir,z (strict)\", \"a = 3\"], loc='center left', bbox_to_anchor=(1, 0.5), prop = fontP)\n",
      "\n",
      "#plots for subplot3 - loose diffusivity\n",
      "p11, = ax3.plot(sat['00'], diff_water['00'], color = 'k', linestyle = '-', marker = 'o')\n",
      "p12, = ax3.plot(sat['10'], diff_water['10'], color = z, linestyle = '-', marker = 'o')\n",
      "p13, = ax3.plot(sat['20'], diff_water['20'], color = 'w', linestyle = '-', marker = 'o')\n",
      "p14, = ax3.plot(sat['00'], diff_air['00'], color = 'k', linestyle = '-', marker = 'D')\n",
      "p15, = ax3.plot(sat['10'], diff_air['10'], color = z, linestyle = '-', marker = 'D')\n",
      "p16, = ax3.plot(sat['20'], diff_air['20'], color = 'w', linestyle = '-', marker = 'D')\n",
      "p20, = ax3.plot(x_values1, [x**(2) for x in x_values1], 'k--')\n",
      "ax3.plot(x_values1, [(1-x)**(2) for x in x_values1], 'k--')\n",
      "ax3.set_title(\"loose diffusivity\")\n",
      "ax3.set_ylabel(\"diffusivity\")\n",
      "ax3.set_xlabel(\"saturation\")\n",
      "ax3.set_ylim([0,1])\n",
      "\n",
      "\n",
      "#plots for subplot4 - strict diffusivity\n",
      "p11, = ax4.plot(sat['00'], diff_water['00'], color = 'k', linestyle = '-', marker = 'o')\n",
      "p12, = ax4.plot(sat['10'], diff_water['10'], color = z, linestyle = '-', marker = 'o')\n",
      "p13, = ax4.plot(sat['20'], diff_water['20'], color = 'w', linestyle = '-', marker = 'o')\n",
      "p17, = ax4.plot(sat['01'], diff_air['01'], color = 'k', linestyle = '-', marker = '^')\n",
      "p18, = ax4.plot(sat['11'], diff_air['11'], color = z, linestyle = '-', marker = '^')\n",
      "p19, = ax4.plot(sat['21'], diff_air['21'], color = 'w', linestyle = '-', marker = '^')\n",
      "p20, = ax4.plot(x_values1, [x**(2) for x in x_values1], 'k--')\n",
      "ax4.plot(x_values1, [(1-x)**(2) for x in x_values1], 'k--')\n",
      "ax4.set_title(\"strict diffusivity\")\n",
      "ax4.set_xlabel(\"saturation\")\n",
      "ax4.set_ylim([0,1])\n",
      "\n",
      "lgd2 = ax4.legend([p11, p12, p13, p14, p15, p16, p17, p18, p19, p20],\n",
      "           [\"DrWater,x\", \"DrWater,y\", \"DrWater,z\",\n",
      "           \"DrAir,x (loose)\",\"DrAir,y (loose)\",\"DrAir,z (loose)\",\n",
      "           \"DrAir,x (strict)\",\"DrAir,y (strict)\",\"DrAir,z (strict)\", \"a = 3\"], loc='center left', bbox_to_anchor=(1, 0.5), prop = fontP)\n",
      "\n",
      "fig.subplots_adjust(left=0.1, right=0.8, top=0.9, bottom=0.1) \n",
      "         \n",
      "fig.show()"
     ],
     "language": "python",
     "metadata": {},
     "outputs": [
      {
       "output_type": "stream",
       "stream": "stderr",
       "text": [
        "ERROR:Cubic:Cannot overwrite throat.vector with an array of the wrong length\n"
       ]
      },
      {
       "output_type": "stream",
       "stream": "stderr",
       "text": [
        "/Users/Jackie/OpenPNM/OpenPNM/Physics/hydraulic_conductance.py:59: RuntimeWarning: invalid value encountered in true_divide\n",
        "  gp2 = 2.28*(pdia[pores[:,1]]/2)**4/(pdia[pores[:,1]]*mut)\n",
        "/Users/Jackie/OpenPNM/OpenPNM/Physics/hydraulic_conductance.py:60: RuntimeWarning: invalid value encountered in greater\n",
        "  gp2[~(gp2>0)] = sp.inf #Set 0 conductance pores (boundaries) to inf\n",
        "/Users/Jackie/OpenPNM/OpenPNM/Physics/diffusive_conductance.py:72: RuntimeWarning: invalid value encountered in true_divide\n",
        "  gp2 = ct*DABt*pdia[Ps[:,1]]**2/(0.5*pdia[Ps[:,1]])\n",
        "/Users/Jackie/OpenPNM/OpenPNM/Physics/diffusive_conductance.py:73: RuntimeWarning: invalid value encountered in greater\n",
        "  gp2[~(gp2>0)] = sp.inf #Set 0 conductance pores (boundaries) to inf\n",
        "WARNING:Stokes:The inlet pores have too many neighbors. Internal pores appear to be selected."
       ]
      },
      {
       "output_type": "stream",
       "stream": "stderr",
       "text": [
        "\n"
       ]
      },
      {
       "output_type": "stream",
       "stream": "stderr",
       "text": [
        "WARNING:Stokes:The outlet pores have too many neighbors. Internal pores appear to be selected.\n"
       ]
      },
      {
       "output_type": "stream",
       "stream": "stderr",
       "text": [
        "WARNING:Cubic:The supplied pores are not coplanar. Length will be approximate.\n"
       ]
      },
      {
       "output_type": "stream",
       "stream": "stderr",
       "text": [
        "WARNING:Fickian:The inlet pores have too many neighbors. Internal pores appear to be selected.\n"
       ]
      },
      {
       "output_type": "stream",
       "stream": "stderr",
       "text": [
        "WARNING:Fickian:The outlet pores have too many neighbors. Internal pores appear to be selected.\n"
       ]
      },
      {
       "output_type": "stream",
       "stream": "stderr",
       "text": [
        "WARNING:Cubic:The supplied pores are not coplanar. Length will be approximate.\n"
       ]
      },
      {
       "output_type": "stream",
       "stream": "stderr",
       "text": [
        "WARNING:Stokes_2:The inlet pores have too many neighbors. Internal pores appear to be selected.\n"
       ]
      },
      {
       "output_type": "stream",
       "stream": "stderr",
       "text": [
        "WARNING:Stokes_2:The outlet pores have too many neighbors. Internal pores appear to be selected.\n"
       ]
      },
      {
       "output_type": "stream",
       "stream": "stderr",
       "text": [
        "WARNING:Cubic:The supplied pores are not coplanar. Length will be approximate.\n"
       ]
      },
      {
       "output_type": "stream",
       "stream": "stderr",
       "text": [
        "WARNING:Fickian_2:The inlet pores have too many neighbors. Internal pores appear to be selected.\n"
       ]
      },
      {
       "output_type": "stream",
       "stream": "stderr",
       "text": [
        "WARNING:Fickian_2:The outlet pores have too many neighbors. Internal pores appear to be selected.\n"
       ]
      },
      {
       "output_type": "stream",
       "stream": "stderr",
       "text": [
        "WARNING:Cubic:The supplied pores are not coplanar. Length will be approximate.\n"
       ]
      },
      {
       "output_type": "stream",
       "stream": "stderr",
       "text": [
        "WARNING:Stokes:The inlet pores have too many neighbors. Internal pores appear to be selected.\n"
       ]
      },
      {
       "output_type": "stream",
       "stream": "stderr",
       "text": [
        "WARNING:Stokes:The outlet pores have too many neighbors. Internal pores appear to be selected.\n"
       ]
      },
      {
       "output_type": "stream",
       "stream": "stderr",
       "text": [
        "WARNING:Cubic:The supplied pores are not coplanar. Length will be approximate.\n"
       ]
      },
      {
       "output_type": "stream",
       "stream": "stderr",
       "text": [
        "WARNING:Fickian:The inlet pores have too many neighbors. Internal pores appear to be selected.\n"
       ]
      },
      {
       "output_type": "stream",
       "stream": "stderr",
       "text": [
        "WARNING:Fickian:The outlet pores have too many neighbors. Internal pores appear to be selected.\n"
       ]
      },
      {
       "output_type": "stream",
       "stream": "stderr",
       "text": [
        "WARNING:Cubic:The supplied pores are not coplanar. Length will be approximate.\n"
       ]
      },
      {
       "output_type": "stream",
       "stream": "stderr",
       "text": [
        "WARNING:Stokes_2:The inlet pores have too many neighbors. Internal pores appear to be selected.\n"
       ]
      },
      {
       "output_type": "stream",
       "stream": "stderr",
       "text": [
        "WARNING:Stokes_2:The outlet pores have too many neighbors. Internal pores appear to be selected.\n"
       ]
      },
      {
       "output_type": "stream",
       "stream": "stderr",
       "text": [
        "WARNING:Cubic:The supplied pores are not coplanar. Length will be approximate.\n"
       ]
      },
      {
       "output_type": "stream",
       "stream": "stderr",
       "text": [
        "WARNING:Fickian_2:The inlet pores have too many neighbors. Internal pores appear to be selected.\n"
       ]
      },
      {
       "output_type": "stream",
       "stream": "stderr",
       "text": [
        "WARNING:Fickian_2:The outlet pores have too many neighbors. Internal pores appear to be selected.\n"
       ]
      },
      {
       "output_type": "stream",
       "stream": "stderr",
       "text": [
        "WARNING:Cubic:The supplied pores are not coplanar. Length will be approximate.\n"
       ]
      },
      {
       "output_type": "stream",
       "stream": "stderr",
       "text": [
        "WARNING:Stokes:The inlet pores have too many neighbors. Internal pores appear to be selected.\n"
       ]
      },
      {
       "output_type": "stream",
       "stream": "stderr",
       "text": [
        "WARNING:Stokes:The outlet pores have too many neighbors. Internal pores appear to be selected.\n"
       ]
      },
      {
       "output_type": "stream",
       "stream": "stderr",
       "text": [
        "WARNING:Cubic:The supplied pores are not coplanar. Length will be approximate.\n"
       ]
      },
      {
       "output_type": "stream",
       "stream": "stderr",
       "text": [
        "WARNING:Fickian:The inlet pores have too many neighbors. Internal pores appear to be selected.\n"
       ]
      },
      {
       "output_type": "stream",
       "stream": "stderr",
       "text": [
        "WARNING:Fickian:The outlet pores have too many neighbors. Internal pores appear to be selected.\n"
       ]
      },
      {
       "output_type": "stream",
       "stream": "stderr",
       "text": [
        "WARNING:Cubic:The supplied pores are not coplanar. Length will be approximate.\n"
       ]
      },
      {
       "output_type": "stream",
       "stream": "stderr",
       "text": [
        "WARNING:Stokes_2:The inlet pores have too many neighbors. Internal pores appear to be selected.\n"
       ]
      },
      {
       "output_type": "stream",
       "stream": "stderr",
       "text": [
        "WARNING:Stokes_2:The outlet pores have too many neighbors. Internal pores appear to be selected.\n"
       ]
      },
      {
       "output_type": "stream",
       "stream": "stderr",
       "text": [
        "WARNING:Cubic:The supplied pores are not coplanar. Length will be approximate.\n"
       ]
      },
      {
       "output_type": "stream",
       "stream": "stderr",
       "text": [
        "WARNING:Fickian_2:The inlet pores have too many neighbors. Internal pores appear to be selected.\n"
       ]
      },
      {
       "output_type": "stream",
       "stream": "stderr",
       "text": [
        "WARNING:Fickian_2:The outlet pores have too many neighbors. Internal pores appear to be selected.\n"
       ]
      },
      {
       "output_type": "stream",
       "stream": "stderr",
       "text": [
        "WARNING:Cubic:The supplied pores are not coplanar. Length will be approximate.\n"
       ]
      },
      {
       "output_type": "stream",
       "stream": "stderr",
       "text": [
        "WARNING:Stokes:The inlet pores have too many neighbors. Internal pores appear to be selected.\n"
       ]
      },
      {
       "output_type": "stream",
       "stream": "stderr",
       "text": [
        "WARNING:Stokes:The outlet pores have too many neighbors. Internal pores appear to be selected.\n"
       ]
      },
      {
       "output_type": "stream",
       "stream": "stderr",
       "text": [
        "WARNING:Cubic:The supplied pores are not coplanar. Length will be approximate.\n"
       ]
      },
      {
       "output_type": "stream",
       "stream": "stderr",
       "text": [
        "WARNING:Fickian:The inlet pores have too many neighbors. Internal pores appear to be selected.\n"
       ]
      },
      {
       "output_type": "stream",
       "stream": "stderr",
       "text": [
        "WARNING:Fickian:The outlet pores have too many neighbors. Internal pores appear to be selected.\n"
       ]
      },
      {
       "output_type": "stream",
       "stream": "stderr",
       "text": [
        "WARNING:Cubic:The supplied pores are not coplanar. Length will be approximate.\n"
       ]
      },
      {
       "output_type": "stream",
       "stream": "stderr",
       "text": [
        "WARNING:Stokes_2:The inlet pores have too many neighbors. Internal pores appear to be selected.\n"
       ]
      },
      {
       "output_type": "stream",
       "stream": "stderr",
       "text": [
        "WARNING:Stokes_2:The outlet pores have too many neighbors. Internal pores appear to be selected.\n"
       ]
      },
      {
       "output_type": "stream",
       "stream": "stderr",
       "text": [
        "WARNING:Cubic:The supplied pores are not coplanar. Length will be approximate.\n"
       ]
      },
      {
       "output_type": "stream",
       "stream": "stderr",
       "text": [
        "WARNING:Fickian_2:The inlet pores have too many neighbors. Internal pores appear to be selected.\n"
       ]
      },
      {
       "output_type": "stream",
       "stream": "stderr",
       "text": [
        "WARNING:Fickian_2:The outlet pores have too many neighbors. Internal pores appear to be selected.\n"
       ]
      },
      {
       "output_type": "stream",
       "stream": "stderr",
       "text": [
        "WARNING:Cubic:The supplied pores are not coplanar. Length will be approximate.\n"
       ]
      },
      {
       "output_type": "stream",
       "stream": "stderr",
       "text": [
        "WARNING:Stokes:The inlet pores have too many neighbors. Internal pores appear to be selected.\n"
       ]
      },
      {
       "output_type": "stream",
       "stream": "stderr",
       "text": [
        "WARNING:Stokes:The outlet pores have too many neighbors. Internal pores appear to be selected.\n"
       ]
      },
      {
       "output_type": "stream",
       "stream": "stderr",
       "text": [
        "WARNING:Cubic:The supplied pores are not coplanar. Length will be approximate.\n"
       ]
      },
      {
       "output_type": "stream",
       "stream": "stderr",
       "text": [
        "WARNING:Fickian:The inlet pores have too many neighbors. Internal pores appear to be selected.\n"
       ]
      },
      {
       "output_type": "stream",
       "stream": "stderr",
       "text": [
        "WARNING:Fickian:The outlet pores have too many neighbors. Internal pores appear to be selected.\n"
       ]
      },
      {
       "output_type": "stream",
       "stream": "stderr",
       "text": [
        "WARNING:Cubic:The supplied pores are not coplanar. Length will be approximate.\n"
       ]
      },
      {
       "output_type": "stream",
       "stream": "stderr",
       "text": [
        "WARNING:Stokes_2:The inlet pores have too many neighbors. Internal pores appear to be selected.\n"
       ]
      },
      {
       "output_type": "stream",
       "stream": "stderr",
       "text": [
        "WARNING:Stokes_2:The outlet pores have too many neighbors. Internal pores appear to be selected.\n"
       ]
      },
      {
       "output_type": "stream",
       "stream": "stderr",
       "text": [
        "WARNING:Cubic:The supplied pores are not coplanar. Length will be approximate.\n"
       ]
      },
      {
       "output_type": "stream",
       "stream": "stderr",
       "text": [
        "WARNING:Fickian_2:The inlet pores have too many neighbors. Internal pores appear to be selected.\n"
       ]
      },
      {
       "output_type": "stream",
       "stream": "stderr",
       "text": [
        "WARNING:Fickian_2:The outlet pores have too many neighbors. Internal pores appear to be selected.\n"
       ]
      },
      {
       "output_type": "stream",
       "stream": "stderr",
       "text": [
        "WARNING:Cubic:The supplied pores are not coplanar. Length will be approximate.\n"
       ]
      },
      {
       "output_type": "stream",
       "stream": "stderr",
       "text": [
        "WARNING:Stokes:The inlet pores have too many neighbors. Internal pores appear to be selected.\n"
       ]
      },
      {
       "output_type": "stream",
       "stream": "stderr",
       "text": [
        "WARNING:Stokes:The outlet pores have too many neighbors. Internal pores appear to be selected.\n"
       ]
      },
      {
       "output_type": "stream",
       "stream": "stderr",
       "text": [
        "WARNING:Cubic:The supplied pores are not coplanar. Length will be approximate.\n"
       ]
      },
      {
       "output_type": "stream",
       "stream": "stderr",
       "text": [
        "WARNING:Fickian:The inlet pores have too many neighbors. Internal pores appear to be selected.\n"
       ]
      },
      {
       "output_type": "stream",
       "stream": "stderr",
       "text": [
        "WARNING:Fickian:The outlet pores have too many neighbors. Internal pores appear to be selected.\n"
       ]
      },
      {
       "output_type": "stream",
       "stream": "stderr",
       "text": [
        "WARNING:Cubic:The supplied pores are not coplanar. Length will be approximate.\n"
       ]
      },
      {
       "output_type": "stream",
       "stream": "stderr",
       "text": [
        "WARNING:Stokes_2:The inlet pores have too many neighbors. Internal pores appear to be selected.\n"
       ]
      },
      {
       "output_type": "stream",
       "stream": "stderr",
       "text": [
        "WARNING:Stokes_2:The outlet pores have too many neighbors. Internal pores appear to be selected.\n"
       ]
      },
      {
       "output_type": "stream",
       "stream": "stderr",
       "text": [
        "WARNING:Cubic:The supplied pores are not coplanar. Length will be approximate.\n"
       ]
      },
      {
       "output_type": "stream",
       "stream": "stderr",
       "text": [
        "WARNING:Fickian_2:The inlet pores have too many neighbors. Internal pores appear to be selected.\n"
       ]
      },
      {
       "output_type": "stream",
       "stream": "stderr",
       "text": [
        "WARNING:Fickian_2:The outlet pores have too many neighbors. Internal pores appear to be selected.\n"
       ]
      },
      {
       "output_type": "stream",
       "stream": "stderr",
       "text": [
        "WARNING:Cubic:The supplied pores are not coplanar. Length will be approximate.\n"
       ]
      },
      {
       "output_type": "stream",
       "stream": "stderr",
       "text": [
        "WARNING:Stokes:The inlet pores have too many neighbors. Internal pores appear to be selected.\n"
       ]
      },
      {
       "output_type": "stream",
       "stream": "stderr",
       "text": [
        "WARNING:Stokes:The outlet pores have too many neighbors. Internal pores appear to be selected.\n"
       ]
      },
      {
       "output_type": "stream",
       "stream": "stderr",
       "text": [
        "WARNING:Cubic:The supplied pores are not coplanar. Length will be approximate.\n"
       ]
      },
      {
       "output_type": "stream",
       "stream": "stderr",
       "text": [
        "WARNING:Fickian:The inlet pores have too many neighbors. Internal pores appear to be selected.\n"
       ]
      },
      {
       "output_type": "stream",
       "stream": "stderr",
       "text": [
        "WARNING:Fickian:The outlet pores have too many neighbors. Internal pores appear to be selected.\n"
       ]
      },
      {
       "output_type": "stream",
       "stream": "stderr",
       "text": [
        "WARNING:Cubic:The supplied pores are not coplanar. Length will be approximate.\n"
       ]
      },
      {
       "output_type": "stream",
       "stream": "stderr",
       "text": [
        "WARNING:Stokes_2:The inlet pores have too many neighbors. Internal pores appear to be selected.\n"
       ]
      },
      {
       "output_type": "stream",
       "stream": "stderr",
       "text": [
        "WARNING:Stokes_2:The outlet pores have too many neighbors. Internal pores appear to be selected.\n"
       ]
      },
      {
       "output_type": "stream",
       "stream": "stderr",
       "text": [
        "WARNING:Cubic:The supplied pores are not coplanar. Length will be approximate.\n"
       ]
      },
      {
       "output_type": "stream",
       "stream": "stderr",
       "text": [
        "WARNING:Fickian_2:The inlet pores have too many neighbors. Internal pores appear to be selected.\n"
       ]
      },
      {
       "output_type": "stream",
       "stream": "stderr",
       "text": [
        "WARNING:Fickian_2:The outlet pores have too many neighbors. Internal pores appear to be selected.\n"
       ]
      },
      {
       "output_type": "stream",
       "stream": "stderr",
       "text": [
        "WARNING:Cubic:The supplied pores are not coplanar. Length will be approximate.\n"
       ]
      },
      {
       "output_type": "stream",
       "stream": "stderr",
       "text": [
        "WARNING:Stokes:The inlet pores have too many neighbors. Internal pores appear to be selected.\n"
       ]
      },
      {
       "output_type": "stream",
       "stream": "stderr",
       "text": [
        "WARNING:Stokes:The outlet pores have too many neighbors. Internal pores appear to be selected.\n"
       ]
      },
      {
       "output_type": "stream",
       "stream": "stderr",
       "text": [
        "WARNING:Cubic:The supplied pores are not coplanar. Length will be approximate.\n"
       ]
      },
      {
       "output_type": "stream",
       "stream": "stderr",
       "text": [
        "WARNING:Fickian:The inlet pores have too many neighbors. Internal pores appear to be selected.\n"
       ]
      },
      {
       "output_type": "stream",
       "stream": "stderr",
       "text": [
        "WARNING:Fickian:The outlet pores have too many neighbors. Internal pores appear to be selected.\n"
       ]
      },
      {
       "output_type": "stream",
       "stream": "stderr",
       "text": [
        "WARNING:Cubic:The supplied pores are not coplanar. Length will be approximate.\n"
       ]
      },
      {
       "output_type": "stream",
       "stream": "stderr",
       "text": [
        "WARNING:Stokes_2:The inlet pores have too many neighbors. Internal pores appear to be selected.\n"
       ]
      },
      {
       "output_type": "stream",
       "stream": "stderr",
       "text": [
        "WARNING:Stokes_2:The outlet pores have too many neighbors. Internal pores appear to be selected.\n"
       ]
      },
      {
       "output_type": "stream",
       "stream": "stderr",
       "text": [
        "WARNING:Cubic:The supplied pores are not coplanar. Length will be approximate.\n"
       ]
      },
      {
       "output_type": "stream",
       "stream": "stderr",
       "text": [
        "WARNING:Fickian_2:The inlet pores have too many neighbors. Internal pores appear to be selected.\n"
       ]
      },
      {
       "output_type": "stream",
       "stream": "stderr",
       "text": [
        "WARNING:Fickian_2:The outlet pores have too many neighbors. Internal pores appear to be selected.\n"
       ]
      },
      {
       "output_type": "stream",
       "stream": "stderr",
       "text": [
        "WARNING:Cubic:The supplied pores are not coplanar. Length will be approximate.\n"
       ]
      },
      {
       "output_type": "stream",
       "stream": "stderr",
       "text": [
        "WARNING:Stokes:The inlet pores have too many neighbors. Internal pores appear to be selected.\n"
       ]
      },
      {
       "output_type": "stream",
       "stream": "stderr",
       "text": [
        "WARNING:Stokes:The outlet pores have too many neighbors. Internal pores appear to be selected.\n"
       ]
      },
      {
       "output_type": "stream",
       "stream": "stderr",
       "text": [
        "WARNING:Cubic:The supplied pores are not coplanar. Length will be approximate.\n"
       ]
      },
      {
       "output_type": "stream",
       "stream": "stderr",
       "text": [
        "WARNING:Fickian:The inlet pores have too many neighbors. Internal pores appear to be selected.\n"
       ]
      },
      {
       "output_type": "stream",
       "stream": "stderr",
       "text": [
        "WARNING:Fickian:The outlet pores have too many neighbors. Internal pores appear to be selected.\n"
       ]
      },
      {
       "output_type": "stream",
       "stream": "stderr",
       "text": [
        "WARNING:Cubic:The supplied pores are not coplanar. Length will be approximate.\n"
       ]
      },
      {
       "output_type": "stream",
       "stream": "stderr",
       "text": [
        "WARNING:Stokes_2:The inlet pores have too many neighbors. Internal pores appear to be selected.\n"
       ]
      },
      {
       "output_type": "stream",
       "stream": "stderr",
       "text": [
        "WARNING:Stokes_2:The outlet pores have too many neighbors. Internal pores appear to be selected.\n"
       ]
      },
      {
       "output_type": "stream",
       "stream": "stderr",
       "text": [
        "WARNING:Cubic:The supplied pores are not coplanar. Length will be approximate.\n"
       ]
      },
      {
       "output_type": "stream",
       "stream": "stderr",
       "text": [
        "WARNING:Fickian_2:The inlet pores have too many neighbors. Internal pores appear to be selected.\n"
       ]
      },
      {
       "output_type": "stream",
       "stream": "stderr",
       "text": [
        "WARNING:Fickian_2:The outlet pores have too many neighbors. Internal pores appear to be selected.\n"
       ]
      },
      {
       "output_type": "stream",
       "stream": "stderr",
       "text": [
        "WARNING:Cubic:The supplied pores are not coplanar. Length will be approximate.\n"
       ]
      },
      {
       "output_type": "stream",
       "stream": "stderr",
       "text": [
        "WARNING:Stokes:The inlet pores have too many neighbors. Internal pores appear to be selected.\n"
       ]
      },
      {
       "output_type": "stream",
       "stream": "stderr",
       "text": [
        "WARNING:Stokes:The outlet pores have too many neighbors. Internal pores appear to be selected.\n"
       ]
      },
      {
       "output_type": "stream",
       "stream": "stderr",
       "text": [
        "WARNING:Cubic:The supplied pores are not coplanar. Length will be approximate.\n"
       ]
      },
      {
       "output_type": "stream",
       "stream": "stderr",
       "text": [
        "WARNING:Fickian:The inlet pores have too many neighbors. Internal pores appear to be selected.\n"
       ]
      },
      {
       "output_type": "stream",
       "stream": "stderr",
       "text": [
        "WARNING:Fickian:The outlet pores have too many neighbors. Internal pores appear to be selected.\n"
       ]
      },
      {
       "output_type": "stream",
       "stream": "stderr",
       "text": [
        "WARNING:Cubic:The supplied pores are not coplanar. Length will be approximate.\n"
       ]
      },
      {
       "output_type": "stream",
       "stream": "stderr",
       "text": [
        "WARNING:Stokes_2:The inlet pores have too many neighbors. Internal pores appear to be selected.\n"
       ]
      },
      {
       "output_type": "stream",
       "stream": "stderr",
       "text": [
        "WARNING:Stokes_2:The outlet pores have too many neighbors. Internal pores appear to be selected.\n"
       ]
      },
      {
       "output_type": "stream",
       "stream": "stderr",
       "text": [
        "WARNING:Cubic:The supplied pores are not coplanar. Length will be approximate.\n"
       ]
      },
      {
       "output_type": "stream",
       "stream": "stderr",
       "text": [
        "WARNING:Fickian_2:The inlet pores have too many neighbors. Internal pores appear to be selected.\n"
       ]
      },
      {
       "output_type": "stream",
       "stream": "stderr",
       "text": [
        "WARNING:Fickian_2:The outlet pores have too many neighbors. Internal pores appear to be selected.\n"
       ]
      },
      {
       "output_type": "stream",
       "stream": "stderr",
       "text": [
        "WARNING:Cubic:The supplied pores are not coplanar. Length will be approximate.\n"
       ]
      },
      {
       "output_type": "stream",
       "stream": "stderr",
       "text": [
        "WARNING:Stokes:The inlet pores have too many neighbors. Internal pores appear to be selected.\n"
       ]
      },
      {
       "output_type": "stream",
       "stream": "stderr",
       "text": [
        "WARNING:Stokes:The outlet pores have too many neighbors. Internal pores appear to be selected.\n"
       ]
      },
      {
       "output_type": "stream",
       "stream": "stderr",
       "text": [
        "WARNING:Cubic:The supplied pores are not coplanar. Length will be approximate.\n"
       ]
      },
      {
       "output_type": "stream",
       "stream": "stderr",
       "text": [
        "WARNING:Fickian:The inlet pores have too many neighbors. Internal pores appear to be selected.\n"
       ]
      },
      {
       "output_type": "stream",
       "stream": "stderr",
       "text": [
        "WARNING:Fickian:The outlet pores have too many neighbors. Internal pores appear to be selected.\n"
       ]
      },
      {
       "output_type": "stream",
       "stream": "stderr",
       "text": [
        "WARNING:Cubic:The supplied pores are not coplanar. Length will be approximate.\n"
       ]
      },
      {
       "output_type": "stream",
       "stream": "stderr",
       "text": [
        "WARNING:Stokes_2:The inlet pores have too many neighbors. Internal pores appear to be selected.\n"
       ]
      },
      {
       "output_type": "stream",
       "stream": "stderr",
       "text": [
        "WARNING:Stokes_2:The outlet pores have too many neighbors. Internal pores appear to be selected.\n"
       ]
      },
      {
       "output_type": "stream",
       "stream": "stderr",
       "text": [
        "WARNING:Cubic:The supplied pores are not coplanar. Length will be approximate.\n"
       ]
      },
      {
       "output_type": "stream",
       "stream": "stderr",
       "text": [
        "WARNING:Fickian_2:The inlet pores have too many neighbors. Internal pores appear to be selected.\n"
       ]
      },
      {
       "output_type": "stream",
       "stream": "stderr",
       "text": [
        "WARNING:Fickian_2:The outlet pores have too many neighbors. Internal pores appear to be selected.\n"
       ]
      },
      {
       "output_type": "stream",
       "stream": "stderr",
       "text": [
        "WARNING:Cubic:The supplied pores are not coplanar. Length will be approximate.\n"
       ]
      },
      {
       "output_type": "stream",
       "stream": "stderr",
       "text": [
        "WARNING:Stokes:The inlet pores have too many neighbors. Internal pores appear to be selected.\n"
       ]
      },
      {
       "output_type": "stream",
       "stream": "stderr",
       "text": [
        "WARNING:Stokes:The outlet pores have too many neighbors. Internal pores appear to be selected.\n"
       ]
      },
      {
       "output_type": "stream",
       "stream": "stderr",
       "text": [
        "WARNING:Cubic:The supplied pores are not coplanar. Length will be approximate.\n"
       ]
      },
      {
       "output_type": "stream",
       "stream": "stderr",
       "text": [
        "WARNING:Fickian:The inlet pores have too many neighbors. Internal pores appear to be selected.\n"
       ]
      },
      {
       "output_type": "stream",
       "stream": "stderr",
       "text": [
        "WARNING:Fickian:The outlet pores have too many neighbors. Internal pores appear to be selected.\n"
       ]
      },
      {
       "output_type": "stream",
       "stream": "stderr",
       "text": [
        "WARNING:Cubic:The supplied pores are not coplanar. Length will be approximate.\n"
       ]
      },
      {
       "output_type": "stream",
       "stream": "stderr",
       "text": [
        "WARNING:Stokes_2:The inlet pores have too many neighbors. Internal pores appear to be selected.\n"
       ]
      },
      {
       "output_type": "stream",
       "stream": "stderr",
       "text": [
        "WARNING:Stokes_2:The outlet pores have too many neighbors. Internal pores appear to be selected.\n"
       ]
      },
      {
       "output_type": "stream",
       "stream": "stderr",
       "text": [
        "WARNING:Cubic:The supplied pores are not coplanar. Length will be approximate.\n"
       ]
      },
      {
       "output_type": "stream",
       "stream": "stderr",
       "text": [
        "WARNING:Fickian_2:The inlet pores have too many neighbors. Internal pores appear to be selected.\n"
       ]
      },
      {
       "output_type": "stream",
       "stream": "stderr",
       "text": [
        "WARNING:Fickian_2:The outlet pores have too many neighbors. Internal pores appear to be selected.\n"
       ]
      },
      {
       "output_type": "stream",
       "stream": "stderr",
       "text": [
        "WARNING:Cubic:The supplied pores are not coplanar. Length will be approximate.\n"
       ]
      },
      {
       "output_type": "stream",
       "stream": "stderr",
       "text": [
        "WARNING:Stokes:The inlet pores have too many neighbors. Internal pores appear to be selected.\n"
       ]
      },
      {
       "output_type": "stream",
       "stream": "stderr",
       "text": [
        "WARNING:Stokes:The outlet pores have too many neighbors. Internal pores appear to be selected.\n"
       ]
      },
      {
       "output_type": "stream",
       "stream": "stderr",
       "text": [
        "WARNING:Cubic:The supplied pores are not coplanar. Length will be approximate.\n"
       ]
      },
      {
       "output_type": "stream",
       "stream": "stderr",
       "text": [
        "WARNING:Fickian:The inlet pores have too many neighbors. Internal pores appear to be selected.\n"
       ]
      },
      {
       "output_type": "stream",
       "stream": "stderr",
       "text": [
        "WARNING:Fickian:The outlet pores have too many neighbors. Internal pores appear to be selected.\n"
       ]
      },
      {
       "output_type": "stream",
       "stream": "stderr",
       "text": [
        "WARNING:Cubic:The supplied pores are not coplanar. Length will be approximate.\n"
       ]
      },
      {
       "output_type": "stream",
       "stream": "stderr",
       "text": [
        "WARNING:Stokes_2:The inlet pores have too many neighbors. Internal pores appear to be selected.\n"
       ]
      },
      {
       "output_type": "stream",
       "stream": "stderr",
       "text": [
        "WARNING:Stokes_2:The outlet pores have too many neighbors. Internal pores appear to be selected.\n"
       ]
      },
      {
       "output_type": "stream",
       "stream": "stderr",
       "text": [
        "WARNING:Cubic:The supplied pores are not coplanar. Length will be approximate.\n"
       ]
      },
      {
       "output_type": "stream",
       "stream": "stderr",
       "text": [
        "WARNING:Fickian_2:The inlet pores have too many neighbors. Internal pores appear to be selected.\n"
       ]
      },
      {
       "output_type": "stream",
       "stream": "stderr",
       "text": [
        "WARNING:Fickian_2:The outlet pores have too many neighbors. Internal pores appear to be selected.\n"
       ]
      },
      {
       "output_type": "stream",
       "stream": "stderr",
       "text": [
        "WARNING:Cubic:The supplied pores are not coplanar. Length will be approximate.\n"
       ]
      },
      {
       "output_type": "stream",
       "stream": "stderr",
       "text": [
        "WARNING:Stokes:The inlet pores have too many neighbors. Internal pores appear to be selected.\n"
       ]
      },
      {
       "output_type": "stream",
       "stream": "stderr",
       "text": [
        "WARNING:Stokes:The outlet pores have too many neighbors. Internal pores appear to be selected.\n"
       ]
      },
      {
       "output_type": "stream",
       "stream": "stderr",
       "text": [
        "WARNING:Cubic:The supplied pores are not coplanar. Length will be approximate.\n"
       ]
      },
      {
       "output_type": "stream",
       "stream": "stderr",
       "text": [
        "WARNING:Fickian:The inlet pores have too many neighbors. Internal pores appear to be selected.\n"
       ]
      },
      {
       "output_type": "stream",
       "stream": "stderr",
       "text": [
        "WARNING:Fickian:The outlet pores have too many neighbors. Internal pores appear to be selected.\n"
       ]
      },
      {
       "output_type": "stream",
       "stream": "stderr",
       "text": [
        "WARNING:Cubic:The supplied pores are not coplanar. Length will be approximate.\n"
       ]
      },
      {
       "output_type": "stream",
       "stream": "stderr",
       "text": [
        "WARNING:Stokes_2:The inlet pores have too many neighbors. Internal pores appear to be selected.\n"
       ]
      },
      {
       "output_type": "stream",
       "stream": "stderr",
       "text": [
        "WARNING:Stokes_2:The outlet pores have too many neighbors. Internal pores appear to be selected.\n"
       ]
      },
      {
       "output_type": "stream",
       "stream": "stderr",
       "text": [
        "WARNING:Cubic:The supplied pores are not coplanar. Length will be approximate.\n"
       ]
      },
      {
       "output_type": "stream",
       "stream": "stderr",
       "text": [
        "WARNING:Fickian_2:The inlet pores have too many neighbors. Internal pores appear to be selected.\n"
       ]
      },
      {
       "output_type": "stream",
       "stream": "stderr",
       "text": [
        "WARNING:Fickian_2:The outlet pores have too many neighbors. Internal pores appear to be selected.\n"
       ]
      },
      {
       "output_type": "stream",
       "stream": "stderr",
       "text": [
        "WARNING:Cubic:The supplied pores are not coplanar. Length will be approximate.\n"
       ]
      },
      {
       "output_type": "stream",
       "stream": "stderr",
       "text": [
        "WARNING:Stokes:The inlet pores have too many neighbors. Internal pores appear to be selected.\n"
       ]
      },
      {
       "output_type": "stream",
       "stream": "stderr",
       "text": [
        "WARNING:Stokes:The outlet pores have too many neighbors. Internal pores appear to be selected.\n"
       ]
      },
      {
       "output_type": "stream",
       "stream": "stderr",
       "text": [
        "WARNING:Cubic:The supplied pores are not coplanar. Length will be approximate.\n"
       ]
      },
      {
       "output_type": "stream",
       "stream": "stderr",
       "text": [
        "WARNING:Fickian:The inlet pores have too many neighbors. Internal pores appear to be selected.\n"
       ]
      },
      {
       "output_type": "stream",
       "stream": "stderr",
       "text": [
        "WARNING:Fickian:The outlet pores have too many neighbors. Internal pores appear to be selected.\n"
       ]
      },
      {
       "output_type": "stream",
       "stream": "stderr",
       "text": [
        "WARNING:Cubic:The supplied pores are not coplanar. Length will be approximate.\n"
       ]
      },
      {
       "output_type": "stream",
       "stream": "stderr",
       "text": [
        "WARNING:Stokes_2:The inlet pores have too many neighbors. Internal pores appear to be selected.\n"
       ]
      },
      {
       "output_type": "stream",
       "stream": "stderr",
       "text": [
        "WARNING:Stokes_2:The outlet pores have too many neighbors. Internal pores appear to be selected.\n"
       ]
      },
      {
       "output_type": "stream",
       "stream": "stderr",
       "text": [
        "WARNING:Cubic:The supplied pores are not coplanar. Length will be approximate.\n"
       ]
      },
      {
       "output_type": "stream",
       "stream": "stderr",
       "text": [
        "WARNING:Fickian_2:The inlet pores have too many neighbors. Internal pores appear to be selected.\n"
       ]
      },
      {
       "output_type": "stream",
       "stream": "stderr",
       "text": [
        "WARNING:Fickian_2:The outlet pores have too many neighbors. Internal pores appear to be selected.\n"
       ]
      },
      {
       "output_type": "stream",
       "stream": "stderr",
       "text": [
        "WARNING:Cubic:The supplied pores are not coplanar. Length will be approximate.\n"
       ]
      },
      {
       "output_type": "stream",
       "stream": "stderr",
       "text": [
        "WARNING:Stokes:The inlet pores have too many neighbors. Internal pores appear to be selected.\n"
       ]
      },
      {
       "output_type": "stream",
       "stream": "stderr",
       "text": [
        "WARNING:Stokes:The outlet pores have too many neighbors. Internal pores appear to be selected.\n"
       ]
      },
      {
       "output_type": "stream",
       "stream": "stderr",
       "text": [
        "WARNING:Cubic:The supplied pores are not coplanar. Length will be approximate.\n"
       ]
      },
      {
       "output_type": "stream",
       "stream": "stderr",
       "text": [
        "WARNING:Fickian:The inlet pores have too many neighbors. Internal pores appear to be selected.\n"
       ]
      },
      {
       "output_type": "stream",
       "stream": "stderr",
       "text": [
        "WARNING:Fickian:The outlet pores have too many neighbors. Internal pores appear to be selected.\n"
       ]
      },
      {
       "output_type": "stream",
       "stream": "stderr",
       "text": [
        "WARNING:Cubic:The supplied pores are not coplanar. Length will be approximate.\n"
       ]
      },
      {
       "output_type": "stream",
       "stream": "stderr",
       "text": [
        "WARNING:Stokes_2:The inlet pores have too many neighbors. Internal pores appear to be selected.\n"
       ]
      },
      {
       "output_type": "stream",
       "stream": "stderr",
       "text": [
        "WARNING:Stokes_2:The outlet pores have too many neighbors. Internal pores appear to be selected.\n"
       ]
      },
      {
       "output_type": "stream",
       "stream": "stderr",
       "text": [
        "WARNING:Cubic:The supplied pores are not coplanar. Length will be approximate.\n"
       ]
      },
      {
       "output_type": "stream",
       "stream": "stderr",
       "text": [
        "WARNING:Fickian_2:The inlet pores have too many neighbors. Internal pores appear to be selected.\n"
       ]
      },
      {
       "output_type": "stream",
       "stream": "stderr",
       "text": [
        "WARNING:Fickian_2:The outlet pores have too many neighbors. Internal pores appear to be selected.\n"
       ]
      },
      {
       "output_type": "stream",
       "stream": "stderr",
       "text": [
        "WARNING:Cubic:The supplied pores are not coplanar. Length will be approximate.\n"
       ]
      },
      {
       "output_type": "stream",
       "stream": "stderr",
       "text": [
        "WARNING:Stokes:The inlet pores have too many neighbors. Internal pores appear to be selected.\n"
       ]
      },
      {
       "output_type": "stream",
       "stream": "stderr",
       "text": [
        "WARNING:Stokes:The outlet pores have too many neighbors. Internal pores appear to be selected.\n"
       ]
      },
      {
       "output_type": "stream",
       "stream": "stderr",
       "text": [
        "WARNING:Cubic:The supplied pores are not coplanar. Length will be approximate.\n"
       ]
      },
      {
       "output_type": "stream",
       "stream": "stderr",
       "text": [
        "WARNING:Fickian:The inlet pores have too many neighbors. Internal pores appear to be selected.\n"
       ]
      },
      {
       "output_type": "stream",
       "stream": "stderr",
       "text": [
        "WARNING:Fickian:The outlet pores have too many neighbors. Internal pores appear to be selected.\n"
       ]
      },
      {
       "output_type": "stream",
       "stream": "stderr",
       "text": [
        "WARNING:Cubic:The supplied pores are not coplanar. Length will be approximate.\n"
       ]
      },
      {
       "output_type": "stream",
       "stream": "stderr",
       "text": [
        "WARNING:Stokes_2:The inlet pores have too many neighbors. Internal pores appear to be selected.\n"
       ]
      },
      {
       "output_type": "stream",
       "stream": "stderr",
       "text": [
        "WARNING:Stokes_2:The outlet pores have too many neighbors. Internal pores appear to be selected.\n"
       ]
      },
      {
       "output_type": "stream",
       "stream": "stderr",
       "text": [
        "WARNING:Cubic:The supplied pores are not coplanar. Length will be approximate.\n"
       ]
      },
      {
       "output_type": "stream",
       "stream": "stderr",
       "text": [
        "WARNING:Fickian_2:The inlet pores have too many neighbors. Internal pores appear to be selected.\n"
       ]
      },
      {
       "output_type": "stream",
       "stream": "stderr",
       "text": [
        "WARNING:Fickian_2:The outlet pores have too many neighbors. Internal pores appear to be selected.\n"
       ]
      },
      {
       "output_type": "stream",
       "stream": "stderr",
       "text": [
        "WARNING:Cubic:The supplied pores are not coplanar. Length will be approximate.\n"
       ]
      },
      {
       "output_type": "stream",
       "stream": "stderr",
       "text": [
        "WARNING:Stokes:The inlet pores have too many neighbors. Internal pores appear to be selected.\n"
       ]
      },
      {
       "output_type": "stream",
       "stream": "stderr",
       "text": [
        "WARNING:Stokes:The outlet pores have too many neighbors. Internal pores appear to be selected.\n"
       ]
      },
      {
       "output_type": "stream",
       "stream": "stderr",
       "text": [
        "WARNING:Cubic:The supplied pores are not coplanar. Length will be approximate.\n"
       ]
      },
      {
       "output_type": "stream",
       "stream": "stderr",
       "text": [
        "WARNING:Fickian:The inlet pores have too many neighbors. Internal pores appear to be selected.\n"
       ]
      },
      {
       "output_type": "stream",
       "stream": "stderr",
       "text": [
        "WARNING:Fickian:The outlet pores have too many neighbors. Internal pores appear to be selected.\n"
       ]
      },
      {
       "output_type": "stream",
       "stream": "stderr",
       "text": [
        "WARNING:Cubic:The supplied pores are not coplanar. Length will be approximate.\n"
       ]
      },
      {
       "output_type": "stream",
       "stream": "stderr",
       "text": [
        "WARNING:Stokes_2:The inlet pores have too many neighbors. Internal pores appear to be selected.\n"
       ]
      },
      {
       "output_type": "stream",
       "stream": "stderr",
       "text": [
        "WARNING:Stokes_2:The outlet pores have too many neighbors. Internal pores appear to be selected.\n"
       ]
      },
      {
       "output_type": "stream",
       "stream": "stderr",
       "text": [
        "WARNING:Cubic:The supplied pores are not coplanar. Length will be approximate.\n"
       ]
      },
      {
       "output_type": "stream",
       "stream": "stderr",
       "text": [
        "WARNING:Fickian_2:The inlet pores have too many neighbors. Internal pores appear to be selected.\n"
       ]
      },
      {
       "output_type": "stream",
       "stream": "stderr",
       "text": [
        "WARNING:Fickian_2:The outlet pores have too many neighbors. Internal pores appear to be selected.\n"
       ]
      },
      {
       "output_type": "stream",
       "stream": "stderr",
       "text": [
        "WARNING:Cubic:The supplied pores are not coplanar. Length will be approximate.\n"
       ]
      },
      {
       "output_type": "stream",
       "stream": "stderr",
       "text": [
        "WARNING:Stokes:The inlet pores have too many neighbors. Internal pores appear to be selected.\n"
       ]
      },
      {
       "output_type": "stream",
       "stream": "stderr",
       "text": [
        "WARNING:Stokes:The outlet pores have too many neighbors. Internal pores appear to be selected.\n"
       ]
      },
      {
       "output_type": "stream",
       "stream": "stderr",
       "text": [
        "WARNING:Cubic:The supplied pores are not coplanar. Length will be approximate.\n"
       ]
      },
      {
       "output_type": "stream",
       "stream": "stderr",
       "text": [
        "WARNING:Fickian:The inlet pores have too many neighbors. Internal pores appear to be selected.\n"
       ]
      },
      {
       "output_type": "stream",
       "stream": "stderr",
       "text": [
        "WARNING:Fickian:The outlet pores have too many neighbors. Internal pores appear to be selected.\n"
       ]
      },
      {
       "output_type": "stream",
       "stream": "stderr",
       "text": [
        "WARNING:Cubic:The supplied pores are not coplanar. Length will be approximate.\n"
       ]
      },
      {
       "output_type": "stream",
       "stream": "stderr",
       "text": [
        "WARNING:Stokes_2:The inlet pores have too many neighbors. Internal pores appear to be selected.\n"
       ]
      },
      {
       "output_type": "stream",
       "stream": "stderr",
       "text": [
        "WARNING:Stokes_2:The outlet pores have too many neighbors. Internal pores appear to be selected.\n"
       ]
      },
      {
       "output_type": "stream",
       "stream": "stderr",
       "text": [
        "WARNING:Cubic:The supplied pores are not coplanar. Length will be approximate.\n"
       ]
      },
      {
       "output_type": "stream",
       "stream": "stderr",
       "text": [
        "WARNING:Fickian_2:The inlet pores have too many neighbors. Internal pores appear to be selected.\n"
       ]
      },
      {
       "output_type": "stream",
       "stream": "stderr",
       "text": [
        "WARNING:Fickian_2:The outlet pores have too many neighbors. Internal pores appear to be selected.\n"
       ]
      },
      {
       "output_type": "stream",
       "stream": "stderr",
       "text": [
        "WARNING:Cubic:The supplied pores are not coplanar. Length will be approximate.\n"
       ]
      },
      {
       "output_type": "stream",
       "stream": "stderr",
       "text": [
        "WARNING:Stokes:The inlet pores have too many neighbors. Internal pores appear to be selected.\n"
       ]
      },
      {
       "output_type": "stream",
       "stream": "stderr",
       "text": [
        "WARNING:Stokes:The outlet pores have too many neighbors. Internal pores appear to be selected.\n"
       ]
      },
      {
       "output_type": "stream",
       "stream": "stderr",
       "text": [
        "WARNING:Cubic:The supplied pores are not coplanar. Length will be approximate.\n"
       ]
      },
      {
       "output_type": "stream",
       "stream": "stderr",
       "text": [
        "WARNING:Fickian:The inlet pores have too many neighbors. Internal pores appear to be selected.\n"
       ]
      },
      {
       "output_type": "stream",
       "stream": "stderr",
       "text": [
        "WARNING:Fickian:The outlet pores have too many neighbors. Internal pores appear to be selected.\n"
       ]
      },
      {
       "output_type": "stream",
       "stream": "stderr",
       "text": [
        "WARNING:Cubic:The supplied pores are not coplanar. Length will be approximate.\n"
       ]
      },
      {
       "output_type": "stream",
       "stream": "stderr",
       "text": [
        "WARNING:Stokes_2:The inlet pores have too many neighbors. Internal pores appear to be selected.\n"
       ]
      },
      {
       "output_type": "stream",
       "stream": "stderr",
       "text": [
        "WARNING:Stokes_2:The outlet pores have too many neighbors. Internal pores appear to be selected.\n"
       ]
      },
      {
       "output_type": "stream",
       "stream": "stderr",
       "text": [
        "WARNING:Cubic:The supplied pores are not coplanar. Length will be approximate.\n"
       ]
      },
      {
       "output_type": "stream",
       "stream": "stderr",
       "text": [
        "WARNING:Fickian_2:The inlet pores have too many neighbors. Internal pores appear to be selected.\n"
       ]
      },
      {
       "output_type": "stream",
       "stream": "stderr",
       "text": [
        "WARNING:Fickian_2:The outlet pores have too many neighbors. Internal pores appear to be selected.\n"
       ]
      },
      {
       "output_type": "stream",
       "stream": "stderr",
       "text": [
        "WARNING:Cubic:The supplied pores are not coplanar. Length will be approximate.\n"
       ]
      },
      {
       "output_type": "stream",
       "stream": "stderr",
       "text": [
        "WARNING:Stokes:The inlet pores have too many neighbors. Internal pores appear to be selected.\n"
       ]
      },
      {
       "output_type": "stream",
       "stream": "stderr",
       "text": [
        "WARNING:Stokes:The outlet pores have too many neighbors. Internal pores appear to be selected.\n"
       ]
      },
      {
       "output_type": "stream",
       "stream": "stderr",
       "text": [
        "WARNING:Cubic:The supplied pores are not coplanar. Length will be approximate.\n"
       ]
      },
      {
       "output_type": "stream",
       "stream": "stderr",
       "text": [
        "WARNING:Fickian:The inlet pores have too many neighbors. Internal pores appear to be selected.\n"
       ]
      },
      {
       "output_type": "stream",
       "stream": "stderr",
       "text": [
        "WARNING:Fickian:The outlet pores have too many neighbors. Internal pores appear to be selected.\n"
       ]
      },
      {
       "output_type": "stream",
       "stream": "stderr",
       "text": [
        "WARNING:Cubic:The supplied pores are not coplanar. Length will be approximate.\n"
       ]
      },
      {
       "output_type": "stream",
       "stream": "stderr",
       "text": [
        "WARNING:Stokes_2:The inlet pores have too many neighbors. Internal pores appear to be selected.\n"
       ]
      },
      {
       "output_type": "stream",
       "stream": "stderr",
       "text": [
        "WARNING:Stokes_2:The outlet pores have too many neighbors. Internal pores appear to be selected.\n"
       ]
      },
      {
       "output_type": "stream",
       "stream": "stderr",
       "text": [
        "WARNING:Cubic:The supplied pores are not coplanar. Length will be approximate.\n"
       ]
      },
      {
       "output_type": "stream",
       "stream": "stderr",
       "text": [
        "WARNING:Fickian_2:The inlet pores have too many neighbors. Internal pores appear to be selected.\n"
       ]
      },
      {
       "output_type": "stream",
       "stream": "stderr",
       "text": [
        "WARNING:Fickian_2:The outlet pores have too many neighbors. Internal pores appear to be selected.\n"
       ]
      },
      {
       "output_type": "stream",
       "stream": "stderr",
       "text": [
        "WARNING:Cubic:The supplied pores are not coplanar. Length will be approximate.\n"
       ]
      },
      {
       "output_type": "stream",
       "stream": "stderr",
       "text": [
        "WARNING:Stokes:The inlet pores have too many neighbors. Internal pores appear to be selected.\n"
       ]
      },
      {
       "output_type": "stream",
       "stream": "stderr",
       "text": [
        "WARNING:Stokes:The outlet pores have too many neighbors. Internal pores appear to be selected.\n"
       ]
      },
      {
       "output_type": "stream",
       "stream": "stderr",
       "text": [
        "WARNING:Cubic:The supplied pores are not coplanar. Length will be approximate.\n"
       ]
      },
      {
       "output_type": "stream",
       "stream": "stderr",
       "text": [
        "WARNING:Fickian:The inlet pores have too many neighbors. Internal pores appear to be selected.\n"
       ]
      },
      {
       "output_type": "stream",
       "stream": "stderr",
       "text": [
        "WARNING:Fickian:The outlet pores have too many neighbors. Internal pores appear to be selected.\n"
       ]
      },
      {
       "output_type": "stream",
       "stream": "stderr",
       "text": [
        "WARNING:Cubic:The supplied pores are not coplanar. Length will be approximate.\n"
       ]
      },
      {
       "output_type": "stream",
       "stream": "stderr",
       "text": [
        "WARNING:Stokes_2:The inlet pores have too many neighbors. Internal pores appear to be selected.\n"
       ]
      },
      {
       "output_type": "stream",
       "stream": "stderr",
       "text": [
        "WARNING:Stokes_2:The outlet pores have too many neighbors. Internal pores appear to be selected.\n"
       ]
      },
      {
       "output_type": "stream",
       "stream": "stderr",
       "text": [
        "WARNING:Cubic:The supplied pores are not coplanar. Length will be approximate.\n"
       ]
      },
      {
       "output_type": "stream",
       "stream": "stderr",
       "text": [
        "WARNING:Fickian_2:The inlet pores have too many neighbors. Internal pores appear to be selected.\n"
       ]
      },
      {
       "output_type": "stream",
       "stream": "stderr",
       "text": [
        "WARNING:Fickian_2:The outlet pores have too many neighbors. Internal pores appear to be selected.\n"
       ]
      },
      {
       "output_type": "stream",
       "stream": "stderr",
       "text": [
        "WARNING:Cubic:The supplied pores are not coplanar. Length will be approximate.\n"
       ]
      },
      {
       "output_type": "stream",
       "stream": "stderr",
       "text": [
        "WARNING:Stokes:The inlet pores have too many neighbors. Internal pores appear to be selected.\n"
       ]
      },
      {
       "output_type": "stream",
       "stream": "stderr",
       "text": [
        "WARNING:Stokes:The outlet pores have too many neighbors. Internal pores appear to be selected.\n"
       ]
      },
      {
       "output_type": "stream",
       "stream": "stderr",
       "text": [
        "WARNING:Cubic:The supplied pores are not coplanar. Length will be approximate.\n"
       ]
      },
      {
       "output_type": "stream",
       "stream": "stderr",
       "text": [
        "WARNING:Fickian:The inlet pores have too many neighbors. Internal pores appear to be selected.\n"
       ]
      },
      {
       "output_type": "stream",
       "stream": "stderr",
       "text": [
        "WARNING:Fickian:The outlet pores have too many neighbors. Internal pores appear to be selected.\n"
       ]
      },
      {
       "output_type": "stream",
       "stream": "stderr",
       "text": [
        "WARNING:Cubic:The supplied pores are not coplanar. Length will be approximate.\n"
       ]
      },
      {
       "output_type": "stream",
       "stream": "stderr",
       "text": [
        "WARNING:Stokes_2:The inlet pores have too many neighbors. Internal pores appear to be selected.\n"
       ]
      },
      {
       "output_type": "stream",
       "stream": "stderr",
       "text": [
        "WARNING:Stokes_2:The outlet pores have too many neighbors. Internal pores appear to be selected.\n"
       ]
      },
      {
       "output_type": "stream",
       "stream": "stderr",
       "text": [
        "WARNING:Cubic:The supplied pores are not coplanar. Length will be approximate.\n"
       ]
      },
      {
       "output_type": "stream",
       "stream": "stderr",
       "text": [
        "WARNING:Fickian_2:The inlet pores have too many neighbors. Internal pores appear to be selected.\n"
       ]
      },
      {
       "output_type": "stream",
       "stream": "stderr",
       "text": [
        "WARNING:Fickian_2:The outlet pores have too many neighbors. Internal pores appear to be selected.\n"
       ]
      },
      {
       "output_type": "stream",
       "stream": "stderr",
       "text": [
        "WARNING:Cubic:The supplied pores are not coplanar. Length will be approximate.\n"
       ]
      },
      {
       "output_type": "stream",
       "stream": "stderr",
       "text": [
        "WARNING:Stokes:The inlet pores have too many neighbors. Internal pores appear to be selected.\n"
       ]
      },
      {
       "output_type": "stream",
       "stream": "stderr",
       "text": [
        "WARNING:Stokes:The outlet pores have too many neighbors. Internal pores appear to be selected.\n"
       ]
      },
      {
       "output_type": "stream",
       "stream": "stderr",
       "text": [
        "WARNING:Cubic:The supplied pores are not coplanar. Length will be approximate.\n"
       ]
      },
      {
       "output_type": "stream",
       "stream": "stderr",
       "text": [
        "WARNING:Fickian:The inlet pores have too many neighbors. Internal pores appear to be selected.\n"
       ]
      },
      {
       "output_type": "stream",
       "stream": "stderr",
       "text": [
        "WARNING:Fickian:The outlet pores have too many neighbors. Internal pores appear to be selected.\n"
       ]
      },
      {
       "output_type": "stream",
       "stream": "stderr",
       "text": [
        "WARNING:Cubic:The supplied pores are not coplanar. Length will be approximate.\n"
       ]
      },
      {
       "output_type": "stream",
       "stream": "stderr",
       "text": [
        "WARNING:Stokes_2:The inlet pores have too many neighbors. Internal pores appear to be selected.\n"
       ]
      },
      {
       "output_type": "stream",
       "stream": "stderr",
       "text": [
        "WARNING:Stokes_2:The outlet pores have too many neighbors. Internal pores appear to be selected.\n"
       ]
      },
      {
       "output_type": "stream",
       "stream": "stderr",
       "text": [
        "WARNING:Cubic:The supplied pores are not coplanar. Length will be approximate.\n"
       ]
      },
      {
       "output_type": "stream",
       "stream": "stderr",
       "text": [
        "WARNING:Fickian_2:The inlet pores have too many neighbors. Internal pores appear to be selected.\n"
       ]
      },
      {
       "output_type": "stream",
       "stream": "stderr",
       "text": [
        "WARNING:Fickian_2:The outlet pores have too many neighbors. Internal pores appear to be selected.\n"
       ]
      },
      {
       "output_type": "stream",
       "stream": "stderr",
       "text": [
        "WARNING:Cubic:The supplied pores are not coplanar. Length will be approximate.\n"
       ]
      },
      {
       "output_type": "stream",
       "stream": "stderr",
       "text": [
        "WARNING:Stokes:The inlet pores have too many neighbors. Internal pores appear to be selected.\n"
       ]
      },
      {
       "output_type": "stream",
       "stream": "stderr",
       "text": [
        "WARNING:Stokes:The outlet pores have too many neighbors. Internal pores appear to be selected.\n"
       ]
      },
      {
       "output_type": "stream",
       "stream": "stderr",
       "text": [
        "WARNING:Cubic:The supplied pores are not coplanar. Length will be approximate.\n"
       ]
      },
      {
       "output_type": "stream",
       "stream": "stderr",
       "text": [
        "WARNING:Fickian:The inlet pores have too many neighbors. Internal pores appear to be selected.\n"
       ]
      },
      {
       "output_type": "stream",
       "stream": "stderr",
       "text": [
        "WARNING:Fickian:The outlet pores have too many neighbors. Internal pores appear to be selected.\n"
       ]
      },
      {
       "output_type": "stream",
       "stream": "stderr",
       "text": [
        "WARNING:Cubic:The supplied pores are not coplanar. Length will be approximate.\n"
       ]
      },
      {
       "output_type": "stream",
       "stream": "stderr",
       "text": [
        "WARNING:Stokes_2:The inlet pores have too many neighbors. Internal pores appear to be selected.\n"
       ]
      },
      {
       "output_type": "stream",
       "stream": "stderr",
       "text": [
        "WARNING:Stokes_2:The outlet pores have too many neighbors. Internal pores appear to be selected.\n"
       ]
      },
      {
       "output_type": "stream",
       "stream": "stderr",
       "text": [
        "WARNING:Cubic:The supplied pores are not coplanar. Length will be approximate.\n"
       ]
      },
      {
       "output_type": "stream",
       "stream": "stderr",
       "text": [
        "WARNING:Fickian_2:The inlet pores have too many neighbors. Internal pores appear to be selected.\n"
       ]
      },
      {
       "output_type": "stream",
       "stream": "stderr",
       "text": [
        "WARNING:Fickian_2:The outlet pores have too many neighbors. Internal pores appear to be selected.\n"
       ]
      },
      {
       "output_type": "stream",
       "stream": "stderr",
       "text": [
        "WARNING:Cubic:The supplied pores are not coplanar. Length will be approximate.\n"
       ]
      },
      {
       "output_type": "stream",
       "stream": "stderr",
       "text": [
        "WARNING:Stokes:The inlet pores have too many neighbors. Internal pores appear to be selected.\n"
       ]
      },
      {
       "output_type": "stream",
       "stream": "stderr",
       "text": [
        "WARNING:Stokes:The outlet pores have too many neighbors. Internal pores appear to be selected.\n"
       ]
      },
      {
       "output_type": "stream",
       "stream": "stderr",
       "text": [
        "WARNING:Cubic:The supplied pores are not coplanar. Length will be approximate.\n"
       ]
      },
      {
       "output_type": "stream",
       "stream": "stderr",
       "text": [
        "WARNING:Fickian:The inlet pores have too many neighbors. Internal pores appear to be selected.\n"
       ]
      },
      {
       "output_type": "stream",
       "stream": "stderr",
       "text": [
        "WARNING:Fickian:The outlet pores have too many neighbors. Internal pores appear to be selected.\n"
       ]
      },
      {
       "output_type": "stream",
       "stream": "stderr",
       "text": [
        "WARNING:Cubic:The supplied pores are not coplanar. Length will be approximate.\n"
       ]
      },
      {
       "output_type": "stream",
       "stream": "stderr",
       "text": [
        "WARNING:Stokes_2:The inlet pores have too many neighbors. Internal pores appear to be selected.\n"
       ]
      },
      {
       "output_type": "stream",
       "stream": "stderr",
       "text": [
        "WARNING:Stokes_2:The outlet pores have too many neighbors. Internal pores appear to be selected.\n"
       ]
      },
      {
       "output_type": "stream",
       "stream": "stderr",
       "text": [
        "WARNING:Cubic:The supplied pores are not coplanar. Length will be approximate.\n"
       ]
      },
      {
       "output_type": "stream",
       "stream": "stderr",
       "text": [
        "WARNING:Fickian_2:The inlet pores have too many neighbors. Internal pores appear to be selected.\n"
       ]
      },
      {
       "output_type": "stream",
       "stream": "stderr",
       "text": [
        "WARNING:Fickian_2:The outlet pores have too many neighbors. Internal pores appear to be selected.\n"
       ]
      },
      {
       "output_type": "stream",
       "stream": "stderr",
       "text": [
        "WARNING:Cubic:The supplied pores are not coplanar. Length will be approximate.\n"
       ]
      },
      {
       "output_type": "stream",
       "stream": "stderr",
       "text": [
        "WARNING:Stokes:The inlet pores have too many neighbors. Internal pores appear to be selected.\n"
       ]
      },
      {
       "output_type": "stream",
       "stream": "stderr",
       "text": [
        "WARNING:Stokes:The outlet pores have too many neighbors. Internal pores appear to be selected.\n"
       ]
      },
      {
       "output_type": "stream",
       "stream": "stderr",
       "text": [
        "WARNING:Cubic:The supplied pores are not coplanar. Length will be approximate.\n"
       ]
      },
      {
       "output_type": "stream",
       "stream": "stderr",
       "text": [
        "WARNING:Fickian:The inlet pores have too many neighbors. Internal pores appear to be selected.\n"
       ]
      },
      {
       "output_type": "stream",
       "stream": "stderr",
       "text": [
        "WARNING:Fickian:The outlet pores have too many neighbors. Internal pores appear to be selected.\n"
       ]
      },
      {
       "output_type": "stream",
       "stream": "stderr",
       "text": [
        "WARNING:Cubic:The supplied pores are not coplanar. Length will be approximate.\n"
       ]
      },
      {
       "output_type": "stream",
       "stream": "stderr",
       "text": [
        "WARNING:Stokes_2:The inlet pores have too many neighbors. Internal pores appear to be selected.\n"
       ]
      },
      {
       "output_type": "stream",
       "stream": "stderr",
       "text": [
        "WARNING:Stokes_2:The outlet pores have too many neighbors. Internal pores appear to be selected.\n"
       ]
      },
      {
       "output_type": "stream",
       "stream": "stderr",
       "text": [
        "WARNING:Cubic:The supplied pores are not coplanar. Length will be approximate.\n"
       ]
      },
      {
       "output_type": "stream",
       "stream": "stderr",
       "text": [
        "WARNING:Fickian_2:The inlet pores have too many neighbors. Internal pores appear to be selected.\n"
       ]
      },
      {
       "output_type": "stream",
       "stream": "stderr",
       "text": [
        "WARNING:Fickian_2:The outlet pores have too many neighbors. Internal pores appear to be selected.\n"
       ]
      },
      {
       "output_type": "stream",
       "stream": "stderr",
       "text": [
        "WARNING:Cubic:The supplied pores are not coplanar. Length will be approximate.\n"
       ]
      },
      {
       "output_type": "stream",
       "stream": "stderr",
       "text": [
        "WARNING:Stokes:The inlet pores have too many neighbors. Internal pores appear to be selected.\n"
       ]
      },
      {
       "output_type": "stream",
       "stream": "stderr",
       "text": [
        "WARNING:Stokes:The outlet pores have too many neighbors. Internal pores appear to be selected.\n"
       ]
      },
      {
       "output_type": "stream",
       "stream": "stderr",
       "text": [
        "WARNING:Cubic:The supplied pores are not coplanar. Length will be approximate.\n"
       ]
      },
      {
       "output_type": "stream",
       "stream": "stderr",
       "text": [
        "WARNING:Fickian:The inlet pores have too many neighbors. Internal pores appear to be selected.\n"
       ]
      },
      {
       "output_type": "stream",
       "stream": "stderr",
       "text": [
        "WARNING:Fickian:The outlet pores have too many neighbors. Internal pores appear to be selected.\n"
       ]
      },
      {
       "output_type": "stream",
       "stream": "stderr",
       "text": [
        "WARNING:Cubic:The supplied pores are not coplanar. Length will be approximate.\n"
       ]
      },
      {
       "output_type": "stream",
       "stream": "stderr",
       "text": [
        "WARNING:Stokes_2:The inlet pores have too many neighbors. Internal pores appear to be selected.\n"
       ]
      },
      {
       "output_type": "stream",
       "stream": "stderr",
       "text": [
        "WARNING:Stokes_2:The outlet pores have too many neighbors. Internal pores appear to be selected.\n"
       ]
      },
      {
       "output_type": "stream",
       "stream": "stderr",
       "text": [
        "WARNING:Cubic:The supplied pores are not coplanar. Length will be approximate.\n"
       ]
      },
      {
       "output_type": "stream",
       "stream": "stderr",
       "text": [
        "WARNING:Fickian_2:The inlet pores have too many neighbors. Internal pores appear to be selected.\n"
       ]
      },
      {
       "output_type": "stream",
       "stream": "stderr",
       "text": [
        "WARNING:Fickian_2:The outlet pores have too many neighbors. Internal pores appear to be selected.\n"
       ]
      },
      {
       "output_type": "stream",
       "stream": "stderr",
       "text": [
        "WARNING:Cubic:The supplied pores are not coplanar. Length will be approximate.\n"
       ]
      },
      {
       "output_type": "stream",
       "stream": "stderr",
       "text": [
        "WARNING:Stokes:The inlet pores have too many neighbors. Internal pores appear to be selected.\n"
       ]
      },
      {
       "output_type": "stream",
       "stream": "stderr",
       "text": [
        "WARNING:Stokes:The outlet pores have too many neighbors. Internal pores appear to be selected.\n"
       ]
      },
      {
       "output_type": "stream",
       "stream": "stderr",
       "text": [
        "WARNING:Cubic:The supplied pores are not coplanar. Length will be approximate.\n"
       ]
      },
      {
       "output_type": "stream",
       "stream": "stderr",
       "text": [
        "WARNING:Fickian:The inlet pores have too many neighbors. Internal pores appear to be selected.\n"
       ]
      },
      {
       "output_type": "stream",
       "stream": "stderr",
       "text": [
        "WARNING:Fickian:The outlet pores have too many neighbors. Internal pores appear to be selected.\n"
       ]
      },
      {
       "output_type": "stream",
       "stream": "stderr",
       "text": [
        "WARNING:Cubic:The supplied pores are not coplanar. Length will be approximate.\n"
       ]
      },
      {
       "output_type": "stream",
       "stream": "stderr",
       "text": [
        "WARNING:Stokes_2:The inlet pores have too many neighbors. Internal pores appear to be selected.\n"
       ]
      },
      {
       "output_type": "stream",
       "stream": "stderr",
       "text": [
        "WARNING:Stokes_2:The outlet pores have too many neighbors. Internal pores appear to be selected.\n"
       ]
      },
      {
       "output_type": "stream",
       "stream": "stderr",
       "text": [
        "WARNING:Cubic:The supplied pores are not coplanar. Length will be approximate.\n"
       ]
      },
      {
       "output_type": "stream",
       "stream": "stderr",
       "text": [
        "WARNING:Fickian_2:The inlet pores have too many neighbors. Internal pores appear to be selected.\n"
       ]
      },
      {
       "output_type": "stream",
       "stream": "stderr",
       "text": [
        "WARNING:Fickian_2:The outlet pores have too many neighbors. Internal pores appear to be selected.\n"
       ]
      },
      {
       "output_type": "stream",
       "stream": "stderr",
       "text": [
        "WARNING:Cubic:The supplied pores are not coplanar. Length will be approximate.\n"
       ]
      },
      {
       "output_type": "stream",
       "stream": "stderr",
       "text": [
        "WARNING:Stokes:The inlet pores have too many neighbors. Internal pores appear to be selected.\n"
       ]
      },
      {
       "output_type": "stream",
       "stream": "stderr",
       "text": [
        "WARNING:Stokes:The outlet pores have too many neighbors. Internal pores appear to be selected.\n"
       ]
      },
      {
       "output_type": "stream",
       "stream": "stderr",
       "text": [
        "WARNING:Cubic:The supplied pores are not coplanar. Length will be approximate.\n"
       ]
      },
      {
       "output_type": "stream",
       "stream": "stderr",
       "text": [
        "WARNING:Fickian:The inlet pores have too many neighbors. Internal pores appear to be selected.\n"
       ]
      },
      {
       "output_type": "stream",
       "stream": "stderr",
       "text": [
        "WARNING:Fickian:The outlet pores have too many neighbors. Internal pores appear to be selected.\n"
       ]
      },
      {
       "output_type": "stream",
       "stream": "stderr",
       "text": [
        "WARNING:Cubic:The supplied pores are not coplanar. Length will be approximate.\n"
       ]
      },
      {
       "output_type": "stream",
       "stream": "stderr",
       "text": [
        "WARNING:Stokes_2:The inlet pores have too many neighbors. Internal pores appear to be selected.\n"
       ]
      },
      {
       "output_type": "stream",
       "stream": "stderr",
       "text": [
        "WARNING:Stokes_2:The outlet pores have too many neighbors. Internal pores appear to be selected.\n"
       ]
      },
      {
       "output_type": "stream",
       "stream": "stderr",
       "text": [
        "WARNING:Cubic:The supplied pores are not coplanar. Length will be approximate.\n"
       ]
      },
      {
       "output_type": "stream",
       "stream": "stderr",
       "text": [
        "WARNING:Fickian_2:The inlet pores have too many neighbors. Internal pores appear to be selected.\n"
       ]
      },
      {
       "output_type": "stream",
       "stream": "stderr",
       "text": [
        "WARNING:Fickian_2:The outlet pores have too many neighbors. Internal pores appear to be selected.\n"
       ]
      },
      {
       "output_type": "stream",
       "stream": "stderr",
       "text": [
        "WARNING:Cubic:The supplied pores are not coplanar. Length will be approximate.\n"
       ]
      },
      {
       "output_type": "stream",
       "stream": "stderr",
       "text": [
        "WARNING:Stokes:The inlet pores have too many neighbors. Internal pores appear to be selected.\n"
       ]
      },
      {
       "output_type": "stream",
       "stream": "stderr",
       "text": [
        "WARNING:Stokes:The outlet pores have too many neighbors. Internal pores appear to be selected.\n"
       ]
      },
      {
       "output_type": "stream",
       "stream": "stderr",
       "text": [
        "WARNING:Cubic:The supplied pores are not coplanar. Length will be approximate.\n"
       ]
      },
      {
       "output_type": "stream",
       "stream": "stderr",
       "text": [
        "WARNING:Fickian:The inlet pores have too many neighbors. Internal pores appear to be selected.\n"
       ]
      },
      {
       "output_type": "stream",
       "stream": "stderr",
       "text": [
        "WARNING:Fickian:The outlet pores have too many neighbors. Internal pores appear to be selected.\n"
       ]
      },
      {
       "output_type": "stream",
       "stream": "stderr",
       "text": [
        "WARNING:Cubic:The supplied pores are not coplanar. Length will be approximate.\n"
       ]
      },
      {
       "output_type": "stream",
       "stream": "stderr",
       "text": [
        "WARNING:Stokes_2:The inlet pores have too many neighbors. Internal pores appear to be selected.\n"
       ]
      },
      {
       "output_type": "stream",
       "stream": "stderr",
       "text": [
        "WARNING:Stokes_2:The outlet pores have too many neighbors. Internal pores appear to be selected.\n"
       ]
      },
      {
       "output_type": "stream",
       "stream": "stderr",
       "text": [
        "WARNING:Cubic:The supplied pores are not coplanar. Length will be approximate.\n"
       ]
      },
      {
       "output_type": "stream",
       "stream": "stderr",
       "text": [
        "WARNING:Fickian_2:The inlet pores have too many neighbors. Internal pores appear to be selected.\n"
       ]
      },
      {
       "output_type": "stream",
       "stream": "stderr",
       "text": [
        "WARNING:Fickian_2:The outlet pores have too many neighbors. Internal pores appear to be selected.\n"
       ]
      },
      {
       "output_type": "stream",
       "stream": "stderr",
       "text": [
        "WARNING:Cubic:The supplied pores are not coplanar. Length will be approximate.\n"
       ]
      },
      {
       "output_type": "stream",
       "stream": "stderr",
       "text": [
        "WARNING:Stokes:The inlet pores have too many neighbors. Internal pores appear to be selected.\n"
       ]
      },
      {
       "output_type": "stream",
       "stream": "stderr",
       "text": [
        "WARNING:Stokes:The outlet pores have too many neighbors. Internal pores appear to be selected.\n"
       ]
      },
      {
       "output_type": "stream",
       "stream": "stderr",
       "text": [
        "WARNING:Cubic:The supplied pores are not coplanar. Length will be approximate.\n"
       ]
      },
      {
       "output_type": "stream",
       "stream": "stderr",
       "text": [
        "WARNING:Fickian:The inlet pores have too many neighbors. Internal pores appear to be selected.\n"
       ]
      },
      {
       "output_type": "stream",
       "stream": "stderr",
       "text": [
        "WARNING:Fickian:The outlet pores have too many neighbors. Internal pores appear to be selected.\n"
       ]
      },
      {
       "output_type": "stream",
       "stream": "stderr",
       "text": [
        "WARNING:Cubic:The supplied pores are not coplanar. Length will be approximate.\n"
       ]
      },
      {
       "output_type": "stream",
       "stream": "stderr",
       "text": [
        "WARNING:Stokes_2:The inlet pores have too many neighbors. Internal pores appear to be selected.\n"
       ]
      },
      {
       "output_type": "stream",
       "stream": "stderr",
       "text": [
        "WARNING:Stokes_2:The outlet pores have too many neighbors. Internal pores appear to be selected.\n"
       ]
      },
      {
       "output_type": "stream",
       "stream": "stderr",
       "text": [
        "WARNING:Cubic:The supplied pores are not coplanar. Length will be approximate.\n"
       ]
      },
      {
       "output_type": "stream",
       "stream": "stderr",
       "text": [
        "WARNING:Fickian_2:The inlet pores have too many neighbors. Internal pores appear to be selected.\n"
       ]
      },
      {
       "output_type": "stream",
       "stream": "stderr",
       "text": [
        "WARNING:Fickian_2:The outlet pores have too many neighbors. Internal pores appear to be selected.\n"
       ]
      },
      {
       "output_type": "stream",
       "stream": "stderr",
       "text": [
        "WARNING:Cubic:The supplied pores are not coplanar. Length will be approximate.\n"
       ]
      },
      {
       "output_type": "stream",
       "stream": "stderr",
       "text": [
        "WARNING:Stokes:The inlet pores have too many neighbors. Internal pores appear to be selected.\n"
       ]
      },
      {
       "output_type": "stream",
       "stream": "stderr",
       "text": [
        "WARNING:Stokes:The outlet pores have too many neighbors. Internal pores appear to be selected.\n"
       ]
      },
      {
       "output_type": "stream",
       "stream": "stderr",
       "text": [
        "WARNING:Cubic:The supplied pores are not coplanar. Length will be approximate.\n"
       ]
      },
      {
       "output_type": "stream",
       "stream": "stderr",
       "text": [
        "WARNING:Fickian:The inlet pores have too many neighbors. Internal pores appear to be selected.\n"
       ]
      },
      {
       "output_type": "stream",
       "stream": "stderr",
       "text": [
        "WARNING:Fickian:The outlet pores have too many neighbors. Internal pores appear to be selected.\n"
       ]
      },
      {
       "output_type": "stream",
       "stream": "stderr",
       "text": [
        "WARNING:Cubic:The supplied pores are not coplanar. Length will be approximate.\n"
       ]
      },
      {
       "output_type": "stream",
       "stream": "stderr",
       "text": [
        "WARNING:Stokes_2:The inlet pores have too many neighbors. Internal pores appear to be selected.\n"
       ]
      },
      {
       "output_type": "stream",
       "stream": "stderr",
       "text": [
        "WARNING:Stokes_2:The outlet pores have too many neighbors. Internal pores appear to be selected.\n"
       ]
      },
      {
       "output_type": "stream",
       "stream": "stderr",
       "text": [
        "WARNING:Cubic:The supplied pores are not coplanar. Length will be approximate.\n"
       ]
      },
      {
       "output_type": "stream",
       "stream": "stderr",
       "text": [
        "WARNING:Fickian_2:The inlet pores have too many neighbors. Internal pores appear to be selected.\n"
       ]
      },
      {
       "output_type": "stream",
       "stream": "stderr",
       "text": [
        "WARNING:Fickian_2:The outlet pores have too many neighbors. Internal pores appear to be selected.\n"
       ]
      },
      {
       "output_type": "stream",
       "stream": "stderr",
       "text": [
        "WARNING:Cubic:The supplied pores are not coplanar. Length will be approximate.\n"
       ]
      },
      {
       "output_type": "stream",
       "stream": "stderr",
       "text": [
        "WARNING:Stokes:The inlet pores have too many neighbors. Internal pores appear to be selected.\n"
       ]
      },
      {
       "output_type": "stream",
       "stream": "stderr",
       "text": [
        "WARNING:Stokes:The outlet pores have too many neighbors. Internal pores appear to be selected.\n"
       ]
      },
      {
       "output_type": "stream",
       "stream": "stderr",
       "text": [
        "WARNING:Cubic:The supplied pores are not coplanar. Length will be approximate.\n"
       ]
      },
      {
       "output_type": "stream",
       "stream": "stderr",
       "text": [
        "WARNING:Fickian:The inlet pores have too many neighbors. Internal pores appear to be selected.\n"
       ]
      },
      {
       "output_type": "stream",
       "stream": "stderr",
       "text": [
        "WARNING:Fickian:The outlet pores have too many neighbors. Internal pores appear to be selected.\n"
       ]
      },
      {
       "output_type": "stream",
       "stream": "stderr",
       "text": [
        "WARNING:Cubic:The supplied pores are not coplanar. Length will be approximate.\n"
       ]
      },
      {
       "output_type": "stream",
       "stream": "stderr",
       "text": [
        "WARNING:Stokes_2:The inlet pores have too many neighbors. Internal pores appear to be selected.\n"
       ]
      },
      {
       "output_type": "stream",
       "stream": "stderr",
       "text": [
        "WARNING:Stokes_2:The outlet pores have too many neighbors. Internal pores appear to be selected.\n"
       ]
      },
      {
       "output_type": "stream",
       "stream": "stderr",
       "text": [
        "WARNING:Cubic:The supplied pores are not coplanar. Length will be approximate.\n"
       ]
      },
      {
       "output_type": "stream",
       "stream": "stderr",
       "text": [
        "WARNING:Fickian_2:The inlet pores have too many neighbors. Internal pores appear to be selected.\n"
       ]
      },
      {
       "output_type": "stream",
       "stream": "stderr",
       "text": [
        "WARNING:Fickian_2:The outlet pores have too many neighbors. Internal pores appear to be selected.\n"
       ]
      },
      {
       "output_type": "stream",
       "stream": "stderr",
       "text": [
        "WARNING:Cubic:The supplied pores are not coplanar. Length will be approximate.\n"
       ]
      },
      {
       "output_type": "stream",
       "stream": "stderr",
       "text": [
        "WARNING:Stokes:The inlet pores have too many neighbors. Internal pores appear to be selected.\n"
       ]
      },
      {
       "output_type": "stream",
       "stream": "stderr",
       "text": [
        "WARNING:Stokes:The outlet pores have too many neighbors. Internal pores appear to be selected.\n"
       ]
      },
      {
       "output_type": "stream",
       "stream": "stderr",
       "text": [
        "WARNING:Cubic:The supplied pores are not coplanar. Length will be approximate.\n"
       ]
      },
      {
       "output_type": "stream",
       "stream": "stderr",
       "text": [
        "WARNING:Fickian:The inlet pores have too many neighbors. Internal pores appear to be selected.\n"
       ]
      },
      {
       "output_type": "stream",
       "stream": "stderr",
       "text": [
        "WARNING:Fickian:The outlet pores have too many neighbors. Internal pores appear to be selected.\n"
       ]
      },
      {
       "output_type": "stream",
       "stream": "stderr",
       "text": [
        "WARNING:Cubic:The supplied pores are not coplanar. Length will be approximate.\n"
       ]
      },
      {
       "output_type": "stream",
       "stream": "stderr",
       "text": [
        "WARNING:Stokes_2:The inlet pores have too many neighbors. Internal pores appear to be selected.\n"
       ]
      },
      {
       "output_type": "stream",
       "stream": "stderr",
       "text": [
        "WARNING:Stokes_2:The outlet pores have too many neighbors. Internal pores appear to be selected.\n"
       ]
      },
      {
       "output_type": "stream",
       "stream": "stderr",
       "text": [
        "WARNING:Cubic:The supplied pores are not coplanar. Length will be approximate.\n"
       ]
      },
      {
       "output_type": "stream",
       "stream": "stderr",
       "text": [
        "WARNING:Fickian_2:The inlet pores have too many neighbors. Internal pores appear to be selected.\n"
       ]
      },
      {
       "output_type": "stream",
       "stream": "stderr",
       "text": [
        "WARNING:Fickian_2:The outlet pores have too many neighbors. Internal pores appear to be selected.\n"
       ]
      },
      {
       "output_type": "stream",
       "stream": "stderr",
       "text": [
        "WARNING:Cubic:The supplied pores are not coplanar. Length will be approximate.\n"
       ]
      },
      {
       "output_type": "stream",
       "stream": "stderr",
       "text": [
        "WARNING:Stokes:The inlet pores have too many neighbors. Internal pores appear to be selected.\n"
       ]
      },
      {
       "output_type": "stream",
       "stream": "stderr",
       "text": [
        "WARNING:Stokes:The outlet pores have too many neighbors. Internal pores appear to be selected.\n"
       ]
      },
      {
       "output_type": "stream",
       "stream": "stderr",
       "text": [
        "WARNING:Cubic:The supplied pores are not coplanar. Length will be approximate.\n"
       ]
      },
      {
       "output_type": "stream",
       "stream": "stderr",
       "text": [
        "WARNING:Fickian:The inlet pores have too many neighbors. Internal pores appear to be selected.\n"
       ]
      },
      {
       "output_type": "stream",
       "stream": "stderr",
       "text": [
        "WARNING:Fickian:The outlet pores have too many neighbors. Internal pores appear to be selected.\n"
       ]
      },
      {
       "output_type": "stream",
       "stream": "stderr",
       "text": [
        "WARNING:Cubic:The supplied pores are not coplanar. Length will be approximate.\n"
       ]
      },
      {
       "output_type": "stream",
       "stream": "stderr",
       "text": [
        "WARNING:Stokes_2:The inlet pores have too many neighbors. Internal pores appear to be selected.\n"
       ]
      },
      {
       "output_type": "stream",
       "stream": "stderr",
       "text": [
        "WARNING:Stokes_2:The outlet pores have too many neighbors. Internal pores appear to be selected.\n"
       ]
      },
      {
       "output_type": "stream",
       "stream": "stderr",
       "text": [
        "WARNING:Cubic:The supplied pores are not coplanar. Length will be approximate.\n"
       ]
      },
      {
       "output_type": "stream",
       "stream": "stderr",
       "text": [
        "WARNING:Fickian_2:The inlet pores have too many neighbors. Internal pores appear to be selected.\n"
       ]
      },
      {
       "output_type": "stream",
       "stream": "stderr",
       "text": [
        "WARNING:Fickian_2:The outlet pores have too many neighbors. Internal pores appear to be selected.\n"
       ]
      },
      {
       "output_type": "stream",
       "stream": "stderr",
       "text": [
        "WARNING:Cubic:The supplied pores are not coplanar. Length will be approximate.\n"
       ]
      },
      {
       "output_type": "stream",
       "stream": "stderr",
       "text": [
        "WARNING:Stokes:The inlet pores have too many neighbors. Internal pores appear to be selected.\n"
       ]
      },
      {
       "output_type": "stream",
       "stream": "stderr",
       "text": [
        "WARNING:Stokes:The outlet pores have too many neighbors. Internal pores appear to be selected.\n"
       ]
      },
      {
       "output_type": "stream",
       "stream": "stderr",
       "text": [
        "WARNING:Cubic:The supplied pores are not coplanar. Length will be approximate.\n"
       ]
      },
      {
       "output_type": "stream",
       "stream": "stderr",
       "text": [
        "WARNING:Fickian:The inlet pores have too many neighbors. Internal pores appear to be selected.\n"
       ]
      },
      {
       "output_type": "stream",
       "stream": "stderr",
       "text": [
        "WARNING:Fickian:The outlet pores have too many neighbors. Internal pores appear to be selected.\n"
       ]
      },
      {
       "output_type": "stream",
       "stream": "stderr",
       "text": [
        "WARNING:Cubic:The supplied pores are not coplanar. Length will be approximate.\n"
       ]
      },
      {
       "output_type": "stream",
       "stream": "stderr",
       "text": [
        "WARNING:Stokes_2:The inlet pores have too many neighbors. Internal pores appear to be selected.\n"
       ]
      },
      {
       "output_type": "stream",
       "stream": "stderr",
       "text": [
        "WARNING:Stokes_2:The outlet pores have too many neighbors. Internal pores appear to be selected.\n"
       ]
      },
      {
       "output_type": "stream",
       "stream": "stderr",
       "text": [
        "WARNING:Cubic:The supplied pores are not coplanar. Length will be approximate.\n"
       ]
      },
      {
       "output_type": "stream",
       "stream": "stderr",
       "text": [
        "WARNING:Fickian_2:The inlet pores have too many neighbors. Internal pores appear to be selected.\n"
       ]
      },
      {
       "output_type": "stream",
       "stream": "stderr",
       "text": [
        "WARNING:Fickian_2:The outlet pores have too many neighbors. Internal pores appear to be selected.\n"
       ]
      },
      {
       "output_type": "stream",
       "stream": "stderr",
       "text": [
        "WARNING:Cubic:The supplied pores are not coplanar. Length will be approximate.\n"
       ]
      },
      {
       "output_type": "stream",
       "stream": "stderr",
       "text": [
        "WARNING:Stokes:The inlet pores have too many neighbors. Internal pores appear to be selected.\n"
       ]
      },
      {
       "output_type": "stream",
       "stream": "stderr",
       "text": [
        "WARNING:Stokes:The outlet pores have too many neighbors. Internal pores appear to be selected.\n"
       ]
      },
      {
       "output_type": "stream",
       "stream": "stderr",
       "text": [
        "WARNING:Cubic:The supplied pores are not coplanar. Length will be approximate.\n"
       ]
      },
      {
       "output_type": "stream",
       "stream": "stderr",
       "text": [
        "WARNING:Fickian:The inlet pores have too many neighbors. Internal pores appear to be selected.\n"
       ]
      },
      {
       "output_type": "stream",
       "stream": "stderr",
       "text": [
        "WARNING:Fickian:The outlet pores have too many neighbors. Internal pores appear to be selected.\n"
       ]
      },
      {
       "output_type": "stream",
       "stream": "stderr",
       "text": [
        "WARNING:Cubic:The supplied pores are not coplanar. Length will be approximate.\n"
       ]
      },
      {
       "output_type": "stream",
       "stream": "stderr",
       "text": [
        "WARNING:Stokes_2:The inlet pores have too many neighbors. Internal pores appear to be selected.\n"
       ]
      },
      {
       "output_type": "stream",
       "stream": "stderr",
       "text": [
        "WARNING:Stokes_2:The outlet pores have too many neighbors. Internal pores appear to be selected.\n"
       ]
      },
      {
       "output_type": "stream",
       "stream": "stderr",
       "text": [
        "WARNING:Cubic:The supplied pores are not coplanar. Length will be approximate.\n"
       ]
      },
      {
       "output_type": "stream",
       "stream": "stderr",
       "text": [
        "WARNING:Fickian_2:The inlet pores have too many neighbors. Internal pores appear to be selected.\n"
       ]
      },
      {
       "output_type": "stream",
       "stream": "stderr",
       "text": [
        "WARNING:Fickian_2:The outlet pores have too many neighbors. Internal pores appear to be selected.\n"
       ]
      },
      {
       "output_type": "stream",
       "stream": "stderr",
       "text": [
        "WARNING:Cubic:The supplied pores are not coplanar. Length will be approximate.\n"
       ]
      },
      {
       "output_type": "stream",
       "stream": "stderr",
       "text": [
        "WARNING:Stokes:The inlet pores have too many neighbors. Internal pores appear to be selected.\n"
       ]
      },
      {
       "output_type": "stream",
       "stream": "stderr",
       "text": [
        "WARNING:Stokes:The outlet pores have too many neighbors. Internal pores appear to be selected.\n"
       ]
      },
      {
       "output_type": "stream",
       "stream": "stderr",
       "text": [
        "WARNING:Cubic:The supplied pores are not coplanar. Length will be approximate.\n"
       ]
      },
      {
       "output_type": "stream",
       "stream": "stderr",
       "text": [
        "WARNING:Fickian:The inlet pores have too many neighbors. Internal pores appear to be selected.\n"
       ]
      },
      {
       "output_type": "stream",
       "stream": "stderr",
       "text": [
        "WARNING:Fickian:The outlet pores have too many neighbors. Internal pores appear to be selected.\n"
       ]
      },
      {
       "output_type": "stream",
       "stream": "stderr",
       "text": [
        "WARNING:Cubic:The supplied pores are not coplanar. Length will be approximate.\n"
       ]
      },
      {
       "output_type": "stream",
       "stream": "stderr",
       "text": [
        "WARNING:Stokes_2:The inlet pores have too many neighbors. Internal pores appear to be selected.\n"
       ]
      },
      {
       "output_type": "stream",
       "stream": "stderr",
       "text": [
        "WARNING:Stokes_2:The outlet pores have too many neighbors. Internal pores appear to be selected.\n"
       ]
      },
      {
       "output_type": "stream",
       "stream": "stderr",
       "text": [
        "WARNING:Cubic:The supplied pores are not coplanar. Length will be approximate.\n"
       ]
      },
      {
       "output_type": "stream",
       "stream": "stderr",
       "text": [
        "WARNING:Fickian_2:The inlet pores have too many neighbors. Internal pores appear to be selected.\n"
       ]
      },
      {
       "output_type": "stream",
       "stream": "stderr",
       "text": [
        "WARNING:Fickian_2:The outlet pores have too many neighbors. Internal pores appear to be selected.\n"
       ]
      },
      {
       "output_type": "stream",
       "stream": "stderr",
       "text": [
        "WARNING:Cubic:The supplied pores are not coplanar. Length will be approximate.\n"
       ]
      },
      {
       "output_type": "stream",
       "stream": "stderr",
       "text": [
        "WARNING:Stokes:The inlet pores have too many neighbors. Internal pores appear to be selected.\n"
       ]
      },
      {
       "output_type": "stream",
       "stream": "stderr",
       "text": [
        "WARNING:Stokes:The outlet pores have too many neighbors. Internal pores appear to be selected.\n"
       ]
      },
      {
       "output_type": "stream",
       "stream": "stderr",
       "text": [
        "WARNING:Cubic:The supplied pores are not coplanar. Length will be approximate.\n"
       ]
      },
      {
       "output_type": "stream",
       "stream": "stderr",
       "text": [
        "WARNING:Fickian:The inlet pores have too many neighbors. Internal pores appear to be selected.\n"
       ]
      },
      {
       "output_type": "stream",
       "stream": "stderr",
       "text": [
        "WARNING:Fickian:The outlet pores have too many neighbors. Internal pores appear to be selected.\n"
       ]
      },
      {
       "output_type": "stream",
       "stream": "stderr",
       "text": [
        "WARNING:Cubic:The supplied pores are not coplanar. Length will be approximate.\n"
       ]
      },
      {
       "output_type": "stream",
       "stream": "stderr",
       "text": [
        "WARNING:Stokes_2:The inlet pores have too many neighbors. Internal pores appear to be selected.\n"
       ]
      },
      {
       "output_type": "stream",
       "stream": "stderr",
       "text": [
        "WARNING:Stokes_2:The outlet pores have too many neighbors. Internal pores appear to be selected.\n"
       ]
      },
      {
       "output_type": "stream",
       "stream": "stderr",
       "text": [
        "WARNING:Cubic:The supplied pores are not coplanar. Length will be approximate.\n"
       ]
      },
      {
       "output_type": "stream",
       "stream": "stderr",
       "text": [
        "WARNING:Fickian_2:The inlet pores have too many neighbors. Internal pores appear to be selected.\n"
       ]
      },
      {
       "output_type": "stream",
       "stream": "stderr",
       "text": [
        "WARNING:Fickian_2:The outlet pores have too many neighbors. Internal pores appear to be selected.\n"
       ]
      },
      {
       "output_type": "stream",
       "stream": "stderr",
       "text": [
        "WARNING:Cubic:The supplied pores are not coplanar. Length will be approximate.\n"
       ]
      },
      {
       "output_type": "stream",
       "stream": "stderr",
       "text": [
        "WARNING:Stokes:The inlet pores have too many neighbors. Internal pores appear to be selected.\n"
       ]
      },
      {
       "output_type": "stream",
       "stream": "stderr",
       "text": [
        "WARNING:Stokes:The outlet pores have too many neighbors. Internal pores appear to be selected.\n"
       ]
      },
      {
       "output_type": "stream",
       "stream": "stderr",
       "text": [
        "WARNING:Cubic:The supplied pores are not coplanar. Length will be approximate.\n"
       ]
      },
      {
       "output_type": "stream",
       "stream": "stderr",
       "text": [
        "WARNING:Fickian:The inlet pores have too many neighbors. Internal pores appear to be selected.\n"
       ]
      },
      {
       "output_type": "stream",
       "stream": "stderr",
       "text": [
        "WARNING:Fickian:The outlet pores have too many neighbors. Internal pores appear to be selected.\n"
       ]
      },
      {
       "output_type": "stream",
       "stream": "stderr",
       "text": [
        "WARNING:Cubic:The supplied pores are not coplanar. Length will be approximate.\n"
       ]
      },
      {
       "output_type": "stream",
       "stream": "stderr",
       "text": [
        "WARNING:Stokes_2:The inlet pores have too many neighbors. Internal pores appear to be selected.\n"
       ]
      },
      {
       "output_type": "stream",
       "stream": "stderr",
       "text": [
        "WARNING:Stokes_2:The outlet pores have too many neighbors. Internal pores appear to be selected.\n"
       ]
      },
      {
       "output_type": "stream",
       "stream": "stderr",
       "text": [
        "WARNING:Cubic:The supplied pores are not coplanar. Length will be approximate.\n"
       ]
      },
      {
       "output_type": "stream",
       "stream": "stderr",
       "text": [
        "WARNING:Fickian_2:The inlet pores have too many neighbors. Internal pores appear to be selected.\n"
       ]
      },
      {
       "output_type": "stream",
       "stream": "stderr",
       "text": [
        "WARNING:Fickian_2:The outlet pores have too many neighbors. Internal pores appear to be selected.\n"
       ]
      },
      {
       "output_type": "stream",
       "stream": "stderr",
       "text": [
        "WARNING:Cubic:The supplied pores are not coplanar. Length will be approximate.\n"
       ]
      },
      {
       "output_type": "stream",
       "stream": "stderr",
       "text": [
        "WARNING:Stokes:The inlet pores have too many neighbors. Internal pores appear to be selected.\n"
       ]
      },
      {
       "output_type": "stream",
       "stream": "stderr",
       "text": [
        "WARNING:Stokes:The outlet pores have too many neighbors. Internal pores appear to be selected.\n"
       ]
      },
      {
       "output_type": "stream",
       "stream": "stderr",
       "text": [
        "WARNING:Cubic:The supplied pores are not coplanar. Length will be approximate.\n"
       ]
      },
      {
       "output_type": "stream",
       "stream": "stderr",
       "text": [
        "WARNING:Fickian:The inlet pores have too many neighbors. Internal pores appear to be selected.\n"
       ]
      },
      {
       "output_type": "stream",
       "stream": "stderr",
       "text": [
        "WARNING:Fickian:The outlet pores have too many neighbors. Internal pores appear to be selected.\n"
       ]
      },
      {
       "output_type": "stream",
       "stream": "stderr",
       "text": [
        "WARNING:Cubic:The supplied pores are not coplanar. Length will be approximate.\n"
       ]
      },
      {
       "output_type": "stream",
       "stream": "stderr",
       "text": [
        "WARNING:Stokes_2:The inlet pores have too many neighbors. Internal pores appear to be selected.\n"
       ]
      },
      {
       "output_type": "stream",
       "stream": "stderr",
       "text": [
        "WARNING:Stokes_2:The outlet pores have too many neighbors. Internal pores appear to be selected.\n"
       ]
      },
      {
       "output_type": "stream",
       "stream": "stderr",
       "text": [
        "WARNING:Cubic:The supplied pores are not coplanar. Length will be approximate.\n"
       ]
      },
      {
       "output_type": "stream",
       "stream": "stderr",
       "text": [
        "WARNING:Fickian_2:The inlet pores have too many neighbors. Internal pores appear to be selected.\n"
       ]
      },
      {
       "output_type": "stream",
       "stream": "stderr",
       "text": [
        "WARNING:Fickian_2:The outlet pores have too many neighbors. Internal pores appear to be selected.\n"
       ]
      },
      {
       "output_type": "stream",
       "stream": "stderr",
       "text": [
        "WARNING:Cubic:The supplied pores are not coplanar. Length will be approximate.\n"
       ]
      },
      {
       "output_type": "stream",
       "stream": "stderr",
       "text": [
        "WARNING:Stokes:The inlet pores have too many neighbors. Internal pores appear to be selected.\n"
       ]
      },
      {
       "output_type": "stream",
       "stream": "stderr",
       "text": [
        "WARNING:Stokes:The outlet pores have too many neighbors. Internal pores appear to be selected.\n"
       ]
      },
      {
       "output_type": "stream",
       "stream": "stderr",
       "text": [
        "WARNING:Cubic:The supplied pores are not coplanar. Length will be approximate.\n"
       ]
      },
      {
       "output_type": "stream",
       "stream": "stderr",
       "text": [
        "WARNING:Fickian:The inlet pores have too many neighbors. Internal pores appear to be selected.\n"
       ]
      },
      {
       "output_type": "stream",
       "stream": "stderr",
       "text": [
        "WARNING:Fickian:The outlet pores have too many neighbors. Internal pores appear to be selected.\n"
       ]
      },
      {
       "output_type": "stream",
       "stream": "stderr",
       "text": [
        "WARNING:Cubic:The supplied pores are not coplanar. Length will be approximate.\n"
       ]
      },
      {
       "output_type": "stream",
       "stream": "stderr",
       "text": [
        "WARNING:Stokes_2:The inlet pores have too many neighbors. Internal pores appear to be selected.\n"
       ]
      },
      {
       "output_type": "stream",
       "stream": "stderr",
       "text": [
        "WARNING:Stokes_2:The outlet pores have too many neighbors. Internal pores appear to be selected.\n"
       ]
      },
      {
       "output_type": "stream",
       "stream": "stderr",
       "text": [
        "WARNING:Cubic:The supplied pores are not coplanar. Length will be approximate.\n"
       ]
      },
      {
       "output_type": "stream",
       "stream": "stderr",
       "text": [
        "WARNING:Fickian_2:The inlet pores have too many neighbors. Internal pores appear to be selected.\n"
       ]
      },
      {
       "output_type": "stream",
       "stream": "stderr",
       "text": [
        "WARNING:Fickian_2:The outlet pores have too many neighbors. Internal pores appear to be selected.\n"
       ]
      },
      {
       "output_type": "stream",
       "stream": "stderr",
       "text": [
        "WARNING:Cubic:The supplied pores are not coplanar. Length will be approximate.\n"
       ]
      },
      {
       "output_type": "stream",
       "stream": "stderr",
       "text": [
        "WARNING:Stokes:The inlet pores have too many neighbors. Internal pores appear to be selected.\n"
       ]
      },
      {
       "output_type": "stream",
       "stream": "stderr",
       "text": [
        "WARNING:Stokes:The outlet pores have too many neighbors. Internal pores appear to be selected.\n"
       ]
      },
      {
       "output_type": "stream",
       "stream": "stderr",
       "text": [
        "WARNING:Cubic:The supplied pores are not coplanar. Length will be approximate.\n"
       ]
      },
      {
       "output_type": "stream",
       "stream": "stderr",
       "text": [
        "WARNING:Fickian:The inlet pores have too many neighbors. Internal pores appear to be selected.\n"
       ]
      },
      {
       "output_type": "stream",
       "stream": "stderr",
       "text": [
        "WARNING:Fickian:The outlet pores have too many neighbors. Internal pores appear to be selected.\n"
       ]
      },
      {
       "output_type": "stream",
       "stream": "stderr",
       "text": [
        "WARNING:Cubic:The supplied pores are not coplanar. Length will be approximate.\n"
       ]
      },
      {
       "output_type": "stream",
       "stream": "stderr",
       "text": [
        "WARNING:Stokes_2:The inlet pores have too many neighbors. Internal pores appear to be selected.\n"
       ]
      },
      {
       "output_type": "stream",
       "stream": "stderr",
       "text": [
        "WARNING:Stokes_2:The outlet pores have too many neighbors. Internal pores appear to be selected.\n"
       ]
      },
      {
       "output_type": "stream",
       "stream": "stderr",
       "text": [
        "WARNING:Cubic:The supplied pores are not coplanar. Length will be approximate.\n"
       ]
      },
      {
       "output_type": "stream",
       "stream": "stderr",
       "text": [
        "WARNING:Fickian_2:The inlet pores have too many neighbors. Internal pores appear to be selected.\n"
       ]
      },
      {
       "output_type": "stream",
       "stream": "stderr",
       "text": [
        "WARNING:Fickian_2:The outlet pores have too many neighbors. Internal pores appear to be selected.\n"
       ]
      },
      {
       "output_type": "stream",
       "stream": "stderr",
       "text": [
        "WARNING:Cubic:The supplied pores are not coplanar. Length will be approximate.\n"
       ]
      },
      {
       "output_type": "stream",
       "stream": "stderr",
       "text": [
        "WARNING:Stokes:The inlet pores have too many neighbors. Internal pores appear to be selected.\n"
       ]
      },
      {
       "output_type": "stream",
       "stream": "stderr",
       "text": [
        "WARNING:Stokes:The outlet pores have too many neighbors. Internal pores appear to be selected.\n"
       ]
      },
      {
       "output_type": "stream",
       "stream": "stderr",
       "text": [
        "WARNING:Cubic:The supplied pores are not coplanar. Length will be approximate.\n"
       ]
      },
      {
       "output_type": "stream",
       "stream": "stderr",
       "text": [
        "WARNING:Fickian:The inlet pores have too many neighbors. Internal pores appear to be selected.\n"
       ]
      },
      {
       "output_type": "stream",
       "stream": "stderr",
       "text": [
        "WARNING:Fickian:The outlet pores have too many neighbors. Internal pores appear to be selected.\n"
       ]
      },
      {
       "output_type": "stream",
       "stream": "stderr",
       "text": [
        "WARNING:Cubic:The supplied pores are not coplanar. Length will be approximate.\n"
       ]
      },
      {
       "output_type": "stream",
       "stream": "stderr",
       "text": [
        "WARNING:Stokes_2:The inlet pores have too many neighbors. Internal pores appear to be selected.\n"
       ]
      },
      {
       "output_type": "stream",
       "stream": "stderr",
       "text": [
        "WARNING:Stokes_2:The outlet pores have too many neighbors. Internal pores appear to be selected.\n"
       ]
      },
      {
       "output_type": "stream",
       "stream": "stderr",
       "text": [
        "WARNING:Cubic:The supplied pores are not coplanar. Length will be approximate.\n"
       ]
      },
      {
       "output_type": "stream",
       "stream": "stderr",
       "text": [
        "WARNING:Fickian_2:The inlet pores have too many neighbors. Internal pores appear to be selected.\n"
       ]
      },
      {
       "output_type": "stream",
       "stream": "stderr",
       "text": [
        "WARNING:Fickian_2:The outlet pores have too many neighbors. Internal pores appear to be selected.\n"
       ]
      },
      {
       "output_type": "stream",
       "stream": "stderr",
       "text": [
        "WARNING:Cubic:The supplied pores are not coplanar. Length will be approximate.\n"
       ]
      },
      {
       "output_type": "stream",
       "stream": "stderr",
       "text": [
        "WARNING:Stokes:The inlet pores have too many neighbors. Internal pores appear to be selected.\n"
       ]
      },
      {
       "output_type": "stream",
       "stream": "stderr",
       "text": [
        "WARNING:Stokes:The outlet pores have too many neighbors. Internal pores appear to be selected.\n"
       ]
      },
      {
       "output_type": "stream",
       "stream": "stderr",
       "text": [
        "WARNING:Cubic:The supplied pores are not coplanar. Length will be approximate.\n"
       ]
      },
      {
       "output_type": "stream",
       "stream": "stderr",
       "text": [
        "WARNING:Fickian:The inlet pores have too many neighbors. Internal pores appear to be selected.\n"
       ]
      },
      {
       "output_type": "stream",
       "stream": "stderr",
       "text": [
        "WARNING:Fickian:The outlet pores have too many neighbors. Internal pores appear to be selected.\n"
       ]
      },
      {
       "output_type": "stream",
       "stream": "stderr",
       "text": [
        "WARNING:Cubic:The supplied pores are not coplanar. Length will be approximate.\n"
       ]
      },
      {
       "output_type": "stream",
       "stream": "stderr",
       "text": [
        "WARNING:Stokes_2:The inlet pores have too many neighbors. Internal pores appear to be selected.\n"
       ]
      },
      {
       "output_type": "stream",
       "stream": "stderr",
       "text": [
        "WARNING:Stokes_2:The outlet pores have too many neighbors. Internal pores appear to be selected.\n"
       ]
      },
      {
       "output_type": "stream",
       "stream": "stderr",
       "text": [
        "WARNING:Cubic:The supplied pores are not coplanar. Length will be approximate.\n"
       ]
      },
      {
       "output_type": "stream",
       "stream": "stderr",
       "text": [
        "WARNING:Fickian_2:The inlet pores have too many neighbors. Internal pores appear to be selected.\n"
       ]
      },
      {
       "output_type": "stream",
       "stream": "stderr",
       "text": [
        "WARNING:Fickian_2:The outlet pores have too many neighbors. Internal pores appear to be selected.\n"
       ]
      },
      {
       "output_type": "stream",
       "stream": "stderr",
       "text": [
        "WARNING:Cubic:The supplied pores are not coplanar. Length will be approximate.\n"
       ]
      },
      {
       "output_type": "stream",
       "stream": "stderr",
       "text": [
        "WARNING:Stokes:The inlet pores have too many neighbors. Internal pores appear to be selected.\n"
       ]
      },
      {
       "output_type": "stream",
       "stream": "stderr",
       "text": [
        "WARNING:Stokes:The outlet pores have too many neighbors. Internal pores appear to be selected.\n"
       ]
      },
      {
       "output_type": "stream",
       "stream": "stderr",
       "text": [
        "WARNING:Cubic:The supplied pores are not coplanar. Length will be approximate.\n"
       ]
      },
      {
       "output_type": "stream",
       "stream": "stderr",
       "text": [
        "WARNING:Fickian:The inlet pores have too many neighbors. Internal pores appear to be selected.\n"
       ]
      },
      {
       "output_type": "stream",
       "stream": "stderr",
       "text": [
        "WARNING:Fickian:The outlet pores have too many neighbors. Internal pores appear to be selected.\n"
       ]
      },
      {
       "output_type": "stream",
       "stream": "stderr",
       "text": [
        "WARNING:Cubic:The supplied pores are not coplanar. Length will be approximate.\n"
       ]
      },
      {
       "output_type": "stream",
       "stream": "stderr",
       "text": [
        "WARNING:Stokes_2:The inlet pores have too many neighbors. Internal pores appear to be selected.\n"
       ]
      },
      {
       "output_type": "stream",
       "stream": "stderr",
       "text": [
        "WARNING:Stokes_2:The outlet pores have too many neighbors. Internal pores appear to be selected.\n"
       ]
      },
      {
       "output_type": "stream",
       "stream": "stderr",
       "text": [
        "WARNING:Cubic:The supplied pores are not coplanar. Length will be approximate.\n"
       ]
      },
      {
       "output_type": "stream",
       "stream": "stderr",
       "text": [
        "WARNING:Fickian_2:The inlet pores have too many neighbors. Internal pores appear to be selected.\n"
       ]
      },
      {
       "output_type": "stream",
       "stream": "stderr",
       "text": [
        "WARNING:Fickian_2:The outlet pores have too many neighbors. Internal pores appear to be selected.\n"
       ]
      },
      {
       "output_type": "stream",
       "stream": "stderr",
       "text": [
        "WARNING:Cubic:The supplied pores are not coplanar. Length will be approximate.\n"
       ]
      },
      {
       "output_type": "stream",
       "stream": "stderr",
       "text": [
        "WARNING:Stokes:The inlet pores have too many neighbors. Internal pores appear to be selected.\n"
       ]
      },
      {
       "output_type": "stream",
       "stream": "stderr",
       "text": [
        "WARNING:Stokes:The outlet pores have too many neighbors. Internal pores appear to be selected.\n"
       ]
      },
      {
       "output_type": "stream",
       "stream": "stderr",
       "text": [
        "WARNING:Cubic:The supplied pores are not coplanar. Length will be approximate.\n"
       ]
      },
      {
       "output_type": "stream",
       "stream": "stderr",
       "text": [
        "WARNING:Fickian:The inlet pores have too many neighbors. Internal pores appear to be selected.\n"
       ]
      },
      {
       "output_type": "stream",
       "stream": "stderr",
       "text": [
        "WARNING:Fickian:The outlet pores have too many neighbors. Internal pores appear to be selected.\n"
       ]
      },
      {
       "output_type": "stream",
       "stream": "stderr",
       "text": [
        "WARNING:Cubic:The supplied pores are not coplanar. Length will be approximate.\n"
       ]
      },
      {
       "output_type": "stream",
       "stream": "stderr",
       "text": [
        "WARNING:Stokes_2:The inlet pores have too many neighbors. Internal pores appear to be selected.\n"
       ]
      },
      {
       "output_type": "stream",
       "stream": "stderr",
       "text": [
        "WARNING:Stokes_2:The outlet pores have too many neighbors. Internal pores appear to be selected.\n"
       ]
      },
      {
       "output_type": "stream",
       "stream": "stderr",
       "text": [
        "WARNING:Cubic:The supplied pores are not coplanar. Length will be approximate.\n"
       ]
      },
      {
       "output_type": "stream",
       "stream": "stderr",
       "text": [
        "WARNING:Fickian_2:The inlet pores have too many neighbors. Internal pores appear to be selected.\n"
       ]
      },
      {
       "output_type": "stream",
       "stream": "stderr",
       "text": [
        "WARNING:Fickian_2:The outlet pores have too many neighbors. Internal pores appear to be selected.\n"
       ]
      },
      {
       "output_type": "stream",
       "stream": "stderr",
       "text": [
        "WARNING:Cubic:The supplied pores are not coplanar. Length will be approximate.\n"
       ]
      },
      {
       "output_type": "stream",
       "stream": "stderr",
       "text": [
        "WARNING:Stokes:The inlet pores have too many neighbors. Internal pores appear to be selected.\n"
       ]
      },
      {
       "output_type": "stream",
       "stream": "stderr",
       "text": [
        "WARNING:Stokes:The outlet pores have too many neighbors. Internal pores appear to be selected.\n"
       ]
      },
      {
       "output_type": "stream",
       "stream": "stderr",
       "text": [
        "WARNING:Cubic:The supplied pores are not coplanar. Length will be approximate.\n"
       ]
      },
      {
       "output_type": "stream",
       "stream": "stderr",
       "text": [
        "WARNING:Fickian:The inlet pores have too many neighbors. Internal pores appear to be selected.\n"
       ]
      },
      {
       "output_type": "stream",
       "stream": "stderr",
       "text": [
        "WARNING:Fickian:The outlet pores have too many neighbors. Internal pores appear to be selected.\n"
       ]
      },
      {
       "output_type": "stream",
       "stream": "stderr",
       "text": [
        "WARNING:Cubic:The supplied pores are not coplanar. Length will be approximate.\n"
       ]
      },
      {
       "output_type": "stream",
       "stream": "stderr",
       "text": [
        "WARNING:Stokes_2:The inlet pores have too many neighbors. Internal pores appear to be selected.\n"
       ]
      },
      {
       "output_type": "stream",
       "stream": "stderr",
       "text": [
        "WARNING:Stokes_2:The outlet pores have too many neighbors. Internal pores appear to be selected.\n"
       ]
      },
      {
       "output_type": "stream",
       "stream": "stderr",
       "text": [
        "WARNING:Cubic:The supplied pores are not coplanar. Length will be approximate.\n"
       ]
      },
      {
       "output_type": "stream",
       "stream": "stderr",
       "text": [
        "WARNING:Fickian_2:The inlet pores have too many neighbors. Internal pores appear to be selected.\n"
       ]
      },
      {
       "output_type": "stream",
       "stream": "stderr",
       "text": [
        "WARNING:Fickian_2:The outlet pores have too many neighbors. Internal pores appear to be selected.\n"
       ]
      },
      {
       "output_type": "stream",
       "stream": "stderr",
       "text": [
        "WARNING:Cubic:The supplied pores are not coplanar. Length will be approximate.\n"
       ]
      },
      {
       "output_type": "stream",
       "stream": "stderr",
       "text": [
        "WARNING:Stokes:The inlet pores have too many neighbors. Internal pores appear to be selected.\n"
       ]
      },
      {
       "output_type": "stream",
       "stream": "stderr",
       "text": [
        "WARNING:Stokes:The outlet pores have too many neighbors. Internal pores appear to be selected.\n"
       ]
      },
      {
       "output_type": "stream",
       "stream": "stderr",
       "text": [
        "WARNING:Cubic:The supplied pores are not coplanar. Length will be approximate.\n"
       ]
      },
      {
       "output_type": "stream",
       "stream": "stderr",
       "text": [
        "WARNING:Fickian:The inlet pores have too many neighbors. Internal pores appear to be selected.\n"
       ]
      },
      {
       "output_type": "stream",
       "stream": "stderr",
       "text": [
        "WARNING:Fickian:The outlet pores have too many neighbors. Internal pores appear to be selected.\n"
       ]
      },
      {
       "output_type": "stream",
       "stream": "stderr",
       "text": [
        "WARNING:Cubic:The supplied pores are not coplanar. Length will be approximate.\n"
       ]
      },
      {
       "output_type": "stream",
       "stream": "stderr",
       "text": [
        "WARNING:Stokes_2:The inlet pores have too many neighbors. Internal pores appear to be selected.\n"
       ]
      },
      {
       "output_type": "stream",
       "stream": "stderr",
       "text": [
        "WARNING:Stokes_2:The outlet pores have too many neighbors. Internal pores appear to be selected.\n"
       ]
      },
      {
       "output_type": "stream",
       "stream": "stderr",
       "text": [
        "WARNING:Cubic:The supplied pores are not coplanar. Length will be approximate.\n"
       ]
      },
      {
       "output_type": "stream",
       "stream": "stderr",
       "text": [
        "WARNING:Fickian_2:The inlet pores have too many neighbors. Internal pores appear to be selected.\n"
       ]
      },
      {
       "output_type": "stream",
       "stream": "stderr",
       "text": [
        "WARNING:Fickian_2:The outlet pores have too many neighbors. Internal pores appear to be selected.\n"
       ]
      },
      {
       "output_type": "stream",
       "stream": "stderr",
       "text": [
        "WARNING:Cubic:The supplied pores are not coplanar. Length will be approximate.\n"
       ]
      },
      {
       "output_type": "stream",
       "stream": "stderr",
       "text": [
        "WARNING:Stokes:The inlet pores have too many neighbors. Internal pores appear to be selected.\n"
       ]
      },
      {
       "output_type": "stream",
       "stream": "stderr",
       "text": [
        "WARNING:Stokes:The outlet pores have too many neighbors. Internal pores appear to be selected.\n"
       ]
      },
      {
       "output_type": "stream",
       "stream": "stderr",
       "text": [
        "WARNING:Cubic:The supplied pores are not coplanar. Length will be approximate.\n"
       ]
      },
      {
       "output_type": "stream",
       "stream": "stderr",
       "text": [
        "WARNING:Fickian:The inlet pores have too many neighbors. Internal pores appear to be selected.\n"
       ]
      },
      {
       "output_type": "stream",
       "stream": "stderr",
       "text": [
        "WARNING:Fickian:The outlet pores have too many neighbors. Internal pores appear to be selected.\n"
       ]
      },
      {
       "output_type": "stream",
       "stream": "stderr",
       "text": [
        "WARNING:Cubic:The supplied pores are not coplanar. Length will be approximate.\n"
       ]
      },
      {
       "output_type": "stream",
       "stream": "stderr",
       "text": [
        "WARNING:Stokes_2:The inlet pores have too many neighbors. Internal pores appear to be selected.\n"
       ]
      },
      {
       "output_type": "stream",
       "stream": "stderr",
       "text": [
        "WARNING:Stokes_2:The outlet pores have too many neighbors. Internal pores appear to be selected.\n"
       ]
      },
      {
       "output_type": "stream",
       "stream": "stderr",
       "text": [
        "WARNING:Cubic:The supplied pores are not coplanar. Length will be approximate.\n"
       ]
      },
      {
       "output_type": "stream",
       "stream": "stderr",
       "text": [
        "WARNING:Fickian_2:The inlet pores have too many neighbors. Internal pores appear to be selected.\n"
       ]
      },
      {
       "output_type": "stream",
       "stream": "stderr",
       "text": [
        "WARNING:Fickian_2:The outlet pores have too many neighbors. Internal pores appear to be selected.\n"
       ]
      },
      {
       "output_type": "stream",
       "stream": "stderr",
       "text": [
        "WARNING:Cubic:The supplied pores are not coplanar. Length will be approximate.\n"
       ]
      },
      {
       "output_type": "stream",
       "stream": "stderr",
       "text": [
        "WARNING:Stokes:The inlet pores have too many neighbors. Internal pores appear to be selected.\n"
       ]
      },
      {
       "output_type": "stream",
       "stream": "stderr",
       "text": [
        "WARNING:Stokes:The outlet pores have too many neighbors. Internal pores appear to be selected.\n"
       ]
      },
      {
       "output_type": "stream",
       "stream": "stderr",
       "text": [
        "WARNING:Cubic:The supplied pores are not coplanar. Length will be approximate.\n"
       ]
      },
      {
       "output_type": "stream",
       "stream": "stderr",
       "text": [
        "WARNING:Fickian:The inlet pores have too many neighbors. Internal pores appear to be selected.\n"
       ]
      },
      {
       "output_type": "stream",
       "stream": "stderr",
       "text": [
        "WARNING:Fickian:The outlet pores have too many neighbors. Internal pores appear to be selected.\n"
       ]
      },
      {
       "output_type": "stream",
       "stream": "stderr",
       "text": [
        "WARNING:Cubic:The supplied pores are not coplanar. Length will be approximate.\n"
       ]
      },
      {
       "output_type": "stream",
       "stream": "stderr",
       "text": [
        "WARNING:Stokes_2:The inlet pores have too many neighbors. Internal pores appear to be selected.\n"
       ]
      },
      {
       "output_type": "stream",
       "stream": "stderr",
       "text": [
        "WARNING:Stokes_2:The outlet pores have too many neighbors. Internal pores appear to be selected.\n"
       ]
      },
      {
       "output_type": "stream",
       "stream": "stderr",
       "text": [
        "WARNING:Cubic:The supplied pores are not coplanar. Length will be approximate.\n"
       ]
      },
      {
       "output_type": "stream",
       "stream": "stderr",
       "text": [
        "WARNING:Fickian_2:The inlet pores have too many neighbors. Internal pores appear to be selected.\n"
       ]
      },
      {
       "output_type": "stream",
       "stream": "stderr",
       "text": [
        "WARNING:Fickian_2:The outlet pores have too many neighbors. Internal pores appear to be selected.\n"
       ]
      },
      {
       "output_type": "stream",
       "stream": "stderr",
       "text": [
        "WARNING:Cubic:The supplied pores are not coplanar. Length will be approximate.\n"
       ]
      },
      {
       "output_type": "stream",
       "stream": "stderr",
       "text": [
        "WARNING:Stokes:The inlet pores have too many neighbors. Internal pores appear to be selected.\n"
       ]
      },
      {
       "output_type": "stream",
       "stream": "stderr",
       "text": [
        "WARNING:Stokes:The outlet pores have too many neighbors. Internal pores appear to be selected.\n"
       ]
      },
      {
       "output_type": "stream",
       "stream": "stderr",
       "text": [
        "WARNING:Cubic:The supplied pores are not coplanar. Length will be approximate.\n"
       ]
      },
      {
       "output_type": "stream",
       "stream": "stderr",
       "text": [
        "WARNING:Fickian:The inlet pores have too many neighbors. Internal pores appear to be selected.\n"
       ]
      },
      {
       "output_type": "stream",
       "stream": "stderr",
       "text": [
        "WARNING:Fickian:The outlet pores have too many neighbors. Internal pores appear to be selected.\n"
       ]
      },
      {
       "output_type": "stream",
       "stream": "stderr",
       "text": [
        "WARNING:Cubic:The supplied pores are not coplanar. Length will be approximate.\n"
       ]
      },
      {
       "output_type": "stream",
       "stream": "stderr",
       "text": [
        "WARNING:Stokes_2:The inlet pores have too many neighbors. Internal pores appear to be selected.\n"
       ]
      },
      {
       "output_type": "stream",
       "stream": "stderr",
       "text": [
        "WARNING:Stokes_2:The outlet pores have too many neighbors. Internal pores appear to be selected.\n"
       ]
      },
      {
       "output_type": "stream",
       "stream": "stderr",
       "text": [
        "WARNING:Cubic:The supplied pores are not coplanar. Length will be approximate.\n"
       ]
      },
      {
       "output_type": "stream",
       "stream": "stderr",
       "text": [
        "WARNING:Fickian_2:The inlet pores have too many neighbors. Internal pores appear to be selected.\n"
       ]
      },
      {
       "output_type": "stream",
       "stream": "stderr",
       "text": [
        "WARNING:Fickian_2:The outlet pores have too many neighbors. Internal pores appear to be selected.\n"
       ]
      },
      {
       "output_type": "stream",
       "stream": "stderr",
       "text": [
        "WARNING:Cubic:The supplied pores are not coplanar. Length will be approximate.\n"
       ]
      },
      {
       "output_type": "stream",
       "stream": "stderr",
       "text": [
        "WARNING:Stokes:The inlet pores have too many neighbors. Internal pores appear to be selected.\n"
       ]
      },
      {
       "output_type": "stream",
       "stream": "stderr",
       "text": [
        "WARNING:Stokes:The outlet pores have too many neighbors. Internal pores appear to be selected.\n"
       ]
      },
      {
       "output_type": "stream",
       "stream": "stderr",
       "text": [
        "WARNING:Cubic:The supplied pores are not coplanar. Length will be approximate.\n"
       ]
      },
      {
       "output_type": "stream",
       "stream": "stderr",
       "text": [
        "WARNING:Fickian:The inlet pores have too many neighbors. Internal pores appear to be selected.\n"
       ]
      },
      {
       "output_type": "stream",
       "stream": "stderr",
       "text": [
        "WARNING:Fickian:The outlet pores have too many neighbors. Internal pores appear to be selected.\n"
       ]
      },
      {
       "output_type": "stream",
       "stream": "stderr",
       "text": [
        "WARNING:Cubic:The supplied pores are not coplanar. Length will be approximate.\n"
       ]
      },
      {
       "output_type": "stream",
       "stream": "stderr",
       "text": [
        "WARNING:Stokes_2:The inlet pores have too many neighbors. Internal pores appear to be selected.\n"
       ]
      },
      {
       "output_type": "stream",
       "stream": "stderr",
       "text": [
        "WARNING:Stokes_2:The outlet pores have too many neighbors. Internal pores appear to be selected.\n"
       ]
      },
      {
       "output_type": "stream",
       "stream": "stderr",
       "text": [
        "WARNING:Cubic:The supplied pores are not coplanar. Length will be approximate.\n"
       ]
      },
      {
       "output_type": "stream",
       "stream": "stderr",
       "text": [
        "WARNING:Fickian_2:The inlet pores have too many neighbors. Internal pores appear to be selected.\n"
       ]
      },
      {
       "output_type": "stream",
       "stream": "stderr",
       "text": [
        "WARNING:Fickian_2:The outlet pores have too many neighbors. Internal pores appear to be selected.\n"
       ]
      },
      {
       "output_type": "stream",
       "stream": "stderr",
       "text": [
        "WARNING:Cubic:The supplied pores are not coplanar. Length will be approximate.\n"
       ]
      },
      {
       "output_type": "stream",
       "stream": "stderr",
       "text": [
        "WARNING:Stokes:The inlet pores have too many neighbors. Internal pores appear to be selected.\n"
       ]
      },
      {
       "output_type": "stream",
       "stream": "stderr",
       "text": [
        "WARNING:Stokes:The outlet pores have too many neighbors. Internal pores appear to be selected.\n"
       ]
      },
      {
       "output_type": "stream",
       "stream": "stderr",
       "text": [
        "WARNING:Cubic:The supplied pores are not coplanar. Length will be approximate.\n"
       ]
      },
      {
       "output_type": "stream",
       "stream": "stderr",
       "text": [
        "WARNING:Fickian:The inlet pores have too many neighbors. Internal pores appear to be selected.\n"
       ]
      },
      {
       "output_type": "stream",
       "stream": "stderr",
       "text": [
        "WARNING:Fickian:The outlet pores have too many neighbors. Internal pores appear to be selected.\n"
       ]
      },
      {
       "output_type": "stream",
       "stream": "stderr",
       "text": [
        "WARNING:Cubic:The supplied pores are not coplanar. Length will be approximate.\n"
       ]
      },
      {
       "output_type": "stream",
       "stream": "stderr",
       "text": [
        "WARNING:Stokes_2:The inlet pores have too many neighbors. Internal pores appear to be selected.\n"
       ]
      },
      {
       "output_type": "stream",
       "stream": "stderr",
       "text": [
        "WARNING:Stokes_2:The outlet pores have too many neighbors. Internal pores appear to be selected.\n"
       ]
      },
      {
       "output_type": "stream",
       "stream": "stderr",
       "text": [
        "WARNING:Cubic:The supplied pores are not coplanar. Length will be approximate.\n"
       ]
      },
      {
       "output_type": "stream",
       "stream": "stderr",
       "text": [
        "WARNING:Fickian_2:The inlet pores have too many neighbors. Internal pores appear to be selected.\n"
       ]
      },
      {
       "output_type": "stream",
       "stream": "stderr",
       "text": [
        "WARNING:Fickian_2:The outlet pores have too many neighbors. Internal pores appear to be selected.\n"
       ]
      },
      {
       "output_type": "stream",
       "stream": "stderr",
       "text": [
        "WARNING:Cubic:The supplied pores are not coplanar. Length will be approximate.\n"
       ]
      },
      {
       "output_type": "stream",
       "stream": "stderr",
       "text": [
        "WARNING:Stokes:The inlet pores have too many neighbors. Internal pores appear to be selected.\n"
       ]
      },
      {
       "output_type": "stream",
       "stream": "stderr",
       "text": [
        "WARNING:Stokes:The outlet pores have too many neighbors. Internal pores appear to be selected.\n"
       ]
      },
      {
       "output_type": "stream",
       "stream": "stderr",
       "text": [
        "WARNING:Cubic:The supplied pores are not coplanar. Length will be approximate.\n"
       ]
      },
      {
       "output_type": "stream",
       "stream": "stderr",
       "text": [
        "WARNING:Fickian:The inlet pores have too many neighbors. Internal pores appear to be selected.\n"
       ]
      },
      {
       "output_type": "stream",
       "stream": "stderr",
       "text": [
        "WARNING:Fickian:The outlet pores have too many neighbors. Internal pores appear to be selected.\n"
       ]
      },
      {
       "output_type": "stream",
       "stream": "stderr",
       "text": [
        "WARNING:Cubic:The supplied pores are not coplanar. Length will be approximate.\n"
       ]
      },
      {
       "output_type": "stream",
       "stream": "stderr",
       "text": [
        "WARNING:Stokes_2:The inlet pores have too many neighbors. Internal pores appear to be selected.\n"
       ]
      },
      {
       "output_type": "stream",
       "stream": "stderr",
       "text": [
        "WARNING:Stokes_2:The outlet pores have too many neighbors. Internal pores appear to be selected.\n"
       ]
      },
      {
       "output_type": "stream",
       "stream": "stderr",
       "text": [
        "WARNING:Cubic:The supplied pores are not coplanar. Length will be approximate.\n"
       ]
      },
      {
       "output_type": "stream",
       "stream": "stderr",
       "text": [
        "WARNING:Fickian_2:The inlet pores have too many neighbors. Internal pores appear to be selected.\n"
       ]
      },
      {
       "output_type": "stream",
       "stream": "stderr",
       "text": [
        "WARNING:Fickian_2:The outlet pores have too many neighbors. Internal pores appear to be selected.\n"
       ]
      },
      {
       "output_type": "stream",
       "stream": "stderr",
       "text": [
        "WARNING:Cubic:The supplied pores are not coplanar. Length will be approximate.\n"
       ]
      },
      {
       "output_type": "stream",
       "stream": "stderr",
       "text": [
        "WARNING:Stokes:The inlet pores have too many neighbors. Internal pores appear to be selected.\n"
       ]
      },
      {
       "output_type": "stream",
       "stream": "stderr",
       "text": [
        "WARNING:Stokes:The outlet pores have too many neighbors. Internal pores appear to be selected.\n"
       ]
      },
      {
       "output_type": "stream",
       "stream": "stderr",
       "text": [
        "WARNING:Cubic:The supplied pores are not coplanar. Length will be approximate.\n"
       ]
      },
      {
       "output_type": "stream",
       "stream": "stderr",
       "text": [
        "WARNING:Fickian:The inlet pores have too many neighbors. Internal pores appear to be selected.\n"
       ]
      },
      {
       "output_type": "stream",
       "stream": "stderr",
       "text": [
        "WARNING:Fickian:The outlet pores have too many neighbors. Internal pores appear to be selected.\n"
       ]
      },
      {
       "output_type": "stream",
       "stream": "stderr",
       "text": [
        "WARNING:Cubic:The supplied pores are not coplanar. Length will be approximate.\n"
       ]
      },
      {
       "output_type": "stream",
       "stream": "stderr",
       "text": [
        "WARNING:Stokes_2:The inlet pores have too many neighbors. Internal pores appear to be selected.\n"
       ]
      },
      {
       "output_type": "stream",
       "stream": "stderr",
       "text": [
        "WARNING:Stokes_2:The outlet pores have too many neighbors. Internal pores appear to be selected.\n"
       ]
      },
      {
       "output_type": "stream",
       "stream": "stderr",
       "text": [
        "WARNING:Cubic:The supplied pores are not coplanar. Length will be approximate.\n"
       ]
      },
      {
       "output_type": "stream",
       "stream": "stderr",
       "text": [
        "WARNING:Fickian_2:The inlet pores have too many neighbors. Internal pores appear to be selected.\n"
       ]
      },
      {
       "output_type": "stream",
       "stream": "stderr",
       "text": [
        "WARNING:Fickian_2:The outlet pores have too many neighbors. Internal pores appear to be selected.\n"
       ]
      },
      {
       "output_type": "stream",
       "stream": "stderr",
       "text": [
        "WARNING:Cubic:The supplied pores are not coplanar. Length will be approximate.\n"
       ]
      },
      {
       "output_type": "stream",
       "stream": "stderr",
       "text": [
        "WARNING:Stokes:The inlet pores have too many neighbors. Internal pores appear to be selected.\n"
       ]
      },
      {
       "output_type": "stream",
       "stream": "stderr",
       "text": [
        "WARNING:Stokes:The outlet pores have too many neighbors. Internal pores appear to be selected.\n"
       ]
      },
      {
       "output_type": "stream",
       "stream": "stderr",
       "text": [
        "WARNING:Cubic:The supplied pores are not coplanar. Length will be approximate.\n"
       ]
      },
      {
       "output_type": "stream",
       "stream": "stderr",
       "text": [
        "WARNING:Fickian:The inlet pores have too many neighbors. Internal pores appear to be selected.\n"
       ]
      },
      {
       "output_type": "stream",
       "stream": "stderr",
       "text": [
        "WARNING:Fickian:The outlet pores have too many neighbors. Internal pores appear to be selected.\n"
       ]
      },
      {
       "output_type": "stream",
       "stream": "stderr",
       "text": [
        "WARNING:Cubic:The supplied pores are not coplanar. Length will be approximate.\n"
       ]
      },
      {
       "output_type": "stream",
       "stream": "stderr",
       "text": [
        "WARNING:Stokes_2:The inlet pores have too many neighbors. Internal pores appear to be selected.\n"
       ]
      },
      {
       "output_type": "stream",
       "stream": "stderr",
       "text": [
        "WARNING:Stokes_2:The outlet pores have too many neighbors. Internal pores appear to be selected.\n"
       ]
      },
      {
       "output_type": "stream",
       "stream": "stderr",
       "text": [
        "WARNING:Cubic:The supplied pores are not coplanar. Length will be approximate.\n"
       ]
      },
      {
       "output_type": "stream",
       "stream": "stderr",
       "text": [
        "WARNING:Fickian_2:The inlet pores have too many neighbors. Internal pores appear to be selected.\n"
       ]
      },
      {
       "output_type": "stream",
       "stream": "stderr",
       "text": [
        "WARNING:Fickian_2:The outlet pores have too many neighbors. Internal pores appear to be selected.\n"
       ]
      },
      {
       "output_type": "stream",
       "stream": "stderr",
       "text": [
        "WARNING:Cubic:The supplied pores are not coplanar. Length will be approximate.\n"
       ]
      },
      {
       "output_type": "stream",
       "stream": "stderr",
       "text": [
        "WARNING:Stokes:The inlet pores have too many neighbors. Internal pores appear to be selected.\n"
       ]
      },
      {
       "output_type": "stream",
       "stream": "stderr",
       "text": [
        "WARNING:Stokes:The outlet pores have too many neighbors. Internal pores appear to be selected.\n"
       ]
      },
      {
       "output_type": "stream",
       "stream": "stderr",
       "text": [
        "WARNING:Cubic:The supplied pores are not coplanar. Length will be approximate.\n"
       ]
      },
      {
       "output_type": "stream",
       "stream": "stderr",
       "text": [
        "WARNING:Fickian:The inlet pores have too many neighbors. Internal pores appear to be selected.\n"
       ]
      },
      {
       "output_type": "stream",
       "stream": "stderr",
       "text": [
        "WARNING:Fickian:The outlet pores have too many neighbors. Internal pores appear to be selected.\n"
       ]
      },
      {
       "output_type": "stream",
       "stream": "stderr",
       "text": [
        "WARNING:Cubic:The supplied pores are not coplanar. Length will be approximate.\n"
       ]
      },
      {
       "output_type": "stream",
       "stream": "stderr",
       "text": [
        "WARNING:Stokes_2:The inlet pores have too many neighbors. Internal pores appear to be selected.\n"
       ]
      },
      {
       "output_type": "stream",
       "stream": "stderr",
       "text": [
        "WARNING:Stokes_2:The outlet pores have too many neighbors. Internal pores appear to be selected.\n"
       ]
      },
      {
       "output_type": "stream",
       "stream": "stderr",
       "text": [
        "WARNING:Cubic:The supplied pores are not coplanar. Length will be approximate.\n"
       ]
      },
      {
       "output_type": "stream",
       "stream": "stderr",
       "text": [
        "WARNING:Fickian_2:The inlet pores have too many neighbors. Internal pores appear to be selected.\n"
       ]
      },
      {
       "output_type": "stream",
       "stream": "stderr",
       "text": [
        "WARNING:Fickian_2:The outlet pores have too many neighbors. Internal pores appear to be selected.\n"
       ]
      },
      {
       "output_type": "stream",
       "stream": "stderr",
       "text": [
        "WARNING:Cubic:The supplied pores are not coplanar. Length will be approximate.\n"
       ]
      },
      {
       "output_type": "stream",
       "stream": "stderr",
       "text": [
        "WARNING:Stokes:The inlet pores have too many neighbors. Internal pores appear to be selected.\n"
       ]
      },
      {
       "output_type": "stream",
       "stream": "stderr",
       "text": [
        "WARNING:Stokes:The outlet pores have too many neighbors. Internal pores appear to be selected.\n"
       ]
      },
      {
       "output_type": "stream",
       "stream": "stderr",
       "text": [
        "WARNING:Cubic:The supplied pores are not coplanar. Length will be approximate.\n"
       ]
      },
      {
       "output_type": "stream",
       "stream": "stderr",
       "text": [
        "WARNING:Fickian:The inlet pores have too many neighbors. Internal pores appear to be selected.\n"
       ]
      },
      {
       "output_type": "stream",
       "stream": "stderr",
       "text": [
        "WARNING:Fickian:The outlet pores have too many neighbors. Internal pores appear to be selected.\n"
       ]
      },
      {
       "output_type": "stream",
       "stream": "stderr",
       "text": [
        "WARNING:Cubic:The supplied pores are not coplanar. Length will be approximate.\n"
       ]
      },
      {
       "output_type": "stream",
       "stream": "stderr",
       "text": [
        "WARNING:Stokes_2:The inlet pores have too many neighbors. Internal pores appear to be selected.\n"
       ]
      },
      {
       "output_type": "stream",
       "stream": "stderr",
       "text": [
        "WARNING:Stokes_2:The outlet pores have too many neighbors. Internal pores appear to be selected.\n"
       ]
      },
      {
       "output_type": "stream",
       "stream": "stderr",
       "text": [
        "WARNING:Cubic:The supplied pores are not coplanar. Length will be approximate.\n"
       ]
      },
      {
       "output_type": "stream",
       "stream": "stderr",
       "text": [
        "WARNING:Fickian_2:The inlet pores have too many neighbors. Internal pores appear to be selected.\n"
       ]
      },
      {
       "output_type": "stream",
       "stream": "stderr",
       "text": [
        "WARNING:Fickian_2:The outlet pores have too many neighbors. Internal pores appear to be selected.\n"
       ]
      },
      {
       "output_type": "stream",
       "stream": "stderr",
       "text": [
        "WARNING:Cubic:The supplied pores are not coplanar. Length will be approximate.\n"
       ]
      },
      {
       "output_type": "stream",
       "stream": "stderr",
       "text": [
        "WARNING:Stokes:The inlet pores have too many neighbors. Internal pores appear to be selected.\n"
       ]
      },
      {
       "output_type": "stream",
       "stream": "stderr",
       "text": [
        "WARNING:Stokes:The outlet pores have too many neighbors. Internal pores appear to be selected.\n"
       ]
      },
      {
       "output_type": "stream",
       "stream": "stderr",
       "text": [
        "WARNING:Cubic:The supplied pores are not coplanar. Length will be approximate.\n"
       ]
      },
      {
       "output_type": "stream",
       "stream": "stderr",
       "text": [
        "WARNING:Fickian:The inlet pores have too many neighbors. Internal pores appear to be selected.\n"
       ]
      },
      {
       "output_type": "stream",
       "stream": "stderr",
       "text": [
        "WARNING:Fickian:The outlet pores have too many neighbors. Internal pores appear to be selected.\n"
       ]
      },
      {
       "output_type": "stream",
       "stream": "stderr",
       "text": [
        "WARNING:Cubic:The supplied pores are not coplanar. Length will be approximate.\n"
       ]
      },
      {
       "output_type": "stream",
       "stream": "stderr",
       "text": [
        "WARNING:Stokes_2:The inlet pores have too many neighbors. Internal pores appear to be selected.\n"
       ]
      },
      {
       "output_type": "stream",
       "stream": "stderr",
       "text": [
        "WARNING:Stokes_2:The outlet pores have too many neighbors. Internal pores appear to be selected.\n"
       ]
      },
      {
       "output_type": "stream",
       "stream": "stderr",
       "text": [
        "WARNING:Cubic:The supplied pores are not coplanar. Length will be approximate.\n"
       ]
      },
      {
       "output_type": "stream",
       "stream": "stderr",
       "text": [
        "WARNING:Fickian_2:The inlet pores have too many neighbors. Internal pores appear to be selected.\n"
       ]
      },
      {
       "output_type": "stream",
       "stream": "stderr",
       "text": [
        "WARNING:Fickian_2:The outlet pores have too many neighbors. Internal pores appear to be selected.\n"
       ]
      },
      {
       "output_type": "stream",
       "stream": "stderr",
       "text": [
        "WARNING:Cubic:The supplied pores are not coplanar. Length will be approximate.\n"
       ]
      },
      {
       "output_type": "stream",
       "stream": "stderr",
       "text": [
        "WARNING:Stokes:The inlet pores have too many neighbors. Internal pores appear to be selected.\n"
       ]
      },
      {
       "output_type": "stream",
       "stream": "stderr",
       "text": [
        "WARNING:Stokes:The outlet pores have too many neighbors. Internal pores appear to be selected.\n"
       ]
      },
      {
       "output_type": "stream",
       "stream": "stderr",
       "text": [
        "WARNING:Cubic:The supplied pores are not coplanar. Length will be approximate.\n"
       ]
      },
      {
       "output_type": "stream",
       "stream": "stderr",
       "text": [
        "WARNING:Fickian:The inlet pores have too many neighbors. Internal pores appear to be selected.\n"
       ]
      },
      {
       "output_type": "stream",
       "stream": "stderr",
       "text": [
        "WARNING:Fickian:The outlet pores have too many neighbors. Internal pores appear to be selected.\n"
       ]
      },
      {
       "output_type": "stream",
       "stream": "stderr",
       "text": [
        "WARNING:Cubic:The supplied pores are not coplanar. Length will be approximate.\n"
       ]
      },
      {
       "output_type": "stream",
       "stream": "stderr",
       "text": [
        "WARNING:Stokes_2:The inlet pores have too many neighbors. Internal pores appear to be selected.\n"
       ]
      },
      {
       "output_type": "stream",
       "stream": "stderr",
       "text": [
        "WARNING:Stokes_2:The outlet pores have too many neighbors. Internal pores appear to be selected.\n"
       ]
      },
      {
       "output_type": "stream",
       "stream": "stderr",
       "text": [
        "WARNING:Cubic:The supplied pores are not coplanar. Length will be approximate.\n"
       ]
      },
      {
       "output_type": "stream",
       "stream": "stderr",
       "text": [
        "WARNING:Fickian_2:The inlet pores have too many neighbors. Internal pores appear to be selected.\n"
       ]
      },
      {
       "output_type": "stream",
       "stream": "stderr",
       "text": [
        "WARNING:Fickian_2:The outlet pores have too many neighbors. Internal pores appear to be selected.\n"
       ]
      },
      {
       "output_type": "stream",
       "stream": "stderr",
       "text": [
        "WARNING:Cubic:The supplied pores are not coplanar. Length will be approximate.\n"
       ]
      },
      {
       "output_type": "stream",
       "stream": "stderr",
       "text": [
        "WARNING:Stokes:The inlet pores have too many neighbors. Internal pores appear to be selected.\n"
       ]
      },
      {
       "output_type": "stream",
       "stream": "stderr",
       "text": [
        "WARNING:Stokes:The outlet pores have too many neighbors. Internal pores appear to be selected.\n"
       ]
      },
      {
       "output_type": "stream",
       "stream": "stderr",
       "text": [
        "WARNING:Cubic:The supplied pores are not coplanar. Length will be approximate.\n"
       ]
      },
      {
       "output_type": "stream",
       "stream": "stderr",
       "text": [
        "WARNING:Fickian:The inlet pores have too many neighbors. Internal pores appear to be selected.\n"
       ]
      },
      {
       "output_type": "stream",
       "stream": "stderr",
       "text": [
        "WARNING:Fickian:The outlet pores have too many neighbors. Internal pores appear to be selected.\n"
       ]
      },
      {
       "output_type": "stream",
       "stream": "stderr",
       "text": [
        "WARNING:Cubic:The supplied pores are not coplanar. Length will be approximate.\n"
       ]
      },
      {
       "output_type": "stream",
       "stream": "stderr",
       "text": [
        "WARNING:Stokes_2:The inlet pores have too many neighbors. Internal pores appear to be selected.\n"
       ]
      },
      {
       "output_type": "stream",
       "stream": "stderr",
       "text": [
        "WARNING:Stokes_2:The outlet pores have too many neighbors. Internal pores appear to be selected.\n"
       ]
      },
      {
       "output_type": "stream",
       "stream": "stderr",
       "text": [
        "WARNING:Cubic:The supplied pores are not coplanar. Length will be approximate.\n"
       ]
      },
      {
       "output_type": "stream",
       "stream": "stderr",
       "text": [
        "WARNING:Fickian_2:The inlet pores have too many neighbors. Internal pores appear to be selected.\n"
       ]
      },
      {
       "output_type": "stream",
       "stream": "stderr",
       "text": [
        "WARNING:Fickian_2:The outlet pores have too many neighbors. Internal pores appear to be selected.\n"
       ]
      },
      {
       "output_type": "stream",
       "stream": "stderr",
       "text": [
        "WARNING:Cubic:The supplied pores are not coplanar. Length will be approximate.\n"
       ]
      },
      {
       "output_type": "stream",
       "stream": "stderr",
       "text": [
        "WARNING:Stokes:The inlet pores have too many neighbors. Internal pores appear to be selected.\n"
       ]
      },
      {
       "output_type": "stream",
       "stream": "stderr",
       "text": [
        "WARNING:Stokes:The outlet pores have too many neighbors. Internal pores appear to be selected.\n"
       ]
      },
      {
       "output_type": "stream",
       "stream": "stderr",
       "text": [
        "WARNING:Cubic:The supplied pores are not coplanar. Length will be approximate.\n"
       ]
      },
      {
       "output_type": "stream",
       "stream": "stderr",
       "text": [
        "WARNING:Fickian:The inlet pores have too many neighbors. Internal pores appear to be selected.\n"
       ]
      },
      {
       "output_type": "stream",
       "stream": "stderr",
       "text": [
        "WARNING:Fickian:The outlet pores have too many neighbors. Internal pores appear to be selected.\n"
       ]
      },
      {
       "output_type": "stream",
       "stream": "stderr",
       "text": [
        "WARNING:Cubic:The supplied pores are not coplanar. Length will be approximate.\n"
       ]
      },
      {
       "output_type": "stream",
       "stream": "stderr",
       "text": [
        "WARNING:Stokes_2:The inlet pores have too many neighbors. Internal pores appear to be selected.\n"
       ]
      },
      {
       "output_type": "stream",
       "stream": "stderr",
       "text": [
        "WARNING:Stokes_2:The outlet pores have too many neighbors. Internal pores appear to be selected.\n"
       ]
      },
      {
       "output_type": "stream",
       "stream": "stderr",
       "text": [
        "WARNING:Cubic:The supplied pores are not coplanar. Length will be approximate.\n"
       ]
      },
      {
       "output_type": "stream",
       "stream": "stderr",
       "text": [
        "WARNING:Fickian_2:The inlet pores have too many neighbors. Internal pores appear to be selected.\n"
       ]
      },
      {
       "output_type": "stream",
       "stream": "stderr",
       "text": [
        "WARNING:Fickian_2:The outlet pores have too many neighbors. Internal pores appear to be selected.\n"
       ]
      },
      {
       "output_type": "stream",
       "stream": "stderr",
       "text": [
        "WARNING:Cubic:The supplied pores are not coplanar. Length will be approximate.\n"
       ]
      },
      {
       "output_type": "stream",
       "stream": "stderr",
       "text": [
        "WARNING:Stokes:The inlet pores have too many neighbors. Internal pores appear to be selected.\n"
       ]
      },
      {
       "output_type": "stream",
       "stream": "stderr",
       "text": [
        "WARNING:Stokes:The outlet pores have too many neighbors. Internal pores appear to be selected.\n"
       ]
      },
      {
       "output_type": "stream",
       "stream": "stderr",
       "text": [
        "WARNING:Cubic:The supplied pores are not coplanar. Length will be approximate.\n"
       ]
      },
      {
       "output_type": "stream",
       "stream": "stderr",
       "text": [
        "WARNING:Fickian:The inlet pores have too many neighbors. Internal pores appear to be selected.\n"
       ]
      },
      {
       "output_type": "stream",
       "stream": "stderr",
       "text": [
        "WARNING:Fickian:The outlet pores have too many neighbors. Internal pores appear to be selected.\n"
       ]
      },
      {
       "output_type": "stream",
       "stream": "stderr",
       "text": [
        "WARNING:Cubic:The supplied pores are not coplanar. Length will be approximate.\n"
       ]
      },
      {
       "output_type": "stream",
       "stream": "stderr",
       "text": [
        "WARNING:Stokes_2:The inlet pores have too many neighbors. Internal pores appear to be selected.\n"
       ]
      },
      {
       "output_type": "stream",
       "stream": "stderr",
       "text": [
        "WARNING:Stokes_2:The outlet pores have too many neighbors. Internal pores appear to be selected.\n"
       ]
      },
      {
       "output_type": "stream",
       "stream": "stderr",
       "text": [
        "WARNING:Cubic:The supplied pores are not coplanar. Length will be approximate.\n"
       ]
      },
      {
       "output_type": "stream",
       "stream": "stderr",
       "text": [
        "WARNING:Fickian_2:The inlet pores have too many neighbors. Internal pores appear to be selected.\n"
       ]
      },
      {
       "output_type": "stream",
       "stream": "stderr",
       "text": [
        "WARNING:Fickian_2:The outlet pores have too many neighbors. Internal pores appear to be selected.\n"
       ]
      },
      {
       "output_type": "stream",
       "stream": "stderr",
       "text": [
        "WARNING:Cubic:The supplied pores are not coplanar. Length will be approximate.\n"
       ]
      },
      {
       "output_type": "stream",
       "stream": "stderr",
       "text": [
        "WARNING:Stokes:The inlet pores have too many neighbors. Internal pores appear to be selected.\n"
       ]
      },
      {
       "output_type": "stream",
       "stream": "stderr",
       "text": [
        "WARNING:Stokes:The outlet pores have too many neighbors. Internal pores appear to be selected.\n"
       ]
      },
      {
       "output_type": "stream",
       "stream": "stderr",
       "text": [
        "WARNING:Cubic:The supplied pores are not coplanar. Length will be approximate.\n"
       ]
      },
      {
       "output_type": "stream",
       "stream": "stderr",
       "text": [
        "WARNING:Fickian:The inlet pores have too many neighbors. Internal pores appear to be selected.\n"
       ]
      },
      {
       "output_type": "stream",
       "stream": "stderr",
       "text": [
        "WARNING:Fickian:The outlet pores have too many neighbors. Internal pores appear to be selected.\n"
       ]
      },
      {
       "output_type": "stream",
       "stream": "stderr",
       "text": [
        "WARNING:Cubic:The supplied pores are not coplanar. Length will be approximate.\n"
       ]
      },
      {
       "output_type": "stream",
       "stream": "stderr",
       "text": [
        "WARNING:Stokes_2:The inlet pores have too many neighbors. Internal pores appear to be selected.\n"
       ]
      },
      {
       "output_type": "stream",
       "stream": "stderr",
       "text": [
        "WARNING:Stokes_2:The outlet pores have too many neighbors. Internal pores appear to be selected.\n"
       ]
      },
      {
       "output_type": "stream",
       "stream": "stderr",
       "text": [
        "WARNING:Cubic:The supplied pores are not coplanar. Length will be approximate.\n"
       ]
      },
      {
       "output_type": "stream",
       "stream": "stderr",
       "text": [
        "WARNING:Fickian_2:The inlet pores have too many neighbors. Internal pores appear to be selected.\n"
       ]
      },
      {
       "output_type": "stream",
       "stream": "stderr",
       "text": [
        "WARNING:Fickian_2:The outlet pores have too many neighbors. Internal pores appear to be selected.\n"
       ]
      },
      {
       "output_type": "stream",
       "stream": "stderr",
       "text": [
        "WARNING:Cubic:The supplied pores are not coplanar. Length will be approximate.\n"
       ]
      },
      {
       "output_type": "stream",
       "stream": "stderr",
       "text": [
        "WARNING:Stokes:The inlet pores have too many neighbors. Internal pores appear to be selected.\n"
       ]
      },
      {
       "output_type": "stream",
       "stream": "stderr",
       "text": [
        "WARNING:Stokes:The outlet pores have too many neighbors. Internal pores appear to be selected.\n"
       ]
      },
      {
       "output_type": "stream",
       "stream": "stderr",
       "text": [
        "WARNING:Cubic:The supplied pores are not coplanar. Length will be approximate.\n"
       ]
      },
      {
       "output_type": "stream",
       "stream": "stderr",
       "text": [
        "WARNING:Fickian:The inlet pores have too many neighbors. Internal pores appear to be selected.\n"
       ]
      },
      {
       "output_type": "stream",
       "stream": "stderr",
       "text": [
        "WARNING:Fickian:The outlet pores have too many neighbors. Internal pores appear to be selected.\n"
       ]
      },
      {
       "output_type": "stream",
       "stream": "stderr",
       "text": [
        "WARNING:Cubic:The supplied pores are not coplanar. Length will be approximate.\n"
       ]
      },
      {
       "output_type": "stream",
       "stream": "stderr",
       "text": [
        "WARNING:Stokes_2:The inlet pores have too many neighbors. Internal pores appear to be selected.\n"
       ]
      },
      {
       "output_type": "stream",
       "stream": "stderr",
       "text": [
        "WARNING:Stokes_2:The outlet pores have too many neighbors. Internal pores appear to be selected.\n"
       ]
      },
      {
       "output_type": "stream",
       "stream": "stderr",
       "text": [
        "WARNING:Cubic:The supplied pores are not coplanar. Length will be approximate.\n"
       ]
      },
      {
       "output_type": "stream",
       "stream": "stderr",
       "text": [
        "WARNING:Fickian_2:The inlet pores have too many neighbors. Internal pores appear to be selected.\n"
       ]
      },
      {
       "output_type": "stream",
       "stream": "stderr",
       "text": [
        "WARNING:Fickian_2:The outlet pores have too many neighbors. Internal pores appear to be selected.\n"
       ]
      },
      {
       "output_type": "stream",
       "stream": "stderr",
       "text": [
        "WARNING:Cubic:The supplied pores are not coplanar. Length will be approximate.\n"
       ]
      },
      {
       "output_type": "stream",
       "stream": "stderr",
       "text": [
        "WARNING:Stokes:The inlet pores have too many neighbors. Internal pores appear to be selected.\n"
       ]
      },
      {
       "output_type": "stream",
       "stream": "stderr",
       "text": [
        "WARNING:Stokes:The outlet pores have too many neighbors. Internal pores appear to be selected.\n"
       ]
      },
      {
       "output_type": "stream",
       "stream": "stderr",
       "text": [
        "WARNING:Cubic:The supplied pores are not coplanar. Length will be approximate.\n"
       ]
      },
      {
       "output_type": "stream",
       "stream": "stderr",
       "text": [
        "WARNING:Fickian:The inlet pores have too many neighbors. Internal pores appear to be selected.\n"
       ]
      },
      {
       "output_type": "stream",
       "stream": "stderr",
       "text": [
        "WARNING:Fickian:The outlet pores have too many neighbors. Internal pores appear to be selected.\n"
       ]
      },
      {
       "output_type": "stream",
       "stream": "stderr",
       "text": [
        "WARNING:Cubic:The supplied pores are not coplanar. Length will be approximate.\n"
       ]
      },
      {
       "output_type": "stream",
       "stream": "stderr",
       "text": [
        "WARNING:Stokes_2:The inlet pores have too many neighbors. Internal pores appear to be selected.\n"
       ]
      },
      {
       "output_type": "stream",
       "stream": "stderr",
       "text": [
        "WARNING:Stokes_2:The outlet pores have too many neighbors. Internal pores appear to be selected.\n"
       ]
      },
      {
       "output_type": "stream",
       "stream": "stderr",
       "text": [
        "WARNING:Cubic:The supplied pores are not coplanar. Length will be approximate.\n"
       ]
      },
      {
       "output_type": "stream",
       "stream": "stderr",
       "text": [
        "WARNING:Fickian_2:The inlet pores have too many neighbors. Internal pores appear to be selected.\n"
       ]
      },
      {
       "output_type": "stream",
       "stream": "stderr",
       "text": [
        "WARNING:Fickian_2:The outlet pores have too many neighbors. Internal pores appear to be selected.\n"
       ]
      },
      {
       "output_type": "stream",
       "stream": "stderr",
       "text": [
        "WARNING:Cubic:The supplied pores are not coplanar. Length will be approximate.\n"
       ]
      },
      {
       "output_type": "stream",
       "stream": "stderr",
       "text": [
        "WARNING:Stokes:The inlet pores have too many neighbors. Internal pores appear to be selected.\n"
       ]
      },
      {
       "output_type": "stream",
       "stream": "stderr",
       "text": [
        "WARNING:Stokes:The outlet pores have too many neighbors. Internal pores appear to be selected.\n"
       ]
      },
      {
       "output_type": "stream",
       "stream": "stderr",
       "text": [
        "WARNING:Cubic:The supplied pores are not coplanar. Length will be approximate.\n"
       ]
      },
      {
       "output_type": "stream",
       "stream": "stderr",
       "text": [
        "WARNING:Fickian:The inlet pores have too many neighbors. Internal pores appear to be selected.\n"
       ]
      },
      {
       "output_type": "stream",
       "stream": "stderr",
       "text": [
        "WARNING:Fickian:The outlet pores have too many neighbors. Internal pores appear to be selected.\n"
       ]
      },
      {
       "output_type": "stream",
       "stream": "stderr",
       "text": [
        "WARNING:Cubic:The supplied pores are not coplanar. Length will be approximate.\n"
       ]
      },
      {
       "output_type": "stream",
       "stream": "stderr",
       "text": [
        "WARNING:Stokes_2:The inlet pores have too many neighbors. Internal pores appear to be selected.\n"
       ]
      },
      {
       "output_type": "stream",
       "stream": "stderr",
       "text": [
        "WARNING:Stokes_2:The outlet pores have too many neighbors. Internal pores appear to be selected.\n"
       ]
      },
      {
       "output_type": "stream",
       "stream": "stderr",
       "text": [
        "WARNING:Cubic:The supplied pores are not coplanar. Length will be approximate.\n"
       ]
      },
      {
       "output_type": "stream",
       "stream": "stderr",
       "text": [
        "WARNING:Fickian_2:The inlet pores have too many neighbors. Internal pores appear to be selected.\n"
       ]
      },
      {
       "output_type": "stream",
       "stream": "stderr",
       "text": [
        "WARNING:Fickian_2:The outlet pores have too many neighbors. Internal pores appear to be selected.\n"
       ]
      },
      {
       "output_type": "stream",
       "stream": "stderr",
       "text": [
        "WARNING:Cubic:The supplied pores are not coplanar. Length will be approximate.\n"
       ]
      },
      {
       "output_type": "stream",
       "stream": "stderr",
       "text": [
        "WARNING:Stokes:The inlet pores have too many neighbors. Internal pores appear to be selected.\n"
       ]
      },
      {
       "output_type": "stream",
       "stream": "stderr",
       "text": [
        "WARNING:Stokes:The outlet pores have too many neighbors. Internal pores appear to be selected.\n"
       ]
      },
      {
       "output_type": "stream",
       "stream": "stderr",
       "text": [
        "WARNING:Cubic:The supplied pores are not coplanar. Length will be approximate.\n"
       ]
      },
      {
       "output_type": "stream",
       "stream": "stderr",
       "text": [
        "WARNING:Fickian:The inlet pores have too many neighbors. Internal pores appear to be selected.\n"
       ]
      },
      {
       "output_type": "stream",
       "stream": "stderr",
       "text": [
        "WARNING:Fickian:The outlet pores have too many neighbors. Internal pores appear to be selected.\n"
       ]
      },
      {
       "output_type": "stream",
       "stream": "stderr",
       "text": [
        "WARNING:Cubic:The supplied pores are not coplanar. Length will be approximate.\n"
       ]
      },
      {
       "output_type": "stream",
       "stream": "stderr",
       "text": [
        "WARNING:Stokes_2:The inlet pores have too many neighbors. Internal pores appear to be selected.\n"
       ]
      },
      {
       "output_type": "stream",
       "stream": "stderr",
       "text": [
        "WARNING:Stokes_2:The outlet pores have too many neighbors. Internal pores appear to be selected.\n"
       ]
      },
      {
       "output_type": "stream",
       "stream": "stderr",
       "text": [
        "WARNING:Cubic:The supplied pores are not coplanar. Length will be approximate.\n"
       ]
      },
      {
       "output_type": "stream",
       "stream": "stderr",
       "text": [
        "WARNING:Fickian_2:The inlet pores have too many neighbors. Internal pores appear to be selected.\n"
       ]
      },
      {
       "output_type": "stream",
       "stream": "stderr",
       "text": [
        "WARNING:Fickian_2:The outlet pores have too many neighbors. Internal pores appear to be selected.\n"
       ]
      },
      {
       "output_type": "stream",
       "stream": "stderr",
       "text": [
        "WARNING:Cubic:The supplied pores are not coplanar. Length will be approximate.\n"
       ]
      },
      {
       "output_type": "stream",
       "stream": "stderr",
       "text": [
        "WARNING:Stokes:The inlet pores have too many neighbors. Internal pores appear to be selected.\n"
       ]
      },
      {
       "output_type": "stream",
       "stream": "stderr",
       "text": [
        "WARNING:Stokes:The outlet pores have too many neighbors. Internal pores appear to be selected.\n"
       ]
      },
      {
       "output_type": "stream",
       "stream": "stderr",
       "text": [
        "WARNING:Cubic:The supplied pores are not coplanar. Length will be approximate.\n"
       ]
      },
      {
       "output_type": "stream",
       "stream": "stderr",
       "text": [
        "WARNING:Fickian:The inlet pores have too many neighbors. Internal pores appear to be selected.\n"
       ]
      },
      {
       "output_type": "stream",
       "stream": "stderr",
       "text": [
        "WARNING:Fickian:The outlet pores have too many neighbors. Internal pores appear to be selected.\n"
       ]
      },
      {
       "output_type": "stream",
       "stream": "stderr",
       "text": [
        "WARNING:Cubic:The supplied pores are not coplanar. Length will be approximate.\n"
       ]
      },
      {
       "output_type": "stream",
       "stream": "stderr",
       "text": [
        "WARNING:Stokes_2:The inlet pores have too many neighbors. Internal pores appear to be selected.\n"
       ]
      },
      {
       "output_type": "stream",
       "stream": "stderr",
       "text": [
        "WARNING:Stokes_2:The outlet pores have too many neighbors. Internal pores appear to be selected.\n"
       ]
      },
      {
       "output_type": "stream",
       "stream": "stderr",
       "text": [
        "WARNING:Cubic:The supplied pores are not coplanar. Length will be approximate.\n"
       ]
      },
      {
       "output_type": "stream",
       "stream": "stderr",
       "text": [
        "WARNING:Fickian_2:The inlet pores have too many neighbors. Internal pores appear to be selected.\n"
       ]
      },
      {
       "output_type": "stream",
       "stream": "stderr",
       "text": [
        "WARNING:Fickian_2:The outlet pores have too many neighbors. Internal pores appear to be selected.\n"
       ]
      },
      {
       "output_type": "stream",
       "stream": "stderr",
       "text": [
        "WARNING:Cubic:The supplied pores are not coplanar. Length will be approximate.\n"
       ]
      },
      {
       "output_type": "stream",
       "stream": "stderr",
       "text": [
        "WARNING:Stokes:The inlet pores have too many neighbors. Internal pores appear to be selected.\n"
       ]
      },
      {
       "output_type": "stream",
       "stream": "stderr",
       "text": [
        "WARNING:Stokes:The outlet pores have too many neighbors. Internal pores appear to be selected.\n"
       ]
      },
      {
       "output_type": "stream",
       "stream": "stderr",
       "text": [
        "WARNING:Cubic:The supplied pores are not coplanar. Length will be approximate.\n"
       ]
      },
      {
       "output_type": "stream",
       "stream": "stderr",
       "text": [
        "WARNING:Fickian:The inlet pores have too many neighbors. Internal pores appear to be selected.\n"
       ]
      },
      {
       "output_type": "stream",
       "stream": "stderr",
       "text": [
        "WARNING:Fickian:The outlet pores have too many neighbors. Internal pores appear to be selected.\n"
       ]
      },
      {
       "output_type": "stream",
       "stream": "stderr",
       "text": [
        "WARNING:Cubic:The supplied pores are not coplanar. Length will be approximate.\n"
       ]
      },
      {
       "output_type": "stream",
       "stream": "stderr",
       "text": [
        "WARNING:Stokes_2:The inlet pores have too many neighbors. Internal pores appear to be selected.\n"
       ]
      },
      {
       "output_type": "stream",
       "stream": "stderr",
       "text": [
        "WARNING:Stokes_2:The outlet pores have too many neighbors. Internal pores appear to be selected.\n"
       ]
      },
      {
       "output_type": "stream",
       "stream": "stderr",
       "text": [
        "WARNING:Cubic:The supplied pores are not coplanar. Length will be approximate.\n"
       ]
      },
      {
       "output_type": "stream",
       "stream": "stderr",
       "text": [
        "WARNING:Fickian_2:The inlet pores have too many neighbors. Internal pores appear to be selected.\n"
       ]
      },
      {
       "output_type": "stream",
       "stream": "stderr",
       "text": [
        "WARNING:Fickian_2:The outlet pores have too many neighbors. Internal pores appear to be selected.\n"
       ]
      },
      {
       "output_type": "stream",
       "stream": "stderr",
       "text": [
        "WARNING:Cubic:The supplied pores are not coplanar. Length will be approximate.\n"
       ]
      },
      {
       "output_type": "stream",
       "stream": "stderr",
       "text": [
        "WARNING:Stokes:The inlet pores have too many neighbors. Internal pores appear to be selected.\n"
       ]
      },
      {
       "output_type": "stream",
       "stream": "stderr",
       "text": [
        "WARNING:Stokes:The outlet pores have too many neighbors. Internal pores appear to be selected.\n"
       ]
      },
      {
       "output_type": "stream",
       "stream": "stderr",
       "text": [
        "WARNING:Cubic:The supplied pores are not coplanar. Length will be approximate.\n"
       ]
      },
      {
       "output_type": "stream",
       "stream": "stderr",
       "text": [
        "WARNING:Fickian:The inlet pores have too many neighbors. Internal pores appear to be selected.\n"
       ]
      },
      {
       "output_type": "stream",
       "stream": "stderr",
       "text": [
        "WARNING:Fickian:The outlet pores have too many neighbors. Internal pores appear to be selected.\n"
       ]
      },
      {
       "output_type": "stream",
       "stream": "stderr",
       "text": [
        "WARNING:Cubic:The supplied pores are not coplanar. Length will be approximate.\n"
       ]
      },
      {
       "output_type": "stream",
       "stream": "stderr",
       "text": [
        "WARNING:Stokes_2:The inlet pores have too many neighbors. Internal pores appear to be selected.\n"
       ]
      },
      {
       "output_type": "stream",
       "stream": "stderr",
       "text": [
        "WARNING:Stokes_2:The outlet pores have too many neighbors. Internal pores appear to be selected.\n"
       ]
      },
      {
       "output_type": "stream",
       "stream": "stderr",
       "text": [
        "WARNING:Cubic:The supplied pores are not coplanar. Length will be approximate.\n"
       ]
      },
      {
       "output_type": "stream",
       "stream": "stderr",
       "text": [
        "WARNING:Fickian_2:The inlet pores have too many neighbors. Internal pores appear to be selected.\n"
       ]
      },
      {
       "output_type": "stream",
       "stream": "stderr",
       "text": [
        "WARNING:Fickian_2:The outlet pores have too many neighbors. Internal pores appear to be selected.\n"
       ]
      },
      {
       "output_type": "stream",
       "stream": "stderr",
       "text": [
        "WARNING:Cubic:The supplied pores are not coplanar. Length will be approximate.\n"
       ]
      },
      {
       "output_type": "stream",
       "stream": "stderr",
       "text": [
        "WARNING:Stokes:The inlet pores have too many neighbors. Internal pores appear to be selected.\n"
       ]
      },
      {
       "output_type": "stream",
       "stream": "stderr",
       "text": [
        "WARNING:Stokes:The outlet pores have too many neighbors. Internal pores appear to be selected.\n"
       ]
      },
      {
       "output_type": "stream",
       "stream": "stderr",
       "text": [
        "WARNING:Cubic:The supplied pores are not coplanar. Length will be approximate.\n"
       ]
      },
      {
       "output_type": "stream",
       "stream": "stderr",
       "text": [
        "WARNING:Fickian:The inlet pores have too many neighbors. Internal pores appear to be selected.\n"
       ]
      },
      {
       "output_type": "stream",
       "stream": "stderr",
       "text": [
        "WARNING:Fickian:The outlet pores have too many neighbors. Internal pores appear to be selected.\n"
       ]
      },
      {
       "output_type": "stream",
       "stream": "stderr",
       "text": [
        "WARNING:Cubic:The supplied pores are not coplanar. Length will be approximate.\n"
       ]
      },
      {
       "output_type": "stream",
       "stream": "stderr",
       "text": [
        "WARNING:Stokes_2:The inlet pores have too many neighbors. Internal pores appear to be selected.\n"
       ]
      },
      {
       "output_type": "stream",
       "stream": "stderr",
       "text": [
        "WARNING:Stokes_2:The outlet pores have too many neighbors. Internal pores appear to be selected.\n"
       ]
      },
      {
       "output_type": "stream",
       "stream": "stderr",
       "text": [
        "WARNING:Cubic:The supplied pores are not coplanar. Length will be approximate.\n"
       ]
      },
      {
       "output_type": "stream",
       "stream": "stderr",
       "text": [
        "WARNING:Fickian_2:The inlet pores have too many neighbors. Internal pores appear to be selected.\n"
       ]
      },
      {
       "output_type": "stream",
       "stream": "stderr",
       "text": [
        "WARNING:Fickian_2:The outlet pores have too many neighbors. Internal pores appear to be selected.\n"
       ]
      },
      {
       "output_type": "stream",
       "stream": "stderr",
       "text": [
        "WARNING:Cubic:The supplied pores are not coplanar. Length will be approximate.\n"
       ]
      },
      {
       "output_type": "stream",
       "stream": "stderr",
       "text": [
        "WARNING:Stokes:The inlet pores have too many neighbors. Internal pores appear to be selected.\n"
       ]
      },
      {
       "output_type": "stream",
       "stream": "stderr",
       "text": [
        "WARNING:Stokes:The outlet pores have too many neighbors. Internal pores appear to be selected.\n"
       ]
      },
      {
       "output_type": "stream",
       "stream": "stderr",
       "text": [
        "WARNING:Cubic:The supplied pores are not coplanar. Length will be approximate.\n"
       ]
      },
      {
       "output_type": "stream",
       "stream": "stderr",
       "text": [
        "WARNING:Fickian:The inlet pores have too many neighbors. Internal pores appear to be selected.\n"
       ]
      },
      {
       "output_type": "stream",
       "stream": "stderr",
       "text": [
        "WARNING:Fickian:The outlet pores have too many neighbors. Internal pores appear to be selected.\n"
       ]
      },
      {
       "output_type": "stream",
       "stream": "stderr",
       "text": [
        "WARNING:Cubic:The supplied pores are not coplanar. Length will be approximate.\n"
       ]
      },
      {
       "output_type": "stream",
       "stream": "stderr",
       "text": [
        "WARNING:Stokes_2:The inlet pores have too many neighbors. Internal pores appear to be selected.\n"
       ]
      },
      {
       "output_type": "stream",
       "stream": "stderr",
       "text": [
        "WARNING:Stokes_2:The outlet pores have too many neighbors. Internal pores appear to be selected.\n"
       ]
      },
      {
       "output_type": "stream",
       "stream": "stderr",
       "text": [
        "WARNING:Cubic:The supplied pores are not coplanar. Length will be approximate.\n"
       ]
      },
      {
       "output_type": "stream",
       "stream": "stderr",
       "text": [
        "WARNING:Fickian_2:The inlet pores have too many neighbors. Internal pores appear to be selected.\n"
       ]
      },
      {
       "output_type": "stream",
       "stream": "stderr",
       "text": [
        "WARNING:Fickian_2:The outlet pores have too many neighbors. Internal pores appear to be selected.\n"
       ]
      },
      {
       "output_type": "stream",
       "stream": "stderr",
       "text": [
        "WARNING:Cubic:The supplied pores are not coplanar. Length will be approximate.\n"
       ]
      },
      {
       "output_type": "stream",
       "stream": "stderr",
       "text": [
        "WARNING:Stokes:The inlet pores have too many neighbors. Internal pores appear to be selected.\n"
       ]
      },
      {
       "output_type": "stream",
       "stream": "stderr",
       "text": [
        "WARNING:Stokes:The outlet pores have too many neighbors. Internal pores appear to be selected.\n"
       ]
      },
      {
       "output_type": "stream",
       "stream": "stderr",
       "text": [
        "WARNING:Cubic:The supplied pores are not coplanar. Length will be approximate.\n"
       ]
      },
      {
       "output_type": "stream",
       "stream": "stderr",
       "text": [
        "WARNING:Fickian:The inlet pores have too many neighbors. Internal pores appear to be selected.\n"
       ]
      },
      {
       "output_type": "stream",
       "stream": "stderr",
       "text": [
        "WARNING:Fickian:The outlet pores have too many neighbors. Internal pores appear to be selected.\n"
       ]
      },
      {
       "output_type": "stream",
       "stream": "stderr",
       "text": [
        "WARNING:Cubic:The supplied pores are not coplanar. Length will be approximate.\n"
       ]
      },
      {
       "output_type": "stream",
       "stream": "stderr",
       "text": [
        "WARNING:Stokes_2:The inlet pores have too many neighbors. Internal pores appear to be selected.\n"
       ]
      },
      {
       "output_type": "stream",
       "stream": "stderr",
       "text": [
        "WARNING:Stokes_2:The outlet pores have too many neighbors. Internal pores appear to be selected.\n"
       ]
      },
      {
       "output_type": "stream",
       "stream": "stderr",
       "text": [
        "WARNING:Cubic:The supplied pores are not coplanar. Length will be approximate.\n"
       ]
      },
      {
       "output_type": "stream",
       "stream": "stderr",
       "text": [
        "WARNING:Fickian_2:The inlet pores have too many neighbors. Internal pores appear to be selected.\n"
       ]
      },
      {
       "output_type": "stream",
       "stream": "stderr",
       "text": [
        "WARNING:Fickian_2:The outlet pores have too many neighbors. Internal pores appear to be selected.\n"
       ]
      },
      {
       "output_type": "stream",
       "stream": "stderr",
       "text": [
        "WARNING:Cubic:The supplied pores are not coplanar. Length will be approximate.\n"
       ]
      },
      {
       "output_type": "stream",
       "stream": "stderr",
       "text": [
        "WARNING:Stokes:The inlet pores have too many neighbors. Internal pores appear to be selected.\n"
       ]
      },
      {
       "output_type": "stream",
       "stream": "stderr",
       "text": [
        "WARNING:Stokes:The outlet pores have too many neighbors. Internal pores appear to be selected.\n"
       ]
      },
      {
       "output_type": "stream",
       "stream": "stderr",
       "text": [
        "WARNING:Cubic:The supplied pores are not coplanar. Length will be approximate.\n"
       ]
      },
      {
       "output_type": "stream",
       "stream": "stderr",
       "text": [
        "WARNING:Fickian:The inlet pores have too many neighbors. Internal pores appear to be selected.\n"
       ]
      },
      {
       "output_type": "stream",
       "stream": "stderr",
       "text": [
        "WARNING:Fickian:The outlet pores have too many neighbors. Internal pores appear to be selected.\n"
       ]
      },
      {
       "output_type": "stream",
       "stream": "stderr",
       "text": [
        "WARNING:Cubic:The supplied pores are not coplanar. Length will be approximate.\n"
       ]
      },
      {
       "output_type": "stream",
       "stream": "stderr",
       "text": [
        "WARNING:Stokes_2:The inlet pores have too many neighbors. Internal pores appear to be selected.\n"
       ]
      },
      {
       "output_type": "stream",
       "stream": "stderr",
       "text": [
        "WARNING:Stokes_2:The outlet pores have too many neighbors. Internal pores appear to be selected.\n"
       ]
      },
      {
       "output_type": "stream",
       "stream": "stderr",
       "text": [
        "WARNING:Cubic:The supplied pores are not coplanar. Length will be approximate.\n"
       ]
      },
      {
       "output_type": "stream",
       "stream": "stderr",
       "text": [
        "WARNING:Fickian_2:The inlet pores have too many neighbors. Internal pores appear to be selected.\n"
       ]
      },
      {
       "output_type": "stream",
       "stream": "stderr",
       "text": [
        "WARNING:Fickian_2:The outlet pores have too many neighbors. Internal pores appear to be selected.\n"
       ]
      },
      {
       "output_type": "stream",
       "stream": "stderr",
       "text": [
        "WARNING:Cubic:The supplied pores are not coplanar. Length will be approximate.\n"
       ]
      },
      {
       "output_type": "stream",
       "stream": "stderr",
       "text": [
        "WARNING:Stokes:The inlet pores have too many neighbors. Internal pores appear to be selected.\n"
       ]
      },
      {
       "output_type": "stream",
       "stream": "stderr",
       "text": [
        "WARNING:Stokes:The outlet pores have too many neighbors. Internal pores appear to be selected.\n"
       ]
      },
      {
       "output_type": "stream",
       "stream": "stderr",
       "text": [
        "WARNING:Cubic:The supplied pores are not coplanar. Length will be approximate.\n"
       ]
      },
      {
       "output_type": "stream",
       "stream": "stderr",
       "text": [
        "WARNING:Fickian:The inlet pores have too many neighbors. Internal pores appear to be selected.\n"
       ]
      },
      {
       "output_type": "stream",
       "stream": "stderr",
       "text": [
        "WARNING:Fickian:The outlet pores have too many neighbors. Internal pores appear to be selected.\n"
       ]
      },
      {
       "output_type": "stream",
       "stream": "stderr",
       "text": [
        "WARNING:Cubic:The supplied pores are not coplanar. Length will be approximate.\n"
       ]
      },
      {
       "output_type": "stream",
       "stream": "stderr",
       "text": [
        "WARNING:Stokes_2:The inlet pores have too many neighbors. Internal pores appear to be selected.\n"
       ]
      },
      {
       "output_type": "stream",
       "stream": "stderr",
       "text": [
        "WARNING:Stokes_2:The outlet pores have too many neighbors. Internal pores appear to be selected.\n"
       ]
      },
      {
       "output_type": "stream",
       "stream": "stderr",
       "text": [
        "WARNING:Cubic:The supplied pores are not coplanar. Length will be approximate.\n"
       ]
      },
      {
       "output_type": "stream",
       "stream": "stderr",
       "text": [
        "WARNING:Fickian_2:The inlet pores have too many neighbors. Internal pores appear to be selected.\n"
       ]
      },
      {
       "output_type": "stream",
       "stream": "stderr",
       "text": [
        "WARNING:Fickian_2:The outlet pores have too many neighbors. Internal pores appear to be selected.\n"
       ]
      },
      {
       "output_type": "stream",
       "stream": "stderr",
       "text": [
        "WARNING:Cubic:The supplied pores are not coplanar. Length will be approximate.\n"
       ]
      },
      {
       "output_type": "stream",
       "stream": "stderr",
       "text": [
        "WARNING:Stokes:The inlet pores have too many neighbors. Internal pores appear to be selected.\n"
       ]
      },
      {
       "output_type": "stream",
       "stream": "stderr",
       "text": [
        "WARNING:Stokes:The outlet pores have too many neighbors. Internal pores appear to be selected.\n"
       ]
      },
      {
       "output_type": "stream",
       "stream": "stderr",
       "text": [
        "WARNING:Cubic:The supplied pores are not coplanar. Length will be approximate.\n"
       ]
      },
      {
       "output_type": "stream",
       "stream": "stderr",
       "text": [
        "WARNING:Fickian:The inlet pores have too many neighbors. Internal pores appear to be selected.\n"
       ]
      },
      {
       "output_type": "stream",
       "stream": "stderr",
       "text": [
        "WARNING:Fickian:The outlet pores have too many neighbors. Internal pores appear to be selected.\n"
       ]
      },
      {
       "output_type": "stream",
       "stream": "stderr",
       "text": [
        "WARNING:Cubic:The supplied pores are not coplanar. Length will be approximate.\n"
       ]
      },
      {
       "output_type": "stream",
       "stream": "stderr",
       "text": [
        "WARNING:Stokes_2:The inlet pores have too many neighbors. Internal pores appear to be selected.\n"
       ]
      },
      {
       "output_type": "stream",
       "stream": "stderr",
       "text": [
        "WARNING:Stokes_2:The outlet pores have too many neighbors. Internal pores appear to be selected.\n"
       ]
      },
      {
       "output_type": "stream",
       "stream": "stderr",
       "text": [
        "WARNING:Cubic:The supplied pores are not coplanar. Length will be approximate.\n"
       ]
      },
      {
       "output_type": "stream",
       "stream": "stderr",
       "text": [
        "WARNING:Fickian_2:The inlet pores have too many neighbors. Internal pores appear to be selected.\n"
       ]
      },
      {
       "output_type": "stream",
       "stream": "stderr",
       "text": [
        "WARNING:Fickian_2:The outlet pores have too many neighbors. Internal pores appear to be selected.\n"
       ]
      },
      {
       "output_type": "stream",
       "stream": "stderr",
       "text": [
        "WARNING:Cubic:The supplied pores are not coplanar. Length will be approximate.\n"
       ]
      },
      {
       "output_type": "stream",
       "stream": "stderr",
       "text": [
        "WARNING:Stokes:The inlet pores have too many neighbors. Internal pores appear to be selected.\n"
       ]
      },
      {
       "output_type": "stream",
       "stream": "stderr",
       "text": [
        "WARNING:Stokes:The outlet pores have too many neighbors. Internal pores appear to be selected.\n"
       ]
      },
      {
       "output_type": "stream",
       "stream": "stderr",
       "text": [
        "WARNING:Cubic:The supplied pores are not coplanar. Length will be approximate.\n"
       ]
      },
      {
       "output_type": "stream",
       "stream": "stderr",
       "text": [
        "WARNING:Fickian:The inlet pores have too many neighbors. Internal pores appear to be selected.\n"
       ]
      },
      {
       "output_type": "stream",
       "stream": "stderr",
       "text": [
        "WARNING:Fickian:The outlet pores have too many neighbors. Internal pores appear to be selected.\n"
       ]
      },
      {
       "output_type": "stream",
       "stream": "stderr",
       "text": [
        "WARNING:Cubic:The supplied pores are not coplanar. Length will be approximate.\n"
       ]
      },
      {
       "output_type": "stream",
       "stream": "stderr",
       "text": [
        "WARNING:Stokes_2:The inlet pores have too many neighbors. Internal pores appear to be selected.\n"
       ]
      },
      {
       "output_type": "stream",
       "stream": "stderr",
       "text": [
        "WARNING:Stokes_2:The outlet pores have too many neighbors. Internal pores appear to be selected.\n"
       ]
      },
      {
       "output_type": "stream",
       "stream": "stderr",
       "text": [
        "WARNING:Cubic:The supplied pores are not coplanar. Length will be approximate.\n"
       ]
      },
      {
       "output_type": "stream",
       "stream": "stderr",
       "text": [
        "WARNING:Fickian_2:The inlet pores have too many neighbors. Internal pores appear to be selected.\n"
       ]
      },
      {
       "output_type": "stream",
       "stream": "stderr",
       "text": [
        "WARNING:Fickian_2:The outlet pores have too many neighbors. Internal pores appear to be selected.\n"
       ]
      },
      {
       "output_type": "stream",
       "stream": "stderr",
       "text": [
        "WARNING:Cubic:The supplied pores are not coplanar. Length will be approximate.\n"
       ]
      },
      {
       "output_type": "stream",
       "stream": "stderr",
       "text": [
        "WARNING:Stokes:The inlet pores have too many neighbors. Internal pores appear to be selected.\n"
       ]
      },
      {
       "output_type": "stream",
       "stream": "stderr",
       "text": [
        "WARNING:Stokes:The outlet pores have too many neighbors. Internal pores appear to be selected.\n"
       ]
      },
      {
       "output_type": "stream",
       "stream": "stderr",
       "text": [
        "WARNING:Cubic:The supplied pores are not coplanar. Length will be approximate.\n"
       ]
      },
      {
       "output_type": "stream",
       "stream": "stderr",
       "text": [
        "WARNING:Fickian:The inlet pores have too many neighbors. Internal pores appear to be selected.\n"
       ]
      },
      {
       "output_type": "stream",
       "stream": "stderr",
       "text": [
        "WARNING:Fickian:The outlet pores have too many neighbors. Internal pores appear to be selected.\n"
       ]
      },
      {
       "output_type": "stream",
       "stream": "stderr",
       "text": [
        "WARNING:Cubic:The supplied pores are not coplanar. Length will be approximate.\n"
       ]
      },
      {
       "output_type": "stream",
       "stream": "stderr",
       "text": [
        "WARNING:Stokes_2:The inlet pores have too many neighbors. Internal pores appear to be selected.\n"
       ]
      },
      {
       "output_type": "stream",
       "stream": "stderr",
       "text": [
        "WARNING:Stokes_2:The outlet pores have too many neighbors. Internal pores appear to be selected.\n"
       ]
      },
      {
       "output_type": "stream",
       "stream": "stderr",
       "text": [
        "WARNING:Cubic:The supplied pores are not coplanar. Length will be approximate.\n"
       ]
      },
      {
       "output_type": "stream",
       "stream": "stderr",
       "text": [
        "WARNING:Fickian_2:The inlet pores have too many neighbors. Internal pores appear to be selected.\n"
       ]
      },
      {
       "output_type": "stream",
       "stream": "stderr",
       "text": [
        "WARNING:Fickian_2:The outlet pores have too many neighbors. Internal pores appear to be selected.\n"
       ]
      },
      {
       "output_type": "stream",
       "stream": "stderr",
       "text": [
        "WARNING:Cubic:The supplied pores are not coplanar. Length will be approximate.\n"
       ]
      },
      {
       "output_type": "stream",
       "stream": "stderr",
       "text": [
        "WARNING:Stokes:The inlet pores have too many neighbors. Internal pores appear to be selected.\n"
       ]
      },
      {
       "output_type": "stream",
       "stream": "stderr",
       "text": [
        "WARNING:Stokes:The outlet pores have too many neighbors. Internal pores appear to be selected.\n"
       ]
      },
      {
       "output_type": "stream",
       "stream": "stderr",
       "text": [
        "WARNING:Cubic:The supplied pores are not coplanar. Length will be approximate.\n"
       ]
      },
      {
       "output_type": "stream",
       "stream": "stderr",
       "text": [
        "WARNING:Fickian:The inlet pores have too many neighbors. Internal pores appear to be selected.\n"
       ]
      },
      {
       "output_type": "stream",
       "stream": "stderr",
       "text": [
        "WARNING:Fickian:The outlet pores have too many neighbors. Internal pores appear to be selected.\n"
       ]
      },
      {
       "output_type": "stream",
       "stream": "stderr",
       "text": [
        "WARNING:Cubic:The supplied pores are not coplanar. Length will be approximate.\n"
       ]
      },
      {
       "output_type": "stream",
       "stream": "stderr",
       "text": [
        "WARNING:Stokes_2:The inlet pores have too many neighbors. Internal pores appear to be selected.\n"
       ]
      },
      {
       "output_type": "stream",
       "stream": "stderr",
       "text": [
        "WARNING:Stokes_2:The outlet pores have too many neighbors. Internal pores appear to be selected.\n"
       ]
      },
      {
       "output_type": "stream",
       "stream": "stderr",
       "text": [
        "WARNING:Cubic:The supplied pores are not coplanar. Length will be approximate.\n"
       ]
      },
      {
       "output_type": "stream",
       "stream": "stderr",
       "text": [
        "WARNING:Fickian_2:The inlet pores have too many neighbors. Internal pores appear to be selected.\n"
       ]
      },
      {
       "output_type": "stream",
       "stream": "stderr",
       "text": [
        "WARNING:Fickian_2:The outlet pores have too many neighbors. Internal pores appear to be selected.\n"
       ]
      },
      {
       "output_type": "stream",
       "stream": "stderr",
       "text": [
        "WARNING:Cubic:The supplied pores are not coplanar. Length will be approximate.\n"
       ]
      },
      {
       "output_type": "stream",
       "stream": "stderr",
       "text": [
        "WARNING:Stokes:The inlet pores have too many neighbors. Internal pores appear to be selected.\n"
       ]
      },
      {
       "output_type": "stream",
       "stream": "stderr",
       "text": [
        "WARNING:Stokes:The outlet pores have too many neighbors. Internal pores appear to be selected.\n"
       ]
      },
      {
       "output_type": "stream",
       "stream": "stderr",
       "text": [
        "WARNING:Cubic:The supplied pores are not coplanar. Length will be approximate.\n"
       ]
      },
      {
       "output_type": "stream",
       "stream": "stderr",
       "text": [
        "WARNING:Fickian:The inlet pores have too many neighbors. Internal pores appear to be selected.\n"
       ]
      },
      {
       "output_type": "stream",
       "stream": "stderr",
       "text": [
        "WARNING:Fickian:The outlet pores have too many neighbors. Internal pores appear to be selected.\n"
       ]
      },
      {
       "output_type": "stream",
       "stream": "stderr",
       "text": [
        "WARNING:Cubic:The supplied pores are not coplanar. Length will be approximate.\n"
       ]
      },
      {
       "output_type": "stream",
       "stream": "stderr",
       "text": [
        "WARNING:Stokes_2:The inlet pores have too many neighbors. Internal pores appear to be selected.\n"
       ]
      },
      {
       "output_type": "stream",
       "stream": "stderr",
       "text": [
        "WARNING:Stokes_2:The outlet pores have too many neighbors. Internal pores appear to be selected.\n"
       ]
      },
      {
       "output_type": "stream",
       "stream": "stderr",
       "text": [
        "WARNING:Cubic:The supplied pores are not coplanar. Length will be approximate.\n"
       ]
      },
      {
       "output_type": "stream",
       "stream": "stderr",
       "text": [
        "WARNING:Fickian_2:The inlet pores have too many neighbors. Internal pores appear to be selected.\n"
       ]
      },
      {
       "output_type": "stream",
       "stream": "stderr",
       "text": [
        "WARNING:Fickian_2:The outlet pores have too many neighbors. Internal pores appear to be selected.\n"
       ]
      },
      {
       "output_type": "stream",
       "stream": "stderr",
       "text": [
        "WARNING:Cubic:The supplied pores are not coplanar. Length will be approximate.\n"
       ]
      },
      {
       "output_type": "stream",
       "stream": "stderr",
       "text": [
        "WARNING:Stokes:The inlet pores have too many neighbors. Internal pores appear to be selected.\n"
       ]
      },
      {
       "output_type": "stream",
       "stream": "stderr",
       "text": [
        "WARNING:Stokes:The outlet pores have too many neighbors. Internal pores appear to be selected.\n"
       ]
      },
      {
       "output_type": "stream",
       "stream": "stderr",
       "text": [
        "WARNING:Cubic:The supplied pores are not coplanar. Length will be approximate.\n"
       ]
      },
      {
       "output_type": "stream",
       "stream": "stderr",
       "text": [
        "WARNING:Fickian:The inlet pores have too many neighbors. Internal pores appear to be selected.\n"
       ]
      },
      {
       "output_type": "stream",
       "stream": "stderr",
       "text": [
        "WARNING:Fickian:The outlet pores have too many neighbors. Internal pores appear to be selected.\n"
       ]
      },
      {
       "output_type": "stream",
       "stream": "stderr",
       "text": [
        "WARNING:Cubic:The supplied pores are not coplanar. Length will be approximate.\n"
       ]
      },
      {
       "output_type": "stream",
       "stream": "stderr",
       "text": [
        "WARNING:Stokes_2:The inlet pores have too many neighbors. Internal pores appear to be selected.\n"
       ]
      },
      {
       "output_type": "stream",
       "stream": "stderr",
       "text": [
        "WARNING:Stokes_2:The outlet pores have too many neighbors. Internal pores appear to be selected.\n"
       ]
      },
      {
       "output_type": "stream",
       "stream": "stderr",
       "text": [
        "WARNING:Cubic:The supplied pores are not coplanar. Length will be approximate.\n"
       ]
      },
      {
       "output_type": "stream",
       "stream": "stderr",
       "text": [
        "WARNING:Fickian_2:The inlet pores have too many neighbors. Internal pores appear to be selected.\n"
       ]
      },
      {
       "output_type": "stream",
       "stream": "stderr",
       "text": [
        "WARNING:Fickian_2:The outlet pores have too many neighbors. Internal pores appear to be selected.\n"
       ]
      },
      {
       "output_type": "stream",
       "stream": "stderr",
       "text": [
        "WARNING:Cubic:The supplied pores are not coplanar. Length will be approximate.\n"
       ]
      },
      {
       "output_type": "stream",
       "stream": "stderr",
       "text": [
        "WARNING:Stokes:The inlet pores have too many neighbors. Internal pores appear to be selected.\n"
       ]
      },
      {
       "output_type": "stream",
       "stream": "stderr",
       "text": [
        "WARNING:Stokes:The outlet pores have too many neighbors. Internal pores appear to be selected.\n"
       ]
      },
      {
       "output_type": "stream",
       "stream": "stderr",
       "text": [
        "WARNING:Cubic:The supplied pores are not coplanar. Length will be approximate.\n"
       ]
      },
      {
       "output_type": "stream",
       "stream": "stderr",
       "text": [
        "WARNING:Fickian:The inlet pores have too many neighbors. Internal pores appear to be selected.\n"
       ]
      },
      {
       "output_type": "stream",
       "stream": "stderr",
       "text": [
        "WARNING:Fickian:The outlet pores have too many neighbors. Internal pores appear to be selected.\n"
       ]
      },
      {
       "output_type": "stream",
       "stream": "stderr",
       "text": [
        "WARNING:Cubic:The supplied pores are not coplanar. Length will be approximate.\n"
       ]
      },
      {
       "output_type": "stream",
       "stream": "stderr",
       "text": [
        "WARNING:Stokes_2:The inlet pores have too many neighbors. Internal pores appear to be selected.\n"
       ]
      },
      {
       "output_type": "stream",
       "stream": "stderr",
       "text": [
        "WARNING:Stokes_2:The outlet pores have too many neighbors. Internal pores appear to be selected.\n"
       ]
      },
      {
       "output_type": "stream",
       "stream": "stderr",
       "text": [
        "WARNING:Cubic:The supplied pores are not coplanar. Length will be approximate.\n"
       ]
      },
      {
       "output_type": "stream",
       "stream": "stderr",
       "text": [
        "WARNING:Fickian_2:The inlet pores have too many neighbors. Internal pores appear to be selected.\n"
       ]
      },
      {
       "output_type": "stream",
       "stream": "stderr",
       "text": [
        "WARNING:Fickian_2:The outlet pores have too many neighbors. Internal pores appear to be selected.\n"
       ]
      },
      {
       "output_type": "stream",
       "stream": "stderr",
       "text": [
        "WARNING:Cubic:The supplied pores are not coplanar. Length will be approximate.\n"
       ]
      },
      {
       "output_type": "stream",
       "stream": "stderr",
       "text": [
        "WARNING:Stokes:The inlet pores have too many neighbors. Internal pores appear to be selected.\n"
       ]
      },
      {
       "output_type": "stream",
       "stream": "stderr",
       "text": [
        "WARNING:Stokes:The outlet pores have too many neighbors. Internal pores appear to be selected.\n"
       ]
      },
      {
       "output_type": "stream",
       "stream": "stderr",
       "text": [
        "WARNING:Cubic:The supplied pores are not coplanar. Length will be approximate.\n"
       ]
      },
      {
       "output_type": "stream",
       "stream": "stderr",
       "text": [
        "WARNING:Fickian:The inlet pores have too many neighbors. Internal pores appear to be selected.\n"
       ]
      },
      {
       "output_type": "stream",
       "stream": "stderr",
       "text": [
        "WARNING:Fickian:The outlet pores have too many neighbors. Internal pores appear to be selected.\n"
       ]
      },
      {
       "output_type": "stream",
       "stream": "stderr",
       "text": [
        "WARNING:Cubic:The supplied pores are not coplanar. Length will be approximate.\n"
       ]
      },
      {
       "output_type": "stream",
       "stream": "stderr",
       "text": [
        "WARNING:Stokes_2:The inlet pores have too many neighbors. Internal pores appear to be selected.\n"
       ]
      },
      {
       "output_type": "stream",
       "stream": "stderr",
       "text": [
        "WARNING:Stokes_2:The outlet pores have too many neighbors. Internal pores appear to be selected.\n"
       ]
      },
      {
       "output_type": "stream",
       "stream": "stderr",
       "text": [
        "WARNING:Cubic:The supplied pores are not coplanar. Length will be approximate.\n"
       ]
      },
      {
       "output_type": "stream",
       "stream": "stderr",
       "text": [
        "WARNING:Fickian_2:The inlet pores have too many neighbors. Internal pores appear to be selected.\n"
       ]
      },
      {
       "output_type": "stream",
       "stream": "stderr",
       "text": [
        "WARNING:Fickian_2:The outlet pores have too many neighbors. Internal pores appear to be selected.\n"
       ]
      },
      {
       "output_type": "stream",
       "stream": "stderr",
       "text": [
        "WARNING:Cubic:The supplied pores are not coplanar. Length will be approximate.\n"
       ]
      },
      {
       "output_type": "stream",
       "stream": "stderr",
       "text": [
        "WARNING:Stokes:The inlet pores have too many neighbors. Internal pores appear to be selected.\n"
       ]
      },
      {
       "output_type": "stream",
       "stream": "stderr",
       "text": [
        "WARNING:Stokes:The outlet pores have too many neighbors. Internal pores appear to be selected.\n"
       ]
      },
      {
       "output_type": "stream",
       "stream": "stderr",
       "text": [
        "WARNING:Cubic:The supplied pores are not coplanar. Length will be approximate.\n"
       ]
      },
      {
       "output_type": "stream",
       "stream": "stderr",
       "text": [
        "WARNING:Fickian:The inlet pores have too many neighbors. Internal pores appear to be selected.\n"
       ]
      },
      {
       "output_type": "stream",
       "stream": "stderr",
       "text": [
        "WARNING:Fickian:The outlet pores have too many neighbors. Internal pores appear to be selected.\n"
       ]
      },
      {
       "output_type": "stream",
       "stream": "stderr",
       "text": [
        "WARNING:Cubic:The supplied pores are not coplanar. Length will be approximate.\n"
       ]
      },
      {
       "output_type": "stream",
       "stream": "stderr",
       "text": [
        "WARNING:Stokes_2:The inlet pores have too many neighbors. Internal pores appear to be selected.\n"
       ]
      },
      {
       "output_type": "stream",
       "stream": "stderr",
       "text": [
        "WARNING:Stokes_2:The outlet pores have too many neighbors. Internal pores appear to be selected.\n"
       ]
      },
      {
       "output_type": "stream",
       "stream": "stderr",
       "text": [
        "WARNING:Cubic:The supplied pores are not coplanar. Length will be approximate.\n"
       ]
      },
      {
       "output_type": "stream",
       "stream": "stderr",
       "text": [
        "WARNING:Fickian_2:The inlet pores have too many neighbors. Internal pores appear to be selected.\n"
       ]
      },
      {
       "output_type": "stream",
       "stream": "stderr",
       "text": [
        "WARNING:Fickian_2:The outlet pores have too many neighbors. Internal pores appear to be selected.\n"
       ]
      },
      {
       "output_type": "stream",
       "stream": "stderr",
       "text": [
        "WARNING:Cubic:The supplied pores are not coplanar. Length will be approximate.\n"
       ]
      },
      {
       "output_type": "stream",
       "stream": "stderr",
       "text": [
        "WARNING:Stokes:The inlet pores have too many neighbors. Internal pores appear to be selected.\n"
       ]
      },
      {
       "output_type": "stream",
       "stream": "stderr",
       "text": [
        "WARNING:Stokes:The outlet pores have too many neighbors. Internal pores appear to be selected.\n"
       ]
      },
      {
       "output_type": "stream",
       "stream": "stderr",
       "text": [
        "WARNING:Cubic:The supplied pores are not coplanar. Length will be approximate.\n"
       ]
      },
      {
       "output_type": "stream",
       "stream": "stderr",
       "text": [
        "WARNING:Fickian:The inlet pores have too many neighbors. Internal pores appear to be selected.\n"
       ]
      },
      {
       "output_type": "stream",
       "stream": "stderr",
       "text": [
        "WARNING:Fickian:The outlet pores have too many neighbors. Internal pores appear to be selected.\n"
       ]
      },
      {
       "output_type": "stream",
       "stream": "stderr",
       "text": [
        "WARNING:Cubic:The supplied pores are not coplanar. Length will be approximate.\n"
       ]
      },
      {
       "output_type": "stream",
       "stream": "stderr",
       "text": [
        "WARNING:Stokes_2:The inlet pores have too many neighbors. Internal pores appear to be selected.\n"
       ]
      },
      {
       "output_type": "stream",
       "stream": "stderr",
       "text": [
        "WARNING:Stokes_2:The outlet pores have too many neighbors. Internal pores appear to be selected.\n"
       ]
      },
      {
       "output_type": "stream",
       "stream": "stderr",
       "text": [
        "WARNING:Cubic:The supplied pores are not coplanar. Length will be approximate.\n"
       ]
      },
      {
       "output_type": "stream",
       "stream": "stderr",
       "text": [
        "WARNING:Fickian_2:The inlet pores have too many neighbors. Internal pores appear to be selected.\n"
       ]
      },
      {
       "output_type": "stream",
       "stream": "stderr",
       "text": [
        "WARNING:Fickian_2:The outlet pores have too many neighbors. Internal pores appear to be selected.\n"
       ]
      },
      {
       "output_type": "stream",
       "stream": "stderr",
       "text": [
        "WARNING:Cubic:The supplied pores are not coplanar. Length will be approximate.\n"
       ]
      },
      {
       "output_type": "stream",
       "stream": "stderr",
       "text": [
        "WARNING:Stokes:The inlet pores have too many neighbors. Internal pores appear to be selected.\n"
       ]
      },
      {
       "output_type": "stream",
       "stream": "stderr",
       "text": [
        "WARNING:Stokes:The outlet pores have too many neighbors. Internal pores appear to be selected.\n"
       ]
      },
      {
       "output_type": "stream",
       "stream": "stderr",
       "text": [
        "WARNING:Cubic:The supplied pores are not coplanar. Length will be approximate.\n"
       ]
      },
      {
       "output_type": "stream",
       "stream": "stderr",
       "text": [
        "WARNING:Fickian:The inlet pores have too many neighbors. Internal pores appear to be selected.\n"
       ]
      },
      {
       "output_type": "stream",
       "stream": "stderr",
       "text": [
        "WARNING:Fickian:The outlet pores have too many neighbors. Internal pores appear to be selected.\n"
       ]
      },
      {
       "output_type": "stream",
       "stream": "stderr",
       "text": [
        "WARNING:Cubic:The supplied pores are not coplanar. Length will be approximate.\n"
       ]
      },
      {
       "output_type": "stream",
       "stream": "stderr",
       "text": [
        "WARNING:Stokes_2:The inlet pores have too many neighbors. Internal pores appear to be selected.\n"
       ]
      },
      {
       "output_type": "stream",
       "stream": "stderr",
       "text": [
        "WARNING:Stokes_2:The outlet pores have too many neighbors. Internal pores appear to be selected.\n"
       ]
      },
      {
       "output_type": "stream",
       "stream": "stderr",
       "text": [
        "WARNING:Cubic:The supplied pores are not coplanar. Length will be approximate.\n"
       ]
      },
      {
       "output_type": "stream",
       "stream": "stderr",
       "text": [
        "WARNING:Fickian_2:The inlet pores have too many neighbors. Internal pores appear to be selected.\n"
       ]
      },
      {
       "output_type": "stream",
       "stream": "stderr",
       "text": [
        "WARNING:Fickian_2:The outlet pores have too many neighbors. Internal pores appear to be selected.\n"
       ]
      },
      {
       "output_type": "stream",
       "stream": "stderr",
       "text": [
        "WARNING:Cubic:The supplied pores are not coplanar. Length will be approximate.\n"
       ]
      },
      {
       "output_type": "stream",
       "stream": "stderr",
       "text": [
        "WARNING:Stokes:The inlet pores have too many neighbors. Internal pores appear to be selected.\n"
       ]
      },
      {
       "output_type": "stream",
       "stream": "stderr",
       "text": [
        "WARNING:Stokes:The outlet pores have too many neighbors. Internal pores appear to be selected.\n"
       ]
      },
      {
       "output_type": "stream",
       "stream": "stderr",
       "text": [
        "WARNING:Cubic:The supplied pores are not coplanar. Length will be approximate.\n"
       ]
      },
      {
       "output_type": "stream",
       "stream": "stderr",
       "text": [
        "WARNING:Fickian:The inlet pores have too many neighbors. Internal pores appear to be selected.\n"
       ]
      },
      {
       "output_type": "stream",
       "stream": "stderr",
       "text": [
        "WARNING:Fickian:The outlet pores have too many neighbors. Internal pores appear to be selected.\n"
       ]
      },
      {
       "output_type": "stream",
       "stream": "stderr",
       "text": [
        "WARNING:Cubic:The supplied pores are not coplanar. Length will be approximate.\n"
       ]
      },
      {
       "output_type": "stream",
       "stream": "stderr",
       "text": [
        "WARNING:Stokes_2:The inlet pores have too many neighbors. Internal pores appear to be selected.\n"
       ]
      },
      {
       "output_type": "stream",
       "stream": "stderr",
       "text": [
        "WARNING:Stokes_2:The outlet pores have too many neighbors. Internal pores appear to be selected.\n"
       ]
      },
      {
       "output_type": "stream",
       "stream": "stderr",
       "text": [
        "WARNING:Cubic:The supplied pores are not coplanar. Length will be approximate.\n"
       ]
      },
      {
       "output_type": "stream",
       "stream": "stderr",
       "text": [
        "WARNING:Fickian_2:The inlet pores have too many neighbors. Internal pores appear to be selected.\n"
       ]
      },
      {
       "output_type": "stream",
       "stream": "stderr",
       "text": [
        "WARNING:Fickian_2:The outlet pores have too many neighbors. Internal pores appear to be selected.\n"
       ]
      },
      {
       "output_type": "stream",
       "stream": "stderr",
       "text": [
        "WARNING:Cubic:The supplied pores are not coplanar. Length will be approximate.\n"
       ]
      },
      {
       "output_type": "stream",
       "stream": "stderr",
       "text": [
        "WARNING:Stokes:The inlet pores have too many neighbors. Internal pores appear to be selected.\n"
       ]
      },
      {
       "output_type": "stream",
       "stream": "stderr",
       "text": [
        "WARNING:Stokes:The outlet pores have too many neighbors. Internal pores appear to be selected.\n"
       ]
      },
      {
       "output_type": "stream",
       "stream": "stderr",
       "text": [
        "WARNING:Cubic:The supplied pores are not coplanar. Length will be approximate.\n"
       ]
      },
      {
       "output_type": "stream",
       "stream": "stderr",
       "text": [
        "WARNING:Fickian:The inlet pores have too many neighbors. Internal pores appear to be selected.\n"
       ]
      },
      {
       "output_type": "stream",
       "stream": "stderr",
       "text": [
        "WARNING:Fickian:The outlet pores have too many neighbors. Internal pores appear to be selected.\n"
       ]
      },
      {
       "output_type": "stream",
       "stream": "stderr",
       "text": [
        "WARNING:Cubic:The supplied pores are not coplanar. Length will be approximate.\n"
       ]
      },
      {
       "output_type": "stream",
       "stream": "stderr",
       "text": [
        "WARNING:Stokes_2:The inlet pores have too many neighbors. Internal pores appear to be selected.\n"
       ]
      },
      {
       "output_type": "stream",
       "stream": "stderr",
       "text": [
        "WARNING:Stokes_2:The outlet pores have too many neighbors. Internal pores appear to be selected.\n"
       ]
      },
      {
       "output_type": "stream",
       "stream": "stderr",
       "text": [
        "WARNING:Cubic:The supplied pores are not coplanar. Length will be approximate.\n"
       ]
      },
      {
       "output_type": "stream",
       "stream": "stderr",
       "text": [
        "WARNING:Fickian_2:The inlet pores have too many neighbors. Internal pores appear to be selected.\n"
       ]
      },
      {
       "output_type": "stream",
       "stream": "stderr",
       "text": [
        "WARNING:Fickian_2:The outlet pores have too many neighbors. Internal pores appear to be selected.\n"
       ]
      },
      {
       "output_type": "stream",
       "stream": "stderr",
       "text": [
        "WARNING:Cubic:The supplied pores are not coplanar. Length will be approximate.\n"
       ]
      },
      {
       "output_type": "stream",
       "stream": "stderr",
       "text": [
        "WARNING:Stokes:The inlet pores have too many neighbors. Internal pores appear to be selected.\n"
       ]
      },
      {
       "output_type": "stream",
       "stream": "stderr",
       "text": [
        "WARNING:Stokes:The outlet pores have too many neighbors. Internal pores appear to be selected.\n"
       ]
      },
      {
       "output_type": "stream",
       "stream": "stderr",
       "text": [
        "WARNING:Cubic:The supplied pores are not coplanar. Length will be approximate.\n"
       ]
      },
      {
       "output_type": "stream",
       "stream": "stderr",
       "text": [
        "WARNING:Fickian:The inlet pores have too many neighbors. Internal pores appear to be selected.\n"
       ]
      },
      {
       "output_type": "stream",
       "stream": "stderr",
       "text": [
        "WARNING:Fickian:The outlet pores have too many neighbors. Internal pores appear to be selected.\n"
       ]
      },
      {
       "output_type": "stream",
       "stream": "stderr",
       "text": [
        "WARNING:Cubic:The supplied pores are not coplanar. Length will be approximate.\n"
       ]
      },
      {
       "output_type": "stream",
       "stream": "stderr",
       "text": [
        "WARNING:Stokes_2:The inlet pores have too many neighbors. Internal pores appear to be selected.\n"
       ]
      },
      {
       "output_type": "stream",
       "stream": "stderr",
       "text": [
        "WARNING:Stokes_2:The outlet pores have too many neighbors. Internal pores appear to be selected.\n"
       ]
      },
      {
       "output_type": "stream",
       "stream": "stderr",
       "text": [
        "WARNING:Cubic:The supplied pores are not coplanar. Length will be approximate.\n"
       ]
      },
      {
       "output_type": "stream",
       "stream": "stderr",
       "text": [
        "WARNING:Fickian_2:The inlet pores have too many neighbors. Internal pores appear to be selected.\n"
       ]
      },
      {
       "output_type": "stream",
       "stream": "stderr",
       "text": [
        "WARNING:Fickian_2:The outlet pores have too many neighbors. Internal pores appear to be selected.\n"
       ]
      },
      {
       "output_type": "stream",
       "stream": "stderr",
       "text": [
        "WARNING:Cubic:The supplied pores are not coplanar. Length will be approximate.\n"
       ]
      },
      {
       "output_type": "stream",
       "stream": "stderr",
       "text": [
        "WARNING:Stokes:The inlet pores have too many neighbors. Internal pores appear to be selected.\n"
       ]
      },
      {
       "output_type": "stream",
       "stream": "stderr",
       "text": [
        "WARNING:Stokes:The outlet pores have too many neighbors. Internal pores appear to be selected.\n"
       ]
      },
      {
       "output_type": "stream",
       "stream": "stderr",
       "text": [
        "WARNING:Cubic:The supplied pores are not coplanar. Length will be approximate.\n"
       ]
      },
      {
       "output_type": "stream",
       "stream": "stderr",
       "text": [
        "WARNING:Fickian:The inlet pores have too many neighbors. Internal pores appear to be selected.\n"
       ]
      },
      {
       "output_type": "stream",
       "stream": "stderr",
       "text": [
        "WARNING:Fickian:The outlet pores have too many neighbors. Internal pores appear to be selected.\n"
       ]
      },
      {
       "output_type": "stream",
       "stream": "stderr",
       "text": [
        "WARNING:Cubic:The supplied pores are not coplanar. Length will be approximate.\n"
       ]
      },
      {
       "output_type": "stream",
       "stream": "stderr",
       "text": [
        "WARNING:Stokes_2:The inlet pores have too many neighbors. Internal pores appear to be selected.\n"
       ]
      },
      {
       "output_type": "stream",
       "stream": "stderr",
       "text": [
        "WARNING:Stokes_2:The outlet pores have too many neighbors. Internal pores appear to be selected.\n"
       ]
      },
      {
       "output_type": "stream",
       "stream": "stderr",
       "text": [
        "WARNING:Cubic:The supplied pores are not coplanar. Length will be approximate.\n"
       ]
      },
      {
       "output_type": "stream",
       "stream": "stderr",
       "text": [
        "WARNING:Fickian_2:The inlet pores have too many neighbors. Internal pores appear to be selected.\n"
       ]
      },
      {
       "output_type": "stream",
       "stream": "stderr",
       "text": [
        "WARNING:Fickian_2:The outlet pores have too many neighbors. Internal pores appear to be selected.\n"
       ]
      },
      {
       "output_type": "stream",
       "stream": "stderr",
       "text": [
        "WARNING:Cubic:The supplied pores are not coplanar. Length will be approximate.\n"
       ]
      },
      {
       "output_type": "stream",
       "stream": "stderr",
       "text": [
        "WARNING:Stokes:The inlet pores have too many neighbors. Internal pores appear to be selected.\n"
       ]
      },
      {
       "output_type": "stream",
       "stream": "stderr",
       "text": [
        "WARNING:Stokes:The outlet pores have too many neighbors. Internal pores appear to be selected.\n"
       ]
      },
      {
       "output_type": "stream",
       "stream": "stderr",
       "text": [
        "WARNING:Cubic:The supplied pores are not coplanar. Length will be approximate.\n"
       ]
      },
      {
       "output_type": "stream",
       "stream": "stderr",
       "text": [
        "WARNING:Fickian:The inlet pores have too many neighbors. Internal pores appear to be selected.\n"
       ]
      },
      {
       "output_type": "stream",
       "stream": "stderr",
       "text": [
        "WARNING:Fickian:The outlet pores have too many neighbors. Internal pores appear to be selected.\n"
       ]
      },
      {
       "output_type": "stream",
       "stream": "stderr",
       "text": [
        "WARNING:Cubic:The supplied pores are not coplanar. Length will be approximate.\n"
       ]
      },
      {
       "output_type": "stream",
       "stream": "stderr",
       "text": [
        "WARNING:Stokes_2:The inlet pores have too many neighbors. Internal pores appear to be selected.\n"
       ]
      },
      {
       "output_type": "stream",
       "stream": "stderr",
       "text": [
        "WARNING:Stokes_2:The outlet pores have too many neighbors. Internal pores appear to be selected.\n"
       ]
      },
      {
       "output_type": "stream",
       "stream": "stderr",
       "text": [
        "WARNING:Cubic:The supplied pores are not coplanar. Length will be approximate.\n"
       ]
      },
      {
       "output_type": "stream",
       "stream": "stderr",
       "text": [
        "WARNING:Fickian_2:The inlet pores have too many neighbors. Internal pores appear to be selected.\n"
       ]
      },
      {
       "output_type": "stream",
       "stream": "stderr",
       "text": [
        "WARNING:Fickian_2:The outlet pores have too many neighbors. Internal pores appear to be selected.\n"
       ]
      },
      {
       "output_type": "stream",
       "stream": "stderr",
       "text": [
        "WARNING:Cubic:The supplied pores are not coplanar. Length will be approximate.\n"
       ]
      },
      {
       "output_type": "stream",
       "stream": "stderr",
       "text": [
        "WARNING:Stokes:The inlet pores have too many neighbors. Internal pores appear to be selected.\n"
       ]
      },
      {
       "output_type": "stream",
       "stream": "stderr",
       "text": [
        "WARNING:Stokes:The outlet pores have too many neighbors. Internal pores appear to be selected.\n"
       ]
      },
      {
       "output_type": "stream",
       "stream": "stderr",
       "text": [
        "WARNING:Cubic:The supplied pores are not coplanar. Length will be approximate.\n"
       ]
      },
      {
       "output_type": "stream",
       "stream": "stderr",
       "text": [
        "WARNING:Fickian:The inlet pores have too many neighbors. Internal pores appear to be selected.\n"
       ]
      },
      {
       "output_type": "stream",
       "stream": "stderr",
       "text": [
        "WARNING:Fickian:The outlet pores have too many neighbors. Internal pores appear to be selected.\n"
       ]
      },
      {
       "output_type": "stream",
       "stream": "stderr",
       "text": [
        "WARNING:Cubic:The supplied pores are not coplanar. Length will be approximate.\n"
       ]
      },
      {
       "output_type": "stream",
       "stream": "stderr",
       "text": [
        "WARNING:Stokes_2:The inlet pores have too many neighbors. Internal pores appear to be selected.\n"
       ]
      },
      {
       "output_type": "stream",
       "stream": "stderr",
       "text": [
        "WARNING:Stokes_2:The outlet pores have too many neighbors. Internal pores appear to be selected.\n"
       ]
      },
      {
       "output_type": "stream",
       "stream": "stderr",
       "text": [
        "WARNING:Cubic:The supplied pores are not coplanar. Length will be approximate.\n"
       ]
      },
      {
       "output_type": "stream",
       "stream": "stderr",
       "text": [
        "WARNING:Fickian_2:The inlet pores have too many neighbors. Internal pores appear to be selected.\n"
       ]
      },
      {
       "output_type": "stream",
       "stream": "stderr",
       "text": [
        "WARNING:Fickian_2:The outlet pores have too many neighbors. Internal pores appear to be selected.\n"
       ]
      },
      {
       "output_type": "stream",
       "stream": "stderr",
       "text": [
        "WARNING:Cubic:The supplied pores are not coplanar. Length will be approximate.\n"
       ]
      },
      {
       "output_type": "stream",
       "stream": "stderr",
       "text": [
        "WARNING:Stokes:The inlet pores have too many neighbors. Internal pores appear to be selected.\n"
       ]
      },
      {
       "output_type": "stream",
       "stream": "stderr",
       "text": [
        "WARNING:Stokes:The outlet pores have too many neighbors. Internal pores appear to be selected.\n"
       ]
      },
      {
       "output_type": "stream",
       "stream": "stderr",
       "text": [
        "WARNING:Cubic:The supplied pores are not coplanar. Length will be approximate.\n"
       ]
      },
      {
       "output_type": "stream",
       "stream": "stderr",
       "text": [
        "WARNING:Fickian:The inlet pores have too many neighbors. Internal pores appear to be selected.\n"
       ]
      },
      {
       "output_type": "stream",
       "stream": "stderr",
       "text": [
        "WARNING:Fickian:The outlet pores have too many neighbors. Internal pores appear to be selected.\n"
       ]
      },
      {
       "output_type": "stream",
       "stream": "stderr",
       "text": [
        "WARNING:Cubic:The supplied pores are not coplanar. Length will be approximate.\n"
       ]
      },
      {
       "output_type": "stream",
       "stream": "stderr",
       "text": [
        "WARNING:Stokes_2:The inlet pores have too many neighbors. Internal pores appear to be selected.\n"
       ]
      },
      {
       "output_type": "stream",
       "stream": "stderr",
       "text": [
        "WARNING:Stokes_2:The outlet pores have too many neighbors. Internal pores appear to be selected.\n"
       ]
      },
      {
       "output_type": "stream",
       "stream": "stderr",
       "text": [
        "WARNING:Cubic:The supplied pores are not coplanar. Length will be approximate.\n"
       ]
      },
      {
       "output_type": "stream",
       "stream": "stderr",
       "text": [
        "WARNING:Fickian_2:The inlet pores have too many neighbors. Internal pores appear to be selected.\n"
       ]
      },
      {
       "output_type": "stream",
       "stream": "stderr",
       "text": [
        "WARNING:Fickian_2:The outlet pores have too many neighbors. Internal pores appear to be selected.\n"
       ]
      },
      {
       "output_type": "stream",
       "stream": "stderr",
       "text": [
        "WARNING:Cubic:The supplied pores are not coplanar. Length will be approximate.\n"
       ]
      },
      {
       "output_type": "stream",
       "stream": "stderr",
       "text": [
        "WARNING:Stokes:The inlet pores have too many neighbors. Internal pores appear to be selected.\n"
       ]
      },
      {
       "output_type": "stream",
       "stream": "stderr",
       "text": [
        "WARNING:Stokes:The outlet pores have too many neighbors. Internal pores appear to be selected.\n"
       ]
      },
      {
       "output_type": "stream",
       "stream": "stderr",
       "text": [
        "WARNING:Cubic:The supplied pores are not coplanar. Length will be approximate.\n"
       ]
      },
      {
       "output_type": "stream",
       "stream": "stderr",
       "text": [
        "WARNING:Fickian:The inlet pores have too many neighbors. Internal pores appear to be selected.\n"
       ]
      },
      {
       "output_type": "stream",
       "stream": "stderr",
       "text": [
        "WARNING:Fickian:The outlet pores have too many neighbors. Internal pores appear to be selected.\n"
       ]
      },
      {
       "output_type": "stream",
       "stream": "stderr",
       "text": [
        "WARNING:Cubic:The supplied pores are not coplanar. Length will be approximate.\n"
       ]
      },
      {
       "output_type": "stream",
       "stream": "stderr",
       "text": [
        "WARNING:Stokes_2:The inlet pores have too many neighbors. Internal pores appear to be selected.\n"
       ]
      },
      {
       "output_type": "stream",
       "stream": "stderr",
       "text": [
        "WARNING:Stokes_2:The outlet pores have too many neighbors. Internal pores appear to be selected.\n"
       ]
      },
      {
       "output_type": "stream",
       "stream": "stderr",
       "text": [
        "WARNING:Cubic:The supplied pores are not coplanar. Length will be approximate.\n"
       ]
      },
      {
       "output_type": "stream",
       "stream": "stderr",
       "text": [
        "WARNING:Fickian_2:The inlet pores have too many neighbors. Internal pores appear to be selected.\n"
       ]
      },
      {
       "output_type": "stream",
       "stream": "stderr",
       "text": [
        "WARNING:Fickian_2:The outlet pores have too many neighbors. Internal pores appear to be selected.\n"
       ]
      },
      {
       "output_type": "stream",
       "stream": "stderr",
       "text": [
        "WARNING:Cubic:The supplied pores are not coplanar. Length will be approximate.\n"
       ]
      },
      {
       "output_type": "stream",
       "stream": "stderr",
       "text": [
        "WARNING:Stokes:The inlet pores have too many neighbors. Internal pores appear to be selected.\n"
       ]
      },
      {
       "output_type": "stream",
       "stream": "stderr",
       "text": [
        "WARNING:Stokes:The outlet pores have too many neighbors. Internal pores appear to be selected.\n"
       ]
      },
      {
       "output_type": "stream",
       "stream": "stderr",
       "text": [
        "WARNING:Cubic:The supplied pores are not coplanar. Length will be approximate.\n"
       ]
      },
      {
       "output_type": "stream",
       "stream": "stderr",
       "text": [
        "WARNING:Fickian:The inlet pores have too many neighbors. Internal pores appear to be selected.\n"
       ]
      },
      {
       "output_type": "stream",
       "stream": "stderr",
       "text": [
        "WARNING:Fickian:The outlet pores have too many neighbors. Internal pores appear to be selected.\n"
       ]
      },
      {
       "output_type": "stream",
       "stream": "stderr",
       "text": [
        "WARNING:Cubic:The supplied pores are not coplanar. Length will be approximate.\n"
       ]
      },
      {
       "output_type": "stream",
       "stream": "stderr",
       "text": [
        "WARNING:Stokes_2:The inlet pores have too many neighbors. Internal pores appear to be selected.\n"
       ]
      },
      {
       "output_type": "stream",
       "stream": "stderr",
       "text": [
        "WARNING:Stokes_2:The outlet pores have too many neighbors. Internal pores appear to be selected.\n"
       ]
      },
      {
       "output_type": "stream",
       "stream": "stderr",
       "text": [
        "WARNING:Cubic:The supplied pores are not coplanar. Length will be approximate.\n"
       ]
      },
      {
       "output_type": "stream",
       "stream": "stderr",
       "text": [
        "WARNING:Fickian_2:The inlet pores have too many neighbors. Internal pores appear to be selected.\n"
       ]
      },
      {
       "output_type": "stream",
       "stream": "stderr",
       "text": [
        "WARNING:Fickian_2:The outlet pores have too many neighbors. Internal pores appear to be selected.\n"
       ]
      },
      {
       "output_type": "stream",
       "stream": "stderr",
       "text": [
        "WARNING:Cubic:The supplied pores are not coplanar. Length will be approximate.\n"
       ]
      },
      {
       "output_type": "stream",
       "stream": "stderr",
       "text": [
        "WARNING:Stokes:The inlet pores have too many neighbors. Internal pores appear to be selected.\n"
       ]
      },
      {
       "output_type": "stream",
       "stream": "stderr",
       "text": [
        "WARNING:Stokes:The outlet pores have too many neighbors. Internal pores appear to be selected.\n"
       ]
      },
      {
       "output_type": "stream",
       "stream": "stderr",
       "text": [
        "WARNING:Cubic:The supplied pores are not coplanar. Length will be approximate.\n"
       ]
      },
      {
       "output_type": "stream",
       "stream": "stderr",
       "text": [
        "WARNING:Fickian:The inlet pores have too many neighbors. Internal pores appear to be selected.\n"
       ]
      },
      {
       "output_type": "stream",
       "stream": "stderr",
       "text": [
        "WARNING:Fickian:The outlet pores have too many neighbors. Internal pores appear to be selected.\n"
       ]
      },
      {
       "output_type": "stream",
       "stream": "stderr",
       "text": [
        "WARNING:Cubic:The supplied pores are not coplanar. Length will be approximate.\n"
       ]
      },
      {
       "output_type": "stream",
       "stream": "stderr",
       "text": [
        "WARNING:Stokes_2:The inlet pores have too many neighbors. Internal pores appear to be selected.\n"
       ]
      },
      {
       "output_type": "stream",
       "stream": "stderr",
       "text": [
        "WARNING:Stokes_2:The outlet pores have too many neighbors. Internal pores appear to be selected.\n"
       ]
      },
      {
       "output_type": "stream",
       "stream": "stderr",
       "text": [
        "WARNING:Cubic:The supplied pores are not coplanar. Length will be approximate.\n"
       ]
      },
      {
       "output_type": "stream",
       "stream": "stderr",
       "text": [
        "WARNING:Fickian_2:The inlet pores have too many neighbors. Internal pores appear to be selected.\n"
       ]
      },
      {
       "output_type": "stream",
       "stream": "stderr",
       "text": [
        "WARNING:Fickian_2:The outlet pores have too many neighbors. Internal pores appear to be selected.\n"
       ]
      },
      {
       "output_type": "stream",
       "stream": "stderr",
       "text": [
        "WARNING:Cubic:The supplied pores are not coplanar. Length will be approximate.\n"
       ]
      },
      {
       "output_type": "stream",
       "stream": "stderr",
       "text": [
        "WARNING:Stokes:The inlet pores have too many neighbors. Internal pores appear to be selected.\n"
       ]
      },
      {
       "output_type": "stream",
       "stream": "stderr",
       "text": [
        "WARNING:Stokes:The outlet pores have too many neighbors. Internal pores appear to be selected.\n"
       ]
      },
      {
       "output_type": "stream",
       "stream": "stderr",
       "text": [
        "WARNING:Cubic:The supplied pores are not coplanar. Length will be approximate.\n"
       ]
      },
      {
       "output_type": "stream",
       "stream": "stderr",
       "text": [
        "WARNING:Fickian:The inlet pores have too many neighbors. Internal pores appear to be selected.\n"
       ]
      },
      {
       "output_type": "stream",
       "stream": "stderr",
       "text": [
        "WARNING:Fickian:The outlet pores have too many neighbors. Internal pores appear to be selected.\n"
       ]
      },
      {
       "output_type": "stream",
       "stream": "stderr",
       "text": [
        "WARNING:Cubic:The supplied pores are not coplanar. Length will be approximate.\n"
       ]
      },
      {
       "output_type": "stream",
       "stream": "stderr",
       "text": [
        "WARNING:Stokes_2:The inlet pores have too many neighbors. Internal pores appear to be selected.\n"
       ]
      },
      {
       "output_type": "stream",
       "stream": "stderr",
       "text": [
        "WARNING:Stokes_2:The outlet pores have too many neighbors. Internal pores appear to be selected.\n"
       ]
      },
      {
       "output_type": "stream",
       "stream": "stderr",
       "text": [
        "WARNING:Cubic:The supplied pores are not coplanar. Length will be approximate.\n"
       ]
      },
      {
       "output_type": "stream",
       "stream": "stderr",
       "text": [
        "WARNING:Fickian_2:The inlet pores have too many neighbors. Internal pores appear to be selected.\n"
       ]
      },
      {
       "output_type": "stream",
       "stream": "stderr",
       "text": [
        "WARNING:Fickian_2:The outlet pores have too many neighbors. Internal pores appear to be selected.\n"
       ]
      },
      {
       "output_type": "stream",
       "stream": "stderr",
       "text": [
        "WARNING:Cubic:The supplied pores are not coplanar. Length will be approximate.\n"
       ]
      },
      {
       "output_type": "stream",
       "stream": "stderr",
       "text": [
        "WARNING:Stokes:The inlet pores have too many neighbors. Internal pores appear to be selected.\n"
       ]
      },
      {
       "output_type": "stream",
       "stream": "stderr",
       "text": [
        "WARNING:Stokes:The outlet pores have too many neighbors. Internal pores appear to be selected.\n"
       ]
      },
      {
       "output_type": "stream",
       "stream": "stderr",
       "text": [
        "WARNING:Cubic:The supplied pores are not coplanar. Length will be approximate.\n"
       ]
      },
      {
       "output_type": "stream",
       "stream": "stderr",
       "text": [
        "WARNING:Fickian:The inlet pores have too many neighbors. Internal pores appear to be selected.\n"
       ]
      },
      {
       "output_type": "stream",
       "stream": "stderr",
       "text": [
        "WARNING:Fickian:The outlet pores have too many neighbors. Internal pores appear to be selected.\n"
       ]
      },
      {
       "output_type": "stream",
       "stream": "stderr",
       "text": [
        "WARNING:Cubic:The supplied pores are not coplanar. Length will be approximate.\n"
       ]
      },
      {
       "output_type": "stream",
       "stream": "stderr",
       "text": [
        "WARNING:Stokes_2:The inlet pores have too many neighbors. Internal pores appear to be selected.\n"
       ]
      },
      {
       "output_type": "stream",
       "stream": "stderr",
       "text": [
        "WARNING:Stokes_2:The outlet pores have too many neighbors. Internal pores appear to be selected.\n"
       ]
      },
      {
       "output_type": "stream",
       "stream": "stderr",
       "text": [
        "WARNING:Cubic:The supplied pores are not coplanar. Length will be approximate.\n"
       ]
      },
      {
       "output_type": "stream",
       "stream": "stderr",
       "text": [
        "WARNING:Fickian_2:The inlet pores have too many neighbors. Internal pores appear to be selected.\n"
       ]
      },
      {
       "output_type": "stream",
       "stream": "stderr",
       "text": [
        "WARNING:Fickian_2:The outlet pores have too many neighbors. Internal pores appear to be selected.\n"
       ]
      },
      {
       "output_type": "stream",
       "stream": "stderr",
       "text": [
        "WARNING:Cubic:The supplied pores are not coplanar. Length will be approximate.\n"
       ]
      },
      {
       "output_type": "stream",
       "stream": "stderr",
       "text": [
        "WARNING:Stokes:The inlet pores have too many neighbors. Internal pores appear to be selected.\n"
       ]
      },
      {
       "output_type": "stream",
       "stream": "stderr",
       "text": [
        "WARNING:Stokes:The outlet pores have too many neighbors. Internal pores appear to be selected.\n"
       ]
      },
      {
       "output_type": "stream",
       "stream": "stderr",
       "text": [
        "WARNING:Cubic:The supplied pores are not coplanar. Length will be approximate.\n"
       ]
      },
      {
       "output_type": "stream",
       "stream": "stderr",
       "text": [
        "WARNING:Fickian:The inlet pores have too many neighbors. Internal pores appear to be selected.\n"
       ]
      },
      {
       "output_type": "stream",
       "stream": "stderr",
       "text": [
        "WARNING:Fickian:The outlet pores have too many neighbors. Internal pores appear to be selected.\n"
       ]
      },
      {
       "output_type": "stream",
       "stream": "stderr",
       "text": [
        "WARNING:Cubic:The supplied pores are not coplanar. Length will be approximate.\n"
       ]
      },
      {
       "output_type": "stream",
       "stream": "stderr",
       "text": [
        "WARNING:Stokes_2:The inlet pores have too many neighbors. Internal pores appear to be selected.\n"
       ]
      },
      {
       "output_type": "stream",
       "stream": "stderr",
       "text": [
        "WARNING:Stokes_2:The outlet pores have too many neighbors. Internal pores appear to be selected.\n"
       ]
      },
      {
       "output_type": "stream",
       "stream": "stderr",
       "text": [
        "WARNING:Cubic:The supplied pores are not coplanar. Length will be approximate.\n"
       ]
      },
      {
       "output_type": "stream",
       "stream": "stderr",
       "text": [
        "WARNING:Fickian_2:The inlet pores have too many neighbors. Internal pores appear to be selected.\n"
       ]
      },
      {
       "output_type": "stream",
       "stream": "stderr",
       "text": [
        "WARNING:Fickian_2:The outlet pores have too many neighbors. Internal pores appear to be selected.\n"
       ]
      },
      {
       "output_type": "stream",
       "stream": "stderr",
       "text": [
        "WARNING:Cubic:The supplied pores are not coplanar. Length will be approximate.\n"
       ]
      },
      {
       "output_type": "stream",
       "stream": "stderr",
       "text": [
        "WARNING:Stokes:The inlet pores have too many neighbors. Internal pores appear to be selected.\n"
       ]
      },
      {
       "output_type": "stream",
       "stream": "stderr",
       "text": [
        "WARNING:Stokes:The outlet pores have too many neighbors. Internal pores appear to be selected.\n"
       ]
      },
      {
       "output_type": "stream",
       "stream": "stderr",
       "text": [
        "WARNING:Cubic:The supplied pores are not coplanar. Length will be approximate.\n"
       ]
      },
      {
       "output_type": "stream",
       "stream": "stderr",
       "text": [
        "WARNING:Fickian:The inlet pores have too many neighbors. Internal pores appear to be selected.\n"
       ]
      },
      {
       "output_type": "stream",
       "stream": "stderr",
       "text": [
        "WARNING:Fickian:The outlet pores have too many neighbors. Internal pores appear to be selected.\n"
       ]
      },
      {
       "output_type": "stream",
       "stream": "stderr",
       "text": [
        "WARNING:Cubic:The supplied pores are not coplanar. Length will be approximate.\n"
       ]
      },
      {
       "output_type": "stream",
       "stream": "stderr",
       "text": [
        "WARNING:Stokes_2:The inlet pores have too many neighbors. Internal pores appear to be selected.\n"
       ]
      },
      {
       "output_type": "stream",
       "stream": "stderr",
       "text": [
        "WARNING:Stokes_2:The outlet pores have too many neighbors. Internal pores appear to be selected.\n"
       ]
      },
      {
       "output_type": "stream",
       "stream": "stderr",
       "text": [
        "WARNING:Cubic:The supplied pores are not coplanar. Length will be approximate.\n"
       ]
      },
      {
       "output_type": "stream",
       "stream": "stderr",
       "text": [
        "WARNING:Fickian_2:The inlet pores have too many neighbors. Internal pores appear to be selected.\n"
       ]
      },
      {
       "output_type": "stream",
       "stream": "stderr",
       "text": [
        "WARNING:Fickian_2:The outlet pores have too many neighbors. Internal pores appear to be selected.\n"
       ]
      },
      {
       "output_type": "stream",
       "stream": "stderr",
       "text": [
        "WARNING:Cubic:The supplied pores are not coplanar. Length will be approximate.\n"
       ]
      },
      {
       "output_type": "stream",
       "stream": "stderr",
       "text": [
        "WARNING:Stokes:The inlet pores have too many neighbors. Internal pores appear to be selected.\n"
       ]
      },
      {
       "output_type": "stream",
       "stream": "stderr",
       "text": [
        "WARNING:Stokes:The outlet pores have too many neighbors. Internal pores appear to be selected.\n"
       ]
      },
      {
       "output_type": "stream",
       "stream": "stderr",
       "text": [
        "WARNING:Cubic:The supplied pores are not coplanar. Length will be approximate.\n"
       ]
      },
      {
       "output_type": "stream",
       "stream": "stderr",
       "text": [
        "WARNING:Fickian:The inlet pores have too many neighbors. Internal pores appear to be selected.\n"
       ]
      },
      {
       "output_type": "stream",
       "stream": "stderr",
       "text": [
        "WARNING:Fickian:The outlet pores have too many neighbors. Internal pores appear to be selected.\n"
       ]
      },
      {
       "output_type": "stream",
       "stream": "stderr",
       "text": [
        "WARNING:Cubic:The supplied pores are not coplanar. Length will be approximate.\n"
       ]
      },
      {
       "output_type": "stream",
       "stream": "stderr",
       "text": [
        "WARNING:Stokes_2:The inlet pores have too many neighbors. Internal pores appear to be selected.\n"
       ]
      },
      {
       "output_type": "stream",
       "stream": "stderr",
       "text": [
        "WARNING:Stokes_2:The outlet pores have too many neighbors. Internal pores appear to be selected.\n"
       ]
      },
      {
       "output_type": "stream",
       "stream": "stderr",
       "text": [
        "WARNING:Cubic:The supplied pores are not coplanar. Length will be approximate.\n"
       ]
      },
      {
       "output_type": "stream",
       "stream": "stderr",
       "text": [
        "WARNING:Fickian_2:The inlet pores have too many neighbors. Internal pores appear to be selected.\n"
       ]
      },
      {
       "output_type": "stream",
       "stream": "stderr",
       "text": [
        "WARNING:Fickian_2:The outlet pores have too many neighbors. Internal pores appear to be selected.\n"
       ]
      },
      {
       "output_type": "stream",
       "stream": "stderr",
       "text": [
        "WARNING:Cubic:The supplied pores are not coplanar. Length will be approximate.\n"
       ]
      },
      {
       "output_type": "stream",
       "stream": "stderr",
       "text": [
        "WARNING:Stokes:The inlet pores have too many neighbors. Internal pores appear to be selected.\n"
       ]
      },
      {
       "output_type": "stream",
       "stream": "stderr",
       "text": [
        "WARNING:Stokes:The outlet pores have too many neighbors. Internal pores appear to be selected.\n"
       ]
      },
      {
       "output_type": "stream",
       "stream": "stderr",
       "text": [
        "WARNING:Cubic:The supplied pores are not coplanar. Length will be approximate.\n"
       ]
      },
      {
       "output_type": "stream",
       "stream": "stderr",
       "text": [
        "WARNING:Fickian:The inlet pores have too many neighbors. Internal pores appear to be selected.\n"
       ]
      },
      {
       "output_type": "stream",
       "stream": "stderr",
       "text": [
        "WARNING:Fickian:The outlet pores have too many neighbors. Internal pores appear to be selected.\n"
       ]
      },
      {
       "output_type": "stream",
       "stream": "stderr",
       "text": [
        "WARNING:Cubic:The supplied pores are not coplanar. Length will be approximate.\n"
       ]
      },
      {
       "output_type": "stream",
       "stream": "stderr",
       "text": [
        "WARNING:Stokes_2:The inlet pores have too many neighbors. Internal pores appear to be selected.\n"
       ]
      },
      {
       "output_type": "stream",
       "stream": "stderr",
       "text": [
        "WARNING:Stokes_2:The outlet pores have too many neighbors. Internal pores appear to be selected.\n"
       ]
      },
      {
       "output_type": "stream",
       "stream": "stderr",
       "text": [
        "WARNING:Cubic:The supplied pores are not coplanar. Length will be approximate.\n"
       ]
      },
      {
       "output_type": "stream",
       "stream": "stderr",
       "text": [
        "WARNING:Fickian_2:The inlet pores have too many neighbors. Internal pores appear to be selected.\n"
       ]
      },
      {
       "output_type": "stream",
       "stream": "stderr",
       "text": [
        "WARNING:Fickian_2:The outlet pores have too many neighbors. Internal pores appear to be selected.\n"
       ]
      },
      {
       "output_type": "stream",
       "stream": "stderr",
       "text": [
        "WARNING:Cubic:The supplied pores are not coplanar. Length will be approximate.\n"
       ]
      },
      {
       "output_type": "stream",
       "stream": "stderr",
       "text": [
        "WARNING:Stokes:The inlet pores have too many neighbors. Internal pores appear to be selected.\n"
       ]
      },
      {
       "output_type": "stream",
       "stream": "stderr",
       "text": [
        "WARNING:Stokes:The outlet pores have too many neighbors. Internal pores appear to be selected.\n"
       ]
      },
      {
       "output_type": "stream",
       "stream": "stderr",
       "text": [
        "WARNING:Cubic:The supplied pores are not coplanar. Length will be approximate.\n"
       ]
      },
      {
       "output_type": "stream",
       "stream": "stderr",
       "text": [
        "WARNING:Fickian:The inlet pores have too many neighbors. Internal pores appear to be selected.\n"
       ]
      },
      {
       "output_type": "stream",
       "stream": "stderr",
       "text": [
        "WARNING:Fickian:The outlet pores have too many neighbors. Internal pores appear to be selected.\n"
       ]
      },
      {
       "output_type": "stream",
       "stream": "stderr",
       "text": [
        "WARNING:Cubic:The supplied pores are not coplanar. Length will be approximate.\n"
       ]
      },
      {
       "output_type": "stream",
       "stream": "stderr",
       "text": [
        "WARNING:Stokes_2:The inlet pores have too many neighbors. Internal pores appear to be selected.\n"
       ]
      },
      {
       "output_type": "stream",
       "stream": "stderr",
       "text": [
        "WARNING:Stokes_2:The outlet pores have too many neighbors. Internal pores appear to be selected.\n"
       ]
      },
      {
       "output_type": "stream",
       "stream": "stderr",
       "text": [
        "WARNING:Cubic:The supplied pores are not coplanar. Length will be approximate.\n"
       ]
      },
      {
       "output_type": "stream",
       "stream": "stderr",
       "text": [
        "WARNING:Fickian_2:The inlet pores have too many neighbors. Internal pores appear to be selected.\n"
       ]
      },
      {
       "output_type": "stream",
       "stream": "stderr",
       "text": [
        "WARNING:Fickian_2:The outlet pores have too many neighbors. Internal pores appear to be selected.\n"
       ]
      },
      {
       "output_type": "stream",
       "stream": "stderr",
       "text": [
        "WARNING:Cubic:The supplied pores are not coplanar. Length will be approximate.\n"
       ]
      },
      {
       "output_type": "stream",
       "stream": "stderr",
       "text": [
        "WARNING:Stokes:The inlet pores have too many neighbors. Internal pores appear to be selected.\n"
       ]
      },
      {
       "output_type": "stream",
       "stream": "stderr",
       "text": [
        "WARNING:Stokes:The outlet pores have too many neighbors. Internal pores appear to be selected.\n"
       ]
      },
      {
       "output_type": "stream",
       "stream": "stderr",
       "text": [
        "WARNING:Cubic:The supplied pores are not coplanar. Length will be approximate.\n"
       ]
      },
      {
       "output_type": "stream",
       "stream": "stderr",
       "text": [
        "WARNING:Fickian:The inlet pores have too many neighbors. Internal pores appear to be selected.\n"
       ]
      },
      {
       "output_type": "stream",
       "stream": "stderr",
       "text": [
        "WARNING:Fickian:The outlet pores have too many neighbors. Internal pores appear to be selected.\n"
       ]
      },
      {
       "output_type": "stream",
       "stream": "stderr",
       "text": [
        "WARNING:Cubic:The supplied pores are not coplanar. Length will be approximate.\n"
       ]
      },
      {
       "output_type": "stream",
       "stream": "stderr",
       "text": [
        "WARNING:Stokes_2:The inlet pores have too many neighbors. Internal pores appear to be selected.\n"
       ]
      },
      {
       "output_type": "stream",
       "stream": "stderr",
       "text": [
        "WARNING:Stokes_2:The outlet pores have too many neighbors. Internal pores appear to be selected.\n"
       ]
      },
      {
       "output_type": "stream",
       "stream": "stderr",
       "text": [
        "WARNING:Cubic:The supplied pores are not coplanar. Length will be approximate.\n"
       ]
      },
      {
       "output_type": "stream",
       "stream": "stderr",
       "text": [
        "WARNING:Fickian_2:The inlet pores have too many neighbors. Internal pores appear to be selected.\n"
       ]
      },
      {
       "output_type": "stream",
       "stream": "stderr",
       "text": [
        "WARNING:Fickian_2:The outlet pores have too many neighbors. Internal pores appear to be selected.\n"
       ]
      },
      {
       "output_type": "stream",
       "stream": "stderr",
       "text": [
        "WARNING:Cubic:The supplied pores are not coplanar. Length will be approximate.\n"
       ]
      },
      {
       "output_type": "stream",
       "stream": "stderr",
       "text": [
        "WARNING:Stokes:The inlet pores have too many neighbors. Internal pores appear to be selected.\n"
       ]
      },
      {
       "output_type": "stream",
       "stream": "stderr",
       "text": [
        "WARNING:Stokes:The outlet pores have too many neighbors. Internal pores appear to be selected.\n"
       ]
      },
      {
       "output_type": "stream",
       "stream": "stderr",
       "text": [
        "WARNING:Cubic:The supplied pores are not coplanar. Length will be approximate.\n"
       ]
      },
      {
       "output_type": "stream",
       "stream": "stderr",
       "text": [
        "WARNING:Fickian:The inlet pores have too many neighbors. Internal pores appear to be selected.\n"
       ]
      },
      {
       "output_type": "stream",
       "stream": "stderr",
       "text": [
        "WARNING:Fickian:The outlet pores have too many neighbors. Internal pores appear to be selected.\n"
       ]
      },
      {
       "output_type": "stream",
       "stream": "stderr",
       "text": [
        "WARNING:Cubic:The supplied pores are not coplanar. Length will be approximate.\n"
       ]
      },
      {
       "output_type": "stream",
       "stream": "stderr",
       "text": [
        "WARNING:Stokes_2:The inlet pores have too many neighbors. Internal pores appear to be selected.\n"
       ]
      },
      {
       "output_type": "stream",
       "stream": "stderr",
       "text": [
        "WARNING:Stokes_2:The outlet pores have too many neighbors. Internal pores appear to be selected.\n"
       ]
      },
      {
       "output_type": "stream",
       "stream": "stderr",
       "text": [
        "WARNING:Cubic:The supplied pores are not coplanar. Length will be approximate.\n"
       ]
      },
      {
       "output_type": "stream",
       "stream": "stderr",
       "text": [
        "WARNING:Fickian_2:The inlet pores have too many neighbors. Internal pores appear to be selected.\n"
       ]
      },
      {
       "output_type": "stream",
       "stream": "stderr",
       "text": [
        "WARNING:Fickian_2:The outlet pores have too many neighbors. Internal pores appear to be selected.\n"
       ]
      },
      {
       "output_type": "stream",
       "stream": "stderr",
       "text": [
        "WARNING:Cubic:The supplied pores are not coplanar. Length will be approximate.\n"
       ]
      },
      {
       "output_type": "stream",
       "stream": "stderr",
       "text": [
        "WARNING:Stokes:The inlet pores have too many neighbors. Internal pores appear to be selected.\n"
       ]
      },
      {
       "output_type": "stream",
       "stream": "stderr",
       "text": [
        "WARNING:Stokes:The outlet pores have too many neighbors. Internal pores appear to be selected.\n"
       ]
      },
      {
       "output_type": "stream",
       "stream": "stderr",
       "text": [
        "WARNING:Cubic:The supplied pores are not coplanar. Length will be approximate.\n"
       ]
      },
      {
       "output_type": "stream",
       "stream": "stderr",
       "text": [
        "WARNING:Fickian:The inlet pores have too many neighbors. Internal pores appear to be selected.\n"
       ]
      },
      {
       "output_type": "stream",
       "stream": "stderr",
       "text": [
        "WARNING:Fickian:The outlet pores have too many neighbors. Internal pores appear to be selected.\n"
       ]
      },
      {
       "output_type": "stream",
       "stream": "stderr",
       "text": [
        "WARNING:Cubic:The supplied pores are not coplanar. Length will be approximate.\n"
       ]
      },
      {
       "output_type": "stream",
       "stream": "stderr",
       "text": [
        "WARNING:Stokes_2:The inlet pores have too many neighbors. Internal pores appear to be selected.\n"
       ]
      },
      {
       "output_type": "stream",
       "stream": "stderr",
       "text": [
        "WARNING:Stokes_2:The outlet pores have too many neighbors. Internal pores appear to be selected.\n"
       ]
      },
      {
       "output_type": "stream",
       "stream": "stderr",
       "text": [
        "WARNING:Cubic:The supplied pores are not coplanar. Length will be approximate.\n"
       ]
      },
      {
       "output_type": "stream",
       "stream": "stderr",
       "text": [
        "WARNING:Fickian_2:The inlet pores have too many neighbors. Internal pores appear to be selected.\n"
       ]
      },
      {
       "output_type": "stream",
       "stream": "stderr",
       "text": [
        "WARNING:Fickian_2:The outlet pores have too many neighbors. Internal pores appear to be selected.\n"
       ]
      },
      {
       "output_type": "stream",
       "stream": "stderr",
       "text": [
        "WARNING:Cubic:The supplied pores are not coplanar. Length will be approximate.\n"
       ]
      },
      {
       "output_type": "stream",
       "stream": "stderr",
       "text": [
        "WARNING:Stokes:The inlet pores have too many neighbors. Internal pores appear to be selected.\n"
       ]
      },
      {
       "output_type": "stream",
       "stream": "stderr",
       "text": [
        "WARNING:Stokes:The outlet pores have too many neighbors. Internal pores appear to be selected.\n"
       ]
      },
      {
       "output_type": "stream",
       "stream": "stderr",
       "text": [
        "WARNING:Cubic:The supplied pores are not coplanar. Length will be approximate.\n"
       ]
      },
      {
       "output_type": "stream",
       "stream": "stderr",
       "text": [
        "WARNING:Fickian:The inlet pores have too many neighbors. Internal pores appear to be selected.\n"
       ]
      },
      {
       "output_type": "stream",
       "stream": "stderr",
       "text": [
        "WARNING:Fickian:The outlet pores have too many neighbors. Internal pores appear to be selected.\n"
       ]
      },
      {
       "output_type": "stream",
       "stream": "stderr",
       "text": [
        "WARNING:Cubic:The supplied pores are not coplanar. Length will be approximate.\n"
       ]
      },
      {
       "output_type": "stream",
       "stream": "stderr",
       "text": [
        "WARNING:Stokes_2:The inlet pores have too many neighbors. Internal pores appear to be selected.\n"
       ]
      },
      {
       "output_type": "stream",
       "stream": "stderr",
       "text": [
        "WARNING:Stokes_2:The outlet pores have too many neighbors. Internal pores appear to be selected.\n"
       ]
      },
      {
       "output_type": "stream",
       "stream": "stderr",
       "text": [
        "WARNING:Cubic:The supplied pores are not coplanar. Length will be approximate.\n"
       ]
      },
      {
       "output_type": "stream",
       "stream": "stderr",
       "text": [
        "WARNING:Fickian_2:The inlet pores have too many neighbors. Internal pores appear to be selected.\n"
       ]
      },
      {
       "output_type": "stream",
       "stream": "stderr",
       "text": [
        "WARNING:Fickian_2:The outlet pores have too many neighbors. Internal pores appear to be selected.\n"
       ]
      },
      {
       "output_type": "stream",
       "stream": "stderr",
       "text": [
        "WARNING:Cubic:The supplied pores are not coplanar. Length will be approximate.\n"
       ]
      },
      {
       "output_type": "stream",
       "stream": "stderr",
       "text": [
        "WARNING:Stokes:The inlet pores have too many neighbors. Internal pores appear to be selected.\n"
       ]
      },
      {
       "output_type": "stream",
       "stream": "stderr",
       "text": [
        "WARNING:Stokes:The outlet pores have too many neighbors. Internal pores appear to be selected.\n"
       ]
      },
      {
       "output_type": "stream",
       "stream": "stderr",
       "text": [
        "WARNING:Cubic:The supplied pores are not coplanar. Length will be approximate.\n"
       ]
      },
      {
       "output_type": "stream",
       "stream": "stderr",
       "text": [
        "WARNING:Fickian:The inlet pores have too many neighbors. Internal pores appear to be selected.\n"
       ]
      },
      {
       "output_type": "stream",
       "stream": "stderr",
       "text": [
        "WARNING:Fickian:The outlet pores have too many neighbors. Internal pores appear to be selected.\n"
       ]
      },
      {
       "output_type": "stream",
       "stream": "stderr",
       "text": [
        "WARNING:Cubic:The supplied pores are not coplanar. Length will be approximate.\n"
       ]
      },
      {
       "output_type": "stream",
       "stream": "stderr",
       "text": [
        "WARNING:Stokes_2:The inlet pores have too many neighbors. Internal pores appear to be selected.\n"
       ]
      },
      {
       "output_type": "stream",
       "stream": "stderr",
       "text": [
        "WARNING:Stokes_2:The outlet pores have too many neighbors. Internal pores appear to be selected.\n"
       ]
      },
      {
       "output_type": "stream",
       "stream": "stderr",
       "text": [
        "WARNING:Cubic:The supplied pores are not coplanar. Length will be approximate.\n"
       ]
      },
      {
       "output_type": "stream",
       "stream": "stderr",
       "text": [
        "WARNING:Fickian_2:The inlet pores have too many neighbors. Internal pores appear to be selected.\n"
       ]
      },
      {
       "output_type": "stream",
       "stream": "stderr",
       "text": [
        "WARNING:Fickian_2:The outlet pores have too many neighbors. Internal pores appear to be selected.\n"
       ]
      },
      {
       "output_type": "stream",
       "stream": "stderr",
       "text": [
        "WARNING:Cubic:The supplied pores are not coplanar. Length will be approximate.\n"
       ]
      },
      {
       "output_type": "stream",
       "stream": "stderr",
       "text": [
        "WARNING:Stokes:The inlet pores have too many neighbors. Internal pores appear to be selected.\n"
       ]
      },
      {
       "output_type": "stream",
       "stream": "stderr",
       "text": [
        "WARNING:Stokes:The outlet pores have too many neighbors. Internal pores appear to be selected.\n"
       ]
      },
      {
       "output_type": "stream",
       "stream": "stderr",
       "text": [
        "WARNING:Cubic:The supplied pores are not coplanar. Length will be approximate.\n"
       ]
      },
      {
       "output_type": "stream",
       "stream": "stderr",
       "text": [
        "WARNING:Fickian:The inlet pores have too many neighbors. Internal pores appear to be selected.\n"
       ]
      },
      {
       "output_type": "stream",
       "stream": "stderr",
       "text": [
        "WARNING:Fickian:The outlet pores have too many neighbors. Internal pores appear to be selected.\n"
       ]
      },
      {
       "output_type": "stream",
       "stream": "stderr",
       "text": [
        "WARNING:Cubic:The supplied pores are not coplanar. Length will be approximate.\n"
       ]
      },
      {
       "output_type": "stream",
       "stream": "stderr",
       "text": [
        "WARNING:Stokes_2:The inlet pores have too many neighbors. Internal pores appear to be selected.\n"
       ]
      },
      {
       "output_type": "stream",
       "stream": "stderr",
       "text": [
        "WARNING:Stokes_2:The outlet pores have too many neighbors. Internal pores appear to be selected.\n"
       ]
      },
      {
       "output_type": "stream",
       "stream": "stderr",
       "text": [
        "WARNING:Cubic:The supplied pores are not coplanar. Length will be approximate.\n"
       ]
      },
      {
       "output_type": "stream",
       "stream": "stderr",
       "text": [
        "WARNING:Fickian_2:The inlet pores have too many neighbors. Internal pores appear to be selected.\n"
       ]
      },
      {
       "output_type": "stream",
       "stream": "stderr",
       "text": [
        "WARNING:Fickian_2:The outlet pores have too many neighbors. Internal pores appear to be selected.\n"
       ]
      },
      {
       "output_type": "stream",
       "stream": "stderr",
       "text": [
        "WARNING:Cubic:The supplied pores are not coplanar. Length will be approximate.\n"
       ]
      },
      {
       "output_type": "stream",
       "stream": "stderr",
       "text": [
        "WARNING:Stokes:The inlet pores have too many neighbors. Internal pores appear to be selected.\n"
       ]
      },
      {
       "output_type": "stream",
       "stream": "stderr",
       "text": [
        "WARNING:Stokes:The outlet pores have too many neighbors. Internal pores appear to be selected.\n"
       ]
      },
      {
       "output_type": "stream",
       "stream": "stderr",
       "text": [
        "WARNING:Cubic:The supplied pores are not coplanar. Length will be approximate.\n"
       ]
      },
      {
       "output_type": "stream",
       "stream": "stderr",
       "text": [
        "WARNING:Fickian:The inlet pores have too many neighbors. Internal pores appear to be selected.\n"
       ]
      },
      {
       "output_type": "stream",
       "stream": "stderr",
       "text": [
        "WARNING:Fickian:The outlet pores have too many neighbors. Internal pores appear to be selected.\n"
       ]
      },
      {
       "output_type": "stream",
       "stream": "stderr",
       "text": [
        "WARNING:Cubic:The supplied pores are not coplanar. Length will be approximate.\n"
       ]
      },
      {
       "output_type": "stream",
       "stream": "stderr",
       "text": [
        "WARNING:Stokes_2:The inlet pores have too many neighbors. Internal pores appear to be selected.\n"
       ]
      },
      {
       "output_type": "stream",
       "stream": "stderr",
       "text": [
        "WARNING:Stokes_2:The outlet pores have too many neighbors. Internal pores appear to be selected.\n"
       ]
      },
      {
       "output_type": "stream",
       "stream": "stderr",
       "text": [
        "WARNING:Cubic:The supplied pores are not coplanar. Length will be approximate.\n"
       ]
      },
      {
       "output_type": "stream",
       "stream": "stderr",
       "text": [
        "WARNING:Fickian_2:The inlet pores have too many neighbors. Internal pores appear to be selected.\n"
       ]
      },
      {
       "output_type": "stream",
       "stream": "stderr",
       "text": [
        "WARNING:Fickian_2:The outlet pores have too many neighbors. Internal pores appear to be selected.\n"
       ]
      },
      {
       "output_type": "stream",
       "stream": "stderr",
       "text": [
        "WARNING:Cubic:The supplied pores are not coplanar. Length will be approximate.\n"
       ]
      },
      {
       "output_type": "stream",
       "stream": "stderr",
       "text": [
        "WARNING:Stokes:The inlet pores have too many neighbors. Internal pores appear to be selected.\n"
       ]
      },
      {
       "output_type": "stream",
       "stream": "stderr",
       "text": [
        "WARNING:Stokes:The outlet pores have too many neighbors. Internal pores appear to be selected.\n"
       ]
      },
      {
       "output_type": "stream",
       "stream": "stderr",
       "text": [
        "WARNING:Cubic:The supplied pores are not coplanar. Length will be approximate.\n"
       ]
      },
      {
       "output_type": "stream",
       "stream": "stderr",
       "text": [
        "WARNING:Fickian:The inlet pores have too many neighbors. Internal pores appear to be selected.\n"
       ]
      },
      {
       "output_type": "stream",
       "stream": "stderr",
       "text": [
        "WARNING:Fickian:The outlet pores have too many neighbors. Internal pores appear to be selected.\n"
       ]
      },
      {
       "output_type": "stream",
       "stream": "stderr",
       "text": [
        "WARNING:Cubic:The supplied pores are not coplanar. Length will be approximate.\n"
       ]
      },
      {
       "output_type": "stream",
       "stream": "stderr",
       "text": [
        "WARNING:Stokes_2:The inlet pores have too many neighbors. Internal pores appear to be selected.\n"
       ]
      },
      {
       "output_type": "stream",
       "stream": "stderr",
       "text": [
        "WARNING:Stokes_2:The outlet pores have too many neighbors. Internal pores appear to be selected.\n"
       ]
      },
      {
       "output_type": "stream",
       "stream": "stderr",
       "text": [
        "WARNING:Cubic:The supplied pores are not coplanar. Length will be approximate.\n"
       ]
      },
      {
       "output_type": "stream",
       "stream": "stderr",
       "text": [
        "WARNING:Fickian_2:The inlet pores have too many neighbors. Internal pores appear to be selected.\n"
       ]
      },
      {
       "output_type": "stream",
       "stream": "stderr",
       "text": [
        "WARNING:Fickian_2:The outlet pores have too many neighbors. Internal pores appear to be selected.\n"
       ]
      },
      {
       "output_type": "stream",
       "stream": "stderr",
       "text": [
        "WARNING:Cubic:The supplied pores are not coplanar. Length will be approximate.\n"
       ]
      },
      {
       "output_type": "stream",
       "stream": "stderr",
       "text": [
        "WARNING:Stokes:The inlet pores have too many neighbors. Internal pores appear to be selected.\n"
       ]
      },
      {
       "output_type": "stream",
       "stream": "stderr",
       "text": [
        "WARNING:Stokes:The outlet pores have too many neighbors. Internal pores appear to be selected.\n"
       ]
      },
      {
       "output_type": "stream",
       "stream": "stderr",
       "text": [
        "WARNING:Cubic:The supplied pores are not coplanar. Length will be approximate.\n"
       ]
      },
      {
       "output_type": "stream",
       "stream": "stderr",
       "text": [
        "WARNING:Fickian:The inlet pores have too many neighbors. Internal pores appear to be selected.\n"
       ]
      },
      {
       "output_type": "stream",
       "stream": "stderr",
       "text": [
        "WARNING:Fickian:The outlet pores have too many neighbors. Internal pores appear to be selected.\n"
       ]
      },
      {
       "output_type": "stream",
       "stream": "stderr",
       "text": [
        "WARNING:Cubic:The supplied pores are not coplanar. Length will be approximate.\n"
       ]
      },
      {
       "output_type": "stream",
       "stream": "stderr",
       "text": [
        "WARNING:Stokes_2:The inlet pores have too many neighbors. Internal pores appear to be selected.\n"
       ]
      },
      {
       "output_type": "stream",
       "stream": "stderr",
       "text": [
        "WARNING:Stokes_2:The outlet pores have too many neighbors. Internal pores appear to be selected.\n"
       ]
      },
      {
       "output_type": "stream",
       "stream": "stderr",
       "text": [
        "WARNING:Cubic:The supplied pores are not coplanar. Length will be approximate.\n"
       ]
      },
      {
       "output_type": "stream",
       "stream": "stderr",
       "text": [
        "WARNING:Fickian_2:The inlet pores have too many neighbors. Internal pores appear to be selected.\n"
       ]
      },
      {
       "output_type": "stream",
       "stream": "stderr",
       "text": [
        "WARNING:Fickian_2:The outlet pores have too many neighbors. Internal pores appear to be selected.\n"
       ]
      },
      {
       "output_type": "stream",
       "stream": "stderr",
       "text": [
        "WARNING:Cubic:The supplied pores are not coplanar. Length will be approximate.\n"
       ]
      },
      {
       "output_type": "stream",
       "stream": "stderr",
       "text": [
        "WARNING:Stokes:The inlet pores have too many neighbors. Internal pores appear to be selected.\n"
       ]
      },
      {
       "output_type": "stream",
       "stream": "stderr",
       "text": [
        "WARNING:Stokes:The outlet pores have too many neighbors. Internal pores appear to be selected.\n"
       ]
      },
      {
       "output_type": "stream",
       "stream": "stderr",
       "text": [
        "WARNING:Cubic:The supplied pores are not coplanar. Length will be approximate.\n"
       ]
      },
      {
       "output_type": "stream",
       "stream": "stderr",
       "text": [
        "WARNING:Fickian:The inlet pores have too many neighbors. Internal pores appear to be selected.\n"
       ]
      },
      {
       "output_type": "stream",
       "stream": "stderr",
       "text": [
        "WARNING:Fickian:The outlet pores have too many neighbors. Internal pores appear to be selected.\n"
       ]
      },
      {
       "output_type": "stream",
       "stream": "stderr",
       "text": [
        "WARNING:Cubic:The supplied pores are not coplanar. Length will be approximate.\n"
       ]
      },
      {
       "output_type": "stream",
       "stream": "stderr",
       "text": [
        "WARNING:Stokes_2:The inlet pores have too many neighbors. Internal pores appear to be selected.\n"
       ]
      },
      {
       "output_type": "stream",
       "stream": "stderr",
       "text": [
        "WARNING:Stokes_2:The outlet pores have too many neighbors. Internal pores appear to be selected.\n"
       ]
      },
      {
       "output_type": "stream",
       "stream": "stderr",
       "text": [
        "WARNING:Cubic:The supplied pores are not coplanar. Length will be approximate.\n"
       ]
      },
      {
       "output_type": "stream",
       "stream": "stderr",
       "text": [
        "WARNING:Fickian_2:The inlet pores have too many neighbors. Internal pores appear to be selected.\n"
       ]
      },
      {
       "output_type": "stream",
       "stream": "stderr",
       "text": [
        "WARNING:Fickian_2:The outlet pores have too many neighbors. Internal pores appear to be selected.\n"
       ]
      },
      {
       "output_type": "stream",
       "stream": "stderr",
       "text": [
        "WARNING:Cubic:The supplied pores are not coplanar. Length will be approximate.\n"
       ]
      },
      {
       "output_type": "stream",
       "stream": "stderr",
       "text": [
        "WARNING:Stokes:The inlet pores have too many neighbors. Internal pores appear to be selected.\n"
       ]
      },
      {
       "output_type": "stream",
       "stream": "stderr",
       "text": [
        "WARNING:Stokes:The outlet pores have too many neighbors. Internal pores appear to be selected.\n"
       ]
      },
      {
       "output_type": "stream",
       "stream": "stderr",
       "text": [
        "WARNING:Cubic:The supplied pores are not coplanar. Length will be approximate.\n"
       ]
      },
      {
       "output_type": "stream",
       "stream": "stderr",
       "text": [
        "WARNING:Fickian:The inlet pores have too many neighbors. Internal pores appear to be selected.\n"
       ]
      },
      {
       "output_type": "stream",
       "stream": "stderr",
       "text": [
        "WARNING:Fickian:The outlet pores have too many neighbors. Internal pores appear to be selected.\n"
       ]
      },
      {
       "output_type": "stream",
       "stream": "stderr",
       "text": [
        "WARNING:Cubic:The supplied pores are not coplanar. Length will be approximate.\n"
       ]
      },
      {
       "output_type": "stream",
       "stream": "stderr",
       "text": [
        "WARNING:Stokes_2:The inlet pores have too many neighbors. Internal pores appear to be selected.\n"
       ]
      },
      {
       "output_type": "stream",
       "stream": "stderr",
       "text": [
        "WARNING:Stokes_2:The outlet pores have too many neighbors. Internal pores appear to be selected.\n"
       ]
      },
      {
       "output_type": "stream",
       "stream": "stderr",
       "text": [
        "WARNING:Cubic:The supplied pores are not coplanar. Length will be approximate.\n"
       ]
      },
      {
       "output_type": "stream",
       "stream": "stderr",
       "text": [
        "WARNING:Fickian_2:The inlet pores have too many neighbors. Internal pores appear to be selected.\n"
       ]
      },
      {
       "output_type": "stream",
       "stream": "stderr",
       "text": [
        "WARNING:Fickian_2:The outlet pores have too many neighbors. Internal pores appear to be selected.\n"
       ]
      },
      {
       "output_type": "stream",
       "stream": "stderr",
       "text": [
        "WARNING:Cubic:The supplied pores are not coplanar. Length will be approximate.\n"
       ]
      },
      {
       "output_type": "stream",
       "stream": "stderr",
       "text": [
        "WARNING:Stokes:The inlet pores have too many neighbors. Internal pores appear to be selected.\n"
       ]
      },
      {
       "output_type": "stream",
       "stream": "stderr",
       "text": [
        "WARNING:Stokes:The outlet pores have too many neighbors. Internal pores appear to be selected.\n"
       ]
      },
      {
       "output_type": "stream",
       "stream": "stderr",
       "text": [
        "WARNING:Cubic:The supplied pores are not coplanar. Length will be approximate.\n"
       ]
      },
      {
       "output_type": "stream",
       "stream": "stderr",
       "text": [
        "WARNING:Fickian:The inlet pores have too many neighbors. Internal pores appear to be selected.\n"
       ]
      },
      {
       "output_type": "stream",
       "stream": "stderr",
       "text": [
        "WARNING:Fickian:The outlet pores have too many neighbors. Internal pores appear to be selected.\n"
       ]
      },
      {
       "output_type": "stream",
       "stream": "stderr",
       "text": [
        "WARNING:Cubic:The supplied pores are not coplanar. Length will be approximate.\n"
       ]
      },
      {
       "output_type": "stream",
       "stream": "stderr",
       "text": [
        "WARNING:Stokes_2:The inlet pores have too many neighbors. Internal pores appear to be selected.\n"
       ]
      },
      {
       "output_type": "stream",
       "stream": "stderr",
       "text": [
        "WARNING:Stokes_2:The outlet pores have too many neighbors. Internal pores appear to be selected.\n"
       ]
      },
      {
       "output_type": "stream",
       "stream": "stderr",
       "text": [
        "WARNING:Cubic:The supplied pores are not coplanar. Length will be approximate.\n"
       ]
      },
      {
       "output_type": "stream",
       "stream": "stderr",
       "text": [
        "WARNING:Fickian_2:The inlet pores have too many neighbors. Internal pores appear to be selected.\n"
       ]
      },
      {
       "output_type": "stream",
       "stream": "stderr",
       "text": [
        "WARNING:Fickian_2:The outlet pores have too many neighbors. Internal pores appear to be selected.\n"
       ]
      },
      {
       "output_type": "stream",
       "stream": "stderr",
       "text": [
        "WARNING:Cubic:The supplied pores are not coplanar. Length will be approximate.\n"
       ]
      },
      {
       "output_type": "stream",
       "stream": "stderr",
       "text": [
        "WARNING:Stokes:The inlet pores have too many neighbors. Internal pores appear to be selected.\n"
       ]
      },
      {
       "output_type": "stream",
       "stream": "stderr",
       "text": [
        "WARNING:Stokes:The outlet pores have too many neighbors. Internal pores appear to be selected.\n"
       ]
      },
      {
       "output_type": "stream",
       "stream": "stderr",
       "text": [
        "WARNING:Cubic:The supplied pores are not coplanar. Length will be approximate.\n"
       ]
      },
      {
       "output_type": "stream",
       "stream": "stderr",
       "text": [
        "WARNING:Fickian:The inlet pores have too many neighbors. Internal pores appear to be selected.\n"
       ]
      },
      {
       "output_type": "stream",
       "stream": "stderr",
       "text": [
        "WARNING:Fickian:The outlet pores have too many neighbors. Internal pores appear to be selected.\n"
       ]
      },
      {
       "output_type": "stream",
       "stream": "stderr",
       "text": [
        "WARNING:Cubic:The supplied pores are not coplanar. Length will be approximate.\n"
       ]
      },
      {
       "output_type": "stream",
       "stream": "stderr",
       "text": [
        "WARNING:Stokes_2:The inlet pores have too many neighbors. Internal pores appear to be selected.\n"
       ]
      },
      {
       "output_type": "stream",
       "stream": "stderr",
       "text": [
        "WARNING:Stokes_2:The outlet pores have too many neighbors. Internal pores appear to be selected.\n"
       ]
      },
      {
       "output_type": "stream",
       "stream": "stderr",
       "text": [
        "WARNING:Cubic:The supplied pores are not coplanar. Length will be approximate.\n"
       ]
      },
      {
       "output_type": "stream",
       "stream": "stderr",
       "text": [
        "WARNING:Fickian_2:The inlet pores have too many neighbors. Internal pores appear to be selected.\n"
       ]
      },
      {
       "output_type": "stream",
       "stream": "stderr",
       "text": [
        "WARNING:Fickian_2:The outlet pores have too many neighbors. Internal pores appear to be selected.\n"
       ]
      },
      {
       "output_type": "stream",
       "stream": "stderr",
       "text": [
        "WARNING:Cubic:The supplied pores are not coplanar. Length will be approximate.\n"
       ]
      },
      {
       "output_type": "stream",
       "stream": "stderr",
       "text": [
        "WARNING:Stokes:The inlet pores have too many neighbors. Internal pores appear to be selected.\n"
       ]
      },
      {
       "output_type": "stream",
       "stream": "stderr",
       "text": [
        "WARNING:Stokes:The outlet pores have too many neighbors. Internal pores appear to be selected.\n"
       ]
      },
      {
       "output_type": "stream",
       "stream": "stderr",
       "text": [
        "WARNING:Cubic:The supplied pores are not coplanar. Length will be approximate.\n"
       ]
      },
      {
       "output_type": "stream",
       "stream": "stderr",
       "text": [
        "WARNING:Fickian:The inlet pores have too many neighbors. Internal pores appear to be selected.\n"
       ]
      },
      {
       "output_type": "stream",
       "stream": "stderr",
       "text": [
        "WARNING:Fickian:The outlet pores have too many neighbors. Internal pores appear to be selected.\n"
       ]
      },
      {
       "output_type": "stream",
       "stream": "stderr",
       "text": [
        "WARNING:Cubic:The supplied pores are not coplanar. Length will be approximate.\n"
       ]
      },
      {
       "output_type": "stream",
       "stream": "stderr",
       "text": [
        "WARNING:Stokes_2:The inlet pores have too many neighbors. Internal pores appear to be selected.\n"
       ]
      },
      {
       "output_type": "stream",
       "stream": "stderr",
       "text": [
        "WARNING:Stokes_2:The outlet pores have too many neighbors. Internal pores appear to be selected.\n"
       ]
      },
      {
       "output_type": "stream",
       "stream": "stderr",
       "text": [
        "WARNING:Cubic:The supplied pores are not coplanar. Length will be approximate.\n"
       ]
      },
      {
       "output_type": "stream",
       "stream": "stderr",
       "text": [
        "WARNING:Fickian_2:The inlet pores have too many neighbors. Internal pores appear to be selected.\n"
       ]
      },
      {
       "output_type": "stream",
       "stream": "stderr",
       "text": [
        "WARNING:Fickian_2:The outlet pores have too many neighbors. Internal pores appear to be selected.\n"
       ]
      },
      {
       "output_type": "stream",
       "stream": "stderr",
       "text": [
        "WARNING:Cubic:The supplied pores are not coplanar. Length will be approximate.\n"
       ]
      },
      {
       "output_type": "stream",
       "stream": "stderr",
       "text": [
        "WARNING:Stokes:The inlet pores have too many neighbors. Internal pores appear to be selected.\n"
       ]
      },
      {
       "output_type": "stream",
       "stream": "stderr",
       "text": [
        "WARNING:Stokes:The outlet pores have too many neighbors. Internal pores appear to be selected.\n"
       ]
      },
      {
       "output_type": "stream",
       "stream": "stderr",
       "text": [
        "WARNING:Cubic:The supplied pores are not coplanar. Length will be approximate.\n"
       ]
      },
      {
       "output_type": "stream",
       "stream": "stderr",
       "text": [
        "WARNING:Fickian:The inlet pores have too many neighbors. Internal pores appear to be selected.\n"
       ]
      },
      {
       "output_type": "stream",
       "stream": "stderr",
       "text": [
        "WARNING:Fickian:The outlet pores have too many neighbors. Internal pores appear to be selected.\n"
       ]
      },
      {
       "output_type": "stream",
       "stream": "stderr",
       "text": [
        "WARNING:Cubic:The supplied pores are not coplanar. Length will be approximate.\n"
       ]
      },
      {
       "output_type": "stream",
       "stream": "stderr",
       "text": [
        "WARNING:Stokes_2:The inlet pores have too many neighbors. Internal pores appear to be selected.\n"
       ]
      },
      {
       "output_type": "stream",
       "stream": "stderr",
       "text": [
        "WARNING:Stokes_2:The outlet pores have too many neighbors. Internal pores appear to be selected.\n"
       ]
      },
      {
       "output_type": "stream",
       "stream": "stderr",
       "text": [
        "WARNING:Cubic:The supplied pores are not coplanar. Length will be approximate.\n"
       ]
      },
      {
       "output_type": "stream",
       "stream": "stderr",
       "text": [
        "WARNING:Fickian_2:The inlet pores have too many neighbors. Internal pores appear to be selected.\n"
       ]
      },
      {
       "output_type": "stream",
       "stream": "stderr",
       "text": [
        "WARNING:Fickian_2:The outlet pores have too many neighbors. Internal pores appear to be selected.\n"
       ]
      },
      {
       "output_type": "stream",
       "stream": "stderr",
       "text": [
        "WARNING:Cubic:The supplied pores are not coplanar. Length will be approximate.\n"
       ]
      },
      {
       "output_type": "stream",
       "stream": "stderr",
       "text": [
        "WARNING:Stokes:The inlet pores have too many neighbors. Internal pores appear to be selected.\n"
       ]
      },
      {
       "output_type": "stream",
       "stream": "stderr",
       "text": [
        "WARNING:Stokes:The outlet pores have too many neighbors. Internal pores appear to be selected.\n"
       ]
      },
      {
       "output_type": "stream",
       "stream": "stderr",
       "text": [
        "WARNING:Cubic:The supplied pores are not coplanar. Length will be approximate.\n"
       ]
      },
      {
       "output_type": "stream",
       "stream": "stderr",
       "text": [
        "WARNING:Fickian:The inlet pores have too many neighbors. Internal pores appear to be selected.\n"
       ]
      },
      {
       "output_type": "stream",
       "stream": "stderr",
       "text": [
        "WARNING:Fickian:The outlet pores have too many neighbors. Internal pores appear to be selected.\n"
       ]
      },
      {
       "output_type": "stream",
       "stream": "stderr",
       "text": [
        "WARNING:Cubic:The supplied pores are not coplanar. Length will be approximate.\n"
       ]
      },
      {
       "output_type": "stream",
       "stream": "stderr",
       "text": [
        "WARNING:Stokes_2:The inlet pores have too many neighbors. Internal pores appear to be selected.\n"
       ]
      },
      {
       "output_type": "stream",
       "stream": "stderr",
       "text": [
        "WARNING:Stokes_2:The outlet pores have too many neighbors. Internal pores appear to be selected.\n"
       ]
      },
      {
       "output_type": "stream",
       "stream": "stderr",
       "text": [
        "WARNING:Cubic:The supplied pores are not coplanar. Length will be approximate.\n"
       ]
      },
      {
       "output_type": "stream",
       "stream": "stderr",
       "text": [
        "WARNING:Fickian_2:The inlet pores have too many neighbors. Internal pores appear to be selected.\n"
       ]
      },
      {
       "output_type": "stream",
       "stream": "stderr",
       "text": [
        "WARNING:Fickian_2:The outlet pores have too many neighbors. Internal pores appear to be selected.\n"
       ]
      },
      {
       "output_type": "stream",
       "stream": "stderr",
       "text": [
        "WARNING:Cubic:The supplied pores are not coplanar. Length will be approximate.\n"
       ]
      },
      {
       "output_type": "stream",
       "stream": "stderr",
       "text": [
        "WARNING:Stokes:The inlet pores have too many neighbors. Internal pores appear to be selected.\n"
       ]
      },
      {
       "output_type": "stream",
       "stream": "stderr",
       "text": [
        "WARNING:Stokes:The outlet pores have too many neighbors. Internal pores appear to be selected.\n"
       ]
      },
      {
       "output_type": "stream",
       "stream": "stderr",
       "text": [
        "WARNING:Cubic:The supplied pores are not coplanar. Length will be approximate.\n"
       ]
      },
      {
       "output_type": "stream",
       "stream": "stderr",
       "text": [
        "WARNING:Fickian:The inlet pores have too many neighbors. Internal pores appear to be selected.\n"
       ]
      },
      {
       "output_type": "stream",
       "stream": "stderr",
       "text": [
        "WARNING:Fickian:The outlet pores have too many neighbors. Internal pores appear to be selected.\n"
       ]
      },
      {
       "output_type": "stream",
       "stream": "stderr",
       "text": [
        "WARNING:Cubic:The supplied pores are not coplanar. Length will be approximate.\n"
       ]
      },
      {
       "output_type": "stream",
       "stream": "stderr",
       "text": [
        "WARNING:Stokes_2:The inlet pores have too many neighbors. Internal pores appear to be selected.\n"
       ]
      },
      {
       "output_type": "stream",
       "stream": "stderr",
       "text": [
        "WARNING:Stokes_2:The outlet pores have too many neighbors. Internal pores appear to be selected.\n"
       ]
      },
      {
       "output_type": "stream",
       "stream": "stderr",
       "text": [
        "WARNING:Cubic:The supplied pores are not coplanar. Length will be approximate.\n"
       ]
      },
      {
       "output_type": "stream",
       "stream": "stderr",
       "text": [
        "WARNING:Fickian_2:The inlet pores have too many neighbors. Internal pores appear to be selected.\n"
       ]
      },
      {
       "output_type": "stream",
       "stream": "stderr",
       "text": [
        "WARNING:Fickian_2:The outlet pores have too many neighbors. Internal pores appear to be selected.\n"
       ]
      },
      {
       "output_type": "stream",
       "stream": "stderr",
       "text": [
        "WARNING:Cubic:The supplied pores are not coplanar. Length will be approximate.\n"
       ]
      },
      {
       "output_type": "stream",
       "stream": "stderr",
       "text": [
        "WARNING:Stokes:The inlet pores have too many neighbors. Internal pores appear to be selected.\n"
       ]
      },
      {
       "output_type": "stream",
       "stream": "stderr",
       "text": [
        "WARNING:Stokes:The outlet pores have too many neighbors. Internal pores appear to be selected.\n"
       ]
      },
      {
       "output_type": "stream",
       "stream": "stderr",
       "text": [
        "WARNING:Cubic:The supplied pores are not coplanar. Length will be approximate.\n"
       ]
      },
      {
       "output_type": "stream",
       "stream": "stderr",
       "text": [
        "WARNING:Fickian:The inlet pores have too many neighbors. Internal pores appear to be selected.\n"
       ]
      },
      {
       "output_type": "stream",
       "stream": "stderr",
       "text": [
        "WARNING:Fickian:The outlet pores have too many neighbors. Internal pores appear to be selected.\n"
       ]
      },
      {
       "output_type": "stream",
       "stream": "stderr",
       "text": [
        "WARNING:Cubic:The supplied pores are not coplanar. Length will be approximate.\n"
       ]
      },
      {
       "output_type": "stream",
       "stream": "stderr",
       "text": [
        "WARNING:Stokes_2:The inlet pores have too many neighbors. Internal pores appear to be selected.\n"
       ]
      },
      {
       "output_type": "stream",
       "stream": "stderr",
       "text": [
        "WARNING:Stokes_2:The outlet pores have too many neighbors. Internal pores appear to be selected.\n"
       ]
      },
      {
       "output_type": "stream",
       "stream": "stderr",
       "text": [
        "WARNING:Cubic:The supplied pores are not coplanar. Length will be approximate.\n"
       ]
      },
      {
       "output_type": "stream",
       "stream": "stderr",
       "text": [
        "WARNING:Fickian_2:The inlet pores have too many neighbors. Internal pores appear to be selected.\n"
       ]
      },
      {
       "output_type": "stream",
       "stream": "stderr",
       "text": [
        "WARNING:Fickian_2:The outlet pores have too many neighbors. Internal pores appear to be selected.\n"
       ]
      },
      {
       "output_type": "stream",
       "stream": "stderr",
       "text": [
        "WARNING:Cubic:The supplied pores are not coplanar. Length will be approximate.\n"
       ]
      },
      {
       "output_type": "stream",
       "stream": "stderr",
       "text": [
        "WARNING:Stokes:The inlet pores have too many neighbors. Internal pores appear to be selected.\n"
       ]
      },
      {
       "output_type": "stream",
       "stream": "stderr",
       "text": [
        "WARNING:Stokes:The outlet pores have too many neighbors. Internal pores appear to be selected.\n"
       ]
      },
      {
       "output_type": "stream",
       "stream": "stderr",
       "text": [
        "WARNING:Cubic:The supplied pores are not coplanar. Length will be approximate.\n"
       ]
      },
      {
       "output_type": "stream",
       "stream": "stderr",
       "text": [
        "WARNING:Fickian:The inlet pores have too many neighbors. Internal pores appear to be selected.\n"
       ]
      },
      {
       "output_type": "stream",
       "stream": "stderr",
       "text": [
        "WARNING:Fickian:The outlet pores have too many neighbors. Internal pores appear to be selected.\n"
       ]
      },
      {
       "output_type": "stream",
       "stream": "stderr",
       "text": [
        "WARNING:Cubic:The supplied pores are not coplanar. Length will be approximate.\n"
       ]
      },
      {
       "output_type": "stream",
       "stream": "stderr",
       "text": [
        "WARNING:Stokes_2:The inlet pores have too many neighbors. Internal pores appear to be selected.\n"
       ]
      },
      {
       "output_type": "stream",
       "stream": "stderr",
       "text": [
        "WARNING:Stokes_2:The outlet pores have too many neighbors. Internal pores appear to be selected.\n"
       ]
      },
      {
       "output_type": "stream",
       "stream": "stderr",
       "text": [
        "WARNING:Cubic:The supplied pores are not coplanar. Length will be approximate.\n"
       ]
      },
      {
       "output_type": "stream",
       "stream": "stderr",
       "text": [
        "WARNING:Fickian_2:The inlet pores have too many neighbors. Internal pores appear to be selected.\n"
       ]
      },
      {
       "output_type": "stream",
       "stream": "stderr",
       "text": [
        "WARNING:Fickian_2:The outlet pores have too many neighbors. Internal pores appear to be selected.\n"
       ]
      },
      {
       "output_type": "stream",
       "stream": "stderr",
       "text": [
        "WARNING:Cubic:The supplied pores are not coplanar. Length will be approximate.\n"
       ]
      },
      {
       "output_type": "stream",
       "stream": "stderr",
       "text": [
        "WARNING:Stokes:The inlet pores have too many neighbors. Internal pores appear to be selected.\n"
       ]
      },
      {
       "output_type": "stream",
       "stream": "stderr",
       "text": [
        "WARNING:Stokes:The outlet pores have too many neighbors. Internal pores appear to be selected.\n"
       ]
      },
      {
       "output_type": "stream",
       "stream": "stderr",
       "text": [
        "WARNING:Cubic:The supplied pores are not coplanar. Length will be approximate.\n"
       ]
      },
      {
       "output_type": "stream",
       "stream": "stderr",
       "text": [
        "WARNING:Fickian:The inlet pores have too many neighbors. Internal pores appear to be selected.\n"
       ]
      },
      {
       "output_type": "stream",
       "stream": "stderr",
       "text": [
        "WARNING:Fickian:The outlet pores have too many neighbors. Internal pores appear to be selected.\n"
       ]
      },
      {
       "output_type": "stream",
       "stream": "stderr",
       "text": [
        "WARNING:Cubic:The supplied pores are not coplanar. Length will be approximate.\n"
       ]
      },
      {
       "output_type": "stream",
       "stream": "stderr",
       "text": [
        "WARNING:Stokes_2:The inlet pores have too many neighbors. Internal pores appear to be selected.\n"
       ]
      },
      {
       "output_type": "stream",
       "stream": "stderr",
       "text": [
        "WARNING:Stokes_2:The outlet pores have too many neighbors. Internal pores appear to be selected.\n"
       ]
      },
      {
       "output_type": "stream",
       "stream": "stderr",
       "text": [
        "WARNING:Cubic:The supplied pores are not coplanar. Length will be approximate.\n"
       ]
      },
      {
       "output_type": "stream",
       "stream": "stderr",
       "text": [
        "WARNING:Fickian_2:The inlet pores have too many neighbors. Internal pores appear to be selected.\n"
       ]
      },
      {
       "output_type": "stream",
       "stream": "stderr",
       "text": [
        "WARNING:Fickian_2:The outlet pores have too many neighbors. Internal pores appear to be selected.\n"
       ]
      },
      {
       "output_type": "stream",
       "stream": "stderr",
       "text": [
        "WARNING:Cubic:The supplied pores are not coplanar. Length will be approximate.\n"
       ]
      },
      {
       "output_type": "stream",
       "stream": "stderr",
       "text": [
        "WARNING:Stokes:The inlet pores have too many neighbors. Internal pores appear to be selected.\n"
       ]
      },
      {
       "output_type": "stream",
       "stream": "stderr",
       "text": [
        "WARNING:Stokes:The outlet pores have too many neighbors. Internal pores appear to be selected.\n"
       ]
      },
      {
       "output_type": "stream",
       "stream": "stderr",
       "text": [
        "WARNING:Cubic:The supplied pores are not coplanar. Length will be approximate.\n"
       ]
      },
      {
       "output_type": "stream",
       "stream": "stderr",
       "text": [
        "WARNING:Fickian:The inlet pores have too many neighbors. Internal pores appear to be selected.\n"
       ]
      },
      {
       "output_type": "stream",
       "stream": "stderr",
       "text": [
        "WARNING:Fickian:The outlet pores have too many neighbors. Internal pores appear to be selected.\n"
       ]
      },
      {
       "output_type": "stream",
       "stream": "stderr",
       "text": [
        "WARNING:Cubic:The supplied pores are not coplanar. Length will be approximate.\n"
       ]
      },
      {
       "output_type": "stream",
       "stream": "stderr",
       "text": [
        "WARNING:Stokes_2:The inlet pores have too many neighbors. Internal pores appear to be selected.\n"
       ]
      },
      {
       "output_type": "stream",
       "stream": "stderr",
       "text": [
        "WARNING:Stokes_2:The outlet pores have too many neighbors. Internal pores appear to be selected.\n"
       ]
      },
      {
       "output_type": "stream",
       "stream": "stderr",
       "text": [
        "WARNING:Cubic:The supplied pores are not coplanar. Length will be approximate.\n"
       ]
      },
      {
       "output_type": "stream",
       "stream": "stderr",
       "text": [
        "WARNING:Fickian_2:The inlet pores have too many neighbors. Internal pores appear to be selected.\n"
       ]
      },
      {
       "output_type": "stream",
       "stream": "stderr",
       "text": [
        "WARNING:Fickian_2:The outlet pores have too many neighbors. Internal pores appear to be selected.\n"
       ]
      },
      {
       "output_type": "stream",
       "stream": "stderr",
       "text": [
        "WARNING:Cubic:The supplied pores are not coplanar. Length will be approximate.\n"
       ]
      },
      {
       "output_type": "stream",
       "stream": "stderr",
       "text": [
        "WARNING:Stokes:The inlet pores have too many neighbors. Internal pores appear to be selected.\n"
       ]
      },
      {
       "output_type": "stream",
       "stream": "stderr",
       "text": [
        "WARNING:Stokes:The outlet pores have too many neighbors. Internal pores appear to be selected.\n"
       ]
      },
      {
       "output_type": "stream",
       "stream": "stderr",
       "text": [
        "WARNING:Cubic:The supplied pores are not coplanar. Length will be approximate.\n"
       ]
      },
      {
       "output_type": "stream",
       "stream": "stderr",
       "text": [
        "WARNING:Fickian:The inlet pores have too many neighbors. Internal pores appear to be selected.\n"
       ]
      },
      {
       "output_type": "stream",
       "stream": "stderr",
       "text": [
        "WARNING:Fickian:The outlet pores have too many neighbors. Internal pores appear to be selected.\n"
       ]
      },
      {
       "output_type": "stream",
       "stream": "stderr",
       "text": [
        "WARNING:Cubic:The supplied pores are not coplanar. Length will be approximate.\n"
       ]
      },
      {
       "output_type": "stream",
       "stream": "stderr",
       "text": [
        "WARNING:Stokes_2:The inlet pores have too many neighbors. Internal pores appear to be selected.\n"
       ]
      },
      {
       "output_type": "stream",
       "stream": "stderr",
       "text": [
        "WARNING:Stokes_2:The outlet pores have too many neighbors. Internal pores appear to be selected.\n"
       ]
      },
      {
       "output_type": "stream",
       "stream": "stderr",
       "text": [
        "WARNING:Cubic:The supplied pores are not coplanar. Length will be approximate.\n"
       ]
      },
      {
       "output_type": "stream",
       "stream": "stderr",
       "text": [
        "WARNING:Fickian_2:The inlet pores have too many neighbors. Internal pores appear to be selected.\n"
       ]
      },
      {
       "output_type": "stream",
       "stream": "stderr",
       "text": [
        "WARNING:Fickian_2:The outlet pores have too many neighbors. Internal pores appear to be selected.\n"
       ]
      },
      {
       "output_type": "stream",
       "stream": "stderr",
       "text": [
        "WARNING:Cubic:The supplied pores are not coplanar. Length will be approximate.\n"
       ]
      },
      {
       "output_type": "stream",
       "stream": "stderr",
       "text": [
        "WARNING:Stokes:The inlet pores have too many neighbors. Internal pores appear to be selected.\n"
       ]
      },
      {
       "output_type": "stream",
       "stream": "stderr",
       "text": [
        "WARNING:Stokes:The outlet pores have too many neighbors. Internal pores appear to be selected.\n"
       ]
      },
      {
       "output_type": "stream",
       "stream": "stderr",
       "text": [
        "WARNING:Cubic:The supplied pores are not coplanar. Length will be approximate.\n"
       ]
      },
      {
       "output_type": "stream",
       "stream": "stderr",
       "text": [
        "WARNING:Fickian:The inlet pores have too many neighbors. Internal pores appear to be selected.\n"
       ]
      },
      {
       "output_type": "stream",
       "stream": "stderr",
       "text": [
        "WARNING:Fickian:The outlet pores have too many neighbors. Internal pores appear to be selected.\n"
       ]
      },
      {
       "output_type": "stream",
       "stream": "stderr",
       "text": [
        "WARNING:Cubic:The supplied pores are not coplanar. Length will be approximate.\n"
       ]
      },
      {
       "output_type": "stream",
       "stream": "stderr",
       "text": [
        "WARNING:Stokes_2:The inlet pores have too many neighbors. Internal pores appear to be selected.\n"
       ]
      },
      {
       "output_type": "stream",
       "stream": "stderr",
       "text": [
        "WARNING:Stokes_2:The outlet pores have too many neighbors. Internal pores appear to be selected.\n"
       ]
      },
      {
       "output_type": "stream",
       "stream": "stderr",
       "text": [
        "WARNING:Cubic:The supplied pores are not coplanar. Length will be approximate.\n"
       ]
      },
      {
       "output_type": "stream",
       "stream": "stderr",
       "text": [
        "WARNING:Fickian_2:The inlet pores have too many neighbors. Internal pores appear to be selected.\n"
       ]
      },
      {
       "output_type": "stream",
       "stream": "stderr",
       "text": [
        "WARNING:Fickian_2:The outlet pores have too many neighbors. Internal pores appear to be selected.\n"
       ]
      },
      {
       "output_type": "stream",
       "stream": "stderr",
       "text": [
        "WARNING:Cubic:The supplied pores are not coplanar. Length will be approximate.\n"
       ]
      },
      {
       "output_type": "stream",
       "stream": "stderr",
       "text": [
        "WARNING:Stokes:The inlet pores have too many neighbors. Internal pores appear to be selected.\n"
       ]
      },
      {
       "output_type": "stream",
       "stream": "stderr",
       "text": [
        "WARNING:Stokes:The outlet pores have too many neighbors. Internal pores appear to be selected.\n"
       ]
      },
      {
       "output_type": "stream",
       "stream": "stderr",
       "text": [
        "WARNING:Cubic:The supplied pores are not coplanar. Length will be approximate.\n"
       ]
      },
      {
       "output_type": "stream",
       "stream": "stderr",
       "text": [
        "WARNING:Fickian:The inlet pores have too many neighbors. Internal pores appear to be selected.\n"
       ]
      },
      {
       "output_type": "stream",
       "stream": "stderr",
       "text": [
        "WARNING:Fickian:The outlet pores have too many neighbors. Internal pores appear to be selected.\n"
       ]
      },
      {
       "output_type": "stream",
       "stream": "stderr",
       "text": [
        "WARNING:Cubic:The supplied pores are not coplanar. Length will be approximate.\n"
       ]
      },
      {
       "output_type": "stream",
       "stream": "stderr",
       "text": [
        "WARNING:Stokes_2:The inlet pores have too many neighbors. Internal pores appear to be selected.\n"
       ]
      },
      {
       "output_type": "stream",
       "stream": "stderr",
       "text": [
        "WARNING:Stokes_2:The outlet pores have too many neighbors. Internal pores appear to be selected.\n"
       ]
      },
      {
       "output_type": "stream",
       "stream": "stderr",
       "text": [
        "WARNING:Cubic:The supplied pores are not coplanar. Length will be approximate.\n"
       ]
      },
      {
       "output_type": "stream",
       "stream": "stderr",
       "text": [
        "WARNING:Fickian_2:The inlet pores have too many neighbors. Internal pores appear to be selected.\n"
       ]
      },
      {
       "output_type": "stream",
       "stream": "stderr",
       "text": [
        "WARNING:Fickian_2:The outlet pores have too many neighbors. Internal pores appear to be selected.\n"
       ]
      },
      {
       "output_type": "stream",
       "stream": "stderr",
       "text": [
        "WARNING:Cubic:The supplied pores are not coplanar. Length will be approximate.\n"
       ]
      },
      {
       "output_type": "stream",
       "stream": "stderr",
       "text": [
        "WARNING:Stokes:The inlet pores have too many neighbors. Internal pores appear to be selected.\n"
       ]
      },
      {
       "output_type": "stream",
       "stream": "stderr",
       "text": [
        "WARNING:Stokes:The outlet pores have too many neighbors. Internal pores appear to be selected.\n"
       ]
      },
      {
       "output_type": "stream",
       "stream": "stderr",
       "text": [
        "WARNING:Cubic:The supplied pores are not coplanar. Length will be approximate.\n"
       ]
      },
      {
       "output_type": "stream",
       "stream": "stderr",
       "text": [
        "WARNING:Fickian:The inlet pores have too many neighbors. Internal pores appear to be selected.\n"
       ]
      },
      {
       "output_type": "stream",
       "stream": "stderr",
       "text": [
        "WARNING:Fickian:The outlet pores have too many neighbors. Internal pores appear to be selected.\n"
       ]
      },
      {
       "output_type": "stream",
       "stream": "stderr",
       "text": [
        "WARNING:Cubic:The supplied pores are not coplanar. Length will be approximate.\n"
       ]
      },
      {
       "output_type": "stream",
       "stream": "stderr",
       "text": [
        "WARNING:Stokes_2:The inlet pores have too many neighbors. Internal pores appear to be selected.\n"
       ]
      },
      {
       "output_type": "stream",
       "stream": "stderr",
       "text": [
        "WARNING:Stokes_2:The outlet pores have too many neighbors. Internal pores appear to be selected.\n"
       ]
      },
      {
       "output_type": "stream",
       "stream": "stderr",
       "text": [
        "WARNING:Cubic:The supplied pores are not coplanar. Length will be approximate.\n"
       ]
      },
      {
       "output_type": "stream",
       "stream": "stderr",
       "text": [
        "WARNING:Fickian_2:The inlet pores have too many neighbors. Internal pores appear to be selected.\n"
       ]
      },
      {
       "output_type": "stream",
       "stream": "stderr",
       "text": [
        "WARNING:Fickian_2:The outlet pores have too many neighbors. Internal pores appear to be selected.\n"
       ]
      },
      {
       "output_type": "stream",
       "stream": "stderr",
       "text": [
        "WARNING:Cubic:The supplied pores are not coplanar. Length will be approximate.\n"
       ]
      },
      {
       "output_type": "stream",
       "stream": "stderr",
       "text": [
        "WARNING:Stokes:The inlet pores have too many neighbors. Internal pores appear to be selected.\n"
       ]
      },
      {
       "output_type": "stream",
       "stream": "stderr",
       "text": [
        "WARNING:Stokes:The outlet pores have too many neighbors. Internal pores appear to be selected.\n"
       ]
      },
      {
       "output_type": "stream",
       "stream": "stderr",
       "text": [
        "WARNING:Cubic:The supplied pores are not coplanar. Length will be approximate.\n"
       ]
      },
      {
       "output_type": "stream",
       "stream": "stderr",
       "text": [
        "WARNING:Fickian:The inlet pores have too many neighbors. Internal pores appear to be selected.\n"
       ]
      },
      {
       "output_type": "stream",
       "stream": "stderr",
       "text": [
        "WARNING:Fickian:The outlet pores have too many neighbors. Internal pores appear to be selected.\n"
       ]
      },
      {
       "output_type": "stream",
       "stream": "stderr",
       "text": [
        "WARNING:Cubic:The supplied pores are not coplanar. Length will be approximate.\n"
       ]
      },
      {
       "output_type": "stream",
       "stream": "stderr",
       "text": [
        "WARNING:Stokes_2:The inlet pores have too many neighbors. Internal pores appear to be selected.\n"
       ]
      },
      {
       "output_type": "stream",
       "stream": "stderr",
       "text": [
        "WARNING:Stokes_2:The outlet pores have too many neighbors. Internal pores appear to be selected.\n"
       ]
      },
      {
       "output_type": "stream",
       "stream": "stderr",
       "text": [
        "WARNING:Cubic:The supplied pores are not coplanar. Length will be approximate.\n"
       ]
      },
      {
       "output_type": "stream",
       "stream": "stderr",
       "text": [
        "WARNING:Fickian_2:The inlet pores have too many neighbors. Internal pores appear to be selected.\n"
       ]
      },
      {
       "output_type": "stream",
       "stream": "stderr",
       "text": [
        "WARNING:Fickian_2:The outlet pores have too many neighbors. Internal pores appear to be selected.\n"
       ]
      },
      {
       "output_type": "stream",
       "stream": "stderr",
       "text": [
        "WARNING:Cubic:The supplied pores are not coplanar. Length will be approximate.\n"
       ]
      },
      {
       "output_type": "stream",
       "stream": "stderr",
       "text": [
        "WARNING:Stokes:The inlet pores have too many neighbors. Internal pores appear to be selected.\n"
       ]
      },
      {
       "output_type": "stream",
       "stream": "stderr",
       "text": [
        "WARNING:Stokes:The outlet pores have too many neighbors. Internal pores appear to be selected.\n"
       ]
      },
      {
       "output_type": "stream",
       "stream": "stderr",
       "text": [
        "WARNING:Cubic:The supplied pores are not coplanar. Length will be approximate.\n"
       ]
      },
      {
       "output_type": "stream",
       "stream": "stderr",
       "text": [
        "WARNING:Fickian:The inlet pores have too many neighbors. Internal pores appear to be selected.\n"
       ]
      },
      {
       "output_type": "stream",
       "stream": "stderr",
       "text": [
        "WARNING:Fickian:The outlet pores have too many neighbors. Internal pores appear to be selected.\n"
       ]
      },
      {
       "output_type": "stream",
       "stream": "stderr",
       "text": [
        "WARNING:Cubic:The supplied pores are not coplanar. Length will be approximate.\n"
       ]
      },
      {
       "output_type": "stream",
       "stream": "stderr",
       "text": [
        "WARNING:Stokes_2:The inlet pores have too many neighbors. Internal pores appear to be selected.\n"
       ]
      },
      {
       "output_type": "stream",
       "stream": "stderr",
       "text": [
        "WARNING:Stokes_2:The outlet pores have too many neighbors. Internal pores appear to be selected.\n"
       ]
      },
      {
       "output_type": "stream",
       "stream": "stderr",
       "text": [
        "WARNING:Cubic:The supplied pores are not coplanar. Length will be approximate.\n"
       ]
      },
      {
       "output_type": "stream",
       "stream": "stderr",
       "text": [
        "WARNING:Fickian_2:The inlet pores have too many neighbors. Internal pores appear to be selected.\n"
       ]
      },
      {
       "output_type": "stream",
       "stream": "stderr",
       "text": [
        "WARNING:Fickian_2:The outlet pores have too many neighbors. Internal pores appear to be selected.\n"
       ]
      },
      {
       "output_type": "stream",
       "stream": "stderr",
       "text": [
        "WARNING:Cubic:The supplied pores are not coplanar. Length will be approximate.\n"
       ]
      },
      {
       "output_type": "stream",
       "stream": "stderr",
       "text": [
        "WARNING:Stokes:The inlet pores have too many neighbors. Internal pores appear to be selected.\n"
       ]
      },
      {
       "output_type": "stream",
       "stream": "stderr",
       "text": [
        "WARNING:Stokes:The outlet pores have too many neighbors. Internal pores appear to be selected.\n"
       ]
      },
      {
       "output_type": "stream",
       "stream": "stderr",
       "text": [
        "WARNING:Cubic:The supplied pores are not coplanar. Length will be approximate.\n"
       ]
      },
      {
       "output_type": "stream",
       "stream": "stderr",
       "text": [
        "WARNING:Fickian:The inlet pores have too many neighbors. Internal pores appear to be selected.\n"
       ]
      },
      {
       "output_type": "stream",
       "stream": "stderr",
       "text": [
        "WARNING:Fickian:The outlet pores have too many neighbors. Internal pores appear to be selected.\n"
       ]
      },
      {
       "output_type": "stream",
       "stream": "stderr",
       "text": [
        "WARNING:Cubic:The supplied pores are not coplanar. Length will be approximate.\n"
       ]
      },
      {
       "output_type": "stream",
       "stream": "stderr",
       "text": [
        "WARNING:Stokes_2:The inlet pores have too many neighbors. Internal pores appear to be selected.\n"
       ]
      },
      {
       "output_type": "stream",
       "stream": "stderr",
       "text": [
        "WARNING:Stokes_2:The outlet pores have too many neighbors. Internal pores appear to be selected.\n"
       ]
      },
      {
       "output_type": "stream",
       "stream": "stderr",
       "text": [
        "WARNING:Cubic:The supplied pores are not coplanar. Length will be approximate.\n"
       ]
      },
      {
       "output_type": "stream",
       "stream": "stderr",
       "text": [
        "WARNING:Fickian_2:The inlet pores have too many neighbors. Internal pores appear to be selected.\n"
       ]
      },
      {
       "output_type": "stream",
       "stream": "stderr",
       "text": [
        "WARNING:Fickian_2:The outlet pores have too many neighbors. Internal pores appear to be selected.\n"
       ]
      },
      {
       "output_type": "stream",
       "stream": "stderr",
       "text": [
        "WARNING:Cubic:The supplied pores are not coplanar. Length will be approximate.\n"
       ]
      },
      {
       "output_type": "stream",
       "stream": "stderr",
       "text": [
        "WARNING:Stokes:The inlet pores have too many neighbors. Internal pores appear to be selected.\n"
       ]
      },
      {
       "output_type": "stream",
       "stream": "stderr",
       "text": [
        "WARNING:Stokes:The outlet pores have too many neighbors. Internal pores appear to be selected.\n"
       ]
      },
      {
       "output_type": "stream",
       "stream": "stderr",
       "text": [
        "WARNING:Cubic:The supplied pores are not coplanar. Length will be approximate.\n"
       ]
      },
      {
       "output_type": "stream",
       "stream": "stderr",
       "text": [
        "WARNING:Fickian:The inlet pores have too many neighbors. Internal pores appear to be selected.\n"
       ]
      },
      {
       "output_type": "stream",
       "stream": "stderr",
       "text": [
        "WARNING:Fickian:The outlet pores have too many neighbors. Internal pores appear to be selected.\n"
       ]
      },
      {
       "output_type": "stream",
       "stream": "stderr",
       "text": [
        "WARNING:Cubic:The supplied pores are not coplanar. Length will be approximate.\n"
       ]
      },
      {
       "output_type": "stream",
       "stream": "stderr",
       "text": [
        "WARNING:Stokes_2:The inlet pores have too many neighbors. Internal pores appear to be selected.\n"
       ]
      },
      {
       "output_type": "stream",
       "stream": "stderr",
       "text": [
        "WARNING:Stokes_2:The outlet pores have too many neighbors. Internal pores appear to be selected.\n"
       ]
      },
      {
       "output_type": "stream",
       "stream": "stderr",
       "text": [
        "WARNING:Cubic:The supplied pores are not coplanar. Length will be approximate.\n"
       ]
      },
      {
       "output_type": "stream",
       "stream": "stderr",
       "text": [
        "WARNING:Fickian_2:The inlet pores have too many neighbors. Internal pores appear to be selected.\n"
       ]
      },
      {
       "output_type": "stream",
       "stream": "stderr",
       "text": [
        "WARNING:Fickian_2:The outlet pores have too many neighbors. Internal pores appear to be selected.\n"
       ]
      },
      {
       "output_type": "stream",
       "stream": "stderr",
       "text": [
        "WARNING:Cubic:The supplied pores are not coplanar. Length will be approximate.\n"
       ]
      },
      {
       "output_type": "stream",
       "stream": "stderr",
       "text": [
        "WARNING:Stokes:The inlet pores have too many neighbors. Internal pores appear to be selected.\n"
       ]
      },
      {
       "output_type": "stream",
       "stream": "stderr",
       "text": [
        "WARNING:Stokes:The outlet pores have too many neighbors. Internal pores appear to be selected.\n"
       ]
      },
      {
       "output_type": "stream",
       "stream": "stderr",
       "text": [
        "WARNING:Cubic:The supplied pores are not coplanar. Length will be approximate.\n"
       ]
      },
      {
       "output_type": "stream",
       "stream": "stderr",
       "text": [
        "WARNING:Fickian:The inlet pores have too many neighbors. Internal pores appear to be selected.\n"
       ]
      },
      {
       "output_type": "stream",
       "stream": "stderr",
       "text": [
        "WARNING:Fickian:The outlet pores have too many neighbors. Internal pores appear to be selected.\n"
       ]
      },
      {
       "output_type": "stream",
       "stream": "stderr",
       "text": [
        "WARNING:Cubic:The supplied pores are not coplanar. Length will be approximate.\n"
       ]
      },
      {
       "output_type": "stream",
       "stream": "stderr",
       "text": [
        "WARNING:Stokes_2:The inlet pores have too many neighbors. Internal pores appear to be selected.\n"
       ]
      },
      {
       "output_type": "stream",
       "stream": "stderr",
       "text": [
        "WARNING:Stokes_2:The outlet pores have too many neighbors. Internal pores appear to be selected.\n"
       ]
      },
      {
       "output_type": "stream",
       "stream": "stderr",
       "text": [
        "WARNING:Cubic:The supplied pores are not coplanar. Length will be approximate.\n"
       ]
      },
      {
       "output_type": "stream",
       "stream": "stderr",
       "text": [
        "WARNING:Fickian_2:The inlet pores have too many neighbors. Internal pores appear to be selected.\n"
       ]
      },
      {
       "output_type": "stream",
       "stream": "stderr",
       "text": [
        "WARNING:Fickian_2:The outlet pores have too many neighbors. Internal pores appear to be selected.\n"
       ]
      },
      {
       "output_type": "stream",
       "stream": "stderr",
       "text": [
        "WARNING:Cubic:The supplied pores are not coplanar. Length will be approximate.\n"
       ]
      },
      {
       "output_type": "stream",
       "stream": "stderr",
       "text": [
        "WARNING:Stokes:The inlet pores have too many neighbors. Internal pores appear to be selected.\n"
       ]
      },
      {
       "output_type": "stream",
       "stream": "stderr",
       "text": [
        "WARNING:Stokes:The outlet pores have too many neighbors. Internal pores appear to be selected.\n"
       ]
      },
      {
       "output_type": "stream",
       "stream": "stderr",
       "text": [
        "WARNING:Cubic:The supplied pores are not coplanar. Length will be approximate.\n"
       ]
      },
      {
       "output_type": "stream",
       "stream": "stderr",
       "text": [
        "WARNING:Fickian:The inlet pores have too many neighbors. Internal pores appear to be selected.\n"
       ]
      },
      {
       "output_type": "stream",
       "stream": "stderr",
       "text": [
        "WARNING:Fickian:The outlet pores have too many neighbors. Internal pores appear to be selected.\n"
       ]
      },
      {
       "output_type": "stream",
       "stream": "stderr",
       "text": [
        "WARNING:Cubic:The supplied pores are not coplanar. Length will be approximate.\n"
       ]
      },
      {
       "output_type": "stream",
       "stream": "stderr",
       "text": [
        "WARNING:Stokes_2:The inlet pores have too many neighbors. Internal pores appear to be selected.\n"
       ]
      },
      {
       "output_type": "stream",
       "stream": "stderr",
       "text": [
        "WARNING:Stokes_2:The outlet pores have too many neighbors. Internal pores appear to be selected.\n"
       ]
      },
      {
       "output_type": "stream",
       "stream": "stderr",
       "text": [
        "WARNING:Cubic:The supplied pores are not coplanar. Length will be approximate.\n"
       ]
      },
      {
       "output_type": "stream",
       "stream": "stderr",
       "text": [
        "WARNING:Fickian_2:The inlet pores have too many neighbors. Internal pores appear to be selected.\n"
       ]
      },
      {
       "output_type": "stream",
       "stream": "stderr",
       "text": [
        "WARNING:Fickian_2:The outlet pores have too many neighbors. Internal pores appear to be selected.\n"
       ]
      },
      {
       "output_type": "stream",
       "stream": "stderr",
       "text": [
        "WARNING:Cubic:The supplied pores are not coplanar. Length will be approximate.\n"
       ]
      },
      {
       "output_type": "stream",
       "stream": "stderr",
       "text": [
        "WARNING:Stokes:The inlet pores have too many neighbors. Internal pores appear to be selected.\n"
       ]
      },
      {
       "output_type": "stream",
       "stream": "stderr",
       "text": [
        "WARNING:Stokes:The outlet pores have too many neighbors. Internal pores appear to be selected.\n"
       ]
      },
      {
       "output_type": "stream",
       "stream": "stderr",
       "text": [
        "WARNING:Cubic:The supplied pores are not coplanar. Length will be approximate.\n"
       ]
      },
      {
       "output_type": "stream",
       "stream": "stderr",
       "text": [
        "WARNING:Fickian:The inlet pores have too many neighbors. Internal pores appear to be selected.\n"
       ]
      },
      {
       "output_type": "stream",
       "stream": "stderr",
       "text": [
        "WARNING:Fickian:The outlet pores have too many neighbors. Internal pores appear to be selected.\n"
       ]
      },
      {
       "output_type": "stream",
       "stream": "stderr",
       "text": [
        "WARNING:Cubic:The supplied pores are not coplanar. Length will be approximate.\n"
       ]
      },
      {
       "output_type": "stream",
       "stream": "stderr",
       "text": [
        "WARNING:Stokes_2:The inlet pores have too many neighbors. Internal pores appear to be selected.\n"
       ]
      },
      {
       "output_type": "stream",
       "stream": "stderr",
       "text": [
        "WARNING:Stokes_2:The outlet pores have too many neighbors. Internal pores appear to be selected.\n"
       ]
      },
      {
       "output_type": "stream",
       "stream": "stderr",
       "text": [
        "WARNING:Cubic:The supplied pores are not coplanar. Length will be approximate.\n"
       ]
      },
      {
       "output_type": "stream",
       "stream": "stderr",
       "text": [
        "WARNING:Fickian_2:The inlet pores have too many neighbors. Internal pores appear to be selected.\n"
       ]
      },
      {
       "output_type": "stream",
       "stream": "stderr",
       "text": [
        "WARNING:Fickian_2:The outlet pores have too many neighbors. Internal pores appear to be selected.\n"
       ]
      },
      {
       "output_type": "stream",
       "stream": "stderr",
       "text": [
        "WARNING:Cubic:The supplied pores are not coplanar. Length will be approximate.\n"
       ]
      },
      {
       "output_type": "stream",
       "stream": "stderr",
       "text": [
        "WARNING:Stokes:The inlet pores have too many neighbors. Internal pores appear to be selected.\n"
       ]
      },
      {
       "output_type": "stream",
       "stream": "stderr",
       "text": [
        "WARNING:Stokes:The outlet pores have too many neighbors. Internal pores appear to be selected.\n"
       ]
      },
      {
       "output_type": "stream",
       "stream": "stderr",
       "text": [
        "WARNING:Cubic:The supplied pores are not coplanar. Length will be approximate.\n"
       ]
      },
      {
       "output_type": "stream",
       "stream": "stderr",
       "text": [
        "WARNING:Fickian:The inlet pores have too many neighbors. Internal pores appear to be selected.\n"
       ]
      },
      {
       "output_type": "stream",
       "stream": "stderr",
       "text": [
        "WARNING:Fickian:The outlet pores have too many neighbors. Internal pores appear to be selected.\n"
       ]
      },
      {
       "output_type": "stream",
       "stream": "stderr",
       "text": [
        "WARNING:Cubic:The supplied pores are not coplanar. Length will be approximate.\n"
       ]
      },
      {
       "output_type": "stream",
       "stream": "stderr",
       "text": [
        "WARNING:Stokes_2:The inlet pores have too many neighbors. Internal pores appear to be selected.\n"
       ]
      },
      {
       "output_type": "stream",
       "stream": "stderr",
       "text": [
        "WARNING:Stokes_2:The outlet pores have too many neighbors. Internal pores appear to be selected.\n"
       ]
      },
      {
       "output_type": "stream",
       "stream": "stderr",
       "text": [
        "WARNING:Cubic:The supplied pores are not coplanar. Length will be approximate.\n"
       ]
      },
      {
       "output_type": "stream",
       "stream": "stderr",
       "text": [
        "WARNING:Fickian_2:The inlet pores have too many neighbors. Internal pores appear to be selected.\n"
       ]
      },
      {
       "output_type": "stream",
       "stream": "stderr",
       "text": [
        "WARNING:Fickian_2:The outlet pores have too many neighbors. Internal pores appear to be selected.\n"
       ]
      },
      {
       "output_type": "stream",
       "stream": "stderr",
       "text": [
        "WARNING:Cubic:The supplied pores are not coplanar. Length will be approximate.\n"
       ]
      },
      {
       "output_type": "stream",
       "stream": "stderr",
       "text": [
        "WARNING:Stokes:The inlet pores have too many neighbors. Internal pores appear to be selected.\n"
       ]
      },
      {
       "output_type": "stream",
       "stream": "stderr",
       "text": [
        "WARNING:Stokes:The outlet pores have too many neighbors. Internal pores appear to be selected.\n"
       ]
      },
      {
       "output_type": "stream",
       "stream": "stderr",
       "text": [
        "WARNING:Cubic:The supplied pores are not coplanar. Length will be approximate.\n"
       ]
      },
      {
       "output_type": "stream",
       "stream": "stderr",
       "text": [
        "WARNING:Fickian:The inlet pores have too many neighbors. Internal pores appear to be selected.\n"
       ]
      },
      {
       "output_type": "stream",
       "stream": "stderr",
       "text": [
        "WARNING:Fickian:The outlet pores have too many neighbors. Internal pores appear to be selected.\n"
       ]
      },
      {
       "output_type": "stream",
       "stream": "stderr",
       "text": [
        "WARNING:Cubic:The supplied pores are not coplanar. Length will be approximate.\n"
       ]
      },
      {
       "output_type": "stream",
       "stream": "stderr",
       "text": [
        "WARNING:Stokes_2:The inlet pores have too many neighbors. Internal pores appear to be selected.\n"
       ]
      },
      {
       "output_type": "stream",
       "stream": "stderr",
       "text": [
        "WARNING:Stokes_2:The outlet pores have too many neighbors. Internal pores appear to be selected.\n"
       ]
      },
      {
       "output_type": "stream",
       "stream": "stderr",
       "text": [
        "WARNING:Cubic:The supplied pores are not coplanar. Length will be approximate.\n"
       ]
      },
      {
       "output_type": "stream",
       "stream": "stderr",
       "text": [
        "WARNING:Fickian_2:The inlet pores have too many neighbors. Internal pores appear to be selected.\n"
       ]
      },
      {
       "output_type": "stream",
       "stream": "stderr",
       "text": [
        "WARNING:Fickian_2:The outlet pores have too many neighbors. Internal pores appear to be selected.\n"
       ]
      },
      {
       "output_type": "stream",
       "stream": "stderr",
       "text": [
        "WARNING:Cubic:The supplied pores are not coplanar. Length will be approximate.\n"
       ]
      },
      {
       "output_type": "stream",
       "stream": "stderr",
       "text": [
        "WARNING:Stokes:The inlet pores have too many neighbors. Internal pores appear to be selected.\n"
       ]
      },
      {
       "output_type": "stream",
       "stream": "stderr",
       "text": [
        "WARNING:Stokes:The outlet pores have too many neighbors. Internal pores appear to be selected.\n"
       ]
      },
      {
       "output_type": "stream",
       "stream": "stderr",
       "text": [
        "WARNING:Cubic:The supplied pores are not coplanar. Length will be approximate.\n"
       ]
      },
      {
       "output_type": "stream",
       "stream": "stderr",
       "text": [
        "WARNING:Fickian:The inlet pores have too many neighbors. Internal pores appear to be selected.\n"
       ]
      },
      {
       "output_type": "stream",
       "stream": "stderr",
       "text": [
        "WARNING:Fickian:The outlet pores have too many neighbors. Internal pores appear to be selected.\n"
       ]
      },
      {
       "output_type": "stream",
       "stream": "stderr",
       "text": [
        "WARNING:Cubic:The supplied pores are not coplanar. Length will be approximate.\n"
       ]
      },
      {
       "output_type": "stream",
       "stream": "stderr",
       "text": [
        "WARNING:Stokes_2:The inlet pores have too many neighbors. Internal pores appear to be selected.\n"
       ]
      },
      {
       "output_type": "stream",
       "stream": "stderr",
       "text": [
        "WARNING:Stokes_2:The outlet pores have too many neighbors. Internal pores appear to be selected.\n"
       ]
      },
      {
       "output_type": "stream",
       "stream": "stderr",
       "text": [
        "WARNING:Cubic:The supplied pores are not coplanar. Length will be approximate.\n"
       ]
      },
      {
       "output_type": "stream",
       "stream": "stderr",
       "text": [
        "WARNING:Fickian_2:The inlet pores have too many neighbors. Internal pores appear to be selected.\n"
       ]
      },
      {
       "output_type": "stream",
       "stream": "stderr",
       "text": [
        "WARNING:Fickian_2:The outlet pores have too many neighbors. Internal pores appear to be selected.\n"
       ]
      },
      {
       "output_type": "stream",
       "stream": "stderr",
       "text": [
        "WARNING:Cubic:The supplied pores are not coplanar. Length will be approximate.\n"
       ]
      },
      {
       "output_type": "stream",
       "stream": "stderr",
       "text": [
        "WARNING:Stokes:The inlet pores have too many neighbors. Internal pores appear to be selected.\n"
       ]
      },
      {
       "output_type": "stream",
       "stream": "stderr",
       "text": [
        "WARNING:Stokes:The outlet pores have too many neighbors. Internal pores appear to be selected.\n"
       ]
      },
      {
       "output_type": "stream",
       "stream": "stderr",
       "text": [
        "WARNING:Cubic:The supplied pores are not coplanar. Length will be approximate.\n"
       ]
      },
      {
       "output_type": "stream",
       "stream": "stderr",
       "text": [
        "WARNING:Fickian:The inlet pores have too many neighbors. Internal pores appear to be selected.\n"
       ]
      },
      {
       "output_type": "stream",
       "stream": "stderr",
       "text": [
        "WARNING:Fickian:The outlet pores have too many neighbors. Internal pores appear to be selected.\n"
       ]
      },
      {
       "output_type": "stream",
       "stream": "stderr",
       "text": [
        "WARNING:Cubic:The supplied pores are not coplanar. Length will be approximate.\n"
       ]
      },
      {
       "output_type": "stream",
       "stream": "stderr",
       "text": [
        "WARNING:Stokes_2:The inlet pores have too many neighbors. Internal pores appear to be selected.\n"
       ]
      },
      {
       "output_type": "stream",
       "stream": "stderr",
       "text": [
        "WARNING:Stokes_2:The outlet pores have too many neighbors. Internal pores appear to be selected.\n"
       ]
      },
      {
       "output_type": "stream",
       "stream": "stderr",
       "text": [
        "WARNING:Cubic:The supplied pores are not coplanar. Length will be approximate.\n"
       ]
      },
      {
       "output_type": "stream",
       "stream": "stderr",
       "text": [
        "WARNING:Fickian_2:The inlet pores have too many neighbors. Internal pores appear to be selected.\n"
       ]
      },
      {
       "output_type": "stream",
       "stream": "stderr",
       "text": [
        "WARNING:Fickian_2:The outlet pores have too many neighbors. Internal pores appear to be selected.\n"
       ]
      },
      {
       "output_type": "stream",
       "stream": "stderr",
       "text": [
        "WARNING:Cubic:The supplied pores are not coplanar. Length will be approximate.\n"
       ]
      },
      {
       "output_type": "stream",
       "stream": "stderr",
       "text": [
        "WARNING:Stokes:The inlet pores have too many neighbors. Internal pores appear to be selected.\n"
       ]
      },
      {
       "output_type": "stream",
       "stream": "stderr",
       "text": [
        "WARNING:Stokes:The outlet pores have too many neighbors. Internal pores appear to be selected.\n"
       ]
      },
      {
       "output_type": "stream",
       "stream": "stderr",
       "text": [
        "WARNING:Cubic:The supplied pores are not coplanar. Length will be approximate.\n"
       ]
      },
      {
       "output_type": "stream",
       "stream": "stderr",
       "text": [
        "WARNING:Fickian:The inlet pores have too many neighbors. Internal pores appear to be selected.\n"
       ]
      },
      {
       "output_type": "stream",
       "stream": "stderr",
       "text": [
        "WARNING:Fickian:The outlet pores have too many neighbors. Internal pores appear to be selected.\n"
       ]
      },
      {
       "output_type": "stream",
       "stream": "stderr",
       "text": [
        "WARNING:Cubic:The supplied pores are not coplanar. Length will be approximate.\n"
       ]
      },
      {
       "output_type": "stream",
       "stream": "stderr",
       "text": [
        "WARNING:Stokes_2:The inlet pores have too many neighbors. Internal pores appear to be selected.\n"
       ]
      },
      {
       "output_type": "stream",
       "stream": "stderr",
       "text": [
        "WARNING:Stokes_2:The outlet pores have too many neighbors. Internal pores appear to be selected.\n"
       ]
      },
      {
       "output_type": "stream",
       "stream": "stderr",
       "text": [
        "WARNING:Cubic:The supplied pores are not coplanar. Length will be approximate.\n"
       ]
      },
      {
       "output_type": "stream",
       "stream": "stderr",
       "text": [
        "WARNING:Fickian_2:The inlet pores have too many neighbors. Internal pores appear to be selected.\n"
       ]
      },
      {
       "output_type": "stream",
       "stream": "stderr",
       "text": [
        "WARNING:Fickian_2:The outlet pores have too many neighbors. Internal pores appear to be selected.\n"
       ]
      },
      {
       "output_type": "stream",
       "stream": "stderr",
       "text": [
        "WARNING:Cubic:The supplied pores are not coplanar. Length will be approximate.\n"
       ]
      },
      {
       "output_type": "stream",
       "stream": "stderr",
       "text": [
        "WARNING:Stokes:The inlet pores have too many neighbors. Internal pores appear to be selected.\n"
       ]
      },
      {
       "output_type": "stream",
       "stream": "stderr",
       "text": [
        "WARNING:Stokes:The outlet pores have too many neighbors. Internal pores appear to be selected.\n"
       ]
      },
      {
       "output_type": "stream",
       "stream": "stderr",
       "text": [
        "WARNING:Cubic:The supplied pores are not coplanar. Length will be approximate.\n"
       ]
      },
      {
       "output_type": "stream",
       "stream": "stderr",
       "text": [
        "WARNING:Fickian:The inlet pores have too many neighbors. Internal pores appear to be selected.\n"
       ]
      },
      {
       "output_type": "stream",
       "stream": "stderr",
       "text": [
        "WARNING:Fickian:The outlet pores have too many neighbors. Internal pores appear to be selected.\n"
       ]
      },
      {
       "output_type": "stream",
       "stream": "stderr",
       "text": [
        "WARNING:Cubic:The supplied pores are not coplanar. Length will be approximate.\n"
       ]
      },
      {
       "output_type": "stream",
       "stream": "stderr",
       "text": [
        "WARNING:Stokes_2:The inlet pores have too many neighbors. Internal pores appear to be selected.\n"
       ]
      },
      {
       "output_type": "stream",
       "stream": "stderr",
       "text": [
        "WARNING:Stokes_2:The outlet pores have too many neighbors. Internal pores appear to be selected.\n"
       ]
      },
      {
       "output_type": "stream",
       "stream": "stderr",
       "text": [
        "WARNING:Cubic:The supplied pores are not coplanar. Length will be approximate.\n"
       ]
      },
      {
       "output_type": "stream",
       "stream": "stderr",
       "text": [
        "WARNING:Fickian_2:The inlet pores have too many neighbors. Internal pores appear to be selected.\n"
       ]
      },
      {
       "output_type": "stream",
       "stream": "stderr",
       "text": [
        "WARNING:Fickian_2:The outlet pores have too many neighbors. Internal pores appear to be selected.\n"
       ]
      },
      {
       "output_type": "stream",
       "stream": "stderr",
       "text": [
        "WARNING:Cubic:The supplied pores are not coplanar. Length will be approximate.\n"
       ]
      },
      {
       "output_type": "stream",
       "stream": "stderr",
       "text": [
        "WARNING:Stokes:The inlet pores have too many neighbors. Internal pores appear to be selected.\n"
       ]
      },
      {
       "output_type": "stream",
       "stream": "stderr",
       "text": [
        "WARNING:Stokes:The outlet pores have too many neighbors. Internal pores appear to be selected.\n"
       ]
      },
      {
       "output_type": "stream",
       "stream": "stderr",
       "text": [
        "WARNING:Cubic:The supplied pores are not coplanar. Length will be approximate.\n"
       ]
      },
      {
       "output_type": "stream",
       "stream": "stderr",
       "text": [
        "WARNING:Fickian:The inlet pores have too many neighbors. Internal pores appear to be selected.\n"
       ]
      },
      {
       "output_type": "stream",
       "stream": "stderr",
       "text": [
        "WARNING:Fickian:The outlet pores have too many neighbors. Internal pores appear to be selected.\n"
       ]
      },
      {
       "output_type": "stream",
       "stream": "stderr",
       "text": [
        "WARNING:Cubic:The supplied pores are not coplanar. Length will be approximate.\n"
       ]
      },
      {
       "output_type": "stream",
       "stream": "stderr",
       "text": [
        "WARNING:Stokes_2:The inlet pores have too many neighbors. Internal pores appear to be selected.\n"
       ]
      },
      {
       "output_type": "stream",
       "stream": "stderr",
       "text": [
        "WARNING:Stokes_2:The outlet pores have too many neighbors. Internal pores appear to be selected.\n"
       ]
      },
      {
       "output_type": "stream",
       "stream": "stderr",
       "text": [
        "WARNING:Cubic:The supplied pores are not coplanar. Length will be approximate.\n"
       ]
      },
      {
       "output_type": "stream",
       "stream": "stderr",
       "text": [
        "WARNING:Fickian_2:The inlet pores have too many neighbors. Internal pores appear to be selected.\n"
       ]
      },
      {
       "output_type": "stream",
       "stream": "stderr",
       "text": [
        "WARNING:Fickian_2:The outlet pores have too many neighbors. Internal pores appear to be selected.\n"
       ]
      },
      {
       "output_type": "stream",
       "stream": "stderr",
       "text": [
        "WARNING:Cubic:The supplied pores are not coplanar. Length will be approximate.\n"
       ]
      },
      {
       "output_type": "stream",
       "stream": "stderr",
       "text": [
        "WARNING:Stokes:The inlet pores have too many neighbors. Internal pores appear to be selected.\n"
       ]
      },
      {
       "output_type": "stream",
       "stream": "stderr",
       "text": [
        "WARNING:Stokes:The outlet pores have too many neighbors. Internal pores appear to be selected.\n"
       ]
      },
      {
       "output_type": "stream",
       "stream": "stderr",
       "text": [
        "WARNING:Cubic:The supplied pores are not coplanar. Length will be approximate.\n"
       ]
      },
      {
       "output_type": "stream",
       "stream": "stderr",
       "text": [
        "WARNING:Fickian:The inlet pores have too many neighbors. Internal pores appear to be selected.\n"
       ]
      },
      {
       "output_type": "stream",
       "stream": "stderr",
       "text": [
        "WARNING:Fickian:The outlet pores have too many neighbors. Internal pores appear to be selected.\n"
       ]
      },
      {
       "output_type": "stream",
       "stream": "stderr",
       "text": [
        "WARNING:Cubic:The supplied pores are not coplanar. Length will be approximate.\n"
       ]
      },
      {
       "output_type": "stream",
       "stream": "stderr",
       "text": [
        "WARNING:Stokes_2:The inlet pores have too many neighbors. Internal pores appear to be selected.\n"
       ]
      },
      {
       "output_type": "stream",
       "stream": "stderr",
       "text": [
        "WARNING:Stokes_2:The outlet pores have too many neighbors. Internal pores appear to be selected.\n"
       ]
      },
      {
       "output_type": "stream",
       "stream": "stderr",
       "text": [
        "WARNING:Cubic:The supplied pores are not coplanar. Length will be approximate.\n"
       ]
      },
      {
       "output_type": "stream",
       "stream": "stderr",
       "text": [
        "WARNING:Fickian_2:The inlet pores have too many neighbors. Internal pores appear to be selected.\n"
       ]
      },
      {
       "output_type": "stream",
       "stream": "stderr",
       "text": [
        "WARNING:Fickian_2:The outlet pores have too many neighbors. Internal pores appear to be selected.\n"
       ]
      },
      {
       "output_type": "stream",
       "stream": "stderr",
       "text": [
        "WARNING:Cubic:The supplied pores are not coplanar. Length will be approximate.\n"
       ]
      },
      {
       "output_type": "stream",
       "stream": "stderr",
       "text": [
        "WARNING:Stokes:The inlet pores have too many neighbors. Internal pores appear to be selected.\n"
       ]
      },
      {
       "output_type": "stream",
       "stream": "stderr",
       "text": [
        "WARNING:Stokes:The outlet pores have too many neighbors. Internal pores appear to be selected.\n"
       ]
      },
      {
       "output_type": "stream",
       "stream": "stderr",
       "text": [
        "WARNING:Cubic:The supplied pores are not coplanar. Length will be approximate.\n"
       ]
      },
      {
       "output_type": "stream",
       "stream": "stderr",
       "text": [
        "WARNING:Fickian:The inlet pores have too many neighbors. Internal pores appear to be selected.\n"
       ]
      },
      {
       "output_type": "stream",
       "stream": "stderr",
       "text": [
        "WARNING:Fickian:The outlet pores have too many neighbors. Internal pores appear to be selected.\n"
       ]
      },
      {
       "output_type": "stream",
       "stream": "stderr",
       "text": [
        "WARNING:Cubic:The supplied pores are not coplanar. Length will be approximate.\n"
       ]
      },
      {
       "output_type": "stream",
       "stream": "stderr",
       "text": [
        "WARNING:Stokes_2:The inlet pores have too many neighbors. Internal pores appear to be selected.\n"
       ]
      },
      {
       "output_type": "stream",
       "stream": "stderr",
       "text": [
        "WARNING:Stokes_2:The outlet pores have too many neighbors. Internal pores appear to be selected.\n"
       ]
      },
      {
       "output_type": "stream",
       "stream": "stderr",
       "text": [
        "WARNING:Cubic:The supplied pores are not coplanar. Length will be approximate.\n"
       ]
      },
      {
       "output_type": "stream",
       "stream": "stderr",
       "text": [
        "WARNING:Fickian_2:The inlet pores have too many neighbors. Internal pores appear to be selected.\n"
       ]
      },
      {
       "output_type": "stream",
       "stream": "stderr",
       "text": [
        "WARNING:Fickian_2:The outlet pores have too many neighbors. Internal pores appear to be selected.\n"
       ]
      },
      {
       "output_type": "stream",
       "stream": "stderr",
       "text": [
        "WARNING:Cubic:The supplied pores are not coplanar. Length will be approximate.\n"
       ]
      },
      {
       "output_type": "stream",
       "stream": "stderr",
       "text": [
        "WARNING:Stokes:The inlet pores have too many neighbors. Internal pores appear to be selected.\n"
       ]
      },
      {
       "output_type": "stream",
       "stream": "stderr",
       "text": [
        "WARNING:Stokes:The outlet pores have too many neighbors. Internal pores appear to be selected.\n"
       ]
      },
      {
       "output_type": "stream",
       "stream": "stderr",
       "text": [
        "WARNING:Cubic:The supplied pores are not coplanar. Length will be approximate.\n"
       ]
      },
      {
       "output_type": "stream",
       "stream": "stderr",
       "text": [
        "WARNING:Fickian:The inlet pores have too many neighbors. Internal pores appear to be selected.\n"
       ]
      },
      {
       "output_type": "stream",
       "stream": "stderr",
       "text": [
        "WARNING:Fickian:The outlet pores have too many neighbors. Internal pores appear to be selected.\n"
       ]
      },
      {
       "output_type": "stream",
       "stream": "stderr",
       "text": [
        "WARNING:Cubic:The supplied pores are not coplanar. Length will be approximate.\n"
       ]
      },
      {
       "output_type": "stream",
       "stream": "stderr",
       "text": [
        "WARNING:Stokes_2:The inlet pores have too many neighbors. Internal pores appear to be selected.\n"
       ]
      },
      {
       "output_type": "stream",
       "stream": "stderr",
       "text": [
        "WARNING:Stokes_2:The outlet pores have too many neighbors. Internal pores appear to be selected.\n"
       ]
      },
      {
       "output_type": "stream",
       "stream": "stderr",
       "text": [
        "WARNING:Cubic:The supplied pores are not coplanar. Length will be approximate.\n"
       ]
      },
      {
       "output_type": "stream",
       "stream": "stderr",
       "text": [
        "WARNING:Fickian_2:The inlet pores have too many neighbors. Internal pores appear to be selected.\n"
       ]
      },
      {
       "output_type": "stream",
       "stream": "stderr",
       "text": [
        "WARNING:Fickian_2:The outlet pores have too many neighbors. Internal pores appear to be selected.\n"
       ]
      },
      {
       "output_type": "stream",
       "stream": "stderr",
       "text": [
        "WARNING:Cubic:The supplied pores are not coplanar. Length will be approximate.\n"
       ]
      },
      {
       "output_type": "stream",
       "stream": "stderr",
       "text": [
        "WARNING:Stokes:The inlet pores have too many neighbors. Internal pores appear to be selected.\n"
       ]
      },
      {
       "output_type": "stream",
       "stream": "stderr",
       "text": [
        "WARNING:Stokes:The outlet pores have too many neighbors. Internal pores appear to be selected.\n"
       ]
      },
      {
       "output_type": "stream",
       "stream": "stderr",
       "text": [
        "WARNING:Cubic:The supplied pores are not coplanar. Length will be approximate.\n"
       ]
      },
      {
       "output_type": "stream",
       "stream": "stderr",
       "text": [
        "WARNING:Fickian:The inlet pores have too many neighbors. Internal pores appear to be selected.\n"
       ]
      },
      {
       "output_type": "stream",
       "stream": "stderr",
       "text": [
        "WARNING:Fickian:The outlet pores have too many neighbors. Internal pores appear to be selected.\n"
       ]
      },
      {
       "output_type": "stream",
       "stream": "stderr",
       "text": [
        "WARNING:Cubic:The supplied pores are not coplanar. Length will be approximate.\n"
       ]
      },
      {
       "output_type": "stream",
       "stream": "stderr",
       "text": [
        "WARNING:Stokes_2:The inlet pores have too many neighbors. Internal pores appear to be selected.\n"
       ]
      },
      {
       "output_type": "stream",
       "stream": "stderr",
       "text": [
        "WARNING:Stokes_2:The outlet pores have too many neighbors. Internal pores appear to be selected.\n"
       ]
      },
      {
       "output_type": "stream",
       "stream": "stderr",
       "text": [
        "WARNING:Cubic:The supplied pores are not coplanar. Length will be approximate.\n"
       ]
      },
      {
       "output_type": "stream",
       "stream": "stderr",
       "text": [
        "WARNING:Fickian_2:The inlet pores have too many neighbors. Internal pores appear to be selected.\n"
       ]
      },
      {
       "output_type": "stream",
       "stream": "stderr",
       "text": [
        "WARNING:Fickian_2:The outlet pores have too many neighbors. Internal pores appear to be selected.\n"
       ]
      },
      {
       "output_type": "stream",
       "stream": "stderr",
       "text": [
        "WARNING:Cubic:The supplied pores are not coplanar. Length will be approximate.\n"
       ]
      },
      {
       "output_type": "stream",
       "stream": "stderr",
       "text": [
        "WARNING:Stokes:The inlet pores have too many neighbors. Internal pores appear to be selected.\n"
       ]
      },
      {
       "output_type": "stream",
       "stream": "stderr",
       "text": [
        "WARNING:Stokes:The outlet pores have too many neighbors. Internal pores appear to be selected.\n"
       ]
      },
      {
       "output_type": "stream",
       "stream": "stderr",
       "text": [
        "WARNING:Cubic:The supplied pores are not coplanar. Length will be approximate.\n"
       ]
      },
      {
       "output_type": "stream",
       "stream": "stderr",
       "text": [
        "WARNING:Fickian:The inlet pores have too many neighbors. Internal pores appear to be selected.\n"
       ]
      },
      {
       "output_type": "stream",
       "stream": "stderr",
       "text": [
        "WARNING:Fickian:The outlet pores have too many neighbors. Internal pores appear to be selected.\n"
       ]
      },
      {
       "output_type": "stream",
       "stream": "stderr",
       "text": [
        "WARNING:Cubic:The supplied pores are not coplanar. Length will be approximate.\n"
       ]
      },
      {
       "output_type": "stream",
       "stream": "stderr",
       "text": [
        "WARNING:Stokes_2:The inlet pores have too many neighbors. Internal pores appear to be selected.\n"
       ]
      },
      {
       "output_type": "stream",
       "stream": "stderr",
       "text": [
        "WARNING:Stokes_2:The outlet pores have too many neighbors. Internal pores appear to be selected.\n"
       ]
      },
      {
       "output_type": "stream",
       "stream": "stderr",
       "text": [
        "WARNING:Cubic:The supplied pores are not coplanar. Length will be approximate.\n"
       ]
      },
      {
       "output_type": "stream",
       "stream": "stderr",
       "text": [
        "WARNING:Fickian_2:The inlet pores have too many neighbors. Internal pores appear to be selected.\n"
       ]
      },
      {
       "output_type": "stream",
       "stream": "stderr",
       "text": [
        "WARNING:Fickian_2:The outlet pores have too many neighbors. Internal pores appear to be selected.\n"
       ]
      },
      {
       "output_type": "stream",
       "stream": "stderr",
       "text": [
        "WARNING:Cubic:The supplied pores are not coplanar. Length will be approximate.\n"
       ]
      },
      {
       "output_type": "stream",
       "stream": "stderr",
       "text": [
        "WARNING:Stokes:The inlet pores have too many neighbors. Internal pores appear to be selected.\n"
       ]
      },
      {
       "output_type": "stream",
       "stream": "stderr",
       "text": [
        "WARNING:Stokes:The outlet pores have too many neighbors. Internal pores appear to be selected.\n"
       ]
      },
      {
       "output_type": "stream",
       "stream": "stderr",
       "text": [
        "WARNING:Cubic:The supplied pores are not coplanar. Length will be approximate.\n"
       ]
      },
      {
       "output_type": "stream",
       "stream": "stderr",
       "text": [
        "WARNING:Fickian:The inlet pores have too many neighbors. Internal pores appear to be selected.\n"
       ]
      },
      {
       "output_type": "stream",
       "stream": "stderr",
       "text": [
        "WARNING:Fickian:The outlet pores have too many neighbors. Internal pores appear to be selected.\n"
       ]
      },
      {
       "output_type": "stream",
       "stream": "stderr",
       "text": [
        "WARNING:Cubic:The supplied pores are not coplanar. Length will be approximate.\n"
       ]
      },
      {
       "output_type": "stream",
       "stream": "stderr",
       "text": [
        "WARNING:Stokes_2:The inlet pores have too many neighbors. Internal pores appear to be selected.\n"
       ]
      },
      {
       "output_type": "stream",
       "stream": "stderr",
       "text": [
        "WARNING:Stokes_2:The outlet pores have too many neighbors. Internal pores appear to be selected.\n"
       ]
      },
      {
       "output_type": "stream",
       "stream": "stderr",
       "text": [
        "WARNING:Cubic:The supplied pores are not coplanar. Length will be approximate.\n"
       ]
      },
      {
       "output_type": "stream",
       "stream": "stderr",
       "text": [
        "WARNING:Fickian_2:The inlet pores have too many neighbors. Internal pores appear to be selected.\n"
       ]
      },
      {
       "output_type": "stream",
       "stream": "stderr",
       "text": [
        "WARNING:Fickian_2:The outlet pores have too many neighbors. Internal pores appear to be selected.\n"
       ]
      },
      {
       "output_type": "stream",
       "stream": "stderr",
       "text": [
        "WARNING:Cubic:The supplied pores are not coplanar. Length will be approximate.\n"
       ]
      },
      {
       "output_type": "stream",
       "stream": "stderr",
       "text": [
        "WARNING:Stokes:The inlet pores have too many neighbors. Internal pores appear to be selected.\n"
       ]
      },
      {
       "output_type": "stream",
       "stream": "stderr",
       "text": [
        "WARNING:Stokes:The outlet pores have too many neighbors. Internal pores appear to be selected.\n"
       ]
      },
      {
       "output_type": "stream",
       "stream": "stderr",
       "text": [
        "WARNING:Cubic:The supplied pores are not coplanar. Length will be approximate.\n"
       ]
      },
      {
       "output_type": "stream",
       "stream": "stderr",
       "text": [
        "WARNING:Fickian:The inlet pores have too many neighbors. Internal pores appear to be selected.\n"
       ]
      },
      {
       "output_type": "stream",
       "stream": "stderr",
       "text": [
        "WARNING:Fickian:The outlet pores have too many neighbors. Internal pores appear to be selected.\n"
       ]
      },
      {
       "output_type": "stream",
       "stream": "stderr",
       "text": [
        "WARNING:Cubic:The supplied pores are not coplanar. Length will be approximate.\n"
       ]
      },
      {
       "output_type": "stream",
       "stream": "stderr",
       "text": [
        "WARNING:Stokes_2:The inlet pores have too many neighbors. Internal pores appear to be selected.\n"
       ]
      },
      {
       "output_type": "stream",
       "stream": "stderr",
       "text": [
        "WARNING:Stokes_2:The outlet pores have too many neighbors. Internal pores appear to be selected.\n"
       ]
      },
      {
       "output_type": "stream",
       "stream": "stderr",
       "text": [
        "WARNING:Cubic:The supplied pores are not coplanar. Length will be approximate.\n"
       ]
      },
      {
       "output_type": "stream",
       "stream": "stderr",
       "text": [
        "WARNING:Fickian_2:The inlet pores have too many neighbors. Internal pores appear to be selected.\n"
       ]
      },
      {
       "output_type": "stream",
       "stream": "stderr",
       "text": [
        "WARNING:Fickian_2:The outlet pores have too many neighbors. Internal pores appear to be selected.\n"
       ]
      },
      {
       "output_type": "stream",
       "stream": "stderr",
       "text": [
        "WARNING:Cubic:The supplied pores are not coplanar. Length will be approximate.\n"
       ]
      },
      {
       "output_type": "stream",
       "stream": "stderr",
       "text": [
        "WARNING:Stokes:The inlet pores have too many neighbors. Internal pores appear to be selected.\n"
       ]
      },
      {
       "output_type": "stream",
       "stream": "stderr",
       "text": [
        "WARNING:Stokes:The outlet pores have too many neighbors. Internal pores appear to be selected.\n"
       ]
      },
      {
       "output_type": "stream",
       "stream": "stderr",
       "text": [
        "WARNING:Cubic:The supplied pores are not coplanar. Length will be approximate.\n"
       ]
      },
      {
       "output_type": "stream",
       "stream": "stderr",
       "text": [
        "WARNING:Fickian:The inlet pores have too many neighbors. Internal pores appear to be selected.\n"
       ]
      },
      {
       "output_type": "stream",
       "stream": "stderr",
       "text": [
        "WARNING:Fickian:The outlet pores have too many neighbors. Internal pores appear to be selected.\n"
       ]
      },
      {
       "output_type": "stream",
       "stream": "stderr",
       "text": [
        "WARNING:Cubic:The supplied pores are not coplanar. Length will be approximate.\n"
       ]
      },
      {
       "output_type": "stream",
       "stream": "stderr",
       "text": [
        "WARNING:Stokes_2:The inlet pores have too many neighbors. Internal pores appear to be selected.\n"
       ]
      },
      {
       "output_type": "stream",
       "stream": "stderr",
       "text": [
        "WARNING:Stokes_2:The outlet pores have too many neighbors. Internal pores appear to be selected.\n"
       ]
      },
      {
       "output_type": "stream",
       "stream": "stderr",
       "text": [
        "WARNING:Cubic:The supplied pores are not coplanar. Length will be approximate.\n"
       ]
      },
      {
       "output_type": "stream",
       "stream": "stderr",
       "text": [
        "WARNING:Fickian_2:The inlet pores have too many neighbors. Internal pores appear to be selected.\n"
       ]
      },
      {
       "output_type": "stream",
       "stream": "stderr",
       "text": [
        "WARNING:Fickian_2:The outlet pores have too many neighbors. Internal pores appear to be selected.\n"
       ]
      },
      {
       "output_type": "stream",
       "stream": "stderr",
       "text": [
        "WARNING:Cubic:The supplied pores are not coplanar. Length will be approximate.\n"
       ]
      },
      {
       "output_type": "stream",
       "stream": "stderr",
       "text": [
        "WARNING:Stokes:The inlet pores have too many neighbors. Internal pores appear to be selected.\n"
       ]
      },
      {
       "output_type": "stream",
       "stream": "stderr",
       "text": [
        "WARNING:Stokes:The outlet pores have too many neighbors. Internal pores appear to be selected.\n"
       ]
      },
      {
       "output_type": "stream",
       "stream": "stderr",
       "text": [
        "WARNING:Cubic:The supplied pores are not coplanar. Length will be approximate.\n"
       ]
      },
      {
       "output_type": "stream",
       "stream": "stderr",
       "text": [
        "WARNING:Fickian:The inlet pores have too many neighbors. Internal pores appear to be selected.\n"
       ]
      },
      {
       "output_type": "stream",
       "stream": "stderr",
       "text": [
        "WARNING:Fickian:The outlet pores have too many neighbors. Internal pores appear to be selected.\n"
       ]
      },
      {
       "output_type": "stream",
       "stream": "stderr",
       "text": [
        "WARNING:Cubic:The supplied pores are not coplanar. Length will be approximate.\n"
       ]
      },
      {
       "output_type": "stream",
       "stream": "stderr",
       "text": [
        "WARNING:Stokes_2:The inlet pores have too many neighbors. Internal pores appear to be selected.\n"
       ]
      },
      {
       "output_type": "stream",
       "stream": "stderr",
       "text": [
        "WARNING:Stokes_2:The outlet pores have too many neighbors. Internal pores appear to be selected.\n"
       ]
      },
      {
       "output_type": "stream",
       "stream": "stderr",
       "text": [
        "WARNING:Cubic:The supplied pores are not coplanar. Length will be approximate.\n"
       ]
      },
      {
       "output_type": "stream",
       "stream": "stderr",
       "text": [
        "WARNING:Fickian_2:The inlet pores have too many neighbors. Internal pores appear to be selected.\n"
       ]
      },
      {
       "output_type": "stream",
       "stream": "stderr",
       "text": [
        "WARNING:Fickian_2:The outlet pores have too many neighbors. Internal pores appear to be selected.\n"
       ]
      },
      {
       "output_type": "stream",
       "stream": "stderr",
       "text": [
        "WARNING:Cubic:The supplied pores are not coplanar. Length will be approximate.\n"
       ]
      },
      {
       "output_type": "stream",
       "stream": "stderr",
       "text": [
        "WARNING:Stokes:The inlet pores have too many neighbors. Internal pores appear to be selected.\n"
       ]
      },
      {
       "output_type": "stream",
       "stream": "stderr",
       "text": [
        "WARNING:Stokes:The outlet pores have too many neighbors. Internal pores appear to be selected.\n"
       ]
      },
      {
       "output_type": "stream",
       "stream": "stderr",
       "text": [
        "WARNING:Cubic:The supplied pores are not coplanar. Length will be approximate.\n"
       ]
      },
      {
       "output_type": "stream",
       "stream": "stderr",
       "text": [
        "WARNING:Fickian:The inlet pores have too many neighbors. Internal pores appear to be selected.\n"
       ]
      },
      {
       "output_type": "stream",
       "stream": "stderr",
       "text": [
        "WARNING:Fickian:The outlet pores have too many neighbors. Internal pores appear to be selected.\n"
       ]
      },
      {
       "output_type": "stream",
       "stream": "stderr",
       "text": [
        "WARNING:Cubic:The supplied pores are not coplanar. Length will be approximate.\n"
       ]
      },
      {
       "output_type": "stream",
       "stream": "stderr",
       "text": [
        "WARNING:Stokes_2:The inlet pores have too many neighbors. Internal pores appear to be selected.\n"
       ]
      },
      {
       "output_type": "stream",
       "stream": "stderr",
       "text": [
        "WARNING:Stokes_2:The outlet pores have too many neighbors. Internal pores appear to be selected.\n"
       ]
      },
      {
       "output_type": "stream",
       "stream": "stderr",
       "text": [
        "WARNING:Cubic:The supplied pores are not coplanar. Length will be approximate.\n"
       ]
      },
      {
       "output_type": "stream",
       "stream": "stderr",
       "text": [
        "WARNING:Fickian_2:The inlet pores have too many neighbors. Internal pores appear to be selected.\n"
       ]
      },
      {
       "output_type": "stream",
       "stream": "stderr",
       "text": [
        "WARNING:Fickian_2:The outlet pores have too many neighbors. Internal pores appear to be selected.\n"
       ]
      },
      {
       "output_type": "stream",
       "stream": "stderr",
       "text": [
        "WARNING:Cubic:The supplied pores are not coplanar. Length will be approximate.\n"
       ]
      },
      {
       "output_type": "stream",
       "stream": "stderr",
       "text": [
        "WARNING:Stokes:The inlet pores have too many neighbors. Internal pores appear to be selected.\n"
       ]
      },
      {
       "output_type": "stream",
       "stream": "stderr",
       "text": [
        "WARNING:Stokes:The outlet pores have too many neighbors. Internal pores appear to be selected.\n"
       ]
      },
      {
       "output_type": "stream",
       "stream": "stderr",
       "text": [
        "WARNING:Cubic:The supplied pores are not coplanar. Length will be approximate.\n"
       ]
      },
      {
       "output_type": "stream",
       "stream": "stderr",
       "text": [
        "WARNING:Fickian:The inlet pores have too many neighbors. Internal pores appear to be selected.\n"
       ]
      },
      {
       "output_type": "stream",
       "stream": "stderr",
       "text": [
        "WARNING:Fickian:The outlet pores have too many neighbors. Internal pores appear to be selected.\n"
       ]
      },
      {
       "output_type": "stream",
       "stream": "stderr",
       "text": [
        "WARNING:Cubic:The supplied pores are not coplanar. Length will be approximate.\n"
       ]
      },
      {
       "output_type": "stream",
       "stream": "stderr",
       "text": [
        "WARNING:Stokes_2:The inlet pores have too many neighbors. Internal pores appear to be selected.\n"
       ]
      },
      {
       "output_type": "stream",
       "stream": "stderr",
       "text": [
        "WARNING:Stokes_2:The outlet pores have too many neighbors. Internal pores appear to be selected.\n"
       ]
      },
      {
       "output_type": "stream",
       "stream": "stderr",
       "text": [
        "WARNING:Cubic:The supplied pores are not coplanar. Length will be approximate.\n"
       ]
      },
      {
       "output_type": "stream",
       "stream": "stderr",
       "text": [
        "WARNING:Fickian_2:The inlet pores have too many neighbors. Internal pores appear to be selected.\n"
       ]
      },
      {
       "output_type": "stream",
       "stream": "stderr",
       "text": [
        "WARNING:Fickian_2:The outlet pores have too many neighbors. Internal pores appear to be selected.\n"
       ]
      },
      {
       "output_type": "stream",
       "stream": "stderr",
       "text": [
        "WARNING:Cubic:The supplied pores are not coplanar. Length will be approximate.\n"
       ]
      },
      {
       "output_type": "stream",
       "stream": "stderr",
       "text": [
        "WARNING:Stokes:The inlet pores have too many neighbors. Internal pores appear to be selected.\n"
       ]
      },
      {
       "output_type": "stream",
       "stream": "stderr",
       "text": [
        "WARNING:Stokes:The outlet pores have too many neighbors. Internal pores appear to be selected.\n"
       ]
      },
      {
       "output_type": "stream",
       "stream": "stderr",
       "text": [
        "WARNING:Cubic:The supplied pores are not coplanar. Length will be approximate.\n"
       ]
      },
      {
       "output_type": "stream",
       "stream": "stderr",
       "text": [
        "WARNING:Fickian:The inlet pores have too many neighbors. Internal pores appear to be selected.\n"
       ]
      },
      {
       "output_type": "stream",
       "stream": "stderr",
       "text": [
        "WARNING:Fickian:The outlet pores have too many neighbors. Internal pores appear to be selected.\n"
       ]
      },
      {
       "output_type": "stream",
       "stream": "stderr",
       "text": [
        "WARNING:Cubic:The supplied pores are not coplanar. Length will be approximate.\n"
       ]
      },
      {
       "output_type": "stream",
       "stream": "stderr",
       "text": [
        "WARNING:Stokes_2:The inlet pores have too many neighbors. Internal pores appear to be selected.\n"
       ]
      },
      {
       "output_type": "stream",
       "stream": "stderr",
       "text": [
        "WARNING:Stokes_2:The outlet pores have too many neighbors. Internal pores appear to be selected.\n"
       ]
      },
      {
       "output_type": "stream",
       "stream": "stderr",
       "text": [
        "WARNING:Cubic:The supplied pores are not coplanar. Length will be approximate.\n"
       ]
      },
      {
       "output_type": "stream",
       "stream": "stderr",
       "text": [
        "WARNING:Fickian_2:The inlet pores have too many neighbors. Internal pores appear to be selected.\n"
       ]
      },
      {
       "output_type": "stream",
       "stream": "stderr",
       "text": [
        "WARNING:Fickian_2:The outlet pores have too many neighbors. Internal pores appear to be selected.\n"
       ]
      },
      {
       "output_type": "stream",
       "stream": "stderr",
       "text": [
        "WARNING:Cubic:The supplied pores are not coplanar. Length will be approximate.\n"
       ]
      },
      {
       "output_type": "stream",
       "stream": "stderr",
       "text": [
        "WARNING:Stokes:The inlet pores have too many neighbors. Internal pores appear to be selected.\n"
       ]
      },
      {
       "output_type": "stream",
       "stream": "stderr",
       "text": [
        "WARNING:Stokes:The outlet pores have too many neighbors. Internal pores appear to be selected.\n"
       ]
      },
      {
       "output_type": "stream",
       "stream": "stderr",
       "text": [
        "WARNING:Cubic:The supplied pores are not coplanar. Length will be approximate.\n"
       ]
      },
      {
       "output_type": "stream",
       "stream": "stderr",
       "text": [
        "WARNING:Fickian:The inlet pores have too many neighbors. Internal pores appear to be selected.\n"
       ]
      },
      {
       "output_type": "stream",
       "stream": "stderr",
       "text": [
        "WARNING:Fickian:The outlet pores have too many neighbors. Internal pores appear to be selected.\n"
       ]
      },
      {
       "output_type": "stream",
       "stream": "stderr",
       "text": [
        "WARNING:Cubic:The supplied pores are not coplanar. Length will be approximate.\n"
       ]
      },
      {
       "output_type": "stream",
       "stream": "stderr",
       "text": [
        "WARNING:Stokes_2:The inlet pores have too many neighbors. Internal pores appear to be selected.\n"
       ]
      },
      {
       "output_type": "stream",
       "stream": "stderr",
       "text": [
        "WARNING:Stokes_2:The outlet pores have too many neighbors. Internal pores appear to be selected.\n"
       ]
      },
      {
       "output_type": "stream",
       "stream": "stderr",
       "text": [
        "WARNING:Cubic:The supplied pores are not coplanar. Length will be approximate.\n"
       ]
      },
      {
       "output_type": "stream",
       "stream": "stderr",
       "text": [
        "WARNING:Fickian_2:The inlet pores have too many neighbors. Internal pores appear to be selected.\n"
       ]
      },
      {
       "output_type": "stream",
       "stream": "stderr",
       "text": [
        "WARNING:Fickian_2:The outlet pores have too many neighbors. Internal pores appear to be selected.\n"
       ]
      },
      {
       "output_type": "stream",
       "stream": "stderr",
       "text": [
        "WARNING:Cubic:The supplied pores are not coplanar. Length will be approximate.\n"
       ]
      },
      {
       "output_type": "stream",
       "stream": "stderr",
       "text": [
        "WARNING:Stokes:The inlet pores have too many neighbors. Internal pores appear to be selected.\n"
       ]
      },
      {
       "output_type": "stream",
       "stream": "stderr",
       "text": [
        "WARNING:Stokes:The outlet pores have too many neighbors. Internal pores appear to be selected.\n"
       ]
      },
      {
       "output_type": "stream",
       "stream": "stderr",
       "text": [
        "WARNING:Cubic:The supplied pores are not coplanar. Length will be approximate.\n"
       ]
      },
      {
       "output_type": "stream",
       "stream": "stderr",
       "text": [
        "WARNING:Fickian:The inlet pores have too many neighbors. Internal pores appear to be selected.\n"
       ]
      },
      {
       "output_type": "stream",
       "stream": "stderr",
       "text": [
        "WARNING:Fickian:The outlet pores have too many neighbors. Internal pores appear to be selected.\n"
       ]
      },
      {
       "output_type": "stream",
       "stream": "stderr",
       "text": [
        "WARNING:Cubic:The supplied pores are not coplanar. Length will be approximate.\n"
       ]
      },
      {
       "output_type": "stream",
       "stream": "stderr",
       "text": [
        "WARNING:Stokes_2:The inlet pores have too many neighbors. Internal pores appear to be selected.\n"
       ]
      },
      {
       "output_type": "stream",
       "stream": "stderr",
       "text": [
        "WARNING:Stokes_2:The outlet pores have too many neighbors. Internal pores appear to be selected.\n"
       ]
      },
      {
       "output_type": "stream",
       "stream": "stderr",
       "text": [
        "WARNING:Cubic:The supplied pores are not coplanar. Length will be approximate.\n"
       ]
      },
      {
       "output_type": "stream",
       "stream": "stderr",
       "text": [
        "WARNING:Fickian_2:The inlet pores have too many neighbors. Internal pores appear to be selected.\n"
       ]
      },
      {
       "output_type": "stream",
       "stream": "stderr",
       "text": [
        "WARNING:Fickian_2:The outlet pores have too many neighbors. Internal pores appear to be selected.\n"
       ]
      },
      {
       "output_type": "stream",
       "stream": "stderr",
       "text": [
        "WARNING:Cubic:The supplied pores are not coplanar. Length will be approximate.\n"
       ]
      },
      {
       "output_type": "stream",
       "stream": "stderr",
       "text": [
        "WARNING:Stokes:The inlet pores have too many neighbors. Internal pores appear to be selected.\n"
       ]
      },
      {
       "output_type": "stream",
       "stream": "stderr",
       "text": [
        "WARNING:Stokes:The outlet pores have too many neighbors. Internal pores appear to be selected.\n"
       ]
      },
      {
       "output_type": "stream",
       "stream": "stderr",
       "text": [
        "WARNING:Cubic:The supplied pores are not coplanar. Length will be approximate.\n"
       ]
      },
      {
       "output_type": "stream",
       "stream": "stderr",
       "text": [
        "WARNING:Fickian:The inlet pores have too many neighbors. Internal pores appear to be selected.\n"
       ]
      },
      {
       "output_type": "stream",
       "stream": "stderr",
       "text": [
        "WARNING:Fickian:The outlet pores have too many neighbors. Internal pores appear to be selected.\n"
       ]
      },
      {
       "output_type": "stream",
       "stream": "stderr",
       "text": [
        "WARNING:Cubic:The supplied pores are not coplanar. Length will be approximate.\n"
       ]
      },
      {
       "output_type": "stream",
       "stream": "stderr",
       "text": [
        "WARNING:Stokes_2:The inlet pores have too many neighbors. Internal pores appear to be selected.\n"
       ]
      },
      {
       "output_type": "stream",
       "stream": "stderr",
       "text": [
        "WARNING:Stokes_2:The outlet pores have too many neighbors. Internal pores appear to be selected.\n"
       ]
      },
      {
       "output_type": "stream",
       "stream": "stderr",
       "text": [
        "WARNING:Cubic:The supplied pores are not coplanar. Length will be approximate.\n"
       ]
      },
      {
       "output_type": "stream",
       "stream": "stderr",
       "text": [
        "WARNING:Fickian_2:The inlet pores have too many neighbors. Internal pores appear to be selected.\n"
       ]
      },
      {
       "output_type": "stream",
       "stream": "stderr",
       "text": [
        "WARNING:Fickian_2:The outlet pores have too many neighbors. Internal pores appear to be selected.\n"
       ]
      },
      {
       "output_type": "stream",
       "stream": "stderr",
       "text": [
        "WARNING:Cubic:The supplied pores are not coplanar. Length will be approximate.\n"
       ]
      },
      {
       "output_type": "stream",
       "stream": "stderr",
       "text": [
        "WARNING:Stokes:The inlet pores have too many neighbors. Internal pores appear to be selected.\n"
       ]
      },
      {
       "output_type": "stream",
       "stream": "stderr",
       "text": [
        "WARNING:Stokes:The outlet pores have too many neighbors. Internal pores appear to be selected.\n"
       ]
      },
      {
       "output_type": "stream",
       "stream": "stderr",
       "text": [
        "WARNING:Cubic:The supplied pores are not coplanar. Length will be approximate.\n"
       ]
      },
      {
       "output_type": "stream",
       "stream": "stderr",
       "text": [
        "WARNING:Fickian:The inlet pores have too many neighbors. Internal pores appear to be selected.\n"
       ]
      },
      {
       "output_type": "stream",
       "stream": "stderr",
       "text": [
        "WARNING:Fickian:The outlet pores have too many neighbors. Internal pores appear to be selected.\n"
       ]
      },
      {
       "output_type": "stream",
       "stream": "stderr",
       "text": [
        "WARNING:Cubic:The supplied pores are not coplanar. Length will be approximate.\n"
       ]
      },
      {
       "output_type": "stream",
       "stream": "stderr",
       "text": [
        "WARNING:Stokes_2:The inlet pores have too many neighbors. Internal pores appear to be selected.\n"
       ]
      },
      {
       "output_type": "stream",
       "stream": "stderr",
       "text": [
        "WARNING:Stokes_2:The outlet pores have too many neighbors. Internal pores appear to be selected.\n"
       ]
      },
      {
       "output_type": "stream",
       "stream": "stderr",
       "text": [
        "WARNING:Cubic:The supplied pores are not coplanar. Length will be approximate.\n"
       ]
      },
      {
       "output_type": "stream",
       "stream": "stderr",
       "text": [
        "WARNING:Fickian_2:The inlet pores have too many neighbors. Internal pores appear to be selected.\n"
       ]
      },
      {
       "output_type": "stream",
       "stream": "stderr",
       "text": [
        "WARNING:Fickian_2:The outlet pores have too many neighbors. Internal pores appear to be selected.\n"
       ]
      },
      {
       "output_type": "stream",
       "stream": "stderr",
       "text": [
        "WARNING:Cubic:The supplied pores are not coplanar. Length will be approximate.\n"
       ]
      },
      {
       "output_type": "stream",
       "stream": "stderr",
       "text": [
        "WARNING:Stokes:The inlet pores have too many neighbors. Internal pores appear to be selected.\n"
       ]
      },
      {
       "output_type": "stream",
       "stream": "stderr",
       "text": [
        "WARNING:Stokes:The outlet pores have too many neighbors. Internal pores appear to be selected.\n"
       ]
      },
      {
       "output_type": "stream",
       "stream": "stderr",
       "text": [
        "WARNING:Cubic:The supplied pores are not coplanar. Length will be approximate.\n"
       ]
      },
      {
       "output_type": "stream",
       "stream": "stderr",
       "text": [
        "WARNING:Fickian:The inlet pores have too many neighbors. Internal pores appear to be selected.\n"
       ]
      },
      {
       "output_type": "stream",
       "stream": "stderr",
       "text": [
        "WARNING:Fickian:The outlet pores have too many neighbors. Internal pores appear to be selected.\n"
       ]
      },
      {
       "output_type": "stream",
       "stream": "stderr",
       "text": [
        "WARNING:Cubic:The supplied pores are not coplanar. Length will be approximate.\n"
       ]
      },
      {
       "output_type": "stream",
       "stream": "stderr",
       "text": [
        "WARNING:Stokes_2:The inlet pores have too many neighbors. Internal pores appear to be selected.\n"
       ]
      },
      {
       "output_type": "stream",
       "stream": "stderr",
       "text": [
        "WARNING:Stokes_2:The outlet pores have too many neighbors. Internal pores appear to be selected.\n"
       ]
      },
      {
       "output_type": "stream",
       "stream": "stderr",
       "text": [
        "WARNING:Cubic:The supplied pores are not coplanar. Length will be approximate.\n"
       ]
      },
      {
       "output_type": "stream",
       "stream": "stderr",
       "text": [
        "WARNING:Fickian_2:The inlet pores have too many neighbors. Internal pores appear to be selected.\n"
       ]
      },
      {
       "output_type": "stream",
       "stream": "stderr",
       "text": [
        "WARNING:Fickian_2:The outlet pores have too many neighbors. Internal pores appear to be selected.\n"
       ]
      },
      {
       "output_type": "stream",
       "stream": "stderr",
       "text": [
        "WARNING:Cubic:The supplied pores are not coplanar. Length will be approximate.\n"
       ]
      },
      {
       "output_type": "stream",
       "stream": "stderr",
       "text": [
        "WARNING:Stokes:The inlet pores have too many neighbors. Internal pores appear to be selected.\n"
       ]
      },
      {
       "output_type": "stream",
       "stream": "stderr",
       "text": [
        "WARNING:Stokes:The outlet pores have too many neighbors. Internal pores appear to be selected.\n"
       ]
      },
      {
       "output_type": "stream",
       "stream": "stderr",
       "text": [
        "WARNING:Cubic:The supplied pores are not coplanar. Length will be approximate.\n"
       ]
      },
      {
       "output_type": "stream",
       "stream": "stderr",
       "text": [
        "WARNING:Fickian:The inlet pores have too many neighbors. Internal pores appear to be selected.\n"
       ]
      },
      {
       "output_type": "stream",
       "stream": "stderr",
       "text": [
        "WARNING:Fickian:The outlet pores have too many neighbors. Internal pores appear to be selected.\n"
       ]
      },
      {
       "output_type": "stream",
       "stream": "stderr",
       "text": [
        "WARNING:Cubic:The supplied pores are not coplanar. Length will be approximate.\n"
       ]
      },
      {
       "output_type": "stream",
       "stream": "stderr",
       "text": [
        "WARNING:Stokes_2:The inlet pores have too many neighbors. Internal pores appear to be selected.\n"
       ]
      },
      {
       "output_type": "stream",
       "stream": "stderr",
       "text": [
        "WARNING:Stokes_2:The outlet pores have too many neighbors. Internal pores appear to be selected.\n"
       ]
      },
      {
       "output_type": "stream",
       "stream": "stderr",
       "text": [
        "WARNING:Cubic:The supplied pores are not coplanar. Length will be approximate.\n"
       ]
      },
      {
       "output_type": "stream",
       "stream": "stderr",
       "text": [
        "WARNING:Fickian_2:The inlet pores have too many neighbors. Internal pores appear to be selected.\n"
       ]
      },
      {
       "output_type": "stream",
       "stream": "stderr",
       "text": [
        "WARNING:Fickian_2:The outlet pores have too many neighbors. Internal pores appear to be selected.\n"
       ]
      },
      {
       "output_type": "stream",
       "stream": "stderr",
       "text": [
        "WARNING:Cubic:The supplied pores are not coplanar. Length will be approximate.\n"
       ]
      },
      {
       "output_type": "stream",
       "stream": "stderr",
       "text": [
        "WARNING:Stokes:The inlet pores have too many neighbors. Internal pores appear to be selected.\n"
       ]
      },
      {
       "output_type": "stream",
       "stream": "stderr",
       "text": [
        "WARNING:Stokes:The outlet pores have too many neighbors. Internal pores appear to be selected.\n"
       ]
      },
      {
       "output_type": "stream",
       "stream": "stderr",
       "text": [
        "WARNING:Cubic:The supplied pores are not coplanar. Length will be approximate.\n"
       ]
      },
      {
       "output_type": "stream",
       "stream": "stderr",
       "text": [
        "WARNING:Fickian:The inlet pores have too many neighbors. Internal pores appear to be selected.\n"
       ]
      },
      {
       "output_type": "stream",
       "stream": "stderr",
       "text": [
        "WARNING:Fickian:The outlet pores have too many neighbors. Internal pores appear to be selected.\n"
       ]
      },
      {
       "output_type": "stream",
       "stream": "stderr",
       "text": [
        "WARNING:Cubic:The supplied pores are not coplanar. Length will be approximate.\n"
       ]
      },
      {
       "output_type": "stream",
       "stream": "stderr",
       "text": [
        "WARNING:Stokes_2:The inlet pores have too many neighbors. Internal pores appear to be selected.\n"
       ]
      },
      {
       "output_type": "stream",
       "stream": "stderr",
       "text": [
        "WARNING:Stokes_2:The outlet pores have too many neighbors. Internal pores appear to be selected.\n"
       ]
      },
      {
       "output_type": "stream",
       "stream": "stderr",
       "text": [
        "WARNING:Cubic:The supplied pores are not coplanar. Length will be approximate.\n"
       ]
      },
      {
       "output_type": "stream",
       "stream": "stderr",
       "text": [
        "WARNING:Fickian_2:The inlet pores have too many neighbors. Internal pores appear to be selected.\n"
       ]
      },
      {
       "output_type": "stream",
       "stream": "stderr",
       "text": [
        "WARNING:Fickian_2:The outlet pores have too many neighbors. Internal pores appear to be selected.\n"
       ]
      },
      {
       "output_type": "stream",
       "stream": "stderr",
       "text": [
        "WARNING:Cubic:The supplied pores are not coplanar. Length will be approximate.\n"
       ]
      },
      {
       "output_type": "stream",
       "stream": "stderr",
       "text": [
        "WARNING:Stokes:The inlet pores have too many neighbors. Internal pores appear to be selected.\n"
       ]
      },
      {
       "output_type": "stream",
       "stream": "stderr",
       "text": [
        "WARNING:Stokes:The outlet pores have too many neighbors. Internal pores appear to be selected.\n"
       ]
      },
      {
       "output_type": "stream",
       "stream": "stderr",
       "text": [
        "WARNING:Cubic:The supplied pores are not coplanar. Length will be approximate.\n"
       ]
      },
      {
       "output_type": "stream",
       "stream": "stderr",
       "text": [
        "WARNING:Fickian:The inlet pores have too many neighbors. Internal pores appear to be selected.\n"
       ]
      },
      {
       "output_type": "stream",
       "stream": "stderr",
       "text": [
        "WARNING:Fickian:The outlet pores have too many neighbors. Internal pores appear to be selected.\n"
       ]
      },
      {
       "output_type": "stream",
       "stream": "stderr",
       "text": [
        "WARNING:Cubic:The supplied pores are not coplanar. Length will be approximate.\n"
       ]
      },
      {
       "output_type": "stream",
       "stream": "stderr",
       "text": [
        "WARNING:Stokes_2:The inlet pores have too many neighbors. Internal pores appear to be selected.\n"
       ]
      },
      {
       "output_type": "stream",
       "stream": "stderr",
       "text": [
        "WARNING:Stokes_2:The outlet pores have too many neighbors. Internal pores appear to be selected.\n"
       ]
      },
      {
       "output_type": "stream",
       "stream": "stderr",
       "text": [
        "WARNING:Cubic:The supplied pores are not coplanar. Length will be approximate.\n"
       ]
      },
      {
       "output_type": "stream",
       "stream": "stderr",
       "text": [
        "WARNING:Fickian_2:The inlet pores have too many neighbors. Internal pores appear to be selected.\n"
       ]
      },
      {
       "output_type": "stream",
       "stream": "stderr",
       "text": [
        "WARNING:Fickian_2:The outlet pores have too many neighbors. Internal pores appear to be selected.\n"
       ]
      },
      {
       "output_type": "stream",
       "stream": "stderr",
       "text": [
        "WARNING:Cubic:The supplied pores are not coplanar. Length will be approximate.\n"
       ]
      },
      {
       "output_type": "stream",
       "stream": "stderr",
       "text": [
        "WARNING:Stokes:The inlet pores have too many neighbors. Internal pores appear to be selected.\n"
       ]
      },
      {
       "output_type": "stream",
       "stream": "stderr",
       "text": [
        "WARNING:Stokes:The outlet pores have too many neighbors. Internal pores appear to be selected.\n"
       ]
      },
      {
       "output_type": "stream",
       "stream": "stderr",
       "text": [
        "WARNING:Cubic:The supplied pores are not coplanar. Length will be approximate.\n"
       ]
      },
      {
       "output_type": "stream",
       "stream": "stderr",
       "text": [
        "WARNING:Fickian:The inlet pores have too many neighbors. Internal pores appear to be selected.\n"
       ]
      },
      {
       "output_type": "stream",
       "stream": "stderr",
       "text": [
        "WARNING:Fickian:The outlet pores have too many neighbors. Internal pores appear to be selected.\n"
       ]
      },
      {
       "output_type": "stream",
       "stream": "stderr",
       "text": [
        "WARNING:Cubic:The supplied pores are not coplanar. Length will be approximate.\n"
       ]
      },
      {
       "output_type": "stream",
       "stream": "stderr",
       "text": [
        "WARNING:Stokes_2:The inlet pores have too many neighbors. Internal pores appear to be selected.\n"
       ]
      },
      {
       "output_type": "stream",
       "stream": "stderr",
       "text": [
        "WARNING:Stokes_2:The outlet pores have too many neighbors. Internal pores appear to be selected.\n"
       ]
      },
      {
       "output_type": "stream",
       "stream": "stderr",
       "text": [
        "WARNING:Cubic:The supplied pores are not coplanar. Length will be approximate.\n"
       ]
      },
      {
       "output_type": "stream",
       "stream": "stderr",
       "text": [
        "WARNING:Fickian_2:The inlet pores have too many neighbors. Internal pores appear to be selected.\n"
       ]
      },
      {
       "output_type": "stream",
       "stream": "stderr",
       "text": [
        "WARNING:Fickian_2:The outlet pores have too many neighbors. Internal pores appear to be selected.\n"
       ]
      },
      {
       "output_type": "stream",
       "stream": "stderr",
       "text": [
        "WARNING:Cubic:The supplied pores are not coplanar. Length will be approximate.\n"
       ]
      },
      {
       "output_type": "stream",
       "stream": "stderr",
       "text": [
        "WARNING:Stokes:The inlet pores have too many neighbors. Internal pores appear to be selected.\n"
       ]
      },
      {
       "output_type": "stream",
       "stream": "stderr",
       "text": [
        "WARNING:Stokes:The outlet pores have too many neighbors. Internal pores appear to be selected.\n"
       ]
      },
      {
       "output_type": "stream",
       "stream": "stderr",
       "text": [
        "WARNING:Cubic:The supplied pores are not coplanar. Length will be approximate.\n"
       ]
      },
      {
       "output_type": "stream",
       "stream": "stderr",
       "text": [
        "WARNING:Fickian:The inlet pores have too many neighbors. Internal pores appear to be selected.\n"
       ]
      },
      {
       "output_type": "stream",
       "stream": "stderr",
       "text": [
        "WARNING:Fickian:The outlet pores have too many neighbors. Internal pores appear to be selected.\n"
       ]
      },
      {
       "output_type": "stream",
       "stream": "stderr",
       "text": [
        "WARNING:Cubic:The supplied pores are not coplanar. Length will be approximate.\n"
       ]
      },
      {
       "output_type": "stream",
       "stream": "stderr",
       "text": [
        "WARNING:Stokes_2:The inlet pores have too many neighbors. Internal pores appear to be selected.\n"
       ]
      },
      {
       "output_type": "stream",
       "stream": "stderr",
       "text": [
        "WARNING:Stokes_2:The outlet pores have too many neighbors. Internal pores appear to be selected.\n"
       ]
      },
      {
       "output_type": "stream",
       "stream": "stderr",
       "text": [
        "WARNING:Cubic:The supplied pores are not coplanar. Length will be approximate.\n"
       ]
      },
      {
       "output_type": "stream",
       "stream": "stderr",
       "text": [
        "WARNING:Fickian_2:The inlet pores have too many neighbors. Internal pores appear to be selected.\n"
       ]
      },
      {
       "output_type": "stream",
       "stream": "stderr",
       "text": [
        "WARNING:Fickian_2:The outlet pores have too many neighbors. Internal pores appear to be selected.\n"
       ]
      },
      {
       "output_type": "stream",
       "stream": "stderr",
       "text": [
        "WARNING:Cubic:The supplied pores are not coplanar. Length will be approximate.\n"
       ]
      },
      {
       "output_type": "stream",
       "stream": "stderr",
       "text": [
        "WARNING:Stokes:The inlet pores have too many neighbors. Internal pores appear to be selected.\n"
       ]
      },
      {
       "output_type": "stream",
       "stream": "stderr",
       "text": [
        "WARNING:Stokes:The outlet pores have too many neighbors. Internal pores appear to be selected.\n"
       ]
      },
      {
       "output_type": "stream",
       "stream": "stderr",
       "text": [
        "WARNING:Cubic:The supplied pores are not coplanar. Length will be approximate.\n"
       ]
      },
      {
       "output_type": "stream",
       "stream": "stderr",
       "text": [
        "WARNING:Fickian:The inlet pores have too many neighbors. Internal pores appear to be selected.\n"
       ]
      },
      {
       "output_type": "stream",
       "stream": "stderr",
       "text": [
        "WARNING:Fickian:The outlet pores have too many neighbors. Internal pores appear to be selected.\n"
       ]
      },
      {
       "output_type": "stream",
       "stream": "stderr",
       "text": [
        "WARNING:Cubic:The supplied pores are not coplanar. Length will be approximate.\n"
       ]
      },
      {
       "output_type": "stream",
       "stream": "stderr",
       "text": [
        "WARNING:Stokes_2:The inlet pores have too many neighbors. Internal pores appear to be selected.\n"
       ]
      },
      {
       "output_type": "stream",
       "stream": "stderr",
       "text": [
        "WARNING:Stokes_2:The outlet pores have too many neighbors. Internal pores appear to be selected.\n"
       ]
      },
      {
       "output_type": "stream",
       "stream": "stderr",
       "text": [
        "WARNING:Cubic:The supplied pores are not coplanar. Length will be approximate.\n"
       ]
      },
      {
       "output_type": "stream",
       "stream": "stderr",
       "text": [
        "WARNING:Fickian_2:The inlet pores have too many neighbors. Internal pores appear to be selected.\n"
       ]
      },
      {
       "output_type": "stream",
       "stream": "stderr",
       "text": [
        "WARNING:Fickian_2:The outlet pores have too many neighbors. Internal pores appear to be selected.\n"
       ]
      },
      {
       "output_type": "stream",
       "stream": "stderr",
       "text": [
        "WARNING:Cubic:The supplied pores are not coplanar. Length will be approximate.\n"
       ]
      },
      {
       "output_type": "stream",
       "stream": "stderr",
       "text": [
        "/Users/Jackie/anaconda/lib/python3.4/site-packages/matplotlib/figure.py:372: UserWarning: matplotlib is currently using a non-GUI backend, so cannot show the figure\n",
        "  \"matplotlib is currently using a non-GUI backend, \"\n"
       ]
      },
      {
       "metadata": {},
       "output_type": "display_data",
       "png": "[encoded data removed]",
       "text": [
        "<matplotlib.figure.Figure at 0x107d93630>"
       ]
      }
     ],
     "prompt_number": 2
    },
    {
     "cell_type": "markdown",
     "metadata": {},
     "source": [
      "With enough patience, the above code should generate a graph looking something like this:"
     ]
    },
    {
     "cell_type": "code",
     "collapsed": false,
     "input": [
      "i = Image(url = 'http://i.imgur.com/7aNiMwe.png')\n",
      "display(i)"
     ],
     "language": "python",
     "metadata": {},
     "outputs": [
      {
       "html": [
        "<img src=\"http://i.imgur.com/7aNiMwe.png\"/>"
       ],
       "metadata": {},
       "output_type": "display_data",
       "text": [
        "<IPython.core.display.Image at 0x1094c8470>"
       ]
      }
     ],
     "prompt_number": 18
    },
    {
     "cell_type": "heading",
     "level": 2,
     "metadata": {},
     "source": [
      "Discrepancies with Gostick's simulation"
     ]
    },
    {
     "cell_type": "markdown",
     "metadata": {},
     "source": [
      "Several things contribute to slight differences between this simulation and that produced by Gostick et al in their 2007 paper.  These include:\n",
      "\n",
      "1) lack of pore size correlation\n",
      "2) lack of late pore filling"
     ]
    }
   ],
   "metadata": {}
  }
 ]
}