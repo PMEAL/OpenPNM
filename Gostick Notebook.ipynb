{
 "metadata": {
  "name": "",
  "signature": "sha256:bb873b131c8f20d16ab518ac936c6eef0ce5d8b9e69dd63eb6e81f712a89d383"
 },
 "nbformat": 3,
 "nbformat_minor": 0,
 "worksheets": [
  {
   "cells": [
    {
     "cell_type": "heading",
     "level": 1,
     "metadata": {},
     "source": [
      "Regerating Data from Gostick et Al, \"Pore network modeling of fibrous gas diffusion layers for polymer electrolyte membrane fule cells\"[1]"
     ]
    },
    {
     "cell_type": "markdown",
     "metadata": {},
     "source": [
      "In this tutorial, we will regenerate data from Gostick's 2007 paper.  This will both show that OpenPNM can recreate results accurately, and will also show some more specific uses of OpenPNM.  While this paper deals with both SGL and Toray GDLs, we will deal only with SGL. \n",
      "\n",
      "There will be a general layout to complete this simulation:\n",
      "1) Set up network\n",
      "2) Set up geometry and geometrical methods\n",
      "3) constrict throat's by a constriction factor\n",
      "4) Set up fluids and methods\n",
      "5) Set up fluid physics and methods\n",
      "6) Run invasion percolation\n",
      "7) Run Stokes and Fickian algorithms \n",
      "8) generate effective permeability and effective diffusivity values at different saturations\n",
      "9) plot generated data\n",
      "\n",
      "To begin, we must download OpenPNM found at https://github.com/PMEAL/OpenPNM.  Then we can begin our simulation by adding OpenPNM to our pythonpath, and importing OpenPNM.  \n",
      "\n",
      "The command line argument for adding OpenPNM to our python path (for MacOSX, note that a folder along the path used must contain an init folder in order for this to work):\n",
      "export PYTHONPATH=$PYTHONPATH:/path/to/OpenPNM\n",
      "\n",
      "We should also import matplotlib.pyplot so that we can plot our graphs at the end."
     ]
    },
    {
     "cell_type": "code",
     "collapsed": false,
     "input": [
      "import OpenPNM\n",
      "import matplotlib.pyplot as plt"
     ],
     "language": "python",
     "metadata": {},
     "outputs": [],
     "prompt_number": 2
    },
    {
     "cell_type": "heading",
     "level": 2,
     "metadata": {},
     "source": [
      "Setting up Network and Geometry"
     ]
    },
    {
     "cell_type": "markdown",
     "metadata": {},
     "source": [
      "To begin our simulation, we must first generate our SGL network and geometry.  This includes \n",
      "\n",
      "1) creating a cubic network object and an SGL10 geometry object\n",
      "2) sending our geometry object our internal pores\n",
      "3) calculating values for throat and pore properties for both internal and boundary pores\n",
      "4) accounting for pores and throats that are too big (making maximum pore size the lattice parameter)"
     ]
    },
    {
     "cell_type": "code",
     "collapsed": false,
     "input": [
      "Lc = 40.5e-6\n",
      "\n",
      "\n",
      "#1 setting up network\n",
      "sgl = OpenPNM.Network.Cubic(name = 'SGL10BA', loglevel = 40)\n",
      "sgl.generate(divisions = [26, 26, 10], add_boundaries = True, lattice_spacing = [Lc])\n",
      "\n",
      "#2 set up geometries\n",
      "geo = OpenPNM.Geometry.SGL10(name = 'geo', network = sgl)\n",
      "geo.set_locations(pores=sgl.pores('internal'),throats='all')\n",
      "\n",
      "boun = sgl.add_geometry(subclass='Boundary',name='boun')\n",
      "boun.set_locations(pores=sgl.pores('boundary'))\n",
      "\n",
      "#3 calculating pore and throat diameters, volumes, etc\n",
      "sgl.regenerate_geometries()\n",
      "\n",
      "#4 account for pores that are too big\n",
      "value = [min(sgl.get_pore_data(prop = 'diameter', locations = x), Lc) for x in geo.pores()]\n",
      "sgl.set_data(prop='diameter',pores=geo.pores(),data=value)\n",
      "#account for throats that are too big\n",
      "value = [min(sgl.get_throat_data(prop = 'diameter', locations = x), Lc) for x in geo.throats()]\n",
      "sgl.set_data(prop='diameter',throats=geo.throats(),data=value)"
     ],
     "language": "python",
     "metadata": {},
     "outputs": [
      {
       "output_type": "stream",
       "stream": "stderr",
       "text": [
        "ERROR:Cubic:Cannot overwrite throat.vector with an array of the wrong length\n"
       ]
      }
     ],
     "prompt_number": 3
    },
    {
     "cell_type": "markdown",
     "metadata": {},
     "source": [
      "Before we move on to setting up our fluid and physics objects, we must constrict throats in the z and y direction by a factor (Gostick et al included this tightening of throats in only these two directions to create realistic anisotropy in the model).  For his SGL simulation, Gostick uses a constriction factor of .95.  Finally, because we have changed values for pore and throat diameters (first by accounting for pores and throats that are too big, and the finally constricting throats in the y and z directions), we must recalculate all pore and throat values relying on these diameters."
     ]
    },
    {
     "cell_type": "code",
     "collapsed": false,
     "input": [
      "#constricting sgl by .95 in both the z and y direction  \n",
      "throats = geo.throats()\n",
      "connected_pores = sgl.find_connected_pores(throats)\n",
      "x1 = [sgl['pore.coords'][pair[0]][0] for pair in connected_pores]\n",
      "x2 = [sgl['pore.coords'][pair[1]][0] for pair in connected_pores]\n",
      "same_x = [x - y == 0 for x, y in zip(x1,x2)]\n",
      "factor = [s*.95 + (not s)*1 for s in same_x]\n",
      "throat_diameters = sgl['throat.diameter'][throats]*factor\n",
      "sgl.set_data(throats = throats, prop = 'diameter', data = throat_diameters)\n",
      "\n",
      "#reset aspects relying on pore and throat sizes\n",
      "geo.throat_length()\n",
      "geo.pore_volume()\n",
      "geo.throat_volume()\n",
      "geo.throat_surface_area()"
     ],
     "language": "python",
     "metadata": {},
     "outputs": [],
     "prompt_number": 4
    },
    {
     "cell_type": "markdown",
     "metadata": {},
     "source": [
      "OpenPNM makes it very easy to visualize the network we have generated through the \"Visualization\" methods.  We can create vtk files to be viewed using ParaView (downloadable at http://www.paraview.org/download/.  It is suggested that version 3.98 is downloaded instead of 4.1).  If we visualize our pore network model it would appear like this (the pores have been visualized using boxes- darker boxes are larger.  Because the network is so big, visualization of the throats has been left out for clarity):"
     ]
    },
    {
     "cell_type": "code",
     "collapsed": false,
     "input": [
      "vis = OpenPNM.Visualization.VTK()\n",
      "vis.write(filename = 'test.vtp', network=sgl,fluids=[]) #we have not defined any fluids yet\n",
      "\n",
      "from IPython.display import display\n",
      "from IPython.display import Image\n",
      "\n",
      "i = Image(url = 'http://i.imgur.com/fPZ8lZK.png')\n",
      "display(i)"
     ],
     "language": "python",
     "metadata": {},
     "outputs": [
      {
       "html": [
        "<img src=\"http://i.imgur.com/fPZ8lZK.png\"/>"
       ],
       "metadata": {},
       "output_type": "display_data",
       "text": [
        "<IPython.core.display.Image at 0x108891f98>"
       ]
      }
     ],
     "prompt_number": 8
    },
    {
     "cell_type": "heading",
     "level": 2,
     "metadata": {},
     "source": [
      "Setting up fluids and physics"
     ]
    },
    {
     "cell_type": "markdown",
     "metadata": {},
     "source": [
      "Now we are ready to set up our fluids (water and air) and the physics corresponding to each of these fluids.  OpenPNM has built in air and water fluids, so we can use those.  We must remember to use regenerate_fluids() so that important values for each fluid will be set.  However, Gostick specifies using a water pore contact angle of 100, so we will reset this value after regenerating our fluids."
     ]
    },
    {
     "cell_type": "code",
     "collapsed": false,
     "input": [
      "#set up fluids \n",
      "air = OpenPNM.Fluids.Air(network = sgl, name = 'air')\n",
      "water = OpenPNM.Fluids.Water(network = sgl, name = 'water')\n",
      "\n",
      "#calculating all fluid values\n",
      "sgl.regenerate_fluids()\n",
      "\n",
      "#reset pore contact angle\n",
      "water['pore.contact_angle'] = 100"
     ],
     "language": "python",
     "metadata": {},
     "outputs": [],
     "prompt_number": 9
    },
    {
     "cell_type": "markdown",
     "metadata": {},
     "source": [
      "We are now ready to establish physical properties for our fluid objects.  To do this, we will:\n",
      "1) create physics objects associated with our fluids (by using BasePhyics we don't have to add methods for calculating each property because they are already included)\n",
      "2) use our regenerate_physics() method to calculate these properties"
     ]
    },
    {
     "cell_type": "code",
     "collapsed": false,
     "input": [
      "#1 create physics objects associated with our fluids\n",
      "phys_water = OpenPNM.Physics.BasePhysics(network=sgl,fluid=water, geometry = geo, name='standard_water_physics')\n",
      "phys_air = OpenPNM.Physics.BasePhysics(network=sgl,fluid=air, geometry = geo, name='standard_air_physics')\n",
      "\n",
      "#2 calculating physics properties (capillary pressure, hydraulic conductance, etc)\n",
      "sgl.regenerate_physics()"
     ],
     "language": "python",
     "metadata": {},
     "outputs": [
      {
       "output_type": "stream",
       "stream": "stderr",
       "text": [
        "/Users/Jackie/OpenPNM/OpenPNM/Physics/hydraulic_conductance.py:66: RuntimeWarning: divide by zero encountered in true_divide\n",
        "  gt = 2.28*(tdia/2)**4/(2*tlen*mut)\n",
        "/Users/Jackie/OpenPNM/OpenPNM/Physics/diffusive_conductance.py:79: RuntimeWarning: divide by zero encountered in true_divide\n",
        "  gt = ct*DABt*tdia**2/tlen\n"
       ]
      }
     ],
     "prompt_number": 10
    },
    {
     "cell_type": "heading",
     "level": 2,
     "metadata": {},
     "source": [
      "Running ordinary percolation, Fickian diffusion, and Stokes flow"
     ]
    },
    {
     "cell_type": "markdown",
     "metadata": {},
     "source": [
      "Gostick uses ordinary percolation to spread water through his GDL before calculating relative permeability and relative diffusivity.  This way, a graph showing the relationship between saturation and relative permeability and between saturation and relative diffusivity can be created.  \n",
      "\n",
      "To run our ordinary percolation, we will:\n",
      "1) pick inlet and outlet pores\n",
      "2) create an Ordinary Percolation algorithm object\n",
      "3) setup our algorithm object\n",
      "4) run our algorithm object\n",
      "5) call update() so that occupancy of pores and throats for each fluid will be set"
     ]
    },
    {
     "cell_type": "code",
     "collapsed": false,
     "input": [
      "inlets = sgl.get_pore_indices(labels = ['bottom','boundary'],mode='intersection')\n",
      "\n",
      "#using every other pore in the bottom and boundary as an inlet\n",
      "#prevents extremely small diffusivity and permeability values in the z direction\n",
      "used_inlets = [inlets[x] for x in range(0, len(inlets), 2)]\n",
      "    \n",
      "OP_1 = OpenPNM.Algorithms.OrdinaryPercolation(network=sgl,loglevel=30)\n",
      "OP_1.setup(invading_fluid = water, defending_fluid = air, inlets = used_inlets,npts=100)\n",
      "OP_1.run() \n",
      "\n",
      "vis = OpenPNM.Visualization.VTK()\n",
      "vis.write(filename = 'test.vtp', network=sgl,fluids=[air, water]) #re-writing our visualization file to include fluids and invasion process\n",
      "\n",
      "OP_1.update()"
     ],
     "language": "python",
     "metadata": {},
     "outputs": [],
     "prompt_number": 12
    },
    {
     "cell_type": "markdown",
     "metadata": {},
     "source": [
      "If we watch a video of the ordinary percolation taking place (which we can do inside paraview), our video should look something like this:"
     ]
    },
    {
     "cell_type": "code",
     "collapsed": false,
     "input": [
      "from IPython.display import YouTubeVideo\n",
      "display(YouTubeVideo('Fy3bUNTMTUU'))"
     ],
     "language": "python",
     "metadata": {},
     "outputs": [
      {
       "html": [
        "\n",
        "        <iframe\n",
        "            width=\"400\"\n",
        "            height=300\"\n",
        "            src=\"https://www.youtube.com/embed/Fy3bUNTMTUU\"\n",
        "            frameborder=\"0\"\n",
        "            allowfullscreen\n",
        "        ></iframe>\n",
        "        "
       ],
       "metadata": {},
       "output_type": "display_data",
       "text": [
        "<IPython.lib.display.YouTubeVideo at 0x108891940>"
       ]
      }
     ],
     "prompt_number": 13
    },
    {
     "cell_type": "markdown",
     "metadata": {},
     "source": [
      "update() takes either a sequence value or a pressure value.  If we give no parameters, it uses a capillary pressure value of 0.  This means that the percolation process is updated to the point in time at which the capillary pressure is 0, or when all pores have not been invaded by the invading fluid.  We can check that water pore occupancy is 0 for all pores."
     ]
    },
    {
     "cell_type": "code",
     "collapsed": false,
     "input": [
      "water['pore.occupancy'][water.pores()]"
     ],
     "language": "python",
     "metadata": {},
     "outputs": [
      {
       "metadata": {},
       "output_type": "pyout",
       "prompt_number": 9,
       "text": [
        "array([ 0.,  0.,  0., ...,  0.,  0.,  0.])"
       ]
      }
     ],
     "prompt_number": 9
    },
    {
     "cell_type": "markdown",
     "metadata": {},
     "source": [
      "The next step will be to calculate effective diffusivity and permeability at different saturations.  Note that we want to run Fickian diffusion and Stokes flow algorithms at different points within our ordinary percolation process.  OpenPNM has a very helpful update() method for updating the occupancy of pores to their values during a specified part of percolation.  During percolation, each pore is given a sequence value showing when in time it was invaded.  We can send update() a sequence parameter, determining when during the percolation we want to update our pore occupancy to.  \n",
      "\n",
      "The rest of our code will exist within a loop updating our network to different stages of percolation, so that we may view our relative diffusivity and permeability at different points of saturation.\n",
      "\n",
      "Before we add in the loop aspect, we will walk through the code that will be inside the loop.  \n",
      "\n",
      "First, we will want to add a physics property that recalculates diffusive and hydraulic conductance in each throat based on occupancy after ordinary percolation has been run.  There are two modes for this- 'strict' and 'loose'.  'loose' lowers conductivity if the throat is filled with invading fluid, while 'strict' lowers conductivity if the throat or either neighboring pore is filled with the invading fluid.  We will start off with 'loose', and later try 'strict' to compare results."
     ]
    },
    {
     "cell_type": "code",
     "collapsed": false,
     "input": [
      "#adding multiphase conductances\n",
      "phys_air.add_property(prop='multiphase',model='conduit_conductance',\n",
      "                  conductance = 'diffusive_conductance', prop_name='conduit_diffusive_conductance',mode='loose')\n",
      "phys_water.add_property(prop='multiphase',model='conduit_conductance',\n",
      "                  conductance = 'diffusive_conductance', prop_name='conduit_diffusive_conductance',mode='loose')\n",
      "phys_air.add_property(prop='multiphase',model='conduit_conductance',\n",
      "                  conductance = 'hydraulic_conductance', prop_name='conduit_hydraulic_conductance',mode='loose')\n",
      "phys_water.add_property(prop='multiphase',model='conduit_conductance',\n",
      "                  conductance = 'hydraulic_conductance', prop_name='conduit_hydraulic_conductance',mode='loose')\n",
      "sgl.regenerate_physics()"
     ],
     "language": "python",
     "metadata": {},
     "outputs": [],
     "prompt_number": 10
    },
    {
     "cell_type": "markdown",
     "metadata": {},
     "source": [
      "We can finally instatiate, setup, and run our algorithm objects for Stokes flow and Fickian diffusion.  We want to set up 8 different algorithm objects.\n",
      "\n",
      "1) Stokes flow, single phase air\n",
      "2) Stokes flow, multi phase air \n",
      "3) Stokes flow, single phase water\n",
      "4) Stokes flow, multi phase water\n",
      "5) Fickian diffusion, single phase air\n",
      "6) Fickian diffusion, multi phase air \n",
      "7) Fickian diffusion, sing phase water\n",
      "8) Fickian diffusion, multi phase water\n",
      "\n",
      "Note that we want the algorithms that are single phase (where only the specified fluid exists in the network) to help us make our permeability and diffusivity values relative.  Any algorithm that is single phase will use the hydraulic or diffusive conductances before we recalculated based on occupancy.  This calls for our conductance parameter to be 'hydraulic_conductance' or 'diffusive_conductance' instead of 'conduit_hydraulic_conductance' or 'conduit_diffusive_conductance'.  \n",
      "\n",
      "The need for all these different algorithms can be made clearer by the equation relating effective permeability to the absolute permeability and relative permeability: \n",
      "\n",
      "$$K_{eff, p}(s_p) = K*K_{r, p}(s_p)$$  \n",
      "\n",
      "$$\\text{Key:}$$\n",
      "$$K_{eff, p}(s_p) = \\text{effective permeability of phase p as a function of saturation}$$\n",
      "$$K = \\text{absolute permeability (or single phase permeability)}$$\n",
      "$$K_{r, p}(s_p) = \\text{relative permeability of phase p as a function of saturation}$$\n",
      "\n",
      "Therefore, relative permeability can be found by dividing the effective permeability by the absolute permeability.  Thus the need for a single phase algorithm (absolute permeability) for every multi phase algorithm (effective permeability).\n",
      "\n",
      "The same goes for relative diffusivity, which has an very similar equation that looks like this:\n",
      "$$D_{eff, p}(s_p) = D*D_{r, p}(s_p)$$ \n",
      "\n",
      "The same logic applies."
     ]
    },
    {
     "cell_type": "code",
     "collapsed": false,
     "input": [
      "#initiate all algorithms\n",
      "Stokes_alg_single_phase_air = OpenPNM.Algorithms.StokesFlow(loggername = 'Stokes', name = 'Stokes_alg_single_phase_air', network = sgl, loglevel = 30)\n",
      "Stokes_alg_single_phase_water = OpenPNM.Algorithms.StokesFlow(loggername = 'Stokes_2', name = 'Stokes_alg_single_phase_water', network = sgl, loglevel = 30)\n",
      "\n",
      "Fickian_alg_single_phase_air = OpenPNM.Algorithms.FickianDiffusion(loggername = 'Fickian', name = 'Fickian_alg_single_phase_air', network = sgl, loglevel = 30)\n",
      "Fickian_alg_single_phase_water = OpenPNM.Algorithms.FickianDiffusion(loggername = 'Fickian_2', name = 'Fickian_alg_single_phase_water', network = sgl, loglevel = 30)\n",
      "\n",
      "Stokes_alg_multi_phase_air = OpenPNM.Algorithms.StokesFlow(loggername = 'Stokes', name = 'Stokes_alg_multi_phase_air', network = sgl, loglevel = 30)\n",
      "Stokes_alg_multi_phase_water = OpenPNM.Algorithms.StokesFlow(loggername = 'Stokes_2', name = 'Stokes_alg_multi_phase_water', network = sgl, loglevel = 30)\n",
      "\n",
      "Fickian_alg_multi_phase_air = OpenPNM.Algorithms.FickianDiffusion(loggername = 'Fickian', name = 'Fickian_alg_multi_phase_air', network = sgl, loglevel = 30)\n",
      "Fickian_alg_multi_phase_water = OpenPNM.Algorithms.FickianDiffusion(loggername = 'Fickian_2', name = 'Fickian_alg_multi_phase_water', network = sgl, loglevel = 30)\n",
      "\n",
      "#setting up boundary conditions (diffusion will take place only in the Z direction for now)\n",
      "BC1_pores = sgl.pores(labels=['top', 'boundary'],mode='intersection')\n",
      "BC2_pores = sgl.pores(labels=['bottom', 'boundary'],mode='intersection')\n",
      "\n",
      "Stokes_alg_single_phase_air.set_boundary_conditions(bctype='Dirichlet', bcvalue=0.6, pores=BC1_pores)\n",
      "Stokes_alg_single_phase_water.set_boundary_conditions(bctype='Dirichlet', bcvalue=0.6, pores=BC1_pores)\n",
      "Fickian_alg_single_phase_air.set_boundary_conditions(bctype = 'Dirichlet', bcvalue = .6, pores = BC1_pores)\n",
      "Fickian_alg_single_phase_water.set_boundary_conditions(bctype = 'Dirichlet', bcvalue = .6, pores = BC1_pores)\n",
      "\n",
      "Stokes_alg_multi_phase_air.set_boundary_conditions(bctype='Dirichlet', bcvalue=0.6, pores=BC1_pores)\n",
      "Stokes_alg_multi_phase_water.set_boundary_conditions(bctype='Dirichlet', bcvalue=0.6, pores=BC1_pores)\n",
      "Fickian_alg_multi_phase_air.set_boundary_conditions(bctype = 'Dirichlet', bcvalue = .6, pores = BC1_pores)\n",
      "Fickian_alg_multi_phase_water.set_boundary_conditions(bctype = 'Dirichlet', bcvalue = .6, pores = BC1_pores)   \n",
      "\n",
      "#BC2    \n",
      "Stokes_alg_single_phase_air.set_boundary_conditions(bctype='Dirichlet', bcvalue=0.2, pores=BC2_pores)\n",
      "Stokes_alg_single_phase_water.set_boundary_conditions(bctype='Dirichlet', bcvalue=0.2, pores=BC2_pores)\n",
      "Fickian_alg_single_phase_air.set_boundary_conditions(bctype = 'Dirichlet', bcvalue = .2, pores = BC2_pores)\n",
      "Fickian_alg_single_phase_water.set_boundary_conditions(bctype = 'Dirichlet', bcvalue = .2, pores = BC2_pores)\n",
      "\n",
      "Stokes_alg_multi_phase_air.set_boundary_conditions(bctype='Dirichlet', bcvalue=0.2, pores=BC2_pores)\n",
      "Stokes_alg_multi_phase_water.set_boundary_conditions(bctype='Dirichlet', bcvalue=0.2, pores=BC2_pores)\n",
      "Fickian_alg_multi_phase_air.set_boundary_conditions(bctype = 'Dirichlet', bcvalue = .2, pores = BC2_pores)\n",
      "Fickian_alg_multi_phase_water.set_boundary_conditions(bctype = 'Dirichlet', bcvalue = .2, pores = BC2_pores)\n",
      "\n",
      "#conduit conductance\n",
      "Stokes_alg_single_phase_air.setup(conductance = 'hydraulic_conductance',fluid=air)\n",
      "Stokes_alg_single_phase_water.setup(conductance = 'hydraulic_conductance',fluid=water)\n",
      "Fickian_alg_single_phase_air.setup(conductance = 'diffusive_conductance',fluid=air) \n",
      "Fickian_alg_single_phase_water.setup(conductance = 'diffusive_conductance',fluid=water)\n",
      "\n",
      "Stokes_alg_multi_phase_air.setup(conductance = 'conduit_hydraulic_conductance',fluid=air)\n",
      "Stokes_alg_multi_phase_water.setup(conductance = 'conduit_hydraulic_conductance',fluid=water)\n",
      "Fickian_alg_multi_phase_air.setup(conductance = 'conduit_diffusive_conductance',fluid=air) \n",
      "Fickian_alg_multi_phase_water.setup(conductance = 'conduit_diffusive_conductance',fluid=water)\n",
      "\n",
      "#run\n",
      "Stokes_alg_single_phase_air.run(loglevel = 30)\n",
      "Stokes_alg_single_phase_water.run(loglevel = 30)\n",
      "Fickian_alg_single_phase_air.run(loglevel = 30)\n",
      "Fickian_alg_single_phase_water.run(loglevel = 30)\n",
      "\n",
      "Stokes_alg_multi_phase_air.run(loglevel = 30)\n",
      "Stokes_alg_multi_phase_water.run(loglevel = 30)\n",
      "Fickian_alg_multi_phase_air.run(loglevel = 30)\n",
      "Fickian_alg_multi_phase_water.run(loglevel = 30)"
     ],
     "language": "python",
     "metadata": {},
     "outputs": [],
     "prompt_number": 11
    },
    {
     "cell_type": "markdown",
     "metadata": {},
     "source": [
      "Now that we have run all our Stokes and Fickian algorithms, we are ready to calculate saturation, all our effective properties, and finally our relative effective properties.  Because we called update() without setting any parameters, our GDL is filled with air.  Therefore, as a sanity check, any relative effective properties for air should be 1, while those for water should be 0."
     ]
    },
    {
     "cell_type": "code",
     "collapsed": false,
     "input": [
      "#saturation calculation\n",
      "final_pores = water.get_pore_data('occupancy')*1\n",
      "pore_volumes = sgl.get_pore_data(prop = 'volume')\n",
      "final_throats = water.get_throat_data('occupancy')*1\n",
      "throat_volumes = sgl.get_throat_data(prop = 'volume')\n",
      "\n",
      "saturation = (sum(final_pores*pore_volumes) + sum(final_throats*throat_volumes))/(sum(pore_volumes) + sum(throat_volumes))\n",
      "\n",
      "#calc effective properties\n",
      "effective_permeability_air_single = Stokes_alg_single_phase_air.calc_eff_permeability(clean = False)  \n",
      "effective_diffusivity_air_single = Fickian_alg_single_phase_air.calc_eff_diffusivity(clean = False)\n",
      "effective_permeability_water_single = Stokes_alg_single_phase_water.calc_eff_permeability(clean = False)  \n",
      "effective_diffusivity_water_single = Fickian_alg_single_phase_water.calc_eff_diffusivity(clean = False)\n",
      "\n",
      "effective_permeability_air_multi = Stokes_alg_multi_phase_air.calc_eff_permeability(clean = False)  \n",
      "effective_diffusivity_air_multi = Fickian_alg_multi_phase_air.calc_eff_diffusivity(clean = False)\n",
      "effective_permeability_water_multi = Stokes_alg_multi_phase_water.calc_eff_permeability(clean = False)  \n",
      "effective_diffusivity_water_multi = Fickian_alg_multi_phase_water.calc_eff_diffusivity(clean = False)\n",
      "\n",
      "#calc relative effective properties\n",
      "relative_eff_perm_air = effective_permeability_air_multi/effective_permeability_air_single\n",
      "relative_eff_perm_water = effective_permeability_water_multi/effective_permeability_water_single\n",
      "relative_eff_diff_air = effective_diffusivity_air_multi/effective_diffusivity_air_single\n",
      "relative_eff_diff_water = effective_diffusivity_water_multi/effective_diffusivity_water_single\n",
      "\n",
      "#printing values as a sanity check\n",
      "print(relative_eff_perm_air)\n",
      "print(relative_eff_perm_water)\n",
      "print(relative_eff_diff_air)\n",
      "print(relative_eff_diff_water)"
     ],
     "language": "python",
     "metadata": {},
     "outputs": [
      {
       "output_type": "stream",
       "stream": "stdout",
       "text": [
        "[ 1.]\n",
        "[ 0.001]\n",
        "[ 1.]\n",
        "[ 0.001]\n"
       ]
      }
     ],
     "prompt_number": 13
    },
    {
     "cell_type": "markdown",
     "metadata": {},
     "source": [
      "Now we will use the for loop above mentioned to find relative effective properties at different levels of saturation.  This way, we can update the network to different states of occupancy, save our saturation and relative effective property values into arrays, so that we can finally spit out a graph showing the trend.  To simplify and make our code run faster, we will show only 10 points along each curve, and only calculate effective properties in the Z direction.\n",
      "\n",
      "Note that if we use the network size that Gostick has chosen (26x26x10) this may take a couple minutes."
     ]
    },
    {
     "cell_type": "code",
     "collapsed": false,
     "input": [
      "#initiating arrays for saving data gathered within loop\n",
      "sat = []\n",
      "perm_air = []\n",
      "diff_air = []\n",
      "perm_water = []\n",
      "diff_water = []\n",
      "\n",
      "max_inv_seq = max(OP_1.get_throat_data(prop = 'inv_seq'))\n",
      "\n",
      "for x in range(11):\n",
      "    OP_1.update(seq = max_inv_seq*(x/10))\n",
      "    \n",
      "    print('seq = '+str(round(max_inv_seq*(x/10)))+' Seq out of '+str(round(max_inv_seq))+' total sequences')\n",
      "\n",
      "    #adding multiphase conductances\n",
      "    phys_air.add_property(prop='multiphase',model='conduit_conductance',\n",
      "                      conductance = 'diffusive_conductance', prop_name='conduit_diffusive_conductance',mode='loose')\n",
      "    phys_water.add_property(prop='multiphase',model='conduit_conductance',\n",
      "                      conductance = 'diffusive_conductance', prop_name='conduit_diffusive_conductance',mode='loose')\n",
      "    phys_air.add_property(prop='multiphase',model='conduit_conductance',\n",
      "                      conductance = 'hydraulic_conductance', prop_name='conduit_hydraulic_conductance',mode='loose')\n",
      "    phys_water.add_property(prop='multiphase',model='conduit_conductance',\n",
      "                      conductance = 'hydraulic_conductance', prop_name='conduit_hydraulic_conductance',mode='loose')\n",
      "    sgl.regenerate_physics()\n",
      "\n",
      "\n",
      "    #run Stokes Flow and find Permeability\n",
      "    #single phase\n",
      "    Stokes_alg_single_phase_air = OpenPNM.Algorithms.StokesFlow(loggername = 'Stokes', name = 'Stokes_alg_single_phase_air', network = sgl, loglevel = 40)\n",
      "    Stokes_alg_single_phase_water = OpenPNM.Algorithms.StokesFlow(loggername = 'Stokes_2', name = 'Stokes_alg_single_phase_water', network = sgl, loglevel = 40)\n",
      "\n",
      "    Fickian_alg_single_phase_air = OpenPNM.Algorithms.FickianDiffusion(loggername = 'Fickian', name = 'Fickian_alg_single_phase_air', network = sgl, loglevel = 40)\n",
      "    Fickian_alg_single_phase_water = OpenPNM.Algorithms.FickianDiffusion(loggername = 'Fickian_2', name = 'Fickian_alg_single_phase_water', network = sgl, loglevel = 40)\n",
      "\n",
      "    Stokes_alg_multi_phase_air = OpenPNM.Algorithms.StokesFlow(loggername = 'Stokes', name = 'Stokes_alg_multi_phase_air', network = sgl, loglevel = 40)\n",
      "    Stokes_alg_multi_phase_water = OpenPNM.Algorithms.StokesFlow(loggername = 'Stokes_2', name = 'Stokes_alg_multi_phase_water', network = sgl, loglevel = 40)\n",
      "\n",
      "    Fickian_alg_multi_phase_air = OpenPNM.Algorithms.FickianDiffusion(loggername = 'Fickian', name = 'Fickian_alg_multi_phase_air', network = sgl, loglevel = 40)\n",
      "    Fickian_alg_multi_phase_water = OpenPNM.Algorithms.FickianDiffusion(loggername = 'Fickian_2', name = 'Fickian_alg_multi_phase_water', network = sgl, loglevel = 40)\n",
      "\n",
      "    #setting up boundary conditions and calculating effective_permeability\n",
      "    #BC1\n",
      "    \n",
      "    BC1_pores = sgl.pores(labels=['top', 'boundary'],mode='intersection')\n",
      "    BC2_pores = sgl.pores(labels=['bottom', 'boundary'],mode='intersection')\n",
      "\n",
      "\n",
      "    Stokes_alg_single_phase_air.set_boundary_conditions(bctype='Dirichlet', bcvalue=0.6, pores=BC1_pores)\n",
      "    Stokes_alg_single_phase_water.set_boundary_conditions(bctype='Dirichlet', bcvalue=0.6, pores=BC1_pores)\n",
      "    Fickian_alg_single_phase_air.set_boundary_conditions(bctype = 'Dirichlet', bcvalue = .6, pores = BC1_pores)\n",
      "    Fickian_alg_single_phase_water.set_boundary_conditions(bctype = 'Dirichlet', bcvalue = .6, pores = BC1_pores)\n",
      "\n",
      "    Stokes_alg_multi_phase_air.set_boundary_conditions(bctype='Dirichlet', bcvalue=0.6, pores=BC1_pores)\n",
      "    Stokes_alg_multi_phase_water.set_boundary_conditions(bctype='Dirichlet', bcvalue=0.6, pores=BC1_pores)\n",
      "    Fickian_alg_multi_phase_air.set_boundary_conditions(bctype = 'Dirichlet', bcvalue = .6, pores = BC1_pores)\n",
      "    Fickian_alg_multi_phase_water.set_boundary_conditions(bctype = 'Dirichlet', bcvalue = .6, pores = BC1_pores)   \n",
      "\n",
      "    #BC2    \n",
      "    Stokes_alg_single_phase_air.set_boundary_conditions(bctype='Dirichlet', bcvalue=0.2, pores=BC2_pores)\n",
      "    Stokes_alg_single_phase_water.set_boundary_conditions(bctype='Dirichlet', bcvalue=0.2, pores=BC2_pores)\n",
      "    Fickian_alg_single_phase_air.set_boundary_conditions(bctype = 'Dirichlet', bcvalue = .2, pores = BC2_pores)\n",
      "    Fickian_alg_single_phase_water.set_boundary_conditions(bctype = 'Dirichlet', bcvalue = .2, pores = BC2_pores)\n",
      "\n",
      "    Stokes_alg_multi_phase_air.set_boundary_conditions(bctype='Dirichlet', bcvalue=0.2, pores=BC2_pores)\n",
      "    Stokes_alg_multi_phase_water.set_boundary_conditions(bctype='Dirichlet', bcvalue=0.2, pores=BC2_pores)\n",
      "    Fickian_alg_multi_phase_air.set_boundary_conditions(bctype = 'Dirichlet', bcvalue = .2, pores = BC2_pores)\n",
      "    Fickian_alg_multi_phase_water.set_boundary_conditions(bctype = 'Dirichlet', bcvalue = .2, pores = BC2_pores)\n",
      "\n",
      "    #conduit conductance\n",
      "    Stokes_alg_single_phase_air.setup(conductance = 'hydraulic_conductance',fluid=air)\n",
      "    Stokes_alg_single_phase_water.setup(conductance = 'hydraulic_conductance',fluid=water)\n",
      "    Fickian_alg_single_phase_air.setup(conductance = 'diffusive_conductance',fluid=air) \n",
      "    Fickian_alg_single_phase_water.setup(conductance = 'diffusive_conductance',fluid=water)\n",
      "\n",
      "    Stokes_alg_multi_phase_air.setup(conductance = 'conduit_hydraulic_conductance',fluid=air)\n",
      "    Stokes_alg_multi_phase_water.setup(conductance = 'conduit_hydraulic_conductance',fluid=water)\n",
      "    Fickian_alg_multi_phase_air.setup(conductance = 'conduit_diffusive_conductance',fluid=air) \n",
      "    Fickian_alg_multi_phase_water.setup(conductance = 'conduit_diffusive_conductance',fluid=water)\n",
      "\n",
      "    #run\n",
      "    Stokes_alg_single_phase_air.run()\n",
      "    Stokes_alg_single_phase_water.run()\n",
      "    Fickian_alg_single_phase_air.run()\n",
      "    Fickian_alg_single_phase_water.run()\n",
      "\n",
      "    Stokes_alg_multi_phase_air.run()\n",
      "    Stokes_alg_multi_phase_water.run()\n",
      "    Fickian_alg_multi_phase_air.run()\n",
      "    Fickian_alg_multi_phase_water.run()\n",
      "\n",
      "    #calc effective properties\n",
      "    effective_permeability_air_single = Stokes_alg_single_phase_air.calc_eff_permeability(clean = False)  \n",
      "    effective_diffusivity_air_single = Fickian_alg_single_phase_air.calc_eff_diffusivity(clean = False)\n",
      "    effective_permeability_water_single = Stokes_alg_single_phase_water.calc_eff_permeability(clean = False)  \n",
      "    effective_diffusivity_water_single = Fickian_alg_single_phase_water.calc_eff_diffusivity(clean = False)\n",
      "\n",
      "    effective_permeability_air_multi = Stokes_alg_multi_phase_air.calc_eff_permeability(clean = False)  \n",
      "    effective_diffusivity_air_multi = Fickian_alg_multi_phase_air.calc_eff_diffusivity(clean = False)\n",
      "    effective_permeability_water_multi = Stokes_alg_multi_phase_water.calc_eff_permeability(clean = False)  \n",
      "    effective_diffusivity_water_multi = Fickian_alg_multi_phase_water.calc_eff_diffusivity(clean = False)\n",
      "\n",
      "    final_pores = water.get_pore_data('occupancy')*1\n",
      "    pore_volumes = sgl.get_pore_data(prop = 'volume')\n",
      "    final_throats = water.get_throat_data('occupancy')*1\n",
      "    throat_volumes = sgl.get_throat_data(prop = 'volume')\n",
      "\n",
      "    saturation = (sum(final_pores*pore_volumes) + sum(final_throats*throat_volumes))/(sum(pore_volumes) + sum(throat_volumes))\n",
      "\n",
      "    relative_eff_perm_air = effective_permeability_air_multi/effective_permeability_air_single\n",
      "    relative_eff_perm_water = effective_permeability_water_multi/effective_permeability_water_single\n",
      "    relative_eff_diff_air = effective_diffusivity_air_multi/effective_diffusivity_air_single\n",
      "    relative_eff_diff_water = effective_diffusivity_water_multi/effective_diffusivity_water_single\n",
      "\n",
      "    sat.append(saturation)\n",
      "    perm_air.append(relative_eff_perm_air)\n",
      "    diff_air.append(relative_eff_diff_air) \n",
      "    perm_water.append(relative_eff_perm_water)\n",
      "    diff_water.append(relative_eff_diff_water)\n"
     ],
     "language": "python",
     "metadata": {},
     "outputs": [
      {
       "output_type": "stream",
       "stream": "stdout",
       "text": [
        "seq = 0.0 Seq out of 78 total sequences\n",
        "seq = 8.0 Seq out of 78 total sequences"
       ]
      },
      {
       "output_type": "stream",
       "stream": "stdout",
       "text": [
        "\n",
        "seq = 16.0 Seq out of 78 total sequences"
       ]
      },
      {
       "output_type": "stream",
       "stream": "stdout",
       "text": [
        "\n",
        "seq = 23.0 Seq out of 78 total sequences"
       ]
      },
      {
       "output_type": "stream",
       "stream": "stdout",
       "text": [
        "\n",
        "seq = 31.0 Seq out of 78 total sequences"
       ]
      },
      {
       "output_type": "stream",
       "stream": "stdout",
       "text": [
        "\n",
        "seq = 39.0 Seq out of 78 total sequences"
       ]
      },
      {
       "output_type": "stream",
       "stream": "stdout",
       "text": [
        "\n",
        "seq = 47.0 Seq out of 78 total sequences"
       ]
      },
      {
       "output_type": "stream",
       "stream": "stdout",
       "text": [
        "\n",
        "seq = 55.0 Seq out of 78 total sequences"
       ]
      },
      {
       "output_type": "stream",
       "stream": "stdout",
       "text": [
        "\n",
        "seq = 62.0 Seq out of 78 total sequences"
       ]
      },
      {
       "output_type": "stream",
       "stream": "stdout",
       "text": [
        "\n",
        "seq = 70.0 Seq out of 78 total sequences"
       ]
      },
      {
       "output_type": "stream",
       "stream": "stdout",
       "text": [
        "\n",
        "seq = 78.0 Seq out of 78 total sequences"
       ]
      },
      {
       "output_type": "stream",
       "stream": "stdout",
       "text": [
        "\n"
       ]
      }
     ],
     "prompt_number": 14
    },
    {
     "cell_type": "heading",
     "level": 2,
     "metadata": {},
     "source": [
      "Displaying final results"
     ]
    },
    {
     "cell_type": "markdown",
     "metadata": {},
     "source": [
      "We have all our data stored in our arrays, and we are ready to generate a graph.  This graph will be slightly less involved than Gosticks, as it will only include relative values in the Z directions, and only at 10 different points during the percolation.  For comparison purposes, we will setup our graphs to be 2 subplots showing each relative property for air and water.  On the figure will be a curve for air, a curve for water, and the curve that shows a general trend (saturation^2 or saturation^3).  A legend will help guide the eye."
     ]
    },
    {
     "cell_type": "code",
     "collapsed": false,
     "input": [
      "from matplotlib.font_manager import FontProperties\n",
      "\n",
      "#setting font size small so that legends will fit property\n",
      "fontP = FontProperties()\n",
      "fontP.set_size('small')\n",
      "\n",
      "#setting up subplots\n",
      "#f, ((ax1, ax2), (ax3, ax4)) = plt.subplots(2, 2, sharex='col', sharey='row')\n",
      "fig = plt.figure(num=1, figsize=(10, 10), dpi=80, facecolor='w', edgecolor='k')\n",
      "ax1 = fig.add_subplot(221)   #top left\n",
      "ax2 = fig.add_subplot(223)   #bottom left\n",
      "\n",
      "x_values1 = [x/20 for x in range(21)]\n",
      "z = '.75'\n",
      "\n",
      "#plots for subplot1 - loose permeability\n",
      "p1, = ax1.plot(sat, perm_water, color = 'k', linestyle = '-', marker = 'o')\n",
      "p2, = ax1.plot(sat, perm_air, color = 'k', linestyle = '-', marker = 'D')\n",
      "p3, = ax1.plot(x_values1, [x**(3) for x in x_values1], 'k--')\n",
      "ax1.plot(x_values1, [(1-x)**(3) for x in x_values1], 'k--')\n",
      "ax1.set_title(\"loose permeability\")\n",
      "ax1.set_ylabel('permeability')\n",
      "ax1.set_ylim([0,1])\n",
      "ax1.set_xlim([0,1])\n",
      "\n",
      "#need to work on legend to match up with the right things\n",
      "lgd1 = ax1.legend([p1, p2, p3],\n",
      "           [\"KrWater\", \"KrAir (loose)\", \"a = 3\"], loc='center left', bbox_to_anchor=(1, 0.5), prop = fontP)\n",
      "\n",
      "#plots for subplot3 - loose diffusivity\n",
      "p4, = ax2.plot(sat, diff_water, color = 'k', linestyle = '-', marker = 'o')\n",
      "p5, = ax2.plot(sat, diff_air, color = 'k', linestyle = '-', marker = 'D')\n",
      "p6, = ax2.plot(x_values1, [x**(2) for x in x_values1], 'k--')\n",
      "ax2.plot(x_values1, [(1-x)**(2) for x in x_values1], 'k--')\n",
      "ax2.set_title(\"loose diffusivity\")\n",
      "ax2.set_ylabel(\"diffusivity\")\n",
      "ax2.set_xlabel(\"saturation\")\n",
      "ax2.set_ylim([0,1])\n",
      "ax2.set_xlim([0,1])\n",
      "\n",
      "lgd2 = ax2.legend([p4, p5, p6],\n",
      "           [\"DrWater\", \"DrAir, (loose)\", \"a = 3\"], loc='center left', bbox_to_anchor=(1, 0.5), prop = fontP)\n",
      "\n",
      "fig.subplots_adjust(left=0.1, right=0.8, top=0.9, bottom=0.1) \n",
      "         \n",
      "fig.show()\n"
     ],
     "language": "python",
     "metadata": {},
     "outputs": [
      {
       "output_type": "stream",
       "stream": "stderr",
       "text": [
        "/Users/Jackie/anaconda/lib/python3.4/site-packages/matplotlib/figure.py:372: UserWarning: matplotlib is currently using a non-GUI backend, so cannot show the figure\n",
        "  \"matplotlib is currently using a non-GUI backend, \"\n"
       ]
      },
      {
       "metadata": {},
       "output_type": "display_data",
       "png": "[encoded data removed]",
       "text": [
        "<matplotlib.figure.Figure at 0x107dac7f0>"
       ]
      }
     ],
     "prompt_number": 15
    },
    {
     "cell_type": "markdown",
     "metadata": {},
     "source": [
      "The figures generated thus far should appear something like this:"
     ]
    },
    {
     "cell_type": "code",
     "collapsed": false,
     "input": [
      "i = Image(url = 'http://i.imgur.com/wXz7xg9.png')\n",
      "display(i)\n",
      "g = Image(url = 'http://i.imgur.com/Gc76cz6.png')\n",
      "display(g)"
     ],
     "language": "python",
     "metadata": {},
     "outputs": [
      {
       "html": [
        "<img src=\"http://i.imgur.com/wXz7xg9.png\"/>"
       ],
       "metadata": {},
       "output_type": "display_data",
       "text": [
        "<IPython.core.display.Image at 0x107dd5eb8>"
       ]
      },
      {
       "html": [
        "<img src=\"http://i.imgur.com/Gc76cz6.png\"/>"
       ],
       "metadata": {},
       "output_type": "display_data",
       "text": [
        "<IPython.core.display.Image at 0x107dd5d30>"
       ]
      }
     ],
     "prompt_number": 16
    },
    {
     "cell_type": "heading",
     "level": 2,
     "metadata": {},
     "source": [
      "'Loose' and 'Strict' modes"
     ]
    },
    {
     "cell_type": "markdown",
     "metadata": {},
     "source": [
      "As mentioned above, OpenPNM has 'Loose' and 'Strict' modes for updating hydraulic and diffusive conductance based on occupancy.  To reiterate, 'Loose' will update the conductance when the throat is filled with water.  'Strict' will update the conductance when either the throat is filled with water, or at least one of the neighboring pores is filled with water.  We will run our for loop again, to gather data using 'Strict'.  A similar graph to before will be generated, for comparison purposes."
     ]
    },
    {
     "cell_type": "code",
     "collapsed": false,
     "input": [
      "#initiating arrays for saving data gathered within loop\n",
      "sat = []\n",
      "perm_air = []\n",
      "diff_air = []\n",
      "perm_water = []\n",
      "diff_water = []\n",
      "\n",
      "max_inv_seq = max(OP_1.get_throat_data(prop = 'inv_seq'))\n",
      "\n",
      "for x in range(11):\n",
      "    OP_1.update(seq = max_inv_seq*(x/10))\n",
      "    \n",
      "    print('seq = '+str(round(max_inv_seq*(x/10)))+' Seq out of '+str(round(max_inv_seq))+' total sequences')\n",
      "\n",
      "    #adding multiphase conductances\n",
      "    phys_air.add_property(prop='multiphase',model='conduit_conductance',\n",
      "                      conductance = 'diffusive_conductance', prop_name='conduit_diffusive_conductance',mode='strict')\n",
      "    phys_water.add_property(prop='multiphase',model='conduit_conductance',\n",
      "                      conductance = 'diffusive_conductance', prop_name='conduit_diffusive_conductance',mode='strict')\n",
      "    phys_air.add_property(prop='multiphase',model='conduit_conductance',\n",
      "                      conductance = 'hydraulic_conductance', prop_name='conduit_hydraulic_conductance',mode='strict')\n",
      "    phys_water.add_property(prop='multiphase',model='conduit_conductance',\n",
      "                      conductance = 'hydraulic_conductance', prop_name='conduit_hydraulic_conductance',mode='strict')\n",
      "    sgl.regenerate_physics()\n",
      "\n",
      "\n",
      "    #run Stokes Flow and find Permeability\n",
      "    #single phase\n",
      "    Stokes_alg_single_phase_air = OpenPNM.Algorithms.StokesFlow(loggername = 'Stokes', name = 'Stokes_alg_single_phase_air', network = sgl, loglevel = 40)\n",
      "    Stokes_alg_single_phase_water = OpenPNM.Algorithms.StokesFlow(loggername = 'Stokes_2', name = 'Stokes_alg_single_phase_water', network = sgl, loglevel = 40)\n",
      "\n",
      "    Fickian_alg_single_phase_air = OpenPNM.Algorithms.FickianDiffusion(loggername = 'Fickian', name = 'Fickian_alg_single_phase_air', network = sgl, loglevel = 40)\n",
      "    Fickian_alg_single_phase_water = OpenPNM.Algorithms.FickianDiffusion(loggername = 'Fickian_2', name = 'Fickian_alg_single_phase_water', network = sgl, loglevel = 40)\n",
      "\n",
      "    Stokes_alg_multi_phase_air = OpenPNM.Algorithms.StokesFlow(loggername = 'Stokes', name = 'Stokes_alg_multi_phase_air', network = sgl, loglevel = 40)\n",
      "    Stokes_alg_multi_phase_water = OpenPNM.Algorithms.StokesFlow(loggername = 'Stokes_2', name = 'Stokes_alg_multi_phase_water', network = sgl, loglevel = 40)\n",
      "\n",
      "    Fickian_alg_multi_phase_air = OpenPNM.Algorithms.FickianDiffusion(loggername = 'Fickian', name = 'Fickian_alg_multi_phase_air', network = sgl, loglevel = 40)\n",
      "    Fickian_alg_multi_phase_water = OpenPNM.Algorithms.FickianDiffusion(loggername = 'Fickian_2', name = 'Fickian_alg_multi_phase_water', network = sgl, loglevel = 40)\n",
      "\n",
      "    #setting up boundary conditions and calculating effective_permeability\n",
      "    #BC1\n",
      "    \n",
      "    BC1_pores = sgl.pores(labels=['top', 'boundary'],mode='intersection')\n",
      "    BC2_pores = sgl.pores(labels=['bottom', 'boundary'],mode='intersection')\n",
      "\n",
      "\n",
      "    Stokes_alg_single_phase_air.set_boundary_conditions(bctype='Dirichlet', bcvalue=0.6, pores=BC1_pores)\n",
      "    Stokes_alg_single_phase_water.set_boundary_conditions(bctype='Dirichlet', bcvalue=0.6, pores=BC1_pores)\n",
      "    Fickian_alg_single_phase_air.set_boundary_conditions(bctype = 'Dirichlet', bcvalue = .6, pores = BC1_pores)\n",
      "    Fickian_alg_single_phase_water.set_boundary_conditions(bctype = 'Dirichlet', bcvalue = .6, pores = BC1_pores)\n",
      "\n",
      "    Stokes_alg_multi_phase_air.set_boundary_conditions(bctype='Dirichlet', bcvalue=0.6, pores=BC1_pores)\n",
      "    Stokes_alg_multi_phase_water.set_boundary_conditions(bctype='Dirichlet', bcvalue=0.6, pores=BC1_pores)\n",
      "    Fickian_alg_multi_phase_air.set_boundary_conditions(bctype = 'Dirichlet', bcvalue = .6, pores = BC1_pores)\n",
      "    Fickian_alg_multi_phase_water.set_boundary_conditions(bctype = 'Dirichlet', bcvalue = .6, pores = BC1_pores)   \n",
      "\n",
      "    #BC2    \n",
      "    Stokes_alg_single_phase_air.set_boundary_conditions(bctype='Dirichlet', bcvalue=0.2, pores=BC2_pores)\n",
      "    Stokes_alg_single_phase_water.set_boundary_conditions(bctype='Dirichlet', bcvalue=0.2, pores=BC2_pores)\n",
      "    Fickian_alg_single_phase_air.set_boundary_conditions(bctype = 'Dirichlet', bcvalue = .2, pores = BC2_pores)\n",
      "    Fickian_alg_single_phase_water.set_boundary_conditions(bctype = 'Dirichlet', bcvalue = .2, pores = BC2_pores)\n",
      "\n",
      "    Stokes_alg_multi_phase_air.set_boundary_conditions(bctype='Dirichlet', bcvalue=0.2, pores=BC2_pores)\n",
      "    Stokes_alg_multi_phase_water.set_boundary_conditions(bctype='Dirichlet', bcvalue=0.2, pores=BC2_pores)\n",
      "    Fickian_alg_multi_phase_air.set_boundary_conditions(bctype = 'Dirichlet', bcvalue = .2, pores = BC2_pores)\n",
      "    Fickian_alg_multi_phase_water.set_boundary_conditions(bctype = 'Dirichlet', bcvalue = .2, pores = BC2_pores)\n",
      "\n",
      "    #conduit conductance\n",
      "    Stokes_alg_single_phase_air.setup(conductance = 'hydraulic_conductance',fluid=air)\n",
      "    Stokes_alg_single_phase_water.setup(conductance = 'hydraulic_conductance',fluid=water)\n",
      "    Fickian_alg_single_phase_air.setup(conductance = 'diffusive_conductance',fluid=air) \n",
      "    Fickian_alg_single_phase_water.setup(conductance = 'diffusive_conductance',fluid=water)\n",
      "\n",
      "    Stokes_alg_multi_phase_air.setup(conductance = 'conduit_hydraulic_conductance',fluid=air)\n",
      "    Stokes_alg_multi_phase_water.setup(conductance = 'conduit_hydraulic_conductance',fluid=water)\n",
      "    Fickian_alg_multi_phase_air.setup(conductance = 'conduit_diffusive_conductance',fluid=air) \n",
      "    Fickian_alg_multi_phase_water.setup(conductance = 'conduit_diffusive_conductance',fluid=water)\n",
      "\n",
      "    #run\n",
      "    Stokes_alg_single_phase_air.run()\n",
      "    Stokes_alg_single_phase_water.run()\n",
      "    Fickian_alg_single_phase_air.run()\n",
      "    Fickian_alg_single_phase_water.run()\n",
      "\n",
      "    Stokes_alg_multi_phase_air.run()\n",
      "    Stokes_alg_multi_phase_water.run()\n",
      "    Fickian_alg_multi_phase_air.run()\n",
      "    Fickian_alg_multi_phase_water.run()\n",
      "\n",
      "    #calc effective properties\n",
      "    effective_permeability_air_single = Stokes_alg_single_phase_air.calc_eff_permeability(clean = False)  \n",
      "    effective_diffusivity_air_single = Fickian_alg_single_phase_air.calc_eff_diffusivity(clean = False)\n",
      "    effective_permeability_water_single = Stokes_alg_single_phase_water.calc_eff_permeability(clean = False)  \n",
      "    effective_diffusivity_water_single = Fickian_alg_single_phase_water.calc_eff_diffusivity(clean = False)\n",
      "\n",
      "    effective_permeability_air_multi = Stokes_alg_multi_phase_air.calc_eff_permeability(clean = False)  \n",
      "    effective_diffusivity_air_multi = Fickian_alg_multi_phase_air.calc_eff_diffusivity(clean = False)\n",
      "    effective_permeability_water_multi = Stokes_alg_multi_phase_water.calc_eff_permeability(clean = False)  \n",
      "    effective_diffusivity_water_multi = Fickian_alg_multi_phase_water.calc_eff_diffusivity(clean = False)\n",
      "\n",
      "    final_pores = water.get_pore_data('occupancy')*1\n",
      "    pore_volumes = sgl.get_pore_data(prop = 'volume')\n",
      "    final_throats = water.get_throat_data('occupancy')*1\n",
      "    throat_volumes = sgl.get_throat_data(prop = 'volume')\n",
      "\n",
      "    saturation = (sum(final_pores*pore_volumes) + sum(final_throats*throat_volumes))/(sum(pore_volumes) + sum(throat_volumes))\n",
      "\n",
      "    relative_eff_perm_air = effective_permeability_air_multi/effective_permeability_air_single\n",
      "    relative_eff_perm_water = effective_permeability_water_multi/effective_permeability_water_single\n",
      "    relative_eff_diff_air = effective_diffusivity_air_multi/effective_diffusivity_air_single\n",
      "    relative_eff_diff_water = effective_diffusivity_water_multi/effective_diffusivity_water_single\n",
      "\n",
      "    sat.append(saturation)\n",
      "    perm_air.append(relative_eff_perm_air)\n",
      "    diff_air.append(relative_eff_diff_air) \n",
      "    perm_water.append(relative_eff_perm_water)\n",
      "    diff_water.append(relative_eff_diff_water)"
     ],
     "language": "python",
     "metadata": {},
     "outputs": [
      {
       "output_type": "stream",
       "stream": "stdout",
       "text": [
        "seq = 0.0 Seq out of 78 total sequences\n",
        "seq = 8.0 Seq out of 78 total sequences"
       ]
      },
      {
       "output_type": "stream",
       "stream": "stdout",
       "text": [
        "\n",
        "seq = 16.0 Seq out of 78 total sequences"
       ]
      },
      {
       "output_type": "stream",
       "stream": "stdout",
       "text": [
        "\n",
        "seq = 23.0 Seq out of 78 total sequences"
       ]
      },
      {
       "output_type": "stream",
       "stream": "stdout",
       "text": [
        "\n",
        "seq = 31.0 Seq out of 78 total sequences"
       ]
      },
      {
       "output_type": "stream",
       "stream": "stdout",
       "text": [
        "\n",
        "seq = 39.0 Seq out of 78 total sequences"
       ]
      },
      {
       "output_type": "stream",
       "stream": "stdout",
       "text": [
        "\n",
        "seq = 47.0 Seq out of 78 total sequences"
       ]
      },
      {
       "output_type": "stream",
       "stream": "stdout",
       "text": [
        "\n",
        "seq = 55.0 Seq out of 78 total sequences"
       ]
      },
      {
       "output_type": "stream",
       "stream": "stdout",
       "text": [
        "\n",
        "seq = 62.0 Seq out of 78 total sequences"
       ]
      },
      {
       "output_type": "stream",
       "stream": "stdout",
       "text": [
        "\n",
        "seq = 70.0 Seq out of 78 total sequences"
       ]
      },
      {
       "output_type": "stream",
       "stream": "stdout",
       "text": [
        "\n",
        "seq = 78.0 Seq out of 78 total sequences"
       ]
      },
      {
       "output_type": "stream",
       "stream": "stdout",
       "text": [
        "\n"
       ]
      }
     ],
     "prompt_number": 17
    },
    {
     "cell_type": "markdown",
     "metadata": {},
     "source": [
      "Finally, we will take this code generated using 'strict' mode and create identical graphs to before.  Note that the effective properties have a lower curve to them.  For example, relative effective permeability and diffusivity for air reach 0 at a lower saturation.  This makes sense, as it is harder for air to find a path if conductance is lowered even if one of the neighboring pores is filled with water."
     ]
    },
    {
     "cell_type": "code",
     "collapsed": false,
     "input": [
      "from matplotlib.font_manager import FontProperties\n",
      "\n",
      "#setting font size small so that legends will fit property\n",
      "fontP = FontProperties()\n",
      "fontP.set_size('small')\n",
      "\n",
      "#setting up subplots\n",
      "#f, ((ax1, ax2), (ax3, ax4)) = plt.subplots(2, 2, sharex='col', sharey='row')\n",
      "fig = plt.figure(num=1, figsize=(10, 10), dpi=80, facecolor='w', edgecolor='k')\n",
      "ax1 = fig.add_subplot(221)   #top left\n",
      "ax2 = fig.add_subplot(223)   #bottom left\n",
      "\n",
      "x_values1 = [x/20 for x in range(21)]\n",
      "z = '.75'\n",
      "\n",
      "#plots for subplot1 - loose permeability\n",
      "p1, = ax1.plot(sat, perm_water, color = 'k', linestyle = '-', marker = 'o')\n",
      "p2, = ax1.plot(sat, perm_air, color = 'k', linestyle = '-', marker = 'D')\n",
      "p3, = ax1.plot(x_values1, [x**(3) for x in x_values1], 'k--')\n",
      "ax1.plot(x_values1, [(1-x)**(3) for x in x_values1], 'k--')\n",
      "ax1.set_title(\"strict permeability\")\n",
      "ax1.set_ylabel('permeability')\n",
      "ax1.set_ylim([0,1])\n",
      "ax1.set_xlim([0,1])\n",
      "\n",
      "lgd1 = ax1.legend([p1, p2, p3],\n",
      "           [\"KrWater\", \"KrAir (strict)\", \"a = 3\"], loc='center left', bbox_to_anchor=(1, 0.5), prop = fontP)\n",
      "\n",
      "p4, = ax2.plot(sat, diff_water, color = 'k', linestyle = '-', marker = 'o')\n",
      "p5, = ax2.plot(sat, diff_air, color = 'k', linestyle = '-', marker = 'D')\n",
      "p6, = ax2.plot(x_values1, [x**(2) for x in x_values1], 'k--')\n",
      "ax2.plot(x_values1, [(1-x)**(2) for x in x_values1], 'k--')\n",
      "ax2.set_title(\"strict diffusivity\")\n",
      "ax2.set_ylabel(\"diffusivity\")\n",
      "ax2.set_xlabel(\"saturation\")\n",
      "ax2.set_ylim([0,1])\n",
      "ax2.set_xlim([0,1])\n",
      "\n",
      "lgd2 = ax2.legend([p4, p5, p6],\n",
      "           [\"DrWater\", \"DrAir, (strict)\", \"a = 3\"], loc='center left', bbox_to_anchor=(1, 0.5), prop = fontP)\n",
      "\n",
      "fig.subplots_adjust(left=0.1, right=0.8, top=0.9, bottom=0.1) \n",
      "         \n",
      "fig.show()\n"
     ],
     "language": "python",
     "metadata": {},
     "outputs": [
      {
       "metadata": {},
       "output_type": "display_data",
       "png": "[encoded data removed]",
       "text": [
        "<matplotlib.figure.Figure at 0x10853f048>"
       ]
      }
     ],
     "prompt_number": 18
    },
    {
     "cell_type": "markdown",
     "metadata": {},
     "source": [
      "The above code should generate graphs looking something like this:"
     ]
    },
    {
     "cell_type": "code",
     "collapsed": false,
     "input": [
      "i = Image(url = 'http://i.imgur.com/itbMroc.png')\n",
      "display(i)\n",
      "g = Image(url = 'http://i.imgur.com/VR8p16K.png')\n",
      "display(g)"
     ],
     "language": "python",
     "metadata": {},
     "outputs": [
      {
       "html": [
        "<img src=\"http://i.imgur.com/itbMroc.png\"/>"
       ],
       "metadata": {},
       "output_type": "display_data",
       "text": [
        "<IPython.core.display.Image at 0x107dd7ac8>"
       ]
      },
      {
       "html": [
        "<img src=\"http://i.imgur.com/VR8p16K.png\"/>"
       ],
       "metadata": {},
       "output_type": "display_data",
       "text": [
        "<IPython.core.display.Image at 0x107dd7b38>"
       ]
      }
     ],
     "prompt_number": 19
    },
    {
     "cell_type": "heading",
     "level": 2,
     "metadata": {},
     "source": [
      "Completely recreating Gostick's graphs"
     ]
    },
    {
     "cell_type": "markdown",
     "metadata": {},
     "source": [
      "The following code more completley recreates Gostick's data after Ordinary Percolation has been run.  It checks many more points during saturation to give more data points on the graph, and calculates effective properties in the x, y, and z directions.  There are 4 subplot graphs, and the data points gathered by Gostick et al are shown on the graph for easy comparison.  It takes around 15 minutes to finish running.\n",
      "\n",
      "A chunk of code in the middle that is commented out can be used to save the data to a file if the reader would like to generate graphs in excel."
     ]
    },
    {
     "cell_type": "code",
     "collapsed": false,
     "input": [
      "sat = []\n",
      "perm_air = {'00': [], '10': [], '20': [], '01': [], '11': [], '21': []}\n",
      "diff_air = {'00': [], '10': [], '20': [], '01': [], '11': [], '21': []}\n",
      "perm_water = {'00': [], '10': [], '20': [], '01': [], '11': [], '21': []}\n",
      "diff_water = {'00': [], '10': [], '20': [], '01': [], '11': [], '21': []}\n",
      "\n",
      "max_inv_seq = max(OP_1.get_throat_data(prop = 'inv_seq'))\n",
      "\n",
      "for x in range(21):\n",
      "    OP_1.update(seq = max_inv_seq*(x/20))\n",
      "    \n",
      "    #printing out so we know how far along we are\n",
      "    print('seq = '+str(round(max_inv_seq*(x/20)))+' Seq out of '+str(round(max_inv_seq))+' total sequences')\n",
      "    \n",
      "    final_pores = water.get_pore_data('occupancy')*1\n",
      "    pore_volumes = sgl.get_pore_data(prop = 'volume')\n",
      "    final_throats = water.get_throat_data('occupancy')*1\n",
      "    throat_volumes = sgl.get_throat_data(prop = 'volume')\n",
      "    \n",
      "    saturation = (sum(final_pores*pore_volumes) + sum(final_throats*throat_volumes))/(sum(pore_volumes) + sum(throat_volumes))\n",
      "            \n",
      "    sat.append(saturation)\n",
      "    \n",
      "    modes = ['loose', 'strict']\n",
      "    \n",
      "    for mode_increment in range(len(modes)):\n",
      "        #adding multiphase conductances\n",
      "        phys_air.add_property(prop='multiphase',model='conduit_conductance',\n",
      "                          conductance = 'diffusive_conductance', prop_name='conduit_diffusive_conductance',mode=modes[mode_increment])\n",
      "        phys_water.add_property(prop='multiphase',model='conduit_conductance',\n",
      "                          conductance = 'diffusive_conductance', prop_name='conduit_diffusive_conductance',mode=modes[mode_increment])\n",
      "        phys_air.add_property(prop='multiphase',model='conduit_conductance',\n",
      "                          conductance = 'hydraulic_conductance', prop_name='conduit_hydraulic_conductance',mode=modes[mode_increment])\n",
      "        phys_water.add_property(prop='multiphase',model='conduit_conductance',\n",
      "                          conductance = 'hydraulic_conductance', prop_name='conduit_hydraulic_conductance',mode=modes[mode_increment])\n",
      "        sgl.regenerate_physics()\n",
      "        \n",
      "        \n",
      "        #run Stokes Flow and find Permeability\n",
      "        #single phase\n",
      "        Stokes_alg_single_phase_air = OpenPNM.Algorithms.StokesFlow(loggername = 'Stokes', name = 'Stokes_alg_single_phase_air', network = sgl, loglevel = 40)\n",
      "        Stokes_alg_single_phase_water = OpenPNM.Algorithms.StokesFlow(loggername = 'Stokes_2', name = 'Stokes_alg_single_phase_water', network = sgl, loglevel = 40)\n",
      "        \n",
      "        Fickian_alg_single_phase_air = OpenPNM.Algorithms.FickianDiffusion(loggername = 'Fickian', name = 'Fickian_alg_single_phase_air', network = sgl, loglevel = 40)\n",
      "        Fickian_alg_single_phase_water = OpenPNM.Algorithms.FickianDiffusion(loggername = 'Fickian_2', name = 'Fickian_alg_single_phase_water', network = sgl, loglevel = 40)\n",
      "        \n",
      "        Stokes_alg_multi_phase_air = OpenPNM.Algorithms.StokesFlow(loggername = 'Stokes', name = 'Stokes_alg_multi_phase_air', network = sgl, loglevel = 40)\n",
      "        Stokes_alg_multi_phase_water = OpenPNM.Algorithms.StokesFlow(loggername = 'Stokes_2', name = 'Stokes_alg_multi_phase_water', network = sgl, loglevel = 40)\n",
      "        \n",
      "        Fickian_alg_multi_phase_air = OpenPNM.Algorithms.FickianDiffusion(loggername = 'Fickian', name = 'Fickian_alg_multi_phase_air', network = sgl, loglevel = 40)\n",
      "        Fickian_alg_multi_phase_water = OpenPNM.Algorithms.FickianDiffusion(loggername = 'Fickian_2', name = 'Fickian_alg_multi_phase_water', network = sgl, loglevel = 40)\n",
      "        \n",
      "        #setting up boundary conditions and calculating effective_permeability\n",
      "        #BC1\n",
      "        \n",
      "        bounds = [['front', 'back'], ['left', 'right'], ['top', 'bottom']]\n",
      "        for bound_increment in range(len(bounds)):\n",
      "            BC1_pores = sgl.pores(labels=[bounds[bound_increment][0], 'boundary'],mode='intersection')\n",
      "            BC2_pores = sgl.pores(labels=[bounds[bound_increment][1], 'boundary'],mode='intersection')\n",
      "            \n",
      "            \n",
      "            Stokes_alg_single_phase_air.set_boundary_conditions(bctype='Dirichlet', bcvalue=0.6, pores=BC1_pores)\n",
      "            Stokes_alg_single_phase_water.set_boundary_conditions(bctype='Dirichlet', bcvalue=0.6, pores=BC1_pores)\n",
      "            Fickian_alg_single_phase_air.set_boundary_conditions(bctype = 'Dirichlet', bcvalue = .6, pores = BC1_pores)\n",
      "            Fickian_alg_single_phase_water.set_boundary_conditions(bctype = 'Dirichlet', bcvalue = .6, pores = BC1_pores)\n",
      "            \n",
      "            Stokes_alg_multi_phase_air.set_boundary_conditions(bctype='Dirichlet', bcvalue=0.6, pores=BC1_pores)\n",
      "            Stokes_alg_multi_phase_water.set_boundary_conditions(bctype='Dirichlet', bcvalue=0.6, pores=BC1_pores)\n",
      "            Fickian_alg_multi_phase_air.set_boundary_conditions(bctype = 'Dirichlet', bcvalue = .6, pores = BC1_pores)\n",
      "            Fickian_alg_multi_phase_water.set_boundary_conditions(bctype = 'Dirichlet', bcvalue = .6, pores = BC1_pores)   \n",
      "            \n",
      "            #BC2    \n",
      "            Stokes_alg_single_phase_air.set_boundary_conditions(bctype='Dirichlet', bcvalue=0.2, pores=BC2_pores)\n",
      "            Stokes_alg_single_phase_water.set_boundary_conditions(bctype='Dirichlet', bcvalue=0.2, pores=BC2_pores)\n",
      "            Fickian_alg_single_phase_air.set_boundary_conditions(bctype = 'Dirichlet', bcvalue = .2, pores = BC2_pores)\n",
      "            Fickian_alg_single_phase_water.set_boundary_conditions(bctype = 'Dirichlet', bcvalue = .2, pores = BC2_pores)\n",
      "            \n",
      "            Stokes_alg_multi_phase_air.set_boundary_conditions(bctype='Dirichlet', bcvalue=0.2, pores=BC2_pores)\n",
      "            Stokes_alg_multi_phase_water.set_boundary_conditions(bctype='Dirichlet', bcvalue=0.2, pores=BC2_pores)\n",
      "            Fickian_alg_multi_phase_air.set_boundary_conditions(bctype = 'Dirichlet', bcvalue = .2, pores = BC2_pores)\n",
      "            Fickian_alg_multi_phase_water.set_boundary_conditions(bctype = 'Dirichlet', bcvalue = .2, pores = BC2_pores)\n",
      "            \n",
      "            #conduit conductance\n",
      "            Stokes_alg_single_phase_air.setup(conductance = 'hydraulic_conductance',fluid=air)\n",
      "            Stokes_alg_single_phase_water.setup(conductance = 'hydraulic_conductance',fluid=water)\n",
      "            Fickian_alg_single_phase_air.setup(conductance = 'diffusive_conductance',fluid=air) \n",
      "            Fickian_alg_single_phase_water.setup(conductance = 'diffusive_conductance',fluid=water)\n",
      "            \n",
      "            Stokes_alg_multi_phase_air.setup(conductance = 'conduit_hydraulic_conductance',fluid=air)\n",
      "            Stokes_alg_multi_phase_water.setup(conductance = 'conduit_hydraulic_conductance',fluid=water)\n",
      "            Fickian_alg_multi_phase_air.setup(conductance = 'conduit_diffusive_conductance',fluid=air) \n",
      "            Fickian_alg_multi_phase_water.setup(conductance = 'conduit_diffusive_conductance',fluid=water)\n",
      "            \n",
      "            #run\n",
      "            Stokes_alg_single_phase_air.run()\n",
      "            Stokes_alg_single_phase_water.run()\n",
      "            Fickian_alg_single_phase_air.run()\n",
      "            Fickian_alg_single_phase_water.run()\n",
      "            \n",
      "            Stokes_alg_multi_phase_air.run()\n",
      "            Stokes_alg_multi_phase_water.run()\n",
      "            Fickian_alg_multi_phase_air.run()\n",
      "            Fickian_alg_multi_phase_water.run()\n",
      "            \n",
      "            #calc effective properties\n",
      "            effective_permeability_air_single = Stokes_alg_single_phase_air.calc_eff_permeability(clean = False)  \n",
      "            effective_diffusivity_air_single = Fickian_alg_single_phase_air.calc_eff_diffusivity(clean = False)\n",
      "            effective_permeability_water_single = Stokes_alg_single_phase_water.calc_eff_permeability(clean = False)  \n",
      "            effective_diffusivity_water_single = Fickian_alg_single_phase_water.calc_eff_diffusivity(clean = False)\n",
      "            \n",
      "            effective_permeability_air_multi = Stokes_alg_multi_phase_air.calc_eff_permeability(clean = False)  \n",
      "            effective_diffusivity_air_multi = Fickian_alg_multi_phase_air.calc_eff_diffusivity(clean = False)\n",
      "            effective_permeability_water_multi = Stokes_alg_multi_phase_water.calc_eff_permeability(clean = False)  \n",
      "            effective_diffusivity_water_multi = Fickian_alg_multi_phase_water.calc_eff_diffusivity(clean = False)\n",
      "        \n",
      "            relative_eff_perm_air = effective_permeability_air_multi/effective_permeability_air_single\n",
      "            relative_eff_perm_water = effective_permeability_water_multi/effective_permeability_water_single\n",
      "            relative_eff_diff_air = effective_diffusivity_air_multi/effective_diffusivity_air_single\n",
      "            relative_eff_diff_water = effective_diffusivity_water_multi/effective_diffusivity_water_single\n",
      "            \n",
      "            perm_air[str(bound_increment) + str(mode_increment)].append(relative_eff_perm_air)\n",
      "            diff_air[str(bound_increment) + str(mode_increment)].append(relative_eff_diff_air) \n",
      "            perm_water[str(bound_increment) + str(mode_increment)].append(relative_eff_perm_water)\n",
      "            diff_water[str(bound_increment) + str(mode_increment)].append(relative_eff_diff_water)\n",
      "\n",
      "#code if you would rather generate graphs using excel (prints results to a file to be copied and pasted)\n",
      "#f = open(\"temp_file\", \"w\")\n",
      "#g = open(\"temp_file2\", \"w\")\n",
      "#f.write('saturation \\t KrWater,x \\t KrWater,y \\t KrWater,z \\t')\n",
      "#f.write('KrAir,x(loose) \\t KrAir,y(loose) \\t KrAir,z(loose) \\t')\n",
      "#f.write('KrAir,x(strict) \\t KrAir,y(strict) \\t KrAir,z(strict) \\n')\n",
      "#g.write('saturation \\t DrWater,x \\t DrWater,y \\t DrWater,z \\t')\n",
      "#g.write('DrAir,x(loose) \\t DrAir,y(loose) \\t DrAir,z(loose) \\t')\n",
      "#g.write('DrAir,x(strict) \\t DrAir,y(strict) \\t DrAir,z(strict) \\n')\n",
      "#\n",
      "#for i in range(len(sat)):\n",
      "#    f.write(str(sat[i])+'\\t'+str(perm_water['00'][i]) + '\\t' + str(perm_water['10'][i]) + '\\t' + str(perm_water['20'][i]) + '\\t')\n",
      "#    f.write(str(perm_air['00'][i]) + '\\t' + str(perm_air['10'][i]) + '\\t' + str(perm_air['20'][i]) + '\\t')\n",
      "#    f.write(str(perm_air['01'][i]) + '\\t' + str(perm_air['11'][i]) + '\\t' + str(perm_air['21'][i]) + '\\n')\n",
      "#    \n",
      "#    g.write(str(sat[i])+'\\t'+str(diff_water['00'][i]) + '\\t' + str(diff_water['10'][i]) + '\\t' + str(diff_water['20'][i]) + '\\t')\n",
      "#    g.write(str(diff_air['00'][i]) + '\\t' + str(diff_air['10'][i]) + '\\t' + str(diff_air['20'][i]) + '\\t')\n",
      "#    g.write(str(diff_air['01'][i]) + '\\t' + str(diff_air['11'][i]) + '\\t' + str(diff_air['21'][i]) + '\\n')\n",
      "    \n",
      "#f.close()\n",
      "\n",
      "from matplotlib.font_manager import FontProperties\n",
      "\n",
      "#Data points taken directly from Gostick's graphs using GraphClick\n",
      "gostick_saturation_1 = [0.008, 0.04, 0.093, 0.14, 0.193, 0.246, 0.293, 0.337, 0.395, 0.442, 0.496,\n",
      "                        0.542, 0.59, 0.641, 0.687, 0.748, 0.793, 0.838, 0.894, 0.945, 0.986]\n",
      "gostick_perm_air_case1 = [0.917, 0.821, 0.68, 0.568, 0.466, 0.366, 0.286, 0.204, 0.144, 0.096, 0.051, 0.024,\n",
      "                          0.003, -1.08E-04, -1.96E-04, -3.12E-04, -3.97E-04, -4.84E-04, -5.90E-04, 0.002, 0.002]\n",
      "gostick_saturation_2 = [0.99, 0.899, 0.847, 0.802, 0.75, 0.701, 0.645, 0.594, 0.546, 0.497, 0.449,\n",
      "                        0.398, 0.348, 0.298, 0.245, 0.196, 0.147, 0.094, 0.044, 0.003]\n",
      "gostick_perm_water = [0.935, 0.774, 0.709, 0.664, 0.618, 0.572, 0.514, 0.461, 0.401, 0.347,\n",
      "                        0.284, 0.211, 0.145, 0.084, 0.044, 0.024, 0.012, 0.001, 0.001, 0.001]\n",
      "                        \n",
      "gostick_saturation_3 =[0.006, 0.05, 0.102, 0.151, 0.199, 0.247, 0.297, 0.348, 0.399, 0.447, 0.496,\n",
      "                    0.546, 0.597, 0.645, 0.699, 0.75, 0.798, 0.846, 0.899, 0.949, 0.983]\n",
      "gostick_diff_air_case1 = [0.939, 0.836, 0.725, 0.626, 0.531, 0.442, 0.353, 0.27, 0.203, 0.14, 0.085, 0.048,\n",
      "                          0.008, 5.49E-04, 4.48E-04, 3.50E-04, 2.59E-04, 1.67E-04, 0.003, 0.003, 0.003]\n",
      "gostick_saturation_4 = [0.985, 0.946, 0.898, 0.846, 0.795, 0.749, 0.695, 0.643, 0.596, 0.545, 0.496, 0.448,\n",
      "                        0.396, 0.346, 0.298, 0.251, 0.196, 0.146, 0.094]\n",
      "gostick_diff_water = [0.941, 0.901, 0.853, 0.809, 0.756, 0.7, 0.638, 0.569, 0.503, 0.428, 0.36, 0.291, 0.214, 1.48E-01,\n",
      "                      8.00E-02, 4.50E-02, 2.30E-02, 1.60E-02, 0.005]\n",
      "\n",
      "fontP = FontProperties()\n",
      "fontP.set_size('small')\n",
      "#setting up subplots\n",
      "#f, ((ax1, ax2), (ax3, ax4)) = plt.subplots(2, 2, sharex='col', sharey='row')\n",
      "fig = plt.figure(num=1, figsize=(10, 10), dpi=80, facecolor='w', edgecolor='k')\n",
      "ax1 = fig.add_subplot(221)   #top left\n",
      "ax2 = fig.add_subplot(222)   #top right\n",
      "ax3 = fig.add_subplot(223)   #bottom left\n",
      "ax4 = fig.add_subplot(224)\n",
      "\n",
      "x_values1 = [x/20 for x in range(21)]\n",
      "z = '.75'\n",
      "\n",
      "#plots for subplot1 - loose permeability\n",
      "p1, = ax1.plot(sat, perm_water['00'], color = 'k', linestyle = '-', marker = 'o')\n",
      "p2, = ax1.plot(sat, perm_water['10'], color = z, linestyle = '-', marker = 'o')\n",
      "p3, = ax1.plot(sat, perm_water['20'], color = 'w', linestyle = '-', marker = 'o')\n",
      "p4, = ax1.plot(sat, perm_air['00'], color = 'k', linestyle = '-', marker = 'D')\n",
      "p5, = ax1.plot(sat, perm_air['10'], color = z, linestyle = '-', marker = 'D')\n",
      "p6, = ax1.plot(sat, perm_air['20'], color = 'w', linestyle = '-', marker = 'D')\n",
      "p10, = ax1.plot(x_values1, [x**(3) for x in x_values1], 'k--')\n",
      "ax1.plot(x_values1, [(1-x)**(3) for x in x_values1], 'k--')\n",
      "ax1.set_title(\"loose permeability\")\n",
      "ax1.set_ylabel('permeability')\n",
      "ax1.set_ylim([0,1])\n",
      "ax1.set_xlim([0,1])\n",
      "\n",
      "\n",
      "#plots for subplot2 - strict permeability\n",
      "p1, = ax2.plot(sat, perm_water['00'], color = 'k', linestyle = '-', marker = 'o')\n",
      "p2, = ax2.plot(sat, perm_water['10'], color = z, linestyle = '-', marker = 'o')\n",
      "p3, = ax2.plot(sat, perm_water['20'], color = 'w', linestyle = '-', marker = 'o')\n",
      "p7, = ax2.plot(sat, perm_air['01'], color = 'k', linestyle = '-', marker = '^')\n",
      "p8, = ax2.plot(sat, perm_air['11'], color = z, linestyle = '-', marker = '^')\n",
      "p9, = ax2.plot(sat, perm_air['21'], color = 'w', linestyle = '-', marker = '^')\n",
      "p10, = ax2.plot(x_values1, [x**(3) for x in x_values1], 'k--')\n",
      "ax2.plot(x_values1, [(1-x)**(3) for x in x_values1], 'k--')\n",
      "gs, = ax2.plot(gostick_saturation_1, gostick_perm_air_case1, color = 'r', linestyle = '-', marker = 'D')\n",
      "gs2, = ax2.plot(gostick_saturation_2, gostick_perm_water, color = 'r', linestyle = '-', marker = 'o')\n",
      "ax2.set_title(\"strict permeability\")\n",
      "ax2.set_ylim([0,1])\n",
      "ax2.set_xlim([0,1])\n",
      "\n",
      "#need to work on legend to match up with the right things\n",
      "lgd1 = ax2.legend([p1, p2, p3, p4, p5, p6, p7, p8, p9, p10, gs, gs2],\n",
      "           [\"KrWater,x\", \"KrWater,y\", \"KrWater,z\",\n",
      "           \"KrAir,x (loose)\",\"KrAir,y (loose)\",\"KrAir,z (loose)\",\n",
      "           \"KrAir,x (strict)\",\"KrAir,y (strict)\",\"KrAir,z (strict)\", \"a = 3\", \"Gostick et al \\n KrAir,x (case 1)\", \"Gostick et al \\n KrWater,x\"], loc='center left', bbox_to_anchor=(1, 0.5), prop = fontP)\n",
      "\n",
      "#plots for subplot3 - loose diffusivity\n",
      "p11, = ax3.plot(sat, diff_water['00'], color = 'k', linestyle = '-', marker = 'o')\n",
      "p12, = ax3.plot(sat, diff_water['10'], color = z, linestyle = '-', marker = 'o')\n",
      "p13, = ax3.plot(sat, diff_water['20'], color = 'w', linestyle = '-', marker = 'o')\n",
      "p14, = ax3.plot(sat, diff_air['00'], color = 'k', linestyle = '-', marker = 'D')\n",
      "p15, = ax3.plot(sat, diff_air['10'], color = z, linestyle = '-', marker = 'D')\n",
      "p16, = ax3.plot(sat, diff_air['20'], color = 'w', linestyle = '-', marker = 'D')\n",
      "p20, = ax3.plot(x_values1, [x**(2) for x in x_values1], 'k--')\n",
      "ax3.plot(x_values1, [(1-x)**(2) for x in x_values1], 'k--')\n",
      "ax3.set_title(\"loose diffusivity\")\n",
      "ax3.set_ylabel(\"diffusivity\")\n",
      "ax3.set_xlabel(\"saturation\")\n",
      "ax3.set_ylim([0,1])\n",
      "ax3.set_xlim([0,1])\n",
      "\n",
      "\n",
      "#plots for subplot4 - strict diffusivity\n",
      "p11, = ax4.plot(sat, diff_water['00'], color = 'k', linestyle = '-', marker = 'o')\n",
      "p12, = ax4.plot(sat, diff_water['10'], color = z, linestyle = '-', marker = 'o')\n",
      "p13, = ax4.plot(sat, diff_water['20'], color = 'w', linestyle = '-', marker = 'o')\n",
      "p17, = ax4.plot(sat, diff_air['01'], color = 'k', linestyle = '-', marker = '^')\n",
      "p18, = ax4.plot(sat, diff_air['11'], color = z, linestyle = '-', marker = '^')\n",
      "p19, = ax4.plot(sat, diff_air['21'], color = 'w', linestyle = '-', marker = '^')\n",
      "p20, = ax4.plot(x_values1, [x**(2) for x in x_values1], 'k--')\n",
      "ax4.plot(x_values1, [(1-x)**(2) for x in x_values1], 'k--')\n",
      "gs3, = ax4.plot(gostick_saturation_3, gostick_diff_air_case1, color = 'r', linestyle = '-', marker = 'D')\n",
      "gs4, = ax4.plot(gostick_saturation_4, gostick_diff_water, color = 'r', linestyle = '-', marker = 'o')\n",
      "ax4.set_title(\"strict diffusivity\")\n",
      "ax4.set_xlabel(\"saturation\")\n",
      "ax4.set_ylim([0,1])\n",
      "ax4.set_xlim([0,1])\n",
      "\n",
      "lgd2 = ax4.legend([p11, p12, p13, p14, p15, p16, p17, p18, p19, p20, gs3, gs4],\n",
      "           [\"DrWater,x\", \"DrWater,y\", \"DrWater,z\",\n",
      "           \"DrAir,x (loose)\",\"DrAir,y (loose)\",\"DrAir,z (loose)\",\n",
      "           \"DrAir,x (strict)\",\"DrAir,y (strict)\",\"DrAir,z (strict)\", \"a = 3\", \"Gostick et al \\n DrAir,x (case 1)\", \"Gostick et al \\n DrWater,x\"], loc='center left', bbox_to_anchor=(1, 0.5), prop = fontP)\n",
      "\n",
      "fig.subplots_adjust(left=0.1, right=0.8, top=0.9, bottom=0.1) \n",
      "         \n",
      "fig.show()"
     ],
     "language": "python",
     "metadata": {},
     "outputs": [
      {
       "output_type": "stream",
       "stream": "stdout",
       "text": [
        "seq = 0.0 Seq out of 78 total sequences\n",
        "seq = 4.0 Seq out of 78 total sequences"
       ]
      },
      {
       "output_type": "stream",
       "stream": "stdout",
       "text": [
        "\n",
        "seq = 8.0 Seq out of 78 total sequences"
       ]
      },
      {
       "output_type": "stream",
       "stream": "stdout",
       "text": [
        "\n"
       ]
      },
      {
       "ename": "KeyboardInterrupt",
       "evalue": "",
       "output_type": "pyerr",
       "traceback": [
        "\u001b[0;31m---------------------------------------------------------------------------\u001b[0m\n\u001b[0;31mKeyboardInterrupt\u001b[0m                         Traceback (most recent call last)",
        "\u001b[0;32m<ipython-input-20-3412567b256b>\u001b[0m in \u001b[0;36m<module>\u001b[0;34m()\u001b[0m\n\u001b[1;32m    101\u001b[0m             \u001b[0mStokes_alg_multi_phase_water\u001b[0m\u001b[0;34m.\u001b[0m\u001b[0mrun\u001b[0m\u001b[0;34m(\u001b[0m\u001b[0;34m)\u001b[0m\u001b[0;34m\u001b[0m\u001b[0m\n\u001b[1;32m    102\u001b[0m             \u001b[0mFickian_alg_multi_phase_air\u001b[0m\u001b[0;34m.\u001b[0m\u001b[0mrun\u001b[0m\u001b[0;34m(\u001b[0m\u001b[0;34m)\u001b[0m\u001b[0;34m\u001b[0m\u001b[0m\n\u001b[0;32m--> 103\u001b[0;31m             \u001b[0mFickian_alg_multi_phase_water\u001b[0m\u001b[0;34m.\u001b[0m\u001b[0mrun\u001b[0m\u001b[0;34m(\u001b[0m\u001b[0;34m)\u001b[0m\u001b[0;34m\u001b[0m\u001b[0m\n\u001b[0m\u001b[1;32m    104\u001b[0m \u001b[0;34m\u001b[0m\u001b[0m\n\u001b[1;32m    105\u001b[0m             \u001b[0;31m#calc effective properties\u001b[0m\u001b[0;34m\u001b[0m\u001b[0;34m\u001b[0m\u001b[0m\n",
        "\u001b[0;32m/Users/Jackie/OpenPNM/OpenPNM/Algorithms/__GenericAlgorithm__.py\u001b[0m in \u001b[0;36mrun\u001b[0;34m(self, **params)\u001b[0m\n\u001b[1;32m     64\u001b[0m \u001b[0;31m#        self._logger.info(\"Execute run(): Basic version\")\u001b[0m\u001b[0;34m\u001b[0m\u001b[0;34m\u001b[0m\u001b[0m\n\u001b[1;32m     65\u001b[0m \u001b[0;34m\u001b[0m\u001b[0m\n\u001b[0;32m---> 66\u001b[0;31m         \u001b[0mself\u001b[0m\u001b[0;34m.\u001b[0m\u001b[0m_do_outer_iteration_stage\u001b[0m\u001b[0;34m(\u001b[0m\u001b[0;34m)\u001b[0m\u001b[0;34m\u001b[0m\u001b[0m\n\u001b[0m\u001b[1;32m     67\u001b[0m \u001b[0;34m\u001b[0m\u001b[0m\n\u001b[1;32m     68\u001b[0m     \u001b[0;32mdef\u001b[0m \u001b[0m_do_outer_iteration_stage\u001b[0m\u001b[0;34m(\u001b[0m\u001b[0mself\u001b[0m\u001b[0;34m)\u001b[0m\u001b[0;34m:\u001b[0m\u001b[0;34m\u001b[0m\u001b[0m\n",
        "\u001b[0;32m/Users/Jackie/OpenPNM/OpenPNM/Algorithms/__GenericAlgorithm__.py\u001b[0m in \u001b[0;36m_do_outer_iteration_stage\u001b[0;34m(self)\u001b[0m\n\u001b[1;32m     71\u001b[0m         \"\"\"\n\u001b[1;32m     72\u001b[0m \u001b[0;31m#        self._logger.info(\"Outer Iteration Stage: Basic version\")\u001b[0m\u001b[0;34m\u001b[0m\u001b[0;34m\u001b[0m\u001b[0m\n\u001b[0;32m---> 73\u001b[0;31m         \u001b[0mself\u001b[0m\u001b[0;34m.\u001b[0m\u001b[0m_do_one_outer_iteration\u001b[0m\u001b[0;34m(\u001b[0m\u001b[0;34m)\u001b[0m\u001b[0;34m\u001b[0m\u001b[0m\n\u001b[0m\u001b[1;32m     74\u001b[0m \u001b[0;34m\u001b[0m\u001b[0m\n\u001b[1;32m     75\u001b[0m     \u001b[0;32mdef\u001b[0m \u001b[0m_do_one_outer_iteration\u001b[0m\u001b[0;34m(\u001b[0m\u001b[0mself\u001b[0m\u001b[0;34m)\u001b[0m\u001b[0;34m:\u001b[0m\u001b[0;34m\u001b[0m\u001b[0m\n",
        "\u001b[0;32m/Users/Jackie/OpenPNM/OpenPNM/Algorithms/__GenericAlgorithm__.py\u001b[0m in \u001b[0;36m_do_one_outer_iteration\u001b[0;34m(self)\u001b[0m\n\u001b[1;32m     79\u001b[0m         \"\"\"\n\u001b[1;32m     80\u001b[0m \u001b[0;31m#        self._logger.info(\"One Outer Iteration: Basic version\")\u001b[0m\u001b[0;34m\u001b[0m\u001b[0;34m\u001b[0m\u001b[0m\n\u001b[0;32m---> 81\u001b[0;31m         \u001b[0mself\u001b[0m\u001b[0;34m.\u001b[0m\u001b[0m_do_inner_iteration_stage\u001b[0m\u001b[0;34m(\u001b[0m\u001b[0;34m)\u001b[0m\u001b[0;34m\u001b[0m\u001b[0m\n\u001b[0m\u001b[1;32m     82\u001b[0m \u001b[0;34m\u001b[0m\u001b[0m\n\u001b[1;32m     83\u001b[0m     \u001b[0;32mdef\u001b[0m \u001b[0m_do_inner_iteration_stage\u001b[0m\u001b[0;34m(\u001b[0m\u001b[0mself\u001b[0m\u001b[0;34m)\u001b[0m\u001b[0;34m:\u001b[0m\u001b[0;34m\u001b[0m\u001b[0m\n",
        "\u001b[0;32m/Users/Jackie/OpenPNM/OpenPNM/Algorithms/__GenericAlgorithm__.py\u001b[0m in \u001b[0;36m_do_inner_iteration_stage\u001b[0;34m(self)\u001b[0m\n\u001b[1;32m     86\u001b[0m         \"\"\"\n\u001b[1;32m     87\u001b[0m \u001b[0;31m#        self._logger.info(\"Inner Iteration Stage: Basic version\")\u001b[0m\u001b[0;34m\u001b[0m\u001b[0;34m\u001b[0m\u001b[0m\n\u001b[0;32m---> 88\u001b[0;31m         \u001b[0mself\u001b[0m\u001b[0;34m.\u001b[0m\u001b[0m_do_one_inner_iteration\u001b[0m\u001b[0;34m(\u001b[0m\u001b[0;34m)\u001b[0m\u001b[0;34m\u001b[0m\u001b[0m\n\u001b[0m\u001b[1;32m     89\u001b[0m \u001b[0;34m\u001b[0m\u001b[0m\n\u001b[1;32m     90\u001b[0m     \u001b[0;32mdef\u001b[0m \u001b[0m_do_one_inner_iteration\u001b[0m\u001b[0;34m(\u001b[0m\u001b[0mself\u001b[0m\u001b[0;34m)\u001b[0m\u001b[0;34m:\u001b[0m\u001b[0;34m\u001b[0m\u001b[0m\n",
        "\u001b[0;32m/Users/Jackie/OpenPNM/OpenPNM/Algorithms/__LinearSolver__.py\u001b[0m in \u001b[0;36m_do_one_inner_iteration\u001b[0;34m(self)\u001b[0m\n\u001b[1;32m    291\u001b[0m         \u001b[0mB\u001b[0m \u001b[0;34m=\u001b[0m \u001b[0mself\u001b[0m\u001b[0;34m.\u001b[0m\u001b[0m_build_RHS_matrix\u001b[0m\u001b[0;34m(\u001b[0m\u001b[0;34m)\u001b[0m\u001b[0;34m\u001b[0m\u001b[0m\n\u001b[1;32m    292\u001b[0m         \u001b[0mself\u001b[0m\u001b[0;34m.\u001b[0m\u001b[0m_logger\u001b[0m\u001b[0;34m.\u001b[0m\u001b[0minfo\u001b[0m\u001b[0;34m(\u001b[0m\u001b[0;34m\"Solving AX = B for the sparse matrices\"\u001b[0m\u001b[0;34m)\u001b[0m\u001b[0;34m\u001b[0m\u001b[0m\n\u001b[0;32m--> 293\u001b[0;31m         \u001b[0mX\u001b[0m \u001b[0;34m=\u001b[0m \u001b[0msprslin\u001b[0m\u001b[0;34m.\u001b[0m\u001b[0mspsolve\u001b[0m\u001b[0;34m(\u001b[0m\u001b[0mA\u001b[0m\u001b[0;34m,\u001b[0m\u001b[0mB\u001b[0m\u001b[0;34m)\u001b[0m\u001b[0;34m\u001b[0m\u001b[0m\n\u001b[0m\u001b[1;32m    294\u001b[0m         \u001b[0mself\u001b[0m\u001b[0;34m.\u001b[0m\u001b[0m_Neumann_super_X\u001b[0m \u001b[0;34m=\u001b[0m \u001b[0mX\u001b[0m\u001b[0;34m[\u001b[0m\u001b[0;34m-\u001b[0m\u001b[0msp\u001b[0m\u001b[0;34m.\u001b[0m\u001b[0min1d\u001b[0m\u001b[0;34m(\u001b[0m\u001b[0msp\u001b[0m\u001b[0;34m.\u001b[0m\u001b[0mr_\u001b[0m\u001b[0;34m[\u001b[0m\u001b[0;36m0\u001b[0m\u001b[0;34m:\u001b[0m\u001b[0mlen\u001b[0m\u001b[0;34m(\u001b[0m\u001b[0mX\u001b[0m\u001b[0;34m)\u001b[0m\u001b[0;34m]\u001b[0m\u001b[0;34m,\u001b[0m\u001b[0msp\u001b[0m\u001b[0;34m.\u001b[0m\u001b[0mr_\u001b[0m\u001b[0;34m[\u001b[0m\u001b[0;36m0\u001b[0m\u001b[0;34m:\u001b[0m\u001b[0mself\u001b[0m\u001b[0;34m.\u001b[0m\u001b[0mnum_pores\u001b[0m\u001b[0;34m(\u001b[0m\u001b[0;34m)\u001b[0m\u001b[0;34m]\u001b[0m\u001b[0;34m)\u001b[0m\u001b[0;34m]\u001b[0m\u001b[0;34m\u001b[0m\u001b[0m\n\u001b[1;32m    295\u001b[0m         \u001b[0mself\u001b[0m\u001b[0;34m.\u001b[0m\u001b[0m_result\u001b[0m \u001b[0;34m=\u001b[0m \u001b[0mX\u001b[0m\u001b[0;34m[\u001b[0m\u001b[0msp\u001b[0m\u001b[0;34m.\u001b[0m\u001b[0mr_\u001b[0m\u001b[0;34m[\u001b[0m\u001b[0;36m0\u001b[0m\u001b[0;34m:\u001b[0m\u001b[0mself\u001b[0m\u001b[0;34m.\u001b[0m\u001b[0mnum_pores\u001b[0m\u001b[0;34m(\u001b[0m\u001b[0;34m)\u001b[0m\u001b[0;34m]\u001b[0m\u001b[0;34m]\u001b[0m\u001b[0;34m\u001b[0m\u001b[0m\n",
        "\u001b[0;32m/Users/Jackie/anaconda/lib/python3.4/site-packages/scipy/sparse/linalg/dsolve/linsolve.py\u001b[0m in \u001b[0;36mspsolve\u001b[0;34m(A, b, permc_spec, use_umfpack)\u001b[0m\n\u001b[1;32m    141\u001b[0m             \u001b[0moptions\u001b[0m \u001b[0;34m=\u001b[0m \u001b[0mdict\u001b[0m\u001b[0;34m(\u001b[0m\u001b[0mColPerm\u001b[0m\u001b[0;34m=\u001b[0m\u001b[0mpermc_spec\u001b[0m\u001b[0;34m)\u001b[0m\u001b[0;34m\u001b[0m\u001b[0m\n\u001b[1;32m    142\u001b[0m             x, info = _superlu.gssv(N, A.nnz, A.data, A.indices, A.indptr,\n\u001b[0;32m--> 143\u001b[0;31m                                     b, flag, options=options)\n\u001b[0m\u001b[1;32m    144\u001b[0m             \u001b[0;32mif\u001b[0m \u001b[0minfo\u001b[0m \u001b[0;34m!=\u001b[0m \u001b[0;36m0\u001b[0m\u001b[0;34m:\u001b[0m\u001b[0;34m\u001b[0m\u001b[0m\n\u001b[1;32m    145\u001b[0m                 \u001b[0mwarn\u001b[0m\u001b[0;34m(\u001b[0m\u001b[0;34m\"Matrix is exactly singular\"\u001b[0m\u001b[0;34m,\u001b[0m \u001b[0mMatrixRankWarning\u001b[0m\u001b[0;34m)\u001b[0m\u001b[0;34m\u001b[0m\u001b[0m\n",
        "\u001b[0;31mKeyboardInterrupt\u001b[0m: "
       ]
      }
     ],
     "prompt_number": 20
    },
    {
     "cell_type": "markdown",
     "metadata": {},
     "source": [
      "With enough patience, the above code should generate a graph looking something like this:"
     ]
    },
    {
     "cell_type": "code",
     "collapsed": false,
     "input": [
      "i = Image(url = 'http://i.imgur.com/D3NVuvT.png')\n",
      "display(i)"
     ],
     "language": "python",
     "metadata": {},
     "outputs": [
      {
       "html": [
        "<img src=\"http://i.imgur.com/D3NVuvT.png\"/>"
       ],
       "metadata": {},
       "output_type": "display_data",
       "text": [
        "<IPython.core.display.Image at 0x106044588>"
       ]
      }
     ],
     "prompt_number": 21
    },
    {
     "cell_type": "heading",
     "level": 2,
     "metadata": {},
     "source": [
      "Discrepancies with Gostick's simulation"
     ]
    },
    {
     "cell_type": "markdown",
     "metadata": {},
     "source": [
      "Several things contribute to slight differences between this simulation and that produced by Gostick et al in their 2007 paper.  These include:\n",
      "\n",
      "1) lack of pore size correlation\n",
      "2) lack of late pore filling"
     ]
    },
    {
     "cell_type": "heading",
     "level": 2,
     "metadata": {},
     "source": [
      "References"
     ]
    },
    {
     "cell_type": "markdown",
     "metadata": {},
     "source": [
      "[1] J. T. Gostick et al, \"Pore network modeling of fibrous gas diffusion layers for polymer electrolyte membrane fuel cells\" _Journal of Power Sources_, vol. 173, issue 1, pp. 277-290, Nov. 2007."
     ]
    }
   ],
   "metadata": {}
  }
 ]
}