{
 "cells": [
  {
   "cell_type": "markdown",
   "metadata": {
    "collapsed": true
   },
   "source": [
    "# Example: Regenerating Data from\n",
    "# [R. Wu et al. / Elec Acta 54 25 (2010) 7394–7403](http://www.sciencedirect.com/science/article/pii/S0013468610009503)"
   ]
  },
  {
   "cell_type": "markdown",
   "metadata": {},
   "source": [
    "Import the modules"
   ]
  },
  {
   "cell_type": "code",
   "execution_count": 1,
   "metadata": {},
   "outputs": [
    {
     "name": "stderr",
     "output_type": "stream",
     "text": [
      "C:\\Users\\Tom\\Anaconda3\\lib\\site-packages\\h5py\\__init__.py:34: FutureWarning: Conversion of the second argument of issubdtype from `float` to `np.floating` is deprecated. In future, it will be treated as `np.float64 == np.dtype(float).type`.\n",
      "  from ._conv import register_converters as _register_converters\n"
     ]
    }
   ],
   "source": [
    "import openpnm as op\n",
    "import matplotlib.pyplot as plt\n",
    "import scipy as sp\n",
    "import numpy as np\n",
    "import openpnm.models.geometry as gm\n",
    "import openpnm.topotools as tt\n",
    "%matplotlib inline"
   ]
  },
  {
   "cell_type": "markdown",
   "metadata": {},
   "source": [
    "Set the workspace loglevel to not print anything"
   ]
  },
  {
   "cell_type": "code",
   "execution_count": 2,
   "metadata": {
    "collapsed": true
   },
   "outputs": [],
   "source": [
    "wrk = op.Workspace()\n",
    "wrk.loglevel=50"
   ]
  },
  {
   "cell_type": "markdown",
   "metadata": {},
   "source": [
    "As the paper requires some lengthy calculation we have split it into parts and put the function in a separate notebook to be re-used in each part. The following code runs and loads the shared functions into this kernel"
   ]
  },
  {
   "cell_type": "code",
   "execution_count": 3,
   "metadata": {
    "collapsed": true
   },
   "outputs": [],
   "source": [
    "%run shared_funcs.ipynb"
   ]
  },
  {
   "cell_type": "markdown",
   "metadata": {},
   "source": [
    "The main function runs the simulation for a given network size 'n' and number of points for the relative diffusivity curve. Setting 'npts' to 1 will return the single phase diffusivity. the network size is doubled in the z direction for percolation but the diffusion calculation is effectively only calculated on the middle square section of length 'n'. This is achieved by copying the saturation distribution from the larger network to a smaller one."
   ]
  },
  {
   "cell_type": "markdown",
   "metadata": {
    "collapsed": true
   },
   "source": [
    "We can inspect the source in this notebook by running a code cell with the following: simulation??"
   ]
  },
  {
   "cell_type": "markdown",
   "metadata": {},
   "source": [
    "Run the simulation once for a network of size 8 x 8 x 8"
   ]
  },
  {
   "cell_type": "code",
   "execution_count": 4,
   "metadata": {},
   "outputs": [
    {
     "name": "stdout",
     "output_type": "stream",
     "text": [
      "************************************************************\n",
      "Running Sim with Net Size = 8 num points 51\n",
      "************************************************************\n",
      "Step 0 is percolating\n",
      "――――――――――――――――――――――――――――――――――――――――――――――――――――――――――――――――――――――――――――――――\n",
      "Running ReactiveTransport\n",
      "Tolerance not met: 90.04439572124551\n",
      "Solution converged: 0.0\n",
      "Step 0 Saturation 0.000 Diffusivity 0.101\n",
      "Step 1 is percolating\n",
      "――――――――――――――――――――――――――――――――――――――――――――――――――――――――――――――――――――――――――――――――\n",
      "Running ReactiveTransport\n",
      "Tolerance not met: 90.04439572124551\n",
      "Solution converged: 0.0\n",
      "Step 1 Saturation 0.000 Diffusivity 0.101\n",
      "Step 2 is percolating\n",
      "――――――――――――――――――――――――――――――――――――――――――――――――――――――――――――――――――――――――――――――――\n",
      "Running ReactiveTransport\n",
      "Tolerance not met: 90.48619730090466\n",
      "Solution converged: 0.0\n",
      "Step 2 Saturation 0.006 Diffusivity 0.100\n",
      "Step 3 is percolating\n",
      "――――――――――――――――――――――――――――――――――――――――――――――――――――――――――――――――――――――――――――――――\n",
      "Running ReactiveTransport\n",
      "Tolerance not met: 91.23672446800403\n",
      "Solution converged: 0.0\n",
      "Step 3 Saturation 0.014 Diffusivity 0.099\n",
      "Step 4 is percolating\n",
      "――――――――――――――――――――――――――――――――――――――――――――――――――――――――――――――――――――――――――――――――\n",
      "Running ReactiveTransport\n",
      "Tolerance not met: 92.62763725358529\n",
      "Solution converged: 0.0\n",
      "Step 4 Saturation 0.037 Diffusivity 0.093\n",
      "Step 5 is percolating\n",
      "――――――――――――――――――――――――――――――――――――――――――――――――――――――――――――――――――――――――――――――――\n",
      "Running ReactiveTransport\n",
      "Tolerance not met: 94.96579031783907\n",
      "Solution converged: 0.0\n",
      "Step 5 Saturation 0.062 Diffusivity 0.086\n",
      "Step 6 is percolating\n",
      "――――――――――――――――――――――――――――――――――――――――――――――――――――――――――――――――――――――――――――――――\n",
      "Running ReactiveTransport\n",
      "Tolerance not met: 96.14035310680433\n",
      "Solution converged: 0.0\n",
      "Step 6 Saturation 0.070 Diffusivity 0.084\n",
      "Step 7 is percolating\n",
      "――――――――――――――――――――――――――――――――――――――――――――――――――――――――――――――――――――――――――――――――\n",
      "Running ReactiveTransport\n",
      "Tolerance not met: 98.59983033381558\n",
      "Solution converged: 0.0\n",
      "Step 7 Saturation 0.092 Diffusivity 0.080\n",
      "Step 8 is percolating\n",
      "――――――――――――――――――――――――――――――――――――――――――――――――――――――――――――――――――――――――――――――――\n",
      "Running ReactiveTransport\n",
      "Tolerance not met: 100.9927505991573\n",
      "Solution converged: 0.0\n",
      "Step 8 Saturation 0.121 Diffusivity 0.072\n",
      "Step 9 is percolating\n",
      "――――――――――――――――――――――――――――――――――――――――――――――――――――――――――――――――――――――――――――――――\n",
      "Running ReactiveTransport\n",
      "Tolerance not met: 102.77393562572517\n",
      "Solution converged: 0.0\n",
      "Step 9 Saturation 0.143 Diffusivity 0.066\n",
      "Step 10 is percolating\n",
      "――――――――――――――――――――――――――――――――――――――――――――――――――――――――――――――――――――――――――――――――\n",
      "Running ReactiveTransport\n",
      "Tolerance not met: 104.27808034117362\n",
      "Solution converged: 0.0\n",
      "Step 10 Saturation 0.156 Diffusivity 0.063\n",
      "Step 11 is percolating\n",
      "――――――――――――――――――――――――――――――――――――――――――――――――――――――――――――――――――――――――――――――――\n",
      "Running ReactiveTransport\n",
      "Tolerance not met: 108.72659592848656\n",
      "Solution converged: 0.0\n",
      "Step 11 Saturation 0.187 Diffusivity 0.057\n",
      "Step 12 is percolating\n",
      "――――――――――――――――――――――――――――――――――――――――――――――――――――――――――――――――――――――――――――――――\n",
      "Running ReactiveTransport\n",
      "Tolerance not met: 113.37403549849355\n",
      "Solution converged: 0.0\n",
      "Step 12 Saturation 0.221 Diffusivity 0.047\n",
      "Step 13 is percolating\n",
      "――――――――――――――――――――――――――――――――――――――――――――――――――――――――――――――――――――――――――――――――\n",
      "Running ReactiveTransport\n",
      "Tolerance not met: 116.81250411445566\n",
      "Solution converged: 0.0\n",
      "Step 13 Saturation 0.238 Diffusivity 0.040\n",
      "Step 14 is percolating\n",
      "――――――――――――――――――――――――――――――――――――――――――――――――――――――――――――――――――――――――――――――――\n",
      "Running ReactiveTransport\n",
      "Tolerance not met: 116.2043036163653\n",
      "Solution converged: 0.0\n",
      "Step 14 Saturation 0.254 Diffusivity 0.040\n",
      "Step 15 is percolating\n",
      "――――――――――――――――――――――――――――――――――――――――――――――――――――――――――――――――――――――――――――――――\n",
      "Running ReactiveTransport\n",
      "Tolerance not met: 122.12450739620795\n",
      "Solution converged: 0.0\n",
      "Step 15 Saturation 0.279 Diffusivity 0.032\n",
      "Step 16 is percolating\n",
      "――――――――――――――――――――――――――――――――――――――――――――――――――――――――――――――――――――――――――――――――\n",
      "Running ReactiveTransport\n",
      "Tolerance not met: 121.97259621564366\n",
      "Solution converged: 0.0\n",
      "Step 16 Saturation 0.314 Diffusivity 0.028\n",
      "Step 17 is percolating\n",
      "――――――――――――――――――――――――――――――――――――――――――――――――――――――――――――――――――――――――――――――――\n",
      "Running ReactiveTransport\n",
      "Tolerance not met: 117.85510404758202\n",
      "Solution converged: 0.0\n",
      "Step 17 Saturation 0.354 Diffusivity 0.026\n",
      "Step 18 is percolating\n",
      "――――――――――――――――――――――――――――――――――――――――――――――――――――――――――――――――――――――――――――――――\n",
      "Running ReactiveTransport\n",
      "Tolerance not met: 117.85510404758202\n",
      "Solution converged: 0.0\n",
      "Step 18 Saturation 0.355 Diffusivity 0.026\n",
      "Step 19 is percolating\n",
      "――――――――――――――――――――――――――――――――――――――――――――――――――――――――――――――――――――――――――――――――\n",
      "Running ReactiveTransport\n",
      "Tolerance not met: 115.11546886862304\n",
      "Solution converged: 0.0\n",
      "Step 19 Saturation 0.383 Diffusivity 0.024\n",
      "Step 20 is percolating\n",
      "――――――――――――――――――――――――――――――――――――――――――――――――――――――――――――――――――――――――――――――――\n",
      "Running ReactiveTransport\n",
      "Tolerance not met: 119.39285697205887\n",
      "Solution converged: 0.0\n",
      "Step 20 Saturation 0.418 Diffusivity 0.018\n",
      "Step 21 is percolating\n",
      "――――――――――――――――――――――――――――――――――――――――――――――――――――――――――――――――――――――――――――――――\n",
      "Running ReactiveTransport\n",
      "Tolerance not met: 118.96420890674254\n",
      "Solution converged: 0.0\n",
      "Step 21 Saturation 0.443 Diffusivity 0.017\n",
      "Step 22 is percolating\n",
      "――――――――――――――――――――――――――――――――――――――――――――――――――――――――――――――――――――――――――――――――\n",
      "Running ReactiveTransport\n",
      "Tolerance not met: 118.50280421367746\n",
      "Solution converged: 0.0\n",
      "Step 22 Saturation 0.471 Diffusivity 0.017\n",
      "Step 23 is percolating\n",
      "――――――――――――――――――――――――――――――――――――――――――――――――――――――――――――――――――――――――――――――――\n",
      "Running ReactiveTransport\n",
      "Tolerance not met: 118.40677390439848\n",
      "Solution converged: 0.0\n",
      "Step 23 Saturation 0.480 Diffusivity 0.017\n",
      "Step 24 is percolating\n",
      "――――――――――――――――――――――――――――――――――――――――――――――――――――――――――――――――――――――――――――――――\n",
      "Running ReactiveTransport\n",
      "Tolerance not met: 117.97879082014788\n",
      "Solution converged: 0.0\n",
      "Step 24 Saturation 0.490 Diffusivity 0.017\n",
      "Step 25 is percolating\n",
      "――――――――――――――――――――――――――――――――――――――――――――――――――――――――――――――――――――――――――――――――\n",
      "Running ReactiveTransport\n",
      "Tolerance not met: 117.86815988046516\n",
      "Solution converged: 0.0\n",
      "Step 25 Saturation 0.492 Diffusivity 0.017\n",
      "Step 26 is percolating\n",
      "――――――――――――――――――――――――――――――――――――――――――――――――――――――――――――――――――――――――――――――――\n",
      "Running ReactiveTransport\n",
      "Tolerance not met: 117.60405386157711\n",
      "Solution converged: 0.0\n",
      "Step 26 Saturation 0.500 Diffusivity 0.017\n",
      "Step 27 is percolating\n",
      "――――――――――――――――――――――――――――――――――――――――――――――――――――――――――――――――――――――――――――――――\n",
      "Running ReactiveTransport\n",
      "Tolerance not met: 117.60405386157711\n",
      "Solution converged: 0.0\n",
      "Step 27 Saturation 0.500 Diffusivity 0.017\n",
      "Step 28 is percolating\n",
      "――――――――――――――――――――――――――――――――――――――――――――――――――――――――――――――――――――――――――――――――\n",
      "Running ReactiveTransport\n",
      "Tolerance not met: 117.60405386157711\n",
      "Solution converged: 0.0\n",
      "Step 28 Saturation 0.500 Diffusivity 0.017\n",
      "Step 29 is percolating\n",
      "――――――――――――――――――――――――――――――――――――――――――――――――――――――――――――――――――――――――――――――――\n",
      "Running ReactiveTransport\n",
      "Tolerance not met: 116.9388702478527\n",
      "Solution converged: 0.0\n",
      "Step 29 Saturation 0.512 Diffusivity 0.017\n",
      "Step 30 is percolating\n",
      "――――――――――――――――――――――――――――――――――――――――――――――――――――――――――――――――――――――――――――――――\n",
      "Running ReactiveTransport\n",
      "Tolerance not met: 115.83157476484499\n",
      "Solution converged: 0.0\n",
      "Step 30 Saturation 0.551 Diffusivity 0.013\n",
      "Step 31 is percolating\n",
      "――――――――――――――――――――――――――――――――――――――――――――――――――――――――――――――――――――――――――――――――\n",
      "Running ReactiveTransport\n",
      "Tolerance not met: 113.25748820002065\n",
      "Solution converged: 0.0\n",
      "Step 31 Saturation 0.586 Diffusivity 0.004\n",
      "Step 32 is percolating\n",
      "――――――――――――――――――――――――――――――――――――――――――――――――――――――――――――――――――――――――――――――――\n",
      "Running ReactiveTransport\n",
      "Tolerance not met: 111.26155266609473\n",
      "Solution converged: 0.0\n",
      "Step 32 Saturation 0.613 Diffusivity 0.004\n",
      "Step 33 is percolating\n",
      "――――――――――――――――――――――――――――――――――――――――――――――――――――――――――――――――――――――――――――――――\n",
      "Running ReactiveTransport\n",
      "Tolerance not met: 107.46107868782858\n",
      "Solution converged: 0.0\n",
      "Step 33 Saturation 0.648 Diffusivity 0.002\n",
      "Step 34 is percolating\n"
     ]
    },
    {
     "name": "stdout",
     "output_type": "stream",
     "text": [
      "――――――――――――――――――――――――――――――――――――――――――――――――――――――――――――――――――――――――――――――――\n",
      "Running ReactiveTransport\n",
      "Tolerance not met: 108.63283347113213\n",
      "Solution converged: 0.0\n",
      "Step 34 Saturation 0.680 Diffusivity 0.002\n",
      "Step 35 is percolating\n",
      "――――――――――――――――――――――――――――――――――――――――――――――――――――――――――――――――――――――――――――――――\n",
      "Running ReactiveTransport\n",
      "Tolerance not met: 103.68945565493385\n",
      "Solution converged: 0.0\n",
      "Step 35 Saturation 0.709 Diffusivity 0.002\n",
      "Step 36 is percolating\n",
      "――――――――――――――――――――――――――――――――――――――――――――――――――――――――――――――――――――――――――――――――\n",
      "Running ReactiveTransport\n",
      "Tolerance not met: 100.55269696150185\n",
      "Solution converged: 0.0\n",
      "Step 36 Saturation 0.740 Diffusivity 0.002\n",
      "Step 37 is percolating\n",
      "――――――――――――――――――――――――――――――――――――――――――――――――――――――――――――――――――――――――――――――――\n",
      "Running ReactiveTransport\n",
      "Tolerance not met: 108.24748564395568\n",
      "Solution converged: 0.0\n",
      "Step 37 Saturation 0.775 Diffusivity 0.000\n",
      "Step 38 is percolating\n",
      "――――――――――――――――――――――――――――――――――――――――――――――――――――――――――――――――――――――――――――――――\n",
      "Running ReactiveTransport\n",
      "Tolerance not met: 106.54704961577414\n",
      "Solution converged: 0.0\n",
      "Step 38 Saturation 0.814 Diffusivity 0.000\n",
      "Step 39 is NOT percolating\n",
      "Step 39 Saturation 0.840 Diffusivity 0.000\n",
      "Step 40 is NOT percolating\n",
      "Step 40 Saturation 0.857 Diffusivity 0.000\n",
      "Step 41 is NOT percolating\n",
      "Step 41 Saturation 0.887 Diffusivity 0.000\n",
      "Step 42 is NOT percolating\n",
      "Step 42 Saturation 0.893 Diffusivity 0.000\n",
      "Step 43 is NOT percolating\n",
      "Step 43 Saturation 0.912 Diffusivity 0.000\n",
      "Step 44 is NOT percolating\n",
      "Step 44 Saturation 0.938 Diffusivity 0.000\n",
      "Step 45 is NOT percolating\n",
      "Step 45 Saturation 0.963 Diffusivity 0.000\n",
      "Step 46 is NOT percolating\n",
      "Step 46 Saturation 0.979 Diffusivity 0.000\n",
      "Step 47 is NOT percolating\n",
      "Step 47 Saturation 0.994 Diffusivity 0.000\n",
      "Step 48 is NOT percolating\n",
      "Step 48 Saturation 1.000 Diffusivity 0.000\n",
      "Step 49 is NOT percolating\n",
      "Step 49 Saturation 1.000 Diffusivity 0.000\n",
      "Step 50 is NOT percolating\n",
      "Step 50 Saturation 1.000 Diffusivity 0.000\n"
     ]
    }
   ],
   "source": [
    "x_values, y_values = simulation(n=8)"
   ]
  },
  {
   "cell_type": "code",
   "execution_count": 5,
   "metadata": {},
   "outputs": [
    {
     "data": {
      "image/png": "[encoded data removed]",
      "text/plain": [
       "<matplotlib.figure.Figure at 0x1215f6eab00>"
      ]
     },
     "metadata": {},
     "output_type": "display_data"
    }
   ],
   "source": [
    "plt.figure()\n",
    "plt.plot(x_values, y_values, 'ro')\n",
    "plt.title('normalized diffusivity versus saturation')\n",
    "plt.xlabel('saturation')\n",
    "plt.ylabel('normalized diffusivity')\n",
    "plt.show()"
   ]
  }
 ],
 "metadata": {
  "kernelspec": {
   "display_name": "Python 3",
   "language": "python",
   "name": "python3"
  },
  "language_info": {
   "codemirror_mode": {
    "name": "ipython",
    "version": 3
   },
   "file_extension": ".py",
   "mimetype": "text/x-python",
   "name": "python",
   "nbconvert_exporter": "python",
   "pygments_lexer": "ipython3",
   "version": "3.6.3"
  }
 },
 "nbformat": 4,
 "nbformat_minor": 2
}
