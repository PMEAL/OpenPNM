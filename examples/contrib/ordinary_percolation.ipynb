{
 "cells": [
  {
   "cell_type": "markdown",
   "id": "6bd15afa",
   "metadata": {},
   "source": [
    "# Simulating Drainage with Ordinary Percolation\n",
    "\n",
    "blah..."
   ]
  },
  {
   "cell_type": "code",
   "execution_count": 1,
   "id": "77e4a734",
   "metadata": {
    "execution": {
     "iopub.execute_input": "2022-09-07T19:23:49.979251Z",
     "iopub.status.busy": "2022-09-07T19:23:49.978741Z",
     "iopub.status.idle": "2022-09-07T19:23:51.952384Z",
     "shell.execute_reply": "2022-09-07T19:23:51.951301Z"
    }
   },
   "outputs": [],
   "source": [
    "import openpnm as op\n",
    "import numpy as np\n",
    "import matplotlib.pyplot as plt"
   ]
  },
  {
   "cell_type": "markdown",
   "id": "3141afef-5aa9-4ae1-a4b0-0693f84327ca",
   "metadata": {},
   "source": [
    "Generate a simple 2D network for easy visualization:"
   ]
  },
  {
   "cell_type": "code",
   "execution_count": 2,
   "id": "1d32e62f",
   "metadata": {
    "execution": {
     "iopub.execute_input": "2022-09-07T19:23:51.956580Z",
     "iopub.status.busy": "2022-09-07T19:23:51.956081Z",
     "iopub.status.idle": "2022-09-07T19:23:52.669465Z",
     "shell.execute_reply": "2022-09-07T19:23:52.668754Z"
    }
   },
   "outputs": [
    {
     "ename": "AttributeError",
     "evalue": "module 'openpnm.topotools' has no attribute 'plot_connections'",
     "output_type": "error",
     "traceback": [
      "\u001b[0;31m---------------------------------------------------------------------------\u001b[0m",
      "\u001b[0;31mAttributeError\u001b[0m                            Traceback (most recent call last)",
      "Cell \u001b[0;32mIn [2], line 3\u001b[0m\n\u001b[1;32m      1\u001b[0m np\u001b[38;5;241m.\u001b[39mrandom\u001b[38;5;241m.\u001b[39mseed(\u001b[38;5;241m1\u001b[39m)\n\u001b[1;32m      2\u001b[0m pn \u001b[38;5;241m=\u001b[39m op\u001b[38;5;241m.\u001b[39mnetwork\u001b[38;5;241m.\u001b[39mCubic(shape\u001b[38;5;241m=\u001b[39m[\u001b[38;5;241m10\u001b[39m, \u001b[38;5;241m10\u001b[39m], spacing\u001b[38;5;241m=\u001b[39m\u001b[38;5;241m1e-5\u001b[39m)\n\u001b[0;32m----> 3\u001b[0m \u001b[43mop\u001b[49m\u001b[38;5;241;43m.\u001b[39;49m\u001b[43mtopotools\u001b[49m\u001b[38;5;241;43m.\u001b[39;49m\u001b[43mplot_connections\u001b[49m(pn)\n",
      "\u001b[0;31mAttributeError\u001b[0m: module 'openpnm.topotools' has no attribute 'plot_connections'"
     ]
    }
   ],
   "source": [
    "np.random.seed(1)\n",
    "pn = op.network.Cubic(shape=[10, 10], spacing=1e-5)\n",
    "op.topotools.plot_connections(pn);"
   ]
  },
  {
   "cell_type": "markdown",
   "id": "b4fd12c7-e5f0-4c3c-8049-70b06f1fea70",
   "metadata": {},
   "source": [
    "Add geometrical properties to the network, and compute the capillary entry pressure for each throat:"
   ]
  },
  {
   "cell_type": "code",
   "execution_count": 3,
   "id": "9a06bdc4-29c1-4a62-9c2b-09f46a175fe8",
   "metadata": {
    "execution": {
     "iopub.execute_input": "2022-09-07T19:23:52.674407Z",
     "iopub.status.busy": "2022-09-07T19:23:52.673296Z",
     "iopub.status.idle": "2022-09-07T19:23:52.691110Z",
     "shell.execute_reply": "2022-09-07T19:23:52.690497Z"
    }
   },
   "outputs": [
    {
     "ename": "AttributeError",
     "evalue": "module 'openpnm' has no attribute 'geometry'",
     "output_type": "error",
     "traceback": [
      "\u001b[0;31m---------------------------------------------------------------------------\u001b[0m",
      "\u001b[0;31mAttributeError\u001b[0m                            Traceback (most recent call last)",
      "Cell \u001b[0;32mIn [3], line 1\u001b[0m\n\u001b[0;32m----> 1\u001b[0m geo \u001b[38;5;241m=\u001b[39m \u001b[43mop\u001b[49m\u001b[38;5;241;43m.\u001b[39;49m\u001b[43mgeometry\u001b[49m\u001b[38;5;241m.\u001b[39mSpheresAndCylinders(network\u001b[38;5;241m=\u001b[39mpn, pores\u001b[38;5;241m=\u001b[39mpn\u001b[38;5;241m.\u001b[39mPs, throats\u001b[38;5;241m=\u001b[39mpn\u001b[38;5;241m.\u001b[39mTs)\n\u001b[1;32m      2\u001b[0m h2o \u001b[38;5;241m=\u001b[39m op\u001b[38;5;241m.\u001b[39mphase\u001b[38;5;241m.\u001b[39mWater(network\u001b[38;5;241m=\u001b[39mpn)\n",
      "\u001b[0;31mAttributeError\u001b[0m: module 'openpnm' has no attribute 'geometry'"
     ]
    }
   ],
   "source": [
    "geo = op.geometry.SpheresAndCylinders(network=pn, pores=pn.Ps, throats=pn.Ts)\n",
    "h2o = op.phase.Water(network=pn)"
   ]
  },
  {
   "cell_type": "code",
   "execution_count": 4,
   "id": "ca61164c-609f-4511-a809-599d9dc55f8b",
   "metadata": {
    "execution": {
     "iopub.execute_input": "2022-09-07T19:23:52.695975Z",
     "iopub.status.busy": "2022-09-07T19:23:52.694346Z",
     "iopub.status.idle": "2022-09-07T19:23:52.713664Z",
     "shell.execute_reply": "2022-09-07T19:23:52.713052Z"
    }
   },
   "outputs": [
    {
     "ename": "NameError",
     "evalue": "name 'geo' is not defined",
     "output_type": "error",
     "traceback": [
      "\u001b[0;31m---------------------------------------------------------------------------\u001b[0m",
      "\u001b[0;31mNameError\u001b[0m                                 Traceback (most recent call last)",
      "Cell \u001b[0;32mIn [4], line 1\u001b[0m\n\u001b[0;32m----> 1\u001b[0m h2o[\u001b[38;5;124m'\u001b[39m\u001b[38;5;124mthroat.capillary_pressure\u001b[39m\u001b[38;5;124m'\u001b[39m] \u001b[38;5;241m=\u001b[39m \u001b[38;5;241m-\u001b[39m\u001b[38;5;241m4\u001b[39m\u001b[38;5;241m*\u001b[39m\u001b[38;5;241m0.072\u001b[39m\u001b[38;5;241m*\u001b[39mnp\u001b[38;5;241m.\u001b[39mcos(np\u001b[38;5;241m.\u001b[39mdeg2rad(\u001b[38;5;241m180\u001b[39m))\u001b[38;5;241m/\u001b[39m\u001b[43mgeo\u001b[49m[\u001b[38;5;124m'\u001b[39m\u001b[38;5;124mthroat.diameter\u001b[39m\u001b[38;5;124m'\u001b[39m]\n\u001b[1;32m      2\u001b[0m plt\u001b[38;5;241m.\u001b[39mhist(h2o[\u001b[38;5;124m'\u001b[39m\u001b[38;5;124mthroat.capillary_pressure\u001b[39m\u001b[38;5;124m'\u001b[39m], edgecolor\u001b[38;5;241m=\u001b[39m\u001b[38;5;124m'\u001b[39m\u001b[38;5;124mk\u001b[39m\u001b[38;5;124m'\u001b[39m)\n",
      "\u001b[0;31mNameError\u001b[0m: name 'geo' is not defined"
     ]
    }
   ],
   "source": [
    "h2o['throat.capillary_pressure'] = -4*0.072*np.cos(np.deg2rad(180))/geo['throat.diameter']\n",
    "plt.hist(h2o['throat.capillary_pressure'], edgecolor='k');"
   ]
  },
  {
   "cell_type": "markdown",
   "id": "d9f9ba38-8b9b-49e0-973d-5dbabcc03919",
   "metadata": {},
   "source": [
    "The capillary entry pressure range from 100 to 300 kPa. In the next steps we'll simulate an invasion at 150 kPa."
   ]
  },
  {
   "cell_type": "code",
   "execution_count": 5,
   "id": "8fa0806c-4593-4a5e-9e21-d809d6be7edd",
   "metadata": {
    "execution": {
     "iopub.execute_input": "2022-09-07T19:23:52.718726Z",
     "iopub.status.busy": "2022-09-07T19:23:52.717395Z",
     "iopub.status.idle": "2022-09-07T19:23:52.734000Z",
     "shell.execute_reply": "2022-09-07T19:23:52.733365Z"
    }
   },
   "outputs": [
    {
     "ename": "NameError",
     "evalue": "name 'h2o' is not defined",
     "output_type": "error",
     "traceback": [
      "\u001b[0;31m---------------------------------------------------------------------------\u001b[0m",
      "\u001b[0;31mNameError\u001b[0m                                 Traceback (most recent call last)",
      "Cell \u001b[0;32mIn [5], line 1\u001b[0m\n\u001b[0;32m----> 1\u001b[0m occupied_bonds \u001b[38;5;241m=\u001b[39m \u001b[43mh2o\u001b[49m[\u001b[38;5;124m'\u001b[39m\u001b[38;5;124mthroat.capillary_pressure\u001b[39m\u001b[38;5;124m'\u001b[39m] \u001b[38;5;241m<\u001b[39m \u001b[38;5;241m150000\u001b[39m\n\u001b[1;32m      2\u001b[0m op\u001b[38;5;241m.\u001b[39mtopotools\u001b[38;5;241m.\u001b[39mplot_connections(pn, throats\u001b[38;5;241m=\u001b[39moccupied_bonds)\n",
      "\u001b[0;31mNameError\u001b[0m: name 'h2o' is not defined"
     ]
    }
   ],
   "source": [
    "occupied_bonds = h2o['throat.capillary_pressure'] < 150000\n",
    "op.topotools.plot_connections(pn, throats=occupied_bonds);"
   ]
  },
  {
   "cell_type": "markdown",
   "id": "9b8dab91-aa81-4c49-8376-07b72ec10f38",
   "metadata": {},
   "source": [
    "Perform a bond percolation by applying a cluster label to each occupied pore and throat, then plot.  The `bond_percolation` algorithm requires a generic adjacency matrix, so that must be generated first:"
   ]
  },
  {
   "cell_type": "code",
   "execution_count": 6,
   "id": "b6418e55-faa3-41c5-99e0-e4990ac1de7b",
   "metadata": {
    "execution": {
     "iopub.execute_input": "2022-09-07T19:23:52.739021Z",
     "iopub.status.busy": "2022-09-07T19:23:52.737921Z",
     "iopub.status.idle": "2022-09-07T19:23:52.760401Z",
     "shell.execute_reply": "2022-09-07T19:23:52.759778Z"
    }
   },
   "outputs": [
    {
     "ename": "NameError",
     "evalue": "name 'occupied_bonds' is not defined",
     "output_type": "error",
     "traceback": [
      "\u001b[0;31m---------------------------------------------------------------------------\u001b[0m",
      "\u001b[0;31mNameError\u001b[0m                                 Traceback (most recent call last)",
      "Cell \u001b[0;32mIn [6], line 2\u001b[0m\n\u001b[1;32m      1\u001b[0m am \u001b[38;5;241m=\u001b[39m pn\u001b[38;5;241m.\u001b[39mcreate_adjacency_matrix(triu\u001b[38;5;241m=\u001b[39m\u001b[38;5;28;01mTrue\u001b[39;00m)\n\u001b[0;32m----> 2\u001b[0m s_labels, b_labels \u001b[38;5;241m=\u001b[39m op\u001b[38;5;241m.\u001b[39mtopotools\u001b[38;5;241m.\u001b[39mbond_percolation(np\u001b[38;5;241m.\u001b[39mvstack((am\u001b[38;5;241m.\u001b[39mrow, am\u001b[38;5;241m.\u001b[39mcol))\u001b[38;5;241m.\u001b[39mT, \u001b[43moccupied_bonds\u001b[49m)\n\u001b[1;32m      3\u001b[0m occupied_sites \u001b[38;5;241m=\u001b[39m s_labels \u001b[38;5;241m>\u001b[39m\u001b[38;5;241m=\u001b[39m \u001b[38;5;241m0\u001b[39m\n\u001b[1;32m      5\u001b[0m cm \u001b[38;5;241m=\u001b[39m \u001b[38;5;124m'\u001b[39m\u001b[38;5;124mnipy_spectral\u001b[39m\u001b[38;5;124m'\u001b[39m\n",
      "\u001b[0;31mNameError\u001b[0m: name 'occupied_bonds' is not defined"
     ]
    }
   ],
   "source": [
    "am = pn.create_adjacency_matrix(triu=True)\n",
    "s_labels, b_labels = op.topotools.bond_percolation(np.vstack((am.row, am.col)).T, occupied_bonds)\n",
    "occupied_sites = s_labels >= 0\n",
    "\n",
    "cm = 'nipy_spectral'\n",
    "ax = op.topotools.plot_connections(pn, throats=occupied_bonds, \n",
    "                                   color_by=b_labels[occupied_bonds] + 1, \n",
    "                                   linewidth=3, cmap=cm)\n",
    "ax = op.topotools.plot_coordinates(pn, pores=occupied_sites, color_by=s_labels[occupied_sites] + 1, ax=ax, cmap=cm, markersize=100)"
   ]
  },
  {
   "cell_type": "markdown",
   "id": "03cdf613-27fd-48b0-99d4-c34d3d4249a9",
   "metadata": {},
   "source": [
    "Now remove any occupied sites and bonds that are not connected to specified inlets:"
   ]
  },
  {
   "cell_type": "code",
   "execution_count": 7,
   "id": "fb55ff2e-2dd7-4430-8c33-5e3a0fd061d8",
   "metadata": {
    "execution": {
     "iopub.execute_input": "2022-09-07T19:23:52.764894Z",
     "iopub.status.busy": "2022-09-07T19:23:52.763807Z",
     "iopub.status.idle": "2022-09-07T19:23:52.781016Z",
     "shell.execute_reply": "2022-09-07T19:23:52.780404Z"
    }
   },
   "outputs": [
    {
     "ename": "AttributeError",
     "evalue": "module 'openpnm.topotools' has no attribute 'trim_disconnected_clusters'",
     "output_type": "error",
     "traceback": [
      "\u001b[0;31m---------------------------------------------------------------------------\u001b[0m",
      "\u001b[0;31mAttributeError\u001b[0m                            Traceback (most recent call last)",
      "Cell \u001b[0;32mIn [7], line 1\u001b[0m\n\u001b[0;32m----> 1\u001b[0m occupied_sites, occupied_bonds \u001b[38;5;241m=\u001b[39m \u001b[43mop\u001b[49m\u001b[38;5;241;43m.\u001b[39;49m\u001b[43mtopotools\u001b[49m\u001b[38;5;241;43m.\u001b[39;49m\u001b[43mtrim_disconnected_clusters\u001b[49m(b_labels, s_labels, inlets\u001b[38;5;241m=\u001b[39mpn\u001b[38;5;241m.\u001b[39mpores(\u001b[38;5;124m'\u001b[39m\u001b[38;5;124mright\u001b[39m\u001b[38;5;124m'\u001b[39m))\n",
      "\u001b[0;31mAttributeError\u001b[0m: module 'openpnm.topotools' has no attribute 'trim_disconnected_clusters'"
     ]
    }
   ],
   "source": [
    "occupied_sites, occupied_bonds = op.topotools.trim_disconnected_clusters(b_labels, s_labels, inlets=pn.pores('right'))"
   ]
  },
  {
   "cell_type": "markdown",
   "id": "af205959-f5d8-45cc-b896-6e6c117bd69a",
   "metadata": {},
   "source": [
    "Finally, replot the network with only the invading clusters kept:"
   ]
  },
  {
   "cell_type": "code",
   "execution_count": 8,
   "id": "372da99a-7b58-4aca-a9b5-c57a1619b382",
   "metadata": {
    "execution": {
     "iopub.execute_input": "2022-09-07T19:23:52.785592Z",
     "iopub.status.busy": "2022-09-07T19:23:52.784466Z",
     "iopub.status.idle": "2022-09-07T19:23:52.805814Z",
     "shell.execute_reply": "2022-09-07T19:23:52.805191Z"
    }
   },
   "outputs": [
    {
     "ename": "AttributeError",
     "evalue": "module 'openpnm.topotools' has no attribute 'plot_connections'",
     "output_type": "error",
     "traceback": [
      "\u001b[0;31m---------------------------------------------------------------------------\u001b[0m",
      "\u001b[0;31mAttributeError\u001b[0m                            Traceback (most recent call last)",
      "Cell \u001b[0;32mIn [8], line 2\u001b[0m\n\u001b[1;32m      1\u001b[0m cm \u001b[38;5;241m=\u001b[39m \u001b[38;5;124m'\u001b[39m\u001b[38;5;124mnipy_spectral\u001b[39m\u001b[38;5;124m'\u001b[39m\n\u001b[0;32m----> 2\u001b[0m ax \u001b[38;5;241m=\u001b[39m \u001b[43mop\u001b[49m\u001b[38;5;241;43m.\u001b[39;49m\u001b[43mtopotools\u001b[49m\u001b[38;5;241;43m.\u001b[39;49m\u001b[43mplot_connections\u001b[49m(pn, c\u001b[38;5;241m=\u001b[39m\u001b[38;5;124m'\u001b[39m\u001b[38;5;124mgrey\u001b[39m\u001b[38;5;124m'\u001b[39m)\n\u001b[1;32m      3\u001b[0m ax \u001b[38;5;241m=\u001b[39m op\u001b[38;5;241m.\u001b[39mtopotools\u001b[38;5;241m.\u001b[39mplot_connections(pn, throats\u001b[38;5;241m=\u001b[39moccupied_bonds, \n\u001b[1;32m      4\u001b[0m                                    color_by\u001b[38;5;241m=\u001b[39mb_labels[occupied_bonds] \u001b[38;5;241m+\u001b[39m \u001b[38;5;241m1\u001b[39m, \n\u001b[1;32m      5\u001b[0m                                    linewidth\u001b[38;5;241m=\u001b[39m\u001b[38;5;241m3\u001b[39m, cmap\u001b[38;5;241m=\u001b[39mcm, ax\u001b[38;5;241m=\u001b[39max)\n\u001b[1;32m      6\u001b[0m ax \u001b[38;5;241m=\u001b[39m op\u001b[38;5;241m.\u001b[39mtopotools\u001b[38;5;241m.\u001b[39mplot_coordinates(pn, c\u001b[38;5;241m=\u001b[39m\u001b[38;5;124m'\u001b[39m\u001b[38;5;124mgrey\u001b[39m\u001b[38;5;124m'\u001b[39m, ax\u001b[38;5;241m=\u001b[39max, markersize\u001b[38;5;241m=\u001b[39m\u001b[38;5;241m10\u001b[39m)\n",
      "\u001b[0;31mAttributeError\u001b[0m: module 'openpnm.topotools' has no attribute 'plot_connections'"
     ]
    }
   ],
   "source": [
    "cm = 'nipy_spectral'\n",
    "ax = op.topotools.plot_connections(pn, c='grey')\n",
    "ax = op.topotools.plot_connections(pn, throats=occupied_bonds, \n",
    "                                   color_by=b_labels[occupied_bonds] + 1, \n",
    "                                   linewidth=3, cmap=cm, ax=ax)\n",
    "ax = op.topotools.plot_coordinates(pn, c='grey', ax=ax, markersize=10)\n",
    "ax = op.topotools.plot_coordinates(pn, pores=occupied_sites, color_by=s_labels[occupied_sites] + 1, \n",
    "                                   cmap=cm, markersize=100, ax=ax)"
   ]
  },
  {
   "cell_type": "markdown",
   "id": "e9872861-02cf-43a2-8635-4185854dafe4",
   "metadata": {},
   "source": [
    "We've shown the entire network in thin grey lines to help with the interpretation of this result."
   ]
  }
 ],
 "metadata": {
  "kernelspec": {
   "display_name": "Python 3 (ipykernel)",
   "language": "python",
   "name": "python3"
  },
  "language_info": {
   "codemirror_mode": {
    "name": "ipython",
    "version": 3
   },
   "file_extension": ".py",
   "mimetype": "text/x-python",
   "name": "python",
   "nbconvert_exporter": "python",
   "pygments_lexer": "ipython3",
   "version": "3.8.13"
  }
 },
 "nbformat": 4,
 "nbformat_minor": 5
}
