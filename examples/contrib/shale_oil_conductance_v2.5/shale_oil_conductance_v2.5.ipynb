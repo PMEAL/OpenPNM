{
 "cells": [
  {
   "cell_type": "markdown",
   "metadata": {},
   "source": [
    "# shale oil conductance calculation and permeability"
   ]
  },
  {
   "cell_type": "markdown",
   "metadata": {},
   "source": [
    "Ke Wang presented a method for shale oil conductance calculation[^1]. I also used it to do some work. Now I wanna show how to implement this method by OpenPNM. Both of us use OpenPNM and I get a permission from Ke Wang to add this method in OpenPNM release, if possible. Before I add it as a physics model in `hydraulic_conductance.py`, I think it is better to write just a function and get tested by other users and developers."
   ]
  },
  {
   "cell_type": "markdown",
   "metadata": {},
   "source": [
    "## how to calculate shale oil conductance\n",
    "\n",
    "I think it is worthy to introduce the method they use to calculate shale oil conductance briefly first, before I show the code.\n",
    "\n",
    "Afsharpoor presented an equation to calculate liquid slip flow in a network of shale noncircular nanopores[^2].\n",
    "\n",
    "$$\n",
    "Q=\\frac{A^{2}}{\\mu L}\\left(a+b L_{\\mathrm{sd}}+c G+d L_{\\mathrm{sd}}^{2}+e G^{2}+f L_{\\mathrm{sd}} G\\right) \\Delta P\n",
    "$$\n",
    "\n",
    "Wang consider the adsorption effect and introduce adsorption layer and adsorption layer viscosity:\n",
    "\n",
    "$$\n",
    "A_a = A - A_b \\\\\n",
    "\\mu_r = \\frac{\\mu(A - A_a) + \\mu \\alpha A_a}{A} \\\\\n",
    "\\alpha = \\frac{\\mu_a}{\\mu}\n",
    "$$\n",
    "\n",
    "Finally the equation is in the form of\n",
    "\n",
    "$$\n",
    "Q=\\frac{A^{3}}{\\left(A-A_{\\mathrm{a}}+\\alpha A_{\\mathrm{a}}\\right) \\times \\mu L}\\left(a+b L_{\\mathrm{sd}}+c G+d L_{\\mathrm{sd}}^{2}+e G^{2}+f L_{\\mathrm{sd}} G\\right) \\Delta P\n",
    "$$\n",
    "\n",
    "Please find the symbols' physical meaning in the references.\n"
   ]
  },
  {
   "cell_type": "markdown",
   "metadata": {},
   "source": [
    "[^1]:Yang Y., Wang K., Zhang L., et al. Pore-scale simulation of shale oil flow based on pore network model. Fuel, 2019, 251: 683-692.\n",
    "[^2]: Afsharpoor A., Javadpour F. Liquid slip flow in a network of shale noncircular nanopores. Fuel, 2016, 180: 580-590."
   ]
  },
  {
   "cell_type": "code",
   "execution_count": 6,
   "metadata": {},
   "outputs": [],
   "source": [
    "import openpnm as op\n",
    "import random\n",
    "import numpy as np\n",
    "from bimodal_distribution import bimodal_distribution\n",
    "import matplotlib.pyplot as plt\n",
    "import openpnm.models as mods"
   ]
  },
  {
   "cell_type": "code",
   "execution_count": 7,
   "metadata": {},
   "outputs": [],
   "source": [
    "ws = op.Workspace()\n",
    "ws.clear()"
   ]
  },
  {
   "cell_type": "markdown",
   "metadata": {},
   "source": [
    "pore number, throat number, network size are designed from Wang's paper (ref[1]), to make sure that pore and throat volume density is the same. "
   ]
  },
  {
   "cell_type": "code",
   "execution_count": 8,
   "metadata": {},
   "outputs": [],
   "source": [
    "np.random.seed(0)\n",
    "pn = op.network.Delaunay(num_points=1415, shape=[4.036e-6, 4.036e-6, 4.036e-6])\n",
    "pn.project.name = 'shale'"
   ]
  },
  {
   "cell_type": "code",
   "execution_count": 9,
   "metadata": {},
   "outputs": [
    {
     "data": {
      "image/png": "[encoded data removed]",
      "text/plain": [
       "<Figure size 432x288 with 1 Axes>"
      ]
     },
     "metadata": {
      "needs_background": "light"
     },
     "output_type": "display_data"
    }
   ],
   "source": [
    "from pore_coordination_num import pore_coordination_num\n",
    "pore_coord_num = pore_coordination_num(pn)"
   ]
  },
  {
   "cell_type": "code",
   "execution_count": 10,
   "metadata": {},
   "outputs": [],
   "source": [
    "ts = random.sample(list(pn.Ts), 3158)\n",
    "trim_ts = np.setdiff1d(pn.Ts, ts)\n",
    "op.topotools.trim(pn, pores=[], throats=trim_ts)"
   ]
  },
  {
   "cell_type": "markdown",
   "metadata": {},
   "source": [
    "check data health is veeeeeeery important. I forgot this step and got stucked for more than a month."
   ]
  },
  {
   "cell_type": "code",
   "execution_count": 11,
   "metadata": {},
   "outputs": [],
   "source": [
    "# check data health and trim\n",
    "health = pn.check_network_health()\n",
    "op.topotools.trim(network=pn, pores=health[\"trim_pores\"])"
   ]
  },
  {
   "cell_type": "code",
   "execution_count": 12,
   "metadata": {},
   "outputs": [],
   "source": [
    "# pnm geometry\n",
    "geo = op.geometry.GenericGeometry(network=pn, pores=pn.pores(), throats=pn.throats())"
   ]
  },
  {
   "cell_type": "markdown",
   "metadata": {},
   "source": [
    "Pore size is set in the range of 25-250 $\\mu$m, to produce the same PSD in fig 2(a). It is packed as a function `bimodal_distribution`."
   ]
  },
  {
   "cell_type": "code",
   "execution_count": 13,
   "metadata": {},
   "outputs": [],
   "source": [
    "# add properties to geo\n",
    "geo['pore.diameter'] = bimodal_distribution(pn.Np)\n",
    "\n",
    "geo.add_model(propname='throat.max_size',\n",
    "              model=mods.misc.from_neighbor_pores,\n",
    "              mode='min',\n",
    "              prop='pore.diameter')\n",
    "\n",
    "geo.add_model(propname='throat.diameter',\n",
    "              model=mods.misc.scaled,\n",
    "              factor=0.5,\n",
    "              prop='throat.max_size')\n",
    "\n",
    "geo['throat.radius'] = geo['throat.diameter'] / 2\n",
    "\n",
    "\n",
    "geo.add_model(propname='pore.area',\n",
    "              model=mods.geometry.pore_area.sphere)\n",
    "\n",
    "geo.add_model(propname='pore.volume',\n",
    "              model=mods.geometry.pore_volume.sphere)\n",
    "\n",
    "geo.add_model(propname='throat.endpoints',\n",
    "                       model=mods.geometry.throat_endpoints.spherical_pores,\n",
    "                       pore_diameter='pore.diameter',\n",
    "                       throat_diameter='throat.diameter')\n",
    "\n",
    "geo.add_model(propname='throat.conduit_lengths',\n",
    "                       model=mods.geometry.throat_length.conduit_lengths,\n",
    "                       throat_endpoints='throat.endpoints',\n",
    "                       throat_length='throat.length')\n",
    "\n",
    "geo.add_model(propname='throat.length',\n",
    "              model=mods.geometry.throat_length.piecewise)\n",
    "\n",
    "geo.add_model(propname='throat.volume',\n",
    "              model=mods.geometry.throat_volume.cylinder)\n",
    "\n",
    "geo.add_model(propname='throat.area',\n",
    "              model=mods.geometry.throat_area.cylinder)\n",
    "\n",
    "geo.add_model(propname='throat.surface_area',\n",
    "              model=mods.geometry.throat_surface_area.cylinder)\n",
    "\n",
    "# shape factor\n",
    "geo.add_model(propname='throat.perimeter',\n",
    "              model=mods.geometry.throat_perimeter.cylinder,\n",
    "              throat_diameter='throat.diameter')\n",
    "\n",
    "geo.add_model(propname='throat.area',\n",
    "              model=mods.geometry.throat_area.cylinder)\n",
    "\n",
    "geo.add_model(propname='throat.shape_factor',\n",
    "              model=mods.geometry.throat_shape_factor.mason_morrow,\n",
    "              throat_perimeter='throat.perimeter',\n",
    "              throat_area='throat.area')\n",
    "\n",
    "geo['pore.perimeter'] = np.pi * geo['pore.diameter']\n",
    "geo['pore.shape_factor'] = geo['pore.area'] / geo['pore.perimeter'] ** 2\n",
    "\n",
    "# organic pores\n",
    "geo['pore.organic'] = geo['pore.diameter'] <= 50e-9\n",
    "\n",
    "organic_pores = [pore_index for pore_index in geo.pores()\n",
    "                if geo['pore.organic'][pore_index]==True]\n",
    "organic_pores = np.array(organic_pores)\n",
    "\n",
    "# organic throats\n",
    "from find_organic_throats import find_organic_throats\n",
    "organic_throats = find_organic_throats(organic_pores,\n",
    "                                       geo['throat.conns'], geo.Nt)\n",
    "organic_thro = np.array(organic_throats[0])\n",
    "organic_thro_indx = np.array(organic_throats[1])\n",
    "\n",
    "geo['throat.organic'] = geo.tomask(throats=organic_thro_indx)"
   ]
  },
  {
   "cell_type": "markdown",
   "metadata": {},
   "source": [
    "According to ref [^1], organic pores are mostly less than 50 nm in diameters. So, 50 nm is considered as the boundary between organic and inorganic pores. Organic throats are those connected to both organic pores in two ends. I write a function `find_organic_throats` to finish the job.\n",
    "\n",
    "Viscosity ratio ($\\alpha$) in organic pores is set as 1.1.\n",
    "Viscosity ratio ($\\alpha$) in inorganic proes is set as 0.9."
   ]
  },
  {
   "cell_type": "code",
   "execution_count": 14,
   "metadata": {},
   "outputs": [],
   "source": [
    "# physics\n",
    "water = op.phases.Water(network=geo)\n",
    "\n",
    "# viscosity settings\n",
    "alpha_o = 1.1  # viscosity ratio in organic pores = \\mu_a / \\mu, range(1-2.5)\n",
    "alpha_i = 0.9  # viscosity ratio in inorganic pores, range(0.5-1)\n",
    "\n",
    "# initialize\n",
    "water['pore.viscosity'] = 3.6e-3\n",
    "water['throat.viscosity'] = 3.6e-3\n",
    "water['pore.viscosity_a'] = water['pore.viscosity'] * alpha_i\n",
    "water['throat.viscosity_a'] = water['throat.viscosity'] * alpha_i"
   ]
  },
  {
   "cell_type": "markdown",
   "metadata": {},
   "source": [
    "Slip length and viscosity are different in organic and inorganic pores."
   ]
  },
  {
   "cell_type": "code",
   "execution_count": 15,
   "metadata": {},
   "outputs": [],
   "source": [
    "# slip length\n",
    "Ls_o = 60e-9 # organic slip length, range 0-250 nm\n",
    "Ls_i = 50e-9 # organic slip length, range 0-60 nm\n",
    "\n",
    "# slip length of inorganic pores and throats\n",
    "water['pore.l_sd'] = Ls_i /  np.sqrt(geo['pore.area'])\n",
    "water['throat.l_sd'] = Ls_i /  np.sqrt(geo['throat.area'])\n",
    "\n",
    "\n",
    "if organic_pores.size!=0:\n",
    "    # dimensionless slip length of organic pores and throats\n",
    "    water['pore.l_sd'][organic_pores] =\\\n",
    "                    Ls_o / np.sqrt(geo['pore.area'][organic_pores])\n",
    "    #excute when organic pores exist.\n",
    "    water['pore.viscosity_a'][organic_pores] =\\\n",
    "                    water['pore.viscosity'][organic_pores] * alpha_o\n",
    "\n",
    "if organic_thro.size!=0:\n",
    "    water['throat.l_sd'][organic_thro_indx] =\\\n",
    "                    Ls_o /  np.sqrt(geo['throat.area'][organic_thro_indx])\n",
    "    water['throat.viscosity_a'][organic_thro_indx] =\\\n",
    "                    water['throat.viscosity'][organic_thro_indx] * alpha_o"
   ]
  },
  {
   "cell_type": "code",
   "execution_count": 16,
   "metadata": {},
   "outputs": [],
   "source": [
    "ha = 1.8e-9 # adsorption layer thickness\n",
    "geo['pore.area_a'] = geo['pore.area'] - \\\n",
    "                     np.pi * (geo['pore.diameter'] / 2 - ha) ** 2\n",
    "geo['throat.area_a'] = geo['throat.area'] - \\\n",
    "                       np.pi * (geo['throat.radius'] - ha) ** 2"
   ]
  },
  {
   "cell_type": "markdown",
   "metadata": {},
   "source": [
    "The `if else` statement below is used to compare the difference between shale oil conductance and classical hydraulic conductance assumption."
   ]
  },
  {
   "cell_type": "code",
   "execution_count": 17,
   "metadata": {},
   "outputs": [],
   "source": [
    "slip = True\n",
    "# hydraulic conductance\n",
    "if slip==True:\n",
    "    # hydraulic conductance\n",
    "    from conductance_calculas import slip_shale_conductance\n",
    "    water['throat.hydraulic_conductance'] = slip_shale_conductance(water)\n",
    "else:\n",
    "    water.add_model(propname='throat.hydraulic_conductance',\n",
    "                    model=op.models.physics.hydraulic_conductance.hagen_poiseuille)"
   ]
  },
  {
   "cell_type": "code",
   "execution_count": 18,
   "metadata": {},
   "outputs": [
    {
     "name": "stderr",
     "output_type": "stream",
     "text": [
      "================================================================================\n",
      "WARNING    : Attempting to estimate inlet area...will be low \n",
      "SOURCE     : openpnm.algorithms.GenericTransport._get_domain_area \n",
      "TIME STAMP : 2021-11-06 14:24:46,998\n",
      "================================================================================\n",
      "================================================================================\n",
      "ERROR      : Inlet and outlet faces are different area \n",
      "SOURCE     : openpnm.algorithms.GenericTransport._get_domain_area \n",
      "TIME STAMP : 2021-11-06 14:24:47,031\n",
      "================================================================================\n",
      "================================================================================\n",
      "WARNING    : Attempting to estimate domain length...could be low if boundary pores were not added \n",
      "SOURCE     : openpnm.algorithms.GenericTransport._get_domain_length \n",
      "TIME STAMP : 2021-11-06 14:24:47,031\n",
      "================================================================================\n",
      "================================================================================\n",
      "ERROR      : A unique value of length could not be found \n",
      "SOURCE     : openpnm.algorithms.GenericTransport._get_domain_length \n",
      "TIME STAMP : 2021-11-06 14:24:47,060\n",
      "================================================================================\n"
     ]
    },
    {
     "name": "stdout",
     "output_type": "stream",
     "text": [
      "[6.56657845e-18]\n",
      "[8.41451881e-18]\n"
     ]
    }
   ],
   "source": [
    "# permeability\n",
    "flow = op.algorithms.StokesFlow(network=pn, phase=water)\n",
    "flow.set_value_BC(pores=pn['pore.left'], values=20)  # inlet\n",
    "flow.set_value_BC(pores=pn['pore.right'], values=10)  # outlet\n",
    "flow.run()\n",
    "\n",
    "Q1 = flow.rate(pores=geo['pore.left'])\n",
    "Q2 = flow.rate(pores=geo['pore.right'])\n",
    "\n",
    "side_len = 4.036e-6\n",
    "\n",
    "domain_area = side_len **2\n",
    "domain_length = side_len\n",
    "\n",
    "K2 = flow.calc_effective_permeability(inlets=geo['pore.left'], outlets=geo['pore.right'],\n",
    "                                    domain_area=domain_area, domain_length=domain_length)\n",
    "K1 = flow.calc_effective_permeability()\n",
    "print(K2)\n",
    "print(K1)"
   ]
  },
  {
   "cell_type": "code",
   "execution_count": null,
   "metadata": {},
   "outputs": [],
   "source": [
    "#op.io.VTK.export_data(network=pn, phases=[flow], filename=r'shale_test')\n"
   ]
  },
  {
   "cell_type": "markdown",
   "metadata": {},
   "source": [
    "Because `Delaunay` construct random networks and random pore size, each time the final result may be different. I only show one of the result in my PC."
   ]
  },
  {
   "cell_type": "markdown",
   "metadata": {},
   "source": [
    "**Pressure distribution**\n",
    "![pressure distribution](single-phase-pressure.png)"
   ]
  },
  {
   "cell_type": "markdown",
   "metadata": {},
   "source": [
    "**organic distribution**\n",
    "![organic distribution](organic-distribution.png)\n",
    "\n",
    "Red color shows organic pores and throats."
   ]
  },
  {
   "cell_type": "code",
   "execution_count": null,
   "metadata": {},
   "outputs": [],
   "source": []
  }
 ],
 "metadata": {
  "kernelspec": {
   "display_name": "Python [conda env:openpnm-2-5]",
   "language": "python",
   "name": "conda-env-openpnm-2-5-py"
  },
  "language_info": {
   "codemirror_mode": {
    "name": "ipython",
    "version": 3
   },
   "file_extension": ".py",
   "mimetype": "text/x-python",
   "name": "python",
   "nbconvert_exporter": "python",
   "pygments_lexer": "ipython3",
   "version": "3.7.3"
  },
  "latex_envs": {
   "LaTeX_envs_menu_present": true,
   "autoclose": false,
   "autocomplete": true,
   "bibliofile": "biblio.bib",
   "cite_by": "apalike",
   "current_citInitial": 1,
   "eqLabelWithNumbers": true,
   "eqNumInitial": 1,
   "hotkeys": {
    "equation": "Ctrl-E",
    "itemize": "Ctrl-I"
   },
   "labels_anchors": false,
   "latex_user_defs": false,
   "report_style_numbering": false,
   "user_envs_cfg": false
  },
  "toc": {
   "base_numbering": 1,
   "nav_menu": {},
   "number_sections": true,
   "sideBar": true,
   "skip_h1_title": true,
   "title_cell": "Table of Contents",
   "title_sidebar": "Contents",
   "toc_cell": false,
   "toc_position": {},
   "toc_section_display": true,
   "toc_window_display": false
  }
 },
 "nbformat": 4,
 "nbformat_minor": 2
}
