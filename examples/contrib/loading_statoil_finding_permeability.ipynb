{
 "cells": [
  {
   "cell_type": "markdown",
   "metadata": {},
   "source": [
    "## Part 1: Import Networks from Statoil Files\n",
    "This example explains how to use the OpenPNM.Utilies.IO.Statoil class to import a network produced by the Maximal Ball network extraction code developed by Martin Blunt's group at Imperial College London. The code is available from him upon request, but they offer a small library of pre-extracted networks on their [website](https://www.imperial.ac.uk/engineering/departments/earth-science/research/research-groups/perm/research/pore-scale-modelling/micro-ct-images-and-networks/)."
   ]
  },
  {
   "cell_type": "code",
   "execution_count": 1,
   "metadata": {
    "execution": {
     "iopub.execute_input": "2022-09-07T19:23:21.141090Z",
     "iopub.status.busy": "2022-09-07T19:23:21.138052Z",
     "iopub.status.idle": "2022-09-07T19:23:23.069832Z",
     "shell.execute_reply": "2022-09-07T19:23:23.068724Z"
    }
   },
   "outputs": [],
   "source": [
    "import warnings\n",
    "import scipy as sp\n",
    "import numpy as np\n",
    "import openpnm as op\n",
    "%config InlineBackend.figure_formats = ['svg']\n",
    "np.set_printoptions(precision=4)\n",
    "np.random.seed(10)\n",
    "%matplotlib inline"
   ]
  },
  {
   "cell_type": "markdown",
   "metadata": {},
   "source": [
    "The following assumes that the folder containing the 'dat' files is in a directory called 'fixtures' in the same directory as this script.  You can also enter a full path to the files."
   ]
  },
  {
   "cell_type": "code",
   "execution_count": 2,
   "metadata": {
    "execution": {
     "iopub.execute_input": "2022-09-07T19:23:23.075079Z",
     "iopub.status.busy": "2022-09-07T19:23:23.074609Z",
     "iopub.status.idle": "2022-09-07T19:23:23.650652Z",
     "shell.execute_reply": "2022-09-07T19:23:23.649896Z"
    }
   },
   "outputs": [
    {
     "ename": "AttributeError",
     "evalue": "module 'openpnm.io' has no attribute 'Statoil'",
     "output_type": "error",
     "traceback": [
      "\u001b[0;31m---------------------------------------------------------------------------\u001b[0m",
      "\u001b[0;31mAttributeError\u001b[0m                            Traceback (most recent call last)",
      "Cell \u001b[0;32mIn [2], line 3\u001b[0m\n\u001b[1;32m      1\u001b[0m \u001b[38;5;28;01mfrom\u001b[39;00m \u001b[38;5;21;01mpathlib\u001b[39;00m \u001b[38;5;28;01mimport\u001b[39;00m Path\n\u001b[1;32m      2\u001b[0m path \u001b[38;5;241m=\u001b[39m Path(\u001b[38;5;124m'\u001b[39m\u001b[38;5;124m../_fixtures/ICL-Sandstone(Berea)/\u001b[39m\u001b[38;5;124m'\u001b[39m)\n\u001b[0;32m----> 3\u001b[0m project \u001b[38;5;241m=\u001b[39m \u001b[43mop\u001b[49m\u001b[38;5;241;43m.\u001b[39;49m\u001b[43mio\u001b[49m\u001b[38;5;241;43m.\u001b[39;49m\u001b[43mStatoil\u001b[49m\u001b[38;5;241m.\u001b[39mimport_data(path\u001b[38;5;241m=\u001b[39mpath, prefix\u001b[38;5;241m=\u001b[39m\u001b[38;5;124m'\u001b[39m\u001b[38;5;124mBerea\u001b[39m\u001b[38;5;124m'\u001b[39m)\n\u001b[1;32m      4\u001b[0m pn \u001b[38;5;241m=\u001b[39m project\u001b[38;5;241m.\u001b[39mnetwork\n\u001b[1;32m      5\u001b[0m pn\u001b[38;5;241m.\u001b[39mname \u001b[38;5;241m=\u001b[39m \u001b[38;5;124m'\u001b[39m\u001b[38;5;124mberea\u001b[39m\u001b[38;5;124m'\u001b[39m\n",
      "\u001b[0;31mAttributeError\u001b[0m: module 'openpnm.io' has no attribute 'Statoil'"
     ]
    }
   ],
   "source": [
    "from pathlib import Path\n",
    "path = Path('../_fixtures/ICL-Sandstone(Berea)/')\n",
    "project = op.io.Statoil.import_data(path=path, prefix='Berea')\n",
    "pn = project.network\n",
    "pn.name = 'berea'"
   ]
  },
  {
   "cell_type": "markdown",
   "metadata": {},
   "source": [
    "This import class extracts all the information contained in the 'Statoil' files, such as sizes, locations and connectivity. Note that the ``io`` classes return a ``project`` object, and the network itself can be accessed using the ``network`` attribute.  The following printout display which information was contained in the file:"
   ]
  },
  {
   "cell_type": "code",
   "execution_count": 3,
   "metadata": {
    "execution": {
     "iopub.execute_input": "2022-09-07T19:23:23.656567Z",
     "iopub.status.busy": "2022-09-07T19:23:23.655029Z",
     "iopub.status.idle": "2022-09-07T19:23:23.673233Z",
     "shell.execute_reply": "2022-09-07T19:23:23.672534Z"
    }
   },
   "outputs": [
    {
     "ename": "NameError",
     "evalue": "name 'pn' is not defined",
     "output_type": "error",
     "traceback": [
      "\u001b[0;31m---------------------------------------------------------------------------\u001b[0m",
      "\u001b[0;31mNameError\u001b[0m                                 Traceback (most recent call last)",
      "Cell \u001b[0;32mIn [3], line 1\u001b[0m\n\u001b[0;32m----> 1\u001b[0m \u001b[38;5;28mprint\u001b[39m(\u001b[43mpn\u001b[49m)\n",
      "\u001b[0;31mNameError\u001b[0m: name 'pn' is not defined"
     ]
    }
   ],
   "source": [
    "print(pn)"
   ]
  },
  {
   "cell_type": "markdown",
   "metadata": {},
   "source": [
    "At this point, the network can be visualized in Paraview. A suitable '.vtp' file can be created with:"
   ]
  },
  {
   "cell_type": "code",
   "execution_count": 4,
   "metadata": {
    "execution": {
     "iopub.execute_input": "2022-09-07T19:23:23.678918Z",
     "iopub.status.busy": "2022-09-07T19:23:23.677698Z",
     "iopub.status.idle": "2022-09-07T19:23:23.696606Z",
     "shell.execute_reply": "2022-09-07T19:23:23.695721Z"
    }
   },
   "outputs": [
    {
     "ename": "AttributeError",
     "evalue": "module 'openpnm.io' has no attribute 'VTK'",
     "output_type": "error",
     "traceback": [
      "\u001b[0;31m---------------------------------------------------------------------------\u001b[0m",
      "\u001b[0;31mAttributeError\u001b[0m                            Traceback (most recent call last)",
      "Cell \u001b[0;32mIn [4], line 1\u001b[0m\n\u001b[0;32m----> 1\u001b[0m \u001b[43mop\u001b[49m\u001b[38;5;241;43m.\u001b[39;49m\u001b[43mio\u001b[49m\u001b[38;5;241;43m.\u001b[39;49m\u001b[43mVTK\u001b[49m\u001b[38;5;241m.\u001b[39mexport_data(network\u001b[38;5;241m=\u001b[39mpn, filename\u001b[38;5;241m=\u001b[39m\u001b[38;5;124m'\u001b[39m\u001b[38;5;124mimported_statoil\u001b[39m\u001b[38;5;124m'\u001b[39m)\n",
      "\u001b[0;31mAttributeError\u001b[0m: module 'openpnm.io' has no attribute 'VTK'"
     ]
    }
   ],
   "source": [
    "op.io.VTK.export_data(network=pn, filename='imported_statoil')"
   ]
  },
  {
   "cell_type": "markdown",
   "metadata": {},
   "source": [
    "The resulting network is shown below:\n",
    "\n",
    "<img src=\"http://i.imgur.com/771T36M.png\" style=\"width: 60%\" align=\"left\"/>"
   ]
  },
  {
   "cell_type": "markdown",
   "metadata": {},
   "source": [
    "### Clean up network topology\n",
    "\n",
    "Although it's not clear in the network image, there are a number of isolated and disconnected pores in the network.  These are either naturally part of the sandstone, or artifacts of the Maximal Ball algorithm.  In any event, these must be removed before proceeding since they cause problems for the matrix solver.  The easiest way to find these is to use the ```check_network_health``` function on the network object.  This will return a dictionary with several key attributes, including a list of which pores are isolated. These can then be trimmed using the ``trim`` function in the ``topotools`` module."
   ]
  },
  {
   "cell_type": "code",
   "execution_count": 5,
   "metadata": {
    "execution": {
     "iopub.execute_input": "2022-09-07T19:23:23.701777Z",
     "iopub.status.busy": "2022-09-07T19:23:23.700573Z",
     "iopub.status.idle": "2022-09-07T19:23:23.725364Z",
     "shell.execute_reply": "2022-09-07T19:23:23.724660Z"
    }
   },
   "outputs": [
    {
     "ename": "NameError",
     "evalue": "name 'pn' is not defined",
     "output_type": "error",
     "traceback": [
      "\u001b[0;31m---------------------------------------------------------------------------\u001b[0m",
      "\u001b[0;31mNameError\u001b[0m                                 Traceback (most recent call last)",
      "Cell \u001b[0;32mIn [5], line 1\u001b[0m\n\u001b[0;32m----> 1\u001b[0m \u001b[38;5;28mprint\u001b[39m(\u001b[38;5;124m'\u001b[39m\u001b[38;5;124mNumber of pores before trimming: \u001b[39m\u001b[38;5;124m'\u001b[39m, \u001b[43mpn\u001b[49m\u001b[38;5;241m.\u001b[39mNp)\n\u001b[1;32m      2\u001b[0m h \u001b[38;5;241m=\u001b[39m pn\u001b[38;5;241m.\u001b[39mcheck_network_health()\n\u001b[1;32m      3\u001b[0m op\u001b[38;5;241m.\u001b[39mtopotools\u001b[38;5;241m.\u001b[39mtrim(network\u001b[38;5;241m=\u001b[39mpn, pores\u001b[38;5;241m=\u001b[39mnp\u001b[38;5;241m.\u001b[39mhstack([h[\u001b[38;5;124m'\u001b[39m\u001b[38;5;124misolated_pores\u001b[39m\u001b[38;5;124m'\u001b[39m],h[\u001b[38;5;124m'\u001b[39m\u001b[38;5;124mdisconnected_pores\u001b[39m\u001b[38;5;124m'\u001b[39m]]))\n",
      "\u001b[0;31mNameError\u001b[0m: name 'pn' is not defined"
     ]
    }
   ],
   "source": [
    "print('Number of pores before trimming: ', pn.Np)\n",
    "h = pn.check_network_health()\n",
    "op.topotools.trim(network=pn, pores=np.hstack([h['isolated_pores'],h['disconnected_pores']]))\n",
    "print('Number of pores after trimming: ', pn.Np)"
   ]
  },
  {
   "cell_type": "markdown",
   "metadata": {},
   "source": [
    "### Dealing with Inlet and Outlet Pores\n",
    "When importing Statoil networks, OpenPNM must perform some 'optimizations' to make the network compatible.  The main problem is that the original network contains a large number of throats connecting actual internal pores to fictitious 'reservoir' pores.  OpenPNM strips away all these throats since 'headless throats' break the graph theory representation.  OpenPNM then labels the real internal pores as either 'inlet' or 'outlet' if they were connected to one of these fictitious reservoirs.  \n",
    "\n",
    "It is fairly simple to add a new pores to each end of the domain and stitch tehm to the internal pores labelled 'inlet' and 'outlet', but this introduces a subsequent complication that the new pores don't have any geometry properties.  For this example, we will not add boundary pores, but just the pores on the inlet and outlet faces.  "
   ]
  },
  {
   "cell_type": "markdown",
   "metadata": {},
   "source": [
    "## Part 2: Calculating Permeability of the Network\n",
    "\n",
    "### Setup Geometry, Phase, and Physics Objects\n",
    "\n",
    "In OpenPNM 2+ it is optional to define Geometry and Physics objects (These are really only necessary for simulations with diverse geometrical properties in different regions, resulting in different physical processes in each region, such as multiscale networks for instance).  It is still necessary to define **Phase** objects:"
   ]
  },
  {
   "cell_type": "code",
   "execution_count": 6,
   "metadata": {
    "execution": {
     "iopub.execute_input": "2022-09-07T19:23:23.730666Z",
     "iopub.status.busy": "2022-09-07T19:23:23.729489Z",
     "iopub.status.idle": "2022-09-07T19:23:23.746124Z",
     "shell.execute_reply": "2022-09-07T19:23:23.745468Z"
    }
   },
   "outputs": [
    {
     "ename": "AttributeError",
     "evalue": "module 'openpnm' has no attribute 'phases'",
     "output_type": "error",
     "traceback": [
      "\u001b[0;31m---------------------------------------------------------------------------\u001b[0m",
      "\u001b[0;31mAttributeError\u001b[0m                            Traceback (most recent call last)",
      "Cell \u001b[0;32mIn [6], line 1\u001b[0m\n\u001b[0;32m----> 1\u001b[0m water \u001b[38;5;241m=\u001b[39m \u001b[43mop\u001b[49m\u001b[38;5;241;43m.\u001b[39;49m\u001b[43mphases\u001b[49m\u001b[38;5;241m.\u001b[39mWater(network\u001b[38;5;241m=\u001b[39mpn)\n",
      "\u001b[0;31mAttributeError\u001b[0m: module 'openpnm' has no attribute 'phases'"
     ]
    }
   ],
   "source": [
    "water = op.phases.Water(network=pn)"
   ]
  },
  {
   "cell_type": "markdown",
   "metadata": {},
   "source": [
    "### Apply Pore-Scale Models\n",
    "\n",
    "We must add the hagen-poiseuille model for calculating the conductance.  In OpenPNM 2+ it is possible to add Physics models to Phase objects, which is often simpler than than applying the same model to multiple Physics."
   ]
  },
  {
   "cell_type": "code",
   "execution_count": 7,
   "metadata": {
    "execution": {
     "iopub.execute_input": "2022-09-07T19:23:23.751089Z",
     "iopub.status.busy": "2022-09-07T19:23:23.749836Z",
     "iopub.status.idle": "2022-09-07T19:23:23.769094Z",
     "shell.execute_reply": "2022-09-07T19:23:23.768445Z"
    }
   },
   "outputs": [
    {
     "ename": "NameError",
     "evalue": "name 'water' is not defined",
     "output_type": "error",
     "traceback": [
      "\u001b[0;31m---------------------------------------------------------------------------\u001b[0m",
      "\u001b[0;31mNameError\u001b[0m                                 Traceback (most recent call last)",
      "Cell \u001b[0;32mIn [7], line 1\u001b[0m\n\u001b[0;32m----> 1\u001b[0m \u001b[43mwater\u001b[49m\u001b[38;5;241m.\u001b[39madd_model(propname\u001b[38;5;241m=\u001b[39m\u001b[38;5;124m'\u001b[39m\u001b[38;5;124mthroat.hydraulic_conductance\u001b[39m\u001b[38;5;124m'\u001b[39m,\n\u001b[1;32m      2\u001b[0m                 model\u001b[38;5;241m=\u001b[39mop\u001b[38;5;241m.\u001b[39mmodels\u001b[38;5;241m.\u001b[39mphysics\u001b[38;5;241m.\u001b[39mhydraulic_conductance\u001b[38;5;241m.\u001b[39mvalvatne_blunt)\n",
      "\u001b[0;31mNameError\u001b[0m: name 'water' is not defined"
     ]
    }
   ],
   "source": [
    "water.add_model(propname='throat.hydraulic_conductance',\n",
    "                model=op.models.physics.hydraulic_conductance.valvatne_blunt)"
   ]
  },
  {
   "cell_type": "markdown",
   "metadata": {},
   "source": [
    "Recall that boundary pores and throats had no geometrical properties associated with them, so the   hydraulic conductances of boundary throats will be undefined (filled with NaNs):\n"
   ]
  },
  {
   "cell_type": "code",
   "execution_count": 8,
   "metadata": {
    "execution": {
     "iopub.execute_input": "2022-09-07T19:23:23.773903Z",
     "iopub.status.busy": "2022-09-07T19:23:23.772794Z",
     "iopub.status.idle": "2022-09-07T19:23:23.789491Z",
     "shell.execute_reply": "2022-09-07T19:23:23.788723Z"
    }
   },
   "outputs": [
    {
     "ename": "NameError",
     "evalue": "name 'water' is not defined",
     "output_type": "error",
     "traceback": [
      "\u001b[0;31m---------------------------------------------------------------------------\u001b[0m",
      "\u001b[0;31mNameError\u001b[0m                                 Traceback (most recent call last)",
      "Cell \u001b[0;32mIn [8], line 1\u001b[0m\n\u001b[0;32m----> 1\u001b[0m \u001b[38;5;28mprint\u001b[39m(\u001b[43mwater\u001b[49m[\u001b[38;5;124m'\u001b[39m\u001b[38;5;124mthroat.hydraulic_conductance\u001b[39m\u001b[38;5;124m'\u001b[39m])\n",
      "\u001b[0;31mNameError\u001b[0m: name 'water' is not defined"
     ]
    }
   ],
   "source": [
    "print(water['throat.hydraulic_conductance'])"
   ]
  },
  {
   "cell_type": "markdown",
   "metadata": {},
   "source": [
    "### Run StokesFlow Algorithm\n",
    "Finally, we can create a **StokesFlow** object to run some fluid flow simulations:"
   ]
  },
  {
   "cell_type": "code",
   "execution_count": 9,
   "metadata": {
    "execution": {
     "iopub.execute_input": "2022-09-07T19:23:23.794178Z",
     "iopub.status.busy": "2022-09-07T19:23:23.793004Z",
     "iopub.status.idle": "2022-09-07T19:23:23.813197Z",
     "shell.execute_reply": "2022-09-07T19:23:23.812514Z"
    }
   },
   "outputs": [
    {
     "ename": "NameError",
     "evalue": "name 'pn' is not defined",
     "output_type": "error",
     "traceback": [
      "\u001b[0;31m---------------------------------------------------------------------------\u001b[0m",
      "\u001b[0;31mNameError\u001b[0m                                 Traceback (most recent call last)",
      "Cell \u001b[0;32mIn [9], line 1\u001b[0m\n\u001b[0;32m----> 1\u001b[0m flow \u001b[38;5;241m=\u001b[39m op\u001b[38;5;241m.\u001b[39malgorithms\u001b[38;5;241m.\u001b[39mStokesFlow(network\u001b[38;5;241m=\u001b[39m\u001b[43mpn\u001b[49m, phase\u001b[38;5;241m=\u001b[39mwater)\n\u001b[1;32m      2\u001b[0m flow\u001b[38;5;241m.\u001b[39mset_value_BC(pores\u001b[38;5;241m=\u001b[39mpn\u001b[38;5;241m.\u001b[39mpores(\u001b[38;5;124m'\u001b[39m\u001b[38;5;124minlets\u001b[39m\u001b[38;5;124m'\u001b[39m), values\u001b[38;5;241m=\u001b[39m\u001b[38;5;241m200000\u001b[39m)\n\u001b[1;32m      3\u001b[0m flow\u001b[38;5;241m.\u001b[39mset_value_BC(pores\u001b[38;5;241m=\u001b[39mpn\u001b[38;5;241m.\u001b[39mpores(\u001b[38;5;124m'\u001b[39m\u001b[38;5;124moutlets\u001b[39m\u001b[38;5;124m'\u001b[39m), values\u001b[38;5;241m=\u001b[39m\u001b[38;5;241m100000\u001b[39m)\n",
      "\u001b[0;31mNameError\u001b[0m: name 'pn' is not defined"
     ]
    }
   ],
   "source": [
    "flow = op.algorithms.StokesFlow(network=pn, phase=water)\n",
    "flow.set_value_BC(pores=pn.pores('inlets'), values=200000)\n",
    "flow.set_value_BC(pores=pn.pores('outlets'), values=100000)\n",
    "flow.run()"
   ]
  },
  {
   "cell_type": "markdown",
   "metadata": {},
   "source": [
    "The resulting pressure field can be visualized in Paraview, giving the following:\n",
    "\n",
    "<img src=\"https://i.imgur.com/AIK6FbJ.png\" style=\"width: 60%\" align=\"left\"/>"
   ]
  },
  {
   "cell_type": "markdown",
   "metadata": {},
   "source": [
    "### Determination of Permeability Coefficient\n",
    "\n",
    "The way to calculate K is the determine each of the values in Darcy's law manually and solve for K, such that $$ K = \\frac{Q\\mu L} {\\Delta P A} $$"
   ]
  },
  {
   "cell_type": "code",
   "execution_count": 10,
   "metadata": {
    "execution": {
     "iopub.execute_input": "2022-09-07T19:23:23.818414Z",
     "iopub.status.busy": "2022-09-07T19:23:23.816941Z",
     "iopub.status.idle": "2022-09-07T19:23:23.839329Z",
     "shell.execute_reply": "2022-09-07T19:23:23.838593Z"
    }
   },
   "outputs": [
    {
     "ename": "NameError",
     "evalue": "name 'water' is not defined",
     "output_type": "error",
     "traceback": [
      "\u001b[0;31m---------------------------------------------------------------------------\u001b[0m",
      "\u001b[0;31mNameError\u001b[0m                                 Traceback (most recent call last)",
      "Cell \u001b[0;32mIn [10], line 2\u001b[0m\n\u001b[1;32m      1\u001b[0m \u001b[38;5;66;03m# Get the average value of the fluid viscosity\u001b[39;00m\n\u001b[0;32m----> 2\u001b[0m mu \u001b[38;5;241m=\u001b[39m np\u001b[38;5;241m.\u001b[39mmean(\u001b[43mwater\u001b[49m[\u001b[38;5;124m'\u001b[39m\u001b[38;5;124mpore.viscosity\u001b[39m\u001b[38;5;124m'\u001b[39m])\n\u001b[1;32m      3\u001b[0m \u001b[38;5;66;03m# Specify a pressure difference (in Pa)\u001b[39;00m\n\u001b[1;32m      4\u001b[0m delta_P \u001b[38;5;241m=\u001b[39m \u001b[38;5;241m100000\u001b[39m\n",
      "\u001b[0;31mNameError\u001b[0m: name 'water' is not defined"
     ]
    }
   ],
   "source": [
    "# Get the average value of the fluid viscosity\n",
    "mu = np.mean(water['pore.viscosity'])\n",
    "# Specify a pressure difference (in Pa)\n",
    "delta_P = 100000\n",
    "# Using the rate method of the StokesFlow algorithm\n",
    "Q = np.absolute(flow.rate(pores=pn.pores('inlets')))\n",
    "# Because we know the inlets and outlets are at x=0 and x=X\n",
    "Lx = np.amax(pn['pore.coords'][:, 0]) - np.amin(pn['pore.coords'][:, 0])\n",
    "A = Lx*Lx  # Since the network is cubic Lx = Ly = Lz\n",
    "K = Q*mu*Lx/(delta_P*A)\n",
    "print(K)"
   ]
  }
 ],
 "metadata": {
  "@webio": {
   "lastCommId": null,
   "lastKernelId": null
  },
  "kernelspec": {
   "display_name": "Python 3",
   "language": "python",
   "name": "python3"
  },
  "language_info": {
   "codemirror_mode": {
    "name": "ipython",
    "version": 3
   },
   "file_extension": ".py",
   "mimetype": "text/x-python",
   "name": "python",
   "nbconvert_exporter": "python",
   "pygments_lexer": "ipython3",
   "version": "3.8.13"
  }
 },
 "nbformat": 4,
 "nbformat_minor": 2
}
