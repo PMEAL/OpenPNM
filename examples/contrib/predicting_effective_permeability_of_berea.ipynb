{
 "cells": [
  {
   "cell_type": "markdown",
   "metadata": {},
   "source": [
    "# Predicting Permeability of Berea\n",
    "## Berea Sandstone Simulation Using PoreSpy and OpenPNM"
   ]
  },
  {
   "cell_type": "markdown",
   "metadata": {},
   "source": [
    "The example explains effective permeabilty calculations using PoreSpy and OpenPNM software. The simulation is performed on X-ray tomography image of [BereaSandstone](https://www.imperial.ac.uk/earth-science/research/research-groups/perm/research/pore-scale-modelling/micro-ct-images-and-networks/berea-sandstone/). The calculated effective permeablity value can compared with value report in [Dong et al](https://www.semanticscholar.org/paper/Pore-network-extraction-from-images.-Dong-Blunt/31fbb0362bd02e483c8b1f19f944f9bf15095a80).   "
   ]
  },
  {
   "cell_type": "markdown",
   "metadata": {},
   "source": [
    "### Start by importing the necessary packages"
   ]
  },
  {
   "cell_type": "code",
   "execution_count": 1,
   "metadata": {
    "execution": {
     "iopub.execute_input": "2022-09-07T19:23:55.173306Z",
     "iopub.status.busy": "2022-09-07T19:23:55.173034Z",
     "iopub.status.idle": "2022-09-07T19:23:57.736822Z",
     "shell.execute_reply": "2022-09-07T19:23:57.736000Z"
    }
   },
   "outputs": [],
   "source": [
    "import os\n",
    "import imageio\n",
    "import scipy as sp\n",
    "import numpy as np\n",
    "import openpnm as op\n",
    "import porespy as ps\n",
    "import matplotlib.pyplot as plt\n",
    "np.set_printoptions(precision=4)\n",
    "np.random.seed(10)\n",
    "%matplotlib inline"
   ]
  },
  {
   "cell_type": "markdown",
   "metadata": {},
   "source": [
    "### Load BreaSandstone Image file"
   ]
  },
  {
   "cell_type": "markdown",
   "metadata": {},
   "source": [
    "Give path to image file and load the image. Please note image should be binarized or in boolean format before performing next steps."
   ]
  },
  {
   "cell_type": "code",
   "execution_count": 2,
   "metadata": {
    "execution": {
     "iopub.execute_input": "2022-09-07T19:23:57.745770Z",
     "iopub.status.busy": "2022-09-07T19:23:57.744461Z",
     "iopub.status.idle": "2022-09-07T19:23:58.648709Z",
     "shell.execute_reply": "2022-09-07T19:23:58.647859Z"
    }
   },
   "outputs": [
    {
     "ename": "FileNotFoundError",
     "evalue": "No such file: '/home/runner/work/OpenPNM/OpenPNM/docs/_fixtures/ICL-Sandstone(Berea)/Berea.tif'",
     "output_type": "error",
     "traceback": [
      "\u001b[0;31m---------------------------------------------------------------------------\u001b[0m",
      "\u001b[0;31mFileNotFoundError\u001b[0m                         Traceback (most recent call last)",
      "Cell \u001b[0;32mIn [2], line 6\u001b[0m\n\u001b[1;32m      4\u001b[0m file \u001b[38;5;241m=\u001b[39m file_name \u001b[38;5;241m+\u001b[39m file_format\n\u001b[1;32m      5\u001b[0m fetch_file \u001b[38;5;241m=\u001b[39m os\u001b[38;5;241m.\u001b[39mpath\u001b[38;5;241m.\u001b[39mjoin(path, file)\n\u001b[0;32m----> 6\u001b[0m im \u001b[38;5;241m=\u001b[39m \u001b[43mimageio\u001b[49m\u001b[38;5;241;43m.\u001b[39;49m\u001b[43mmimread\u001b[49m\u001b[43m(\u001b[49m\u001b[43mfetch_file\u001b[49m\u001b[43m)\u001b[49m\n\u001b[1;32m      7\u001b[0m im \u001b[38;5;241m=\u001b[39m \u001b[38;5;241m~\u001b[39mnp\u001b[38;5;241m.\u001b[39marray(im, dtype\u001b[38;5;241m=\u001b[39m\u001b[38;5;28mbool\u001b[39m)[:\u001b[38;5;241m250\u001b[39m, :\u001b[38;5;241m250\u001b[39m, :\u001b[38;5;241m250\u001b[39m]\n",
      "File \u001b[0;32m/usr/share/miniconda3/envs/test/lib/python3.8/site-packages/imageio/v2.py:292\u001b[0m, in \u001b[0;36mmimread\u001b[0;34m(uri, format, memtest, **kwargs)\u001b[0m\n\u001b[1;32m    290\u001b[0m imopen_args \u001b[38;5;241m=\u001b[39m decypher_format_arg(\u001b[38;5;28mformat\u001b[39m)\n\u001b[1;32m    291\u001b[0m imopen_args[\u001b[38;5;124m\"\u001b[39m\u001b[38;5;124mlegacy_mode\u001b[39m\u001b[38;5;124m\"\u001b[39m] \u001b[38;5;241m=\u001b[39m \u001b[38;5;28;01mTrue\u001b[39;00m\n\u001b[0;32m--> 292\u001b[0m \u001b[38;5;28;01mwith\u001b[39;00m \u001b[43mimopen\u001b[49m\u001b[43m(\u001b[49m\u001b[43muri\u001b[49m\u001b[43m,\u001b[49m\u001b[43m \u001b[49m\u001b[38;5;124;43m\"\u001b[39;49m\u001b[38;5;124;43mrI\u001b[39;49m\u001b[38;5;124;43m\"\u001b[39;49m\u001b[43m,\u001b[49m\u001b[43m \u001b[49m\u001b[38;5;241;43m*\u001b[39;49m\u001b[38;5;241;43m*\u001b[39;49m\u001b[43mimopen_args\u001b[49m\u001b[43m)\u001b[49m \u001b[38;5;28;01mas\u001b[39;00m file:\n\u001b[1;32m    293\u001b[0m     \u001b[38;5;28;01mfor\u001b[39;00m image \u001b[38;5;129;01min\u001b[39;00m file\u001b[38;5;241m.\u001b[39miter(\u001b[38;5;241m*\u001b[39m\u001b[38;5;241m*\u001b[39mkwargs):\n\u001b[1;32m    294\u001b[0m         images\u001b[38;5;241m.\u001b[39mappend(image)\n",
      "File \u001b[0;32m/usr/share/miniconda3/envs/test/lib/python3.8/site-packages/imageio/core/imopen.py:118\u001b[0m, in \u001b[0;36mimopen\u001b[0;34m(uri, io_mode, plugin, extension, format_hint, legacy_mode, **kwargs)\u001b[0m\n\u001b[1;32m    116\u001b[0m     request\u001b[38;5;241m.\u001b[39mformat_hint \u001b[38;5;241m=\u001b[39m format_hint\n\u001b[1;32m    117\u001b[0m \u001b[38;5;28;01melse\u001b[39;00m:\n\u001b[0;32m--> 118\u001b[0m     request \u001b[38;5;241m=\u001b[39m \u001b[43mRequest\u001b[49m\u001b[43m(\u001b[49m\u001b[43muri\u001b[49m\u001b[43m,\u001b[49m\u001b[43m \u001b[49m\u001b[43mio_mode\u001b[49m\u001b[43m,\u001b[49m\u001b[43m \u001b[49m\u001b[43mformat_hint\u001b[49m\u001b[38;5;241;43m=\u001b[39;49m\u001b[43mformat_hint\u001b[49m\u001b[43m,\u001b[49m\u001b[43m \u001b[49m\u001b[43mextension\u001b[49m\u001b[38;5;241;43m=\u001b[39;49m\u001b[43mextension\u001b[49m\u001b[43m)\u001b[49m\n\u001b[1;32m    120\u001b[0m source \u001b[38;5;241m=\u001b[39m \u001b[38;5;124m\"\u001b[39m\u001b[38;5;124m<bytes>\u001b[39m\u001b[38;5;124m\"\u001b[39m \u001b[38;5;28;01mif\u001b[39;00m \u001b[38;5;28misinstance\u001b[39m(uri, \u001b[38;5;28mbytes\u001b[39m) \u001b[38;5;28;01melse\u001b[39;00m uri\n\u001b[1;32m    122\u001b[0m \u001b[38;5;66;03m# fast-path based on plugin\u001b[39;00m\n\u001b[1;32m    123\u001b[0m \u001b[38;5;66;03m# (except in legacy mode)\u001b[39;00m\n",
      "File \u001b[0;32m/usr/share/miniconda3/envs/test/lib/python3.8/site-packages/imageio/core/request.py:248\u001b[0m, in \u001b[0;36mRequest.__init__\u001b[0;34m(self, uri, mode, extension, format_hint, **kwargs)\u001b[0m\n\u001b[1;32m    245\u001b[0m     \u001b[38;5;28;01mraise\u001b[39;00m \u001b[38;5;167;01mValueError\u001b[39;00m(\u001b[38;5;124mf\u001b[39m\u001b[38;5;124m\"\u001b[39m\u001b[38;5;124mInvalid Request.Mode: \u001b[39m\u001b[38;5;132;01m{\u001b[39;00mmode\u001b[38;5;132;01m}\u001b[39;00m\u001b[38;5;124m\"\u001b[39m)\n\u001b[1;32m    247\u001b[0m \u001b[38;5;66;03m# Parse what was given\u001b[39;00m\n\u001b[0;32m--> 248\u001b[0m \u001b[38;5;28;43mself\u001b[39;49m\u001b[38;5;241;43m.\u001b[39;49m\u001b[43m_parse_uri\u001b[49m\u001b[43m(\u001b[49m\u001b[43muri\u001b[49m\u001b[43m)\u001b[49m\n\u001b[1;32m    250\u001b[0m \u001b[38;5;66;03m# Set extension\u001b[39;00m\n\u001b[1;32m    251\u001b[0m \u001b[38;5;28;01mif\u001b[39;00m extension \u001b[38;5;129;01mis\u001b[39;00m \u001b[38;5;129;01mnot\u001b[39;00m \u001b[38;5;28;01mNone\u001b[39;00m:\n",
      "File \u001b[0;32m/usr/share/miniconda3/envs/test/lib/python3.8/site-packages/imageio/core/request.py:407\u001b[0m, in \u001b[0;36mRequest._parse_uri\u001b[0;34m(self, uri)\u001b[0m\n\u001b[1;32m    404\u001b[0m \u001b[38;5;28;01mif\u001b[39;00m is_read_request:\n\u001b[1;32m    405\u001b[0m     \u001b[38;5;66;03m# Reading: check that the file exists (but is allowed a dir)\u001b[39;00m\n\u001b[1;32m    406\u001b[0m     \u001b[38;5;28;01mif\u001b[39;00m \u001b[38;5;129;01mnot\u001b[39;00m os\u001b[38;5;241m.\u001b[39mpath\u001b[38;5;241m.\u001b[39mexists(fn):\n\u001b[0;32m--> 407\u001b[0m         \u001b[38;5;28;01mraise\u001b[39;00m \u001b[38;5;167;01mFileNotFoundError\u001b[39;00m(\u001b[38;5;124m\"\u001b[39m\u001b[38;5;124mNo such file: \u001b[39m\u001b[38;5;124m'\u001b[39m\u001b[38;5;132;01m%s\u001b[39;00m\u001b[38;5;124m'\u001b[39m\u001b[38;5;124m\"\u001b[39m \u001b[38;5;241m%\u001b[39m fn)\n\u001b[1;32m    408\u001b[0m \u001b[38;5;28;01melse\u001b[39;00m:\n\u001b[1;32m    409\u001b[0m     \u001b[38;5;66;03m# Writing: check that the directory to write to does exist\u001b[39;00m\n\u001b[1;32m    410\u001b[0m     dn \u001b[38;5;241m=\u001b[39m os\u001b[38;5;241m.\u001b[39mpath\u001b[38;5;241m.\u001b[39mdirname(fn)\n",
      "\u001b[0;31mFileNotFoundError\u001b[0m: No such file: '/home/runner/work/OpenPNM/OpenPNM/docs/_fixtures/ICL-Sandstone(Berea)/Berea.tif'"
     ]
    }
   ],
   "source": [
    "path = '../../_fixtures/ICL-Sandstone(Berea)/'\n",
    "file_format = '.tif'\n",
    "file_name = 'Berea'\n",
    "file = file_name + file_format\n",
    "fetch_file = os.path.join(path, file)\n",
    "im = imageio.mimread(fetch_file)\n",
    "im = ~np.array(im, dtype=bool)[:250, :250, :250]  # Make image a bit smaller"
   ]
  },
  {
   "cell_type": "markdown",
   "metadata": {},
   "source": [
    "### Confirm image and check image porosity\n",
    "Be patient, this might take ~30 seconds (depending on your CPU)"
   ]
  },
  {
   "cell_type": "code",
   "execution_count": 3,
   "metadata": {
    "execution": {
     "iopub.execute_input": "2022-09-07T19:23:58.653974Z",
     "iopub.status.busy": "2022-09-07T19:23:58.652790Z",
     "iopub.status.idle": "2022-09-07T19:23:59.084980Z",
     "shell.execute_reply": "2022-09-07T19:23:59.084310Z"
    }
   },
   "outputs": [
    {
     "ename": "NameError",
     "evalue": "name 'im' is not defined",
     "output_type": "error",
     "traceback": [
      "\u001b[0;31m---------------------------------------------------------------------------\u001b[0m",
      "\u001b[0;31mNameError\u001b[0m                                 Traceback (most recent call last)",
      "Cell \u001b[0;32mIn [3], line 3\u001b[0m\n\u001b[1;32m      1\u001b[0m \u001b[38;5;66;03m# NBVAL_IGNORE_OUTPUT\u001b[39;00m\n\u001b[1;32m      2\u001b[0m fig, ax \u001b[38;5;241m=\u001b[39m plt\u001b[38;5;241m.\u001b[39msubplots(\u001b[38;5;241m1\u001b[39m, \u001b[38;5;241m3\u001b[39m, figsize\u001b[38;5;241m=\u001b[39m(\u001b[38;5;241m12\u001b[39m,\u001b[38;5;241m5\u001b[39m))\n\u001b[0;32m----> 3\u001b[0m ax[\u001b[38;5;241m0\u001b[39m]\u001b[38;5;241m.\u001b[39mimshow(\u001b[43mim\u001b[49m[:, :, \u001b[38;5;241m100\u001b[39m]);\n\u001b[1;32m      4\u001b[0m ax[\u001b[38;5;241m1\u001b[39m]\u001b[38;5;241m.\u001b[39mimshow(ps\u001b[38;5;241m.\u001b[39mvisualization\u001b[38;5;241m.\u001b[39mshow_3D(im));\n\u001b[1;32m      5\u001b[0m ax[\u001b[38;5;241m2\u001b[39m]\u001b[38;5;241m.\u001b[39mimshow(ps\u001b[38;5;241m.\u001b[39mvisualization\u001b[38;5;241m.\u001b[39msem(im));\n",
      "\u001b[0;31mNameError\u001b[0m: name 'im' is not defined"
     ]
    },
    {
     "data": {
      "image/png": "[encoded data removed]",
      "text/plain": [
       "<Figure size 1200x500 with 3 Axes>"
      ]
     },
     "metadata": {},
     "output_type": "display_data"
    }
   ],
   "source": [
    "# NBVAL_IGNORE_OUTPUT\n",
    "fig, ax = plt.subplots(1, 3, figsize=(12,5))\n",
    "ax[0].imshow(im[:, :, 100]);\n",
    "ax[1].imshow(ps.visualization.show_3D(im));\n",
    "ax[2].imshow(ps.visualization.sem(im));\n",
    "ax[0].set_title(\"Slice No. 100 View\");\n",
    "ax[1].set_title(\"3D Sketch\");\n",
    "ax[2].set_title(\"SEM View\");"
   ]
  },
  {
   "cell_type": "code",
   "execution_count": 4,
   "metadata": {
    "execution": {
     "iopub.execute_input": "2022-09-07T19:23:59.090047Z",
     "iopub.status.busy": "2022-09-07T19:23:59.088718Z",
     "iopub.status.idle": "2022-09-07T19:23:59.105828Z",
     "shell.execute_reply": "2022-09-07T19:23:59.105199Z"
    }
   },
   "outputs": [
    {
     "ename": "NameError",
     "evalue": "name 'im' is not defined",
     "output_type": "error",
     "traceback": [
      "\u001b[0;31m---------------------------------------------------------------------------\u001b[0m",
      "\u001b[0;31mNameError\u001b[0m                                 Traceback (most recent call last)",
      "Cell \u001b[0;32mIn [4], line 1\u001b[0m\n\u001b[0;32m----> 1\u001b[0m \u001b[38;5;28mprint\u001b[39m(ps\u001b[38;5;241m.\u001b[39mmetrics\u001b[38;5;241m.\u001b[39mporosity(\u001b[43mim\u001b[49m))\n",
      "\u001b[0;31mNameError\u001b[0m: name 'im' is not defined"
     ]
    }
   ],
   "source": [
    "print(ps.metrics.porosity(im))"
   ]
  },
  {
   "cell_type": "markdown",
   "metadata": {},
   "source": [
    "### Extract pore network using SNOW algorithm in PoreSpy"
   ]
  },
  {
   "cell_type": "markdown",
   "metadata": {},
   "source": [
    "The SNOW algorithm (an accronym for Sub-Network from an Oversegmented Watershed) was presented by [Gostick](https://journals.aps.org/pre/abstract/10.1103/PhysRevE.96.023307). The algorithm was used to extract pore network from BereaSandstone image."
   ]
  },
  {
   "cell_type": "code",
   "execution_count": 5,
   "metadata": {
    "execution": {
     "iopub.execute_input": "2022-09-07T19:23:59.111099Z",
     "iopub.status.busy": "2022-09-07T19:23:59.109876Z",
     "iopub.status.idle": "2022-09-07T19:23:59.132534Z",
     "shell.execute_reply": "2022-09-07T19:23:59.131838Z"
    }
   },
   "outputs": [
    {
     "ename": "NameError",
     "evalue": "name 'im' is not defined",
     "output_type": "error",
     "traceback": [
      "\u001b[0;31m---------------------------------------------------------------------------\u001b[0m",
      "\u001b[0;31mNameError\u001b[0m                                 Traceback (most recent call last)",
      "Cell \u001b[0;32mIn [5], line 3\u001b[0m\n\u001b[1;32m      1\u001b[0m \u001b[38;5;66;03m# NBVAL_IGNORE_OUTPUT\u001b[39;00m\n\u001b[1;32m      2\u001b[0m resolution \u001b[38;5;241m=\u001b[39m \u001b[38;5;241m5.345e-6\u001b[39m\n\u001b[0;32m----> 3\u001b[0m snow \u001b[38;5;241m=\u001b[39m ps\u001b[38;5;241m.\u001b[39mnetworks\u001b[38;5;241m.\u001b[39msnow2(\u001b[43mim\u001b[49m, voxel_size\u001b[38;5;241m=\u001b[39mresolution)\n",
      "\u001b[0;31mNameError\u001b[0m: name 'im' is not defined"
     ]
    }
   ],
   "source": [
    "# NBVAL_IGNORE_OUTPUT\n",
    "resolution = 5.345e-6\n",
    "snow = ps.networks.snow2(im, voxel_size=resolution)"
   ]
  },
  {
   "cell_type": "markdown",
   "metadata": {},
   "source": [
    "### Import network in OpenPNM"
   ]
  },
  {
   "cell_type": "markdown",
   "metadata": {},
   "source": [
    "The output from the SNOW algorithm above is a plain python dictionary containing all the extracted pore-scale data, but it is NOT yet an OpenPNM network. We need to create an empty network in OpenPNM, then populate it with the data from SNOW:"
   ]
  },
  {
   "cell_type": "code",
   "execution_count": 6,
   "metadata": {
    "execution": {
     "iopub.execute_input": "2022-09-07T19:23:59.137782Z",
     "iopub.status.busy": "2022-09-07T19:23:59.136580Z",
     "iopub.status.idle": "2022-09-07T19:23:59.156455Z",
     "shell.execute_reply": "2022-09-07T19:23:59.155688Z"
    }
   },
   "outputs": [
    {
     "ename": "AttributeError",
     "evalue": "module 'openpnm.io' has no attribute 'PoreSpy'",
     "output_type": "error",
     "traceback": [
      "\u001b[0;31m---------------------------------------------------------------------------\u001b[0m",
      "\u001b[0;31mAttributeError\u001b[0m                            Traceback (most recent call last)",
      "Cell \u001b[0;32mIn [6], line 5\u001b[0m\n\u001b[1;32m      1\u001b[0m settings \u001b[38;5;241m=\u001b[39m {\u001b[38;5;124m'\u001b[39m\u001b[38;5;124mpore_shape\u001b[39m\u001b[38;5;124m'\u001b[39m: \u001b[38;5;124m'\u001b[39m\u001b[38;5;124mpyramid\u001b[39m\u001b[38;5;124m'\u001b[39m,\n\u001b[1;32m      2\u001b[0m             \u001b[38;5;124m'\u001b[39m\u001b[38;5;124mthroat_shape\u001b[39m\u001b[38;5;124m'\u001b[39m: \u001b[38;5;124m'\u001b[39m\u001b[38;5;124mcuboid\u001b[39m\u001b[38;5;124m'\u001b[39m,\n\u001b[1;32m      3\u001b[0m             \u001b[38;5;124m'\u001b[39m\u001b[38;5;124mpore_diameter\u001b[39m\u001b[38;5;124m'\u001b[39m: \u001b[38;5;124m'\u001b[39m\u001b[38;5;124mequivalent_diameter\u001b[39m\u001b[38;5;124m'\u001b[39m,\n\u001b[1;32m      4\u001b[0m             \u001b[38;5;124m'\u001b[39m\u001b[38;5;124mthroat_diameter\u001b[39m\u001b[38;5;124m'\u001b[39m: \u001b[38;5;124m'\u001b[39m\u001b[38;5;124minscribed_diameter\u001b[39m\u001b[38;5;124m'\u001b[39m}\n\u001b[0;32m----> 5\u001b[0m pn, geo \u001b[38;5;241m=\u001b[39m \u001b[43mop\u001b[49m\u001b[38;5;241;43m.\u001b[39;49m\u001b[43mio\u001b[49m\u001b[38;5;241;43m.\u001b[39;49m\u001b[43mPoreSpy\u001b[49m\u001b[38;5;241m.\u001b[39mimport_data(snow\u001b[38;5;241m.\u001b[39mnetwork, settings\u001b[38;5;241m=\u001b[39msettings)\n",
      "\u001b[0;31mAttributeError\u001b[0m: module 'openpnm.io' has no attribute 'PoreSpy'"
     ]
    }
   ],
   "source": [
    "settings = {'pore_shape': 'pyramid',\n",
    "            'throat_shape': 'cuboid',\n",
    "            'pore_diameter': 'equivalent_diameter',\n",
    "            'throat_diameter': 'inscribed_diameter'}\n",
    "pn, geo = op.io.PoreSpy.import_data(snow.network, settings=settings)"
   ]
  },
  {
   "cell_type": "markdown",
   "metadata": {},
   "source": [
    "Now we can print the network to see how the transferred worked.\n",
    "\n",
    "> Note to developers:  We need to ignore the output of the following cell since the number of pores differs depending on whether the code is run on a windows or linux machine.  "
   ]
  },
  {
   "cell_type": "code",
   "execution_count": 7,
   "metadata": {
    "execution": {
     "iopub.execute_input": "2022-09-07T19:23:59.161676Z",
     "iopub.status.busy": "2022-09-07T19:23:59.160314Z",
     "iopub.status.idle": "2022-09-07T19:23:59.176993Z",
     "shell.execute_reply": "2022-09-07T19:23:59.176267Z"
    }
   },
   "outputs": [
    {
     "ename": "NameError",
     "evalue": "name 'pn' is not defined",
     "output_type": "error",
     "traceback": [
      "\u001b[0;31m---------------------------------------------------------------------------\u001b[0m",
      "\u001b[0;31mNameError\u001b[0m                                 Traceback (most recent call last)",
      "Cell \u001b[0;32mIn [7], line 2\u001b[0m\n\u001b[1;32m      1\u001b[0m \u001b[38;5;66;03m# NBVAL_IGNORE_OUTPUT\u001b[39;00m\n\u001b[0;32m----> 2\u001b[0m \u001b[38;5;28mprint\u001b[39m(\u001b[43mpn\u001b[49m)\n",
      "\u001b[0;31mNameError\u001b[0m: name 'pn' is not defined"
     ]
    }
   ],
   "source": [
    "# NBVAL_IGNORE_OUTPUT\n",
    "print(pn)"
   ]
  },
  {
   "cell_type": "markdown",
   "metadata": {},
   "source": [
    "### Check network health"
   ]
  },
  {
   "cell_type": "markdown",
   "metadata": {},
   "source": [
    "Remove isolated pores or cluster of pores from the network by checking it network health. Make sure ALL keys in network health functions have no value. "
   ]
  },
  {
   "cell_type": "code",
   "execution_count": 8,
   "metadata": {
    "execution": {
     "iopub.execute_input": "2022-09-07T19:23:59.181323Z",
     "iopub.status.busy": "2022-09-07T19:23:59.180777Z",
     "iopub.status.idle": "2022-09-07T19:23:59.211553Z",
     "shell.execute_reply": "2022-09-07T19:23:59.210825Z"
    }
   },
   "outputs": [
    {
     "ename": "NameError",
     "evalue": "name 'pn' is not defined",
     "output_type": "error",
     "traceback": [
      "\u001b[0;31m---------------------------------------------------------------------------\u001b[0m",
      "\u001b[0;31mNameError\u001b[0m                                 Traceback (most recent call last)",
      "Cell \u001b[0;32mIn [8], line 1\u001b[0m\n\u001b[0;32m----> 1\u001b[0m h \u001b[38;5;241m=\u001b[39m \u001b[43mpn\u001b[49m\u001b[38;5;241m.\u001b[39mcheck_network_health()\n\u001b[1;32m      2\u001b[0m op\u001b[38;5;241m.\u001b[39mtopotools\u001b[38;5;241m.\u001b[39mtrim(network\u001b[38;5;241m=\u001b[39mpn, pores\u001b[38;5;241m=\u001b[39mh[\u001b[38;5;124m'\u001b[39m\u001b[38;5;124mtrim_pores\u001b[39m\u001b[38;5;124m'\u001b[39m])\n\u001b[1;32m      3\u001b[0m h \u001b[38;5;241m=\u001b[39m pn\u001b[38;5;241m.\u001b[39mcheck_network_health()\n",
      "\u001b[0;31mNameError\u001b[0m: name 'pn' is not defined"
     ]
    }
   ],
   "source": [
    "h = pn.check_network_health()\n",
    "op.topotools.trim(network=pn, pores=h['trim_pores'])\n",
    "h = pn.check_network_health()\n",
    "print(h)"
   ]
  },
  {
   "cell_type": "markdown",
   "metadata": {},
   "source": [
    "### Assign phase"
   ]
  },
  {
   "cell_type": "markdown",
   "metadata": {},
   "source": [
    "In this example air is considered as fluid passing through porous channels. "
   ]
  },
  {
   "cell_type": "code",
   "execution_count": 9,
   "metadata": {
    "execution": {
     "iopub.execute_input": "2022-09-07T19:23:59.216781Z",
     "iopub.status.busy": "2022-09-07T19:23:59.215478Z",
     "iopub.status.idle": "2022-09-07T19:23:59.251486Z",
     "shell.execute_reply": "2022-09-07T19:23:59.250752Z"
    }
   },
   "outputs": [
    {
     "ename": "AttributeError",
     "evalue": "module 'openpnm' has no attribute 'phases'",
     "output_type": "error",
     "traceback": [
      "\u001b[0;31m---------------------------------------------------------------------------\u001b[0m",
      "\u001b[0;31mAttributeError\u001b[0m                            Traceback (most recent call last)",
      "Cell \u001b[0;32mIn [9], line 1\u001b[0m\n\u001b[0;32m----> 1\u001b[0m air \u001b[38;5;241m=\u001b[39m \u001b[43mop\u001b[49m\u001b[38;5;241;43m.\u001b[39;49m\u001b[43mphases\u001b[49m\u001b[38;5;241m.\u001b[39mAir(network\u001b[38;5;241m=\u001b[39mpn)\n",
      "\u001b[0;31mAttributeError\u001b[0m: module 'openpnm' has no attribute 'phases'"
     ]
    }
   ],
   "source": [
    "air = op.phases.Air(network=pn)"
   ]
  },
  {
   "cell_type": "markdown",
   "metadata": {},
   "source": [
    "### Assign physics"
   ]
  },
  {
   "cell_type": "code",
   "execution_count": 10,
   "metadata": {
    "execution": {
     "iopub.execute_input": "2022-09-07T19:23:59.269583Z",
     "iopub.status.busy": "2022-09-07T19:23:59.269330Z",
     "iopub.status.idle": "2022-09-07T19:23:59.304207Z",
     "shell.execute_reply": "2022-09-07T19:23:59.303449Z"
    }
   },
   "outputs": [
    {
     "ename": "AttributeError",
     "evalue": "module 'openpnm' has no attribute 'physics'",
     "output_type": "error",
     "traceback": [
      "\u001b[0;31m---------------------------------------------------------------------------\u001b[0m",
      "\u001b[0;31mAttributeError\u001b[0m                            Traceback (most recent call last)",
      "Cell \u001b[0;32mIn [10], line 1\u001b[0m\n\u001b[0;32m----> 1\u001b[0m phys_air \u001b[38;5;241m=\u001b[39m \u001b[43mop\u001b[49m\u001b[38;5;241;43m.\u001b[39;49m\u001b[43mphysics\u001b[49m\u001b[38;5;241m.\u001b[39mBasic(network\u001b[38;5;241m=\u001b[39mpn, phase\u001b[38;5;241m=\u001b[39mair, geometry\u001b[38;5;241m=\u001b[39mgeo)\n",
      "\u001b[0;31mAttributeError\u001b[0m: module 'openpnm' has no attribute 'physics'"
     ]
    }
   ],
   "source": [
    "phys_air = op.physics.Basic(network=pn, phase=air, geometry=geo)"
   ]
  },
  {
   "cell_type": "markdown",
   "metadata": {},
   "source": [
    "### Assign Algorithm and boundary conditions"
   ]
  },
  {
   "cell_type": "markdown",
   "metadata": {},
   "source": [
    "Select stokes flow algorithm for simulation and assign dirichlet boundary conditions in top and bottom faces of the network."
   ]
  },
  {
   "cell_type": "code",
   "execution_count": 11,
   "metadata": {
    "execution": {
     "iopub.execute_input": "2022-09-07T19:23:59.308072Z",
     "iopub.status.busy": "2022-09-07T19:23:59.307823Z",
     "iopub.status.idle": "2022-09-07T19:23:59.338128Z",
     "shell.execute_reply": "2022-09-07T19:23:59.337396Z"
    }
   },
   "outputs": [
    {
     "ename": "NameError",
     "evalue": "name 'pn' is not defined",
     "output_type": "error",
     "traceback": [
      "\u001b[0;31m---------------------------------------------------------------------------\u001b[0m",
      "\u001b[0;31mNameError\u001b[0m                                 Traceback (most recent call last)",
      "Cell \u001b[0;32mIn [11], line 1\u001b[0m\n\u001b[0;32m----> 1\u001b[0m perm \u001b[38;5;241m=\u001b[39m op\u001b[38;5;241m.\u001b[39malgorithms\u001b[38;5;241m.\u001b[39mStokesFlow(network\u001b[38;5;241m=\u001b[39m\u001b[43mpn\u001b[49m, phase\u001b[38;5;241m=\u001b[39mair)\n\u001b[1;32m      2\u001b[0m perm\u001b[38;5;241m.\u001b[39mset_value_BC(pores\u001b[38;5;241m=\u001b[39mpn\u001b[38;5;241m.\u001b[39mpores(\u001b[38;5;124m'\u001b[39m\u001b[38;5;124mzmax\u001b[39m\u001b[38;5;124m'\u001b[39m), values\u001b[38;5;241m=\u001b[39m\u001b[38;5;241m0\u001b[39m)\n\u001b[1;32m      3\u001b[0m perm\u001b[38;5;241m.\u001b[39mset_value_BC(pores\u001b[38;5;241m=\u001b[39mpn\u001b[38;5;241m.\u001b[39mpores(\u001b[38;5;124m'\u001b[39m\u001b[38;5;124mzmin\u001b[39m\u001b[38;5;124m'\u001b[39m), values\u001b[38;5;241m=\u001b[39m\u001b[38;5;241m101325\u001b[39m)\n",
      "\u001b[0;31mNameError\u001b[0m: name 'pn' is not defined"
     ]
    }
   ],
   "source": [
    "perm = op.algorithms.StokesFlow(network=pn, phase=air)\n",
    "perm.set_value_BC(pores=pn.pores('zmax'), values=0)\n",
    "perm.set_value_BC(pores=pn.pores('zmin'), values=101325)\n",
    "perm.run()\n",
    "air.update(perm.results())"
   ]
  },
  {
   "cell_type": "markdown",
   "metadata": {},
   "source": [
    "### Calculate effective permeability"
   ]
  },
  {
   "cell_type": "markdown",
   "metadata": {},
   "source": [
    "Caclulate effective permeablity using hagen poiseuille equation. Use cross section area and flow length manually from image dimension. "
   ]
  },
  {
   "cell_type": "code",
   "execution_count": 12,
   "metadata": {
    "execution": {
     "iopub.execute_input": "2022-09-07T19:23:59.343925Z",
     "iopub.status.busy": "2022-09-07T19:23:59.342610Z",
     "iopub.status.idle": "2022-09-07T19:23:59.366339Z",
     "shell.execute_reply": "2022-09-07T19:23:59.365605Z"
    }
   },
   "outputs": [
    {
     "ename": "NameError",
     "evalue": "name 'perm' is not defined",
     "output_type": "error",
     "traceback": [
      "\u001b[0;31m---------------------------------------------------------------------------\u001b[0m",
      "\u001b[0;31mNameError\u001b[0m                                 Traceback (most recent call last)",
      "Cell \u001b[0;32mIn [12], line 2\u001b[0m\n\u001b[1;32m      1\u001b[0m resolution \u001b[38;5;241m=\u001b[39m \u001b[38;5;241m5.345e-6\u001b[39m\n\u001b[0;32m----> 2\u001b[0m Q \u001b[38;5;241m=\u001b[39m \u001b[43mperm\u001b[49m\u001b[38;5;241m.\u001b[39mrate(pores\u001b[38;5;241m=\u001b[39mpn\u001b[38;5;241m.\u001b[39mpores(\u001b[38;5;124m'\u001b[39m\u001b[38;5;124mzmin\u001b[39m\u001b[38;5;124m'\u001b[39m), mode\u001b[38;5;241m=\u001b[39m\u001b[38;5;124m'\u001b[39m\u001b[38;5;124mgroup\u001b[39m\u001b[38;5;124m'\u001b[39m)[\u001b[38;5;241m0\u001b[39m]\n\u001b[1;32m      3\u001b[0m A \u001b[38;5;241m=\u001b[39m (im\u001b[38;5;241m.\u001b[39mshape[\u001b[38;5;241m0\u001b[39m] \u001b[38;5;241m*\u001b[39m im\u001b[38;5;241m.\u001b[39mshape[\u001b[38;5;241m1\u001b[39m]) \u001b[38;5;241m*\u001b[39m resolution\u001b[38;5;241m*\u001b[39m\u001b[38;5;241m*\u001b[39m\u001b[38;5;241m2\u001b[39m\n\u001b[1;32m      4\u001b[0m L \u001b[38;5;241m=\u001b[39m im\u001b[38;5;241m.\u001b[39mshape[\u001b[38;5;241m2\u001b[39m] \u001b[38;5;241m*\u001b[39m resolution\n",
      "\u001b[0;31mNameError\u001b[0m: name 'perm' is not defined"
     ]
    }
   ],
   "source": [
    "resolution = 5.345e-6\n",
    "Q = perm.rate(pores=pn.pores('zmin'), mode='group')[0]\n",
    "A = (im.shape[0] * im.shape[1]) * resolution**2\n",
    "L = im.shape[2] * resolution\n",
    "mu = air['pore.viscosity'].max()\n",
    "delta_P = 101325 - 0\n",
    "K = Q * L * mu / (A * delta_P)"
   ]
  },
  {
   "cell_type": "markdown",
   "metadata": {},
   "source": [
    "> Note to developers:  We need to ignore the output of the following cell since the results are slightly different on different platforms (windows vs linux)"
   ]
  },
  {
   "cell_type": "code",
   "execution_count": 13,
   "metadata": {
    "execution": {
     "iopub.execute_input": "2022-09-07T19:23:59.372699Z",
     "iopub.status.busy": "2022-09-07T19:23:59.370391Z",
     "iopub.status.idle": "2022-09-07T19:23:59.389637Z",
     "shell.execute_reply": "2022-09-07T19:23:59.388904Z"
    }
   },
   "outputs": [
    {
     "ename": "NameError",
     "evalue": "name 'K' is not defined",
     "output_type": "error",
     "traceback": [
      "\u001b[0;31m---------------------------------------------------------------------------\u001b[0m",
      "\u001b[0;31mNameError\u001b[0m                                 Traceback (most recent call last)",
      "Cell \u001b[0;32mIn [13], line 2\u001b[0m\n\u001b[1;32m      1\u001b[0m \u001b[38;5;66;03m# NBVAL_IGNORE_OUTPUT\u001b[39;00m\n\u001b[0;32m----> 2\u001b[0m \u001b[38;5;28mprint\u001b[39m(\u001b[38;5;124mf\u001b[39m\u001b[38;5;124m'\u001b[39m\u001b[38;5;124mThe value of K is: \u001b[39m\u001b[38;5;132;01m{\u001b[39;00mK\u001b[38;5;241m/\u001b[39m\u001b[38;5;241m0.98e-12\u001b[39m\u001b[38;5;241m*\u001b[39m\u001b[38;5;241m1000\u001b[39m\u001b[38;5;132;01m:\u001b[39;00m\u001b[38;5;124m.2f\u001b[39m\u001b[38;5;132;01m}\u001b[39;00m\u001b[38;5;124m mD\u001b[39m\u001b[38;5;124m'\u001b[39m)\n",
      "\u001b[0;31mNameError\u001b[0m: name 'K' is not defined"
     ]
    }
   ],
   "source": [
    "# NBVAL_IGNORE_OUTPUT\n",
    "print(f'The value of K is: {K/0.98e-12*1000:.2f} mD')"
   ]
  }
 ],
 "metadata": {
  "@webio": {
   "lastCommId": null,
   "lastKernelId": null
  },
  "hide_input": false,
  "kernelspec": {
   "display_name": "Python 3",
   "language": "python",
   "name": "python3"
  },
  "language_info": {
   "codemirror_mode": {
    "name": "ipython",
    "version": 3
   },
   "file_extension": ".py",
   "mimetype": "text/x-python",
   "name": "python",
   "nbconvert_exporter": "python",
   "pygments_lexer": "ipython3",
   "version": "3.8.13"
  }
 },
 "nbformat": 4,
 "nbformat_minor": 2
}
