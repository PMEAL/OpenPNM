{
 "cells": [
  {
   "cell_type": "markdown",
   "metadata": {},
   "source": [
    "# Fibrous Media with Voronoi Tessellations\n",
    "## Generating a Fibrous Media Network using VoronoiFibers from the Materials Module\n",
    "\n",
    "## Getting Started\n",
    "\n",
    "In this tutorial, we will demonstrate concepts of random pore network modelling outlined in [J.T. Gostick's 2013 paper](http://jes.ecsdl.org/cgi/doi/10.1149/2.009308jes) and subsequently used in some of our other papers investigating fuel cell gas diffusion layer compression [Tranter et. al 2016](https://onlinelibrary.wiley.com/doi/abs/10.1002/fuce.201500168) and capillary hysteresis [Tranter et. al 2017](http://link.springer.com/10.1007/s11242-017-0973-2). \n",
    "\n",
    "## Background\n",
    "\n",
    "Pores are randomly dispersed inside the domain and connections are defined by the nearest neighbour Delaunay triangulation algorithm. The [Voronoi diagram](https://en.wikipedia.org/wiki/Voronoi_diagram) is the compliment to the [Delaunay triangulation](https://en.wikipedia.org/wiki/Delaunay_triangulation) and is used to replicate the fibres in a porous domain such as a fuel cell GDL. Each pore is surrounded by a cage of fibres which are created from the intersections of the equidistant planes between neighbouring pores. Where the planes intersect, a Voronoi vertex is created. A throat is defined by a set of vertices which are shared by two neighbouring pores. The throat vertices will be coplanar and the throat normal is the vector from one pore's coordinate to the other. N.B this coordinate is not the pore centroid but can be close if the shape of the cage is near spherical. The vertices are used by the Voronoi geometry model which creates a 3D image of the fibres using a supplied fibre radius. Image analysis is then performed to extract pore and throat sizes by using the convex hull of the pore and throat vertices.\n",
    "\n",
    "## Materials Module\n",
    "The ``materials`` module was added to OpenPNM in V2.  It solves the problem that often the network topology and the geometry are coupled.  For instance, a sandstone might have an average pore size of 20 um, and they should be spaced apart 100 um.  The pore sizes are dictated by the Geometry class and the spacing is controlled by the Network class.  Thus, in order to get an accurate network model, users must define these both correctly.  The aim of the Materials module was to create a network and geometry at the same time to remove this possible confusion.  Classes in the Materials module actually return a Project object, which contains *both* the network and the geometry, with all properties predefined as needed.  The Voronoi fibers class does this as well."
   ]
  },
  {
   "cell_type": "markdown",
   "metadata": {},
   "source": [
    "## Setting up Network and Geometry\n",
    "\n",
    "We first import the OpenPNM code, including a utility submodule which has useful functions for working with the ```Voronoi``` classes:"
   ]
  },
  {
   "cell_type": "code",
   "execution_count": 1,
   "metadata": {
    "execution": {
     "iopub.execute_input": "2022-09-07T19:23:16.074554Z",
     "iopub.status.busy": "2022-09-07T19:23:16.074093Z",
     "iopub.status.idle": "2022-09-07T19:23:17.909963Z",
     "shell.execute_reply": "2022-09-07T19:23:17.909151Z"
    }
   },
   "outputs": [],
   "source": [
    "import numpy as np\n",
    "import scipy as sp\n",
    "import openpnm as op\n",
    "%config InlineBackend.figure_formats = ['svg']\n",
    "import matplotlib.pyplot as plt\n",
    "np.set_printoptions(5)\n",
    "%matplotlib inline\n",
    "np.random.seed(10)"
   ]
  },
  {
   "cell_type": "markdown",
   "metadata": {},
   "source": [
    "Next we instantiate the ```VoronoiFibers``` classsfrom the **Materials** module, with a few parameters: ```points``` defines the number of pores in the bulk network but some may be removed if the ```fiber_rad``` (radius of the fibers in meters) parameter is large compared with the throat diameters as this will lead to occluded throats and possibly isolated pores. The ```resolution``` parameter sets the size of the voxels in meters used in image generation from which many of the geometry properties derive. The ```shape``` parameter sets the size of the bounding box at which the boundary edges are located and this is positioned with lowest point at the origin. Finally the ```name``` parameter is used to subsequently prefix the name of the additional **Geometry** objects that are created in the process.\n",
    "\n",
    "In this example we set the random seed in the scipy package to make sure that random points are repeatedly generated with the same values for illustration. This is not necessary, otherwise."
   ]
  },
  {
   "cell_type": "code",
   "execution_count": 2,
   "metadata": {
    "execution": {
     "iopub.execute_input": "2022-09-07T19:23:17.916027Z",
     "iopub.status.busy": "2022-09-07T19:23:17.914616Z",
     "iopub.status.idle": "2022-09-07T19:23:18.489797Z",
     "shell.execute_reply": "2022-09-07T19:23:18.489096Z"
    }
   },
   "outputs": [
    {
     "ename": "AttributeError",
     "evalue": "module 'openpnm' has no attribute 'materials'",
     "output_type": "error",
     "traceback": [
      "\u001b[0;31m---------------------------------------------------------------------------\u001b[0m",
      "\u001b[0;31mAttributeError\u001b[0m                            Traceback (most recent call last)",
      "Cell \u001b[0;32mIn [2], line 6\u001b[0m\n\u001b[1;32m      4\u001b[0m wrk\u001b[38;5;241m.\u001b[39mclear()\n\u001b[1;32m      5\u001b[0m np\u001b[38;5;241m.\u001b[39mrandom\u001b[38;5;241m.\u001b[39mseed(\u001b[38;5;241m1\u001b[39m)\n\u001b[0;32m----> 6\u001b[0m proj \u001b[38;5;241m=\u001b[39m \u001b[43mop\u001b[49m\u001b[38;5;241;43m.\u001b[39;49m\u001b[43mmaterials\u001b[49m\u001b[38;5;241m.\u001b[39mVoronoiFibers(points\u001b[38;5;241m=\u001b[39m\u001b[38;5;241m100\u001b[39m,\n\u001b[1;32m      7\u001b[0m                                   fiber_rad\u001b[38;5;241m=\u001b[39m\u001b[38;5;241m5e-6\u001b[39m,\n\u001b[1;32m      8\u001b[0m                                   resolution\u001b[38;5;241m=\u001b[39m\u001b[38;5;241m1e-6\u001b[39m,\n\u001b[1;32m      9\u001b[0m                                   shape\u001b[38;5;241m=\u001b[39m[scale, scale, scale],\n\u001b[1;32m     10\u001b[0m                                   name\u001b[38;5;241m=\u001b[39m\u001b[38;5;124m'\u001b[39m\u001b[38;5;124mtest\u001b[39m\u001b[38;5;124m'\u001b[39m)\n",
      "\u001b[0;31mAttributeError\u001b[0m: module 'openpnm' has no attribute 'materials'"
     ]
    }
   ],
   "source": [
    "scale = 1e-4\n",
    "wrk = op.Workspace()\n",
    "wrk.settings['loglevel'] = 50\n",
    "wrk.clear()\n",
    "np.random.seed(1)\n",
    "proj = op.materials.VoronoiFibers(points=100,\n",
    "                                  fiber_rad=5e-6,\n",
    "                                  resolution=1e-6,\n",
    "                                  shape=[scale, scale, scale],\n",
    "                                  name='test')"
   ]
  },
  {
   "cell_type": "markdown",
   "metadata": {},
   "source": [
    "We are returned a handle to the project, which we can see contains three objects.  The network, and two geometries, one for the delaunay pores and one for the voronoi network.  "
   ]
  },
  {
   "cell_type": "code",
   "execution_count": 3,
   "metadata": {
    "execution": {
     "iopub.execute_input": "2022-09-07T19:23:18.524755Z",
     "iopub.status.busy": "2022-09-07T19:23:18.524485Z",
     "iopub.status.idle": "2022-09-07T19:23:18.541126Z",
     "shell.execute_reply": "2022-09-07T19:23:18.540506Z"
    }
   },
   "outputs": [
    {
     "ename": "NameError",
     "evalue": "name 'proj' is not defined",
     "output_type": "error",
     "traceback": [
      "\u001b[0;31m---------------------------------------------------------------------------\u001b[0m",
      "\u001b[0;31mNameError\u001b[0m                                 Traceback (most recent call last)",
      "Cell \u001b[0;32mIn [3], line 1\u001b[0m\n\u001b[0;32m----> 1\u001b[0m \u001b[38;5;28mprint\u001b[39m(\u001b[43mproj\u001b[49m)\n",
      "\u001b[0;31mNameError\u001b[0m: name 'proj' is not defined"
     ]
    }
   ],
   "source": [
    "print(proj)"
   ]
  },
  {
   "cell_type": "markdown",
   "metadata": {},
   "source": [
    "To get access to the geometry objects we must invoke the project object and retrieve them separately"
   ]
  },
  {
   "cell_type": "code",
   "execution_count": 4,
   "metadata": {
    "execution": {
     "iopub.execute_input": "2022-09-07T19:23:18.545595Z",
     "iopub.status.busy": "2022-09-07T19:23:18.544510Z",
     "iopub.status.idle": "2022-09-07T19:23:18.561564Z",
     "shell.execute_reply": "2022-09-07T19:23:18.560950Z"
    }
   },
   "outputs": [
    {
     "ename": "NameError",
     "evalue": "name 'proj' is not defined",
     "output_type": "error",
     "traceback": [
      "\u001b[0;31m---------------------------------------------------------------------------\u001b[0m",
      "\u001b[0;31mNameError\u001b[0m                                 Traceback (most recent call last)",
      "Cell \u001b[0;32mIn [4], line 1\u001b[0m\n\u001b[0;32m----> 1\u001b[0m net \u001b[38;5;241m=\u001b[39m \u001b[43mproj\u001b[49m[\u001b[38;5;124m'\u001b[39m\u001b[38;5;124mtest_net\u001b[39m\u001b[38;5;124m'\u001b[39m]\n\u001b[1;32m      2\u001b[0m del_geom \u001b[38;5;241m=\u001b[39m proj[\u001b[38;5;124m'\u001b[39m\u001b[38;5;124mtest_del\u001b[39m\u001b[38;5;124m'\u001b[39m]\n\u001b[1;32m      3\u001b[0m vor_geom \u001b[38;5;241m=\u001b[39m proj[\u001b[38;5;124m'\u001b[39m\u001b[38;5;124mtest_vor\u001b[39m\u001b[38;5;124m'\u001b[39m]\n",
      "\u001b[0;31mNameError\u001b[0m: name 'proj' is not defined"
     ]
    }
   ],
   "source": [
    "net = proj['test_net']\n",
    "del_geom = proj['test_del']\n",
    "vor_geom = proj['test_vor']"
   ]
  },
  {
   "cell_type": "markdown",
   "metadata": {},
   "source": [
    "As you can see we have more than one geometry. This is because the ```VoronoiFibers``` class has used the ```DelaunayVoronoiDual``` class (covered in another example) which contains pores and throats for the void space in-between fibers assigned to ```del_geom``` and also pores and throats for the fibers themselves which can be used for coupled simulations such as heat transfer assigned to ```vor_geom```. We can at this point delete the pores and throats associated with fibers without impacting the traditional pore network as they are separate and connected by the **interconnect** throats."
   ]
  },
  {
   "cell_type": "code",
   "execution_count": 5,
   "metadata": {
    "execution": {
     "iopub.execute_input": "2022-09-07T19:23:18.566028Z",
     "iopub.status.busy": "2022-09-07T19:23:18.564941Z",
     "iopub.status.idle": "2022-09-07T19:23:18.582493Z",
     "shell.execute_reply": "2022-09-07T19:23:18.581878Z"
    }
   },
   "outputs": [
    {
     "ename": "NameError",
     "evalue": "name 'net' is not defined",
     "output_type": "error",
     "traceback": [
      "\u001b[0;31m---------------------------------------------------------------------------\u001b[0m",
      "\u001b[0;31mNameError\u001b[0m                                 Traceback (most recent call last)",
      "Cell \u001b[0;32mIn [5], line 2\u001b[0m\n\u001b[1;32m      1\u001b[0m \u001b[38;5;28;01mfrom\u001b[39;00m \u001b[38;5;21;01mopenpnm\u001b[39;00m \u001b[38;5;28;01mimport\u001b[39;00m topotools \u001b[38;5;28;01mas\u001b[39;00m tt\n\u001b[0;32m----> 2\u001b[0m tt\u001b[38;5;241m.\u001b[39mtrim(network\u001b[38;5;241m=\u001b[39m\u001b[43mnet\u001b[49m, pores\u001b[38;5;241m=\u001b[39mnet\u001b[38;5;241m.\u001b[39mpores(\u001b[38;5;124m'\u001b[39m\u001b[38;5;124mvoronoi\u001b[39m\u001b[38;5;124m'\u001b[39m))\n\u001b[1;32m      3\u001b[0m \u001b[38;5;28mprint\u001b[39m(net)\n",
      "\u001b[0;31mNameError\u001b[0m: name 'net' is not defined"
     ]
    }
   ],
   "source": [
    "from openpnm import topotools as tt\n",
    "tt.trim(network=net, pores=net.pores('voronoi'))\n",
    "print(net)"
   ]
  },
  {
   "cell_type": "markdown",
   "metadata": {},
   "source": [
    "Note that trimming the **voronoi** pores has also trimmed the **interconnect** and **voronoi** throats as one or both of the pores that the throats connect have been removed, respectively. \n",
    "\n",
    "We can now inspect the material visually using some functions on the network object:"
   ]
  },
  {
   "cell_type": "code",
   "execution_count": 6,
   "metadata": {
    "execution": {
     "iopub.execute_input": "2022-09-07T19:23:18.587019Z",
     "iopub.status.busy": "2022-09-07T19:23:18.585921Z",
     "iopub.status.idle": "2022-09-07T19:23:18.602718Z",
     "shell.execute_reply": "2022-09-07T19:23:18.602074Z"
    }
   },
   "outputs": [
    {
     "ename": "NameError",
     "evalue": "name 'del_geom' is not defined",
     "output_type": "error",
     "traceback": [
      "\u001b[0;31m---------------------------------------------------------------------------\u001b[0m",
      "\u001b[0;31mNameError\u001b[0m                                 Traceback (most recent call last)",
      "Cell \u001b[0;32mIn [6], line 1\u001b[0m\n\u001b[0;32m----> 1\u001b[0m \u001b[43mdel_geom\u001b[49m\u001b[38;5;241m.\u001b[39mplot_pore(pores\u001b[38;5;241m=\u001b[39mdel_geom\u001b[38;5;241m.\u001b[39mpores())\n",
      "\u001b[0;31mNameError\u001b[0m: name 'del_geom' is not defined"
     ]
    }
   ],
   "source": [
    "del_geom.plot_pore(pores=del_geom.pores())"
   ]
  },
  {
   "cell_type": "code",
   "execution_count": 7,
   "metadata": {
    "execution": {
     "iopub.execute_input": "2022-09-07T19:23:18.607624Z",
     "iopub.status.busy": "2022-09-07T19:23:18.606111Z",
     "iopub.status.idle": "2022-09-07T19:23:18.623620Z",
     "shell.execute_reply": "2022-09-07T19:23:18.622953Z"
    }
   },
   "outputs": [
    {
     "ename": "NameError",
     "evalue": "name 'del_geom' is not defined",
     "output_type": "error",
     "traceback": [
      "\u001b[0;31m---------------------------------------------------------------------------\u001b[0m",
      "\u001b[0;31mNameError\u001b[0m                                 Traceback (most recent call last)",
      "Cell \u001b[0;32mIn [7], line 1\u001b[0m\n\u001b[0;32m----> 1\u001b[0m \u001b[43mdel_geom\u001b[49m\u001b[38;5;241m.\u001b[39mplot_throat(throats\u001b[38;5;241m=\u001b[39mdel_geom\u001b[38;5;241m.\u001b[39mthroats()[:\u001b[38;5;241m4\u001b[39m])\n",
      "\u001b[0;31mNameError\u001b[0m: name 'del_geom' is not defined"
     ]
    }
   ],
   "source": [
    "del_geom.plot_throat(throats=del_geom.throats()[:4])"
   ]
  },
  {
   "cell_type": "markdown",
   "metadata": {},
   "source": [
    "> #### A Note on Boundary Pores\n",
    "> It is worth mentioning a little about the boundaries at this point. Behind the scenes all the pores in the network were temporarily reflected about the planes confining the pore space during the Delaunay tessellation. This has the effect of creating throats on the outer confines that are aligned with the boundary planes. The boundary pores are labelled ``'surface'`` and can be further identified by the shared coordinate which will either be zero or the values of the domain shape used to initialize the class. As is custom, with openpnm simulations the fictitious boundary pores are assigned zero volume. The pore-size-distribution can be plotted but will be skewed by including the boundary pores:"
   ]
  },
  {
   "cell_type": "code",
   "execution_count": 8,
   "metadata": {
    "execution": {
     "iopub.execute_input": "2022-09-07T19:23:18.628485Z",
     "iopub.status.busy": "2022-09-07T19:23:18.627187Z",
     "iopub.status.idle": "2022-09-07T19:23:18.653377Z",
     "shell.execute_reply": "2022-09-07T19:23:18.652758Z"
    }
   },
   "outputs": [
    {
     "ename": "NameError",
     "evalue": "name 'del_geom' is not defined",
     "output_type": "error",
     "traceback": [
      "\u001b[0;31m---------------------------------------------------------------------------\u001b[0m",
      "\u001b[0;31mNameError\u001b[0m                                 Traceback (most recent call last)",
      "Cell \u001b[0;32mIn [8], line 2\u001b[0m\n\u001b[1;32m      1\u001b[0m fig \u001b[38;5;241m=\u001b[39m plt\u001b[38;5;241m.\u001b[39mfigure()\n\u001b[0;32m----> 2\u001b[0m \u001b[43mdel_geom\u001b[49m\u001b[38;5;241m.\u001b[39mshow_hist(props\u001b[38;5;241m=\u001b[39m[\u001b[38;5;124m'\u001b[39m\u001b[38;5;124mpore.diameter\u001b[39m\u001b[38;5;124m'\u001b[39m], edgecolor\u001b[38;5;241m=\u001b[39m\u001b[38;5;124m'\u001b[39m\u001b[38;5;124mk\u001b[39m\u001b[38;5;124m'\u001b[39m)\n\u001b[1;32m      3\u001b[0m plt\u001b[38;5;241m.\u001b[39mticklabel_format(axis\u001b[38;5;241m=\u001b[39m\u001b[38;5;124m\"\u001b[39m\u001b[38;5;124mboth\u001b[39m\u001b[38;5;124m\"\u001b[39m, style\u001b[38;5;241m=\u001b[39m\u001b[38;5;124m\"\u001b[39m\u001b[38;5;124msci\u001b[39m\u001b[38;5;124m\"\u001b[39m, scilimits\u001b[38;5;241m=\u001b[39m(\u001b[38;5;241m0\u001b[39m,\u001b[38;5;241m0\u001b[39m))\n",
      "\u001b[0;31mNameError\u001b[0m: name 'del_geom' is not defined"
     ]
    },
    {
     "data": {
      "text/plain": [
       "<Figure size 640x480 with 0 Axes>"
      ]
     },
     "metadata": {},
     "output_type": "display_data"
    }
   ],
   "source": [
    "fig = plt.figure()\n",
    "del_geom.show_hist(props=['pore.diameter'], edgecolor='k')\n",
    "plt.ticklabel_format(axis=\"both\", style=\"sci\", scilimits=(0,0))"
   ]
  },
  {
   "cell_type": "markdown",
   "metadata": {},
   "source": [
    " However, the throats connecting the boundary pores to their neigbors have real non-zero dimensions so the throat-size-distribution looks realistic"
   ]
  },
  {
   "cell_type": "code",
   "execution_count": 9,
   "metadata": {
    "execution": {
     "iopub.execute_input": "2022-09-07T19:23:18.657787Z",
     "iopub.status.busy": "2022-09-07T19:23:18.656706Z",
     "iopub.status.idle": "2022-09-07T19:23:18.679341Z",
     "shell.execute_reply": "2022-09-07T19:23:18.678647Z"
    }
   },
   "outputs": [
    {
     "ename": "NameError",
     "evalue": "name 'del_geom' is not defined",
     "output_type": "error",
     "traceback": [
      "\u001b[0;31m---------------------------------------------------------------------------\u001b[0m",
      "\u001b[0;31mNameError\u001b[0m                                 Traceback (most recent call last)",
      "Cell \u001b[0;32mIn [9], line 2\u001b[0m\n\u001b[1;32m      1\u001b[0m fig \u001b[38;5;241m=\u001b[39m plt\u001b[38;5;241m.\u001b[39mfigure()\n\u001b[0;32m----> 2\u001b[0m \u001b[43mdel_geom\u001b[49m\u001b[38;5;241m.\u001b[39mshow_hist(props\u001b[38;5;241m=\u001b[39m[\u001b[38;5;124m'\u001b[39m\u001b[38;5;124mthroat.diameter\u001b[39m\u001b[38;5;124m'\u001b[39m], edgecolor\u001b[38;5;241m=\u001b[39m\u001b[38;5;124m'\u001b[39m\u001b[38;5;124mk\u001b[39m\u001b[38;5;124m'\u001b[39m)\n\u001b[1;32m      3\u001b[0m plt\u001b[38;5;241m.\u001b[39mticklabel_format(axis\u001b[38;5;241m=\u001b[39m\u001b[38;5;124m\"\u001b[39m\u001b[38;5;124mboth\u001b[39m\u001b[38;5;124m\"\u001b[39m, style\u001b[38;5;241m=\u001b[39m\u001b[38;5;124m\"\u001b[39m\u001b[38;5;124msci\u001b[39m\u001b[38;5;124m\"\u001b[39m, scilimits\u001b[38;5;241m=\u001b[39m(\u001b[38;5;241m0\u001b[39m,\u001b[38;5;241m0\u001b[39m))\n",
      "\u001b[0;31mNameError\u001b[0m: name 'del_geom' is not defined"
     ]
    },
    {
     "data": {
      "text/plain": [
       "<Figure size 640x480 with 0 Axes>"
      ]
     },
     "metadata": {},
     "output_type": "display_data"
    }
   ],
   "source": [
    "fig = plt.figure()\n",
    "del_geom.show_hist(props=['throat.diameter'], edgecolor='k')\n",
    "plt.ticklabel_format(axis=\"both\", style=\"sci\", scilimits=(0,0))"
   ]
  },
  {
   "cell_type": "markdown",
   "metadata": {},
   "source": [
    ">#### A Note on Performance\n",
    "> In previous versions of openpnm (1.x) the Voronoi geometry could be generated with the option to use image analysis pore calculations of the pore sizes and other properties, or functions based on using idealized shapes formed from the Voronoi vertices could also be used which is faster but less accurate, especially when dealing with highly anisotropic media. The materials class does not give this option. \n",
    "> Generating the voxel image is a memory intensive process relying on many image analysis routines and it is recommended that a smaller network is tested first on your machine whilst monitoring your system performance to gauge whether larger networks are possible."
   ]
  },
  {
   "cell_type": "markdown",
   "metadata": {},
   "source": [
    "The image based approach allows for closer inspection of realistic fibrous structures and a few useful functions are provided for analysis and inspection."
   ]
  },
  {
   "cell_type": "code",
   "execution_count": 10,
   "metadata": {
    "execution": {
     "iopub.execute_input": "2022-09-07T19:23:18.683271Z",
     "iopub.status.busy": "2022-09-07T19:23:18.683035Z",
     "iopub.status.idle": "2022-09-07T19:23:18.699016Z",
     "shell.execute_reply": "2022-09-07T19:23:18.698038Z"
    }
   },
   "outputs": [
    {
     "ename": "NameError",
     "evalue": "name 'del_geom' is not defined",
     "output_type": "error",
     "traceback": [
      "\u001b[0;31m---------------------------------------------------------------------------\u001b[0m",
      "\u001b[0;31mNameError\u001b[0m                                 Traceback (most recent call last)",
      "Cell \u001b[0;32mIn [10], line 1\u001b[0m\n\u001b[0;32m----> 1\u001b[0m fig \u001b[38;5;241m=\u001b[39m \u001b[43mdel_geom\u001b[49m\u001b[38;5;241m.\u001b[39mplot_porosity_profile()\n",
      "\u001b[0;31mNameError\u001b[0m: name 'del_geom' is not defined"
     ]
    }
   ],
   "source": [
    "fig = del_geom.plot_porosity_profile()"
   ]
  },
  {
   "cell_type": "code",
   "execution_count": 11,
   "metadata": {
    "execution": {
     "iopub.execute_input": "2022-09-07T19:23:18.712097Z",
     "iopub.status.busy": "2022-09-07T19:23:18.701986Z",
     "iopub.status.idle": "2022-09-07T19:23:18.726793Z",
     "shell.execute_reply": "2022-09-07T19:23:18.726081Z"
    }
   },
   "outputs": [
    {
     "ename": "NameError",
     "evalue": "name 'del_geom' is not defined",
     "output_type": "error",
     "traceback": [
      "\u001b[0;31m---------------------------------------------------------------------------\u001b[0m",
      "\u001b[0;31mNameError\u001b[0m                                 Traceback (most recent call last)",
      "Cell \u001b[0;32mIn [11], line 1\u001b[0m\n\u001b[0;32m----> 1\u001b[0m fig \u001b[38;5;241m=\u001b[39m \u001b[43mdel_geom\u001b[49m\u001b[38;5;241m.\u001b[39mplot_fiber_slice(plane\u001b[38;5;241m=\u001b[39m[\u001b[38;5;241m0\u001b[39m, \u001b[38;5;241m0.5\u001b[39m, \u001b[38;5;241m0\u001b[39m])\n",
      "\u001b[0;31mNameError\u001b[0m: name 'del_geom' is not defined"
     ]
    }
   ],
   "source": [
    "fig = del_geom.plot_fiber_slice(plane=[0, 0.5, 0])"
   ]
  },
  {
   "cell_type": "markdown",
   "metadata": {},
   "source": [
    "Two images are actually stored as private attributes on the delaunay geometry object: ```_fiber_image``` and ```_hull_image```. The fiber image is a binary image with 1 representing the fiber and 0 the void space. The hull image represents the convex hulls surrounding each pore and is labelled with the original pore index (which may change after trimming). These images can be exported as tiff stacks and visualized in paraview, as well as being used to populate liquid filled porous networks. An example of such an image is shown below and is taken from [Tranter et. al 2016](https://onlinelibrary.wiley.com/doi/abs/10.1002/fuce.201500168)"
   ]
  },
  {
   "cell_type": "markdown",
   "metadata": {},
   "source": [
    "<img src=\"https://imgur.com/whiKAVG.png\" style=\"width: 60%\" align=\"left\"/>"
   ]
  }
 ],
 "metadata": {
  "kernelspec": {
   "display_name": "Python 3",
   "language": "python",
   "name": "python3"
  },
  "language_info": {
   "codemirror_mode": {
    "name": "ipython",
    "version": 3
   },
   "file_extension": ".py",
   "mimetype": "text/x-python",
   "name": "python",
   "nbconvert_exporter": "python",
   "pygments_lexer": "ipython3",
   "version": "3.8.13"
  }
 },
 "nbformat": 4,
 "nbformat_minor": 2
}
