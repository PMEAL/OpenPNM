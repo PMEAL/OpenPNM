{
 "cells": [
  {
   "cell_type": "markdown",
   "id": "fce43591",
   "metadata": {},
   "source": [
    "# Using Basic Phases\n",
    "\n",
    "All simulations in OpenPNM eventually require knowing the physical and thermodynamic properties of the fluids and phases.  OpenPNM provides a framework for computing these values in the ``phase`` submodule, along with a *basic* set of functions for predicting the properties pure phases and mixtures. Our policy is to provide a set of reasonable default functions for use as first approximations, without creating a huge amount of extraneous code in OpenPNM.  There are a number of other packages that can be used when more exacting values are required, such as ``chemicals`` and ``cantera``, which can be used within the framework of OpenPNM.\n",
    "\n",
    "In this notebook, we will be cover the use of the basic ``Phase`` class, the specific classes for common fluids like ``Air`` and ``Water``."
   ]
  },
  {
   "cell_type": "code",
   "execution_count": 1,
   "id": "d0583d45",
   "metadata": {
    "execution": {
     "iopub.execute_input": "2022-09-07T19:29:02.364289Z",
     "iopub.status.busy": "2022-09-07T19:29:02.363983Z",
     "iopub.status.idle": "2022-09-07T19:29:04.151031Z",
     "shell.execute_reply": "2022-09-07T19:29:04.149917Z"
    }
   },
   "outputs": [],
   "source": [
    "import openpnm as op\n",
    "import numpy as np"
   ]
  },
  {
   "cell_type": "markdown",
   "id": "d8429ae3",
   "metadata": {},
   "source": [
    "All simulations start by defining/creating a network.  The ``Demo`` class creates a very simple cubic network with an assortment of useful properties included:"
   ]
  },
  {
   "cell_type": "code",
   "execution_count": 2,
   "id": "41da6fd0",
   "metadata": {
    "execution": {
     "iopub.execute_input": "2022-09-07T19:29:04.156218Z",
     "iopub.status.busy": "2022-09-07T19:29:04.155433Z",
     "iopub.status.idle": "2022-09-07T19:29:04.242902Z",
     "shell.execute_reply": "2022-09-07T19:29:04.241907Z"
    }
   },
   "outputs": [],
   "source": [
    "pn = op.network.Demo()"
   ]
  },
  {
   "cell_type": "markdown",
   "id": "5699516f",
   "metadata": {},
   "source": [
    "## The basic ``Phase`` class\n",
    "\n",
    "If your simulation is simple, then a simple ``Phase`` object may be sufficient.  It has no predefined models from computing anything, so you have to either assign known values directly (e.g ``water['pore.viscosity'] = 0.001``) or define models that will compute the values you need.  The models can be taken from the ``openpnm.models.phase`` library, or you can write your own."
   ]
  },
  {
   "cell_type": "code",
   "execution_count": 3,
   "id": "41924bb8",
   "metadata": {
    "execution": {
     "iopub.execute_input": "2022-09-07T19:29:04.246591Z",
     "iopub.status.busy": "2022-09-07T19:29:04.246334Z",
     "iopub.status.idle": "2022-09-07T19:29:04.252010Z",
     "shell.execute_reply": "2022-09-07T19:29:04.251146Z"
    }
   },
   "outputs": [
    {
     "name": "stdout",
     "output_type": "stream",
     "text": [
      "\n",
      "══════════════════════════════════════════════════════════════════════════════\n",
      "phase_01 : <openpnm.phase.Phase at 0x7fda06a264a0>\n",
      "――――――――――――――――――――――――――――――――――――――――――――――――――――――――――――――――――――――――――――――\n",
      "  #  Properties                                                   Valid Values\n",
      "――――――――――――――――――――――――――――――――――――――――――――――――――――――――――――――――――――――――――――――\n",
      "  1  pore.pressure                                                       9 / 9\n",
      "  2  pore.temperature                                                    9 / 9\n",
      "――――――――――――――――――――――――――――――――――――――――――――――――――――――――――――――――――――――――――――――\n",
      "  #  Labels                                                 Assigned Locations\n",
      "――――――――――――――――――――――――――――――――――――――――――――――――――――――――――――――――――――――――――――――\n",
      "  1  pore.all                                                                9\n",
      "  2  throat.all                                                             12\n",
      "――――――――――――――――――――――――――――――――――――――――――――――――――――――――――――――――――――――――――――――\n"
     ]
    }
   ],
   "source": [
    "phase1 = op.phase.Phase(network=pn)\n",
    "print(phase1)"
   ]
  },
  {
   "cell_type": "markdown",
   "id": "d00c1a42",
   "metadata": {},
   "source": [
    "Note that all ``phase`` objects need to be associated with a network, which is how ``phase1`` knows how many pore (and throat) values to compute...in this case 9 (and 12). "
   ]
  },
  {
   "cell_type": "markdown",
   "id": "356d4148",
   "metadata": {},
   "source": [
    "### Direct assignment of a constant value"
   ]
  },
  {
   "cell_type": "markdown",
   "id": "ad4bdbeb",
   "metadata": {},
   "source": [
    "The basic ``Phase`` class creates a more or less empty object with only standard temperature and pressure assigned to each pore. In order to use this object for simulations it needs some additional information. For instance, to compute the permeability of ``pn`` we will need the viscosity.  So, let's assign a known value directly for liquid water:"
   ]
  },
  {
   "cell_type": "code",
   "execution_count": 4,
   "id": "8f98fb81",
   "metadata": {
    "execution": {
     "iopub.execute_input": "2022-09-07T19:29:04.256231Z",
     "iopub.status.busy": "2022-09-07T19:29:04.255979Z",
     "iopub.status.idle": "2022-09-07T19:29:04.259457Z",
     "shell.execute_reply": "2022-09-07T19:29:04.258701Z"
    }
   },
   "outputs": [],
   "source": [
    "phase1['pore.viscosity'] = 0.001  # Pa.s\n",
    "phase1['pore.temperature'] = 273.0"
   ]
  },
  {
   "cell_type": "markdown",
   "id": "dac6d7d4",
   "metadata": {},
   "source": [
    "*Pro Tip*: When assigning a scalar value to a dictionary key it gets assigned to every pore (or throat).  The result of the above assignment can be seen below:"
   ]
  },
  {
   "cell_type": "code",
   "execution_count": 5,
   "id": "50b97f81",
   "metadata": {
    "execution": {
     "iopub.execute_input": "2022-09-07T19:29:04.263148Z",
     "iopub.status.busy": "2022-09-07T19:29:04.262910Z",
     "iopub.status.idle": "2022-09-07T19:29:04.273080Z",
     "shell.execute_reply": "2022-09-07T19:29:04.272309Z"
    }
   },
   "outputs": [
    {
     "data": {
      "text/plain": [
       "array([0.001, 0.001, 0.001, 0.001, 0.001, 0.001, 0.001, 0.001, 0.001])"
      ]
     },
     "execution_count": 5,
     "metadata": {},
     "output_type": "execute_result"
    }
   ],
   "source": [
    "phase1['pore.viscosity']"
   ]
  },
  {
   "cell_type": "markdown",
   "id": "836b20da",
   "metadata": {},
   "source": [
    "### Using a built-in model\n",
    "\n",
    "Perhaps you would like to run simulation in the presence of a temperature gradient, and viscosity is a strong function of temperature.  Instead of assigning a constant viscosity, in this case it is better to assign a pore-scale model that OpenPNM will call to compute the viscosity in each pore.  \n",
    "\n",
    "The ``models`` library in OpenPNM contains some general models which can be used, such as polynomials or linear lines. A 4th order polynomial can be fit to experimental data yielding the following coefficients:"
   ]
  },
  {
   "cell_type": "code",
   "execution_count": 6,
   "id": "0a61bc2a",
   "metadata": {
    "execution": {
     "iopub.execute_input": "2022-09-07T19:29:04.277527Z",
     "iopub.status.busy": "2022-09-07T19:29:04.277288Z",
     "iopub.status.idle": "2022-09-07T19:29:04.280774Z",
     "shell.execute_reply": "2022-09-07T19:29:04.279993Z"
    }
   },
   "outputs": [],
   "source": [
    "a4 = 5.8543E-11\n",
    "a3 = -7.6756E-08\n",
    "a2 = 3.7831E-05\n",
    "a1 = -8.3156E-03\n",
    "a0 = 6.8898E-01"
   ]
  },
  {
   "cell_type": "markdown",
   "id": "32fb85d8",
   "metadata": {},
   "source": [
    "These can be used in the the ``op.models.misc.polynomial`` model as follows:"
   ]
  },
  {
   "cell_type": "code",
   "execution_count": 7,
   "id": "57f24409",
   "metadata": {
    "execution": {
     "iopub.execute_input": "2022-09-07T19:29:04.284172Z",
     "iopub.status.busy": "2022-09-07T19:29:04.283936Z",
     "iopub.status.idle": "2022-09-07T19:29:04.290593Z",
     "shell.execute_reply": "2022-09-07T19:29:04.289816Z"
    }
   },
   "outputs": [
    {
     "name": "stdout",
     "output_type": "stream",
     "text": [
      "[0.001 0.001 0.001 0.001 0.001 0.001 0.001 0.001 0.001]\n",
      "[0.00179952 0.00179952 0.00179952 0.00179952 0.00179952 0.00179952\n",
      " 0.00179952 0.00179952 0.00179952]\n",
      "[0.00075415 0.00053397 0.0008538  0.00064233 0.00063694 0.00066499\n",
      " 0.00079701 0.00041567 0.00073816]\n"
     ]
    }
   ],
   "source": [
    "print(phase1['pore.viscosity'])\n",
    "f = op.models.misc.polynomial\n",
    "phase1.add_model(propname='pore.viscosity', \n",
    "                 model=f,\n",
    "                 a = (a0, a1, a2, a3, a4),\n",
    "                 prop='pore.temperature')\n",
    "print(phase1['pore.viscosity'])\n",
    "phase1['pore.temperature'] = 300.0 + np.random.rand(pn.Np)*50\n",
    "phase1.regenerate_models()\n",
    "print(phase1['pore.viscosity'])"
   ]
  },
  {
   "cell_type": "markdown",
   "id": "9a0e3c74",
   "metadata": {},
   "source": [
    "In the above block we can see that the values of ``0.001`` are present from the previous assignment, then after we add the model the values are recomputed at the temperature indicated in ``phase1['pore.temperature']``.  To illustrate the point of using a temperature dependent model, we then set the temperature to a random number between 300 and 350 K, the rerun the models at the new temperatures."
   ]
  },
  {
   "cell_type": "markdown",
   "id": "1d74915a",
   "metadata": {},
   "source": [
    "### Using a water-specific model\n",
    "\n",
    "Because water is so common, OpenPNM has some available functions for its properties:"
   ]
  },
  {
   "cell_type": "code",
   "execution_count": 8,
   "id": "97a5b4ec",
   "metadata": {
    "execution": {
     "iopub.execute_input": "2022-09-07T19:29:04.294852Z",
     "iopub.status.busy": "2022-09-07T19:29:04.294615Z",
     "iopub.status.idle": "2022-09-07T19:29:04.299246Z",
     "shell.execute_reply": "2022-09-07T19:29:04.298482Z"
    }
   },
   "outputs": [
    {
     "name": "stdout",
     "output_type": "stream",
     "text": [
      "[0.00072708 0.00050169 0.0008307  0.00061035 0.00060479 0.00063382\n",
      " 0.00077184 0.00037099 0.00071034]\n"
     ]
    }
   ],
   "source": [
    "f = op.models.phase.viscosity.water_correlation\n",
    "phase1.add_model(propname='pore.viscosity',\n",
    "                 model=f)\n",
    "print(phase1['pore.viscosity'])"
   ]
  },
  {
   "cell_type": "markdown",
   "id": "d79fca2e",
   "metadata": {},
   "source": [
    "### Writing your own custom model\n",
    "\n",
    "This subject is explained in detail in another tutorial, but the basic outline is as follows. "
   ]
  },
  {
   "cell_type": "code",
   "execution_count": 9,
   "id": "a30c7773",
   "metadata": {
    "execution": {
     "iopub.execute_input": "2022-09-07T19:29:04.303222Z",
     "iopub.status.busy": "2022-09-07T19:29:04.302835Z",
     "iopub.status.idle": "2022-09-07T19:29:04.308888Z",
     "shell.execute_reply": "2022-09-07T19:29:04.308033Z"
    }
   },
   "outputs": [
    {
     "name": "stdout",
     "output_type": "stream",
     "text": [
      "[ 4.13198005e-04  1.38156791e-04  5.28491631e-04  2.77830836e-04\n",
      "  2.71100663e-04  3.05887794e-04  4.63297182e-04 -4.19564449e-05\n",
      "  3.94286823e-04]\n"
     ]
    }
   ],
   "source": [
    "def custom_mu(target, temperature='pore.temperature'):\n",
    "    T = target[temperature]\n",
    "    a4 = 5.854E-11\n",
    "    a3 = -7.676E-08\n",
    "    a2 = 3.783E-05\n",
    "    a1 = -8.316E-03\n",
    "    a0 = 6.890E-01\n",
    "    mu = a0 + a1*T + a2*T**2 + a3*T**3 + a4*T**4\n",
    "    return mu\n",
    "\n",
    "phase1.add_model(propname='pore.viscosity',\n",
    "                 model=custom_mu)\n",
    "print(phase1['pore.viscosity'])\n"
   ]
  },
  {
   "cell_type": "markdown",
   "id": "e69c514a",
   "metadata": {},
   "source": [
    "## Specific Classes for Common Fluids\n",
    "\n",
    "Air, water, and mercury are used commonly enough that OpenPNM not only has pore-scale models for their propertie (i.e. ``op.models.viscosity.water_correlation``, but we have also created pre-defined classes with all the appropriate models already attached:"
   ]
  },
  {
   "cell_type": "code",
   "execution_count": 10,
   "id": "d7232b92",
   "metadata": {
    "execution": {
     "iopub.execute_input": "2022-09-07T19:29:04.313627Z",
     "iopub.status.busy": "2022-09-07T19:29:04.313269Z",
     "iopub.status.idle": "2022-09-07T19:29:04.872017Z",
     "shell.execute_reply": "2022-09-07T19:29:04.871102Z"
    }
   },
   "outputs": [
    {
     "ename": "ModuleNotFoundError",
     "evalue": "No module named 'thermo'",
     "output_type": "error",
     "traceback": [
      "\u001b[0;31m---------------------------------------------------------------------------\u001b[0m",
      "\u001b[0;31mModuleNotFoundError\u001b[0m                       Traceback (most recent call last)",
      "Cell \u001b[0;32mIn [10], line 1\u001b[0m\n\u001b[0;32m----> 1\u001b[0m water \u001b[38;5;241m=\u001b[39m \u001b[43mop\u001b[49m\u001b[38;5;241;43m.\u001b[39;49m\u001b[43mphase\u001b[49m\u001b[38;5;241;43m.\u001b[39;49m\u001b[43mWater\u001b[49m\u001b[43m(\u001b[49m\u001b[43mnetwork\u001b[49m\u001b[38;5;241;43m=\u001b[39;49m\u001b[43mpn\u001b[49m\u001b[43m)\u001b[49m\n",
      "File \u001b[0;32m~/work/OpenPNM/OpenPNM/openpnm/phase/_water.py:27\u001b[0m, in \u001b[0;36mWater.__init__\u001b[0;34m(self, **kwargs)\u001b[0m\n\u001b[1;32m     25\u001b[0m \u001b[38;5;28;01mdef\u001b[39;00m \u001b[38;5;21m__init__\u001b[39m(\u001b[38;5;28mself\u001b[39m, \u001b[38;5;241m*\u001b[39m\u001b[38;5;241m*\u001b[39mkwargs):\n\u001b[1;32m     26\u001b[0m     \u001b[38;5;28msuper\u001b[39m()\u001b[38;5;241m.\u001b[39m\u001b[38;5;21m__init__\u001b[39m(\u001b[38;5;241m*\u001b[39m\u001b[38;5;241m*\u001b[39mkwargs)\n\u001b[0;32m---> 27\u001b[0m     \u001b[38;5;28;01mfrom\u001b[39;00m \u001b[38;5;21;01mthermo\u001b[39;00m \u001b[38;5;28;01mimport\u001b[39;00m Chemical\n\u001b[1;32m     28\u001b[0m     a \u001b[38;5;241m=\u001b[39m Chemical(\u001b[38;5;124m'\u001b[39m\u001b[38;5;124mh2o\u001b[39m\u001b[38;5;124m'\u001b[39m)\n\u001b[1;32m     29\u001b[0m     temp \u001b[38;5;241m=\u001b[39m _fetch_chemical_props(a)\n",
      "\u001b[0;31mModuleNotFoundError\u001b[0m: No module named 'thermo'"
     ]
    }
   ],
   "source": [
    "water = op.phase.Water(network=pn)"
   ]
  },
  {
   "cell_type": "code",
   "execution_count": 11,
   "id": "2a00c73f",
   "metadata": {
    "execution": {
     "iopub.execute_input": "2022-09-07T19:29:04.875645Z",
     "iopub.status.busy": "2022-09-07T19:29:04.875385Z",
     "iopub.status.idle": "2022-09-07T19:29:04.889703Z",
     "shell.execute_reply": "2022-09-07T19:29:04.888915Z"
    }
   },
   "outputs": [
    {
     "ename": "NameError",
     "evalue": "name 'water' is not defined",
     "output_type": "error",
     "traceback": [
      "\u001b[0;31m---------------------------------------------------------------------------\u001b[0m",
      "\u001b[0;31mNameError\u001b[0m                                 Traceback (most recent call last)",
      "Cell \u001b[0;32mIn [11], line 1\u001b[0m\n\u001b[0;32m----> 1\u001b[0m \u001b[38;5;28mprint\u001b[39m(\u001b[43mwater\u001b[49m)\n",
      "\u001b[0;31mNameError\u001b[0m: name 'water' is not defined"
     ]
    }
   ],
   "source": [
    "print(water)"
   ]
  },
  {
   "cell_type": "markdown",
   "id": "c3578f9a",
   "metadata": {},
   "source": [
    "As can be seen in the above print-out, a variety of things have been computed, most of which is coming from a specific pore-scale model.  These can be viewed with:"
   ]
  },
  {
   "cell_type": "code",
   "execution_count": 12,
   "id": "f9f8f4df",
   "metadata": {
    "execution": {
     "iopub.execute_input": "2022-09-07T19:29:04.893497Z",
     "iopub.status.busy": "2022-09-07T19:29:04.893236Z",
     "iopub.status.idle": "2022-09-07T19:29:04.907244Z",
     "shell.execute_reply": "2022-09-07T19:29:04.906463Z"
    }
   },
   "outputs": [
    {
     "ename": "NameError",
     "evalue": "name 'water' is not defined",
     "output_type": "error",
     "traceback": [
      "\u001b[0;31m---------------------------------------------------------------------------\u001b[0m",
      "\u001b[0;31mNameError\u001b[0m                                 Traceback (most recent call last)",
      "Cell \u001b[0;32mIn [12], line 1\u001b[0m\n\u001b[0;32m----> 1\u001b[0m \u001b[38;5;28mprint\u001b[39m(\u001b[43mwater\u001b[49m\u001b[38;5;241m.\u001b[39mmodels)\n",
      "\u001b[0;31mNameError\u001b[0m: name 'water' is not defined"
     ]
    }
   ],
   "source": [
    "print(water.models)"
   ]
  },
  {
   "cell_type": "markdown",
   "id": "89b218f8",
   "metadata": {},
   "source": [
    "All of these models are functions of all relevant properties, so we can change the temperature and see the new viscosity:"
   ]
  },
  {
   "cell_type": "code",
   "execution_count": 13,
   "id": "b21de53d",
   "metadata": {
    "execution": {
     "iopub.execute_input": "2022-09-07T19:29:04.910505Z",
     "iopub.status.busy": "2022-09-07T19:29:04.910267Z",
     "iopub.status.idle": "2022-09-07T19:29:04.926297Z",
     "shell.execute_reply": "2022-09-07T19:29:04.925539Z"
    }
   },
   "outputs": [
    {
     "ename": "NameError",
     "evalue": "name 'water' is not defined",
     "output_type": "error",
     "traceback": [
      "\u001b[0;31m---------------------------------------------------------------------------\u001b[0m",
      "\u001b[0;31mNameError\u001b[0m                                 Traceback (most recent call last)",
      "Cell \u001b[0;32mIn [13], line 1\u001b[0m\n\u001b[0;32m----> 1\u001b[0m \u001b[38;5;28mprint\u001b[39m(\u001b[43mwater\u001b[49m[\u001b[38;5;124m'\u001b[39m\u001b[38;5;124mpore.viscosity\u001b[39m\u001b[38;5;124m'\u001b[39m])\n\u001b[1;32m      2\u001b[0m water[\u001b[38;5;124m'\u001b[39m\u001b[38;5;124mpore.temperature\u001b[39m\u001b[38;5;124m'\u001b[39m] \u001b[38;5;241m=\u001b[39m \u001b[38;5;241m300.0\u001b[39m \u001b[38;5;241m+\u001b[39m np\u001b[38;5;241m.\u001b[39mrandom\u001b[38;5;241m.\u001b[39mrand(pn\u001b[38;5;241m.\u001b[39mNp)\u001b[38;5;241m*\u001b[39m\u001b[38;5;241m50\u001b[39m\n\u001b[1;32m      3\u001b[0m water\u001b[38;5;241m.\u001b[39mregenerate_models()\n",
      "\u001b[0;31mNameError\u001b[0m: name 'water' is not defined"
     ]
    }
   ],
   "source": [
    "print(water['pore.viscosity'])\n",
    "water['pore.temperature'] = 300.0 + np.random.rand(pn.Np)*50\n",
    "water.regenerate_models()\n",
    "print(water['pore.viscosity'])"
   ]
  }
 ],
 "metadata": {
  "kernelspec": {
   "display_name": "Python 3 (ipykernel)",
   "language": "python",
   "name": "python3"
  },
  "language_info": {
   "codemirror_mode": {
    "name": "ipython",
    "version": 3
   },
   "file_extension": ".py",
   "mimetype": "text/x-python",
   "name": "python",
   "nbconvert_exporter": "python",
   "pygments_lexer": "ipython3",
   "version": "3.8.13"
  }
 },
 "nbformat": 4,
 "nbformat_minor": 5
}
