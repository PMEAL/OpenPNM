{
 "cells": [
  {
   "cell_type": "markdown",
   "id": "83fb1ab5",
   "metadata": {},
   "source": [
    "# Using Species and Mixtures\n",
    "\n",
    "OpenPNM provides a small set of default function for computing the physical properties of pure fluids as well as mixtures.  This notebook will cover their use"
   ]
  },
  {
   "cell_type": "code",
   "execution_count": 1,
   "id": "f6387a06",
   "metadata": {
    "execution": {
     "iopub.execute_input": "2022-09-07T19:29:07.637572Z",
     "iopub.status.busy": "2022-09-07T19:29:07.637245Z",
     "iopub.status.idle": "2022-09-07T19:29:09.366063Z",
     "shell.execute_reply": "2022-09-07T19:29:09.364763Z"
    }
   },
   "outputs": [],
   "source": [
    "import openpnm as op\n",
    "import numpy as np"
   ]
  },
  {
   "cell_type": "code",
   "execution_count": 2,
   "id": "2523d79d",
   "metadata": {
    "execution": {
     "iopub.execute_input": "2022-09-07T19:29:09.370747Z",
     "iopub.status.busy": "2022-09-07T19:29:09.370160Z",
     "iopub.status.idle": "2022-09-07T19:29:09.452049Z",
     "shell.execute_reply": "2022-09-07T19:29:09.451031Z"
    }
   },
   "outputs": [],
   "source": [
    "pn = op.network.Demo()"
   ]
  },
  {
   "cell_type": "markdown",
   "id": "b36eba00",
   "metadata": {},
   "source": [
    "## Pure Species"
   ]
  },
  {
   "cell_type": "code",
   "execution_count": 3,
   "id": "65d58e25",
   "metadata": {
    "execution": {
     "iopub.execute_input": "2022-09-07T19:29:09.455850Z",
     "iopub.status.busy": "2022-09-07T19:29:09.455438Z",
     "iopub.status.idle": "2022-09-07T19:29:10.023733Z",
     "shell.execute_reply": "2022-09-07T19:29:10.022712Z"
    }
   },
   "outputs": [
    {
     "ename": "ModuleNotFoundError",
     "evalue": "No module named 'thermo'",
     "output_type": "error",
     "traceback": [
      "\u001b[0;31m---------------------------------------------------------------------------\u001b[0m",
      "\u001b[0;31mModuleNotFoundError\u001b[0m                       Traceback (most recent call last)",
      "Cell \u001b[0;32mIn [3], line 1\u001b[0m\n\u001b[0;32m----> 1\u001b[0m A \u001b[38;5;241m=\u001b[39m \u001b[43mop\u001b[49m\u001b[38;5;241;43m.\u001b[39;49m\u001b[43mphase\u001b[49m\u001b[38;5;241;43m.\u001b[39;49m\u001b[43mSpecies\u001b[49m\u001b[43m(\u001b[49m\u001b[43mnetwork\u001b[49m\u001b[38;5;241;43m=\u001b[39;49m\u001b[43mpn\u001b[49m\u001b[43m,\u001b[49m\u001b[43m \u001b[49m\u001b[43mspecies\u001b[49m\u001b[38;5;241;43m=\u001b[39;49m\u001b[38;5;124;43m'\u001b[39;49m\u001b[38;5;124;43methanol\u001b[39;49m\u001b[38;5;124;43m'\u001b[39;49m\u001b[43m)\u001b[49m\n\u001b[1;32m      2\u001b[0m \u001b[38;5;28mprint\u001b[39m(A)\n",
      "File \u001b[0;32m~/work/OpenPNM/OpenPNM/openpnm/phase/_species.py:44\u001b[0m, in \u001b[0;36mSpecies.__init__\u001b[0;34m(self, species, **kwargs)\u001b[0m\n\u001b[1;32m     42\u001b[0m \u001b[38;5;28;01mdef\u001b[39;00m \u001b[38;5;21m__init__\u001b[39m(\u001b[38;5;28mself\u001b[39m, species, \u001b[38;5;241m*\u001b[39m\u001b[38;5;241m*\u001b[39mkwargs):\n\u001b[1;32m     43\u001b[0m     \u001b[38;5;66;03m# Create temp first to ensure all look-ups pass before initializing obj\u001b[39;00m\n\u001b[0;32m---> 44\u001b[0m     \u001b[38;5;28;01mfrom\u001b[39;00m \u001b[38;5;21;01mthermo\u001b[39;00m \u001b[38;5;28;01mimport\u001b[39;00m Chemical\n\u001b[1;32m     45\u001b[0m     temp \u001b[38;5;241m=\u001b[39m _fetch_chemical_props(Chemical(species))\n\u001b[1;32m     46\u001b[0m     \u001b[38;5;28msuper\u001b[39m()\u001b[38;5;241m.\u001b[39m\u001b[38;5;21m__init__\u001b[39m(\u001b[38;5;241m*\u001b[39m\u001b[38;5;241m*\u001b[39mkwargs)\n",
      "\u001b[0;31mModuleNotFoundError\u001b[0m: No module named 'thermo'"
     ]
    }
   ],
   "source": [
    "A = op.phase.Species(network=pn, species='ethanol')\n",
    "print(A)"
   ]
  },
  {
   "cell_type": "markdown",
   "id": "9e3c95bb",
   "metadata": {},
   "source": [
    "As can be seen above the ``Species`` class does not compute any properties of the given species, *BUT* it does contain a host of thermodynamic properties in the ``params`` attribute:"
   ]
  },
  {
   "cell_type": "code",
   "execution_count": 4,
   "id": "3371aa9b",
   "metadata": {
    "execution": {
     "iopub.execute_input": "2022-09-07T19:29:10.028020Z",
     "iopub.status.busy": "2022-09-07T19:29:10.027322Z",
     "iopub.status.idle": "2022-09-07T19:29:10.043906Z",
     "shell.execute_reply": "2022-09-07T19:29:10.043168Z"
    }
   },
   "outputs": [
    {
     "ename": "NameError",
     "evalue": "name 'A' is not defined",
     "output_type": "error",
     "traceback": [
      "\u001b[0;31m---------------------------------------------------------------------------\u001b[0m",
      "\u001b[0;31mNameError\u001b[0m                                 Traceback (most recent call last)",
      "Cell \u001b[0;32mIn [4], line 1\u001b[0m\n\u001b[0;32m----> 1\u001b[0m \u001b[38;5;28mprint\u001b[39m(\u001b[43mA\u001b[49m\u001b[38;5;241m.\u001b[39mparams)\n",
      "\u001b[0;31mNameError\u001b[0m: name 'A' is not defined"
     ]
    }
   ],
   "source": [
    "print(A.params)"
   ]
  },
  {
   "cell_type": "markdown",
   "id": "573ee809",
   "metadata": {},
   "source": [
    "*Pro Tip*: You can read and write values to this ``params`` attribute directly or by using ``A['params.<item>']``.  This latter option allows pore scale models to accept both ``acentric_factor='pore.acentric_factor'`` or ``acentric_factor='param.acentric_factor'``.  In both cases the function will call ``target[acentric_factor]``, but in the former case it will look in the ``target`` dictionary as normal, while in the latter case it will be redirected to the ``target.params`` dictionary. This functionality was implmented in V3 to avoid the need to store values that are truly constant in every every pore."
   ]
  },
  {
   "cell_type": "markdown",
   "id": "1d140c95",
   "metadata": {},
   "source": [
    "These parameters are all used in the various property estimation methods.  For instance, to compute the viscosity of ethanol, OpenPNM provides a function that implements the model of Steil and Thodos (``openpnm.models.phase.viscosity.liquid_pure_ls``):"
   ]
  },
  {
   "cell_type": "code",
   "execution_count": 5,
   "id": "37e579e7",
   "metadata": {
    "execution": {
     "iopub.execute_input": "2022-09-07T19:29:10.047440Z",
     "iopub.status.busy": "2022-09-07T19:29:10.046999Z",
     "iopub.status.idle": "2022-09-07T19:29:10.065267Z",
     "shell.execute_reply": "2022-09-07T19:29:10.064469Z"
    }
   },
   "outputs": [
    {
     "ename": "NameError",
     "evalue": "name 'A' is not defined",
     "output_type": "error",
     "traceback": [
      "\u001b[0;31m---------------------------------------------------------------------------\u001b[0m",
      "\u001b[0;31mNameError\u001b[0m                                 Traceback (most recent call last)",
      "Cell \u001b[0;32mIn [5], line 2\u001b[0m\n\u001b[1;32m      1\u001b[0m f \u001b[38;5;241m=\u001b[39m op\u001b[38;5;241m.\u001b[39mmodels\u001b[38;5;241m.\u001b[39mphase\u001b[38;5;241m.\u001b[39mviscosity\u001b[38;5;241m.\u001b[39mliquid_pure_ls\n\u001b[0;32m----> 2\u001b[0m \u001b[43mA\u001b[49m\u001b[38;5;241m.\u001b[39madd_model(propname\u001b[38;5;241m=\u001b[39m\u001b[38;5;124m'\u001b[39m\u001b[38;5;124mpore.viscosity\u001b[39m\u001b[38;5;124m'\u001b[39m,\n\u001b[1;32m      3\u001b[0m             model\u001b[38;5;241m=\u001b[39mf)\n\u001b[1;32m      4\u001b[0m \u001b[38;5;28mprint\u001b[39m(A[\u001b[38;5;124m'\u001b[39m\u001b[38;5;124mpore.viscosity\u001b[39m\u001b[38;5;124m'\u001b[39m])\n",
      "\u001b[0;31mNameError\u001b[0m: name 'A' is not defined"
     ]
    }
   ],
   "source": [
    "f = op.models.phase.viscosity.liquid_pure_ls\n",
    "A.add_model(propname='pore.viscosity',\n",
    "            model=f)\n",
    "print(A['pore.viscosity'])"
   ]
  },
  {
   "cell_type": "markdown",
   "id": "a1029a40",
   "metadata": {},
   "source": [
    "This function requires several pieces of thermodynamics information, such as the critical temperature and pressure. You can see all the arguments below:"
   ]
  },
  {
   "cell_type": "code",
   "execution_count": 6,
   "id": "ca912b99",
   "metadata": {
    "execution": {
     "iopub.execute_input": "2022-09-07T19:29:10.068380Z",
     "iopub.status.busy": "2022-09-07T19:29:10.068126Z",
     "iopub.status.idle": "2022-09-07T19:29:10.082554Z",
     "shell.execute_reply": "2022-09-07T19:29:10.081829Z"
    }
   },
   "outputs": [
    {
     "ename": "NameError",
     "evalue": "name 'A' is not defined",
     "output_type": "error",
     "traceback": [
      "\u001b[0;31m---------------------------------------------------------------------------\u001b[0m",
      "\u001b[0;31mNameError\u001b[0m                                 Traceback (most recent call last)",
      "Cell \u001b[0;32mIn [6], line 1\u001b[0m\n\u001b[0;32m----> 1\u001b[0m \u001b[38;5;28mprint\u001b[39m(\u001b[43mA\u001b[49m\u001b[38;5;241m.\u001b[39mmodels)\n",
      "\u001b[0;31mNameError\u001b[0m: name 'A' is not defined"
     ]
    }
   ],
   "source": [
    "print(A.models)"
   ]
  },
  {
   "cell_type": "markdown",
   "id": "34a7b72d",
   "metadata": {},
   "source": [
    "The above shows that the temperature of the phase is fetched as ``'pore.temperature'``, while all the rest are retrieved from the ``params`` attribute.  To further illustrate this behavior, we could write the critical temperature ``A['pore.critical_temperature']`` and also overwrite the default argument:"
   ]
  },
  {
   "cell_type": "code",
   "execution_count": 7,
   "id": "6bcf36b3",
   "metadata": {
    "execution": {
     "iopub.execute_input": "2022-09-07T19:29:10.085824Z",
     "iopub.status.busy": "2022-09-07T19:29:10.085550Z",
     "iopub.status.idle": "2022-09-07T19:29:10.103025Z",
     "shell.execute_reply": "2022-09-07T19:29:10.102179Z"
    }
   },
   "outputs": [
    {
     "ename": "NameError",
     "evalue": "name 'A' is not defined",
     "output_type": "error",
     "traceback": [
      "\u001b[0;31m---------------------------------------------------------------------------\u001b[0m",
      "\u001b[0;31mNameError\u001b[0m                                 Traceback (most recent call last)",
      "Cell \u001b[0;32mIn [7], line 1\u001b[0m\n\u001b[0;32m----> 1\u001b[0m \u001b[43mA\u001b[49m\u001b[38;5;241m.\u001b[39mmodels[\u001b[38;5;124m'\u001b[39m\u001b[38;5;124mpore.viscosity@all\u001b[39m\u001b[38;5;124m'\u001b[39m][\u001b[38;5;124m'\u001b[39m\u001b[38;5;124mTc\u001b[39m\u001b[38;5;124m'\u001b[39m] \u001b[38;5;241m=\u001b[39m \u001b[38;5;124m'\u001b[39m\u001b[38;5;124mpore.critical_temperature\u001b[39m\u001b[38;5;124m'\u001b[39m\n\u001b[1;32m      2\u001b[0m A[\u001b[38;5;124m'\u001b[39m\u001b[38;5;124mpore.critical_temperature\u001b[39m\u001b[38;5;124m'\u001b[39m] \u001b[38;5;241m=\u001b[39m A[\u001b[38;5;124m'\u001b[39m\u001b[38;5;124mparam.critical_temperature\u001b[39m\u001b[38;5;124m'\u001b[39m]\n",
      "\u001b[0;31mNameError\u001b[0m: name 'A' is not defined"
     ]
    }
   ],
   "source": [
    "A.models['pore.viscosity@all']['Tc'] = 'pore.critical_temperature'\n",
    "A['pore.critical_temperature'] = A['param.critical_temperature']"
   ]
  },
  {
   "cell_type": "code",
   "execution_count": 8,
   "id": "811626ab",
   "metadata": {
    "execution": {
     "iopub.execute_input": "2022-09-07T19:29:10.106349Z",
     "iopub.status.busy": "2022-09-07T19:29:10.106095Z",
     "iopub.status.idle": "2022-09-07T19:29:10.120982Z",
     "shell.execute_reply": "2022-09-07T19:29:10.119900Z"
    }
   },
   "outputs": [
    {
     "ename": "NameError",
     "evalue": "name 'A' is not defined",
     "output_type": "error",
     "traceback": [
      "\u001b[0;31m---------------------------------------------------------------------------\u001b[0m",
      "\u001b[0;31mNameError\u001b[0m                                 Traceback (most recent call last)",
      "Cell \u001b[0;32mIn [8], line 1\u001b[0m\n\u001b[0;32m----> 1\u001b[0m \u001b[38;5;28mprint\u001b[39m(\u001b[43mA\u001b[49m\u001b[38;5;241m.\u001b[39mmodels)\n",
      "\u001b[0;31mNameError\u001b[0m: name 'A' is not defined"
     ]
    }
   ],
   "source": [
    "print(A.models)"
   ]
  },
  {
   "cell_type": "markdown",
   "id": "fd806b08",
   "metadata": {},
   "source": [
    "Now when we regenerate the model it will fetch the critical temperature values for each pore but will work as expected:"
   ]
  },
  {
   "cell_type": "code",
   "execution_count": 9,
   "id": "1ab22b64",
   "metadata": {
    "execution": {
     "iopub.execute_input": "2022-09-07T19:29:10.124376Z",
     "iopub.status.busy": "2022-09-07T19:29:10.124141Z",
     "iopub.status.idle": "2022-09-07T19:29:10.137743Z",
     "shell.execute_reply": "2022-09-07T19:29:10.136925Z"
    }
   },
   "outputs": [
    {
     "ename": "NameError",
     "evalue": "name 'A' is not defined",
     "output_type": "error",
     "traceback": [
      "\u001b[0;31m---------------------------------------------------------------------------\u001b[0m",
      "\u001b[0;31mNameError\u001b[0m                                 Traceback (most recent call last)",
      "Cell \u001b[0;32mIn [9], line 1\u001b[0m\n\u001b[0;32m----> 1\u001b[0m \u001b[43mA\u001b[49m\u001b[38;5;241m.\u001b[39mregenerate_models()\n\u001b[1;32m      2\u001b[0m \u001b[38;5;28mprint\u001b[39m(A[\u001b[38;5;124m'\u001b[39m\u001b[38;5;124mpore.viscosity\u001b[39m\u001b[38;5;124m'\u001b[39m])\n",
      "\u001b[0;31mNameError\u001b[0m: name 'A' is not defined"
     ]
    }
   ],
   "source": [
    "A.regenerate_models()\n",
    "print(A['pore.viscosity'])"
   ]
  },
  {
   "cell_type": "markdown",
   "id": "9196a282",
   "metadata": {},
   "source": [
    "### Gas and Liquid Species\n",
    "\n",
    "OpenPNM has a suite of functions for computing the properties of pure phases, but these functions differ for gases and liquids.  For this reason we offer two classes for gas and liquid with the appropriate models already defined.  These are referred to as ``StandardLiquid`` and ``StandardGas`` to indicate that the models being used are the standard selection which provide a first-approximatation:"
   ]
  },
  {
   "cell_type": "code",
   "execution_count": 10,
   "id": "bbf84846",
   "metadata": {
    "execution": {
     "iopub.execute_input": "2022-09-07T19:29:10.141218Z",
     "iopub.status.busy": "2022-09-07T19:29:10.140621Z",
     "iopub.status.idle": "2022-09-07T19:29:10.171461Z",
     "shell.execute_reply": "2022-09-07T19:29:10.170561Z"
    }
   },
   "outputs": [
    {
     "ename": "ModuleNotFoundError",
     "evalue": "No module named 'thermo'",
     "output_type": "error",
     "traceback": [
      "\u001b[0;31m---------------------------------------------------------------------------\u001b[0m",
      "\u001b[0;31mModuleNotFoundError\u001b[0m                       Traceback (most recent call last)",
      "Cell \u001b[0;32mIn [10], line 1\u001b[0m\n\u001b[0;32m----> 1\u001b[0m A \u001b[38;5;241m=\u001b[39m \u001b[43mop\u001b[49m\u001b[38;5;241;43m.\u001b[39;49m\u001b[43mphase\u001b[49m\u001b[38;5;241;43m.\u001b[39;49m\u001b[43mStandardGas\u001b[49m\u001b[43m(\u001b[49m\u001b[43mnetwork\u001b[49m\u001b[38;5;241;43m=\u001b[39;49m\u001b[43mpn\u001b[49m\u001b[43m,\u001b[49m\u001b[43m \u001b[49m\u001b[43mspecies\u001b[49m\u001b[38;5;241;43m=\u001b[39;49m\u001b[38;5;124;43m'\u001b[39;49m\u001b[38;5;124;43mo2\u001b[39;49m\u001b[38;5;124;43m'\u001b[39;49m\u001b[43m)\u001b[49m\n\u001b[1;32m      2\u001b[0m B \u001b[38;5;241m=\u001b[39m op\u001b[38;5;241m.\u001b[39mphase\u001b[38;5;241m.\u001b[39mStandardLiquid(network\u001b[38;5;241m=\u001b[39mpn, species\u001b[38;5;241m=\u001b[39m\u001b[38;5;124m'\u001b[39m\u001b[38;5;124mh2o\u001b[39m\u001b[38;5;124m'\u001b[39m)\n",
      "File \u001b[0;32m~/work/OpenPNM/OpenPNM/openpnm/phase/_species.py:70\u001b[0m, in \u001b[0;36mStandardGas.__init__\u001b[0;34m(self, *args, **kwargs)\u001b[0m\n\u001b[1;32m     69\u001b[0m \u001b[38;5;28;01mdef\u001b[39;00m \u001b[38;5;21m__init__\u001b[39m(\u001b[38;5;28mself\u001b[39m, \u001b[38;5;241m*\u001b[39margs, \u001b[38;5;241m*\u001b[39m\u001b[38;5;241m*\u001b[39mkwargs):\n\u001b[0;32m---> 70\u001b[0m     \u001b[38;5;28;43msuper\u001b[39;49m\u001b[43m(\u001b[49m\u001b[43m)\u001b[49m\u001b[38;5;241;43m.\u001b[39;49m\u001b[38;5;21;43m__init__\u001b[39;49m\u001b[43m(\u001b[49m\u001b[38;5;241;43m*\u001b[39;49m\u001b[43margs\u001b[49m\u001b[43m,\u001b[49m\u001b[43m \u001b[49m\u001b[38;5;241;43m*\u001b[39;49m\u001b[38;5;241;43m*\u001b[39;49m\u001b[43mkwargs\u001b[49m\u001b[43m)\u001b[49m\n\u001b[1;32m     71\u001b[0m     \u001b[38;5;28mself\u001b[39m\u001b[38;5;241m.\u001b[39madd_model_collection(standard_gas)\n\u001b[1;32m     72\u001b[0m     \u001b[38;5;28mself\u001b[39m\u001b[38;5;241m.\u001b[39mregenerate_models()\n",
      "File \u001b[0;32m~/work/OpenPNM/OpenPNM/openpnm/phase/_species.py:44\u001b[0m, in \u001b[0;36mSpecies.__init__\u001b[0;34m(self, species, **kwargs)\u001b[0m\n\u001b[1;32m     42\u001b[0m \u001b[38;5;28;01mdef\u001b[39;00m \u001b[38;5;21m__init__\u001b[39m(\u001b[38;5;28mself\u001b[39m, species, \u001b[38;5;241m*\u001b[39m\u001b[38;5;241m*\u001b[39mkwargs):\n\u001b[1;32m     43\u001b[0m     \u001b[38;5;66;03m# Create temp first to ensure all look-ups pass before initializing obj\u001b[39;00m\n\u001b[0;32m---> 44\u001b[0m     \u001b[38;5;28;01mfrom\u001b[39;00m \u001b[38;5;21;01mthermo\u001b[39;00m \u001b[38;5;28;01mimport\u001b[39;00m Chemical\n\u001b[1;32m     45\u001b[0m     temp \u001b[38;5;241m=\u001b[39m _fetch_chemical_props(Chemical(species))\n\u001b[1;32m     46\u001b[0m     \u001b[38;5;28msuper\u001b[39m()\u001b[38;5;241m.\u001b[39m\u001b[38;5;21m__init__\u001b[39m(\u001b[38;5;241m*\u001b[39m\u001b[38;5;241m*\u001b[39mkwargs)\n",
      "\u001b[0;31mModuleNotFoundError\u001b[0m: No module named 'thermo'"
     ]
    }
   ],
   "source": [
    "A = op.phase.StandardGas(network=pn, species='o2')\n",
    "B = op.phase.StandardLiquid(network=pn, species='h2o')"
   ]
  },
  {
   "cell_type": "markdown",
   "id": "e8c5a237",
   "metadata": {},
   "source": [
    "These objects are populated with their respective thermodynamic properties:"
   ]
  },
  {
   "cell_type": "code",
   "execution_count": 11,
   "id": "dd35e029",
   "metadata": {
    "execution": {
     "iopub.execute_input": "2022-09-07T19:29:10.175158Z",
     "iopub.status.busy": "2022-09-07T19:29:10.174714Z",
     "iopub.status.idle": "2022-09-07T19:29:10.189736Z",
     "shell.execute_reply": "2022-09-07T19:29:10.188772Z"
    }
   },
   "outputs": [
    {
     "ename": "NameError",
     "evalue": "name 'A' is not defined",
     "output_type": "error",
     "traceback": [
      "\u001b[0;31m---------------------------------------------------------------------------\u001b[0m",
      "\u001b[0;31mNameError\u001b[0m                                 Traceback (most recent call last)",
      "Cell \u001b[0;32mIn [11], line 1\u001b[0m\n\u001b[0;32m----> 1\u001b[0m \u001b[38;5;28mprint\u001b[39m(\u001b[43mA\u001b[49m\u001b[38;5;241m.\u001b[39mparams)\n",
      "\u001b[0;31mNameError\u001b[0m: name 'A' is not defined"
     ]
    }
   ],
   "source": [
    "print(A.params)"
   ]
  },
  {
   "cell_type": "markdown",
   "id": "7ef48c42",
   "metadata": {},
   "source": [
    "The models used on each can be seen by printing the models attribute:"
   ]
  },
  {
   "cell_type": "code",
   "execution_count": 12,
   "id": "1a773a67",
   "metadata": {
    "execution": {
     "iopub.execute_input": "2022-09-07T19:29:10.193495Z",
     "iopub.status.busy": "2022-09-07T19:29:10.193134Z",
     "iopub.status.idle": "2022-09-07T19:29:10.208751Z",
     "shell.execute_reply": "2022-09-07T19:29:10.208046Z"
    }
   },
   "outputs": [
    {
     "ename": "NameError",
     "evalue": "name 'A' is not defined",
     "output_type": "error",
     "traceback": [
      "\u001b[0;31m---------------------------------------------------------------------------\u001b[0m",
      "\u001b[0;31mNameError\u001b[0m                                 Traceback (most recent call last)",
      "Cell \u001b[0;32mIn [12], line 1\u001b[0m\n\u001b[0;32m----> 1\u001b[0m \u001b[38;5;28mprint\u001b[39m(\u001b[43mA\u001b[49m)\n",
      "\u001b[0;31mNameError\u001b[0m: name 'A' is not defined"
     ]
    }
   ],
   "source": [
    "print(A)"
   ]
  },
  {
   "cell_type": "code",
   "execution_count": 13,
   "id": "1d063eb2",
   "metadata": {
    "execution": {
     "iopub.execute_input": "2022-09-07T19:29:10.211984Z",
     "iopub.status.busy": "2022-09-07T19:29:10.211720Z",
     "iopub.status.idle": "2022-09-07T19:29:10.227655Z",
     "shell.execute_reply": "2022-09-07T19:29:10.226867Z"
    }
   },
   "outputs": [
    {
     "ename": "NameError",
     "evalue": "name 'B' is not defined",
     "output_type": "error",
     "traceback": [
      "\u001b[0;31m---------------------------------------------------------------------------\u001b[0m",
      "\u001b[0;31mNameError\u001b[0m                                 Traceback (most recent call last)",
      "Cell \u001b[0;32mIn [13], line 1\u001b[0m\n\u001b[0;32m----> 1\u001b[0m \u001b[38;5;28mprint\u001b[39m(\u001b[43mB\u001b[49m)\n",
      "\u001b[0;31mNameError\u001b[0m: name 'B' is not defined"
     ]
    }
   ],
   "source": [
    "print(B)"
   ]
  },
  {
   "cell_type": "markdown",
   "id": "7ae54894",
   "metadata": {},
   "source": [
    "## Gas and Liquid Mixtures\n",
    "\n",
    "The framework for defining mixtures was officially added in V3, and it allows for the calculation of mixture properties based on the properties of the individual phases and their relative concentrations. There are a number of pore-scale models added to the ``openpnm.models.phase`` library for making these estimations, either using mixing rules or other correlations."
   ]
  },
  {
   "cell_type": "markdown",
   "id": "50a5617e",
   "metadata": {},
   "source": [
    "Creating a mixture first requires defining each of the pure components.  In this case, let's create vodka:"
   ]
  },
  {
   "cell_type": "code",
   "execution_count": 14,
   "id": "bffa0538",
   "metadata": {
    "execution": {
     "iopub.execute_input": "2022-09-07T19:29:10.231706Z",
     "iopub.status.busy": "2022-09-07T19:29:10.231430Z",
     "iopub.status.idle": "2022-09-07T19:29:10.260403Z",
     "shell.execute_reply": "2022-09-07T19:29:10.259522Z"
    }
   },
   "outputs": [
    {
     "ename": "ModuleNotFoundError",
     "evalue": "No module named 'thermo'",
     "output_type": "error",
     "traceback": [
      "\u001b[0;31m---------------------------------------------------------------------------\u001b[0m",
      "\u001b[0;31mModuleNotFoundError\u001b[0m                       Traceback (most recent call last)",
      "Cell \u001b[0;32mIn [14], line 1\u001b[0m\n\u001b[0;32m----> 1\u001b[0m water \u001b[38;5;241m=\u001b[39m \u001b[43mop\u001b[49m\u001b[38;5;241;43m.\u001b[39;49m\u001b[43mphase\u001b[49m\u001b[38;5;241;43m.\u001b[39;49m\u001b[43mStandardLiquid\u001b[49m\u001b[43m(\u001b[49m\u001b[43mnetwork\u001b[49m\u001b[38;5;241;43m=\u001b[39;49m\u001b[43mpn\u001b[49m\u001b[43m,\u001b[49m\u001b[43m \u001b[49m\u001b[43mspecies\u001b[49m\u001b[38;5;241;43m=\u001b[39;49m\u001b[38;5;124;43m'\u001b[39;49m\u001b[38;5;124;43mh2o\u001b[39;49m\u001b[38;5;124;43m'\u001b[39;49m\u001b[43m)\u001b[49m\n\u001b[1;32m      2\u001b[0m etoh \u001b[38;5;241m=\u001b[39m op\u001b[38;5;241m.\u001b[39mphase\u001b[38;5;241m.\u001b[39mStandardLiquid(network\u001b[38;5;241m=\u001b[39mpn, species\u001b[38;5;241m=\u001b[39m\u001b[38;5;124m'\u001b[39m\u001b[38;5;124methanol\u001b[39m\u001b[38;5;124m'\u001b[39m)\n",
      "File \u001b[0;32m~/work/OpenPNM/OpenPNM/openpnm/phase/_species.py:62\u001b[0m, in \u001b[0;36mStandardLiquid.__init__\u001b[0;34m(self, *args, **kwargs)\u001b[0m\n\u001b[1;32m     61\u001b[0m \u001b[38;5;28;01mdef\u001b[39;00m \u001b[38;5;21m__init__\u001b[39m(\u001b[38;5;28mself\u001b[39m, \u001b[38;5;241m*\u001b[39margs, \u001b[38;5;241m*\u001b[39m\u001b[38;5;241m*\u001b[39mkwargs):\n\u001b[0;32m---> 62\u001b[0m     \u001b[38;5;28;43msuper\u001b[39;49m\u001b[43m(\u001b[49m\u001b[43m)\u001b[49m\u001b[38;5;241;43m.\u001b[39;49m\u001b[38;5;21;43m__init__\u001b[39;49m\u001b[43m(\u001b[49m\u001b[38;5;241;43m*\u001b[39;49m\u001b[43margs\u001b[49m\u001b[43m,\u001b[49m\u001b[43m \u001b[49m\u001b[38;5;241;43m*\u001b[39;49m\u001b[38;5;241;43m*\u001b[39;49m\u001b[43mkwargs\u001b[49m\u001b[43m)\u001b[49m\n\u001b[1;32m     63\u001b[0m     \u001b[38;5;28mself\u001b[39m\u001b[38;5;241m.\u001b[39madd_model_collection(standard_liquid)\n\u001b[1;32m     64\u001b[0m     \u001b[38;5;28mself\u001b[39m\u001b[38;5;241m.\u001b[39mregenerate_models()\n",
      "File \u001b[0;32m~/work/OpenPNM/OpenPNM/openpnm/phase/_species.py:44\u001b[0m, in \u001b[0;36mSpecies.__init__\u001b[0;34m(self, species, **kwargs)\u001b[0m\n\u001b[1;32m     42\u001b[0m \u001b[38;5;28;01mdef\u001b[39;00m \u001b[38;5;21m__init__\u001b[39m(\u001b[38;5;28mself\u001b[39m, species, \u001b[38;5;241m*\u001b[39m\u001b[38;5;241m*\u001b[39mkwargs):\n\u001b[1;32m     43\u001b[0m     \u001b[38;5;66;03m# Create temp first to ensure all look-ups pass before initializing obj\u001b[39;00m\n\u001b[0;32m---> 44\u001b[0m     \u001b[38;5;28;01mfrom\u001b[39;00m \u001b[38;5;21;01mthermo\u001b[39;00m \u001b[38;5;28;01mimport\u001b[39;00m Chemical\n\u001b[1;32m     45\u001b[0m     temp \u001b[38;5;241m=\u001b[39m _fetch_chemical_props(Chemical(species))\n\u001b[1;32m     46\u001b[0m     \u001b[38;5;28msuper\u001b[39m()\u001b[38;5;241m.\u001b[39m\u001b[38;5;21m__init__\u001b[39m(\u001b[38;5;241m*\u001b[39m\u001b[38;5;241m*\u001b[39mkwargs)\n",
      "\u001b[0;31mModuleNotFoundError\u001b[0m: No module named 'thermo'"
     ]
    }
   ],
   "source": [
    "water = op.phase.StandardLiquid(network=pn, species='h2o')\n",
    "etoh = op.phase.StandardLiquid(network=pn, species='ethanol')"
   ]
  },
  {
   "cell_type": "markdown",
   "id": "0c45a22a",
   "metadata": {},
   "source": [
    "Next let's create the mixture:"
   ]
  },
  {
   "cell_type": "code",
   "execution_count": 15,
   "id": "aef234c0",
   "metadata": {
    "execution": {
     "iopub.execute_input": "2022-09-07T19:29:10.264486Z",
     "iopub.status.busy": "2022-09-07T19:29:10.264095Z",
     "iopub.status.idle": "2022-09-07T19:29:10.280657Z",
     "shell.execute_reply": "2022-09-07T19:29:10.279927Z"
    }
   },
   "outputs": [
    {
     "ename": "NameError",
     "evalue": "name 'water' is not defined",
     "output_type": "error",
     "traceback": [
      "\u001b[0;31m---------------------------------------------------------------------------\u001b[0m",
      "\u001b[0;31mNameError\u001b[0m                                 Traceback (most recent call last)",
      "Cell \u001b[0;32mIn [15], line 1\u001b[0m\n\u001b[0;32m----> 1\u001b[0m vodka \u001b[38;5;241m=\u001b[39m op\u001b[38;5;241m.\u001b[39mphase\u001b[38;5;241m.\u001b[39mStandardLiquidMixture(network\u001b[38;5;241m=\u001b[39mpn, components\u001b[38;5;241m=\u001b[39m[\u001b[43mwater\u001b[49m, etoh])\n",
      "\u001b[0;31mNameError\u001b[0m: name 'water' is not defined"
     ]
    }
   ],
   "source": [
    "vodka = op.phase.StandardLiquidMixture(network=pn, components=[water, etoh])"
   ]
  },
  {
   "cell_type": "markdown",
   "id": "62025cbe",
   "metadata": {},
   "source": [
    "Before using this we must first specify the compositions:"
   ]
  },
  {
   "cell_type": "code",
   "execution_count": 16,
   "id": "27b5ef20",
   "metadata": {
    "execution": {
     "iopub.execute_input": "2022-09-07T19:29:10.284237Z",
     "iopub.status.busy": "2022-09-07T19:29:10.283998Z",
     "iopub.status.idle": "2022-09-07T19:29:10.299744Z",
     "shell.execute_reply": "2022-09-07T19:29:10.298626Z"
    }
   },
   "outputs": [
    {
     "ename": "NameError",
     "evalue": "name 'vodka' is not defined",
     "output_type": "error",
     "traceback": [
      "\u001b[0;31m---------------------------------------------------------------------------\u001b[0m",
      "\u001b[0;31mNameError\u001b[0m                                 Traceback (most recent call last)",
      "Cell \u001b[0;32mIn [16], line 1\u001b[0m\n\u001b[0;32m----> 1\u001b[0m \u001b[43mvodka\u001b[49m\u001b[38;5;241m.\u001b[39mx(water, \u001b[38;5;241m0.6\u001b[39m)\n\u001b[1;32m      2\u001b[0m vodka\u001b[38;5;241m.\u001b[39mx(etoh, \u001b[38;5;241m0.4\u001b[39m)\n",
      "\u001b[0;31mNameError\u001b[0m: name 'vodka' is not defined"
     ]
    }
   ],
   "source": [
    "vodka.x(water, 0.6)\n",
    "vodka.x(etoh, 0.4)"
   ]
  },
  {
   "cell_type": "markdown",
   "id": "ca460ac4",
   "metadata": {},
   "source": [
    "Now we can run the models, which all require knowing the composition:"
   ]
  },
  {
   "cell_type": "code",
   "execution_count": 17,
   "id": "6d220667",
   "metadata": {
    "execution": {
     "iopub.execute_input": "2022-09-07T19:29:10.304259Z",
     "iopub.status.busy": "2022-09-07T19:29:10.303870Z",
     "iopub.status.idle": "2022-09-07T19:29:10.319334Z",
     "shell.execute_reply": "2022-09-07T19:29:10.318617Z"
    }
   },
   "outputs": [
    {
     "ename": "NameError",
     "evalue": "name 'vodka' is not defined",
     "output_type": "error",
     "traceback": [
      "\u001b[0;31m---------------------------------------------------------------------------\u001b[0m",
      "\u001b[0;31mNameError\u001b[0m                                 Traceback (most recent call last)",
      "Cell \u001b[0;32mIn [17], line 1\u001b[0m\n\u001b[0;32m----> 1\u001b[0m \u001b[43mvodka\u001b[49m\u001b[38;5;241m.\u001b[39mregenerate_models()\n",
      "\u001b[0;31mNameError\u001b[0m: name 'vodka' is not defined"
     ]
    }
   ],
   "source": [
    "vodka.regenerate_models()"
   ]
  },
  {
   "cell_type": "markdown",
   "id": "5d708a21",
   "metadata": {},
   "source": [
    "The main class is the ``Mixture`` class, and there are several subclasses which each add some specific functionality"
   ]
  },
  {
   "cell_type": "markdown",
   "id": "b114ed19",
   "metadata": {},
   "source": [
    "The printout of a mixture includes not only the mixture properties, but also shows the individual components as well:"
   ]
  },
  {
   "cell_type": "code",
   "execution_count": 18,
   "id": "83d679c6",
   "metadata": {
    "execution": {
     "iopub.execute_input": "2022-09-07T19:29:10.322763Z",
     "iopub.status.busy": "2022-09-07T19:29:10.322491Z",
     "iopub.status.idle": "2022-09-07T19:29:10.337605Z",
     "shell.execute_reply": "2022-09-07T19:29:10.336652Z"
    }
   },
   "outputs": [
    {
     "ename": "NameError",
     "evalue": "name 'vodka' is not defined",
     "output_type": "error",
     "traceback": [
      "\u001b[0;31m---------------------------------------------------------------------------\u001b[0m",
      "\u001b[0;31mNameError\u001b[0m                                 Traceback (most recent call last)",
      "Cell \u001b[0;32mIn [18], line 1\u001b[0m\n\u001b[0;32m----> 1\u001b[0m f \u001b[38;5;241m=\u001b[39m \u001b[43mvodka\u001b[49m\u001b[38;5;241m.\u001b[39mmodels[\u001b[38;5;124m'\u001b[39m\u001b[38;5;124mpore.heat_capacity@all\u001b[39m\u001b[38;5;124m'\u001b[39m][\u001b[38;5;124m'\u001b[39m\u001b[38;5;124mmodel\u001b[39m\u001b[38;5;124m'\u001b[39m]\n",
      "\u001b[0;31mNameError\u001b[0m: name 'vodka' is not defined"
     ]
    }
   ],
   "source": [
    "f = vodka.models['pore.heat_capacity@all']['model']"
   ]
  },
  {
   "cell_type": "markdown",
   "id": "b3c56558",
   "metadata": {},
   "source": [
    "We can see that several properties for the mixture have been computed:"
   ]
  },
  {
   "cell_type": "code",
   "execution_count": 19,
   "id": "f0c36188",
   "metadata": {
    "execution": {
     "iopub.execute_input": "2022-09-07T19:29:10.340715Z",
     "iopub.status.busy": "2022-09-07T19:29:10.340476Z",
     "iopub.status.idle": "2022-09-07T19:29:10.356522Z",
     "shell.execute_reply": "2022-09-07T19:29:10.355481Z"
    }
   },
   "outputs": [
    {
     "ename": "NameError",
     "evalue": "name 'vodka' is not defined",
     "output_type": "error",
     "traceback": [
      "\u001b[0;31m---------------------------------------------------------------------------\u001b[0m",
      "\u001b[0;31mNameError\u001b[0m                                 Traceback (most recent call last)",
      "Cell \u001b[0;32mIn [19], line 1\u001b[0m\n\u001b[0;32m----> 1\u001b[0m \u001b[38;5;28mprint\u001b[39m(\u001b[43mvodka\u001b[49m)\n",
      "\u001b[0;31mNameError\u001b[0m: name 'vodka' is not defined"
     ]
    }
   ],
   "source": [
    "print(vodka)"
   ]
  },
  {
   "cell_type": "markdown",
   "id": "74a52c07",
   "metadata": {},
   "source": [
    "If we change the composition of the components, and rerun the models, the mixture properties will change:"
   ]
  },
  {
   "cell_type": "code",
   "execution_count": 20,
   "id": "58c18ad1",
   "metadata": {
    "execution": {
     "iopub.execute_input": "2022-09-07T19:29:10.359713Z",
     "iopub.status.busy": "2022-09-07T19:29:10.359446Z",
     "iopub.status.idle": "2022-09-07T19:29:10.377737Z",
     "shell.execute_reply": "2022-09-07T19:29:10.376892Z"
    }
   },
   "outputs": [
    {
     "ename": "NameError",
     "evalue": "name 'vodka' is not defined",
     "output_type": "error",
     "traceback": [
      "\u001b[0;31m---------------------------------------------------------------------------\u001b[0m",
      "\u001b[0;31mNameError\u001b[0m                                 Traceback (most recent call last)",
      "Cell \u001b[0;32mIn [20], line 1\u001b[0m\n\u001b[0;32m----> 1\u001b[0m \u001b[38;5;28mprint\u001b[39m(\u001b[43mvodka\u001b[49m[\u001b[38;5;124m'\u001b[39m\u001b[38;5;124mpore.viscosity\u001b[39m\u001b[38;5;124m'\u001b[39m])\n\u001b[1;32m      2\u001b[0m vodka\u001b[38;5;241m.\u001b[39mx(water, \u001b[38;5;241m0.8\u001b[39m)\n\u001b[1;32m      3\u001b[0m vodka\u001b[38;5;241m.\u001b[39mx(etoh, \u001b[38;5;241m0.2\u001b[39m)\n",
      "\u001b[0;31mNameError\u001b[0m: name 'vodka' is not defined"
     ]
    }
   ],
   "source": [
    "print(vodka['pore.viscosity'])\n",
    "vodka.x(water, 0.8)\n",
    "vodka.x(etoh, 0.2)\n",
    "vodka.regenerate_models()\n",
    "print(vodka['pore.viscosity'])"
   ]
  },
  {
   "cell_type": "markdown",
   "id": "a62c06ed",
   "metadata": {},
   "source": [
    "## Exploring the Features of the Mixture Objects"
   ]
  },
  {
   "cell_type": "markdown",
   "id": "340d8a1f",
   "metadata": {},
   "source": [
    "### ``info``\n",
    "The info attribute reports all the existing properties on the mixture (similar to ``print``) but also of each of the components:"
   ]
  },
  {
   "cell_type": "code",
   "execution_count": 21,
   "id": "72e1d461",
   "metadata": {
    "execution": {
     "iopub.execute_input": "2022-09-07T19:29:10.381692Z",
     "iopub.status.busy": "2022-09-07T19:29:10.381220Z",
     "iopub.status.idle": "2022-09-07T19:29:10.397472Z",
     "shell.execute_reply": "2022-09-07T19:29:10.396722Z"
    }
   },
   "outputs": [
    {
     "ename": "NameError",
     "evalue": "name 'vodka' is not defined",
     "output_type": "error",
     "traceback": [
      "\u001b[0;31m---------------------------------------------------------------------------\u001b[0m",
      "\u001b[0;31mNameError\u001b[0m                                 Traceback (most recent call last)",
      "Cell \u001b[0;32mIn [21], line 1\u001b[0m\n\u001b[0;32m----> 1\u001b[0m \u001b[43mvodka\u001b[49m\u001b[38;5;241m.\u001b[39minfo\n",
      "\u001b[0;31mNameError\u001b[0m: name 'vodka' is not defined"
     ]
    }
   ],
   "source": [
    "vodka.info"
   ]
  },
  {
   "cell_type": "markdown",
   "id": "7ae52406",
   "metadata": {},
   "source": [
    "### Get component mole fractions\n",
    "\n",
    "You'll notice that the mixture object has arrays called ``'pore.mole_fraction.<compname>'`` for each component. The dictionary look-up in OpenPNM will return a subdictionary if the given key is just ``'pore.mole_fraction'``."
   ]
  },
  {
   "cell_type": "code",
   "execution_count": 22,
   "id": "77913264",
   "metadata": {
    "execution": {
     "iopub.execute_input": "2022-09-07T19:29:10.400815Z",
     "iopub.status.busy": "2022-09-07T19:29:10.400571Z",
     "iopub.status.idle": "2022-09-07T19:29:10.416508Z",
     "shell.execute_reply": "2022-09-07T19:29:10.415770Z"
    }
   },
   "outputs": [
    {
     "ename": "NameError",
     "evalue": "name 'vodka' is not defined",
     "output_type": "error",
     "traceback": [
      "\u001b[0;31m---------------------------------------------------------------------------\u001b[0m",
      "\u001b[0;31mNameError\u001b[0m                                 Traceback (most recent call last)",
      "Cell \u001b[0;32mIn [22], line 1\u001b[0m\n\u001b[0;32m----> 1\u001b[0m \u001b[43mvodka\u001b[49m[\u001b[38;5;124m'\u001b[39m\u001b[38;5;124mpore.mole_fraction\u001b[39m\u001b[38;5;124m'\u001b[39m]\n",
      "\u001b[0;31mNameError\u001b[0m: name 'vodka' is not defined"
     ]
    }
   ],
   "source": [
    "vodka['pore.mole_fraction']"
   ]
  },
  {
   "cell_type": "markdown",
   "id": "77f5ce8a",
   "metadata": {},
   "source": [
    "### ``components``\n",
    "This attribute returns a dictionary with each of the components accessible by their name:"
   ]
  },
  {
   "cell_type": "code",
   "execution_count": 23,
   "id": "7059abd5",
   "metadata": {
    "execution": {
     "iopub.execute_input": "2022-09-07T19:29:10.420229Z",
     "iopub.status.busy": "2022-09-07T19:29:10.419745Z",
     "iopub.status.idle": "2022-09-07T19:29:10.435970Z",
     "shell.execute_reply": "2022-09-07T19:29:10.435152Z"
    }
   },
   "outputs": [
    {
     "ename": "NameError",
     "evalue": "name 'vodka' is not defined",
     "output_type": "error",
     "traceback": [
      "\u001b[0;31m---------------------------------------------------------------------------\u001b[0m",
      "\u001b[0;31mNameError\u001b[0m                                 Traceback (most recent call last)",
      "Cell \u001b[0;32mIn [23], line 1\u001b[0m\n\u001b[0;32m----> 1\u001b[0m d \u001b[38;5;241m=\u001b[39m \u001b[43mvodka\u001b[49m\u001b[38;5;241m.\u001b[39mcomponents\n\u001b[1;32m      2\u001b[0m \u001b[38;5;28mprint\u001b[39m(d\u001b[38;5;241m.\u001b[39mkeys())\n",
      "\u001b[0;31mNameError\u001b[0m: name 'vodka' is not defined"
     ]
    }
   ],
   "source": [
    "d = vodka.components\n",
    "print(d.keys())"
   ]
  },
  {
   "cell_type": "markdown",
   "id": "87df87e9",
   "metadata": {},
   "source": [
    "### ``get_comp_vals``\n",
    "Since the mixture is made from several components, it is often desired get the values of a specific property from each component.  This method provides a convenient way to do this:"
   ]
  },
  {
   "cell_type": "code",
   "execution_count": 24,
   "id": "04b5eea9",
   "metadata": {
    "execution": {
     "iopub.execute_input": "2022-09-07T19:29:10.439524Z",
     "iopub.status.busy": "2022-09-07T19:29:10.439087Z",
     "iopub.status.idle": "2022-09-07T19:29:10.456191Z",
     "shell.execute_reply": "2022-09-07T19:29:10.455303Z"
    }
   },
   "outputs": [
    {
     "ename": "NameError",
     "evalue": "name 'vodka' is not defined",
     "output_type": "error",
     "traceback": [
      "\u001b[0;31m---------------------------------------------------------------------------\u001b[0m",
      "\u001b[0;31mNameError\u001b[0m                                 Traceback (most recent call last)",
      "Cell \u001b[0;32mIn [24], line 1\u001b[0m\n\u001b[0;32m----> 1\u001b[0m mus \u001b[38;5;241m=\u001b[39m \u001b[43mvodka\u001b[49m\u001b[38;5;241m.\u001b[39mget_comp_vals(\u001b[38;5;124m'\u001b[39m\u001b[38;5;124mpore.viscosity\u001b[39m\u001b[38;5;124m'\u001b[39m)\n\u001b[1;32m      2\u001b[0m \u001b[38;5;28mprint\u001b[39m(mus)\n",
      "\u001b[0;31mNameError\u001b[0m: name 'vodka' is not defined"
     ]
    }
   ],
   "source": [
    "mus = vodka.get_comp_vals('pore.viscosity')\n",
    "print(mus)"
   ]
  },
  {
   "cell_type": "markdown",
   "id": "2bcbeafb",
   "metadata": {},
   "source": [
    "It is also possible to retrieve the properteis of a component by asking the mixture and appending the component name, as follows:"
   ]
  },
  {
   "cell_type": "code",
   "execution_count": 25,
   "id": "7b6a8ad2",
   "metadata": {
    "execution": {
     "iopub.execute_input": "2022-09-07T19:29:10.459909Z",
     "iopub.status.busy": "2022-09-07T19:29:10.459622Z",
     "iopub.status.idle": "2022-09-07T19:29:10.474740Z",
     "shell.execute_reply": "2022-09-07T19:29:10.473949Z"
    }
   },
   "outputs": [
    {
     "ename": "NameError",
     "evalue": "name 'vodka' is not defined",
     "output_type": "error",
     "traceback": [
      "\u001b[0;31m---------------------------------------------------------------------------\u001b[0m",
      "\u001b[0;31mNameError\u001b[0m                                 Traceback (most recent call last)",
      "Cell \u001b[0;32mIn [25], line 1\u001b[0m\n\u001b[0;32m----> 1\u001b[0m \u001b[43mvodka\u001b[49m[\u001b[38;5;124m'\u001b[39m\u001b[38;5;124mpore.viscosity.\u001b[39m\u001b[38;5;124m'\u001b[39m \u001b[38;5;241m+\u001b[39m water\u001b[38;5;241m.\u001b[39mname]\n",
      "\u001b[0;31mNameError\u001b[0m: name 'vodka' is not defined"
     ]
    }
   ],
   "source": [
    "vodka['pore.viscosity.' + water.name]"
   ]
  },
  {
   "cell_type": "markdown",
   "id": "99712cad",
   "metadata": {},
   "source": [
    "In reality there is no array on ``vodka`` with the name ``'pore.viscosity.phase_01'``, but failure to find this array is what actually triggers the look-up of the array from ``water``. This is a convenient feature that is added using some 'syntactic sugar' behind the scenes in Python.  "
   ]
  },
  {
   "cell_type": "markdown",
   "id": "11aa2330",
   "metadata": {},
   "source": [
    "### Using the wildcard (``*``) syntax\n",
    "\n",
    "One more feature that has been added is the ability to fetch requested property arrays from *all* the components by replacing the component name with the universal *wildcard* symbmol: ``*`` as follows:"
   ]
  },
  {
   "cell_type": "code",
   "execution_count": 26,
   "id": "9c1a9650",
   "metadata": {
    "execution": {
     "iopub.execute_input": "2022-09-07T19:29:10.478116Z",
     "iopub.status.busy": "2022-09-07T19:29:10.477868Z",
     "iopub.status.idle": "2022-09-07T19:29:10.495633Z",
     "shell.execute_reply": "2022-09-07T19:29:10.494687Z"
    }
   },
   "outputs": [
    {
     "ename": "NameError",
     "evalue": "name 'vodka' is not defined",
     "output_type": "error",
     "traceback": [
      "\u001b[0;31m---------------------------------------------------------------------------\u001b[0m",
      "\u001b[0;31mNameError\u001b[0m                                 Traceback (most recent call last)",
      "Cell \u001b[0;32mIn [26], line 1\u001b[0m\n\u001b[0;32m----> 1\u001b[0m \u001b[43mvodka\u001b[49m[\u001b[38;5;124m'\u001b[39m\u001b[38;5;124mpore.viscosity.*\u001b[39m\u001b[38;5;124m'\u001b[39m]\n",
      "\u001b[0;31mNameError\u001b[0m: name 'vodka' is not defined"
     ]
    }
   ],
   "source": [
    "vodka['pore.viscosity.*']"
   ]
  },
  {
   "cell_type": "markdown",
   "id": "217d6e1b",
   "metadata": {},
   "source": [
    "Note that this returns exactly the same dictionary as the ``get_comp_vals`` method (in fact this function gets called behind the scenes), but this feature is offered for more than just convenience.  The main reason for supporting this feature is so that pore-scale models can be instructed to fetch the needed arrays for computing the mixture properties.  This is demonstrated in the following simple example of a custom mixture model:"
   ]
  },
  {
   "cell_type": "code",
   "execution_count": 27,
   "id": "27535193",
   "metadata": {
    "execution": {
     "iopub.execute_input": "2022-09-07T19:29:10.499231Z",
     "iopub.status.busy": "2022-09-07T19:29:10.498861Z",
     "iopub.status.idle": "2022-09-07T19:29:10.504002Z",
     "shell.execute_reply": "2022-09-07T19:29:10.503088Z"
    }
   },
   "outputs": [],
   "source": [
    "def mole_fraction_weighting(phase, propname):\n",
    "    xs = phase['pore.mole_fraction']\n",
    "    ys = phase[propname]  # This is the key step\n",
    "    z = 0.0\n",
    "    for i in xs.keys():\n",
    "        z += xs[i]*ys[i]\n",
    "    return z"
   ]
  },
  {
   "cell_type": "code",
   "execution_count": 28,
   "id": "053eb23e",
   "metadata": {
    "execution": {
     "iopub.execute_input": "2022-09-07T19:29:10.507296Z",
     "iopub.status.busy": "2022-09-07T19:29:10.506891Z",
     "iopub.status.idle": "2022-09-07T19:29:10.524369Z",
     "shell.execute_reply": "2022-09-07T19:29:10.523546Z"
    }
   },
   "outputs": [
    {
     "ename": "NameError",
     "evalue": "name 'vodka' is not defined",
     "output_type": "error",
     "traceback": [
      "\u001b[0;31m---------------------------------------------------------------------------\u001b[0m",
      "\u001b[0;31mNameError\u001b[0m                                 Traceback (most recent call last)",
      "Cell \u001b[0;32mIn [28], line 1\u001b[0m\n\u001b[0;32m----> 1\u001b[0m vals \u001b[38;5;241m=\u001b[39m mole_fraction_weighting(phase\u001b[38;5;241m=\u001b[39m\u001b[43mvodka\u001b[49m, propname\u001b[38;5;241m=\u001b[39m\u001b[38;5;124m'\u001b[39m\u001b[38;5;124mpore.viscosity.*\u001b[39m\u001b[38;5;124m'\u001b[39m)\n\u001b[1;32m      2\u001b[0m \u001b[38;5;28mprint\u001b[39m(vals)\n",
      "\u001b[0;31mNameError\u001b[0m: name 'vodka' is not defined"
     ]
    }
   ],
   "source": [
    "vals = mole_fraction_weighting(phase=vodka, propname='pore.viscosity.*')\n",
    "print(vals)"
   ]
  },
  {
   "cell_type": "markdown",
   "id": "0b2a2272",
   "metadata": {},
   "source": [
    "The use of the ``'.*'`` as the suffix of the ``propname`` argument is crucial here.  As can be seen in the definition of ``mole_fraction_weighting``, the call to ``phase[propname]`` passes ``'pore.viscsoity.*'`` directly to the dictionary lookup of values from ``phase``, and this in turn triggers the retrieval of the ``'pore.viscosity'`` values from each component. \n",
    "\n",
    "If we were to pass ``'pore.viscosity'`` then the function would throw an error since the call to ``phase['pore.viscosity']`` would return a single numpy array of viscosity values of the mixture (or not find any values at all)."
   ]
  },
  {
   "cell_type": "code",
   "execution_count": null,
   "id": "2d0e0a7f",
   "metadata": {},
   "outputs": [],
   "source": []
  }
 ],
 "metadata": {
  "kernelspec": {
   "display_name": "Python 3 (ipykernel)",
   "language": "python",
   "name": "python3"
  },
  "language_info": {
   "codemirror_mode": {
    "name": "ipython",
    "version": 3
   },
   "file_extension": ".py",
   "mimetype": "text/x-python",
   "name": "python",
   "nbconvert_exporter": "python",
   "pygments_lexer": "ipython3",
   "version": "3.8.13"
  }
 },
 "nbformat": 4,
 "nbformat_minor": 5
}
