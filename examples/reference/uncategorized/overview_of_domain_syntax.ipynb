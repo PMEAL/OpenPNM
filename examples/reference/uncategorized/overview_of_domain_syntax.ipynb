{
 "cells": [
  {
   "cell_type": "markdown",
   "id": "c833e469",
   "metadata": {},
   "source": [
    "# OpenPNM Version 3:  The new @domain syntax "
   ]
  },
  {
   "cell_type": "markdown",
   "id": "58dbe0a2",
   "metadata": {},
   "source": [
    "The latest version of OpenPNM includes a new syntax feature with several uses. This notebooks outlines benefits of this new feature, starting with the superficial or immediately visible aspects, then dives into the underlying impacts."
   ]
  },
  {
   "cell_type": "markdown",
   "id": "9db83958",
   "metadata": {},
   "source": [
    "## Using the @ sytax to read and write data\n",
    "At its core, the @ syntax uses the already existing *labels* feature of OpenPNM.  Labels have been integral to the use of OpenPNM since its inception, but the new @ syntax moves the use of labels to forefront. "
   ]
  },
  {
   "cell_type": "markdown",
   "id": "7b7830b6",
   "metadata": {},
   "source": [
    "Start by generating a simple 2D cubic network:"
   ]
  },
  {
   "cell_type": "code",
   "execution_count": 1,
   "id": "cf644968",
   "metadata": {
    "execution": {
     "iopub.execute_input": "2022-09-07T19:25:19.154261Z",
     "iopub.status.busy": "2022-09-07T19:25:19.153936Z",
     "iopub.status.idle": "2022-09-07T19:25:20.915683Z",
     "shell.execute_reply": "2022-09-07T19:25:20.914160Z"
    }
   },
   "outputs": [
    {
     "name": "stdout",
     "output_type": "stream",
     "text": [
      "\n",
      "══════════════════════════════════════════════════════════════════════════════\n",
      "net : <openpnm.network.Cubic at 0x7f26b4787ae0>\n",
      "――――――――――――――――――――――――――――――――――――――――――――――――――――――――――――――――――――――――――――――\n",
      "  #  Properties                                                   Valid Values\n",
      "――――――――――――――――――――――――――――――――――――――――――――――――――――――――――――――――――――――――――――――\n",
      "  1  pore.coords                                                         8 / 8\n",
      "  2  throat.conns                                                      10 / 10\n",
      "――――――――――――――――――――――――――――――――――――――――――――――――――――――――――――――――――――――――――――――\n",
      "  #  Labels                                                 Assigned Locations\n",
      "――――――――――――――――――――――――――――――――――――――――――――――――――――――――――――――――――――――――――――――\n",
      "  1  pore.back                                                               2\n",
      "  2  pore.front                                                              2\n",
      "  3  pore.left                                                               4\n",
      "  4  pore.right                                                              4\n",
      "  5  pore.surface                                                            8\n",
      "  6  throat.surface                                                         10\n",
      "――――――――――――――――――――――――――――――――――――――――――――――――――――――――――――――――――――――――――――――\n"
     ]
    }
   ],
   "source": [
    "import numpy as np\n",
    "import openpnm as op\n",
    "pn = op.network.Cubic([2, 4, 1])\n",
    "print(pn)"
   ]
  },
  {
   "cell_type": "markdown",
   "id": "b307ddb5",
   "metadata": {},
   "source": [
    "This network includes a few pre-defined labels (e.g. ``'pore.left'`` and ``'throat.surface'``), which are boolean masks of ``True|False`` values which indicate whether that label applies to a given pore/throat or not.  As shown below, the label ``'pore.left'`` applies to pores ``[0, 1, 2, 3]``:"
   ]
  },
  {
   "cell_type": "code",
   "execution_count": 2,
   "id": "efecdae8",
   "metadata": {
    "execution": {
     "iopub.execute_input": "2022-09-07T19:25:20.920356Z",
     "iopub.status.busy": "2022-09-07T19:25:20.919671Z",
     "iopub.status.idle": "2022-09-07T19:25:20.925748Z",
     "shell.execute_reply": "2022-09-07T19:25:20.924795Z"
    }
   },
   "outputs": [
    {
     "name": "stdout",
     "output_type": "stream",
     "text": [
      "[ True  True  True  True False False False False]\n"
     ]
    }
   ],
   "source": [
    "print(pn['pore.left'])"
   ]
  },
  {
   "cell_type": "markdown",
   "id": "020e24dc",
   "metadata": {},
   "source": [
    "We can use labels as masks to view only values for given locations, as follows:"
   ]
  },
  {
   "cell_type": "code",
   "execution_count": 3,
   "id": "06c66042",
   "metadata": {
    "execution": {
     "iopub.execute_input": "2022-09-07T19:25:20.928947Z",
     "iopub.status.busy": "2022-09-07T19:25:20.928710Z",
     "iopub.status.idle": "2022-09-07T19:25:20.941025Z",
     "shell.execute_reply": "2022-09-07T19:25:20.940128Z"
    }
   },
   "outputs": [
    {
     "data": {
      "text/plain": [
       "array([[0.5, 0.5, 0.5],\n",
       "       [0.5, 1.5, 0.5],\n",
       "       [0.5, 2.5, 0.5],\n",
       "       [0.5, 3.5, 0.5]])"
      ]
     },
     "execution_count": 3,
     "metadata": {},
     "output_type": "execute_result"
    }
   ],
   "source": [
    "pn['pore.coords'][pn['pore.left']]"
   ]
  },
  {
   "cell_type": "markdown",
   "id": "68f2fb59",
   "metadata": {},
   "source": [
    "or using the ``pores`` method:"
   ]
  },
  {
   "cell_type": "code",
   "execution_count": 4,
   "id": "9e4578ed",
   "metadata": {
    "execution": {
     "iopub.execute_input": "2022-09-07T19:25:20.944837Z",
     "iopub.status.busy": "2022-09-07T19:25:20.944583Z",
     "iopub.status.idle": "2022-09-07T19:25:20.952395Z",
     "shell.execute_reply": "2022-09-07T19:25:20.951473Z"
    }
   },
   "outputs": [
    {
     "data": {
      "text/plain": [
       "array([[0.5, 0.5, 0.5],\n",
       "       [0.5, 1.5, 0.5],\n",
       "       [0.5, 2.5, 0.5],\n",
       "       [0.5, 3.5, 0.5]])"
      ]
     },
     "execution_count": 4,
     "metadata": {},
     "output_type": "execute_result"
    }
   ],
   "source": [
    "pn['pore.coords'][pn.pores('left')]"
   ]
  },
  {
   "cell_type": "markdown",
   "id": "2557e12b",
   "metadata": {},
   "source": [
    "In OpenPNM V3 there is a very handy new syntax, **the @ symbol**,  used as follows:"
   ]
  },
  {
   "cell_type": "code",
   "execution_count": 5,
   "id": "a785a427",
   "metadata": {
    "execution": {
     "iopub.execute_input": "2022-09-07T19:25:20.955898Z",
     "iopub.status.busy": "2022-09-07T19:25:20.955622Z",
     "iopub.status.idle": "2022-09-07T19:25:20.963724Z",
     "shell.execute_reply": "2022-09-07T19:25:20.962769Z"
    }
   },
   "outputs": [
    {
     "data": {
      "text/plain": [
       "array([[0.5, 0.5, 0.5],\n",
       "       [0.5, 1.5, 0.5],\n",
       "       [0.5, 2.5, 0.5],\n",
       "       [0.5, 3.5, 0.5]])"
      ]
     },
     "execution_count": 5,
     "metadata": {},
     "output_type": "execute_result"
    }
   ],
   "source": [
    "pn['pore.coords@left']"
   ]
  },
  {
   "cell_type": "markdown",
   "id": "efb446f4",
   "metadata": {},
   "source": [
    "This certainly saves some typing!  It's also pretty intuitive since ``@`` is usually read as \"at\", inferring a location. \n",
    "\n",
    "The @ sytax can also be used to write data as well. Let's create an array of 1.0s, then use the @ syntax to change them:"
   ]
  },
  {
   "cell_type": "code",
   "execution_count": 6,
   "id": "c42f2b3c",
   "metadata": {
    "execution": {
     "iopub.execute_input": "2022-09-07T19:25:20.968175Z",
     "iopub.status.busy": "2022-09-07T19:25:20.967761Z",
     "iopub.status.idle": "2022-09-07T19:25:20.972872Z",
     "shell.execute_reply": "2022-09-07T19:25:20.971990Z"
    }
   },
   "outputs": [],
   "source": [
    "pn['pore.values'] = 1.0"
   ]
  },
  {
   "cell_type": "markdown",
   "id": "19382301",
   "metadata": {},
   "source": [
    "If we supply a scalar, it is written to all locations belong to ``'left'``:"
   ]
  },
  {
   "cell_type": "code",
   "execution_count": 7,
   "id": "2705ff72",
   "metadata": {
    "execution": {
     "iopub.execute_input": "2022-09-07T19:25:20.976315Z",
     "iopub.status.busy": "2022-09-07T19:25:20.976033Z",
     "iopub.status.idle": "2022-09-07T19:25:20.981540Z",
     "shell.execute_reply": "2022-09-07T19:25:20.980742Z"
    }
   },
   "outputs": [
    {
     "name": "stdout",
     "output_type": "stream",
     "text": [
      "[2. 2. 2. 2. 1. 1. 1. 1.]\n"
     ]
    }
   ],
   "source": [
    "pn['pore.values@left'] = 2.0\n",
    "print(pn['pore.values'])"
   ]
  },
  {
   "cell_type": "markdown",
   "id": "3b8b3a4a",
   "metadata": {},
   "source": [
    "We can of course pass in an array, which must have the correct number of elements:"
   ]
  },
  {
   "cell_type": "code",
   "execution_count": 8,
   "id": "57f46949",
   "metadata": {
    "execution": {
     "iopub.execute_input": "2022-09-07T19:25:20.985125Z",
     "iopub.status.busy": "2022-09-07T19:25:20.984873Z",
     "iopub.status.idle": "2022-09-07T19:25:20.991334Z",
     "shell.execute_reply": "2022-09-07T19:25:20.990522Z"
    }
   },
   "outputs": [
    {
     "name": "stdout",
     "output_type": "stream",
     "text": [
      "[2. 2. 2. 2. 4. 5. 6. 7.]\n"
     ]
    }
   ],
   "source": [
    "pn['pore.values@right'] = [4, 5, 6, 7]\n",
    "print(pn['pore.values'])"
   ]
  },
  {
   "cell_type": "markdown",
   "id": "d0e0de0f",
   "metadata": {},
   "source": [
    "One useful bonus is that you can create an array and assign values to certain locations at the same time:"
   ]
  },
  {
   "cell_type": "code",
   "execution_count": 9,
   "id": "241107f8",
   "metadata": {
    "execution": {
     "iopub.execute_input": "2022-09-07T19:25:20.994741Z",
     "iopub.status.busy": "2022-09-07T19:25:20.994497Z",
     "iopub.status.idle": "2022-09-07T19:25:21.000167Z",
     "shell.execute_reply": "2022-09-07T19:25:20.999318Z"
    }
   },
   "outputs": [
    {
     "name": "stdout",
     "output_type": "stream",
     "text": [
      "[ 2.  2.  2.  2. nan nan nan nan]\n"
     ]
    }
   ],
   "source": [
    "pn['pore.new_array@left'] = 2.0\n",
    "print(pn['pore.new_array'])"
   ]
  },
  {
   "cell_type": "markdown",
   "id": "e8ef1825",
   "metadata": {},
   "source": [
    "The above line created an empty array of ``nans``, then added ``2.0`` to the pores labelled ``'left'``.  This was not previously possible without first creating an empty array before adding ``2.0`` to specific locations."
   ]
  },
  {
   "cell_type": "markdown",
   "id": "7fc748d9",
   "metadata": {},
   "source": [
    "You can use any label that is defined, and it will overwrite any values already present if that label happens to overlap the label used previously:"
   ]
  },
  {
   "cell_type": "code",
   "execution_count": 10,
   "id": "f2fca4dc",
   "metadata": {
    "execution": {
     "iopub.execute_input": "2022-09-07T19:25:21.004086Z",
     "iopub.status.busy": "2022-09-07T19:25:21.003633Z",
     "iopub.status.idle": "2022-09-07T19:25:21.009168Z",
     "shell.execute_reply": "2022-09-07T19:25:21.008477Z"
    }
   },
   "outputs": [
    {
     "name": "stdout",
     "output_type": "stream",
     "text": [
      "[ 3.  2.  2.  2.  3. nan nan nan]\n"
     ]
    }
   ],
   "source": [
    "pn['pore.new_array@front'] = 3.0\n",
    "print(pn['pore.new_array'])"
   ]
  },
  {
   "cell_type": "markdown",
   "id": "9eba8d87",
   "metadata": {},
   "source": [
    "which overwrote some locations that had ``2.0``, since some pores are both ``'front'`` and ``'left'``, as well as overwrote some of the ``nan`` values."
   ]
  },
  {
   "cell_type": "code",
   "execution_count": 11,
   "id": "fd048997",
   "metadata": {
    "execution": {
     "iopub.execute_input": "2022-09-07T19:25:21.012437Z",
     "iopub.status.busy": "2022-09-07T19:25:21.012080Z",
     "iopub.status.idle": "2022-09-07T19:25:21.016303Z",
     "shell.execute_reply": "2022-09-07T19:25:21.015753Z"
    }
   },
   "outputs": [
    {
     "name": "stdout",
     "output_type": "stream",
     "text": [
      "[3. 2. 2. 2.]\n"
     ]
    }
   ],
   "source": [
    "print(pn['pore.new_array@left'])"
   ]
  },
  {
   "cell_type": "markdown",
   "id": "a57dc7bd",
   "metadata": {},
   "source": [
    "## Using the @ Syntax to Define Subdomains\n",
    "\n",
    "Using the @ symbol for data read/write as shown above is actually a side effect of a *major conceptual shift* made in V3. The ``Geometry`` and ``Physics`` objects are now *gone*.  There was essentially only one use case for these, which was to model heterogeneous domains, like bimodal pore size distributions or layered structures.  \n",
    "\n",
    "In V2 this was accomplished by using 2 (or more) ``Geometry`` objects to represent each class of pores, with unique pore-scale models attached to each.  Without getting lost in the details, it is sufficient to say that having separate objects for managing each class of pores (and/or throats) created a *lot* of complications, both to the user and to the maintenence of the backend.  \n",
    "\n",
    "In V3 we have developed what we think is a *much tidier approach* to managing heterogeneous domains.  Instead of creating multiple ``Geometry`` objects (and consequently multiple ``Physics`` objects), you now add all the pore-scale models to the ``Network`` and ``Phase`` objects directly.  The trick is that when adding models you specify one additional argument: the  ``domain`` (i.e. pores or throats) to which the model applies, as follows:"
   ]
  },
  {
   "cell_type": "code",
   "execution_count": 12,
   "id": "0f8def0b",
   "metadata": {
    "execution": {
     "iopub.execute_input": "2022-09-07T19:25:21.019259Z",
     "iopub.status.busy": "2022-09-07T19:25:21.019028Z",
     "iopub.status.idle": "2022-09-07T19:25:21.024816Z",
     "shell.execute_reply": "2022-09-07T19:25:21.024043Z"
    }
   },
   "outputs": [],
   "source": [
    "pn.add_model(propname='pore.seed', \n",
    "             model=op.models.geometry.pore_seed.random,\n",
    "             domain='left',\n",
    "             seed=0,\n",
    "             num_range=[0.1, 0.5])"
   ]
  },
  {
   "cell_type": "markdown",
   "id": "2c493269",
   "metadata": {},
   "source": [
    "where ``domain`` is given the label ``'left'`` which has already been defined on the network. \n",
    "\n",
    "This means that to create a heterogeneous model you only need to create labels marking the pores and/or throats of each domain, then pass those labels when adding models. You can also leave ``domain`` unspecified (``None``) which means the model is applied everywhere. For the above case, we can see that the ``'pore.seed'`` model was computed for 4 locations (corresponding the 4 pores labelled ``'left'``):"
   ]
  },
  {
   "cell_type": "code",
   "execution_count": 13,
   "id": "dee10e91",
   "metadata": {
    "execution": {
     "iopub.execute_input": "2022-09-07T19:25:21.027987Z",
     "iopub.status.busy": "2022-09-07T19:25:21.027727Z",
     "iopub.status.idle": "2022-09-07T19:25:21.033577Z",
     "shell.execute_reply": "2022-09-07T19:25:21.032807Z"
    }
   },
   "outputs": [
    {
     "name": "stdout",
     "output_type": "stream",
     "text": [
      "\n",
      "══════════════════════════════════════════════════════════════════════════════\n",
      "net : <openpnm.network.Cubic at 0x7f26b4787ae0>\n",
      "――――――――――――――――――――――――――――――――――――――――――――――――――――――――――――――――――――――――――――――\n",
      "  #  Properties                                                   Valid Values\n",
      "――――――――――――――――――――――――――――――――――――――――――――――――――――――――――――――――――――――――――――――\n",
      "  1  pore.coords                                                         8 / 8\n",
      "  2  pore.new_array                                                      5 / 8\n",
      "  3  pore.seed                                                           4 / 8\n",
      "  4  pore.values                                                         8 / 8\n",
      "  5  throat.conns                                                      10 / 10\n",
      "――――――――――――――――――――――――――――――――――――――――――――――――――――――――――――――――――――――――――――――\n",
      "  #  Labels                                                 Assigned Locations\n",
      "――――――――――――――――――――――――――――――――――――――――――――――――――――――――――――――――――――――――――――――\n",
      "  1  pore.back                                                               2\n",
      "  2  pore.front                                                              2\n",
      "  3  pore.left                                                               4\n",
      "  4  pore.right                                                              4\n",
      "  5  pore.surface                                                            8\n",
      "  6  throat.surface                                                         10\n",
      "――――――――――――――――――――――――――――――――――――――――――――――――――――――――――――――――――――――――――――――\n"
     ]
    }
   ],
   "source": [
    "print(pn)"
   ]
  },
  {
   "cell_type": "markdown",
   "id": "ac304b09",
   "metadata": {},
   "source": [
    "The power of this new approach is really visible when we consider applying a model with different parameters to a different set of pores:"
   ]
  },
  {
   "cell_type": "code",
   "execution_count": 14,
   "id": "4bb4285d",
   "metadata": {
    "execution": {
     "iopub.execute_input": "2022-09-07T19:25:21.036668Z",
     "iopub.status.busy": "2022-09-07T19:25:21.036438Z",
     "iopub.status.idle": "2022-09-07T19:25:21.042900Z",
     "shell.execute_reply": "2022-09-07T19:25:21.041301Z"
    }
   },
   "outputs": [],
   "source": [
    "pn.add_model(propname='pore.seed', \n",
    "             model=op.models.geometry.pore_seed.random,\n",
    "             domain='right',\n",
    "             seed=0,\n",
    "             num_range=[0.5, 0.9])"
   ]
  },
  {
   "cell_type": "markdown",
   "id": "3efc5427",
   "metadata": {},
   "source": [
    "Now the ``pore.seed'`` values exist on 8 locations."
   ]
  },
  {
   "cell_type": "code",
   "execution_count": 15,
   "id": "dc791939",
   "metadata": {
    "execution": {
     "iopub.execute_input": "2022-09-07T19:25:21.046380Z",
     "iopub.status.busy": "2022-09-07T19:25:21.046135Z",
     "iopub.status.idle": "2022-09-07T19:25:21.050315Z",
     "shell.execute_reply": "2022-09-07T19:25:21.049509Z"
    }
   },
   "outputs": [
    {
     "name": "stdout",
     "output_type": "stream",
     "text": [
      "\n",
      "══════════════════════════════════════════════════════════════════════════════\n",
      "net : <openpnm.network.Cubic at 0x7f26b4787ae0>\n",
      "――――――――――――――――――――――――――――――――――――――――――――――――――――――――――――――――――――――――――――――\n",
      "  #  Properties                                                   Valid Values\n",
      "――――――――――――――――――――――――――――――――――――――――――――――――――――――――――――――――――――――――――――――\n",
      "  1  pore.coords                                                         8 / 8\n",
      "  2  pore.new_array                                                      5 / 8\n",
      "  3  pore.seed                                                           8 / 8\n",
      "  4  pore.values                                                         8 / 8\n",
      "  5  throat.conns                                                      10 / 10\n",
      "――――――――――――――――――――――――――――――――――――――――――――――――――――――――――――――――――――――――――――――\n",
      "  #  Labels                                                 Assigned Locations\n",
      "――――――――――――――――――――――――――――――――――――――――――――――――――――――――――――――――――――――――――――――\n",
      "  1  pore.back                                                               2\n",
      "  2  pore.front                                                              2\n",
      "  3  pore.left                                                               4\n",
      "  4  pore.right                                                              4\n",
      "  5  pore.surface                                                            8\n",
      "  6  throat.surface                                                         10\n",
      "――――――――――――――――――――――――――――――――――――――――――――――――――――――――――――――――――――――――――――――\n"
     ]
    }
   ],
   "source": [
    "print(pn)"
   ]
  },
  {
   "cell_type": "markdown",
   "id": "c11ae9f4",
   "metadata": {},
   "source": [
    "The new approach was made possible by changing how pore-scale models are stored on objects.  Each object has a ``models`` attribute, which is a ``dict`` where the ``key`` corresponds to the property being calculated.  So the model to compute ``'pore.seed'`` is stored as ``pn.models['pore.seed']``.  The new ``@`` notation makes it possible to store multiple models for ``'pore.seed'`` that apply to different location on the same object.  This can be seen below by printing the models attribute:"
   ]
  },
  {
   "cell_type": "code",
   "execution_count": 16,
   "id": "e1d6a54a",
   "metadata": {
    "execution": {
     "iopub.execute_input": "2022-09-07T19:25:21.055589Z",
     "iopub.status.busy": "2022-09-07T19:25:21.055327Z",
     "iopub.status.idle": "2022-09-07T19:25:21.059240Z",
     "shell.execute_reply": "2022-09-07T19:25:21.058483Z"
    }
   },
   "outputs": [
    {
     "name": "stdout",
     "output_type": "stream",
     "text": [
      "―――――――――――――――――――――――――――――――――――――――――――――――――――――――――――――――――――――――――――――――――――――\n",
      "#   Property Name                       Parameter                 Value\n",
      "―――――――――――――――――――――――――――――――――――――――――――――――――――――――――――――――――――――――――――――――――――――\n",
      "1   pore.coordination_number@all        model:                    coordination_number\n",
      "                                        regeneration mode:        deferred\n",
      "―――――――――――――――――――――――――――――――――――――――――――――――――――――――――――――――――――――――――――――――――――――\n",
      "2   throat.spacing@all                  model:                    pore_to_pore_distance\n",
      "                                        regeneration mode:        deferred\n",
      "―――――――――――――――――――――――――――――――――――――――――――――――――――――――――――――――――――――――――――――――――――――\n",
      "3   pore.seed@left                      model:                    random\n",
      "                                        seed:                     0\n",
      "                                        num_range:                [0.1, 0.5]\n",
      "                                        regeneration mode:        normal\n",
      "―――――――――――――――――――――――――――――――――――――――――――――――――――――――――――――――――――――――――――――――――――――\n",
      "4   pore.seed@right                     model:                    random\n",
      "                                        seed:                     0\n",
      "                                        num_range:                [0.5, 0.9]\n",
      "                                        regeneration mode:        normal\n",
      "―――――――――――――――――――――――――――――――――――――――――――――――――――――――――――――――――――――――――――――――――――――\n"
     ]
    }
   ],
   "source": [
    "print(pn.models)"
   ]
  },
  {
   "cell_type": "markdown",
   "id": "19860f2b",
   "metadata": {},
   "source": [
    "Appending ``@`` to the model name creates a unique dictionary key. OpenPNM recoginizes that the models in ``'pore.seed@left'`` and ``'pore.seed@right'`` both compute values of ``'pore.seed'``, and directs the outputs of each function to the correct locations, which it can infer from the ``@right/left`` portion of the key."
   ]
  },
  {
   "cell_type": "markdown",
   "id": "7e72859f",
   "metadata": {},
   "source": [
    "## Other Advantages of the @ Syntax\n",
    "There are many upsides to this approach, as will be demonstrated in the following sections."
   ]
  },
  {
   "cell_type": "markdown",
   "id": "9c6ede7f",
   "metadata": {},
   "source": [
    "### Defining and Changing Subdomain Locations\n",
    "It becomes trivial to define and redefine the locations of a domain.  This simply requires changing where ``pn['pore.left']`` is ``True``.  This is demonstrated as follows:"
   ]
  },
  {
   "cell_type": "code",
   "execution_count": 17,
   "id": "03e2168a",
   "metadata": {
    "execution": {
     "iopub.execute_input": "2022-09-07T19:25:21.065435Z",
     "iopub.status.busy": "2022-09-07T19:25:21.064891Z",
     "iopub.status.idle": "2022-09-07T19:25:21.070283Z",
     "shell.execute_reply": "2022-09-07T19:25:21.069540Z"
    }
   },
   "outputs": [
    {
     "data": {
      "text/plain": [
       "array([0, 1, 2, 3])"
      ]
     },
     "execution_count": 17,
     "metadata": {},
     "output_type": "execute_result"
    }
   ],
   "source": [
    "pn.pores('left')"
   ]
  },
  {
   "cell_type": "code",
   "execution_count": 18,
   "id": "d260c555",
   "metadata": {
    "execution": {
     "iopub.execute_input": "2022-09-07T19:25:21.074117Z",
     "iopub.status.busy": "2022-09-07T19:25:21.073569Z",
     "iopub.status.idle": "2022-09-07T19:25:21.077468Z",
     "shell.execute_reply": "2022-09-07T19:25:21.076694Z"
    }
   },
   "outputs": [],
   "source": [
    "pn['pore.left'][[4, 5]] = True\n",
    "del pn['pore.seed']"
   ]
  },
  {
   "cell_type": "code",
   "execution_count": 19,
   "id": "cfb0fcbc",
   "metadata": {
    "execution": {
     "iopub.execute_input": "2022-09-07T19:25:21.080600Z",
     "iopub.status.busy": "2022-09-07T19:25:21.080107Z",
     "iopub.status.idle": "2022-09-07T19:25:21.085083Z",
     "shell.execute_reply": "2022-09-07T19:25:21.084380Z"
    }
   },
   "outputs": [
    {
     "name": "stdout",
     "output_type": "stream",
     "text": [
      "\n",
      "══════════════════════════════════════════════════════════════════════════════\n",
      "net : <openpnm.network.Cubic at 0x7f26b4787ae0>\n",
      "――――――――――――――――――――――――――――――――――――――――――――――――――――――――――――――――――――――――――――――\n",
      "  #  Properties                                                   Valid Values\n",
      "――――――――――――――――――――――――――――――――――――――――――――――――――――――――――――――――――――――――――――――\n",
      "  1  pore.coords                                                         8 / 8\n",
      "  2  pore.new_array                                                      5 / 8\n",
      "  3  pore.seed                                                           6 / 8\n",
      "  4  pore.values                                                         8 / 8\n",
      "  5  throat.conns                                                      10 / 10\n",
      "――――――――――――――――――――――――――――――――――――――――――――――――――――――――――――――――――――――――――――――\n",
      "  #  Labels                                                 Assigned Locations\n",
      "――――――――――――――――――――――――――――――――――――――――――――――――――――――――――――――――――――――――――――――\n",
      "  1  pore.back                                                               2\n",
      "  2  pore.front                                                              2\n",
      "  3  pore.left                                                               6\n",
      "  4  pore.right                                                              4\n",
      "  5  pore.surface                                                            8\n",
      "  6  throat.surface                                                         10\n",
      "――――――――――――――――――――――――――――――――――――――――――――――――――――――――――――――――――――――――――――――\n"
     ]
    }
   ],
   "source": [
    "pn.run_model('pore.seed@left')\n",
    "print(pn)"
   ]
  },
  {
   "cell_type": "markdown",
   "id": "07e76a49",
   "metadata": {},
   "source": [
    "It can now been observed that ``'pore.seed'`` values are found in 6 locations because the domain labelled ``'left'`` was expanded by 2 pores. "
   ]
  },
  {
   "cell_type": "markdown",
   "id": "b97628ac",
   "metadata": {},
   "source": [
    "### Mixing Full Domain and Subdomain Models\n",
    "When defining two separate subdomains, the pore and throat sizes are often the only thing that is different.  In V2, however, it was recommended practice to include ALL the additional models on each subdomain object as well, such as volume calculations.  With the @ syntax, only models that actualy differ between the domains need to be specifically dealt with.\n",
    "\n",
    "This is demonstrated below by first deleting the individual ``'pore.seed'`` models applied above, and replacing them with a single model that applies uniform values on all locations, then applying two different normal distributions to the ``'left'`` and ``'right'`` domains."
   ]
  },
  {
   "cell_type": "code",
   "execution_count": 20,
   "id": "e332fd2c",
   "metadata": {
    "execution": {
     "iopub.execute_input": "2022-09-07T19:25:21.088952Z",
     "iopub.status.busy": "2022-09-07T19:25:21.088309Z",
     "iopub.status.idle": "2022-09-07T19:25:21.092102Z",
     "shell.execute_reply": "2022-09-07T19:25:21.091287Z"
    }
   },
   "outputs": [],
   "source": [
    "del pn.models['pore.seed@left']\n",
    "del pn.models['pore.seed@right']"
   ]
  },
  {
   "cell_type": "code",
   "execution_count": 21,
   "id": "32853ff6",
   "metadata": {
    "execution": {
     "iopub.execute_input": "2022-09-07T19:25:21.095239Z",
     "iopub.status.busy": "2022-09-07T19:25:21.094634Z",
     "iopub.status.idle": "2022-09-07T19:25:21.101235Z",
     "shell.execute_reply": "2022-09-07T19:25:21.100332Z"
    }
   },
   "outputs": [],
   "source": [
    "pn.add_model(propname='pore.seed', \n",
    "             model=op.models.geometry.pore_seed.random)\n",
    "pn.add_model(propname='pore.diameter', \n",
    "             model=op.models.geometry.pore_size.normal,\n",
    "             domain='left',\n",
    "             scale=0.1, \n",
    "             loc=1,\n",
    "             seeds='pore.seed')\n",
    "pn.add_model(propname='pore.diameter', \n",
    "             model=op.models.geometry.pore_size.normal,\n",
    "             domain='right',\n",
    "             scale=2, \n",
    "             loc=10,\n",
    "             seeds='pore.seed')"
   ]
  },
  {
   "cell_type": "markdown",
   "id": "932940df",
   "metadata": {},
   "source": [
    "As can be seen in the figures below, the ``'pore.seed'`` values are uniformly distributed on all locations, but ``'pore.diameter'`` differs due to the different parameter used in each model."
   ]
  },
  {
   "cell_type": "code",
   "execution_count": 22,
   "id": "015bbd36",
   "metadata": {
    "execution": {
     "iopub.execute_input": "2022-09-07T19:25:21.104267Z",
     "iopub.status.busy": "2022-09-07T19:25:21.104030Z",
     "iopub.status.idle": "2022-09-07T19:25:21.446846Z",
     "shell.execute_reply": "2022-09-07T19:25:21.446011Z"
    }
   },
   "outputs": [
    {
     "data": {
      "image/png": "[encoded data removed]",
      "text/plain": [
       "<Figure size 1200x600 with 2 Axes>"
      ]
     },
     "metadata": {},
     "output_type": "display_data"
    }
   ],
   "source": [
    "import matplotlib.pyplot as plt\n",
    "fig, ax = plt.subplots(1, 2, figsize=[12, 6])\n",
    "\n",
    "ax[0].plot(pn.Ps, pn['pore.seed'], 'o')\n",
    "ax[0].set_ylabel('pore seed')\n",
    "ax[0].set_xlabel('pore index')\n",
    "\n",
    "ax[1].plot(pn.pores('left'), pn['pore.diameter@left'], 'o', label='pore.left')\n",
    "ax[1].plot(pn.pores('right'), pn['pore.diameter@right'], 'o', label='pore.right')\n",
    "ax[1].set_ylabel('pore diameter')\n",
    "ax[1].set_xlabel('pore index')\n",
    "ax[1].legend();"
   ]
  },
  {
   "cell_type": "markdown",
   "id": "46e1f8e7",
   "metadata": {},
   "source": [
    "And now we can apply a model to the full domain that computes the pore volume, using values of pore diameter that were computed uniquely for each domain:"
   ]
  },
  {
   "cell_type": "code",
   "execution_count": 23,
   "id": "470abf20",
   "metadata": {
    "execution": {
     "iopub.execute_input": "2022-09-07T19:25:21.450220Z",
     "iopub.status.busy": "2022-09-07T19:25:21.449956Z",
     "iopub.status.idle": "2022-09-07T19:25:21.455536Z",
     "shell.execute_reply": "2022-09-07T19:25:21.454755Z"
    }
   },
   "outputs": [],
   "source": [
    "pn.add_model(propname='pore.volume', \n",
    "             model=op.models.geometry.pore_volume.sphere)"
   ]
  },
  {
   "cell_type": "code",
   "execution_count": 24,
   "id": "69e2ad61",
   "metadata": {
    "execution": {
     "iopub.execute_input": "2022-09-07T19:25:21.458442Z",
     "iopub.status.busy": "2022-09-07T19:25:21.458202Z",
     "iopub.status.idle": "2022-09-07T19:25:21.610804Z",
     "shell.execute_reply": "2022-09-07T19:25:21.609900Z"
    }
   },
   "outputs": [
    {
     "data": {
      "image/png": "[encoded data removed]",
      "text/plain": [
       "<Figure size 600x600 with 1 Axes>"
      ]
     },
     "metadata": {},
     "output_type": "display_data"
    }
   ],
   "source": [
    "import matplotlib.pyplot as plt\n",
    "fig, ax = plt.subplots(1, 1, figsize=[6, 6])\n",
    "\n",
    "ax.plot(pn.Ps, pn['pore.volume'], 'o')\n",
    "ax.set_ylabel('pore volume')\n",
    "ax.set_xlabel('pore index');"
   ]
  },
  {
   "cell_type": "markdown",
   "id": "0f9eba37",
   "metadata": {},
   "source": [
    "> If an algorithm updates the labels then it effectively changes the domains!  Re-running the models would automatically apply to the new locations!  Not quite sure what this is useful for...maybe catalyst deactivation? Oooh, multiphase flow and percolation!  The percolation algorithm could put True/False for occupancy, then a pore-scale model for hydraulic conductance that is applied to 'pore.invaded' domain, the it could update!"
   ]
  },
  {
   "cell_type": "markdown",
   "id": "51b42b89",
   "metadata": {},
   "source": [
    "### Mixing Many Subdomains of Different Shape\n",
    "Because subdomains are now very abstract (actuallyjust labels), it is possible to define multiple subdomains with different shape and apply models to each. So far we have added ``'pore.seed'`` and ``'pore.diameter'`` models to the ``'left'`` and ``'right'`` pores.  We can now freely add another set of models to the ``'front'`` and ``'back'``, even though they partially overlap:"
   ]
  },
  {
   "cell_type": "code",
   "execution_count": 25,
   "id": "7c9056f6",
   "metadata": {
    "execution": {
     "iopub.execute_input": "2022-09-07T19:25:21.615120Z",
     "iopub.status.busy": "2022-09-07T19:25:21.614676Z",
     "iopub.status.idle": "2022-09-07T19:25:21.621230Z",
     "shell.execute_reply": "2022-09-07T19:25:21.620466Z"
    }
   },
   "outputs": [],
   "source": [
    "Ps = pn.pores(['front', 'back'])\n",
    "Ts = pn.find_neighbor_throats(Ps, asmask=True)\n",
    "pn['throat.front'] = Ts\n",
    "pn['throat.back'] = ~Ts"
   ]
  },
  {
   "cell_type": "code",
   "execution_count": 26,
   "id": "59396df4",
   "metadata": {
    "execution": {
     "iopub.execute_input": "2022-09-07T19:25:21.625015Z",
     "iopub.status.busy": "2022-09-07T19:25:21.624487Z",
     "iopub.status.idle": "2022-09-07T19:25:21.632037Z",
     "shell.execute_reply": "2022-09-07T19:25:21.631227Z"
    }
   },
   "outputs": [],
   "source": [
    "pn.add_model(propname='throat.diameter', \n",
    "             model=op.models.geometry.throat_size.from_neighbor_pores,\n",
    "             domain='front', \n",
    "             mode='min')\n",
    "pn.add_model(propname='throat.diameter', \n",
    "             model=op.models.geometry.throat_size.from_neighbor_pores,\n",
    "             domain='back',\n",
    "             mode='max')"
   ]
  },
  {
   "cell_type": "markdown",
   "id": "330f6b45",
   "metadata": {},
   "source": [
    "Now we can see that the throat diameters have beed added to the network:"
   ]
  },
  {
   "cell_type": "code",
   "execution_count": 27,
   "id": "39b237c4",
   "metadata": {
    "execution": {
     "iopub.execute_input": "2022-09-07T19:25:21.636133Z",
     "iopub.status.busy": "2022-09-07T19:25:21.635613Z",
     "iopub.status.idle": "2022-09-07T19:25:21.641762Z",
     "shell.execute_reply": "2022-09-07T19:25:21.640822Z"
    }
   },
   "outputs": [
    {
     "name": "stdout",
     "output_type": "stream",
     "text": [
      "\n",
      "══════════════════════════════════════════════════════════════════════════════\n",
      "net : <openpnm.network.Cubic at 0x7f26b4787ae0>\n",
      "――――――――――――――――――――――――――――――――――――――――――――――――――――――――――――――――――――――――――――――\n",
      "  #  Properties                                                   Valid Values\n",
      "――――――――――――――――――――――――――――――――――――――――――――――――――――――――――――――――――――――――――――――\n",
      "  1  pore.coords                                                         8 / 8\n",
      "  2  pore.diameter                                                       8 / 8\n",
      "  3  pore.new_array                                                      5 / 8\n",
      "  4  pore.seed                                                           8 / 8\n",
      "  5  pore.values                                                         8 / 8\n",
      "  6  pore.volume                                                         8 / 8\n",
      "  7  throat.conns                                                      10 / 10\n",
      "  8  throat.diameter                                                   10 / 10\n",
      "――――――――――――――――――――――――――――――――――――――――――――――――――――――――――――――――――――――――――――――\n",
      "  #  Labels                                                 Assigned Locations\n",
      "――――――――――――――――――――――――――――――――――――――――――――――――――――――――――――――――――――――――――――――\n",
      "  1  pore.all                                                                8\n",
      "  2  pore.back                                                               2\n",
      "  3  pore.front                                                              2\n",
      "  4  pore.left                                                               6\n",
      "  5  pore.right                                                              4\n",
      "  6  pore.surface                                                            8\n",
      "  7  throat.back                                                             4\n",
      "  8  throat.front                                                            6\n",
      "  9  throat.surface                                                         10\n",
      "――――――――――――――――――――――――――――――――――――――――――――――――――――――――――――――――――――――――――――――\n"
     ]
    }
   ],
   "source": [
    "print(pn)"
   ]
  },
  {
   "cell_type": "markdown",
   "id": "fd6705d2",
   "metadata": {},
   "source": []
  }
 ],
 "metadata": {
  "kernelspec": {
   "display_name": "Python 3 (ipykernel)",
   "language": "python",
   "name": "python3"
  },
  "language_info": {
   "codemirror_mode": {
    "name": "ipython",
    "version": 3
   },
   "file_extension": ".py",
   "mimetype": "text/x-python",
   "name": "python",
   "nbconvert_exporter": "python",
   "pygments_lexer": "ipython3",
   "version": "3.8.13"
  }
 },
 "nbformat": 4,
 "nbformat_minor": 5
}
