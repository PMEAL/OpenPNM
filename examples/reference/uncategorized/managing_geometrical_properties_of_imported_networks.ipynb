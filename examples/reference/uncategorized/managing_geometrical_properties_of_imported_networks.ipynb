{
 "cells": [
  {
   "cell_type": "markdown",
   "metadata": {},
   "source": [
    "# Geometry of Imported Networks"
   ]
  },
  {
   "cell_type": "markdown",
   "metadata": {},
   "source": [
    "The ``Imported`` geometry class is used to store the geometrical properties of imported networks.  When importing an extracted network into OpenPNM using any of the ``io`` classes, all the geometrical and topological properties are  lumped together on the *network* object.  OpenPNM is generally designed such that geometrical properties are stored on a *geometry* object, so this class address this issue. The main function of the ``Imported`` class is to automatically strip the geometrical properties off of the network and transfer them onto itself."
   ]
  },
  {
   "cell_type": "markdown",
   "metadata": {},
   "source": [
    "> **What problem does the Imported class solve?** Although OpenPNM can function with the geometrical properties on the network, a problem arises if the user wishes to add *more* pores to the network, such as boundary pores.  In this case, they will probably wish to add pore-scale models to calculate size information, say 'pore.volume'.  If they add this to the network, this model will overwrite the pre-existing 'pore.volume' values. The solution to this problem is an intrinsic part of OpenPNM: create a separate geometry object to manage it's own 'pore.volume' model and values. However, this **won't work**!  OpenPNM will not allow an array called 'pore.volume' to exist on the network *and* a geometry object. The reason is that networks store values for *every* pore, so when adding new pores the network the 'pore.volume' array will increase to accommodate them.  If you attempt to put 'pore.volume' values on the geometry object, you're are essentially putting *two* values in those locations.  Therefore, the ``Imported`` class solves this problem by first transferring the 'pore.volume' array (and all other geometrical properties) from the network to itself. "
   ]
  },
  {
   "cell_type": "code",
   "execution_count": 1,
   "metadata": {
    "execution": {
     "iopub.execute_input": "2022-09-07T19:25:13.076325Z",
     "iopub.status.busy": "2022-09-07T19:25:13.075811Z",
     "iopub.status.idle": "2022-09-07T19:25:14.864556Z",
     "shell.execute_reply": "2022-09-07T19:25:14.863476Z"
    }
   },
   "outputs": [],
   "source": [
    "import numpy as np\n",
    "import openpnm as op\n",
    "import matplotlib.pyplot as plt\n",
    "ws = op.Workspace()\n",
    "ws.settings['loglevel'] = 50  # Supress warnings, but see error messages"
   ]
  },
  {
   "cell_type": "markdown",
   "metadata": {},
   "source": [
    "Let's start by generating a random network using the Delaunay class.  This will repreent an imported network:"
   ]
  },
  {
   "cell_type": "code",
   "execution_count": 2,
   "metadata": {
    "execution": {
     "iopub.execute_input": "2022-09-07T19:25:14.869508Z",
     "iopub.status.busy": "2022-09-07T19:25:14.869012Z",
     "iopub.status.idle": "2022-09-07T19:25:14.877644Z",
     "shell.execute_reply": "2022-09-07T19:25:14.876760Z"
    }
   },
   "outputs": [],
   "source": [
    "np.random.seed(0)\n",
    "pn = op.network.Delaunay(shape=[1, 1, 0], points=100)"
   ]
  },
  {
   "cell_type": "markdown",
   "metadata": {},
   "source": [
    "This network generator adds nicely defined boundary pores around the edges/faces of the network.  Let's remove these for the sake of this example:"
   ]
  },
  {
   "cell_type": "code",
   "execution_count": 3,
   "metadata": {
    "execution": {
     "iopub.execute_input": "2022-09-07T19:25:14.881238Z",
     "iopub.status.busy": "2022-09-07T19:25:14.880997Z",
     "iopub.status.idle": "2022-09-07T19:25:15.845234Z",
     "shell.execute_reply": "2022-09-07T19:25:15.844385Z"
    }
   },
   "outputs": [
    {
     "ename": "KeyError",
     "evalue": "'pore.boundary'",
     "output_type": "error",
     "traceback": [
      "\u001b[0;31m---------------------------------------------------------------------------\u001b[0m",
      "\u001b[0;31mKeyError\u001b[0m                                  Traceback (most recent call last)",
      "File \u001b[0;32m~/work/OpenPNM/OpenPNM/openpnm/core/_base2.py:203\u001b[0m, in \u001b[0;36mBase2.__getitem__\u001b[0;34m(self, key)\u001b[0m\n\u001b[1;32m    202\u001b[0m \u001b[38;5;28;01mtry\u001b[39;00m:\n\u001b[0;32m--> 203\u001b[0m     \u001b[38;5;28;01mreturn\u001b[39;00m \u001b[38;5;28;43msuper\u001b[39;49m\u001b[43m(\u001b[49m\u001b[43m)\u001b[49m\u001b[38;5;241;43m.\u001b[39;49m\u001b[38;5;21;43m__getitem__\u001b[39;49m\u001b[43m(\u001b[49m\u001b[43mkey\u001b[49m\u001b[43m)\u001b[49m\n\u001b[1;32m    204\u001b[0m \u001b[38;5;28;01mexcept\u001b[39;00m \u001b[38;5;167;01mKeyError\u001b[39;00m:\n\u001b[1;32m    205\u001b[0m     \u001b[38;5;66;03m# If key is object's name or all, return ones\u001b[39;00m\n",
      "\u001b[0;31mKeyError\u001b[0m: 'pore.boundary'",
      "\nDuring handling of the above exception, another exception occurred:\n",
      "\u001b[0;31mKeyError\u001b[0m                                  Traceback (most recent call last)",
      "Cell \u001b[0;32mIn [3], line 1\u001b[0m\n\u001b[0;32m----> 1\u001b[0m op\u001b[38;5;241m.\u001b[39mtopotools\u001b[38;5;241m.\u001b[39mtrim(network\u001b[38;5;241m=\u001b[39mpn, pores\u001b[38;5;241m=\u001b[39m\u001b[43mpn\u001b[49m\u001b[38;5;241;43m.\u001b[39;49m\u001b[43mpores\u001b[49m\u001b[43m(\u001b[49m\u001b[38;5;124;43m'\u001b[39;49m\u001b[38;5;124;43mboundary\u001b[39;49m\u001b[38;5;124;43m'\u001b[39;49m\u001b[43m)\u001b[49m)\n",
      "File \u001b[0;32m~/work/OpenPNM/OpenPNM/openpnm/core/_mixins.py:467\u001b[0m, in \u001b[0;36mLabelMixin.pores\u001b[0;34m(self, labels, mode, asmask)\u001b[0m\n\u001b[1;32m    465\u001b[0m \u001b[38;5;28;01mif\u001b[39;00m labels \u001b[38;5;129;01mis\u001b[39;00m \u001b[38;5;28;01mNone\u001b[39;00m:\n\u001b[1;32m    466\u001b[0m     labels \u001b[38;5;241m=\u001b[39m \u001b[38;5;28mself\u001b[39m\u001b[38;5;241m.\u001b[39mname\n\u001b[0;32m--> 467\u001b[0m ind \u001b[38;5;241m=\u001b[39m \u001b[38;5;28;43mself\u001b[39;49m\u001b[38;5;241;43m.\u001b[39;49m\u001b[43m_get_indices\u001b[49m\u001b[43m(\u001b[49m\u001b[43melement\u001b[49m\u001b[38;5;241;43m=\u001b[39;49m\u001b[38;5;124;43m'\u001b[39;49m\u001b[38;5;124;43mpore\u001b[39;49m\u001b[38;5;124;43m'\u001b[39;49m\u001b[43m,\u001b[49m\u001b[43m \u001b[49m\u001b[43mlabels\u001b[49m\u001b[38;5;241;43m=\u001b[39;49m\u001b[43mlabels\u001b[49m\u001b[43m,\u001b[49m\u001b[43m \u001b[49m\u001b[43mmode\u001b[49m\u001b[38;5;241;43m=\u001b[39;49m\u001b[43mmode\u001b[49m\u001b[43m)\u001b[49m\n\u001b[1;32m    468\u001b[0m \u001b[38;5;28;01mif\u001b[39;00m asmask:\n\u001b[1;32m    469\u001b[0m     ind \u001b[38;5;241m=\u001b[39m \u001b[38;5;28mself\u001b[39m\u001b[38;5;241m.\u001b[39mto_mask(pores\u001b[38;5;241m=\u001b[39mind)\n",
      "File \u001b[0;32m~/work/OpenPNM/OpenPNM/openpnm/core/_mixins.py:387\u001b[0m, in \u001b[0;36mLabelMixin._get_indices\u001b[0;34m(self, element, labels, mode)\u001b[0m\n\u001b[1;32m    385\u001b[0m     union \u001b[38;5;241m=\u001b[39m np\u001b[38;5;241m.\u001b[39mzeros([\u001b[38;5;28mself\u001b[39m\u001b[38;5;241m.\u001b[39m_count(element), ], dtype\u001b[38;5;241m=\u001b[39m\u001b[38;5;28mbool\u001b[39m)\n\u001b[1;32m    386\u001b[0m     \u001b[38;5;28;01mfor\u001b[39;00m item \u001b[38;5;129;01min\u001b[39;00m labels:  \u001b[38;5;66;03m# Iterate over labels and collect all indices\u001b[39;00m\n\u001b[0;32m--> 387\u001b[0m         union \u001b[38;5;241m=\u001b[39m union \u001b[38;5;241m+\u001b[39m \u001b[38;5;28;43mself\u001b[39;49m\u001b[43m[\u001b[49m\u001b[43melement\u001b[49m\u001b[38;5;241;43m+\u001b[39;49m\u001b[38;5;124;43m'\u001b[39;49m\u001b[38;5;124;43m.\u001b[39;49m\u001b[38;5;124;43m'\u001b[39;49m\u001b[38;5;241;43m+\u001b[39;49m\u001b[43mitem\u001b[49m\u001b[38;5;241;43m.\u001b[39;49m\u001b[43msplit\u001b[49m\u001b[43m(\u001b[49m\u001b[38;5;124;43m'\u001b[39;49m\u001b[38;5;124;43m.\u001b[39;49m\u001b[38;5;124;43m'\u001b[39;49m\u001b[43m,\u001b[49m\u001b[43m \u001b[49m\u001b[38;5;241;43m1\u001b[39;49m\u001b[43m)\u001b[49m\u001b[43m[\u001b[49m\u001b[38;5;241;43m-\u001b[39;49m\u001b[38;5;241;43m1\u001b[39;49m\u001b[43m]\u001b[49m\u001b[43m]\u001b[49m\n\u001b[1;32m    388\u001b[0m     ind \u001b[38;5;241m=\u001b[39m union\n\u001b[1;32m    389\u001b[0m \u001b[38;5;28;01melif\u001b[39;00m mode \u001b[38;5;129;01min\u001b[39;00m [\u001b[38;5;124m'\u001b[39m\u001b[38;5;124mand\u001b[39m\u001b[38;5;124m'\u001b[39m, \u001b[38;5;124m'\u001b[39m\u001b[38;5;124mall\u001b[39m\u001b[38;5;124m'\u001b[39m, \u001b[38;5;124m'\u001b[39m\u001b[38;5;124mintersection\u001b[39m\u001b[38;5;124m'\u001b[39m]:\n",
      "File \u001b[0;32m~/work/OpenPNM/OpenPNM/openpnm/core/_base2.py:219\u001b[0m, in \u001b[0;36mBase2.__getitem__\u001b[0;34m(self, key)\u001b[0m\n\u001b[1;32m    217\u001b[0m     \u001b[38;5;28;01mreturn\u001b[39;00m vals\n\u001b[1;32m    218\u001b[0m \u001b[38;5;28;01melse\u001b[39;00m:\n\u001b[0;32m--> 219\u001b[0m     \u001b[38;5;28;01mraise\u001b[39;00m \u001b[38;5;167;01mKeyError\u001b[39;00m(key)\n",
      "\u001b[0;31mKeyError\u001b[0m: 'pore.boundary'"
     ]
    }
   ],
   "source": [
    "op.topotools.trim(network=pn, pores=pn.pores('boundary'))"
   ]
  },
  {
   "cell_type": "code",
   "execution_count": 4,
   "metadata": {
    "execution": {
     "iopub.execute_input": "2022-09-07T19:25:15.848823Z",
     "iopub.status.busy": "2022-09-07T19:25:15.848578Z",
     "iopub.status.idle": "2022-09-07T19:25:16.008672Z",
     "shell.execute_reply": "2022-09-07T19:25:16.007759Z"
    }
   },
   "outputs": [
    {
     "ename": "AttributeError",
     "evalue": "module 'openpnm.topotools' has no attribute 'plot_coordinates'",
     "output_type": "error",
     "traceback": [
      "\u001b[0;31m---------------------------------------------------------------------------\u001b[0m",
      "\u001b[0;31mAttributeError\u001b[0m                            Traceback (most recent call last)",
      "Cell \u001b[0;32mIn [4], line 2\u001b[0m\n\u001b[1;32m      1\u001b[0m fig, ax \u001b[38;5;241m=\u001b[39m plt\u001b[38;5;241m.\u001b[39msubplots(\u001b[38;5;241m1\u001b[39m, \u001b[38;5;241m1\u001b[39m, figsize\u001b[38;5;241m=\u001b[39m[\u001b[38;5;241m5\u001b[39m, \u001b[38;5;241m5\u001b[39m])\n\u001b[0;32m----> 2\u001b[0m \u001b[43mop\u001b[49m\u001b[38;5;241;43m.\u001b[39;49m\u001b[43mtopotools\u001b[49m\u001b[38;5;241;43m.\u001b[39;49m\u001b[43mplot_coordinates\u001b[49m(network\u001b[38;5;241m=\u001b[39mpn, c\u001b[38;5;241m=\u001b[39m\u001b[38;5;124m'\u001b[39m\u001b[38;5;124mr\u001b[39m\u001b[38;5;124m'\u001b[39m, ax\u001b[38;5;241m=\u001b[39max)\n\u001b[1;32m      3\u001b[0m op\u001b[38;5;241m.\u001b[39mtopotools\u001b[38;5;241m.\u001b[39mplot_connections(network\u001b[38;5;241m=\u001b[39mpn, ax\u001b[38;5;241m=\u001b[39max)\n",
      "\u001b[0;31mAttributeError\u001b[0m: module 'openpnm.topotools' has no attribute 'plot_coordinates'"
     ]
    },
    {
     "data": {
      "image/png": "[encoded data removed]",
      "text/plain": [
       "<Figure size 500x500 with 1 Axes>"
      ]
     },
     "metadata": {},
     "output_type": "display_data"
    }
   ],
   "source": [
    "fig, ax = plt.subplots(1, 1, figsize=[5, 5])\n",
    "op.topotools.plot_coordinates(network=pn, c='r', ax=ax)\n",
    "op.topotools.plot_connections(network=pn, ax=ax)"
   ]
  },
  {
   "cell_type": "markdown",
   "metadata": {},
   "source": [
    "This network does not have any geometrical properties on it when generated.  To mimic the situation of an imported network, let's manually enter some values for ``'pore.diameter'``.  We'll just assign random numbers to illustrate the point:"
   ]
  },
  {
   "cell_type": "code",
   "execution_count": 5,
   "metadata": {
    "execution": {
     "iopub.execute_input": "2022-09-07T19:25:16.012294Z",
     "iopub.status.busy": "2022-09-07T19:25:16.011882Z",
     "iopub.status.idle": "2022-09-07T19:25:16.016204Z",
     "shell.execute_reply": "2022-09-07T19:25:16.015359Z"
    }
   },
   "outputs": [],
   "source": [
    "pn['pore.diameter'] = np.random.rand(pn.Np)"
   ]
  },
  {
   "cell_type": "markdown",
   "metadata": {},
   "source": [
    "Now when we ``print`` the network we'll see all the topological data ('pore.coords' and 'throat.conns'), all the labels that were added by the generator (e.g. 'pore.left'), as well as the new geometry info we just added ('pore.diameter'):"
   ]
  },
  {
   "cell_type": "code",
   "execution_count": 6,
   "metadata": {
    "execution": {
     "iopub.execute_input": "2022-09-07T19:25:16.019483Z",
     "iopub.status.busy": "2022-09-07T19:25:16.019068Z",
     "iopub.status.idle": "2022-09-07T19:25:16.023803Z",
     "shell.execute_reply": "2022-09-07T19:25:16.022736Z"
    }
   },
   "outputs": [
    {
     "name": "stdout",
     "output_type": "stream",
     "text": [
      "\n",
      "══════════════════════════════════════════════════════════════════════════════\n",
      "net : <openpnm.network.Delaunay at 0x7fc8f89bfb80>\n",
      "――――――――――――――――――――――――――――――――――――――――――――――――――――――――――――――――――――――――――――――\n",
      "  #  Properties                                                   Valid Values\n",
      "――――――――――――――――――――――――――――――――――――――――――――――――――――――――――――――――――――――――――――――\n",
      "  1  pore.coords                                                     100 / 100\n",
      "  2  pore.diameter                                                   100 / 100\n",
      "  3  throat.conns                                                    286 / 286\n",
      "――――――――――――――――――――――――――――――――――――――――――――――――――――――――――――――――――――――――――――――\n",
      "  #  Labels                                                 Assigned Locations\n",
      "――――――――――――――――――――――――――――――――――――――――――――――――――――――――――――――――――――――――――――――\n",
      "――――――――――――――――――――――――――――――――――――――――――――――――――――――――――――――――――――――――――――――\n"
     ]
    }
   ],
   "source": [
    "print(pn)"
   ]
  },
  {
   "cell_type": "markdown",
   "metadata": {},
   "source": [
    "OpenPNM was designed to work by assigning geomtrical information to **Geometry** objects.  The presence of 'pore.diameter' on the network can be a problem in some cases.  For instance, let's add some boundary pores to the left edge:"
   ]
  },
  {
   "cell_type": "code",
   "execution_count": 7,
   "metadata": {
    "execution": {
     "iopub.execute_input": "2022-09-07T19:25:16.027527Z",
     "iopub.status.busy": "2022-09-07T19:25:16.027037Z",
     "iopub.status.idle": "2022-09-07T19:25:16.078338Z",
     "shell.execute_reply": "2022-09-07T19:25:16.076856Z"
    }
   },
   "outputs": [
    {
     "ename": "KeyError",
     "evalue": "'pore.surface'",
     "output_type": "error",
     "traceback": [
      "\u001b[0;31m---------------------------------------------------------------------------\u001b[0m",
      "\u001b[0;31mKeyError\u001b[0m                                  Traceback (most recent call last)",
      "File \u001b[0;32m~/work/OpenPNM/OpenPNM/openpnm/core/_base2.py:203\u001b[0m, in \u001b[0;36mBase2.__getitem__\u001b[0;34m(self, key)\u001b[0m\n\u001b[1;32m    202\u001b[0m \u001b[38;5;28;01mtry\u001b[39;00m:\n\u001b[0;32m--> 203\u001b[0m     \u001b[38;5;28;01mreturn\u001b[39;00m \u001b[38;5;28;43msuper\u001b[39;49m\u001b[43m(\u001b[49m\u001b[43m)\u001b[49m\u001b[38;5;241;43m.\u001b[39;49m\u001b[38;5;21;43m__getitem__\u001b[39;49m\u001b[43m(\u001b[49m\u001b[43mkey\u001b[49m\u001b[43m)\u001b[49m\n\u001b[1;32m    204\u001b[0m \u001b[38;5;28;01mexcept\u001b[39;00m \u001b[38;5;167;01mKeyError\u001b[39;00m:\n\u001b[1;32m    205\u001b[0m     \u001b[38;5;66;03m# If key is object's name or all, return ones\u001b[39;00m\n",
      "\u001b[0;31mKeyError\u001b[0m: 'pore.surface'",
      "\nDuring handling of the above exception, another exception occurred:\n",
      "\u001b[0;31mKeyError\u001b[0m                                  Traceback (most recent call last)",
      "Cell \u001b[0;32mIn [7], line 1\u001b[0m\n\u001b[0;32m----> 1\u001b[0m Ps \u001b[38;5;241m=\u001b[39m \u001b[43mpn\u001b[49m\u001b[43m[\u001b[49m\u001b[38;5;124;43m'\u001b[39;49m\u001b[38;5;124;43mpore.surface\u001b[39;49m\u001b[38;5;124;43m'\u001b[39;49m\u001b[43m]\u001b[49m\u001b[38;5;241m*\u001b[39m(pn[\u001b[38;5;124m'\u001b[39m\u001b[38;5;124mpore.coords\u001b[39m\u001b[38;5;124m'\u001b[39m][:, \u001b[38;5;241m0\u001b[39m] \u001b[38;5;241m<\u001b[39m \u001b[38;5;241m0.1\u001b[39m)\n\u001b[1;32m      2\u001b[0m Ps \u001b[38;5;241m=\u001b[39m pn\u001b[38;5;241m.\u001b[39mtoindices(Ps)\n\u001b[1;32m      3\u001b[0m op\u001b[38;5;241m.\u001b[39mtopotools\u001b[38;5;241m.\u001b[39madd_boundary_pores(network\u001b[38;5;241m=\u001b[39mpn, pores\u001b[38;5;241m=\u001b[39mPs, \n\u001b[1;32m      4\u001b[0m                                 move_to\u001b[38;5;241m=\u001b[39m[\u001b[38;5;241m0\u001b[39m, \u001b[38;5;28;01mNone\u001b[39;00m, \u001b[38;5;28;01mNone\u001b[39;00m], \n\u001b[1;32m      5\u001b[0m                                 apply_label\u001b[38;5;241m=\u001b[39m\u001b[38;5;124m'\u001b[39m\u001b[38;5;124mleft\u001b[39m\u001b[38;5;124m'\u001b[39m)\n",
      "File \u001b[0;32m~/work/OpenPNM/OpenPNM/openpnm/core/_base2.py:219\u001b[0m, in \u001b[0;36mBase2.__getitem__\u001b[0;34m(self, key)\u001b[0m\n\u001b[1;32m    217\u001b[0m     \u001b[38;5;28;01mreturn\u001b[39;00m vals\n\u001b[1;32m    218\u001b[0m \u001b[38;5;28;01melse\u001b[39;00m:\n\u001b[0;32m--> 219\u001b[0m     \u001b[38;5;28;01mraise\u001b[39;00m \u001b[38;5;167;01mKeyError\u001b[39;00m(key)\n",
      "\u001b[0;31mKeyError\u001b[0m: 'pore.surface'"
     ]
    }
   ],
   "source": [
    "Ps = pn['pore.surface']*(pn['pore.coords'][:, 0] < 0.1)\n",
    "Ps = pn.toindices(Ps)\n",
    "op.topotools.add_boundary_pores(network=pn, pores=Ps, \n",
    "                                move_to=[0, None, None], \n",
    "                                apply_label='left')"
   ]
  },
  {
   "cell_type": "markdown",
   "metadata": {},
   "source": [
    "Visualizing this networks shows the newl added pores where we intended:"
   ]
  },
  {
   "cell_type": "code",
   "execution_count": 8,
   "metadata": {
    "execution": {
     "iopub.execute_input": "2022-09-07T19:25:16.081905Z",
     "iopub.status.busy": "2022-09-07T19:25:16.081494Z",
     "iopub.status.idle": "2022-09-07T19:25:16.245544Z",
     "shell.execute_reply": "2022-09-07T19:25:16.244486Z"
    }
   },
   "outputs": [
    {
     "ename": "AttributeError",
     "evalue": "module 'openpnm.topotools' has no attribute 'plot_coordinates'",
     "output_type": "error",
     "traceback": [
      "\u001b[0;31m---------------------------------------------------------------------------\u001b[0m",
      "\u001b[0;31mAttributeError\u001b[0m                            Traceback (most recent call last)",
      "Cell \u001b[0;32mIn [8], line 2\u001b[0m\n\u001b[1;32m      1\u001b[0m fig, ax \u001b[38;5;241m=\u001b[39m plt\u001b[38;5;241m.\u001b[39msubplots(figsize\u001b[38;5;241m=\u001b[39m[\u001b[38;5;241m7\u001b[39m, \u001b[38;5;241m7\u001b[39m])\n\u001b[0;32m----> 2\u001b[0m ax \u001b[38;5;241m=\u001b[39m \u001b[43mop\u001b[49m\u001b[38;5;241;43m.\u001b[39;49m\u001b[43mtopotools\u001b[49m\u001b[38;5;241;43m.\u001b[39;49m\u001b[43mplot_coordinates\u001b[49m(network\u001b[38;5;241m=\u001b[39mpn, pores\u001b[38;5;241m=\u001b[39mpn\u001b[38;5;241m.\u001b[39mpores(\u001b[38;5;124m'\u001b[39m\u001b[38;5;124mleft\u001b[39m\u001b[38;5;124m'\u001b[39m, mode\u001b[38;5;241m=\u001b[39m\u001b[38;5;124m'\u001b[39m\u001b[38;5;124mnot\u001b[39m\u001b[38;5;124m'\u001b[39m), c\u001b[38;5;241m=\u001b[39m\u001b[38;5;124m'\u001b[39m\u001b[38;5;124mr\u001b[39m\u001b[38;5;124m'\u001b[39m, ax\u001b[38;5;241m=\u001b[39max)\n\u001b[1;32m      3\u001b[0m ax \u001b[38;5;241m=\u001b[39m op\u001b[38;5;241m.\u001b[39mtopotools\u001b[38;5;241m.\u001b[39mplot_coordinates(network\u001b[38;5;241m=\u001b[39mpn, pores\u001b[38;5;241m=\u001b[39mpn\u001b[38;5;241m.\u001b[39mpores(\u001b[38;5;124m'\u001b[39m\u001b[38;5;124mleft\u001b[39m\u001b[38;5;124m'\u001b[39m), c\u001b[38;5;241m=\u001b[39m\u001b[38;5;124m'\u001b[39m\u001b[38;5;124mg\u001b[39m\u001b[38;5;124m'\u001b[39m, ax\u001b[38;5;241m=\u001b[39max)\n\u001b[1;32m      4\u001b[0m ax \u001b[38;5;241m=\u001b[39m op\u001b[38;5;241m.\u001b[39mtopotools\u001b[38;5;241m.\u001b[39mplot_connections(network\u001b[38;5;241m=\u001b[39mpn, ax\u001b[38;5;241m=\u001b[39max)\n",
      "\u001b[0;31mAttributeError\u001b[0m: module 'openpnm.topotools' has no attribute 'plot_coordinates'"
     ]
    },
    {
     "data": {
      "image/png": "[encoded data removed]",
      "text/plain": [
       "<Figure size 700x700 with 1 Axes>"
      ]
     },
     "metadata": {},
     "output_type": "display_data"
    }
   ],
   "source": [
    "fig, ax = plt.subplots(figsize=[7, 7])\n",
    "ax = op.topotools.plot_coordinates(network=pn, pores=pn.pores('left', mode='not'), c='r', ax=ax)\n",
    "ax = op.topotools.plot_coordinates(network=pn, pores=pn.pores('left'), c='g', ax=ax)\n",
    "ax = op.topotools.plot_connections(network=pn, ax=ax)"
   ]
  },
  {
   "cell_type": "markdown",
   "metadata": {},
   "source": [
    "Now we have internal pores (red) and boundary pores (green).  We would like to assign geometrical information to the boundary pores that we just created.  This is typically done by creating a **Geometry** object, then either assigning numerical values or attaching a pore-scale model that calculates the values.  The problem is that OpenPNM prevents you from having 'pore.diameter' on the network AND a geometry object at the same time. "
   ]
  },
  {
   "cell_type": "code",
   "execution_count": 9,
   "metadata": {
    "execution": {
     "iopub.execute_input": "2022-09-07T19:25:16.249394Z",
     "iopub.status.busy": "2022-09-07T19:25:16.249137Z",
     "iopub.status.idle": "2022-09-07T19:25:16.317595Z",
     "shell.execute_reply": "2022-09-07T19:25:16.316594Z"
    }
   },
   "outputs": [
    {
     "ename": "KeyError",
     "evalue": "'pore.left'",
     "output_type": "error",
     "traceback": [
      "\u001b[0;31m---------------------------------------------------------------------------\u001b[0m",
      "\u001b[0;31mKeyError\u001b[0m                                  Traceback (most recent call last)",
      "File \u001b[0;32m~/work/OpenPNM/OpenPNM/openpnm/core/_base2.py:203\u001b[0m, in \u001b[0;36mBase2.__getitem__\u001b[0;34m(self, key)\u001b[0m\n\u001b[1;32m    202\u001b[0m \u001b[38;5;28;01mtry\u001b[39;00m:\n\u001b[0;32m--> 203\u001b[0m     \u001b[38;5;28;01mreturn\u001b[39;00m \u001b[38;5;28;43msuper\u001b[39;49m\u001b[43m(\u001b[49m\u001b[43m)\u001b[49m\u001b[38;5;241;43m.\u001b[39;49m\u001b[38;5;21;43m__getitem__\u001b[39;49m\u001b[43m(\u001b[49m\u001b[43mkey\u001b[49m\u001b[43m)\u001b[49m\n\u001b[1;32m    204\u001b[0m \u001b[38;5;28;01mexcept\u001b[39;00m \u001b[38;5;167;01mKeyError\u001b[39;00m:\n\u001b[1;32m    205\u001b[0m     \u001b[38;5;66;03m# If key is object's name or all, return ones\u001b[39;00m\n",
      "\u001b[0;31mKeyError\u001b[0m: 'pore.left'",
      "\nDuring handling of the above exception, another exception occurred:\n",
      "\u001b[0;31mKeyError\u001b[0m                                  Traceback (most recent call last)",
      "Cell \u001b[0;32mIn [9], line 1\u001b[0m\n\u001b[0;32m----> 1\u001b[0m Ps \u001b[38;5;241m=\u001b[39m \u001b[43mpn\u001b[49m\u001b[38;5;241;43m.\u001b[39;49m\u001b[43mpores\u001b[49m\u001b[43m(\u001b[49m\u001b[38;5;124;43m'\u001b[39;49m\u001b[38;5;124;43mleft\u001b[39;49m\u001b[38;5;124;43m'\u001b[39;49m\u001b[43m)\u001b[49m\n\u001b[1;32m      2\u001b[0m Ts \u001b[38;5;241m=\u001b[39m pn\u001b[38;5;241m.\u001b[39mfind_neighbor_throats(pores\u001b[38;5;241m=\u001b[39mPs)\n\u001b[1;32m      3\u001b[0m geo_bndry \u001b[38;5;241m=\u001b[39m op\u001b[38;5;241m.\u001b[39mgeometry\u001b[38;5;241m.\u001b[39mGenericGeometry(network\u001b[38;5;241m=\u001b[39mpn, pores\u001b[38;5;241m=\u001b[39mPs, throats\u001b[38;5;241m=\u001b[39mTs)\n",
      "File \u001b[0;32m~/work/OpenPNM/OpenPNM/openpnm/core/_mixins.py:467\u001b[0m, in \u001b[0;36mLabelMixin.pores\u001b[0;34m(self, labels, mode, asmask)\u001b[0m\n\u001b[1;32m    465\u001b[0m \u001b[38;5;28;01mif\u001b[39;00m labels \u001b[38;5;129;01mis\u001b[39;00m \u001b[38;5;28;01mNone\u001b[39;00m:\n\u001b[1;32m    466\u001b[0m     labels \u001b[38;5;241m=\u001b[39m \u001b[38;5;28mself\u001b[39m\u001b[38;5;241m.\u001b[39mname\n\u001b[0;32m--> 467\u001b[0m ind \u001b[38;5;241m=\u001b[39m \u001b[38;5;28;43mself\u001b[39;49m\u001b[38;5;241;43m.\u001b[39;49m\u001b[43m_get_indices\u001b[49m\u001b[43m(\u001b[49m\u001b[43melement\u001b[49m\u001b[38;5;241;43m=\u001b[39;49m\u001b[38;5;124;43m'\u001b[39;49m\u001b[38;5;124;43mpore\u001b[39;49m\u001b[38;5;124;43m'\u001b[39;49m\u001b[43m,\u001b[49m\u001b[43m \u001b[49m\u001b[43mlabels\u001b[49m\u001b[38;5;241;43m=\u001b[39;49m\u001b[43mlabels\u001b[49m\u001b[43m,\u001b[49m\u001b[43m \u001b[49m\u001b[43mmode\u001b[49m\u001b[38;5;241;43m=\u001b[39;49m\u001b[43mmode\u001b[49m\u001b[43m)\u001b[49m\n\u001b[1;32m    468\u001b[0m \u001b[38;5;28;01mif\u001b[39;00m asmask:\n\u001b[1;32m    469\u001b[0m     ind \u001b[38;5;241m=\u001b[39m \u001b[38;5;28mself\u001b[39m\u001b[38;5;241m.\u001b[39mto_mask(pores\u001b[38;5;241m=\u001b[39mind)\n",
      "File \u001b[0;32m~/work/OpenPNM/OpenPNM/openpnm/core/_mixins.py:387\u001b[0m, in \u001b[0;36mLabelMixin._get_indices\u001b[0;34m(self, element, labels, mode)\u001b[0m\n\u001b[1;32m    385\u001b[0m     union \u001b[38;5;241m=\u001b[39m np\u001b[38;5;241m.\u001b[39mzeros([\u001b[38;5;28mself\u001b[39m\u001b[38;5;241m.\u001b[39m_count(element), ], dtype\u001b[38;5;241m=\u001b[39m\u001b[38;5;28mbool\u001b[39m)\n\u001b[1;32m    386\u001b[0m     \u001b[38;5;28;01mfor\u001b[39;00m item \u001b[38;5;129;01min\u001b[39;00m labels:  \u001b[38;5;66;03m# Iterate over labels and collect all indices\u001b[39;00m\n\u001b[0;32m--> 387\u001b[0m         union \u001b[38;5;241m=\u001b[39m union \u001b[38;5;241m+\u001b[39m \u001b[38;5;28;43mself\u001b[39;49m\u001b[43m[\u001b[49m\u001b[43melement\u001b[49m\u001b[38;5;241;43m+\u001b[39;49m\u001b[38;5;124;43m'\u001b[39;49m\u001b[38;5;124;43m.\u001b[39;49m\u001b[38;5;124;43m'\u001b[39;49m\u001b[38;5;241;43m+\u001b[39;49m\u001b[43mitem\u001b[49m\u001b[38;5;241;43m.\u001b[39;49m\u001b[43msplit\u001b[49m\u001b[43m(\u001b[49m\u001b[38;5;124;43m'\u001b[39;49m\u001b[38;5;124;43m.\u001b[39;49m\u001b[38;5;124;43m'\u001b[39;49m\u001b[43m,\u001b[49m\u001b[43m \u001b[49m\u001b[38;5;241;43m1\u001b[39;49m\u001b[43m)\u001b[49m\u001b[43m[\u001b[49m\u001b[38;5;241;43m-\u001b[39;49m\u001b[38;5;241;43m1\u001b[39;49m\u001b[43m]\u001b[49m\u001b[43m]\u001b[49m\n\u001b[1;32m    388\u001b[0m     ind \u001b[38;5;241m=\u001b[39m union\n\u001b[1;32m    389\u001b[0m \u001b[38;5;28;01melif\u001b[39;00m mode \u001b[38;5;129;01min\u001b[39;00m [\u001b[38;5;124m'\u001b[39m\u001b[38;5;124mand\u001b[39m\u001b[38;5;124m'\u001b[39m, \u001b[38;5;124m'\u001b[39m\u001b[38;5;124mall\u001b[39m\u001b[38;5;124m'\u001b[39m, \u001b[38;5;124m'\u001b[39m\u001b[38;5;124mintersection\u001b[39m\u001b[38;5;124m'\u001b[39m]:\n",
      "File \u001b[0;32m~/work/OpenPNM/OpenPNM/openpnm/core/_base2.py:219\u001b[0m, in \u001b[0;36mBase2.__getitem__\u001b[0;34m(self, key)\u001b[0m\n\u001b[1;32m    217\u001b[0m     \u001b[38;5;28;01mreturn\u001b[39;00m vals\n\u001b[1;32m    218\u001b[0m \u001b[38;5;28;01melse\u001b[39;00m:\n\u001b[0;32m--> 219\u001b[0m     \u001b[38;5;28;01mraise\u001b[39;00m \u001b[38;5;167;01mKeyError\u001b[39;00m(key)\n",
      "\u001b[0;31mKeyError\u001b[0m: 'pore.left'"
     ]
    }
   ],
   "source": [
    "Ps = pn.pores('left')\n",
    "Ts = pn.find_neighbor_throats(pores=Ps)\n",
    "geo_bndry = op.geometry.GenericGeometry(network=pn, pores=Ps, throats=Ts)"
   ]
  },
  {
   "cell_type": "markdown",
   "metadata": {},
   "source": [
    "Now we we try to assign ``'pore.diameter'``, we'll get the following exception (The \"try-except\" structure is used for the purpose of this notebook example, but is not needed in an actual script):"
   ]
  },
  {
   "cell_type": "code",
   "execution_count": 10,
   "metadata": {
    "execution": {
     "iopub.execute_input": "2022-09-07T19:25:16.321231Z",
     "iopub.status.busy": "2022-09-07T19:25:16.320991Z",
     "iopub.status.idle": "2022-09-07T19:25:16.325668Z",
     "shell.execute_reply": "2022-09-07T19:25:16.324850Z"
    }
   },
   "outputs": [
    {
     "name": "stdout",
     "output_type": "stream",
     "text": [
      "name 'geo_bndry' is not defined\n"
     ]
    }
   ],
   "source": [
    "try:\n",
    "    geo_bndry['pore.diameter'] = 0\n",
    "except Exception as e:\n",
    "    print(e)"
   ]
  },
  {
   "cell_type": "markdown",
   "metadata": {},
   "source": [
    "The solution is to remove the geometrical information from the network *before* adding the boundary pores, and place them on their own geometry.  In this example it is easy to transfer the ``'pore.diameter'`` array, but in the case of a real extracted network there could be quite a few arrays to move.  OpenPNM has a facility for doing this: the ``Imported`` geometry class."
   ]
  },
  {
   "cell_type": "markdown",
   "metadata": {},
   "source": [
    "## Using the Imported Geometry Class\n",
    "Let's create a network and add a geometric properties again, this time *before* adding boundary pores."
   ]
  },
  {
   "cell_type": "code",
   "execution_count": 11,
   "metadata": {
    "execution": {
     "iopub.execute_input": "2022-09-07T19:25:16.329078Z",
     "iopub.status.busy": "2022-09-07T19:25:16.328835Z",
     "iopub.status.idle": "2022-09-07T19:25:16.335169Z",
     "shell.execute_reply": "2022-09-07T19:25:16.334348Z"
    }
   },
   "outputs": [],
   "source": [
    "pn = op.network.Delaunay(shape=[1, 1, 0], points=100)\n",
    "pn['pore.diameter'] = np.random.rand(pn.Np)"
   ]
  },
  {
   "cell_type": "markdown",
   "metadata": {},
   "source": [
    "Here we pass the network to the ``Imported`` geometry class.  This class literally removes all numerical data from the network to itself.  Everything is moved except topological info ('pore.coords' and 'throat.conns') and labels ('pore.left')."
   ]
  },
  {
   "cell_type": "code",
   "execution_count": 12,
   "metadata": {
    "execution": {
     "iopub.execute_input": "2022-09-07T19:25:16.338864Z",
     "iopub.status.busy": "2022-09-07T19:25:16.338409Z",
     "iopub.status.idle": "2022-09-07T19:25:16.353731Z",
     "shell.execute_reply": "2022-09-07T19:25:16.352693Z"
    },
    "scrolled": true
   },
   "outputs": [
    {
     "ename": "AttributeError",
     "evalue": "module 'openpnm' has no attribute 'geometry'",
     "output_type": "error",
     "traceback": [
      "\u001b[0;31m---------------------------------------------------------------------------\u001b[0m",
      "\u001b[0;31mAttributeError\u001b[0m                            Traceback (most recent call last)",
      "Cell \u001b[0;32mIn [12], line 1\u001b[0m\n\u001b[0;32m----> 1\u001b[0m geo \u001b[38;5;241m=\u001b[39m \u001b[43mop\u001b[49m\u001b[38;5;241;43m.\u001b[39;49m\u001b[43mgeometry\u001b[49m\u001b[38;5;241m.\u001b[39mImported(network\u001b[38;5;241m=\u001b[39mpn)\n",
      "\u001b[0;31mAttributeError\u001b[0m: module 'openpnm' has no attribute 'geometry'"
     ]
    }
   ],
   "source": [
    "geo = op.geometry.Imported(network=pn)"
   ]
  },
  {
   "cell_type": "markdown",
   "metadata": {},
   "source": [
    "Printing ``geo`` reveals that the 'pore.diameter' array has been transferred from the network automatically:"
   ]
  },
  {
   "cell_type": "code",
   "execution_count": 13,
   "metadata": {
    "execution": {
     "iopub.execute_input": "2022-09-07T19:25:16.357188Z",
     "iopub.status.busy": "2022-09-07T19:25:16.356955Z",
     "iopub.status.idle": "2022-09-07T19:25:16.370374Z",
     "shell.execute_reply": "2022-09-07T19:25:16.369606Z"
    }
   },
   "outputs": [
    {
     "ename": "NameError",
     "evalue": "name 'geo' is not defined",
     "output_type": "error",
     "traceback": [
      "\u001b[0;31m---------------------------------------------------------------------------\u001b[0m",
      "\u001b[0;31mNameError\u001b[0m                                 Traceback (most recent call last)",
      "Cell \u001b[0;32mIn [13], line 1\u001b[0m\n\u001b[0;32m----> 1\u001b[0m \u001b[38;5;28mprint\u001b[39m(\u001b[43mgeo\u001b[49m)\n",
      "\u001b[0;31mNameError\u001b[0m: name 'geo' is not defined"
     ]
    }
   ],
   "source": [
    "print(geo)"
   ]
  },
  {
   "cell_type": "markdown",
   "metadata": {},
   "source": [
    "Now that the geometrical information is properly assigned to a geometry object, we can now use OpenPNM as intended.  Let's extend this network by adding a single new pore."
   ]
  },
  {
   "cell_type": "code",
   "execution_count": 14,
   "metadata": {
    "execution": {
     "iopub.execute_input": "2022-09-07T19:25:16.373853Z",
     "iopub.status.busy": "2022-09-07T19:25:16.373619Z",
     "iopub.status.idle": "2022-09-07T19:25:16.377873Z",
     "shell.execute_reply": "2022-09-07T19:25:16.377107Z"
    }
   },
   "outputs": [],
   "source": [
    "op.topotools.extend(network=pn, pore_coords = [[1.2, 1.2, 0]], labels='new')"
   ]
  },
  {
   "cell_type": "markdown",
   "metadata": {},
   "source": [
    "The new pore can clearly be seen outside the top-right corner of the domain."
   ]
  },
  {
   "cell_type": "code",
   "execution_count": 15,
   "metadata": {
    "execution": {
     "iopub.execute_input": "2022-09-07T19:25:16.381393Z",
     "iopub.status.busy": "2022-09-07T19:25:16.381161Z",
     "iopub.status.idle": "2022-09-07T19:25:16.525178Z",
     "shell.execute_reply": "2022-09-07T19:25:16.524328Z"
    }
   },
   "outputs": [
    {
     "ename": "AttributeError",
     "evalue": "module 'openpnm.topotools' has no attribute 'plot_coordinates'",
     "output_type": "error",
     "traceback": [
      "\u001b[0;31m---------------------------------------------------------------------------\u001b[0m",
      "\u001b[0;31mAttributeError\u001b[0m                            Traceback (most recent call last)",
      "Cell \u001b[0;32mIn [15], line 2\u001b[0m\n\u001b[1;32m      1\u001b[0m fig, ax \u001b[38;5;241m=\u001b[39m plt\u001b[38;5;241m.\u001b[39msubplots(figsize\u001b[38;5;241m=\u001b[39m[\u001b[38;5;241m7\u001b[39m, \u001b[38;5;241m7\u001b[39m])\n\u001b[0;32m----> 2\u001b[0m fig \u001b[38;5;241m=\u001b[39m \u001b[43mop\u001b[49m\u001b[38;5;241;43m.\u001b[39;49m\u001b[43mtopotools\u001b[49m\u001b[38;5;241;43m.\u001b[39;49m\u001b[43mplot_coordinates\u001b[49m(network\u001b[38;5;241m=\u001b[39mpn, pores\u001b[38;5;241m=\u001b[39mpn\u001b[38;5;241m.\u001b[39mpores(\u001b[38;5;124m'\u001b[39m\u001b[38;5;124mleft\u001b[39m\u001b[38;5;124m'\u001b[39m, mode\u001b[38;5;241m=\u001b[39m\u001b[38;5;124m'\u001b[39m\u001b[38;5;124mnot\u001b[39m\u001b[38;5;124m'\u001b[39m), c\u001b[38;5;241m=\u001b[39m\u001b[38;5;124m'\u001b[39m\u001b[38;5;124mr\u001b[39m\u001b[38;5;124m'\u001b[39m, ax\u001b[38;5;241m=\u001b[39max)\n\u001b[1;32m      3\u001b[0m fig \u001b[38;5;241m=\u001b[39m op\u001b[38;5;241m.\u001b[39mtopotools\u001b[38;5;241m.\u001b[39mplot_coordinates(network\u001b[38;5;241m=\u001b[39mpn, pores\u001b[38;5;241m=\u001b[39mpn\u001b[38;5;241m.\u001b[39mpores(\u001b[38;5;124m'\u001b[39m\u001b[38;5;124mleft\u001b[39m\u001b[38;5;124m'\u001b[39m), c\u001b[38;5;241m=\u001b[39m\u001b[38;5;124m'\u001b[39m\u001b[38;5;124mg\u001b[39m\u001b[38;5;124m'\u001b[39m, ax\u001b[38;5;241m=\u001b[39max)\n\u001b[1;32m      4\u001b[0m fig \u001b[38;5;241m=\u001b[39m op\u001b[38;5;241m.\u001b[39mtopotools\u001b[38;5;241m.\u001b[39mplot_connections(network\u001b[38;5;241m=\u001b[39mpn, ax\u001b[38;5;241m=\u001b[39max)\n",
      "\u001b[0;31mAttributeError\u001b[0m: module 'openpnm.topotools' has no attribute 'plot_coordinates'"
     ]
    },
    {
     "data": {
      "image/png": "[encoded data removed]",
      "text/plain": [
       "<Figure size 700x700 with 1 Axes>"
      ]
     },
     "metadata": {},
     "output_type": "display_data"
    }
   ],
   "source": [
    "fig, ax = plt.subplots(figsize=[7, 7])\n",
    "fig = op.topotools.plot_coordinates(network=pn, pores=pn.pores('left', mode='not'), c='r', ax=ax)\n",
    "fig = op.topotools.plot_coordinates(network=pn, pores=pn.pores('left'), c='g', ax=ax)\n",
    "fig = op.topotools.plot_connections(network=pn, ax=ax)"
   ]
  },
  {
   "cell_type": "markdown",
   "metadata": {},
   "source": [
    "We can now create a geometry just for this single pore and we will be free to add any properties we wish:"
   ]
  },
  {
   "cell_type": "code",
   "execution_count": 16,
   "metadata": {
    "execution": {
     "iopub.execute_input": "2022-09-07T19:25:16.530464Z",
     "iopub.status.busy": "2022-09-07T19:25:16.530080Z",
     "iopub.status.idle": "2022-09-07T19:25:16.546816Z",
     "shell.execute_reply": "2022-09-07T19:25:16.545761Z"
    }
   },
   "outputs": [
    {
     "ename": "AttributeError",
     "evalue": "module 'openpnm' has no attribute 'geometry'",
     "output_type": "error",
     "traceback": [
      "\u001b[0;31m---------------------------------------------------------------------------\u001b[0m",
      "\u001b[0;31mAttributeError\u001b[0m                            Traceback (most recent call last)",
      "Cell \u001b[0;32mIn [16], line 1\u001b[0m\n\u001b[0;32m----> 1\u001b[0m geo2 \u001b[38;5;241m=\u001b[39m \u001b[43mop\u001b[49m\u001b[38;5;241;43m.\u001b[39;49m\u001b[43mgeometry\u001b[49m\u001b[38;5;241m.\u001b[39mGenericGeometry(network\u001b[38;5;241m=\u001b[39mpn, pores\u001b[38;5;241m=\u001b[39mpn\u001b[38;5;241m.\u001b[39mpores(\u001b[38;5;124m'\u001b[39m\u001b[38;5;124mnew\u001b[39m\u001b[38;5;124m'\u001b[39m))\n\u001b[1;32m      2\u001b[0m geo2[\u001b[38;5;124m'\u001b[39m\u001b[38;5;124mpore.diameter\u001b[39m\u001b[38;5;124m'\u001b[39m] \u001b[38;5;241m=\u001b[39m \u001b[38;5;241m2.0\u001b[39m\n",
      "\u001b[0;31mAttributeError\u001b[0m: module 'openpnm' has no attribute 'geometry'"
     ]
    }
   ],
   "source": [
    "geo2 = op.geometry.GenericGeometry(network=pn, pores=pn.pores('new'))\n",
    "geo2['pore.diameter'] = 2.0"
   ]
  },
  {
   "cell_type": "code",
   "execution_count": 17,
   "metadata": {
    "execution": {
     "iopub.execute_input": "2022-09-07T19:25:16.549629Z",
     "iopub.status.busy": "2022-09-07T19:25:16.549393Z",
     "iopub.status.idle": "2022-09-07T19:25:16.564282Z",
     "shell.execute_reply": "2022-09-07T19:25:16.563527Z"
    }
   },
   "outputs": [
    {
     "ename": "NameError",
     "evalue": "name 'geo2' is not defined",
     "output_type": "error",
     "traceback": [
      "\u001b[0;31m---------------------------------------------------------------------------\u001b[0m",
      "\u001b[0;31mNameError\u001b[0m                                 Traceback (most recent call last)",
      "Cell \u001b[0;32mIn [17], line 1\u001b[0m\n\u001b[0;32m----> 1\u001b[0m \u001b[38;5;28mprint\u001b[39m(\u001b[43mgeo2\u001b[49m)\n",
      "\u001b[0;31mNameError\u001b[0m: name 'geo2' is not defined"
     ]
    }
   ],
   "source": [
    "print(geo2)"
   ]
  },
  {
   "cell_type": "markdown",
   "metadata": {},
   "source": [
    "Note that the network has the ability to fetch the 'pore.diameter' array from the geometry sub-domain object and create a single full array containing the values from all the locations.  In the printout below we can see the value of 2.0 in the very last element, which is where new pores are added to the list."
   ]
  },
  {
   "cell_type": "code",
   "execution_count": 18,
   "metadata": {
    "execution": {
     "iopub.execute_input": "2022-09-07T19:25:16.567689Z",
     "iopub.status.busy": "2022-09-07T19:25:16.567436Z",
     "iopub.status.idle": "2022-09-07T19:25:16.572464Z",
     "shell.execute_reply": "2022-09-07T19:25:16.571610Z"
    }
   },
   "outputs": [
    {
     "name": "stdout",
     "output_type": "stream",
     "text": [
      "[0.37321596 0.22286382 0.080532   0.08531092 0.22139645 0.10001406\n",
      " 0.2650397  0.06614946 0.06560487 0.85627618 0.16212026 0.55968241\n",
      " 0.77345554 0.45640957 0.15336888 0.19959614 0.43298421 0.52823409\n",
      " 0.34944029 0.7814796  0.75102165 0.92721181 0.02895255 0.89569129\n",
      " 0.39256879 0.8783725  0.69078478 0.98734876 0.75928245 0.36454463\n",
      " 0.50106317 0.37638916 0.36491184 0.2609045  0.4959703  0.68173995\n",
      " 0.27734027 0.52437981 0.11738029 0.15984529 0.04680635 0.97073144\n",
      " 0.00386035 0.17857997 0.61286675 0.0813696  0.8818965  0.71962016\n",
      " 0.96638997 0.50763555 0.30040368 0.54950057 0.93081872 0.52076144\n",
      " 0.26720703 0.87739879 0.37191875 0.00138335 0.24768502 0.31823351\n",
      " 0.85877747 0.45850317 0.44458729 0.33610227 0.88067812 0.94502678\n",
      " 0.99189033 0.37674127 0.96614745 0.79187957 0.67568915 0.24488948\n",
      " 0.21645726 0.16604782 0.92275661 0.29407666 0.45309425 0.49395783\n",
      " 0.7781716  0.84423496 0.1390727  0.42690436 0.84285489 0.81803331\n",
      " 0.10241376 0.15638335 0.30419869 0.07535907 0.424663   0.10761771\n",
      " 0.56821759 0.24655694 0.59643307 0.11752564 0.97588387 0.9325612\n",
      " 0.39179694 0.24217859 0.25039821 0.48339354        nan]\n"
     ]
    }
   ],
   "source": [
    "print(pn['pore.diameter'])"
   ]
  }
 ],
 "metadata": {
  "kernelspec": {
   "display_name": "Python 3",
   "language": "python",
   "name": "python3"
  },
  "language_info": {
   "codemirror_mode": {
    "name": "ipython",
    "version": 3
   },
   "file_extension": ".py",
   "mimetype": "text/x-python",
   "name": "python",
   "nbconvert_exporter": "python",
   "pygments_lexer": "ipython3",
   "version": "3.8.13"
  },
  "nbreg": {
   "diff_ignore": [
    "/cells/*/outputs/"
   ]
  }
 },
 "nbformat": 4,
 "nbformat_minor": 2
}
