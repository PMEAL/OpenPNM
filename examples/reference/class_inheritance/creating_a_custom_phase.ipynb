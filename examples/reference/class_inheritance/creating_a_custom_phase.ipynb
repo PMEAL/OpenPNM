{
 "cells": [
  {
   "cell_type": "markdown",
   "metadata": {},
   "source": [
    "# Creating a Custom Phase\n",
    "## Creating a custom fluid using GenericPhase"
   ]
  },
  {
   "cell_type": "markdown",
   "metadata": {},
   "source": [
    "OpenPNM comes with a small selection of pre-written phases (Air, Water, Mercury).  In many cases users will want different options but it is not feasible or productive to include a wide variety of fluids.  Consequntly OpenPNM has a mechanism for creating custom phases for this scneario.  This requires that the user have correlations for the properties of interest, such as the viscosity as a function of temperature in the form of a polynomial for instance.  This is process is described in the following tutuorial:"
   ]
  },
  {
   "cell_type": "markdown",
   "metadata": {},
   "source": [
    "Import the usual packages and instantiate a small network for demonstration purposes:"
   ]
  },
  {
   "cell_type": "code",
   "execution_count": 1,
   "metadata": {
    "execution": {
     "iopub.execute_input": "2022-09-07T19:24:28.895165Z",
     "iopub.status.busy": "2022-09-07T19:24:28.894839Z",
     "iopub.status.idle": "2022-09-07T19:24:30.655198Z",
     "shell.execute_reply": "2022-09-07T19:24:30.654204Z"
    }
   },
   "outputs": [],
   "source": [
    "import numpy as np\n",
    "import openpnm as op"
   ]
  },
  {
   "cell_type": "code",
   "execution_count": 2,
   "metadata": {
    "execution": {
     "iopub.execute_input": "2022-09-07T19:24:30.660424Z",
     "iopub.status.busy": "2022-09-07T19:24:30.659778Z",
     "iopub.status.idle": "2022-09-07T19:24:30.669729Z",
     "shell.execute_reply": "2022-09-07T19:24:30.668545Z"
    }
   },
   "outputs": [
    {
     "name": "stdout",
     "output_type": "stream",
     "text": [
      "\n",
      "══════════════════════════════════════════════════════════════════════════════\n",
      "net : <openpnm.network.Cubic at 0x7fb28e5b0ae0>\n",
      "――――――――――――――――――――――――――――――――――――――――――――――――――――――――――――――――――――――――――――――\n",
      "  #  Properties                                                   Valid Values\n",
      "――――――――――――――――――――――――――――――――――――――――――――――――――――――――――――――――――――――――――――――\n",
      "  1  pore.coords                                                       27 / 27\n",
      "  2  throat.conns                                                      54 / 54\n",
      "――――――――――――――――――――――――――――――――――――――――――――――――――――――――――――――――――――――――――――――\n",
      "  #  Labels                                                 Assigned Locations\n",
      "――――――――――――――――――――――――――――――――――――――――――――――――――――――――――――――――――――――――――――――\n",
      "  1  pore.back                                                               9\n",
      "  2  pore.bottom                                                             9\n",
      "  3  pore.front                                                              9\n",
      "  4  pore.left                                                               9\n",
      "  5  pore.right                                                              9\n",
      "  6  pore.surface                                                           26\n",
      "  7  pore.top                                                                9\n",
      "  8  throat.surface                                                         48\n",
      "――――――――――――――――――――――――――――――――――――――――――――――――――――――――――――――――――――――――――――――\n"
     ]
    }
   ],
   "source": [
    "pn = op.network.Cubic(shape=[3, 3, 3], spacing=1e-4)\n",
    "print(pn)"
   ]
  },
  {
   "cell_type": "markdown",
   "metadata": {},
   "source": [
    "Now that a network is defined, we can create a `GenericPhase` object associated with it.  For this demo we'll make an oil phase, so let's call it `oil`:"
   ]
  },
  {
   "cell_type": "code",
   "execution_count": 3,
   "metadata": {
    "execution": {
     "iopub.execute_input": "2022-09-07T19:24:30.673349Z",
     "iopub.status.busy": "2022-09-07T19:24:30.672957Z",
     "iopub.status.idle": "2022-09-07T19:24:31.239142Z",
     "shell.execute_reply": "2022-09-07T19:24:31.238388Z"
    }
   },
   "outputs": [
    {
     "ename": "AttributeError",
     "evalue": "module 'openpnm' has no attribute 'phases'",
     "output_type": "error",
     "traceback": [
      "\u001b[0;31m---------------------------------------------------------------------------\u001b[0m",
      "\u001b[0;31mAttributeError\u001b[0m                            Traceback (most recent call last)",
      "Cell \u001b[0;32mIn [3], line 1\u001b[0m\n\u001b[0;32m----> 1\u001b[0m oil \u001b[38;5;241m=\u001b[39m \u001b[43mop\u001b[49m\u001b[38;5;241;43m.\u001b[39;49m\u001b[43mphases\u001b[49m\u001b[38;5;241m.\u001b[39mGenericPhase(network\u001b[38;5;241m=\u001b[39mpn)\n\u001b[1;32m      2\u001b[0m \u001b[38;5;28mprint\u001b[39m(oil)\n",
      "\u001b[0;31mAttributeError\u001b[0m: module 'openpnm' has no attribute 'phases'"
     ]
    }
   ],
   "source": [
    "oil = op.phases.GenericPhase(network=pn)\n",
    "print(oil)"
   ]
  },
  {
   "cell_type": "markdown",
   "metadata": {},
   "source": [
    "As can be seen in the above printout, this phase has a temperature and pressure set at all locations, but has no other physical properties.  \n",
    "\n",
    "There are 2 ways add physical properties. They can be hard-coded, or added as a 'pore-scale model'.  \n",
    "- Some are suitable as hard coded values, such as molecular mass\n",
    "- Others should be added as a model, such as viscosity, which is a function of temperature so could vary spatially and should be updated depending on changing conditions in the simulation."
   ]
  },
  {
   "cell_type": "markdown",
   "metadata": {},
   "source": [
    "Start with hard-coding:"
   ]
  },
  {
   "cell_type": "code",
   "execution_count": 4,
   "metadata": {
    "execution": {
     "iopub.execute_input": "2022-09-07T19:24:31.242878Z",
     "iopub.status.busy": "2022-09-07T19:24:31.242640Z",
     "iopub.status.idle": "2022-09-07T19:24:31.260029Z",
     "shell.execute_reply": "2022-09-07T19:24:31.259306Z"
    }
   },
   "outputs": [
    {
     "ename": "NameError",
     "evalue": "name 'oil' is not defined",
     "output_type": "error",
     "traceback": [
      "\u001b[0;31m---------------------------------------------------------------------------\u001b[0m",
      "\u001b[0;31mNameError\u001b[0m                                 Traceback (most recent call last)",
      "Cell \u001b[0;32mIn [4], line 1\u001b[0m\n\u001b[0;32m----> 1\u001b[0m \u001b[43moil\u001b[49m[\u001b[38;5;124m'\u001b[39m\u001b[38;5;124mpore.molecular_mass\u001b[39m\u001b[38;5;124m'\u001b[39m] \u001b[38;5;241m=\u001b[39m \u001b[38;5;241m100.0\u001b[39m\n",
      "\u001b[0;31mNameError\u001b[0m: name 'oil' is not defined"
     ]
    }
   ],
   "source": [
    "oil['pore.molecular_mass'] = 100.0  # g/mol"
   ]
  },
  {
   "cell_type": "code",
   "execution_count": 5,
   "metadata": {
    "execution": {
     "iopub.execute_input": "2022-09-07T19:24:31.263092Z",
     "iopub.status.busy": "2022-09-07T19:24:31.262725Z",
     "iopub.status.idle": "2022-09-07T19:24:31.276996Z",
     "shell.execute_reply": "2022-09-07T19:24:31.276250Z"
    }
   },
   "outputs": [
    {
     "ename": "NameError",
     "evalue": "name 'oil' is not defined",
     "output_type": "error",
     "traceback": [
      "\u001b[0;31m---------------------------------------------------------------------------\u001b[0m",
      "\u001b[0;31mNameError\u001b[0m                                 Traceback (most recent call last)",
      "Cell \u001b[0;32mIn [5], line 1\u001b[0m\n\u001b[0;32m----> 1\u001b[0m \u001b[38;5;28mprint\u001b[39m(\u001b[43moil\u001b[49m[\u001b[38;5;124m'\u001b[39m\u001b[38;5;124mpore.molecular_mass\u001b[39m\u001b[38;5;124m'\u001b[39m])\n",
      "\u001b[0;31mNameError\u001b[0m: name 'oil' is not defined"
     ]
    }
   ],
   "source": [
    "print(oil['pore.molecular_mass'])"
   ]
  },
  {
   "cell_type": "markdown",
   "metadata": {},
   "source": [
    "As can be seen, this puts the value of 100.0 g/mol in every pore.  Note that you could also assign each pore explicitly with a numpy array.  OpenPNM automatically assigns a scalar value to every location as shown above."
   ]
  },
  {
   "cell_type": "code",
   "execution_count": 6,
   "metadata": {
    "execution": {
     "iopub.execute_input": "2022-09-07T19:24:31.280320Z",
     "iopub.status.busy": "2022-09-07T19:24:31.279867Z",
     "iopub.status.idle": "2022-09-07T19:24:31.294861Z",
     "shell.execute_reply": "2022-09-07T19:24:31.293996Z"
    }
   },
   "outputs": [
    {
     "ename": "NameError",
     "evalue": "name 'oil' is not defined",
     "output_type": "error",
     "traceback": [
      "\u001b[0;31m---------------------------------------------------------------------------\u001b[0m",
      "\u001b[0;31mNameError\u001b[0m                                 Traceback (most recent call last)",
      "Cell \u001b[0;32mIn [6], line 1\u001b[0m\n\u001b[0;32m----> 1\u001b[0m \u001b[43moil\u001b[49m[\u001b[38;5;124m'\u001b[39m\u001b[38;5;124mpore.molecular_mass\u001b[39m\u001b[38;5;124m'\u001b[39m] \u001b[38;5;241m=\u001b[39m np\u001b[38;5;241m.\u001b[39mones(shape\u001b[38;5;241m=\u001b[39m[pn\u001b[38;5;241m.\u001b[39mNp, ])\u001b[38;5;241m*\u001b[39m\u001b[38;5;241m120.0\u001b[39m\n",
      "\u001b[0;31mNameError\u001b[0m: name 'oil' is not defined"
     ]
    }
   ],
   "source": [
    "oil['pore.molecular_mass'] = np.ones(shape=[pn.Np, ])*120.0"
   ]
  },
  {
   "cell_type": "code",
   "execution_count": 7,
   "metadata": {
    "execution": {
     "iopub.execute_input": "2022-09-07T19:24:31.298293Z",
     "iopub.status.busy": "2022-09-07T19:24:31.297815Z",
     "iopub.status.idle": "2022-09-07T19:24:31.312479Z",
     "shell.execute_reply": "2022-09-07T19:24:31.311546Z"
    }
   },
   "outputs": [
    {
     "ename": "NameError",
     "evalue": "name 'oil' is not defined",
     "output_type": "error",
     "traceback": [
      "\u001b[0;31m---------------------------------------------------------------------------\u001b[0m",
      "\u001b[0;31mNameError\u001b[0m                                 Traceback (most recent call last)",
      "Cell \u001b[0;32mIn [7], line 1\u001b[0m\n\u001b[0;32m----> 1\u001b[0m \u001b[38;5;28mprint\u001b[39m(\u001b[43moil\u001b[49m[\u001b[38;5;124m'\u001b[39m\u001b[38;5;124mpore.molecular_mass\u001b[39m\u001b[38;5;124m'\u001b[39m])\n",
      "\u001b[0;31mNameError\u001b[0m: name 'oil' is not defined"
     ]
    }
   ],
   "source": [
    "print(oil['pore.molecular_mass'])"
   ]
  },
  {
   "cell_type": "markdown",
   "metadata": {},
   "source": [
    "You can also specify something like viscosity this way as well, but it's not recommended:"
   ]
  },
  {
   "cell_type": "code",
   "execution_count": 8,
   "metadata": {
    "execution": {
     "iopub.execute_input": "2022-09-07T19:24:31.316232Z",
     "iopub.status.busy": "2022-09-07T19:24:31.315919Z",
     "iopub.status.idle": "2022-09-07T19:24:31.330176Z",
     "shell.execute_reply": "2022-09-07T19:24:31.329313Z"
    }
   },
   "outputs": [
    {
     "ename": "NameError",
     "evalue": "name 'oil' is not defined",
     "output_type": "error",
     "traceback": [
      "\u001b[0;31m---------------------------------------------------------------------------\u001b[0m",
      "\u001b[0;31mNameError\u001b[0m                                 Traceback (most recent call last)",
      "Cell \u001b[0;32mIn [8], line 1\u001b[0m\n\u001b[0;32m----> 1\u001b[0m \u001b[43moil\u001b[49m[\u001b[38;5;124m'\u001b[39m\u001b[38;5;124mpore.viscosity\u001b[39m\u001b[38;5;124m'\u001b[39m] \u001b[38;5;241m=\u001b[39m \u001b[38;5;241m1600.0\u001b[39m\n",
      "\u001b[0;31mNameError\u001b[0m: name 'oil' is not defined"
     ]
    }
   ],
   "source": [
    "oil['pore.viscosity'] = 1600.0  # cP"
   ]
  },
  {
   "cell_type": "markdown",
   "metadata": {},
   "source": [
    "The problem with specifying the viscosity as a hard-coded value is that viscosity is a function of temperature (among other things), so if we adjust the temperature on the `oil` object it will have no effect on the hard-coded viscosity:"
   ]
  },
  {
   "cell_type": "code",
   "execution_count": 9,
   "metadata": {
    "execution": {
     "iopub.execute_input": "2022-09-07T19:24:31.333840Z",
     "iopub.status.busy": "2022-09-07T19:24:31.333360Z",
     "iopub.status.idle": "2022-09-07T19:24:31.348587Z",
     "shell.execute_reply": "2022-09-07T19:24:31.347612Z"
    }
   },
   "outputs": [
    {
     "ename": "NameError",
     "evalue": "name 'oil' is not defined",
     "output_type": "error",
     "traceback": [
      "\u001b[0;31m---------------------------------------------------------------------------\u001b[0m",
      "\u001b[0;31mNameError\u001b[0m                                 Traceback (most recent call last)",
      "Cell \u001b[0;32mIn [9], line 1\u001b[0m\n\u001b[0;32m----> 1\u001b[0m \u001b[43moil\u001b[49m[\u001b[38;5;124m'\u001b[39m\u001b[38;5;124mpore.temperature\u001b[39m\u001b[38;5;124m'\u001b[39m] \u001b[38;5;241m=\u001b[39m \u001b[38;5;241m100.0\u001b[39m  \u001b[38;5;66;03m# C\u001b[39;00m\n\u001b[1;32m      2\u001b[0m \u001b[38;5;28mprint\u001b[39m(oil[\u001b[38;5;124m'\u001b[39m\u001b[38;5;124mpore.viscosity\u001b[39m\u001b[38;5;124m'\u001b[39m])\n",
      "\u001b[0;31mNameError\u001b[0m: name 'oil' is not defined"
     ]
    }
   ],
   "source": [
    "oil['pore.temperature'] = 100.0  # C\n",
    "print(oil['pore.viscosity'])"
   ]
  },
  {
   "cell_type": "markdown",
   "metadata": {},
   "source": [
    "The correct way to specify something like viscosity is to use pore-scale models.  There is a large libary of pre-written models in the `openpnm.models` submodule.  For instance, a polynomial can be used as follows:\n",
    "\n",
    "$$ viscosity = a_0 + a_1 \\cdot T + a_2 \\cdot T^2 = 1600 + 12 T - 0.05 T^2$$"
   ]
  },
  {
   "cell_type": "code",
   "execution_count": 10,
   "metadata": {
    "execution": {
     "iopub.execute_input": "2022-09-07T19:24:31.351825Z",
     "iopub.status.busy": "2022-09-07T19:24:31.351447Z",
     "iopub.status.idle": "2022-09-07T19:24:31.369556Z",
     "shell.execute_reply": "2022-09-07T19:24:31.368676Z"
    }
   },
   "outputs": [
    {
     "ename": "NameError",
     "evalue": "name 'oil' is not defined",
     "output_type": "error",
     "traceback": [
      "\u001b[0;31m---------------------------------------------------------------------------\u001b[0m",
      "\u001b[0;31mNameError\u001b[0m                                 Traceback (most recent call last)",
      "Cell \u001b[0;32mIn [10], line 2\u001b[0m\n\u001b[1;32m      1\u001b[0m mod \u001b[38;5;241m=\u001b[39m op\u001b[38;5;241m.\u001b[39mmodels\u001b[38;5;241m.\u001b[39mmisc\u001b[38;5;241m.\u001b[39mpolynomial\n\u001b[0;32m----> 2\u001b[0m \u001b[43moil\u001b[49m\u001b[38;5;241m.\u001b[39madd_model(propname\u001b[38;5;241m=\u001b[39m\u001b[38;5;124m'\u001b[39m\u001b[38;5;124mpore.viscosity\u001b[39m\u001b[38;5;124m'\u001b[39m, model\u001b[38;5;241m=\u001b[39mmod, \n\u001b[1;32m      3\u001b[0m             a\u001b[38;5;241m=\u001b[39m[\u001b[38;5;241m1600\u001b[39m, \u001b[38;5;241m12\u001b[39m, \u001b[38;5;241m-\u001b[39m\u001b[38;5;241m0.05\u001b[39m], prop\u001b[38;5;241m=\u001b[39m\u001b[38;5;124m'\u001b[39m\u001b[38;5;124mpore.temperature\u001b[39m\u001b[38;5;124m'\u001b[39m)\n",
      "\u001b[0;31mNameError\u001b[0m: name 'oil' is not defined"
     ]
    }
   ],
   "source": [
    "mod = op.models.misc.polynomial\n",
    "oil.add_model(propname='pore.viscosity', model=mod, \n",
    "            a=[1600, 12, -0.05], prop='pore.temperature')"
   ]
  },
  {
   "cell_type": "markdown",
   "metadata": {},
   "source": [
    "We can now see that our previously written values of viscosity (1600.0) have been overwritten by the values coming from the model:"
   ]
  },
  {
   "cell_type": "code",
   "execution_count": 11,
   "metadata": {
    "execution": {
     "iopub.execute_input": "2022-09-07T19:24:31.372994Z",
     "iopub.status.busy": "2022-09-07T19:24:31.372495Z",
     "iopub.status.idle": "2022-09-07T19:24:31.387987Z",
     "shell.execute_reply": "2022-09-07T19:24:31.387226Z"
    }
   },
   "outputs": [
    {
     "ename": "NameError",
     "evalue": "name 'oil' is not defined",
     "output_type": "error",
     "traceback": [
      "\u001b[0;31m---------------------------------------------------------------------------\u001b[0m",
      "\u001b[0;31mNameError\u001b[0m                                 Traceback (most recent call last)",
      "Cell \u001b[0;32mIn [11], line 1\u001b[0m\n\u001b[0;32m----> 1\u001b[0m \u001b[38;5;28mprint\u001b[39m(\u001b[43moil\u001b[49m[\u001b[38;5;124m'\u001b[39m\u001b[38;5;124mpore.viscosity\u001b[39m\u001b[38;5;124m'\u001b[39m])\n",
      "\u001b[0;31mNameError\u001b[0m: name 'oil' is not defined"
     ]
    }
   ],
   "source": [
    "print(oil['pore.viscosity'])"
   ]
  },
  {
   "cell_type": "markdown",
   "metadata": {},
   "source": [
    "And moreover, if we change the temperature the model will update the viscosity values:"
   ]
  },
  {
   "cell_type": "code",
   "execution_count": 12,
   "metadata": {
    "execution": {
     "iopub.execute_input": "2022-09-07T19:24:31.391057Z",
     "iopub.status.busy": "2022-09-07T19:24:31.390813Z",
     "iopub.status.idle": "2022-09-07T19:24:31.405498Z",
     "shell.execute_reply": "2022-09-07T19:24:31.404713Z"
    }
   },
   "outputs": [
    {
     "ename": "NameError",
     "evalue": "name 'oil' is not defined",
     "output_type": "error",
     "traceback": [
      "\u001b[0;31m---------------------------------------------------------------------------\u001b[0m",
      "\u001b[0;31mNameError\u001b[0m                                 Traceback (most recent call last)",
      "Cell \u001b[0;32mIn [12], line 1\u001b[0m\n\u001b[0;32m----> 1\u001b[0m \u001b[43moil\u001b[49m[\u001b[38;5;124m'\u001b[39m\u001b[38;5;124mpore.temperature\u001b[39m\u001b[38;5;124m'\u001b[39m] \u001b[38;5;241m=\u001b[39m \u001b[38;5;241m40.0\u001b[39m  \u001b[38;5;66;03m# C\u001b[39;00m\n\u001b[1;32m      2\u001b[0m oil\u001b[38;5;241m.\u001b[39mregenerate_models()\n\u001b[1;32m      3\u001b[0m \u001b[38;5;28mprint\u001b[39m(oil[\u001b[38;5;124m'\u001b[39m\u001b[38;5;124mpore.viscosity\u001b[39m\u001b[38;5;124m'\u001b[39m])\n",
      "\u001b[0;31mNameError\u001b[0m: name 'oil' is not defined"
     ]
    }
   ],
   "source": [
    "oil['pore.temperature'] = 40.0  # C\n",
    "oil.regenerate_models()\n",
    "print(oil['pore.viscosity'])"
   ]
  },
  {
   "cell_type": "markdown",
   "metadata": {},
   "source": [
    "Note the call to `regenerate_models`, which is necessary to actually re-run the model using the new temperature."
   ]
  },
  {
   "cell_type": "markdown",
   "metadata": {},
   "source": [
    "When a pore-scale model is added to an object, it is stored under the `models` attribute, which is a dictionary with names corresponding the property that is being calculated (i.e. 'pore.viscosity'):"
   ]
  },
  {
   "cell_type": "code",
   "execution_count": 13,
   "metadata": {
    "execution": {
     "iopub.execute_input": "2022-09-07T19:24:31.408740Z",
     "iopub.status.busy": "2022-09-07T19:24:31.408500Z",
     "iopub.status.idle": "2022-09-07T19:24:31.422032Z",
     "shell.execute_reply": "2022-09-07T19:24:31.421279Z"
    }
   },
   "outputs": [
    {
     "ename": "NameError",
     "evalue": "name 'oil' is not defined",
     "output_type": "error",
     "traceback": [
      "\u001b[0;31m---------------------------------------------------------------------------\u001b[0m",
      "\u001b[0;31mNameError\u001b[0m                                 Traceback (most recent call last)",
      "Cell \u001b[0;32mIn [13], line 1\u001b[0m\n\u001b[0;32m----> 1\u001b[0m \u001b[38;5;28mprint\u001b[39m(\u001b[43moil\u001b[49m\u001b[38;5;241m.\u001b[39mmodels)\n",
      "\u001b[0;31mNameError\u001b[0m: name 'oil' is not defined"
     ]
    }
   ],
   "source": [
    "print(oil.models)"
   ]
  },
  {
   "cell_type": "markdown",
   "metadata": {},
   "source": [
    "We can reach into this dictionary and alter the parameters of the model if necessary:"
   ]
  },
  {
   "cell_type": "code",
   "execution_count": 14,
   "metadata": {
    "execution": {
     "iopub.execute_input": "2022-09-07T19:24:31.425235Z",
     "iopub.status.busy": "2022-09-07T19:24:31.424998Z",
     "iopub.status.idle": "2022-09-07T19:24:31.439633Z",
     "shell.execute_reply": "2022-09-07T19:24:31.438861Z"
    }
   },
   "outputs": [
    {
     "ename": "NameError",
     "evalue": "name 'oil' is not defined",
     "output_type": "error",
     "traceback": [
      "\u001b[0;31m---------------------------------------------------------------------------\u001b[0m",
      "\u001b[0;31mNameError\u001b[0m                                 Traceback (most recent call last)",
      "Cell \u001b[0;32mIn [14], line 1\u001b[0m\n\u001b[0;32m----> 1\u001b[0m \u001b[43moil\u001b[49m\u001b[38;5;241m.\u001b[39mmodels[\u001b[38;5;124m'\u001b[39m\u001b[38;5;124mpore.viscosity\u001b[39m\u001b[38;5;124m'\u001b[39m][\u001b[38;5;124m'\u001b[39m\u001b[38;5;124ma\u001b[39m\u001b[38;5;124m'\u001b[39m] \u001b[38;5;241m=\u001b[39m [\u001b[38;5;241m1200\u001b[39m, \u001b[38;5;241m10\u001b[39m, \u001b[38;5;241m-\u001b[39m\u001b[38;5;241m0.02\u001b[39m]\n\u001b[1;32m      2\u001b[0m oil\u001b[38;5;241m.\u001b[39mregenerate_models()\n\u001b[1;32m      3\u001b[0m \u001b[38;5;28mprint\u001b[39m(oil[\u001b[38;5;124m'\u001b[39m\u001b[38;5;124mpore.viscosity\u001b[39m\u001b[38;5;124m'\u001b[39m])\n",
      "\u001b[0;31mNameError\u001b[0m: name 'oil' is not defined"
     ]
    }
   ],
   "source": [
    "oil.models['pore.viscosity']['a'] = [1200, 10, -0.02]\n",
    "oil.regenerate_models()\n",
    "print(oil['pore.viscosity'])"
   ]
  },
  {
   "cell_type": "markdown",
   "metadata": {},
   "source": [
    "The `models` submodule has a variety of common functions, stored under `models.misc`. There are also some models specific to physical properties under `models.phases`."
   ]
  }
 ],
 "metadata": {
  "kernelspec": {
   "display_name": "Python 3",
   "language": "python",
   "name": "python3"
  },
  "language_info": {
   "codemirror_mode": {
    "name": "ipython",
    "version": 3
   },
   "file_extension": ".py",
   "mimetype": "text/x-python",
   "name": "python",
   "nbconvert_exporter": "python",
   "pygments_lexer": "ipython3",
   "version": "3.8.13"
  }
 },
 "nbformat": 4,
 "nbformat_minor": 2
}
