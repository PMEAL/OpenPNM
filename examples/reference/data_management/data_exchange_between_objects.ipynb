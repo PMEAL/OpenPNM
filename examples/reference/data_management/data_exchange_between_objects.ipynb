{
 "cells": [
  {
   "cell_type": "markdown",
   "metadata": {},
   "source": [
    "## Data Exchange Between Objects\n",
    "\n",
    "In OpenPNM there are different types of objects for storing different types of data, however, it is possible to access data from one object via another object.  \n",
    "\n",
    "This is done for convenience, but also for flexibility, and generality, as will be demonstrated here.\n",
    "\n",
    "First lets summarize what sort of data is stored on each object:\n",
    "\n",
    "* Network objects store pore coordinate and throat connection data\n",
    "* Geometry objecs store geometrical data such as pore diameter and throat length\n",
    "* Phase objects store thermophysical properties of the phases such as viscosity\n",
    "* Physics objects store the values of transport conductance that are used by algorithms\n"
   ]
  },
  {
   "cell_type": "code",
   "execution_count": 1,
   "metadata": {
    "execution": {
     "iopub.execute_input": "2022-09-07T19:24:41.512411Z",
     "iopub.status.busy": "2022-09-07T19:24:41.512110Z",
     "iopub.status.idle": "2022-09-07T19:24:43.245232Z",
     "shell.execute_reply": "2022-09-07T19:24:43.244240Z"
    }
   },
   "outputs": [],
   "source": [
    "import openpnm as op"
   ]
  },
  {
   "cell_type": "markdown",
   "metadata": {},
   "source": [
    "First let's create network, which has only 'pore.coords' and 'throat.conns' on it:"
   ]
  },
  {
   "cell_type": "code",
   "execution_count": 2,
   "metadata": {
    "execution": {
     "iopub.execute_input": "2022-09-07T19:24:43.249802Z",
     "iopub.status.busy": "2022-09-07T19:24:43.249268Z",
     "iopub.status.idle": "2022-09-07T19:24:43.256721Z",
     "shell.execute_reply": "2022-09-07T19:24:43.255949Z"
    }
   },
   "outputs": [],
   "source": [
    "pn = op.network.Cubic(shape=[5, 5, 1], spacing=1e-4)"
   ]
  },
  {
   "cell_type": "markdown",
   "metadata": {},
   "source": [
    "> Sorry, this example is still in progress"
   ]
  }
 ],
 "metadata": {
  "kernelspec": {
   "display_name": "Python 3",
   "language": "python",
   "name": "python3"
  },
  "language_info": {
   "codemirror_mode": {
    "name": "ipython",
    "version": 3
   },
   "file_extension": ".py",
   "mimetype": "text/x-python",
   "name": "python",
   "nbconvert_exporter": "python",
   "pygments_lexer": "ipython3",
   "version": "3.8.13"
  }
 },
 "nbformat": 4,
 "nbformat_minor": 4
}
