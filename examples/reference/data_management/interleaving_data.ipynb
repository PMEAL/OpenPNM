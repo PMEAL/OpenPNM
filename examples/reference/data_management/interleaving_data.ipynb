{
 "cells": [
  {
   "cell_type": "markdown",
   "metadata": {},
   "source": [
    "# Interleaving Data\n",
    "## Defining Multiple Subdomains\n",
    "\n",
    "One of the features in OpenPNM is the ability to model heterogeneous materials by applying different pore-scale models to different regions.  This is done by (a) creating a unique **Geometry** object for each region (i.e. small pores vs big pores) and (b) creating unique **Physics** object for each region as well (i.e. Knudsen diffusion vs Fickian diffusion).  One consequence of this segregation of properties is that a *single* array containing values for all locations in the domain does not exist.  OpenPNM offers a shortcut for this, known as ``interleave_data``, which happens *automatically*, and makes it possible to query **Geometry** properties via the **Network** object, and **Physics** properties from the associated **Phase** object:\n",
    "\n",
    "Let's demonstrate this by creating a network and assigning two separate geometries to each half of the network:"
   ]
  },
  {
   "cell_type": "code",
   "execution_count": 1,
   "metadata": {
    "execution": {
     "iopub.execute_input": "2022-09-07T19:24:45.175662Z",
     "iopub.status.busy": "2022-09-07T19:24:45.175177Z",
     "iopub.status.idle": "2022-09-07T19:24:46.942883Z",
     "shell.execute_reply": "2022-09-07T19:24:46.941851Z"
    }
   },
   "outputs": [],
   "source": [
    "import openpnm as op"
   ]
  },
  {
   "cell_type": "code",
   "execution_count": 2,
   "metadata": {
    "execution": {
     "iopub.execute_input": "2022-09-07T19:24:46.946953Z",
     "iopub.status.busy": "2022-09-07T19:24:46.946311Z",
     "iopub.status.idle": "2022-09-07T19:24:47.497683Z",
     "shell.execute_reply": "2022-09-07T19:24:47.496722Z"
    }
   },
   "outputs": [
    {
     "ename": "AttributeError",
     "evalue": "module 'openpnm' has no attribute 'geometry'",
     "output_type": "error",
     "traceback": [
      "\u001b[0;31m---------------------------------------------------------------------------\u001b[0m",
      "\u001b[0;31mAttributeError\u001b[0m                            Traceback (most recent call last)",
      "Cell \u001b[0;32mIn [2], line 2\u001b[0m\n\u001b[1;32m      1\u001b[0m pn \u001b[38;5;241m=\u001b[39m op\u001b[38;5;241m.\u001b[39mnetwork\u001b[38;5;241m.\u001b[39mCubic([\u001b[38;5;241m5\u001b[39m, \u001b[38;5;241m5\u001b[39m, \u001b[38;5;241m5\u001b[39m])\n\u001b[0;32m----> 2\u001b[0m geo1 \u001b[38;5;241m=\u001b[39m \u001b[43mop\u001b[49m\u001b[38;5;241;43m.\u001b[39;49m\u001b[43mgeometry\u001b[49m\u001b[38;5;241m.\u001b[39mGenericGeometry(network\u001b[38;5;241m=\u001b[39mpn, pores\u001b[38;5;241m=\u001b[39m\u001b[38;5;28mrange\u001b[39m(\u001b[38;5;241m0\u001b[39m, \u001b[38;5;241m75\u001b[39m),\n\u001b[1;32m      3\u001b[0m                                    throats\u001b[38;5;241m=\u001b[39m\u001b[38;5;28mrange\u001b[39m(\u001b[38;5;241m0\u001b[39m, \u001b[38;5;241m150\u001b[39m))\n\u001b[1;32m      4\u001b[0m geo2 \u001b[38;5;241m=\u001b[39m op\u001b[38;5;241m.\u001b[39mgeometry\u001b[38;5;241m.\u001b[39mGenericGeometry(network\u001b[38;5;241m=\u001b[39mpn, pores\u001b[38;5;241m=\u001b[39m\u001b[38;5;28mrange\u001b[39m(\u001b[38;5;241m75\u001b[39m, \u001b[38;5;241m125\u001b[39m),\n\u001b[1;32m      5\u001b[0m                                    throats\u001b[38;5;241m=\u001b[39m\u001b[38;5;28mrange\u001b[39m(\u001b[38;5;241m150\u001b[39m, \u001b[38;5;241m300\u001b[39m))\n\u001b[1;32m      6\u001b[0m geo1[\u001b[38;5;124m'\u001b[39m\u001b[38;5;124mpore.diameter\u001b[39m\u001b[38;5;124m'\u001b[39m] \u001b[38;5;241m=\u001b[39m \u001b[38;5;241m1.0\u001b[39m\n",
      "\u001b[0;31mAttributeError\u001b[0m: module 'openpnm' has no attribute 'geometry'"
     ]
    }
   ],
   "source": [
    "pn = op.network.Cubic([5, 5, 5])\n",
    "geo1 = op.geometry.GenericGeometry(network=pn, pores=range(0, 75),\n",
    "                                   throats=range(0, 150))\n",
    "geo2 = op.geometry.GenericGeometry(network=pn, pores=range(75, 125),\n",
    "                                   throats=range(150, 300))\n",
    "geo1['pore.diameter'] = 1.0\n",
    "geo2['pore.diameter'] = 0.1"
   ]
  },
  {
   "cell_type": "markdown",
   "metadata": {},
   "source": [
    "Each of the Geometry objects has a 'pore.diameter' array with different values.  To obtain a single array of 'pore.diameter' with values in the correct locations, we can use the Network as follows:"
   ]
  },
  {
   "cell_type": "code",
   "execution_count": 3,
   "metadata": {
    "execution": {
     "iopub.execute_input": "2022-09-07T19:24:47.501282Z",
     "iopub.status.busy": "2022-09-07T19:24:47.501035Z",
     "iopub.status.idle": "2022-09-07T19:24:47.720447Z",
     "shell.execute_reply": "2022-09-07T19:24:47.719483Z"
    }
   },
   "outputs": [
    {
     "ename": "KeyError",
     "evalue": "'pore.diameter'",
     "output_type": "error",
     "traceback": [
      "\u001b[0;31m---------------------------------------------------------------------------\u001b[0m",
      "\u001b[0;31mKeyError\u001b[0m                                  Traceback (most recent call last)",
      "File \u001b[0;32m~/work/OpenPNM/OpenPNM/openpnm/core/_base2.py:203\u001b[0m, in \u001b[0;36mBase2.__getitem__\u001b[0;34m(self, key)\u001b[0m\n\u001b[1;32m    202\u001b[0m \u001b[38;5;28;01mtry\u001b[39;00m:\n\u001b[0;32m--> 203\u001b[0m     \u001b[38;5;28;01mreturn\u001b[39;00m \u001b[38;5;28;43msuper\u001b[39;49m\u001b[43m(\u001b[49m\u001b[43m)\u001b[49m\u001b[38;5;241;43m.\u001b[39;49m\u001b[38;5;21;43m__getitem__\u001b[39;49m\u001b[43m(\u001b[49m\u001b[43mkey\u001b[49m\u001b[43m)\u001b[49m\n\u001b[1;32m    204\u001b[0m \u001b[38;5;28;01mexcept\u001b[39;00m \u001b[38;5;167;01mKeyError\u001b[39;00m:\n\u001b[1;32m    205\u001b[0m     \u001b[38;5;66;03m# If key is object's name or all, return ones\u001b[39;00m\n",
      "\u001b[0;31mKeyError\u001b[0m: 'pore.diameter'",
      "\nDuring handling of the above exception, another exception occurred:\n",
      "\u001b[0;31mKeyError\u001b[0m                                  Traceback (most recent call last)",
      "Cell \u001b[0;32mIn [3], line 1\u001b[0m\n\u001b[0;32m----> 1\u001b[0m Dp \u001b[38;5;241m=\u001b[39m \u001b[43mpn\u001b[49m\u001b[43m[\u001b[49m\u001b[38;5;124;43m'\u001b[39;49m\u001b[38;5;124;43mpore.diameter\u001b[39;49m\u001b[38;5;124;43m'\u001b[39;49m\u001b[43m]\u001b[49m\n\u001b[1;32m      2\u001b[0m \u001b[38;5;28mprint\u001b[39m(Dp[\u001b[38;5;241m70\u001b[39m:\u001b[38;5;241m80\u001b[39m])\n",
      "File \u001b[0;32m~/work/OpenPNM/OpenPNM/openpnm/core/_base2.py:219\u001b[0m, in \u001b[0;36mBase2.__getitem__\u001b[0;34m(self, key)\u001b[0m\n\u001b[1;32m    217\u001b[0m     \u001b[38;5;28;01mreturn\u001b[39;00m vals\n\u001b[1;32m    218\u001b[0m \u001b[38;5;28;01melse\u001b[39;00m:\n\u001b[0;32m--> 219\u001b[0m     \u001b[38;5;28;01mraise\u001b[39;00m \u001b[38;5;167;01mKeyError\u001b[39;00m(key)\n",
      "\u001b[0;31mKeyError\u001b[0m: 'pore.diameter'"
     ]
    }
   ],
   "source": [
    "Dp = pn['pore.diameter']\n",
    "print(Dp[70:80])"
   ]
  },
  {
   "cell_type": "markdown",
   "metadata": {},
   "source": [
    "As can be seen, the 'pore.diameter' array contains values from both Geometry objects, and they are in their correction locations in terms of the domain number system.  This is referred to as ``interleave_data``.  It also works to obtain Physics values via their associated Phase object.\n",
    "\n",
    "Interleaving of data also works in the reverse direction, so that data only present on the network can be accessed via the Geometry objects:"
   ]
  },
  {
   "cell_type": "code",
   "execution_count": 4,
   "metadata": {
    "execution": {
     "iopub.execute_input": "2022-09-07T19:24:47.724567Z",
     "iopub.status.busy": "2022-09-07T19:24:47.724125Z",
     "iopub.status.idle": "2022-09-07T19:24:47.739660Z",
     "shell.execute_reply": "2022-09-07T19:24:47.738855Z"
    }
   },
   "outputs": [
    {
     "ename": "NameError",
     "evalue": "name 'geo1' is not defined",
     "output_type": "error",
     "traceback": [
      "\u001b[0;31m---------------------------------------------------------------------------\u001b[0m",
      "\u001b[0;31mNameError\u001b[0m                                 Traceback (most recent call last)",
      "Cell \u001b[0;32mIn [4], line 1\u001b[0m\n\u001b[0;32m----> 1\u001b[0m coords \u001b[38;5;241m=\u001b[39m \u001b[43mgeo1\u001b[49m[\u001b[38;5;124m'\u001b[39m\u001b[38;5;124mpore.coords\u001b[39m\u001b[38;5;124m'\u001b[39m]\n\u001b[1;32m      2\u001b[0m \u001b[38;5;28mprint\u001b[39m(coords[\u001b[38;5;241m0\u001b[39m:\u001b[38;5;241m3\u001b[39m])\n",
      "\u001b[0;31mNameError\u001b[0m: name 'geo1' is not defined"
     ]
    }
   ],
   "source": [
    "coords = geo1['pore.coords']\n",
    "print(coords[0:3])"
   ]
  },
  {
   "cell_type": "markdown",
   "metadata": {},
   "source": [
    "Finally, ``interleave_data`` works between objects of the same type, so that if 'pore.volume' is present on one but not another Geometry object, you will get an array of NaNs when asking for it on the object that does not have it:"
   ]
  },
  {
   "cell_type": "code",
   "execution_count": 5,
   "metadata": {
    "execution": {
     "iopub.execute_input": "2022-09-07T19:24:47.742934Z",
     "iopub.status.busy": "2022-09-07T19:24:47.742673Z",
     "iopub.status.idle": "2022-09-07T19:24:47.757100Z",
     "shell.execute_reply": "2022-09-07T19:24:47.756167Z"
    }
   },
   "outputs": [
    {
     "ename": "NameError",
     "evalue": "name 'geo1' is not defined",
     "output_type": "error",
     "traceback": [
      "\u001b[0;31m---------------------------------------------------------------------------\u001b[0m",
      "\u001b[0;31mNameError\u001b[0m                                 Traceback (most recent call last)",
      "Cell \u001b[0;32mIn [5], line 1\u001b[0m\n\u001b[0;32m----> 1\u001b[0m \u001b[43mgeo1\u001b[49m[\u001b[38;5;124m'\u001b[39m\u001b[38;5;124mpore.volume\u001b[39m\u001b[38;5;124m'\u001b[39m] \u001b[38;5;241m=\u001b[39m \u001b[38;5;241m3.0\u001b[39m\n\u001b[1;32m      2\u001b[0m \u001b[38;5;28mprint\u001b[39m(geo2[\u001b[38;5;124m'\u001b[39m\u001b[38;5;124mpore.volume\u001b[39m\u001b[38;5;124m'\u001b[39m][:\u001b[38;5;241m5\u001b[39m])\n",
      "\u001b[0;31mNameError\u001b[0m: name 'geo1' is not defined"
     ]
    }
   ],
   "source": [
    "geo1['pore.volume'] = 3.0\n",
    "print(geo2['pore.volume'][:5])"
   ]
  },
  {
   "cell_type": "markdown",
   "metadata": {},
   "source": [
    "### Points to Note\n",
    "\n",
    "* Data **cannot** be written in this way, so that you cannot write 'pore.diameter' values to the Network if 'pore.diameter is already present on a Geometry (e.g. pn['pore.diameter'] = 2.0 will result in an error)\n",
    "* Interleaving data is automatically attempted if the requested key is not found.  For instance, when you request ``pn['pore.diameter']`` it is not found, so a search is made of the associated Geometry objects and if found an array is built.\n",
    "* If an array named 'pore.foo' is already present on the Network or Phase, it cannot be created on a Geometry or Physics, resepctively, since this would break the automated ``interleave_data`` mechanism, which searches for arrays called 'pore.foo' on all associated objects"
   ]
  }
 ],
 "metadata": {
  "kernelspec": {
   "display_name": "Python 3",
   "language": "python",
   "name": "python3"
  },
  "language_info": {
   "codemirror_mode": {
    "name": "ipython",
    "version": 3
   },
   "file_extension": ".py",
   "mimetype": "text/x-python",
   "name": "python",
   "nbconvert_exporter": "python",
   "pygments_lexer": "ipython3",
   "version": "3.8.13"
  }
 },
 "nbformat": 4,
 "nbformat_minor": 4
}
