{
 "cells": [
  {
   "cell_type": "markdown",
   "id": "e8a1ef84",
   "metadata": {},
   "source": [
    "# Overview of Subdomains\n",
    "\n",
    "Subdomains are a key feature of OpenPNM, but the can be a source of confusion. First, let's understand what subdomains are and why they are useful. The simplest scenario is a porous materials with 2 distince layers, each with their own pore size distribution. In OpenPNM you can handle this by creating two separate Geometry objects, with each assigned to one of the layers. Each Geometry object can then compute pore size distributions independently from their own different statistical distributions, and store the values corresponding the pores in its layer. A subdomain is thus a selection of pores (and/or throats) that are related to each other but distinct from the rest of the network. Geometry objects thus define subdomains by the pores and/or throats to which they are applied or assigned. \n",
    "\n",
    "One of the repercussion of supporing subdomains at the deepest possible layer in OpenPNM is that all users must deal with them, regardelss of whether they are actually using the feature.  In other words, even materials with one domain must also define Geometry that defines a single subdomain. \n",
    "\n",
    "This notebook explores how subdomains work in OpenPNM."
   ]
  },
  {
   "cell_type": "code",
   "execution_count": 1,
   "id": "7bca81d8",
   "metadata": {
    "execution": {
     "iopub.execute_input": "2022-09-07T19:26:04.618305Z",
     "iopub.status.busy": "2022-09-07T19:26:04.618014Z",
     "iopub.status.idle": "2022-09-07T19:26:06.380865Z",
     "shell.execute_reply": "2022-09-07T19:26:06.379881Z"
    }
   },
   "outputs": [],
   "source": [
    "import openpnm as op\n",
    "import numpy as np\n",
    "import matplotlib.pyplot as plt"
   ]
  },
  {
   "cell_type": "markdown",
   "id": "40d78e93",
   "metadata": {},
   "source": [
    "Create a simple 2D cubic network for easy visualization:"
   ]
  },
  {
   "cell_type": "code",
   "execution_count": 2,
   "id": "f63130f3",
   "metadata": {
    "execution": {
     "iopub.execute_input": "2022-09-07T19:26:06.385510Z",
     "iopub.status.busy": "2022-09-07T19:26:06.385021Z",
     "iopub.status.idle": "2022-09-07T19:26:07.141733Z",
     "shell.execute_reply": "2022-09-07T19:26:07.140632Z"
    }
   },
   "outputs": [
    {
     "ename": "AttributeError",
     "evalue": "module 'openpnm.topotools' has no attribute 'plot_connections'",
     "output_type": "error",
     "traceback": [
      "\u001b[0;31m---------------------------------------------------------------------------\u001b[0m",
      "\u001b[0;31mAttributeError\u001b[0m                            Traceback (most recent call last)",
      "Cell \u001b[0;32mIn [2], line 3\u001b[0m\n\u001b[1;32m      1\u001b[0m pn \u001b[38;5;241m=\u001b[39m op\u001b[38;5;241m.\u001b[39mnetwork\u001b[38;5;241m.\u001b[39mCubic([\u001b[38;5;241m4\u001b[39m, \u001b[38;5;241m4\u001b[39m, \u001b[38;5;241m1\u001b[39m])\n\u001b[1;32m      2\u001b[0m fig, ax \u001b[38;5;241m=\u001b[39m plt\u001b[38;5;241m.\u001b[39msubplots(\u001b[38;5;241m1\u001b[39m, \u001b[38;5;241m1\u001b[39m)\n\u001b[0;32m----> 3\u001b[0m ax \u001b[38;5;241m=\u001b[39m \u001b[43mop\u001b[49m\u001b[38;5;241;43m.\u001b[39;49m\u001b[43mtopotools\u001b[49m\u001b[38;5;241;43m.\u001b[39;49m\u001b[43mplot_connections\u001b[49m(network\u001b[38;5;241m=\u001b[39mpn, c\u001b[38;5;241m=\u001b[39m\u001b[38;5;124m'\u001b[39m\u001b[38;5;124mk\u001b[39m\u001b[38;5;124m'\u001b[39m, ax\u001b[38;5;241m=\u001b[39max)\n\u001b[1;32m      4\u001b[0m plt\u001b[38;5;241m.\u001b[39maxis(\u001b[38;5;28;01mFalse\u001b[39;00m)\n",
      "\u001b[0;31mAttributeError\u001b[0m: module 'openpnm.topotools' has no attribute 'plot_connections'"
     ]
    },
    {
     "data": {
      "image/png": "[encoded data removed]",
      "text/plain": [
       "<Figure size 640x480 with 1 Axes>"
      ]
     },
     "metadata": {},
     "output_type": "display_data"
    }
   ],
   "source": [
    "pn = op.network.Cubic([4, 4, 1])\n",
    "fig, ax = plt.subplots(1, 1)\n",
    "ax = op.topotools.plot_connections(network=pn, c='k', ax=ax)\n",
    "plt.axis(False);"
   ]
  },
  {
   "cell_type": "markdown",
   "id": "f5201591",
   "metadata": {},
   "source": [
    "Label the pores on the left and right to indicate that the Network has two subdomains:"
   ]
  },
  {
   "cell_type": "code",
   "execution_count": 3,
   "id": "8fbcd4cb",
   "metadata": {
    "execution": {
     "iopub.execute_input": "2022-09-07T19:26:07.145212Z",
     "iopub.status.busy": "2022-09-07T19:26:07.144970Z",
     "iopub.status.idle": "2022-09-07T19:26:07.165921Z",
     "shell.execute_reply": "2022-09-07T19:26:07.165088Z"
    }
   },
   "outputs": [
    {
     "ename": "AttributeError",
     "evalue": "module 'openpnm.topotools' has no attribute 'plot_coordinates'",
     "output_type": "error",
     "traceback": [
      "\u001b[0;31m---------------------------------------------------------------------------\u001b[0m",
      "\u001b[0;31mAttributeError\u001b[0m                            Traceback (most recent call last)",
      "Cell \u001b[0;32mIn [3], line 3\u001b[0m\n\u001b[1;32m      1\u001b[0m pn\u001b[38;5;241m.\u001b[39mset_label(label\u001b[38;5;241m=\u001b[39m\u001b[38;5;124m'\u001b[39m\u001b[38;5;124mlayer1\u001b[39m\u001b[38;5;124m'\u001b[39m, pores\u001b[38;5;241m=\u001b[39m\u001b[38;5;28mrange\u001b[39m(\u001b[38;5;241m8\u001b[39m))\n\u001b[1;32m      2\u001b[0m pn\u001b[38;5;241m.\u001b[39mset_label(label\u001b[38;5;241m=\u001b[39m\u001b[38;5;124m'\u001b[39m\u001b[38;5;124mlayer2\u001b[39m\u001b[38;5;124m'\u001b[39m, pores\u001b[38;5;241m=\u001b[39m\u001b[38;5;28mrange\u001b[39m(\u001b[38;5;241m8\u001b[39m, \u001b[38;5;241m16\u001b[39m))\n\u001b[0;32m----> 3\u001b[0m \u001b[43mop\u001b[49m\u001b[38;5;241;43m.\u001b[39;49m\u001b[43mtopotools\u001b[49m\u001b[38;5;241;43m.\u001b[39;49m\u001b[43mplot_coordinates\u001b[49m(network\u001b[38;5;241m=\u001b[39mpn, pores\u001b[38;5;241m=\u001b[39mpn\u001b[38;5;241m.\u001b[39mpores(\u001b[38;5;124m'\u001b[39m\u001b[38;5;124mlayer1\u001b[39m\u001b[38;5;124m'\u001b[39m), c\u001b[38;5;241m=\u001b[39m\u001b[38;5;124m'\u001b[39m\u001b[38;5;124mr\u001b[39m\u001b[38;5;124m'\u001b[39m, markersize\u001b[38;5;241m=\u001b[39m\u001b[38;5;241m100\u001b[39m, ax\u001b[38;5;241m=\u001b[39max)\n\u001b[1;32m      4\u001b[0m op\u001b[38;5;241m.\u001b[39mtopotools\u001b[38;5;241m.\u001b[39mplot_coordinates(network\u001b[38;5;241m=\u001b[39mpn, pores\u001b[38;5;241m=\u001b[39mpn\u001b[38;5;241m.\u001b[39mpores(\u001b[38;5;124m'\u001b[39m\u001b[38;5;124mlayer2\u001b[39m\u001b[38;5;124m'\u001b[39m), c\u001b[38;5;241m=\u001b[39m\u001b[38;5;124m'\u001b[39m\u001b[38;5;124mc\u001b[39m\u001b[38;5;124m'\u001b[39m, markersize\u001b[38;5;241m=\u001b[39m\u001b[38;5;241m100\u001b[39m, ax\u001b[38;5;241m=\u001b[39max)\n\u001b[1;32m      5\u001b[0m fig\n",
      "\u001b[0;31mAttributeError\u001b[0m: module 'openpnm.topotools' has no attribute 'plot_coordinates'"
     ]
    }
   ],
   "source": [
    "pn.set_label(label='layer1', pores=range(8))\n",
    "pn.set_label(label='layer2', pores=range(8, 16))\n",
    "op.topotools.plot_coordinates(network=pn, pores=pn.pores('layer1'), c='r', markersize=100, ax=ax)\n",
    "op.topotools.plot_coordinates(network=pn, pores=pn.pores('layer2'), c='c', markersize=100, ax=ax)\n",
    "fig  # Re-show figure"
   ]
  },
  {
   "cell_type": "markdown",
   "id": "545ac388",
   "metadata": {},
   "source": [
    "## The Preferred Way to Work with Subdomains\n",
    "\n",
    "Create two Geometry objects, with one assigned to each set of pores (i.e. 'layer1' and 'layer2').  Let's also assign all the throats to ``geo1``. "
   ]
  },
  {
   "cell_type": "code",
   "execution_count": 4,
   "id": "cba40533",
   "metadata": {
    "execution": {
     "iopub.execute_input": "2022-09-07T19:26:07.169120Z",
     "iopub.status.busy": "2022-09-07T19:26:07.168877Z",
     "iopub.status.idle": "2022-09-07T19:26:07.185411Z",
     "shell.execute_reply": "2022-09-07T19:26:07.184640Z"
    }
   },
   "outputs": [
    {
     "ename": "AttributeError",
     "evalue": "module 'openpnm' has no attribute 'geometry'",
     "output_type": "error",
     "traceback": [
      "\u001b[0;31m---------------------------------------------------------------------------\u001b[0m",
      "\u001b[0;31mAttributeError\u001b[0m                            Traceback (most recent call last)",
      "Cell \u001b[0;32mIn [4], line 1\u001b[0m\n\u001b[0;32m----> 1\u001b[0m geo1 \u001b[38;5;241m=\u001b[39m \u001b[43mop\u001b[49m\u001b[38;5;241;43m.\u001b[39;49m\u001b[43mgeometry\u001b[49m\u001b[38;5;241m.\u001b[39mGenericGeometry(network\u001b[38;5;241m=\u001b[39mpn, pores\u001b[38;5;241m=\u001b[39mpn\u001b[38;5;241m.\u001b[39mpores(\u001b[38;5;124m'\u001b[39m\u001b[38;5;124mlayer1\u001b[39m\u001b[38;5;124m'\u001b[39m), throats\u001b[38;5;241m=\u001b[39mpn\u001b[38;5;241m.\u001b[39mTs)\n\u001b[1;32m      2\u001b[0m geo2 \u001b[38;5;241m=\u001b[39m op\u001b[38;5;241m.\u001b[39mgeometry\u001b[38;5;241m.\u001b[39mGenericGeometry(network\u001b[38;5;241m=\u001b[39mpn, pores\u001b[38;5;241m=\u001b[39mpn\u001b[38;5;241m.\u001b[39mpores(\u001b[38;5;124m'\u001b[39m\u001b[38;5;124mlayer2\u001b[39m\u001b[38;5;124m'\u001b[39m))\n\u001b[1;32m      3\u001b[0m air \u001b[38;5;241m=\u001b[39m op\u001b[38;5;241m.\u001b[39mphases\u001b[38;5;241m.\u001b[39mAir(network\u001b[38;5;241m=\u001b[39mpn, name\u001b[38;5;241m=\u001b[39m\u001b[38;5;124m'\u001b[39m\u001b[38;5;124mair\u001b[39m\u001b[38;5;124m'\u001b[39m)\n",
      "\u001b[0;31mAttributeError\u001b[0m: module 'openpnm' has no attribute 'geometry'"
     ]
    }
   ],
   "source": [
    "geo1 = op.geometry.GenericGeometry(network=pn, pores=pn.pores('layer1'), throats=pn.Ts)\n",
    "geo2 = op.geometry.GenericGeometry(network=pn, pores=pn.pores('layer2'))\n",
    "air = op.phases.Air(network=pn, name='air')"
   ]
  },
  {
   "cell_type": "markdown",
   "id": "e148a388",
   "metadata": {},
   "source": [
    "The \"preferred\" way to create Physics objects is to assign them to a specific Phase AND Geometry upon instantiation:"
   ]
  },
  {
   "cell_type": "code",
   "execution_count": 5,
   "id": "7f40acfc",
   "metadata": {
    "execution": {
     "iopub.execute_input": "2022-09-07T19:26:07.188659Z",
     "iopub.status.busy": "2022-09-07T19:26:07.188422Z",
     "iopub.status.idle": "2022-09-07T19:26:07.203865Z",
     "shell.execute_reply": "2022-09-07T19:26:07.203030Z"
    }
   },
   "outputs": [
    {
     "ename": "AttributeError",
     "evalue": "module 'openpnm' has no attribute 'physics'",
     "output_type": "error",
     "traceback": [
      "\u001b[0;31m---------------------------------------------------------------------------\u001b[0m",
      "\u001b[0;31mAttributeError\u001b[0m                            Traceback (most recent call last)",
      "Cell \u001b[0;32mIn [5], line 1\u001b[0m\n\u001b[0;32m----> 1\u001b[0m phys1 \u001b[38;5;241m=\u001b[39m \u001b[43mop\u001b[49m\u001b[38;5;241;43m.\u001b[39;49m\u001b[43mphysics\u001b[49m\u001b[38;5;241m.\u001b[39mGenericPhysics(network\u001b[38;5;241m=\u001b[39mpn, phase\u001b[38;5;241m=\u001b[39mair, geometry\u001b[38;5;241m=\u001b[39mgeo1)\n\u001b[1;32m      2\u001b[0m phys2 \u001b[38;5;241m=\u001b[39m op\u001b[38;5;241m.\u001b[39mphysics\u001b[38;5;241m.\u001b[39mGenericPhysics(network\u001b[38;5;241m=\u001b[39mpn, phase\u001b[38;5;241m=\u001b[39mair, geometry\u001b[38;5;241m=\u001b[39mgeo2)\n",
      "\u001b[0;31mAttributeError\u001b[0m: module 'openpnm' has no attribute 'physics'"
     ]
    }
   ],
   "source": [
    "phys1 = op.physics.GenericPhysics(network=pn, phase=air, geometry=geo1)\n",
    "phys2 = op.physics.GenericPhysics(network=pn, phase=air, geometry=geo2)"
   ]
  },
  {
   "cell_type": "markdown",
   "id": "e7bc50bb",
   "metadata": {},
   "source": [
    "The ``project`` has a useful feature for studying the associations between Geometry, Phase, and Physics objects called the ``grid``. "
   ]
  },
  {
   "cell_type": "code",
   "execution_count": 6,
   "id": "cf7e8779",
   "metadata": {
    "execution": {
     "iopub.execute_input": "2022-09-07T19:26:07.207325Z",
     "iopub.status.busy": "2022-09-07T19:26:07.207087Z",
     "iopub.status.idle": "2022-09-07T19:26:07.220724Z",
     "shell.execute_reply": "2022-09-07T19:26:07.219969Z"
    }
   },
   "outputs": [
    {
     "ename": "AttributeError",
     "evalue": "'Project' object has no attribute 'grid'",
     "output_type": "error",
     "traceback": [
      "\u001b[0;31m---------------------------------------------------------------------------\u001b[0m",
      "\u001b[0;31mAttributeError\u001b[0m                            Traceback (most recent call last)",
      "Cell \u001b[0;32mIn [6], line 2\u001b[0m\n\u001b[1;32m      1\u001b[0m proj \u001b[38;5;241m=\u001b[39m pn\u001b[38;5;241m.\u001b[39mproject\n\u001b[0;32m----> 2\u001b[0m \u001b[38;5;28mprint\u001b[39m(\u001b[43mpn\u001b[49m\u001b[38;5;241;43m.\u001b[39;49m\u001b[43mproject\u001b[49m\u001b[38;5;241;43m.\u001b[39;49m\u001b[43mgrid\u001b[49m)\n",
      "\u001b[0;31mAttributeError\u001b[0m: 'Project' object has no attribute 'grid'"
     ]
    }
   ],
   "source": [
    "proj = pn.project\n",
    "print(pn.project.grid)"
   ]
  },
  {
   "cell_type": "markdown",
   "id": "2aa43821",
   "metadata": {},
   "source": [
    "When creating Physics objects as done above, all the associations between which pores and throats belong to each Physics is taken care of automatically. Essentially, all the pores/throats of ``geo1`` are assigned to ``phys1`` and simlarly all the pores/throats of ``geo2`` are assigned to ``phys2``. However, it is possible to make these assigments manually post-instantiation as will be demonstrated below, but first let's talk about how these associations are tracked by OpenPNM. When a Geometry object is created, two label arrays are added to the Network with ``True`` indicating the locations where that Geometry applies.  Let's see this by printing the Network:"
   ]
  },
  {
   "cell_type": "code",
   "execution_count": 7,
   "id": "e5d7ccc8",
   "metadata": {
    "execution": {
     "iopub.execute_input": "2022-09-07T19:26:07.224092Z",
     "iopub.status.busy": "2022-09-07T19:26:07.223853Z",
     "iopub.status.idle": "2022-09-07T19:26:07.228164Z",
     "shell.execute_reply": "2022-09-07T19:26:07.227319Z"
    }
   },
   "outputs": [
    {
     "name": "stdout",
     "output_type": "stream",
     "text": [
      "\n",
      "══════════════════════════════════════════════════════════════════════════════\n",
      "net : <openpnm.network.Cubic at 0x7fafacddcf90>\n",
      "――――――――――――――――――――――――――――――――――――――――――――――――――――――――――――――――――――――――――――――\n",
      "  #  Properties                                                   Valid Values\n",
      "――――――――――――――――――――――――――――――――――――――――――――――――――――――――――――――――――――――――――――――\n",
      "  1  pore.coords                                                       16 / 16\n",
      "  2  throat.conns                                                      24 / 24\n",
      "――――――――――――――――――――――――――――――――――――――――――――――――――――――――――――――――――――――――――――――\n",
      "  #  Labels                                                 Assigned Locations\n",
      "――――――――――――――――――――――――――――――――――――――――――――――――――――――――――――――――――――――――――――――\n",
      "  1  pore.back                                                               4\n",
      "  2  pore.front                                                              4\n",
      "  3  pore.layer1                                                             8\n",
      "  4  pore.layer2                                                             8\n",
      "  5  pore.left                                                               4\n",
      "  6  pore.right                                                              4\n",
      "  7  pore.surface                                                           12\n",
      "  8  throat.surface                                                         12\n",
      "――――――――――――――――――――――――――――――――――――――――――――――――――――――――――――――――――――――――――――――\n"
     ]
    }
   ],
   "source": [
    "print(pn)"
   ]
  },
  {
   "cell_type": "markdown",
   "id": "e9863292",
   "metadata": {},
   "source": [
    "As can be seen, there is a label array called 'pore.geo_01' that is ``True`` in 8 locations.  We can see which locations using ``np.where``:"
   ]
  },
  {
   "cell_type": "code",
   "execution_count": 8,
   "id": "ef3d695d",
   "metadata": {
    "execution": {
     "iopub.execute_input": "2022-09-07T19:26:07.232387Z",
     "iopub.status.busy": "2022-09-07T19:26:07.232151Z",
     "iopub.status.idle": "2022-09-07T19:26:07.461736Z",
     "shell.execute_reply": "2022-09-07T19:26:07.460859Z"
    }
   },
   "outputs": [
    {
     "ename": "KeyError",
     "evalue": "'pore.geo_01'",
     "output_type": "error",
     "traceback": [
      "\u001b[0;31m---------------------------------------------------------------------------\u001b[0m",
      "\u001b[0;31mKeyError\u001b[0m                                  Traceback (most recent call last)",
      "File \u001b[0;32m~/work/OpenPNM/OpenPNM/openpnm/core/_base2.py:203\u001b[0m, in \u001b[0;36mBase2.__getitem__\u001b[0;34m(self, key)\u001b[0m\n\u001b[1;32m    202\u001b[0m \u001b[38;5;28;01mtry\u001b[39;00m:\n\u001b[0;32m--> 203\u001b[0m     \u001b[38;5;28;01mreturn\u001b[39;00m \u001b[38;5;28;43msuper\u001b[39;49m\u001b[43m(\u001b[49m\u001b[43m)\u001b[49m\u001b[38;5;241;43m.\u001b[39;49m\u001b[38;5;21;43m__getitem__\u001b[39;49m\u001b[43m(\u001b[49m\u001b[43mkey\u001b[49m\u001b[43m)\u001b[49m\n\u001b[1;32m    204\u001b[0m \u001b[38;5;28;01mexcept\u001b[39;00m \u001b[38;5;167;01mKeyError\u001b[39;00m:\n\u001b[1;32m    205\u001b[0m     \u001b[38;5;66;03m# If key is object's name or all, return ones\u001b[39;00m\n",
      "\u001b[0;31mKeyError\u001b[0m: 'pore.geo_01'",
      "\nDuring handling of the above exception, another exception occurred:\n",
      "\u001b[0;31mKeyError\u001b[0m                                  Traceback (most recent call last)",
      "Cell \u001b[0;32mIn [8], line 1\u001b[0m\n\u001b[0;32m----> 1\u001b[0m \u001b[38;5;28mprint\u001b[39m(np\u001b[38;5;241m.\u001b[39mwhere(\u001b[43mpn\u001b[49m\u001b[43m[\u001b[49m\u001b[38;5;124;43m'\u001b[39;49m\u001b[38;5;124;43mpore.geo_01\u001b[39;49m\u001b[38;5;124;43m'\u001b[39;49m\u001b[43m]\u001b[49m)[\u001b[38;5;241m0\u001b[39m])\n",
      "File \u001b[0;32m~/work/OpenPNM/OpenPNM/openpnm/core/_base2.py:219\u001b[0m, in \u001b[0;36mBase2.__getitem__\u001b[0;34m(self, key)\u001b[0m\n\u001b[1;32m    217\u001b[0m     \u001b[38;5;28;01mreturn\u001b[39;00m vals\n\u001b[1;32m    218\u001b[0m \u001b[38;5;28;01melse\u001b[39;00m:\n\u001b[0;32m--> 219\u001b[0m     \u001b[38;5;28;01mraise\u001b[39;00m \u001b[38;5;167;01mKeyError\u001b[39;00m(key)\n",
      "\u001b[0;31mKeyError\u001b[0m: 'pore.geo_01'"
     ]
    }
   ],
   "source": [
    "print(np.where(pn['pore.geo_01'])[0])"
   ]
  },
  {
   "cell_type": "markdown",
   "id": "e42dee74",
   "metadata": {},
   "source": [
    "And similarly, for ``geo2``:"
   ]
  },
  {
   "cell_type": "code",
   "execution_count": 9,
   "id": "9aa67059",
   "metadata": {
    "execution": {
     "iopub.execute_input": "2022-09-07T19:26:07.465773Z",
     "iopub.status.busy": "2022-09-07T19:26:07.465499Z",
     "iopub.status.idle": "2022-09-07T19:26:07.513772Z",
     "shell.execute_reply": "2022-09-07T19:26:07.512886Z"
    }
   },
   "outputs": [
    {
     "ename": "KeyError",
     "evalue": "'pore.geo_02'",
     "output_type": "error",
     "traceback": [
      "\u001b[0;31m---------------------------------------------------------------------------\u001b[0m",
      "\u001b[0;31mKeyError\u001b[0m                                  Traceback (most recent call last)",
      "File \u001b[0;32m~/work/OpenPNM/OpenPNM/openpnm/core/_base2.py:203\u001b[0m, in \u001b[0;36mBase2.__getitem__\u001b[0;34m(self, key)\u001b[0m\n\u001b[1;32m    202\u001b[0m \u001b[38;5;28;01mtry\u001b[39;00m:\n\u001b[0;32m--> 203\u001b[0m     \u001b[38;5;28;01mreturn\u001b[39;00m \u001b[38;5;28;43msuper\u001b[39;49m\u001b[43m(\u001b[49m\u001b[43m)\u001b[49m\u001b[38;5;241;43m.\u001b[39;49m\u001b[38;5;21;43m__getitem__\u001b[39;49m\u001b[43m(\u001b[49m\u001b[43mkey\u001b[49m\u001b[43m)\u001b[49m\n\u001b[1;32m    204\u001b[0m \u001b[38;5;28;01mexcept\u001b[39;00m \u001b[38;5;167;01mKeyError\u001b[39;00m:\n\u001b[1;32m    205\u001b[0m     \u001b[38;5;66;03m# If key is object's name or all, return ones\u001b[39;00m\n",
      "\u001b[0;31mKeyError\u001b[0m: 'pore.geo_02'",
      "\nDuring handling of the above exception, another exception occurred:\n",
      "\u001b[0;31mKeyError\u001b[0m                                  Traceback (most recent call last)",
      "Cell \u001b[0;32mIn [9], line 1\u001b[0m\n\u001b[0;32m----> 1\u001b[0m \u001b[38;5;28mprint\u001b[39m(np\u001b[38;5;241m.\u001b[39mwhere(\u001b[43mpn\u001b[49m\u001b[43m[\u001b[49m\u001b[38;5;124;43m'\u001b[39;49m\u001b[38;5;124;43mpore.geo_02\u001b[39;49m\u001b[38;5;124;43m'\u001b[39;49m\u001b[43m]\u001b[49m)[\u001b[38;5;241m0\u001b[39m])\n",
      "File \u001b[0;32m~/work/OpenPNM/OpenPNM/openpnm/core/_base2.py:219\u001b[0m, in \u001b[0;36mBase2.__getitem__\u001b[0;34m(self, key)\u001b[0m\n\u001b[1;32m    217\u001b[0m     \u001b[38;5;28;01mreturn\u001b[39;00m vals\n\u001b[1;32m    218\u001b[0m \u001b[38;5;28;01melse\u001b[39;00m:\n\u001b[0;32m--> 219\u001b[0m     \u001b[38;5;28;01mraise\u001b[39;00m \u001b[38;5;167;01mKeyError\u001b[39;00m(key)\n",
      "\u001b[0;31mKeyError\u001b[0m: 'pore.geo_02'"
     ]
    }
   ],
   "source": [
    "print(np.where(pn['pore.geo_02'])[0])"
   ]
  },
  {
   "cell_type": "markdown",
   "id": "557b69fb",
   "metadata": {},
   "source": [
    "These values are the locations in each array where ``True`` was found.  Note that they correspond to the pore locations used when creating ``geo1`` and ``geo2``.\n",
    "\n",
    "> NOTE: We **cannot** just change the values in these arrays to change the locations where ``geo1`` and ``geo2`` are applied.  There are several things that need to go on behind the scenes.  For instance, if we want to transfer half the throats from ``geo1`` to ``geo2``, OpenPNM must also move any numerical data on ``geo1``, which requires resizes the arrays on both objects. *Instead we must use the ``set_locations`` method.*"
   ]
  },
  {
   "cell_type": "markdown",
   "id": "1922fa4c",
   "metadata": {},
   "source": [
    "## Working with Subdomains Manually\n",
    "\n",
    "Let's recreate the above multidomain network to illustrate how to manually set locations and associations."
   ]
  },
  {
   "cell_type": "code",
   "execution_count": 10,
   "id": "d93d95c5",
   "metadata": {
    "execution": {
     "iopub.execute_input": "2022-09-07T19:26:07.517565Z",
     "iopub.status.busy": "2022-09-07T19:26:07.517305Z",
     "iopub.status.idle": "2022-09-07T19:26:07.540508Z",
     "shell.execute_reply": "2022-09-07T19:26:07.539592Z"
    }
   },
   "outputs": [
    {
     "ename": "AttributeError",
     "evalue": "module 'openpnm' has no attribute 'geometry'",
     "output_type": "error",
     "traceback": [
      "\u001b[0;31m---------------------------------------------------------------------------\u001b[0m",
      "\u001b[0;31mAttributeError\u001b[0m                            Traceback (most recent call last)",
      "Cell \u001b[0;32mIn [10], line 4\u001b[0m\n\u001b[1;32m      2\u001b[0m pn\u001b[38;5;241m.\u001b[39mset_label(label\u001b[38;5;241m=\u001b[39m\u001b[38;5;124m'\u001b[39m\u001b[38;5;124mlayer1\u001b[39m\u001b[38;5;124m'\u001b[39m, pores\u001b[38;5;241m=\u001b[39m\u001b[38;5;28mrange\u001b[39m(\u001b[38;5;241m8\u001b[39m))\n\u001b[1;32m      3\u001b[0m pn\u001b[38;5;241m.\u001b[39mset_label(label\u001b[38;5;241m=\u001b[39m\u001b[38;5;124m'\u001b[39m\u001b[38;5;124mlayer2\u001b[39m\u001b[38;5;124m'\u001b[39m, pores\u001b[38;5;241m=\u001b[39m\u001b[38;5;28mrange\u001b[39m(\u001b[38;5;241m8\u001b[39m, \u001b[38;5;241m16\u001b[39m))\n\u001b[0;32m----> 4\u001b[0m geo1 \u001b[38;5;241m=\u001b[39m \u001b[43mop\u001b[49m\u001b[38;5;241;43m.\u001b[39;49m\u001b[43mgeometry\u001b[49m\u001b[38;5;241m.\u001b[39mGenericGeometry(network\u001b[38;5;241m=\u001b[39mpn, pores\u001b[38;5;241m=\u001b[39mpn\u001b[38;5;241m.\u001b[39mpores(\u001b[38;5;124m'\u001b[39m\u001b[38;5;124mlayer1\u001b[39m\u001b[38;5;124m'\u001b[39m))\n\u001b[1;32m      5\u001b[0m geo2 \u001b[38;5;241m=\u001b[39m op\u001b[38;5;241m.\u001b[39mgeometry\u001b[38;5;241m.\u001b[39mGenericGeometry(network\u001b[38;5;241m=\u001b[39mpn, pores\u001b[38;5;241m=\u001b[39mpn\u001b[38;5;241m.\u001b[39mpores(\u001b[38;5;124m'\u001b[39m\u001b[38;5;124mlayer2\u001b[39m\u001b[38;5;124m'\u001b[39m))\n\u001b[1;32m      6\u001b[0m air \u001b[38;5;241m=\u001b[39m op\u001b[38;5;241m.\u001b[39mphases\u001b[38;5;241m.\u001b[39mAir(network\u001b[38;5;241m=\u001b[39mpn, name\u001b[38;5;241m=\u001b[39m\u001b[38;5;124m'\u001b[39m\u001b[38;5;124mair\u001b[39m\u001b[38;5;124m'\u001b[39m)\n",
      "\u001b[0;31mAttributeError\u001b[0m: module 'openpnm' has no attribute 'geometry'"
     ]
    }
   ],
   "source": [
    "pn = op.network.Cubic([4, 4, 1])\n",
    "pn.set_label(label='layer1', pores=range(8))\n",
    "pn.set_label(label='layer2', pores=range(8, 16))\n",
    "geo1 = op.geometry.GenericGeometry(network=pn, pores=pn.pores('layer1'))\n",
    "geo2 = op.geometry.GenericGeometry(network=pn, pores=pn.pores('layer2'))\n",
    "air = op.phases.Air(network=pn, name='air')"
   ]
  },
  {
   "cell_type": "markdown",
   "id": "8d867281",
   "metadata": {},
   "source": [
    "Next, create two Physics objects, but don't assign them to a Phase or a Geometry object.  Note that a warning is issued that the instantiation was not able to assign the Physics to any pores or throats.  We'll add these associations manually below:"
   ]
  },
  {
   "cell_type": "code",
   "execution_count": 11,
   "id": "0fed7b9f",
   "metadata": {
    "execution": {
     "iopub.execute_input": "2022-09-07T19:26:07.543869Z",
     "iopub.status.busy": "2022-09-07T19:26:07.543584Z",
     "iopub.status.idle": "2022-09-07T19:26:07.560005Z",
     "shell.execute_reply": "2022-09-07T19:26:07.558991Z"
    }
   },
   "outputs": [
    {
     "ename": "AttributeError",
     "evalue": "module 'openpnm' has no attribute 'physics'",
     "output_type": "error",
     "traceback": [
      "\u001b[0;31m---------------------------------------------------------------------------\u001b[0m",
      "\u001b[0;31mAttributeError\u001b[0m                            Traceback (most recent call last)",
      "Cell \u001b[0;32mIn [11], line 1\u001b[0m\n\u001b[0;32m----> 1\u001b[0m phys1 \u001b[38;5;241m=\u001b[39m \u001b[43mop\u001b[49m\u001b[38;5;241;43m.\u001b[39;49m\u001b[43mphysics\u001b[49m\u001b[38;5;241m.\u001b[39mGenericPhysics(network\u001b[38;5;241m=\u001b[39mpn)\n\u001b[1;32m      2\u001b[0m phys2 \u001b[38;5;241m=\u001b[39m op\u001b[38;5;241m.\u001b[39mphysics\u001b[38;5;241m.\u001b[39mGenericPhysics(network\u001b[38;5;241m=\u001b[39mpn)\n",
      "\u001b[0;31mAttributeError\u001b[0m: module 'openpnm' has no attribute 'physics'"
     ]
    }
   ],
   "source": [
    "phys1 = op.physics.GenericPhysics(network=pn)\n",
    "phys2 = op.physics.GenericPhysics(network=pn)"
   ]
  },
  {
   "cell_type": "markdown",
   "id": "5d668656",
   "metadata": {},
   "source": [
    "Physics objects have a ``phase`` attribute that points to the Phase with which it is currently associated.  Because we did not provide one when initializing ``phys1`` and ``phys2`` this will raise an exception:"
   ]
  },
  {
   "cell_type": "code",
   "execution_count": 12,
   "id": "f3deb770",
   "metadata": {
    "execution": {
     "iopub.execute_input": "2022-09-07T19:26:07.563551Z",
     "iopub.status.busy": "2022-09-07T19:26:07.563316Z",
     "iopub.status.idle": "2022-09-07T19:26:07.567386Z",
     "shell.execute_reply": "2022-09-07T19:26:07.566549Z"
    }
   },
   "outputs": [
    {
     "name": "stdout",
     "output_type": "stream",
     "text": [
      "name 'phys1' is not defined\n"
     ]
    }
   ],
   "source": [
    "try:\n",
    "    phys1.phase\n",
    "except Exception as e:\n",
    "    print(e)"
   ]
  },
  {
   "cell_type": "markdown",
   "id": "df2bf8ba",
   "metadata": {},
   "source": [
    "We can assign a ``air`` to ``phys1`` as follows, after which we can retrieve it using the ``phase`` attribute:"
   ]
  },
  {
   "cell_type": "code",
   "execution_count": 13,
   "id": "893199e8",
   "metadata": {
    "execution": {
     "iopub.execute_input": "2022-09-07T19:26:07.572259Z",
     "iopub.status.busy": "2022-09-07T19:26:07.571990Z",
     "iopub.status.idle": "2022-09-07T19:26:07.588149Z",
     "shell.execute_reply": "2022-09-07T19:26:07.587168Z"
    }
   },
   "outputs": [
    {
     "ename": "NameError",
     "evalue": "name 'air' is not defined",
     "output_type": "error",
     "traceback": [
      "\u001b[0;31m---------------------------------------------------------------------------\u001b[0m",
      "\u001b[0;31mNameError\u001b[0m                                 Traceback (most recent call last)",
      "Cell \u001b[0;32mIn [13], line 1\u001b[0m\n\u001b[0;32m----> 1\u001b[0m phys1\u001b[38;5;241m.\u001b[39mphase \u001b[38;5;241m=\u001b[39m \u001b[43mair\u001b[49m\n\u001b[1;32m      2\u001b[0m \u001b[38;5;28mprint\u001b[39m(phys1\u001b[38;5;241m.\u001b[39mphase\u001b[38;5;241m.\u001b[39mname)\n",
      "\u001b[0;31mNameError\u001b[0m: name 'air' is not defined"
     ]
    }
   ],
   "source": [
    "phys1.phase = air\n",
    "print(phys1.phase.name)"
   ]
  },
  {
   "cell_type": "markdown",
   "id": "d1eaa4f2",
   "metadata": {},
   "source": [
    "Physics objects also have ``geometry`` attribute which acts just like ``phase``.  We have not yet associated ``phys1`` with any locations so it will raise an error:"
   ]
  },
  {
   "cell_type": "code",
   "execution_count": 14,
   "id": "eb5c2baf",
   "metadata": {
    "execution": {
     "iopub.execute_input": "2022-09-07T19:26:07.593221Z",
     "iopub.status.busy": "2022-09-07T19:26:07.592656Z",
     "iopub.status.idle": "2022-09-07T19:26:07.597732Z",
     "shell.execute_reply": "2022-09-07T19:26:07.597045Z"
    }
   },
   "outputs": [
    {
     "name": "stdout",
     "output_type": "stream",
     "text": [
      "name 'phys1' is not defined\n"
     ]
    }
   ],
   "source": [
    "try:\n",
    "    phys1.geometry\n",
    "except Exception as e:\n",
    "    print(e)"
   ]
  },
  {
   "cell_type": "markdown",
   "id": "ce6e8f63",
   "metadata": {},
   "source": [
    "We can assign a Geometry in the same manner as we did for Phase above.  This will connect ``phys1`` with the locations corresponding to ``geo1``:"
   ]
  },
  {
   "cell_type": "code",
   "execution_count": 15,
   "id": "7d3072a1",
   "metadata": {
    "execution": {
     "iopub.execute_input": "2022-09-07T19:26:07.601538Z",
     "iopub.status.busy": "2022-09-07T19:26:07.601043Z",
     "iopub.status.idle": "2022-09-07T19:26:07.617110Z",
     "shell.execute_reply": "2022-09-07T19:26:07.616341Z"
    }
   },
   "outputs": [
    {
     "ename": "NameError",
     "evalue": "name 'geo1' is not defined",
     "output_type": "error",
     "traceback": [
      "\u001b[0;31m---------------------------------------------------------------------------\u001b[0m",
      "\u001b[0;31mNameError\u001b[0m                                 Traceback (most recent call last)",
      "Cell \u001b[0;32mIn [15], line 1\u001b[0m\n\u001b[0;32m----> 1\u001b[0m phys1\u001b[38;5;241m.\u001b[39mgeometry \u001b[38;5;241m=\u001b[39m \u001b[43mgeo1\u001b[49m\n\u001b[1;32m      2\u001b[0m \u001b[38;5;28mprint\u001b[39m(phys1\u001b[38;5;241m.\u001b[39mgeometry\u001b[38;5;241m.\u001b[39mname)\n\u001b[1;32m      3\u001b[0m \u001b[38;5;28mprint\u001b[39m(phys1\u001b[38;5;241m.\u001b[39mpores())\n",
      "\u001b[0;31mNameError\u001b[0m: name 'geo1' is not defined"
     ]
    }
   ],
   "source": [
    "phys1.geometry = geo1\n",
    "print(phys1.geometry.name)\n",
    "print(phys1.pores())"
   ]
  },
  {
   "cell_type": "code",
   "execution_count": 16,
   "id": "fab52a98",
   "metadata": {
    "execution": {
     "iopub.execute_input": "2022-09-07T19:26:07.620415Z",
     "iopub.status.busy": "2022-09-07T19:26:07.619915Z",
     "iopub.status.idle": "2022-09-07T19:26:07.634246Z",
     "shell.execute_reply": "2022-09-07T19:26:07.633407Z"
    }
   },
   "outputs": [
    {
     "ename": "NameError",
     "evalue": "name 'phys1' is not defined",
     "output_type": "error",
     "traceback": [
      "\u001b[0;31m---------------------------------------------------------------------------\u001b[0m",
      "\u001b[0;31mNameError\u001b[0m                                 Traceback (most recent call last)",
      "Cell \u001b[0;32mIn [16], line 1\u001b[0m\n\u001b[0;32m----> 1\u001b[0m \u001b[43mphys1\u001b[49m\u001b[38;5;241m.\u001b[39mNp\n",
      "\u001b[0;31mNameError\u001b[0m: name 'phys1' is not defined"
     ]
    }
   ],
   "source": [
    "phys1.Np"
   ]
  },
  {
   "cell_type": "code",
   "execution_count": 17,
   "id": "7909a79d",
   "metadata": {
    "execution": {
     "iopub.execute_input": "2022-09-07T19:26:07.637688Z",
     "iopub.status.busy": "2022-09-07T19:26:07.637237Z",
     "iopub.status.idle": "2022-09-07T19:26:07.641402Z",
     "shell.execute_reply": "2022-09-07T19:26:07.640623Z"
    }
   },
   "outputs": [
    {
     "name": "stdout",
     "output_type": "stream",
     "text": [
      "name 'geo2' is not defined\n"
     ]
    }
   ],
   "source": [
    "try:\n",
    "    phys2.geometry = geo2\n",
    "except Exception as e:\n",
    "    print(e)"
   ]
  },
  {
   "cell_type": "code",
   "execution_count": 18,
   "id": "dd54e94c",
   "metadata": {
    "execution": {
     "iopub.execute_input": "2022-09-07T19:26:07.645172Z",
     "iopub.status.busy": "2022-09-07T19:26:07.644723Z",
     "iopub.status.idle": "2022-09-07T19:26:07.659171Z",
     "shell.execute_reply": "2022-09-07T19:26:07.658373Z"
    }
   },
   "outputs": [
    {
     "ename": "AttributeError",
     "evalue": "'Project' object has no attribute 'grid'",
     "output_type": "error",
     "traceback": [
      "\u001b[0;31m---------------------------------------------------------------------------\u001b[0m",
      "\u001b[0;31mAttributeError\u001b[0m                            Traceback (most recent call last)",
      "Cell \u001b[0;32mIn [18], line 2\u001b[0m\n\u001b[1;32m      1\u001b[0m proj \u001b[38;5;241m=\u001b[39m pn\u001b[38;5;241m.\u001b[39mproject\n\u001b[0;32m----> 2\u001b[0m \u001b[38;5;28mprint\u001b[39m(\u001b[43mproj\u001b[49m\u001b[38;5;241;43m.\u001b[39;49m\u001b[43mgrid\u001b[49m)\n",
      "\u001b[0;31mAttributeError\u001b[0m: 'Project' object has no attribute 'grid'"
     ]
    }
   ],
   "source": [
    "proj = pn.project\n",
    "print(proj.grid)"
   ]
  },
  {
   "cell_type": "markdown",
   "id": "56c3926f",
   "metadata": {},
   "source": [
    "This shows that *phys_02* resides in the ? column indicating that it is not associated with a phase, and it resides in the ? row indicating it is not associated with a geometry either. Let's fix this below."
   ]
  },
  {
   "cell_type": "code",
   "execution_count": 19,
   "id": "db59de35",
   "metadata": {
    "execution": {
     "iopub.execute_input": "2022-09-07T19:26:07.662522Z",
     "iopub.status.busy": "2022-09-07T19:26:07.662089Z",
     "iopub.status.idle": "2022-09-07T19:26:07.678104Z",
     "shell.execute_reply": "2022-09-07T19:26:07.677296Z"
    }
   },
   "outputs": [
    {
     "ename": "NameError",
     "evalue": "name 'air' is not defined",
     "output_type": "error",
     "traceback": [
      "\u001b[0;31m---------------------------------------------------------------------------\u001b[0m",
      "\u001b[0;31mNameError\u001b[0m                                 Traceback (most recent call last)",
      "Cell \u001b[0;32mIn [19], line 1\u001b[0m\n\u001b[0;32m----> 1\u001b[0m phys2\u001b[38;5;241m.\u001b[39mphase \u001b[38;5;241m=\u001b[39m \u001b[43mair\u001b[49m\n\u001b[1;32m      2\u001b[0m phys2\u001b[38;5;241m.\u001b[39mgeometry \u001b[38;5;241m=\u001b[39m geo2\n",
      "\u001b[0;31mNameError\u001b[0m: name 'air' is not defined"
     ]
    }
   ],
   "source": [
    "phys2.phase = air\n",
    "phys2.geometry = geo2"
   ]
  },
  {
   "cell_type": "code",
   "execution_count": 20,
   "id": "c31e1697",
   "metadata": {
    "execution": {
     "iopub.execute_input": "2022-09-07T19:26:07.681747Z",
     "iopub.status.busy": "2022-09-07T19:26:07.681140Z",
     "iopub.status.idle": "2022-09-07T19:26:07.695668Z",
     "shell.execute_reply": "2022-09-07T19:26:07.694855Z"
    }
   },
   "outputs": [
    {
     "ename": "AttributeError",
     "evalue": "'Project' object has no attribute 'grid'",
     "output_type": "error",
     "traceback": [
      "\u001b[0;31m---------------------------------------------------------------------------\u001b[0m",
      "\u001b[0;31mAttributeError\u001b[0m                            Traceback (most recent call last)",
      "Cell \u001b[0;32mIn [20], line 1\u001b[0m\n\u001b[0;32m----> 1\u001b[0m \u001b[38;5;28mprint\u001b[39m(\u001b[43mpn\u001b[49m\u001b[38;5;241;43m.\u001b[39;49m\u001b[43mproject\u001b[49m\u001b[38;5;241;43m.\u001b[39;49m\u001b[43mgrid\u001b[49m)\n",
      "\u001b[0;31mAttributeError\u001b[0m: 'Project' object has no attribute 'grid'"
     ]
    }
   ],
   "source": [
    "print(pn.project.grid)"
   ]
  },
  {
   "cell_type": "markdown",
   "id": "2a0262be",
   "metadata": {},
   "source": [
    "Now we can see that *phys_02* is associated with *geo_02* and *air*.  We can also see there are some locations, either pores or throats, that are not yet associated with a geometry object, as indicated by *---* in the first column.  This is because we did not assign any throats to a Geometry yet.  Let's fix this below:"
   ]
  },
  {
   "cell_type": "code",
   "execution_count": 21,
   "id": "d281295e",
   "metadata": {
    "execution": {
     "iopub.execute_input": "2022-09-07T19:26:07.699427Z",
     "iopub.status.busy": "2022-09-07T19:26:07.698904Z",
     "iopub.status.idle": "2022-09-07T19:26:07.714964Z",
     "shell.execute_reply": "2022-09-07T19:26:07.714077Z"
    }
   },
   "outputs": [
    {
     "ename": "AttributeError",
     "evalue": "module 'openpnm' has no attribute 'geometry'",
     "output_type": "error",
     "traceback": [
      "\u001b[0;31m---------------------------------------------------------------------------\u001b[0m",
      "\u001b[0;31mAttributeError\u001b[0m                            Traceback (most recent call last)",
      "Cell \u001b[0;32mIn [21], line 1\u001b[0m\n\u001b[0;32m----> 1\u001b[0m geo3 \u001b[38;5;241m=\u001b[39m \u001b[43mop\u001b[49m\u001b[38;5;241;43m.\u001b[39;49m\u001b[43mgeometry\u001b[49m\u001b[38;5;241m.\u001b[39mGenericGeometry(network\u001b[38;5;241m=\u001b[39mpn, throats\u001b[38;5;241m=\u001b[39m\u001b[38;5;28mrange\u001b[39m(\u001b[38;5;241m12\u001b[39m))\n",
      "\u001b[0;31mAttributeError\u001b[0m: module 'openpnm' has no attribute 'geometry'"
     ]
    }
   ],
   "source": [
    "geo3 = op.geometry.GenericGeometry(network=pn, throats=range(12))"
   ]
  },
  {
   "cell_type": "code",
   "execution_count": 22,
   "id": "9124bafb",
   "metadata": {
    "execution": {
     "iopub.execute_input": "2022-09-07T19:26:07.718181Z",
     "iopub.status.busy": "2022-09-07T19:26:07.717714Z",
     "iopub.status.idle": "2022-09-07T19:26:07.734566Z",
     "shell.execute_reply": "2022-09-07T19:26:07.733698Z"
    }
   },
   "outputs": [
    {
     "ename": "AttributeError",
     "evalue": "'Project' object has no attribute 'grid'",
     "output_type": "error",
     "traceback": [
      "\u001b[0;31m---------------------------------------------------------------------------\u001b[0m",
      "\u001b[0;31mAttributeError\u001b[0m                            Traceback (most recent call last)",
      "Cell \u001b[0;32mIn [22], line 1\u001b[0m\n\u001b[0;32m----> 1\u001b[0m \u001b[38;5;28mprint\u001b[39m(\u001b[43mpn\u001b[49m\u001b[38;5;241;43m.\u001b[39;49m\u001b[43mproject\u001b[49m\u001b[38;5;241;43m.\u001b[39;49m\u001b[43mgrid\u001b[49m)\n",
      "\u001b[0;31mAttributeError\u001b[0m: 'Project' object has no attribute 'grid'"
     ]
    }
   ],
   "source": [
    "print(pn.project.grid)"
   ]
  },
  {
   "cell_type": "markdown",
   "id": "8c5d9e09",
   "metadata": {},
   "source": [
    "Note that we only assigned 12 throats to ``geo3``, but there were 24 throats in the network. We can either create yet another Geometry, or we can use the ``set_locations`` method:"
   ]
  },
  {
   "cell_type": "code",
   "execution_count": 23,
   "id": "2e3cc25a",
   "metadata": {
    "execution": {
     "iopub.execute_input": "2022-09-07T19:26:07.738158Z",
     "iopub.status.busy": "2022-09-07T19:26:07.737682Z",
     "iopub.status.idle": "2022-09-07T19:26:07.755983Z",
     "shell.execute_reply": "2022-09-07T19:26:07.754996Z"
    }
   },
   "outputs": [
    {
     "ename": "NameError",
     "evalue": "name 'geo3' is not defined",
     "output_type": "error",
     "traceback": [
      "\u001b[0;31m---------------------------------------------------------------------------\u001b[0m",
      "\u001b[0;31mNameError\u001b[0m                                 Traceback (most recent call last)",
      "Cell \u001b[0;32mIn [23], line 1\u001b[0m\n\u001b[0;32m----> 1\u001b[0m \u001b[43mgeo3\u001b[49m\u001b[38;5;241m.\u001b[39mset_locations(throats\u001b[38;5;241m=\u001b[39m\u001b[38;5;28mrange\u001b[39m(\u001b[38;5;241m12\u001b[39m, \u001b[38;5;241m24\u001b[39m))\n",
      "\u001b[0;31mNameError\u001b[0m: name 'geo3' is not defined"
     ]
    }
   ],
   "source": [
    "geo3.set_locations(throats=range(12, 24))"
   ]
  },
  {
   "cell_type": "code",
   "execution_count": 24,
   "id": "c931afe2",
   "metadata": {
    "execution": {
     "iopub.execute_input": "2022-09-07T19:26:07.759275Z",
     "iopub.status.busy": "2022-09-07T19:26:07.759012Z",
     "iopub.status.idle": "2022-09-07T19:26:07.778073Z",
     "shell.execute_reply": "2022-09-07T19:26:07.777263Z"
    }
   },
   "outputs": [
    {
     "ename": "AttributeError",
     "evalue": "'Project' object has no attribute 'grid'",
     "output_type": "error",
     "traceback": [
      "\u001b[0;31m---------------------------------------------------------------------------\u001b[0m",
      "\u001b[0;31mAttributeError\u001b[0m                            Traceback (most recent call last)",
      "Cell \u001b[0;32mIn [24], line 1\u001b[0m\n\u001b[0;32m----> 1\u001b[0m \u001b[38;5;28mprint\u001b[39m(\u001b[43mpn\u001b[49m\u001b[38;5;241;43m.\u001b[39;49m\u001b[43mproject\u001b[49m\u001b[38;5;241;43m.\u001b[39;49m\u001b[43mgrid\u001b[49m)\n",
      "\u001b[0;31mAttributeError\u001b[0m: 'Project' object has no attribute 'grid'"
     ]
    }
   ],
   "source": [
    "print(pn.project.grid)"
   ]
  },
  {
   "cell_type": "markdown",
   "id": "dc1fd305",
   "metadata": {},
   "source": [
    "Now we can see that all locations are assigned to a Geometry, indicated by the lack of any rows in the first column containing *---*.  We still need to create a Physics object for these throats.  \n",
    "\n",
    "Again, let's not assign it to the throats during instantiation and do it manually afterward. But we will include a Phase:"
   ]
  },
  {
   "cell_type": "code",
   "execution_count": 25,
   "id": "06b85d72",
   "metadata": {
    "execution": {
     "iopub.execute_input": "2022-09-07T19:26:07.781701Z",
     "iopub.status.busy": "2022-09-07T19:26:07.781439Z",
     "iopub.status.idle": "2022-09-07T19:26:07.799925Z",
     "shell.execute_reply": "2022-09-07T19:26:07.799145Z"
    }
   },
   "outputs": [
    {
     "ename": "AttributeError",
     "evalue": "module 'openpnm' has no attribute 'physics'",
     "output_type": "error",
     "traceback": [
      "\u001b[0;31m---------------------------------------------------------------------------\u001b[0m",
      "\u001b[0;31mAttributeError\u001b[0m                            Traceback (most recent call last)",
      "Cell \u001b[0;32mIn [25], line 1\u001b[0m\n\u001b[0;32m----> 1\u001b[0m phys3 \u001b[38;5;241m=\u001b[39m \u001b[43mop\u001b[49m\u001b[38;5;241;43m.\u001b[39;49m\u001b[43mphysics\u001b[49m\u001b[38;5;241m.\u001b[39mGenericPhysics(network\u001b[38;5;241m=\u001b[39mpn, phase\u001b[38;5;241m=\u001b[39mair)\n",
      "\u001b[0;31mAttributeError\u001b[0m: module 'openpnm' has no attribute 'physics'"
     ]
    }
   ],
   "source": [
    "phys3 = op.physics.GenericPhysics(network=pn, phase=air)"
   ]
  },
  {
   "cell_type": "code",
   "execution_count": 26,
   "id": "19af93cf",
   "metadata": {
    "execution": {
     "iopub.execute_input": "2022-09-07T19:26:07.803876Z",
     "iopub.status.busy": "2022-09-07T19:26:07.803397Z",
     "iopub.status.idle": "2022-09-07T19:26:07.819435Z",
     "shell.execute_reply": "2022-09-07T19:26:07.818648Z"
    }
   },
   "outputs": [
    {
     "ename": "AttributeError",
     "evalue": "'Project' object has no attribute 'grid'",
     "output_type": "error",
     "traceback": [
      "\u001b[0;31m---------------------------------------------------------------------------\u001b[0m",
      "\u001b[0;31mAttributeError\u001b[0m                            Traceback (most recent call last)",
      "Cell \u001b[0;32mIn [26], line 1\u001b[0m\n\u001b[0;32m----> 1\u001b[0m \u001b[38;5;28mprint\u001b[39m(\u001b[43mpn\u001b[49m\u001b[38;5;241;43m.\u001b[39;49m\u001b[43mproject\u001b[49m\u001b[38;5;241;43m.\u001b[39;49m\u001b[43mgrid\u001b[49m)\n",
      "\u001b[0;31mAttributeError\u001b[0m: 'Project' object has no attribute 'grid'"
     ]
    }
   ],
   "source": [
    "print(pn.project.grid)"
   ]
  },
  {
   "cell_type": "markdown",
   "id": "3334f6af",
   "metadata": {},
   "source": [
    "Because we included a Phase, this new Physics is in the appropriate column, but is in a *?* row since it is not yet associated with a Geometry. Instead of using the ``geometry`` attribute as we did above, let's use the ``set_geometry`` method, which is actually called behind the scenes when using the ``geometry`` attribute:"
   ]
  },
  {
   "cell_type": "code",
   "execution_count": 27,
   "id": "d2f553a8",
   "metadata": {
    "execution": {
     "iopub.execute_input": "2022-09-07T19:26:07.822941Z",
     "iopub.status.busy": "2022-09-07T19:26:07.822695Z",
     "iopub.status.idle": "2022-09-07T19:26:07.838134Z",
     "shell.execute_reply": "2022-09-07T19:26:07.837288Z"
    }
   },
   "outputs": [
    {
     "ename": "NameError",
     "evalue": "name 'phys3' is not defined",
     "output_type": "error",
     "traceback": [
      "\u001b[0;31m---------------------------------------------------------------------------\u001b[0m",
      "\u001b[0;31mNameError\u001b[0m                                 Traceback (most recent call last)",
      "Cell \u001b[0;32mIn [27], line 1\u001b[0m\n\u001b[0;32m----> 1\u001b[0m \u001b[43mphys3\u001b[49m\u001b[38;5;241m.\u001b[39mset_geometry(geo3)\n",
      "\u001b[0;31mNameError\u001b[0m: name 'phys3' is not defined"
     ]
    }
   ],
   "source": [
    "phys3.set_geometry(geo3)"
   ]
  },
  {
   "cell_type": "markdown",
   "id": "4d30a0c4",
   "metadata": {},
   "source": [
    "Now we can print the project's grid and see that everything is looking good:"
   ]
  },
  {
   "cell_type": "code",
   "execution_count": 28,
   "id": "007d5b9b",
   "metadata": {
    "execution": {
     "iopub.execute_input": "2022-09-07T19:26:07.841527Z",
     "iopub.status.busy": "2022-09-07T19:26:07.841264Z",
     "iopub.status.idle": "2022-09-07T19:26:07.857093Z",
     "shell.execute_reply": "2022-09-07T19:26:07.856324Z"
    }
   },
   "outputs": [
    {
     "ename": "AttributeError",
     "evalue": "'Project' object has no attribute 'grid'",
     "output_type": "error",
     "traceback": [
      "\u001b[0;31m---------------------------------------------------------------------------\u001b[0m",
      "\u001b[0;31mAttributeError\u001b[0m                            Traceback (most recent call last)",
      "Cell \u001b[0;32mIn [28], line 1\u001b[0m\n\u001b[0;32m----> 1\u001b[0m \u001b[38;5;28mprint\u001b[39m(\u001b[43mpn\u001b[49m\u001b[38;5;241;43m.\u001b[39;49m\u001b[43mproject\u001b[49m\u001b[38;5;241;43m.\u001b[39;49m\u001b[43mgrid\u001b[49m)\n",
      "\u001b[0;31mAttributeError\u001b[0m: 'Project' object has no attribute 'grid'"
     ]
    }
   ],
   "source": [
    "print(pn.project.grid)"
   ]
  }
 ],
 "metadata": {
  "kernelspec": {
   "display_name": "Python 3",
   "language": "python",
   "name": "python3"
  },
  "language_info": {
   "codemirror_mode": {
    "name": "ipython",
    "version": 3
   },
   "file_extension": ".py",
   "mimetype": "text/x-python",
   "name": "python",
   "nbconvert_exporter": "python",
   "pygments_lexer": "ipython3",
   "version": "3.8.13"
  }
 },
 "nbformat": 4,
 "nbformat_minor": 5
}
