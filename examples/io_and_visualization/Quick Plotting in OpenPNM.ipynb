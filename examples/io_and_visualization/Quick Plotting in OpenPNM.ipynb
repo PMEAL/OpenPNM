{
 "cells": [
  {
   "cell_type": "markdown",
   "metadata": {},
   "source": [
    "## Producing Quick and Easy Plots of Topology within OpenPNM\n",
    "\n",
    "The main way to visualize OpenPNM networks is Paraview, but this can be a bit a hassle when building a new network topology that needs quick feedback for troubleshooting. Starting in V1.6, OpenPNM offers two plotting functions for showing pore locations and the connections between them: openpnm.topotools.plot_coordinates and openpnm.topotools.plot_connections. This example demonstrates how to use these two methods."
   ]
  },
  {
   "cell_type": "markdown",
   "metadata": {},
   "source": [
    "Start by initializing OpenPNM and creating a network. For easier visualization we'll use a 2D network:"
   ]
  },
  {
   "cell_type": "code",
   "execution_count": 1,
   "metadata": {},
   "outputs": [],
   "source": [
    "import openpnm as op\n",
    "net = op.network.Cubic(shape=[5, 5, 1])"
   ]
  },
  {
   "cell_type": "markdown",
   "metadata": {},
   "source": [
    "Next we'll add boundary pores to two sides of the network, to better illustrate these plot commands:"
   ]
  },
  {
   "cell_type": "code",
   "execution_count": 2,
   "metadata": {},
   "outputs": [],
   "source": [
    "net.add_boundary_pores(['left', 'right'])"
   ]
  },
  {
   "cell_type": "markdown",
   "metadata": {},
   "source": [
    "Now let's use ``plot_coordinates`` to plot the pore centers in a 3D plot, starting with the internal pores:"
   ]
  },
  {
   "cell_type": "code",
   "execution_count": 10,
   "metadata": {},
   "outputs": [
    {
     "data": {
      "image/png": "[encoded data removed]",
      "text/plain": [
       "<Figure size 432x288 with 1 Axes>"
      ]
     },
     "metadata": {
      "needs_background": "light"
     },
     "output_type": "display_data"
    }
   ],
   "source": [
    "fig = op.topotools.plot_coordinates(network=net, pores=net.pores('internal'), c='r')\n",
    "ax = fig.gca()  # This line is only needed in Jupyter notebooks"
   ]
  },
  {
   "cell_type": "markdown",
   "metadata": {},
   "source": [
    "Note that the above call to plot_coordinates returns a figure handle fig. This can be passed into subsequent plotting methods to overlay points."
   ]
  },
  {
   "cell_type": "code",
   "execution_count": 11,
   "metadata": {},
   "outputs": [
    {
     "data": {
      "image/png": "[encoded data removed]",
      "text/plain": [
       "<Figure size 432x288 with 1 Axes>"
      ]
     },
     "execution_count": 11,
     "metadata": {},
     "output_type": "execute_result"
    }
   ],
   "source": [
    "Ps = net.pores('*boundary')\n",
    "fig = op.topotools.plot_coordinates(network=net, pores=Ps, fig=fig, c='b')\n",
    "ax.get_figure()  # This line is only needed in Jupyter notebooks"
   ]
  },
  {
   "cell_type": "markdown",
   "metadata": {},
   "source": [
    "Next, let's add lines to the above plot indicating the throat connections. Again, by reusing the fig object we can overlay more information:"
   ]
  },
  {
   "cell_type": "code",
   "execution_count": 12,
   "metadata": {},
   "outputs": [
    {
     "name": "stderr",
     "output_type": "stream",
     "text": [
      "―――――――――――――――――――――――――――――――――――――――――――――――――――――――――――――――――――――――\n",
      "    WARNING: Axes is already scaled to previously plotted data \n",
      "    SOURCE: openpnm.topotools.topotools._scale_3d_axes \n",
      "    TIME STAMP: 2019-04-14 18:56:52,876    \n"
     ]
    },
    {
     "data": {
      "image/png": "[encoded data removed]",
      "text/plain": [
       "<Figure size 432x288 with 1 Axes>"
      ]
     },
     "execution_count": 12,
     "metadata": {},
     "output_type": "execute_result"
    }
   ],
   "source": [
    "Ts = net.find_neighbor_throats(pores=Ps)\n",
    "fig = op.topotools.plot_connections(network=net, throats=Ts, fig=fig, c='b')\n",
    "Ts = net.find_neighbor_throats(pores=net.pores('internal'), mode='intersection')\n",
    "fig = op.topotools.plot_connections(network=net, throats=Ts, fig=fig, c='r')\n",
    "ax.get_figure()  # This line is only needed in Jupyter notebooks"
   ]
  },
  {
   "cell_type": "raw",
   "metadata": {},
   "source": [
    "These two methods are meant for quick and rough visualizations.  If you require high quality 3D images, you should use Paraview:"
   ]
  },
  {
   "cell_type": "markdown",
   "metadata": {},
   "source": [
    "![](https://i.imgur.com/uSBVFi9m.png)"
   ]
  }
 ],
 "metadata": {
  "kernelspec": {
   "display_name": "Python 3",
   "language": "python",
   "name": "python3"
  },
  "language_info": {
   "codemirror_mode": {
    "name": "ipython",
    "version": 3
   },
   "file_extension": ".py",
   "mimetype": "text/x-python",
   "name": "python",
   "nbconvert_exporter": "python",
   "pygments_lexer": "ipython3",
   "version": "3.7.2"
  }
 },
 "nbformat": 4,
 "nbformat_minor": 2
}
