{
 "cells": [
  {
   "cell_type": "markdown",
   "metadata": {},
   "source": [
    "# Advection-Diffusion"
   ]
  },
  {
   "cell_type": "markdown",
   "metadata": {},
   "source": [
    "In this example, we will learn how to perform an advection-diffusion simulation of a given chemical species through a `Cubic` network. The algorithm can be applied to more complex networks in the same manner as described in this example. For the sake of simplicity, a one layer 3D cubic network is used here. On `OpenPNM`, 4 different space discretization schemes for the advection-diffusion problem are available and consist of:\n",
    "\n",
    "1. Upwind\n",
    "2. Hybrid\n",
    "3. Powerlaw\n",
    "4. Exponential\n",
    "\n",
    "Depending on the Peclet number characterizing the transport (ratio of advective to diffusive fluxes), the solutions obtained using these schemes may differ. In order to achive a high numerical accuracy, the user should use either the `powerlaw` or the `exponential` schemes."
   ]
  },
  {
   "cell_type": "markdown",
   "metadata": {},
   "source": [
    "## Generating network\n",
    "First, we need to generate a `Cubic` network. For now, we stick to a one layer 3d network, but you might as well try more complex networks!"
   ]
  },
  {
   "cell_type": "code",
   "execution_count": 1,
   "metadata": {
    "execution": {
     "iopub.execute_input": "2022-09-07T19:26:15.733243Z",
     "iopub.status.busy": "2022-09-07T19:26:15.732915Z",
     "iopub.status.idle": "2022-09-07T19:26:17.503108Z",
     "shell.execute_reply": "2022-09-07T19:26:17.501840Z"
    }
   },
   "outputs": [],
   "source": [
    "import numpy as np\n",
    "import openpnm as op\n",
    "%config InlineBackend.figure_formats = ['svg']\n",
    "np.random.seed(10)\n",
    "%matplotlib inline\n",
    "ws = op.Workspace()\n",
    "ws.settings[\"loglevel\"] = 40\n",
    "np.set_printoptions(precision=5)\n",
    "shape = [1, 20, 30]\n",
    "net = op.network.Cubic(shape=shape, spacing=1e-4)"
   ]
  },
  {
   "cell_type": "markdown",
   "metadata": {},
   "source": [
    "## Adding geometry\n",
    "Next, we need to add a geometry to the generated network. A geometry contains information about size of the pores/throats in a network. `OpenPNM` has tons of prebuilt geometries that represent the microstructure of different materials such as Toray090 carbon papers, sand stone, electrospun fibers, etc. For now, we stick to a sample geometry called `SpheresAndCylinders` that assigns random values to pore/throat diameters."
   ]
  },
  {
   "cell_type": "code",
   "execution_count": 2,
   "metadata": {
    "execution": {
     "iopub.execute_input": "2022-09-07T19:26:17.507485Z",
     "iopub.status.busy": "2022-09-07T19:26:17.506801Z",
     "iopub.status.idle": "2022-09-07T19:26:18.053327Z",
     "shell.execute_reply": "2022-09-07T19:26:18.052505Z"
    }
   },
   "outputs": [
    {
     "ename": "AttributeError",
     "evalue": "module 'openpnm' has no attribute 'geometry'",
     "output_type": "error",
     "traceback": [
      "\u001b[0;31m---------------------------------------------------------------------------\u001b[0m",
      "\u001b[0;31mAttributeError\u001b[0m                            Traceback (most recent call last)",
      "Cell \u001b[0;32mIn [2], line 1\u001b[0m\n\u001b[0;32m----> 1\u001b[0m geom \u001b[38;5;241m=\u001b[39m \u001b[43mop\u001b[49m\u001b[38;5;241;43m.\u001b[39;49m\u001b[43mgeometry\u001b[49m\u001b[38;5;241m.\u001b[39mSpheresAndCylinders(network\u001b[38;5;241m=\u001b[39mnet, pores\u001b[38;5;241m=\u001b[39mnet\u001b[38;5;241m.\u001b[39mPs, throats\u001b[38;5;241m=\u001b[39mnet\u001b[38;5;241m.\u001b[39mTs)\n",
      "\u001b[0;31mAttributeError\u001b[0m: module 'openpnm' has no attribute 'geometry'"
     ]
    }
   ],
   "source": [
    "geom = op.geometry.SpheresAndCylinders(network=net, pores=net.Ps, throats=net.Ts)"
   ]
  },
  {
   "cell_type": "markdown",
   "metadata": {},
   "source": [
    "## Adding phase\n",
    "Next, we need to add a phase to our simulation. A phase object(s) contain(s) thermophysical information about the working fluid(s) in the simulation. `OpenPNM` has tons of prebuilt phases as well! For this simulation, we use air as our working fluid."
   ]
  },
  {
   "cell_type": "code",
   "execution_count": 3,
   "metadata": {
    "execution": {
     "iopub.execute_input": "2022-09-07T19:26:18.059260Z",
     "iopub.status.busy": "2022-09-07T19:26:18.057851Z",
     "iopub.status.idle": "2022-09-07T19:26:18.075357Z",
     "shell.execute_reply": "2022-09-07T19:26:18.074555Z"
    }
   },
   "outputs": [
    {
     "ename": "AttributeError",
     "evalue": "module 'openpnm' has no attribute 'phases'",
     "output_type": "error",
     "traceback": [
      "\u001b[0;31m---------------------------------------------------------------------------\u001b[0m",
      "\u001b[0;31mAttributeError\u001b[0m                            Traceback (most recent call last)",
      "Cell \u001b[0;32mIn [3], line 1\u001b[0m\n\u001b[0;32m----> 1\u001b[0m air \u001b[38;5;241m=\u001b[39m \u001b[43mop\u001b[49m\u001b[38;5;241;43m.\u001b[39;49m\u001b[43mphases\u001b[49m\u001b[38;5;241m.\u001b[39mAir(network\u001b[38;5;241m=\u001b[39mnet)\n",
      "\u001b[0;31mAttributeError\u001b[0m: module 'openpnm' has no attribute 'phases'"
     ]
    }
   ],
   "source": [
    "air = op.phases.Air(network=net)"
   ]
  },
  {
   "cell_type": "markdown",
   "metadata": {},
   "source": [
    "## Adding physics\n",
    "Finally, we need to add a physics. A physics object contains information about the working fluid in the simulation that depend on the geometry of the network. A good example is diffusive conductance, which not only depends on the thermophysical properties of the working fluid, but also depends on the geometry of pores/throats."
   ]
  },
  {
   "cell_type": "code",
   "execution_count": 4,
   "metadata": {
    "execution": {
     "iopub.execute_input": "2022-09-07T19:26:18.080165Z",
     "iopub.status.busy": "2022-09-07T19:26:18.079887Z",
     "iopub.status.idle": "2022-09-07T19:26:18.103150Z",
     "shell.execute_reply": "2022-09-07T19:26:18.102264Z"
    }
   },
   "outputs": [
    {
     "ename": "AttributeError",
     "evalue": "module 'openpnm' has no attribute 'physics'",
     "output_type": "error",
     "traceback": [
      "\u001b[0;31m---------------------------------------------------------------------------\u001b[0m",
      "\u001b[0;31mAttributeError\u001b[0m                            Traceback (most recent call last)",
      "Cell \u001b[0;32mIn [4], line 1\u001b[0m\n\u001b[0;32m----> 1\u001b[0m phys_air \u001b[38;5;241m=\u001b[39m \u001b[43mop\u001b[49m\u001b[38;5;241;43m.\u001b[39;49m\u001b[43mphysics\u001b[49m\u001b[38;5;241m.\u001b[39mStandard(network\u001b[38;5;241m=\u001b[39mnet, phase\u001b[38;5;241m=\u001b[39mair, geometry\u001b[38;5;241m=\u001b[39mgeom)\n",
      "\u001b[0;31mAttributeError\u001b[0m: module 'openpnm' has no attribute 'physics'"
     ]
    }
   ],
   "source": [
    "phys_air = op.physics.Standard(network=net, phase=air, geometry=geom)"
   ]
  },
  {
   "cell_type": "markdown",
   "metadata": {},
   "source": [
    "# Performing Stokes flow"
   ]
  },
  {
   "cell_type": "markdown",
   "metadata": {},
   "source": [
    "Note that the advection diffusion algorithm assumes that velocity field is given. Naturally, we solve Stokes flow inside a pore network model to obtain the pressure field, and eventually the velocity field. Therefore, we need to run the `StokesFlow` algorithm prior to running our advection diffusion. There's a separate tutorial on how to run `StokesFlow` in `OpenPNM`, but here's a simple code snippet that does the job for us."
   ]
  },
  {
   "cell_type": "code",
   "execution_count": 5,
   "metadata": {
    "execution": {
     "iopub.execute_input": "2022-09-07T19:26:18.107062Z",
     "iopub.status.busy": "2022-09-07T19:26:18.106433Z",
     "iopub.status.idle": "2022-09-07T19:26:18.125428Z",
     "shell.execute_reply": "2022-09-07T19:26:18.124453Z"
    }
   },
   "outputs": [
    {
     "ename": "NameError",
     "evalue": "name 'air' is not defined",
     "output_type": "error",
     "traceback": [
      "\u001b[0;31m---------------------------------------------------------------------------\u001b[0m",
      "\u001b[0;31mNameError\u001b[0m                                 Traceback (most recent call last)",
      "Cell \u001b[0;32mIn [5], line 1\u001b[0m\n\u001b[0;32m----> 1\u001b[0m sf \u001b[38;5;241m=\u001b[39m op\u001b[38;5;241m.\u001b[39malgorithms\u001b[38;5;241m.\u001b[39mStokesFlow(network\u001b[38;5;241m=\u001b[39mnet, phase\u001b[38;5;241m=\u001b[39m\u001b[43mair\u001b[49m)\n\u001b[1;32m      2\u001b[0m sf\u001b[38;5;241m.\u001b[39mset_value_BC(pores\u001b[38;5;241m=\u001b[39mnet\u001b[38;5;241m.\u001b[39mpores(\u001b[38;5;124m'\u001b[39m\u001b[38;5;124mfront\u001b[39m\u001b[38;5;124m'\u001b[39m), values\u001b[38;5;241m=\u001b[39m\u001b[38;5;241m200.0\u001b[39m)\n\u001b[1;32m      3\u001b[0m sf\u001b[38;5;241m.\u001b[39mset_value_BC(pores\u001b[38;5;241m=\u001b[39mnet\u001b[38;5;241m.\u001b[39mpores(\u001b[38;5;124m'\u001b[39m\u001b[38;5;124mback\u001b[39m\u001b[38;5;124m'\u001b[39m), values\u001b[38;5;241m=\u001b[39m\u001b[38;5;241m0.0\u001b[39m)\n",
      "\u001b[0;31mNameError\u001b[0m: name 'air' is not defined"
     ]
    }
   ],
   "source": [
    "sf = op.algorithms.StokesFlow(network=net, phase=air)\n",
    "sf.set_value_BC(pores=net.pores('front'), values=200.0)\n",
    "sf.set_value_BC(pores=net.pores('back'), values=0.0)\n",
    "sf.run();"
   ]
  },
  {
   "cell_type": "markdown",
   "metadata": {},
   "source": [
    "It is essential that you attach the results from `StokesFlow` (i.e. pressure field) to the corresponding phase, since the results from any algorithm in `OpenPNM` are by default only attached to the algorithm object (in this case to `sf`). Here's how you can update your phase:"
   ]
  },
  {
   "cell_type": "code",
   "execution_count": 6,
   "metadata": {
    "execution": {
     "iopub.execute_input": "2022-09-07T19:26:18.128746Z",
     "iopub.status.busy": "2022-09-07T19:26:18.128515Z",
     "iopub.status.idle": "2022-09-07T19:26:18.145375Z",
     "shell.execute_reply": "2022-09-07T19:26:18.144649Z"
    }
   },
   "outputs": [
    {
     "ename": "NameError",
     "evalue": "name 'air' is not defined",
     "output_type": "error",
     "traceback": [
      "\u001b[0;31m---------------------------------------------------------------------------\u001b[0m",
      "\u001b[0;31mNameError\u001b[0m                                 Traceback (most recent call last)",
      "Cell \u001b[0;32mIn [6], line 1\u001b[0m\n\u001b[0;32m----> 1\u001b[0m \u001b[43mair\u001b[49m\u001b[38;5;241m.\u001b[39mupdate(sf\u001b[38;5;241m.\u001b[39mresults())\n",
      "\u001b[0;31mNameError\u001b[0m: name 'air' is not defined"
     ]
    }
   ],
   "source": [
    "air.update(sf.results())"
   ]
  },
  {
   "cell_type": "markdown",
   "metadata": {},
   "source": [
    "## Performing advection-diffusion"
   ]
  },
  {
   "cell_type": "markdown",
   "metadata": {},
   "source": [
    "Now that everything is set up, it's time to perform our advection-diffusion simulation. For this purpose, we need to add corresponding algorithm to our simulation. As mentioned above, `OpenPNM` supports 4 different discretizations that may be used with the `AdvectionDiffusion` and `Dispersion` algorithms.\n",
    "Setting the discretization scheme can be performed when defining the physics model as follows:"
   ]
  },
  {
   "cell_type": "code",
   "execution_count": 7,
   "metadata": {
    "execution": {
     "iopub.execute_input": "2022-09-07T19:26:18.148862Z",
     "iopub.status.busy": "2022-09-07T19:26:18.148632Z",
     "iopub.status.idle": "2022-09-07T19:26:18.164836Z",
     "shell.execute_reply": "2022-09-07T19:26:18.164103Z"
    }
   },
   "outputs": [
    {
     "ename": "NameError",
     "evalue": "name 'phys_air' is not defined",
     "output_type": "error",
     "traceback": [
      "\u001b[0;31m---------------------------------------------------------------------------\u001b[0m",
      "\u001b[0;31mNameError\u001b[0m                                 Traceback (most recent call last)",
      "Cell \u001b[0;32mIn [7], line 2\u001b[0m\n\u001b[1;32m      1\u001b[0m mod \u001b[38;5;241m=\u001b[39m op\u001b[38;5;241m.\u001b[39mmodels\u001b[38;5;241m.\u001b[39mphysics\u001b[38;5;241m.\u001b[39mad_dif_conductance\u001b[38;5;241m.\u001b[39mad_dif\n\u001b[0;32m----> 2\u001b[0m \u001b[43mphys_air\u001b[49m\u001b[38;5;241m.\u001b[39madd_model(propname\u001b[38;5;241m=\u001b[39m\u001b[38;5;124m'\u001b[39m\u001b[38;5;124mthroat.ad_dif_conductance\u001b[39m\u001b[38;5;124m'\u001b[39m, model\u001b[38;5;241m=\u001b[39mmod, s_scheme\u001b[38;5;241m=\u001b[39m\u001b[38;5;124m'\u001b[39m\u001b[38;5;124mpowerlaw\u001b[39m\u001b[38;5;124m'\u001b[39m)\n",
      "\u001b[0;31mNameError\u001b[0m: name 'phys_air' is not defined"
     ]
    }
   ],
   "source": [
    "mod = op.models.physics.ad_dif_conductance.ad_dif\n",
    "phys_air.add_model(propname='throat.ad_dif_conductance', model=mod, s_scheme='powerlaw')"
   ]
  },
  {
   "cell_type": "markdown",
   "metadata": {},
   "source": [
    "Then, the advection-diffusion algorithm is defined by:"
   ]
  },
  {
   "cell_type": "code",
   "execution_count": 8,
   "metadata": {
    "execution": {
     "iopub.execute_input": "2022-09-07T19:26:18.168349Z",
     "iopub.status.busy": "2022-09-07T19:26:18.167918Z",
     "iopub.status.idle": "2022-09-07T19:26:18.182316Z",
     "shell.execute_reply": "2022-09-07T19:26:18.181580Z"
    }
   },
   "outputs": [
    {
     "ename": "NameError",
     "evalue": "name 'air' is not defined",
     "output_type": "error",
     "traceback": [
      "\u001b[0;31m---------------------------------------------------------------------------\u001b[0m",
      "\u001b[0;31mNameError\u001b[0m                                 Traceback (most recent call last)",
      "Cell \u001b[0;32mIn [8], line 1\u001b[0m\n\u001b[0;32m----> 1\u001b[0m ad \u001b[38;5;241m=\u001b[39m op\u001b[38;5;241m.\u001b[39malgorithms\u001b[38;5;241m.\u001b[39mAdvectionDiffusion(network\u001b[38;5;241m=\u001b[39mnet, phase\u001b[38;5;241m=\u001b[39m\u001b[43mair\u001b[49m)\n",
      "\u001b[0;31mNameError\u001b[0m: name 'air' is not defined"
     ]
    }
   ],
   "source": [
    "ad = op.algorithms.AdvectionDiffusion(network=net, phase=air)"
   ]
  },
  {
   "cell_type": "markdown",
   "metadata": {},
   "source": [
    "Note that `network` and `phase` are required parameters for pretty much every algorithm we add, since we need to specify on which network and for which phase do we want to run the algorithm."
   ]
  },
  {
   "cell_type": "markdown",
   "metadata": {},
   "source": [
    "Note that you can also specify the discretization scheme by modifying the `settings` of our `AdvectionDiffusion` algorithm. You can choose between `upwind`, `hybrid`, `powerlaw`, and `exponential`.\n",
    "It is important to note that the scheme specified within the algorithm's settings is only used when calling the `rate` method for post processing."
   ]
  },
  {
   "cell_type": "markdown",
   "metadata": {},
   "source": [
    "## Adding boundary conditions\n",
    "Next, we need to add some boundary conditions to the simulation. By default, `OpenPNM` assumes zero flux for the boundary pores."
   ]
  },
  {
   "cell_type": "code",
   "execution_count": 9,
   "metadata": {
    "execution": {
     "iopub.execute_input": "2022-09-07T19:26:18.186069Z",
     "iopub.status.busy": "2022-09-07T19:26:18.185831Z",
     "iopub.status.idle": "2022-09-07T19:26:18.205431Z",
     "shell.execute_reply": "2022-09-07T19:26:18.203408Z"
    }
   },
   "outputs": [
    {
     "ename": "NameError",
     "evalue": "name 'ad' is not defined",
     "output_type": "error",
     "traceback": [
      "\u001b[0;31m---------------------------------------------------------------------------\u001b[0m",
      "\u001b[0;31mNameError\u001b[0m                                 Traceback (most recent call last)",
      "Cell \u001b[0;32mIn [9], line 3\u001b[0m\n\u001b[1;32m      1\u001b[0m inlet  \u001b[38;5;241m=\u001b[39m net\u001b[38;5;241m.\u001b[39mpores(\u001b[38;5;124m'\u001b[39m\u001b[38;5;124mfront\u001b[39m\u001b[38;5;124m'\u001b[39m) \n\u001b[1;32m      2\u001b[0m outlet \u001b[38;5;241m=\u001b[39m net\u001b[38;5;241m.\u001b[39mpores([\u001b[38;5;124m'\u001b[39m\u001b[38;5;124mback\u001b[39m\u001b[38;5;124m'\u001b[39m, \u001b[38;5;124m'\u001b[39m\u001b[38;5;124mtop\u001b[39m\u001b[38;5;124m'\u001b[39m, \u001b[38;5;124m'\u001b[39m\u001b[38;5;124mbottom\u001b[39m\u001b[38;5;124m'\u001b[39m])\n\u001b[0;32m----> 3\u001b[0m \u001b[43mad\u001b[49m\u001b[38;5;241m.\u001b[39mset_value_BC(pores\u001b[38;5;241m=\u001b[39minlet, values\u001b[38;5;241m=\u001b[39m\u001b[38;5;241m100.0\u001b[39m)\n\u001b[1;32m      4\u001b[0m ad\u001b[38;5;241m.\u001b[39mset_value_BC(pores\u001b[38;5;241m=\u001b[39moutlet, values\u001b[38;5;241m=\u001b[39m\u001b[38;5;241m0.0\u001b[39m)\n",
      "\u001b[0;31mNameError\u001b[0m: name 'ad' is not defined"
     ]
    }
   ],
   "source": [
    "inlet  = net.pores('front') \n",
    "outlet = net.pores(['back', 'top', 'bottom'])\n",
    "ad.set_value_BC(pores=inlet, values=100.0)\n",
    "ad.set_value_BC(pores=outlet, values=0.0)"
   ]
  },
  {
   "cell_type": "markdown",
   "metadata": {},
   "source": [
    "`set_value_BC` applies the so-called \"Dirichlet\" boundary condition to the specified pores. Note that unless you want to apply a single value to all of the specified pores (like we just did), you must pass a list (or `ndarray`) as the `values` parameter."
   ]
  },
  {
   "cell_type": "markdown",
   "metadata": {},
   "source": [
    "## Running the algorithm\n",
    "Now, it's time to run the algorithm. This is done by calling the `run` method attached to the algorithm object."
   ]
  },
  {
   "cell_type": "code",
   "execution_count": 10,
   "metadata": {
    "execution": {
     "iopub.execute_input": "2022-09-07T19:26:18.208750Z",
     "iopub.status.busy": "2022-09-07T19:26:18.208507Z",
     "iopub.status.idle": "2022-09-07T19:26:18.224062Z",
     "shell.execute_reply": "2022-09-07T19:26:18.223269Z"
    }
   },
   "outputs": [
    {
     "ename": "NameError",
     "evalue": "name 'ad' is not defined",
     "output_type": "error",
     "traceback": [
      "\u001b[0;31m---------------------------------------------------------------------------\u001b[0m",
      "\u001b[0;31mNameError\u001b[0m                                 Traceback (most recent call last)",
      "Cell \u001b[0;32mIn [10], line 1\u001b[0m\n\u001b[0;32m----> 1\u001b[0m \u001b[43mad\u001b[49m\u001b[38;5;241m.\u001b[39mrun()\n",
      "\u001b[0;31mNameError\u001b[0m: name 'ad' is not defined"
     ]
    }
   ],
   "source": [
    "ad.run();"
   ]
  },
  {
   "cell_type": "markdown",
   "metadata": {},
   "source": [
    "# Post processing\n",
    "When an algorithm is successfully run, the results are attached to the same object. To access the results, you need to know the quantity for which the algorithm was solving. For instance, `AdvectionDiffusion` solves for the quantity `pore.concentration`, which is somewhat intuitive. However, if you ever forget it, or wanted to manually check the quantity, you can take a look at the algorithm `settings`:"
   ]
  },
  {
   "cell_type": "code",
   "execution_count": 11,
   "metadata": {
    "execution": {
     "iopub.execute_input": "2022-09-07T19:26:18.227374Z",
     "iopub.status.busy": "2022-09-07T19:26:18.227133Z",
     "iopub.status.idle": "2022-09-07T19:26:18.246912Z",
     "shell.execute_reply": "2022-09-07T19:26:18.243017Z"
    }
   },
   "outputs": [
    {
     "ename": "NameError",
     "evalue": "name 'ad' is not defined",
     "output_type": "error",
     "traceback": [
      "\u001b[0;31m---------------------------------------------------------------------------\u001b[0m",
      "\u001b[0;31mNameError\u001b[0m                                 Traceback (most recent call last)",
      "Cell \u001b[0;32mIn [11], line 1\u001b[0m\n\u001b[0;32m----> 1\u001b[0m \u001b[38;5;28mprint\u001b[39m(\u001b[43mad\u001b[49m\u001b[38;5;241m.\u001b[39msettings)\n",
      "\u001b[0;31mNameError\u001b[0m: name 'ad' is not defined"
     ]
    }
   ],
   "source": [
    "print(ad.settings)"
   ]
  },
  {
   "cell_type": "markdown",
   "metadata": {},
   "source": [
    "Now that we know the quantity for which `AdvectionDiffusion` was solved, let's take a look at the results:"
   ]
  },
  {
   "cell_type": "code",
   "execution_count": 12,
   "metadata": {
    "execution": {
     "iopub.execute_input": "2022-09-07T19:26:18.250867Z",
     "iopub.status.busy": "2022-09-07T19:26:18.250576Z",
     "iopub.status.idle": "2022-09-07T19:26:18.266627Z",
     "shell.execute_reply": "2022-09-07T19:26:18.265873Z"
    }
   },
   "outputs": [
    {
     "ename": "NameError",
     "evalue": "name 'ad' is not defined",
     "output_type": "error",
     "traceback": [
      "\u001b[0;31m---------------------------------------------------------------------------\u001b[0m",
      "\u001b[0;31mNameError\u001b[0m                                 Traceback (most recent call last)",
      "Cell \u001b[0;32mIn [12], line 1\u001b[0m\n\u001b[0;32m----> 1\u001b[0m c \u001b[38;5;241m=\u001b[39m \u001b[43mad\u001b[49m[\u001b[38;5;124m'\u001b[39m\u001b[38;5;124mpore.concentration\u001b[39m\u001b[38;5;124m'\u001b[39m]\n",
      "\u001b[0;31mNameError\u001b[0m: name 'ad' is not defined"
     ]
    }
   ],
   "source": [
    "c = ad['pore.concentration']"
   ]
  },
  {
   "cell_type": "markdown",
   "metadata": {},
   "source": [
    "## Heatmap\n",
    "Since the network is 2d, we can simply reshape the results in form of a 2d array similar to the shape of the network and plot the heatmap of it using `matplotlib`."
   ]
  },
  {
   "cell_type": "code",
   "execution_count": 13,
   "metadata": {
    "execution": {
     "iopub.execute_input": "2022-09-07T19:26:18.270451Z",
     "iopub.status.busy": "2022-09-07T19:26:18.270162Z",
     "iopub.status.idle": "2022-09-07T19:26:18.289152Z",
     "shell.execute_reply": "2022-09-07T19:26:18.288076Z"
    }
   },
   "outputs": [
    {
     "name": "stdout",
     "output_type": "stream",
     "text": [
      "Network shape: [1, 20, 30]\n"
     ]
    },
    {
     "ename": "NameError",
     "evalue": "name 'c' is not defined",
     "output_type": "error",
     "traceback": [
      "\u001b[0;31m---------------------------------------------------------------------------\u001b[0m",
      "\u001b[0;31mNameError\u001b[0m                                 Traceback (most recent call last)",
      "Cell \u001b[0;32mIn [13], line 2\u001b[0m\n\u001b[1;32m      1\u001b[0m \u001b[38;5;28mprint\u001b[39m(\u001b[38;5;124m'\u001b[39m\u001b[38;5;124mNetwork shape:\u001b[39m\u001b[38;5;124m'\u001b[39m, shape)\n\u001b[0;32m----> 2\u001b[0m c2d \u001b[38;5;241m=\u001b[39m \u001b[43mc\u001b[49m\u001b[38;5;241m.\u001b[39mreshape(shape)\n",
      "\u001b[0;31mNameError\u001b[0m: name 'c' is not defined"
     ]
    }
   ],
   "source": [
    "print('Network shape:', shape)\n",
    "c2d = c.reshape(shape)"
   ]
  },
  {
   "cell_type": "code",
   "execution_count": 14,
   "metadata": {
    "execution": {
     "iopub.execute_input": "2022-09-07T19:26:18.292637Z",
     "iopub.status.busy": "2022-09-07T19:26:18.292359Z",
     "iopub.status.idle": "2022-09-07T19:26:18.309710Z",
     "shell.execute_reply": "2022-09-07T19:26:18.308792Z"
    }
   },
   "outputs": [
    {
     "ename": "NameError",
     "evalue": "name 'c2d' is not defined",
     "output_type": "error",
     "traceback": [
      "\u001b[0;31m---------------------------------------------------------------------------\u001b[0m",
      "\u001b[0;31mNameError\u001b[0m                                 Traceback (most recent call last)",
      "Cell \u001b[0;32mIn [14], line 2\u001b[0m\n\u001b[1;32m      1\u001b[0m \u001b[38;5;28;01mimport\u001b[39;00m \u001b[38;5;21;01mmatplotlib\u001b[39;00m\u001b[38;5;21;01m.\u001b[39;00m\u001b[38;5;21;01mpyplot\u001b[39;00m \u001b[38;5;28;01mas\u001b[39;00m \u001b[38;5;21;01mplt\u001b[39;00m\n\u001b[0;32m----> 2\u001b[0m plt\u001b[38;5;241m.\u001b[39mimshow(\u001b[43mc2d\u001b[49m[\u001b[38;5;241m0\u001b[39m,:,:]);\n\u001b[1;32m      3\u001b[0m plt\u001b[38;5;241m.\u001b[39mtitle(\u001b[38;5;124m'\u001b[39m\u001b[38;5;124mConcentration (mol/m$^3$)\u001b[39m\u001b[38;5;124m'\u001b[39m);\n\u001b[1;32m      4\u001b[0m plt\u001b[38;5;241m.\u001b[39mcolorbar()\n",
      "\u001b[0;31mNameError\u001b[0m: name 'c2d' is not defined"
     ]
    }
   ],
   "source": [
    "import matplotlib.pyplot as plt\n",
    "plt.imshow(c2d[0,:,:]);\n",
    "plt.title('Concentration (mol/m$^3$)');\n",
    "plt.colorbar();"
   ]
  }
 ],
 "metadata": {
  "@webio": {
   "lastCommId": null,
   "lastKernelId": null
  },
  "hide_input": false,
  "kernelspec": {
   "display_name": "Python 3",
   "language": "python",
   "name": "python3"
  },
  "language_info": {
   "codemirror_mode": {
    "name": "ipython",
    "version": 3
   },
   "file_extension": ".py",
   "mimetype": "text/x-python",
   "name": "python",
   "nbconvert_exporter": "python",
   "pygments_lexer": "ipython3",
   "version": "3.8.13"
  },
  "toc": {
   "base_numbering": 1,
   "nav_menu": {},
   "number_sections": true,
   "sideBar": true,
   "skip_h1_title": true,
   "title_cell": "Table of Contents",
   "title_sidebar": "Contents",
   "toc_cell": true,
   "toc_position": {},
   "toc_section_display": true,
   "toc_window_display": false
  }
 },
 "nbformat": 4,
 "nbformat_minor": 4
}
