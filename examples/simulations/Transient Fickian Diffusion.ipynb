{
 "cells": [
  {
   "cell_type": "markdown",
   "metadata": {},
   "source": [
    "# Transient Fickian Diffusion\n",
    "The package `OpenPNM` allows for the simulation of many transport phenomena in porous media such as Stokes flow, Fickian diffusion, advection-diffusion, transport of charged species, etc. Transient and steady-state simulations are both supported. An example of a transient Fickian diffusion simulation through a `Cubic` pore network is shown here."
   ]
  },
  {
   "cell_type": "markdown",
   "metadata": {},
   "source": [
    "First, `OpenPNM` is imported."
   ]
  },
  {
   "cell_type": "code",
   "execution_count": 62,
   "metadata": {},
   "outputs": [],
   "source": [
    "import openpnm as op"
   ]
  },
  {
   "cell_type": "markdown",
   "metadata": {},
   "source": [
    "## Define new workspace and project"
   ]
  },
  {
   "cell_type": "code",
   "execution_count": 63,
   "metadata": {},
   "outputs": [],
   "source": [
    "ws = op.Workspace()\n",
    "proj = ws.new_project()"
   ]
  },
  {
   "cell_type": "markdown",
   "metadata": {},
   "source": [
    "## Generate a pore network\n",
    "An arbitrary `Cubic` 3D pore network is generated consisting of a layer of $29\\times13$ pores with a constant pore to pore centers spacing of ${10}^{-5}{m}$."
   ]
  },
  {
   "cell_type": "code",
   "execution_count": 64,
   "metadata": {},
   "outputs": [],
   "source": [
    "net = op.network.Cubic(shape=[29, 13, 1], spacing=1e-5, project=proj)"
   ]
  },
  {
   "cell_type": "markdown",
   "metadata": {},
   "source": [
    "## Create a geometry\n",
    "Here, a geometry, corresponding to the created network, is created. The geometry contains information about the size of pores and throats in the network such as length and diameter, etc. `OpenPNM` has many prebuilt geometries that represent the microstructure of different materials such as Toray090 carbon papers, sand stone, electrospun fibers, etc. In this example, a simple geometry known as `StickAndBall` that assigns random diameter values to pores throats, with certain constraints, is used."
   ]
  },
  {
   "cell_type": "code",
   "execution_count": 65,
   "metadata": {},
   "outputs": [],
   "source": [
    "geo = op.geometry.StickAndBall(network=net, pores=net.Ps, throats=net.Ts)"
   ]
  },
  {
   "cell_type": "markdown",
   "metadata": {},
   "source": [
    "## Add a phase\n",
    "Then, a phase (water in this example) is added to the simulation and assigned to the network. The phase contains the physical properties of the fluid considered in the simulation such as the viscosity, etc. Many predefined phases as available on `OpenPNM`."
   ]
  },
  {
   "cell_type": "code",
   "execution_count": 66,
   "metadata": {},
   "outputs": [],
   "source": [
    "phase = op.phases.Water(network=net)"
   ]
  },
  {
   "cell_type": "markdown",
   "metadata": {},
   "source": [
    "## Add a physics\n",
    "Next, a physics object is defined. The physics object stores information about the different physical models used in the simulation and is assigned to specific network, geometry and phase objects. This ensures that the different physical models will only have access to information about the network, geometry and phase objects to which they are assigned. In fact, models (such as Stokes flow or Fickian diffusion) require information about the network (such as the connectivity between pores), the geometry (such as the pores and throats diameters), and the phase (such as the diffusivity coefficient)."
   ]
  },
  {
   "cell_type": "code",
   "execution_count": 67,
   "metadata": {},
   "outputs": [],
   "source": [
    "phys = op.physics.GenericPhysics(network=net, phase=phase, geometry=geo)"
   ]
  },
  {
   "cell_type": "markdown",
   "metadata": {},
   "source": [
    "The diffusivity coefficient of the considered chemical species in water is also defined."
   ]
  },
  {
   "cell_type": "code",
   "execution_count": 68,
   "metadata": {},
   "outputs": [],
   "source": [
    "phase['pore.diffusivity'] = 2e-09"
   ]
  },
  {
   "cell_type": "markdown",
   "metadata": {},
   "source": [
    "## Defining a new model\n",
    "The physical model, consisting of Fickian diffusion, is defined and attached to the physics object previously defined."
   ]
  },
  {
   "cell_type": "code",
   "execution_count": 69,
   "metadata": {},
   "outputs": [],
   "source": [
    "mod = op.models.physics.diffusive_conductance.ordinary_diffusion\n",
    "phys.add_model(propname='throat.diffusive_conductance', model=mod, regen_mode='normal')"
   ]
  },
  {
   "cell_type": "markdown",
   "metadata": {},
   "source": [
    "## Define a transient Fickian diffusion algorithm\n",
    "Here, an algorithm for the simulation of transient Fickian diffusion is defined. It is assigned to the network and phase of interest to be able to retrieve all the information needed to build systems of linear equations."
   ]
  },
  {
   "cell_type": "code",
   "execution_count": 70,
   "metadata": {},
   "outputs": [],
   "source": [
    "fd = op.algorithms.TransientFickianDiffusion(network=net, phase=phase)"
   ]
  },
  {
   "cell_type": "markdown",
   "metadata": {},
   "source": [
    "## Add boundary conditions\n",
    "Next, Dirichlet boundary conditions are added over the front and back boundaries of the network."
   ]
  },
  {
   "cell_type": "code",
   "execution_count": 71,
   "metadata": {},
   "outputs": [],
   "source": [
    "fd.set_value_BC(pores=net.pores('front'), values=0.5)\n",
    "fd.set_value_BC(pores=net.pores('back'), values=0.2)"
   ]
  },
  {
   "cell_type": "markdown",
   "metadata": {},
   "source": [
    "## Define initial conditions\n",
    "Initial conditions (optional) can also be specified. If they are not defined, a zero concentration is assumed at the beginning of the transient simulation."
   ]
  },
  {
   "cell_type": "code",
   "execution_count": 72,
   "metadata": {},
   "outputs": [],
   "source": [
    "fd.set_IC(0.2)"
   ]
  },
  {
   "cell_type": "markdown",
   "metadata": {},
   "source": [
    "Note that both `set_value_BC` and `set_IC` also accept as input, in addition to a single scalar value, an `ndarray`."
   ]
  },
  {
   "cell_type": "markdown",
   "metadata": {},
   "source": [
    "## Setup the transient algorithm settings\n",
    "The settings of the transient algorithm are updated here. This step is optional as default settings are predefined. It is, however, important to update these settings on each new simulation as the time-scale of different phenomena in different problems may strongly differ.\n",
    "Here, the time discretization scheme is set to `cranknicolson`, which is second-order accurate in time. The two other options supported in `OpenPNM` are the `implicit` scheme (only first order accurate but faster than the `cranknicolson`) and the `steady` which simply corresponds to a steady-state simulation.\n",
    "Other parameters are also set; the final time step `t_final`, the output time stepping `t_output`, the computational time step `t_step`, and the tolerance to be achieved before reaching steady-state `t_tolerance`."
   ]
  },
  {
   "cell_type": "code",
   "execution_count": 73,
   "metadata": {},
   "outputs": [],
   "source": [
    "fd.setup(t_scheme='cranknicolson', t_final=100, t_output=5, t_step=1, t_tolerance=1e-12)"
   ]
  },
  {
   "cell_type": "markdown",
   "metadata": {},
   "source": [
    "Note that the output time stepping `t_output` may a `scalar`, `ND-array`, or `list`. For a scalar, it is considered as an output interval. If `t_output` > `t_final`, no transient data is stored. If `t_output` is not a multiple of `t_step`, `t_output` will be approximated. When `t_output` is a `list` or `ND-array`, transient solutions corresponding to this list or array will be stored. Finally, initial, final and steady-state (if reached) solutions are always stored."
   ]
  },
  {
   "cell_type": "markdown",
   "metadata": {},
   "source": [
    "## Print the algorithm settings\n",
    "One can print the algorithm's settings as shown here."
   ]
  },
  {
   "cell_type": "code",
   "execution_count": 74,
   "metadata": {},
   "outputs": [
    {
     "name": "stdout",
     "output_type": "stream",
     "text": [
      "――――――――――――――――――――――――――――――――――――――――――――――――――――――――――――――――――――――――――――――\n",
      "key                                 value\n",
      "――――――――――――――――――――――――――――――――――――――――――――――――――――――――――――――――――――――――――――――\n",
      "phase                               phase_01\n",
      "conductance                         throat.diffusive_conductance\n",
      "quantity                            pore.concentration\n",
      "solver_family                       scipy\n",
      "solver_type                         spsolve\n",
      "solver_preconditioner               jacobi\n",
      "solver_atol                         1e-06\n",
      "solver_rtol                         1e-06\n",
      "solver_maxiter                      5000\n",
      "gui                                 {'setup': {'phase': None, 'quantity': '', 'conductance': '', 't_initial': None, 't_final': None, 't_step': None, 't_output': None, 't_tolerance': None, 't_scheme': ''}, 'set_IC': {'values': None}, 'set_rate_BC': {'pores': None, 'values': None}, 'set_value_BC': {'pores': None, 'values': None}, 'set_source': {'pores': None, 'propname': ''}}\n",
      "prefix                              alg\n",
      "sources                             []\n",
      "rxn_tolerance                       1e-05\n",
      "max_iter                            5000\n",
      "relaxation_source                   1\n",
      "relaxation_quantity                 1\n",
      "t_initial                           0\n",
      "t_final                             100\n",
      "t_step                              1\n",
      "t_output                            5\n",
      "t_tolerance                         1e-12\n",
      "t_precision                         12\n",
      "t_scheme                            cranknicolson\n",
      "――――――――――――――――――――――――――――――――――――――――――――――――――――――――――――――――――――――――――――――\n"
     ]
    }
   ],
   "source": [
    "print(fd.settings)"
   ]
  },
  {
   "cell_type": "markdown",
   "metadata": {},
   "source": [
    "Note that the `quantity` corresponds to the quantity solved for."
   ]
  },
  {
   "cell_type": "markdown",
   "metadata": {},
   "source": [
    "## Run the algorithm\n",
    "The algorithm is run here."
   ]
  },
  {
   "cell_type": "code",
   "execution_count": 75,
   "metadata": {},
   "outputs": [],
   "source": [
    "fd.run()"
   ]
  },
  {
   "cell_type": "markdown",
   "metadata": {},
   "source": [
    "## Post process and export the results\n",
    "Once the simulation is successfully performed. The solution at every time steps is stored within the algorithm object. The algorithm's stored information is printed here."
   ]
  },
  {
   "cell_type": "code",
   "execution_count": 76,
   "metadata": {},
   "outputs": [
    {
     "name": "stdout",
     "output_type": "stream",
     "text": [
      "――――――――――――――――――――――――――――――――――――――――――――――――――――――――――――――――――――――――――――――\n",
      "openpnm.algorithms.TransientFickianDiffusion : alg_01\n",
      "――――――――――――――――――――――――――――――――――――――――――――――――――――――――――――――――――――――――――――――\n",
      "#     Properties                                    Valid Values\n",
      "――――――――――――――――――――――――――――――――――――――――――――――――――――――――――――――――――――――――――――――\n",
      "1     pore.bc_rate                                      0 / 377  \n",
      "2     pore.bc_value                                    26 / 377  \n",
      "3     pore.concentration                              377 / 377  \n",
      "4     pore.concentration@0                            377 / 377  \n",
      "5     pore.concentration@10                           377 / 377  \n",
      "6     pore.concentration@15                           377 / 377  \n",
      "7     pore.concentration@20                           377 / 377  \n",
      "8     pore.concentration@24                           377 / 377  \n",
      "9     pore.concentration@5                            377 / 377  \n",
      "――――――――――――――――――――――――――――――――――――――――――――――――――――――――――――――――――――――――――――――\n",
      "#     Labels                                        Assigned Locations\n",
      "――――――――――――――――――――――――――――――――――――――――――――――――――――――――――――――――――――――――――――――\n",
      "1     pore.all                                      377       \n",
      "2     throat.all                                    712       \n",
      "――――――――――――――――――――――――――――――――――――――――――――――――――――――――――――――――――――――――――――――\n"
     ]
    }
   ],
   "source": [
    "print(fd)"
   ]
  },
  {
   "cell_type": "markdown",
   "metadata": {},
   "source": [
    "Note that the solutions at every exported time step contain the `@` character followed by the time value. Here the solution is exported after each $5s$ in addition to the final time step which is not a multiple of $5$ in this example."
   ]
  },
  {
   "cell_type": "markdown",
   "metadata": {},
   "source": [
    "To print the solution at $t=10s$"
   ]
  },
  {
   "cell_type": "code",
   "execution_count": 77,
   "metadata": {},
   "outputs": [
    {
     "data": {
      "text/plain": [
       "array([0.5       , 0.5       , 0.5       , 0.5       , 0.5       ,\n",
       "       0.5       , 0.5       , 0.5       , 0.5       , 0.5       ,\n",
       "       0.5       , 0.5       , 0.5       , 0.4984982 , 0.49814675,\n",
       "       0.49846735, 0.49856286, 0.4981139 , 0.4964155 , 0.4886896 ,\n",
       "       0.48102598, 0.48416864, 0.48830192, 0.48560781, 0.49146657,\n",
       "       0.48580612, 0.48348731, 0.48604382, 0.48686971, 0.48621842,\n",
       "       0.48353448, 0.48311389, 0.47625862, 0.47557066, 0.47435415,\n",
       "       0.47246231, 0.46599554, 0.46989762, 0.46467803, 0.46749955,\n",
       "       0.47274625, 0.47385208, 0.47018697, 0.46848435, 0.46899295,\n",
       "       0.46830977, 0.468355  , 0.46855372, 0.46346428, 0.45961356,\n",
       "       0.45842302, 0.45934409, 0.4634876 , 0.45659813, 0.45485712,\n",
       "       0.45486208, 0.45676722, 0.45669195, 0.45864204, 0.45823594,\n",
       "       0.4563096 , 0.45319523, 0.45254586, 0.45189366, 0.45228951,\n",
       "       0.44283846, 0.43484495, 0.43591008, 0.44086505, 0.44593587,\n",
       "       0.44803733, 0.45038373, 0.44688443, 0.4424584 , 0.4413335 ,\n",
       "       0.4434582 , 0.44459102, 0.44506704, 0.42406151, 0.42663589,\n",
       "       0.42825005, 0.42817711, 0.43362876, 0.43560748, 0.43725858,\n",
       "       0.43507353, 0.43392794, 0.43283253, 0.43464293, 0.43613125,\n",
       "       0.43640342, 0.4053058 , 0.40754752, 0.40922597, 0.41916666,\n",
       "       0.41681582, 0.4241725 , 0.42103541, 0.42111003, 0.42261966,\n",
       "       0.42712278, 0.4283408 , 0.42871545, 0.42853423, 0.38326751,\n",
       "       0.3812999 , 0.37627667, 0.38758812, 0.39370155, 0.40053316,\n",
       "       0.40428367, 0.40827414, 0.40852983, 0.4165806 , 0.41802719,\n",
       "       0.41488913, 0.41451904, 0.36086553, 0.35983494, 0.35796368,\n",
       "       0.36081976, 0.37011795, 0.37547075, 0.38299087, 0.38441826,\n",
       "       0.39068367, 0.38964288, 0.3907378 , 0.39723497, 0.39852492,\n",
       "       0.34528997, 0.34742223, 0.34493713, 0.34801697, 0.35276838,\n",
       "       0.3553178 , 0.3602198 , 0.35575701, 0.36306344, 0.35972575,\n",
       "       0.36017581, 0.37054129, 0.37367017, 0.33009792, 0.33461047,\n",
       "       0.3372743 , 0.33389055, 0.33647795, 0.33705938, 0.33930409,\n",
       "       0.34408603, 0.34879362, 0.35144501, 0.35290843, 0.35369361,\n",
       "       0.35241638, 0.32556539, 0.32388898, 0.32709074, 0.32432494,\n",
       "       0.3207663 , 0.31826647, 0.31873857, 0.32478193, 0.33019554,\n",
       "       0.33313265, 0.33430531, 0.33411557, 0.34271049, 0.3196057 ,\n",
       "       0.3180315 , 0.31652953, 0.31708307, 0.31276841, 0.31086057,\n",
       "       0.31140242, 0.31281624, 0.31320741, 0.31340149, 0.31133988,\n",
       "       0.30636715, 0.31407447, 0.30810756, 0.30666625, 0.30433561,\n",
       "       0.30623678, 0.30432323, 0.30576768, 0.30487811, 0.30609426,\n",
       "       0.30658511, 0.30363456, 0.29959791, 0.30003967, 0.29776738,\n",
       "       0.2975186 , 0.29838823, 0.2984957 , 0.29914889, 0.29929415,\n",
       "       0.29948905, 0.30007706, 0.29950199, 0.29818134, 0.29495946,\n",
       "       0.29242268, 0.29231044, 0.29401671, 0.2882579 , 0.28939345,\n",
       "       0.28937396, 0.28950836, 0.29139854, 0.29037266, 0.29534623,\n",
       "       0.29456345, 0.29196079, 0.28524918, 0.28404547, 0.28183165,\n",
       "       0.28385026, 0.28005152, 0.28047769, 0.2801959 , 0.27644521,\n",
       "       0.27682918, 0.27496267, 0.27825573, 0.27841417, 0.27634765,\n",
       "       0.2716806 , 0.275223  , 0.2752691 , 0.27588752, 0.27273717,\n",
       "       0.26961325, 0.26971922, 0.26458542, 0.26438883, 0.26394781,\n",
       "       0.26319291, 0.26322491, 0.26300795, 0.26566623, 0.26887297,\n",
       "       0.26881859, 0.26963675, 0.25833434, 0.25638696, 0.25772773,\n",
       "       0.25826537, 0.25821373, 0.25914973, 0.25860505, 0.25817183,\n",
       "       0.25793669, 0.25681897, 0.25869543, 0.26354652, 0.25760641,\n",
       "       0.24677551, 0.24834047, 0.24785123, 0.25189352, 0.25186623,\n",
       "       0.25214697, 0.25123801, 0.25000778, 0.2481845 , 0.24811632,\n",
       "       0.24537053, 0.246795  , 0.24173844, 0.24122585, 0.24127054,\n",
       "       0.24185472, 0.2438035 , 0.24561066, 0.24534948, 0.2440388 ,\n",
       "       0.24244162, 0.23840314, 0.23951056, 0.23735896, 0.23628177,\n",
       "       0.23691977, 0.23341801, 0.23455502, 0.23682201, 0.23712113,\n",
       "       0.23972953, 0.24015296, 0.23961938, 0.23682836, 0.23454319,\n",
       "       0.23255861, 0.23089654, 0.23126466, 0.23172655, 0.2263564 ,\n",
       "       0.22695253, 0.23057656, 0.23392274, 0.23413838, 0.23557269,\n",
       "       0.23638304, 0.23034542, 0.22866564, 0.22792033, 0.2273684 ,\n",
       "       0.2267105 , 0.22696518, 0.22107429, 0.22169187, 0.22422458,\n",
       "       0.22631148, 0.22688584, 0.2263034 , 0.22524691, 0.2210729 ,\n",
       "       0.22287973, 0.22331926, 0.22396573, 0.22368647, 0.22366825,\n",
       "       0.21480368, 0.21533472, 0.21695746, 0.21902011, 0.21997   ,\n",
       "       0.21869683, 0.21695384, 0.21756051, 0.21791857, 0.21947665,\n",
       "       0.22045767, 0.22049163, 0.21819899, 0.21218627, 0.21083374,\n",
       "       0.21001014, 0.21177325, 0.21575372, 0.21458812, 0.21303337,\n",
       "       0.21249188, 0.2123982 , 0.21336087, 0.21223122, 0.21134061,\n",
       "       0.20961092, 0.20725471, 0.20658017, 0.20585358, 0.2038557 ,\n",
       "       0.206747  , 0.20709596, 0.20685876, 0.20693974, 0.2087697 ,\n",
       "       0.20656794, 0.20365272, 0.20395677, 0.20548858, 0.2       ,\n",
       "       0.2       , 0.2       , 0.2       , 0.2       , 0.2       ,\n",
       "       0.2       , 0.2       , 0.2       , 0.2       , 0.2       ,\n",
       "       0.2       , 0.2       ])"
      ]
     },
     "execution_count": 77,
     "metadata": {},
     "output_type": "execute_result"
    }
   ],
   "source": [
    "fd['pore.concentration@10']"
   ]
  },
  {
   "cell_type": "markdown",
   "metadata": {},
   "source": [
    "The solution is here stored in the phase before export."
   ]
  },
  {
   "cell_type": "code",
   "execution_count": 78,
   "metadata": {},
   "outputs": [],
   "source": [
    "phase.update(fd.results())"
   ]
  },
  {
   "cell_type": "markdown",
   "metadata": {},
   "source": [
    "Export the results into an `xdmf` file to be able to play an animation of the time dependent concentration on `Paraview`."
   ]
  },
  {
   "cell_type": "code",
   "execution_count": 79,
   "metadata": {},
   "outputs": [],
   "source": [
    "proj.export_data(phases=[phase], filename='OUT', filetype='xdmf')"
   ]
  },
  {
   "cell_type": "markdown",
   "metadata": {},
   "source": [
    "## Visialization using Matplotlib\n",
    "One can perform post processing and visualization using the exported files on an external software such as `Paraview`. Additionally, the `Pyhton` library `Matplotlib` can be used as shown here to plot the concentration color map at steady-state."
   ]
  },
  {
   "cell_type": "code",
   "execution_count": 80,
   "metadata": {},
   "outputs": [
    {
     "data": {
      "text/plain": [
       "<matplotlib.colorbar.Colorbar at 0x7fdf49514358>"
      ]
     },
     "execution_count": 80,
     "metadata": {},
     "output_type": "execute_result"
    },
    {
     "data": {
      "image/png": "[encoded data removed]",
      "text/plain": [
       "<Figure size 432x288 with 2 Axes>"
      ]
     },
     "metadata": {},
     "output_type": "display_data"
    }
   ],
   "source": [
    "import matplotlib.pyplot as plt\n",
    "c = fd['pore.concentration'].reshape((net._shape))\n",
    "plt.imshow(c[:,:,0])\n",
    "plt.title('Concentration (mol/m$^3$)')\n",
    "plt.colorbar()"
   ]
  }
 ],
 "metadata": {
  "kernelspec": {
   "display_name": "Python 3",
   "language": "python",
   "name": "python3"
  },
  "language_info": {
   "codemirror_mode": {
    "name": "ipython",
    "version": 3
   },
   "file_extension": ".py",
   "mimetype": "text/x-python",
   "name": "python",
   "nbconvert_exporter": "python",
   "pygments_lexer": "ipython3",
   "version": "3.6.8"
  }
 },
 "nbformat": 4,
 "nbformat_minor": 2
}
