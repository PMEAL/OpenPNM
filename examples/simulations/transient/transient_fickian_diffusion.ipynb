{
 "cells": [
  {
   "cell_type": "markdown",
   "metadata": {},
   "source": [
    "# Transient Fickian Diffusion\n",
    "The package `OpenPNM` allows for the simulation of many transport phenomena in porous media such as Stokes flow, Fickian diffusion, advection-diffusion, transport of charged species, etc. Transient and steady-state simulations are both supported. An example of a transient Fickian diffusion simulation through a `Cubic` pore network is shown here."
   ]
  },
  {
   "cell_type": "markdown",
   "metadata": {},
   "source": [
    "First, `OpenPNM` is imported."
   ]
  },
  {
   "cell_type": "code",
   "execution_count": 1,
   "metadata": {
    "execution": {
     "iopub.execute_input": "2022-09-07T19:27:34.119719Z",
     "iopub.status.busy": "2022-09-07T19:27:34.119414Z",
     "iopub.status.idle": "2022-09-07T19:27:35.885578Z",
     "shell.execute_reply": "2022-09-07T19:27:35.884560Z"
    }
   },
   "outputs": [],
   "source": [
    "import numpy as np\n",
    "import openpnm as op\n",
    "%config InlineBackend.figure_formats = ['svg']\n",
    "np.random.seed(10)\n",
    "%matplotlib inline\n",
    "np.set_printoptions(precision=5)"
   ]
  },
  {
   "cell_type": "markdown",
   "metadata": {},
   "source": [
    "## Define new workspace and project"
   ]
  },
  {
   "cell_type": "code",
   "execution_count": 2,
   "metadata": {
    "execution": {
     "iopub.execute_input": "2022-09-07T19:27:35.891111Z",
     "iopub.status.busy": "2022-09-07T19:27:35.890325Z",
     "iopub.status.idle": "2022-09-07T19:27:35.895249Z",
     "shell.execute_reply": "2022-09-07T19:27:35.894426Z"
    }
   },
   "outputs": [],
   "source": [
    "ws = op.Workspace()\n",
    "ws.settings[\"loglevel\"] = 40\n",
    "proj = ws.new_project()"
   ]
  },
  {
   "cell_type": "markdown",
   "metadata": {},
   "source": [
    "## Generate a pore network\n",
    "An arbitrary `Cubic` 3D pore network is generated consisting of a layer of $29\\times13$ pores with a constant pore to pore centers spacing of ${10}^{-4}{m}$."
   ]
  },
  {
   "cell_type": "code",
   "execution_count": 3,
   "metadata": {
    "execution": {
     "iopub.execute_input": "2022-09-07T19:27:35.899347Z",
     "iopub.status.busy": "2022-09-07T19:27:35.898735Z",
     "iopub.status.idle": "2022-09-07T19:27:36.715264Z",
     "shell.execute_reply": "2022-09-07T19:27:36.714451Z"
    }
   },
   "outputs": [
    {
     "ename": "TypeError",
     "evalue": "__init__() got an unexpected keyword argument 'project'",
     "output_type": "error",
     "traceback": [
      "\u001b[0;31m---------------------------------------------------------------------------\u001b[0m",
      "\u001b[0;31mTypeError\u001b[0m                                 Traceback (most recent call last)",
      "Cell \u001b[0;32mIn [3], line 2\u001b[0m\n\u001b[1;32m      1\u001b[0m shape \u001b[38;5;241m=\u001b[39m [\u001b[38;5;241m13\u001b[39m, \u001b[38;5;241m29\u001b[39m, \u001b[38;5;241m1\u001b[39m]\n\u001b[0;32m----> 2\u001b[0m net \u001b[38;5;241m=\u001b[39m \u001b[43mop\u001b[49m\u001b[38;5;241;43m.\u001b[39;49m\u001b[43mnetwork\u001b[49m\u001b[38;5;241;43m.\u001b[39;49m\u001b[43mCubic\u001b[49m\u001b[43m(\u001b[49m\u001b[43mshape\u001b[49m\u001b[38;5;241;43m=\u001b[39;49m\u001b[43mshape\u001b[49m\u001b[43m,\u001b[49m\u001b[43m \u001b[49m\u001b[43mspacing\u001b[49m\u001b[38;5;241;43m=\u001b[39;49m\u001b[38;5;241;43m1e-4\u001b[39;49m\u001b[43m,\u001b[49m\u001b[43m \u001b[49m\u001b[43mproject\u001b[49m\u001b[38;5;241;43m=\u001b[39;49m\u001b[43mproj\u001b[49m\u001b[43m)\u001b[49m\n",
      "File \u001b[0;32m~/work/OpenPNM/OpenPNM/openpnm/network/_cubic.py:61\u001b[0m, in \u001b[0;36mCubic.__init__\u001b[0;34m(self, shape, spacing, connectivity, **kwargs)\u001b[0m\n\u001b[1;32m     60\u001b[0m \u001b[38;5;28;01mdef\u001b[39;00m \u001b[38;5;21m__init__\u001b[39m(\u001b[38;5;28mself\u001b[39m, shape, spacing\u001b[38;5;241m=\u001b[39m[\u001b[38;5;241m1\u001b[39m, \u001b[38;5;241m1\u001b[39m, \u001b[38;5;241m1\u001b[39m], connectivity\u001b[38;5;241m=\u001b[39m\u001b[38;5;241m6\u001b[39m, \u001b[38;5;241m*\u001b[39m\u001b[38;5;241m*\u001b[39mkwargs):\n\u001b[0;32m---> 61\u001b[0m     \u001b[38;5;28;43msuper\u001b[39;49m\u001b[43m(\u001b[49m\u001b[43m)\u001b[49m\u001b[38;5;241;43m.\u001b[39;49m\u001b[38;5;21;43m__init__\u001b[39;49m\u001b[43m(\u001b[49m\u001b[38;5;241;43m*\u001b[39;49m\u001b[38;5;241;43m*\u001b[39;49m\u001b[43mkwargs\u001b[49m\u001b[43m)\u001b[49m\n\u001b[1;32m     62\u001b[0m     net \u001b[38;5;241m=\u001b[39m skgr\u001b[38;5;241m.\u001b[39mgenerators\u001b[38;5;241m.\u001b[39mcubic(shape\u001b[38;5;241m=\u001b[39mshape, spacing\u001b[38;5;241m=\u001b[39mspacing,\n\u001b[1;32m     63\u001b[0m                                 connectivity\u001b[38;5;241m=\u001b[39mconnectivity,\n\u001b[1;32m     64\u001b[0m                                 node_prefix\u001b[38;5;241m=\u001b[39m\u001b[38;5;124m'\u001b[39m\u001b[38;5;124mpore\u001b[39m\u001b[38;5;124m'\u001b[39m, edge_prefix\u001b[38;5;241m=\u001b[39m\u001b[38;5;124m'\u001b[39m\u001b[38;5;124mthroat\u001b[39m\u001b[38;5;124m'\u001b[39m)\n\u001b[1;32m     65\u001b[0m     \u001b[38;5;28mself\u001b[39m\u001b[38;5;241m.\u001b[39mupdate(net)\n",
      "File \u001b[0;32m~/work/OpenPNM/OpenPNM/openpnm/network/_network.py:94\u001b[0m, in \u001b[0;36mNetwork.__init__\u001b[0;34m(self, conns, coords, name, **kwargs)\u001b[0m\n\u001b[1;32m     93\u001b[0m \u001b[38;5;28;01mdef\u001b[39;00m \u001b[38;5;21m__init__\u001b[39m(\u001b[38;5;28mself\u001b[39m, conns\u001b[38;5;241m=\u001b[39m\u001b[38;5;28;01mNone\u001b[39;00m, coords\u001b[38;5;241m=\u001b[39m\u001b[38;5;28;01mNone\u001b[39;00m, name\u001b[38;5;241m=\u001b[39m\u001b[38;5;124m'\u001b[39m\u001b[38;5;124mnet\u001b[39m\u001b[38;5;124m'\u001b[39m, \u001b[38;5;241m*\u001b[39m\u001b[38;5;241m*\u001b[39mkwargs):\n\u001b[0;32m---> 94\u001b[0m     \u001b[38;5;28;43msuper\u001b[39;49m\u001b[43m(\u001b[49m\u001b[43m)\u001b[49m\u001b[38;5;241;43m.\u001b[39;49m\u001b[38;5;21;43m__init__\u001b[39;49m\u001b[43m(\u001b[49m\u001b[43mname\u001b[49m\u001b[38;5;241;43m=\u001b[39;49m\u001b[43mname\u001b[49m\u001b[43m,\u001b[49m\u001b[43m \u001b[49m\u001b[38;5;241;43m*\u001b[39;49m\u001b[38;5;241;43m*\u001b[39;49m\u001b[43mkwargs\u001b[49m\u001b[43m)\u001b[49m\n\u001b[1;32m     95\u001b[0m     \u001b[38;5;28mself\u001b[39m\u001b[38;5;241m.\u001b[39msettings\u001b[38;5;241m.\u001b[39m_update(NetworkSettings())\n\u001b[1;32m     96\u001b[0m     \u001b[38;5;28mself\u001b[39m\u001b[38;5;241m.\u001b[39m_am \u001b[38;5;241m=\u001b[39m {}\n",
      "File \u001b[0;32m~/work/OpenPNM/OpenPNM/openpnm/core/_base2.py:463\u001b[0m, in \u001b[0;36mModelMixin2.__init__\u001b[0;34m(self, *args, **kwargs)\u001b[0m\n\u001b[1;32m    462\u001b[0m \u001b[38;5;28;01mdef\u001b[39;00m \u001b[38;5;21m__init__\u001b[39m(\u001b[38;5;28mself\u001b[39m, \u001b[38;5;241m*\u001b[39margs, \u001b[38;5;241m*\u001b[39m\u001b[38;5;241m*\u001b[39mkwargs):\n\u001b[0;32m--> 463\u001b[0m     \u001b[38;5;28;43msuper\u001b[39;49m\u001b[43m(\u001b[49m\u001b[43m)\u001b[49m\u001b[38;5;241;43m.\u001b[39;49m\u001b[38;5;21;43m__init__\u001b[39;49m\u001b[43m(\u001b[49m\u001b[38;5;241;43m*\u001b[39;49m\u001b[43margs\u001b[49m\u001b[43m,\u001b[49m\u001b[43m \u001b[49m\u001b[38;5;241;43m*\u001b[39;49m\u001b[38;5;241;43m*\u001b[39;49m\u001b[43mkwargs\u001b[49m\u001b[43m)\u001b[49m\n\u001b[1;32m    464\u001b[0m     \u001b[38;5;28mself\u001b[39m\u001b[38;5;241m.\u001b[39mmodels \u001b[38;5;241m=\u001b[39m ModelsDict()\n",
      "\u001b[0;31mTypeError\u001b[0m: __init__() got an unexpected keyword argument 'project'"
     ]
    }
   ],
   "source": [
    "shape = [13, 29, 1]\n",
    "net = op.network.Cubic(shape=shape, spacing=1e-4, project=proj)"
   ]
  },
  {
   "cell_type": "markdown",
   "metadata": {},
   "source": [
    "## Create a geometry\n",
    "Here, a geometry, corresponding to the created network, is created. The geometry contains information about the size of pores and throats in the network such as length and diameter, etc. `OpenPNM` has many prebuilt geometries that represent the microstructure of different materials such as Toray090 carbon papers, sand stone, electrospun fibers, etc. In this example, a simple geometry known as `SpheresAndCylinders` that assigns random diameter values to pores throats, with certain constraints, is used."
   ]
  },
  {
   "cell_type": "code",
   "execution_count": 4,
   "metadata": {
    "execution": {
     "iopub.execute_input": "2022-09-07T19:27:36.719456Z",
     "iopub.status.busy": "2022-09-07T19:27:36.719211Z",
     "iopub.status.idle": "2022-09-07T19:27:36.734876Z",
     "shell.execute_reply": "2022-09-07T19:27:36.734039Z"
    }
   },
   "outputs": [
    {
     "ename": "AttributeError",
     "evalue": "module 'openpnm' has no attribute 'geometry'",
     "output_type": "error",
     "traceback": [
      "\u001b[0;31m---------------------------------------------------------------------------\u001b[0m",
      "\u001b[0;31mAttributeError\u001b[0m                            Traceback (most recent call last)",
      "Cell \u001b[0;32mIn [4], line 1\u001b[0m\n\u001b[0;32m----> 1\u001b[0m geo \u001b[38;5;241m=\u001b[39m \u001b[43mop\u001b[49m\u001b[38;5;241;43m.\u001b[39;49m\u001b[43mgeometry\u001b[49m\u001b[38;5;241m.\u001b[39mSpheresAndCylinders(network\u001b[38;5;241m=\u001b[39mnet, pores\u001b[38;5;241m=\u001b[39mnet\u001b[38;5;241m.\u001b[39mPs, throats\u001b[38;5;241m=\u001b[39mnet\u001b[38;5;241m.\u001b[39mTs)\n",
      "\u001b[0;31mAttributeError\u001b[0m: module 'openpnm' has no attribute 'geometry'"
     ]
    }
   ],
   "source": [
    "geo = op.geometry.SpheresAndCylinders(network=net, pores=net.Ps, throats=net.Ts)"
   ]
  },
  {
   "cell_type": "markdown",
   "metadata": {},
   "source": [
    "## Add a phase\n",
    "Then, a phase (water in this example) is added to the simulation and assigned to the network. The phase contains the physical properties of the fluid considered in the simulation such as the viscosity, etc. Many predefined phases as available on `OpenPNM`."
   ]
  },
  {
   "cell_type": "code",
   "execution_count": 5,
   "metadata": {
    "execution": {
     "iopub.execute_input": "2022-09-07T19:27:36.738405Z",
     "iopub.status.busy": "2022-09-07T19:27:36.737981Z",
     "iopub.status.idle": "2022-09-07T19:27:36.751755Z",
     "shell.execute_reply": "2022-09-07T19:27:36.750989Z"
    }
   },
   "outputs": [
    {
     "ename": "AttributeError",
     "evalue": "module 'openpnm' has no attribute 'phases'",
     "output_type": "error",
     "traceback": [
      "\u001b[0;31m---------------------------------------------------------------------------\u001b[0m",
      "\u001b[0;31mAttributeError\u001b[0m                            Traceback (most recent call last)",
      "Cell \u001b[0;32mIn [5], line 1\u001b[0m\n\u001b[0;32m----> 1\u001b[0m phase \u001b[38;5;241m=\u001b[39m \u001b[43mop\u001b[49m\u001b[38;5;241;43m.\u001b[39;49m\u001b[43mphases\u001b[49m\u001b[38;5;241m.\u001b[39mWater(network\u001b[38;5;241m=\u001b[39mnet)\n",
      "\u001b[0;31mAttributeError\u001b[0m: module 'openpnm' has no attribute 'phases'"
     ]
    }
   ],
   "source": [
    "phase = op.phases.Water(network=net)"
   ]
  },
  {
   "cell_type": "markdown",
   "metadata": {},
   "source": [
    "## Add a physics\n",
    "Next, a physics object is defined. The physics object stores information about the different physical models used in the simulation and is assigned to specific network, geometry and phase objects. This ensures that the different physical models will only have access to information about the network, geometry and phase objects to which they are assigned. In fact, models (such as Stokes flow or Fickian diffusion) require information about the network (such as the connectivity between pores), the geometry (such as the pores and throats diameters), and the phase (such as the diffusivity coefficient)."
   ]
  },
  {
   "cell_type": "code",
   "execution_count": 6,
   "metadata": {
    "execution": {
     "iopub.execute_input": "2022-09-07T19:27:36.755638Z",
     "iopub.status.busy": "2022-09-07T19:27:36.755403Z",
     "iopub.status.idle": "2022-09-07T19:27:36.769386Z",
     "shell.execute_reply": "2022-09-07T19:27:36.768591Z"
    }
   },
   "outputs": [
    {
     "ename": "AttributeError",
     "evalue": "module 'openpnm' has no attribute 'physics'",
     "output_type": "error",
     "traceback": [
      "\u001b[0;31m---------------------------------------------------------------------------\u001b[0m",
      "\u001b[0;31mAttributeError\u001b[0m                            Traceback (most recent call last)",
      "Cell \u001b[0;32mIn [6], line 1\u001b[0m\n\u001b[0;32m----> 1\u001b[0m phys \u001b[38;5;241m=\u001b[39m \u001b[43mop\u001b[49m\u001b[38;5;241;43m.\u001b[39;49m\u001b[43mphysics\u001b[49m\u001b[38;5;241m.\u001b[39mGenericPhysics(network\u001b[38;5;241m=\u001b[39mnet, phase\u001b[38;5;241m=\u001b[39mphase, geometry\u001b[38;5;241m=\u001b[39mgeo)\n",
      "\u001b[0;31mAttributeError\u001b[0m: module 'openpnm' has no attribute 'physics'"
     ]
    }
   ],
   "source": [
    "phys = op.physics.GenericPhysics(network=net, phase=phase, geometry=geo)"
   ]
  },
  {
   "cell_type": "markdown",
   "metadata": {},
   "source": [
    "The diffusivity coefficient of the considered chemical species in water is also defined."
   ]
  },
  {
   "cell_type": "code",
   "execution_count": 7,
   "metadata": {
    "execution": {
     "iopub.execute_input": "2022-09-07T19:27:36.773748Z",
     "iopub.status.busy": "2022-09-07T19:27:36.773515Z",
     "iopub.status.idle": "2022-09-07T19:27:36.787010Z",
     "shell.execute_reply": "2022-09-07T19:27:36.786259Z"
    }
   },
   "outputs": [
    {
     "ename": "NameError",
     "evalue": "name 'phase' is not defined",
     "output_type": "error",
     "traceback": [
      "\u001b[0;31m---------------------------------------------------------------------------\u001b[0m",
      "\u001b[0;31mNameError\u001b[0m                                 Traceback (most recent call last)",
      "Cell \u001b[0;32mIn [7], line 1\u001b[0m\n\u001b[0;32m----> 1\u001b[0m \u001b[43mphase\u001b[49m[\u001b[38;5;124m'\u001b[39m\u001b[38;5;124mpore.diffusivity\u001b[39m\u001b[38;5;124m'\u001b[39m] \u001b[38;5;241m=\u001b[39m \u001b[38;5;241m2e-09\u001b[39m\n",
      "\u001b[0;31mNameError\u001b[0m: name 'phase' is not defined"
     ]
    }
   ],
   "source": [
    "phase['pore.diffusivity'] = 2e-09"
   ]
  },
  {
   "cell_type": "markdown",
   "metadata": {},
   "source": [
    "## Defining a new model\n",
    "The physical model, consisting of Fickian diffusion, is defined and attached to the physics object previously defined."
   ]
  },
  {
   "cell_type": "code",
   "execution_count": 8,
   "metadata": {
    "execution": {
     "iopub.execute_input": "2022-09-07T19:27:36.790497Z",
     "iopub.status.busy": "2022-09-07T19:27:36.790264Z",
     "iopub.status.idle": "2022-09-07T19:27:36.805269Z",
     "shell.execute_reply": "2022-09-07T19:27:36.804498Z"
    }
   },
   "outputs": [
    {
     "ename": "NameError",
     "evalue": "name 'phys' is not defined",
     "output_type": "error",
     "traceback": [
      "\u001b[0;31m---------------------------------------------------------------------------\u001b[0m",
      "\u001b[0;31mNameError\u001b[0m                                 Traceback (most recent call last)",
      "Cell \u001b[0;32mIn [8], line 2\u001b[0m\n\u001b[1;32m      1\u001b[0m mod \u001b[38;5;241m=\u001b[39m op\u001b[38;5;241m.\u001b[39mmodels\u001b[38;5;241m.\u001b[39mphysics\u001b[38;5;241m.\u001b[39mdiffusive_conductance\u001b[38;5;241m.\u001b[39mordinary_diffusion\n\u001b[0;32m----> 2\u001b[0m \u001b[43mphys\u001b[49m\u001b[38;5;241m.\u001b[39madd_model(propname\u001b[38;5;241m=\u001b[39m\u001b[38;5;124m'\u001b[39m\u001b[38;5;124mthroat.diffusive_conductance\u001b[39m\u001b[38;5;124m'\u001b[39m, model\u001b[38;5;241m=\u001b[39mmod, regen_mode\u001b[38;5;241m=\u001b[39m\u001b[38;5;124m'\u001b[39m\u001b[38;5;124mnormal\u001b[39m\u001b[38;5;124m'\u001b[39m)\n",
      "\u001b[0;31mNameError\u001b[0m: name 'phys' is not defined"
     ]
    }
   ],
   "source": [
    "mod = op.models.physics.diffusive_conductance.ordinary_diffusion\n",
    "phys.add_model(propname='throat.diffusive_conductance', model=mod, regen_mode='normal')"
   ]
  },
  {
   "cell_type": "markdown",
   "metadata": {},
   "source": [
    "## Define a transient Fickian diffusion algorithm\n",
    "Here, an algorithm for the simulation of transient Fickian diffusion is defined. It is assigned to the network and phase of interest to be able to retrieve all the information needed to build systems of linear equations."
   ]
  },
  {
   "cell_type": "code",
   "execution_count": 9,
   "metadata": {
    "execution": {
     "iopub.execute_input": "2022-09-07T19:27:36.808444Z",
     "iopub.status.busy": "2022-09-07T19:27:36.808208Z",
     "iopub.status.idle": "2022-09-07T19:27:36.822168Z",
     "shell.execute_reply": "2022-09-07T19:27:36.821431Z"
    }
   },
   "outputs": [
    {
     "ename": "NameError",
     "evalue": "name 'net' is not defined",
     "output_type": "error",
     "traceback": [
      "\u001b[0;31m---------------------------------------------------------------------------\u001b[0m",
      "\u001b[0;31mNameError\u001b[0m                                 Traceback (most recent call last)",
      "Cell \u001b[0;32mIn [9], line 1\u001b[0m\n\u001b[0;32m----> 1\u001b[0m fd \u001b[38;5;241m=\u001b[39m op\u001b[38;5;241m.\u001b[39malgorithms\u001b[38;5;241m.\u001b[39mTransientFickianDiffusion(network\u001b[38;5;241m=\u001b[39m\u001b[43mnet\u001b[49m, phase\u001b[38;5;241m=\u001b[39mphase)\n",
      "\u001b[0;31mNameError\u001b[0m: name 'net' is not defined"
     ]
    }
   ],
   "source": [
    "fd = op.algorithms.TransientFickianDiffusion(network=net, phase=phase)"
   ]
  },
  {
   "cell_type": "markdown",
   "metadata": {},
   "source": [
    "## Add boundary conditions\n",
    "Next, Dirichlet boundary conditions are added over the back and front boundaries of the network."
   ]
  },
  {
   "cell_type": "code",
   "execution_count": 10,
   "metadata": {
    "execution": {
     "iopub.execute_input": "2022-09-07T19:27:36.825321Z",
     "iopub.status.busy": "2022-09-07T19:27:36.825087Z",
     "iopub.status.idle": "2022-09-07T19:27:36.841168Z",
     "shell.execute_reply": "2022-09-07T19:27:36.840401Z"
    }
   },
   "outputs": [
    {
     "ename": "NameError",
     "evalue": "name 'fd' is not defined",
     "output_type": "error",
     "traceback": [
      "\u001b[0;31m---------------------------------------------------------------------------\u001b[0m",
      "\u001b[0;31mNameError\u001b[0m                                 Traceback (most recent call last)",
      "Cell \u001b[0;32mIn [10], line 1\u001b[0m\n\u001b[0;32m----> 1\u001b[0m \u001b[43mfd\u001b[49m\u001b[38;5;241m.\u001b[39mset_value_BC(pores\u001b[38;5;241m=\u001b[39mnet\u001b[38;5;241m.\u001b[39mpores(\u001b[38;5;124m'\u001b[39m\u001b[38;5;124mback\u001b[39m\u001b[38;5;124m'\u001b[39m), values\u001b[38;5;241m=\u001b[39m\u001b[38;5;241m0.5\u001b[39m)\n\u001b[1;32m      2\u001b[0m fd\u001b[38;5;241m.\u001b[39mset_value_BC(pores\u001b[38;5;241m=\u001b[39mnet\u001b[38;5;241m.\u001b[39mpores(\u001b[38;5;124m'\u001b[39m\u001b[38;5;124mfront\u001b[39m\u001b[38;5;124m'\u001b[39m), values\u001b[38;5;241m=\u001b[39m\u001b[38;5;241m0.2\u001b[39m)\n",
      "\u001b[0;31mNameError\u001b[0m: name 'fd' is not defined"
     ]
    }
   ],
   "source": [
    "fd.set_value_BC(pores=net.pores('back'), values=0.5)\n",
    "fd.set_value_BC(pores=net.pores('front'), values=0.2)"
   ]
  },
  {
   "cell_type": "markdown",
   "metadata": {},
   "source": [
    "## Define initial conditions\n",
    "Initial conditions must be specified when `alg.run` is called as `alg.run(x0=x0)`, where `x0` could either be a scalar (in which case it'll be broadcasted to all pores), or an array."
   ]
  },
  {
   "cell_type": "markdown",
   "metadata": {},
   "source": [
    "## Setup the transient algorithm settings\n",
    "The settings of the transient algorithm are updated here. When calling `alg.run`, you can pass the following arguments:\n",
    "- `x0`: initial conditions\n",
    "- `tspan`: integration time span\n",
    "- `saveat`: the interval at which the solution is to be stored"
   ]
  },
  {
   "cell_type": "code",
   "execution_count": 11,
   "metadata": {
    "execution": {
     "iopub.execute_input": "2022-09-07T19:27:36.844559Z",
     "iopub.status.busy": "2022-09-07T19:27:36.844309Z",
     "iopub.status.idle": "2022-09-07T19:27:36.847569Z",
     "shell.execute_reply": "2022-09-07T19:27:36.846824Z"
    }
   },
   "outputs": [],
   "source": [
    "x0 = 0.2\n",
    "tspan = (0, 100)\n",
    "saveat = 5"
   ]
  },
  {
   "cell_type": "markdown",
   "metadata": {},
   "source": [
    "## Print the algorithm settings\n",
    "One can print the algorithm's settings as shown here."
   ]
  },
  {
   "cell_type": "code",
   "execution_count": 12,
   "metadata": {
    "execution": {
     "iopub.execute_input": "2022-09-07T19:27:36.850869Z",
     "iopub.status.busy": "2022-09-07T19:27:36.850634Z",
     "iopub.status.idle": "2022-09-07T19:27:36.864263Z",
     "shell.execute_reply": "2022-09-07T19:27:36.863481Z"
    }
   },
   "outputs": [
    {
     "ename": "NameError",
     "evalue": "name 'fd' is not defined",
     "output_type": "error",
     "traceback": [
      "\u001b[0;31m---------------------------------------------------------------------------\u001b[0m",
      "\u001b[0;31mNameError\u001b[0m                                 Traceback (most recent call last)",
      "Cell \u001b[0;32mIn [12], line 1\u001b[0m\n\u001b[0;32m----> 1\u001b[0m \u001b[38;5;28mprint\u001b[39m(\u001b[43mfd\u001b[49m\u001b[38;5;241m.\u001b[39msettings)\n",
      "\u001b[0;31mNameError\u001b[0m: name 'fd' is not defined"
     ]
    }
   ],
   "source": [
    "print(fd.settings)"
   ]
  },
  {
   "cell_type": "markdown",
   "metadata": {},
   "source": [
    "Note that the `quantity` corresponds to the quantity solved for."
   ]
  },
  {
   "cell_type": "markdown",
   "metadata": {},
   "source": [
    "## Run the algorithm\n",
    "The algorithm is run here."
   ]
  },
  {
   "cell_type": "code",
   "execution_count": 13,
   "metadata": {
    "execution": {
     "iopub.execute_input": "2022-09-07T19:27:36.867571Z",
     "iopub.status.busy": "2022-09-07T19:27:36.867336Z",
     "iopub.status.idle": "2022-09-07T19:27:36.883211Z",
     "shell.execute_reply": "2022-09-07T19:27:36.882320Z"
    }
   },
   "outputs": [
    {
     "ename": "NameError",
     "evalue": "name 'fd' is not defined",
     "output_type": "error",
     "traceback": [
      "\u001b[0;31m---------------------------------------------------------------------------\u001b[0m",
      "\u001b[0;31mNameError\u001b[0m                                 Traceback (most recent call last)",
      "Cell \u001b[0;32mIn [13], line 1\u001b[0m\n\u001b[0;32m----> 1\u001b[0m soln \u001b[38;5;241m=\u001b[39m \u001b[43mfd\u001b[49m\u001b[38;5;241m.\u001b[39mrun(x0\u001b[38;5;241m=\u001b[39mx0, tspan\u001b[38;5;241m=\u001b[39mtspan, saveat\u001b[38;5;241m=\u001b[39msaveat)\n",
      "\u001b[0;31mNameError\u001b[0m: name 'fd' is not defined"
     ]
    }
   ],
   "source": [
    "soln = fd.run(x0=x0, tspan=tspan, saveat=saveat)"
   ]
  },
  {
   "cell_type": "markdown",
   "metadata": {},
   "source": [
    "## Post process and export the results\n",
    "Once the simulation is successfully performed. The solution at every time steps is stored within the algorithm object. The algorithm's stored information is printed here."
   ]
  },
  {
   "cell_type": "code",
   "execution_count": 14,
   "metadata": {
    "execution": {
     "iopub.execute_input": "2022-09-07T19:27:36.886410Z",
     "iopub.status.busy": "2022-09-07T19:27:36.886173Z",
     "iopub.status.idle": "2022-09-07T19:27:36.899207Z",
     "shell.execute_reply": "2022-09-07T19:27:36.898446Z"
    }
   },
   "outputs": [
    {
     "ename": "NameError",
     "evalue": "name 'fd' is not defined",
     "output_type": "error",
     "traceback": [
      "\u001b[0;31m---------------------------------------------------------------------------\u001b[0m",
      "\u001b[0;31mNameError\u001b[0m                                 Traceback (most recent call last)",
      "Cell \u001b[0;32mIn [14], line 1\u001b[0m\n\u001b[0;32m----> 1\u001b[0m \u001b[38;5;28mprint\u001b[39m(\u001b[43mfd\u001b[49m)\n",
      "\u001b[0;31mNameError\u001b[0m: name 'fd' is not defined"
     ]
    }
   ],
   "source": [
    "print(fd)"
   ]
  },
  {
   "cell_type": "markdown",
   "metadata": {},
   "source": [
    "Note that the solutions at every exported time step contain the `@` character followed by the time value. Here the solution is exported after each $5s$ in addition to the final time step which is not a multiple of $5$ in this example."
   ]
  },
  {
   "cell_type": "markdown",
   "metadata": {},
   "source": [
    "To print the solution at $t=10s$"
   ]
  },
  {
   "cell_type": "code",
   "execution_count": 15,
   "metadata": {
    "execution": {
     "iopub.execute_input": "2022-09-07T19:27:36.902666Z",
     "iopub.status.busy": "2022-09-07T19:27:36.902429Z",
     "iopub.status.idle": "2022-09-07T19:27:36.917705Z",
     "shell.execute_reply": "2022-09-07T19:27:36.916754Z"
    }
   },
   "outputs": [
    {
     "ename": "NameError",
     "evalue": "name 'soln' is not defined",
     "output_type": "error",
     "traceback": [
      "\u001b[0;31m---------------------------------------------------------------------------\u001b[0m",
      "\u001b[0;31mNameError\u001b[0m                                 Traceback (most recent call last)",
      "Cell \u001b[0;32mIn [15], line 1\u001b[0m\n\u001b[0;32m----> 1\u001b[0m \u001b[43msoln\u001b[49m(\u001b[38;5;241m10\u001b[39m)\n",
      "\u001b[0;31mNameError\u001b[0m: name 'soln' is not defined"
     ]
    }
   ],
   "source": [
    "soln(10)"
   ]
  },
  {
   "cell_type": "markdown",
   "metadata": {},
   "source": [
    "The solution is here stored in the phase before export."
   ]
  },
  {
   "cell_type": "code",
   "execution_count": 16,
   "metadata": {
    "execution": {
     "iopub.execute_input": "2022-09-07T19:27:36.921255Z",
     "iopub.status.busy": "2022-09-07T19:27:36.920998Z",
     "iopub.status.idle": "2022-09-07T19:27:36.934902Z",
     "shell.execute_reply": "2022-09-07T19:27:36.934132Z"
    }
   },
   "outputs": [
    {
     "ename": "NameError",
     "evalue": "name 'phase' is not defined",
     "output_type": "error",
     "traceback": [
      "\u001b[0;31m---------------------------------------------------------------------------\u001b[0m",
      "\u001b[0;31mNameError\u001b[0m                                 Traceback (most recent call last)",
      "Cell \u001b[0;32mIn [16], line 1\u001b[0m\n\u001b[0;32m----> 1\u001b[0m \u001b[43mphase\u001b[49m\u001b[38;5;241m.\u001b[39mupdate(fd\u001b[38;5;241m.\u001b[39mresults())\n",
      "\u001b[0;31mNameError\u001b[0m: name 'phase' is not defined"
     ]
    }
   ],
   "source": [
    "phase.update(fd.results())"
   ]
  },
  {
   "cell_type": "markdown",
   "metadata": {},
   "source": [
    "## Visialization using Matplotlib\n",
    "One can perform post processing and visualization using the exported files on an external software such as `Paraview`. Additionally, the `Pyhton` library `Matplotlib` can be used as shown here to plot the concentration color map at steady-state."
   ]
  },
  {
   "cell_type": "code",
   "execution_count": 17,
   "metadata": {
    "execution": {
     "iopub.execute_input": "2022-09-07T19:27:36.938267Z",
     "iopub.status.busy": "2022-09-07T19:27:36.938035Z",
     "iopub.status.idle": "2022-09-07T19:27:37.000931Z",
     "shell.execute_reply": "2022-09-07T19:27:36.999896Z"
    }
   },
   "outputs": [
    {
     "ename": "NameError",
     "evalue": "name 'fd' is not defined",
     "output_type": "error",
     "traceback": [
      "\u001b[0;31m---------------------------------------------------------------------------\u001b[0m",
      "\u001b[0;31mNameError\u001b[0m                                 Traceback (most recent call last)",
      "Cell \u001b[0;32mIn [17], line 4\u001b[0m\n\u001b[1;32m      1\u001b[0m \u001b[38;5;28;01mimport\u001b[39;00m \u001b[38;5;21;01mmatplotlib\u001b[39;00m\u001b[38;5;21;01m.\u001b[39;00m\u001b[38;5;21;01mpyplot\u001b[39;00m \u001b[38;5;28;01mas\u001b[39;00m \u001b[38;5;21;01mplt\u001b[39;00m\n\u001b[1;32m      2\u001b[0m \u001b[38;5;28;01mfrom\u001b[39;00m \u001b[38;5;21;01mmpl_toolkits\u001b[39;00m\u001b[38;5;21;01m.\u001b[39;00m\u001b[38;5;21;01maxes_grid1\u001b[39;00m \u001b[38;5;28;01mimport\u001b[39;00m make_axes_locatable\n\u001b[0;32m----> 4\u001b[0m c \u001b[38;5;241m=\u001b[39m \u001b[43mfd\u001b[49m\u001b[38;5;241m.\u001b[39mx\u001b[38;5;241m.\u001b[39mreshape(shape)\n\u001b[1;32m      5\u001b[0m fig, ax \u001b[38;5;241m=\u001b[39m plt\u001b[38;5;241m.\u001b[39msubplots(figsize\u001b[38;5;241m=\u001b[39m(\u001b[38;5;241m6\u001b[39m, \u001b[38;5;241m6\u001b[39m))\n\u001b[1;32m      6\u001b[0m im \u001b[38;5;241m=\u001b[39m ax\u001b[38;5;241m.\u001b[39mimshow(c[:,:,\u001b[38;5;241m0\u001b[39m])\n",
      "\u001b[0;31mNameError\u001b[0m: name 'fd' is not defined"
     ]
    }
   ],
   "source": [
    "import matplotlib.pyplot as plt\n",
    "from mpl_toolkits.axes_grid1 import make_axes_locatable\n",
    "\n",
    "c = fd.x.reshape(shape)\n",
    "fig, ax = plt.subplots(figsize=(6, 6))\n",
    "im = ax.imshow(c[:,:,0])\n",
    "ax.set_title('concentration (mol/m$^3$)')\n",
    "divider = make_axes_locatable(ax)\n",
    "cax = divider.append_axes(\"right\", size=\"4%\", pad=0.1)\n",
    "plt.colorbar(im, cax=cax);"
   ]
  }
 ],
 "metadata": {
  "@webio": {
   "lastCommId": null,
   "lastKernelId": null
  },
  "hide_input": false,
  "kernelspec": {
   "display_name": "Python 3",
   "language": "python",
   "name": "python3"
  },
  "language_info": {
   "codemirror_mode": {
    "name": "ipython",
    "version": 3
   },
   "file_extension": ".py",
   "mimetype": "text/x-python",
   "name": "python",
   "nbconvert_exporter": "python",
   "pygments_lexer": "ipython3",
   "version": "3.8.13"
  }
 },
 "nbformat": 4,
 "nbformat_minor": 4
}
