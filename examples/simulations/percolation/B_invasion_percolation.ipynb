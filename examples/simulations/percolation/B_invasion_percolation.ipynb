{
 "cells": [
  {
   "cell_type": "markdown",
   "metadata": {},
   "source": [
    "# Invasion Percolation"
   ]
  },
  {
   "cell_type": "markdown",
   "metadata": {},
   "source": [
    "The next percolation algorithm to be demonstrated is known as ``Invasion Percolation``. Instead of identifying connected clusters and invading them all in one go, as ``Ordinary Percolation`` does, this algorithm progresses one invasion step at a time. This is a more dynamic process and better simulates scenarios where instead of controlling the pressure at the network boundaries something else such as mass flow rate is controlled as the pressure is allowed to fluctuate up and down in order to meet the lowest available entry pressure for the growing cluster(s)."
   ]
  },
  {
   "cell_type": "code",
   "execution_count": 1,
   "metadata": {
    "execution": {
     "iopub.execute_input": "2022-09-07T19:26:25.849437Z",
     "iopub.status.busy": "2022-09-07T19:26:25.848868Z",
     "iopub.status.idle": "2022-09-07T19:26:28.235866Z",
     "shell.execute_reply": "2022-09-07T19:26:28.234867Z"
    }
   },
   "outputs": [],
   "source": [
    "import sys\n",
    "import openpnm as op\n",
    "import numpy as np\n",
    "np.random.seed(10)\n",
    "import matplotlib.pyplot as plt\n",
    "import porespy as ps\n",
    "from ipywidgets import interact, IntSlider\n",
    "from openpnm.topotools import trim\n",
    "%matplotlib inline\n",
    "ws = op.Workspace()\n",
    "ws.settings[\"loglevel\"] = 50"
   ]
  },
  {
   "cell_type": "markdown",
   "metadata": {},
   "source": [
    "In order to also showcase some other network generation options we first start with a small 2D network with ``SpheresAndCylinders`` geometry."
   ]
  },
  {
   "cell_type": "code",
   "execution_count": 2,
   "metadata": {
    "execution": {
     "iopub.execute_input": "2022-09-07T19:26:28.240125Z",
     "iopub.status.busy": "2022-09-07T19:26:28.239850Z",
     "iopub.status.idle": "2022-09-07T19:26:28.718952Z",
     "shell.execute_reply": "2022-09-07T19:26:28.718011Z"
    }
   },
   "outputs": [
    {
     "ename": "AttributeError",
     "evalue": "module 'openpnm' has no attribute 'geometry'",
     "output_type": "error",
     "traceback": [
      "\u001b[0;31m---------------------------------------------------------------------------\u001b[0m",
      "\u001b[0;31mAttributeError\u001b[0m                            Traceback (most recent call last)",
      "Cell \u001b[0;32mIn [2], line 3\u001b[0m\n\u001b[1;32m      1\u001b[0m spacing\u001b[38;5;241m=\u001b[39m\u001b[38;5;241m2.5e-5\u001b[39m\n\u001b[1;32m      2\u001b[0m net \u001b[38;5;241m=\u001b[39m op\u001b[38;5;241m.\u001b[39mnetwork\u001b[38;5;241m.\u001b[39mCubic([\u001b[38;5;241m20\u001b[39m, \u001b[38;5;241m20\u001b[39m, \u001b[38;5;241m1\u001b[39m], spacing\u001b[38;5;241m=\u001b[39mspacing)\n\u001b[0;32m----> 3\u001b[0m geo \u001b[38;5;241m=\u001b[39m \u001b[43mop\u001b[49m\u001b[38;5;241;43m.\u001b[39;49m\u001b[43mgeometry\u001b[49m\u001b[38;5;241m.\u001b[39mSpheresAndCylinders(network\u001b[38;5;241m=\u001b[39mnet, pores\u001b[38;5;241m=\u001b[39mnet\u001b[38;5;241m.\u001b[39mPs, throats\u001b[38;5;241m=\u001b[39mnet\u001b[38;5;241m.\u001b[39mTs)\n",
      "\u001b[0;31mAttributeError\u001b[0m: module 'openpnm' has no attribute 'geometry'"
     ]
    }
   ],
   "source": [
    "spacing=2.5e-5\n",
    "net = op.network.Cubic([20, 20, 1], spacing=spacing)\n",
    "geo = op.geometry.SpheresAndCylinders(network=net, pores=net.Ps, throats=net.Ts)"
   ]
  },
  {
   "cell_type": "markdown",
   "metadata": {},
   "source": [
    "We then trim all the surface pores to obtain disctint sets of boundary edge pores."
   ]
  },
  {
   "cell_type": "code",
   "execution_count": 3,
   "metadata": {
    "execution": {
     "iopub.execute_input": "2022-09-07T19:26:28.722488Z",
     "iopub.status.busy": "2022-09-07T19:26:28.722249Z",
     "iopub.status.idle": "2022-09-07T19:26:28.740730Z",
     "shell.execute_reply": "2022-09-07T19:26:28.739718Z"
    }
   },
   "outputs": [
    {
     "ename": "AttributeError",
     "evalue": "'Cubic' object has no attribute 'check_network_health'",
     "output_type": "error",
     "traceback": [
      "\u001b[0;31m---------------------------------------------------------------------------\u001b[0m",
      "\u001b[0;31mAttributeError\u001b[0m                            Traceback (most recent call last)",
      "Cell \u001b[0;32mIn [3], line 4\u001b[0m\n\u001b[1;32m      2\u001b[0m net\u001b[38;5;241m.\u001b[39mnum_throats(\u001b[38;5;124m'\u001b[39m\u001b[38;5;124msurface\u001b[39m\u001b[38;5;124m'\u001b[39m)\n\u001b[1;32m      3\u001b[0m trim(network\u001b[38;5;241m=\u001b[39mnet, throats\u001b[38;5;241m=\u001b[39mnet\u001b[38;5;241m.\u001b[39mthroats(\u001b[38;5;124m'\u001b[39m\u001b[38;5;124msurface\u001b[39m\u001b[38;5;124m'\u001b[39m))\n\u001b[0;32m----> 4\u001b[0m h \u001b[38;5;241m=\u001b[39m \u001b[43mnet\u001b[49m\u001b[38;5;241;43m.\u001b[39;49m\u001b[43mcheck_network_health\u001b[49m()\n\u001b[1;32m      5\u001b[0m trim(network\u001b[38;5;241m=\u001b[39mnet, pores\u001b[38;5;241m=\u001b[39mh[\u001b[38;5;124m'\u001b[39m\u001b[38;5;124mtrim_pores\u001b[39m\u001b[38;5;124m'\u001b[39m])\n",
      "\u001b[0;31mAttributeError\u001b[0m: 'Cubic' object has no attribute 'check_network_health'"
     ]
    }
   ],
   "source": [
    "net.labels()\n",
    "net.num_throats('surface')\n",
    "trim(network=net, throats=net.throats('surface'))\n",
    "h = net.check_network_health()\n",
    "trim(network=net, pores=h['trim_pores'])"
   ]
  },
  {
   "cell_type": "markdown",
   "metadata": {},
   "source": [
    "Then we use a function from our porespy package to generate a tomography style image of the abstract network providing the number of pixels in each dimension."
   ]
  },
  {
   "cell_type": "code",
   "execution_count": 4,
   "metadata": {
    "execution": {
     "iopub.execute_input": "2022-09-07T19:26:28.744024Z",
     "iopub.status.busy": "2022-09-07T19:26:28.743769Z",
     "iopub.status.idle": "2022-09-07T19:26:28.758554Z",
     "shell.execute_reply": "2022-09-07T19:26:28.757777Z"
    }
   },
   "outputs": [
    {
     "ename": "AttributeError",
     "evalue": "module 'openpnm.topotools' has no attribute 'generate_voxel_image'",
     "output_type": "error",
     "traceback": [
      "\u001b[0;31m---------------------------------------------------------------------------\u001b[0m",
      "\u001b[0;31mAttributeError\u001b[0m                            Traceback (most recent call last)",
      "Cell \u001b[0;32mIn [4], line 1\u001b[0m\n\u001b[0;32m----> 1\u001b[0m im \u001b[38;5;241m=\u001b[39m \u001b[43mop\u001b[49m\u001b[38;5;241;43m.\u001b[39;49m\u001b[43mtopotools\u001b[49m\u001b[38;5;241;43m.\u001b[39;49m\u001b[43mgenerate_voxel_image\u001b[49m(net, max_dim\u001b[38;5;241m=\u001b[39m\u001b[38;5;241m1000\u001b[39m)\n",
      "\u001b[0;31mAttributeError\u001b[0m: module 'openpnm.topotools' has no attribute 'generate_voxel_image'"
     ]
    }
   ],
   "source": [
    "im = op.topotools.generate_voxel_image(net, max_dim=1000)"
   ]
  },
  {
   "cell_type": "code",
   "execution_count": 5,
   "metadata": {
    "execution": {
     "iopub.execute_input": "2022-09-07T19:26:28.761827Z",
     "iopub.status.busy": "2022-09-07T19:26:28.761576Z",
     "iopub.status.idle": "2022-09-07T19:26:28.775488Z",
     "shell.execute_reply": "2022-09-07T19:26:28.774611Z"
    }
   },
   "outputs": [
    {
     "ename": "NameError",
     "evalue": "name 'im' is not defined",
     "output_type": "error",
     "traceback": [
      "\u001b[0;31m---------------------------------------------------------------------------\u001b[0m",
      "\u001b[0;31mNameError\u001b[0m                                 Traceback (most recent call last)",
      "Cell \u001b[0;32mIn [5], line 1\u001b[0m\n\u001b[0;32m----> 1\u001b[0m \u001b[38;5;28mprint\u001b[39m(\u001b[43mim\u001b[49m\u001b[38;5;241m.\u001b[39mshape)\n",
      "\u001b[0;31mNameError\u001b[0m: name 'im' is not defined"
     ]
    }
   ],
   "source": [
    "print(im.shape)"
   ]
  },
  {
   "cell_type": "markdown",
   "metadata": {},
   "source": [
    "This creates a 3D image but we can crop it to get the central slice in 2D for visualization."
   ]
  },
  {
   "cell_type": "code",
   "execution_count": 6,
   "metadata": {
    "execution": {
     "iopub.execute_input": "2022-09-07T19:26:28.779006Z",
     "iopub.status.busy": "2022-09-07T19:26:28.778772Z",
     "iopub.status.idle": "2022-09-07T19:26:28.925660Z",
     "shell.execute_reply": "2022-09-07T19:26:28.924906Z"
    }
   },
   "outputs": [
    {
     "ename": "NameError",
     "evalue": "name 'im' is not defined",
     "output_type": "error",
     "traceback": [
      "\u001b[0;31m---------------------------------------------------------------------------\u001b[0m",
      "\u001b[0;31mNameError\u001b[0m                                 Traceback (most recent call last)",
      "Cell \u001b[0;32mIn [6], line 2\u001b[0m\n\u001b[1;32m      1\u001b[0m fig, ax \u001b[38;5;241m=\u001b[39m plt\u001b[38;5;241m.\u001b[39msubplots(figsize\u001b[38;5;241m=\u001b[39m(\u001b[38;5;241m5\u001b[39m, \u001b[38;5;241m5\u001b[39m))\n\u001b[0;32m----> 2\u001b[0m ax\u001b[38;5;241m.\u001b[39mimshow(\u001b[43mim\u001b[49m[\u001b[38;5;241m25\u001b[39m:\u001b[38;5;241m-\u001b[39m\u001b[38;5;241m25\u001b[39m, \u001b[38;5;241m25\u001b[39m:\u001b[38;5;241m-\u001b[39m\u001b[38;5;241m25\u001b[39m, \u001b[38;5;241m18\u001b[39m]\u001b[38;5;241m.\u001b[39mT)\n",
      "\u001b[0;31mNameError\u001b[0m: name 'im' is not defined"
     ]
    },
    {
     "data": {
      "image/png": "[encoded data removed]",
      "text/plain": [
       "<Figure size 500x500 with 1 Axes>"
      ]
     },
     "metadata": {},
     "output_type": "display_data"
    }
   ],
   "source": [
    "fig, ax = plt.subplots(figsize=(5, 5))\n",
    "ax.imshow(im[25:-25, 25:-25, 18].T)"
   ]
  },
  {
   "cell_type": "markdown",
   "metadata": {},
   "source": [
    "Next the snow algorithm is used to do network extraction on the tomography style image. Of course if you have your own tomogrpahy image this can be used instead."
   ]
  },
  {
   "cell_type": "code",
   "execution_count": 7,
   "metadata": {
    "execution": {
     "iopub.execute_input": "2022-09-07T19:26:28.929573Z",
     "iopub.status.busy": "2022-09-07T19:26:28.929197Z",
     "iopub.status.idle": "2022-09-07T19:26:28.945200Z",
     "shell.execute_reply": "2022-09-07T19:26:28.944502Z"
    }
   },
   "outputs": [
    {
     "ename": "NameError",
     "evalue": "name 'im' is not defined",
     "output_type": "error",
     "traceback": [
      "\u001b[0;31m---------------------------------------------------------------------------\u001b[0m",
      "\u001b[0;31mNameError\u001b[0m                                 Traceback (most recent call last)",
      "Cell \u001b[0;32mIn [7], line 1\u001b[0m\n\u001b[0;32m----> 1\u001b[0m crop \u001b[38;5;241m=\u001b[39m \u001b[43mim\u001b[49m[\u001b[38;5;241m25\u001b[39m:\u001b[38;5;241m-\u001b[39m\u001b[38;5;241m25\u001b[39m, \u001b[38;5;241m25\u001b[39m:\u001b[38;5;241m-\u001b[39m\u001b[38;5;241m25\u001b[39m, :]\n\u001b[1;32m      2\u001b[0m snow_out \u001b[38;5;241m=\u001b[39m ps\u001b[38;5;241m.\u001b[39mnetworks\u001b[38;5;241m.\u001b[39msnow2(crop \u001b[38;5;241m>\u001b[39m \u001b[38;5;241m0\u001b[39m, voxel_size\u001b[38;5;241m=\u001b[39m\u001b[38;5;241m4e-7\u001b[39m)\n",
      "\u001b[0;31mNameError\u001b[0m: name 'im' is not defined"
     ]
    }
   ],
   "source": [
    "crop = im[25:-25, 25:-25, :]\n",
    "snow_out = ps.networks.snow2(crop > 0, voxel_size=4e-7)"
   ]
  },
  {
   "cell_type": "code",
   "execution_count": 8,
   "metadata": {
    "execution": {
     "iopub.execute_input": "2022-09-07T19:26:28.948869Z",
     "iopub.status.busy": "2022-09-07T19:26:28.948338Z",
     "iopub.status.idle": "2022-09-07T19:26:28.961823Z",
     "shell.execute_reply": "2022-09-07T19:26:28.961116Z"
    }
   },
   "outputs": [
    {
     "ename": "NameError",
     "evalue": "name 'snow_out' is not defined",
     "output_type": "error",
     "traceback": [
      "\u001b[0;31m---------------------------------------------------------------------------\u001b[0m",
      "\u001b[0;31mNameError\u001b[0m                                 Traceback (most recent call last)",
      "Cell \u001b[0;32mIn [8], line 1\u001b[0m\n\u001b[0;32m----> 1\u001b[0m \u001b[38;5;28mprint\u001b[39m(\u001b[43msnow_out\u001b[49m\u001b[38;5;241m.\u001b[39mregions\u001b[38;5;241m.\u001b[39mshape)\n",
      "\u001b[0;31mNameError\u001b[0m: name 'snow_out' is not defined"
     ]
    }
   ],
   "source": [
    "print(snow_out.regions.shape)"
   ]
  },
  {
   "cell_type": "markdown",
   "metadata": {},
   "source": [
    "The SNOW algorithm provides a labelled region image containing the pore index. As zero is used for the background it is actually the pore index + 1 because python references arrays with first element as zero and we do not explicitly store the pore index."
   ]
  },
  {
   "cell_type": "code",
   "execution_count": 9,
   "metadata": {
    "execution": {
     "iopub.execute_input": "2022-09-07T19:26:28.965204Z",
     "iopub.status.busy": "2022-09-07T19:26:28.964752Z",
     "iopub.status.idle": "2022-09-07T19:26:29.116911Z",
     "shell.execute_reply": "2022-09-07T19:26:29.116034Z"
    }
   },
   "outputs": [
    {
     "ename": "NameError",
     "evalue": "name 'snow_out' is not defined",
     "output_type": "error",
     "traceback": [
      "\u001b[0;31m---------------------------------------------------------------------------\u001b[0m",
      "\u001b[0;31mNameError\u001b[0m                                 Traceback (most recent call last)",
      "Cell \u001b[0;32mIn [9], line 3\u001b[0m\n\u001b[1;32m      1\u001b[0m \u001b[38;5;66;03m# NBVAL_IGNORE_OUTPUT\u001b[39;00m\n\u001b[1;32m      2\u001b[0m fig, ax \u001b[38;5;241m=\u001b[39m plt\u001b[38;5;241m.\u001b[39msubplots(figsize\u001b[38;5;241m=\u001b[39m(\u001b[38;5;241m5\u001b[39m, \u001b[38;5;241m5\u001b[39m))\n\u001b[0;32m----> 3\u001b[0m reg \u001b[38;5;241m=\u001b[39m \u001b[43msnow_out\u001b[49m\u001b[38;5;241m.\u001b[39mregions\u001b[38;5;241m.\u001b[39mastype(\u001b[38;5;28mfloat\u001b[39m) \u001b[38;5;241m-\u001b[39m \u001b[38;5;241m1\u001b[39m\n\u001b[1;32m      4\u001b[0m reg[reg \u001b[38;5;241m==\u001b[39m \u001b[38;5;241m-\u001b[39m\u001b[38;5;241m1\u001b[39m] \u001b[38;5;241m=\u001b[39m np\u001b[38;5;241m.\u001b[39mnan\n\u001b[1;32m      5\u001b[0m region_slice \u001b[38;5;241m=\u001b[39m snow_out\u001b[38;5;241m.\u001b[39mregions[:, :, \u001b[38;5;241m18\u001b[39m] \u001b[38;5;241m-\u001b[39m \u001b[38;5;241m1\u001b[39m\n",
      "\u001b[0;31mNameError\u001b[0m: name 'snow_out' is not defined"
     ]
    },
    {
     "data": {
      "image/png": "[encoded data removed]",
      "text/plain": [
       "<Figure size 500x500 with 1 Axes>"
      ]
     },
     "metadata": {},
     "output_type": "display_data"
    }
   ],
   "source": [
    "# NBVAL_IGNORE_OUTPUT\n",
    "fig, ax = plt.subplots(figsize=(5, 5))\n",
    "reg = snow_out.regions.astype(float) - 1\n",
    "reg[reg == -1] = np.nan\n",
    "region_slice = snow_out.regions[:, :, 18] - 1\n",
    "mask = region_slice >= 0\n",
    "ax.imshow(region_slice.T);"
   ]
  },
  {
   "cell_type": "markdown",
   "metadata": {},
   "source": [
    "Now our new network is extracted we can fill a network object with all the properties and begin simulation."
   ]
  },
  {
   "cell_type": "code",
   "execution_count": 10,
   "metadata": {
    "execution": {
     "iopub.execute_input": "2022-09-07T19:26:29.120947Z",
     "iopub.status.busy": "2022-09-07T19:26:29.120646Z",
     "iopub.status.idle": "2022-09-07T19:26:29.125539Z",
     "shell.execute_reply": "2022-09-07T19:26:29.124754Z"
    }
   },
   "outputs": [],
   "source": [
    "wrk = op.Workspace()\n",
    "wrk.clear()"
   ]
  },
  {
   "cell_type": "code",
   "execution_count": 11,
   "metadata": {
    "execution": {
     "iopub.execute_input": "2022-09-07T19:26:29.130205Z",
     "iopub.status.busy": "2022-09-07T19:26:29.128836Z",
     "iopub.status.idle": "2022-09-07T19:26:29.146497Z",
     "shell.execute_reply": "2022-09-07T19:26:29.145761Z"
    }
   },
   "outputs": [
    {
     "ename": "AttributeError",
     "evalue": "module 'openpnm.io' has no attribute 'PoreSpy'",
     "output_type": "error",
     "traceback": [
      "\u001b[0;31m---------------------------------------------------------------------------\u001b[0m",
      "\u001b[0;31mAttributeError\u001b[0m                            Traceback (most recent call last)",
      "Cell \u001b[0;32mIn [11], line 1\u001b[0m\n\u001b[0;32m----> 1\u001b[0m net, geo \u001b[38;5;241m=\u001b[39m \u001b[43mop\u001b[49m\u001b[38;5;241;43m.\u001b[39;49m\u001b[43mio\u001b[49m\u001b[38;5;241;43m.\u001b[39;49m\u001b[43mPoreSpy\u001b[49m\u001b[38;5;241m.\u001b[39mimport_data(snow_out\u001b[38;5;241m.\u001b[39mnetwork)\n",
      "\u001b[0;31mAttributeError\u001b[0m: module 'openpnm.io' has no attribute 'PoreSpy'"
     ]
    }
   ],
   "source": [
    "net, geo = op.io.PoreSpy.import_data(snow_out.network)"
   ]
  },
  {
   "cell_type": "markdown",
   "metadata": {},
   "source": [
    "A helper function is defined for plotting a particular data set."
   ]
  },
  {
   "cell_type": "code",
   "execution_count": 12,
   "metadata": {
    "execution": {
     "iopub.execute_input": "2022-09-07T19:26:29.150513Z",
     "iopub.status.busy": "2022-09-07T19:26:29.150042Z",
     "iopub.status.idle": "2022-09-07T19:26:29.155629Z",
     "shell.execute_reply": "2022-09-07T19:26:29.154764Z"
    }
   },
   "outputs": [],
   "source": [
    "def update_image(data):\n",
    "    data = data.astype(float)\n",
    "    out_im = np.ones(region_slice.shape, dtype=float)*-1\n",
    "    out_im[mask] = data[region_slice[mask]]\n",
    "    out_im[~mask] = np.nan\n",
    "    return out_im"
   ]
  },
  {
   "cell_type": "code",
   "execution_count": 13,
   "metadata": {
    "execution": {
     "iopub.execute_input": "2022-09-07T19:26:29.159284Z",
     "iopub.status.busy": "2022-09-07T19:26:29.159022Z",
     "iopub.status.idle": "2022-09-07T19:26:29.607415Z",
     "shell.execute_reply": "2022-09-07T19:26:29.606702Z"
    }
   },
   "outputs": [
    {
     "ename": "KeyError",
     "evalue": "'pore.diameter'",
     "output_type": "error",
     "traceback": [
      "\u001b[0;31m---------------------------------------------------------------------------\u001b[0m",
      "\u001b[0;31mKeyError\u001b[0m                                  Traceback (most recent call last)",
      "File \u001b[0;32m~/work/OpenPNM/OpenPNM/openpnm/core/_base2.py:203\u001b[0m, in \u001b[0;36mBase2.__getitem__\u001b[0;34m(self, key)\u001b[0m\n\u001b[1;32m    202\u001b[0m \u001b[38;5;28;01mtry\u001b[39;00m:\n\u001b[0;32m--> 203\u001b[0m     \u001b[38;5;28;01mreturn\u001b[39;00m \u001b[38;5;28;43msuper\u001b[39;49m\u001b[43m(\u001b[49m\u001b[43m)\u001b[49m\u001b[38;5;241;43m.\u001b[39;49m\u001b[38;5;21;43m__getitem__\u001b[39;49m\u001b[43m(\u001b[49m\u001b[43mkey\u001b[49m\u001b[43m)\u001b[49m\n\u001b[1;32m    204\u001b[0m \u001b[38;5;28;01mexcept\u001b[39;00m \u001b[38;5;167;01mKeyError\u001b[39;00m:\n\u001b[1;32m    205\u001b[0m     \u001b[38;5;66;03m# If key is object's name or all, return ones\u001b[39;00m\n",
      "\u001b[0;31mKeyError\u001b[0m: 'pore.diameter'",
      "\nDuring handling of the above exception, another exception occurred:\n",
      "\u001b[0;31mKeyError\u001b[0m                                  Traceback (most recent call last)",
      "Cell \u001b[0;32mIn [13], line 3\u001b[0m\n\u001b[1;32m      1\u001b[0m \u001b[38;5;66;03m# NBVAL_IGNORE_OUTPUT\u001b[39;00m\n\u001b[1;32m      2\u001b[0m fig, ax \u001b[38;5;241m=\u001b[39m plt\u001b[38;5;241m.\u001b[39msubplots(figsize\u001b[38;5;241m=\u001b[39m(\u001b[38;5;241m5\u001b[39m, \u001b[38;5;241m5\u001b[39m))\n\u001b[0;32m----> 3\u001b[0m out \u001b[38;5;241m=\u001b[39m update_image(\u001b[43mnet\u001b[49m\u001b[43m[\u001b[49m\u001b[38;5;124;43m'\u001b[39;49m\u001b[38;5;124;43mpore.diameter\u001b[39;49m\u001b[38;5;124;43m'\u001b[39;49m\u001b[43m]\u001b[49m)\n\u001b[1;32m      4\u001b[0m ax\u001b[38;5;241m.\u001b[39mimshow(out\u001b[38;5;241m.\u001b[39mT)\n",
      "File \u001b[0;32m~/work/OpenPNM/OpenPNM/openpnm/core/_base2.py:219\u001b[0m, in \u001b[0;36mBase2.__getitem__\u001b[0;34m(self, key)\u001b[0m\n\u001b[1;32m    217\u001b[0m     \u001b[38;5;28;01mreturn\u001b[39;00m vals\n\u001b[1;32m    218\u001b[0m \u001b[38;5;28;01melse\u001b[39;00m:\n\u001b[0;32m--> 219\u001b[0m     \u001b[38;5;28;01mraise\u001b[39;00m \u001b[38;5;167;01mKeyError\u001b[39;00m(key)\n",
      "\u001b[0;31mKeyError\u001b[0m: 'pore.diameter'"
     ]
    },
    {
     "data": {
      "image/png": "[encoded data removed]",
      "text/plain": [
       "<Figure size 500x500 with 1 Axes>"
      ]
     },
     "metadata": {},
     "output_type": "display_data"
    }
   ],
   "source": [
    "# NBVAL_IGNORE_OUTPUT\n",
    "fig, ax = plt.subplots(figsize=(5, 5))\n",
    "out = update_image(net['pore.diameter'])\n",
    "ax.imshow(out.T);"
   ]
  },
  {
   "cell_type": "markdown",
   "metadata": {},
   "source": [
    "Again, stadard physics is used to define the capillary entry pressures. And these are shown as a histogram for all the throats in the network."
   ]
  },
  {
   "cell_type": "code",
   "execution_count": 14,
   "metadata": {
    "execution": {
     "iopub.execute_input": "2022-09-07T19:26:29.610969Z",
     "iopub.status.busy": "2022-09-07T19:26:29.610505Z",
     "iopub.status.idle": "2022-09-07T19:26:29.626251Z",
     "shell.execute_reply": "2022-09-07T19:26:29.625494Z"
    }
   },
   "outputs": [
    {
     "ename": "AttributeError",
     "evalue": "module 'openpnm' has no attribute 'phases'",
     "output_type": "error",
     "traceback": [
      "\u001b[0;31m---------------------------------------------------------------------------\u001b[0m",
      "\u001b[0;31mAttributeError\u001b[0m                            Traceback (most recent call last)",
      "Cell \u001b[0;32mIn [14], line 1\u001b[0m\n\u001b[0;32m----> 1\u001b[0m water \u001b[38;5;241m=\u001b[39m \u001b[43mop\u001b[49m\u001b[38;5;241;43m.\u001b[39;49m\u001b[43mphases\u001b[49m\u001b[38;5;241m.\u001b[39mWater(network\u001b[38;5;241m=\u001b[39mnet)\n\u001b[1;32m      2\u001b[0m phys \u001b[38;5;241m=\u001b[39m op\u001b[38;5;241m.\u001b[39mphysics\u001b[38;5;241m.\u001b[39mBasic(network\u001b[38;5;241m=\u001b[39mnet, geometry\u001b[38;5;241m=\u001b[39mgeo, phase\u001b[38;5;241m=\u001b[39mwater)\n",
      "\u001b[0;31mAttributeError\u001b[0m: module 'openpnm' has no attribute 'phases'"
     ]
    }
   ],
   "source": [
    "water = op.phases.Water(network=net)\n",
    "phys = op.physics.Basic(network=net, geometry=geo, phase=water)"
   ]
  },
  {
   "cell_type": "code",
   "execution_count": 15,
   "metadata": {
    "execution": {
     "iopub.execute_input": "2022-09-07T19:26:29.629158Z",
     "iopub.status.busy": "2022-09-07T19:26:29.628918Z",
     "iopub.status.idle": "2022-09-07T19:26:29.769725Z",
     "shell.execute_reply": "2022-09-07T19:26:29.769038Z"
    }
   },
   "outputs": [
    {
     "ename": "NameError",
     "evalue": "name 'phys' is not defined",
     "output_type": "error",
     "traceback": [
      "\u001b[0;31m---------------------------------------------------------------------------\u001b[0m",
      "\u001b[0;31mNameError\u001b[0m                                 Traceback (most recent call last)",
      "Cell \u001b[0;32mIn [15], line 3\u001b[0m\n\u001b[1;32m      1\u001b[0m \u001b[38;5;66;03m# NBVAL_IGNORE_OUTPUT\u001b[39;00m\n\u001b[1;32m      2\u001b[0m fig, ax \u001b[38;5;241m=\u001b[39m plt\u001b[38;5;241m.\u001b[39msubplots(figsize\u001b[38;5;241m=\u001b[39m[\u001b[38;5;241m5\u001b[39m, \u001b[38;5;241m5\u001b[39m])\n\u001b[0;32m----> 3\u001b[0m ax\u001b[38;5;241m.\u001b[39mhist(\u001b[43mphys\u001b[49m[\u001b[38;5;124m'\u001b[39m\u001b[38;5;124mthroat.entry_pressure\u001b[39m\u001b[38;5;124m'\u001b[39m], bins\u001b[38;5;241m=\u001b[39m\u001b[38;5;241m10\u001b[39m)\n",
      "\u001b[0;31mNameError\u001b[0m: name 'phys' is not defined"
     ]
    },
    {
     "data": {
      "image/png": "[encoded data removed]",
      "text/plain": [
       "<Figure size 500x500 with 1 Axes>"
      ]
     },
     "metadata": {},
     "output_type": "display_data"
    }
   ],
   "source": [
    "# NBVAL_IGNORE_OUTPUT\n",
    "fig, ax = plt.subplots(figsize=[5, 5])\n",
    "ax.hist(phys['throat.entry_pressure'], bins=10);"
   ]
  },
  {
   "cell_type": "markdown",
   "metadata": {},
   "source": [
    "Next, the algorithm is defined and run with no arguments or outlets defined. This will proceed step by step assessing which pores are currently invaded (i.e. inlets first), which throats connect to an uninvaded pore and of these, which throat has the lowest capillary entry pressure for invasion. Invasion then proceeds along the path of least capillary resistance."
   ]
  },
  {
   "cell_type": "code",
   "execution_count": 16,
   "metadata": {
    "execution": {
     "iopub.execute_input": "2022-09-07T19:26:29.773944Z",
     "iopub.status.busy": "2022-09-07T19:26:29.773536Z",
     "iopub.status.idle": "2022-09-07T19:26:29.790708Z",
     "shell.execute_reply": "2022-09-07T19:26:29.789856Z"
    }
   },
   "outputs": [
    {
     "ename": "NameError",
     "evalue": "name 'water' is not defined",
     "output_type": "error",
     "traceback": [
      "\u001b[0;31m---------------------------------------------------------------------------\u001b[0m",
      "\u001b[0;31mNameError\u001b[0m                                 Traceback (most recent call last)",
      "Cell \u001b[0;32mIn [16], line 2\u001b[0m\n\u001b[1;32m      1\u001b[0m \u001b[38;5;66;03m# NBVAL_IGNORE_OUTPUT\u001b[39;00m\n\u001b[0;32m----> 2\u001b[0m alg_ip \u001b[38;5;241m=\u001b[39m op\u001b[38;5;241m.\u001b[39malgorithms\u001b[38;5;241m.\u001b[39mInvasionPercolation(network\u001b[38;5;241m=\u001b[39mnet, phase\u001b[38;5;241m=\u001b[39m\u001b[43mwater\u001b[49m)\n\u001b[1;32m      3\u001b[0m alg_ip\u001b[38;5;241m.\u001b[39mset_inlets(pores\u001b[38;5;241m=\u001b[39mnet\u001b[38;5;241m.\u001b[39mpores(\u001b[38;5;124m'\u001b[39m\u001b[38;5;124mxmin\u001b[39m\u001b[38;5;124m'\u001b[39m))\n\u001b[1;32m      4\u001b[0m alg_ip\u001b[38;5;241m.\u001b[39mrun()\n",
      "\u001b[0;31mNameError\u001b[0m: name 'water' is not defined"
     ]
    }
   ],
   "source": [
    "# NBVAL_IGNORE_OUTPUT\n",
    "alg_ip = op.algorithms.InvasionPercolation(network=net, phase=water)\n",
    "alg_ip.set_inlets(pores=net.pores('xmin'))\n",
    "alg_ip.run()"
   ]
  },
  {
   "cell_type": "code",
   "execution_count": 17,
   "metadata": {
    "execution": {
     "iopub.execute_input": "2022-09-07T19:26:29.793897Z",
     "iopub.status.busy": "2022-09-07T19:26:29.793648Z",
     "iopub.status.idle": "2022-09-07T19:26:29.933799Z",
     "shell.execute_reply": "2022-09-07T19:26:29.933073Z"
    }
   },
   "outputs": [
    {
     "ename": "NameError",
     "evalue": "name 'alg_ip' is not defined",
     "output_type": "error",
     "traceback": [
      "\u001b[0;31m---------------------------------------------------------------------------\u001b[0m",
      "\u001b[0;31mNameError\u001b[0m                                 Traceback (most recent call last)",
      "Cell \u001b[0;32mIn [17], line 3\u001b[0m\n\u001b[1;32m      1\u001b[0m \u001b[38;5;66;03m# NBVAL_IGNORE_OUTPUT\u001b[39;00m\n\u001b[1;32m      2\u001b[0m fig, ax \u001b[38;5;241m=\u001b[39m plt\u001b[38;5;241m.\u001b[39msubplots(figsize\u001b[38;5;241m=\u001b[39m(\u001b[38;5;241m5\u001b[39m, \u001b[38;5;241m5\u001b[39m))\n\u001b[0;32m----> 3\u001b[0m out \u001b[38;5;241m=\u001b[39m update_image(\u001b[43malg_ip\u001b[49m[\u001b[38;5;124m'\u001b[39m\u001b[38;5;124mpore.invasion_sequence\u001b[39m\u001b[38;5;124m'\u001b[39m])\n\u001b[1;32m      4\u001b[0m plt\u001b[38;5;241m.\u001b[39mimshow(out\u001b[38;5;241m.\u001b[39mT)\n",
      "\u001b[0;31mNameError\u001b[0m: name 'alg_ip' is not defined"
     ]
    },
    {
     "data": {
      "image/png": "[encoded data removed]",
      "text/plain": [
       "<Figure size 500x500 with 1 Axes>"
      ]
     },
     "metadata": {},
     "output_type": "display_data"
    }
   ],
   "source": [
    "# NBVAL_IGNORE_OUTPUT\n",
    "fig, ax = plt.subplots(figsize=(5, 5))\n",
    "out = update_image(alg_ip['pore.invasion_sequence'])\n",
    "plt.imshow(out.T);"
   ]
  },
  {
   "cell_type": "code",
   "execution_count": 18,
   "metadata": {
    "execution": {
     "iopub.execute_input": "2022-09-07T19:26:29.939014Z",
     "iopub.status.busy": "2022-09-07T19:26:29.937793Z",
     "iopub.status.idle": "2022-09-07T19:26:29.943550Z",
     "shell.execute_reply": "2022-09-07T19:26:29.942777Z"
    }
   },
   "outputs": [],
   "source": [
    "def plot_invasion(seq):\n",
    "    data = alg_ip['pore.invasion_sequence'] < seq\n",
    "    fig, ax = plt.subplots(figsize=(5, 5))\n",
    "    out = update_image(data)\n",
    "    plt.imshow(out.T);"
   ]
  },
  {
   "cell_type": "markdown",
   "metadata": {},
   "source": [
    "Using the slider below we can interactively plot the saturation at each invasion step (this works best using the left and right arrow keys)."
   ]
  },
  {
   "cell_type": "code",
   "execution_count": 19,
   "metadata": {
    "execution": {
     "iopub.execute_input": "2022-09-07T19:26:29.947674Z",
     "iopub.status.busy": "2022-09-07T19:26:29.947170Z",
     "iopub.status.idle": "2022-09-07T19:26:29.966496Z",
     "shell.execute_reply": "2022-09-07T19:26:29.965686Z"
    }
   },
   "outputs": [
    {
     "ename": "NameError",
     "evalue": "name 'alg_ip' is not defined",
     "output_type": "error",
     "traceback": [
      "\u001b[0;31m---------------------------------------------------------------------------\u001b[0m",
      "\u001b[0;31mNameError\u001b[0m                                 Traceback (most recent call last)",
      "Cell \u001b[0;32mIn [19], line 1\u001b[0m\n\u001b[0;32m----> 1\u001b[0m max_seq \u001b[38;5;241m=\u001b[39m \u001b[43malg_ip\u001b[49m[\u001b[38;5;124m'\u001b[39m\u001b[38;5;124mpore.invasion_sequence\u001b[39m\u001b[38;5;124m'\u001b[39m]\u001b[38;5;241m.\u001b[39mmax()\n\u001b[1;32m      2\u001b[0m interact(plot_invasion, seq\u001b[38;5;241m=\u001b[39mIntSlider(\u001b[38;5;28mmin\u001b[39m\u001b[38;5;241m=\u001b[39m\u001b[38;5;241m0\u001b[39m, \u001b[38;5;28mmax\u001b[39m\u001b[38;5;241m=\u001b[39mmax_seq, step\u001b[38;5;241m=\u001b[39m\u001b[38;5;241m1\u001b[39m, value\u001b[38;5;241m=\u001b[39m\u001b[38;5;241m200\u001b[39m))\n",
      "\u001b[0;31mNameError\u001b[0m: name 'alg_ip' is not defined"
     ]
    }
   ],
   "source": [
    "max_seq = alg_ip['pore.invasion_sequence'].max()\n",
    "interact(plot_invasion, seq=IntSlider(min=0, max=max_seq, step=1, value=200));"
   ]
  },
  {
   "cell_type": "markdown",
   "metadata": {},
   "source": [
    "As with ``Ordinary Percolation`` we can plot a drainage or intrusion curve but this time the capillary pressure is plotted from one step to the next as a continuous process with dynamic pressure boundary conditions and so is allowed to increase and decrease to meet the next lowest entry pressure for the invading cluster."
   ]
  },
  {
   "cell_type": "code",
   "execution_count": 20,
   "metadata": {
    "execution": {
     "iopub.execute_input": "2022-09-07T19:26:29.970062Z",
     "iopub.status.busy": "2022-09-07T19:26:29.969804Z",
     "iopub.status.idle": "2022-09-07T19:26:30.131189Z",
     "shell.execute_reply": "2022-09-07T19:26:30.127233Z"
    }
   },
   "outputs": [
    {
     "ename": "NameError",
     "evalue": "name 'alg_ip' is not defined",
     "output_type": "error",
     "traceback": [
      "\u001b[0;31m---------------------------------------------------------------------------\u001b[0m",
      "\u001b[0;31mNameError\u001b[0m                                 Traceback (most recent call last)",
      "Cell \u001b[0;32mIn [20], line 2\u001b[0m\n\u001b[1;32m      1\u001b[0m fig, ax \u001b[38;5;241m=\u001b[39m plt\u001b[38;5;241m.\u001b[39msubplots(figsize\u001b[38;5;241m=\u001b[39m(\u001b[38;5;241m5\u001b[39m, \u001b[38;5;241m5\u001b[39m))\n\u001b[0;32m----> 2\u001b[0m \u001b[43malg_ip\u001b[49m\u001b[38;5;241m.\u001b[39mplot_intrusion_curve(ax)\n",
      "\u001b[0;31mNameError\u001b[0m: name 'alg_ip' is not defined"
     ]
    },
    {
     "data": {
      "image/png": "[encoded data removed]",
      "text/plain": [
       "<Figure size 500x500 with 1 Axes>"
      ]
     },
     "metadata": {},
     "output_type": "display_data"
    }
   ],
   "source": [
    "fig, ax = plt.subplots(figsize=(5, 5))\n",
    "alg_ip.plot_intrusion_curve(ax)"
   ]
  },
  {
   "cell_type": "markdown",
   "metadata": {},
   "source": [
    "We can compare the results of the two algorithms and see that the pressure envelope, i.e. maximum pressure reached historically by the invasion process is the same as the ordinary percolation value."
   ]
  },
  {
   "cell_type": "code",
   "execution_count": 21,
   "metadata": {
    "execution": {
     "iopub.execute_input": "2022-09-07T19:26:30.135818Z",
     "iopub.status.busy": "2022-09-07T19:26:30.135504Z",
     "iopub.status.idle": "2022-09-07T19:26:30.273291Z",
     "shell.execute_reply": "2022-09-07T19:26:30.272641Z"
    }
   },
   "outputs": [
    {
     "ename": "AttributeError",
     "evalue": "module 'openpnm.algorithms' has no attribute 'OrdinaryPercolation'",
     "output_type": "error",
     "traceback": [
      "\u001b[0;31m---------------------------------------------------------------------------\u001b[0m",
      "\u001b[0;31mAttributeError\u001b[0m                            Traceback (most recent call last)",
      "Cell \u001b[0;32mIn [21], line 2\u001b[0m\n\u001b[1;32m      1\u001b[0m fig, ax \u001b[38;5;241m=\u001b[39m plt\u001b[38;5;241m.\u001b[39msubplots(figsize\u001b[38;5;241m=\u001b[39m(\u001b[38;5;241m5\u001b[39m, \u001b[38;5;241m5\u001b[39m))\n\u001b[0;32m----> 2\u001b[0m alg_op \u001b[38;5;241m=\u001b[39m \u001b[43mop\u001b[49m\u001b[38;5;241;43m.\u001b[39;49m\u001b[43malgorithms\u001b[49m\u001b[38;5;241;43m.\u001b[39;49m\u001b[43mOrdinaryPercolation\u001b[49m(network\u001b[38;5;241m=\u001b[39mnet, phase\u001b[38;5;241m=\u001b[39mwater)\n\u001b[1;32m      3\u001b[0m alg_op\u001b[38;5;241m.\u001b[39mset_inlets(net\u001b[38;5;241m.\u001b[39mpores(\u001b[38;5;124m'\u001b[39m\u001b[38;5;124mxmin\u001b[39m\u001b[38;5;124m'\u001b[39m))\n\u001b[1;32m      4\u001b[0m alg_op\u001b[38;5;241m.\u001b[39msettings\u001b[38;5;241m.\u001b[39m_update({\u001b[38;5;124m'\u001b[39m\u001b[38;5;124mpore_volume\u001b[39m\u001b[38;5;124m'\u001b[39m: \u001b[38;5;124m'\u001b[39m\u001b[38;5;124mpore.volume\u001b[39m\u001b[38;5;124m'\u001b[39m,\n\u001b[1;32m      5\u001b[0m                          \u001b[38;5;124m'\u001b[39m\u001b[38;5;124mthroat_volume\u001b[39m\u001b[38;5;124m'\u001b[39m: \u001b[38;5;124m'\u001b[39m\u001b[38;5;124mthroat.volume\u001b[39m\u001b[38;5;124m'\u001b[39m})\n",
      "\u001b[0;31mAttributeError\u001b[0m: module 'openpnm.algorithms' has no attribute 'OrdinaryPercolation'"
     ]
    },
    {
     "data": {
      "image/png": "[encoded data removed]",
      "text/plain": [
       "<Figure size 500x500 with 1 Axes>"
      ]
     },
     "metadata": {},
     "output_type": "display_data"
    }
   ],
   "source": [
    "fig, ax = plt.subplots(figsize=(5, 5))\n",
    "alg_op = op.algorithms.OrdinaryPercolation(network=net, phase=water)\n",
    "alg_op.set_inlets(net.pores('xmin'))\n",
    "alg_op.settings._update({'pore_volume': 'pore.volume',\n",
    "                         'throat_volume': 'throat.volume'})\n",
    "alg_op.run(points=1000)\n",
    "alg_op.plot_intrusion_curve(ax)\n",
    "alg_ip.plot_intrusion_curve(ax)"
   ]
  },
  {
   "cell_type": "markdown",
   "metadata": {},
   "source": [
    "An additional feature of the algorithm is the ability to identify where the defending phase becomes trapped. Whether this happens in reality in-fact relies on the connectivity of the defending phase and whether it can reside in the invaded pores as thin wetting films. If not then the defending phase is completely pushed out of a pore when invaded and it can become isolated and trapped when encircled by the invading phase. OpenPNM actually calculates this trapping as a post-process, employing some clever logic described by [Masson 2016](http://dx.doi.org/10.1016/j.cageo.2016.02.003)."
   ]
  },
  {
   "cell_type": "code",
   "execution_count": 22,
   "metadata": {
    "execution": {
     "iopub.execute_input": "2022-09-07T19:26:30.276647Z",
     "iopub.status.busy": "2022-09-07T19:26:30.276203Z",
     "iopub.status.idle": "2022-09-07T19:26:30.295437Z",
     "shell.execute_reply": "2022-09-07T19:26:30.294507Z"
    }
   },
   "outputs": [
    {
     "ename": "NameError",
     "evalue": "name 'water' is not defined",
     "output_type": "error",
     "traceback": [
      "\u001b[0;31m---------------------------------------------------------------------------\u001b[0m",
      "\u001b[0;31mNameError\u001b[0m                                 Traceback (most recent call last)",
      "Cell \u001b[0;32mIn [22], line 1\u001b[0m\n\u001b[0;32m----> 1\u001b[0m alg_ip_t \u001b[38;5;241m=\u001b[39m op\u001b[38;5;241m.\u001b[39malgorithms\u001b[38;5;241m.\u001b[39mInvasionPercolation(network\u001b[38;5;241m=\u001b[39mnet, phase\u001b[38;5;241m=\u001b[39m\u001b[43mwater\u001b[49m)\n\u001b[1;32m      2\u001b[0m alg_ip_t\u001b[38;5;241m.\u001b[39mset_inlets(pores\u001b[38;5;241m=\u001b[39mnet\u001b[38;5;241m.\u001b[39mpores(\u001b[38;5;124m'\u001b[39m\u001b[38;5;124mxmin\u001b[39m\u001b[38;5;124m'\u001b[39m))\n\u001b[1;32m      3\u001b[0m alg_ip_t\u001b[38;5;241m.\u001b[39mrun()\n",
      "\u001b[0;31mNameError\u001b[0m: name 'water' is not defined"
     ]
    }
   ],
   "source": [
    "alg_ip_t = op.algorithms.InvasionPercolation(network=net, phase=water)\n",
    "alg_ip_t.set_inlets(pores=net.pores('xmin'))\n",
    "alg_ip_t.run()\n",
    "alg_ip_t.apply_trapping(outlets=net.pores(['boundary']))\n",
    "fig, ax = plt.subplots(figsize=(5, 5))\n",
    "out = update_image(alg_ip_t['pore.trapped'])\n",
    "ax.imshow(out.T);"
   ]
  },
  {
   "cell_type": "markdown",
   "metadata": {},
   "source": [
    "Here a reasonable fraction of the pore space is not invaded due to trapping of the defending phase. Generally this fraction will be lower in truly 3D networks as there are more routes out of the network because pores have higher connectivity. Also, typically if a defending phase is considered to be wetting then film flow is assumed to allow residual defending phase to escape. However, we can show the differences on one plot with and without trapping below."
   ]
  },
  {
   "cell_type": "code",
   "execution_count": 23,
   "metadata": {
    "execution": {
     "iopub.execute_input": "2022-09-07T19:26:30.299269Z",
     "iopub.status.busy": "2022-09-07T19:26:30.298836Z",
     "iopub.status.idle": "2022-09-07T19:26:30.437323Z",
     "shell.execute_reply": "2022-09-07T19:26:30.436656Z"
    }
   },
   "outputs": [
    {
     "ename": "NameError",
     "evalue": "name 'alg_ip' is not defined",
     "output_type": "error",
     "traceback": [
      "\u001b[0;31m---------------------------------------------------------------------------\u001b[0m",
      "\u001b[0;31mNameError\u001b[0m                                 Traceback (most recent call last)",
      "Cell \u001b[0;32mIn [23], line 2\u001b[0m\n\u001b[1;32m      1\u001b[0m fig, ax \u001b[38;5;241m=\u001b[39m plt\u001b[38;5;241m.\u001b[39msubplots(figsize\u001b[38;5;241m=\u001b[39m(\u001b[38;5;241m5\u001b[39m, \u001b[38;5;241m5\u001b[39m))\n\u001b[0;32m----> 2\u001b[0m \u001b[43malg_ip\u001b[49m\u001b[38;5;241m.\u001b[39mplot_intrusion_curve(ax)\n\u001b[1;32m      3\u001b[0m alg_ip_t\u001b[38;5;241m.\u001b[39mplot_intrusion_curve(ax)\n",
      "\u001b[0;31mNameError\u001b[0m: name 'alg_ip' is not defined"
     ]
    },
    {
     "data": {
      "image/png": "[encoded data removed]",
      "text/plain": [
       "<Figure size 500x500 with 1 Axes>"
      ]
     },
     "metadata": {},
     "output_type": "display_data"
    }
   ],
   "source": [
    "fig, ax = plt.subplots(figsize=(5, 5))\n",
    "alg_ip.plot_intrusion_curve(ax)\n",
    "alg_ip_t.plot_intrusion_curve(ax)"
   ]
  }
 ],
 "metadata": {
  "@webio": {
   "lastCommId": null,
   "lastKernelId": null
  },
  "kernelspec": {
   "display_name": "Python 3",
   "language": "python",
   "name": "python3"
  },
  "language_info": {
   "codemirror_mode": {
    "name": "ipython",
    "version": 3
   },
   "file_extension": ".py",
   "mimetype": "text/x-python",
   "name": "python",
   "nbconvert_exporter": "python",
   "pygments_lexer": "ipython3",
   "version": "3.8.13"
  },
  "toc": {
   "base_numbering": 1,
   "nav_menu": {},
   "number_sections": true,
   "sideBar": true,
   "skip_h1_title": true,
   "title_cell": "Table of Contents",
   "title_sidebar": "Contents",
   "toc_cell": true,
   "toc_position": {},
   "toc_section_display": true,
   "toc_window_display": false
  }
 },
 "nbformat": 4,
 "nbformat_minor": 4
}
