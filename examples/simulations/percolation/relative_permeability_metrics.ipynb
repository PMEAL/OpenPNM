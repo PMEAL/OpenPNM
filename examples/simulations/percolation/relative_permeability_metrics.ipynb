{
 "cells": [
  {
   "cell_type": "markdown",
   "metadata": {},
   "source": [
    "# Relative Permeability"
   ]
  },
  {
   "cell_type": "markdown",
   "metadata": {},
   "source": [
    "This is an example of relative permeability calculation using Metrics algorithm in OpenPNM. First, we create a network and assign geometry,phases and physics in a similar way that we used to do for the other examples."
   ]
  },
  {
   "cell_type": "code",
   "execution_count": 1,
   "metadata": {
    "execution": {
     "iopub.execute_input": "2022-09-07T19:26:54.955911Z",
     "iopub.status.busy": "2022-09-07T19:26:54.955486Z",
     "iopub.status.idle": "2022-09-07T19:26:56.689630Z",
     "shell.execute_reply": "2022-09-07T19:26:56.688499Z"
    }
   },
   "outputs": [],
   "source": [
    "import numpy as np\n",
    "import pandas as pd\n",
    "import openpnm as op\n",
    "%config InlineBackend.figure_formats = ['svg']\n",
    "import openpnm.models.physics as pmods\n",
    "import matplotlib.pyplot as plt"
   ]
  },
  {
   "cell_type": "code",
   "execution_count": 2,
   "metadata": {
    "execution": {
     "iopub.execute_input": "2022-09-07T19:26:56.694825Z",
     "iopub.status.busy": "2022-09-07T19:26:56.694148Z",
     "iopub.status.idle": "2022-09-07T19:26:57.256310Z",
     "shell.execute_reply": "2022-09-07T19:26:57.255500Z"
    }
   },
   "outputs": [
    {
     "ename": "AttributeError",
     "evalue": "module 'openpnm' has no attribute 'geometry'",
     "output_type": "error",
     "traceback": [
      "\u001b[0;31m---------------------------------------------------------------------------\u001b[0m",
      "\u001b[0;31mAttributeError\u001b[0m                            Traceback (most recent call last)",
      "Cell \u001b[0;32mIn [2], line 2\u001b[0m\n\u001b[1;32m      1\u001b[0m pn \u001b[38;5;241m=\u001b[39m op\u001b[38;5;241m.\u001b[39mnetwork\u001b[38;5;241m.\u001b[39mCubic(shape\u001b[38;5;241m=\u001b[39m[\u001b[38;5;241m15\u001b[39m,\u001b[38;5;241m15\u001b[39m,\u001b[38;5;241m15\u001b[39m], spacing\u001b[38;5;241m=\u001b[39m\u001b[38;5;241m6e-5\u001b[39m)\n\u001b[0;32m----> 2\u001b[0m geom \u001b[38;5;241m=\u001b[39m \u001b[43mop\u001b[49m\u001b[38;5;241;43m.\u001b[39;49m\u001b[43mgeometry\u001b[49m\u001b[38;5;241m.\u001b[39mSpheresAndCylinders(network\u001b[38;5;241m=\u001b[39mpn, pores\u001b[38;5;241m=\u001b[39mpn[\u001b[38;5;124m'\u001b[39m\u001b[38;5;124mpore.all\u001b[39m\u001b[38;5;124m'\u001b[39m],\n\u001b[1;32m      3\u001b[0m                                 throats\u001b[38;5;241m=\u001b[39mpn[\u001b[38;5;124m'\u001b[39m\u001b[38;5;124mthroat.all\u001b[39m\u001b[38;5;124m'\u001b[39m])\n\u001b[1;32m      4\u001b[0m air \u001b[38;5;241m=\u001b[39m op\u001b[38;5;241m.\u001b[39mphases\u001b[38;5;241m.\u001b[39mAir(network\u001b[38;5;241m=\u001b[39mpn,name\u001b[38;5;241m=\u001b[39m\u001b[38;5;124m'\u001b[39m\u001b[38;5;124mair\u001b[39m\u001b[38;5;124m'\u001b[39m)\n\u001b[1;32m      5\u001b[0m water \u001b[38;5;241m=\u001b[39m op\u001b[38;5;241m.\u001b[39mphases\u001b[38;5;241m.\u001b[39mWater(network\u001b[38;5;241m=\u001b[39mpn,name\u001b[38;5;241m=\u001b[39m\u001b[38;5;124m'\u001b[39m\u001b[38;5;124mwater\u001b[39m\u001b[38;5;124m'\u001b[39m)\n",
      "\u001b[0;31mAttributeError\u001b[0m: module 'openpnm' has no attribute 'geometry'"
     ]
    }
   ],
   "source": [
    "pn = op.network.Cubic(shape=[15,15,15], spacing=6e-5)\n",
    "geom = op.geometry.SpheresAndCylinders(network=pn, pores=pn['pore.all'],\n",
    "                                throats=pn['throat.all'])\n",
    "air = op.phases.Air(network=pn,name='air')\n",
    "water = op.phases.Water(network=pn,name='water')\n",
    "air.add_model(propname='throat.hydraulic_conductance',\n",
    "              model=pmods.hydraulic_conductance.hagen_poiseuille)\n",
    "air.add_model(propname='throat.entry_pressure',\n",
    "              model=pmods.capillary_pressure.washburn)\n",
    "water.add_model(propname='throat.hydraulic_conductance',\n",
    "                model=pmods.hydraulic_conductance.hagen_poiseuille)\n",
    "water.add_model(propname='throat.entry_pressure',\n",
    "                model=pmods.capillary_pressure.washburn)"
   ]
  },
  {
   "cell_type": "markdown",
   "metadata": {},
   "source": [
    "The only other argument that needs to be passed to the metrics relative permeability is the invasion sequence (We made it as a user defined sequence, so that the user has the option to implement the drainage process in any direction using any algorithm). The invasion sequence can be obtained by implementing an Invasion Percolation on the network. Asumming a drainage process, the air(invading/non-wetting phase) will be invading the medium.\n",
    "\n",
    "In the following code, we can find the invasion sequence applying an invasion percolation through a user-defined inlet face (here from the left surface pores in the x direction). By updating the air phase, the invasion sequence can then be found using the phase occupancy which is a property of the phase. This calculation is all done inside the metrics relative permeability algorithm without any user contribution. We encourage the users to reach the available source code of this algorithm for more information."
   ]
  },
  {
   "cell_type": "code",
   "execution_count": 3,
   "metadata": {
    "execution": {
     "iopub.execute_input": "2022-09-07T19:26:57.260762Z",
     "iopub.status.busy": "2022-09-07T19:26:57.260243Z",
     "iopub.status.idle": "2022-09-07T19:26:57.276723Z",
     "shell.execute_reply": "2022-09-07T19:26:57.275889Z"
    }
   },
   "outputs": [
    {
     "ename": "NameError",
     "evalue": "name 'air' is not defined",
     "output_type": "error",
     "traceback": [
      "\u001b[0;31m---------------------------------------------------------------------------\u001b[0m",
      "\u001b[0;31mNameError\u001b[0m                                 Traceback (most recent call last)",
      "Cell \u001b[0;32mIn [3], line 1\u001b[0m\n\u001b[0;32m----> 1\u001b[0m ip \u001b[38;5;241m=\u001b[39m op\u001b[38;5;241m.\u001b[39malgorithms\u001b[38;5;241m.\u001b[39mInvasionPercolation(network\u001b[38;5;241m=\u001b[39mpn, phase\u001b[38;5;241m=\u001b[39m\u001b[43mair\u001b[49m)\n\u001b[1;32m      2\u001b[0m Finlets\u001b[38;5;241m=\u001b[39m pn\u001b[38;5;241m.\u001b[39mpores(\u001b[38;5;124m'\u001b[39m\u001b[38;5;124mtop\u001b[39m\u001b[38;5;124m'\u001b[39m)\n\u001b[1;32m      3\u001b[0m ip\u001b[38;5;241m.\u001b[39mset_inlets(pores\u001b[38;5;241m=\u001b[39mFinlets)\n",
      "\u001b[0;31mNameError\u001b[0m: name 'air' is not defined"
     ]
    }
   ],
   "source": [
    "ip = op.algorithms.InvasionPercolation(network=pn, phase=air)\n",
    "Finlets= pn.pores('top')\n",
    "ip.set_inlets(pores=Finlets)\n",
    "ip.run()\n",
    "air.update(ip.results())"
   ]
  },
  {
   "cell_type": "markdown",
   "metadata": {},
   "source": [
    "Having the network and invasion sequence, we can now use the metrics relative permeability algorithm. These are the minimum required arguments for the algorithm to be run. If we do not pass the defending phase to the algorithm, it does not give us any report related to the defendin phase relative permeability. If we do not define the flow direction, it will automatically calculate the relative permeability in all three directions"
   ]
  },
  {
   "cell_type": "code",
   "execution_count": 4,
   "metadata": {
    "execution": {
     "iopub.execute_input": "2022-09-07T19:26:57.280364Z",
     "iopub.status.busy": "2022-09-07T19:26:57.280127Z",
     "iopub.status.idle": "2022-09-07T19:26:57.295210Z",
     "shell.execute_reply": "2022-09-07T19:26:57.294470Z"
    }
   },
   "outputs": [
    {
     "ename": "AttributeError",
     "evalue": "module 'openpnm.algorithms' has no attribute 'metrics'",
     "output_type": "error",
     "traceback": [
      "\u001b[0;31m---------------------------------------------------------------------------\u001b[0m",
      "\u001b[0;31mAttributeError\u001b[0m                            Traceback (most recent call last)",
      "Cell \u001b[0;32mIn [4], line 1\u001b[0m\n\u001b[0;32m----> 1\u001b[0m rp \u001b[38;5;241m=\u001b[39m \u001b[43mop\u001b[49m\u001b[38;5;241;43m.\u001b[39;49m\u001b[43malgorithms\u001b[49m\u001b[38;5;241;43m.\u001b[39;49m\u001b[43mmetrics\u001b[49m\u001b[38;5;241m.\u001b[39mRelativePermeability(network\u001b[38;5;241m=\u001b[39mpn)\n\u001b[1;32m      2\u001b[0m rp\u001b[38;5;241m.\u001b[39msettings\u001b[38;5;241m.\u001b[39mupdate({\u001b[38;5;124m'\u001b[39m\u001b[38;5;124mnwp\u001b[39m\u001b[38;5;124m'\u001b[39m: \u001b[38;5;124m'\u001b[39m\u001b[38;5;124mair\u001b[39m\u001b[38;5;124m'\u001b[39m,\n\u001b[1;32m      3\u001b[0m                     \u001b[38;5;124m'\u001b[39m\u001b[38;5;124minvasion_sequence\u001b[39m\u001b[38;5;124m'\u001b[39m: \u001b[38;5;124m'\u001b[39m\u001b[38;5;124minvasion_sequence\u001b[39m\u001b[38;5;124m'\u001b[39m})\n\u001b[1;32m      4\u001b[0m rp\u001b[38;5;241m.\u001b[39mrun(Snwp_num\u001b[38;5;241m=\u001b[39m\u001b[38;5;241m10\u001b[39m)\n",
      "\u001b[0;31mAttributeError\u001b[0m: module 'openpnm.algorithms' has no attribute 'metrics'"
     ]
    }
   ],
   "source": [
    "rp = op.algorithms.metrics.RelativePermeability(network=pn)\n",
    "rp.settings.update({'nwp': 'air',\n",
    "                    'invasion_sequence': 'invasion_sequence'})\n",
    "rp.run(Snwp_num=10)"
   ]
  },
  {
   "cell_type": "markdown",
   "metadata": {},
   "source": [
    "Once the algorithm is run, the output can either be a table of values or a graph showing the relative permeability curves of the phase(s). Here we call both of those methods to see the outputs. "
   ]
  },
  {
   "cell_type": "code",
   "execution_count": 5,
   "metadata": {
    "execution": {
     "iopub.execute_input": "2022-09-07T19:26:57.298926Z",
     "iopub.status.busy": "2022-09-07T19:26:57.298444Z",
     "iopub.status.idle": "2022-09-07T19:26:57.312548Z",
     "shell.execute_reply": "2022-09-07T19:26:57.311765Z"
    }
   },
   "outputs": [
    {
     "ename": "NameError",
     "evalue": "name 'rp' is not defined",
     "output_type": "error",
     "traceback": [
      "\u001b[0;31m---------------------------------------------------------------------------\u001b[0m",
      "\u001b[0;31mNameError\u001b[0m                                 Traceback (most recent call last)",
      "Cell \u001b[0;32mIn [5], line 1\u001b[0m\n\u001b[0;32m----> 1\u001b[0m results\u001b[38;5;241m=\u001b[39m\u001b[43mrp\u001b[49m\u001b[38;5;241m.\u001b[39mget_Kr_data()\n\u001b[1;32m      2\u001b[0m pd\u001b[38;5;241m.\u001b[39mDataFrame(results[\u001b[38;5;124m'\u001b[39m\u001b[38;5;124mkr_nwp\u001b[39m\u001b[38;5;124m'\u001b[39m])\n",
      "\u001b[0;31mNameError\u001b[0m: name 'rp' is not defined"
     ]
    }
   ],
   "source": [
    "results=rp.get_Kr_data()\n",
    "pd.DataFrame(results['kr_nwp'])"
   ]
  },
  {
   "cell_type": "code",
   "execution_count": 6,
   "metadata": {
    "execution": {
     "iopub.execute_input": "2022-09-07T19:26:57.316096Z",
     "iopub.status.busy": "2022-09-07T19:26:57.315842Z",
     "iopub.status.idle": "2022-09-07T19:26:57.329677Z",
     "shell.execute_reply": "2022-09-07T19:26:57.328827Z"
    }
   },
   "outputs": [
    {
     "ename": "NameError",
     "evalue": "name 'rp' is not defined",
     "output_type": "error",
     "traceback": [
      "\u001b[0;31m---------------------------------------------------------------------------\u001b[0m",
      "\u001b[0;31mNameError\u001b[0m                                 Traceback (most recent call last)",
      "Cell \u001b[0;32mIn [6], line 1\u001b[0m\n\u001b[0;32m----> 1\u001b[0m fig \u001b[38;5;241m=\u001b[39m \u001b[43mrp\u001b[49m\u001b[38;5;241m.\u001b[39mplot_Kr_curves()\n",
      "\u001b[0;31mNameError\u001b[0m: name 'rp' is not defined"
     ]
    }
   ],
   "source": [
    "fig = rp.plot_Kr_curves()"
   ]
  },
  {
   "cell_type": "markdown",
   "metadata": {},
   "source": [
    "In order to get the relative permeability curves of both phases, we need to pass the defending phase as an argument to the algorithm."
   ]
  },
  {
   "cell_type": "code",
   "execution_count": 7,
   "metadata": {
    "execution": {
     "iopub.execute_input": "2022-09-07T19:26:57.333556Z",
     "iopub.status.busy": "2022-09-07T19:26:57.333320Z",
     "iopub.status.idle": "2022-09-07T19:26:57.349736Z",
     "shell.execute_reply": "2022-09-07T19:26:57.348865Z"
    }
   },
   "outputs": [
    {
     "ename": "AttributeError",
     "evalue": "module 'openpnm.algorithms' has no attribute 'metrics'",
     "output_type": "error",
     "traceback": [
      "\u001b[0;31m---------------------------------------------------------------------------\u001b[0m",
      "\u001b[0;31mAttributeError\u001b[0m                            Traceback (most recent call last)",
      "Cell \u001b[0;32mIn [7], line 1\u001b[0m\n\u001b[0;32m----> 1\u001b[0m rp \u001b[38;5;241m=\u001b[39m \u001b[43mop\u001b[49m\u001b[38;5;241;43m.\u001b[39;49m\u001b[43malgorithms\u001b[49m\u001b[38;5;241;43m.\u001b[39;49m\u001b[43mmetrics\u001b[49m\u001b[38;5;241m.\u001b[39mRelativePermeability(network\u001b[38;5;241m=\u001b[39mpn)\n\u001b[1;32m      2\u001b[0m rp\u001b[38;5;241m.\u001b[39msettings\u001b[38;5;241m.\u001b[39mupdate({\u001b[38;5;124m'\u001b[39m\u001b[38;5;124mnwp\u001b[39m\u001b[38;5;124m'\u001b[39m: \u001b[38;5;124m'\u001b[39m\u001b[38;5;124mair\u001b[39m\u001b[38;5;124m'\u001b[39m,\n\u001b[1;32m      3\u001b[0m                     \u001b[38;5;124m'\u001b[39m\u001b[38;5;124mwp\u001b[39m\u001b[38;5;124m'\u001b[39m: \u001b[38;5;124m'\u001b[39m\u001b[38;5;124mwater\u001b[39m\u001b[38;5;124m'\u001b[39m,\n\u001b[1;32m      4\u001b[0m                     \u001b[38;5;124m'\u001b[39m\u001b[38;5;124minvasion_sequence\u001b[39m\u001b[38;5;124m'\u001b[39m: \u001b[38;5;124m'\u001b[39m\u001b[38;5;124minvasion_sequence\u001b[39m\u001b[38;5;124m'\u001b[39m})\n\u001b[1;32m      5\u001b[0m rp\u001b[38;5;241m.\u001b[39mrun(Snwp_num\u001b[38;5;241m=\u001b[39m\u001b[38;5;241m10\u001b[39m)\n",
      "\u001b[0;31mAttributeError\u001b[0m: module 'openpnm.algorithms' has no attribute 'metrics'"
     ]
    }
   ],
   "source": [
    "rp = op.algorithms.metrics.RelativePermeability(network=pn)\n",
    "rp.settings.update({'nwp': 'air',\n",
    "                    'wp': 'water',\n",
    "                    'invasion_sequence': 'invasion_sequence'})\n",
    "rp.run(Snwp_num=10)\n",
    "fig = rp.plot_Kr_curves()"
   ]
  },
  {
   "cell_type": "markdown",
   "metadata": {},
   "source": [
    "The algorithm can also find the relative permeabilities of the phase(s) in the user-defined flow direction(s). The algorithm overwrites the flow inlets/outlets for the user-defined direction. Then calculates the relative permeability through the other directions from the default settings. This is illustrated as following."
   ]
  },
  {
   "cell_type": "code",
   "execution_count": 8,
   "metadata": {
    "execution": {
     "iopub.execute_input": "2022-09-07T19:26:57.353131Z",
     "iopub.status.busy": "2022-09-07T19:26:57.352894Z",
     "iopub.status.idle": "2022-09-07T19:26:57.371562Z",
     "shell.execute_reply": "2022-09-07T19:26:57.370823Z"
    },
    "scrolled": false
   },
   "outputs": [
    {
     "ename": "AttributeError",
     "evalue": "module 'openpnm.algorithms' has no attribute 'metrics'",
     "output_type": "error",
     "traceback": [
      "\u001b[0;31m---------------------------------------------------------------------------\u001b[0m",
      "\u001b[0;31mAttributeError\u001b[0m                            Traceback (most recent call last)",
      "Cell \u001b[0;32mIn [8], line 1\u001b[0m\n\u001b[0;32m----> 1\u001b[0m rp \u001b[38;5;241m=\u001b[39m \u001b[43mop\u001b[49m\u001b[38;5;241;43m.\u001b[39;49m\u001b[43malgorithms\u001b[49m\u001b[38;5;241;43m.\u001b[39;49m\u001b[43mmetrics\u001b[49m\u001b[38;5;241m.\u001b[39mRelativePermeability(network\u001b[38;5;241m=\u001b[39mpn)\n\u001b[1;32m      2\u001b[0m inlets \u001b[38;5;241m=\u001b[39m {\u001b[38;5;124m'\u001b[39m\u001b[38;5;124mx\u001b[39m\u001b[38;5;124m'\u001b[39m: \u001b[38;5;124m'\u001b[39m\u001b[38;5;124mtop\u001b[39m\u001b[38;5;124m'\u001b[39m}\n\u001b[1;32m      3\u001b[0m outlets \u001b[38;5;241m=\u001b[39m {\u001b[38;5;124m'\u001b[39m\u001b[38;5;124mx\u001b[39m\u001b[38;5;124m'\u001b[39m: \u001b[38;5;124m'\u001b[39m\u001b[38;5;124mbottom\u001b[39m\u001b[38;5;124m'\u001b[39m}\n",
      "\u001b[0;31mAttributeError\u001b[0m: module 'openpnm.algorithms' has no attribute 'metrics'"
     ]
    }
   ],
   "source": [
    "rp = op.algorithms.metrics.RelativePermeability(network=pn)\n",
    "inlets = {'x': 'top'}\n",
    "outlets = {'x': 'bottom'}\n",
    "rp.settings.update({'nwp': 'air',\n",
    "                    'wp': 'water',\n",
    "                    'invasion_sequence': 'invasion_sequence'\n",
    "                            })\n",
    "rp.settings['flow_inlets'].update(inlets)\n",
    "rp.settings['flow_outlets'].update(outlets)\n",
    "rp.run(Snwp_num=10)\n",
    "fig = rp.plot_Kr_curves()"
   ]
  },
  {
   "cell_type": "markdown",
   "metadata": {},
   "source": [
    "As we see both Kr values for the x and z direction are the same, because we changed the inlets/outlets in the x direction in such a way that it is equivalent to the algorithm default z direction. If we pass the flow intelts/outlets to the algorithm, the algorithm overwrites its default pores with the passed arguments corresponding to that direction. The same procedure cna be applied to a 2D model."
   ]
  },
  {
   "cell_type": "markdown",
   "metadata": {},
   "source": [
    "Note: The direction of the flow is found by finding the boundaries' corresponding cartesian coordinates direction. This rule also allows the user to define their boundary pores easily. As an example if the user defines the 'x' direction boundary pores, the algorithm overwrites the default boundary pores that were related to the 'x' direction. Any other possible boundaries (which is dependent on the shape of the network) will be automatically assigned to the default pores in the other direction. Note that the algorithm distinguishes whether a network is a 2D or not by looking at the number of boundary faces labeled. By doing so, the shape of the network is found and so does their corresponding default boundary pores. As mentioned before the algorithm will not plot the defending phase curves, if it is not passed as an argument (optional)."
   ]
  }
 ],
 "metadata": {
  "kernelspec": {
   "display_name": "Python 3",
   "language": "python",
   "name": "python3"
  },
  "language_info": {
   "codemirror_mode": {
    "name": "ipython",
    "version": 3
   },
   "file_extension": ".py",
   "mimetype": "text/x-python",
   "name": "python",
   "nbconvert_exporter": "python",
   "pygments_lexer": "ipython3",
   "version": "3.8.13"
  }
 },
 "nbformat": 4,
 "nbformat_minor": 2
}
