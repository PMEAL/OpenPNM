{
 "cells": [
  {
   "cell_type": "markdown",
   "metadata": {},
   "source": [
    "# Meniscus Model Comparison\n",
    "## Comparison of toroidal meniscus models with different profile shapes\n",
    "\n",
    "## Introduction\n",
    "\n",
    "So far all the capillary entry pressures for the percoaltion examples were calculated using the ``Standard`` physics model which is the ``Washburn`` model for straight walled capillary tubes. This has been shown to be a bad model for fibrous media where the walls of throats are converging and diverging. In the study [Capillary Hysteresis in Neutrally Wettable Fibrous Media: A Pore Network Study of a Fuel Cell Electrode](http://link.springer.com/10.1007/s11242-017-0973-2) percolation in fibrous media was simulated using a meniscus model that assumed the contrictions between fibers are similar to a toroid:"
   ]
  },
  {
   "cell_type": "markdown",
   "metadata": {},
   "source": [
    "![](https://media.giphy.com/media/AIbz7mpqxgc5a/giphy.gif)"
   ]
  },
  {
   "cell_type": "markdown",
   "metadata": {},
   "source": [
    "This model was first proposed by Purcell and treats the inner solid profile as a circle. As the fluid invades through the center of the torus the meniscus is pinned to the surface and the \"effective\" contact angle becomes influenced by the converging diverging geometry and is a function of the filling angle $\\alpha$. The shape of the meniscus as the invading phase moves upwards through the torus with key model parameters is shown below."
   ]
  },
  {
   "cell_type": "markdown",
   "metadata": {},
   "source": [
    "![](https://i.imgur.com/b2der2w.png)"
   ]
  },
  {
   "cell_type": "markdown",
   "metadata": {},
   "source": [
    "Different intrinsic contact angles through invading phase are shown above: (a) 60$^\\circ$, (b) 90$^\\circ$ and (c) 120$^\\circ$. All scenarios clearly show an inflection of the meniscus curvature signifying a switch in the sign of the capillary pressure from negative to positive. This inflection is predicted to occur for all contact angles by the model with varying filling angle. The capillary pressure can be shown to be:"
   ]
  },
  {
   "cell_type": "markdown",
   "metadata": {},
   "source": [
    "$P_C = -2\\sigma cos(\\theta-\\alpha))/(r+R(1-cos(\\alpha))$"
   ]
  },
  {
   "cell_type": "markdown",
   "metadata": {},
   "source": [
    "A consequence of the circular solid profile is that all fluid behaves as non-wetting fluid because $\\alpha$ can range from -90$^\\circ$ to 90$^\\circ$ degrees and so even if $\\theta$ is 0 then the meniscus is still pinned at zero capillary pressure at the very furthest part of the throat where the $\\alpha$ is 90$^\\circ$"
   ]
  },
  {
   "cell_type": "markdown",
   "metadata": {},
   "source": [
    "Considering other shapes of solid profile this situation can be avoided. It will be shown by reformulating the Purcell model in a more general way that allows for a flexible defintion of the solid profile that filling angle can be limited to values below 90 and allow for spontaneous imbibition (percolation threshold below zero) of highly wetting fluids."
   ]
  },
  {
   "cell_type": "markdown",
   "metadata": {},
   "source": [
    "## Set up\n",
    "We will set up a trivially small network with one throat to demonstrate the use of the meniscus model. Here we do the imports and define a few functions for plotting."
   ]
  },
  {
   "cell_type": "code",
   "execution_count": 1,
   "metadata": {
    "execution": {
     "iopub.execute_input": "2022-09-07T19:26:38.423326Z",
     "iopub.status.busy": "2022-09-07T19:26:38.423021Z",
     "iopub.status.idle": "2022-09-07T19:26:39.506629Z",
     "shell.execute_reply": "2022-09-07T19:26:39.505754Z"
    }
   },
   "outputs": [],
   "source": [
    "import matplotlib\n",
    "%matplotlib inline\n",
    "import matplotlib.pyplot as plt\n",
    "import numpy as np\n",
    "import sympy as syp\n",
    "from sympy import lambdify, symbols\n",
    "from sympy import atan as sym_atan\n",
    "from sympy import cos as sym_cos\n",
    "from sympy import sin as sym_sin\n",
    "from sympy import sqrt as sym_sqrt\n",
    "from sympy import pi as sym_pi\n",
    "from ipywidgets import interact, fixed\n",
    "from IPython.display import display\n",
    "import warnings\n",
    "np.random.seed(10)\n",
    "warnings.simplefilter(action='ignore')\n",
    "matplotlib.rcParams['figure.figsize'] = (5, 5)"
   ]
  },
  {
   "cell_type": "code",
   "execution_count": 2,
   "metadata": {
    "execution": {
     "iopub.execute_input": "2022-09-07T19:26:39.510617Z",
     "iopub.status.busy": "2022-09-07T19:26:39.510289Z",
     "iopub.status.idle": "2022-09-07T19:26:39.515399Z",
     "shell.execute_reply": "2022-09-07T19:26:39.514344Z"
    }
   },
   "outputs": [],
   "source": [
    "theta = 60\n",
    "fiberRad = 5e-6\n",
    "throatRad = 1e-5\n",
    "max_bulge = 1e-5"
   ]
  },
  {
   "cell_type": "markdown",
   "metadata": {},
   "source": [
    "Now we define our two pore network and add the meniscus model in several modes: 'max' returns the maximum pressure experienced by the meniscus as it transitions through the throat, i.e. the burst entry pressure. 'touch' is the pressure at which the meniscus has protruded past the throat center a distance defined by the 'touch_length' dictionary key. In network simulations this could be set to the pore_diameter. Finally the 'men' mode accepts a target_Pc parameter and returns all the mensicus information required for assessing cooperative filling or plotting."
   ]
  },
  {
   "cell_type": "code",
   "execution_count": 3,
   "metadata": {
    "execution": {
     "iopub.execute_input": "2022-09-07T19:26:39.519298Z",
     "iopub.status.busy": "2022-09-07T19:26:39.518995Z",
     "iopub.status.idle": "2022-09-07T19:26:41.099014Z",
     "shell.execute_reply": "2022-09-07T19:26:41.098104Z"
    }
   },
   "outputs": [
    {
     "ename": "AttributeError",
     "evalue": "module 'openpnm' has no attribute 'geometry'",
     "output_type": "error",
     "traceback": [
      "\u001b[0;31m---------------------------------------------------------------------------\u001b[0m",
      "\u001b[0;31mAttributeError\u001b[0m                            Traceback (most recent call last)",
      "Cell \u001b[0;32mIn [3], line 5\u001b[0m\n\u001b[1;32m      3\u001b[0m \u001b[38;5;28;01mimport\u001b[39;00m \u001b[38;5;21;01mopenpnm\u001b[39;00m\u001b[38;5;21;01m.\u001b[39;00m\u001b[38;5;21;01mmodels\u001b[39;00m\u001b[38;5;21;01m.\u001b[39;00m\u001b[38;5;21;01mphysics\u001b[39;00m \u001b[38;5;28;01mas\u001b[39;00m \u001b[38;5;21;01mpm\u001b[39;00m\n\u001b[1;32m      4\u001b[0m net \u001b[38;5;241m=\u001b[39m op\u001b[38;5;241m.\u001b[39mnetwork\u001b[38;5;241m.\u001b[39mCubic(shape\u001b[38;5;241m=\u001b[39m[\u001b[38;5;241m2\u001b[39m, \u001b[38;5;241m1\u001b[39m, \u001b[38;5;241m1\u001b[39m], spacing\u001b[38;5;241m=\u001b[39m\u001b[38;5;241m5e-5\u001b[39m)\n\u001b[0;32m----> 5\u001b[0m geo \u001b[38;5;241m=\u001b[39m \u001b[43mop\u001b[49m\u001b[38;5;241;43m.\u001b[39;49m\u001b[43mgeometry\u001b[49m\u001b[38;5;241m.\u001b[39mSpheresAndCylinders(network\u001b[38;5;241m=\u001b[39mnet,\n\u001b[1;32m      6\u001b[0m                                pores\u001b[38;5;241m=\u001b[39mnet\u001b[38;5;241m.\u001b[39mpores(),\n\u001b[1;32m      7\u001b[0m                                throats\u001b[38;5;241m=\u001b[39mnet\u001b[38;5;241m.\u001b[39mthroats())\n\u001b[1;32m      8\u001b[0m phase \u001b[38;5;241m=\u001b[39m op\u001b[38;5;241m.\u001b[39mphases\u001b[38;5;241m.\u001b[39mWater(network\u001b[38;5;241m=\u001b[39mnet)\n\u001b[1;32m      9\u001b[0m phase[\u001b[38;5;124m'\u001b[39m\u001b[38;5;124mpore.contact_angle\u001b[39m\u001b[38;5;124m'\u001b[39m] \u001b[38;5;241m=\u001b[39m theta\n",
      "\u001b[0;31mAttributeError\u001b[0m: module 'openpnm' has no attribute 'geometry'"
     ]
    }
   ],
   "source": [
    "import openpnm as op\n",
    "%config InlineBackend.figure_formats = ['svg']\n",
    "import openpnm.models.physics as pm\n",
    "net = op.network.Cubic(shape=[2, 1, 1], spacing=5e-5)\n",
    "geo = op.geometry.SpheresAndCylinders(network=net,\n",
    "                               pores=net.pores(),\n",
    "                               throats=net.throats())\n",
    "phase = op.phases.Water(network=net)\n",
    "phase['pore.contact_angle'] = theta\n",
    "phys = op.physics.Standard(network=net,\n",
    "                           phase=phase,\n",
    "                           geometry=geo)\n",
    "geo['throat.diameter'] = throatRad*2\n",
    "geo['throat.touch_length'] = max_bulge"
   ]
  },
  {
   "cell_type": "markdown",
   "metadata": {},
   "source": [
    "We define a plotting function that uses the meniscus data:\n",
    "$\\alpha$ is filling angle as defined above,\n",
    "$radius$ is the radius of curvature of the mensicus,\n",
    "$center$ is the position of the centre of curvature relative to the throat center along the axis of the throat,\n",
    "$\\gamma$ is the angle between the throat axis and the line joining the meniscus center and meniscus contact point."
   ]
  },
  {
   "cell_type": "code",
   "execution_count": 4,
   "metadata": {
    "execution": {
     "iopub.execute_input": "2022-09-07T19:26:41.103312Z",
     "iopub.status.busy": "2022-09-07T19:26:41.103041Z",
     "iopub.status.idle": "2022-09-07T19:26:41.118186Z",
     "shell.execute_reply": "2022-09-07T19:26:41.117196Z"
    }
   },
   "outputs": [],
   "source": [
    "def plot_meniscus(target_Pc, meniscus_model=None, ax=None):\n",
    "    throatRad = geo['throat.diameter'][0]/2\n",
    "    theta = np.deg2rad(phys['pore.contact_angle'][0])\n",
    "    throat_a = phys['throat.scale_a']\n",
    "    throat_b = phys['throat.scale_b']\n",
    "    x_points = np.arange(-0.99, 0.99, 0.01)*throat_a\n",
    "    if ax is None:\n",
    "        fig, ax = plt.subplots()\n",
    "    if meniscus_model.__name__ == 'purcell':\n",
    "        # Parameters for plotting fibers\n",
    "        x, R, rt, s, t = syp.symbols('x, R, rt, s, t')\n",
    "        y = R*syp.sqrt(1- (x/R)**2)\n",
    "        r = rt + (R-y)\n",
    "        rx = syp.lambdify((x, R, rt), r, 'numpy')\n",
    "        ax.plot(x_points, rx(x_points, fiberRad, throatRad), 'k-');\n",
    "        ax.plot(x_points, -rx(x_points, fiberRad, throatRad), 'k-');\n",
    "        phys.add_model(propname='throat.meniscus',\n",
    "                       model=meniscus_model,\n",
    "                       mode='men',\n",
    "                       r_toroid=fiberRad,\n",
    "                       target_Pc=target_Pc)\n",
    "    elif meniscus_model.__name__ == 'sinusoidal':\n",
    "        x, a, b, rt, sigma, theta = syp.symbols('x, a, b, rt, sigma, theta')\n",
    "        y = (sym_cos(sym_pi*x/(2*a)))*b\n",
    "        r = rt + (b-y)\n",
    "        rx = lambdify((x, a, b, rt), r, 'numpy')\n",
    "        ax.plot(x_points, rx(x_points, throat_a, throat_b, throatRad), 'k-');\n",
    "        ax.plot(x_points, -rx(x_points, throat_a, throat_b, throatRad), 'k-');\n",
    "        phys.add_model(propname='throat.meniscus',\n",
    "                       model=meniscus_model,\n",
    "                       mode='men',\n",
    "                       r_toroid=fiberRad,\n",
    "                       target_Pc=target_Pc)\n",
    "    else:\n",
    "        # General Ellipse\n",
    "        x, a, b, rt, sigma, theta = syp.symbols('x, a, b, rt, sigma, theta')\n",
    "        profile_equation = phys.models['throat.entry_pressure']['profile_equation']\n",
    "        if profile_equation == 'elliptical':\n",
    "            y = sym_sqrt(1 - (x/a)**2)*b\n",
    "        elif profile_equation == 'sinusoidal':\n",
    "            y = (sym_cos(sym_pi*x/(2*a)))*b\n",
    "        r = rt + (b-y)\n",
    "        rx = lambdify((x, a, b, rt), r, 'numpy')\n",
    "        ax.plot(x_points, rx(x_points, throat_a, throat_b, throatRad), 'k-');\n",
    "        ax.plot(x_points, -rx(x_points, throat_a, throat_b, throatRad), 'k-');\n",
    "        phys.add_model(propname='throat.meniscus',\n",
    "                       model=meniscus_model,\n",
    "                       profile_equation=profile_equation,\n",
    "                       mode='men',\n",
    "                       target_Pc=target_Pc)\n",
    "    men_data = {}\n",
    "    men_data['alpha'] = phys['throat.meniscus.alpha']\n",
    "    men_data['gamma'] = phys['throat.meniscus.gamma']\n",
    "    men_data['radius'] = phys['throat.meniscus.radius']\n",
    "    men_data['center'] = phys['throat.meniscus.center']\n",
    "    arc_cen = men_data['center']\n",
    "    arc_rad = men_data['radius']\n",
    "    arc_angle = men_data['gamma']\n",
    "    angles = np.linspace(-arc_angle, arc_angle, 100)\n",
    "    arcx = arc_cen + arc_rad*np.cos(angles)\n",
    "    arcy = arc_rad*np.sin(angles)\n",
    "    ax.plot(arcx, arcy, 'b-')\n",
    "    ax.scatter(phys['throat.meniscus.pos'], phys['throat.meniscus.rx']);\n",
    "    ax.axis('equal')\n",
    "    ax.ticklabel_format(style='sci', axis='both', scilimits=(-6,-6))\n",
    "    return ax"
   ]
  },
  {
   "cell_type": "markdown",
   "metadata": {},
   "source": [
    "## Circular (Purcell)"
   ]
  },
  {
   "cell_type": "code",
   "execution_count": 5,
   "metadata": {
    "execution": {
     "iopub.execute_input": "2022-09-07T19:26:41.122063Z",
     "iopub.status.busy": "2022-09-07T19:26:41.121426Z",
     "iopub.status.idle": "2022-09-07T19:26:41.142299Z",
     "shell.execute_reply": "2022-09-07T19:26:41.141458Z"
    }
   },
   "outputs": [
    {
     "ename": "NameError",
     "evalue": "name 'phys' is not defined",
     "output_type": "error",
     "traceback": [
      "\u001b[0;31m---------------------------------------------------------------------------\u001b[0m",
      "\u001b[0;31mNameError\u001b[0m                                 Traceback (most recent call last)",
      "Cell \u001b[0;32mIn [5], line 3\u001b[0m\n\u001b[1;32m      1\u001b[0m circular_model \u001b[38;5;241m=\u001b[39m pm\u001b[38;5;241m.\u001b[39mmeniscus\u001b[38;5;241m.\u001b[39mpurcell\n\u001b[0;32m----> 3\u001b[0m \u001b[43mphys\u001b[49m\u001b[38;5;241m.\u001b[39madd_model(propname\u001b[38;5;241m=\u001b[39m\u001b[38;5;124m'\u001b[39m\u001b[38;5;124mthroat.max\u001b[39m\u001b[38;5;124m'\u001b[39m,\n\u001b[1;32m      4\u001b[0m                model\u001b[38;5;241m=\u001b[39mcircular_model,\n\u001b[1;32m      5\u001b[0m                mode\u001b[38;5;241m=\u001b[39m\u001b[38;5;124m'\u001b[39m\u001b[38;5;124mmax\u001b[39m\u001b[38;5;124m'\u001b[39m,\n\u001b[1;32m      6\u001b[0m                r_toroid\u001b[38;5;241m=\u001b[39mfiberRad)\n\u001b[1;32m      7\u001b[0m phys\u001b[38;5;241m.\u001b[39madd_model(propname\u001b[38;5;241m=\u001b[39m\u001b[38;5;124m'\u001b[39m\u001b[38;5;124mthroat.touch\u001b[39m\u001b[38;5;124m'\u001b[39m,\n\u001b[1;32m      8\u001b[0m                model\u001b[38;5;241m=\u001b[39mcircular_model,\n\u001b[1;32m      9\u001b[0m                mode\u001b[38;5;241m=\u001b[39m\u001b[38;5;124m'\u001b[39m\u001b[38;5;124mtouch\u001b[39m\u001b[38;5;124m'\u001b[39m,\n\u001b[1;32m     10\u001b[0m                r_toroid\u001b[38;5;241m=\u001b[39mfiberRad)\n\u001b[1;32m     11\u001b[0m phys\u001b[38;5;241m.\u001b[39madd_model(propname\u001b[38;5;241m=\u001b[39m\u001b[38;5;124m'\u001b[39m\u001b[38;5;124mthroat.meniscus\u001b[39m\u001b[38;5;124m'\u001b[39m,\n\u001b[1;32m     12\u001b[0m                model\u001b[38;5;241m=\u001b[39mcircular_model,\n\u001b[1;32m     13\u001b[0m                mode\u001b[38;5;241m=\u001b[39m\u001b[38;5;124m'\u001b[39m\u001b[38;5;124mmen\u001b[39m\u001b[38;5;124m'\u001b[39m,\n\u001b[1;32m     14\u001b[0m                r_toroid\u001b[38;5;241m=\u001b[39mfiberRad,\n\u001b[1;32m     15\u001b[0m                target_Pc\u001b[38;5;241m=\u001b[39m\u001b[38;5;241m1000\u001b[39m)\n",
      "\u001b[0;31mNameError\u001b[0m: name 'phys' is not defined"
     ]
    }
   ],
   "source": [
    "circular_model = pm.meniscus.purcell\n",
    "\n",
    "phys.add_model(propname='throat.max',\n",
    "               model=circular_model,\n",
    "               mode='max',\n",
    "               r_toroid=fiberRad)\n",
    "phys.add_model(propname='throat.touch',\n",
    "               model=circular_model,\n",
    "               mode='touch',\n",
    "               r_toroid=fiberRad)\n",
    "phys.add_model(propname='throat.meniscus',\n",
    "               model=circular_model,\n",
    "               mode='men',\n",
    "               r_toroid=fiberRad,\n",
    "               target_Pc=1000)\n",
    "touch_Pc = phys['throat.touch'][0]\n",
    "print('Pressure at maximum bulge', np.around(touch_Pc, 0))\n",
    "max_Pc_circle = phys['throat.max'][0]\n",
    "print('Circular profile critical entry pressure', np.around(max_Pc_circle, 0))"
   ]
  },
  {
   "cell_type": "markdown",
   "metadata": {},
   "source": [
    "We can see that the touch_Pc calculated earlier, corresponds with the tip of the meniscus exceeding the max_bulge parameter. Try changing this and re-running to see what happens."
   ]
  },
  {
   "cell_type": "code",
   "execution_count": 6,
   "metadata": {
    "execution": {
     "iopub.execute_input": "2022-09-07T19:26:41.146077Z",
     "iopub.status.busy": "2022-09-07T19:26:41.145828Z",
     "iopub.status.idle": "2022-09-07T19:26:41.161417Z",
     "shell.execute_reply": "2022-09-07T19:26:41.160614Z"
    }
   },
   "outputs": [
    {
     "ename": "NameError",
     "evalue": "name 'touch_Pc' is not defined",
     "output_type": "error",
     "traceback": [
      "\u001b[0;31m---------------------------------------------------------------------------\u001b[0m",
      "\u001b[0;31mNameError\u001b[0m                                 Traceback (most recent call last)",
      "Cell \u001b[0;32mIn [6], line 1\u001b[0m\n\u001b[0;32m----> 1\u001b[0m ax \u001b[38;5;241m=\u001b[39m plot_meniscus(target_Pc\u001b[38;5;241m=\u001b[39m\u001b[43mtouch_Pc\u001b[49m, meniscus_model\u001b[38;5;241m=\u001b[39mcircular_model)\n\u001b[1;32m      2\u001b[0m ax\u001b[38;5;241m.\u001b[39mplot([max_bulge, max_bulge], [\u001b[38;5;241m-\u001b[39mthroatRad, throatRad], \u001b[38;5;124m'\u001b[39m\u001b[38;5;124mr--\u001b[39m\u001b[38;5;124m'\u001b[39m)\n",
      "\u001b[0;31mNameError\u001b[0m: name 'touch_Pc' is not defined"
     ]
    }
   ],
   "source": [
    "ax = plot_meniscus(target_Pc=touch_Pc, meniscus_model=circular_model)\n",
    "ax.plot([max_bulge, max_bulge], [-throatRad, throatRad], 'r--');"
   ]
  },
  {
   "cell_type": "code",
   "execution_count": 7,
   "metadata": {
    "execution": {
     "iopub.execute_input": "2022-09-07T19:26:41.164521Z",
     "iopub.status.busy": "2022-09-07T19:26:41.164272Z",
     "iopub.status.idle": "2022-09-07T19:26:41.178715Z",
     "shell.execute_reply": "2022-09-07T19:26:41.177956Z"
    }
   },
   "outputs": [
    {
     "ename": "NameError",
     "evalue": "name 'max_Pc_circle' is not defined",
     "output_type": "error",
     "traceback": [
      "\u001b[0;31m---------------------------------------------------------------------------\u001b[0m",
      "\u001b[0;31mNameError\u001b[0m                                 Traceback (most recent call last)",
      "Cell \u001b[0;32mIn [7], line 1\u001b[0m\n\u001b[0;32m----> 1\u001b[0m ax \u001b[38;5;241m=\u001b[39m plot_meniscus(target_Pc\u001b[38;5;241m=\u001b[39m\u001b[43mmax_Pc_circle\u001b[49m, meniscus_model\u001b[38;5;241m=\u001b[39mcircular_model)\n",
      "\u001b[0;31mNameError\u001b[0m: name 'max_Pc_circle' is not defined"
     ]
    }
   ],
   "source": [
    "ax = plot_meniscus(target_Pc=max_Pc_circle, meniscus_model=circular_model)"
   ]
  },
  {
   "cell_type": "markdown",
   "metadata": {},
   "source": [
    "We can interact with the mensicus model by changing the target_Pc parameter."
   ]
  },
  {
   "cell_type": "code",
   "execution_count": 8,
   "metadata": {
    "execution": {
     "iopub.execute_input": "2022-09-07T19:26:41.182272Z",
     "iopub.status.busy": "2022-09-07T19:26:41.182032Z",
     "iopub.status.idle": "2022-09-07T19:26:41.197292Z",
     "shell.execute_reply": "2022-09-07T19:26:41.196529Z"
    }
   },
   "outputs": [
    {
     "ename": "NameError",
     "evalue": "name 'max_Pc_circle' is not defined",
     "output_type": "error",
     "traceback": [
      "\u001b[0;31m---------------------------------------------------------------------------\u001b[0m",
      "\u001b[0;31mNameError\u001b[0m                                 Traceback (most recent call last)",
      "Cell \u001b[0;32mIn [8], line 2\u001b[0m\n\u001b[1;32m      1\u001b[0m interact(plot_meniscus,\n\u001b[0;32m----> 2\u001b[0m          target_Pc\u001b[38;5;241m=\u001b[39m(\u001b[38;5;241m-\u001b[39m\u001b[38;5;241m2000\u001b[39m, \u001b[43mmax_Pc_circle\u001b[49m, \u001b[38;5;241m1\u001b[39m),\n\u001b[1;32m      3\u001b[0m          meniscus_model\u001b[38;5;241m=\u001b[39mfixed(circular_model),\n\u001b[1;32m      4\u001b[0m          ax\u001b[38;5;241m=\u001b[39mfixed(\u001b[38;5;28;01mNone\u001b[39;00m))\n",
      "\u001b[0;31mNameError\u001b[0m: name 'max_Pc_circle' is not defined"
     ]
    }
   ],
   "source": [
    "interact(plot_meniscus,\n",
    "         target_Pc=(-2000, max_Pc_circle, 1),\n",
    "         meniscus_model=fixed(circular_model),\n",
    "         ax=fixed(None));"
   ]
  },
  {
   "cell_type": "markdown",
   "metadata": {},
   "source": [
    "Here we can see that the critical entry pressure for the circular profile is positive, even though the intrinsic contact angle is highly non-wetting"
   ]
  },
  {
   "cell_type": "markdown",
   "metadata": {},
   "source": [
    "## Sinusoidal"
   ]
  },
  {
   "cell_type": "markdown",
   "metadata": {},
   "source": [
    "Now we can start to compare the different meniscus models:"
   ]
  },
  {
   "cell_type": "code",
   "execution_count": 9,
   "metadata": {
    "execution": {
     "iopub.execute_input": "2022-09-07T19:26:41.201720Z",
     "iopub.status.busy": "2022-09-07T19:26:41.201424Z",
     "iopub.status.idle": "2022-09-07T19:26:41.204804Z",
     "shell.execute_reply": "2022-09-07T19:26:41.204067Z"
    }
   },
   "outputs": [],
   "source": [
    "sinusoidal_model = pm.meniscus.sinusoidal"
   ]
  },
  {
   "cell_type": "code",
   "execution_count": 10,
   "metadata": {
    "execution": {
     "iopub.execute_input": "2022-09-07T19:26:41.207984Z",
     "iopub.status.busy": "2022-09-07T19:26:41.207721Z",
     "iopub.status.idle": "2022-09-07T19:26:41.215524Z",
     "shell.execute_reply": "2022-09-07T19:26:41.214294Z"
    }
   },
   "outputs": [
    {
     "data": {
      "text/plain": [
       "<function openpnm.models.physics.meniscus._funcs.sinusoidal(phase, mode='max', target_Pc=None, num_points=1000.0, r_toroid=5e-06, throat_diameter='throat.diameter', pore_diameter='pore.diameter', touch_length='throat.touch_length', surface_tension='throat.surface_tension', contact_angle='throat.contact_angle')>"
      ]
     },
     "metadata": {},
     "output_type": "display_data"
    }
   ],
   "source": [
    "display(sinusoidal_model)"
   ]
  },
  {
   "cell_type": "code",
   "execution_count": 11,
   "metadata": {
    "execution": {
     "iopub.execute_input": "2022-09-07T19:26:41.218955Z",
     "iopub.status.busy": "2022-09-07T19:26:41.218313Z",
     "iopub.status.idle": "2022-09-07T19:26:41.235848Z",
     "shell.execute_reply": "2022-09-07T19:26:41.235012Z"
    }
   },
   "outputs": [
    {
     "ename": "NameError",
     "evalue": "name 'phys' is not defined",
     "output_type": "error",
     "traceback": [
      "\u001b[0;31m---------------------------------------------------------------------------\u001b[0m",
      "\u001b[0;31mNameError\u001b[0m                                 Traceback (most recent call last)",
      "Cell \u001b[0;32mIn [11], line 1\u001b[0m\n\u001b[0;32m----> 1\u001b[0m \u001b[43mphys\u001b[49m\u001b[38;5;241m.\u001b[39madd_model(propname\u001b[38;5;241m=\u001b[39m\u001b[38;5;124m'\u001b[39m\u001b[38;5;124mthroat.meniscus\u001b[39m\u001b[38;5;124m'\u001b[39m,\n\u001b[1;32m      2\u001b[0m                model\u001b[38;5;241m=\u001b[39msinusoidal_model,\n\u001b[1;32m      3\u001b[0m                mode\u001b[38;5;241m=\u001b[39m\u001b[38;5;124m'\u001b[39m\u001b[38;5;124mmen\u001b[39m\u001b[38;5;124m'\u001b[39m,\n\u001b[1;32m      4\u001b[0m                r_toroid\u001b[38;5;241m=\u001b[39mfiberRad,\n\u001b[1;32m      5\u001b[0m                target_Pc\u001b[38;5;241m=\u001b[39m\u001b[38;5;241m1000\u001b[39m)\n",
      "\u001b[0;31mNameError\u001b[0m: name 'phys' is not defined"
     ]
    }
   ],
   "source": [
    "phys.add_model(propname='throat.meniscus',\n",
    "               model=sinusoidal_model,\n",
    "               mode='men',\n",
    "               r_toroid=fiberRad,\n",
    "               target_Pc=1000)"
   ]
  },
  {
   "cell_type": "markdown",
   "metadata": {},
   "source": [
    "The equation for the solid sinusoidal profile is:"
   ]
  },
  {
   "cell_type": "code",
   "execution_count": 12,
   "metadata": {
    "execution": {
     "iopub.execute_input": "2022-09-07T19:26:41.239353Z",
     "iopub.status.busy": "2022-09-07T19:26:41.239061Z",
     "iopub.status.idle": "2022-09-07T19:26:41.590425Z",
     "shell.execute_reply": "2022-09-07T19:26:41.589572Z"
    }
   },
   "outputs": [
    {
     "data": {
      "text/latex": [
       "$\\displaystyle - b \\cos{\\left(\\frac{\\pi x}{2 a} \\right)} + b + rt$"
      ],
      "text/plain": [
       "-b*cos(pi*x/(2*a)) + b + rt"
      ]
     },
     "execution_count": 12,
     "metadata": {},
     "output_type": "execute_result"
    }
   ],
   "source": [
    "x, a, b, rt, sigma, theta = syp.symbols('x, a, b, rt, sigma, theta')\n",
    "y = (sym_cos(sym_pi*x/(2*a)))*b\n",
    "r = rt + b-y\n",
    "r"
   ]
  },
  {
   "cell_type": "code",
   "execution_count": 13,
   "metadata": {
    "execution": {
     "iopub.execute_input": "2022-09-07T19:26:41.593920Z",
     "iopub.status.busy": "2022-09-07T19:26:41.593670Z",
     "iopub.status.idle": "2022-09-07T19:26:41.608722Z",
     "shell.execute_reply": "2022-09-07T19:26:41.607966Z"
    }
   },
   "outputs": [
    {
     "data": {
      "text/latex": [
       "$\\displaystyle \\frac{\\pi b \\sin{\\left(\\frac{\\pi x}{2 a} \\right)}}{2 a}$"
      ],
      "text/plain": [
       "pi*b*sin(pi*x/(2*a))/(2*a)"
      ]
     },
     "execution_count": 13,
     "metadata": {},
     "output_type": "execute_result"
    }
   ],
   "source": [
    "# Derivative of profile\n",
    "rprime = r.diff(x)\n",
    "rprime"
   ]
  },
  {
   "cell_type": "code",
   "execution_count": 14,
   "metadata": {
    "execution": {
     "iopub.execute_input": "2022-09-07T19:26:41.611938Z",
     "iopub.status.busy": "2022-09-07T19:26:41.611677Z",
     "iopub.status.idle": "2022-09-07T19:26:41.617963Z",
     "shell.execute_reply": "2022-09-07T19:26:41.617197Z"
    }
   },
   "outputs": [
    {
     "data": {
      "text/latex": [
       "$\\displaystyle \\operatorname{atan}{\\left(\\frac{\\pi b \\sin{\\left(\\frac{\\pi x}{2 a} \\right)}}{2 a} \\right)}$"
      ],
      "text/plain": [
       "atan(pi*b*sin(pi*x/(2*a))/(2*a))"
      ]
     },
     "execution_count": 14,
     "metadata": {},
     "output_type": "execute_result"
    }
   ],
   "source": [
    "# Filling angle\n",
    "alpha = sym_atan(rprime)\n",
    "alpha"
   ]
  },
  {
   "cell_type": "code",
   "execution_count": 15,
   "metadata": {
    "execution": {
     "iopub.execute_input": "2022-09-07T19:26:41.621601Z",
     "iopub.status.busy": "2022-09-07T19:26:41.621360Z",
     "iopub.status.idle": "2022-09-07T19:26:41.628449Z",
     "shell.execute_reply": "2022-09-07T19:26:41.627677Z"
    }
   },
   "outputs": [
    {
     "data": {
      "text/latex": [
       "$\\displaystyle - \\theta - \\operatorname{atan}{\\left(\\frac{\\pi b \\sin{\\left(\\frac{\\pi x}{2 a} \\right)}}{2 a} \\right)} + \\pi$"
      ],
      "text/plain": [
       "-theta - atan(pi*b*sin(pi*x/(2*a))/(2*a)) + pi"
      ]
     },
     "execution_count": 15,
     "metadata": {},
     "output_type": "execute_result"
    }
   ],
   "source": [
    "# Angle between y axis, meniscus center and meniscus contact point\n",
    "eta = sym_pi - (theta + alpha)\n",
    "eta"
   ]
  },
  {
   "cell_type": "code",
   "execution_count": 16,
   "metadata": {
    "execution": {
     "iopub.execute_input": "2022-09-07T19:26:41.632092Z",
     "iopub.status.busy": "2022-09-07T19:26:41.631824Z",
     "iopub.status.idle": "2022-09-07T19:26:41.638704Z",
     "shell.execute_reply": "2022-09-07T19:26:41.637949Z"
    }
   },
   "outputs": [
    {
     "data": {
      "text/latex": [
       "$\\displaystyle \\theta + \\operatorname{atan}{\\left(\\frac{\\pi b \\sin{\\left(\\frac{\\pi x}{2 a} \\right)}}{2 a} \\right)} - \\frac{\\pi}{2}$"
      ],
      "text/plain": [
       "theta + atan(pi*b*sin(pi*x/(2*a))/(2*a)) - pi/2"
      ]
     },
     "execution_count": 16,
     "metadata": {},
     "output_type": "execute_result"
    }
   ],
   "source": [
    "# Angle between x axis, meniscus center and meniscus contact point\n",
    "gamma = sym_pi/2 - eta\n",
    "gamma"
   ]
  },
  {
   "cell_type": "code",
   "execution_count": 17,
   "metadata": {
    "execution": {
     "iopub.execute_input": "2022-09-07T19:26:41.642674Z",
     "iopub.status.busy": "2022-09-07T19:26:41.642353Z",
     "iopub.status.idle": "2022-09-07T19:26:41.663756Z",
     "shell.execute_reply": "2022-09-07T19:26:41.662914Z"
    }
   },
   "outputs": [
    {
     "data": {
      "text/latex": [
       "$\\displaystyle - \\frac{- b \\cos{\\left(\\frac{\\pi x}{2 a} \\right)} + b + rt}{\\cos{\\left(\\theta + \\operatorname{atan}{\\left(\\frac{\\pi b \\sin{\\left(\\frac{\\pi x}{2 a} \\right)}}{2 a} \\right)} \\right)}}$"
      ],
      "text/plain": [
       "-(-b*cos(pi*x/(2*a)) + b + rt)/cos(theta + atan(pi*b*sin(pi*x/(2*a))/(2*a)))"
      ]
     },
     "execution_count": 17,
     "metadata": {},
     "output_type": "execute_result"
    }
   ],
   "source": [
    "# Radius of curvature of meniscus\n",
    "rm = r/sym_cos(eta)\n",
    "rm"
   ]
  },
  {
   "cell_type": "code",
   "execution_count": 18,
   "metadata": {
    "execution": {
     "iopub.execute_input": "2022-09-07T19:26:41.667256Z",
     "iopub.status.busy": "2022-09-07T19:26:41.666966Z",
     "iopub.status.idle": "2022-09-07T19:26:41.676973Z",
     "shell.execute_reply": "2022-09-07T19:26:41.676202Z"
    }
   },
   "outputs": [
    {
     "data": {
      "text/latex": [
       "$\\displaystyle - \\frac{\\left(- b \\cos{\\left(\\frac{\\pi x}{2 a} \\right)} + b + rt\\right) \\sin{\\left(\\theta + \\operatorname{atan}{\\left(\\frac{\\pi b \\sin{\\left(\\frac{\\pi x}{2 a} \\right)}}{2 a} \\right)} \\right)}}{\\cos{\\left(\\theta + \\operatorname{atan}{\\left(\\frac{\\pi b \\sin{\\left(\\frac{\\pi x}{2 a} \\right)}}{2 a} \\right)} \\right)}}$"
      ],
      "text/plain": [
       "-(-b*cos(pi*x/(2*a)) + b + rt)*sin(theta + atan(pi*b*sin(pi*x/(2*a))/(2*a)))/cos(theta + atan(pi*b*sin(pi*x/(2*a))/(2*a)))"
      ]
     },
     "execution_count": 18,
     "metadata": {},
     "output_type": "execute_result"
    }
   ],
   "source": [
    "# Distance along x-axis from center of curvature to meniscus contact point\n",
    "d = rm*sym_sin(eta)\n",
    "d"
   ]
  },
  {
   "cell_type": "code",
   "execution_count": 19,
   "metadata": {
    "execution": {
     "iopub.execute_input": "2022-09-07T19:26:41.680893Z",
     "iopub.status.busy": "2022-09-07T19:26:41.680654Z",
     "iopub.status.idle": "2022-09-07T19:26:41.693025Z",
     "shell.execute_reply": "2022-09-07T19:26:41.692268Z"
    }
   },
   "outputs": [
    {
     "data": {
      "text/latex": [
       "$\\displaystyle - \\frac{2 \\sigma \\cos{\\left(\\theta + \\operatorname{atan}{\\left(\\frac{\\pi b \\sin{\\left(\\frac{\\pi x}{2 a} \\right)}}{2 a} \\right)} \\right)}}{- b \\cos{\\left(\\frac{\\pi x}{2 a} \\right)} + b + rt}$"
      ],
      "text/plain": [
       "-2*sigma*cos(theta + atan(pi*b*sin(pi*x/(2*a))/(2*a)))/(-b*cos(pi*x/(2*a)) + b + rt)"
      ]
     },
     "execution_count": 19,
     "metadata": {},
     "output_type": "execute_result"
    }
   ],
   "source": [
    "# Capillary Pressure\n",
    "p = 2*sigma/rm\n",
    "p"
   ]
  },
  {
   "cell_type": "code",
   "execution_count": 20,
   "metadata": {
    "execution": {
     "iopub.execute_input": "2022-09-07T19:26:41.696744Z",
     "iopub.status.busy": "2022-09-07T19:26:41.696474Z",
     "iopub.status.idle": "2022-09-07T19:26:41.714740Z",
     "shell.execute_reply": "2022-09-07T19:26:41.713954Z"
    }
   },
   "outputs": [
    {
     "ename": "NameError",
     "evalue": "name 'phys' is not defined",
     "output_type": "error",
     "traceback": [
      "\u001b[0;31m---------------------------------------------------------------------------\u001b[0m",
      "\u001b[0;31mNameError\u001b[0m                                 Traceback (most recent call last)",
      "Cell \u001b[0;32mIn [20], line 1\u001b[0m\n\u001b[0;32m----> 1\u001b[0m \u001b[43mphys\u001b[49m\u001b[38;5;241m.\u001b[39madd_model(propname\u001b[38;5;241m=\u001b[39m\u001b[38;5;124m'\u001b[39m\u001b[38;5;124mthroat.max\u001b[39m\u001b[38;5;124m'\u001b[39m,\n\u001b[1;32m      2\u001b[0m                model\u001b[38;5;241m=\u001b[39msinusoidal_model,\n\u001b[1;32m      3\u001b[0m                mode\u001b[38;5;241m=\u001b[39m\u001b[38;5;124m'\u001b[39m\u001b[38;5;124mmax\u001b[39m\u001b[38;5;124m'\u001b[39m,\n\u001b[1;32m      4\u001b[0m                r_toroid\u001b[38;5;241m=\u001b[39mfiberRad)\n\u001b[1;32m      5\u001b[0m phys\u001b[38;5;241m.\u001b[39madd_model(propname\u001b[38;5;241m=\u001b[39m\u001b[38;5;124m'\u001b[39m\u001b[38;5;124mthroat.touch\u001b[39m\u001b[38;5;124m'\u001b[39m,\n\u001b[1;32m      6\u001b[0m                model\u001b[38;5;241m=\u001b[39msinusoidal_model,\n\u001b[1;32m      7\u001b[0m                mode\u001b[38;5;241m=\u001b[39m\u001b[38;5;124m'\u001b[39m\u001b[38;5;124mtouch\u001b[39m\u001b[38;5;124m'\u001b[39m,\n\u001b[1;32m      8\u001b[0m                r_toroid\u001b[38;5;241m=\u001b[39mfiberRad)\n\u001b[1;32m      9\u001b[0m max_Pc_sin \u001b[38;5;241m=\u001b[39m phys[\u001b[38;5;124m'\u001b[39m\u001b[38;5;124mthroat.max\u001b[39m\u001b[38;5;124m'\u001b[39m][\u001b[38;5;241m0\u001b[39m]\n",
      "\u001b[0;31mNameError\u001b[0m: name 'phys' is not defined"
     ]
    }
   ],
   "source": [
    "phys.add_model(propname='throat.max',\n",
    "               model=sinusoidal_model,\n",
    "               mode='max',\n",
    "               r_toroid=fiberRad)\n",
    "phys.add_model(propname='throat.touch',\n",
    "               model=sinusoidal_model,\n",
    "               mode='touch',\n",
    "               r_toroid=fiberRad)\n",
    "max_Pc_sin = phys['throat.max'][0]\n",
    "print(max_Pc_sin)"
   ]
  },
  {
   "cell_type": "code",
   "execution_count": 21,
   "metadata": {
    "execution": {
     "iopub.execute_input": "2022-09-07T19:26:41.717870Z",
     "iopub.status.busy": "2022-09-07T19:26:41.717630Z",
     "iopub.status.idle": "2022-09-07T19:26:41.731401Z",
     "shell.execute_reply": "2022-09-07T19:26:41.730642Z"
    }
   },
   "outputs": [
    {
     "ename": "NameError",
     "evalue": "name 'max_Pc_sin' is not defined",
     "output_type": "error",
     "traceback": [
      "\u001b[0;31m---------------------------------------------------------------------------\u001b[0m",
      "\u001b[0;31mNameError\u001b[0m                                 Traceback (most recent call last)",
      "Cell \u001b[0;32mIn [21], line 1\u001b[0m\n\u001b[0;32m----> 1\u001b[0m plot_meniscus(target_Pc\u001b[38;5;241m=\u001b[39m\u001b[43mmax_Pc_sin\u001b[49m, meniscus_model\u001b[38;5;241m=\u001b[39msinusoidal_model)\n",
      "\u001b[0;31mNameError\u001b[0m: name 'max_Pc_sin' is not defined"
     ]
    }
   ],
   "source": [
    "plot_meniscus(target_Pc=max_Pc_sin, meniscus_model=sinusoidal_model);"
   ]
  },
  {
   "cell_type": "code",
   "execution_count": 22,
   "metadata": {
    "execution": {
     "iopub.execute_input": "2022-09-07T19:26:41.735039Z",
     "iopub.status.busy": "2022-09-07T19:26:41.734782Z",
     "iopub.status.idle": "2022-09-07T19:26:41.750890Z",
     "shell.execute_reply": "2022-09-07T19:26:41.750111Z"
    }
   },
   "outputs": [
    {
     "ename": "NameError",
     "evalue": "name 'max_Pc_sin' is not defined",
     "output_type": "error",
     "traceback": [
      "\u001b[0;31m---------------------------------------------------------------------------\u001b[0m",
      "\u001b[0;31mNameError\u001b[0m                                 Traceback (most recent call last)",
      "Cell \u001b[0;32mIn [22], line 2\u001b[0m\n\u001b[1;32m      1\u001b[0m interact(plot_meniscus,\n\u001b[0;32m----> 2\u001b[0m          target_Pc\u001b[38;5;241m=\u001b[39m(\u001b[38;5;241m-\u001b[39m\u001b[38;5;241m2000\u001b[39m, \u001b[43mmax_Pc_sin\u001b[49m, \u001b[38;5;241m1\u001b[39m),\n\u001b[1;32m      3\u001b[0m          meniscus_model\u001b[38;5;241m=\u001b[39mfixed(sinusoidal_model),\n\u001b[1;32m      4\u001b[0m          ax\u001b[38;5;241m=\u001b[39mfixed(\u001b[38;5;28;01mNone\u001b[39;00m))\n",
      "\u001b[0;31mNameError\u001b[0m: name 'max_Pc_sin' is not defined"
     ]
    }
   ],
   "source": [
    "interact(plot_meniscus,\n",
    "         target_Pc=(-2000, max_Pc_sin, 1),\n",
    "         meniscus_model=fixed(sinusoidal_model),\n",
    "         ax=fixed(None));"
   ]
  },
  {
   "cell_type": "markdown",
   "metadata": {},
   "source": [
    "Now the crtical entry pressure is negative signifying that spontaneous imbibition will occur"
   ]
  },
  {
   "cell_type": "markdown",
   "metadata": {},
   "source": [
    "## General Elliptical"
   ]
  },
  {
   "cell_type": "markdown",
   "metadata": {},
   "source": [
    "Similarly we can define an elliptical profile and use the same method to determine the capillary pressure:"
   ]
  },
  {
   "cell_type": "code",
   "execution_count": 23,
   "metadata": {
    "execution": {
     "iopub.execute_input": "2022-09-07T19:26:41.754390Z",
     "iopub.status.busy": "2022-09-07T19:26:41.754149Z",
     "iopub.status.idle": "2022-09-07T19:26:41.767719Z",
     "shell.execute_reply": "2022-09-07T19:26:41.766842Z"
    }
   },
   "outputs": [
    {
     "data": {
      "text/latex": [
       "$\\displaystyle b \\sqrt{1 - \\frac{x^{2}}{a^{2}}}$"
      ],
      "text/plain": [
       "b*sqrt(1 - x**2/a**2)"
      ]
     },
     "execution_count": 23,
     "metadata": {},
     "output_type": "execute_result"
    }
   ],
   "source": [
    "y = sym_sqrt(1 - (x/a)**2)*b\n",
    "y"
   ]
  },
  {
   "cell_type": "markdown",
   "metadata": {},
   "source": [
    "In-fact this is the model that OpenPNM uses for Purcell as well with a = b = fiber radius"
   ]
  },
  {
   "cell_type": "code",
   "execution_count": 24,
   "metadata": {
    "execution": {
     "iopub.execute_input": "2022-09-07T19:26:41.771335Z",
     "iopub.status.busy": "2022-09-07T19:26:41.771094Z",
     "iopub.status.idle": "2022-09-07T19:26:41.787548Z",
     "shell.execute_reply": "2022-09-07T19:26:41.786828Z"
    }
   },
   "outputs": [
    {
     "ename": "NameError",
     "evalue": "name 'phys' is not defined",
     "output_type": "error",
     "traceback": [
      "\u001b[0;31m---------------------------------------------------------------------------\u001b[0m",
      "\u001b[0;31mNameError\u001b[0m                                 Traceback (most recent call last)",
      "Cell \u001b[0;32mIn [24], line 2\u001b[0m\n\u001b[1;32m      1\u001b[0m \u001b[38;5;66;03m# Scale ellipse in x direction\u001b[39;00m\n\u001b[0;32m----> 2\u001b[0m \u001b[43mphys\u001b[49m[\u001b[38;5;124m'\u001b[39m\u001b[38;5;124mthroat.scale_a\u001b[39m\u001b[38;5;124m'\u001b[39m] \u001b[38;5;241m=\u001b[39m fiberRad\n\u001b[1;32m      3\u001b[0m \u001b[38;5;66;03m# Scale ellipse in y direction\u001b[39;00m\n\u001b[1;32m      4\u001b[0m phys[\u001b[38;5;124m'\u001b[39m\u001b[38;5;124mthroat.scale_b\u001b[39m\u001b[38;5;124m'\u001b[39m] \u001b[38;5;241m=\u001b[39m fiberRad\n",
      "\u001b[0;31mNameError\u001b[0m: name 'phys' is not defined"
     ]
    }
   ],
   "source": [
    "# Scale ellipse in x direction\n",
    "phys['throat.scale_a'] = fiberRad\n",
    "# Scale ellipse in y direction\n",
    "phys['throat.scale_b'] = fiberRad\n",
    "general_model = pm.meniscus.general_toroidal\n",
    "phys.add_model(propname='throat.entry_pressure',\n",
    "               model=general_model,\n",
    "               profile_equation='elliptical',\n",
    "               mode='max')\n",
    "max_Pc_ellipse = phys['throat.entry_pressure'][0]\n",
    "print(max_Pc_ellipse)"
   ]
  },
  {
   "cell_type": "code",
   "execution_count": 25,
   "metadata": {
    "execution": {
     "iopub.execute_input": "2022-09-07T19:26:41.790615Z",
     "iopub.status.busy": "2022-09-07T19:26:41.790374Z",
     "iopub.status.idle": "2022-09-07T19:26:41.804191Z",
     "shell.execute_reply": "2022-09-07T19:26:41.803333Z"
    }
   },
   "outputs": [
    {
     "ename": "NameError",
     "evalue": "name 'max_Pc_ellipse' is not defined",
     "output_type": "error",
     "traceback": [
      "\u001b[0;31m---------------------------------------------------------------------------\u001b[0m",
      "\u001b[0;31mNameError\u001b[0m                                 Traceback (most recent call last)",
      "Cell \u001b[0;32mIn [25], line 1\u001b[0m\n\u001b[0;32m----> 1\u001b[0m plot_meniscus(target_Pc\u001b[38;5;241m=\u001b[39m\u001b[43mmax_Pc_ellipse\u001b[49m, meniscus_model\u001b[38;5;241m=\u001b[39mgeneral_model)\n",
      "\u001b[0;31mNameError\u001b[0m: name 'max_Pc_ellipse' is not defined"
     ]
    }
   ],
   "source": [
    "plot_meniscus(target_Pc=max_Pc_ellipse, meniscus_model=general_model);"
   ]
  },
  {
   "cell_type": "code",
   "execution_count": 26,
   "metadata": {
    "execution": {
     "iopub.execute_input": "2022-09-07T19:26:41.807392Z",
     "iopub.status.busy": "2022-09-07T19:26:41.807149Z",
     "iopub.status.idle": "2022-09-07T19:26:41.820786Z",
     "shell.execute_reply": "2022-09-07T19:26:41.819984Z"
    }
   },
   "outputs": [
    {
     "ename": "NameError",
     "evalue": "name 'max_Pc_ellipse' is not defined",
     "output_type": "error",
     "traceback": [
      "\u001b[0;31m---------------------------------------------------------------------------\u001b[0m",
      "\u001b[0;31mNameError\u001b[0m                                 Traceback (most recent call last)",
      "Cell \u001b[0;32mIn [26], line 1\u001b[0m\n\u001b[0;32m----> 1\u001b[0m \u001b[43mmax_Pc_ellipse\u001b[49m\n",
      "\u001b[0;31mNameError\u001b[0m: name 'max_Pc_ellipse' is not defined"
     ]
    }
   ],
   "source": [
    "max_Pc_ellipse"
   ]
  },
  {
   "cell_type": "code",
   "execution_count": 27,
   "metadata": {
    "execution": {
     "iopub.execute_input": "2022-09-07T19:26:41.823925Z",
     "iopub.status.busy": "2022-09-07T19:26:41.823667Z",
     "iopub.status.idle": "2022-09-07T19:26:41.839485Z",
     "shell.execute_reply": "2022-09-07T19:26:41.838699Z"
    }
   },
   "outputs": [
    {
     "ename": "NameError",
     "evalue": "name 'max_Pc_ellipse' is not defined",
     "output_type": "error",
     "traceback": [
      "\u001b[0;31m---------------------------------------------------------------------------\u001b[0m",
      "\u001b[0;31mNameError\u001b[0m                                 Traceback (most recent call last)",
      "Cell \u001b[0;32mIn [27], line 2\u001b[0m\n\u001b[1;32m      1\u001b[0m interact(plot_meniscus,\n\u001b[0;32m----> 2\u001b[0m          target_Pc\u001b[38;5;241m=\u001b[39m(\u001b[38;5;241m-\u001b[39m\u001b[38;5;241m2000\u001b[39m, \u001b[43mmax_Pc_ellipse\u001b[49m, \u001b[38;5;241m1\u001b[39m),\n\u001b[1;32m      3\u001b[0m          meniscus_model\u001b[38;5;241m=\u001b[39mfixed(general_model),\n\u001b[1;32m      4\u001b[0m          ax\u001b[38;5;241m=\u001b[39mfixed(\u001b[38;5;28;01mNone\u001b[39;00m))\n",
      "\u001b[0;31mNameError\u001b[0m: name 'max_Pc_ellipse' is not defined"
     ]
    }
   ],
   "source": [
    "interact(plot_meniscus,\n",
    "         target_Pc=(-2000, max_Pc_ellipse, 1),\n",
    "         meniscus_model=fixed(general_model),\n",
    "         ax=fixed(None));"
   ]
  },
  {
   "cell_type": "markdown",
   "metadata": {},
   "source": [
    "The two scale factors can now be used to determine a wide range of capillary behaviours with one general model. Below we run the model for a range of scaling factors showing the effect on the sign and magnitude of the entry pressure."
   ]
  },
  {
   "cell_type": "code",
   "execution_count": 28,
   "metadata": {
    "execution": {
     "iopub.execute_input": "2022-09-07T19:26:41.843896Z",
     "iopub.status.busy": "2022-09-07T19:26:41.843635Z",
     "iopub.status.idle": "2022-09-07T19:26:41.869918Z",
     "shell.execute_reply": "2022-09-07T19:26:41.869114Z"
    }
   },
   "outputs": [
    {
     "ename": "NameError",
     "evalue": "name 'phys' is not defined",
     "output_type": "error",
     "traceback": [
      "\u001b[0;31m---------------------------------------------------------------------------\u001b[0m",
      "\u001b[0;31mNameError\u001b[0m                                 Traceback (most recent call last)",
      "Cell \u001b[0;32mIn [28], line 2\u001b[0m\n\u001b[1;32m      1\u001b[0m bs \u001b[38;5;241m=\u001b[39m np\u001b[38;5;241m.\u001b[39mlinspace(\u001b[38;5;241m0.2\u001b[39m, \u001b[38;5;241m1.0\u001b[39m, \u001b[38;5;241m4\u001b[39m)\u001b[38;5;241m*\u001b[39mthroatRad\n\u001b[0;32m----> 2\u001b[0m \u001b[43mphys\u001b[49m[\u001b[38;5;124m'\u001b[39m\u001b[38;5;124mthroat.scale_a\u001b[39m\u001b[38;5;124m'\u001b[39m] \u001b[38;5;241m=\u001b[39m throatRad\n\u001b[1;32m      3\u001b[0m elliptical_pressures \u001b[38;5;241m=\u001b[39m []\n\u001b[1;32m      4\u001b[0m sinusoidal_pressures \u001b[38;5;241m=\u001b[39m []\n",
      "\u001b[0;31mNameError\u001b[0m: name 'phys' is not defined"
     ]
    }
   ],
   "source": [
    "bs = np.linspace(0.2, 1.0, 4)*throatRad\n",
    "phys['throat.scale_a'] = throatRad\n",
    "elliptical_pressures = []\n",
    "sinusoidal_pressures = []\n",
    "fig, (ax1, ax2) = plt.subplots(2, len(bs), figsize=(10, 10))\n",
    "for i in range(len(bs)):\n",
    "    phys['throat.scale_b'] = bs[i]\n",
    "    phys.add_model(propname='throat.entry_pressure',\n",
    "                   model=general_model,\n",
    "                   profile_equation='elliptical',\n",
    "                   mode='max',\n",
    "                   num_points=1000)\n",
    "    Pc = phys['throat.entry_pressure']\n",
    "    elliptical_pressures.append(Pc)\n",
    "    plot_meniscus(target_Pc=Pc, meniscus_model=general_model, ax=ax1[i])\n",
    "for i in range(len(bs)):\n",
    "    phys['throat.scale_b'] = bs[i]\n",
    "    phys.add_model(propname='throat.entry_pressure',\n",
    "                   model=general_model,\n",
    "                   profile_equation='sinusoidal',\n",
    "                   mode='max',\n",
    "                   num_points=1000)\n",
    "    Pc = phys['throat.entry_pressure']\n",
    "    sinusoidal_pressures.append(Pc)\n",
    "    plot_meniscus(target_Pc=Pc, meniscus_model=general_model, ax=ax2[i])"
   ]
  },
  {
   "cell_type": "code",
   "execution_count": 29,
   "metadata": {
    "execution": {
     "iopub.execute_input": "2022-09-07T19:26:41.872997Z",
     "iopub.status.busy": "2022-09-07T19:26:41.872722Z",
     "iopub.status.idle": "2022-09-07T19:26:41.893639Z",
     "shell.execute_reply": "2022-09-07T19:26:41.892854Z"
    }
   },
   "outputs": [
    {
     "ename": "NameError",
     "evalue": "name 'elliptical_pressures' is not defined",
     "output_type": "error",
     "traceback": [
      "\u001b[0;31m---------------------------------------------------------------------------\u001b[0m",
      "\u001b[0;31mNameError\u001b[0m                                 Traceback (most recent call last)",
      "Cell \u001b[0;32mIn [29], line 2\u001b[0m\n\u001b[1;32m      1\u001b[0m plt\u001b[38;5;241m.\u001b[39mfigure()\n\u001b[0;32m----> 2\u001b[0m plt\u001b[38;5;241m.\u001b[39mplot(bs\u001b[38;5;241m/\u001b[39mthroatRad, \u001b[43melliptical_pressures\u001b[49m, \u001b[38;5;124m'\u001b[39m\u001b[38;5;124mg-\u001b[39m\u001b[38;5;124m'\u001b[39m);\n\u001b[1;32m      3\u001b[0m plt\u001b[38;5;241m.\u001b[39mplot(bs\u001b[38;5;241m/\u001b[39mthroatRad, sinusoidal_pressures, \u001b[38;5;124m'\u001b[39m\u001b[38;5;124mr-\u001b[39m\u001b[38;5;124m'\u001b[39m)\n",
      "\u001b[0;31mNameError\u001b[0m: name 'elliptical_pressures' is not defined"
     ]
    },
    {
     "data": {
      "text/plain": [
       "<Figure size 500x500 with 0 Axes>"
      ]
     },
     "metadata": {},
     "output_type": "display_data"
    }
   ],
   "source": [
    "plt.figure()\n",
    "plt.plot(bs/throatRad, elliptical_pressures, 'g-');\n",
    "plt.plot(bs/throatRad, sinusoidal_pressures, 'r-');"
   ]
  },
  {
   "cell_type": "markdown",
   "metadata": {},
   "source": [
    "Here we can see that the two different shaped profiles lead to quite different capiallary behaviour. The elliptical profile always resuls in positive pressure and the meniscus is basically pinned to the end of the throat where highest pressure occurs as alpha always reaches 90. Whereas the sinusiodal model allows for spontaneous imbibition where a breakthrough may occur at negative capillary pressure for wetting fluids if the wall angle is shallow."
   ]
  }
 ],
 "metadata": {
  "@webio": {
   "lastCommId": null,
   "lastKernelId": null
  },
  "kernelspec": {
   "display_name": "Python 3",
   "language": "python",
   "name": "python3"
  },
  "language_info": {
   "codemirror_mode": {
    "name": "ipython",
    "version": 3
   },
   "file_extension": ".py",
   "mimetype": "text/x-python",
   "name": "python",
   "nbconvert_exporter": "python",
   "pygments_lexer": "ipython3",
   "version": "3.8.13"
  },
  "widgets": {
   "application/vnd.jupyter.widget-state+json": {
    "state": {
     "0371c7be98f3445087ccbcf19a84cb93": {
      "model_module": "@jupyter-widgets/output",
      "model_module_version": "1.0.0",
      "model_name": "OutputModel",
      "state": {
       "_dom_classes": [],
       "_model_module": "@jupyter-widgets/output",
       "_model_module_version": "1.0.0",
       "_model_name": "OutputModel",
       "_view_count": null,
       "_view_module": "@jupyter-widgets/output",
       "_view_module_version": "1.0.0",
       "_view_name": "OutputView",
       "layout": "IPY_MODEL_149d9fdf609742639261464d97377f2a",
       "msg_id": "",
       "outputs": [
        {
         "data": {
          "text/plain": "<AxesSubplot:>"
         },
         "metadata": {},
         "output_type": "display_data"
        }
       ]
      }
     },
     "039f211a098744379f96eaa7bef4c68c": {
      "model_module": "@jupyter-widgets/controls",
      "model_module_version": "1.5.0",
      "model_name": "VBoxModel",
      "state": {
       "_dom_classes": [
        "widget-interact"
       ],
       "_model_module": "@jupyter-widgets/controls",
       "_model_module_version": "1.5.0",
       "_model_name": "VBoxModel",
       "_view_count": null,
       "_view_module": "@jupyter-widgets/controls",
       "_view_module_version": "1.5.0",
       "_view_name": "VBoxView",
       "box_style": "",
       "children": [
        "IPY_MODEL_56b49be978034ce696a77c6f36b51850",
        "IPY_MODEL_0371c7be98f3445087ccbcf19a84cb93"
       ],
       "layout": "IPY_MODEL_81a7f98a959743ef9aeb54a807c2bab1"
      }
     },
     "0a4d77f03b1248a088e16131636d7ca4": {
      "model_module": "@jupyter-widgets/controls",
      "model_module_version": "1.5.0",
      "model_name": "SliderStyleModel",
      "state": {
       "_model_module": "@jupyter-widgets/controls",
       "_model_module_version": "1.5.0",
       "_model_name": "SliderStyleModel",
       "_view_count": null,
       "_view_module": "@jupyter-widgets/base",
       "_view_module_version": "1.2.0",
       "_view_name": "StyleView",
       "description_width": "",
       "handle_color": null
      }
     },
     "0ad7d61e83724c92aa16745e3324a924": {
      "model_module": "@jupyter-widgets/base",
      "model_module_version": "1.2.0",
      "model_name": "LayoutModel",
      "state": {
       "_model_module": "@jupyter-widgets/base",
       "_model_module_version": "1.2.0",
       "_model_name": "LayoutModel",
       "_view_count": null,
       "_view_module": "@jupyter-widgets/base",
       "_view_module_version": "1.2.0",
       "_view_name": "LayoutView",
       "align_content": null,
       "align_items": null,
       "align_self": null,
       "border": null,
       "bottom": null,
       "display": null,
       "flex": null,
       "flex_flow": null,
       "grid_area": null,
       "grid_auto_columns": null,
       "grid_auto_flow": null,
       "grid_auto_rows": null,
       "grid_column": null,
       "grid_gap": null,
       "grid_row": null,
       "grid_template_areas": null,
       "grid_template_columns": null,
       "grid_template_rows": null,
       "height": null,
       "justify_content": null,
       "justify_items": null,
       "left": null,
       "margin": null,
       "max_height": null,
       "max_width": null,
       "min_height": null,
       "min_width": null,
       "object_fit": null,
       "object_position": null,
       "order": null,
       "overflow": null,
       "overflow_x": null,
       "overflow_y": null,
       "padding": null,
       "right": null,
       "top": null,
       "visibility": null,
       "width": null
      }
     },
     "11b62560f2164d079f48875cb3818b3d": {
      "model_module": "@jupyter-widgets/controls",
      "model_module_version": "1.5.0",
      "model_name": "FloatSliderModel",
      "state": {
       "_dom_classes": [],
       "_model_module": "@jupyter-widgets/controls",
       "_model_module_version": "1.5.0",
       "_model_name": "FloatSliderModel",
       "_view_count": null,
       "_view_module": "@jupyter-widgets/controls",
       "_view_module_version": "1.5.0",
       "_view_name": "FloatSliderView",
       "continuous_update": true,
       "description": "target_Pc",
       "description_tooltip": null,
       "disabled": false,
       "layout": "IPY_MODEL_49f05332d50e47f8868b75e7405a362b",
       "max": 8165.324889242946,
       "min": -2000,
       "orientation": "horizontal",
       "readout": true,
       "readout_format": ".2f",
       "step": 1,
       "style": "IPY_MODEL_62f3f2a2ac5c467b8545bab0aea08d31",
       "value": 3082
      }
     },
     "11c62a1c37424b19830423996db771e1": {
      "model_module": "@jupyter-widgets/base",
      "model_module_version": "1.2.0",
      "model_name": "LayoutModel",
      "state": {
       "_model_module": "@jupyter-widgets/base",
       "_model_module_version": "1.2.0",
       "_model_name": "LayoutModel",
       "_view_count": null,
       "_view_module": "@jupyter-widgets/base",
       "_view_module_version": "1.2.0",
       "_view_name": "LayoutView",
       "align_content": null,
       "align_items": null,
       "align_self": null,
       "border": null,
       "bottom": null,
       "display": null,
       "flex": null,
       "flex_flow": null,
       "grid_area": null,
       "grid_auto_columns": null,
       "grid_auto_flow": null,
       "grid_auto_rows": null,
       "grid_column": null,
       "grid_gap": null,
       "grid_row": null,
       "grid_template_areas": null,
       "grid_template_columns": null,
       "grid_template_rows": null,
       "height": null,
       "justify_content": null,
       "justify_items": null,
       "left": null,
       "margin": null,
       "max_height": null,
       "max_width": null,
       "min_height": null,
       "min_width": null,
       "object_fit": null,
       "object_position": null,
       "order": null,
       "overflow": null,
       "overflow_x": null,
       "overflow_y": null,
       "padding": null,
       "right": null,
       "top": null,
       "visibility": null,
       "width": null
      }
     },
     "149d9fdf609742639261464d97377f2a": {
      "model_module": "@jupyter-widgets/base",
      "model_module_version": "1.2.0",
      "model_name": "LayoutModel",
      "state": {
       "_model_module": "@jupyter-widgets/base",
       "_model_module_version": "1.2.0",
       "_model_name": "LayoutModel",
       "_view_count": null,
       "_view_module": "@jupyter-widgets/base",
       "_view_module_version": "1.2.0",
       "_view_name": "LayoutView",
       "align_content": null,
       "align_items": null,
       "align_self": null,
       "border": null,
       "bottom": null,
       "display": null,
       "flex": null,
       "flex_flow": null,
       "grid_area": null,
       "grid_auto_columns": null,
       "grid_auto_flow": null,
       "grid_auto_rows": null,
       "grid_column": null,
       "grid_gap": null,
       "grid_row": null,
       "grid_template_areas": null,
       "grid_template_columns": null,
       "grid_template_rows": null,
       "height": null,
       "justify_content": null,
       "justify_items": null,
       "left": null,
       "margin": null,
       "max_height": null,
       "max_width": null,
       "min_height": null,
       "min_width": null,
       "object_fit": null,
       "object_position": null,
       "order": null,
       "overflow": null,
       "overflow_x": null,
       "overflow_y": null,
       "padding": null,
       "right": null,
       "top": null,
       "visibility": null,
       "width": null
      }
     },
     "19037a073aab4d87a1144bb8e891938c": {
      "model_module": "@jupyter-widgets/controls",
      "model_module_version": "1.5.0",
      "model_name": "VBoxModel",
      "state": {
       "_dom_classes": [
        "widget-interact"
       ],
       "_model_module": "@jupyter-widgets/controls",
       "_model_module_version": "1.5.0",
       "_model_name": "VBoxModel",
       "_view_count": null,
       "_view_module": "@jupyter-widgets/controls",
       "_view_module_version": "1.5.0",
       "_view_name": "VBoxView",
       "box_style": "",
       "children": [
        "IPY_MODEL_11b62560f2164d079f48875cb3818b3d",
        "IPY_MODEL_a3c1652ec47043d0a337954a943fd77b"
       ],
       "layout": "IPY_MODEL_8cca0fc765c140798ee259e6cd1ba164"
      }
     },
     "40e6d9c10c3849a0894948448cf09741": {
      "model_module": "@jupyter-widgets/controls",
      "model_module_version": "1.5.0",
      "model_name": "FloatSliderModel",
      "state": {
       "_dom_classes": [],
       "_model_module": "@jupyter-widgets/controls",
       "_model_module_version": "1.5.0",
       "_model_name": "FloatSliderModel",
       "_view_count": null,
       "_view_module": "@jupyter-widgets/controls",
       "_view_module_version": "1.5.0",
       "_view_name": "FloatSliderView",
       "continuous_update": true,
       "description": "target_Pc",
       "description_tooltip": null,
       "disabled": false,
       "layout": "IPY_MODEL_11c62a1c37424b19830423996db771e1",
       "max": 8165.324889242946,
       "min": -2000,
       "orientation": "horizontal",
       "readout": true,
       "readout_format": ".2f",
       "step": 1,
       "style": "IPY_MODEL_0a4d77f03b1248a088e16131636d7ca4",
       "value": 3082
      }
     },
     "49f05332d50e47f8868b75e7405a362b": {
      "model_module": "@jupyter-widgets/base",
      "model_module_version": "1.2.0",
      "model_name": "LayoutModel",
      "state": {
       "_model_module": "@jupyter-widgets/base",
       "_model_module_version": "1.2.0",
       "_model_name": "LayoutModel",
       "_view_count": null,
       "_view_module": "@jupyter-widgets/base",
       "_view_module_version": "1.2.0",
       "_view_name": "LayoutView",
       "align_content": null,
       "align_items": null,
       "align_self": null,
       "border": null,
       "bottom": null,
       "display": null,
       "flex": null,
       "flex_flow": null,
       "grid_area": null,
       "grid_auto_columns": null,
       "grid_auto_flow": null,
       "grid_auto_rows": null,
       "grid_column": null,
       "grid_gap": null,
       "grid_row": null,
       "grid_template_areas": null,
       "grid_template_columns": null,
       "grid_template_rows": null,
       "height": null,
       "justify_content": null,
       "justify_items": null,
       "left": null,
       "margin": null,
       "max_height": null,
       "max_width": null,
       "min_height": null,
       "min_width": null,
       "object_fit": null,
       "object_position": null,
       "order": null,
       "overflow": null,
       "overflow_x": null,
       "overflow_y": null,
       "padding": null,
       "right": null,
       "top": null,
       "visibility": null,
       "width": null
      }
     },
     "50279e9d0f76465d852c669e063ce00e": {
      "model_module": "@jupyter-widgets/controls",
      "model_module_version": "1.5.0",
      "model_name": "SliderStyleModel",
      "state": {
       "_model_module": "@jupyter-widgets/controls",
       "_model_module_version": "1.5.0",
       "_model_name": "SliderStyleModel",
       "_view_count": null,
       "_view_module": "@jupyter-widgets/base",
       "_view_module_version": "1.2.0",
       "_view_name": "StyleView",
       "description_width": "",
       "handle_color": null
      }
     },
     "56b49be978034ce696a77c6f36b51850": {
      "model_module": "@jupyter-widgets/controls",
      "model_module_version": "1.5.0",
      "model_name": "FloatSliderModel",
      "state": {
       "_dom_classes": [],
       "_model_module": "@jupyter-widgets/controls",
       "_model_module_version": "1.5.0",
       "_model_name": "FloatSliderModel",
       "_view_count": null,
       "_view_module": "@jupyter-widgets/controls",
       "_view_module_version": "1.5.0",
       "_view_name": "FloatSliderView",
       "continuous_update": true,
       "description": "target_Pc",
       "description_tooltip": null,
       "disabled": false,
       "layout": "IPY_MODEL_a0807a4817be455c9878e2a3c7f696fb",
       "max": 4729.770413396985,
       "min": -2000,
       "orientation": "horizontal",
       "readout": true,
       "readout_format": ".2f",
       "step": 1,
       "style": "IPY_MODEL_50279e9d0f76465d852c669e063ce00e",
       "value": 1364
      }
     },
     "5aec01137eee4af6911347ed18090eba": {
      "model_module": "@jupyter-widgets/controls",
      "model_module_version": "1.5.0",
      "model_name": "VBoxModel",
      "state": {
       "_dom_classes": [
        "widget-interact"
       ],
       "_model_module": "@jupyter-widgets/controls",
       "_model_module_version": "1.5.0",
       "_model_name": "VBoxModel",
       "_view_count": null,
       "_view_module": "@jupyter-widgets/controls",
       "_view_module_version": "1.5.0",
       "_view_name": "VBoxView",
       "box_style": "",
       "children": [
        "IPY_MODEL_40e6d9c10c3849a0894948448cf09741",
        "IPY_MODEL_c1f7661b0b05448eab5a64318a884f81"
       ],
       "layout": "IPY_MODEL_b10e5a52a15d4865bb5a36e19ccfe56d"
      }
     },
     "62f3f2a2ac5c467b8545bab0aea08d31": {
      "model_module": "@jupyter-widgets/controls",
      "model_module_version": "1.5.0",
      "model_name": "SliderStyleModel",
      "state": {
       "_model_module": "@jupyter-widgets/controls",
       "_model_module_version": "1.5.0",
       "_model_name": "SliderStyleModel",
       "_view_count": null,
       "_view_module": "@jupyter-widgets/base",
       "_view_module_version": "1.2.0",
       "_view_name": "StyleView",
       "description_width": "",
       "handle_color": null
      }
     },
     "81a7f98a959743ef9aeb54a807c2bab1": {
      "model_module": "@jupyter-widgets/base",
      "model_module_version": "1.2.0",
      "model_name": "LayoutModel",
      "state": {
       "_model_module": "@jupyter-widgets/base",
       "_model_module_version": "1.2.0",
       "_model_name": "LayoutModel",
       "_view_count": null,
       "_view_module": "@jupyter-widgets/base",
       "_view_module_version": "1.2.0",
       "_view_name": "LayoutView",
       "align_content": null,
       "align_items": null,
       "align_self": null,
       "border": null,
       "bottom": null,
       "display": null,
       "flex": null,
       "flex_flow": null,
       "grid_area": null,
       "grid_auto_columns": null,
       "grid_auto_flow": null,
       "grid_auto_rows": null,
       "grid_column": null,
       "grid_gap": null,
       "grid_row": null,
       "grid_template_areas": null,
       "grid_template_columns": null,
       "grid_template_rows": null,
       "height": null,
       "justify_content": null,
       "justify_items": null,
       "left": null,
       "margin": null,
       "max_height": null,
       "max_width": null,
       "min_height": null,
       "min_width": null,
       "object_fit": null,
       "object_position": null,
       "order": null,
       "overflow": null,
       "overflow_x": null,
       "overflow_y": null,
       "padding": null,
       "right": null,
       "top": null,
       "visibility": null,
       "width": null
      }
     },
     "8cca0fc765c140798ee259e6cd1ba164": {
      "model_module": "@jupyter-widgets/base",
      "model_module_version": "1.2.0",
      "model_name": "LayoutModel",
      "state": {
       "_model_module": "@jupyter-widgets/base",
       "_model_module_version": "1.2.0",
       "_model_name": "LayoutModel",
       "_view_count": null,
       "_view_module": "@jupyter-widgets/base",
       "_view_module_version": "1.2.0",
       "_view_name": "LayoutView",
       "align_content": null,
       "align_items": null,
       "align_self": null,
       "border": null,
       "bottom": null,
       "display": null,
       "flex": null,
       "flex_flow": null,
       "grid_area": null,
       "grid_auto_columns": null,
       "grid_auto_flow": null,
       "grid_auto_rows": null,
       "grid_column": null,
       "grid_gap": null,
       "grid_row": null,
       "grid_template_areas": null,
       "grid_template_columns": null,
       "grid_template_rows": null,
       "height": null,
       "justify_content": null,
       "justify_items": null,
       "left": null,
       "margin": null,
       "max_height": null,
       "max_width": null,
       "min_height": null,
       "min_width": null,
       "object_fit": null,
       "object_position": null,
       "order": null,
       "overflow": null,
       "overflow_x": null,
       "overflow_y": null,
       "padding": null,
       "right": null,
       "top": null,
       "visibility": null,
       "width": null
      }
     },
     "a0807a4817be455c9878e2a3c7f696fb": {
      "model_module": "@jupyter-widgets/base",
      "model_module_version": "1.2.0",
      "model_name": "LayoutModel",
      "state": {
       "_model_module": "@jupyter-widgets/base",
       "_model_module_version": "1.2.0",
       "_model_name": "LayoutModel",
       "_view_count": null,
       "_view_module": "@jupyter-widgets/base",
       "_view_module_version": "1.2.0",
       "_view_name": "LayoutView",
       "align_content": null,
       "align_items": null,
       "align_self": null,
       "border": null,
       "bottom": null,
       "display": null,
       "flex": null,
       "flex_flow": null,
       "grid_area": null,
       "grid_auto_columns": null,
       "grid_auto_flow": null,
       "grid_auto_rows": null,
       "grid_column": null,
       "grid_gap": null,
       "grid_row": null,
       "grid_template_areas": null,
       "grid_template_columns": null,
       "grid_template_rows": null,
       "height": null,
       "justify_content": null,
       "justify_items": null,
       "left": null,
       "margin": null,
       "max_height": null,
       "max_width": null,
       "min_height": null,
       "min_width": null,
       "object_fit": null,
       "object_position": null,
       "order": null,
       "overflow": null,
       "overflow_x": null,
       "overflow_y": null,
       "padding": null,
       "right": null,
       "top": null,
       "visibility": null,
       "width": null
      }
     },
     "a3c1652ec47043d0a337954a943fd77b": {
      "model_module": "@jupyter-widgets/output",
      "model_module_version": "1.0.0",
      "model_name": "OutputModel",
      "state": {
       "_dom_classes": [],
       "_model_module": "@jupyter-widgets/output",
       "_model_module_version": "1.0.0",
       "_model_name": "OutputModel",
       "_view_count": null,
       "_view_module": "@jupyter-widgets/output",
       "_view_module_version": "1.0.0",
       "_view_name": "OutputView",
       "layout": "IPY_MODEL_0ad7d61e83724c92aa16745e3324a924",
       "msg_id": "",
       "outputs": [
        {
         "data": {
          "text/plain": "<AxesSubplot:>"
         },
         "metadata": {},
         "output_type": "display_data"
        }
       ]
      }
     },
     "b10e5a52a15d4865bb5a36e19ccfe56d": {
      "model_module": "@jupyter-widgets/base",
      "model_module_version": "1.2.0",
      "model_name": "LayoutModel",
      "state": {
       "_model_module": "@jupyter-widgets/base",
       "_model_module_version": "1.2.0",
       "_model_name": "LayoutModel",
       "_view_count": null,
       "_view_module": "@jupyter-widgets/base",
       "_view_module_version": "1.2.0",
       "_view_name": "LayoutView",
       "align_content": null,
       "align_items": null,
       "align_self": null,
       "border": null,
       "bottom": null,
       "display": null,
       "flex": null,
       "flex_flow": null,
       "grid_area": null,
       "grid_auto_columns": null,
       "grid_auto_flow": null,
       "grid_auto_rows": null,
       "grid_column": null,
       "grid_gap": null,
       "grid_row": null,
       "grid_template_areas": null,
       "grid_template_columns": null,
       "grid_template_rows": null,
       "height": null,
       "justify_content": null,
       "justify_items": null,
       "left": null,
       "margin": null,
       "max_height": null,
       "max_width": null,
       "min_height": null,
       "min_width": null,
       "object_fit": null,
       "object_position": null,
       "order": null,
       "overflow": null,
       "overflow_x": null,
       "overflow_y": null,
       "padding": null,
       "right": null,
       "top": null,
       "visibility": null,
       "width": null
      }
     },
     "c1f7661b0b05448eab5a64318a884f81": {
      "model_module": "@jupyter-widgets/output",
      "model_module_version": "1.0.0",
      "model_name": "OutputModel",
      "state": {
       "_dom_classes": [],
       "_model_module": "@jupyter-widgets/output",
       "_model_module_version": "1.0.0",
       "_model_name": "OutputModel",
       "_view_count": null,
       "_view_module": "@jupyter-widgets/output",
       "_view_module_version": "1.0.0",
       "_view_name": "OutputView",
       "layout": "IPY_MODEL_ce9cbca437bf49f7bddc6c38e4917f95",
       "msg_id": "",
       "outputs": [
        {
         "data": {
          "text/plain": "<AxesSubplot:>"
         },
         "metadata": {},
         "output_type": "display_data"
        }
       ]
      }
     },
     "ce9cbca437bf49f7bddc6c38e4917f95": {
      "model_module": "@jupyter-widgets/base",
      "model_module_version": "1.2.0",
      "model_name": "LayoutModel",
      "state": {
       "_model_module": "@jupyter-widgets/base",
       "_model_module_version": "1.2.0",
       "_model_name": "LayoutModel",
       "_view_count": null,
       "_view_module": "@jupyter-widgets/base",
       "_view_module_version": "1.2.0",
       "_view_name": "LayoutView",
       "align_content": null,
       "align_items": null,
       "align_self": null,
       "border": null,
       "bottom": null,
       "display": null,
       "flex": null,
       "flex_flow": null,
       "grid_area": null,
       "grid_auto_columns": null,
       "grid_auto_flow": null,
       "grid_auto_rows": null,
       "grid_column": null,
       "grid_gap": null,
       "grid_row": null,
       "grid_template_areas": null,
       "grid_template_columns": null,
       "grid_template_rows": null,
       "height": null,
       "justify_content": null,
       "justify_items": null,
       "left": null,
       "margin": null,
       "max_height": null,
       "max_width": null,
       "min_height": null,
       "min_width": null,
       "object_fit": null,
       "object_position": null,
       "order": null,
       "overflow": null,
       "overflow_x": null,
       "overflow_y": null,
       "padding": null,
       "right": null,
       "top": null,
       "visibility": null,
       "width": null
      }
     }
    },
    "version_major": 2,
    "version_minor": 0
   }
  }
 },
 "nbformat": 4,
 "nbformat_minor": 2
}
