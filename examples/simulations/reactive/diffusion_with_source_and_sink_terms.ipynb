{
 "cells": [
  {
   "cell_type": "markdown",
   "metadata": {},
   "source": [
    "# Fickian Diffusion with Reaction\n",
    "`OpenPNM` is capable of simulating chemical reactions in pores by adding source and sink terms. This example shows how to add source and sink terms to a steady state fickian diffusion simulation."
   ]
  },
  {
   "cell_type": "code",
   "execution_count": 1,
   "metadata": {
    "execution": {
     "iopub.execute_input": "2022-09-07T19:26:59.722514Z",
     "iopub.status.busy": "2022-09-07T19:26:59.722195Z",
     "iopub.status.idle": "2022-09-07T19:27:01.484964Z",
     "shell.execute_reply": "2022-09-07T19:27:01.484005Z"
    }
   },
   "outputs": [],
   "source": [
    "import warnings\n",
    "import scipy as sp\n",
    "import numpy as np\n",
    "import openpnm as op\n",
    "%config InlineBackend.figure_formats = ['svg']\n",
    "import matplotlib.pyplot as plt\n",
    "np.set_printoptions(precision=5)\n",
    "np.random.seed(10)\n",
    "%matplotlib inline"
   ]
  },
  {
   "cell_type": "markdown",
   "metadata": {},
   "source": [
    "## Create Network and Other Objects\n",
    "Start by creating the network, geometry, phase and physics objects as usual:"
   ]
  },
  {
   "cell_type": "code",
   "execution_count": 2,
   "metadata": {
    "execution": {
     "iopub.execute_input": "2022-09-07T19:27:01.489210Z",
     "iopub.status.busy": "2022-09-07T19:27:01.488762Z",
     "iopub.status.idle": "2022-09-07T19:27:02.023779Z",
     "shell.execute_reply": "2022-09-07T19:27:02.022841Z"
    }
   },
   "outputs": [
    {
     "ename": "AttributeError",
     "evalue": "module 'openpnm' has no attribute 'geometry'",
     "output_type": "error",
     "traceback": [
      "\u001b[0;31m---------------------------------------------------------------------------\u001b[0m",
      "\u001b[0;31mAttributeError\u001b[0m                            Traceback (most recent call last)",
      "Cell \u001b[0;32mIn [2], line 2\u001b[0m\n\u001b[1;32m      1\u001b[0m pn \u001b[38;5;241m=\u001b[39m op\u001b[38;5;241m.\u001b[39mnetwork\u001b[38;5;241m.\u001b[39mCubic(shape\u001b[38;5;241m=\u001b[39m[\u001b[38;5;241m40\u001b[39m, \u001b[38;5;241m40\u001b[39m], spacing\u001b[38;5;241m=\u001b[39m\u001b[38;5;241m1e-4\u001b[39m)\n\u001b[0;32m----> 2\u001b[0m geo \u001b[38;5;241m=\u001b[39m \u001b[43mop\u001b[49m\u001b[38;5;241;43m.\u001b[39;49m\u001b[43mgeometry\u001b[49m\u001b[38;5;241m.\u001b[39mSpheresAndCylinders(network\u001b[38;5;241m=\u001b[39mpn, pores\u001b[38;5;241m=\u001b[39mpn\u001b[38;5;241m.\u001b[39mPs, throats\u001b[38;5;241m=\u001b[39mpn\u001b[38;5;241m.\u001b[39mTs)\n\u001b[1;32m      3\u001b[0m gas \u001b[38;5;241m=\u001b[39m op\u001b[38;5;241m.\u001b[39mphases\u001b[38;5;241m.\u001b[39mAir(network\u001b[38;5;241m=\u001b[39mpn)\n\u001b[1;32m      4\u001b[0m phys \u001b[38;5;241m=\u001b[39m op\u001b[38;5;241m.\u001b[39mphysics\u001b[38;5;241m.\u001b[39mStandard(network\u001b[38;5;241m=\u001b[39mpn, phase\u001b[38;5;241m=\u001b[39mgas, geometry\u001b[38;5;241m=\u001b[39mgeo)\n",
      "\u001b[0;31mAttributeError\u001b[0m: module 'openpnm' has no attribute 'geometry'"
     ]
    }
   ],
   "source": [
    "pn = op.network.Cubic(shape=[40, 40], spacing=1e-4)\n",
    "geo = op.geometry.SpheresAndCylinders(network=pn, pores=pn.Ps, throats=pn.Ts)\n",
    "gas = op.phases.Air(network=pn)\n",
    "phys = op.physics.Standard(network=pn, phase=gas, geometry=geo)"
   ]
  },
  {
   "cell_type": "markdown",
   "metadata": {},
   "source": [
    "Now add the source and sink models to the physics object.  In this case we'll think of the as chemical reactions.  We'll add one source term and one sink term, meaning one negative reaction rate and one positive reaction rate"
   ]
  },
  {
   "cell_type": "code",
   "execution_count": 3,
   "metadata": {
    "execution": {
     "iopub.execute_input": "2022-09-07T19:27:02.027695Z",
     "iopub.status.busy": "2022-09-07T19:27:02.027456Z",
     "iopub.status.idle": "2022-09-07T19:27:02.048605Z",
     "shell.execute_reply": "2022-09-07T19:27:02.047905Z"
    }
   },
   "outputs": [
    {
     "ename": "NameError",
     "evalue": "name 'gas' is not defined",
     "output_type": "error",
     "traceback": [
      "\u001b[0;31m---------------------------------------------------------------------------\u001b[0m",
      "\u001b[0;31mNameError\u001b[0m                                 Traceback (most recent call last)",
      "Cell \u001b[0;32mIn [3], line 1\u001b[0m\n\u001b[0;32m----> 1\u001b[0m \u001b[43mgas\u001b[49m[\u001b[38;5;124m'\u001b[39m\u001b[38;5;124mpore.concentration\u001b[39m\u001b[38;5;124m'\u001b[39m] \u001b[38;5;241m=\u001b[39m \u001b[38;5;241m0\u001b[39m\n\u001b[1;32m      2\u001b[0m phys[\u001b[38;5;124m'\u001b[39m\u001b[38;5;124mpore.sinkA\u001b[39m\u001b[38;5;124m'\u001b[39m] \u001b[38;5;241m=\u001b[39m \u001b[38;5;241m-\u001b[39m\u001b[38;5;241m1e-10\u001b[39m\n\u001b[1;32m      3\u001b[0m phys[\u001b[38;5;124m'\u001b[39m\u001b[38;5;124mpore.sinkb\u001b[39m\u001b[38;5;124m'\u001b[39m] \u001b[38;5;241m=\u001b[39m \u001b[38;5;241m1\u001b[39m\n",
      "\u001b[0;31mNameError\u001b[0m: name 'gas' is not defined"
     ]
    }
   ],
   "source": [
    "gas['pore.concentration'] = 0\n",
    "phys['pore.sinkA'] = -1e-10\n",
    "phys['pore.sinkb'] = 1\n",
    "phys.add_model(propname='pore.sink', model=op.models.physics.generic_source_term.power_law,\n",
    "               A1='pore.sinkA', A2='pore.sinkb', X='pore.concentration')\n",
    "phys['pore.srcA'] = 1e-11\n",
    "phys['pore.srcb'] = 1\n",
    "phys.add_model(propname='pore.source', model=op.models.physics.generic_source_term.power_law,\n",
    "               A1='pore.srcA', A2='pore.srcb', X='pore.concentration')"
   ]
  },
  {
   "cell_type": "markdown",
   "metadata": {},
   "source": [
    "## Setup Fickian Diffusion with Sink Terms\n",
    "Now we setup a FickianDiffusion algorithm, with concentration boundary conditions on two side, and apply the sink term to 3 pores:"
   ]
  },
  {
   "cell_type": "code",
   "execution_count": 4,
   "metadata": {
    "execution": {
     "iopub.execute_input": "2022-09-07T19:27:02.051992Z",
     "iopub.status.busy": "2022-09-07T19:27:02.051727Z",
     "iopub.status.idle": "2022-09-07T19:27:02.071956Z",
     "shell.execute_reply": "2022-09-07T19:27:02.071214Z"
    }
   },
   "outputs": [
    {
     "ename": "NameError",
     "evalue": "name 'gas' is not defined",
     "output_type": "error",
     "traceback": [
      "\u001b[0;31m---------------------------------------------------------------------------\u001b[0m",
      "\u001b[0;31mNameError\u001b[0m                                 Traceback (most recent call last)",
      "Cell \u001b[0;32mIn [4], line 1\u001b[0m\n\u001b[0;32m----> 1\u001b[0m rx \u001b[38;5;241m=\u001b[39m op\u001b[38;5;241m.\u001b[39malgorithms\u001b[38;5;241m.\u001b[39mFickianDiffusion(network\u001b[38;5;241m=\u001b[39mpn, phase\u001b[38;5;241m=\u001b[39m\u001b[43mgas\u001b[49m)\n\u001b[1;32m      2\u001b[0m rx\u001b[38;5;241m.\u001b[39mset_source(propname\u001b[38;5;241m=\u001b[39m\u001b[38;5;124m'\u001b[39m\u001b[38;5;124mpore.sink\u001b[39m\u001b[38;5;124m'\u001b[39m, pores\u001b[38;5;241m=\u001b[39m[\u001b[38;5;241m420\u001b[39m, \u001b[38;5;241m820\u001b[39m, \u001b[38;5;241m1220\u001b[39m])\n\u001b[1;32m      3\u001b[0m rx\u001b[38;5;241m.\u001b[39mset_value_BC(values\u001b[38;5;241m=\u001b[39m\u001b[38;5;241m1\u001b[39m, pores\u001b[38;5;241m=\u001b[39mpn\u001b[38;5;241m.\u001b[39mpores(\u001b[38;5;124m'\u001b[39m\u001b[38;5;124mfront\u001b[39m\u001b[38;5;124m'\u001b[39m))\n",
      "\u001b[0;31mNameError\u001b[0m: name 'gas' is not defined"
     ]
    }
   ],
   "source": [
    "rx = op.algorithms.FickianDiffusion(network=pn, phase=gas)\n",
    "rx.set_source(propname='pore.sink', pores=[420, 820, 1220])\n",
    "rx.set_value_BC(values=1, pores=pn.pores('front'))\n",
    "rx.set_value_BC(values=1, pores=pn.pores('back'))\n",
    "rx.run()"
   ]
  },
  {
   "cell_type": "markdown",
   "metadata": {},
   "source": [
    "## Plot Distributions\n",
    "\n",
    "We can use the ``plot_connections`` and ``plot_coordinates`` to get a quick view of the pore network, with colors and sizes scaled appropriately."
   ]
  },
  {
   "cell_type": "code",
   "execution_count": 5,
   "metadata": {
    "execution": {
     "iopub.execute_input": "2022-09-07T19:27:02.075712Z",
     "iopub.status.busy": "2022-09-07T19:27:02.075292Z",
     "iopub.status.idle": "2022-09-07T19:27:02.095711Z",
     "shell.execute_reply": "2022-09-07T19:27:02.094902Z"
    }
   },
   "outputs": [
    {
     "ename": "NameError",
     "evalue": "name 'rx' is not defined",
     "output_type": "error",
     "traceback": [
      "\u001b[0;31m---------------------------------------------------------------------------\u001b[0m",
      "\u001b[0;31mNameError\u001b[0m                                 Traceback (most recent call last)",
      "Cell \u001b[0;32mIn [5], line 1\u001b[0m\n\u001b[0;32m----> 1\u001b[0m pn[\u001b[38;5;124m'\u001b[39m\u001b[38;5;124mpore.concentration\u001b[39m\u001b[38;5;124m'\u001b[39m] \u001b[38;5;241m=\u001b[39m \u001b[43mrx\u001b[49m[\u001b[38;5;124m'\u001b[39m\u001b[38;5;124mpore.concentration\u001b[39m\u001b[38;5;124m'\u001b[39m]\n\u001b[1;32m      2\u001b[0m fig, ax \u001b[38;5;241m=\u001b[39m plt\u001b[38;5;241m.\u001b[39msubplots(figsize\u001b[38;5;241m=\u001b[39m[\u001b[38;5;241m15\u001b[39m, \u001b[38;5;241m15\u001b[39m])\n\u001b[1;32m      3\u001b[0m op\u001b[38;5;241m.\u001b[39mtopotools\u001b[38;5;241m.\u001b[39mplot_connections(network\u001b[38;5;241m=\u001b[39mpn, color\u001b[38;5;241m=\u001b[39m\u001b[38;5;124m'\u001b[39m\u001b[38;5;124mk\u001b[39m\u001b[38;5;124m'\u001b[39m, alpha\u001b[38;5;241m=\u001b[39m\u001b[38;5;241m.2\u001b[39m, ax\u001b[38;5;241m=\u001b[39max)\n",
      "\u001b[0;31mNameError\u001b[0m: name 'rx' is not defined"
     ]
    }
   ],
   "source": [
    "pn['pore.concentration'] = rx['pore.concentration']\n",
    "fig, ax = plt.subplots(figsize=[15, 15])\n",
    "op.topotools.plot_connections(network=pn, color='k', alpha=.2, ax=ax)\n",
    "op.topotools.plot_coordinates(network=pn, color_by=pn['pore.concentration'],\n",
    "                              size_by=pn['pore.diameter'], cmap='plasma',\n",
    "                              ax=ax, markersize=100)\n",
    "_ = plt.axis('off')"
   ]
  },
  {
   "cell_type": "markdown",
   "metadata": {},
   "source": [
    "## Plot Distributions as Heatmaps\n",
    "Because the network is a 2D cubic, it is convenient to visualize it as an image, so we reshape the 'pore.concentration' array that is produced by the FickianDiffusion algorithm upon running, and turn it into a colormap representing concentration in each pore."
   ]
  },
  {
   "cell_type": "code",
   "execution_count": 6,
   "metadata": {
    "execution": {
     "iopub.execute_input": "2022-09-07T19:27:02.099461Z",
     "iopub.status.busy": "2022-09-07T19:27:02.099002Z",
     "iopub.status.idle": "2022-09-07T19:27:02.118236Z",
     "shell.execute_reply": "2022-09-07T19:27:02.117349Z"
    }
   },
   "outputs": [
    {
     "ename": "NameError",
     "evalue": "name 'rx' is not defined",
     "output_type": "error",
     "traceback": [
      "\u001b[0;31m---------------------------------------------------------------------------\u001b[0m",
      "\u001b[0;31mNameError\u001b[0m                                 Traceback (most recent call last)",
      "Cell \u001b[0;32mIn [6], line 1\u001b[0m\n\u001b[0;32m----> 1\u001b[0m pn[\u001b[38;5;124m'\u001b[39m\u001b[38;5;124mpore.concentration\u001b[39m\u001b[38;5;124m'\u001b[39m] \u001b[38;5;241m=\u001b[39m \u001b[43mrx\u001b[49m[\u001b[38;5;124m'\u001b[39m\u001b[38;5;124mpore.concentration\u001b[39m\u001b[38;5;124m'\u001b[39m]\n\u001b[1;32m      2\u001b[0m fig, ax \u001b[38;5;241m=\u001b[39m plt\u001b[38;5;241m.\u001b[39msubplots(figsize\u001b[38;5;241m=\u001b[39m[\u001b[38;5;241m15\u001b[39m, \u001b[38;5;241m15\u001b[39m])\n\u001b[1;32m      3\u001b[0m op\u001b[38;5;241m.\u001b[39mtopotools\u001b[38;5;241m.\u001b[39mplot_connections(network\u001b[38;5;241m=\u001b[39mpn, color\u001b[38;5;241m=\u001b[39m\u001b[38;5;124m'\u001b[39m\u001b[38;5;124mk\u001b[39m\u001b[38;5;124m'\u001b[39m, alpha\u001b[38;5;241m=\u001b[39m\u001b[38;5;241m0\u001b[39m, ax\u001b[38;5;241m=\u001b[39max)\n",
      "\u001b[0;31mNameError\u001b[0m: name 'rx' is not defined"
     ]
    }
   ],
   "source": [
    "pn['pore.concentration'] = rx['pore.concentration']\n",
    "fig, ax = plt.subplots(figsize=[15, 15])\n",
    "op.topotools.plot_connections(network=pn, color='k', alpha=0, ax=ax)\n",
    "op.topotools.plot_coordinates(network=pn, color_by=pn['pore.concentration'], cmap='plasma',\n",
    "                              ax=ax, markersize=420, marker='s')\n",
    "_ = plt.axis('off')"
   ]
  },
  {
   "cell_type": "markdown",
   "metadata": {},
   "source": [
    "## Setup Fickian Diffusion with Source Terms\n",
    "Similarly, for the source term:"
   ]
  },
  {
   "cell_type": "code",
   "execution_count": 7,
   "metadata": {
    "execution": {
     "iopub.execute_input": "2022-09-07T19:27:02.121592Z",
     "iopub.status.busy": "2022-09-07T19:27:02.121159Z",
     "iopub.status.idle": "2022-09-07T19:27:02.139730Z",
     "shell.execute_reply": "2022-09-07T19:27:02.138969Z"
    }
   },
   "outputs": [
    {
     "ename": "NameError",
     "evalue": "name 'gas' is not defined",
     "output_type": "error",
     "traceback": [
      "\u001b[0;31m---------------------------------------------------------------------------\u001b[0m",
      "\u001b[0;31mNameError\u001b[0m                                 Traceback (most recent call last)",
      "Cell \u001b[0;32mIn [7], line 1\u001b[0m\n\u001b[0;32m----> 1\u001b[0m rx \u001b[38;5;241m=\u001b[39m op\u001b[38;5;241m.\u001b[39malgorithms\u001b[38;5;241m.\u001b[39mFickianDiffusion(network\u001b[38;5;241m=\u001b[39mpn, phase\u001b[38;5;241m=\u001b[39m\u001b[43mgas\u001b[49m)\n\u001b[1;32m      2\u001b[0m rx\u001b[38;5;241m.\u001b[39mset_source(propname\u001b[38;5;241m=\u001b[39m\u001b[38;5;124m'\u001b[39m\u001b[38;5;124mpore.source\u001b[39m\u001b[38;5;124m'\u001b[39m, pores\u001b[38;5;241m=\u001b[39m[\u001b[38;5;241m420\u001b[39m, \u001b[38;5;241m820\u001b[39m, \u001b[38;5;241m1220\u001b[39m])\n\u001b[1;32m      3\u001b[0m rx\u001b[38;5;241m.\u001b[39mset_value_BC(values\u001b[38;5;241m=\u001b[39m\u001b[38;5;241m1\u001b[39m, pores\u001b[38;5;241m=\u001b[39mpn\u001b[38;5;241m.\u001b[39mpores(\u001b[38;5;124m'\u001b[39m\u001b[38;5;124mfront\u001b[39m\u001b[38;5;124m'\u001b[39m))\n",
      "\u001b[0;31mNameError\u001b[0m: name 'gas' is not defined"
     ]
    }
   ],
   "source": [
    "rx = op.algorithms.FickianDiffusion(network=pn, phase=gas)\n",
    "rx.set_source(propname='pore.source', pores=[420, 820, 1220])\n",
    "rx.set_value_BC(values=1, pores=pn.pores('front'))\n",
    "rx.set_value_BC(values=1, pores=pn.pores('back'))\n",
    "rx.run()"
   ]
  },
  {
   "cell_type": "markdown",
   "metadata": {},
   "source": [
    "And plotting the result as a color map:"
   ]
  },
  {
   "cell_type": "code",
   "execution_count": 8,
   "metadata": {
    "execution": {
     "iopub.execute_input": "2022-09-07T19:27:02.143102Z",
     "iopub.status.busy": "2022-09-07T19:27:02.142684Z",
     "iopub.status.idle": "2022-09-07T19:27:02.162609Z",
     "shell.execute_reply": "2022-09-07T19:27:02.161867Z"
    }
   },
   "outputs": [
    {
     "ename": "NameError",
     "evalue": "name 'rx' is not defined",
     "output_type": "error",
     "traceback": [
      "\u001b[0;31m---------------------------------------------------------------------------\u001b[0m",
      "\u001b[0;31mNameError\u001b[0m                                 Traceback (most recent call last)",
      "Cell \u001b[0;32mIn [8], line 1\u001b[0m\n\u001b[0;32m----> 1\u001b[0m pn[\u001b[38;5;124m'\u001b[39m\u001b[38;5;124mpore.concentration\u001b[39m\u001b[38;5;124m'\u001b[39m] \u001b[38;5;241m=\u001b[39m \u001b[43mrx\u001b[49m[\u001b[38;5;124m'\u001b[39m\u001b[38;5;124mpore.concentration\u001b[39m\u001b[38;5;124m'\u001b[39m] \u001b[38;5;241m-\u001b[39m \u001b[38;5;241m1\u001b[39m\n\u001b[1;32m      2\u001b[0m fig, ax \u001b[38;5;241m=\u001b[39m plt\u001b[38;5;241m.\u001b[39msubplots(figsize\u001b[38;5;241m=\u001b[39m[\u001b[38;5;241m15\u001b[39m, \u001b[38;5;241m15\u001b[39m])\n\u001b[1;32m      3\u001b[0m op\u001b[38;5;241m.\u001b[39mtopotools\u001b[38;5;241m.\u001b[39mplot_connections(network\u001b[38;5;241m=\u001b[39mpn, color\u001b[38;5;241m=\u001b[39m\u001b[38;5;124m'\u001b[39m\u001b[38;5;124mk\u001b[39m\u001b[38;5;124m'\u001b[39m, alpha\u001b[38;5;241m=\u001b[39m\u001b[38;5;241m0\u001b[39m, ax\u001b[38;5;241m=\u001b[39max)\n",
      "\u001b[0;31mNameError\u001b[0m: name 'rx' is not defined"
     ]
    }
   ],
   "source": [
    "pn['pore.concentration'] = rx['pore.concentration'] - 1\n",
    "fig, ax = plt.subplots(figsize=[15, 15])\n",
    "op.topotools.plot_connections(network=pn, color='k', alpha=0, ax=ax)\n",
    "op.topotools.plot_coordinates(network=pn, color_by=pn['pore.concentration'], cmap='plasma',\n",
    "                              ax=ax, markersize=420, marker='s')\n",
    "_ = plt.axis('off')"
   ]
  }
 ],
 "metadata": {
  "@webio": {
   "lastCommId": null,
   "lastKernelId": null
  },
  "kernelspec": {
   "display_name": "Python 3",
   "language": "python",
   "name": "python3"
  },
  "language_info": {
   "codemirror_mode": {
    "name": "ipython",
    "version": 3
   },
   "file_extension": ".py",
   "mimetype": "text/x-python",
   "name": "python",
   "nbconvert_exporter": "python",
   "pygments_lexer": "ipython3",
   "version": "3.8.13"
  },
  "toc": {
   "base_numbering": 1,
   "nav_menu": {},
   "number_sections": false,
   "sideBar": true,
   "skip_h1_title": true,
   "title_cell": "Table of Contents",
   "title_sidebar": "Contents",
   "toc_cell": true,
   "toc_position": {},
   "toc_section_display": true,
   "toc_window_display": false
  }
 },
 "nbformat": 4,
 "nbformat_minor": 2
}
