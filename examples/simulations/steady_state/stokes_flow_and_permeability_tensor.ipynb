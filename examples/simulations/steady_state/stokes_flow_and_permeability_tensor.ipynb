{
 "cells": [
  {
   "cell_type": "markdown",
   "metadata": {},
   "source": [
    "# Stokes Flow and Permeability Tensor"
   ]
  },
  {
   "cell_type": "code",
   "execution_count": 1,
   "metadata": {
    "execution": {
     "iopub.execute_input": "2022-09-07T19:27:23.005218Z",
     "iopub.status.busy": "2022-09-07T19:27:23.004668Z",
     "iopub.status.idle": "2022-09-07T19:27:24.757394Z",
     "shell.execute_reply": "2022-09-07T19:27:24.756422Z"
    }
   },
   "outputs": [],
   "source": [
    "import openpnm as op\n",
    "%config InlineBackend.figure_formats = ['svg']\n",
    "import numpy as np\n",
    "import matplotlib.pyplot as plt"
   ]
  },
  {
   "cell_type": "markdown",
   "metadata": {},
   "source": [
    "## Generate a Layered Network\n",
    "\n",
    "In order to see a network with a noticable difference in permeability values in each principle direction, we'll make a network consisting of two distinct layers then stitch them together.  The process of stitching is explained in more detail [here](../../tutorials/network/stitching_and_merging_networks_together.ipynb)."
   ]
  },
  {
   "cell_type": "code",
   "execution_count": 2,
   "metadata": {
    "execution": {
     "iopub.execute_input": "2022-09-07T19:27:24.761960Z",
     "iopub.status.busy": "2022-09-07T19:27:24.761493Z",
     "iopub.status.idle": "2022-09-07T19:27:24.772690Z",
     "shell.execute_reply": "2022-09-07T19:27:24.771931Z"
    }
   },
   "outputs": [],
   "source": [
    "pn = op.network.Cubic(shape=[8, 8, 8], spacing=30e-6)\n",
    "pn2 = op.network.Cubic(shape=[24, 24, 8], spacing=10e-6)"
   ]
  },
  {
   "cell_type": "markdown",
   "metadata": {},
   "source": [
    "### Apply Labels to Each Network\n",
    "\n",
    "In order to make it easier to find pore indices after stitching, it's helpful to apply unique and descriptive labels to the networks first. Labels are discussed detail [here](../../reference/data_management/using_and_creating_labels.ipynb)."
   ]
  },
  {
   "cell_type": "code",
   "execution_count": 3,
   "metadata": {
    "execution": {
     "iopub.execute_input": "2022-09-07T19:27:24.776648Z",
     "iopub.status.busy": "2022-09-07T19:27:24.776385Z",
     "iopub.status.idle": "2022-09-07T19:27:24.781912Z",
     "shell.execute_reply": "2022-09-07T19:27:24.781126Z"
    }
   },
   "outputs": [],
   "source": [
    "pn['pore.coarse'] = True\n",
    "pn['throat.coarse'] = True\n",
    "pn2['pore.fine'] = True\n",
    "pn2['throat.fine'] = True"
   ]
  },
  {
   "cell_type": "markdown",
   "metadata": {},
   "source": [
    "Now we can stitch the two network together, but first we must translate the fine network along the z-axis so the networks are not overlapping.  Stiching is described in more detail [here](../../tutorials/network/stitching_and_merging_networks_together.ipynb)."
   ]
  },
  {
   "cell_type": "code",
   "execution_count": 4,
   "metadata": {
    "execution": {
     "iopub.execute_input": "2022-09-07T19:27:24.785696Z",
     "iopub.status.busy": "2022-09-07T19:27:24.785458Z",
     "iopub.status.idle": "2022-09-07T19:27:24.793159Z",
     "shell.execute_reply": "2022-09-07T19:27:24.792361Z"
    }
   },
   "outputs": [],
   "source": [
    "pn2['pore.coords'] += [0, 0, 8*30e-6]\n",
    "op.topotools.stitch(network=pn, donor=pn2, \n",
    "                    P_network=pn.pores('top'), \n",
    "                    P_donor=pn2.pores('bottom'))"
   ]
  },
  {
   "cell_type": "markdown",
   "metadata": {},
   "source": [
    "Let's visualize the network to see if it stitched as expected. Quick plotting is described in more detail [here](../../getting_started/quick_plotting_networks.ipynb)."
   ]
  },
  {
   "cell_type": "code",
   "execution_count": 5,
   "metadata": {
    "execution": {
     "iopub.execute_input": "2022-09-07T19:27:24.796735Z",
     "iopub.status.busy": "2022-09-07T19:27:24.796417Z",
     "iopub.status.idle": "2022-09-07T19:27:25.364012Z",
     "shell.execute_reply": "2022-09-07T19:27:25.363168Z"
    }
   },
   "outputs": [
    {
     "ename": "AttributeError",
     "evalue": "module 'openpnm.topotools' has no attribute 'plot_connections'",
     "output_type": "error",
     "traceback": [
      "\u001b[0;31m---------------------------------------------------------------------------\u001b[0m",
      "\u001b[0;31mAttributeError\u001b[0m                            Traceback (most recent call last)",
      "Cell \u001b[0;32mIn [5], line 1\u001b[0m\n\u001b[0;32m----> 1\u001b[0m fig \u001b[38;5;241m=\u001b[39m \u001b[43mop\u001b[49m\u001b[38;5;241;43m.\u001b[39;49m\u001b[43mtopotools\u001b[49m\u001b[38;5;241;43m.\u001b[39;49m\u001b[43mplot_connections\u001b[49m(pn)\n",
      "\u001b[0;31mAttributeError\u001b[0m: module 'openpnm.topotools' has no attribute 'plot_connections'"
     ]
    }
   ],
   "source": [
    "fig = op.topotools.plot_connections(pn)"
   ]
  },
  {
   "cell_type": "markdown",
   "metadata": {},
   "source": [
    "## Create other objects needed for simulation\n",
    "### Generate one Geometry for each layer"
   ]
  },
  {
   "cell_type": "code",
   "execution_count": 6,
   "metadata": {
    "execution": {
     "iopub.execute_input": "2022-09-07T19:27:25.368388Z",
     "iopub.status.busy": "2022-09-07T19:27:25.367684Z",
     "iopub.status.idle": "2022-09-07T19:27:25.392146Z",
     "shell.execute_reply": "2022-09-07T19:27:25.391383Z"
    }
   },
   "outputs": [
    {
     "ename": "AttributeError",
     "evalue": "module 'openpnm' has no attribute 'geometry'",
     "output_type": "error",
     "traceback": [
      "\u001b[0;31m---------------------------------------------------------------------------\u001b[0m",
      "\u001b[0;31mAttributeError\u001b[0m                            Traceback (most recent call last)",
      "Cell \u001b[0;32mIn [6], line 4\u001b[0m\n\u001b[1;32m      2\u001b[0m Ps \u001b[38;5;241m=\u001b[39m pn\u001b[38;5;241m.\u001b[39mpores(\u001b[38;5;124m'\u001b[39m\u001b[38;5;124mfine\u001b[39m\u001b[38;5;124m'\u001b[39m)\n\u001b[1;32m      3\u001b[0m Ts \u001b[38;5;241m=\u001b[39m pn\u001b[38;5;241m.\u001b[39mthroats(\u001b[38;5;124m'\u001b[39m\u001b[38;5;124mfine\u001b[39m\u001b[38;5;124m'\u001b[39m)\n\u001b[0;32m----> 4\u001b[0m geo2 \u001b[38;5;241m=\u001b[39m \u001b[43mop\u001b[49m\u001b[38;5;241;43m.\u001b[39;49m\u001b[43mgeometry\u001b[49m\u001b[38;5;241m.\u001b[39mSpheresAndCylinders(network\u001b[38;5;241m=\u001b[39mpn, pores\u001b[38;5;241m=\u001b[39mPs, throats\u001b[38;5;241m=\u001b[39mTs)\n\u001b[1;32m      5\u001b[0m Ps \u001b[38;5;241m=\u001b[39m pn\u001b[38;5;241m.\u001b[39mpores(\u001b[38;5;124m'\u001b[39m\u001b[38;5;124mcoarse\u001b[39m\u001b[38;5;124m'\u001b[39m)\n\u001b[1;32m      6\u001b[0m Ts \u001b[38;5;241m=\u001b[39m pn\u001b[38;5;241m.\u001b[39mthroats([\u001b[38;5;124m'\u001b[39m\u001b[38;5;124mcoarse\u001b[39m\u001b[38;5;124m'\u001b[39m, \u001b[38;5;124m'\u001b[39m\u001b[38;5;124mstitched\u001b[39m\u001b[38;5;124m'\u001b[39m])\n",
      "\u001b[0;31mAttributeError\u001b[0m: module 'openpnm' has no attribute 'geometry'"
     ]
    }
   ],
   "source": [
    "np.random.seed(0)\n",
    "Ps = pn.pores('fine')\n",
    "Ts = pn.throats('fine')\n",
    "geo2 = op.geometry.SpheresAndCylinders(network=pn, pores=Ps, throats=Ts)\n",
    "Ps = pn.pores('coarse')\n",
    "Ts = pn.throats(['coarse', 'stitched'])\n",
    "geo1 = op.geometry.SpheresAndCylinders(network=pn, pores=Ps, throats=Ts)"
   ]
  },
  {
   "cell_type": "markdown",
   "metadata": {},
   "source": [
    "Let's visualize the pore sizes using histograms:"
   ]
  },
  {
   "cell_type": "code",
   "execution_count": 7,
   "metadata": {
    "execution": {
     "iopub.execute_input": "2022-09-07T19:27:25.395535Z",
     "iopub.status.busy": "2022-09-07T19:27:25.395286Z",
     "iopub.status.idle": "2022-09-07T19:27:25.415317Z",
     "shell.execute_reply": "2022-09-07T19:27:25.414267Z"
    }
   },
   "outputs": [
    {
     "ename": "NameError",
     "evalue": "name 'geo1' is not defined",
     "output_type": "error",
     "traceback": [
      "\u001b[0;31m---------------------------------------------------------------------------\u001b[0m",
      "\u001b[0;31mNameError\u001b[0m                                 Traceback (most recent call last)",
      "Cell \u001b[0;32mIn [7], line 1\u001b[0m\n\u001b[0;32m----> 1\u001b[0m fig \u001b[38;5;241m=\u001b[39m plt\u001b[38;5;241m.\u001b[39mhist(\u001b[43mgeo1\u001b[49m[\u001b[38;5;124m'\u001b[39m\u001b[38;5;124mpore.diameter\u001b[39m\u001b[38;5;124m'\u001b[39m], bins\u001b[38;5;241m=\u001b[39m\u001b[38;5;241m25\u001b[39m, \n\u001b[1;32m      2\u001b[0m                density\u001b[38;5;241m=\u001b[39m\u001b[38;5;28;01mTrue\u001b[39;00m, edgecolor\u001b[38;5;241m=\u001b[39m\u001b[38;5;124m'\u001b[39m\u001b[38;5;124mk\u001b[39m\u001b[38;5;124m'\u001b[39m, alpha\u001b[38;5;241m=\u001b[39m\u001b[38;5;241m0.5\u001b[39m)\n\u001b[1;32m      3\u001b[0m fig \u001b[38;5;241m=\u001b[39m plt\u001b[38;5;241m.\u001b[39mhist(geo2[\u001b[38;5;124m'\u001b[39m\u001b[38;5;124mpore.diameter\u001b[39m\u001b[38;5;124m'\u001b[39m], bins\u001b[38;5;241m=\u001b[39m\u001b[38;5;241m25\u001b[39m, \n\u001b[1;32m      4\u001b[0m                density\u001b[38;5;241m=\u001b[39m\u001b[38;5;28;01mTrue\u001b[39;00m, edgecolor\u001b[38;5;241m=\u001b[39m\u001b[38;5;124m'\u001b[39m\u001b[38;5;124mk\u001b[39m\u001b[38;5;124m'\u001b[39m, alpha\u001b[38;5;241m=\u001b[39m\u001b[38;5;241m0.5\u001b[39m)\n",
      "\u001b[0;31mNameError\u001b[0m: name 'geo1' is not defined"
     ]
    }
   ],
   "source": [
    "fig = plt.hist(geo1['pore.diameter'], bins=25, \n",
    "               density=True, edgecolor='k', alpha=0.5)\n",
    "fig = plt.hist(geo2['pore.diameter'], bins=25, \n",
    "               density=True, edgecolor='k', alpha=0.5)"
   ]
  },
  {
   "cell_type": "markdown",
   "metadata": {},
   "source": [
    "### Create a Phase and 2 Physics objects"
   ]
  },
  {
   "cell_type": "code",
   "execution_count": 8,
   "metadata": {
    "execution": {
     "iopub.execute_input": "2022-09-07T19:27:25.419152Z",
     "iopub.status.busy": "2022-09-07T19:27:25.418701Z",
     "iopub.status.idle": "2022-09-07T19:27:25.447601Z",
     "shell.execute_reply": "2022-09-07T19:27:25.446788Z"
    }
   },
   "outputs": [
    {
     "ename": "ModuleNotFoundError",
     "evalue": "No module named 'thermo'",
     "output_type": "error",
     "traceback": [
      "\u001b[0;31m---------------------------------------------------------------------------\u001b[0m",
      "\u001b[0;31mModuleNotFoundError\u001b[0m                       Traceback (most recent call last)",
      "Cell \u001b[0;32mIn [8], line 1\u001b[0m\n\u001b[0;32m----> 1\u001b[0m air \u001b[38;5;241m=\u001b[39m \u001b[43mop\u001b[49m\u001b[38;5;241;43m.\u001b[39;49m\u001b[43mphase\u001b[49m\u001b[38;5;241;43m.\u001b[39;49m\u001b[43mAir\u001b[49m\u001b[43m(\u001b[49m\u001b[43mnetwork\u001b[49m\u001b[38;5;241;43m=\u001b[39;49m\u001b[43mpn\u001b[49m\u001b[43m)\u001b[49m\n\u001b[1;32m      2\u001b[0m phys1 \u001b[38;5;241m=\u001b[39m op\u001b[38;5;241m.\u001b[39mphysics\u001b[38;5;241m.\u001b[39mStandard(network\u001b[38;5;241m=\u001b[39mpn, phase\u001b[38;5;241m=\u001b[39mair, geometry\u001b[38;5;241m=\u001b[39mgeo1)\n\u001b[1;32m      3\u001b[0m phys2 \u001b[38;5;241m=\u001b[39m op\u001b[38;5;241m.\u001b[39mphysics\u001b[38;5;241m.\u001b[39mStandard(network\u001b[38;5;241m=\u001b[39mpn, phase\u001b[38;5;241m=\u001b[39mair, geometry\u001b[38;5;241m=\u001b[39mgeo2)\n",
      "File \u001b[0;32m~/work/OpenPNM/OpenPNM/openpnm/phase/_air.py:29\u001b[0m, in \u001b[0;36mAir.__init__\u001b[0;34m(self, **kwargs)\u001b[0m\n\u001b[1;32m     27\u001b[0m \u001b[38;5;28;01mdef\u001b[39;00m \u001b[38;5;21m__init__\u001b[39m(\u001b[38;5;28mself\u001b[39m, \u001b[38;5;241m*\u001b[39m\u001b[38;5;241m*\u001b[39mkwargs):\n\u001b[1;32m     28\u001b[0m     \u001b[38;5;28msuper\u001b[39m()\u001b[38;5;241m.\u001b[39m\u001b[38;5;21m__init__\u001b[39m(\u001b[38;5;241m*\u001b[39m\u001b[38;5;241m*\u001b[39mkwargs)\n\u001b[0;32m---> 29\u001b[0m     \u001b[38;5;28;01mfrom\u001b[39;00m \u001b[38;5;21;01mthermo\u001b[39;00m \u001b[38;5;28;01mimport\u001b[39;00m Mixture\n\u001b[1;32m     30\u001b[0m     a \u001b[38;5;241m=\u001b[39m Mixture(IDs\u001b[38;5;241m=\u001b[39m[\u001b[38;5;124m'\u001b[39m\u001b[38;5;124mo2\u001b[39m\u001b[38;5;124m'\u001b[39m, \u001b[38;5;124m'\u001b[39m\u001b[38;5;124mn2\u001b[39m\u001b[38;5;124m'\u001b[39m], zs\u001b[38;5;241m=\u001b[39m[\u001b[38;5;241m0.21\u001b[39m, \u001b[38;5;241m0.79\u001b[39m])\n\u001b[1;32m     31\u001b[0m     temp \u001b[38;5;241m=\u001b[39m _fetch_chemical_props(a)\n",
      "\u001b[0;31mModuleNotFoundError\u001b[0m: No module named 'thermo'"
     ]
    }
   ],
   "source": [
    "air = op.phase.Air(network=pn)\n",
    "phys1 = op.physics.Standard(network=pn, phase=air, geometry=geo1)\n",
    "phys2 = op.physics.Standard(network=pn, phase=air, geometry=geo2)"
   ]
  },
  {
   "cell_type": "markdown",
   "metadata": {},
   "source": [
    "Let's visualize the hydraulic conductances using histograms.  Note that the values are logged, to better visualize the distributions:"
   ]
  },
  {
   "cell_type": "code",
   "execution_count": 9,
   "metadata": {
    "execution": {
     "iopub.execute_input": "2022-09-07T19:27:25.450961Z",
     "iopub.status.busy": "2022-09-07T19:27:25.450718Z",
     "iopub.status.idle": "2022-09-07T19:27:25.468682Z",
     "shell.execute_reply": "2022-09-07T19:27:25.467772Z"
    }
   },
   "outputs": [
    {
     "ename": "NameError",
     "evalue": "name 'phys1' is not defined",
     "output_type": "error",
     "traceback": [
      "\u001b[0;31m---------------------------------------------------------------------------\u001b[0m",
      "\u001b[0;31mNameError\u001b[0m                                 Traceback (most recent call last)",
      "Cell \u001b[0;32mIn [9], line 1\u001b[0m\n\u001b[0;32m----> 1\u001b[0m fig \u001b[38;5;241m=\u001b[39m plt\u001b[38;5;241m.\u001b[39mhist(np\u001b[38;5;241m.\u001b[39mlog10(\u001b[43mphys1\u001b[49m[\u001b[38;5;124m'\u001b[39m\u001b[38;5;124mthroat.hydraulic_conductance\u001b[39m\u001b[38;5;124m'\u001b[39m]), \n\u001b[1;32m      2\u001b[0m                bins\u001b[38;5;241m=\u001b[39m\u001b[38;5;241m25\u001b[39m, density\u001b[38;5;241m=\u001b[39m\u001b[38;5;28;01mTrue\u001b[39;00m, edgecolor\u001b[38;5;241m=\u001b[39m\u001b[38;5;124m'\u001b[39m\u001b[38;5;124mk\u001b[39m\u001b[38;5;124m'\u001b[39m, alpha\u001b[38;5;241m=\u001b[39m\u001b[38;5;241m0.5\u001b[39m)\n\u001b[1;32m      3\u001b[0m fig \u001b[38;5;241m=\u001b[39m plt\u001b[38;5;241m.\u001b[39mhist(np\u001b[38;5;241m.\u001b[39mlog10(phys2[\u001b[38;5;124m'\u001b[39m\u001b[38;5;124mthroat.hydraulic_conductance\u001b[39m\u001b[38;5;124m'\u001b[39m]), \n\u001b[1;32m      4\u001b[0m                bins\u001b[38;5;241m=\u001b[39m\u001b[38;5;241m25\u001b[39m, density\u001b[38;5;241m=\u001b[39m\u001b[38;5;28;01mTrue\u001b[39;00m, edgecolor\u001b[38;5;241m=\u001b[39m\u001b[38;5;124m'\u001b[39m\u001b[38;5;124mk\u001b[39m\u001b[38;5;124m'\u001b[39m, alpha\u001b[38;5;241m=\u001b[39m\u001b[38;5;241m0.5\u001b[39m)\n",
      "\u001b[0;31mNameError\u001b[0m: name 'phys1' is not defined"
     ]
    }
   ],
   "source": [
    "fig = plt.hist(np.log10(phys1['throat.hydraulic_conductance']), \n",
    "               bins=25, density=True, edgecolor='k', alpha=0.5)\n",
    "fig = plt.hist(np.log10(phys2['throat.hydraulic_conductance']), \n",
    "               bins=25, density=True, edgecolor='k', alpha=0.5)"
   ]
  },
  {
   "cell_type": "markdown",
   "metadata": {},
   "source": [
    "## Run a StokesFlow simulation in perpendicular directions"
   ]
  },
  {
   "cell_type": "code",
   "execution_count": 10,
   "metadata": {
    "execution": {
     "iopub.execute_input": "2022-09-07T19:27:25.472157Z",
     "iopub.status.busy": "2022-09-07T19:27:25.471704Z",
     "iopub.status.idle": "2022-09-07T19:27:25.489746Z",
     "shell.execute_reply": "2022-09-07T19:27:25.488833Z"
    }
   },
   "outputs": [
    {
     "ename": "NameError",
     "evalue": "name 'air' is not defined",
     "output_type": "error",
     "traceback": [
      "\u001b[0;31m---------------------------------------------------------------------------\u001b[0m",
      "\u001b[0;31mNameError\u001b[0m                                 Traceback (most recent call last)",
      "Cell \u001b[0;32mIn [10], line 1\u001b[0m\n\u001b[0;32m----> 1\u001b[0m sf_x \u001b[38;5;241m=\u001b[39m op\u001b[38;5;241m.\u001b[39malgorithms\u001b[38;5;241m.\u001b[39mStokesFlow(network\u001b[38;5;241m=\u001b[39mpn, phase\u001b[38;5;241m=\u001b[39m\u001b[43mair\u001b[49m)\n\u001b[1;32m      2\u001b[0m Pin \u001b[38;5;241m=\u001b[39m \u001b[38;5;241m1.0\u001b[39m\n\u001b[1;32m      3\u001b[0m Pout \u001b[38;5;241m=\u001b[39m \u001b[38;5;241m0.0\u001b[39m\n",
      "\u001b[0;31mNameError\u001b[0m: name 'air' is not defined"
     ]
    }
   ],
   "source": [
    "sf_x = op.algorithms.StokesFlow(network=pn, phase=air)\n",
    "Pin = 1.0\n",
    "Pout = 0.0\n",
    "sf_x.set_value_BC(pores=pn.pores('left'), values=1.0)\n",
    "sf_x.set_value_BC(pores=pn.pores('right'), values=0.0)\n",
    "sf_x.run()"
   ]
  },
  {
   "cell_type": "markdown",
   "metadata": {},
   "source": [
    "Let's make sure the pressure field is applied in the correct direction:"
   ]
  },
  {
   "cell_type": "code",
   "execution_count": 11,
   "metadata": {
    "execution": {
     "iopub.execute_input": "2022-09-07T19:27:25.493471Z",
     "iopub.status.busy": "2022-09-07T19:27:25.492912Z",
     "iopub.status.idle": "2022-09-07T19:27:25.509594Z",
     "shell.execute_reply": "2022-09-07T19:27:25.508188Z"
    }
   },
   "outputs": [
    {
     "ename": "AttributeError",
     "evalue": "module 'openpnm.topotools' has no attribute 'plot_coordinates'",
     "output_type": "error",
     "traceback": [
      "\u001b[0;31m---------------------------------------------------------------------------\u001b[0m",
      "\u001b[0;31mAttributeError\u001b[0m                            Traceback (most recent call last)",
      "Cell \u001b[0;32mIn [11], line 1\u001b[0m\n\u001b[0;32m----> 1\u001b[0m fig \u001b[38;5;241m=\u001b[39m \u001b[43mop\u001b[49m\u001b[38;5;241;43m.\u001b[39;49m\u001b[43mtopotools\u001b[49m\u001b[38;5;241;43m.\u001b[39;49m\u001b[43mplot_coordinates\u001b[49m(pn, color\u001b[38;5;241m=\u001b[39msf_x[\u001b[38;5;124m'\u001b[39m\u001b[38;5;124mpore.pressure\u001b[39m\u001b[38;5;124m'\u001b[39m], \n\u001b[1;32m      2\u001b[0m                                     size_by\u001b[38;5;241m=\u001b[39mpn[\u001b[38;5;124m'\u001b[39m\u001b[38;5;124mpore.diameter\u001b[39m\u001b[38;5;124m'\u001b[39m], \n\u001b[1;32m      3\u001b[0m                                     markersize\u001b[38;5;241m=\u001b[39m\u001b[38;5;241m50\u001b[39m)\n",
      "\u001b[0;31mAttributeError\u001b[0m: module 'openpnm.topotools' has no attribute 'plot_coordinates'"
     ]
    }
   ],
   "source": [
    "fig = op.topotools.plot_coordinates(pn, color=sf_x['pore.pressure'], \n",
    "                                    size_by=pn['pore.diameter'], \n",
    "                                    markersize=50)"
   ]
  },
  {
   "cell_type": "code",
   "execution_count": 12,
   "metadata": {
    "execution": {
     "iopub.execute_input": "2022-09-07T19:27:25.512807Z",
     "iopub.status.busy": "2022-09-07T19:27:25.512416Z",
     "iopub.status.idle": "2022-09-07T19:27:25.533516Z",
     "shell.execute_reply": "2022-09-07T19:27:25.532455Z"
    }
   },
   "outputs": [
    {
     "ename": "NameError",
     "evalue": "name 'air' is not defined",
     "output_type": "error",
     "traceback": [
      "\u001b[0;31m---------------------------------------------------------------------------\u001b[0m",
      "\u001b[0;31mNameError\u001b[0m                                 Traceback (most recent call last)",
      "Cell \u001b[0;32mIn [12], line 1\u001b[0m\n\u001b[0;32m----> 1\u001b[0m sf_z \u001b[38;5;241m=\u001b[39m op\u001b[38;5;241m.\u001b[39malgorithms\u001b[38;5;241m.\u001b[39mStokesFlow(network\u001b[38;5;241m=\u001b[39mpn, phase\u001b[38;5;241m=\u001b[39m\u001b[43mair\u001b[49m)\n\u001b[1;32m      2\u001b[0m Pin \u001b[38;5;241m=\u001b[39m \u001b[38;5;241m1.0\u001b[39m\n\u001b[1;32m      3\u001b[0m Pout \u001b[38;5;241m=\u001b[39m \u001b[38;5;241m0.0\u001b[39m\n",
      "\u001b[0;31mNameError\u001b[0m: name 'air' is not defined"
     ]
    }
   ],
   "source": [
    "sf_z = op.algorithms.StokesFlow(network=pn, phase=air)\n",
    "Pin = 1.0\n",
    "Pout = 0.0\n",
    "sf_z.set_value_BC(pores=pn.pores(['top', 'coarse'], mode='and'), values=Pin)\n",
    "sf_z.set_value_BC(pores=pn.pores(['top', 'fine'], mode='and'), values=Pout)\n",
    "sf_z.run()"
   ]
  },
  {
   "cell_type": "markdown",
   "metadata": {},
   "source": [
    "Again, let's visualize the pressure field:"
   ]
  },
  {
   "cell_type": "code",
   "execution_count": 13,
   "metadata": {
    "execution": {
     "iopub.execute_input": "2022-09-07T19:27:25.537100Z",
     "iopub.status.busy": "2022-09-07T19:27:25.536859Z",
     "iopub.status.idle": "2022-09-07T19:27:25.552203Z",
     "shell.execute_reply": "2022-09-07T19:27:25.551410Z"
    }
   },
   "outputs": [
    {
     "ename": "AttributeError",
     "evalue": "module 'openpnm.topotools' has no attribute 'plot_coordinates'",
     "output_type": "error",
     "traceback": [
      "\u001b[0;31m---------------------------------------------------------------------------\u001b[0m",
      "\u001b[0;31mAttributeError\u001b[0m                            Traceback (most recent call last)",
      "Cell \u001b[0;32mIn [13], line 1\u001b[0m\n\u001b[0;32m----> 1\u001b[0m fig \u001b[38;5;241m=\u001b[39m \u001b[43mop\u001b[49m\u001b[38;5;241;43m.\u001b[39;49m\u001b[43mtopotools\u001b[49m\u001b[38;5;241;43m.\u001b[39;49m\u001b[43mplot_coordinates\u001b[49m(pn, color\u001b[38;5;241m=\u001b[39msf_z[\u001b[38;5;124m'\u001b[39m\u001b[38;5;124mpore.pressure\u001b[39m\u001b[38;5;124m'\u001b[39m], \n\u001b[1;32m      2\u001b[0m                                     size_by\u001b[38;5;241m=\u001b[39mpn[\u001b[38;5;124m'\u001b[39m\u001b[38;5;124mpore.diameter\u001b[39m\u001b[38;5;124m'\u001b[39m], \n\u001b[1;32m      3\u001b[0m                                     markersize\u001b[38;5;241m=\u001b[39m\u001b[38;5;241m50\u001b[39m)\n",
      "\u001b[0;31mAttributeError\u001b[0m: module 'openpnm.topotools' has no attribute 'plot_coordinates'"
     ]
    }
   ],
   "source": [
    "fig = op.topotools.plot_coordinates(pn, color=sf_z['pore.pressure'], \n",
    "                                    size_by=pn['pore.diameter'], \n",
    "                                    markersize=50)"
   ]
  },
  {
   "cell_type": "markdown",
   "metadata": {},
   "source": [
    "The presure in the coarse network is essentially constant since it's much more permeable than the fine layer."
   ]
  },
  {
   "cell_type": "markdown",
   "metadata": {},
   "source": [
    "### Determine the Permeability Coefficient for each direction"
   ]
  },
  {
   "cell_type": "code",
   "execution_count": 14,
   "metadata": {
    "execution": {
     "iopub.execute_input": "2022-09-07T19:27:25.555691Z",
     "iopub.status.busy": "2022-09-07T19:27:25.555446Z",
     "iopub.status.idle": "2022-09-07T19:27:25.574714Z",
     "shell.execute_reply": "2022-09-07T19:27:25.573934Z"
    }
   },
   "outputs": [
    {
     "ename": "NameError",
     "evalue": "name 'air' is not defined",
     "output_type": "error",
     "traceback": [
      "\u001b[0;31m---------------------------------------------------------------------------\u001b[0m",
      "\u001b[0;31mNameError\u001b[0m                                 Traceback (most recent call last)",
      "Cell \u001b[0;32mIn [14], line 3\u001b[0m\n\u001b[1;32m      1\u001b[0m L \u001b[38;5;241m=\u001b[39m \u001b[38;5;241m8\u001b[39m \u001b[38;5;241m*\u001b[39m \u001b[38;5;241m30e-6\u001b[39m\n\u001b[1;32m      2\u001b[0m A \u001b[38;5;241m=\u001b[39m (\u001b[38;5;241m8\u001b[39m \u001b[38;5;241m*\u001b[39m \u001b[38;5;241m30e-6\u001b[39m)\u001b[38;5;241m*\u001b[39m\u001b[38;5;241m*\u001b[39m\u001b[38;5;241m2\u001b[39m \u001b[38;5;241m+\u001b[39m (\u001b[38;5;241m8\u001b[39m \u001b[38;5;241m*\u001b[39m \u001b[38;5;241m24\u001b[39m)\u001b[38;5;241m*\u001b[39m(\u001b[38;5;241m10e-6\u001b[39m)\u001b[38;5;241m*\u001b[39m\u001b[38;5;241m*\u001b[39m\u001b[38;5;241m2\u001b[39m\n\u001b[0;32m----> 3\u001b[0m mu \u001b[38;5;241m=\u001b[39m \u001b[43mair\u001b[49m[\u001b[38;5;124m'\u001b[39m\u001b[38;5;124mpore.viscosity\u001b[39m\u001b[38;5;124m'\u001b[39m][\u001b[38;5;241m0\u001b[39m]\n\u001b[1;32m      4\u001b[0m Q \u001b[38;5;241m=\u001b[39m sf_x\u001b[38;5;241m.\u001b[39mrate(pores\u001b[38;5;241m=\u001b[39mpn\u001b[38;5;241m.\u001b[39mpores(\u001b[38;5;124m'\u001b[39m\u001b[38;5;124mleft\u001b[39m\u001b[38;5;124m'\u001b[39m), mode\u001b[38;5;241m=\u001b[39m\u001b[38;5;124m'\u001b[39m\u001b[38;5;124mgroup\u001b[39m\u001b[38;5;124m'\u001b[39m)\n\u001b[1;32m      5\u001b[0m Kx \u001b[38;5;241m=\u001b[39m Q\u001b[38;5;241m*\u001b[39mL\u001b[38;5;241m*\u001b[39mmu\u001b[38;5;241m/\u001b[39m(A\u001b[38;5;241m*\u001b[39m(Pin \u001b[38;5;241m-\u001b[39m Pout))\n",
      "\u001b[0;31mNameError\u001b[0m: name 'air' is not defined"
     ]
    }
   ],
   "source": [
    "L = 8 * 30e-6\n",
    "A = (8 * 30e-6)**2 + (8 * 24)*(10e-6)**2\n",
    "mu = air['pore.viscosity'][0]\n",
    "Q = sf_x.rate(pores=pn.pores('left'), mode='group')\n",
    "Kx = Q*L*mu/(A*(Pin - Pout))\n",
    "print('The permeability coefficient is:', Kx)"
   ]
  },
  {
   "cell_type": "code",
   "execution_count": 15,
   "metadata": {
    "execution": {
     "iopub.execute_input": "2022-09-07T19:27:25.577918Z",
     "iopub.status.busy": "2022-09-07T19:27:25.577637Z",
     "iopub.status.idle": "2022-09-07T19:27:25.595504Z",
     "shell.execute_reply": "2022-09-07T19:27:25.594750Z"
    }
   },
   "outputs": [
    {
     "ename": "NameError",
     "evalue": "name 'air' is not defined",
     "output_type": "error",
     "traceback": [
      "\u001b[0;31m---------------------------------------------------------------------------\u001b[0m",
      "\u001b[0;31mNameError\u001b[0m                                 Traceback (most recent call last)",
      "Cell \u001b[0;32mIn [15], line 3\u001b[0m\n\u001b[1;32m      1\u001b[0m A \u001b[38;5;241m=\u001b[39m (\u001b[38;5;241m8\u001b[39m \u001b[38;5;241m*\u001b[39m \u001b[38;5;241m30e-6\u001b[39m)\u001b[38;5;241m*\u001b[39m\u001b[38;5;241m*\u001b[39m\u001b[38;5;241m2\u001b[39m\n\u001b[1;32m      2\u001b[0m L \u001b[38;5;241m=\u001b[39m (\u001b[38;5;241m8\u001b[39m \u001b[38;5;241m*\u001b[39m \u001b[38;5;241m30e-6\u001b[39m) \u001b[38;5;241m+\u001b[39m (\u001b[38;5;241m8\u001b[39m \u001b[38;5;241m*\u001b[39m \u001b[38;5;241m10e-6\u001b[39m)\n\u001b[0;32m----> 3\u001b[0m mu \u001b[38;5;241m=\u001b[39m \u001b[43mair\u001b[49m[\u001b[38;5;124m'\u001b[39m\u001b[38;5;124mpore.viscosity\u001b[39m\u001b[38;5;124m'\u001b[39m][\u001b[38;5;241m0\u001b[39m]\n\u001b[1;32m      4\u001b[0m Q \u001b[38;5;241m=\u001b[39m sf_z\u001b[38;5;241m.\u001b[39mrate(pores\u001b[38;5;241m=\u001b[39mpn\u001b[38;5;241m.\u001b[39mpores([\u001b[38;5;124m'\u001b[39m\u001b[38;5;124mtop\u001b[39m\u001b[38;5;124m'\u001b[39m, \u001b[38;5;124m'\u001b[39m\u001b[38;5;124mcoarse\u001b[39m\u001b[38;5;124m'\u001b[39m], mode\u001b[38;5;241m=\u001b[39m\u001b[38;5;124m'\u001b[39m\u001b[38;5;124mand\u001b[39m\u001b[38;5;124m'\u001b[39m), mode\u001b[38;5;241m=\u001b[39m\u001b[38;5;124m'\u001b[39m\u001b[38;5;124mgroup\u001b[39m\u001b[38;5;124m'\u001b[39m)\n\u001b[1;32m      5\u001b[0m Kz \u001b[38;5;241m=\u001b[39m Q\u001b[38;5;241m*\u001b[39mL\u001b[38;5;241m*\u001b[39mmu\u001b[38;5;241m/\u001b[39m(A\u001b[38;5;241m*\u001b[39m(Pin \u001b[38;5;241m-\u001b[39m Pout))\n",
      "\u001b[0;31mNameError\u001b[0m: name 'air' is not defined"
     ]
    }
   ],
   "source": [
    "A = (8 * 30e-6)**2\n",
    "L = (8 * 30e-6) + (8 * 10e-6)\n",
    "mu = air['pore.viscosity'][0]\n",
    "Q = sf_z.rate(pores=pn.pores(['top', 'coarse'], mode='and'), mode='group')\n",
    "Kz = Q*L*mu/(A*(Pin - Pout))\n",
    "print('The permeability coefficient is:', Kz)"
   ]
  },
  {
   "cell_type": "code",
   "execution_count": 16,
   "metadata": {
    "execution": {
     "iopub.execute_input": "2022-09-07T19:27:25.598565Z",
     "iopub.status.busy": "2022-09-07T19:27:25.598329Z",
     "iopub.status.idle": "2022-09-07T19:27:25.611794Z",
     "shell.execute_reply": "2022-09-07T19:27:25.610965Z"
    }
   },
   "outputs": [
    {
     "ename": "NameError",
     "evalue": "name 'Kx' is not defined",
     "output_type": "error",
     "traceback": [
      "\u001b[0;31m---------------------------------------------------------------------------\u001b[0m",
      "\u001b[0;31mNameError\u001b[0m                                 Traceback (most recent call last)",
      "Cell \u001b[0;32mIn [16], line 1\u001b[0m\n\u001b[0;32m----> 1\u001b[0m \u001b[43mKx\u001b[49m\u001b[38;5;241m/\u001b[39mKz\n",
      "\u001b[0;31mNameError\u001b[0m: name 'Kx' is not defined"
     ]
    }
   ],
   "source": [
    "Kx/Kz"
   ]
  },
  {
   "cell_type": "markdown",
   "metadata": {},
   "source": [
    "The permeability coefficient for the direction through the 'fine' layer is about 2x lower than the direction parallel to it.  "
   ]
  }
 ],
 "metadata": {
  "@webio": {
   "lastCommId": null,
   "lastKernelId": null
  },
  "kernelspec": {
   "display_name": "Python 3 (ipykernel)",
   "language": "python",
   "name": "python3"
  },
  "language_info": {
   "codemirror_mode": {
    "name": "ipython",
    "version": 3
   },
   "file_extension": ".py",
   "mimetype": "text/x-python",
   "name": "python",
   "nbconvert_exporter": "python",
   "pygments_lexer": "ipython3",
   "version": "3.8.13"
  },
  "toc": {
   "base_numbering": 1,
   "nav_menu": {},
   "number_sections": true,
   "sideBar": true,
   "skip_h1_title": false,
   "title_cell": "Contents",
   "title_sidebar": "Contents",
   "toc_cell": true,
   "toc_position": {},
   "toc_section_display": true,
   "toc_window_display": false
  }
 },
 "nbformat": 4,
 "nbformat_minor": 2
}
