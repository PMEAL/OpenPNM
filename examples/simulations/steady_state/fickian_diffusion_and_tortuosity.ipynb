{
 "cells": [
  {
   "cell_type": "markdown",
   "metadata": {},
   "source": [
    "# Fickian Diffusion and Tortuosity\n",
    "\n",
    "In this example, we will learn how to perform Fickian diffusion on a `Cubic` network. The algorithm works fine with every other network type, but for now we want to keep it simple. Refere to **Tutorials > Network** for more details on different network types."
   ]
  },
  {
   "cell_type": "code",
   "execution_count": 1,
   "metadata": {
    "execution": {
     "iopub.execute_input": "2022-09-07T19:27:17.812764Z",
     "iopub.status.busy": "2022-09-07T19:27:17.812363Z",
     "iopub.status.idle": "2022-09-07T19:27:19.518320Z",
     "shell.execute_reply": "2022-09-07T19:27:19.517405Z"
    }
   },
   "outputs": [],
   "source": [
    "import numpy as np\n",
    "import openpnm as op\n",
    "%config InlineBackend.figure_formats = ['svg']\n",
    "import matplotlib.pyplot as plt\n",
    "%matplotlib inline\n",
    "np.random.seed(10)\n",
    "ws = op.Workspace()\n",
    "ws.settings[\"loglevel\"] = 40\n",
    "np.set_printoptions(precision=5)"
   ]
  },
  {
   "cell_type": "markdown",
   "metadata": {},
   "source": [
    "## Generating network\n",
    "First, we need to generate a `Cubic` network. For now, we stick to a 2d network, but you might as well try it in 3d!"
   ]
  },
  {
   "cell_type": "code",
   "execution_count": 2,
   "metadata": {
    "execution": {
     "iopub.execute_input": "2022-09-07T19:27:19.522521Z",
     "iopub.status.busy": "2022-09-07T19:27:19.522091Z",
     "iopub.status.idle": "2022-09-07T19:27:19.529113Z",
     "shell.execute_reply": "2022-09-07T19:27:19.528385Z"
    }
   },
   "outputs": [],
   "source": [
    "shape = [1, 10, 10]\n",
    "spacing = 1e-5\n",
    "net = op.network.Cubic(shape=shape, spacing=spacing)"
   ]
  },
  {
   "cell_type": "markdown",
   "metadata": {},
   "source": [
    "## Adding geometry\n",
    "Next, we need to add a geometry to the generated network. A geometry contains information about size of the pores/throats in a network. `OpenPNM` has tons of prebuilt geometries that represent the microstructure of different materials such as Toray090 carbon papers, sand stone, electrospun fibers, etc. For now, we'll stick to a simple geometry called `SpheresAndCylinders` that assigns random values to pore/throat diameters."
   ]
  },
  {
   "cell_type": "code",
   "execution_count": 3,
   "metadata": {
    "execution": {
     "iopub.execute_input": "2022-09-07T19:27:19.532335Z",
     "iopub.status.busy": "2022-09-07T19:27:19.532105Z",
     "iopub.status.idle": "2022-09-07T19:27:20.081719Z",
     "shell.execute_reply": "2022-09-07T19:27:20.080659Z"
    }
   },
   "outputs": [
    {
     "ename": "AttributeError",
     "evalue": "module 'openpnm' has no attribute 'geometry'",
     "output_type": "error",
     "traceback": [
      "\u001b[0;31m---------------------------------------------------------------------------\u001b[0m",
      "\u001b[0;31mAttributeError\u001b[0m                            Traceback (most recent call last)",
      "Cell \u001b[0;32mIn [3], line 1\u001b[0m\n\u001b[0;32m----> 1\u001b[0m geom \u001b[38;5;241m=\u001b[39m \u001b[43mop\u001b[49m\u001b[38;5;241;43m.\u001b[39;49m\u001b[43mgeometry\u001b[49m\u001b[38;5;241m.\u001b[39mSpheresAndCylinders(network\u001b[38;5;241m=\u001b[39mnet, pores\u001b[38;5;241m=\u001b[39mnet\u001b[38;5;241m.\u001b[39mPs, throats\u001b[38;5;241m=\u001b[39mnet\u001b[38;5;241m.\u001b[39mTs)\n",
      "\u001b[0;31mAttributeError\u001b[0m: module 'openpnm' has no attribute 'geometry'"
     ]
    }
   ],
   "source": [
    "geom = op.geometry.SpheresAndCylinders(network=net, pores=net.Ps, throats=net.Ts)"
   ]
  },
  {
   "cell_type": "markdown",
   "metadata": {},
   "source": [
    "## Adding phase\n",
    "Next, we need to add a phase to our simulation. A phase object(s) contain(s) thermophysical information about the working fluid(s) in the simulation. `OpenPNM` has tons of prebuilt phases as well! For this simulation, we use air as our working fluid."
   ]
  },
  {
   "cell_type": "code",
   "execution_count": 4,
   "metadata": {
    "execution": {
     "iopub.execute_input": "2022-09-07T19:27:20.086075Z",
     "iopub.status.busy": "2022-09-07T19:27:20.085524Z",
     "iopub.status.idle": "2022-09-07T19:27:20.113682Z",
     "shell.execute_reply": "2022-09-07T19:27:20.112906Z"
    }
   },
   "outputs": [
    {
     "ename": "ModuleNotFoundError",
     "evalue": "No module named 'thermo'",
     "output_type": "error",
     "traceback": [
      "\u001b[0;31m---------------------------------------------------------------------------\u001b[0m",
      "\u001b[0;31mModuleNotFoundError\u001b[0m                       Traceback (most recent call last)",
      "Cell \u001b[0;32mIn [4], line 1\u001b[0m\n\u001b[0;32m----> 1\u001b[0m air \u001b[38;5;241m=\u001b[39m \u001b[43mop\u001b[49m\u001b[38;5;241;43m.\u001b[39;49m\u001b[43mphase\u001b[49m\u001b[38;5;241;43m.\u001b[39;49m\u001b[43mAir\u001b[49m\u001b[43m(\u001b[49m\u001b[43mnetwork\u001b[49m\u001b[38;5;241;43m=\u001b[39;49m\u001b[43mnet\u001b[49m\u001b[43m)\u001b[49m\n",
      "File \u001b[0;32m~/work/OpenPNM/OpenPNM/openpnm/phase/_air.py:29\u001b[0m, in \u001b[0;36mAir.__init__\u001b[0;34m(self, **kwargs)\u001b[0m\n\u001b[1;32m     27\u001b[0m \u001b[38;5;28;01mdef\u001b[39;00m \u001b[38;5;21m__init__\u001b[39m(\u001b[38;5;28mself\u001b[39m, \u001b[38;5;241m*\u001b[39m\u001b[38;5;241m*\u001b[39mkwargs):\n\u001b[1;32m     28\u001b[0m     \u001b[38;5;28msuper\u001b[39m()\u001b[38;5;241m.\u001b[39m\u001b[38;5;21m__init__\u001b[39m(\u001b[38;5;241m*\u001b[39m\u001b[38;5;241m*\u001b[39mkwargs)\n\u001b[0;32m---> 29\u001b[0m     \u001b[38;5;28;01mfrom\u001b[39;00m \u001b[38;5;21;01mthermo\u001b[39;00m \u001b[38;5;28;01mimport\u001b[39;00m Mixture\n\u001b[1;32m     30\u001b[0m     a \u001b[38;5;241m=\u001b[39m Mixture(IDs\u001b[38;5;241m=\u001b[39m[\u001b[38;5;124m'\u001b[39m\u001b[38;5;124mo2\u001b[39m\u001b[38;5;124m'\u001b[39m, \u001b[38;5;124m'\u001b[39m\u001b[38;5;124mn2\u001b[39m\u001b[38;5;124m'\u001b[39m], zs\u001b[38;5;241m=\u001b[39m[\u001b[38;5;241m0.21\u001b[39m, \u001b[38;5;241m0.79\u001b[39m])\n\u001b[1;32m     31\u001b[0m     temp \u001b[38;5;241m=\u001b[39m _fetch_chemical_props(a)\n",
      "\u001b[0;31mModuleNotFoundError\u001b[0m: No module named 'thermo'"
     ]
    }
   ],
   "source": [
    "air = op.phase.Air(network=net)"
   ]
  },
  {
   "cell_type": "markdown",
   "metadata": {},
   "source": [
    "## Adding physics\n",
    "Finally, we need to add a physics. A physics object contains information about the working fluid in the simulation that depend on the geometry of the network. A good example is diffusive conductance, which not only depends on the thermophysical properties of the working fluid, but also depends on the geometry of pores/throats.  OpenPNM includes a pre-defined physics class called ``Standard`` which as the name suggests contains all the standard pore-scale models to get you going:"
   ]
  },
  {
   "cell_type": "code",
   "execution_count": 5,
   "metadata": {
    "execution": {
     "iopub.execute_input": "2022-09-07T19:27:20.117028Z",
     "iopub.status.busy": "2022-09-07T19:27:20.116733Z",
     "iopub.status.idle": "2022-09-07T19:27:20.132696Z",
     "shell.execute_reply": "2022-09-07T19:27:20.131947Z"
    }
   },
   "outputs": [
    {
     "ename": "AttributeError",
     "evalue": "module 'openpnm' has no attribute 'physics'",
     "output_type": "error",
     "traceback": [
      "\u001b[0;31m---------------------------------------------------------------------------\u001b[0m",
      "\u001b[0;31mAttributeError\u001b[0m                            Traceback (most recent call last)",
      "Cell \u001b[0;32mIn [5], line 1\u001b[0m\n\u001b[0;32m----> 1\u001b[0m phys_air \u001b[38;5;241m=\u001b[39m \u001b[43mop\u001b[49m\u001b[38;5;241;43m.\u001b[39;49m\u001b[43mphysics\u001b[49m\u001b[38;5;241m.\u001b[39mStandard(network\u001b[38;5;241m=\u001b[39mnet, phase\u001b[38;5;241m=\u001b[39mair, geometry\u001b[38;5;241m=\u001b[39mgeom)\n",
      "\u001b[0;31mAttributeError\u001b[0m: module 'openpnm' has no attribute 'physics'"
     ]
    }
   ],
   "source": [
    "phys_air = op.physics.Standard(network=net, phase=air, geometry=geom)"
   ]
  },
  {
   "cell_type": "markdown",
   "metadata": {},
   "source": [
    "# Performing Fickian diffusion"
   ]
  },
  {
   "cell_type": "markdown",
   "metadata": {},
   "source": [
    "Now that everything's set up, it's time to perform our Fickian diffusion simulation. For this purpose, we need to add the `FickianDiffusion` algorithm to our simulation. Here's how we do it:"
   ]
  },
  {
   "cell_type": "code",
   "execution_count": 6,
   "metadata": {
    "execution": {
     "iopub.execute_input": "2022-09-07T19:27:20.135932Z",
     "iopub.status.busy": "2022-09-07T19:27:20.135546Z",
     "iopub.status.idle": "2022-09-07T19:27:20.149759Z",
     "shell.execute_reply": "2022-09-07T19:27:20.149010Z"
    }
   },
   "outputs": [
    {
     "ename": "NameError",
     "evalue": "name 'air' is not defined",
     "output_type": "error",
     "traceback": [
      "\u001b[0;31m---------------------------------------------------------------------------\u001b[0m",
      "\u001b[0;31mNameError\u001b[0m                                 Traceback (most recent call last)",
      "Cell \u001b[0;32mIn [6], line 1\u001b[0m\n\u001b[0;32m----> 1\u001b[0m fd \u001b[38;5;241m=\u001b[39m op\u001b[38;5;241m.\u001b[39malgorithms\u001b[38;5;241m.\u001b[39mFickianDiffusion(network\u001b[38;5;241m=\u001b[39mnet, phase\u001b[38;5;241m=\u001b[39m\u001b[43mair\u001b[49m)\n",
      "\u001b[0;31mNameError\u001b[0m: name 'air' is not defined"
     ]
    }
   ],
   "source": [
    "fd = op.algorithms.FickianDiffusion(network=net, phase=air)"
   ]
  },
  {
   "cell_type": "markdown",
   "metadata": {},
   "source": [
    "Note that `network` and `phase` are required parameters for pretty much every algorithm we add, since we need to specify on which network and for which phase we want to run the algorithm."
   ]
  },
  {
   "cell_type": "markdown",
   "metadata": {},
   "source": [
    "## Adding boundary conditions\n",
    "Next, we need to add some boundary conditions to the simulation. By default, `OpenPNM` assumes zero flux for the boundary pores."
   ]
  },
  {
   "cell_type": "code",
   "execution_count": 7,
   "metadata": {
    "execution": {
     "iopub.execute_input": "2022-09-07T19:27:20.153081Z",
     "iopub.status.busy": "2022-09-07T19:27:20.152844Z",
     "iopub.status.idle": "2022-09-07T19:27:20.169415Z",
     "shell.execute_reply": "2022-09-07T19:27:20.168672Z"
    }
   },
   "outputs": [
    {
     "ename": "NameError",
     "evalue": "name 'fd' is not defined",
     "output_type": "error",
     "traceback": [
      "\u001b[0;31m---------------------------------------------------------------------------\u001b[0m",
      "\u001b[0;31mNameError\u001b[0m                                 Traceback (most recent call last)",
      "Cell \u001b[0;32mIn [7], line 5\u001b[0m\n\u001b[1;32m      3\u001b[0m C_in \u001b[38;5;241m=\u001b[39m \u001b[38;5;241m1.0\u001b[39m\n\u001b[1;32m      4\u001b[0m C_out \u001b[38;5;241m=\u001b[39m \u001b[38;5;241m0.0\u001b[39m\n\u001b[0;32m----> 5\u001b[0m \u001b[43mfd\u001b[49m\u001b[38;5;241m.\u001b[39mset_value_BC(pores\u001b[38;5;241m=\u001b[39minlet, values\u001b[38;5;241m=\u001b[39mC_in)\n\u001b[1;32m      6\u001b[0m fd\u001b[38;5;241m.\u001b[39mset_value_BC(pores\u001b[38;5;241m=\u001b[39moutlet, values\u001b[38;5;241m=\u001b[39mC_out)\n",
      "\u001b[0;31mNameError\u001b[0m: name 'fd' is not defined"
     ]
    }
   ],
   "source": [
    "inlet  = net.pores('front') \n",
    "outlet = net.pores('back')\n",
    "C_in = 1.0\n",
    "C_out = 0.0\n",
    "fd.set_value_BC(pores=inlet, values=C_in)\n",
    "fd.set_value_BC(pores=outlet, values=C_out)"
   ]
  },
  {
   "cell_type": "markdown",
   "metadata": {},
   "source": [
    "`set_value_BC` applies the so-called \"Dirichlet\" boundary condition to the specified pores. Note that unless you want to apply a single value to all of the specified pores (like we just did), you must pass a list (or `ndarray`) as the `values` parameter."
   ]
  },
  {
   "cell_type": "markdown",
   "metadata": {},
   "source": [
    "## Running the algorithm\n",
    "Now, it's time to run the algorithm. This is done by calling the `run` method attached to the algorithm object."
   ]
  },
  {
   "cell_type": "code",
   "execution_count": 8,
   "metadata": {
    "execution": {
     "iopub.execute_input": "2022-09-07T19:27:20.172942Z",
     "iopub.status.busy": "2022-09-07T19:27:20.172705Z",
     "iopub.status.idle": "2022-09-07T19:27:20.186080Z",
     "shell.execute_reply": "2022-09-07T19:27:20.185004Z"
    }
   },
   "outputs": [
    {
     "ename": "NameError",
     "evalue": "name 'fd' is not defined",
     "output_type": "error",
     "traceback": [
      "\u001b[0;31m---------------------------------------------------------------------------\u001b[0m",
      "\u001b[0;31mNameError\u001b[0m                                 Traceback (most recent call last)",
      "Cell \u001b[0;32mIn [8], line 1\u001b[0m\n\u001b[0;32m----> 1\u001b[0m \u001b[43mfd\u001b[49m\u001b[38;5;241m.\u001b[39mrun()\n",
      "\u001b[0;31mNameError\u001b[0m: name 'fd' is not defined"
     ]
    }
   ],
   "source": [
    "fd.run()"
   ]
  },
  {
   "cell_type": "markdown",
   "metadata": {},
   "source": [
    "# Post processing\n",
    "When an algorithm is successfully run, the results are attached to the same object. To access the results, you need to know the quantity for which the algorithm was solving. For instance, `FickianDiffusion` solves for the quantity `pore.concentration`, which is somewhat intuitive. However, if you ever forget it, or wanted to manually check the quantity, you can take a look at the algorithm `settings`:"
   ]
  },
  {
   "cell_type": "code",
   "execution_count": 9,
   "metadata": {
    "execution": {
     "iopub.execute_input": "2022-09-07T19:27:20.189392Z",
     "iopub.status.busy": "2022-09-07T19:27:20.189155Z",
     "iopub.status.idle": "2022-09-07T19:27:20.202793Z",
     "shell.execute_reply": "2022-09-07T19:27:20.201741Z"
    }
   },
   "outputs": [
    {
     "ename": "NameError",
     "evalue": "name 'fd' is not defined",
     "output_type": "error",
     "traceback": [
      "\u001b[0;31m---------------------------------------------------------------------------\u001b[0m",
      "\u001b[0;31mNameError\u001b[0m                                 Traceback (most recent call last)",
      "Cell \u001b[0;32mIn [9], line 1\u001b[0m\n\u001b[0;32m----> 1\u001b[0m \u001b[38;5;28mprint\u001b[39m(\u001b[43mfd\u001b[49m\u001b[38;5;241m.\u001b[39msettings)\n",
      "\u001b[0;31mNameError\u001b[0m: name 'fd' is not defined"
     ]
    }
   ],
   "source": [
    "print(fd.settings)"
   ]
  },
  {
   "cell_type": "markdown",
   "metadata": {},
   "source": [
    "## Visualizing\n",
    "\n",
    "Now that we know the quantity for which `FickianDiffusion` was solved, let's take a look at the results:"
   ]
  },
  {
   "cell_type": "code",
   "execution_count": 10,
   "metadata": {
    "execution": {
     "iopub.execute_input": "2022-09-07T19:27:20.205949Z",
     "iopub.status.busy": "2022-09-07T19:27:20.205711Z",
     "iopub.status.idle": "2022-09-07T19:27:20.225162Z",
     "shell.execute_reply": "2022-09-07T19:27:20.224464Z"
    }
   },
   "outputs": [
    {
     "ename": "NameError",
     "evalue": "name 'fd' is not defined",
     "output_type": "error",
     "traceback": [
      "\u001b[0;31m---------------------------------------------------------------------------\u001b[0m",
      "\u001b[0;31mNameError\u001b[0m                                 Traceback (most recent call last)",
      "Cell \u001b[0;32mIn [10], line 1\u001b[0m\n\u001b[0;32m----> 1\u001b[0m c \u001b[38;5;241m=\u001b[39m \u001b[43mfd\u001b[49m[\u001b[38;5;124m'\u001b[39m\u001b[38;5;124mpore.concentration\u001b[39m\u001b[38;5;124m'\u001b[39m]\n\u001b[1;32m      2\u001b[0m r \u001b[38;5;241m=\u001b[39m fd\u001b[38;5;241m.\u001b[39mrate(throats\u001b[38;5;241m=\u001b[39mnet\u001b[38;5;241m.\u001b[39mTs, mode\u001b[38;5;241m=\u001b[39m\u001b[38;5;124m'\u001b[39m\u001b[38;5;124msingle\u001b[39m\u001b[38;5;124m'\u001b[39m)\n\u001b[1;32m      3\u001b[0m d \u001b[38;5;241m=\u001b[39m net[\u001b[38;5;124m'\u001b[39m\u001b[38;5;124mpore.diameter\u001b[39m\u001b[38;5;124m'\u001b[39m]\n",
      "\u001b[0;31mNameError\u001b[0m: name 'fd' is not defined"
     ]
    }
   ],
   "source": [
    "c = fd['pore.concentration']\n",
    "r = fd.rate(throats=net.Ts, mode='single')\n",
    "d = net['pore.diameter']\n",
    "fig, ax = plt.subplots(figsize=[4, 4])\n",
    "op.topotools.plot_coordinates(network=net, color_by=c, size_by=d, markersize=400, ax=ax)\n",
    "op.topotools.plot_connections(network=net, color_by=r, linewidth=3, ax=ax)\n",
    "_ = plt.axis('off')"
   ]
  },
  {
   "cell_type": "markdown",
   "metadata": {},
   "source": [
    "## Calculating flux\n",
    "You might as well be interested in calculating the mass flux from a boundary! This is easily done in `OpenPNM` via calling the `rate` method attached to the algorithm. Let's see how it works:"
   ]
  },
  {
   "cell_type": "code",
   "execution_count": 11,
   "metadata": {
    "execution": {
     "iopub.execute_input": "2022-09-07T19:27:20.228451Z",
     "iopub.status.busy": "2022-09-07T19:27:20.228064Z",
     "iopub.status.idle": "2022-09-07T19:27:20.242746Z",
     "shell.execute_reply": "2022-09-07T19:27:20.241770Z"
    }
   },
   "outputs": [
    {
     "ename": "NameError",
     "evalue": "name 'fd' is not defined",
     "output_type": "error",
     "traceback": [
      "\u001b[0;31m---------------------------------------------------------------------------\u001b[0m",
      "\u001b[0;31mNameError\u001b[0m                                 Traceback (most recent call last)",
      "Cell \u001b[0;32mIn [11], line 1\u001b[0m\n\u001b[0;32m----> 1\u001b[0m rate_inlet \u001b[38;5;241m=\u001b[39m \u001b[43mfd\u001b[49m\u001b[38;5;241m.\u001b[39mrate(pores\u001b[38;5;241m=\u001b[39minlet)[\u001b[38;5;241m0\u001b[39m]\n\u001b[1;32m      2\u001b[0m \u001b[38;5;28mprint\u001b[39m(\u001b[38;5;124mf\u001b[39m\u001b[38;5;124m'\u001b[39m\u001b[38;5;124mMass flow rate from inlet: \u001b[39m\u001b[38;5;132;01m{\u001b[39;00mrate_inlet\u001b[38;5;132;01m:\u001b[39;00m\u001b[38;5;124m.5e\u001b[39m\u001b[38;5;132;01m}\u001b[39;00m\u001b[38;5;124m mol/s\u001b[39m\u001b[38;5;124m'\u001b[39m)\n",
      "\u001b[0;31mNameError\u001b[0m: name 'fd' is not defined"
     ]
    }
   ],
   "source": [
    "rate_inlet = fd.rate(pores=inlet)[0]\n",
    "print(f'Mass flow rate from inlet: {rate_inlet:.5e} mol/s')"
   ]
  },
  {
   "cell_type": "markdown",
   "metadata": {},
   "source": [
    "We can determine the effective diffusivity of the network by solving Fick's law:\n",
    "\n",
    "$$ D_{eff} = \\frac{N_A L}{ A \\Delta C} $$"
   ]
  },
  {
   "cell_type": "code",
   "execution_count": 12,
   "metadata": {
    "execution": {
     "iopub.execute_input": "2022-09-07T19:27:20.245906Z",
     "iopub.status.busy": "2022-09-07T19:27:20.245674Z",
     "iopub.status.idle": "2022-09-07T19:27:20.263150Z",
     "shell.execute_reply": "2022-09-07T19:27:20.260464Z"
    }
   },
   "outputs": [
    {
     "ename": "NameError",
     "evalue": "name 'rate_inlet' is not defined",
     "output_type": "error",
     "traceback": [
      "\u001b[0;31m---------------------------------------------------------------------------\u001b[0m",
      "\u001b[0;31mNameError\u001b[0m                                 Traceback (most recent call last)",
      "Cell \u001b[0;32mIn [12], line 3\u001b[0m\n\u001b[1;32m      1\u001b[0m A \u001b[38;5;241m=\u001b[39m (shape[\u001b[38;5;241m0\u001b[39m] \u001b[38;5;241m*\u001b[39m shape[\u001b[38;5;241m1\u001b[39m])\u001b[38;5;241m*\u001b[39m(spacing\u001b[38;5;241m*\u001b[39m\u001b[38;5;241m*\u001b[39m\u001b[38;5;241m2\u001b[39m)\n\u001b[1;32m      2\u001b[0m L \u001b[38;5;241m=\u001b[39m shape[\u001b[38;5;241m2\u001b[39m]\u001b[38;5;241m*\u001b[39mspacing\n\u001b[0;32m----> 3\u001b[0m D_eff \u001b[38;5;241m=\u001b[39m \u001b[43mrate_inlet\u001b[49m \u001b[38;5;241m*\u001b[39m L \u001b[38;5;241m/\u001b[39m (A \u001b[38;5;241m*\u001b[39m (C_in \u001b[38;5;241m-\u001b[39m C_out))\n\u001b[1;32m      4\u001b[0m \u001b[38;5;28mprint\u001b[39m(\u001b[38;5;124m\"\u001b[39m\u001b[38;5;132;01m{0:.6E}\u001b[39;00m\u001b[38;5;124m\"\u001b[39m\u001b[38;5;241m.\u001b[39mformat(D_eff))\n",
      "\u001b[0;31mNameError\u001b[0m: name 'rate_inlet' is not defined"
     ]
    }
   ],
   "source": [
    "A = (shape[0] * shape[1])*(spacing**2)\n",
    "L = shape[2]*spacing\n",
    "D_eff = rate_inlet * L / (A * (C_in - C_out))\n",
    "print(\"{0:.6E}\".format(D_eff))"
   ]
  },
  {
   "cell_type": "markdown",
   "metadata": {},
   "source": [
    "And the formation factor can be found since the diffusion coefficient of open air is known:\n",
    "\n",
    "$$ F = \\frac{D_{AB}}{D_{eff}} $$"
   ]
  },
  {
   "cell_type": "code",
   "execution_count": 13,
   "metadata": {
    "execution": {
     "iopub.execute_input": "2022-09-07T19:27:20.266676Z",
     "iopub.status.busy": "2022-09-07T19:27:20.266443Z",
     "iopub.status.idle": "2022-09-07T19:27:20.280431Z",
     "shell.execute_reply": "2022-09-07T19:27:20.279676Z"
    }
   },
   "outputs": [
    {
     "ename": "NameError",
     "evalue": "name 'air' is not defined",
     "output_type": "error",
     "traceback": [
      "\u001b[0;31m---------------------------------------------------------------------------\u001b[0m",
      "\u001b[0;31mNameError\u001b[0m                                 Traceback (most recent call last)",
      "Cell \u001b[0;32mIn [13], line 1\u001b[0m\n\u001b[0;32m----> 1\u001b[0m D_AB \u001b[38;5;241m=\u001b[39m \u001b[43mair\u001b[49m[\u001b[38;5;124m'\u001b[39m\u001b[38;5;124mpore.diffusivity\u001b[39m\u001b[38;5;124m'\u001b[39m][\u001b[38;5;241m0\u001b[39m]\n\u001b[1;32m      2\u001b[0m F \u001b[38;5;241m=\u001b[39m D_AB \u001b[38;5;241m/\u001b[39m D_eff\n\u001b[1;32m      3\u001b[0m \u001b[38;5;28mprint\u001b[39m(\u001b[38;5;124m'\u001b[39m\u001b[38;5;124mThe formation factor is: \u001b[39m\u001b[38;5;124m'\u001b[39m, \u001b[38;5;124m\"\u001b[39m\u001b[38;5;132;01m{0:.6E}\u001b[39;00m\u001b[38;5;124m\"\u001b[39m\u001b[38;5;241m.\u001b[39mformat(F))\n",
      "\u001b[0;31mNameError\u001b[0m: name 'air' is not defined"
     ]
    }
   ],
   "source": [
    "D_AB = air['pore.diffusivity'][0]\n",
    "F = D_AB / D_eff\n",
    "print('The formation factor is: ', \"{0:.6E}\".format(F))"
   ]
  },
  {
   "cell_type": "markdown",
   "metadata": {},
   "source": [
    "The tortuosity is defined as follows:\n",
    "\n",
    "$$ \\frac{D_{eff}}{D_{AB}} = \\frac{\\varepsilon}{\\tau} \\rightarrow \\tau = \\varepsilon \\frac{ D_{AB}}{D_{eff}} $$\n",
    "\n",
    "Note that finding the tortuosity requires knowing the porosity, which is annoyingly difficult to calculate accurately, so here we will just gloss over the details."
   ]
  },
  {
   "cell_type": "code",
   "execution_count": 14,
   "metadata": {
    "execution": {
     "iopub.execute_input": "2022-09-07T19:27:20.284414Z",
     "iopub.status.busy": "2022-09-07T19:27:20.284180Z",
     "iopub.status.idle": "2022-09-07T19:27:20.300118Z",
     "shell.execute_reply": "2022-09-07T19:27:20.299335Z"
    }
   },
   "outputs": [
    {
     "ename": "NameError",
     "evalue": "name 'geom' is not defined",
     "output_type": "error",
     "traceback": [
      "\u001b[0;31m---------------------------------------------------------------------------\u001b[0m",
      "\u001b[0;31mNameError\u001b[0m                                 Traceback (most recent call last)",
      "Cell \u001b[0;32mIn [14], line 1\u001b[0m\n\u001b[0;32m----> 1\u001b[0m V_p \u001b[38;5;241m=\u001b[39m \u001b[43mgeom\u001b[49m[\u001b[38;5;124m'\u001b[39m\u001b[38;5;124mpore.volume\u001b[39m\u001b[38;5;124m'\u001b[39m]\u001b[38;5;241m.\u001b[39msum()\n\u001b[1;32m      2\u001b[0m V_t \u001b[38;5;241m=\u001b[39m geom[\u001b[38;5;124m'\u001b[39m\u001b[38;5;124mthroat.volume\u001b[39m\u001b[38;5;124m'\u001b[39m]\u001b[38;5;241m.\u001b[39msum()\n\u001b[1;32m      3\u001b[0m V_bulk \u001b[38;5;241m=\u001b[39m np\u001b[38;5;241m.\u001b[39mprod(shape)\u001b[38;5;241m*\u001b[39m(spacing\u001b[38;5;241m*\u001b[39m\u001b[38;5;241m*\u001b[39m\u001b[38;5;241m3\u001b[39m)\n",
      "\u001b[0;31mNameError\u001b[0m: name 'geom' is not defined"
     ]
    }
   ],
   "source": [
    "V_p = geom['pore.volume'].sum()\n",
    "V_t = geom['throat.volume'].sum()\n",
    "V_bulk = np.prod(shape)*(spacing**3)\n",
    "e = (V_p + V_t) / V_bulk\n",
    "print('The porosity is: ', \"{0:.6E}\".format(e))"
   ]
  },
  {
   "cell_type": "code",
   "execution_count": 15,
   "metadata": {
    "execution": {
     "iopub.execute_input": "2022-09-07T19:27:20.303445Z",
     "iopub.status.busy": "2022-09-07T19:27:20.303168Z",
     "iopub.status.idle": "2022-09-07T19:27:20.316991Z",
     "shell.execute_reply": "2022-09-07T19:27:20.316249Z"
    }
   },
   "outputs": [
    {
     "ename": "NameError",
     "evalue": "name 'e' is not defined",
     "output_type": "error",
     "traceback": [
      "\u001b[0;31m---------------------------------------------------------------------------\u001b[0m",
      "\u001b[0;31mNameError\u001b[0m                                 Traceback (most recent call last)",
      "Cell \u001b[0;32mIn [15], line 1\u001b[0m\n\u001b[0;32m----> 1\u001b[0m tau \u001b[38;5;241m=\u001b[39m \u001b[43me\u001b[49m \u001b[38;5;241m*\u001b[39m D_AB \u001b[38;5;241m/\u001b[39m D_eff\n\u001b[1;32m      2\u001b[0m \u001b[38;5;28mprint\u001b[39m(\u001b[38;5;124m'\u001b[39m\u001b[38;5;124mThe tortuosity is:\u001b[39m\u001b[38;5;124m'\u001b[39m, \u001b[38;5;124m\"\u001b[39m\u001b[38;5;132;01m{0:.6E}\u001b[39;00m\u001b[38;5;124m\"\u001b[39m\u001b[38;5;241m.\u001b[39mformat(tau))\n",
      "\u001b[0;31mNameError\u001b[0m: name 'e' is not defined"
     ]
    }
   ],
   "source": [
    "tau = e * D_AB / D_eff\n",
    "print('The tortuosity is:', \"{0:.6E}\".format(tau))"
   ]
  }
 ],
 "metadata": {
  "hide_input": false,
  "kernelspec": {
   "display_name": "Python 3 (ipykernel)",
   "language": "python",
   "name": "python3"
  },
  "language_info": {
   "codemirror_mode": {
    "name": "ipython",
    "version": 3
   },
   "file_extension": ".py",
   "mimetype": "text/x-python",
   "name": "python",
   "nbconvert_exporter": "python",
   "pygments_lexer": "ipython3",
   "version": "3.8.13"
  },
  "toc": {
   "base_numbering": 1,
   "nav_menu": {},
   "number_sections": true,
   "sideBar": true,
   "skip_h1_title": true,
   "title_cell": "Table of Contents",
   "title_sidebar": "Contents",
   "toc_cell": true,
   "toc_position": {},
   "toc_section_display": true,
   "toc_window_display": false
  }
 },
 "nbformat": 4,
 "nbformat_minor": 4
}
