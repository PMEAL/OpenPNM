{
 "cells": [
  {
   "cell_type": "markdown",
   "id": "38d84418",
   "metadata": {},
   "source": [
    "# Simulating Single Phase Transport \n",
    "\n",
    "The point of an OpenPNM simulation is ultimately to compute some transport process.  In this notebook we will cover the following subjects:\n",
    "\n",
    "- Defining conductance \n",
    "- Settings boundary conditions \n"
   ]
  },
  {
   "cell_type": "markdown",
   "id": "cac063b0",
   "metadata": {},
   "source": [
    "Start by defining a network.  We'll use the ``Demo`` class which happens to include all the geometrical pore-scale models already. "
   ]
  },
  {
   "cell_type": "code",
   "execution_count": 1,
   "id": "94917bac",
   "metadata": {},
   "outputs": [
    {
     "name": "stdout",
     "output_type": "stream",
     "text": [
      "[nan nan nan nan nan nan nan nan nan nan nan nan nan nan nan nan nan nan\n",
      " nan nan nan nan nan nan nan]\n",
      "[nan nan nan nan nan nan nan nan nan nan nan nan nan nan nan nan nan nan\n",
      " nan nan nan nan nan nan nan]\n",
      "[nan nan nan nan nan nan nan nan nan nan nan nan nan nan nan nan nan nan\n",
      " nan nan nan nan nan nan nan nan nan nan nan nan nan nan nan nan nan nan\n",
      " nan nan nan nan]\n",
      "[nan nan nan nan nan nan nan nan nan nan nan nan nan nan nan nan nan nan\n",
      " nan nan nan nan nan nan nan]\n",
      "[nan nan nan nan nan nan nan nan nan nan nan nan nan nan nan nan nan nan\n",
      " nan nan nan nan nan nan nan]\n",
      "[nan nan nan nan nan nan nan nan nan nan nan nan nan nan nan nan nan nan\n",
      " nan nan nan nan nan nan nan nan nan nan nan nan nan nan nan nan nan nan\n",
      " nan nan nan nan]\n",
      "[nan nan nan nan nan nan nan nan nan nan nan nan nan nan nan nan nan nan\n",
      " nan nan nan nan nan nan nan nan nan nan nan nan nan nan nan nan nan nan\n",
      " nan nan nan nan]\n",
      "[nan nan nan nan nan nan nan nan nan nan nan nan nan nan nan nan nan nan\n",
      " nan nan nan nan nan nan nan nan nan nan nan nan nan nan nan nan nan nan\n",
      " nan nan nan nan]\n",
      "[[nan nan nan]\n",
      " [nan nan nan]\n",
      " [nan nan nan]\n",
      " [nan nan nan]\n",
      " [nan nan nan]\n",
      " [nan nan nan]\n",
      " [nan nan nan]\n",
      " [nan nan nan]\n",
      " [nan nan nan]\n",
      " [nan nan nan]\n",
      " [nan nan nan]\n",
      " [nan nan nan]\n",
      " [nan nan nan]\n",
      " [nan nan nan]\n",
      " [nan nan nan]\n",
      " [nan nan nan]\n",
      " [nan nan nan]\n",
      " [nan nan nan]\n",
      " [nan nan nan]\n",
      " [nan nan nan]\n",
      " [nan nan nan]\n",
      " [nan nan nan]\n",
      " [nan nan nan]\n",
      " [nan nan nan]\n",
      " [nan nan nan]\n",
      " [nan nan nan]\n",
      " [nan nan nan]\n",
      " [nan nan nan]\n",
      " [nan nan nan]\n",
      " [nan nan nan]\n",
      " [nan nan nan]\n",
      " [nan nan nan]\n",
      " [nan nan nan]\n",
      " [nan nan nan]\n",
      " [nan nan nan]\n",
      " [nan nan nan]\n",
      " [nan nan nan]\n",
      " [nan nan nan]\n",
      " [nan nan nan]\n",
      " [nan nan nan]]\n",
      "[[nan nan nan]\n",
      " [nan nan nan]\n",
      " [nan nan nan]\n",
      " [nan nan nan]\n",
      " [nan nan nan]\n",
      " [nan nan nan]\n",
      " [nan nan nan]\n",
      " [nan nan nan]\n",
      " [nan nan nan]\n",
      " [nan nan nan]\n",
      " [nan nan nan]\n",
      " [nan nan nan]\n",
      " [nan nan nan]\n",
      " [nan nan nan]\n",
      " [nan nan nan]\n",
      " [nan nan nan]\n",
      " [nan nan nan]\n",
      " [nan nan nan]\n",
      " [nan nan nan]\n",
      " [nan nan nan]\n",
      " [nan nan nan]\n",
      " [nan nan nan]\n",
      " [nan nan nan]\n",
      " [nan nan nan]\n",
      " [nan nan nan]\n",
      " [nan nan nan]\n",
      " [nan nan nan]\n",
      " [nan nan nan]\n",
      " [nan nan nan]\n",
      " [nan nan nan]\n",
      " [nan nan nan]\n",
      " [nan nan nan]\n",
      " [nan nan nan]\n",
      " [nan nan nan]\n",
      " [nan nan nan]\n",
      " [nan nan nan]\n",
      " [nan nan nan]\n",
      " [nan nan nan]\n",
      " [nan nan nan]\n",
      " [nan nan nan]]\n",
      "[nan nan nan nan nan nan nan nan nan nan nan nan nan nan nan nan nan nan\n",
      " nan nan nan nan nan nan nan nan nan nan nan nan nan nan nan nan nan nan\n",
      " nan nan nan nan]\n",
      "[nan nan nan nan nan nan nan nan nan nan nan nan nan nan nan nan nan nan\n",
      " nan nan nan nan nan nan nan nan nan nan nan nan nan nan nan nan nan nan\n",
      " nan nan nan nan]\n",
      "[nan nan nan nan nan nan nan nan nan nan nan nan nan nan nan nan nan nan\n",
      " nan nan nan nan nan nan nan nan nan nan nan nan nan nan nan nan nan nan\n",
      " nan nan nan nan]\n",
      "[nan nan nan nan nan nan nan nan nan nan nan nan nan nan nan nan nan nan\n",
      " nan nan nan nan nan nan nan nan nan nan nan nan nan nan nan nan nan nan\n",
      " nan nan nan nan]\n",
      "[nan nan nan nan nan nan nan nan nan nan nan nan nan nan nan nan nan nan\n",
      " nan nan nan nan nan nan nan]\n",
      "\n",
      "══════════════════════════════════════════════════════════════════════════════\n",
      "net : <openpnm.network.Demo at 0x2e0f082ed10>\n",
      "――――――――――――――――――――――――――――――――――――――――――――――――――――――――――――――――――――――――――――――\n",
      "  #  Properties                                                   Valid Values\n",
      "――――――――――――――――――――――――――――――――――――――――――――――――――――――――――――――――――――――――――――――\n",
      "  2  pore.coords                                                       25 / 25\n",
      "  3  throat.conns                                                      40 / 40\n",
      "  4  pore.coordination_number                                          25 / 25\n",
      "  5  pore.max_size                                                     25 / 25\n",
      "  6  throat.spacing                                                    40 / 40\n",
      "  7  pore.seed                                                         25 / 25\n",
      "  8  pore.diameter                                                     25 / 25\n",
      "  9  throat.max_size                                                   40 / 40\n",
      " 10  throat.diameter                                                   40 / 40\n",
      " 11  throat.cross_sectional_area                                       40 / 40\n",
      " 12  throat.hydraulic_size_factors                                     40 / 40\n",
      " 13  throat.diffusive_size_factors                                     40 / 40\n",
      " 14  throat.lens_volume                                                40 / 40\n",
      " 15  throat.length                                                     40 / 40\n",
      " 16  throat.total_volume                                               40 / 40\n",
      " 17  throat.volume                                                     40 / 40\n",
      " 18  pore.volume                                                       25 / 25\n",
      "――――――――――――――――――――――――――――――――――――――――――――――――――――――――――――――――――――――――――――――\n",
      "  #  Labels                                                 Assigned Locations\n",
      "――――――――――――――――――――――――――――――――――――――――――――――――――――――――――――――――――――――――――――――\n",
      "  2  pore.xmin                                                               5\n",
      "  3  pore.xmax                                                               5\n",
      "  4  pore.ymin                                                               5\n",
      "  5  pore.ymax                                                               5\n",
      "  6  pore.surface                                                           16\n",
      "  7  throat.surface                                                         16\n",
      "  8  pore.left                                                               5\n",
      "  9  pore.right                                                              5\n",
      " 10  pore.front                                                              5\n",
      " 11  pore.back                                                               5\n",
      "――――――――――――――――――――――――――――――――――――――――――――――――――――――――――――――――――――――――――――――\n"
     ]
    }
   ],
   "source": [
    "import numpy as np\n",
    "import openpnm as op\n",
    "op.visualization.set_mpl_style()\n",
    "\n",
    "pn = op.network.Demo(shape=[5, 5, 1], spacing=5e-5)\n",
    "print(pn)"
   ]
  },
  {
   "cell_type": "markdown",
   "id": "a7a0902f",
   "metadata": {},
   "source": [
    "## Define Phase Viscosity\n",
    "\n",
    "To fully illustrate the process of performing transport calculations, we'll use an empty ``Phase`` object and add all the needed properties manually:"
   ]
  },
  {
   "cell_type": "code",
   "execution_count": 2,
   "id": "b5e3a75a",
   "metadata": {},
   "outputs": [],
   "source": [
    "water = op.phase.Phase(network=pn)"
   ]
  },
  {
   "cell_type": "markdown",
   "id": "b8973bf1",
   "metadata": {},
   "source": [
    "Let's assume that we are interested in pressure driven flow. This requires knowing the viscosity of the phase, so let's add a pore-scale model for computing the viscosity of water:"
   ]
  },
  {
   "cell_type": "code",
   "execution_count": 3,
   "id": "029d1797",
   "metadata": {},
   "outputs": [
    {
     "name": "stdout",
     "output_type": "stream",
     "text": [
      "[nan nan nan nan nan nan nan nan nan nan nan nan nan nan nan nan nan nan\n",
      " nan nan nan nan nan nan nan]\n",
      "\n",
      "══════════════════════════════════════════════════════════════════════════════\n",
      "phase_01 : <openpnm.phase.Phase at 0x2e0850955e0>\n",
      "――――――――――――――――――――――――――――――――――――――――――――――――――――――――――――――――――――――――――――――\n",
      "  #  Properties                                                   Valid Values\n",
      "――――――――――――――――――――――――――――――――――――――――――――――――――――――――――――――――――――――――――――――\n",
      "  2  pore.temperature                                                  25 / 25\n",
      "  3  pore.pressure                                                     25 / 25\n",
      "  4  pore.viscosity                                                    25 / 25\n",
      "――――――――――――――――――――――――――――――――――――――――――――――――――――――――――――――――――――――――――――――\n",
      "  #  Labels                                                 Assigned Locations\n",
      "――――――――――――――――――――――――――――――――――――――――――――――――――――――――――――――――――――――――――――――\n",
      "  2  pore.all                                                               25\n",
      "  3  throat.all                                                             40\n",
      "――――――――――――――――――――――――――――――――――――――――――――――――――――――――――――――――――――――――――――――\n"
     ]
    }
   ],
   "source": [
    "water.add_model(propname='pore.viscosity',\n",
    "                model=op.models.phase.viscosity.water_correlation)\n",
    "print(water)"
   ]
  },
  {
   "cell_type": "markdown",
   "id": "21aab8de",
   "metadata": {},
   "source": [
    "And we can check the individual values to verify they make sense:"
   ]
  },
  {
   "cell_type": "code",
   "execution_count": 4,
   "id": "8833d1ee",
   "metadata": {},
   "outputs": [
    {
     "name": "stdout",
     "output_type": "stream",
     "text": [
      "[0.00089319 0.00089319 0.00089319 0.00089319 0.00089319 0.00089319\n",
      " 0.00089319 0.00089319 0.00089319 0.00089319 0.00089319 0.00089319\n",
      " 0.00089319 0.00089319 0.00089319 0.00089319 0.00089319 0.00089319\n",
      " 0.00089319 0.00089319 0.00089319 0.00089319 0.00089319 0.00089319\n",
      " 0.00089319]\n"
     ]
    }
   ],
   "source": [
    "print(water['pore.viscosity'])"
   ]
  },
  {
   "cell_type": "markdown",
   "id": "95ba0972",
   "metadata": {},
   "source": [
    "## Basic Conductance Calculation\n",
    "\n",
    "Determining the conductance of the conduits between each pair of connected pores is the most important part of performing a simulation. The details of conductance models are covered elsewhere. For this demonstration will assume the very simplest case where all pressure loss occurs in the throats.\n",
    "\n",
    "Recall the Hagan-Poiseuille equation for fluid flow through a cylindrical tube:\n",
    "\n",
    "$$ Q = \\frac{\\pi R^4}{8 \\mu L} \\Delta P$$\n",
    "\n",
    "where $R$ and $L$ are the radius and length of the throat, and $\\mu$ is the viscosity of the fluid.  Together this prefactor can be referred to as the hydraulic conductance, $g_h$, giving:\n",
    "\n",
    "$$ Q = g_h \\Delta P $$\n",
    "\n",
    "So the aim is the compute values of $g_h$ for each throat.  We start by doing this manually:"
   ]
  },
  {
   "cell_type": "code",
   "execution_count": 5,
   "id": "647bde31",
   "metadata": {},
   "outputs": [
    {
     "name": "stdout",
     "output_type": "stream",
     "text": [
      "[9.20427152e-15 7.35551641e-15 1.43782360e-14 2.21592040e-14\n",
      " 8.58410110e-15 1.82497731e-15 1.19043989e-15 1.35431656e-15\n",
      " 1.24601001e-14 6.51791879e-15 8.29384384e-15 1.27944400e-14\n",
      " 4.06680462e-15 4.35974347e-15 1.54483860e-15 1.48004403e-15\n",
      " 5.12411085e-16 5.13533658e-16 7.51257701e-16 1.92035129e-15\n",
      " 4.10880926e-14 7.00911817e-15 1.90538445e-15 1.39900879e-15\n",
      " 1.52488506e-14 1.90114657e-14 7.77942911e-15 1.80259133e-15\n",
      " 1.65935565e-15 1.01188512e-14 4.51169949e-15 4.64142945e-15\n",
      " 5.11569304e-15 2.03743977e-15 2.55209825e-15 7.44866870e-16\n",
      " 5.56731901e-16 7.98229431e-16 1.44963284e-15 2.88211959e-15]\n"
     ]
    }
   ],
   "source": [
    "R = pn['throat.diameter']/2\n",
    "L = pn['throat.length']\n",
    "mu = water['throat.viscosity']  # See ProTip below\n",
    "water['throat.hydraulic_conductance'] = np.pi*R**4/(8*mu*L)\n",
    "print(water['throat.hydraulic_conductance'])"
   ]
  },
  {
   "cell_type": "markdown",
   "id": "7720d25b",
   "metadata": {},
   "source": [
    "```{admonition} Phase can do automatic interpolation to get throat values\n",
    "  The ``Phase`` class has a special ability to interpolate pore values to throats, and vice-versa. In PNM simulations all the balances are solved for each pore, so the thermodynamic properties like temperature, pressure, etc. are all defined on pores. Consequently, the physical properties are also defined in pores, like viscosity. However, as shown above we often want viscosity values in the throats. OpenPNM provides a shortcut for this, such that if you request a throat property that does not exist, it will attempt to fetch the pores values and do a linear interpolation of values to produce an array of throat values.  There is also a function for this, ``water.interpolate_data('throat.viscosity')``, but the ``water['throat.viscosity']`` shortcut is very convenient. The automatic interpolation can be disabled in the `phase.settings`.\n",
    "```"
   ]
  },
  {
   "cell_type": "code",
   "execution_count": 6,
   "id": "d4544d8b",
   "metadata": {},
   "outputs": [
    {
     "data": {
      "text/plain": [
       "array([0.00089319, 0.00089319, 0.00089319, 0.00089319, 0.00089319,\n",
       "       0.00089319, 0.00089319, 0.00089319, 0.00089319, 0.00089319,\n",
       "       0.00089319, 0.00089319, 0.00089319, 0.00089319, 0.00089319,\n",
       "       0.00089319, 0.00089319, 0.00089319, 0.00089319, 0.00089319,\n",
       "       0.00089319, 0.00089319, 0.00089319, 0.00089319, 0.00089319,\n",
       "       0.00089319, 0.00089319, 0.00089319, 0.00089319, 0.00089319,\n",
       "       0.00089319, 0.00089319, 0.00089319, 0.00089319, 0.00089319,\n",
       "       0.00089319, 0.00089319, 0.00089319, 0.00089319, 0.00089319])"
      ]
     },
     "execution_count": 6,
     "metadata": {},
     "output_type": "execute_result"
    }
   ],
   "source": [
    "water.interpolate_data('throat.viscosity')"
   ]
  },
  {
   "cell_type": "code",
   "execution_count": 7,
   "id": "cf30019f",
   "metadata": {},
   "outputs": [
    {
     "data": {
      "text/plain": [
       "array([0.00089319, 0.00089319, 0.00089319, 0.00089319, 0.00089319,\n",
       "       0.00089319, 0.00089319, 0.00089319, 0.00089319, 0.00089319,\n",
       "       0.00089319, 0.00089319, 0.00089319, 0.00089319, 0.00089319,\n",
       "       0.00089319, 0.00089319, 0.00089319, 0.00089319, 0.00089319,\n",
       "       0.00089319, 0.00089319, 0.00089319, 0.00089319, 0.00089319,\n",
       "       0.00089319, 0.00089319, 0.00089319, 0.00089319, 0.00089319,\n",
       "       0.00089319, 0.00089319, 0.00089319, 0.00089319, 0.00089319,\n",
       "       0.00089319, 0.00089319, 0.00089319, 0.00089319, 0.00089319])"
      ]
     },
     "execution_count": 7,
     "metadata": {},
     "output_type": "execute_result"
    }
   ],
   "source": [
    "water['throat.viscosity']"
   ]
  },
  {
   "cell_type": "markdown",
   "id": "6e71e725",
   "metadata": {},
   "source": [
    "## Create Algorithm Object\n",
    "\n",
    "OpenPNM contains a variety of ``Algorithm`` classes in the ``openpnm.algorithms`` module.  Let's initialize a ``StokesFlow`` algorithm, since this simulates pressure driven flow through the network. "
   ]
  },
  {
   "cell_type": "code",
   "execution_count": 8,
   "id": "29b8bf9d",
   "metadata": {},
   "outputs": [
    {
     "name": "stdout",
     "output_type": "stream",
     "text": [
      "\n",
      "══════════════════════════════════════════════════════════════════════════════\n",
      "stokes_01 : <openpnm.algorithms.StokesFlow at 0x2e0850baef0>\n",
      "――――――――――――――――――――――――――――――――――――――――――――――――――――――――――――――――――――――――――――――\n",
      "  #  Properties                                                   Valid Values\n",
      "――――――――――――――――――――――――――――――――――――――――――――――――――――――――――――――――――――――――――――――\n",
      "  2  pore.bc.rate                                                       0 / 25\n",
      "  3  pore.bc.value                                                      0 / 25\n",
      "――――――――――――――――――――――――――――――――――――――――――――――――――――――――――――――――――――――――――――――\n",
      "  #  Labels                                                 Assigned Locations\n",
      "――――――――――――――――――――――――――――――――――――――――――――――――――――――――――――――――――――――――――――――\n",
      "  2  pore.all                                                               25\n",
      "  3  throat.all                                                             40\n",
      "――――――――――――――――――――――――――――――――――――――――――――――――――――――――――――――――――――――――――――――\n"
     ]
    }
   ],
   "source": [
    "sf = op.algorithms.StokesFlow(network=pn, phase=water)\n",
    "print(sf)"
   ]
  },
  {
   "cell_type": "markdown",
   "id": "72c4d6c8",
   "metadata": {},
   "source": [
    "## Assign Boundary Conditions\n",
    "\n",
    "As can be seen in the print-out above there are predefined ``'pore.bc'`` arrays, but they contain no valid values, meaning they are all ``nans``. Once we set some boundary conditions, this will change.  Let's apply pressure BCs on one side of the network, and rate BCs on the other:"
   ]
  },
  {
   "cell_type": "code",
   "execution_count": 9,
   "id": "3caad7c7",
   "metadata": {},
   "outputs": [
    {
     "name": "stdout",
     "output_type": "stream",
     "text": [
      "\n",
      "══════════════════════════════════════════════════════════════════════════════\n",
      "stokes_01 : <openpnm.algorithms.StokesFlow at 0x2e0850baef0>\n",
      "――――――――――――――――――――――――――――――――――――――――――――――――――――――――――――――――――――――――――――――\n",
      "  #  Properties                                                   Valid Values\n",
      "――――――――――――――――――――――――――――――――――――――――――――――――――――――――――――――――――――――――――――――\n",
      "  2  pore.bc.rate                                                       5 / 25\n",
      "  3  pore.bc.value                                                      5 / 25\n",
      "――――――――――――――――――――――――――――――――――――――――――――――――――――――――――――――――――――――――――――――\n",
      "  #  Labels                                                 Assigned Locations\n",
      "――――――――――――――――――――――――――――――――――――――――――――――――――――――――――――――――――――――――――――――\n",
      "  2  pore.all                                                               25\n",
      "  3  throat.all                                                             40\n",
      "――――――――――――――――――――――――――――――――――――――――――――――――――――――――――――――――――――――――――――――\n"
     ]
    }
   ],
   "source": [
    "sf.set_value_BC(pores=pn.pores('left'), values=100_000)\n",
    "sf.set_rate_BC(pores=pn.pores('right'), rates=1e-10)\n",
    "print(sf)"
   ]
  },
  {
   "cell_type": "markdown",
   "id": "e81f2e4b",
   "metadata": {},
   "source": [
    "```{admonition} All boundary conditions are preceeded with 'pore.bc'\n",
    "  All boundary conditions are stored as 'pore.bc.<type>', which means that OpenPNM's dictionary lookup tricks can be used to see all types and values of bc's using: `sf['pore.bc']` which will return a `dict`. This can be used as shown below:\n"
   ]
  },
  {
   "cell_type": "code",
   "execution_count": 10,
   "id": "f14cea28",
   "metadata": {},
   "outputs": [
    {
     "name": "stdout",
     "output_type": "stream",
     "text": [
      "dict_keys(['rate', 'value'])\n"
     ]
    }
   ],
   "source": [
    "print(sf['pore.bc'].keys())"
   ]
  },
  {
   "cell_type": "markdown",
   "id": "7114b180",
   "metadata": {},
   "source": [
    "Now we can see there are 5 valid values of each type.  The ``sf`` algorithm will look for ``'throat.hydraulic_conductance'`` on ``water`` by default, so we can just ``run``:"
   ]
  },
  {
   "cell_type": "code",
   "execution_count": 11,
   "id": "732f855a",
   "metadata": {},
   "outputs": [],
   "source": [
    "soln = sf.run()"
   ]
  },
  {
   "cell_type": "markdown",
   "id": "613df06f",
   "metadata": {},
   "source": [
    "The ``run`` method solves the mass balance around each pore and computes the pressure within each pore that is required to sustain the flow defined by the boundary conditions.  The ``soln`` object that is returned is a dictionary with the key corresponding to the quantity that was solved for.  "
   ]
  },
  {
   "cell_type": "code",
   "execution_count": 12,
   "id": "cf47340a",
   "metadata": {},
   "outputs": [
    {
     "name": "stdout",
     "output_type": "stream",
     "text": [
      "None\n"
     ]
    }
   ],
   "source": [
    "print(soln)"
   ]
  },
  {
   "cell_type": "markdown",
   "id": "bd75fd50",
   "metadata": {},
   "source": [
    "The reason for the dict format is to provide a consistent API for single components and multiphysics, where multiple different quantities might be solved for.  However, these ``'pore.pressure'`` values are also written to the dictionary of the algorithm object as well:"
   ]
  },
  {
   "cell_type": "code",
   "execution_count": 13,
   "id": "520819ef",
   "metadata": {},
   "outputs": [
    {
     "name": "stdout",
     "output_type": "stream",
     "text": [
      "\n",
      "══════════════════════════════════════════════════════════════════════════════\n",
      "stokes_01 : <openpnm.algorithms.StokesFlow at 0x2e0850baef0>\n",
      "――――――――――――――――――――――――――――――――――――――――――――――――――――――――――――――――――――――――――――――\n",
      "  #  Properties                                                   Valid Values\n",
      "――――――――――――――――――――――――――――――――――――――――――――――――――――――――――――――――――――――――――――――\n",
      "  2  pore.bc.rate                                                       5 / 25\n",
      "  3  pore.bc.value                                                      5 / 25\n",
      "  4  pore.pressure                                                     25 / 25\n",
      "  5  pore.initial_guess                                                25 / 25\n",
      "――――――――――――――――――――――――――――――――――――――――――――――――――――――――――――――――――――――――――――――\n",
      "  #  Labels                                                 Assigned Locations\n",
      "――――――――――――――――――――――――――――――――――――――――――――――――――――――――――――――――――――――――――――――\n",
      "  2  pore.all                                                               25\n",
      "  3  throat.all                                                             40\n",
      "――――――――――――――――――――――――――――――――――――――――――――――――――――――――――――――――――――――――――――――\n"
     ]
    }
   ],
   "source": [
    "print(sf)"
   ]
  },
  {
   "cell_type": "markdown",
   "id": "bc617629",
   "metadata": {},
   "source": [
    "Finally we can look at how much pressure was required in the \"right\" pores to meet the required flow rate:"
   ]
  },
  {
   "cell_type": "code",
   "execution_count": 14,
   "id": "16a3d0d8",
   "metadata": {},
   "outputs": [
    {
     "data": {
      "text/plain": [
       "array([280656.65723169, 289505.00671955, 262927.51216542, 232882.04746342,\n",
       "       218303.41912755])"
      ]
     },
     "execution_count": 14,
     "metadata": {},
     "output_type": "execute_result"
    }
   ],
   "source": [
    "sf['pore.pressure'][pn.pores('right')]"
   ]
  },
  {
   "cell_type": "markdown",
   "id": "55cc13bb",
   "metadata": {},
   "source": [
    "So we can see that 150 kPa was required to accomplish the requested flow. "
   ]
  },
  {
   "cell_type": "markdown",
   "id": "73b9cba6",
   "metadata": {},
   "source": [
    "## Rigorous Conductance Calculation\n",
    "\n",
    "The above demonstration used a very simplistic conductance calculation.  It was also stated that computing conductance is the most important part of doing a PNM simulation.  To finish this notebook, we'll look more closely at this process."
   ]
  },
  {
   "cell_type": "markdown",
   "id": "751a30eb",
   "metadata": {},
   "source": [
    "### Manual Method\n",
    "Let's print the network object again:"
   ]
  },
  {
   "cell_type": "code",
   "execution_count": 15,
   "id": "322b2746",
   "metadata": {},
   "outputs": [
    {
     "name": "stdout",
     "output_type": "stream",
     "text": [
      "\n",
      "══════════════════════════════════════════════════════════════════════════════\n",
      "net : <openpnm.network.Demo at 0x2e0f082ed10>\n",
      "――――――――――――――――――――――――――――――――――――――――――――――――――――――――――――――――――――――――――――――\n",
      "  #  Properties                                                   Valid Values\n",
      "――――――――――――――――――――――――――――――――――――――――――――――――――――――――――――――――――――――――――――――\n",
      "  2  pore.coords                                                       25 / 25\n",
      "  3  throat.conns                                                      40 / 40\n",
      "  4  pore.coordination_number                                          25 / 25\n",
      "  5  pore.max_size                                                     25 / 25\n",
      "  6  throat.spacing                                                    40 / 40\n",
      "  7  pore.seed                                                         25 / 25\n",
      "  8  pore.diameter                                                     25 / 25\n",
      "  9  throat.max_size                                                   40 / 40\n",
      " 10  throat.diameter                                                   40 / 40\n",
      " 11  throat.cross_sectional_area                                       40 / 40\n",
      " 12  throat.hydraulic_size_factors                                     40 / 40\n",
      " 13  throat.diffusive_size_factors                                     40 / 40\n",
      " 14  throat.lens_volume                                                40 / 40\n",
      " 15  throat.length                                                     40 / 40\n",
      " 16  throat.total_volume                                               40 / 40\n",
      " 17  throat.volume                                                     40 / 40\n",
      " 18  pore.volume                                                       25 / 25\n",
      "――――――――――――――――――――――――――――――――――――――――――――――――――――――――――――――――――――――――――――――\n",
      "  #  Labels                                                 Assigned Locations\n",
      "――――――――――――――――――――――――――――――――――――――――――――――――――――――――――――――――――――――――――――――\n",
      "  2  pore.xmin                                                               5\n",
      "  3  pore.xmax                                                               5\n",
      "  4  pore.ymin                                                               5\n",
      "  5  pore.ymax                                                               5\n",
      "  6  pore.surface                                                           16\n",
      "  7  throat.surface                                                         16\n",
      "  8  pore.left                                                               5\n",
      "  9  pore.right                                                              5\n",
      " 10  pore.front                                                              5\n",
      " 11  pore.back                                                               5\n",
      "――――――――――――――――――――――――――――――――――――――――――――――――――――――――――――――――――――――――――――――\n"
     ]
    }
   ],
   "source": [
    "print(pn)"
   ]
  },
  {
   "cell_type": "markdown",
   "id": "9f10eed9",
   "metadata": {},
   "source": [
    "Note the ``'throat.hydraulic_size_factors'`` array.  This is computed by a pore-scale model on the ``Demo`` network.  This computation is more rigorous in the following ways:\n",
    "\n",
    "1. The conductance of each half pore and that throat is considered.\n",
    "1. The throat length is computed carefully by accounting for the 'lens' between the intersection of the spherical pore bodies and the cylindrical throat.\n",
    "1. The net cross-sectional area of the pores are computed by integrating between the pore center and the pore-throat intersection point\n",
    "\n",
    "The conductance of each element in the conduit is returned as an *Nt-by-3* array, where columns 1 and 3 contain the hydraulic conductance of the half pore on either end of the throat, and the column 1 contains the throat conductance."
   ]
  },
  {
   "cell_type": "code",
   "execution_count": 16,
   "id": "65e69a58",
   "metadata": {},
   "outputs": [
    {
     "data": {
      "text/plain": [
       "array([[2.77545187e-16, 8.22117200e-18, 1.45034306e-16],\n",
       "       [1.45034306e-16, 6.56988067e-18, 1.70822585e-16],\n",
       "       [2.26887502e-16, 1.28425102e-17, 2.52668970e-16],\n",
       "       [3.05186878e-16, 1.97924004e-17, 3.14163388e-16],\n",
       "       [2.19808219e-16, 7.66724140e-18, 1.52188295e-16],\n",
       "       [8.01864556e-17, 1.63005321e-18, 5.48538206e-17],\n",
       "       [4.67656335e-17, 1.06329013e-18, 4.27172270e-17],\n",
       "       [4.27172270e-17, 1.20966329e-18, 8.08160187e-17],\n",
       "       [2.27595445e-16, 1.11292486e-17, 2.07923286e-16],\n",
       "       [1.57390932e-16, 5.82174606e-18, 1.34059463e-16],\n",
       "       [1.34059463e-16, 7.40798623e-18, 2.67561809e-16],\n",
       "       [3.23356017e-16, 1.14278779e-17, 1.81617674e-16],\n",
       "       [1.00622084e-16, 3.63243307e-18, 1.02180794e-16],\n",
       "       [1.05047444e-16, 3.89408340e-18, 1.09098539e-16],\n",
       "       [6.80303400e-17, 1.37983586e-18, 4.94904692e-17],\n",
       "       [4.94904692e-17, 1.32196193e-18, 5.58517966e-17],\n",
       "       [2.55706461e-17, 4.57680942e-19, 2.36554026e-17],\n",
       "       [2.36554026e-17, 4.58683615e-19, 2.59629504e-17],\n",
       "       [3.05863613e-17, 6.71016578e-19, 3.70397271e-17],\n",
       "       [5.15405871e-17, 1.71524039e-18, 1.16323339e-16],\n",
       "       [5.28842399e-16, 3.66995124e-17, 4.09030233e-16],\n",
       "       [1.45034306e-16, 6.26048090e-18, 1.47550900e-16],\n",
       "       [9.32845335e-17, 1.70187214e-18, 5.48538206e-17],\n",
       "       [8.92235670e-17, 1.24958199e-18, 4.27172270e-17],\n",
       "       [2.65730635e-16, 1.36201353e-17, 2.34382279e-16],\n",
       "       [3.11949876e-16, 1.69808691e-17, 2.66891369e-16],\n",
       "       [1.52188295e-16, 6.94851565e-18, 1.70459081e-16],\n",
       "       [5.48538206e-17, 1.61005826e-18, 7.64235425e-17],\n",
       "       [4.27172270e-17, 1.48212144e-18, 1.29975276e-16],\n",
       "       [1.99194104e-16, 9.03806629e-18, 1.81617674e-16],\n",
       "       [1.44604895e-16, 4.02980914e-18, 1.00622084e-16],\n",
       "       [1.35143307e-16, 4.14568277e-18, 1.05047444e-16],\n",
       "       [1.22688378e-16, 4.56929072e-18, 1.16731933e-16],\n",
       "       [1.42747545e-16, 1.81982276e-18, 4.94904692e-17],\n",
       "       [9.88808526e-17, 2.27951105e-18, 6.90093022e-17],\n",
       "       [4.64815420e-17, 6.65308346e-19, 2.93427520e-17],\n",
       "       [4.13231685e-17, 4.97267894e-19, 2.36554026e-17],\n",
       "       [5.04556002e-17, 7.12971301e-19, 3.05863613e-17],\n",
       "       [4.94904692e-17, 1.29479893e-18, 5.02130054e-17],\n",
       "       [6.90093022e-17, 2.57428313e-18, 1.39683394e-16]])"
      ]
     },
     "execution_count": 16,
     "metadata": {},
     "output_type": "execute_result"
    }
   ],
   "source": [
    "pn['throat.hydraulic_size_factors']"
   ]
  },
  {
   "cell_type": "markdown",
   "id": "29f6fccb",
   "metadata": {},
   "source": [
    "This data is called the ``size factor`` because it is purely the geometrical information required for the computation of the hydraulic conductance.  So the Hagan-Poisseiulle equation for each element is written as:\n",
    "\n",
    "$$ Q = \\frac{F_h}{\\mu} \\Delta P = g_h \\Delta P$$\n",
    "\n",
    "Note that both the $\\frac{\\pi R^4}{8}$ term and $L$ have been rolled into the $F_h$ value.\n",
    "\n",
    "The total conductance of the pore-throat-pore conduit can be found as the sum of three resistors in series.  Since we have conductance values, we add the inverses, and invert again.  The full expression for the hydraulic conductance between pores i and j, through throat k, is:\n",
    "\n",
    "\n",
    "$$ Q = \\bigg( \\frac{\\mu}{F_{h, i}} + \\frac{\\mu}{F_{h, k}} + \\frac{\\mu}{F_{h, j}} \\bigg) ^ {-1} \\Delta P $$\n",
    "\n",
    "This can be computed by hand as follows. Note that we write the hydraulic conductance in an Nt by 2 array  the OpenPNM convention is to store conductance values in an Nt by 2 array for symmetric and asymmetric physics."
   ]
  },
  {
   "cell_type": "code",
   "execution_count": 17,
   "id": "0b26948e",
   "metadata": {},
   "outputs": [],
   "source": [
    "F_h = water['throat.hydraulic_size_factors']\n",
    "gh = (mu * (1/F_h).sum(axis=1))**(-1)\n",
    "gh = np.vstack((gh, gh)).T\n",
    "water['throat.hydraulic_conductance'] = gh"
   ]
  },
  {
   "cell_type": "code",
   "execution_count": 18,
   "id": "fc49009f",
   "metadata": {},
   "outputs": [
    {
     "data": {
      "text/plain": [
       "array([[8.47300580e-15, 8.47300580e-15],\n",
       "       [6.78704028e-15, 6.78704028e-15],\n",
       "       [1.29834218e-14, 1.29834218e-14],\n",
       "       [1.96472322e-14, 1.96472322e-14],\n",
       "       [7.90970777e-15, 7.90970777e-15],\n",
       "       [1.73799981e-15, 1.73799981e-15],\n",
       "       [1.13631934e-15, 1.13631934e-15],\n",
       "       [1.29812583e-15, 1.29812583e-15],\n",
       "       [1.13024469e-14, 1.13024469e-14],\n",
       "       [6.03278805e-15, 6.03278805e-15],\n",
       "       [7.65859432e-15, 7.65859432e-15],\n",
       "       [1.16496923e-14, 1.16496923e-14],\n",
       "       [3.79490415e-15, 3.79490415e-15],\n",
       "       [4.06403219e-15, 4.06403219e-15],\n",
       "       [1.47385271e-15, 1.47385271e-15],\n",
       "       [1.40905507e-15, 1.40905507e-15],\n",
       "       [4.94010896e-16, 4.94010896e-16],\n",
       "       [4.95183600e-16, 4.95183600e-16],\n",
       "       [7.22325282e-16, 7.22325282e-16],\n",
       "       [1.83235280e-15, 1.83235280e-15],\n",
       "       [3.54476865e-14, 3.54476865e-14],\n",
       "       [6.45647720e-15, 6.45647720e-15],\n",
       "       [1.81591526e-15, 1.81591526e-15],\n",
       "       [1.34100049e-15, 1.34100049e-15],\n",
       "       [1.37455519e-14, 1.37455519e-14],\n",
       "       [1.70039876e-14, 1.70039876e-14],\n",
       "       [7.16060332e-15, 7.16060332e-15],\n",
       "       [1.71606825e-15, 1.71606825e-15],\n",
       "       [1.58623163e-15, 1.58623163e-15],\n",
       "       [9.23980055e-15, 9.23980055e-15],\n",
       "       [4.22476733e-15, 4.22476733e-15],\n",
       "       [4.33721276e-15, 4.33721276e-15],\n",
       "       [4.75265436e-15, 4.75265436e-15],\n",
       "       [1.94130681e-15, 1.94130681e-15],\n",
       "       [2.41656508e-15, 2.41656508e-15],\n",
       "       [7.18299089e-16, 7.18299089e-16],\n",
       "       [5.38917989e-16, 5.38917989e-16],\n",
       "       [7.69421688e-16, 7.69421688e-16],\n",
       "       [1.37804516e-15, 1.37804516e-15],\n",
       "       [2.72997059e-15, 2.72997059e-15]])"
      ]
     },
     "execution_count": 18,
     "metadata": {},
     "output_type": "execute_result"
    }
   ],
   "source": [
    "water['throat.hydraulic_conductance']"
   ]
  },
  {
   "cell_type": "code",
   "execution_count": 19,
   "id": "3ef96480",
   "metadata": {},
   "outputs": [
    {
     "data": {
      "text/plain": [
       "array([289394.33735155, 298579.87553587, 271558.25345862, 240901.66451631,\n",
       "       225756.73289535])"
      ]
     },
     "execution_count": 19,
     "metadata": {},
     "output_type": "execute_result"
    }
   ],
   "source": [
    "sf = op.algorithms.StokesFlow(network=pn, phase=water)\n",
    "sf.set_value_BC(pores=pn.pores('left'), values=100_000)\n",
    "sf.set_rate_BC(pores=pn.pores('right'), rates=1e-10)\n",
    "soln = sf.run()\n",
    "sf['pore.pressure'][pn.pores('right')]"
   ]
  },
  {
   "cell_type": "markdown",
   "id": "5d59ec79",
   "metadata": {},
   "source": [
    "As can be seen the numbers are about the same as with the simple case, but should be somewhat more correct.  In fact, these above pressures are a bit higher, which is because the total conductance of the conduit is lower due to the inclusion of the pore body lengths into the total length, compared to above where only the throat length was included."
   ]
  },
  {
   "cell_type": "markdown",
   "id": "4535fccd",
   "metadata": {},
   "source": [
    "### Pore-Scale Model Method\n",
    "\n",
    "Instead of computing the hydraulic conductance manually as done above, there is a pore-scale model available:"
   ]
  },
  {
   "cell_type": "code",
   "execution_count": 20,
   "id": "9891436d",
   "metadata": {},
   "outputs": [],
   "source": [
    "water.add_model(propname='throat.hydraulic_conductance',\n",
    "                model=op.models.physics.hydraulic_conductance.generic_hydraulic)"
   ]
  },
  {
   "cell_type": "code",
   "execution_count": 21,
   "id": "fd34b943",
   "metadata": {},
   "outputs": [
    {
     "data": {
      "text/plain": [
       "array([289394.33735155, 298579.87553587, 271558.25345862, 240901.66451631,\n",
       "       225756.73289535])"
      ]
     },
     "execution_count": 21,
     "metadata": {},
     "output_type": "execute_result"
    }
   ],
   "source": [
    "sf = op.algorithms.StokesFlow(network=pn, phase=water)\n",
    "sf.set_value_BC(pores=pn.pores('left'), values=100_000)\n",
    "sf.set_rate_BC(pores=pn.pores('right'), rates=1e-10)\n",
    "soln = sf.run()\n",
    "sf['pore.pressure'][pn.pores('right')]"
   ]
  },
  {
   "cell_type": "markdown",
   "id": "56ab903f",
   "metadata": {},
   "source": [
    "Which gives exactly the same result, without have to manually deal with the conductances-in-series calculation."
   ]
  }
 ],
 "metadata": {
  "kernelspec": {
   "display_name": "Python 3 (ipykernel)",
   "language": "python",
   "name": "python3"
  },
  "language_info": {
   "codemirror_mode": {
    "name": "ipython",
    "version": 3
   },
   "file_extension": ".py",
   "mimetype": "text/x-python",
   "name": "python",
   "nbconvert_exporter": "python",
   "pygments_lexer": "ipython3",
   "version": "3.10.13"
  }
 },
 "nbformat": 4,
 "nbformat_minor": 5
}
