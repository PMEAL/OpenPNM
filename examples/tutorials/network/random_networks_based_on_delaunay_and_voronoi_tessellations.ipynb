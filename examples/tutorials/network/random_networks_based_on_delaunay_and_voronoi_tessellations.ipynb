{
 "cells": [
  {
   "cell_type": "markdown",
   "metadata": {},
   "source": [
    "# Delaunay and Voronoi Tessalation\n",
    "## Generate Random Networks Based on Delaunay Triangulations,  Voronoi Tessellations, or Both\n",
    "\n",
    "A random network offers several advantages over the traditional Cubic arrangement: the topology is more 'natural' looking, and a wider pore size distribution can be achieved since pores are not constrained by the lattice spacing.  Random networks can be tricky to generate however, since the connectivity between pores is difficult to determine or define.  One surprisingly simple option is to use Delaunay triangulation to connect base points (which become pore centers) that are randomly distributed in space.  The Voronoi tessellation is a complementary graph that arises directly from the Delaunay graph which also connects essentially randomly distributed points in space into a network.  OpenPNM offers both of these types of network, plus the ability to create a network containing *both* including interconnections between Delaunay and Voronoi networks via the ```DelaunayVoronoiDual``` class.  In fact, creating the dual, interconnected network is the starting point, and any unwanted elements can be easily trimmed."
   ]
  },
  {
   "cell_type": "code",
   "execution_count": 1,
   "metadata": {
    "execution": {
     "iopub.execute_input": "2022-09-07T19:28:33.810923Z",
     "iopub.status.busy": "2022-09-07T19:28:33.810538Z",
     "iopub.status.idle": "2022-09-07T19:28:35.524304Z",
     "shell.execute_reply": "2022-09-07T19:28:35.523291Z"
    }
   },
   "outputs": [],
   "source": [
    "import openpnm as op\n",
    "import matplotlib.pyplot as plt"
   ]
  },
  {
   "cell_type": "code",
   "execution_count": 2,
   "metadata": {
    "execution": {
     "iopub.execute_input": "2022-09-07T19:28:35.528415Z",
     "iopub.status.busy": "2022-09-07T19:28:35.527860Z",
     "iopub.status.idle": "2022-09-07T19:28:36.330760Z",
     "shell.execute_reply": "2022-09-07T19:28:36.329925Z"
    }
   },
   "outputs": [
    {
     "ename": "KeyError",
     "evalue": "'pore.coords'",
     "output_type": "error",
     "traceback": [
      "\u001b[0;31m---------------------------------------------------------------------------\u001b[0m",
      "\u001b[0;31mKeyError\u001b[0m                                  Traceback (most recent call last)",
      "File \u001b[0;32m~/work/OpenPNM/OpenPNM/openpnm/core/_base2.py:203\u001b[0m, in \u001b[0;36mBase2.__getitem__\u001b[0;34m(self, key)\u001b[0m\n\u001b[1;32m    202\u001b[0m \u001b[38;5;28;01mtry\u001b[39;00m:\n\u001b[0;32m--> 203\u001b[0m     \u001b[38;5;28;01mreturn\u001b[39;00m \u001b[38;5;28;43msuper\u001b[39;49m\u001b[43m(\u001b[49m\u001b[43m)\u001b[49m\u001b[38;5;241;43m.\u001b[39;49m\u001b[38;5;21;43m__getitem__\u001b[39;49m\u001b[43m(\u001b[49m\u001b[43mkey\u001b[49m\u001b[43m)\u001b[49m\n\u001b[1;32m    204\u001b[0m \u001b[38;5;28;01mexcept\u001b[39;00m \u001b[38;5;167;01mKeyError\u001b[39;00m:\n\u001b[1;32m    205\u001b[0m     \u001b[38;5;66;03m# If key is object's name or all, return ones\u001b[39;00m\n",
      "\u001b[0;31mKeyError\u001b[0m: 'pore.coords'",
      "\nDuring handling of the above exception, another exception occurred:\n",
      "\u001b[0;31mKeyError\u001b[0m                                  Traceback (most recent call last)",
      "Cell \u001b[0;32mIn [2], line 1\u001b[0m\n\u001b[0;32m----> 1\u001b[0m pn \u001b[38;5;241m=\u001b[39m \u001b[43mop\u001b[49m\u001b[38;5;241;43m.\u001b[39;49m\u001b[43mnetwork\u001b[49m\u001b[38;5;241;43m.\u001b[39;49m\u001b[43mDelaunayVoronoiDual\u001b[49m\u001b[43m(\u001b[49m\u001b[43mpoints\u001b[49m\u001b[38;5;241;43m=\u001b[39;49m\u001b[38;5;241;43m100\u001b[39;49m\u001b[43m,\u001b[49m\u001b[43m \u001b[49m\u001b[43mshape\u001b[49m\u001b[38;5;241;43m=\u001b[39;49m\u001b[43m[\u001b[49m\u001b[38;5;241;43m1\u001b[39;49m\u001b[43m,\u001b[49m\u001b[43m \u001b[49m\u001b[38;5;241;43m1\u001b[39;49m\u001b[43m,\u001b[49m\u001b[43m \u001b[49m\u001b[38;5;241;43m1\u001b[39;49m\u001b[43m]\u001b[49m\u001b[43m)\u001b[49m\n\u001b[1;32m      2\u001b[0m \u001b[38;5;28mprint\u001b[39m(pn)\n",
      "File \u001b[0;32m~/work/OpenPNM/OpenPNM/openpnm/network/_delaunay_voronoi_dual.py:62\u001b[0m, in \u001b[0;36mDelaunayVoronoiDual.__init__\u001b[0;34m(self, shape, points, trim, **kwargs)\u001b[0m\n\u001b[1;32m     60\u001b[0m \u001b[38;5;66;03m# Trim all pores that lie outside of the specified domain\u001b[39;00m\n\u001b[1;32m     61\u001b[0m \u001b[38;5;28;01mif\u001b[39;00m trim:\n\u001b[0;32m---> 62\u001b[0m     \u001b[38;5;28;43mself\u001b[39;49m\u001b[38;5;241;43m.\u001b[39;49m\u001b[43m_trim_external_pores\u001b[49m\u001b[43m(\u001b[49m\u001b[43mshape\u001b[49m\u001b[38;5;241;43m=\u001b[39;49m\u001b[43mshape\u001b[49m\u001b[43m)\u001b[49m\n\u001b[1;32m     63\u001b[0m     \u001b[38;5;28mself\u001b[39m\u001b[38;5;241m.\u001b[39m_label_faces()\n",
      "File \u001b[0;32m~/work/OpenPNM/OpenPNM/openpnm/network/_delaunay_voronoi_dual.py:80\u001b[0m, in \u001b[0;36mDelaunayVoronoiDual._trim_external_pores\u001b[0;34m(self, shape)\u001b[0m\n\u001b[1;32m     78\u001b[0m \u001b[38;5;28;01mdef\u001b[39;00m \u001b[38;5;21m_trim_external_pores\u001b[39m(\u001b[38;5;28mself\u001b[39m, shape):\n\u001b[1;32m     79\u001b[0m     \u001b[38;5;66;03m# Find all pores within the domain\u001b[39;00m\n\u001b[0;32m---> 80\u001b[0m     Ps \u001b[38;5;241m=\u001b[39m topotools\u001b[38;5;241m.\u001b[39misoutside(coords\u001b[38;5;241m=\u001b[39m\u001b[38;5;28;43mself\u001b[39;49m\u001b[43m[\u001b[49m\u001b[38;5;124;43m'\u001b[39;49m\u001b[38;5;124;43mpore.coords\u001b[39;49m\u001b[38;5;124;43m'\u001b[39;49m\u001b[43m]\u001b[49m, shape\u001b[38;5;241m=\u001b[39mshape)\n\u001b[1;32m     81\u001b[0m     \u001b[38;5;28mself\u001b[39m[\u001b[38;5;124m'\u001b[39m\u001b[38;5;124mpore.external\u001b[39m\u001b[38;5;124m'\u001b[39m] \u001b[38;5;241m=\u001b[39m \u001b[38;5;28;01mFalse\u001b[39;00m\n\u001b[1;32m     82\u001b[0m     \u001b[38;5;28mself\u001b[39m[\u001b[38;5;124m'\u001b[39m\u001b[38;5;124mpore.external\u001b[39m\u001b[38;5;124m'\u001b[39m][Ps] \u001b[38;5;241m=\u001b[39m \u001b[38;5;28;01mTrue\u001b[39;00m\n",
      "File \u001b[0;32m~/work/OpenPNM/OpenPNM/openpnm/core/_base2.py:219\u001b[0m, in \u001b[0;36mBase2.__getitem__\u001b[0;34m(self, key)\u001b[0m\n\u001b[1;32m    217\u001b[0m     \u001b[38;5;28;01mreturn\u001b[39;00m vals\n\u001b[1;32m    218\u001b[0m \u001b[38;5;28;01melse\u001b[39;00m:\n\u001b[0;32m--> 219\u001b[0m     \u001b[38;5;28;01mraise\u001b[39;00m \u001b[38;5;167;01mKeyError\u001b[39;00m(key)\n",
      "\u001b[0;31mKeyError\u001b[0m: 'pore.coords'"
     ]
    }
   ],
   "source": [
    "pn = op.network.DelaunayVoronoiDual(points=100, shape=[1, 1, 1])\n",
    "print(pn)"
   ]
  },
  {
   "cell_type": "markdown",
   "metadata": {},
   "source": [
    "The above line of code is deceptively simple.  The returned network (```pn```) contains a fully connected Delaunay network, its complementary Voronoi network, and interconnecting throats (or bonds) between each Delaunay pore (node) and its neighboring Voronoi pores.  Such a highly complex network would be useful for modeling pore phase transport (i.e. diffusion) on one network (i.e. Delaunay), solid phase transport (i.e. heat transfer) on the other network (i.e. Voronoi), and exchange of a species (i.e. heat) between the solid and void phases via the interconnecting bonds.  Each pore and throat is labelled accordingly (i.e. 'pore.delaunay', 'throat.voronoi'), and the interconnecting throats are labelled 'throat.interconnect'.  Moreover, pores and throats lying on the surface of the network are labelled 'surface'.  \n",
    "\n",
    "A quick visualization of this network can be accomplished using OpenPNM's built-in graphing tool.  The following shows only the Voronoi connections that lie on the surface of the cube:"
   ]
  },
  {
   "cell_type": "code",
   "execution_count": 3,
   "metadata": {
    "execution": {
     "iopub.execute_input": "2022-09-07T19:28:36.334566Z",
     "iopub.status.busy": "2022-09-07T19:28:36.333954Z",
     "iopub.status.idle": "2022-09-07T19:28:36.350990Z",
     "shell.execute_reply": "2022-09-07T19:28:36.350079Z"
    }
   },
   "outputs": [
    {
     "ename": "NameError",
     "evalue": "name 'pn' is not defined",
     "output_type": "error",
     "traceback": [
      "\u001b[0;31m---------------------------------------------------------------------------\u001b[0m",
      "\u001b[0;31mNameError\u001b[0m                                 Traceback (most recent call last)",
      "Cell \u001b[0;32mIn [3], line 1\u001b[0m\n\u001b[0;32m----> 1\u001b[0m Ts \u001b[38;5;241m=\u001b[39m \u001b[43mpn\u001b[49m\u001b[38;5;241m.\u001b[39mthroats([\u001b[38;5;124m'\u001b[39m\u001b[38;5;124mvoronoi\u001b[39m\u001b[38;5;124m'\u001b[39m, \u001b[38;5;124m'\u001b[39m\u001b[38;5;124mboundary\u001b[39m\u001b[38;5;124m'\u001b[39m], mode\u001b[38;5;241m=\u001b[39m\u001b[38;5;124m'\u001b[39m\u001b[38;5;124mand\u001b[39m\u001b[38;5;124m'\u001b[39m)\n\u001b[1;32m      2\u001b[0m op\u001b[38;5;241m.\u001b[39mtopotools\u001b[38;5;241m.\u001b[39mplot_connections(network\u001b[38;5;241m=\u001b[39mpn, throats\u001b[38;5;241m=\u001b[39mTs)\n",
      "\u001b[0;31mNameError\u001b[0m: name 'pn' is not defined"
     ]
    }
   ],
   "source": [
    "Ts = pn.throats(['voronoi', 'boundary'], mode='and')\n",
    "op.topotools.plot_connections(network=pn, throats=Ts)"
   ]
  },
  {
   "cell_type": "markdown",
   "metadata": {},
   "source": [
    "One central feature of these networks are the flat boundaries, which are essential when performing transport calculations since they provide well-defined control surfaces for calculating flux.  This flat surfaces are accomplished by reflecting the base points across each face prior to performing the tessellations.  "
   ]
  },
  {
   "cell_type": "markdown",
   "metadata": {},
   "source": [
    "Plotting the internal Voronoi throats with a different color gives a good idea of the topology:"
   ]
  },
  {
   "cell_type": "code",
   "execution_count": 4,
   "metadata": {
    "execution": {
     "iopub.execute_input": "2022-09-07T19:28:36.355218Z",
     "iopub.status.busy": "2022-09-07T19:28:36.354820Z",
     "iopub.status.idle": "2022-09-07T19:28:36.507988Z",
     "shell.execute_reply": "2022-09-07T19:28:36.507295Z"
    }
   },
   "outputs": [
    {
     "ename": "NameError",
     "evalue": "name 'pn' is not defined",
     "output_type": "error",
     "traceback": [
      "\u001b[0;31m---------------------------------------------------------------------------\u001b[0m",
      "\u001b[0;31mNameError\u001b[0m                                 Traceback (most recent call last)",
      "Cell \u001b[0;32mIn [4], line 2\u001b[0m\n\u001b[1;32m      1\u001b[0m fig, ax \u001b[38;5;241m=\u001b[39m plt\u001b[38;5;241m.\u001b[39msubplots()\n\u001b[0;32m----> 2\u001b[0m Ts \u001b[38;5;241m=\u001b[39m \u001b[43mpn\u001b[49m\u001b[38;5;241m.\u001b[39mthroats([\u001b[38;5;124m'\u001b[39m\u001b[38;5;124mvoronoi\u001b[39m\u001b[38;5;124m'\u001b[39m, \u001b[38;5;124m'\u001b[39m\u001b[38;5;124mboundary\u001b[39m\u001b[38;5;124m'\u001b[39m], mode\u001b[38;5;241m=\u001b[39m\u001b[38;5;124m'\u001b[39m\u001b[38;5;124mand\u001b[39m\u001b[38;5;124m'\u001b[39m)\n\u001b[1;32m      3\u001b[0m op\u001b[38;5;241m.\u001b[39mtopotools\u001b[38;5;241m.\u001b[39mplot_connections(network\u001b[38;5;241m=\u001b[39mpn, throats\u001b[38;5;241m=\u001b[39mTs, alpha\u001b[38;5;241m=\u001b[39m\u001b[38;5;241m0.5\u001b[39m, ax\u001b[38;5;241m=\u001b[39max)\n\u001b[1;32m      4\u001b[0m Ts \u001b[38;5;241m=\u001b[39m pn\u001b[38;5;241m.\u001b[39mthroats([\u001b[38;5;124m'\u001b[39m\u001b[38;5;124mvoronoi\u001b[39m\u001b[38;5;124m'\u001b[39m, \u001b[38;5;124m'\u001b[39m\u001b[38;5;124minternal\u001b[39m\u001b[38;5;124m'\u001b[39m], mode\u001b[38;5;241m=\u001b[39m\u001b[38;5;124m'\u001b[39m\u001b[38;5;124mand\u001b[39m\u001b[38;5;124m'\u001b[39m)\n",
      "\u001b[0;31mNameError\u001b[0m: name 'pn' is not defined"
     ]
    },
    {
     "data": {
      "image/png": "[encoded data removed]",
      "text/plain": [
       "<Figure size 640x480 with 1 Axes>"
      ]
     },
     "metadata": {},
     "output_type": "display_data"
    }
   ],
   "source": [
    "fig, ax = plt.subplots()\n",
    "Ts = pn.throats(['voronoi', 'boundary'], mode='and')\n",
    "op.topotools.plot_connections(network=pn, throats=Ts, alpha=0.5, ax=ax)\n",
    "Ts = pn.throats(['voronoi', 'internal'], mode='and')\n",
    "op.topotools.plot_connections(network=pn, throats=Ts, c='g', ax=ax)\n",
    "Ts = pn.throats(['voronoi', 'surface'], mode='and')\n",
    "op.topotools.plot_connections(network=pn, throats=Ts, c='r', ax=ax)"
   ]
  },
  {
   "cell_type": "markdown",
   "metadata": {},
   "source": [
    "The green lines are internal connections, and red lines are connections between internal notes and boundary nodes. "
   ]
  },
  {
   "cell_type": "markdown",
   "metadata": {},
   "source": [
    "## Delaunay Network\n",
    "\n",
    "As the name suggests, the VoronoiDelaunayDual contains both the Delaunay triangulation and the Voronoi tessellation within the same topology. It is simple to delete one network (or the other) by trimming all of the other network's pores, which also removes all connected throats including the interconnections:"
   ]
  },
  {
   "cell_type": "code",
   "execution_count": 5,
   "metadata": {
    "execution": {
     "iopub.execute_input": "2022-09-07T19:28:36.512596Z",
     "iopub.status.busy": "2022-09-07T19:28:36.511462Z",
     "iopub.status.idle": "2022-09-07T19:28:36.529182Z",
     "shell.execute_reply": "2022-09-07T19:28:36.528293Z"
    }
   },
   "outputs": [
    {
     "ename": "NameError",
     "evalue": "name 'pn' is not defined",
     "output_type": "error",
     "traceback": [
      "\u001b[0;31m---------------------------------------------------------------------------\u001b[0m",
      "\u001b[0;31mNameError\u001b[0m                                 Traceback (most recent call last)",
      "Cell \u001b[0;32mIn [5], line 1\u001b[0m\n\u001b[0;32m----> 1\u001b[0m Ps \u001b[38;5;241m=\u001b[39m \u001b[43mpn\u001b[49m\u001b[38;5;241m.\u001b[39mpores([\u001b[38;5;124m'\u001b[39m\u001b[38;5;124mvoronoi\u001b[39m\u001b[38;5;124m'\u001b[39m])\n\u001b[1;32m      2\u001b[0m op\u001b[38;5;241m.\u001b[39mtopotools\u001b[38;5;241m.\u001b[39mtrim(network\u001b[38;5;241m=\u001b[39mpn, pores\u001b[38;5;241m=\u001b[39mPs)\n\u001b[1;32m      3\u001b[0m Ts \u001b[38;5;241m=\u001b[39m pn\u001b[38;5;241m.\u001b[39mthroats([\u001b[38;5;124m'\u001b[39m\u001b[38;5;124msurface\u001b[39m\u001b[38;5;124m'\u001b[39m])\n",
      "\u001b[0;31mNameError\u001b[0m: name 'pn' is not defined"
     ]
    }
   ],
   "source": [
    "Ps = pn.pores(['voronoi'])\n",
    "op.topotools.trim(network=pn, pores=Ps)\n",
    "Ts = pn.throats(['surface'])\n",
    "op.topotools.trim(network=pn, throats=Ts)"
   ]
  },
  {
   "cell_type": "code",
   "execution_count": 6,
   "metadata": {
    "execution": {
     "iopub.execute_input": "2022-09-07T19:28:36.532538Z",
     "iopub.status.busy": "2022-09-07T19:28:36.532087Z",
     "iopub.status.idle": "2022-09-07T19:28:36.547558Z",
     "shell.execute_reply": "2022-09-07T19:28:36.546760Z"
    }
   },
   "outputs": [
    {
     "ename": "AttributeError",
     "evalue": "module 'openpnm.topotools' has no attribute 'plot_connections'",
     "output_type": "error",
     "traceback": [
      "\u001b[0;31m---------------------------------------------------------------------------\u001b[0m",
      "\u001b[0;31mAttributeError\u001b[0m                            Traceback (most recent call last)",
      "Cell \u001b[0;32mIn [6], line 2\u001b[0m\n\u001b[1;32m      1\u001b[0m \u001b[38;5;66;03m# NBVAL_IGNORE_OUTPUT\u001b[39;00m\n\u001b[0;32m----> 2\u001b[0m \u001b[43mop\u001b[49m\u001b[38;5;241;43m.\u001b[39;49m\u001b[43mtopotools\u001b[49m\u001b[38;5;241;43m.\u001b[39;49m\u001b[43mplot_connections\u001b[49m(network\u001b[38;5;241m=\u001b[39mpn)\n",
      "\u001b[0;31mAttributeError\u001b[0m: module 'openpnm.topotools' has no attribute 'plot_connections'"
     ]
    }
   ],
   "source": [
    "# NBVAL_IGNORE_OUTPUT\n",
    "op.topotools.plot_connections(network=pn)"
   ]
  },
  {
   "cell_type": "markdown",
   "metadata": {},
   "source": [
    "## Create Random Networks of Spherical or Cylindrical Shape\n",
    "\n",
    "Many porous materials come in spherical or cylindrical shapes, such as catalyst pellets.  The ```DelaunayVoronoiDual``` Network class can produce these geometries by specifying the ```domain_size``` in cylindrical [r, z] or spherical [r] coordinates:"
   ]
  },
  {
   "cell_type": "code",
   "execution_count": 7,
   "metadata": {
    "execution": {
     "iopub.execute_input": "2022-09-07T19:28:36.551073Z",
     "iopub.status.busy": "2022-09-07T19:28:36.550640Z",
     "iopub.status.idle": "2022-09-07T19:28:36.637995Z",
     "shell.execute_reply": "2022-09-07T19:28:36.636780Z"
    }
   },
   "outputs": [
    {
     "ename": "KeyError",
     "evalue": "'pore.coords'",
     "output_type": "error",
     "traceback": [
      "\u001b[0;31m---------------------------------------------------------------------------\u001b[0m",
      "\u001b[0;31mKeyError\u001b[0m                                  Traceback (most recent call last)",
      "File \u001b[0;32m~/work/OpenPNM/OpenPNM/openpnm/core/_base2.py:203\u001b[0m, in \u001b[0;36mBase2.__getitem__\u001b[0;34m(self, key)\u001b[0m\n\u001b[1;32m    202\u001b[0m \u001b[38;5;28;01mtry\u001b[39;00m:\n\u001b[0;32m--> 203\u001b[0m     \u001b[38;5;28;01mreturn\u001b[39;00m \u001b[38;5;28;43msuper\u001b[39;49m\u001b[43m(\u001b[49m\u001b[43m)\u001b[49m\u001b[38;5;241;43m.\u001b[39;49m\u001b[38;5;21;43m__getitem__\u001b[39;49m\u001b[43m(\u001b[49m\u001b[43mkey\u001b[49m\u001b[43m)\u001b[49m\n\u001b[1;32m    204\u001b[0m \u001b[38;5;28;01mexcept\u001b[39;00m \u001b[38;5;167;01mKeyError\u001b[39;00m:\n\u001b[1;32m    205\u001b[0m     \u001b[38;5;66;03m# If key is object's name or all, return ones\u001b[39;00m\n",
      "\u001b[0;31mKeyError\u001b[0m: 'pore.coords'",
      "\nDuring handling of the above exception, another exception occurred:\n",
      "\u001b[0;31mKeyError\u001b[0m                                  Traceback (most recent call last)",
      "Cell \u001b[0;32mIn [7], line 1\u001b[0m\n\u001b[0;32m----> 1\u001b[0m cyl \u001b[38;5;241m=\u001b[39m \u001b[43mop\u001b[49m\u001b[38;5;241;43m.\u001b[39;49m\u001b[43mnetwork\u001b[49m\u001b[38;5;241;43m.\u001b[39;49m\u001b[43mDelaunayVoronoiDual\u001b[49m\u001b[43m(\u001b[49m\u001b[43mpoints\u001b[49m\u001b[38;5;241;43m=\u001b[39;49m\u001b[38;5;241;43m200\u001b[39;49m\u001b[43m,\u001b[49m\u001b[43m \u001b[49m\u001b[43mshape\u001b[49m\u001b[38;5;241;43m=\u001b[39;49m\u001b[43m[\u001b[49m\u001b[38;5;241;43m2\u001b[39;49m\u001b[43m,\u001b[49m\u001b[43m \u001b[49m\u001b[38;5;241;43m5\u001b[39;49m\u001b[43m]\u001b[49m\u001b[43m)\u001b[49m\n\u001b[1;32m      2\u001b[0m op\u001b[38;5;241m.\u001b[39mtopotools\u001b[38;5;241m.\u001b[39mplot_connections(network \u001b[38;5;241m=\u001b[39m cyl, throats\u001b[38;5;241m=\u001b[39mcyl\u001b[38;5;241m.\u001b[39mthroats(\u001b[38;5;124m'\u001b[39m\u001b[38;5;124mboundary\u001b[39m\u001b[38;5;124m'\u001b[39m))\n",
      "File \u001b[0;32m~/work/OpenPNM/OpenPNM/openpnm/network/_delaunay_voronoi_dual.py:62\u001b[0m, in \u001b[0;36mDelaunayVoronoiDual.__init__\u001b[0;34m(self, shape, points, trim, **kwargs)\u001b[0m\n\u001b[1;32m     60\u001b[0m \u001b[38;5;66;03m# Trim all pores that lie outside of the specified domain\u001b[39;00m\n\u001b[1;32m     61\u001b[0m \u001b[38;5;28;01mif\u001b[39;00m trim:\n\u001b[0;32m---> 62\u001b[0m     \u001b[38;5;28;43mself\u001b[39;49m\u001b[38;5;241;43m.\u001b[39;49m\u001b[43m_trim_external_pores\u001b[49m\u001b[43m(\u001b[49m\u001b[43mshape\u001b[49m\u001b[38;5;241;43m=\u001b[39;49m\u001b[43mshape\u001b[49m\u001b[43m)\u001b[49m\n\u001b[1;32m     63\u001b[0m     \u001b[38;5;28mself\u001b[39m\u001b[38;5;241m.\u001b[39m_label_faces()\n",
      "File \u001b[0;32m~/work/OpenPNM/OpenPNM/openpnm/network/_delaunay_voronoi_dual.py:80\u001b[0m, in \u001b[0;36mDelaunayVoronoiDual._trim_external_pores\u001b[0;34m(self, shape)\u001b[0m\n\u001b[1;32m     78\u001b[0m \u001b[38;5;28;01mdef\u001b[39;00m \u001b[38;5;21m_trim_external_pores\u001b[39m(\u001b[38;5;28mself\u001b[39m, shape):\n\u001b[1;32m     79\u001b[0m     \u001b[38;5;66;03m# Find all pores within the domain\u001b[39;00m\n\u001b[0;32m---> 80\u001b[0m     Ps \u001b[38;5;241m=\u001b[39m topotools\u001b[38;5;241m.\u001b[39misoutside(coords\u001b[38;5;241m=\u001b[39m\u001b[38;5;28;43mself\u001b[39;49m\u001b[43m[\u001b[49m\u001b[38;5;124;43m'\u001b[39;49m\u001b[38;5;124;43mpore.coords\u001b[39;49m\u001b[38;5;124;43m'\u001b[39;49m\u001b[43m]\u001b[49m, shape\u001b[38;5;241m=\u001b[39mshape)\n\u001b[1;32m     81\u001b[0m     \u001b[38;5;28mself\u001b[39m[\u001b[38;5;124m'\u001b[39m\u001b[38;5;124mpore.external\u001b[39m\u001b[38;5;124m'\u001b[39m] \u001b[38;5;241m=\u001b[39m \u001b[38;5;28;01mFalse\u001b[39;00m\n\u001b[1;32m     82\u001b[0m     \u001b[38;5;28mself\u001b[39m[\u001b[38;5;124m'\u001b[39m\u001b[38;5;124mpore.external\u001b[39m\u001b[38;5;124m'\u001b[39m][Ps] \u001b[38;5;241m=\u001b[39m \u001b[38;5;28;01mTrue\u001b[39;00m\n",
      "File \u001b[0;32m~/work/OpenPNM/OpenPNM/openpnm/core/_base2.py:219\u001b[0m, in \u001b[0;36mBase2.__getitem__\u001b[0;34m(self, key)\u001b[0m\n\u001b[1;32m    217\u001b[0m     \u001b[38;5;28;01mreturn\u001b[39;00m vals\n\u001b[1;32m    218\u001b[0m \u001b[38;5;28;01melse\u001b[39;00m:\n\u001b[0;32m--> 219\u001b[0m     \u001b[38;5;28;01mraise\u001b[39;00m \u001b[38;5;167;01mKeyError\u001b[39;00m(key)\n",
      "\u001b[0;31mKeyError\u001b[0m: 'pore.coords'"
     ]
    }
   ],
   "source": [
    "cyl = op.network.DelaunayVoronoiDual(points=200, shape=[2, 5])\n",
    "op.topotools.plot_connections(network = cyl, throats=cyl.throats('boundary'))"
   ]
  },
  {
   "cell_type": "code",
   "execution_count": 8,
   "metadata": {
    "execution": {
     "iopub.execute_input": "2022-09-07T19:28:36.641415Z",
     "iopub.status.busy": "2022-09-07T19:28:36.641175Z",
     "iopub.status.idle": "2022-09-07T19:28:36.757236Z",
     "shell.execute_reply": "2022-09-07T19:28:36.756157Z"
    }
   },
   "outputs": [
    {
     "ename": "KeyError",
     "evalue": "'pore.coords'",
     "output_type": "error",
     "traceback": [
      "\u001b[0;31m---------------------------------------------------------------------------\u001b[0m",
      "\u001b[0;31mKeyError\u001b[0m                                  Traceback (most recent call last)",
      "File \u001b[0;32m~/work/OpenPNM/OpenPNM/openpnm/core/_base2.py:203\u001b[0m, in \u001b[0;36mBase2.__getitem__\u001b[0;34m(self, key)\u001b[0m\n\u001b[1;32m    202\u001b[0m \u001b[38;5;28;01mtry\u001b[39;00m:\n\u001b[0;32m--> 203\u001b[0m     \u001b[38;5;28;01mreturn\u001b[39;00m \u001b[38;5;28;43msuper\u001b[39;49m\u001b[43m(\u001b[49m\u001b[43m)\u001b[49m\u001b[38;5;241;43m.\u001b[39;49m\u001b[38;5;21;43m__getitem__\u001b[39;49m\u001b[43m(\u001b[49m\u001b[43mkey\u001b[49m\u001b[43m)\u001b[49m\n\u001b[1;32m    204\u001b[0m \u001b[38;5;28;01mexcept\u001b[39;00m \u001b[38;5;167;01mKeyError\u001b[39;00m:\n\u001b[1;32m    205\u001b[0m     \u001b[38;5;66;03m# If key is object's name or all, return ones\u001b[39;00m\n",
      "\u001b[0;31mKeyError\u001b[0m: 'pore.coords'",
      "\nDuring handling of the above exception, another exception occurred:\n",
      "\u001b[0;31mKeyError\u001b[0m                                  Traceback (most recent call last)",
      "Cell \u001b[0;32mIn [8], line 1\u001b[0m\n\u001b[0;32m----> 1\u001b[0m sph \u001b[38;5;241m=\u001b[39m \u001b[43mop\u001b[49m\u001b[38;5;241;43m.\u001b[39;49m\u001b[43mnetwork\u001b[49m\u001b[38;5;241;43m.\u001b[39;49m\u001b[43mDelaunayVoronoiDual\u001b[49m\u001b[43m(\u001b[49m\u001b[43mpoints\u001b[49m\u001b[38;5;241;43m=\u001b[39;49m\u001b[38;5;241;43m500\u001b[39;49m\u001b[43m,\u001b[49m\u001b[43m \u001b[49m\u001b[43mshape\u001b[49m\u001b[38;5;241;43m=\u001b[39;49m\u001b[43m[\u001b[49m\u001b[38;5;241;43m2\u001b[39;49m\u001b[43m]\u001b[49m\u001b[43m)\u001b[49m\n\u001b[1;32m      2\u001b[0m op\u001b[38;5;241m.\u001b[39mtopotools\u001b[38;5;241m.\u001b[39mplot_connections(network \u001b[38;5;241m=\u001b[39m sph, throats\u001b[38;5;241m=\u001b[39msph\u001b[38;5;241m.\u001b[39mthroats(\u001b[38;5;124m'\u001b[39m\u001b[38;5;124msurface\u001b[39m\u001b[38;5;124m'\u001b[39m))\n",
      "File \u001b[0;32m~/work/OpenPNM/OpenPNM/openpnm/network/_delaunay_voronoi_dual.py:62\u001b[0m, in \u001b[0;36mDelaunayVoronoiDual.__init__\u001b[0;34m(self, shape, points, trim, **kwargs)\u001b[0m\n\u001b[1;32m     60\u001b[0m \u001b[38;5;66;03m# Trim all pores that lie outside of the specified domain\u001b[39;00m\n\u001b[1;32m     61\u001b[0m \u001b[38;5;28;01mif\u001b[39;00m trim:\n\u001b[0;32m---> 62\u001b[0m     \u001b[38;5;28;43mself\u001b[39;49m\u001b[38;5;241;43m.\u001b[39;49m\u001b[43m_trim_external_pores\u001b[49m\u001b[43m(\u001b[49m\u001b[43mshape\u001b[49m\u001b[38;5;241;43m=\u001b[39;49m\u001b[43mshape\u001b[49m\u001b[43m)\u001b[49m\n\u001b[1;32m     63\u001b[0m     \u001b[38;5;28mself\u001b[39m\u001b[38;5;241m.\u001b[39m_label_faces()\n",
      "File \u001b[0;32m~/work/OpenPNM/OpenPNM/openpnm/network/_delaunay_voronoi_dual.py:80\u001b[0m, in \u001b[0;36mDelaunayVoronoiDual._trim_external_pores\u001b[0;34m(self, shape)\u001b[0m\n\u001b[1;32m     78\u001b[0m \u001b[38;5;28;01mdef\u001b[39;00m \u001b[38;5;21m_trim_external_pores\u001b[39m(\u001b[38;5;28mself\u001b[39m, shape):\n\u001b[1;32m     79\u001b[0m     \u001b[38;5;66;03m# Find all pores within the domain\u001b[39;00m\n\u001b[0;32m---> 80\u001b[0m     Ps \u001b[38;5;241m=\u001b[39m topotools\u001b[38;5;241m.\u001b[39misoutside(coords\u001b[38;5;241m=\u001b[39m\u001b[38;5;28;43mself\u001b[39;49m\u001b[43m[\u001b[49m\u001b[38;5;124;43m'\u001b[39;49m\u001b[38;5;124;43mpore.coords\u001b[39;49m\u001b[38;5;124;43m'\u001b[39;49m\u001b[43m]\u001b[49m, shape\u001b[38;5;241m=\u001b[39mshape)\n\u001b[1;32m     81\u001b[0m     \u001b[38;5;28mself\u001b[39m[\u001b[38;5;124m'\u001b[39m\u001b[38;5;124mpore.external\u001b[39m\u001b[38;5;124m'\u001b[39m] \u001b[38;5;241m=\u001b[39m \u001b[38;5;28;01mFalse\u001b[39;00m\n\u001b[1;32m     82\u001b[0m     \u001b[38;5;28mself\u001b[39m[\u001b[38;5;124m'\u001b[39m\u001b[38;5;124mpore.external\u001b[39m\u001b[38;5;124m'\u001b[39m][Ps] \u001b[38;5;241m=\u001b[39m \u001b[38;5;28;01mTrue\u001b[39;00m\n",
      "File \u001b[0;32m~/work/OpenPNM/OpenPNM/openpnm/core/_base2.py:219\u001b[0m, in \u001b[0;36mBase2.__getitem__\u001b[0;34m(self, key)\u001b[0m\n\u001b[1;32m    217\u001b[0m     \u001b[38;5;28;01mreturn\u001b[39;00m vals\n\u001b[1;32m    218\u001b[0m \u001b[38;5;28;01melse\u001b[39;00m:\n\u001b[0;32m--> 219\u001b[0m     \u001b[38;5;28;01mraise\u001b[39;00m \u001b[38;5;167;01mKeyError\u001b[39;00m(key)\n",
      "\u001b[0;31mKeyError\u001b[0m: 'pore.coords'"
     ]
    }
   ],
   "source": [
    "sph = op.network.DelaunayVoronoiDual(points=500, shape=[2])\n",
    "op.topotools.plot_connections(network = sph, throats=sph.throats('surface'))"
   ]
  },
  {
   "cell_type": "markdown",
   "metadata": {},
   "source": [
    "Note that the cylindrical and spherical networks don't look very nice when too few points are used, so at least about 200 is recommended.  "
   ]
  },
  {
   "cell_type": "markdown",
   "metadata": {},
   "source": [
    "## Assign Pore Sizes to the Random Network\n",
    "\n",
    "With pore centers randomly distributed in space it becomes challenging to know what pore size to assign to each location.  Assigning pores that are too large results in overlaps, which makes it impossible to properly account for porosity and transport lengths.  OpenPNM includes a Geometry model called ```largest_sphere``` that solves this problem.  Let's assign the largest possible pore size to each Voronoi node in the ```sph``` network just created:"
   ]
  },
  {
   "cell_type": "code",
   "execution_count": 9,
   "metadata": {
    "execution": {
     "iopub.execute_input": "2022-09-07T19:28:36.760983Z",
     "iopub.status.busy": "2022-09-07T19:28:36.760741Z",
     "iopub.status.idle": "2022-09-07T19:28:36.775889Z",
     "shell.execute_reply": "2022-09-07T19:28:36.775093Z"
    }
   },
   "outputs": [
    {
     "ename": "NameError",
     "evalue": "name 'sph' is not defined",
     "output_type": "error",
     "traceback": [
      "\u001b[0;31m---------------------------------------------------------------------------\u001b[0m",
      "\u001b[0;31mNameError\u001b[0m                                 Traceback (most recent call last)",
      "Cell \u001b[0;32mIn [9], line 1\u001b[0m\n\u001b[0;32m----> 1\u001b[0m Ps \u001b[38;5;241m=\u001b[39m \u001b[43msph\u001b[49m\u001b[38;5;241m.\u001b[39mpores(\u001b[38;5;124m'\u001b[39m\u001b[38;5;124mvoronoi\u001b[39m\u001b[38;5;124m'\u001b[39m)\n\u001b[1;32m      2\u001b[0m Ts \u001b[38;5;241m=\u001b[39m sph\u001b[38;5;241m.\u001b[39mthroats(\u001b[38;5;124m'\u001b[39m\u001b[38;5;124mvoronoi\u001b[39m\u001b[38;5;124m'\u001b[39m)\n\u001b[1;32m      3\u001b[0m geom \u001b[38;5;241m=\u001b[39m op\u001b[38;5;241m.\u001b[39mgeometry\u001b[38;5;241m.\u001b[39mGenericGeometry(network\u001b[38;5;241m=\u001b[39msph, pores\u001b[38;5;241m=\u001b[39mPs, throats\u001b[38;5;241m=\u001b[39mTs)\n",
      "\u001b[0;31mNameError\u001b[0m: name 'sph' is not defined"
     ]
    }
   ],
   "source": [
    "Ps = sph.pores('voronoi')\n",
    "Ts = sph.throats('voronoi')\n",
    "geom = op.geometry.GenericGeometry(network=sph, pores=Ps, throats=Ts)"
   ]
  },
  {
   "cell_type": "code",
   "execution_count": 10,
   "metadata": {
    "execution": {
     "iopub.execute_input": "2022-09-07T19:28:36.779721Z",
     "iopub.status.busy": "2022-09-07T19:28:36.779450Z",
     "iopub.status.idle": "2022-09-07T19:28:36.797295Z",
     "shell.execute_reply": "2022-09-07T19:28:36.796537Z"
    }
   },
   "outputs": [
    {
     "ename": "NameError",
     "evalue": "name 'geom' is not defined",
     "output_type": "error",
     "traceback": [
      "\u001b[0;31m---------------------------------------------------------------------------\u001b[0m",
      "\u001b[0;31mNameError\u001b[0m                                 Traceback (most recent call last)",
      "Cell \u001b[0;32mIn [10], line 2\u001b[0m\n\u001b[1;32m      1\u001b[0m mod \u001b[38;5;241m=\u001b[39m op\u001b[38;5;241m.\u001b[39mmodels\u001b[38;5;241m.\u001b[39mgeometry\u001b[38;5;241m.\u001b[39mpore_size\u001b[38;5;241m.\u001b[39mlargest_sphere\n\u001b[0;32m----> 2\u001b[0m \u001b[43mgeom\u001b[49m\u001b[38;5;241m.\u001b[39madd_model(propname\u001b[38;5;241m=\u001b[39m\u001b[38;5;124m'\u001b[39m\u001b[38;5;124mpore.diameter\u001b[39m\u001b[38;5;124m'\u001b[39m, model\u001b[38;5;241m=\u001b[39mmod)\n\u001b[1;32m      3\u001b[0m mod \u001b[38;5;241m=\u001b[39m op\u001b[38;5;241m.\u001b[39mmodels\u001b[38;5;241m.\u001b[39mgeometry\u001b[38;5;241m.\u001b[39mthroat_length\u001b[38;5;241m.\u001b[39mctc\n\u001b[1;32m      4\u001b[0m geom\u001b[38;5;241m.\u001b[39madd_model(propname\u001b[38;5;241m=\u001b[39m\u001b[38;5;124m'\u001b[39m\u001b[38;5;124mthroat.length\u001b[39m\u001b[38;5;124m'\u001b[39m, model\u001b[38;5;241m=\u001b[39mmod)\n",
      "\u001b[0;31mNameError\u001b[0m: name 'geom' is not defined"
     ]
    }
   ],
   "source": [
    "mod = op.models.geometry.pore_size.largest_sphere\n",
    "geom.add_model(propname='pore.diameter', model=mod)\n",
    "mod = op.models.geometry.throat_length.ctc\n",
    "geom.add_model(propname='throat.length', model=mod)\n",
    "mod = op.models.geometry.throat_size.from_neighbor_pores\n",
    "geom.add_model(propname='throat.diameter', model=mod)\n",
    "geom.show_hist(['pore.diameter', 'throat.length', 'throat.diameter'])"
   ]
  },
  {
   "cell_type": "markdown",
   "metadata": {},
   "source": [
    "The resulting geometrical properties can be viewed with ```geom.plot_histograms()``` (note that each realization will differ slightly):"
   ]
  }
 ],
 "metadata": {
  "kernelspec": {
   "display_name": "Python 3",
   "language": "python",
   "name": "python3"
  },
  "language_info": {
   "codemirror_mode": {
    "name": "ipython",
    "version": 3
   },
   "file_extension": ".py",
   "mimetype": "text/x-python",
   "name": "python",
   "nbconvert_exporter": "python",
   "pygments_lexer": "ipython3",
   "version": "3.8.13"
  }
 },
 "nbformat": 4,
 "nbformat_minor": 4
}
