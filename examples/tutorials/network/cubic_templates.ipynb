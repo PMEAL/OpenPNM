{
 "cells": [
  {
   "cell_type": "markdown",
   "metadata": {},
   "source": [
    "# Cubic Template\n",
    "## Generate a Cubic Lattice based on an Arbitrary Shape\n",
    "\n",
    "The CubicLattice class takes a boolean array (i.e. an image) as input and trims all pores where the image is ``False``.  This allows for the creation of networks with arbitrary external shapes, such as spheres.\n",
    "\n",
    "As usual start by importing Scipy and OpenPNM:"
   ]
  },
  {
   "cell_type": "code",
   "execution_count": 1,
   "metadata": {
    "execution": {
     "iopub.execute_input": "2022-09-07T19:28:12.598886Z",
     "iopub.status.busy": "2022-09-07T19:28:12.598168Z",
     "iopub.status.idle": "2022-09-07T19:28:14.330556Z",
     "shell.execute_reply": "2022-09-07T19:28:14.329604Z"
    }
   },
   "outputs": [],
   "source": [
    "import scipy as sp\n",
    "import numpy as np\n",
    "import openpnm as op\n",
    "%config InlineBackend.figure_formats = ['svg']\n",
    "import matplotlib.pyplot as plt\n",
    "%matplotlib inline\n",
    "np.random.seed(10)\n",
    "wrk = op.Workspace()  # Initialize a workspace object\n",
    "wrk.settings['loglevel'] = 50"
   ]
  },
  {
   "cell_type": "markdown",
   "metadata": {},
   "source": [
    "First Let's create an image of an annulus.  There are two helper methods in the ``topotools`` module for creating templates of spheres and cylinders, which are common options."
   ]
  },
  {
   "cell_type": "code",
   "execution_count": 2,
   "metadata": {
    "execution": {
     "iopub.execute_input": "2022-09-07T19:28:14.335470Z",
     "iopub.status.busy": "2022-09-07T19:28:14.334486Z",
     "iopub.status.idle": "2022-09-07T19:28:14.871546Z",
     "shell.execute_reply": "2022-09-07T19:28:14.870742Z"
    }
   },
   "outputs": [
    {
     "ename": "TypeError",
     "evalue": "template_cylinder_annulus() takes 0 positional arguments but 3 were given",
     "output_type": "error",
     "traceback": [
      "\u001b[0;31m---------------------------------------------------------------------------\u001b[0m",
      "\u001b[0;31mTypeError\u001b[0m                                 Traceback (most recent call last)",
      "Cell \u001b[0;32mIn [2], line 1\u001b[0m\n\u001b[0;32m----> 1\u001b[0m im \u001b[38;5;241m=\u001b[39m \u001b[43mop\u001b[49m\u001b[38;5;241;43m.\u001b[39;49m\u001b[43mtopotools\u001b[49m\u001b[38;5;241;43m.\u001b[39;49m\u001b[43mtemplate_cylinder_annulus\u001b[49m\u001b[43m(\u001b[49m\u001b[38;5;241;43m10\u001b[39;49m\u001b[43m,\u001b[49m\u001b[43m \u001b[49m\u001b[38;5;241;43m8\u001b[39;49m\u001b[43m,\u001b[49m\u001b[43m \u001b[49m\u001b[38;5;241;43m4\u001b[39;49m\u001b[43m)\u001b[49m\n\u001b[1;32m      2\u001b[0m net \u001b[38;5;241m=\u001b[39m op\u001b[38;5;241m.\u001b[39mnetwork\u001b[38;5;241m.\u001b[39mCubicTemplate(im)\n",
      "\u001b[0;31mTypeError\u001b[0m: template_cylinder_annulus() takes 0 positional arguments but 3 were given"
     ]
    }
   ],
   "source": [
    "im = op.topotools.template_cylinder_annulus(10, 8, 4)\n",
    "net = op.network.CubicTemplate(im)"
   ]
  },
  {
   "cell_type": "code",
   "execution_count": 3,
   "metadata": {
    "execution": {
     "iopub.execute_input": "2022-09-07T19:28:14.875165Z",
     "iopub.status.busy": "2022-09-07T19:28:14.874922Z",
     "iopub.status.idle": "2022-09-07T19:28:14.889595Z",
     "shell.execute_reply": "2022-09-07T19:28:14.888735Z"
    }
   },
   "outputs": [
    {
     "ename": "AttributeError",
     "evalue": "module 'openpnm.topotools' has no attribute 'plot_connections'",
     "output_type": "error",
     "traceback": [
      "\u001b[0;31m---------------------------------------------------------------------------\u001b[0m",
      "\u001b[0;31mAttributeError\u001b[0m                            Traceback (most recent call last)",
      "Cell \u001b[0;32mIn [3], line 1\u001b[0m\n\u001b[0;32m----> 1\u001b[0m fig \u001b[38;5;241m=\u001b[39m \u001b[43mop\u001b[49m\u001b[38;5;241;43m.\u001b[39;49m\u001b[43mtopotools\u001b[49m\u001b[38;5;241;43m.\u001b[39;49m\u001b[43mplot_connections\u001b[49m(net)\n",
      "\u001b[0;31mAttributeError\u001b[0m: module 'openpnm.topotools' has no attribute 'plot_connections'"
     ]
    }
   ],
   "source": [
    "fig = op.topotools.plot_connections(net)"
   ]
  },
  {
   "cell_type": "markdown",
   "metadata": {},
   "source": [
    "Of course you can create any shape that you desire, just be definining your own template:"
   ]
  },
  {
   "cell_type": "code",
   "execution_count": 4,
   "metadata": {
    "execution": {
     "iopub.execute_input": "2022-09-07T19:28:14.892738Z",
     "iopub.status.busy": "2022-09-07T19:28:14.892501Z",
     "iopub.status.idle": "2022-09-07T19:28:14.911456Z",
     "shell.execute_reply": "2022-09-07T19:28:14.910455Z"
    }
   },
   "outputs": [],
   "source": [
    "im = np.random.rand(40, 40, 1) > 0.3\n",
    "net = op.network.CubicTemplate(im)"
   ]
  },
  {
   "cell_type": "code",
   "execution_count": 5,
   "metadata": {
    "execution": {
     "iopub.execute_input": "2022-09-07T19:28:14.914465Z",
     "iopub.status.busy": "2022-09-07T19:28:14.914227Z",
     "iopub.status.idle": "2022-09-07T19:28:14.928627Z",
     "shell.execute_reply": "2022-09-07T19:28:14.927762Z"
    }
   },
   "outputs": [
    {
     "ename": "AttributeError",
     "evalue": "module 'openpnm.topotools' has no attribute 'plot_connections'",
     "output_type": "error",
     "traceback": [
      "\u001b[0;31m---------------------------------------------------------------------------\u001b[0m",
      "\u001b[0;31mAttributeError\u001b[0m                            Traceback (most recent call last)",
      "Cell \u001b[0;32mIn [5], line 1\u001b[0m\n\u001b[0;32m----> 1\u001b[0m fig \u001b[38;5;241m=\u001b[39m \u001b[43mop\u001b[49m\u001b[38;5;241;43m.\u001b[39;49m\u001b[43mtopotools\u001b[49m\u001b[38;5;241;43m.\u001b[39;49m\u001b[43mplot_connections\u001b[49m(net)\n",
      "\u001b[0;31mAttributeError\u001b[0m: module 'openpnm.topotools' has no attribute 'plot_connections'"
     ]
    }
   ],
   "source": [
    "fig = op.topotools.plot_connections(net)"
   ]
  },
  {
   "cell_type": "markdown",
   "metadata": {},
   "source": [
    "In the above image you can see that some pores are isolated from the main network, which is very problematic for transport simulations (i.e. singular matrices).  You can check the network health, and trim the suggested pores as follows:"
   ]
  },
  {
   "cell_type": "code",
   "execution_count": 6,
   "metadata": {
    "execution": {
     "iopub.execute_input": "2022-09-07T19:28:14.932534Z",
     "iopub.status.busy": "2022-09-07T19:28:14.932299Z",
     "iopub.status.idle": "2022-09-07T19:28:14.946943Z",
     "shell.execute_reply": "2022-09-07T19:28:14.945956Z"
    }
   },
   "outputs": [
    {
     "ename": "AttributeError",
     "evalue": "'CubicTemplate' object has no attribute 'check_network_health'",
     "output_type": "error",
     "traceback": [
      "\u001b[0;31m---------------------------------------------------------------------------\u001b[0m",
      "\u001b[0;31mAttributeError\u001b[0m                            Traceback (most recent call last)",
      "Cell \u001b[0;32mIn [6], line 1\u001b[0m\n\u001b[0;32m----> 1\u001b[0m h \u001b[38;5;241m=\u001b[39m \u001b[43mnet\u001b[49m\u001b[38;5;241;43m.\u001b[39;49m\u001b[43mcheck_network_health\u001b[49m()\n\u001b[1;32m      2\u001b[0m \u001b[38;5;28mprint\u001b[39m(h)\n",
      "\u001b[0;31mAttributeError\u001b[0m: 'CubicTemplate' object has no attribute 'check_network_health'"
     ]
    }
   ],
   "source": [
    "h = net.check_network_health()\n",
    "print(h)"
   ]
  },
  {
   "cell_type": "code",
   "execution_count": 7,
   "metadata": {
    "execution": {
     "iopub.execute_input": "2022-09-07T19:28:14.950698Z",
     "iopub.status.busy": "2022-09-07T19:28:14.950436Z",
     "iopub.status.idle": "2022-09-07T19:28:14.965915Z",
     "shell.execute_reply": "2022-09-07T19:28:14.965090Z"
    }
   },
   "outputs": [
    {
     "ename": "NameError",
     "evalue": "name 'h' is not defined",
     "output_type": "error",
     "traceback": [
      "\u001b[0;31m---------------------------------------------------------------------------\u001b[0m",
      "\u001b[0;31mNameError\u001b[0m                                 Traceback (most recent call last)",
      "Cell \u001b[0;32mIn [7], line 1\u001b[0m\n\u001b[0;32m----> 1\u001b[0m op\u001b[38;5;241m.\u001b[39mtopotools\u001b[38;5;241m.\u001b[39mtrim(network\u001b[38;5;241m=\u001b[39mnet, pores\u001b[38;5;241m=\u001b[39m\u001b[43mh\u001b[49m[\u001b[38;5;124m'\u001b[39m\u001b[38;5;124mtrim_pores\u001b[39m\u001b[38;5;124m'\u001b[39m])\n",
      "\u001b[0;31mNameError\u001b[0m: name 'h' is not defined"
     ]
    }
   ],
   "source": [
    "op.topotools.trim(network=net, pores=h['trim_pores'])"
   ]
  },
  {
   "cell_type": "code",
   "execution_count": 8,
   "metadata": {
    "execution": {
     "iopub.execute_input": "2022-09-07T19:28:14.969508Z",
     "iopub.status.busy": "2022-09-07T19:28:14.969229Z",
     "iopub.status.idle": "2022-09-07T19:28:14.983911Z",
     "shell.execute_reply": "2022-09-07T19:28:14.982944Z"
    }
   },
   "outputs": [
    {
     "ename": "AttributeError",
     "evalue": "module 'openpnm.topotools' has no attribute 'plot_connections'",
     "output_type": "error",
     "traceback": [
      "\u001b[0;31m---------------------------------------------------------------------------\u001b[0m",
      "\u001b[0;31mAttributeError\u001b[0m                            Traceback (most recent call last)",
      "Cell \u001b[0;32mIn [8], line 1\u001b[0m\n\u001b[0;32m----> 1\u001b[0m fig \u001b[38;5;241m=\u001b[39m \u001b[43mop\u001b[49m\u001b[38;5;241;43m.\u001b[39;49m\u001b[43mtopotools\u001b[49m\u001b[38;5;241;43m.\u001b[39;49m\u001b[43mplot_connections\u001b[49m(net)\n",
      "\u001b[0;31mAttributeError\u001b[0m: module 'openpnm.topotools' has no attribute 'plot_connections'"
     ]
    }
   ],
   "source": [
    "fig = op.topotools.plot_connections(net)"
   ]
  }
 ],
 "metadata": {
  "@webio": {
   "lastCommId": null,
   "lastKernelId": null
  },
  "kernelspec": {
   "display_name": "Python 3",
   "language": "python",
   "name": "python3"
  },
  "language_info": {
   "codemirror_mode": {
    "name": "ipython",
    "version": 3
   },
   "file_extension": ".py",
   "mimetype": "text/x-python",
   "name": "python",
   "nbconvert_exporter": "python",
   "pygments_lexer": "ipython3",
   "version": "3.8.13"
  }
 },
 "nbformat": 4,
 "nbformat_minor": 2
}
