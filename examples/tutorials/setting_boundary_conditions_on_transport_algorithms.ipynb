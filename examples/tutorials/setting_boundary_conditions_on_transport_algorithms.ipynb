{
 "cells": [
  {
   "cell_type": "markdown",
   "id": "1b0a8ad3",
   "metadata": {},
   "source": [
    "# Adding, Removing, and Changing Boundary Conditions"
   ]
  },
  {
   "cell_type": "code",
   "execution_count": 1,
   "id": "8afe5565",
   "metadata": {
    "execution": {
     "iopub.execute_input": "2022-09-07T19:28:51.184432Z",
     "iopub.status.busy": "2022-09-07T19:28:51.184078Z",
     "iopub.status.idle": "2022-09-07T19:28:52.926145Z",
     "shell.execute_reply": "2022-09-07T19:28:52.925074Z"
    }
   },
   "outputs": [],
   "source": [
    "import openpnm as op\n",
    "import numpy as np"
   ]
  },
  {
   "cell_type": "markdown",
   "id": "93487911",
   "metadata": {},
   "source": [
    "Start by creating a basic 'demo' network and phase object:"
   ]
  },
  {
   "cell_type": "code",
   "execution_count": 2,
   "id": "37838c7b",
   "metadata": {
    "execution": {
     "iopub.execute_input": "2022-09-07T19:28:52.930763Z",
     "iopub.status.busy": "2022-09-07T19:28:52.930204Z",
     "iopub.status.idle": "2022-09-07T19:28:53.589664Z",
     "shell.execute_reply": "2022-09-07T19:28:53.588727Z"
    }
   },
   "outputs": [
    {
     "ename": "ModuleNotFoundError",
     "evalue": "No module named 'thermo'",
     "output_type": "error",
     "traceback": [
      "\u001b[0;31m---------------------------------------------------------------------------\u001b[0m",
      "\u001b[0;31mModuleNotFoundError\u001b[0m                       Traceback (most recent call last)",
      "Cell \u001b[0;32mIn [2], line 2\u001b[0m\n\u001b[1;32m      1\u001b[0m pn \u001b[38;5;241m=\u001b[39m op\u001b[38;5;241m.\u001b[39mnetwork\u001b[38;5;241m.\u001b[39mDemo(shape\u001b[38;5;241m=\u001b[39m[\u001b[38;5;241m4\u001b[39m, \u001b[38;5;241m4\u001b[39m, \u001b[38;5;241m1\u001b[39m])\n\u001b[0;32m----> 2\u001b[0m water \u001b[38;5;241m=\u001b[39m \u001b[43mop\u001b[49m\u001b[38;5;241;43m.\u001b[39;49m\u001b[43mphase\u001b[49m\u001b[38;5;241;43m.\u001b[39;49m\u001b[43mWater\u001b[49m\u001b[43m(\u001b[49m\u001b[43mnetwork\u001b[49m\u001b[38;5;241;43m=\u001b[39;49m\u001b[43mpn\u001b[49m\u001b[43m)\u001b[49m\n\u001b[1;32m      3\u001b[0m water\u001b[38;5;241m.\u001b[39madd_model_collection(op\u001b[38;5;241m.\u001b[39mmodels\u001b[38;5;241m.\u001b[39mcollections\u001b[38;5;241m.\u001b[39mphysics\u001b[38;5;241m.\u001b[39mstandard)\n\u001b[1;32m      4\u001b[0m water\u001b[38;5;241m.\u001b[39mregenerate_models()\n",
      "File \u001b[0;32m~/work/OpenPNM/OpenPNM/openpnm/phase/_water.py:27\u001b[0m, in \u001b[0;36mWater.__init__\u001b[0;34m(self, **kwargs)\u001b[0m\n\u001b[1;32m     25\u001b[0m \u001b[38;5;28;01mdef\u001b[39;00m \u001b[38;5;21m__init__\u001b[39m(\u001b[38;5;28mself\u001b[39m, \u001b[38;5;241m*\u001b[39m\u001b[38;5;241m*\u001b[39mkwargs):\n\u001b[1;32m     26\u001b[0m     \u001b[38;5;28msuper\u001b[39m()\u001b[38;5;241m.\u001b[39m\u001b[38;5;21m__init__\u001b[39m(\u001b[38;5;241m*\u001b[39m\u001b[38;5;241m*\u001b[39mkwargs)\n\u001b[0;32m---> 27\u001b[0m     \u001b[38;5;28;01mfrom\u001b[39;00m \u001b[38;5;21;01mthermo\u001b[39;00m \u001b[38;5;28;01mimport\u001b[39;00m Chemical\n\u001b[1;32m     28\u001b[0m     a \u001b[38;5;241m=\u001b[39m Chemical(\u001b[38;5;124m'\u001b[39m\u001b[38;5;124mh2o\u001b[39m\u001b[38;5;124m'\u001b[39m)\n\u001b[1;32m     29\u001b[0m     temp \u001b[38;5;241m=\u001b[39m _fetch_chemical_props(a)\n",
      "\u001b[0;31mModuleNotFoundError\u001b[0m: No module named 'thermo'"
     ]
    }
   ],
   "source": [
    "pn = op.network.Demo(shape=[4, 4, 1])\n",
    "water = op.phase.Water(network=pn)\n",
    "water.add_model_collection(op.models.collections.physics.standard)\n",
    "water.regenerate_models()"
   ]
  },
  {
   "cell_type": "markdown",
   "id": "24d493cc",
   "metadata": {},
   "source": [
    "## Initialize a Transport Algorithm\n",
    "Now initialize a transport algorithm, in this case diffusion:"
   ]
  },
  {
   "cell_type": "code",
   "execution_count": 3,
   "id": "d97d6340",
   "metadata": {
    "execution": {
     "iopub.execute_input": "2022-09-07T19:28:53.593484Z",
     "iopub.status.busy": "2022-09-07T19:28:53.593067Z",
     "iopub.status.idle": "2022-09-07T19:28:53.609166Z",
     "shell.execute_reply": "2022-09-07T19:28:53.608218Z"
    }
   },
   "outputs": [
    {
     "ename": "NameError",
     "evalue": "name 'water' is not defined",
     "output_type": "error",
     "traceback": [
      "\u001b[0;31m---------------------------------------------------------------------------\u001b[0m",
      "\u001b[0;31mNameError\u001b[0m                                 Traceback (most recent call last)",
      "Cell \u001b[0;32mIn [3], line 1\u001b[0m\n\u001b[0;32m----> 1\u001b[0m fd \u001b[38;5;241m=\u001b[39m op\u001b[38;5;241m.\u001b[39malgorithms\u001b[38;5;241m.\u001b[39mFickianDiffusion(network\u001b[38;5;241m=\u001b[39mpn, phase\u001b[38;5;241m=\u001b[39m\u001b[43mwater\u001b[49m)\n",
      "\u001b[0;31mNameError\u001b[0m: name 'water' is not defined"
     ]
    }
   ],
   "source": [
    "fd = op.algorithms.FickianDiffusion(network=pn, phase=water)"
   ]
  },
  {
   "cell_type": "markdown",
   "id": "795420da",
   "metadata": {},
   "source": [
    "All transport algorithms have two arrays pre-defined on them for storing **rate** and **value** boundary conditions, ``'pore.bc.rate'`` and ``'pore.bc.value'``. They both initially contain all ``nans`` which is interpreted to mean no boundary conditions are applied in the corresponding pores. "
   ]
  },
  {
   "cell_type": "code",
   "execution_count": 4,
   "id": "91d0cf2b",
   "metadata": {
    "execution": {
     "iopub.execute_input": "2022-09-07T19:28:53.612818Z",
     "iopub.status.busy": "2022-09-07T19:28:53.612553Z",
     "iopub.status.idle": "2022-09-07T19:28:53.627704Z",
     "shell.execute_reply": "2022-09-07T19:28:53.626834Z"
    }
   },
   "outputs": [
    {
     "ename": "NameError",
     "evalue": "name 'fd' is not defined",
     "output_type": "error",
     "traceback": [
      "\u001b[0;31m---------------------------------------------------------------------------\u001b[0m",
      "\u001b[0;31mNameError\u001b[0m                                 Traceback (most recent call last)",
      "Cell \u001b[0;32mIn [4], line 1\u001b[0m\n\u001b[0;32m----> 1\u001b[0m \u001b[38;5;28mprint\u001b[39m(\u001b[43mfd\u001b[49m[\u001b[38;5;124m'\u001b[39m\u001b[38;5;124mpore.bc.value\u001b[39m\u001b[38;5;124m'\u001b[39m])\n",
      "\u001b[0;31mNameError\u001b[0m: name 'fd' is not defined"
     ]
    }
   ],
   "source": [
    "print(fd['pore.bc.value'])"
   ]
  },
  {
   "cell_type": "code",
   "execution_count": 5,
   "id": "aed6b116",
   "metadata": {
    "execution": {
     "iopub.execute_input": "2022-09-07T19:28:53.631035Z",
     "iopub.status.busy": "2022-09-07T19:28:53.630603Z",
     "iopub.status.idle": "2022-09-07T19:28:53.644971Z",
     "shell.execute_reply": "2022-09-07T19:28:53.644213Z"
    }
   },
   "outputs": [
    {
     "ename": "NameError",
     "evalue": "name 'fd' is not defined",
     "output_type": "error",
     "traceback": [
      "\u001b[0;31m---------------------------------------------------------------------------\u001b[0m",
      "\u001b[0;31mNameError\u001b[0m                                 Traceback (most recent call last)",
      "Cell \u001b[0;32mIn [5], line 1\u001b[0m\n\u001b[0;32m----> 1\u001b[0m \u001b[38;5;28mprint\u001b[39m(\u001b[43mfd\u001b[49m[\u001b[38;5;124m'\u001b[39m\u001b[38;5;124mpore.bc.rate\u001b[39m\u001b[38;5;124m'\u001b[39m])\n",
      "\u001b[0;31mNameError\u001b[0m: name 'fd' is not defined"
     ]
    }
   ],
   "source": [
    "print(fd['pore.bc.rate'])"
   ]
  },
  {
   "cell_type": "markdown",
   "id": "86903e88",
   "metadata": {},
   "source": [
    "**Pro Tip**: Omitting the trailing part of a dictionary key will result in the return of a sub-dictionary containing any arrays who have the requested prefix. This can be used to fetch a dictionary containing all available boundary conditions using ``fd['pore.bc']`` as follows:"
   ]
  },
  {
   "cell_type": "code",
   "execution_count": 6,
   "id": "b4b5032e",
   "metadata": {
    "execution": {
     "iopub.execute_input": "2022-09-07T19:28:53.648734Z",
     "iopub.status.busy": "2022-09-07T19:28:53.648473Z",
     "iopub.status.idle": "2022-09-07T19:28:53.662738Z",
     "shell.execute_reply": "2022-09-07T19:28:53.661966Z"
    }
   },
   "outputs": [
    {
     "ename": "NameError",
     "evalue": "name 'fd' is not defined",
     "output_type": "error",
     "traceback": [
      "\u001b[0;31m---------------------------------------------------------------------------\u001b[0m",
      "\u001b[0;31mNameError\u001b[0m                                 Traceback (most recent call last)",
      "Cell \u001b[0;32mIn [6], line 1\u001b[0m\n\u001b[0;32m----> 1\u001b[0m \u001b[38;5;28mprint\u001b[39m(\u001b[43mfd\u001b[49m[\u001b[38;5;124m'\u001b[39m\u001b[38;5;124mpore.bc\u001b[39m\u001b[38;5;124m'\u001b[39m]\u001b[38;5;241m.\u001b[39mkeys())\n",
      "\u001b[0;31mNameError\u001b[0m: name 'fd' is not defined"
     ]
    }
   ],
   "source": [
    "print(fd['pore.bc'].keys())"
   ]
  },
  {
   "cell_type": "markdown",
   "id": "91a1717d",
   "metadata": {},
   "source": [
    "## Setting Value Boundary Conditions\n",
    "\n",
    "We can apply 'value' or 'Dirchlet' boundary conditions to the pores on the 'left' side of the domain, which is conveniently already labelled by the network generator.  We can assign a value of 1.0 to *all* the pores by passing in a scalar:"
   ]
  },
  {
   "cell_type": "code",
   "execution_count": 7,
   "id": "e4dbe604",
   "metadata": {
    "execution": {
     "iopub.execute_input": "2022-09-07T19:28:53.666169Z",
     "iopub.status.busy": "2022-09-07T19:28:53.665807Z",
     "iopub.status.idle": "2022-09-07T19:28:53.680718Z",
     "shell.execute_reply": "2022-09-07T19:28:53.679911Z"
    }
   },
   "outputs": [
    {
     "ename": "NameError",
     "evalue": "name 'fd' is not defined",
     "output_type": "error",
     "traceback": [
      "\u001b[0;31m---------------------------------------------------------------------------\u001b[0m",
      "\u001b[0;31mNameError\u001b[0m                                 Traceback (most recent call last)",
      "Cell \u001b[0;32mIn [7], line 1\u001b[0m\n\u001b[0;32m----> 1\u001b[0m \u001b[43mfd\u001b[49m\u001b[38;5;241m.\u001b[39mset_value_BC(pores\u001b[38;5;241m=\u001b[39mpn\u001b[38;5;241m.\u001b[39mpores(\u001b[38;5;124m'\u001b[39m\u001b[38;5;124mleft\u001b[39m\u001b[38;5;124m'\u001b[39m), values\u001b[38;5;241m=\u001b[39m\u001b[38;5;241m1.0\u001b[39m, mode\u001b[38;5;241m=\u001b[39m\u001b[38;5;124m'\u001b[39m\u001b[38;5;124madd\u001b[39m\u001b[38;5;124m'\u001b[39m)\n",
      "\u001b[0;31mNameError\u001b[0m: name 'fd' is not defined"
     ]
    }
   ],
   "source": [
    "fd.set_value_BC(pores=pn.pores('left'), values=1.0, mode='add')"
   ]
  },
  {
   "cell_type": "markdown",
   "id": "50c8f299",
   "metadata": {},
   "source": [
    "Now when we inspect the 'pore.bc.value' array we can see the 1.0 added to the specified locations:"
   ]
  },
  {
   "cell_type": "code",
   "execution_count": 8,
   "id": "d2598643",
   "metadata": {
    "execution": {
     "iopub.execute_input": "2022-09-07T19:28:53.684075Z",
     "iopub.status.busy": "2022-09-07T19:28:53.683760Z",
     "iopub.status.idle": "2022-09-07T19:28:53.697376Z",
     "shell.execute_reply": "2022-09-07T19:28:53.696557Z"
    }
   },
   "outputs": [
    {
     "ename": "NameError",
     "evalue": "name 'fd' is not defined",
     "output_type": "error",
     "traceback": [
      "\u001b[0;31m---------------------------------------------------------------------------\u001b[0m",
      "\u001b[0;31mNameError\u001b[0m                                 Traceback (most recent call last)",
      "Cell \u001b[0;32mIn [8], line 1\u001b[0m\n\u001b[0;32m----> 1\u001b[0m \u001b[38;5;28mprint\u001b[39m(\u001b[43mfd\u001b[49m[\u001b[38;5;124m'\u001b[39m\u001b[38;5;124mpore.bc.value\u001b[39m\u001b[38;5;124m'\u001b[39m])\n",
      "\u001b[0;31mNameError\u001b[0m: name 'fd' is not defined"
     ]
    }
   ],
   "source": [
    "print(fd['pore.bc.value'])"
   ]
  },
  {
   "cell_type": "markdown",
   "id": "4caa738b",
   "metadata": {},
   "source": [
    "We can also specify a unique value for each pore by passing in an array:"
   ]
  },
  {
   "cell_type": "code",
   "execution_count": 9,
   "id": "fae2cac8",
   "metadata": {
    "execution": {
     "iopub.execute_input": "2022-09-07T19:28:53.701646Z",
     "iopub.status.busy": "2022-09-07T19:28:53.701396Z",
     "iopub.status.idle": "2022-09-07T19:28:53.717757Z",
     "shell.execute_reply": "2022-09-07T19:28:53.716985Z"
    }
   },
   "outputs": [
    {
     "ename": "NameError",
     "evalue": "name 'fd' is not defined",
     "output_type": "error",
     "traceback": [
      "\u001b[0;31m---------------------------------------------------------------------------\u001b[0m",
      "\u001b[0;31mNameError\u001b[0m                                 Traceback (most recent call last)",
      "Cell \u001b[0;32mIn [9], line 2\u001b[0m\n\u001b[1;32m      1\u001b[0m vals \u001b[38;5;241m=\u001b[39m np\u001b[38;5;241m.\u001b[39mrandom\u001b[38;5;241m.\u001b[39mrand(pn\u001b[38;5;241m.\u001b[39mnum_pores(\u001b[38;5;124m'\u001b[39m\u001b[38;5;124mfront\u001b[39m\u001b[38;5;124m'\u001b[39m))\u001b[38;5;241m*\u001b[39m\u001b[38;5;241m10.0\u001b[39m\n\u001b[0;32m----> 2\u001b[0m \u001b[43mfd\u001b[49m\u001b[38;5;241m.\u001b[39mset_value_BC(pores\u001b[38;5;241m=\u001b[39mpn\u001b[38;5;241m.\u001b[39mpores(\u001b[38;5;124m'\u001b[39m\u001b[38;5;124mfront\u001b[39m\u001b[38;5;124m'\u001b[39m), values\u001b[38;5;241m=\u001b[39mvals, mode\u001b[38;5;241m=\u001b[39m\u001b[38;5;124m'\u001b[39m\u001b[38;5;124madd\u001b[39m\u001b[38;5;124m'\u001b[39m)\n",
      "\u001b[0;31mNameError\u001b[0m: name 'fd' is not defined"
     ]
    }
   ],
   "source": [
    "vals = np.random.rand(pn.num_pores('front'))*10.0\n",
    "fd.set_value_BC(pores=pn.pores('front'), values=vals, mode='add')"
   ]
  },
  {
   "cell_type": "markdown",
   "id": "82818852",
   "metadata": {},
   "source": [
    "Printing the 'pore.bc.value' array again reveals a problem"
   ]
  },
  {
   "cell_type": "code",
   "execution_count": 10,
   "id": "600a22e9",
   "metadata": {
    "execution": {
     "iopub.execute_input": "2022-09-07T19:28:53.721524Z",
     "iopub.status.busy": "2022-09-07T19:28:53.721289Z",
     "iopub.status.idle": "2022-09-07T19:28:53.734505Z",
     "shell.execute_reply": "2022-09-07T19:28:53.733763Z"
    }
   },
   "outputs": [
    {
     "ename": "NameError",
     "evalue": "name 'fd' is not defined",
     "output_type": "error",
     "traceback": [
      "\u001b[0;31m---------------------------------------------------------------------------\u001b[0m",
      "\u001b[0;31mNameError\u001b[0m                                 Traceback (most recent call last)",
      "Cell \u001b[0;32mIn [10], line 1\u001b[0m\n\u001b[0;32m----> 1\u001b[0m \u001b[38;5;28mprint\u001b[39m(\u001b[43mfd\u001b[49m[\u001b[38;5;124m'\u001b[39m\u001b[38;5;124mpore.bc.value\u001b[39m\u001b[38;5;124m'\u001b[39m])\n",
      "\u001b[0;31mNameError\u001b[0m: name 'fd' is not defined"
     ]
    }
   ],
   "source": [
    "print(fd['pore.bc.value'])"
   ]
  },
  {
   "cell_type": "markdown",
   "id": "4b180e22",
   "metadata": {},
   "source": [
    "Although we added values to 4 locations, only 3 were written, and the pre-existing values of 1.0 all remained. This is because we used ``mode='add'`` for both cases, which does *not* overwrite any pre-existing values. We need to remove the values from the locations first:"
   ]
  },
  {
   "cell_type": "code",
   "execution_count": 11,
   "id": "ea55348d",
   "metadata": {
    "execution": {
     "iopub.execute_input": "2022-09-07T19:28:53.737989Z",
     "iopub.status.busy": "2022-09-07T19:28:53.737758Z",
     "iopub.status.idle": "2022-09-07T19:28:53.753742Z",
     "shell.execute_reply": "2022-09-07T19:28:53.752998Z"
    }
   },
   "outputs": [
    {
     "ename": "NameError",
     "evalue": "name 'fd' is not defined",
     "output_type": "error",
     "traceback": [
      "\u001b[0;31m---------------------------------------------------------------------------\u001b[0m",
      "\u001b[0;31mNameError\u001b[0m                                 Traceback (most recent call last)",
      "Cell \u001b[0;32mIn [11], line 1\u001b[0m\n\u001b[0;32m----> 1\u001b[0m \u001b[43mfd\u001b[49m\u001b[38;5;241m.\u001b[39mset_value_BC(pores\u001b[38;5;241m=\u001b[39mpn\u001b[38;5;241m.\u001b[39mpores(\u001b[38;5;124m'\u001b[39m\u001b[38;5;124mfront\u001b[39m\u001b[38;5;124m'\u001b[39m), mode\u001b[38;5;241m=\u001b[39m\u001b[38;5;124m'\u001b[39m\u001b[38;5;124mremove\u001b[39m\u001b[38;5;124m'\u001b[39m)\n\u001b[1;32m      2\u001b[0m fd\u001b[38;5;241m.\u001b[39mset_value_BC(pores\u001b[38;5;241m=\u001b[39mpn\u001b[38;5;241m.\u001b[39mpores(\u001b[38;5;124m'\u001b[39m\u001b[38;5;124mfront\u001b[39m\u001b[38;5;124m'\u001b[39m), values\u001b[38;5;241m=\u001b[39mvals, mode\u001b[38;5;241m=\u001b[39m\u001b[38;5;124m'\u001b[39m\u001b[38;5;124madd\u001b[39m\u001b[38;5;124m'\u001b[39m)\n\u001b[1;32m      3\u001b[0m \u001b[38;5;28mprint\u001b[39m(fd[\u001b[38;5;124m'\u001b[39m\u001b[38;5;124mpore.bc.value\u001b[39m\u001b[38;5;124m'\u001b[39m])\n",
      "\u001b[0;31mNameError\u001b[0m: name 'fd' is not defined"
     ]
    }
   ],
   "source": [
    "fd.set_value_BC(pores=pn.pores('front'), mode='remove')\n",
    "fd.set_value_BC(pores=pn.pores('front'), values=vals, mode='add')\n",
    "print(fd['pore.bc.value'])"
   ]
  },
  {
   "cell_type": "markdown",
   "id": "f2c753df",
   "metadata": {},
   "source": [
    "Now we can see that the 1.0 in pore 0 has been filled with a random number.  There is a convenient short-cut for this using ``mode='overwrite'``:"
   ]
  },
  {
   "cell_type": "code",
   "execution_count": 12,
   "id": "63da6a19",
   "metadata": {
    "execution": {
     "iopub.execute_input": "2022-09-07T19:28:53.757090Z",
     "iopub.status.busy": "2022-09-07T19:28:53.756828Z",
     "iopub.status.idle": "2022-09-07T19:28:53.772408Z",
     "shell.execute_reply": "2022-09-07T19:28:53.771611Z"
    }
   },
   "outputs": [
    {
     "ename": "NameError",
     "evalue": "name 'fd' is not defined",
     "output_type": "error",
     "traceback": [
      "\u001b[0;31m---------------------------------------------------------------------------\u001b[0m",
      "\u001b[0;31mNameError\u001b[0m                                 Traceback (most recent call last)",
      "Cell \u001b[0;32mIn [12], line 1\u001b[0m\n\u001b[0;32m----> 1\u001b[0m \u001b[43mfd\u001b[49m\u001b[38;5;241m.\u001b[39mset_value_BC(pores\u001b[38;5;241m=\u001b[39mpn\u001b[38;5;241m.\u001b[39mpores(\u001b[38;5;124m'\u001b[39m\u001b[38;5;124mfront\u001b[39m\u001b[38;5;124m'\u001b[39m), values\u001b[38;5;241m=\u001b[39m\u001b[38;5;241m2.0\u001b[39m, mode\u001b[38;5;241m=\u001b[39m\u001b[38;5;124m'\u001b[39m\u001b[38;5;124moverwrite\u001b[39m\u001b[38;5;124m'\u001b[39m)\n\u001b[1;32m      2\u001b[0m \u001b[38;5;28mprint\u001b[39m(fd[\u001b[38;5;124m'\u001b[39m\u001b[38;5;124mpore.bc.value\u001b[39m\u001b[38;5;124m'\u001b[39m])\n",
      "\u001b[0;31mNameError\u001b[0m: name 'fd' is not defined"
     ]
    }
   ],
   "source": [
    "fd.set_value_BC(pores=pn.pores('front'), values=2.0, mode='overwrite')\n",
    "print(fd['pore.bc.value'])"
   ]
  },
  {
   "cell_type": "markdown",
   "id": "39159935",
   "metadata": {},
   "source": [
    "**Pro Tip**: The mode argument can be a list of modes, which are each applied in order, so the 'overwrite' behavior can be achieved with ``mode=['remove', 'add']``.  Another useful option may be to clear all existing values the adding new ones, as follows:"
   ]
  },
  {
   "cell_type": "code",
   "execution_count": 13,
   "id": "db441763",
   "metadata": {
    "execution": {
     "iopub.execute_input": "2022-09-07T19:28:53.775586Z",
     "iopub.status.busy": "2022-09-07T19:28:53.775352Z",
     "iopub.status.idle": "2022-09-07T19:28:53.790045Z",
     "shell.execute_reply": "2022-09-07T19:28:53.789252Z"
    }
   },
   "outputs": [
    {
     "ename": "NameError",
     "evalue": "name 'fd' is not defined",
     "output_type": "error",
     "traceback": [
      "\u001b[0;31m---------------------------------------------------------------------------\u001b[0m",
      "\u001b[0;31mNameError\u001b[0m                                 Traceback (most recent call last)",
      "Cell \u001b[0;32mIn [13], line 1\u001b[0m\n\u001b[0;32m----> 1\u001b[0m \u001b[43mfd\u001b[49m\u001b[38;5;241m.\u001b[39mset_value_BC(pores\u001b[38;5;241m=\u001b[39mpn\u001b[38;5;241m.\u001b[39mpores(\u001b[38;5;124m'\u001b[39m\u001b[38;5;124mfront\u001b[39m\u001b[38;5;124m'\u001b[39m), values\u001b[38;5;241m=\u001b[39m\u001b[38;5;241m2.0\u001b[39m, mode\u001b[38;5;241m=\u001b[39m[\u001b[38;5;124m'\u001b[39m\u001b[38;5;124mclear\u001b[39m\u001b[38;5;124m'\u001b[39m, \u001b[38;5;124m'\u001b[39m\u001b[38;5;124madd\u001b[39m\u001b[38;5;124m'\u001b[39m])\n\u001b[1;32m      2\u001b[0m \u001b[38;5;28mprint\u001b[39m(fd[\u001b[38;5;124m'\u001b[39m\u001b[38;5;124mpore.bc.value\u001b[39m\u001b[38;5;124m'\u001b[39m])\n",
      "\u001b[0;31mNameError\u001b[0m: name 'fd' is not defined"
     ]
    }
   ],
   "source": [
    "fd.set_value_BC(pores=pn.pores('front'), values=2.0, mode=['clear', 'add'])\n",
    "print(fd['pore.bc.value'])"
   ]
  },
  {
   "cell_type": "markdown",
   "id": "4995dfc6",
   "metadata": {},
   "source": [
    "## Adding Rate Boundary Conditions\n",
    "\n",
    "Adding rate boundary conditions is done in exactly the same manner as value conditions described above, but via the ``set_rate_BC`` method. One special consideration when using rate boundary conditions is that they *must* be combined with a value boundary condition. Therefore, in this section we'll look at the situation of defining two different types of boundary conditions at the same time. \n",
    "\n",
    "When applying rate conditions to pores without any pre-existing value condtions, there is no problem. However, if one wishes to overwrite value BCs with rate BCs (or vice-versa) special treatment is required. To add rate BCs to pores that already have rate BCs one just needs to use ``mode='overwrite'``.  Howver, to add rate BCs to pores with *value* BCs then it is necessary to first remove the values from the target locations since value and rate conditions cannot exist in the same pores.  \n",
    "\n",
    "Firstly, let's try to add rate BCs and note that nothing is written:"
   ]
  },
  {
   "cell_type": "code",
   "execution_count": 14,
   "id": "1b8291a9",
   "metadata": {
    "execution": {
     "iopub.execute_input": "2022-09-07T19:28:53.793289Z",
     "iopub.status.busy": "2022-09-07T19:28:53.793056Z",
     "iopub.status.idle": "2022-09-07T19:28:53.807488Z",
     "shell.execute_reply": "2022-09-07T19:28:53.806488Z"
    }
   },
   "outputs": [
    {
     "ename": "NameError",
     "evalue": "name 'fd' is not defined",
     "output_type": "error",
     "traceback": [
      "\u001b[0;31m---------------------------------------------------------------------------\u001b[0m",
      "\u001b[0;31mNameError\u001b[0m                                 Traceback (most recent call last)",
      "Cell \u001b[0;32mIn [14], line 1\u001b[0m\n\u001b[0;32m----> 1\u001b[0m \u001b[43mfd\u001b[49m\u001b[38;5;241m.\u001b[39mset_rate_BC(pores\u001b[38;5;241m=\u001b[39mpn\u001b[38;5;241m.\u001b[39mpores(\u001b[38;5;124m'\u001b[39m\u001b[38;5;124mfront\u001b[39m\u001b[38;5;124m'\u001b[39m), rates\u001b[38;5;241m=\u001b[39m\u001b[38;5;241m2.0\u001b[39m, mode\u001b[38;5;241m=\u001b[39m\u001b[38;5;124m'\u001b[39m\u001b[38;5;124moverwrite\u001b[39m\u001b[38;5;124m'\u001b[39m)\n\u001b[1;32m      2\u001b[0m \u001b[38;5;28mprint\u001b[39m(fd[\u001b[38;5;124m'\u001b[39m\u001b[38;5;124mpore.bc.rate\u001b[39m\u001b[38;5;124m'\u001b[39m])\n",
      "\u001b[0;31mNameError\u001b[0m: name 'fd' is not defined"
     ]
    }
   ],
   "source": [
    "fd.set_rate_BC(pores=pn.pores('front'), rates=2.0, mode='overwrite')\n",
    "print(fd['pore.bc.rate'])"
   ]
  },
  {
   "cell_type": "markdown",
   "id": "3031b7a2",
   "metadata": {},
   "source": [
    "As can be seen the rate BCs were not written anywhere since value BCs were present in the given pores. If we first ``remove`` the values, then we can get the result we want:"
   ]
  },
  {
   "cell_type": "code",
   "execution_count": 15,
   "id": "7250fa8b",
   "metadata": {
    "execution": {
     "iopub.execute_input": "2022-09-07T19:28:53.810724Z",
     "iopub.status.busy": "2022-09-07T19:28:53.810489Z",
     "iopub.status.idle": "2022-09-07T19:28:53.826026Z",
     "shell.execute_reply": "2022-09-07T19:28:53.825185Z"
    }
   },
   "outputs": [
    {
     "ename": "NameError",
     "evalue": "name 'fd' is not defined",
     "output_type": "error",
     "traceback": [
      "\u001b[0;31m---------------------------------------------------------------------------\u001b[0m",
      "\u001b[0;31mNameError\u001b[0m                                 Traceback (most recent call last)",
      "Cell \u001b[0;32mIn [15], line 1\u001b[0m\n\u001b[0;32m----> 1\u001b[0m \u001b[43mfd\u001b[49m\u001b[38;5;241m.\u001b[39mset_value_BC(pores\u001b[38;5;241m=\u001b[39mpn\u001b[38;5;241m.\u001b[39mpores(\u001b[38;5;124m'\u001b[39m\u001b[38;5;124mleft\u001b[39m\u001b[38;5;124m'\u001b[39m), mode\u001b[38;5;241m=\u001b[39m\u001b[38;5;124m'\u001b[39m\u001b[38;5;124mremove\u001b[39m\u001b[38;5;124m'\u001b[39m)\n\u001b[1;32m      2\u001b[0m fd\u001b[38;5;241m.\u001b[39mset_rate_BC(pores\u001b[38;5;241m=\u001b[39mpn\u001b[38;5;241m.\u001b[39mpores(\u001b[38;5;124m'\u001b[39m\u001b[38;5;124mleft\u001b[39m\u001b[38;5;124m'\u001b[39m), rates\u001b[38;5;241m=\u001b[39m\u001b[38;5;241m2.0\u001b[39m, mode\u001b[38;5;241m=\u001b[39m\u001b[38;5;124m'\u001b[39m\u001b[38;5;124moverwrite\u001b[39m\u001b[38;5;124m'\u001b[39m)\n\u001b[1;32m      3\u001b[0m \u001b[38;5;28mprint\u001b[39m(fd[\u001b[38;5;124m'\u001b[39m\u001b[38;5;124mpore.bc.rate\u001b[39m\u001b[38;5;124m'\u001b[39m])\n",
      "\u001b[0;31mNameError\u001b[0m: name 'fd' is not defined"
     ]
    }
   ],
   "source": [
    "fd.set_value_BC(pores=pn.pores('left'), mode='remove')\n",
    "fd.set_rate_BC(pores=pn.pores('left'), rates=2.0, mode='overwrite')\n",
    "print(fd['pore.bc.rate'])"
   ]
  },
  {
   "cell_type": "markdown",
   "id": "0f505722",
   "metadata": {},
   "source": [
    "## Removing and Resetting Boundary Conditions\n",
    "\n",
    "The above example illustrated how it was necessary to remove the value BCs from the target pores prior to adding the rate BCs. The required knowing which types were defined and each needed to be removed explicitly.  An alternative and more general approach is possible.\n",
    "\n",
    "**Pro Tip**: A list of BC types can be passed ``set_BC``, which will each be handled in order. If the mode happens to be ``clear``, then all the given bc types will be cleared.  Combining this with the dictionary trick used above makes it possible to remove all the bcs without knowing which types are present.  This is illustrated as follows:"
   ]
  },
  {
   "cell_type": "code",
   "execution_count": 16,
   "id": "3e005ed9",
   "metadata": {
    "execution": {
     "iopub.execute_input": "2022-09-07T19:28:53.829559Z",
     "iopub.status.busy": "2022-09-07T19:28:53.829325Z",
     "iopub.status.idle": "2022-09-07T19:28:53.843651Z",
     "shell.execute_reply": "2022-09-07T19:28:53.842924Z"
    }
   },
   "outputs": [
    {
     "ename": "NameError",
     "evalue": "name 'fd' is not defined",
     "output_type": "error",
     "traceback": [
      "\u001b[0;31m---------------------------------------------------------------------------\u001b[0m",
      "\u001b[0;31mNameError\u001b[0m                                 Traceback (most recent call last)",
      "Cell \u001b[0;32mIn [16], line 1\u001b[0m\n\u001b[0;32m----> 1\u001b[0m \u001b[43mfd\u001b[49m\u001b[38;5;241m.\u001b[39mset_BC(bctype\u001b[38;5;241m=\u001b[39mfd[\u001b[38;5;124m'\u001b[39m\u001b[38;5;124mpore.bc\u001b[39m\u001b[38;5;124m'\u001b[39m]\u001b[38;5;241m.\u001b[39mkeys(), mode\u001b[38;5;241m=\u001b[39m\u001b[38;5;124m'\u001b[39m\u001b[38;5;124mclear\u001b[39m\u001b[38;5;124m'\u001b[39m)\n",
      "\u001b[0;31mNameError\u001b[0m: name 'fd' is not defined"
     ]
    }
   ],
   "source": [
    "fd.set_BC(bctype=fd['pore.bc'].keys(), mode='clear')"
   ]
  },
  {
   "cell_type": "markdown",
   "id": "79e9bcd0",
   "metadata": {},
   "source": [
    "Now all the bc arrays will be filled with ``nan`` meaning that no conditions are set:"
   ]
  },
  {
   "cell_type": "code",
   "execution_count": 17,
   "id": "e7360dbf",
   "metadata": {
    "execution": {
     "iopub.execute_input": "2022-09-07T19:28:53.846756Z",
     "iopub.status.busy": "2022-09-07T19:28:53.846523Z",
     "iopub.status.idle": "2022-09-07T19:28:53.859397Z",
     "shell.execute_reply": "2022-09-07T19:28:53.858649Z"
    }
   },
   "outputs": [
    {
     "ename": "NameError",
     "evalue": "name 'fd' is not defined",
     "output_type": "error",
     "traceback": [
      "\u001b[0;31m---------------------------------------------------------------------------\u001b[0m",
      "\u001b[0;31mNameError\u001b[0m                                 Traceback (most recent call last)",
      "Cell \u001b[0;32mIn [17], line 1\u001b[0m\n\u001b[0;32m----> 1\u001b[0m \u001b[38;5;28mprint\u001b[39m(\u001b[43mfd\u001b[49m[\u001b[38;5;124m'\u001b[39m\u001b[38;5;124mpore.bc.rate\u001b[39m\u001b[38;5;124m'\u001b[39m])\n",
      "\u001b[0;31mNameError\u001b[0m: name 'fd' is not defined"
     ]
    }
   ],
   "source": [
    "print(fd['pore.bc.rate'])"
   ]
  },
  {
   "cell_type": "code",
   "execution_count": 18,
   "id": "bf4b70ec",
   "metadata": {
    "execution": {
     "iopub.execute_input": "2022-09-07T19:28:53.862909Z",
     "iopub.status.busy": "2022-09-07T19:28:53.862674Z",
     "iopub.status.idle": "2022-09-07T19:28:53.875407Z",
     "shell.execute_reply": "2022-09-07T19:28:53.874662Z"
    }
   },
   "outputs": [
    {
     "ename": "NameError",
     "evalue": "name 'fd' is not defined",
     "output_type": "error",
     "traceback": [
      "\u001b[0;31m---------------------------------------------------------------------------\u001b[0m",
      "\u001b[0;31mNameError\u001b[0m                                 Traceback (most recent call last)",
      "Cell \u001b[0;32mIn [18], line 1\u001b[0m\n\u001b[0;32m----> 1\u001b[0m \u001b[38;5;28mprint\u001b[39m(\u001b[43mfd\u001b[49m[\u001b[38;5;124m'\u001b[39m\u001b[38;5;124mpore.bc.value\u001b[39m\u001b[38;5;124m'\u001b[39m])\n",
      "\u001b[0;31mNameError\u001b[0m: name 'fd' is not defined"
     ]
    }
   ],
   "source": [
    "print(fd['pore.bc.value'])"
   ]
  },
  {
   "cell_type": "markdown",
   "id": "d7fa8e64",
   "metadata": {},
   "source": [
    "**Pro Tip**: It is possible to edit the bc arrays directly if you know what you're doing.  For instance, setting value BCs in the left and right pores can be done as follows:"
   ]
  },
  {
   "cell_type": "code",
   "execution_count": 19,
   "id": "2bd4ce7b",
   "metadata": {
    "execution": {
     "iopub.execute_input": "2022-09-07T19:28:53.879212Z",
     "iopub.status.busy": "2022-09-07T19:28:53.878979Z",
     "iopub.status.idle": "2022-09-07T19:28:53.893816Z",
     "shell.execute_reply": "2022-09-07T19:28:53.893019Z"
    }
   },
   "outputs": [
    {
     "ename": "NameError",
     "evalue": "name 'fd' is not defined",
     "output_type": "error",
     "traceback": [
      "\u001b[0;31m---------------------------------------------------------------------------\u001b[0m",
      "\u001b[0;31mNameError\u001b[0m                                 Traceback (most recent call last)",
      "Cell \u001b[0;32mIn [19], line 1\u001b[0m\n\u001b[0;32m----> 1\u001b[0m \u001b[43mfd\u001b[49m[\u001b[38;5;124m'\u001b[39m\u001b[38;5;124mpore.bc.value\u001b[39m\u001b[38;5;124m'\u001b[39m][pn\u001b[38;5;241m.\u001b[39mpores(\u001b[38;5;124m'\u001b[39m\u001b[38;5;124mleft\u001b[39m\u001b[38;5;124m'\u001b[39m)] \u001b[38;5;241m=\u001b[39m \u001b[38;5;241m1.0\u001b[39m\n\u001b[1;32m      2\u001b[0m fd[\u001b[38;5;124m'\u001b[39m\u001b[38;5;124mpore.bc.value\u001b[39m\u001b[38;5;124m'\u001b[39m][pn\u001b[38;5;241m.\u001b[39mpores(\u001b[38;5;124m'\u001b[39m\u001b[38;5;124mright\u001b[39m\u001b[38;5;124m'\u001b[39m)] \u001b[38;5;241m=\u001b[39m \u001b[38;5;241m0.0\u001b[39m\n",
      "\u001b[0;31mNameError\u001b[0m: name 'fd' is not defined"
     ]
    }
   ],
   "source": [
    "fd['pore.bc.value'][pn.pores('left')] = 1.0\n",
    "fd['pore.bc.value'][pn.pores('right')] = 0.0"
   ]
  },
  {
   "cell_type": "markdown",
   "id": "ffb7ff0f",
   "metadata": {},
   "source": [
    "Running the algorithm will proceed as normal:"
   ]
  },
  {
   "cell_type": "code",
   "execution_count": 20,
   "id": "a21efb93",
   "metadata": {
    "execution": {
     "iopub.execute_input": "2022-09-07T19:28:53.897964Z",
     "iopub.status.busy": "2022-09-07T19:28:53.897669Z",
     "iopub.status.idle": "2022-09-07T19:28:53.912521Z",
     "shell.execute_reply": "2022-09-07T19:28:53.911719Z"
    }
   },
   "outputs": [
    {
     "ename": "NameError",
     "evalue": "name 'fd' is not defined",
     "output_type": "error",
     "traceback": [
      "\u001b[0;31m---------------------------------------------------------------------------\u001b[0m",
      "\u001b[0;31mNameError\u001b[0m                                 Traceback (most recent call last)",
      "Cell \u001b[0;32mIn [20], line 1\u001b[0m\n\u001b[0;32m----> 1\u001b[0m soln \u001b[38;5;241m=\u001b[39m \u001b[43mfd\u001b[49m\u001b[38;5;241m.\u001b[39mrun()\n\u001b[1;32m      2\u001b[0m \u001b[38;5;28mprint\u001b[39m(soln)\n",
      "\u001b[0;31mNameError\u001b[0m: name 'fd' is not defined"
     ]
    }
   ],
   "source": [
    "soln = fd.run()\n",
    "print(soln)"
   ]
  },
  {
   "cell_type": "markdown",
   "id": "74c56232",
   "metadata": {},
   "source": [
    "And of course, these bcs can be \"reset\" directly too:"
   ]
  },
  {
   "cell_type": "code",
   "execution_count": 21,
   "id": "c0ef9afc",
   "metadata": {
    "execution": {
     "iopub.execute_input": "2022-09-07T19:28:53.915597Z",
     "iopub.status.busy": "2022-09-07T19:28:53.915362Z",
     "iopub.status.idle": "2022-09-07T19:28:53.928815Z",
     "shell.execute_reply": "2022-09-07T19:28:53.927746Z"
    }
   },
   "outputs": [
    {
     "ename": "NameError",
     "evalue": "name 'fd' is not defined",
     "output_type": "error",
     "traceback": [
      "\u001b[0;31m---------------------------------------------------------------------------\u001b[0m",
      "\u001b[0;31mNameError\u001b[0m                                 Traceback (most recent call last)",
      "Cell \u001b[0;32mIn [21], line 1\u001b[0m\n\u001b[0;32m----> 1\u001b[0m \u001b[43mfd\u001b[49m[\u001b[38;5;124m'\u001b[39m\u001b[38;5;124mpore.bc.value\u001b[39m\u001b[38;5;124m'\u001b[39m] \u001b[38;5;241m=\u001b[39m np\u001b[38;5;241m.\u001b[39mnan\n",
      "\u001b[0;31mNameError\u001b[0m: name 'fd' is not defined"
     ]
    }
   ],
   "source": [
    "fd['pore.bc.value'] = np.nan"
   ]
  },
  {
   "cell_type": "markdown",
   "id": "14598821",
   "metadata": {},
   "source": [
    "Where the above will expand the scalar value (i.e. ``nan``) and apply it to all pores.  "
   ]
  }
 ],
 "metadata": {
  "kernelspec": {
   "display_name": "Python 3 (ipykernel)",
   "language": "python",
   "name": "python3"
  },
  "language_info": {
   "codemirror_mode": {
    "name": "ipython",
    "version": 3
   },
   "file_extension": ".py",
   "mimetype": "text/x-python",
   "name": "python",
   "nbconvert_exporter": "python",
   "pygments_lexer": "ipython3",
   "version": "3.8.13"
  }
 },
 "nbformat": 4,
 "nbformat_minor": 5
}
