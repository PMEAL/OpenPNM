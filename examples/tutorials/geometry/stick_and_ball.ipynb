{
 "cells": [
  {
   "cell_type": "markdown",
   "metadata": {},
   "source": [
    "# The Stick and Ball Geometry\n",
    "\n",
    "The ``SpheresAndCylinders`` class contains an assortment of pore-scale models that generate geometrical information assuming the pores are spherical and throats are cylindrical. \n",
    "\n",
    "The ``SpheresAndCylinders`` is a perfect starting point for generating your own custom geometry.  In fact, it's likely that only the calculation of 'pore.diameter' would need to be changed.  By default the 'pore.diameter' values are drawn from a random distribution which is not very realistic.  Luckily, it's easy to update the model used to calculate diameter, and then propagate this change to all the dependent values (i.e. 'pore.volume'), as illustrated below."
   ]
  },
  {
   "cell_type": "code",
   "execution_count": 1,
   "metadata": {
    "execution": {
     "iopub.execute_input": "2022-09-07T19:27:50.177820Z",
     "iopub.status.busy": "2022-09-07T19:27:50.177541Z",
     "iopub.status.idle": "2022-09-07T19:27:51.927760Z",
     "shell.execute_reply": "2022-09-07T19:27:51.926514Z"
    }
   },
   "outputs": [],
   "source": [
    "import openpnm as op\n",
    "%config InlineBackend.figure_formats = ['svg']\n",
    "import matplotlib.pyplot as plt"
   ]
  },
  {
   "cell_type": "code",
   "execution_count": 2,
   "metadata": {
    "execution": {
     "iopub.execute_input": "2022-09-07T19:27:51.932950Z",
     "iopub.status.busy": "2022-09-07T19:27:51.932445Z",
     "iopub.status.idle": "2022-09-07T19:27:51.942691Z",
     "shell.execute_reply": "2022-09-07T19:27:51.941792Z"
    }
   },
   "outputs": [],
   "source": [
    "pn = op.network.Cubic(shape=[20, 20, 20], spacing=100)"
   ]
  },
  {
   "cell_type": "markdown",
   "metadata": {},
   "source": [
    "> The spacing of the above network is in um for this example to make values easier to read, but in general you should always use SI"
   ]
  },
  {
   "cell_type": "markdown",
   "metadata": {},
   "source": [
    "Now we can create a geometry object based on the ``SpheresAndCylinders``:"
   ]
  },
  {
   "cell_type": "code",
   "execution_count": 3,
   "metadata": {
    "execution": {
     "iopub.execute_input": "2022-09-07T19:27:51.946739Z",
     "iopub.status.busy": "2022-09-07T19:27:51.946479Z",
     "iopub.status.idle": "2022-09-07T19:27:52.493433Z",
     "shell.execute_reply": "2022-09-07T19:27:52.492613Z"
    }
   },
   "outputs": [
    {
     "ename": "AttributeError",
     "evalue": "module 'openpnm' has no attribute 'geometry'",
     "output_type": "error",
     "traceback": [
      "\u001b[0;31m---------------------------------------------------------------------------\u001b[0m",
      "\u001b[0;31mAttributeError\u001b[0m                            Traceback (most recent call last)",
      "Cell \u001b[0;32mIn [3], line 1\u001b[0m\n\u001b[0;32m----> 1\u001b[0m geo \u001b[38;5;241m=\u001b[39m \u001b[43mop\u001b[49m\u001b[38;5;241;43m.\u001b[39;49m\u001b[43mgeometry\u001b[49m\u001b[38;5;241m.\u001b[39mSpheresAndCylinders(network\u001b[38;5;241m=\u001b[39mpn, pores\u001b[38;5;241m=\u001b[39mpn\u001b[38;5;241m.\u001b[39mPs, throats\u001b[38;5;241m=\u001b[39mpn\u001b[38;5;241m.\u001b[39mTs)\n",
      "\u001b[0;31mAttributeError\u001b[0m: module 'openpnm' has no attribute 'geometry'"
     ]
    }
   ],
   "source": [
    "geo = op.geometry.SpheresAndCylinders(network=pn, pores=pn.Ps, throats=pn.Ts)"
   ]
  },
  {
   "cell_type": "markdown",
   "metadata": {},
   "source": [
    "As can be seen by printing it, there are quite a few geometrical properties already added to this object.  Defining these manually would have been a pain, so it's a good idea to start with this class then alter the few models that need it:"
   ]
  },
  {
   "cell_type": "code",
   "execution_count": 4,
   "metadata": {
    "execution": {
     "iopub.execute_input": "2022-09-07T19:27:52.497603Z",
     "iopub.status.busy": "2022-09-07T19:27:52.497348Z",
     "iopub.status.idle": "2022-09-07T19:27:52.512738Z",
     "shell.execute_reply": "2022-09-07T19:27:52.511941Z"
    }
   },
   "outputs": [
    {
     "ename": "NameError",
     "evalue": "name 'geo' is not defined",
     "output_type": "error",
     "traceback": [
      "\u001b[0;31m---------------------------------------------------------------------------\u001b[0m",
      "\u001b[0;31mNameError\u001b[0m                                 Traceback (most recent call last)",
      "Cell \u001b[0;32mIn [4], line 1\u001b[0m\n\u001b[0;32m----> 1\u001b[0m \u001b[38;5;28mprint\u001b[39m(\u001b[43mgeo\u001b[49m)\n",
      "\u001b[0;31mNameError\u001b[0m: name 'geo' is not defined"
     ]
    }
   ],
   "source": [
    "print(geo)"
   ]
  },
  {
   "cell_type": "markdown",
   "metadata": {},
   "source": [
    "The pore size distribution on the ``SpheresAndCylinders`` is probably the more likely thing to change, since it is a random (i.e. uniform distribution) as shown below:"
   ]
  },
  {
   "cell_type": "code",
   "execution_count": 5,
   "metadata": {
    "execution": {
     "iopub.execute_input": "2022-09-07T19:27:52.516375Z",
     "iopub.status.busy": "2022-09-07T19:27:52.516100Z",
     "iopub.status.idle": "2022-09-07T19:27:52.531368Z",
     "shell.execute_reply": "2022-09-07T19:27:52.530517Z"
    }
   },
   "outputs": [
    {
     "ename": "NameError",
     "evalue": "name 'geo' is not defined",
     "output_type": "error",
     "traceback": [
      "\u001b[0;31m---------------------------------------------------------------------------\u001b[0m",
      "\u001b[0;31mNameError\u001b[0m                                 Traceback (most recent call last)",
      "Cell \u001b[0;32mIn [5], line 1\u001b[0m\n\u001b[0;32m----> 1\u001b[0m fig \u001b[38;5;241m=\u001b[39m plt\u001b[38;5;241m.\u001b[39mhist(\u001b[43mgeo\u001b[49m[\u001b[38;5;124m'\u001b[39m\u001b[38;5;124mpore.diameter\u001b[39m\u001b[38;5;124m'\u001b[39m], bins\u001b[38;5;241m=\u001b[39m\u001b[38;5;241m25\u001b[39m, edgecolor\u001b[38;5;241m=\u001b[39m\u001b[38;5;124m'\u001b[39m\u001b[38;5;124mk\u001b[39m\u001b[38;5;124m'\u001b[39m)\n",
      "\u001b[0;31mNameError\u001b[0m: name 'geo' is not defined"
     ]
    }
   ],
   "source": [
    "fig = plt.hist(geo['pore.diameter'], bins=25, edgecolor='k')"
   ]
  },
  {
   "cell_type": "markdown",
   "metadata": {},
   "source": [
    "The models on the ``geo`` object can be seen by printing them:"
   ]
  },
  {
   "cell_type": "code",
   "execution_count": 6,
   "metadata": {
    "execution": {
     "iopub.execute_input": "2022-09-07T19:27:52.535010Z",
     "iopub.status.busy": "2022-09-07T19:27:52.534763Z",
     "iopub.status.idle": "2022-09-07T19:27:52.548807Z",
     "shell.execute_reply": "2022-09-07T19:27:52.547994Z"
    }
   },
   "outputs": [
    {
     "ename": "NameError",
     "evalue": "name 'geo' is not defined",
     "output_type": "error",
     "traceback": [
      "\u001b[0;31m---------------------------------------------------------------------------\u001b[0m",
      "\u001b[0;31mNameError\u001b[0m                                 Traceback (most recent call last)",
      "Cell \u001b[0;32mIn [6], line 1\u001b[0m\n\u001b[0;32m----> 1\u001b[0m \u001b[38;5;28mprint\u001b[39m(\u001b[43mgeo\u001b[49m\u001b[38;5;241m.\u001b[39mmodels)\n",
      "\u001b[0;31mNameError\u001b[0m: name 'geo' is not defined"
     ]
    }
   ],
   "source": [
    "print(geo.models)"
   ]
  },
  {
   "cell_type": "markdown",
   "metadata": {},
   "source": [
    "In this tutorial we will change how pore sizes are calculated.  We can do this by assigning a new pore-scale model for 'pore.diameter'.  Let's use  Gaussian distribution:"
   ]
  },
  {
   "cell_type": "code",
   "execution_count": 7,
   "metadata": {
    "execution": {
     "iopub.execute_input": "2022-09-07T19:27:52.552627Z",
     "iopub.status.busy": "2022-09-07T19:27:52.552378Z",
     "iopub.status.idle": "2022-09-07T19:27:52.568258Z",
     "shell.execute_reply": "2022-09-07T19:27:52.567400Z"
    }
   },
   "outputs": [
    {
     "ename": "NameError",
     "evalue": "name 'geo' is not defined",
     "output_type": "error",
     "traceback": [
      "\u001b[0;31m---------------------------------------------------------------------------\u001b[0m",
      "\u001b[0;31mNameError\u001b[0m                                 Traceback (most recent call last)",
      "Cell \u001b[0;32mIn [7], line 2\u001b[0m\n\u001b[1;32m      1\u001b[0m f \u001b[38;5;241m=\u001b[39m op\u001b[38;5;241m.\u001b[39mmodels\u001b[38;5;241m.\u001b[39mgeometry\u001b[38;5;241m.\u001b[39mpore_size\u001b[38;5;241m.\u001b[39mnormal\n\u001b[0;32m----> 2\u001b[0m \u001b[43mgeo\u001b[49m\u001b[38;5;241m.\u001b[39madd_model(propname\u001b[38;5;241m=\u001b[39m\u001b[38;5;124m'\u001b[39m\u001b[38;5;124mpore.diameter\u001b[39m\u001b[38;5;124m'\u001b[39m, \n\u001b[1;32m      3\u001b[0m               model\u001b[38;5;241m=\u001b[39mf,\n\u001b[1;32m      4\u001b[0m               loc\u001b[38;5;241m=\u001b[39m\u001b[38;5;241m50\u001b[39m, scale\u001b[38;5;241m=\u001b[39m\u001b[38;5;241m10\u001b[39m)\n",
      "\u001b[0;31mNameError\u001b[0m: name 'geo' is not defined"
     ]
    }
   ],
   "source": [
    "f = op.models.geometry.pore_size.normal\n",
    "geo.add_model(propname='pore.diameter', \n",
    "              model=f,\n",
    "              loc=50, scale=10)"
   ]
  },
  {
   "cell_type": "markdown",
   "metadata": {},
   "source": [
    "This model is automatically run when it's assigned, so we can inspect the new pore diameter values:"
   ]
  },
  {
   "cell_type": "code",
   "execution_count": 8,
   "metadata": {
    "execution": {
     "iopub.execute_input": "2022-09-07T19:27:52.571723Z",
     "iopub.status.busy": "2022-09-07T19:27:52.571475Z",
     "iopub.status.idle": "2022-09-07T19:27:52.585156Z",
     "shell.execute_reply": "2022-09-07T19:27:52.584263Z"
    }
   },
   "outputs": [
    {
     "ename": "NameError",
     "evalue": "name 'geo' is not defined",
     "output_type": "error",
     "traceback": [
      "\u001b[0;31m---------------------------------------------------------------------------\u001b[0m",
      "\u001b[0;31mNameError\u001b[0m                                 Traceback (most recent call last)",
      "Cell \u001b[0;32mIn [8], line 1\u001b[0m\n\u001b[0;32m----> 1\u001b[0m fig \u001b[38;5;241m=\u001b[39m plt\u001b[38;5;241m.\u001b[39mhist(\u001b[43mgeo\u001b[49m[\u001b[38;5;124m'\u001b[39m\u001b[38;5;124mpore.diameter\u001b[39m\u001b[38;5;124m'\u001b[39m], bins\u001b[38;5;241m=\u001b[39m\u001b[38;5;241m25\u001b[39m, edgecolor\u001b[38;5;241m=\u001b[39m\u001b[38;5;124m'\u001b[39m\u001b[38;5;124mk\u001b[39m\u001b[38;5;124m'\u001b[39m)\n",
      "\u001b[0;31mNameError\u001b[0m: name 'geo' is not defined"
     ]
    }
   ],
   "source": [
    "fig = plt.hist(geo['pore.diameter'], bins=25, edgecolor='k')"
   ]
  },
  {
   "cell_type": "markdown",
   "metadata": {},
   "source": [
    "The above distribution does not look very much like a Gaussian distribution.  This is because the 'pore.seed' values are truncated between 0.2 and 0.7:"
   ]
  },
  {
   "cell_type": "code",
   "execution_count": 9,
   "metadata": {
    "execution": {
     "iopub.execute_input": "2022-09-07T19:27:52.589378Z",
     "iopub.status.busy": "2022-09-07T19:27:52.589127Z",
     "iopub.status.idle": "2022-09-07T19:27:52.602995Z",
     "shell.execute_reply": "2022-09-07T19:27:52.602173Z"
    }
   },
   "outputs": [
    {
     "ename": "NameError",
     "evalue": "name 'geo' is not defined",
     "output_type": "error",
     "traceback": [
      "\u001b[0;31m---------------------------------------------------------------------------\u001b[0m",
      "\u001b[0;31mNameError\u001b[0m                                 Traceback (most recent call last)",
      "Cell \u001b[0;32mIn [9], line 1\u001b[0m\n\u001b[0;32m----> 1\u001b[0m \u001b[38;5;28mprint\u001b[39m(\u001b[43mgeo\u001b[49m\u001b[38;5;241m.\u001b[39mmodels[\u001b[38;5;124m'\u001b[39m\u001b[38;5;124mpore.seed\u001b[39m\u001b[38;5;124m'\u001b[39m])\n",
      "\u001b[0;31mNameError\u001b[0m: name 'geo' is not defined"
     ]
    }
   ],
   "source": [
    "print(geo.models['pore.seed'])"
   ]
  },
  {
   "cell_type": "markdown",
   "metadata": {},
   "source": [
    "We should change this to a wider range to capture more pores on the \"tails\", then call ``regenerate_models``, which will not only regenerate the random numbers, but all the other properties that depend on it such as 'pore.diameter', 'pore.volume', and so on:"
   ]
  },
  {
   "cell_type": "code",
   "execution_count": 10,
   "metadata": {
    "execution": {
     "iopub.execute_input": "2022-09-07T19:27:52.606414Z",
     "iopub.status.busy": "2022-09-07T19:27:52.606163Z",
     "iopub.status.idle": "2022-09-07T19:27:52.622304Z",
     "shell.execute_reply": "2022-09-07T19:27:52.621461Z"
    }
   },
   "outputs": [
    {
     "ename": "NameError",
     "evalue": "name 'geo' is not defined",
     "output_type": "error",
     "traceback": [
      "\u001b[0;31m---------------------------------------------------------------------------\u001b[0m",
      "\u001b[0;31mNameError\u001b[0m                                 Traceback (most recent call last)",
      "Cell \u001b[0;32mIn [10], line 1\u001b[0m\n\u001b[0;32m----> 1\u001b[0m \u001b[43mgeo\u001b[49m\u001b[38;5;241m.\u001b[39mmodels[\u001b[38;5;124m'\u001b[39m\u001b[38;5;124mpore.seed\u001b[39m\u001b[38;5;124m'\u001b[39m][\u001b[38;5;124m'\u001b[39m\u001b[38;5;124mnum_range\u001b[39m\u001b[38;5;124m'\u001b[39m] \u001b[38;5;241m=\u001b[39m [\u001b[38;5;241m0.001\u001b[39m, \u001b[38;5;241m0.999\u001b[39m]\n\u001b[1;32m      2\u001b[0m geo\u001b[38;5;241m.\u001b[39mregenerate_models()\n\u001b[1;32m      3\u001b[0m fig \u001b[38;5;241m=\u001b[39m plt\u001b[38;5;241m.\u001b[39mhist(geo[\u001b[38;5;124m'\u001b[39m\u001b[38;5;124mpore.diameter\u001b[39m\u001b[38;5;124m'\u001b[39m], bins\u001b[38;5;241m=\u001b[39m\u001b[38;5;241m25\u001b[39m, edgecolor\u001b[38;5;241m=\u001b[39m\u001b[38;5;124m'\u001b[39m\u001b[38;5;124mk\u001b[39m\u001b[38;5;124m'\u001b[39m)\n",
      "\u001b[0;31mNameError\u001b[0m: name 'geo' is not defined"
     ]
    }
   ],
   "source": [
    "geo.models['pore.seed']['num_range'] = [0.001, 0.999]\n",
    "geo.regenerate_models()\n",
    "fig = plt.hist(geo['pore.diameter'], bins=25, edgecolor='k')"
   ]
  },
  {
   "cell_type": "markdown",
   "metadata": {},
   "source": [
    "A detailed example of adjusting pore-size distributions is given [here](./adjusting_pore_size_distributions.ipynb)"
   ]
  }
 ],
 "metadata": {
  "@webio": {
   "lastCommId": null,
   "lastKernelId": null
  },
  "kernelspec": {
   "display_name": "Python 3",
   "language": "python",
   "name": "python3"
  },
  "language_info": {
   "codemirror_mode": {
    "name": "ipython",
    "version": 3
   },
   "file_extension": ".py",
   "mimetype": "text/x-python",
   "name": "python",
   "nbconvert_exporter": "python",
   "pygments_lexer": "ipython3",
   "version": "3.8.13"
  }
 },
 "nbformat": 4,
 "nbformat_minor": 4
}
