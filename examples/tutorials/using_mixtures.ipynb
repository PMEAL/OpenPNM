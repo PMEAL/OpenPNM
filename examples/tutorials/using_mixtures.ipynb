{
 "cells": [
  {
   "cell_type": "markdown",
   "id": "9df75adf",
   "metadata": {},
   "source": [
    "# Using Mixtures\n",
    "\n",
    "The notebook explains how to use the Mixture classes to create *Phase* objects with the thermophysical properties arising from the properties and compositions of the individual components."
   ]
  },
  {
   "cell_type": "code",
   "execution_count": 1,
   "id": "be9093e4",
   "metadata": {
    "execution": {
     "iopub.execute_input": "2022-09-07T19:28:56.640306Z",
     "iopub.status.busy": "2022-09-07T19:28:56.639474Z",
     "iopub.status.idle": "2022-09-07T19:28:58.458631Z",
     "shell.execute_reply": "2022-09-07T19:28:58.457567Z"
    }
   },
   "outputs": [],
   "source": [
    "import openpnm as op\n",
    "pn = op.network.Demo()"
   ]
  },
  {
   "cell_type": "markdown",
   "id": "f193e375",
   "metadata": {},
   "source": [
    "## Create individual species objects\n",
    "\n",
    "Let's illustrate this\n",
    "by creating ``air`` as a mixture of oxygen and nitrogen.  First we create a ``Phase`` object for each individual species.  OpenPNM uses a package called [chemicals](https://pypi.org/project/chemicals/) to provide physical properties for a large variety of pure species. So we can create a ``Species`` object \"by name\" which will fetch the corresponding properties from a database:"
   ]
  },
  {
   "cell_type": "code",
   "execution_count": 2,
   "id": "15945f5e",
   "metadata": {
    "execution": {
     "iopub.execute_input": "2022-09-07T19:28:58.463269Z",
     "iopub.status.busy": "2022-09-07T19:28:58.462833Z",
     "iopub.status.idle": "2022-09-07T19:28:59.014878Z",
     "shell.execute_reply": "2022-09-07T19:28:59.014104Z"
    }
   },
   "outputs": [
    {
     "ename": "AttributeError",
     "evalue": "module 'openpnm.phase' has no attribute 'GasByName'",
     "output_type": "error",
     "traceback": [
      "\u001b[0;31m---------------------------------------------------------------------------\u001b[0m",
      "\u001b[0;31mAttributeError\u001b[0m                            Traceback (most recent call last)",
      "Cell \u001b[0;32mIn [2], line 1\u001b[0m\n\u001b[0;32m----> 1\u001b[0m o2 \u001b[38;5;241m=\u001b[39m \u001b[43mop\u001b[49m\u001b[38;5;241;43m.\u001b[39;49m\u001b[43mphase\u001b[49m\u001b[38;5;241;43m.\u001b[39;49m\u001b[43mGasByName\u001b[49m(network\u001b[38;5;241m=\u001b[39mpn, species\u001b[38;5;241m=\u001b[39m\u001b[38;5;124m'\u001b[39m\u001b[38;5;124moxygen\u001b[39m\u001b[38;5;124m'\u001b[39m)\n\u001b[1;32m      2\u001b[0m n2 \u001b[38;5;241m=\u001b[39m op\u001b[38;5;241m.\u001b[39mphase\u001b[38;5;241m.\u001b[39mGasByName(network\u001b[38;5;241m=\u001b[39mpn, species\u001b[38;5;241m=\u001b[39m\u001b[38;5;124m'\u001b[39m\u001b[38;5;124mnitrogen\u001b[39m\u001b[38;5;124m'\u001b[39m)\n",
      "\u001b[0;31mAttributeError\u001b[0m: module 'openpnm.phase' has no attribute 'GasByName'"
     ]
    }
   ],
   "source": [
    "o2 = op.phase.GasByName(network=pn, species='oxygen')\n",
    "n2 = op.phase.GasByName(network=pn, species='nitrogen')"
   ]
  },
  {
   "cell_type": "markdown",
   "id": "e3764e88",
   "metadata": {},
   "source": [
    "The ``species`` argument accepts a variety of names for a given species, so that ``species='o2'`` would also work.  We can print these objects to see what properties were calculated:"
   ]
  },
  {
   "cell_type": "code",
   "execution_count": 3,
   "id": "5f268a50",
   "metadata": {
    "execution": {
     "iopub.execute_input": "2022-09-07T19:28:59.018554Z",
     "iopub.status.busy": "2022-09-07T19:28:59.018178Z",
     "iopub.status.idle": "2022-09-07T19:28:59.033372Z",
     "shell.execute_reply": "2022-09-07T19:28:59.032599Z"
    }
   },
   "outputs": [
    {
     "ename": "NameError",
     "evalue": "name 'o2' is not defined",
     "output_type": "error",
     "traceback": [
      "\u001b[0;31m---------------------------------------------------------------------------\u001b[0m",
      "\u001b[0;31mNameError\u001b[0m                                 Traceback (most recent call last)",
      "Cell \u001b[0;32mIn [3], line 1\u001b[0m\n\u001b[0;32m----> 1\u001b[0m \u001b[38;5;28mprint\u001b[39m(\u001b[43mo2\u001b[49m)\n",
      "\u001b[0;31mNameError\u001b[0m: name 'o2' is not defined"
     ]
    }
   ],
   "source": [
    "print(o2)"
   ]
  },
  {
   "cell_type": "markdown",
   "id": "f0894454",
   "metadata": {},
   "source": [
    "This computes a few basic properties, but more importantly, the ``params`` attribute is loaded with a physical constants:"
   ]
  },
  {
   "cell_type": "code",
   "execution_count": 4,
   "id": "4ddf15e3",
   "metadata": {
    "execution": {
     "iopub.execute_input": "2022-09-07T19:28:59.036429Z",
     "iopub.status.busy": "2022-09-07T19:28:59.036192Z",
     "iopub.status.idle": "2022-09-07T19:28:59.050035Z",
     "shell.execute_reply": "2022-09-07T19:28:59.048899Z"
    }
   },
   "outputs": [
    {
     "ename": "NameError",
     "evalue": "name 'o2' is not defined",
     "output_type": "error",
     "traceback": [
      "\u001b[0;31m---------------------------------------------------------------------------\u001b[0m",
      "\u001b[0;31mNameError\u001b[0m                                 Traceback (most recent call last)",
      "Cell \u001b[0;32mIn [4], line 1\u001b[0m\n\u001b[0;32m----> 1\u001b[0m \u001b[38;5;28mprint\u001b[39m(\u001b[43mo2\u001b[49m\u001b[38;5;241m.\u001b[39mparams)\n",
      "\u001b[0;31mNameError\u001b[0m: name 'o2' is not defined"
     ]
    }
   ],
   "source": [
    "print(o2.params)"
   ]
  },
  {
   "cell_type": "markdown",
   "id": "c4ce2518",
   "metadata": {},
   "source": [
    "These constants are used for computation of more complex properties, especially for mixtures."
   ]
  },
  {
   "cell_type": "markdown",
   "id": "67d0909b",
   "metadata": {},
   "source": [
    "**Pro Tip**: You can access the values of these parameters either from the ``params`` attribute or using the dictionary lookup of the main object which will dispatch the query to the ``params`` attribute.  Writing also works."
   ]
  },
  {
   "cell_type": "code",
   "execution_count": 5,
   "id": "9d0cc1fd",
   "metadata": {
    "execution": {
     "iopub.execute_input": "2022-09-07T19:28:59.053813Z",
     "iopub.status.busy": "2022-09-07T19:28:59.053579Z",
     "iopub.status.idle": "2022-09-07T19:28:59.067703Z",
     "shell.execute_reply": "2022-09-07T19:28:59.066946Z"
    }
   },
   "outputs": [
    {
     "ename": "NameError",
     "evalue": "name 'o2' is not defined",
     "output_type": "error",
     "traceback": [
      "\u001b[0;31m---------------------------------------------------------------------------\u001b[0m",
      "\u001b[0;31mNameError\u001b[0m                                 Traceback (most recent call last)",
      "Cell \u001b[0;32mIn [5], line 1\u001b[0m\n\u001b[0;32m----> 1\u001b[0m \u001b[43mo2\u001b[49m\u001b[38;5;241m.\u001b[39mparams[\u001b[38;5;124m'\u001b[39m\u001b[38;5;124mCAS\u001b[39m\u001b[38;5;124m'\u001b[39m]\n",
      "\u001b[0;31mNameError\u001b[0m: name 'o2' is not defined"
     ]
    }
   ],
   "source": [
    "o2.params['CAS']"
   ]
  },
  {
   "cell_type": "code",
   "execution_count": 6,
   "id": "7c48a05f",
   "metadata": {
    "execution": {
     "iopub.execute_input": "2022-09-07T19:28:59.071019Z",
     "iopub.status.busy": "2022-09-07T19:28:59.070753Z",
     "iopub.status.idle": "2022-09-07T19:28:59.084290Z",
     "shell.execute_reply": "2022-09-07T19:28:59.083518Z"
    }
   },
   "outputs": [
    {
     "ename": "NameError",
     "evalue": "name 'o2' is not defined",
     "output_type": "error",
     "traceback": [
      "\u001b[0;31m---------------------------------------------------------------------------\u001b[0m",
      "\u001b[0;31mNameError\u001b[0m                                 Traceback (most recent call last)",
      "Cell \u001b[0;32mIn [6], line 1\u001b[0m\n\u001b[0;32m----> 1\u001b[0m \u001b[43mo2\u001b[49m[\u001b[38;5;124m'\u001b[39m\u001b[38;5;124mparam.CAS\u001b[39m\u001b[38;5;124m'\u001b[39m]\n",
      "\u001b[0;31mNameError\u001b[0m: name 'o2' is not defined"
     ]
    }
   ],
   "source": [
    "o2['param.CAS']"
   ]
  },
  {
   "cell_type": "code",
   "execution_count": 7,
   "id": "62dbe115",
   "metadata": {
    "execution": {
     "iopub.execute_input": "2022-09-07T19:28:59.087656Z",
     "iopub.status.busy": "2022-09-07T19:28:59.087420Z",
     "iopub.status.idle": "2022-09-07T19:28:59.101813Z",
     "shell.execute_reply": "2022-09-07T19:28:59.101068Z"
    }
   },
   "outputs": [
    {
     "ename": "NameError",
     "evalue": "name 'o2' is not defined",
     "output_type": "error",
     "traceback": [
      "\u001b[0;31m---------------------------------------------------------------------------\u001b[0m",
      "\u001b[0;31mNameError\u001b[0m                                 Traceback (most recent call last)",
      "Cell \u001b[0;32mIn [7], line 1\u001b[0m\n\u001b[0;32m----> 1\u001b[0m \u001b[43mo2\u001b[49m[\u001b[38;5;124m'\u001b[39m\u001b[38;5;124mparam.foo\u001b[39m\u001b[38;5;124m'\u001b[39m] \u001b[38;5;241m=\u001b[39m \u001b[38;5;124m'\u001b[39m\u001b[38;5;124mbar\u001b[39m\u001b[38;5;124m'\u001b[39m\n\u001b[1;32m      2\u001b[0m o2\u001b[38;5;241m.\u001b[39mparams[\u001b[38;5;124m'\u001b[39m\u001b[38;5;124mfoo\u001b[39m\u001b[38;5;124m'\u001b[39m]\n",
      "\u001b[0;31mNameError\u001b[0m: name 'o2' is not defined"
     ]
    }
   ],
   "source": [
    "o2['param.foo'] = 'bar'\n",
    "o2.params['foo']"
   ]
  },
  {
   "cell_type": "markdown",
   "id": "019faba9",
   "metadata": {},
   "source": [
    "## Create a mixture object\n",
    "\n",
    "The ``phase`` module contains a few classes designed to work with mixtures.  These basically keep track of which individual species are in the mixture and their compositions, and they have a suite of pore-scale models that compute the mixture properties using common mixing rules or correlations:"
   ]
  },
  {
   "cell_type": "code",
   "execution_count": 8,
   "id": "09f2f79c",
   "metadata": {
    "execution": {
     "iopub.execute_input": "2022-09-07T19:28:59.105485Z",
     "iopub.status.busy": "2022-09-07T19:28:59.105226Z",
     "iopub.status.idle": "2022-09-07T19:28:59.119028Z",
     "shell.execute_reply": "2022-09-07T19:28:59.118303Z"
    }
   },
   "outputs": [
    {
     "ename": "NameError",
     "evalue": "name 'o2' is not defined",
     "output_type": "error",
     "traceback": [
      "\u001b[0;31m---------------------------------------------------------------------------\u001b[0m",
      "\u001b[0;31mNameError\u001b[0m                                 Traceback (most recent call last)",
      "Cell \u001b[0;32mIn [8], line 1\u001b[0m\n\u001b[0;32m----> 1\u001b[0m air \u001b[38;5;241m=\u001b[39m op\u001b[38;5;241m.\u001b[39mphase\u001b[38;5;241m.\u001b[39mBinaryGas(network\u001b[38;5;241m=\u001b[39mpn, components\u001b[38;5;241m=\u001b[39m[\u001b[43mo2\u001b[49m, n2])\n",
      "\u001b[0;31mNameError\u001b[0m: name 'o2' is not defined"
     ]
    }
   ],
   "source": [
    "air = op.phase.BinaryGas(network=pn, components=[o2, n2])"
   ]
  },
  {
   "cell_type": "markdown",
   "id": "511e50e2",
   "metadata": {},
   "source": [
    "The ``air`` object is not quite ready yet because we have not specified the composition of each species.  This can be done a few  ways, but a useful and powerful method is available, ``y``, which allows both *setting* the mole fraction (conventionally referred to as *y* in chemical engineering) and *getting* the current values. When a component name *and* a mole fraction is given it sets this value:"
   ]
  },
  {
   "cell_type": "code",
   "execution_count": 9,
   "id": "1cea0704",
   "metadata": {
    "execution": {
     "iopub.execute_input": "2022-09-07T19:28:59.122893Z",
     "iopub.status.busy": "2022-09-07T19:28:59.122661Z",
     "iopub.status.idle": "2022-09-07T19:28:59.137355Z",
     "shell.execute_reply": "2022-09-07T19:28:59.136491Z"
    }
   },
   "outputs": [
    {
     "ename": "NameError",
     "evalue": "name 'air' is not defined",
     "output_type": "error",
     "traceback": [
      "\u001b[0;31m---------------------------------------------------------------------------\u001b[0m",
      "\u001b[0;31mNameError\u001b[0m                                 Traceback (most recent call last)",
      "Cell \u001b[0;32mIn [9], line 1\u001b[0m\n\u001b[0;32m----> 1\u001b[0m \u001b[43mair\u001b[49m\u001b[38;5;241m.\u001b[39my(o2\u001b[38;5;241m.\u001b[39mname, \u001b[38;5;241m0.21\u001b[39m)\n\u001b[1;32m      2\u001b[0m air\u001b[38;5;241m.\u001b[39my(n2\u001b[38;5;241m.\u001b[39mname, \u001b[38;5;241m0.79\u001b[39m)\n",
      "\u001b[0;31mNameError\u001b[0m: name 'air' is not defined"
     ]
    }
   ],
   "source": [
    "air.y(o2.name, 0.21)\n",
    "air.y(n2.name, 0.79)"
   ]
  },
  {
   "cell_type": "markdown",
   "id": "862b9ffc",
   "metadata": {},
   "source": [
    "The values of mole fraction are stored in the ``Mixture`` object with the species names as part of the key:"
   ]
  },
  {
   "cell_type": "code",
   "execution_count": 10,
   "id": "ea409e8d",
   "metadata": {
    "execution": {
     "iopub.execute_input": "2022-09-07T19:28:59.140655Z",
     "iopub.status.busy": "2022-09-07T19:28:59.140419Z",
     "iopub.status.idle": "2022-09-07T19:28:59.154888Z",
     "shell.execute_reply": "2022-09-07T19:28:59.154120Z"
    }
   },
   "outputs": [
    {
     "ename": "NameError",
     "evalue": "name 'air' is not defined",
     "output_type": "error",
     "traceback": [
      "\u001b[0;31m---------------------------------------------------------------------------\u001b[0m",
      "\u001b[0;31mNameError\u001b[0m                                 Traceback (most recent call last)",
      "Cell \u001b[0;32mIn [10], line 1\u001b[0m\n\u001b[0;32m----> 1\u001b[0m \u001b[38;5;28mprint\u001b[39m(\u001b[43mair\u001b[49m[\u001b[38;5;124m'\u001b[39m\u001b[38;5;124mpore.mole_fraction.\u001b[39m\u001b[38;5;124m'\u001b[39m\u001b[38;5;241m+\u001b[39mo2\u001b[38;5;241m.\u001b[39mname])\n\u001b[1;32m      2\u001b[0m \u001b[38;5;28mprint\u001b[39m(air[\u001b[38;5;124m'\u001b[39m\u001b[38;5;124mpore.mole_fraction.\u001b[39m\u001b[38;5;124m'\u001b[39m\u001b[38;5;241m+\u001b[39mn2\u001b[38;5;241m.\u001b[39mname])\n",
      "\u001b[0;31mNameError\u001b[0m: name 'air' is not defined"
     ]
    }
   ],
   "source": [
    "print(air['pore.mole_fraction.'+o2.name])\n",
    "print(air['pore.mole_fraction.'+n2.name])"
   ]
  },
  {
   "cell_type": "markdown",
   "id": "d8c9d427",
   "metadata": {},
   "source": [
    "**Pro Tip**: The model fractions of *both* species can be retrieved using the partial dict lookup:"
   ]
  },
  {
   "cell_type": "code",
   "execution_count": 11,
   "id": "5e01fd69",
   "metadata": {
    "execution": {
     "iopub.execute_input": "2022-09-07T19:28:59.158652Z",
     "iopub.status.busy": "2022-09-07T19:28:59.158416Z",
     "iopub.status.idle": "2022-09-07T19:28:59.171960Z",
     "shell.execute_reply": "2022-09-07T19:28:59.171144Z"
    }
   },
   "outputs": [
    {
     "ename": "NameError",
     "evalue": "name 'air' is not defined",
     "output_type": "error",
     "traceback": [
      "\u001b[0;31m---------------------------------------------------------------------------\u001b[0m",
      "\u001b[0;31mNameError\u001b[0m                                 Traceback (most recent call last)",
      "Cell \u001b[0;32mIn [11], line 1\u001b[0m\n\u001b[0;32m----> 1\u001b[0m \u001b[38;5;28mprint\u001b[39m(\u001b[43mair\u001b[49m[\u001b[38;5;124m'\u001b[39m\u001b[38;5;124mpore.mole_fraction\u001b[39m\u001b[38;5;124m'\u001b[39m])\n",
      "\u001b[0;31mNameError\u001b[0m: name 'air' is not defined"
     ]
    }
   ],
   "source": [
    "print(air['pore.mole_fraction'])"
   ]
  },
  {
   "cell_type": "markdown",
   "id": "1a82dc2a",
   "metadata": {},
   "source": [
    "**Pro Tip**: The above trick can also be used to get a list of components that are currently part of the mixture:"
   ]
  },
  {
   "cell_type": "code",
   "execution_count": 12,
   "id": "bef07df0",
   "metadata": {
    "execution": {
     "iopub.execute_input": "2022-09-07T19:28:59.175351Z",
     "iopub.status.busy": "2022-09-07T19:28:59.175115Z",
     "iopub.status.idle": "2022-09-07T19:28:59.188495Z",
     "shell.execute_reply": "2022-09-07T19:28:59.187717Z"
    }
   },
   "outputs": [
    {
     "ename": "NameError",
     "evalue": "name 'air' is not defined",
     "output_type": "error",
     "traceback": [
      "\u001b[0;31m---------------------------------------------------------------------------\u001b[0m",
      "\u001b[0;31mNameError\u001b[0m                                 Traceback (most recent call last)",
      "Cell \u001b[0;32mIn [12], line 1\u001b[0m\n\u001b[0;32m----> 1\u001b[0m \u001b[43mair\u001b[49m[\u001b[38;5;124m'\u001b[39m\u001b[38;5;124mpore.mole_fraction\u001b[39m\u001b[38;5;124m'\u001b[39m]\u001b[38;5;241m.\u001b[39mkeys()\n",
      "\u001b[0;31mNameError\u001b[0m: name 'air' is not defined"
     ]
    }
   ],
   "source": [
    "air['pore.mole_fraction'].keys()"
   ]
  },
  {
   "cell_type": "markdown",
   "id": "256a0a29",
   "metadata": {},
   "source": [
    "**Pro Tip**: The individual species can be retrieved using the ``components`` attribute:"
   ]
  },
  {
   "cell_type": "code",
   "execution_count": 13,
   "id": "cc33c69e",
   "metadata": {
    "execution": {
     "iopub.execute_input": "2022-09-07T19:28:59.191856Z",
     "iopub.status.busy": "2022-09-07T19:28:59.191599Z",
     "iopub.status.idle": "2022-09-07T19:28:59.204626Z",
     "shell.execute_reply": "2022-09-07T19:28:59.203880Z"
    }
   },
   "outputs": [
    {
     "ename": "NameError",
     "evalue": "name 'air' is not defined",
     "output_type": "error",
     "traceback": [
      "\u001b[0;31m---------------------------------------------------------------------------\u001b[0m",
      "\u001b[0;31mNameError\u001b[0m                                 Traceback (most recent call last)",
      "Cell \u001b[0;32mIn [13], line 1\u001b[0m\n\u001b[0;32m----> 1\u001b[0m \u001b[43mair\u001b[49m\u001b[38;5;241m.\u001b[39mcomponents\n",
      "\u001b[0;31mNameError\u001b[0m: name 'air' is not defined"
     ]
    }
   ],
   "source": [
    "air.components"
   ]
  },
  {
   "cell_type": "markdown",
   "id": "4d6ab62b",
   "metadata": {},
   "source": [
    "The ``y`` method (and ``x`` on ``LiquidMixture``) can also be used to retrieve the mole fraction of one or both components:"
   ]
  },
  {
   "cell_type": "code",
   "execution_count": 14,
   "id": "3a08b345",
   "metadata": {
    "execution": {
     "iopub.execute_input": "2022-09-07T19:28:59.208153Z",
     "iopub.status.busy": "2022-09-07T19:28:59.207919Z",
     "iopub.status.idle": "2022-09-07T19:28:59.221892Z",
     "shell.execute_reply": "2022-09-07T19:28:59.221166Z"
    }
   },
   "outputs": [
    {
     "ename": "NameError",
     "evalue": "name 'air' is not defined",
     "output_type": "error",
     "traceback": [
      "\u001b[0;31m---------------------------------------------------------------------------\u001b[0m",
      "\u001b[0;31mNameError\u001b[0m                                 Traceback (most recent call last)",
      "Cell \u001b[0;32mIn [14], line 1\u001b[0m\n\u001b[0;32m----> 1\u001b[0m \u001b[43mair\u001b[49m\u001b[38;5;241m.\u001b[39my()\n",
      "\u001b[0;31mNameError\u001b[0m: name 'air' is not defined"
     ]
    }
   ],
   "source": [
    "air.y()"
   ]
  },
  {
   "cell_type": "code",
   "execution_count": 15,
   "id": "a45e245e",
   "metadata": {
    "execution": {
     "iopub.execute_input": "2022-09-07T19:28:59.225008Z",
     "iopub.status.busy": "2022-09-07T19:28:59.224772Z",
     "iopub.status.idle": "2022-09-07T19:28:59.237917Z",
     "shell.execute_reply": "2022-09-07T19:28:59.237153Z"
    }
   },
   "outputs": [
    {
     "ename": "NameError",
     "evalue": "name 'air' is not defined",
     "output_type": "error",
     "traceback": [
      "\u001b[0;31m---------------------------------------------------------------------------\u001b[0m",
      "\u001b[0;31mNameError\u001b[0m                                 Traceback (most recent call last)",
      "Cell \u001b[0;32mIn [15], line 1\u001b[0m\n\u001b[0;32m----> 1\u001b[0m \u001b[43mair\u001b[49m\u001b[38;5;241m.\u001b[39my(n2\u001b[38;5;241m.\u001b[39mname)\n",
      "\u001b[0;31mNameError\u001b[0m: name 'air' is not defined"
     ]
    }
   ],
   "source": [
    "air.y(n2.name)"
   ]
  },
  {
   "cell_type": "markdown",
   "id": "d56239ab",
   "metadata": {},
   "source": [
    "In addition to keeping track of the species and their compositions, the mixture object also computes mixture properties. These can be seen by printing ``air``:"
   ]
  },
  {
   "cell_type": "code",
   "execution_count": 16,
   "id": "6fbd2ce3",
   "metadata": {
    "execution": {
     "iopub.execute_input": "2022-09-07T19:28:59.241392Z",
     "iopub.status.busy": "2022-09-07T19:28:59.241156Z",
     "iopub.status.idle": "2022-09-07T19:28:59.254085Z",
     "shell.execute_reply": "2022-09-07T19:28:59.253336Z"
    }
   },
   "outputs": [
    {
     "ename": "NameError",
     "evalue": "name 'air' is not defined",
     "output_type": "error",
     "traceback": [
      "\u001b[0;31m---------------------------------------------------------------------------\u001b[0m",
      "\u001b[0;31mNameError\u001b[0m                                 Traceback (most recent call last)",
      "Cell \u001b[0;32mIn [16], line 1\u001b[0m\n\u001b[0;32m----> 1\u001b[0m \u001b[38;5;28mprint\u001b[39m(\u001b[43mair\u001b[49m)\n",
      "\u001b[0;31mNameError\u001b[0m: name 'air' is not defined"
     ]
    }
   ],
   "source": [
    "print(air)"
   ]
  },
  {
   "cell_type": "markdown",
   "id": "333728b0",
   "metadata": {},
   "source": [
    "Several of the properties listed above were on the species objects, such as viscosity.  These viscosity of the mixture is computing using a mole-weigthed approach.  The molecular weight is also the mole-weighted average of the two species.  Diffusivity on the other hand was not present on the species.  It is computed for the mixture using the Lennard-Jones approach (as indicated the LJ items in the list). The binary diffusivity computing for air (i.e oxygen in nitrogen) is:"
   ]
  },
  {
   "cell_type": "code",
   "execution_count": 17,
   "id": "9f145307",
   "metadata": {
    "execution": {
     "iopub.execute_input": "2022-09-07T19:28:59.257889Z",
     "iopub.status.busy": "2022-09-07T19:28:59.257632Z",
     "iopub.status.idle": "2022-09-07T19:28:59.272765Z",
     "shell.execute_reply": "2022-09-07T19:28:59.271732Z"
    }
   },
   "outputs": [
    {
     "ename": "NameError",
     "evalue": "name 'air' is not defined",
     "output_type": "error",
     "traceback": [
      "\u001b[0;31m---------------------------------------------------------------------------\u001b[0m",
      "\u001b[0;31mNameError\u001b[0m                                 Traceback (most recent call last)",
      "Cell \u001b[0;32mIn [17], line 1\u001b[0m\n\u001b[0;32m----> 1\u001b[0m \u001b[43mair\u001b[49m[\u001b[38;5;124m'\u001b[39m\u001b[38;5;124mpore.diffusivity\u001b[39m\u001b[38;5;124m'\u001b[39m]\n",
      "\u001b[0;31mNameError\u001b[0m: name 'air' is not defined"
     ]
    }
   ],
   "source": [
    "air['pore.diffusivity']"
   ]
  },
  {
   "cell_type": "markdown",
   "id": "20964fab",
   "metadata": {},
   "source": [
    "which is only slightly higher than the commonly accepted value of 2.09e-5."
   ]
  },
  {
   "cell_type": "markdown",
   "id": "e8db992a",
   "metadata": {},
   "source": [
    "Note that this class is specifically called ``BinaryGas`` because the LJ models are limited to binary systems.  All the other models are able to handle an arbitrary number of components, but computing diffusivity in ternary+ mixtures becomes challenging. At the time of this writing OpenPNM does not support this."
   ]
  },
  {
   "cell_type": "markdown",
   "id": "1ed52cdd",
   "metadata": {},
   "source": [
    "## Other features of mixtures\n",
    "\n",
    "The various mixture classes offer a few other features, which will be explored below."
   ]
  },
  {
   "cell_type": "markdown",
   "id": "b37a24b5",
   "metadata": {},
   "source": [
    "You can remove a species:"
   ]
  },
  {
   "cell_type": "code",
   "execution_count": 18,
   "id": "6a1e0338",
   "metadata": {
    "execution": {
     "iopub.execute_input": "2022-09-07T19:28:59.276352Z",
     "iopub.status.busy": "2022-09-07T19:28:59.276113Z",
     "iopub.status.idle": "2022-09-07T19:28:59.289884Z",
     "shell.execute_reply": "2022-09-07T19:28:59.289045Z"
    }
   },
   "outputs": [
    {
     "ename": "NameError",
     "evalue": "name 'air' is not defined",
     "output_type": "error",
     "traceback": [
      "\u001b[0;31m---------------------------------------------------------------------------\u001b[0m",
      "\u001b[0;31mNameError\u001b[0m                                 Traceback (most recent call last)",
      "Cell \u001b[0;32mIn [18], line 1\u001b[0m\n\u001b[0;32m----> 1\u001b[0m \u001b[43mair\u001b[49m\u001b[38;5;241m.\u001b[39mremove_comp(o2\u001b[38;5;241m.\u001b[39mname)\n\u001b[1;32m      2\u001b[0m air\u001b[38;5;241m.\u001b[39mcomponents\n",
      "\u001b[0;31mNameError\u001b[0m: name 'air' is not defined"
     ]
    }
   ],
   "source": [
    "air.remove_comp(o2.name)\n",
    "air.components"
   ]
  },
  {
   "cell_type": "markdown",
   "id": "16e65acf",
   "metadata": {},
   "source": [
    "**Pro Tip**: A species is considered a component of a mixture *if and only if* ``'pore.mole_fraction.<species.name>'`` appears in the mixture dictionary. Adding and removing the corresponding array from the dictionary is literally how the components are defined. For instance:"
   ]
  },
  {
   "cell_type": "code",
   "execution_count": 19,
   "id": "54aa4b9c",
   "metadata": {
    "execution": {
     "iopub.execute_input": "2022-09-07T19:28:59.293609Z",
     "iopub.status.busy": "2022-09-07T19:28:59.293373Z",
     "iopub.status.idle": "2022-09-07T19:28:59.306777Z",
     "shell.execute_reply": "2022-09-07T19:28:59.306012Z"
    }
   },
   "outputs": [
    {
     "ename": "NameError",
     "evalue": "name 'air' is not defined",
     "output_type": "error",
     "traceback": [
      "\u001b[0;31m---------------------------------------------------------------------------\u001b[0m",
      "\u001b[0;31mNameError\u001b[0m                                 Traceback (most recent call last)",
      "Cell \u001b[0;32mIn [19], line 1\u001b[0m\n\u001b[0;32m----> 1\u001b[0m \u001b[38;5;28;01mdel\u001b[39;00m \u001b[43mair\u001b[49m[\u001b[38;5;124m'\u001b[39m\u001b[38;5;124mpore.mole_fraction.\u001b[39m\u001b[38;5;124m'\u001b[39m \u001b[38;5;241m+\u001b[39m n2\u001b[38;5;241m.\u001b[39mname]\n\u001b[1;32m      2\u001b[0m air\u001b[38;5;241m.\u001b[39mcomponents\n",
      "\u001b[0;31mNameError\u001b[0m: name 'air' is not defined"
     ]
    }
   ],
   "source": [
    "del air['pore.mole_fraction.' + n2.name]\n",
    "air.components"
   ]
  },
  {
   "cell_type": "markdown",
   "id": "f242e651",
   "metadata": {},
   "source": [
    "They can be readded in the same way:"
   ]
  },
  {
   "cell_type": "code",
   "execution_count": 20,
   "id": "98b26e4b",
   "metadata": {
    "execution": {
     "iopub.execute_input": "2022-09-07T19:28:59.310497Z",
     "iopub.status.busy": "2022-09-07T19:28:59.310261Z",
     "iopub.status.idle": "2022-09-07T19:28:59.324232Z",
     "shell.execute_reply": "2022-09-07T19:28:59.323368Z"
    }
   },
   "outputs": [
    {
     "ename": "NameError",
     "evalue": "name 'air' is not defined",
     "output_type": "error",
     "traceback": [
      "\u001b[0;31m---------------------------------------------------------------------------\u001b[0m",
      "\u001b[0;31mNameError\u001b[0m                                 Traceback (most recent call last)",
      "Cell \u001b[0;32mIn [20], line 1\u001b[0m\n\u001b[0;32m----> 1\u001b[0m \u001b[43mair\u001b[49m[\u001b[38;5;124m'\u001b[39m\u001b[38;5;124mpore.mole_fraction.\u001b[39m\u001b[38;5;124m'\u001b[39m \u001b[38;5;241m+\u001b[39m n2\u001b[38;5;241m.\u001b[39mname] \u001b[38;5;241m=\u001b[39m \u001b[38;5;241m0.79\u001b[39m\n\u001b[1;32m      2\u001b[0m air\u001b[38;5;241m.\u001b[39mcomponents\n",
      "\u001b[0;31mNameError\u001b[0m: name 'air' is not defined"
     ]
    }
   ],
   "source": [
    "air['pore.mole_fraction.' + n2.name] = 0.79\n",
    "air.components"
   ]
  },
  {
   "cell_type": "markdown",
   "id": "4f270ad2",
   "metadata": {},
   "source": [
    "But there is a specific method for this:"
   ]
  },
  {
   "cell_type": "code",
   "execution_count": 21,
   "id": "beb1266e",
   "metadata": {
    "execution": {
     "iopub.execute_input": "2022-09-07T19:28:59.327571Z",
     "iopub.status.busy": "2022-09-07T19:28:59.327334Z",
     "iopub.status.idle": "2022-09-07T19:28:59.341749Z",
     "shell.execute_reply": "2022-09-07T19:28:59.340845Z"
    }
   },
   "outputs": [
    {
     "ename": "NameError",
     "evalue": "name 'air' is not defined",
     "output_type": "error",
     "traceback": [
      "\u001b[0;31m---------------------------------------------------------------------------\u001b[0m",
      "\u001b[0;31mNameError\u001b[0m                                 Traceback (most recent call last)",
      "Cell \u001b[0;32mIn [21], line 1\u001b[0m\n\u001b[0;32m----> 1\u001b[0m \u001b[43mair\u001b[49m\u001b[38;5;241m.\u001b[39madd_comp(o2, mole_fraction\u001b[38;5;241m=\u001b[39m\u001b[38;5;241m0.21\u001b[39m)\n\u001b[1;32m      2\u001b[0m air\u001b[38;5;241m.\u001b[39mcomponents\n",
      "\u001b[0;31mNameError\u001b[0m: name 'air' is not defined"
     ]
    }
   ],
   "source": [
    "air.add_comp(o2, mole_fraction=0.21)\n",
    "air.components"
   ]
  },
  {
   "cell_type": "markdown",
   "id": "4be67b2a",
   "metadata": {},
   "source": [
    "You can also check the health of the mixture, such as whether all the mole fractions add to 1.0 each each pore:"
   ]
  },
  {
   "cell_type": "code",
   "execution_count": 22,
   "id": "125c84bc",
   "metadata": {
    "execution": {
     "iopub.execute_input": "2022-09-07T19:28:59.345626Z",
     "iopub.status.busy": "2022-09-07T19:28:59.345376Z",
     "iopub.status.idle": "2022-09-07T19:28:59.360977Z",
     "shell.execute_reply": "2022-09-07T19:28:59.360178Z"
    }
   },
   "outputs": [
    {
     "ename": "NameError",
     "evalue": "name 'air' is not defined",
     "output_type": "error",
     "traceback": [
      "\u001b[0;31m---------------------------------------------------------------------------\u001b[0m",
      "\u001b[0;31mNameError\u001b[0m                                 Traceback (most recent call last)",
      "Cell \u001b[0;32mIn [22], line 1\u001b[0m\n\u001b[0;32m----> 1\u001b[0m \u001b[38;5;28mprint\u001b[39m(\u001b[43mair\u001b[49m\u001b[38;5;241m.\u001b[39mcheck_mixture_health())\n",
      "\u001b[0;31mNameError\u001b[0m: name 'air' is not defined"
     ]
    }
   ],
   "source": [
    "print(air.check_mixture_health())"
   ]
  },
  {
   "cell_type": "code",
   "execution_count": 23,
   "id": "afdb6dd9",
   "metadata": {
    "execution": {
     "iopub.execute_input": "2022-09-07T19:28:59.364381Z",
     "iopub.status.busy": "2022-09-07T19:28:59.364134Z",
     "iopub.status.idle": "2022-09-07T19:28:59.378119Z",
     "shell.execute_reply": "2022-09-07T19:28:59.377350Z"
    }
   },
   "outputs": [
    {
     "ename": "NameError",
     "evalue": "name 'air' is not defined",
     "output_type": "error",
     "traceback": [
      "\u001b[0;31m---------------------------------------------------------------------------\u001b[0m",
      "\u001b[0;31mNameError\u001b[0m                                 Traceback (most recent call last)",
      "Cell \u001b[0;32mIn [23], line 1\u001b[0m\n\u001b[0;32m----> 1\u001b[0m \u001b[43mair\u001b[49m\u001b[38;5;241m.\u001b[39my(o2\u001b[38;5;241m.\u001b[39mname, \u001b[38;5;241m0.1\u001b[39m)\n\u001b[1;32m      2\u001b[0m \u001b[38;5;28mprint\u001b[39m(air\u001b[38;5;241m.\u001b[39mcheck_mixture_health())\n",
      "\u001b[0;31mNameError\u001b[0m: name 'air' is not defined"
     ]
    }
   ],
   "source": [
    "air.y(o2.name, 0.1)\n",
    "print(air.check_mixture_health())"
   ]
  },
  {
   "cell_type": "markdown",
   "id": "62dd1947",
   "metadata": {},
   "source": [
    "Lastly, the properties of the individual species can be retrieved from the mixture as follows:"
   ]
  },
  {
   "cell_type": "code",
   "execution_count": 24,
   "id": "15280faf",
   "metadata": {
    "execution": {
     "iopub.execute_input": "2022-09-07T19:28:59.381109Z",
     "iopub.status.busy": "2022-09-07T19:28:59.380876Z",
     "iopub.status.idle": "2022-09-07T19:28:59.397195Z",
     "shell.execute_reply": "2022-09-07T19:28:59.396180Z"
    }
   },
   "outputs": [
    {
     "ename": "NameError",
     "evalue": "name 'air' is not defined",
     "output_type": "error",
     "traceback": [
      "\u001b[0;31m---------------------------------------------------------------------------\u001b[0m",
      "\u001b[0;31mNameError\u001b[0m                                 Traceback (most recent call last)",
      "Cell \u001b[0;32mIn [24], line 1\u001b[0m\n\u001b[0;32m----> 1\u001b[0m \u001b[43mair\u001b[49m\u001b[38;5;241m.\u001b[39mget_comp_vals(\u001b[38;5;124m'\u001b[39m\u001b[38;5;124mpore.viscosity\u001b[39m\u001b[38;5;124m'\u001b[39m)\n",
      "\u001b[0;31mNameError\u001b[0m: name 'air' is not defined"
     ]
    }
   ],
   "source": [
    "air.get_comp_vals('pore.viscosity')"
   ]
  },
  {
   "cell_type": "markdown",
   "id": "6cf26706",
   "metadata": {},
   "source": [
    "**Pro Tip**: It is also possible to use the ``*`` notation as follows:"
   ]
  },
  {
   "cell_type": "code",
   "execution_count": 25,
   "id": "dfcd5542",
   "metadata": {
    "execution": {
     "iopub.execute_input": "2022-09-07T19:28:59.400574Z",
     "iopub.status.busy": "2022-09-07T19:28:59.400335Z",
     "iopub.status.idle": "2022-09-07T19:28:59.415611Z",
     "shell.execute_reply": "2022-09-07T19:28:59.414876Z"
    }
   },
   "outputs": [
    {
     "ename": "NameError",
     "evalue": "name 'air' is not defined",
     "output_type": "error",
     "traceback": [
      "\u001b[0;31m---------------------------------------------------------------------------\u001b[0m",
      "\u001b[0;31mNameError\u001b[0m                                 Traceback (most recent call last)",
      "Cell \u001b[0;32mIn [25], line 1\u001b[0m\n\u001b[0;32m----> 1\u001b[0m \u001b[43mair\u001b[49m[\u001b[38;5;124m'\u001b[39m\u001b[38;5;124mpore.viscosity.*\u001b[39m\u001b[38;5;124m'\u001b[39m]\n",
      "\u001b[0;31mNameError\u001b[0m: name 'air' is not defined"
     ]
    }
   ],
   "source": [
    "air['pore.viscosity.*']"
   ]
  },
  {
   "cell_type": "markdown",
   "id": "8f480f41",
   "metadata": {},
   "source": [
    "The reason the ``*`` notation is needed is that ``'pore.viscosity'`` is already taken by the mixture viscosity.  Ideally, ``air['pore.viscosity']`` should trigger the lookup of the species values. It was briefly considered that all mixture properties should be labelled ``'pore.viscosity.mixture'``, which would have allowed for ``air['pore.viscosity']`` to trigger the return of the mixture viscosity and all components in a dictionary, but this added a lot of complications behind the scenes so the idea was dropped. As a work around, the ``*`` notation was added to the ``__getitem__`` method such that any dictionary lookups with a key that ends in ``*`` trigger a lookup of the requested property on any component species."
   ]
  },
  {
   "cell_type": "markdown",
   "id": "fefdd842",
   "metadata": {},
   "source": [
    "## Summary\n",
    "\n",
    "The mixture classes and functionality has been in *beta* for quite some time, and the version appearing in V3 is very streamlined and simple. "
   ]
  }
 ],
 "metadata": {
  "kernelspec": {
   "display_name": "Python 3 (ipykernel)",
   "language": "python",
   "name": "python3"
  },
  "language_info": {
   "codemirror_mode": {
    "name": "ipython",
    "version": 3
   },
   "file_extension": ".py",
   "mimetype": "text/x-python",
   "name": "python",
   "nbconvert_exporter": "python",
   "pygments_lexer": "ipython3",
   "version": "3.8.13"
  }
 },
 "nbformat": 4,
 "nbformat_minor": 5
}
