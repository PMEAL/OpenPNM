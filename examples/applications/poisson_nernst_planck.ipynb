# Please consider creating a notebook containing an example of how to implement the 
# Nernst-Planck equations coupled with charge conservation (i.e. Poisson's and electroneutrality) 
# Thank you!  
