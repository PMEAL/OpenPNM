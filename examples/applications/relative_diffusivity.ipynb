{
 "cells": [
  {
   "cell_type": "markdown",
   "id": "b80b06ec",
   "metadata": {},
   "source": [
    "# Obtaining Relative Diffusivity Curves"
   ]
  },
  {
   "cell_type": "markdown",
   "id": "b935303f",
   "metadata": {},
   "source": [
    "This is an example of calculating relative diffusivity in OpenPNM. The term **relative** indicates the existence of another phase in the medium. The concept of relative property (permeability) in multiphase transport was applied in relative permeability example for a flow problem. In this example the transport mechanism is defined as diffusion. "
   ]
  },
  {
   "cell_type": "code",
   "execution_count": 1,
   "id": "7caef94f",
   "metadata": {},
   "outputs": [],
   "source": [
    "import numpy as np\n",
    "import openpnm as op\n",
    "import matplotlib.pyplot as plt\n",
    "op.visualization.set_mpl_style()\n",
    "np.random.seed(10)\n",
    "%matplotlib inline\n",
    "np.set_printoptions(precision=5)"
   ]
  },
  {
   "cell_type": "markdown",
   "id": "8b3734a5",
   "metadata": {},
   "source": [
    "### Create network and phases"
   ]
  },
  {
   "cell_type": "markdown",
   "id": "e89fe5e1",
   "metadata": {},
   "source": [
    "First, we create a network and assign phases and properties in a similar way that we used to do for the other examples. Note that `op.models.collections.phase` is added to assign fluid properties such as diffusivity, surface tension, etc, and `op.models.collections.physics` is added to assign pore-scale models such as entry pressure, conduit conductance. Surface tension info will be used in Invasion percolation in the next step. Here, we assumed a user-defined value for air surface tension and contact angle, as they are not included in `collections.phase.air`. Similarly, a user-defined value for water diffusivity was assumed, as it is not included in `collections.phase.water`."
   ]
  },
  {
   "cell_type": "code",
   "execution_count": 2,
   "id": "199fbfe8",
   "metadata": {},
   "outputs": [],
   "source": [
    "pn = op.network.Cubic(shape=[15, 15, 15], spacing=1e-6)\n",
    "pn.add_model_collection(op.models.collections.geometry.spheres_and_cylinders)\n",
    "pn.regenerate_models()\n",
    "air = op.phase.Air(network=pn,name='air')\n",
    "air['pore.surface_tension'] = 0.072\n",
    "air['pore.contact_angle'] = 180.0\n",
    "air.add_model_collection(op.models.collections.phase.air)\n",
    "air.add_model_collection(op.models.collections.physics.basic)\n",
    "air.regenerate_models()\n",
    "water = op.phase.Water(network=pn,name='water')\n",
    "water['pore.diffusivity'] = 1e-9\n",
    "water.add_model_collection(op.models.collections.phase.water)\n",
    "water.add_model_collection(op.models.collections.physics.basic)\n",
    "water.regenerate_models()"
   ]
  },
  {
   "cell_type": "markdown",
   "id": "6c79c7ae",
   "metadata": {},
   "source": [
    "### Apply ordinary percolation"
   ]
  },
  {
   "cell_type": "markdown",
   "id": "754a4743",
   "metadata": {},
   "source": [
    "To simulate a partially saturated material we first invade some non-wetting phase.  This will be accomplished using the ``InvasonPercolation`` or ``OrdinaryPercolation`` algorithm. In both algorithms the invading phase invades the network based on the capillary pressure of the throats in the network. These two algorithms have difference in their percolation algorithm and results. As Invasion percolation was implemented in the relative permeability example, here we choose ordinary percolation to demonstrate how we can use its results. It is assumed that the invading phase is water:"
   ]
  },
  {
   "cell_type": "code",
   "execution_count": 7,
   "id": "c0881489",
   "metadata": {},
   "outputs": [
    {
     "name": "stderr",
     "output_type": "stream",
     "text": [
      "Performing drainage simulation: 100%|█████████████████████████████████████████████████| 25/25 [00:00<00:00, 209.47it/s]\n"
     ]
    }
   ],
   "source": [
    "drn = op.algorithms.Drainage(network=pn, phase=water)\n",
    "drn.set_inlet_BC(pn.pores('left'))\n",
    "drn.run()"
   ]
  },
  {
   "cell_type": "markdown",
   "id": "25d76312",
   "metadata": {},
   "source": [
    "In ordinary percolation, occupancies and saturation can be extracted from the results for a capillary pressure point. For example:"
   ]
  },
  {
   "cell_type": "code",
   "execution_count": 9,
   "id": "af80fff2",
   "metadata": {},
   "outputs": [],
   "source": [
    "water['pore.occupancy'] = drn['pore.invasion_pressure'] < 10000\n",
    "water['throat.occupancy'] = drn['throat.invasion_pressure'] < 10000\n",
    "air['pore.occupancy'] = 1 - water['pore.occupancy']\n",
    "air['throat.occupancy'] = 1 - water['throat.occupancy']"
   ]
  },
  {
   "cell_type": "markdown",
   "id": "d373b4da",
   "metadata": {},
   "source": [
    "### Saturation and rate functions"
   ]
  },
  {
   "cell_type": "markdown",
   "id": "3c85f5fa",
   "metadata": {},
   "source": [
    "To update calculate the saturation based on occupancy from each pressure point, we created a costum function:"
   ]
  },
  {
   "cell_type": "code",
   "execution_count": 10,
   "id": "34974a2e",
   "metadata": {},
   "outputs": [],
   "source": [
    "def sat_update(network, nwp, wp):\n",
    "    r\"\"\"\n",
    "        Calculates the saturation of each phase using occupancy information from ordinary percolation.\n",
    "        Parameters\n",
    "        ----------\n",
    "        network: network\n",
    "        nwp : phase\n",
    "            non-wetting phase\n",
    "        wp : phase\n",
    "            wetting phase\n",
    "    \"\"\"\n",
    "    pore_mask = nwp[\"pore.occupancy\"] == 1\n",
    "    throat_mask = nwp[\"throat.occupancy\"] == 1\n",
    "    sat_p = np.sum(network['pore.volume'][pore_mask])\n",
    "    sat_t = np.sum(network['throat.volume'][throat_mask])\n",
    "    sat1 = sat_p + sat_t\n",
    "    bulk = network['pore.volume'].sum() + network['throat.volume'].sum()\n",
    "    sat = sat1/bulk\n",
    "    return sat"
   ]
  },
  {
   "cell_type": "markdown",
   "id": "7e4dc401",
   "metadata": {},
   "source": [
    "Similar to the relative permeability example, the geometrical parameters in relative diffusivity can cancell out. Therefore,  the remaining fraction includes diffusion rates as follows:\n",
    "\n",
    "$D_{r}=\\frac {D_{eff-multiphase}}{D_{eff-single phase}}=\\frac {Rate_{multiphase}}{Rate_{single phase}}$\n",
    "\n",
    "Where $Rate_{multiphase}$ is the inlet diffusion rate of the phase (water/air) for a Fickian diffusion algorithm with `multiphase conduit_conductance` assigned as conduit diffusive conductance model to account for the existence of the other phase. Whereas $Rate_{single phase}$ is the inlet diffusion rate of the phase (water/air) for a Fickian diffusion algorithm with `generic_diffusive_conductance` assigned as diffusive conductance model for a single phase flow.\n",
    "\n",
    "\n",
    "Note that $D_{eff-single phase}$ is a property of the porous material, not the fluid. However, here to cancel out diffusivity in the $D_{r}$ fraction, the same phase must be used to calculate $Rate_{single phase}$. Therefore, we only need to find the rate values for calcuating the relative permeability.\n",
    "We define a function `Rate_calc`, which simulates a Fickian diffusion given the diffusive conductance keyword and returns the rate diffusion at inlet pores. "
   ]
  },
  {
   "cell_type": "code",
   "execution_count": 11,
   "id": "bd89cc62",
   "metadata": {},
   "outputs": [],
   "source": [
    "def Rate_calc(network, phase, inlet, outlet, conductance):\n",
    "        phase.regenerate_models()\n",
    "        Fd = op.algorithms.FickianDiffusion(network=network, phase=phase)\n",
    "        Fd.settings._update({'conductance' : conductance})\n",
    "        Fd.set_value_BC(pores=inlet, values=1)\n",
    "        Fd.set_value_BC(pores=outlet, values=0)\n",
    "        Fd.run()\n",
    "        val = np.abs(Fd.rate(pores=inlet, mode='group'))\n",
    "        return val"
   ]
  },
  {
   "cell_type": "markdown",
   "id": "cec93e20",
   "metadata": {},
   "source": [
    "In this example we are focusing on finding the relative diffusivities in x direction. A similar procedure can be applied on y and z directions. Let's define inlet and outlet pores:"
   ]
  },
  {
   "cell_type": "code",
   "execution_count": 12,
   "id": "35502453",
   "metadata": {},
   "outputs": [],
   "source": [
    "diff_in = pn.pores('left')\n",
    "diff_out = pn.pores('right')"
   ]
  },
  {
   "cell_type": "markdown",
   "id": "1b7a975d",
   "metadata": {},
   "source": [
    "### Define multiphase conductance"
   ]
  },
  {
   "cell_type": "markdown",
   "id": "e3e06da9",
   "metadata": {},
   "source": [
    "Similar to the relative permeability example, multiphase conductance models are assigned to account for the presence of the other phase:"
   ]
  },
  {
   "cell_type": "code",
   "execution_count": 13,
   "id": "9ec53557",
   "metadata": {},
   "outputs": [],
   "source": [
    "model_mp_cond = op.models.physics.multiphase.conduit_conductance\n",
    "air.add_model(model=model_mp_cond, propname='throat.conduit_diffusive_conductance',\n",
    "              throat_conductance='throat.diffusive_conductance', mode='medium', regen_mode='deferred')\n",
    "water.add_model(model=model_mp_cond, propname='throat.conduit_diffusive_conductance',\n",
    "              throat_conductance='throat.diffusive_conductance', mode='medium', regen_mode='deferred')"
   ]
  },
  {
   "cell_type": "markdown",
   "id": "d8ba0dd4",
   "metadata": {},
   "source": [
    "### Calculate relative diffusivities"
   ]
  },
  {
   "cell_type": "markdown",
   "id": "99fbbda0",
   "metadata": {},
   "source": [
    "Now that we have defined the required models and functions, we can find the relative diffusivity of phases over a range of saturation. The saturation points are found at a range of invasion pressure:"
   ]
  },
  {
   "cell_type": "code",
   "execution_count": 15,
   "id": "d20a5801",
   "metadata": {},
   "outputs": [
    {
     "name": "stdout",
     "output_type": "stream",
     "text": [
      "                                                                                                                       \r"
     ]
    }
   ],
   "source": [
    "Snwparr = []\n",
    "reldiff_nwp = []\n",
    "reldiff_wp = []\n",
    "for Pc in np.unique(drn['pore.invasion_pressure']):\n",
    "    water['pore.occupancy'] = drn['pore.invasion_pressure'] < Pc\n",
    "    water['throat.occupancy'] = drn['throat.invasion_pressure'] < Pc\n",
    "    air['pore.occupancy'] = 1 - water['pore.occupancy']\n",
    "    air['throat.occupancy'] = 1 - water['throat.occupancy']\n",
    "    air.regenerate_models()\n",
    "    water.regenerate_models()\n",
    "    sat_point = sat_update(pn, water, air)\n",
    "    Snwparr.append(sat_point)\n",
    "    Rate_single_nwp = Rate_calc(pn, air, diff_in, diff_out, conductance = 'throat.diffusive_conductance')\n",
    "    Rate_single_wp = Rate_calc(pn, water, diff_in, diff_out, conductance = 'throat.diffusive_conductance')\n",
    "    Rate_mult_nwp = Rate_calc(pn, air, diff_in, diff_out, conductance = 'throat.conduit_diffusive_conductance')\n",
    "    Rate_mult_wp = Rate_calc(pn, water, diff_in, diff_out, conductance = 'throat.conduit_diffusive_conductance')\n",
    "    reldiff_nwp.append(Rate_mult_nwp/Rate_single_nwp)\n",
    "    reldiff_wp.append(Rate_mult_wp/Rate_single_wp)"
   ]
  },
  {
   "cell_type": "markdown",
   "id": "ceb7b520",
   "metadata": {},
   "source": [
    "Plotting the curves:"
   ]
  },
  {
   "cell_type": "code",
   "execution_count": 16,
   "id": "249c0601",
   "metadata": {},
   "outputs": [
    {
     "data": {
      "text/plain": [
       "<matplotlib.legend.Legend at 0x244820884c0>"
      ]
     },
     "execution_count": 16,
     "metadata": {},
     "output_type": "execute_result"
    },
    {
     "data": {
      "image/svg+xml": "<?xml version=\"1.0\" encoding=\"utf-8\" standalone=\"no\"?>\n<!DOCTYPE svg PUBLIC \"-//W3C//DTD SVG 1.1//EN\"\n  \"http://www.w3.org/Graphics/SVG/1.1/DTD/svg11.dtd\">\n<svg xmlns:xlink=\"http://www.w3.org/1999/xlink\" width=\"497.38125pt\" height=\"494.754375pt\" viewBox=\"0 0 497.38125 494.754375\" xmlns=\"http://www.w3.org/2000/svg\" version=\"1.1\">\n <metadata>\n  <rdf:RDF xmlns:dc=\"http://purl.org/dc/elements/1.1/\" xmlns:cc=\"http://creativecommons.org/ns#\" xmlns:rdf=\"http://www.w3.org/1999/02/22-rdf-syntax-ns#\">\n   <cc:Work>\n    <dc:type rdf:resource=\"http://purl.org/dc/dcmitype/StillImage\"/>\n    <dc:date>2022-09-20T13:26:43.249585</dc:date>\n    <dc:format>image/svg+xml</dc:format>\n    <dc:creator>\n     <cc:Agent>\n      <dc:title>Matplotlib v3.5.0, https://matplotlib.org/</dc:title>\n     </cc:Agent>\n    </dc:creator>\n   </cc:Work>\n  </rdf:RDF>\n </metadata>\n <defs>\n  <style type=\"text/css\">*{stroke-linejoin: round; stroke-linecap: butt}</style>\n </defs>\n <g id=\"figure_1\">\n  <g id=\"patch_1\">\n   <path d=\"M 0 494.754375 \nL 497.38125 494.754375 \nL 497.38125 0 \nL 0 0 \nL 0 494.754375 \nz\n\" style=\"fill: none\"/>\n  </g>\n  <g id=\"axes_1\">\n   <g id=\"patch_2\">\n    <path d=\"M 43.78125 457.198125 \nL 490.18125 457.198125 \nL 490.18125 22.318125 \nL 43.78125 22.318125 \nz\n\" style=\"fill: #ffffff\"/>\n   </g>\n   <g id=\"matplotlib.axis_1\">\n    <g id=\"xtick_1\">\n     <g id=\"line2d_1\">\n      <defs>\n       <path id=\"m3e00445787\" d=\"M 0 0 \nL 0 3.5 \n\" style=\"stroke: #000000; stroke-width: 0.8\"/>\n      </defs>\n      <g>\n       <use xlink:href=\"#m3e00445787\" x=\"64.072159\" y=\"457.198125\" style=\"stroke: #000000; stroke-width: 0.8\"/>\n      </g>\n     </g>\n     <g id=\"text_1\">\n      <!-- 0.0 -->\n      <g transform=\"translate(56.120597 471.796562)scale(0.1 -0.1)\">\n       <defs>\n        <path id=\"DejaVuSans-30\" d=\"M 2034 4250 \nQ 1547 4250 1301 3770 \nQ 1056 3291 1056 2328 \nQ 1056 1369 1301 889 \nQ 1547 409 2034 409 \nQ 2525 409 2770 889 \nQ 3016 1369 3016 2328 \nQ 3016 3291 2770 3770 \nQ 2525 4250 2034 4250 \nz\nM 2034 4750 \nQ 2819 4750 3233 4129 \nQ 3647 3509 3647 2328 \nQ 3647 1150 3233 529 \nQ 2819 -91 2034 -91 \nQ 1250 -91 836 529 \nQ 422 1150 422 2328 \nQ 422 3509 836 4129 \nQ 1250 4750 2034 4750 \nz\n\" transform=\"scale(0.015625)\"/>\n        <path id=\"DejaVuSans-2e\" d=\"M 684 794 \nL 1344 794 \nL 1344 0 \nL 684 0 \nL 684 794 \nz\n\" transform=\"scale(0.015625)\"/>\n       </defs>\n       <use xlink:href=\"#DejaVuSans-30\"/>\n       <use xlink:href=\"#DejaVuSans-2e\" x=\"63.623047\"/>\n       <use xlink:href=\"#DejaVuSans-30\" x=\"95.410156\"/>\n      </g>\n     </g>\n    </g>\n    <g id=\"xtick_2\">\n     <g id=\"line2d_2\">\n      <g>\n       <use xlink:href=\"#m3e00445787\" x=\"146.102146\" y=\"457.198125\" style=\"stroke: #000000; stroke-width: 0.8\"/>\n      </g>\n     </g>\n     <g id=\"text_2\">\n      <!-- 0.2 -->\n      <g transform=\"translate(138.150583 471.796562)scale(0.1 -0.1)\">\n       <defs>\n        <path id=\"DejaVuSans-32\" d=\"M 1228 531 \nL 3431 531 \nL 3431 0 \nL 469 0 \nL 469 531 \nQ 828 903 1448 1529 \nQ 2069 2156 2228 2338 \nQ 2531 2678 2651 2914 \nQ 2772 3150 2772 3378 \nQ 2772 3750 2511 3984 \nQ 2250 4219 1831 4219 \nQ 1534 4219 1204 4116 \nQ 875 4013 500 3803 \nL 500 4441 \nQ 881 4594 1212 4672 \nQ 1544 4750 1819 4750 \nQ 2544 4750 2975 4387 \nQ 3406 4025 3406 3419 \nQ 3406 3131 3298 2873 \nQ 3191 2616 2906 2266 \nQ 2828 2175 2409 1742 \nQ 1991 1309 1228 531 \nz\n\" transform=\"scale(0.015625)\"/>\n       </defs>\n       <use xlink:href=\"#DejaVuSans-30\"/>\n       <use xlink:href=\"#DejaVuSans-2e\" x=\"63.623047\"/>\n       <use xlink:href=\"#DejaVuSans-32\" x=\"95.410156\"/>\n      </g>\n     </g>\n    </g>\n    <g id=\"xtick_3\">\n     <g id=\"line2d_3\">\n      <g>\n       <use xlink:href=\"#m3e00445787\" x=\"228.132132\" y=\"457.198125\" style=\"stroke: #000000; stroke-width: 0.8\"/>\n      </g>\n     </g>\n     <g id=\"text_3\">\n      <!-- 0.4 -->\n      <g transform=\"translate(220.18057 471.796562)scale(0.1 -0.1)\">\n       <defs>\n        <path id=\"DejaVuSans-34\" d=\"M 2419 4116 \nL 825 1625 \nL 2419 1625 \nL 2419 4116 \nz\nM 2253 4666 \nL 3047 4666 \nL 3047 1625 \nL 3713 1625 \nL 3713 1100 \nL 3047 1100 \nL 3047 0 \nL 2419 0 \nL 2419 1100 \nL 313 1100 \nL 313 1709 \nL 2253 4666 \nz\n\" transform=\"scale(0.015625)\"/>\n       </defs>\n       <use xlink:href=\"#DejaVuSans-30\"/>\n       <use xlink:href=\"#DejaVuSans-2e\" x=\"63.623047\"/>\n       <use xlink:href=\"#DejaVuSans-34\" x=\"95.410156\"/>\n      </g>\n     </g>\n    </g>\n    <g id=\"xtick_4\">\n     <g id=\"line2d_4\">\n      <g>\n       <use xlink:href=\"#m3e00445787\" x=\"310.162118\" y=\"457.198125\" style=\"stroke: #000000; stroke-width: 0.8\"/>\n      </g>\n     </g>\n     <g id=\"text_4\">\n      <!-- 0.6 -->\n      <g transform=\"translate(302.210556 471.796562)scale(0.1 -0.1)\">\n       <defs>\n        <path id=\"DejaVuSans-36\" d=\"M 2113 2584 \nQ 1688 2584 1439 2293 \nQ 1191 2003 1191 1497 \nQ 1191 994 1439 701 \nQ 1688 409 2113 409 \nQ 2538 409 2786 701 \nQ 3034 994 3034 1497 \nQ 3034 2003 2786 2293 \nQ 2538 2584 2113 2584 \nz\nM 3366 4563 \nL 3366 3988 \nQ 3128 4100 2886 4159 \nQ 2644 4219 2406 4219 \nQ 1781 4219 1451 3797 \nQ 1122 3375 1075 2522 \nQ 1259 2794 1537 2939 \nQ 1816 3084 2150 3084 \nQ 2853 3084 3261 2657 \nQ 3669 2231 3669 1497 \nQ 3669 778 3244 343 \nQ 2819 -91 2113 -91 \nQ 1303 -91 875 529 \nQ 447 1150 447 2328 \nQ 447 3434 972 4092 \nQ 1497 4750 2381 4750 \nQ 2619 4750 2861 4703 \nQ 3103 4656 3366 4563 \nz\n\" transform=\"scale(0.015625)\"/>\n       </defs>\n       <use xlink:href=\"#DejaVuSans-30\"/>\n       <use xlink:href=\"#DejaVuSans-2e\" x=\"63.623047\"/>\n       <use xlink:href=\"#DejaVuSans-36\" x=\"95.410156\"/>\n      </g>\n     </g>\n    </g>\n    <g id=\"xtick_5\">\n     <g id=\"line2d_5\">\n      <g>\n       <use xlink:href=\"#m3e00445787\" x=\"392.192105\" y=\"457.198125\" style=\"stroke: #000000; stroke-width: 0.8\"/>\n      </g>\n     </g>\n     <g id=\"text_5\">\n      <!-- 0.8 -->\n      <g transform=\"translate(384.240542 471.796562)scale(0.1 -0.1)\">\n       <defs>\n        <path id=\"DejaVuSans-38\" d=\"M 2034 2216 \nQ 1584 2216 1326 1975 \nQ 1069 1734 1069 1313 \nQ 1069 891 1326 650 \nQ 1584 409 2034 409 \nQ 2484 409 2743 651 \nQ 3003 894 3003 1313 \nQ 3003 1734 2745 1975 \nQ 2488 2216 2034 2216 \nz\nM 1403 2484 \nQ 997 2584 770 2862 \nQ 544 3141 544 3541 \nQ 544 4100 942 4425 \nQ 1341 4750 2034 4750 \nQ 2731 4750 3128 4425 \nQ 3525 4100 3525 3541 \nQ 3525 3141 3298 2862 \nQ 3072 2584 2669 2484 \nQ 3125 2378 3379 2068 \nQ 3634 1759 3634 1313 \nQ 3634 634 3220 271 \nQ 2806 -91 2034 -91 \nQ 1263 -91 848 271 \nQ 434 634 434 1313 \nQ 434 1759 690 2068 \nQ 947 2378 1403 2484 \nz\nM 1172 3481 \nQ 1172 3119 1398 2916 \nQ 1625 2713 2034 2713 \nQ 2441 2713 2670 2916 \nQ 2900 3119 2900 3481 \nQ 2900 3844 2670 4047 \nQ 2441 4250 2034 4250 \nQ 1625 4250 1398 4047 \nQ 1172 3844 1172 3481 \nz\n\" transform=\"scale(0.015625)\"/>\n       </defs>\n       <use xlink:href=\"#DejaVuSans-30\"/>\n       <use xlink:href=\"#DejaVuSans-2e\" x=\"63.623047\"/>\n       <use xlink:href=\"#DejaVuSans-38\" x=\"95.410156\"/>\n      </g>\n     </g>\n    </g>\n    <g id=\"xtick_6\">\n     <g id=\"line2d_6\">\n      <g>\n       <use xlink:href=\"#m3e00445787\" x=\"474.222091\" y=\"457.198125\" style=\"stroke: #000000; stroke-width: 0.8\"/>\n      </g>\n     </g>\n     <g id=\"text_6\">\n      <!-- 1.0 -->\n      <g transform=\"translate(466.270529 471.796562)scale(0.1 -0.1)\">\n       <defs>\n        <path id=\"DejaVuSans-31\" d=\"M 794 531 \nL 1825 531 \nL 1825 4091 \nL 703 3866 \nL 703 4441 \nL 1819 4666 \nL 2450 4666 \nL 2450 531 \nL 3481 531 \nL 3481 0 \nL 794 0 \nL 794 531 \nz\n\" transform=\"scale(0.015625)\"/>\n       </defs>\n       <use xlink:href=\"#DejaVuSans-31\"/>\n       <use xlink:href=\"#DejaVuSans-2e\" x=\"63.623047\"/>\n       <use xlink:href=\"#DejaVuSans-30\" x=\"95.410156\"/>\n      </g>\n     </g>\n    </g>\n    <g id=\"text_7\">\n     <!-- Snwp -->\n     <g transform=\"translate(253.375 485.474687)scale(0.1 -0.1)\">\n      <defs>\n       <path id=\"DejaVuSans-53\" d=\"M 3425 4513 \nL 3425 3897 \nQ 3066 4069 2747 4153 \nQ 2428 4238 2131 4238 \nQ 1616 4238 1336 4038 \nQ 1056 3838 1056 3469 \nQ 1056 3159 1242 3001 \nQ 1428 2844 1947 2747 \nL 2328 2669 \nQ 3034 2534 3370 2195 \nQ 3706 1856 3706 1288 \nQ 3706 609 3251 259 \nQ 2797 -91 1919 -91 \nQ 1588 -91 1214 -16 \nQ 841 59 441 206 \nL 441 856 \nQ 825 641 1194 531 \nQ 1563 422 1919 422 \nQ 2459 422 2753 634 \nQ 3047 847 3047 1241 \nQ 3047 1584 2836 1778 \nQ 2625 1972 2144 2069 \nL 1759 2144 \nQ 1053 2284 737 2584 \nQ 422 2884 422 3419 \nQ 422 4038 858 4394 \nQ 1294 4750 2059 4750 \nQ 2388 4750 2728 4690 \nQ 3069 4631 3425 4513 \nz\n\" transform=\"scale(0.015625)\"/>\n       <path id=\"DejaVuSans-6e\" d=\"M 3513 2113 \nL 3513 0 \nL 2938 0 \nL 2938 2094 \nQ 2938 2591 2744 2837 \nQ 2550 3084 2163 3084 \nQ 1697 3084 1428 2787 \nQ 1159 2491 1159 1978 \nL 1159 0 \nL 581 0 \nL 581 3500 \nL 1159 3500 \nL 1159 2956 \nQ 1366 3272 1645 3428 \nQ 1925 3584 2291 3584 \nQ 2894 3584 3203 3211 \nQ 3513 2838 3513 2113 \nz\n\" transform=\"scale(0.015625)\"/>\n       <path id=\"DejaVuSans-77\" d=\"M 269 3500 \nL 844 3500 \nL 1563 769 \nL 2278 3500 \nL 2956 3500 \nL 3675 769 \nL 4391 3500 \nL 4966 3500 \nL 4050 0 \nL 3372 0 \nL 2619 2869 \nL 1863 0 \nL 1184 0 \nL 269 3500 \nz\n\" transform=\"scale(0.015625)\"/>\n       <path id=\"DejaVuSans-70\" d=\"M 1159 525 \nL 1159 -1331 \nL 581 -1331 \nL 581 3500 \nL 1159 3500 \nL 1159 2969 \nQ 1341 3281 1617 3432 \nQ 1894 3584 2278 3584 \nQ 2916 3584 3314 3078 \nQ 3713 2572 3713 1747 \nQ 3713 922 3314 415 \nQ 2916 -91 2278 -91 \nQ 1894 -91 1617 61 \nQ 1341 213 1159 525 \nz\nM 3116 1747 \nQ 3116 2381 2855 2742 \nQ 2594 3103 2138 3103 \nQ 1681 3103 1420 2742 \nQ 1159 2381 1159 1747 \nQ 1159 1113 1420 752 \nQ 1681 391 2138 391 \nQ 2594 391 2855 752 \nQ 3116 1113 3116 1747 \nz\n\" transform=\"scale(0.015625)\"/>\n      </defs>\n      <use xlink:href=\"#DejaVuSans-53\"/>\n      <use xlink:href=\"#DejaVuSans-6e\" x=\"63.476562\"/>\n      <use xlink:href=\"#DejaVuSans-77\" x=\"126.855469\"/>\n      <use xlink:href=\"#DejaVuSans-70\" x=\"208.642578\"/>\n     </g>\n    </g>\n   </g>\n   <g id=\"matplotlib.axis_2\">\n    <g id=\"ytick_1\">\n     <g id=\"line2d_7\">\n      <defs>\n       <path id=\"mc8f165acd9\" d=\"M 0 0 \nL -3.5 0 \n\" style=\"stroke: #000000; stroke-width: 0.8\"/>\n      </defs>\n      <g>\n       <use xlink:href=\"#mc8f165acd9\" x=\"43.78125\" y=\"437.431248\" style=\"stroke: #000000; stroke-width: 0.8\"/>\n      </g>\n     </g>\n     <g id=\"text_8\">\n      <!-- 0.0 -->\n      <g transform=\"translate(20.878125 441.230466)scale(0.1 -0.1)\">\n       <use xlink:href=\"#DejaVuSans-30\"/>\n       <use xlink:href=\"#DejaVuSans-2e\" x=\"63.623047\"/>\n       <use xlink:href=\"#DejaVuSans-30\" x=\"95.410156\"/>\n      </g>\n     </g>\n    </g>\n    <g id=\"ytick_2\">\n     <g id=\"line2d_8\">\n      <g>\n       <use xlink:href=\"#mc8f165acd9\" x=\"43.78125\" y=\"358.362078\" style=\"stroke: #000000; stroke-width: 0.8\"/>\n      </g>\n     </g>\n     <g id=\"text_9\">\n      <!-- 0.2 -->\n      <g transform=\"translate(20.878125 362.161296)scale(0.1 -0.1)\">\n       <use xlink:href=\"#DejaVuSans-30\"/>\n       <use xlink:href=\"#DejaVuSans-2e\" x=\"63.623047\"/>\n       <use xlink:href=\"#DejaVuSans-32\" x=\"95.410156\"/>\n      </g>\n     </g>\n    </g>\n    <g id=\"ytick_3\">\n     <g id=\"line2d_9\">\n      <g>\n       <use xlink:href=\"#mc8f165acd9\" x=\"43.78125\" y=\"279.292908\" style=\"stroke: #000000; stroke-width: 0.8\"/>\n      </g>\n     </g>\n     <g id=\"text_10\">\n      <!-- 0.4 -->\n      <g transform=\"translate(20.878125 283.092126)scale(0.1 -0.1)\">\n       <use xlink:href=\"#DejaVuSans-30\"/>\n       <use xlink:href=\"#DejaVuSans-2e\" x=\"63.623047\"/>\n       <use xlink:href=\"#DejaVuSans-34\" x=\"95.410156\"/>\n      </g>\n     </g>\n    </g>\n    <g id=\"ytick_4\">\n     <g id=\"line2d_10\">\n      <g>\n       <use xlink:href=\"#mc8f165acd9\" x=\"43.78125\" y=\"200.223738\" style=\"stroke: #000000; stroke-width: 0.8\"/>\n      </g>\n     </g>\n     <g id=\"text_11\">\n      <!-- 0.6 -->\n      <g transform=\"translate(20.878125 204.022956)scale(0.1 -0.1)\">\n       <use xlink:href=\"#DejaVuSans-30\"/>\n       <use xlink:href=\"#DejaVuSans-2e\" x=\"63.623047\"/>\n       <use xlink:href=\"#DejaVuSans-36\" x=\"95.410156\"/>\n      </g>\n     </g>\n    </g>\n    <g id=\"ytick_5\">\n     <g id=\"line2d_11\">\n      <g>\n       <use xlink:href=\"#mc8f165acd9\" x=\"43.78125\" y=\"121.154568\" style=\"stroke: #000000; stroke-width: 0.8\"/>\n      </g>\n     </g>\n     <g id=\"text_12\">\n      <!-- 0.8 -->\n      <g transform=\"translate(20.878125 124.953786)scale(0.1 -0.1)\">\n       <use xlink:href=\"#DejaVuSans-30\"/>\n       <use xlink:href=\"#DejaVuSans-2e\" x=\"63.623047\"/>\n       <use xlink:href=\"#DejaVuSans-38\" x=\"95.410156\"/>\n      </g>\n     </g>\n    </g>\n    <g id=\"ytick_6\">\n     <g id=\"line2d_12\">\n      <g>\n       <use xlink:href=\"#mc8f165acd9\" x=\"43.78125\" y=\"42.085398\" style=\"stroke: #000000; stroke-width: 0.8\"/>\n      </g>\n     </g>\n     <g id=\"text_13\">\n      <!-- 1.0 -->\n      <g transform=\"translate(20.878125 45.884616)scale(0.1 -0.1)\">\n       <use xlink:href=\"#DejaVuSans-31\"/>\n       <use xlink:href=\"#DejaVuSans-2e\" x=\"63.623047\"/>\n       <use xlink:href=\"#DejaVuSans-30\" x=\"95.410156\"/>\n      </g>\n     </g>\n    </g>\n    <g id=\"text_14\">\n     <!-- Dr -->\n     <g transform=\"translate(14.798438 245.663594)rotate(-90)scale(0.1 -0.1)\">\n      <defs>\n       <path id=\"DejaVuSans-44\" d=\"M 1259 4147 \nL 1259 519 \nL 2022 519 \nQ 2988 519 3436 956 \nQ 3884 1394 3884 2338 \nQ 3884 3275 3436 3711 \nQ 2988 4147 2022 4147 \nL 1259 4147 \nz\nM 628 4666 \nL 1925 4666 \nQ 3281 4666 3915 4102 \nQ 4550 3538 4550 2338 \nQ 4550 1131 3912 565 \nQ 3275 0 1925 0 \nL 628 0 \nL 628 4666 \nz\n\" transform=\"scale(0.015625)\"/>\n       <path id=\"DejaVuSans-72\" d=\"M 2631 2963 \nQ 2534 3019 2420 3045 \nQ 2306 3072 2169 3072 \nQ 1681 3072 1420 2755 \nQ 1159 2438 1159 1844 \nL 1159 0 \nL 581 0 \nL 581 3500 \nL 1159 3500 \nL 1159 2956 \nQ 1341 3275 1631 3429 \nQ 1922 3584 2338 3584 \nQ 2397 3584 2469 3576 \nQ 2541 3569 2628 3553 \nL 2631 2963 \nz\n\" transform=\"scale(0.015625)\"/>\n      </defs>\n      <use xlink:href=\"#DejaVuSans-44\"/>\n      <use xlink:href=\"#DejaVuSans-72\" x=\"77.001953\"/>\n     </g>\n    </g>\n   </g>\n   <g id=\"line2d_13\">\n    <path d=\"M 64.072159 42.085398 \nL 64.50363 42.085398 \nL 70.270781 45.126722 \nL 89.968161 60.431984 \nL 104.476087 74.727481 \nL 269.366459 205.400463 \nL 319.191634 260.287542 \nL 348.255488 299.456011 \nL 371.117441 331.234158 \nL 388.999297 359.711235 \nL 404.850607 381.244059 \nL 420.022501 401.616826 \nL 431.86743 417.402031 \nL 443.139854 428.88206 \nL 451.321512 435.367936 \nL 458.54383 437.428227 \nL 464.343491 437.430022 \nL 469.890341 437.430614 \n\" clip-path=\"url(#p3da792426a)\" style=\"fill: none; stroke: #1f77b4; stroke-width: 1.5; stroke-linecap: square\"/>\n    <defs>\n     <path id=\"m84aee65bc2\" d=\"M 0 -3 \nL -0.673542 -0.927051 \nL -2.85317 -0.927051 \nL -1.089814 0.354102 \nL -1.763356 2.427051 \nL -0 1.145898 \nL 1.763356 2.427051 \nL 1.089814 0.354102 \nL 2.85317 -0.927051 \nL 0.673542 -0.927051 \nz\n\" style=\"stroke: #1f77b4; stroke-linejoin: bevel\"/>\n    </defs>\n    <g clip-path=\"url(#p3da792426a)\">\n     <use xlink:href=\"#m84aee65bc2\" x=\"64.072159\" y=\"42.085398\" style=\"fill: #1f77b4; stroke: #1f77b4; stroke-linejoin: bevel\"/>\n     <use xlink:href=\"#m84aee65bc2\" x=\"64.50363\" y=\"42.085398\" style=\"fill: #1f77b4; stroke: #1f77b4; stroke-linejoin: bevel\"/>\n     <use xlink:href=\"#m84aee65bc2\" x=\"70.270781\" y=\"45.126722\" style=\"fill: #1f77b4; stroke: #1f77b4; stroke-linejoin: bevel\"/>\n     <use xlink:href=\"#m84aee65bc2\" x=\"89.968161\" y=\"60.431984\" style=\"fill: #1f77b4; stroke: #1f77b4; stroke-linejoin: bevel\"/>\n     <use xlink:href=\"#m84aee65bc2\" x=\"104.476087\" y=\"74.727481\" style=\"fill: #1f77b4; stroke: #1f77b4; stroke-linejoin: bevel\"/>\n     <use xlink:href=\"#m84aee65bc2\" x=\"269.366459\" y=\"205.400463\" style=\"fill: #1f77b4; stroke: #1f77b4; stroke-linejoin: bevel\"/>\n     <use xlink:href=\"#m84aee65bc2\" x=\"319.191634\" y=\"260.287542\" style=\"fill: #1f77b4; stroke: #1f77b4; stroke-linejoin: bevel\"/>\n     <use xlink:href=\"#m84aee65bc2\" x=\"348.255488\" y=\"299.456011\" style=\"fill: #1f77b4; stroke: #1f77b4; stroke-linejoin: bevel\"/>\n     <use xlink:href=\"#m84aee65bc2\" x=\"371.117441\" y=\"331.234158\" style=\"fill: #1f77b4; stroke: #1f77b4; stroke-linejoin: bevel\"/>\n     <use xlink:href=\"#m84aee65bc2\" x=\"388.999297\" y=\"359.711235\" style=\"fill: #1f77b4; stroke: #1f77b4; stroke-linejoin: bevel\"/>\n     <use xlink:href=\"#m84aee65bc2\" x=\"404.850607\" y=\"381.244059\" style=\"fill: #1f77b4; stroke: #1f77b4; stroke-linejoin: bevel\"/>\n     <use xlink:href=\"#m84aee65bc2\" x=\"420.022501\" y=\"401.616826\" style=\"fill: #1f77b4; stroke: #1f77b4; stroke-linejoin: bevel\"/>\n     <use xlink:href=\"#m84aee65bc2\" x=\"431.86743\" y=\"417.402031\" style=\"fill: #1f77b4; stroke: #1f77b4; stroke-linejoin: bevel\"/>\n     <use xlink:href=\"#m84aee65bc2\" x=\"443.139854\" y=\"428.88206\" style=\"fill: #1f77b4; stroke: #1f77b4; stroke-linejoin: bevel\"/>\n     <use xlink:href=\"#m84aee65bc2\" x=\"451.321512\" y=\"435.367936\" style=\"fill: #1f77b4; stroke: #1f77b4; stroke-linejoin: bevel\"/>\n     <use xlink:href=\"#m84aee65bc2\" x=\"458.54383\" y=\"437.428227\" style=\"fill: #1f77b4; stroke: #1f77b4; stroke-linejoin: bevel\"/>\n     <use xlink:href=\"#m84aee65bc2\" x=\"464.343491\" y=\"437.430022\" style=\"fill: #1f77b4; stroke: #1f77b4; stroke-linejoin: bevel\"/>\n     <use xlink:href=\"#m84aee65bc2\" x=\"469.890341\" y=\"437.430614\" style=\"fill: #1f77b4; stroke: #1f77b4; stroke-linejoin: bevel\"/>\n    </g>\n   </g>\n   <g id=\"line2d_14\">\n    <path d=\"M 64.072159 437.430852 \nL 64.50363 437.430852 \nL 70.270781 437.430845 \nL 89.968161 437.43073 \nL 104.476087 437.430671 \nL 269.366459 407.955836 \nL 319.191634 364.372662 \nL 348.255488 323.411883 \nL 371.117441 282.956919 \nL 388.999297 247.483293 \nL 404.850607 212.47492 \nL 420.022501 176.566987 \nL 431.86743 147.65271 \nL 443.139854 121.451446 \nL 451.321512 99.585452 \nL 458.54383 82.138466 \nL 464.343491 66.376384 \nL 469.890341 52.917517 \n\" clip-path=\"url(#p3da792426a)\" style=\"fill: none; stroke: #ff7f0e; stroke-width: 1.5; stroke-linecap: square\"/>\n    <defs>\n     <path id=\"md84dc06641\" d=\"M 0 3 \nC 0.795609 3 1.55874 2.683901 2.12132 2.12132 \nC 2.683901 1.55874 3 0.795609 3 0 \nC 3 -0.795609 2.683901 -1.55874 2.12132 -2.12132 \nC 1.55874 -2.683901 0.795609 -3 0 -3 \nC -0.795609 -3 -1.55874 -2.683901 -2.12132 -2.12132 \nC -2.683901 -1.55874 -3 -0.795609 -3 0 \nC -3 0.795609 -2.683901 1.55874 -2.12132 2.12132 \nC -1.55874 2.683901 -0.795609 3 0 3 \nz\n\" style=\"stroke: #ff7f0e\"/>\n    </defs>\n    <g clip-path=\"url(#p3da792426a)\">\n     <use xlink:href=\"#md84dc06641\" x=\"64.072159\" y=\"437.430852\" style=\"fill: #ff7f0e; stroke: #ff7f0e\"/>\n     <use xlink:href=\"#md84dc06641\" x=\"64.50363\" y=\"437.430852\" style=\"fill: #ff7f0e; stroke: #ff7f0e\"/>\n     <use xlink:href=\"#md84dc06641\" x=\"70.270781\" y=\"437.430845\" style=\"fill: #ff7f0e; stroke: #ff7f0e\"/>\n     <use xlink:href=\"#md84dc06641\" x=\"89.968161\" y=\"437.43073\" style=\"fill: #ff7f0e; stroke: #ff7f0e\"/>\n     <use xlink:href=\"#md84dc06641\" x=\"104.476087\" y=\"437.430671\" style=\"fill: #ff7f0e; stroke: #ff7f0e\"/>\n     <use xlink:href=\"#md84dc06641\" x=\"269.366459\" y=\"407.955836\" style=\"fill: #ff7f0e; stroke: #ff7f0e\"/>\n     <use xlink:href=\"#md84dc06641\" x=\"319.191634\" y=\"364.372662\" style=\"fill: #ff7f0e; stroke: #ff7f0e\"/>\n     <use xlink:href=\"#md84dc06641\" x=\"348.255488\" y=\"323.411883\" style=\"fill: #ff7f0e; stroke: #ff7f0e\"/>\n     <use xlink:href=\"#md84dc06641\" x=\"371.117441\" y=\"282.956919\" style=\"fill: #ff7f0e; stroke: #ff7f0e\"/>\n     <use xlink:href=\"#md84dc06641\" x=\"388.999297\" y=\"247.483293\" style=\"fill: #ff7f0e; stroke: #ff7f0e\"/>\n     <use xlink:href=\"#md84dc06641\" x=\"404.850607\" y=\"212.47492\" style=\"fill: #ff7f0e; stroke: #ff7f0e\"/>\n     <use xlink:href=\"#md84dc06641\" x=\"420.022501\" y=\"176.566987\" style=\"fill: #ff7f0e; stroke: #ff7f0e\"/>\n     <use xlink:href=\"#md84dc06641\" x=\"431.86743\" y=\"147.65271\" style=\"fill: #ff7f0e; stroke: #ff7f0e\"/>\n     <use xlink:href=\"#md84dc06641\" x=\"443.139854\" y=\"121.451446\" style=\"fill: #ff7f0e; stroke: #ff7f0e\"/>\n     <use xlink:href=\"#md84dc06641\" x=\"451.321512\" y=\"99.585452\" style=\"fill: #ff7f0e; stroke: #ff7f0e\"/>\n     <use xlink:href=\"#md84dc06641\" x=\"458.54383\" y=\"82.138466\" style=\"fill: #ff7f0e; stroke: #ff7f0e\"/>\n     <use xlink:href=\"#md84dc06641\" x=\"464.343491\" y=\"66.376384\" style=\"fill: #ff7f0e; stroke: #ff7f0e\"/>\n     <use xlink:href=\"#md84dc06641\" x=\"469.890341\" y=\"52.917517\" style=\"fill: #ff7f0e; stroke: #ff7f0e\"/>\n    </g>\n   </g>\n   <g id=\"patch_3\">\n    <path d=\"M 43.78125 457.198125 \nL 43.78125 22.318125 \n\" style=\"fill: none; stroke: #000000; stroke-width: 0.8; stroke-linejoin: miter; stroke-linecap: square\"/>\n   </g>\n   <g id=\"patch_4\">\n    <path d=\"M 490.18125 457.198125 \nL 490.18125 22.318125 \n\" style=\"fill: none; stroke: #000000; stroke-width: 0.8; stroke-linejoin: miter; stroke-linecap: square\"/>\n   </g>\n   <g id=\"patch_5\">\n    <path d=\"M 43.78125 457.198125 \nL 490.18125 457.198125 \n\" style=\"fill: none; stroke: #000000; stroke-width: 0.8; stroke-linejoin: miter; stroke-linecap: square\"/>\n   </g>\n   <g id=\"patch_6\">\n    <path d=\"M 43.78125 22.318125 \nL 490.18125 22.318125 \n\" style=\"fill: none; stroke: #000000; stroke-width: 0.8; stroke-linejoin: miter; stroke-linecap: square\"/>\n   </g>\n   <g id=\"text_15\">\n    <!-- Relative Diffusivity in x direction -->\n    <g transform=\"translate(169.617188 16.318125)scale(0.12 -0.12)\">\n     <defs>\n      <path id=\"DejaVuSans-52\" d=\"M 2841 2188 \nQ 3044 2119 3236 1894 \nQ 3428 1669 3622 1275 \nL 4263 0 \nL 3584 0 \nL 2988 1197 \nQ 2756 1666 2539 1819 \nQ 2322 1972 1947 1972 \nL 1259 1972 \nL 1259 0 \nL 628 0 \nL 628 4666 \nL 2053 4666 \nQ 2853 4666 3247 4331 \nQ 3641 3997 3641 3322 \nQ 3641 2881 3436 2590 \nQ 3231 2300 2841 2188 \nz\nM 1259 4147 \nL 1259 2491 \nL 2053 2491 \nQ 2509 2491 2742 2702 \nQ 2975 2913 2975 3322 \nQ 2975 3731 2742 3939 \nQ 2509 4147 2053 4147 \nL 1259 4147 \nz\n\" transform=\"scale(0.015625)\"/>\n      <path id=\"DejaVuSans-65\" d=\"M 3597 1894 \nL 3597 1613 \nL 953 1613 \nQ 991 1019 1311 708 \nQ 1631 397 2203 397 \nQ 2534 397 2845 478 \nQ 3156 559 3463 722 \nL 3463 178 \nQ 3153 47 2828 -22 \nQ 2503 -91 2169 -91 \nQ 1331 -91 842 396 \nQ 353 884 353 1716 \nQ 353 2575 817 3079 \nQ 1281 3584 2069 3584 \nQ 2775 3584 3186 3129 \nQ 3597 2675 3597 1894 \nz\nM 3022 2063 \nQ 3016 2534 2758 2815 \nQ 2500 3097 2075 3097 \nQ 1594 3097 1305 2825 \nQ 1016 2553 972 2059 \nL 3022 2063 \nz\n\" transform=\"scale(0.015625)\"/>\n      <path id=\"DejaVuSans-6c\" d=\"M 603 4863 \nL 1178 4863 \nL 1178 0 \nL 603 0 \nL 603 4863 \nz\n\" transform=\"scale(0.015625)\"/>\n      <path id=\"DejaVuSans-61\" d=\"M 2194 1759 \nQ 1497 1759 1228 1600 \nQ 959 1441 959 1056 \nQ 959 750 1161 570 \nQ 1363 391 1709 391 \nQ 2188 391 2477 730 \nQ 2766 1069 2766 1631 \nL 2766 1759 \nL 2194 1759 \nz\nM 3341 1997 \nL 3341 0 \nL 2766 0 \nL 2766 531 \nQ 2569 213 2275 61 \nQ 1981 -91 1556 -91 \nQ 1019 -91 701 211 \nQ 384 513 384 1019 \nQ 384 1609 779 1909 \nQ 1175 2209 1959 2209 \nL 2766 2209 \nL 2766 2266 \nQ 2766 2663 2505 2880 \nQ 2244 3097 1772 3097 \nQ 1472 3097 1187 3025 \nQ 903 2953 641 2809 \nL 641 3341 \nQ 956 3463 1253 3523 \nQ 1550 3584 1831 3584 \nQ 2591 3584 2966 3190 \nQ 3341 2797 3341 1997 \nz\n\" transform=\"scale(0.015625)\"/>\n      <path id=\"DejaVuSans-74\" d=\"M 1172 4494 \nL 1172 3500 \nL 2356 3500 \nL 2356 3053 \nL 1172 3053 \nL 1172 1153 \nQ 1172 725 1289 603 \nQ 1406 481 1766 481 \nL 2356 481 \nL 2356 0 \nL 1766 0 \nQ 1100 0 847 248 \nQ 594 497 594 1153 \nL 594 3053 \nL 172 3053 \nL 172 3500 \nL 594 3500 \nL 594 4494 \nL 1172 4494 \nz\n\" transform=\"scale(0.015625)\"/>\n      <path id=\"DejaVuSans-69\" d=\"M 603 3500 \nL 1178 3500 \nL 1178 0 \nL 603 0 \nL 603 3500 \nz\nM 603 4863 \nL 1178 4863 \nL 1178 4134 \nL 603 4134 \nL 603 4863 \nz\n\" transform=\"scale(0.015625)\"/>\n      <path id=\"DejaVuSans-76\" d=\"M 191 3500 \nL 800 3500 \nL 1894 563 \nL 2988 3500 \nL 3597 3500 \nL 2284 0 \nL 1503 0 \nL 191 3500 \nz\n\" transform=\"scale(0.015625)\"/>\n      <path id=\"DejaVuSans-20\" transform=\"scale(0.015625)\"/>\n      <path id=\"DejaVuSans-66\" d=\"M 2375 4863 \nL 2375 4384 \nL 1825 4384 \nQ 1516 4384 1395 4259 \nQ 1275 4134 1275 3809 \nL 1275 3500 \nL 2222 3500 \nL 2222 3053 \nL 1275 3053 \nL 1275 0 \nL 697 0 \nL 697 3053 \nL 147 3053 \nL 147 3500 \nL 697 3500 \nL 697 3744 \nQ 697 4328 969 4595 \nQ 1241 4863 1831 4863 \nL 2375 4863 \nz\n\" transform=\"scale(0.015625)\"/>\n      <path id=\"DejaVuSans-75\" d=\"M 544 1381 \nL 544 3500 \nL 1119 3500 \nL 1119 1403 \nQ 1119 906 1312 657 \nQ 1506 409 1894 409 \nQ 2359 409 2629 706 \nQ 2900 1003 2900 1516 \nL 2900 3500 \nL 3475 3500 \nL 3475 0 \nL 2900 0 \nL 2900 538 \nQ 2691 219 2414 64 \nQ 2138 -91 1772 -91 \nQ 1169 -91 856 284 \nQ 544 659 544 1381 \nz\nM 1991 3584 \nL 1991 3584 \nz\n\" transform=\"scale(0.015625)\"/>\n      <path id=\"DejaVuSans-73\" d=\"M 2834 3397 \nL 2834 2853 \nQ 2591 2978 2328 3040 \nQ 2066 3103 1784 3103 \nQ 1356 3103 1142 2972 \nQ 928 2841 928 2578 \nQ 928 2378 1081 2264 \nQ 1234 2150 1697 2047 \nL 1894 2003 \nQ 2506 1872 2764 1633 \nQ 3022 1394 3022 966 \nQ 3022 478 2636 193 \nQ 2250 -91 1575 -91 \nQ 1294 -91 989 -36 \nQ 684 19 347 128 \nL 347 722 \nQ 666 556 975 473 \nQ 1284 391 1588 391 \nQ 1994 391 2212 530 \nQ 2431 669 2431 922 \nQ 2431 1156 2273 1281 \nQ 2116 1406 1581 1522 \nL 1381 1569 \nQ 847 1681 609 1914 \nQ 372 2147 372 2553 \nQ 372 3047 722 3315 \nQ 1072 3584 1716 3584 \nQ 2034 3584 2315 3537 \nQ 2597 3491 2834 3397 \nz\n\" transform=\"scale(0.015625)\"/>\n      <path id=\"DejaVuSans-79\" d=\"M 2059 -325 \nQ 1816 -950 1584 -1140 \nQ 1353 -1331 966 -1331 \nL 506 -1331 \nL 506 -850 \nL 844 -850 \nQ 1081 -850 1212 -737 \nQ 1344 -625 1503 -206 \nL 1606 56 \nL 191 3500 \nL 800 3500 \nL 1894 763 \nL 2988 3500 \nL 3597 3500 \nL 2059 -325 \nz\n\" transform=\"scale(0.015625)\"/>\n      <path id=\"DejaVuSans-78\" d=\"M 3513 3500 \nL 2247 1797 \nL 3578 0 \nL 2900 0 \nL 1881 1375 \nL 863 0 \nL 184 0 \nL 1544 1831 \nL 300 3500 \nL 978 3500 \nL 1906 2253 \nL 2834 3500 \nL 3513 3500 \nz\n\" transform=\"scale(0.015625)\"/>\n      <path id=\"DejaVuSans-64\" d=\"M 2906 2969 \nL 2906 4863 \nL 3481 4863 \nL 3481 0 \nL 2906 0 \nL 2906 525 \nQ 2725 213 2448 61 \nQ 2172 -91 1784 -91 \nQ 1150 -91 751 415 \nQ 353 922 353 1747 \nQ 353 2572 751 3078 \nQ 1150 3584 1784 3584 \nQ 2172 3584 2448 3432 \nQ 2725 3281 2906 2969 \nz\nM 947 1747 \nQ 947 1113 1208 752 \nQ 1469 391 1925 391 \nQ 2381 391 2643 752 \nQ 2906 1113 2906 1747 \nQ 2906 2381 2643 2742 \nQ 2381 3103 1925 3103 \nQ 1469 3103 1208 2742 \nQ 947 2381 947 1747 \nz\n\" transform=\"scale(0.015625)\"/>\n      <path id=\"DejaVuSans-63\" d=\"M 3122 3366 \nL 3122 2828 \nQ 2878 2963 2633 3030 \nQ 2388 3097 2138 3097 \nQ 1578 3097 1268 2742 \nQ 959 2388 959 1747 \nQ 959 1106 1268 751 \nQ 1578 397 2138 397 \nQ 2388 397 2633 464 \nQ 2878 531 3122 666 \nL 3122 134 \nQ 2881 22 2623 -34 \nQ 2366 -91 2075 -91 \nQ 1284 -91 818 406 \nQ 353 903 353 1747 \nQ 353 2603 823 3093 \nQ 1294 3584 2113 3584 \nQ 2378 3584 2631 3529 \nQ 2884 3475 3122 3366 \nz\n\" transform=\"scale(0.015625)\"/>\n      <path id=\"DejaVuSans-6f\" d=\"M 1959 3097 \nQ 1497 3097 1228 2736 \nQ 959 2375 959 1747 \nQ 959 1119 1226 758 \nQ 1494 397 1959 397 \nQ 2419 397 2687 759 \nQ 2956 1122 2956 1747 \nQ 2956 2369 2687 2733 \nQ 2419 3097 1959 3097 \nz\nM 1959 3584 \nQ 2709 3584 3137 3096 \nQ 3566 2609 3566 1747 \nQ 3566 888 3137 398 \nQ 2709 -91 1959 -91 \nQ 1206 -91 779 398 \nQ 353 888 353 1747 \nQ 353 2609 779 3096 \nQ 1206 3584 1959 3584 \nz\n\" transform=\"scale(0.015625)\"/>\n     </defs>\n     <use xlink:href=\"#DejaVuSans-52\"/>\n     <use xlink:href=\"#DejaVuSans-65\" x=\"64.982422\"/>\n     <use xlink:href=\"#DejaVuSans-6c\" x=\"126.505859\"/>\n     <use xlink:href=\"#DejaVuSans-61\" x=\"154.289062\"/>\n     <use xlink:href=\"#DejaVuSans-74\" x=\"215.568359\"/>\n     <use xlink:href=\"#DejaVuSans-69\" x=\"254.777344\"/>\n     <use xlink:href=\"#DejaVuSans-76\" x=\"282.560547\"/>\n     <use xlink:href=\"#DejaVuSans-65\" x=\"341.740234\"/>\n     <use xlink:href=\"#DejaVuSans-20\" x=\"403.263672\"/>\n     <use xlink:href=\"#DejaVuSans-44\" x=\"435.050781\"/>\n     <use xlink:href=\"#DejaVuSans-69\" x=\"512.052734\"/>\n     <use xlink:href=\"#DejaVuSans-66\" x=\"539.835938\"/>\n     <use xlink:href=\"#DejaVuSans-66\" x=\"575.041016\"/>\n     <use xlink:href=\"#DejaVuSans-75\" x=\"610.246094\"/>\n     <use xlink:href=\"#DejaVuSans-73\" x=\"673.625\"/>\n     <use xlink:href=\"#DejaVuSans-69\" x=\"725.724609\"/>\n     <use xlink:href=\"#DejaVuSans-76\" x=\"753.507812\"/>\n     <use xlink:href=\"#DejaVuSans-69\" x=\"812.6875\"/>\n     <use xlink:href=\"#DejaVuSans-74\" x=\"840.470703\"/>\n     <use xlink:href=\"#DejaVuSans-79\" x=\"879.679688\"/>\n     <use xlink:href=\"#DejaVuSans-20\" x=\"938.859375\"/>\n     <use xlink:href=\"#DejaVuSans-69\" x=\"970.646484\"/>\n     <use xlink:href=\"#DejaVuSans-6e\" x=\"998.429688\"/>\n     <use xlink:href=\"#DejaVuSans-20\" x=\"1061.808594\"/>\n     <use xlink:href=\"#DejaVuSans-78\" x=\"1093.595703\"/>\n     <use xlink:href=\"#DejaVuSans-20\" x=\"1152.775391\"/>\n     <use xlink:href=\"#DejaVuSans-64\" x=\"1184.5625\"/>\n     <use xlink:href=\"#DejaVuSans-69\" x=\"1248.039062\"/>\n     <use xlink:href=\"#DejaVuSans-72\" x=\"1275.822266\"/>\n     <use xlink:href=\"#DejaVuSans-65\" x=\"1314.685547\"/>\n     <use xlink:href=\"#DejaVuSans-63\" x=\"1376.208984\"/>\n     <use xlink:href=\"#DejaVuSans-74\" x=\"1431.189453\"/>\n     <use xlink:href=\"#DejaVuSans-69\" x=\"1470.398438\"/>\n     <use xlink:href=\"#DejaVuSans-6f\" x=\"1498.181641\"/>\n     <use xlink:href=\"#DejaVuSans-6e\" x=\"1559.363281\"/>\n    </g>\n   </g>\n   <g id=\"legend_1\">\n    <g id=\"patch_7\">\n     <path d=\"M 413.50625 256.214375 \nL 483.18125 256.214375 \nQ 485.18125 256.214375 485.18125 254.214375 \nL 485.18125 225.301875 \nQ 485.18125 223.301875 483.18125 223.301875 \nL 413.50625 223.301875 \nQ 411.50625 223.301875 411.50625 225.301875 \nL 411.50625 254.214375 \nQ 411.50625 256.214375 413.50625 256.214375 \nz\n\" style=\"fill: #ffffff; opacity: 0.8; stroke: #cccccc; stroke-linejoin: miter\"/>\n    </g>\n    <g id=\"line2d_15\">\n     <path d=\"M 415.50625 231.400312 \nL 425.50625 231.400312 \nL 435.50625 231.400312 \n\" style=\"fill: none; stroke: #1f77b4; stroke-width: 1.5; stroke-linecap: square\"/>\n     <g>\n      <use xlink:href=\"#m84aee65bc2\" x=\"425.50625\" y=\"231.400312\" style=\"fill: #1f77b4; stroke: #1f77b4; stroke-linejoin: bevel\"/>\n     </g>\n    </g>\n    <g id=\"text_16\">\n     <!-- Dr_nwp -->\n     <g transform=\"translate(443.50625 234.900312)scale(0.1 -0.1)\">\n      <defs>\n       <path id=\"DejaVuSans-5f\" d=\"M 3263 -1063 \nL 3263 -1509 \nL -63 -1509 \nL -63 -1063 \nL 3263 -1063 \nz\n\" transform=\"scale(0.015625)\"/>\n      </defs>\n      <use xlink:href=\"#DejaVuSans-44\"/>\n      <use xlink:href=\"#DejaVuSans-72\" x=\"77.001953\"/>\n      <use xlink:href=\"#DejaVuSans-5f\" x=\"118.115234\"/>\n      <use xlink:href=\"#DejaVuSans-6e\" x=\"168.115234\"/>\n      <use xlink:href=\"#DejaVuSans-77\" x=\"231.494141\"/>\n      <use xlink:href=\"#DejaVuSans-70\" x=\"313.28125\"/>\n     </g>\n    </g>\n    <g id=\"line2d_16\">\n     <path d=\"M 415.50625 246.356562 \nL 425.50625 246.356562 \nL 435.50625 246.356562 \n\" style=\"fill: none; stroke: #ff7f0e; stroke-width: 1.5; stroke-linecap: square\"/>\n     <g>\n      <use xlink:href=\"#md84dc06641\" x=\"425.50625\" y=\"246.356562\" style=\"fill: #ff7f0e; stroke: #ff7f0e\"/>\n     </g>\n    </g>\n    <g id=\"text_17\">\n     <!-- Dr_wp -->\n     <g transform=\"translate(443.50625 249.856562)scale(0.1 -0.1)\">\n      <use xlink:href=\"#DejaVuSans-44\"/>\n      <use xlink:href=\"#DejaVuSans-72\" x=\"77.001953\"/>\n      <use xlink:href=\"#DejaVuSans-5f\" x=\"118.115234\"/>\n      <use xlink:href=\"#DejaVuSans-77\" x=\"168.115234\"/>\n      <use xlink:href=\"#DejaVuSans-70\" x=\"249.902344\"/>\n     </g>\n    </g>\n   </g>\n  </g>\n </g>\n <defs>\n  <clipPath id=\"p3da792426a\">\n   <rect x=\"43.78125\" y=\"22.318125\" width=\"446.4\" height=\"434.88\"/>\n  </clipPath>\n </defs>\n</svg>\n",
      "text/plain": [
       "<Figure size 576x576 with 1 Axes>"
      ]
     },
     "metadata": {
      "needs_background": "light"
     },
     "output_type": "display_data"
    }
   ],
   "source": [
    "plt.figure(figsize=[8,8])\n",
    "plt.plot(Snwparr, reldiff_nwp, '*-', label='Dr_nwp')\n",
    "plt.plot(Snwparr, reldiff_wp, 'o-', label='Dr_wp')\n",
    "plt.xlabel('Snwp')\n",
    "plt.ylabel('Dr')\n",
    "plt.title('Relative Diffusivity in x direction')\n",
    "plt.legend()"
   ]
  },
  {
   "cell_type": "code",
   "execution_count": null,
   "id": "ac25a4f3",
   "metadata": {},
   "outputs": [],
   "source": []
  }
 ],
 "metadata": {
  "kernelspec": {
   "display_name": "Python 3 (ipykernel)",
   "language": "python",
   "name": "python3"
  },
  "language_info": {
   "codemirror_mode": {
    "name": "ipython",
    "version": 3
   },
   "file_extension": ".py",
   "mimetype": "text/x-python",
   "name": "python",
   "nbconvert_exporter": "python",
   "pygments_lexer": "ipython3",
   "version": "3.9.7"
  }
 },
 "nbformat": 4,
 "nbformat_minor": 5
}
