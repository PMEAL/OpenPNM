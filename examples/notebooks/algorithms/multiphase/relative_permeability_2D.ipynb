{
 "cells": [
  {
   "cell_type": "markdown",
   "metadata": {},
   "source": [
    "## Basic Relative Permeability Example in 2D\n",
    "This example is about finding relative permeability of two phases in the medium. We use invasion percolation to invade air (non-wetting) into a water-filled (wetting) network. Here we use a 2D network so that we can visualize the results easily."
   ]
  },
  {
   "cell_type": "code",
   "execution_count": 1,
   "metadata": {},
   "outputs": [],
   "source": [
    "import warnings\n",
    "import pandas as pd\n",
    "import scipy as sp\n",
    "import numpy as np\n",
    "import openpnm as op\n",
    "from openpnm import models\n",
    "import matplotlib.pyplot as plt\n",
    "np.set_printoptions(precision=4)\n",
    "np.random.seed(10)\n",
    "%matplotlib inline\n",
    "ws = op.Workspace()\n",
    "ws.settings[\"loglevel\"] = 40"
   ]
  },
  {
   "cell_type": "markdown",
   "metadata": {},
   "source": [
    "### Initialize Required Objects\n",
    "We'll use several pre-defined classes here to simplify the example, allowing us to focus on the actual problem of computing relative permeability. Note that each phase is assigned to a separate physics."
   ]
  },
  {
   "cell_type": "code",
   "execution_count": 2,
   "metadata": {},
   "outputs": [],
   "source": [
    "shape=[100, 100, 1]\n",
    "pn = op.network.Cubic(shape)\n",
    "geo = op.geometry.StickAndBall(network=pn, pores=pn.Ps, throats=pn.Ts)\n",
    "air = op.phases.Air(network=pn)\n",
    "water = op.phases.Water(network=pn)\n",
    "phys_air = op.physics.Standard(network=pn, phase=air, geometry=geo)\n",
    "phys_water = op.physics.Standard(network=pn, phase=water, geometry=geo)"
   ]
  },
  {
   "cell_type": "markdown",
   "metadata": {},
   "source": [
    "### Using InvasionPercolation to Simulate Air Invasion\n",
    "The InvasionPercolation (IP) algorithm will be used to simulaton the air invasion.  We'll inject only from one face (pores on the 'left' side). All settings in IP are set to be default. For instance we don't use trapping options, which is an extra step in IP."
   ]
  },
  {
   "cell_type": "code",
   "execution_count": 3,
   "metadata": {},
   "outputs": [],
   "source": [
    "ip = op.algorithms.InvasionPercolation(network=pn)\n",
    "ip.setup(phase=air)\n",
    "in_pores=pn.pores(\"left\")\n",
    "ip.set_inlets(pores=in_pores)\n",
    "ip.run()"
   ]
  },
  {
   "cell_type": "markdown",
   "metadata": {},
   "source": [
    "After implementing IP, we usually plot intrusion curves (Pc-S curves) but this is not the scope of this example. Instead we want to visualize the distribution of phases (occupancy of pores and throats) at a specified saturation point. Pore and throat occupancies are defined as boolean arrays in IP with the same length as Pores and throats numbers in the network. For each saturation point (in the range of [0,1]) during the invasion, the pore occupancy shows whether it is occupied by air or water. This is done by assigning a boolean value to the corresponding element in occupancy array. Note that at the beginning (Snwp=0 all pores are occupied by water so all elements are False for air occupancy).\n",
    "For a desired saturation point (Snwp=0.15) pores and throats occupancies can be accessed by ``results`` method in IP."
   ]
  },
  {
   "cell_type": "code",
   "execution_count": 4,
   "metadata": {},
   "outputs": [
    {
     "name": "stdout",
     "output_type": "stream",
     "text": [
      "{'pore.occupancy': array([ True,  True,  True, ..., False, False, False]), 'throat.occupancy': array([False, False,  True, ..., False, False, False])}\n"
     ]
    }
   ],
   "source": [
    "occupancies=ip.results(Snwp=0.25)\n",
    "print(occupancies)"
   ]
  },
  {
   "cell_type": "markdown",
   "metadata": {},
   "source": [
    "We can then assign the pores and throats occupancies to the invading phase. Note that in this context occupancy and saturation are two different words. The occupancy here is the distribution of fluid for the specific saturation point (Snwp=0.25 for now). It means 0.15 of void volume is saturated by air and the detail of occupation is found from occupancy distribution."
   ]
  },
  {
   "cell_type": "code",
   "execution_count": 5,
   "metadata": {},
   "outputs": [],
   "source": [
    "air.update(ip.results(Snwp=0.25))"
   ]
  },
  {
   "cell_type": "markdown",
   "metadata": {},
   "source": [
    "Let's plot the occupancies to visualize it."
   ]
  },
  {
   "cell_type": "code",
   "execution_count": 6,
   "metadata": {},
   "outputs": [
    {
     "data": {
      "image/png": "[encoded data removed]",
      "text/plain": [
       "<Figure size 432x432 with 1 Axes>"
      ]
     },
     "metadata": {
      "needs_background": "light"
     },
     "output_type": "display_data"
    }
   ],
   "source": [
    "fig = plt.figure(figsize=(6, 6))\n",
    "fig = op.topotools.plot_coordinates(network=pn, fig=fig)\n",
    "fig = op.topotools.plot_coordinates(network=pn, fig=fig, \n",
    "                                    pores=air['pore.occupancy'], \n",
    "                                    color='yellow')"
   ]
  },
  {
   "cell_type": "markdown",
   "metadata": {},
   "source": [
    "### StokesFlow Algorithm for effective permeabilities\n",
    "Now that the invasion pattern for this domain has been established using IP, we can calculate the effective and relative permeabilty of the phases at each saturation point using Stokes Flow. Note that relative permeability of air at a specific saturation is the ratio of effective permeability of air while water is also existing (flowing) in the medium to absolute permeability of the medium."
   ]
  },
  {
   "cell_type": "markdown",
   "metadata": {},
   "source": [
    "Absolute permeability of a medium with area $A$, and length $L$ can be calculated as following:\n",
    "$Q_{S=1}=\\frac{K_{abs}A}{\\mu L}\\delta P$ , where $Q$ and $P$ are rate and pressure. $K$ in this equation is the absolute permeability of the medium assuming the medium is fully saturated by a phase with viscosity of $\\mu$ (here water). To find the relative permeability of water for example, we need its effective permeability value. The effective permeability value is found in a similar way using stokes flow. The only difference is the medium is saturated with more than 1 phase (here both water and air). Let's write down the equation for water flow when air is invaded:$Q_{S}=\\frac{K_{eff} A}{\\mu L}\\delta P$. Relative permeability of water is then found by: $K_{rel}=\\frac{K_{eff}}{K_{abs}}$. From previous equations we then have $K_{rel}=\\frac{Q_{S}}{Q_{S=1}}$. Therefore, in this problem we don't need to find $K$ values directly. We just need to calculate the rates. (Note: for air we also need viscosity ratios as $\\mu_{air} \\ne \\mu_{water}$, but here we calculate the absolute rate for each phase separately and viscosity ratio is not required)"
   ]
  },
  {
   "cell_type": "markdown",
   "metadata": {},
   "source": [
    "Let's first find the rate of water flow for when the medium is fully saturated by water."
   ]
  },
  {
   "cell_type": "code",
   "execution_count": 7,
   "metadata": {},
   "outputs": [],
   "source": [
    "st = op.algorithms.StokesFlow(network=pn)\n",
    "st.setup(phase=water)\n",
    "st.set_value_BC(pores=pn.pores('back'), values=1)\n",
    "st.set_value_BC(pores=pn.pores('front'), values=0)"
   ]
  },
  {
   "cell_type": "markdown",
   "metadata": {},
   "source": [
    "We can solve the flow problem on the netowrk without altering the throat conductances, which will give us the maximum flow through the domain for single phase flow. This value is used for finding absolute permeability as well."
   ]
  },
  {
   "cell_type": "code",
   "execution_count": 8,
   "metadata": {},
   "outputs": [
    {
     "name": "stdout",
     "output_type": "stream",
     "text": [
      "[0.0454]\n"
     ]
    }
   ],
   "source": [
    "st.run()\n",
    "Q_abs_water = st.rate(pores=pn.pores('back'))\n",
    "print(Q_abs_water)"
   ]
  },
  {
   "cell_type": "markdown",
   "metadata": {},
   "source": [
    "Next we will illustrate how to alter the hydraulic conductances of the water phase to account for the presence of air filled pores and throats.  Start by passing 'pore.occupancy' and 'throat.occupancy' to the air object at a specified saturation (0.1 in this case), then reach into the ``phys2`` object and set the conductance of the air filled throats to 1000x lower than the least conductive water filled throat. A similar procedure is provided by a pore scale model in Physics.models.multiphase called conduit_conductance, which we could use instead. Note that in that case we use regenerate_models method instead of manually change the hydraulic conductance. This is important because at each saturation point the pore/throat occupancies are different so as their conductance."
   ]
  },
  {
   "cell_type": "code",
   "execution_count": 9,
   "metadata": {},
   "outputs": [],
   "source": [
    "air.update(ip.results(Snwp=0.20))\n",
    "val = np.amin(phys_water['throat.hydraulic_conductance'])/1000\n",
    "phys_water['throat.hydraulic_conductance'][air['throat.occupancy']] = val"
   ]
  },
  {
   "cell_type": "markdown",
   "metadata": {},
   "source": [
    "We then re-run the flow problem, which will now utilize the altered hydraulic conductance values.  "
   ]
  },
  {
   "cell_type": "code",
   "execution_count": 10,
   "metadata": {},
   "outputs": [
    {
     "name": "stdout",
     "output_type": "stream",
     "text": [
      "[0.0454]\n"
     ]
    }
   ],
   "source": [
    "st.run()\n",
    "Q_eff = st.rate(pores=pn.pores('back'))\n",
    "print(Q_eff)"
   ]
  },
  {
   "cell_type": "markdown",
   "metadata": {},
   "source": [
    "Relative permeability of water at saturation point Snwp=0.2 (or Swp=0.8) is:"
   ]
  },
  {
   "cell_type": "code",
   "execution_count": 11,
   "metadata": {},
   "outputs": [
    {
     "name": "stdout",
     "output_type": "stream",
     "text": [
      "[1.]\n"
     ]
    }
   ],
   "source": [
    "K_rel_w=Q_eff/Q_abs_water\n",
    "print(K_rel_w)"
   ]
  },
  {
   "cell_type": "markdown",
   "metadata": {},
   "source": [
    "### Calculate Relative Permeability Curve\n",
    "The above illustration showed how to get the effective permeability at one saturation.  We now put this logic into a for loop to obtain water flow rates throat the partialy air-invaded network at a variety of saturations.  "
   ]
  },
  {
   "cell_type": "markdown",
   "metadata": {},
   "source": [
    "Calculations for water phase: Note that we first start with regenerating models for phys_water to make sure the conductance values are reset to the state where medium was fully saturated with water. We then change those values for throats that are occupied by air at each saturation point."
   ]
  },
  {
   "cell_type": "code",
   "execution_count": 12,
   "metadata": {},
   "outputs": [],
   "source": [
    "#NBVAL_IGNORE_OUTPUT\n",
    "phys_water.regenerate_models()  # Regenerate phys2 to reset any calculation done above\n",
    "Q_water = []  # Initialize a list to hold data\n",
    "#stokes flow for water\n",
    "for s in np.arange(0, 1, 0.1):  # Loop through saturations\n",
    "    # 1: Update air object with occupancy at given saturation\n",
    "    air.update(ip.results(Snwp=s))\n",
    "    # 2: Overwrite water's hydraulic conductance in air-filled locations\n",
    "    phys_water['throat.hydraulic_conductance'][air['throat.occupancy']] = val\n",
    "    # 3: Re-run flow problem\n",
    "    st.run()\n",
    "    # 4: Compute flow through inlet phase and append to data\n",
    "    Q_water.append(st.rate(pores=pn.pores('back')))\n",
    "    phys_water.regenerate_models()"
   ]
  },
  {
   "cell_type": "markdown",
   "metadata": {},
   "source": [
    "Claculations for air phase:"
   ]
  },
  {
   "cell_type": "code",
   "execution_count": 13,
   "metadata": {},
   "outputs": [],
   "source": [
    "phys_water.regenerate_models()\n",
    "phys_air.regenerate_models()\n",
    "Q_air=[]\n",
    "#stokes flow for air\n",
    "st_a = op.algorithms.StokesFlow(network=pn)\n",
    "st_a.setup(phase=air)\n",
    "st_a.set_value_BC(pores=pn.pores('back'), values=1)\n",
    "st_a.set_value_BC(pores=pn.pores('front'), values=0)\n",
    "st_a.run()\n",
    "Q_abs_air=st_a.rate(pores=pn.pores('back'))\n",
    "for s in np.arange(0, 1, 0.1):  # Loop through saturations\n",
    "    # 1: Update air object with occupancy at given saturation\n",
    "    air.update(ip.results(Snwp=s))\n",
    "    # 2: Overwrite air's hydraulic conductance in water-filled locations\n",
    "    phys_air['throat.hydraulic_conductance'][~air['throat.occupancy']] = val\n",
    "    # 3: Re-run flow problem\n",
    "    st_a.run()\n",
    "    # 4: Compute flow through inlet phase and append to data\n",
    "    Q_air.append(st_a.rate(pores=pn.pores('back')))\n",
    "    phys_air.regenerate_models()"
   ]
  },
  {
   "cell_type": "code",
   "execution_count": 14,
   "metadata": {},
   "outputs": [
    {
     "data": {
      "text/html": [
       "<div>\n",
       "<style scoped>\n",
       "    .dataframe tbody tr th:only-of-type {\n",
       "        vertical-align: middle;\n",
       "    }\n",
       "\n",
       "    .dataframe tbody tr th {\n",
       "        vertical-align: top;\n",
       "    }\n",
       "\n",
       "    .dataframe thead th {\n",
       "        text-align: right;\n",
       "    }\n",
       "</style>\n",
       "<table border=\"1\" class=\"dataframe\">\n",
       "  <thead>\n",
       "    <tr style=\"text-align: right;\">\n",
       "      <th></th>\n",
       "      <th>Snwp</th>\n",
       "      <th>Kr_water</th>\n",
       "      <th>Kr_air</th>\n",
       "    </tr>\n",
       "  </thead>\n",
       "  <tbody>\n",
       "    <tr>\n",
       "      <th>0</th>\n",
       "      <td>0.0</td>\n",
       "      <td>1.000000</td>\n",
       "      <td>0.000001</td>\n",
       "    </tr>\n",
       "    <tr>\n",
       "      <th>1</th>\n",
       "      <td>0.1</td>\n",
       "      <td>1.000000</td>\n",
       "      <td>0.000001</td>\n",
       "    </tr>\n",
       "    <tr>\n",
       "      <th>2</th>\n",
       "      <td>0.2</td>\n",
       "      <td>1.000000</td>\n",
       "      <td>0.000001</td>\n",
       "    </tr>\n",
       "    <tr>\n",
       "      <th>3</th>\n",
       "      <td>0.3</td>\n",
       "      <td>0.774782</td>\n",
       "      <td>0.225224</td>\n",
       "    </tr>\n",
       "    <tr>\n",
       "      <th>4</th>\n",
       "      <td>0.4</td>\n",
       "      <td>0.674860</td>\n",
       "      <td>0.325148</td>\n",
       "    </tr>\n",
       "    <tr>\n",
       "      <th>5</th>\n",
       "      <td>0.5</td>\n",
       "      <td>0.674860</td>\n",
       "      <td>0.325148</td>\n",
       "    </tr>\n",
       "    <tr>\n",
       "      <th>6</th>\n",
       "      <td>0.6</td>\n",
       "      <td>0.674860</td>\n",
       "      <td>0.325148</td>\n",
       "    </tr>\n",
       "    <tr>\n",
       "      <th>7</th>\n",
       "      <td>0.7</td>\n",
       "      <td>0.366828</td>\n",
       "      <td>0.633187</td>\n",
       "    </tr>\n",
       "    <tr>\n",
       "      <th>8</th>\n",
       "      <td>0.8</td>\n",
       "      <td>0.218308</td>\n",
       "      <td>0.781712</td>\n",
       "    </tr>\n",
       "    <tr>\n",
       "      <th>9</th>\n",
       "      <td>0.9</td>\n",
       "      <td>0.053850</td>\n",
       "      <td>0.946182</td>\n",
       "    </tr>\n",
       "  </tbody>\n",
       "</table>\n",
       "</div>"
      ],
      "text/plain": [
       "   Snwp  Kr_water    Kr_air\n",
       "0   0.0  1.000000  0.000001\n",
       "1   0.1  1.000000  0.000001\n",
       "2   0.2  1.000000  0.000001\n",
       "3   0.3  0.774782  0.225224\n",
       "4   0.4  0.674860  0.325148\n",
       "5   0.5  0.674860  0.325148\n",
       "6   0.6  0.674860  0.325148\n",
       "7   0.7  0.366828  0.633187\n",
       "8   0.8  0.218308  0.781712\n",
       "9   0.9  0.053850  0.946182"
      ]
     },
     "execution_count": 14,
     "metadata": {},
     "output_type": "execute_result"
    }
   ],
   "source": [
    "data = {'Snwp':np.arange(0, 1, 0.1),'Kr_water':np.hstack(Q_water/Q_abs_water),'Kr_air':np.hstack((Q_air/Q_abs_air))} \n",
    "DF=pd.DataFrame(data)\n",
    "DF"
   ]
  },
  {
   "cell_type": "markdown",
   "metadata": {},
   "source": [
    "Let's plot the curves. Note that we used less saturation points. To get a smoother plot with more data points decrease the saturation increments (e.g. np.arange(0, 1, 0.01) in the loop)."
   ]
  },
  {
   "cell_type": "code",
   "execution_count": 15,
   "metadata": {},
   "outputs": [
    {
     "data": {
      "text/plain": [
       "<matplotlib.legend.Legend at 0x1a5af683100>"
      ]
     },
     "execution_count": 15,
     "metadata": {},
     "output_type": "execute_result"
    },
    {
     "data": {
      "image/png": "[encoded data removed]",
      "text/plain": [
       "<Figure size 432x288 with 1 Axes>"
      ]
     },
     "metadata": {
      "needs_background": "light"
     },
     "output_type": "display_data"
    }
   ],
   "source": [
    "# NBVAL_IGNORE_OUTPUT\n",
    "f = plt.figure()\n",
    "ax = f.add_subplot(111)\n",
    "ax.plot(DF['Snwp'],DF['Kr_water'],label='Kr_water')\n",
    "ax.plot(DF['Snwp'],DF['Kr_air'],label='Kr_air')\n",
    "ax.set_xlabel('Snw')\n",
    "ax.set_ylabel('Kr')\n",
    "ax.set_title('Relative Permability Curves')\n",
    "ax.legend()"
   ]
  }
 ],
 "metadata": {
  "@webio": {
   "lastCommId": null,
   "lastKernelId": null
  },
  "kernelspec": {
   "display_name": "Python 3",
   "language": "python",
   "name": "python3"
  },
  "language_info": {
   "codemirror_mode": {
    "name": "ipython",
    "version": 3
   },
   "file_extension": ".py",
   "mimetype": "text/x-python",
   "name": "python",
   "nbconvert_exporter": "python",
   "pygments_lexer": "ipython3",
   "version": "3.8.3"
  }
 },
 "nbformat": 4,
 "nbformat_minor": 2
}
