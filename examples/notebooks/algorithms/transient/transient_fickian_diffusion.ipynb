{
 "cells": [
  {
   "cell_type": "markdown",
   "metadata": {},
   "source": [
    "# Transient Fickian Diffusion\n",
    "The package `OpenPNM` allows for the simulation of many transport phenomena in porous media such as Stokes flow, Fickian diffusion, advection-diffusion, transport of charged species, etc. Transient and steady-state simulations are both supported. An example of a transient Fickian diffusion simulation through a `Cubic` pore network is shown here."
   ]
  },
  {
   "cell_type": "markdown",
   "metadata": {},
   "source": [
    "First, `OpenPNM` is imported."
   ]
  },
  {
   "cell_type": "code",
   "execution_count": 1,
   "metadata": {},
   "outputs": [],
   "source": [
    "import numpy as np\n",
    "import openpnm as op\n",
    "np.random.seed(10)\n",
    "%matplotlib inline\n",
    "np.set_printoptions(precision=5)"
   ]
  },
  {
   "cell_type": "markdown",
   "metadata": {},
   "source": [
    "## Define new workspace and project"
   ]
  },
  {
   "cell_type": "code",
   "execution_count": 2,
   "metadata": {},
   "outputs": [],
   "source": [
    "ws = op.Workspace()\n",
    "ws.settings[\"loglevel\"] = 40\n",
    "proj = ws.new_project()"
   ]
  },
  {
   "cell_type": "markdown",
   "metadata": {},
   "source": [
    "## Generate a pore network\n",
    "An arbitrary `Cubic` 3D pore network is generated consisting of a layer of $29\\times13$ pores with a constant pore to pore centers spacing of ${10}^{-5}{m}$."
   ]
  },
  {
   "cell_type": "code",
   "execution_count": 3,
   "metadata": {},
   "outputs": [],
   "source": [
    "net = op.network.Cubic(shape=[13, 29, 1], spacing=1e-5, project=proj)"
   ]
  },
  {
   "cell_type": "markdown",
   "metadata": {},
   "source": [
    "## Create a geometry\n",
    "Here, a geometry, corresponding to the created network, is created. The geometry contains information about the size of pores and throats in the network such as length and diameter, etc. `OpenPNM` has many prebuilt geometries that represent the microstructure of different materials such as Toray090 carbon papers, sand stone, electrospun fibers, etc. In this example, a simple geometry known as `StickAndBall` that assigns random diameter values to pores throats, with certain constraints, is used."
   ]
  },
  {
   "cell_type": "code",
   "execution_count": 4,
   "metadata": {},
   "outputs": [],
   "source": [
    "geo = op.geometry.StickAndBall(network=net, pores=net.Ps, throats=net.Ts)"
   ]
  },
  {
   "cell_type": "markdown",
   "metadata": {},
   "source": [
    "## Add a phase\n",
    "Then, a phase (water in this example) is added to the simulation and assigned to the network. The phase contains the physical properties of the fluid considered in the simulation such as the viscosity, etc. Many predefined phases as available on `OpenPNM`."
   ]
  },
  {
   "cell_type": "code",
   "execution_count": 5,
   "metadata": {},
   "outputs": [],
   "source": [
    "phase = op.phases.Water(network=net)"
   ]
  },
  {
   "cell_type": "markdown",
   "metadata": {},
   "source": [
    "## Add a physics\n",
    "Next, a physics object is defined. The physics object stores information about the different physical models used in the simulation and is assigned to specific network, geometry and phase objects. This ensures that the different physical models will only have access to information about the network, geometry and phase objects to which they are assigned. In fact, models (such as Stokes flow or Fickian diffusion) require information about the network (such as the connectivity between pores), the geometry (such as the pores and throats diameters), and the phase (such as the diffusivity coefficient)."
   ]
  },
  {
   "cell_type": "code",
   "execution_count": 6,
   "metadata": {},
   "outputs": [],
   "source": [
    "phys = op.physics.GenericPhysics(network=net, phase=phase, geometry=geo)"
   ]
  },
  {
   "cell_type": "markdown",
   "metadata": {},
   "source": [
    "The diffusivity coefficient of the considered chemical species in water is also defined."
   ]
  },
  {
   "cell_type": "code",
   "execution_count": 7,
   "metadata": {},
   "outputs": [],
   "source": [
    "phase['pore.diffusivity'] = 2e-09"
   ]
  },
  {
   "cell_type": "markdown",
   "metadata": {},
   "source": [
    "## Defining a new model\n",
    "The physical model, consisting of Fickian diffusion, is defined and attached to the physics object previously defined."
   ]
  },
  {
   "cell_type": "code",
   "execution_count": 8,
   "metadata": {},
   "outputs": [],
   "source": [
    "mod = op.models.physics.diffusive_conductance.ordinary_diffusion\n",
    "phys.add_model(propname='throat.diffusive_conductance', model=mod, regen_mode='normal')"
   ]
  },
  {
   "cell_type": "markdown",
   "metadata": {},
   "source": [
    "## Define a transient Fickian diffusion algorithm\n",
    "Here, an algorithm for the simulation of transient Fickian diffusion is defined. It is assigned to the network and phase of interest to be able to retrieve all the information needed to build systems of linear equations."
   ]
  },
  {
   "cell_type": "code",
   "execution_count": 9,
   "metadata": {},
   "outputs": [],
   "source": [
    "fd = op.algorithms.TransientFickianDiffusion(network=net, phase=phase)"
   ]
  },
  {
   "cell_type": "markdown",
   "metadata": {},
   "source": [
    "## Add boundary conditions\n",
    "Next, Dirichlet boundary conditions are added over the back and front boundaries of the network."
   ]
  },
  {
   "cell_type": "code",
   "execution_count": 10,
   "metadata": {},
   "outputs": [],
   "source": [
    "fd.set_value_BC(pores=net.pores('back'), values=0.5)\n",
    "fd.set_value_BC(pores=net.pores('front'), values=0.2)"
   ]
  },
  {
   "cell_type": "markdown",
   "metadata": {},
   "source": [
    "## Define initial conditions\n",
    "Initial conditions (optional) can also be specified. If they are not defined, a zero concentration is assumed at the beginning of the transient simulation."
   ]
  },
  {
   "cell_type": "code",
   "execution_count": 11,
   "metadata": {},
   "outputs": [],
   "source": [
    "fd.set_IC(0.2)"
   ]
  },
  {
   "cell_type": "markdown",
   "metadata": {},
   "source": [
    "Note that both `set_value_BC` and `set_IC` also accept as input, in addition to a single scalar value, an `ndarray`."
   ]
  },
  {
   "cell_type": "markdown",
   "metadata": {},
   "source": [
    "## Setup the transient algorithm settings\n",
    "The settings of the transient algorithm are updated here. This step is optional as default settings are predefined. It is, however, important to update these settings on each new simulation as the time-scale of different phenomena in different problems may strongly differ.\n",
    "Here, the time discretization scheme is set to `cranknicolson`, which is second-order accurate in time. The two other options supported in `OpenPNM` are the `implicit` scheme (only first order accurate but faster than the `cranknicolson`) and the `steady` which simply corresponds to a steady-state simulation.\n",
    "Other parameters are also set; the final time step `t_final`, the output time stepping `t_output`, the computational time step `t_step`, and the tolerance to be achieved before reaching steady-state `t_tolerance`."
   ]
  },
  {
   "cell_type": "code",
   "execution_count": 12,
   "metadata": {},
   "outputs": [],
   "source": [
    "fd.setup(t_scheme='cranknicolson', t_final=100, t_output=5, t_step=1, t_tolerance=1e-12)"
   ]
  },
  {
   "cell_type": "markdown",
   "metadata": {},
   "source": [
    "Note that the output time stepping `t_output` may a `scalar`, `ND-array`, or `list`. For a scalar, it is considered as an output interval. If `t_output` > `t_final`, no transient data is stored. If `t_output` is not a multiple of `t_step`, `t_output` will be approximated. When `t_output` is a `list` or `ND-array`, transient solutions corresponding to this list or array will be stored. Finally, initial, final and steady-state (if reached) solutions are always stored."
   ]
  },
  {
   "cell_type": "markdown",
   "metadata": {},
   "source": [
    "## Print the algorithm settings\n",
    "One can print the algorithm's settings as shown here."
   ]
  },
  {
   "cell_type": "code",
   "execution_count": 13,
   "metadata": {},
   "outputs": [
    {
     "name": "stdout",
     "output_type": "stream",
     "text": [
      "――――――――――――――――――――――――――――――――――――――――――――――――――――――――――――――――――――――――――――――\n",
      "key                                 value\n",
      "――――――――――――――――――――――――――――――――――――――――――――――――――――――――――――――――――――――――――――――\n",
      "name                                alg_01\n",
      "cache_A                             True\n",
      "cache_b                             True\n",
      "conductance                         throat.diffusive_conductance\n",
      "phase                               phase_01\n",
      "quantity                            pore.concentration\n",
      "solver_atol                         None\n",
      "solver_family                       pypardiso\n",
      "solver_max_iter                     5000\n",
      "solver_preconditioner               jacobi\n",
      "solver_rtol                         None\n",
      "solver_tol                          1e-08\n",
      "solver_type                         spsolve\n",
      "prefix                              alg\n",
      "nlin_max_iter                       5000\n",
      "relaxation_quantity                 1.0\n",
      "relaxation_source                   1.0\n",
      "sources                             []\n",
      "pore_volume                         pore.volume\n",
      "t_final                             100\n",
      "t_initial                           0\n",
      "t_output                            5\n",
      "t_precision                         12\n",
      "t_scheme                            cranknicolson\n",
      "t_solns                             []\n",
      "t_step                              1\n",
      "t_tolerance                         1e-12\n",
      "――――――――――――――――――――――――――――――――――――――――――――――――――――――――――――――――――――――――――――――\n"
     ]
    }
   ],
   "source": [
    "print(fd.settings)"
   ]
  },
  {
   "cell_type": "markdown",
   "metadata": {},
   "source": [
    "Note that the `quantity` corresponds to the quantity solved for."
   ]
  },
  {
   "cell_type": "markdown",
   "metadata": {},
   "source": [
    "## Run the algorithm\n",
    "The algorithm is run here."
   ]
  },
  {
   "cell_type": "code",
   "execution_count": 14,
   "metadata": {},
   "outputs": [],
   "source": [
    "fd.run()"
   ]
  },
  {
   "cell_type": "markdown",
   "metadata": {},
   "source": [
    "## Post process and export the results\n",
    "Once the simulation is successfully performed. The solution at every time steps is stored within the algorithm object. The algorithm's stored information is printed here."
   ]
  },
  {
   "cell_type": "code",
   "execution_count": 15,
   "metadata": {},
   "outputs": [
    {
     "name": "stdout",
     "output_type": "stream",
     "text": [
      "――――――――――――――――――――――――――――――――――――――――――――――――――――――――――――――――――――――――――――――\n",
      "openpnm.algorithms.TransientFickianDiffusion : alg_01\n",
      "――――――――――――――――――――――――――――――――――――――――――――――――――――――――――――――――――――――――――――――\n",
      "#     Properties                                    Valid Values\n",
      "――――――――――――――――――――――――――――――――――――――――――――――――――――――――――――――――――――――――――――――\n",
      "1     pore.bc_rate                                      0 / 377  \n",
      "2     pore.bc_value                                    26 / 377  \n",
      "3     pore.concentration                              377 / 377  \n",
      "4     pore.concentration@0                            377 / 377  \n",
      "5     pore.concentration@10                           377 / 377  \n",
      "6     pore.concentration@100                          377 / 377  \n",
      "7     pore.concentration@15                           377 / 377  \n",
      "8     pore.concentration@20                           377 / 377  \n",
      "9     pore.concentration@25                           377 / 377  \n",
      "10    pore.concentration@30                           377 / 377  \n",
      "11    pore.concentration@35                           377 / 377  \n",
      "12    pore.concentration@40                           377 / 377  \n",
      "13    pore.concentration@45                           377 / 377  \n",
      "14    pore.concentration@5                            377 / 377  \n",
      "15    pore.concentration@50                           377 / 377  \n",
      "16    pore.concentration@55                           377 / 377  \n",
      "17    pore.concentration@60                           377 / 377  \n",
      "18    pore.concentration@65                           377 / 377  \n",
      "19    pore.concentration@70                           377 / 377  \n",
      "20    pore.concentration@75                           377 / 377  \n",
      "21    pore.concentration@80                           377 / 377  \n",
      "22    pore.concentration@85                           377 / 377  \n",
      "23    pore.concentration@90                           377 / 377  \n",
      "24    pore.concentration@95                           377 / 377  \n",
      "25    pore.ic                                         377 / 377  \n",
      "――――――――――――――――――――――――――――――――――――――――――――――――――――――――――――――――――――――――――――――\n",
      "#     Labels                                        Assigned Locations\n",
      "――――――――――――――――――――――――――――――――――――――――――――――――――――――――――――――――――――――――――――――\n",
      "1     pore.all                                      377       \n",
      "2     throat.all                                    712       \n",
      "――――――――――――――――――――――――――――――――――――――――――――――――――――――――――――――――――――――――――――――\n"
     ]
    }
   ],
   "source": [
    "print(fd)"
   ]
  },
  {
   "cell_type": "markdown",
   "metadata": {},
   "source": [
    "Note that the solutions at every exported time step contain the `@` character followed by the time value. Here the solution is exported after each $5s$ in addition to the final time step which is not a multiple of $5$ in this example."
   ]
  },
  {
   "cell_type": "markdown",
   "metadata": {},
   "source": [
    "To print the solution at $t=10s$"
   ]
  },
  {
   "cell_type": "code",
   "execution_count": 16,
   "metadata": {},
   "outputs": [
    {
     "data": {
      "text/plain": [
       "array([0.2    , 0.20613, 0.21323, 0.21554, 0.21919, 0.22793, 0.23878,\n",
       "       0.24746, 0.25667, 0.27111, 0.28368, 0.28639, 0.30093, 0.32348,\n",
       "       0.33034, 0.33826, 0.34688, 0.36263, 0.37669, 0.38178, 0.38917,\n",
       "       0.40928, 0.43137, 0.44306, 0.4589 , 0.47865, 0.48876, 0.43965,\n",
       "       0.5    , 0.2    , 0.20556, 0.21167, 0.21528, 0.21919, 0.22776,\n",
       "       0.23895, 0.24904, 0.25759, 0.27021, 0.28326, 0.28813, 0.29637,\n",
       "       0.3157 , 0.32903, 0.33816, 0.34828, 0.3633 , 0.37707, 0.38317,\n",
       "       0.39372, 0.40894, 0.4274 , 0.44127, 0.45753, 0.4818 , 0.49549,\n",
       "       0.47686, 0.5    , 0.2    , 0.20639, 0.21266, 0.2158 , 0.22023,\n",
       "       0.22538, 0.23973, 0.25056, 0.25952, 0.27021, 0.27944, 0.28639,\n",
       "       0.29856, 0.31465, 0.32527, 0.33771, 0.3495 , 0.36677, 0.37975,\n",
       "       0.3858 , 0.39371, 0.40953, 0.42606, 0.43985, 0.45239, 0.47136,\n",
       "       0.48329, 0.4212 , 0.5    , 0.2    , 0.20814, 0.21256, 0.21618,\n",
       "       0.22154, 0.23188, 0.24417, 0.2515 , 0.26039, 0.26707, 0.27566,\n",
       "       0.28689, 0.29902, 0.31117, 0.31923, 0.33695, 0.3581 , 0.37085,\n",
       "       0.37895, 0.38467, 0.39625, 0.41221, 0.4259 , 0.44188, 0.45602,\n",
       "       0.46786, 0.4753 , 0.41696, 0.5    , 0.2    , 0.20824, 0.21369,\n",
       "       0.21743, 0.22492, 0.23317, 0.24323, 0.25264, 0.25837, 0.26538,\n",
       "       0.2762 , 0.28604, 0.29454, 0.30775, 0.32285, 0.33583, 0.35427,\n",
       "       0.37163, 0.38191, 0.38707, 0.39613, 0.40598, 0.42754, 0.44635,\n",
       "       0.4577 , 0.47283, 0.48495, 0.46276, 0.5    , 0.2    , 0.20736,\n",
       "       0.21485, 0.21846, 0.22682, 0.23469, 0.24287, 0.25134, 0.25601,\n",
       "       0.26672, 0.27904, 0.28408, 0.29127, 0.30419, 0.32048, 0.33219,\n",
       "       0.35111, 0.36891, 0.38355, 0.38959, 0.39785, 0.40874, 0.42881,\n",
       "       0.44526, 0.45816, 0.47598, 0.48713, 0.44271, 0.5    , 0.2    ,\n",
       "       0.2073 , 0.21544, 0.22189, 0.22997, 0.23566, 0.24223, 0.24843,\n",
       "       0.25585, 0.26642, 0.27862, 0.28218, 0.29005, 0.29999, 0.31788,\n",
       "       0.33336, 0.35142, 0.36719, 0.38029, 0.39138, 0.40137, 0.41435,\n",
       "       0.43007, 0.44058, 0.45304, 0.47519, 0.4922 , 0.46775, 0.5    ,\n",
       "       0.2    , 0.20588, 0.21496, 0.22449, 0.22907, 0.23551, 0.24149,\n",
       "       0.24955, 0.25898, 0.26248, 0.27295, 0.28058, 0.28842, 0.30383,\n",
       "       0.31849, 0.33458, 0.35166, 0.36934, 0.38134, 0.38922, 0.40394,\n",
       "       0.41612, 0.42363, 0.43906, 0.45412, 0.47179, 0.4872 , 0.43361,\n",
       "       0.5    , 0.2    , 0.20639, 0.21223, 0.22108, 0.22979, 0.23645,\n",
       "       0.24339, 0.24856, 0.25624, 0.26337, 0.27075, 0.27803, 0.29283,\n",
       "       0.30891, 0.31601, 0.33456, 0.35114, 0.36487, 0.38131, 0.39331,\n",
       "       0.40691, 0.41549, 0.4218 , 0.43526, 0.45311, 0.47096, 0.48569,\n",
       "       0.46876, 0.5    , 0.2    , 0.20864, 0.2137 , 0.2182 , 0.22643,\n",
       "       0.23566, 0.24479, 0.24894, 0.25554, 0.26187, 0.26988, 0.27655,\n",
       "       0.29285, 0.30886, 0.32199, 0.33364, 0.34835, 0.36095, 0.37859,\n",
       "       0.39445, 0.40637, 0.41703, 0.42156, 0.43457, 0.45093, 0.46137,\n",
       "       0.47323, 0.45932, 0.5    , 0.2    , 0.20784, 0.21351, 0.2209 ,\n",
       "       0.22738, 0.23274, 0.24143, 0.24703, 0.25489, 0.2644 , 0.27087,\n",
       "       0.28117, 0.29933, 0.31044, 0.32087, 0.33226, 0.34805, 0.36407,\n",
       "       0.37832, 0.39121, 0.40454, 0.41665, 0.42153, 0.43736, 0.45351,\n",
       "       0.46035, 0.47078, 0.42003, 0.5    , 0.2    , 0.20678, 0.21139,\n",
       "       0.21822, 0.22574, 0.23187, 0.24245, 0.24934, 0.25394, 0.26433,\n",
       "       0.27215, 0.27757, 0.29571, 0.3136 , 0.32463, 0.33384, 0.34625,\n",
       "       0.3581 , 0.37588, 0.39474, 0.40438, 0.4143 , 0.42443, 0.43903,\n",
       "       0.45166, 0.46521, 0.4777 , 0.4507 , 0.5    , 0.2    , 0.20553,\n",
       "       0.20991, 0.21407, 0.22274, 0.22849, 0.2393 , 0.25019, 0.25816,\n",
       "       0.26872, 0.27138, 0.27608, 0.29378, 0.31313, 0.32622, 0.3307 ,\n",
       "       0.3457 , 0.36254, 0.37257, 0.39066, 0.40646, 0.4133 , 0.4257 ,\n",
       "       0.44102, 0.45398, 0.46978, 0.47805, 0.43753, 0.5    ])"
      ]
     },
     "execution_count": 16,
     "metadata": {},
     "output_type": "execute_result"
    }
   ],
   "source": [
    "fd['pore.concentration@10']"
   ]
  },
  {
   "cell_type": "markdown",
   "metadata": {},
   "source": [
    "The solution is here stored in the phase before export."
   ]
  },
  {
   "cell_type": "code",
   "execution_count": 17,
   "metadata": {},
   "outputs": [],
   "source": [
    "phase.update(fd.results())"
   ]
  },
  {
   "cell_type": "markdown",
   "metadata": {},
   "source": [
    "## Visialization using Matplotlib\n",
    "One can perform post processing and visualization using the exported files on an external software such as `Paraview`. Additionally, the `Pyhton` library `Matplotlib` can be used as shown here to plot the concentration color map at steady-state."
   ]
  },
  {
   "cell_type": "code",
   "execution_count": 18,
   "metadata": {},
   "outputs": [
    {
     "data": {
      "image/png": "[encoded data removed]",
      "text/plain": [
       "<Figure size 432x432 with 2 Axes>"
      ]
     },
     "metadata": {
      "needs_background": "light"
     },
     "output_type": "display_data"
    }
   ],
   "source": [
    "#NBVAL_IGNORE_OUTPUT\n",
    "import matplotlib.pyplot as plt\n",
    "c = fd['pore.concentration'].reshape((net._shape))\n",
    "fig, ax = plt.subplots(figsize=(6, 6))\n",
    "plt.imshow(c[:,:,0])\n",
    "plt.title('Concentration (mol/m$^3$)')\n",
    "plt.colorbar();"
   ]
  }
 ],
 "metadata": {
  "@webio": {
   "lastCommId": null,
   "lastKernelId": null
  },
  "hide_input": false,
  "kernelspec": {
   "display_name": "Python 3",
   "language": "python",
   "name": "python3"
  },
  "language_info": {
   "codemirror_mode": {
    "name": "ipython",
    "version": 3
   },
   "file_extension": ".py",
   "mimetype": "text/x-python",
   "name": "python",
   "nbconvert_exporter": "python",
   "pygments_lexer": "ipython3",
   "version": "3.8.6"
  }
 },
 "nbformat": 4,
 "nbformat_minor": 2
}
