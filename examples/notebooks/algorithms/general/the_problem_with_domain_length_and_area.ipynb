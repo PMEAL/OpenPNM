{
 "cells": [
  {
   "cell_type": "markdown",
   "metadata": {},
   "source": [
    "# The Problem with Finding Domain Length and Area\n",
    "\n",
    "In order to find network properties such as permeability using Darcy's law, it is necessary to know the domain length and area.  At first glance this might seem as simple as finding the maxima and minima of the pore coordinates in the direction of interest; however it is a bit more subtle than that as will be explained in this notebook.  Consider the simple cubic network:"
   ]
  },
  {
   "cell_type": "code",
   "execution_count": 9,
   "metadata": {
    "execution": {
     "iopub.execute_input": "2021-06-24T11:28:19.238898Z",
     "iopub.status.busy": "2021-06-24T11:28:19.237329Z",
     "iopub.status.idle": "2021-06-24T11:28:19.817882Z",
     "shell.execute_reply": "2021-06-24T11:28:19.819079Z"
    }
   },
   "outputs": [],
   "source": [
    "import matplotlib.pyplot as plt\n",
    "import openpnm as op\n",
    "%config InlineBackend.figure_formats = ['svg']\n",
    "import numpy as np\n",
    "np.random.seed(10)\n",
    "pn = op.network.Cubic(shape=[4, 4, 1])"
   ]
  },
  {
   "cell_type": "markdown",
   "metadata": {},
   "source": [
    "Now let's plot the coordinates and connections between them:"
   ]
  },
  {
   "cell_type": "code",
   "execution_count": 10,
   "metadata": {
    "execution": {
     "iopub.execute_input": "2021-06-24T11:28:19.826287Z",
     "iopub.status.busy": "2021-06-24T11:28:19.824704Z",
     "iopub.status.idle": "2021-06-24T11:28:20.144294Z",
     "shell.execute_reply": "2021-06-24T11:28:20.145450Z"
    }
   },
   "outputs": [
    {
     "data": {
      "text/plain": [
       "<matplotlib.collections.LineCollection at 0x140e8db6100>"
      ]
     },
     "execution_count": 10,
     "metadata": {},
     "output_type": "execute_result"
    }
   ],
   "source": [
    "# NBVAL_IGNORE_OUTPUT\n",
    "fig, ax = plt.subplots()\n",
    "op.topotools.plot_coordinates(pn, markersize=500, ax=ax)\n",
    "op.topotools.plot_connections(pn, ax=ax)"
   ]
  },
  {
   "cell_type": "markdown",
   "metadata": {},
   "source": [
    "Let's say we'd like to know the length of the domain from left to right.  The pore coordinates for the leftmost pores are:"
   ]
  },
  {
   "cell_type": "code",
   "execution_count": 11,
   "metadata": {
    "execution": {
     "iopub.execute_input": "2021-06-24T11:28:20.153932Z",
     "iopub.status.busy": "2021-06-24T11:28:20.152545Z",
     "iopub.status.idle": "2021-06-24T11:28:20.159524Z",
     "shell.execute_reply": "2021-06-24T11:28:20.158296Z"
    }
   },
   "outputs": [
    {
     "data": {
      "text/plain": [
       "array([[0.5, 0.5, 0.5],\n",
       "       [0.5, 1.5, 0.5],\n",
       "       [0.5, 2.5, 0.5],\n",
       "       [0.5, 3.5, 0.5]])"
      ]
     },
     "execution_count": 11,
     "metadata": {},
     "output_type": "execute_result"
    }
   ],
   "source": [
    "pn['pore.coords'][pn.pores('left'), :]"
   ]
  },
  {
   "cell_type": "markdown",
   "metadata": {},
   "source": [
    "Note that the 'minimum' value is 0.5 rather than 0.0.  This is because the pore coordinates point to the center of the region that belongs to the pore.  In the case of the simple cubic with a spacing of 1, pore 0 lies at [0.5, 0.5, 0.5], while the bounding box around the pore goes from [0, 0, 0], to [1, 1, 1].  \n",
    "\n",
    "Therefore, if we use pore coordinates to find the domain length we'd do:"
   ]
  },
  {
   "cell_type": "code",
   "execution_count": 12,
   "metadata": {
    "execution": {
     "iopub.execute_input": "2021-06-24T11:28:20.167227Z",
     "iopub.status.busy": "2021-06-24T11:28:20.165972Z",
     "iopub.status.idle": "2021-06-24T11:28:20.170250Z",
     "shell.execute_reply": "2021-06-24T11:28:20.171319Z"
    }
   },
   "outputs": [
    {
     "name": "stdout",
     "output_type": "stream",
     "text": [
      "3.0\n"
     ]
    }
   ],
   "source": [
    "L = pn['pore.coords'][:, 0].max() - pn['pore.coords'][:, 0].min()\n",
    "print(L)"
   ]
  },
  {
   "cell_type": "markdown",
   "metadata": {},
   "source": [
    "While in reality to domain is 4 pore long and the correct answer should be 4.0.  The extra 0.5 of the left and right cells are not included.  \n",
    "\n",
    "It may seem simple enough to automatically add a full lattice cell to the calculation, but this cannot be assumed since many networks are random.  Consider the Delaunay network:"
   ]
  },
  {
   "cell_type": "code",
   "execution_count": 13,
   "metadata": {
    "execution": {
     "iopub.execute_input": "2021-06-24T11:28:20.179001Z",
     "iopub.status.busy": "2021-06-24T11:28:20.177765Z",
     "iopub.status.idle": "2021-06-24T11:28:20.208212Z",
     "shell.execute_reply": "2021-06-24T11:28:20.206874Z"
    }
   },
   "outputs": [],
   "source": [
    "dn = op.network.Delaunay(points=20, shape=[1, 1, 0])"
   ]
  },
  {
   "cell_type": "markdown",
   "metadata": {},
   "source": [
    "Let's first remove the boundary pores to ensure the network is fully random:"
   ]
  },
  {
   "cell_type": "code",
   "execution_count": 14,
   "metadata": {
    "execution": {
     "iopub.execute_input": "2021-06-24T11:28:20.215597Z",
     "iopub.status.busy": "2021-06-24T11:28:20.214190Z",
     "iopub.status.idle": "2021-06-24T11:28:20.217056Z",
     "shell.execute_reply": "2021-06-24T11:28:20.218153Z"
    }
   },
   "outputs": [],
   "source": [
    "op.topotools.trim(network=dn, pores=dn.pores(['left', 'right', 'front', 'back']))"
   ]
  },
  {
   "cell_type": "code",
   "execution_count": 15,
   "metadata": {
    "execution": {
     "iopub.execute_input": "2021-06-24T11:28:20.246831Z",
     "iopub.status.busy": "2021-06-24T11:28:20.240288Z",
     "iopub.status.idle": "2021-06-24T11:28:20.336995Z",
     "shell.execute_reply": "2021-06-24T11:28:20.338132Z"
    }
   },
   "outputs": [
    {
     "data": {
      "text/plain": [
       "<matplotlib.collections.LineCollection at 0x140e8f8ff70>"
      ]
     },
     "execution_count": 15,
     "metadata": {},
     "output_type": "execute_result"
    }
   ],
   "source": [
    "# NBVAL_IGNORE_OUTPUT\n",
    "fig, ax = plt.subplots()\n",
    "op.topotools.plot_coordinates(dn, markersize=500, ax=ax)\n",
    "op.topotools.plot_connections(dn, ax=ax)"
   ]
  },
  {
   "cell_type": "markdown",
   "metadata": {},
   "source": [
    "Now it's quite clear that finding the domain size by assuming a bounding box around the pore coordinates does not tell the whole story. How much 'extra' length should be added beyond the extreme pores?  This is not possible to know based only on the pore coordinates, which is the only information OpenPNM has."
   ]
  },
  {
   "cell_type": "markdown",
   "metadata": {},
   "source": [
    "The end result of this scenario is that when computing anything that requires length and area, these values must be specified by the user. Consider the permeability coefficient:"
   ]
  },
  {
   "cell_type": "code",
   "execution_count": 16,
   "metadata": {
    "execution": {
     "iopub.execute_input": "2021-06-24T11:28:20.345997Z",
     "iopub.status.busy": "2021-06-24T11:28:20.344205Z",
     "iopub.status.idle": "2021-06-24T11:28:20.388453Z",
     "shell.execute_reply": "2021-06-24T11:28:20.387134Z"
    }
   },
   "outputs": [],
   "source": [
    "pn = op.network.Cubic(shape=[4, 4, 4])\n",
    "geo = op.geometry.StickAndBall2D(network=pn, pores=pn.Ps, throats=pn.Ts)\n",
    "air = op.phases.Air(network=pn)\n",
    "phys = op.physics.Standard2D(network=pn, phase=air, geometry=geo)"
   ]
  },
  {
   "cell_type": "code",
   "execution_count": 17,
   "metadata": {
    "execution": {
     "iopub.execute_input": "2021-06-24T11:28:20.397396Z",
     "iopub.status.busy": "2021-06-24T11:28:20.396008Z",
     "iopub.status.idle": "2021-06-24T11:28:20.542676Z",
     "shell.execute_reply": "2021-06-24T11:28:20.541993Z"
    }
   },
   "outputs": [],
   "source": [
    "sf = op.algorithms.StokesFlow(network=pn, phase=air)\n",
    "sf.set_value_BC(pores=pn.pores('left'), values=200000)\n",
    "sf.set_value_BC(pores=pn.pores('right'), values=100000)\n",
    "sf.run()"
   ]
  },
  {
   "cell_type": "markdown",
   "metadata": {},
   "source": [
    "If you do not specify the domain area and length, OpenPNM will attempt to estimate these values using the faulty logic of minima and maxima of boundary pores, but will issue a warning so you know that errors are present. "
   ]
  },
  {
   "cell_type": "code",
   "execution_count": 18,
   "metadata": {
    "execution": {
     "iopub.execute_input": "2021-06-24T11:28:20.547412Z",
     "iopub.status.busy": "2021-06-24T11:28:20.546709Z",
     "iopub.status.idle": "2021-06-24T11:28:20.553492Z",
     "shell.execute_reply": "2021-06-24T11:28:20.552893Z"
    }
   },
   "outputs": [
    {
     "name": "stderr",
     "output_type": "stream",
     "text": [
      "------------------------------------------------------------\n",
      "WARNING    : Attempting to estimate inlet area...will be low \n",
      "SOURCE     : openpnm.algorithms.GenericTransport._get_domain_area \n",
      "TIME STAMP : 2021-10-13 01:03:54,698\n",
      "------------------------------------------------------------\n",
      "------------------------------------------------------------\n",
      "WARNING    : Attempting to estimate domain length...could be low if boundary pores were not added \n",
      "SOURCE     : openpnm.algorithms.GenericTransport._get_domain_length \n",
      "TIME STAMP : 2021-10-13 01:03:54,708\n",
      "------------------------------------------------------------\n"
     ]
    },
    {
     "name": "stdout",
     "output_type": "stream",
     "text": [
      "[0.00152148]\n"
     ]
    }
   ],
   "source": [
    "K = sf.calc_effective_permeability()\n",
    "print(K)"
   ]
  },
  {
   "cell_type": "markdown",
   "metadata": {},
   "source": [
    "To get correct answers, it is necessary to specify the domain sizes as follows:"
   ]
  },
  {
   "cell_type": "code",
   "execution_count": 19,
   "metadata": {
    "execution": {
     "iopub.execute_input": "2021-06-24T11:28:20.558185Z",
     "iopub.status.busy": "2021-06-24T11:28:20.557620Z",
     "iopub.status.idle": "2021-06-24T11:28:20.561160Z",
     "shell.execute_reply": "2021-06-24T11:28:20.560576Z"
    }
   },
   "outputs": [
    {
     "name": "stdout",
     "output_type": "stream",
     "text": [
      "[0.00114111]\n"
     ]
    }
   ],
   "source": [
    "A = 16\n",
    "L = 4\n",
    "K = sf.calc_effective_permeability(domain_area=A, domain_length=L)\n",
    "print(K)"
   ]
  },
  {
   "cell_type": "markdown",
   "metadata": {},
   "source": [
    "Of course, the most correct way to calculate K is to do it manually using Darcy's law:"
   ]
  },
  {
   "cell_type": "code",
   "execution_count": 20,
   "metadata": {
    "execution": {
     "iopub.execute_input": "2021-06-24T11:28:20.566217Z",
     "iopub.status.busy": "2021-06-24T11:28:20.565655Z",
     "iopub.status.idle": "2021-06-24T11:28:20.568723Z",
     "shell.execute_reply": "2021-06-24T11:28:20.569191Z"
    }
   },
   "outputs": [
    {
     "name": "stdout",
     "output_type": "stream",
     "text": [
      "[0.00114111]\n"
     ]
    }
   ],
   "source": [
    "mu = air['pore.viscosity'].mean()\n",
    "Q = sf.rate(pores=pn.pores('left'))\n",
    "dP = 200000 - 100000\n",
    "K = Q*mu*L/(A * dP)\n",
    "print(K)"
   ]
  }
 ],
 "metadata": {
  "kernelspec": {
   "display_name": "Python 3 (Spyder)",
   "language": "python3",
   "name": "python3"
  },
  "language_info": {
   "codemirror_mode": {
    "name": "ipython",
    "version": 3
   },
   "file_extension": ".py",
   "mimetype": "text/x-python",
   "name": "python",
   "nbconvert_exporter": "python",
   "pygments_lexer": "ipython3",
   "version": "3.9.6"
  }
 },
 "nbformat": 4,
 "nbformat_minor": 4
}
