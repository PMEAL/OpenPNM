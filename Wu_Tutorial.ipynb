{
 "metadata": {
  "name": "",
  "signature": "sha256:dd9bcec18ddd555f8cd8936af7b5984136b97511c077e78b29a76a6b8a4d31d0"
 },
 "nbformat": 3,
 "nbformat_minor": 0,
 "worksheets": [
  {
   "cells": [
    {
     "cell_type": "heading",
     "level": 1,
     "metadata": {},
     "source": [
      "Using OpenPNM to recreate Wu's \"Determination of oxygen effective diffusivity in porous gas diffusion layer using a three-dimensional pore network model\""
     ]
    },
    {
     "cell_type": "markdown",
     "metadata": {},
     "source": [
      "We are going to use OpenPNM to regenerate data found by Wu et al in the paper \"Determination of oxygen effective diffusivity in porous gas diffusion layer using a three-dimensional pore network model\".  This will serve as a introduction to OpenPNM, and instill an ease with the structure and use of OpenPNM for future simulations.  "
     ]
    },
    {
     "cell_type": "heading",
     "level": 2,
     "metadata": {},
     "source": [
      "General Structure"
     ]
    },
    {
     "cell_type": "markdown",
     "metadata": {},
     "source": [
      "The general procedure we will follow when using OpenPNM to complete this simulation will be:\n",
      "\n",
      "1) create network\n",
      "2) create a geometry object and add methods to calculate gemoetrical properties\n",
      "3) create fluid objects and add methods to calculate fluidic properties\n",
      "4) create physics objects for each fluid and add methods for calculating physical properties for each fluid\n",
      "5) initiate, setup, and run our invasion percolation algorithm\n",
      "6) initiate, setup, and run our Fickian Diffusion Algorithm"
     ]
    },
    {
     "cell_type": "heading",
     "level": 2,
     "metadata": {},
     "source": [
      "Getting started"
     ]
    },
    {
     "cell_type": "markdown",
     "metadata": {},
     "source": [
      "It is assumed that the reader has already downloaded or cloned the most recent version of OpenPNM available through github at https://github.com/PMEAL/OpenPNM.  To make importing OpenPNM as simple as possible, we can add OpenPNM to our pythonpath.  This can be done using the following line of code typed into the command line (specific for MasOSX, and replace /path/to/OpenPNM with the proper path where OpenPNM is saved):  "
     ]
    },
    {
     "cell_type": "code",
     "collapsed": false,
     "input": [
      "export PYTHONPATH=$PYTHONPATH:/path/to/OpenPNM"
     ],
     "language": "python",
     "metadata": {},
     "outputs": []
    },
    {
     "cell_type": "markdown",
     "metadata": {},
     "source": [
      "Now that we have added OpenPNM to the python path, we can import it.  We will also need matplotlib.pyplot if we wish to generate graphs of our data in IPython Notebook, and scipy for a few mathematical functions we will use later."
     ]
    },
    {
     "cell_type": "code",
     "collapsed": false,
     "input": [
      "import OpenPNM\n",
      "import matplotlib.pyplot as plt\n",
      "import scipy as sp\n",
      "import numpy as np"
     ],
     "language": "python",
     "metadata": {},
     "outputs": [],
     "prompt_number": 2
    },
    {
     "cell_type": "heading",
     "level": 2,
     "metadata": {},
     "source": [
      "Generating the pore network and adding a geometry object"
     ]
    },
    {
     "cell_type": "markdown",
     "metadata": {},
     "source": [
      "The first step will be to create a pore network we wish to run simulations on.  To regenerate Wu's data, we need to create a pore network that is nxnx2n, where n can be 8, 10, 12, 14, 16, 18, or 20. Wu also specifies that the lattice parameter of the network should be 25e-6.  OpenPNM makes creating a pore network easy.  First, we select the desired network topology (in this case, cubic), then call the generate() method.  Note that divisions[ax,by,cz] supply the number of pores in each of the x, y, and z directions of the lattice.  "
     ]
    },
    {
     "cell_type": "code",
     "collapsed": false,
     "input": [
      "n = 8\n",
      "Lc = 25e-6\n",
      "\n",
      "pn = OpenPNM.Network.Cubic(name = 'Wu')\n",
      "\n",
      "#code to run if we want to set add_boundaries to be False\n",
      "pn.generate(divisions = [n,n,2*n], add_boundaries= False, lattice_spacing = [Lc])\n",
      "\n",
      "#code to run if we want to set add_boundaries to be True\n",
      "#pn.generate(divisions = [n,n,2*n], add_boundaries= True, lattice_spacing = [Lc])\n"
     ],
     "language": "python",
     "metadata": {},
     "outputs": [],
     "prompt_number": 3
    },
    {
     "cell_type": "markdown",
     "metadata": {},
     "source": [
      "OpenPNM makes it very easy to visualize the network we have generated through the \"Visualization\" methods.  We can create vtk files to be viewed using ParaView (downloadable at http://www.paraview.org/download/.  It is suggested that version 3.98 is downloaded instead of 4.1).  If we were able to visualize our pore network model it would appear like this:"
     ]
    },
    {
     "cell_type": "code",
     "collapsed": false,
     "input": [
      "from IPython.display import display\n",
      "from IPython.display import Image\n",
      "\n",
      "i = Image(url = 'http://i.imgur.com/ILg7ZdJ.png')\n",
      "display(i)"
     ],
     "language": "python",
     "metadata": {},
     "outputs": [
      {
       "html": [
        "<img src=\"http://i.imgur.com/ILg7ZdJ.png\"/>"
       ],
       "metadata": {},
       "output_type": "display_data",
       "text": [
        "<IPython.core.display.Image at 0x106602470>"
       ]
      }
     ],
     "prompt_number": 4
    },
    {
     "cell_type": "markdown",
     "metadata": {},
     "source": [
      "Next, we must create a geometry object so that each pore and throat can be given properties.  For pores, this means diameter and volume, while for throats this means diameter, length, and volume.  We ensure that the geometry will be set for all locations of the network by sending all pore locations as a parameter.\n",
      "\n",
      "Afer setting up the geometry object we are ready to add methods to our geometry object for calculating pore and throat dimensional values.  After we add all the methods, we must remember to \"regenerate\" so that these values are calculated and stored.  Note that if we don't want the logger to show us its progress, we can add 'loglevel = 40' to the parameters of each function.\n",
      "\n",
      "The order in which we add each method is important, as the 'sphere' model for calculating pore volumes requires the diameters to be already known.  Similarly, throat lengths and diameters must be set before the throat volumes can be calculated."
     ]
    },
    {
     "cell_type": "code",
     "collapsed": false,
     "input": [
      "#code to run if boundaries was set to false\n",
      "geo = OpenPNM.Geometry.GenericGeometry(name = 'wu_geometry', network = pn)\n",
      "geo.set_locations(pores = pn.pores('all'), throats = 'all')\n",
      "\n",
      "#code to run if boundaries was set to True\n",
      "#pn.generate(divisions = [n,n,2*n], add_boundaries= True, lattice_spacing = [Lc], loglevel = 30)\n",
      "#geo = OpenPNM.Geometry.GenericGeometry(name = 'wu_geometry', network = pn)\n",
      "#geo.set_locations(pores = pn.pores('internal'), throats = 'all')\n",
      "#boun = pn.add_geometry(subclass='Boundary',name='boun')\n",
      "#boun.set_locations(pores=pn.pores('boundary'))\n",
      "\n",
      "low = .5e-6\n",
      "high = 9.5e-6\n",
      "\n",
      "geo.add_method(prop='pore_diameter',model='constant', value = 24e-6)\n",
      "geo.add_method(prop='pore_volume',model='sphere')\n",
      "geo.add_method(prop='throat_length',model='straight')\n",
      "geo.add_method(prop='throat_volume',model='cylinder')\n",
      "\n",
      "#setting throat diameters to be a uniform distribution\n",
      "radii = low + sp.rand(pn.num_throats())*(high - low)\n",
      "pn.set_data(prop = 'diameter', throats = pn.throats(), data = radii*2)\n",
      "\n",
      "pn.regenerate_geometries()"
     ],
     "language": "python",
     "metadata": {},
     "outputs": [],
     "prompt_number": 5
    },
    {
     "cell_type": "markdown",
     "metadata": {},
     "source": [
      "Now we can use methods in Tools to return information about our pores and throats.  Note that the printed throat diameters are between 1e-6 and 1.9e-5 (twice our chosen minimum and maximum radii), so we know that the uniform_distribution method is working correctly.  We used the 'straight' model for calculating throat lengths, which simply calculated this length based on the pore diameter and lattice parameter.  Because the lattice parameter is 25e-6 and our pore diameters are 24e-6, our throat lengths should all be 1e-6 which we can check by printing these values."
     ]
    },
    {
     "cell_type": "code",
     "collapsed": false,
     "input": [
      "throat_diameters = pn.get_throat_data(prop = 'diameter') #if you do not specificy locations, all locations are returned\n",
      "throat_lengths = pn.get_throat_data(prop = 'length')\n",
      "print(throat_diameters)\n",
      "print(throat_lengths)"
     ],
     "language": "python",
     "metadata": {},
     "outputs": [
      {
       "output_type": "stream",
       "stream": "stdout",
       "text": [
        "[  1.28415228e-05   1.00737877e-05   1.29473593e-05 ...,   3.11211442e-06\n",
        "   8.20257202e-06   1.68729361e-05]\n",
        "[  1.00000000e-06   1.00000000e-06   1.00000000e-06 ...,   1.00000000e-06\n",
        "   1.00000000e-06   1.00000000e-06]\n"
       ]
      }
     ],
     "prompt_number": 6
    },
    {
     "cell_type": "heading",
     "level": 2,
     "metadata": {},
     "source": [
      "Adding fluid objects and methods"
     ]
    },
    {
     "cell_type": "markdown",
     "metadata": {},
     "source": [
      "Next, we have to set up our fluids.  We could set up air and water as generic fluids and add methods to each, or we could use the air and water fluids that are already exisiting.  We will use the already existing fluids to make our lives easier.  Again, we will use the regenerate method to make sure that the values for the fluids are calculated and set using the methods chosen (which in this case are preset).  "
     ]
    },
    {
     "cell_type": "code",
     "collapsed": false,
     "input": [
      "air = OpenPNM.Fluids.Air(network = pn, name = 'air')\n",
      "water = OpenPNM.Fluids.Water(network = pn, name = 'water')\n",
      "pn.regenerate_fluids()"
     ],
     "language": "python",
     "metadata": {},
     "outputs": [],
     "prompt_number": 7
    },
    {
     "cell_type": "heading",
     "level": 2,
     "metadata": {},
     "source": [
      "Adding Physics objects and methods"
     ]
    },
    {
     "cell_type": "markdown",
     "metadata": {},
     "source": [
      "The next step will be to set up physics objects and add the proper methods.  However, Wu does not use the simple bulk_diffusion model we already have to calculate diffusive conductance.  The method we currently have calculates the diffusive conductance accross a conduit (half of one pore, the connecting throat, and half of the next pore) instead of just accross a throat.  We are assuming that Wu calculates the diffusive conductance simply accross a throat.    \n",
      "\n",
      "Before we add methods to our physics objects, we should write a method for calculating diffusive conductance that follows Wu's model.  This will not be encorporated into OpenPNM, but can still be used to calculate our diffusive_conductance.  We will call this bulk_diffusion_wu, and it will appear as follows:"
     ]
    },
    {
     "cell_type": "code",
     "collapsed": false,
     "input": [
      "def bulk_diffusion_wu(physics,\n",
      "                      network,\n",
      "                      fluid,\n",
      "                      geometry,\n",
      "                      propname,\n",
      "                      diffusivity = 'diffusivity',\n",
      "                      molar_density = 'molar_density',\n",
      "                      throat_diameter = 'diameter',\n",
      "                      throat_length = 'length',\n",
      "                      pore_diameter = 'diameter',\n",
      "                      **params):\n",
      "    r\"\"\"\n",
      "        Calculate the diffusive conductance of throats in network (instead of a\n",
      "        conduit) based on the areas\n",
      "        \n",
      "        Parameters\n",
      "        ----------\n",
      "        network : OpenPNM Network Object\n",
      "        \n",
      "        fluid : OpenPNM Fluid Object\n",
      "        The fluid of interest\n",
      "        \n",
      "        Notes\n",
      "        -----\n",
      "        This function requires that all the necessary fluid properties already be\n",
      "        calculated.\n",
      "        \n",
      "        \"\"\"\n",
      "    #ct = fluid.get_data(prop='molar_density',throats='all',mode='interpolate')\n",
      "    #Interpolate pore values to throats\n",
      "    DABt = fluid.get_data(prop='diffusivity',throats='all',mode='interpolate')\n",
      "    #Find g for full throat\n",
      "    tdia = network.get_throat_data(prop=throat_diameter)\n",
      "    tlen = network.get_throat_data(prop=throat_length)\n",
      "    gt = (sp.pi*DABt*tdia**2)/(tlen*4)\n",
      "    g = gt[geometry.throats()]\n",
      "    fluid.set_data(prop=propname,throats=geometry.throats(),data=g)"
     ],
     "language": "python",
     "metadata": {},
     "outputs": [],
     "prompt_number": 8
    },
    {
     "cell_type": "markdown",
     "metadata": {},
     "source": [
      "Now we can set up our physics objects and add the methods with the desired models.  Then we need to \"regenerate\" to make sure these values are calculated.  Air's diffusive conductance is set a little differently, because we have written our own method that does not exist in OpenPNM.  Note that calling regenerate_physics() will not re-calculate air diffusive conductance."
     ]
    },
    {
     "cell_type": "code",
     "collapsed": false,
     "input": [
      "phys_water = OpenPNM.Physics.GenericPhysics(network=pn,fluid=water, geometry = geo, name='standard_water_physics')\n",
      "phys_air = OpenPNM.Physics.GenericPhysics(network=pn,fluid=air, geometry = geo, name='standard_air_physics')\n",
      "\n",
      "phys_water.add_method(prop='capillary_pressure', model='washburn') #accounts for cylindrical throats\n",
      "phys_water.add_method(prop='hydraulic_conductance',model='hagen_poiseuille')\n",
      "phys_water.add_method(prop='diffusive_conductance', model='bulk_diffusion', shape = 'circular')\n",
      "phys_air.add_method(prop='hydraulic_conductance',model='hagen_poiseuille')\n",
      "\n",
      "bulk_diffusion_wu(physics = phys_air, network = pn, fluid = air, geometry = geo, propname = 'diffusive_conductance')\n",
      "pn.regenerate_physics()"
     ],
     "language": "python",
     "metadata": {},
     "outputs": [],
     "prompt_number": 9
    },
    {
     "cell_type": "heading",
     "level": 2,
     "metadata": {},
     "source": [
      "Running the invasion percolation algorithm"
     ]
    },
    {
     "cell_type": "markdown",
     "metadata": {},
     "source": [
      "Now we are ready to run invasion percolation.  We need to set up our parameters, namely inlets, outlets, and end_condition.  The end_condition parameter, 'breakthrough', specifies that invasion percolation will stop as soon as 1 of the outlet pores is filled.  If we specified 'total' instead, invasion percolation would proceed until all outlet pores are full.\n",
      "\n",
      "We will save a vtk file with the saved data so we can view what we've done.  To view this, you can open the file inside ParaView.  "
     ]
    },
    {
     "cell_type": "code",
     "collapsed": false,
     "input": [
      "inlets = pn.get_pore_indices(labels = ['bottom']) #can put in brackets so the whole bottom of the lattice is considered 1 inlet\n",
      "outlets = pn.get_pore_indices(labels = ['top'])\n",
      "\n",
      "IP_1 = OpenPNM.Algorithms.InvasionPercolation(network = pn, name = 'OP_1',loglevel=30)\n",
      "IP_1.setup(invading_fluid = water, defending_fluid = air, inlets = inlets, outlets = outlets, end_condition = 'total')\n",
      "IP_1.run()\n",
      "IP_1.update()\n",
      "#should be uncommented if want to run fickian diffusion on an air-filled lattice\n",
      "#IP_1.update(IPseq = 0)  \n",
      "\n",
      "vis = OpenPNM.Visualization.VTK()\n",
      "vis.write(filename = 'test.vtp', network=pn,fluids=[air,water])"
     ],
     "language": "python",
     "metadata": {},
     "outputs": [
      {
       "output_type": "stream",
       "stream": "stdout",
       "text": [
        "     IP algorithm at 0 % completion at 2 seconds\n",
        "     IP algorithm at"
       ]
      },
      {
       "output_type": "stream",
       "stream": "stdout",
       "text": [
        " 20 % completion at 2 seconds\n",
        "     IP algorithm at"
       ]
      },
      {
       "output_type": "stream",
       "stream": "stdout",
       "text": [
        " 40 % completion at 3 seconds\n",
        "     IP algorithm at"
       ]
      },
      {
       "output_type": "stream",
       "stream": "stdout",
       "text": [
        " 60 % completion at 3 seconds\n",
        "     IP algorithm at"
       ]
      },
      {
       "output_type": "stream",
       "stream": "stdout",
       "text": [
        " 80 % completion at 4 seconds\n",
        "     IP algorithm at 100% completion at "
       ]
      },
      {
       "output_type": "stream",
       "stream": "stdout",
       "text": [
        " 6  seconds\n"
       ]
      }
     ],
     "prompt_number": 10
    },
    {
     "cell_type": "markdown",
     "metadata": {},
     "source": [
      "If all has gone well, we should be able to watch the invasion percolation take place by opening our vtk file in ParaView.  After adding a threshold, we can watch an animation of the invasion that will appear as follows:"
     ]
    },
    {
     "cell_type": "code",
     "collapsed": false,
     "input": [
      "from IPython.display import YouTubeVideo\n",
      "display(YouTubeVideo('0iSuypRaT7A'))"
     ],
     "language": "python",
     "metadata": {},
     "outputs": [
      {
       "html": [
        "\n",
        "        <iframe\n",
        "            width=\"400\"\n",
        "            height=300\"\n",
        "            src=\"https://www.youtube.com/embed/0iSuypRaT7A\"\n",
        "            frameborder=\"0\"\n",
        "            allowfullscreen\n",
        "        ></iframe>\n",
        "        "
       ],
       "metadata": {},
       "output_type": "display_data",
       "text": [
        "<IPython.lib.display.YouTubeVideo at 0x107f74470>"
       ]
      }
     ],
     "prompt_number": 11
    },
    {
     "cell_type": "heading",
     "level": 2,
     "metadata": {},
     "source": [
      "Conduit Conductance"
     ]
    },
    {
     "cell_type": "markdown",
     "metadata": {},
     "source": [
      "Before we run Fickian diffusion, there is one thing we must take care of.  Throat diffusive conductances need to be reset after invasion percolation is run.  This is because a throat should have a lower air diffusive conductance if water is creating a barrier to air movement.  To deal with this, OpenPNM uses a property called \"conduit_conductance\".  This updates either diffusive conductance or hydraulic conductance after invasion has taken place (in our case, we want to change diffusive conductance).  This property needs to be added and regenerated after invasion."
     ]
    },
    {
     "cell_type": "code",
     "collapsed": false,
     "input": [
      "phys_air.add_property(prop='multiphase',model='conduit_conductance',\n",
      "                  conductance = 'diffusive_conductance', prop_name='conduit_diffusive_conductance',mode='strict')\n",
      "phys_water.add_property(prop='multiphase',model='conduit_conductance',\n",
      "                  conductance = 'diffusive_conductance', prop_name='conduit_diffusive_conductance',mode='strict')\n",
      "phys_air.add_property(prop='multiphase',model='conduit_conductance',\n",
      "                  conductance = 'hydraulic_conductance', prop_name='conduit_hydraulic_conductance',mode='strict')\n",
      "phys_water.add_property(prop='multiphase',model='conduit_conductance',\n",
      "                  conductance = 'hydraulic_conductance', prop_name='conduit_hydraulic_conductance',mode='strict')\n",
      "pn.regenerate_physics()"
     ],
     "language": "python",
     "metadata": {},
     "outputs": [],
     "prompt_number": 12
    },
    {
     "cell_type": "heading",
     "level": 2,
     "metadata": {},
     "source": [
      "Running the Fickian Diffusion algorithm"
     ]
    },
    {
     "cell_type": "markdown",
     "metadata": {},
     "source": [
      "Next, we can set up our Fickian Diffusion algorithm.  Before we run it, we also need to set up our top and bottom boundary.  To continue following Wu's paper, we want to make the top boundary a plane 1/4 from the top, and the bottom boundary 1/4 from the bottom.  This way the Fickian Algorithm is only calculated on the center half.\n",
      "\n",
      "If we want our boundaries to be used, we must set the boundary conditions for our algorithm.  Finally, we can setup our algorithm and run it."
     ]
    },
    {
     "cell_type": "code",
     "collapsed": false,
     "input": [
      "Fickian_alg = OpenPNM.Algorithms.FickianDiffusion(loglevel = 30, loggername = 'Fickian', name = 'fickian_alg', network = pn)\n",
      "\n",
      "#setting up boundaries 1/4 from bottom and 1/4 from top\n",
      "A = pn._Nx**2\n",
      "\n",
      "z_dimension = int(pn.domain_size(dimension = 'height')/Lc) #number of pores in the z direction\n",
      "quarter_layer = z_dimension/4 #estimates which layer marks 1/4 up the lattice\n",
      "pore_number = int(quarter_layer*A) #gives the first pore in the layer 1/4 up the lattice\n",
      "\n",
      "bottom_boundary = list(range(pore_number, pore_number + A))\n",
      "top_boundary = list(range(pn.num_pores() - pore_number, pn.num_pores() - pore_number +A))\n",
      "\n",
      "#labelling boundary so we can view it in ParaView\n",
      "pn.set_pore_info(label='bound1', locations = bottom_boundary)\n",
      "pn.set_pore_info(label='bound2', locations = top_boundary)\n",
      "\n",
      "Fickian_alg.set_boundary_conditions(bctype='Dirichlet', bcvalue=0.6, pores=bottom_boundary)\n",
      "Fickian_alg.set_boundary_conditions(bctype='Dirichlet', bcvalue=0.2, pores=top_boundary)\n",
      "\n",
      "Fickian_alg.setup(conductance = 'conduit_diffusive_conductance',fluid=air)\n",
      "Fickian_alg.run()"
     ],
     "language": "python",
     "metadata": {},
     "outputs": [],
     "prompt_number": 13
    },
    {
     "cell_type": "markdown",
     "metadata": {},
     "source": [
      "To check that our boundaries have been set properly, we can view the network in ParaView.  The images of the boundaries should appear as below:"
     ]
    },
    {
     "cell_type": "code",
     "collapsed": false,
     "input": [
      "#top boundary\n",
      "i = Image(url = 'http://i.imgur.com/RknaFjl.png')\n",
      "display(i)\n",
      "#bottom boundary\n",
      "g = Image(url = 'http://i.imgur.com/oxF407s.png')\n",
      "display(g)"
     ],
     "language": "python",
     "metadata": {},
     "outputs": [
      {
       "html": [
        "<img src=\"http://i.imgur.com/RknaFjl.png\"/>"
       ],
       "metadata": {},
       "output_type": "display_data",
       "text": [
        "<IPython.core.display.Image at 0x107f74080>"
       ]
      },
      {
       "html": [
        "<img src=\"http://i.imgur.com/oxF407s.png\"/>"
       ],
       "metadata": {},
       "output_type": "display_data",
       "text": [
        "<IPython.core.display.Image at 0x106602470>"
       ]
      }
     ],
     "prompt_number": 14
    },
    {
     "cell_type": "heading",
     "level": 2,
     "metadata": {},
     "source": [
      "Calculating effective diffusivity"
     ]
    },
    {
     "cell_type": "markdown",
     "metadata": {},
     "source": [
      "The next step will be to use the effective_diffusivity() method to calculate the effective diffusivity of the network after invasion is at completion.  By setting clean as False, we are insuring that the boundaries we have set will be used as the boundaries (otherwise boundaries will be reset at the surfaces and calc_eff_diffusivity will return a tensor that includes the diffusivity in the X, Y, and Z directions).\n",
      "\n",
      "When we print normal_diffusivity, we should get something close to zero.  This is because we have run total invasion, and every pore is filled.  This makes it extremely difficult for oxygen to move throughout the system."
     ]
    },
    {
     "cell_type": "code",
     "collapsed": false,
     "input": [
      "effective_diffusivity = Fickian_alg.calc_eff_diffusivity(clean = False) \n",
      "bulk_diffusivity = air.get_pore_data(prop = 'diffusivity')\n",
      "normal_diffusivity = effective_diffusivity/bulk_diffusivity\n",
      "print(normal_diffusivity)"
     ],
     "language": "python",
     "metadata": {},
     "outputs": [
      {
       "output_type": "stream",
       "stream": "stdout",
       "text": [
        "[  9.62084849e-05]\n"
       ]
      }
     ],
     "prompt_number": 15
    },
    {
     "cell_type": "heading",
     "level": 2,
     "metadata": {},
     "source": [
      "Calculating saturation"
     ]
    },
    {
     "cell_type": "markdown",
     "metadata": {},
     "source": [
      "In Wu's first graph, he compares saturation and effective_diffusivity/bulk_diffusivity.  The only value that we are missing is saturation, which we can acquire with the following loop.  We only wish to find the saturation in the section that we used to calculate effective diffusion.  Therefore, we only check pores between the last pore in the bottom boundary and the first pore in the top boundary.  Note that the volume of throats is neglected.\n",
      "\n",
      "As a sanity check, if we print saturation here we should get 1.  This is because Invasion Percolation was run with an end_condition of 'total'."
     ]
    },
    {
     "cell_type": "code",
     "collapsed": false,
     "input": [
      "center_pores = list(range(bottom_boundary[-1], top_boundary[0]))\n",
      "final_pores = water['pore.occupancy'][center_pores]\n",
      "pore_volumes = pn['pore.volume'][center_pores]\n",
      "\n",
      "saturation = sum(final_pores*pore_volumes)/sum(pore_volumes)\n",
      "print(saturation)"
     ],
     "language": "python",
     "metadata": {},
     "outputs": [
      {
       "output_type": "stream",
       "stream": "stdout",
       "text": [
        "1.0\n"
       ]
      }
     ],
     "prompt_number": 16
    },
    {
     "cell_type": "heading",
     "level": 2,
     "metadata": {},
     "source": [
      "Generating a graph of saturation versus normalized diffusivity"
     ]
    },
    {
     "cell_type": "markdown",
     "metadata": {},
     "source": [
      "Wu's first graph shows normalized diffusivity as a function of saturation.  This equation is as follows:\n",
      "\n",
      "$$\\frac{D_e}{D_b} = f(\\epsilon, \\phi)g(s, \\phi)$$\n",
      "$$\\text{Key:}$$\n",
      "$$\\frac{D_e}{D_b}: \\text{normalized diffusivity}$$\n",
      "$$f(\\epsilon, \\phi): \\text{a function of tortuosity and pourosity}$$\n",
      "$$g(s, \\phi): \\text{a function of tortuosity and saturation}$$\n",
      "\n",
      "In order to generate this graph, it would be useful to use our above code but include a for loop that updates the invasion to different steps along the way before solving for normal diffusivity.  This way, we can save normal diffusivity at different saturations without generating multiple networks.\n",
      "\n",
      "The way the for-loop works:\n",
      "as invasion percolation continues, each pore that is invaded is labeled with it's invasion sequence.  When the final pore in invaded, this is the final invasion sequence.  By updating the invasion to different points in this sequence, we can view the network at different steps during the invasion.\n",
      "\n",
      "by running this for loop, we are saving different saturation values into x_values and the corresponding normal diffusivity into y_values.  We can later generate a graph with this new data.\n",
      "\n",
      "Note that this generates data from only one randomly generated network.  If we want to generate enough data to completely mimic Wu et al, we should run this loop multiple times.  Otherwise, only running one randomly generated network is enough to convince ourselves of the trend."
     ]
    },
    {
     "cell_type": "code",
     "collapsed": false,
     "input": [
      "max_inv_seq = max(IP_1.get_pore_data(prop = 'IP_inv_seq'))\n",
      "x_values = []\n",
      "y_values = []\n",
      "\n",
      "for x in range(50):\n",
      "    IP_1.update(IPseq = max_inv_seq*(x/50.0))\n",
      "    \n",
      "    phys_air.add_property(prop='multiphase',model='conduit_conductance',\n",
      "                      conductance = 'diffusive_conductance', prop_name='conduit_diffusive_conductance',mode='strict')\n",
      "    phys_water.add_property(prop='multiphase',model='conduit_conductance',\n",
      "                      conductance = 'diffusive_conductance', prop_name='conduit_diffusive_conductance',mode='strict')\n",
      "    phys_air.add_property(prop='multiphase',model='conduit_conductance',\n",
      "                      conductance = 'hydraulic_conductance', prop_name='conduit_hydraulic_conductance',mode='strict')\n",
      "    phys_water.add_property(prop='multiphase',model='conduit_conductance',\n",
      "                      conductance = 'hydraulic_conductance', prop_name='conduit_hydraulic_conductance',mode='strict')\n",
      "    pn.regenerate_physics()\n",
      "    \n",
      "    Fickian_alg = OpenPNM.Algorithms.FickianDiffusion(loggername = 'Fickian', name = 'Fickian', network = pn)\n",
      "    \n",
      "    #set labels for top boundary\n",
      "    #set labels for bottom boundary\n",
      "    A = pn._Nx**2\n",
      "    \n",
      "    z_dimension = int(pn.domain_size(dimension = 'height')/Lc) #number of pores in the z direction\n",
      "    quarter_layer = z_dimension/4 #estimates which layer marks 1/4 up the lattice\n",
      "    pore_number = int(quarter_layer*A) #gives the first pore in the layer 1/4 up the lattice\n",
      "    \n",
      "    bottom_boundary = list(range(pore_number, pore_number + A))\n",
      "    top_boundary = list(range(pn.num_pores() - pore_number, pn.num_pores() - pore_number +A))\n",
      "    \n",
      "    Fickian_alg.set_boundary_conditions(bctype='Dirichlet', bcvalue=0.6, pores=bottom_boundary)\n",
      "    Fickian_alg.set_boundary_conditions(bctype='Dirichlet', bcvalue=0.2, pores=top_boundary)\n",
      "    \n",
      "    Fickian_alg.setup(conductance = 'conduit_diffusive_conductance',fluid=air)\n",
      "    Fickian_alg.run()\n",
      "     \n",
      "    effective_diffusivity = Fickian_alg.calc_eff_diffusivity(clean = False) \n",
      "    bulk_diffusivity = air.get_pore_data(prop = 'diffusivity')\n",
      "    \n",
      "    #calculation of saturation\n",
      "    center_pores = list(range(bottom_boundary[-1], top_boundary[0]))\n",
      "    final_pores = water['pore.occupancy'][center_pores]\n",
      "    pore_volumes = pn['pore.volume'][center_pores]\n",
      "\n",
      "    saturation = sum(final_pores*pore_volumes)/sum(pore_volumes)\n",
      "    \n",
      "    x_values.append(saturation)\n",
      "    y_values.append((effective_diffusivity/bulk_diffusivity)[0])"
     ],
     "language": "python",
     "metadata": {},
     "outputs": [],
     "prompt_number": 17
    },
    {
     "cell_type": "markdown",
     "metadata": {},
     "source": [
      "the data now has x values saved to x_values and y values saved to y_values.  We've already imported matplotlib.pyplot, so only a few lines of code are needed to generate a graph of the data.  "
     ]
    },
    {
     "cell_type": "code",
     "collapsed": false,
     "input": [
      "plt.plot(x_values, y_values, 'ro')\n",
      "plt.title('normalized diffusivity versus saturation')\n",
      "plt.xlabel('saturation')\n",
      "plt.ylabel('normalized diffusivity')\n",
      "plt.show()"
     ],
     "language": "python",
     "metadata": {},
     "outputs": [
      {
       "metadata": {},
       "output_type": "display_data",
       "png": "[encoded data removed]",
       "text": [
        "<matplotlib.figure.Figure at 0x107f715c0>"
       ]
      }
     ],
     "prompt_number": 18
    },
    {
     "cell_type": "markdown",
     "metadata": {},
     "source": [
      "The graph generated thus far should look something like this:"
     ]
    },
    {
     "cell_type": "code",
     "collapsed": false,
     "input": [
      "i = Image(url = 'http://i.imgur.com/Aldj6rB.png')\n",
      "display(i)"
     ],
     "language": "python",
     "metadata": {},
     "outputs": [
      {
       "html": [
        "<img src=\"http://i.imgur.com/Aldj6rB.png\"/>"
       ],
       "metadata": {},
       "output_type": "display_data",
       "text": [
        "<IPython.core.display.Image at 0x107feaa58>"
       ]
      }
     ],
     "prompt_number": 19
    },
    {
     "cell_type": "markdown",
     "metadata": {},
     "source": [
      "If we want to wait a few more minutes to generate a graph mimicking Wu's results more carefully by running more random networks, then we can run the code below.  This will create a graph with many more data points.  The graph also plots data points taken from Wu's paper, to show how our results are the same. Note that this may take a few more minutes to run."
     ]
    },
    {
     "cell_type": "code",
     "collapsed": false,
     "input": [
      "x_values = []\n",
      "y_values = []\n",
      "    \n",
      "for x in range(20):\n",
      "    n = 8\n",
      "    Lc = 25e-6\n",
      "    np.random.seed()\n",
      "    \n",
      "    pn = OpenPNM.Network.Cubic(name = 'Wu')\n",
      "    \n",
      "    #code to run if we want to set add_boundaries to be False\n",
      "    pn.generate(divisions = [n,n,2*n], add_boundaries= False, lattice_spacing = [Lc])\n",
      "    \n",
      "    #code to run if boundaries was set to false\n",
      "    geo = OpenPNM.Geometry.GenericGeometry(name = 'wu_geometry', network = pn)\n",
      "    geo.set_locations(pores = pn.pores('all'), throats = 'all')\n",
      "    \n",
      "    low = .5e-6\n",
      "    high = 9.5e-6\n",
      "    \n",
      "    geo.add_method(prop='pore_diameter',model='constant', value = 24e-6)\n",
      "    geo.add_method(prop='pore_volume',model='sphere')\n",
      "    geo.add_method(prop='throat_length',model='straight')\n",
      "    geo.add_method(prop='throat_volume',model='cylinder')\n",
      "    \n",
      "    #setting throat diameters to be a uniform distribution\n",
      "    radii = low + np.random.random(pn.num_throats())*(high - low)\n",
      "    pn.set_data(prop = 'diameter', throats = pn.throats(), data = radii*2)\n",
      "    \n",
      "    pn.regenerate_geometries()\n",
      "    \n",
      "    air = OpenPNM.Fluids.Air(network = pn, name = 'air')\n",
      "    water = OpenPNM.Fluids.Water(network = pn, name = 'water')\n",
      "    pn.regenerate_fluids()\n",
      "    \n",
      "    phys_water = OpenPNM.Physics.GenericPhysics(network=pn,fluid=water, geometry = geo, name='standard_water_physics')\n",
      "    phys_air = OpenPNM.Physics.GenericPhysics(network=pn,fluid=air, geometry = geo, name='standard_air_physics')\n",
      "    \n",
      "    phys_water.add_method(prop='capillary_pressure', model='washburn') #accounts for cylindrical throats\n",
      "    phys_water.add_method(prop='hydraulic_conductance',model='hagen_poiseuille')\n",
      "    phys_water.add_method(prop='diffusive_conductance', model='bulk_diffusion', shape = 'circular')\n",
      "    phys_air.add_method(prop='hydraulic_conductance',model='hagen_poiseuille')\n",
      "    \n",
      "    bulk_diffusion_wu(physics = phys_air, network = pn, fluid = air, geometry = geo, propname = 'diffusive_conductance')\n",
      "    pn.regenerate_physics()\n",
      "    \n",
      "    inlets = pn.get_pore_indices(labels = ['bottom']) #can put in brackets so the whole bottom of the lattice is considered 1 inlet\n",
      "    outlets = pn.get_pore_indices(labels = ['top'])\n",
      "    \n",
      "    IP_1 = OpenPNM.Algorithms.InvasionPercolation(network = pn, name = 'OP_1',loglevel=30)\n",
      "    IP_1.setup(invading_fluid = water, defending_fluid = air, inlets = inlets, outlets = outlets, end_condition = 'total')\n",
      "    IP_1.run()\n",
      "    \n",
      "    max_inv_seq = max(IP_1.get_pore_data(prop = 'IP_inv_seq'))\n",
      "    \n",
      "    for x in range(50):\n",
      "        IP_1.update(IPseq = max_inv_seq*(x/50.0))\n",
      "        \n",
      "        phys_air.add_property(prop='multiphase',model='conduit_conductance',\n",
      "                          conductance = 'diffusive_conductance', prop_name='conduit_diffusive_conductance',mode='strict')\n",
      "        phys_water.add_property(prop='multiphase',model='conduit_conductance',\n",
      "                          conductance = 'diffusive_conductance', prop_name='conduit_diffusive_conductance',mode='strict')\n",
      "        phys_air.add_property(prop='multiphase',model='conduit_conductance',\n",
      "                          conductance = 'hydraulic_conductance', prop_name='conduit_hydraulic_conductance',mode='strict')\n",
      "        phys_water.add_property(prop='multiphase',model='conduit_conductance',\n",
      "                          conductance = 'hydraulic_conductance', prop_name='conduit_hydraulic_conductance',mode='strict')\n",
      "        pn.regenerate_physics()\n",
      "        \n",
      "        Fickian_alg = OpenPNM.Algorithms.FickianDiffusion(loggername = 'Fickian', name = 'Fickian', network = pn)\n",
      "        \n",
      "        #set labels for top boundary\n",
      "        #set labels for bottom boundary\n",
      "        A = pn._Nx**2\n",
      "        \n",
      "        z_dimension = int(pn.domain_size(dimension = 'height')/Lc) #number of pores in the z direction\n",
      "        quarter_layer = z_dimension/4 #estimates which layer marks 1/4 up the lattice\n",
      "        pore_number = int(quarter_layer*A) #gives the first pore in the layer 1/4 up the lattice\n",
      "        \n",
      "        bottom_boundary = list(range(pore_number, pore_number + A))\n",
      "        top_boundary = list(range(pn.num_pores() - pore_number, pn.num_pores() - pore_number +A))\n",
      "        \n",
      "        Fickian_alg.set_boundary_conditions(bctype='Dirichlet', bcvalue=0.6, pores=bottom_boundary)\n",
      "        Fickian_alg.set_boundary_conditions(bctype='Dirichlet', bcvalue=0.2, pores=top_boundary)\n",
      "        \n",
      "        Fickian_alg.setup(conductance = 'conduit_diffusive_conductance',fluid=air)\n",
      "        Fickian_alg.run()\n",
      "         \n",
      "        effective_diffusivity = Fickian_alg.calc_eff_diffusivity(clean = False) \n",
      "        bulk_diffusivity = air.get_pore_data(prop = 'diffusivity')\n",
      "        \n",
      "        #calculation of saturation\n",
      "        center_pores = list(range(bottom_boundary[-1], top_boundary[0]))\n",
      "        final_pores = water['pore.occupancy'][center_pores]\n",
      "        pore_volumes = pn['pore.volume'][center_pores]\n",
      "    \n",
      "        saturation = sum(final_pores*pore_volumes)/sum(pore_volumes)\n",
      "        \n",
      "        x_values.append(saturation)\n",
      "        y_values.append((effective_diffusivity/bulk_diffusivity)[0])\n",
      "\n",
      "from matplotlib.font_manager import FontProperties\n",
      "fontP = FontProperties()\n",
      "fontP.set_size('small')\n",
      "\n",
      "wu_average_x_values = [0.004, 0.021, 0.052, 0.081, 0.129, 0.162, 0.186, 0.219, 0.261,\n",
      "                       0.286, 0.324, 0.363, 0.42, 0.478, 0.531, 0.586, 0.64, 0.698, 0.747, 0.802]\n",
      "wu_average_y_values = [0.118, 0.113, 0.105, 0.096, 0.085, 0.078, 0.07, 0.062, 0.054, 0.049, 0.04,\n",
      "                       0.033, 0.027, 0.02, 0.012, 0.006, 0.003, 0.002, 0.002, 0.002]\n",
      "\n",
      "p1, = plt.plot(x_values, y_values, 'wo')\n",
      "p2, = plt.plot(wu_average_x_values, wu_average_y_values, 'ro')\n",
      "plt.title('normalized diffusivity versus saturation')\n",
      "plt.xlabel('saturation')\n",
      "plt.ylabel(r'$\\frac{D_e}{D_b}$')\n",
      "plt.ylim([0, .15])\n",
      "plt.xlim([0, 1])\n",
      "plt.legend([p1, p2],\n",
      "           [r'$\\frac{D_e}{D_b} = f(\\epsilon, \\phi)g(s, \\phi)$' + '\\n' + r'$X = 1.8$' + \n",
      "           '\\n' + r'$Z_t = 2.0$' + '\\n' + r'$Z_i = 4.0$' + '\\n' + r'$\\beta = 1.0$' + '\\n' + r'$n = 14$', \"Wu's results\"])\n",
      "\n",
      "plt.show()"
     ],
     "language": "python",
     "metadata": {},
     "outputs": [
      {
       "output_type": "stream",
       "stream": "stdout",
       "text": [
        "     IP algorithm at 0 % completion at 13 seconds\n",
        "     IP algorithm at"
       ]
      },
      {
       "output_type": "stream",
       "stream": "stdout",
       "text": [
        " 20 % completion at 13 seconds\n",
        "     IP algorithm at"
       ]
      },
      {
       "output_type": "stream",
       "stream": "stdout",
       "text": [
        " 40 % completion at 14 seconds\n",
        "     IP algorithm at"
       ]
      },
      {
       "output_type": "stream",
       "stream": "stdout",
       "text": [
        " 60 % completion at 14 seconds\n",
        "     IP algorithm at"
       ]
      },
      {
       "output_type": "stream",
       "stream": "stdout",
       "text": [
        " 80 % completion at 15 seconds\n",
        "     IP algorithm at 100% completion at "
       ]
      },
      {
       "output_type": "stream",
       "stream": "stdout",
       "text": [
        " 18  seconds\n",
        "     IP algorithm at"
       ]
      },
      {
       "output_type": "stream",
       "stream": "stdout",
       "text": [
        " 0 % completion at 25 seconds\n",
        "     IP algorithm at"
       ]
      },
      {
       "output_type": "stream",
       "stream": "stdout",
       "text": [
        " 20 % completion at 25 seconds\n",
        "     IP algorithm at"
       ]
      },
      {
       "output_type": "stream",
       "stream": "stdout",
       "text": [
        " 40 % completion at 26 seconds\n",
        "     IP algorithm at"
       ]
      },
      {
       "output_type": "stream",
       "stream": "stdout",
       "text": [
        " 60 % completion at 26 seconds\n",
        "     IP algorithm at"
       ]
      },
      {
       "output_type": "stream",
       "stream": "stdout",
       "text": [
        " 80 % completion at 27 seconds\n",
        "     IP algorithm at 100% completion at "
       ]
      },
      {
       "output_type": "stream",
       "stream": "stdout",
       "text": [
        " 29  seconds\n",
        "     IP algorithm at"
       ]
      },
      {
       "output_type": "stream",
       "stream": "stdout",
       "text": [
        " 0 % completion at 35 seconds\n",
        "     IP algorithm at"
       ]
      },
      {
       "output_type": "stream",
       "stream": "stdout",
       "text": [
        " 20 % completion at 35 seconds\n",
        "     IP algorithm at"
       ]
      },
      {
       "output_type": "stream",
       "stream": "stdout",
       "text": [
        " 40 % completion at 35 seconds\n",
        "     IP algorithm at"
       ]
      },
      {
       "output_type": "stream",
       "stream": "stdout",
       "text": [
        " 60 % completion at 36 seconds\n",
        "     IP algorithm at"
       ]
      },
      {
       "output_type": "stream",
       "stream": "stdout",
       "text": [
        " 80 % completion at 37 seconds\n",
        "     IP algorithm at 100% completion at "
       ]
      },
      {
       "output_type": "stream",
       "stream": "stdout",
       "text": [
        " 39  seconds\n",
        "     IP algorithm at"
       ]
      },
      {
       "output_type": "stream",
       "stream": "stdout",
       "text": [
        " 0 % completion at 45 seconds\n",
        "     IP algorithm at"
       ]
      },
      {
       "output_type": "stream",
       "stream": "stdout",
       "text": [
        " 20 % completion at 45 seconds\n",
        "     IP algorithm at"
       ]
      },
      {
       "output_type": "stream",
       "stream": "stdout",
       "text": [
        " 40 % completion at 45 seconds\n",
        "     IP algorithm at"
       ]
      },
      {
       "output_type": "stream",
       "stream": "stdout",
       "text": [
        " 60 % completion at 46 seconds\n",
        "     IP algorithm at"
       ]
      },
      {
       "output_type": "stream",
       "stream": "stdout",
       "text": [
        " 80 % completion at 47 seconds\n",
        "     IP algorithm at 100% completion at "
       ]
      },
      {
       "output_type": "stream",
       "stream": "stdout",
       "text": [
        " 49  seconds\n",
        "     IP algorithm at"
       ]
      },
      {
       "output_type": "stream",
       "stream": "stdout",
       "text": [
        " 0 % completion at 54 seconds\n",
        "     IP algorithm at"
       ]
      },
      {
       "output_type": "stream",
       "stream": "stdout",
       "text": [
        " 20 % completion at 55 seconds\n",
        "     IP algorithm at"
       ]
      },
      {
       "output_type": "stream",
       "stream": "stdout",
       "text": [
        " 40 % completion at 55 seconds\n",
        "     IP algorithm at"
       ]
      },
      {
       "output_type": "stream",
       "stream": "stdout",
       "text": [
        " 60 % completion at 56 seconds\n",
        "     IP algorithm at"
       ]
      },
      {
       "output_type": "stream",
       "stream": "stdout",
       "text": [
        " 80 % completion at 56 seconds\n",
        "     IP algorithm at 100% completion at "
       ]
      },
      {
       "output_type": "stream",
       "stream": "stdout",
       "text": [
        " 58  seconds\n",
        "     IP algorithm at"
       ]
      },
      {
       "output_type": "stream",
       "stream": "stdout",
       "text": [
        " 0 % completion at 64 seconds\n",
        "     IP algorithm at"
       ]
      },
      {
       "output_type": "stream",
       "stream": "stdout",
       "text": [
        " 20 % completion at 64 seconds\n",
        "     IP algorithm at"
       ]
      },
      {
       "output_type": "stream",
       "stream": "stdout",
       "text": [
        " 40 % completion at 65 seconds\n",
        "     IP algorithm at"
       ]
      },
      {
       "output_type": "stream",
       "stream": "stdout",
       "text": [
        " 60 % completion at 65 seconds\n",
        "     IP algorithm at"
       ]
      },
      {
       "output_type": "stream",
       "stream": "stdout",
       "text": [
        " 80 % completion at 66 seconds\n",
        "     IP algorithm at 100% completion at "
       ]
      },
      {
       "output_type": "stream",
       "stream": "stdout",
       "text": [
        " 68  seconds\n",
        "     IP algorithm at"
       ]
      },
      {
       "output_type": "stream",
       "stream": "stdout",
       "text": [
        " 0 % completion at 73 seconds\n",
        "     IP algorithm at"
       ]
      },
      {
       "output_type": "stream",
       "stream": "stdout",
       "text": [
        " 20 % completion at 74 seconds\n",
        "     IP algorithm at"
       ]
      },
      {
       "output_type": "stream",
       "stream": "stdout",
       "text": [
        " 40 % completion at 74 seconds\n",
        "     IP algorithm at"
       ]
      },
      {
       "output_type": "stream",
       "stream": "stdout",
       "text": [
        " 60 % completion at 75 seconds\n",
        "     IP algorithm at"
       ]
      },
      {
       "output_type": "stream",
       "stream": "stdout",
       "text": [
        " 80 % completion at 76 seconds\n",
        "     IP algorithm at 100% completion at "
       ]
      },
      {
       "output_type": "stream",
       "stream": "stdout",
       "text": [
        " 77  seconds\n",
        "     IP algorithm at"
       ]
      },
      {
       "output_type": "stream",
       "stream": "stdout",
       "text": [
        " 0 % completion at 83 seconds\n",
        "     IP algorithm at"
       ]
      },
      {
       "output_type": "stream",
       "stream": "stdout",
       "text": [
        " 20 % completion at 83 seconds\n",
        "     IP algorithm at"
       ]
      },
      {
       "output_type": "stream",
       "stream": "stdout",
       "text": [
        " 40 % completion at 84 seconds\n",
        "     IP algorithm at"
       ]
      },
      {
       "output_type": "stream",
       "stream": "stdout",
       "text": [
        " 60 % completion at 84 seconds\n",
        "     IP algorithm at"
       ]
      },
      {
       "output_type": "stream",
       "stream": "stdout",
       "text": [
        " 80 % completion at 85 seconds\n",
        "     IP algorithm at 100% completion at "
       ]
      },
      {
       "output_type": "stream",
       "stream": "stdout",
       "text": [
        " 87  seconds\n",
        "     IP algorithm at"
       ]
      },
      {
       "output_type": "stream",
       "stream": "stdout",
       "text": [
        " 0 % completion at 93 seconds\n",
        "     IP algorithm at"
       ]
      },
      {
       "output_type": "stream",
       "stream": "stdout",
       "text": [
        " 20 % completion at 94 seconds\n",
        "     IP algorithm at"
       ]
      },
      {
       "output_type": "stream",
       "stream": "stdout",
       "text": [
        " 40 % completion at 94 seconds\n",
        "     IP algorithm at"
       ]
      },
      {
       "output_type": "stream",
       "stream": "stdout",
       "text": [
        " 60 % completion at 95 seconds\n",
        "     IP algorithm at"
       ]
      },
      {
       "output_type": "stream",
       "stream": "stdout",
       "text": [
        " 80 % completion at 95 seconds\n",
        "     IP algorithm at 100% completion at "
       ]
      },
      {
       "output_type": "stream",
       "stream": "stdout",
       "text": [
        " 97  seconds\n",
        "     IP algorithm at"
       ]
      },
      {
       "output_type": "stream",
       "stream": "stdout",
       "text": [
        " 0 % completion at 103 seconds\n",
        "     IP algorithm at"
       ]
      },
      {
       "output_type": "stream",
       "stream": "stdout",
       "text": [
        " 20 % completion at 103 seconds\n",
        "     IP algorithm at"
       ]
      },
      {
       "output_type": "stream",
       "stream": "stdout",
       "text": [
        " 40 % completion at 104 seconds\n",
        "     IP algorithm at"
       ]
      },
      {
       "output_type": "stream",
       "stream": "stdout",
       "text": [
        " 60 % completion at 104 seconds\n",
        "     IP algorithm at"
       ]
      },
      {
       "output_type": "stream",
       "stream": "stdout",
       "text": [
        " 80 % completion at 105 seconds\n",
        "     IP algorithm at 100% completion at "
       ]
      },
      {
       "output_type": "stream",
       "stream": "stdout",
       "text": [
        " 107  seconds\n",
        "     IP algorithm at"
       ]
      },
      {
       "output_type": "stream",
       "stream": "stdout",
       "text": [
        " 0 % completion at 112 seconds\n",
        "     IP algorithm at"
       ]
      },
      {
       "output_type": "stream",
       "stream": "stdout",
       "text": [
        " 20 % completion at 112 seconds\n",
        "     IP algorithm at"
       ]
      },
      {
       "output_type": "stream",
       "stream": "stdout",
       "text": [
        " 40 % completion at 113 seconds\n",
        "     IP algorithm at"
       ]
      },
      {
       "output_type": "stream",
       "stream": "stdout",
       "text": [
        " 60 % completion at 114 seconds\n",
        "     IP algorithm at"
       ]
      },
      {
       "output_type": "stream",
       "stream": "stdout",
       "text": [
        " 80 % completion at 114 seconds\n",
        "     IP algorithm at 100% completion at "
       ]
      },
      {
       "output_type": "stream",
       "stream": "stdout",
       "text": [
        " 116  seconds\n",
        "     IP algorithm at"
       ]
      },
      {
       "output_type": "stream",
       "stream": "stdout",
       "text": [
        " 0 % completion at 122 seconds\n",
        "     IP algorithm at"
       ]
      },
      {
       "output_type": "stream",
       "stream": "stdout",
       "text": [
        " 20 % completion at 123 seconds\n",
        "     IP algorithm at"
       ]
      },
      {
       "output_type": "stream",
       "stream": "stdout",
       "text": [
        " 40 % completion at 123 seconds\n",
        "     IP algorithm at"
       ]
      },
      {
       "output_type": "stream",
       "stream": "stdout",
       "text": [
        " 60 % completion at 124 seconds\n",
        "     IP algorithm at"
       ]
      },
      {
       "output_type": "stream",
       "stream": "stdout",
       "text": [
        " 80 % completion at 125 seconds\n",
        "     IP algorithm at 100% completion at "
       ]
      },
      {
       "output_type": "stream",
       "stream": "stdout",
       "text": [
        " 127  seconds\n",
        "     IP algorithm at"
       ]
      },
      {
       "output_type": "stream",
       "stream": "stdout",
       "text": [
        " 0 % completion at 134 seconds\n",
        "     IP algorithm at"
       ]
      },
      {
       "output_type": "stream",
       "stream": "stdout",
       "text": [
        " 20 % completion at 135 seconds\n",
        "     IP algorithm at"
       ]
      },
      {
       "output_type": "stream",
       "stream": "stdout",
       "text": [
        " 40 % completion at 135 seconds\n",
        "     IP algorithm at"
       ]
      },
      {
       "output_type": "stream",
       "stream": "stdout",
       "text": [
        " 60 % completion at 136 seconds\n",
        "     IP algorithm at"
       ]
      },
      {
       "output_type": "stream",
       "stream": "stdout",
       "text": [
        " 80 % completion at 137 seconds\n",
        "     IP algorithm at 100% completion at "
       ]
      },
      {
       "output_type": "stream",
       "stream": "stdout",
       "text": [
        " 139  seconds\n",
        "     IP algorithm at"
       ]
      },
      {
       "output_type": "stream",
       "stream": "stdout",
       "text": [
        " 0 % completion at 144 seconds\n",
        "     IP algorithm at"
       ]
      },
      {
       "output_type": "stream",
       "stream": "stdout",
       "text": [
        " 20 % completion at 145 seconds\n",
        "     IP algorithm at"
       ]
      },
      {
       "output_type": "stream",
       "stream": "stdout",
       "text": [
        " 40 % completion at 145 seconds\n",
        "     IP algorithm at"
       ]
      },
      {
       "output_type": "stream",
       "stream": "stdout",
       "text": [
        " 60 % completion at 146 seconds\n",
        "     IP algorithm at"
       ]
      },
      {
       "output_type": "stream",
       "stream": "stdout",
       "text": [
        " 80 % completion at 146 seconds\n",
        "     IP algorithm at 100% completion at "
       ]
      },
      {
       "output_type": "stream",
       "stream": "stdout",
       "text": [
        " 148  seconds\n",
        "     IP algorithm at"
       ]
      },
      {
       "output_type": "stream",
       "stream": "stdout",
       "text": [
        " 0 % completion at 154 seconds\n",
        "     IP algorithm at"
       ]
      },
      {
       "output_type": "stream",
       "stream": "stdout",
       "text": [
        " 20 % completion at 154 seconds\n",
        "     IP algorithm at"
       ]
      },
      {
       "output_type": "stream",
       "stream": "stdout",
       "text": [
        " 40 % completion at 155 seconds\n",
        "     IP algorithm at"
       ]
      },
      {
       "output_type": "stream",
       "stream": "stdout",
       "text": [
        " 60 % completion at 155 seconds\n",
        "     IP algorithm at"
       ]
      },
      {
       "output_type": "stream",
       "stream": "stdout",
       "text": [
        " 80 % completion at 156 seconds\n",
        "     IP algorithm at 100% completion at "
       ]
      },
      {
       "output_type": "stream",
       "stream": "stdout",
       "text": [
        " 158  seconds\n",
        "     IP algorithm at"
       ]
      },
      {
       "output_type": "stream",
       "stream": "stdout",
       "text": [
        " 0 % completion at 163 seconds\n",
        "     IP algorithm at"
       ]
      },
      {
       "output_type": "stream",
       "stream": "stdout",
       "text": [
        " 20 % completion at 164 seconds\n",
        "     IP algorithm at"
       ]
      },
      {
       "output_type": "stream",
       "stream": "stdout",
       "text": [
        " 40 % completion at 164 seconds\n",
        "     IP algorithm at"
       ]
      },
      {
       "output_type": "stream",
       "stream": "stdout",
       "text": [
        " 60 % completion at 165 seconds\n",
        "     IP algorithm at"
       ]
      },
      {
       "output_type": "stream",
       "stream": "stdout",
       "text": [
        " 80 % completion at 165 seconds\n",
        "     IP algorithm at 100% completion at "
       ]
      },
      {
       "output_type": "stream",
       "stream": "stdout",
       "text": [
        " 167  seconds\n",
        "     IP algorithm at"
       ]
      },
      {
       "output_type": "stream",
       "stream": "stdout",
       "text": [
        " 0 % completion at 173 seconds\n",
        "     IP algorithm at"
       ]
      },
      {
       "output_type": "stream",
       "stream": "stdout",
       "text": [
        " 20 % completion at 173 seconds\n",
        "     IP algorithm at"
       ]
      },
      {
       "output_type": "stream",
       "stream": "stdout",
       "text": [
        " 40 % completion at 174 seconds\n",
        "     IP algorithm at"
       ]
      },
      {
       "output_type": "stream",
       "stream": "stdout",
       "text": [
        " 60 % completion at 174 seconds\n",
        "     IP algorithm at"
       ]
      },
      {
       "output_type": "stream",
       "stream": "stdout",
       "text": [
        " 80 % completion at 175 seconds\n",
        "     IP algorithm at 100% completion at "
       ]
      },
      {
       "output_type": "stream",
       "stream": "stdout",
       "text": [
        " 177  seconds\n",
        "     IP algorithm at"
       ]
      },
      {
       "output_type": "stream",
       "stream": "stdout",
       "text": [
        " 0 % completion at 183 seconds\n",
        "     IP algorithm at"
       ]
      },
      {
       "output_type": "stream",
       "stream": "stdout",
       "text": [
        " 20 % completion at 183 seconds\n",
        "     IP algorithm at"
       ]
      },
      {
       "output_type": "stream",
       "stream": "stdout",
       "text": [
        " 40 % completion at 183 seconds\n",
        "     IP algorithm at"
       ]
      },
      {
       "output_type": "stream",
       "stream": "stdout",
       "text": [
        " 60 % completion at 184 seconds\n",
        "     IP algorithm at"
       ]
      },
      {
       "output_type": "stream",
       "stream": "stdout",
       "text": [
        " 80 % completion at 185 seconds\n",
        "     IP algorithm at 100% completion at "
       ]
      },
      {
       "output_type": "stream",
       "stream": "stdout",
       "text": [
        " 187  seconds\n",
        "     IP algorithm at"
       ]
      },
      {
       "output_type": "stream",
       "stream": "stdout",
       "text": [
        " 0 % completion at 192 seconds\n",
        "     IP algorithm at"
       ]
      },
      {
       "output_type": "stream",
       "stream": "stdout",
       "text": [
        " 20 % completion at 192 seconds\n",
        "     IP algorithm at"
       ]
      },
      {
       "output_type": "stream",
       "stream": "stdout",
       "text": [
        " 40 % completion at 193 seconds\n",
        "     IP algorithm at"
       ]
      },
      {
       "output_type": "stream",
       "stream": "stdout",
       "text": [
        " 60 % completion at 193 seconds\n",
        "     IP algorithm at"
       ]
      },
      {
       "output_type": "stream",
       "stream": "stdout",
       "text": [
        " 80 % completion at 194 seconds\n",
        "     IP algorithm at 100% completion at "
       ]
      },
      {
       "output_type": "stream",
       "stream": "stdout",
       "text": [
        " 196  seconds\n",
        "     IP algorithm at"
       ]
      },
      {
       "output_type": "stream",
       "stream": "stdout",
       "text": [
        " 0 % completion at 202 seconds\n",
        "     IP algorithm at"
       ]
      },
      {
       "output_type": "stream",
       "stream": "stdout",
       "text": [
        " 20 % completion at 202 seconds\n",
        "     IP algorithm at"
       ]
      },
      {
       "output_type": "stream",
       "stream": "stdout",
       "text": [
        " 40 % completion at 202 seconds\n",
        "     IP algorithm at"
       ]
      },
      {
       "output_type": "stream",
       "stream": "stdout",
       "text": [
        " 60 % completion at 203 seconds\n",
        "     IP algorithm at"
       ]
      },
      {
       "output_type": "stream",
       "stream": "stdout",
       "text": [
        " 80 % completion at 204 seconds\n",
        "     IP algorithm at 100% completion at "
       ]
      },
      {
       "output_type": "stream",
       "stream": "stdout",
       "text": [
        " 205  seconds\n"
       ]
      },
      {
       "metadata": {},
       "output_type": "display_data",
       "png": "[encoded data removed]",
       "text": [
        "<matplotlib.figure.Figure at 0x108001860>"
       ]
      }
     ],
     "prompt_number": 20
    },
    {
     "cell_type": "markdown",
     "metadata": {},
     "source": [
      "This graph should look something like the one below:"
     ]
    },
    {
     "cell_type": "code",
     "collapsed": false,
     "input": [
      "i = Image(url = 'http://i.imgur.com/AtZClAC.png')\n",
      "display(i)"
     ],
     "language": "python",
     "metadata": {},
     "outputs": [
      {
       "html": [
        "<img src=\"http://i.imgur.com/AtZClAC.png\"/>"
       ],
       "metadata": {},
       "output_type": "display_data",
       "text": [
        "<IPython.core.display.Image at 0x107fe8dd8>"
       ]
      }
     ],
     "prompt_number": 19
    },
    {
     "cell_type": "heading",
     "level": 2,
     "metadata": {},
     "source": [
      "Generating a graph of N (network size parameter) versus f(epsilon)"
     ]
    },
    {
     "cell_type": "markdown",
     "metadata": {},
     "source": [
      "Wu's second graph shows how N affects f(epsilon).  f(epsilon) is the same as normalized diffusivity when saturation is 0, therefore we want to always have IP updated to IPseq = 0 (before any pores have been invaded). We want our for loop to change n continuously instead.  Unfortunately, we need n to be set before we begin anything else, so this for loop must be much bigger than the one we were using before.\n",
      "\n",
      "We do not need to run invasion percolation, because we want our network to be completely filled with air.  However, in order to have Fickian diffusion run as expected, we must set occupancy values.\n",
      "\n",
      "Again, running this loop once will only generate one data point per value for N.  This can ensure us of the trend, but to copy Wu's data we should run this loop more than once.  Note that completion may take a few minutes, as networks that are bigger take longer and longer to process.\n",
      "\n",
      "We will use y_2_values to store our normal diffusivity values so that we can save our data from the previous script."
     ]
    },
    {
     "cell_type": "code",
     "collapsed": false,
     "input": [
      "y_2_values = []\n",
      "\n",
      "n_values = [8, 10, 12, 14, 16, 18, 20]\n",
      "\n",
      "for x in range(5):\n",
      "    for n in n_values:\n",
      "\n",
      "        Lc = 25e-6\n",
      "\n",
      "        pn = OpenPNM.Network.Cubic(name = 'Wu')\n",
      "\n",
      "        #code to run if we want to set add_boundaries to be False\n",
      "        pn.generate(divisions = [n,n,2*n], add_boundaries= False, lattice_spacing = [Lc])\n",
      "\n",
      "        geo = OpenPNM.Geometry.GenericGeometry(name = 'wu_geometry', network = pn)\n",
      "        geo.set_locations(pores = pn.pores('all'), throats = 'all')\n",
      "\n",
      "        low = .5e-6\n",
      "        high = 9.5e-6\n",
      "\n",
      "        geo.add_method(prop='pore_diameter',model='constant', value = 24e-6)\n",
      "        geo.add_method(prop='pore_volume',model='sphere')\n",
      "\n",
      "        #setting throat diameters to be a uniform distribution\n",
      "        radii = low + sp.rand(pn.num_throats())*(high - low)\n",
      "        pn.set_data(prop = 'diameter', throats = pn.throats(), data = radii*2)\n",
      "\n",
      "        geo.add_method(prop='throat_length',model='straight')\n",
      "        geo.add_method(prop='throat_volume',model='cylinder')\n",
      "\n",
      "        pn.regenerate_geometries()\n",
      "\n",
      "        #fluids\n",
      "        air = OpenPNM.Fluids.Air(network = pn, name = 'air')\n",
      "        water = OpenPNM.Fluids.Water(network = pn, name = 'water')\n",
      "        pn.regenerate_fluids()\n",
      "\n",
      "        #physics objects\n",
      "        phys_water = OpenPNM.Physics.GenericPhysics(network=pn,fluid=water, geometry = geo, name='standard_water_physics')\n",
      "        phys_air = OpenPNM.Physics.GenericPhysics(network=pn,fluid=air, geometry = geo, name='standard_air_physics')\n",
      "\n",
      "        phys_water.add_method(prop='capillary_pressure', model='washburn') #accounts for cylindrical throats\n",
      "        phys_water.add_method(prop='hydraulic_conductance',model='hagen_poiseuille')\n",
      "        phys_water.add_method(prop='diffusive_conductance', model='bulk_diffusion', shape = 'circular')\n",
      "        phys_air.add_method(prop='hydraulic_conductance',model='hagen_poiseuille')\n",
      "\n",
      "        bulk_diffusion_wu(physics = phys_air, network = pn, fluid = air, geometry = geo, propname = 'diffusive_conductance')\n",
      "        pn.regenerate_physics()\n",
      "\n",
      "        #Invasion percolation\n",
      "        inlets = pn.get_pore_indices(labels = ['bottom']) #can put in brackets so the whole bottom of the lattice is considered 1 inlet\n",
      "        outlets = pn.get_pore_indices(labels = ['top'])\n",
      "\n",
      "        air.set_data(pores = pn.pores(), prop = 'occupancy', data = 1)\n",
      "        air.set_data(throats = pn.throats(), prop = 'occupancy', data = 1)\n",
      "\n",
      "        water.set_data(pores = pn.pores(), prop = 'occupancy', data = 0)\n",
      "        water.set_data(throats = pn.throats(), prop = 'occupancy', data = 0)\n",
      "\n",
      "        Fickian_alg = OpenPNM.Algorithms.FickianDiffusion(loggername = 'Fickian', name = 'Fickian', network = pn)\n",
      "\n",
      "        #set labels for top boundary\n",
      "        #set labels for bottom boundary\n",
      "        A = pn._Nx**2\n",
      "\n",
      "        z_dimension = int(pn.domain_size(dimension = 'height')/Lc) #number of pores in the z direction\n",
      "        quarter_layer = z_dimension/4 #estimates which layer marks 1/4 up the lattice\n",
      "        pore_number = int(quarter_layer*A) #gives the first pore in the layer 1/4 up the lattice\n",
      "\n",
      "        bottom_boundary = list(range(pore_number, pore_number + A))\n",
      "        top_boundary = list(range(pn.num_pores() - pore_number, pn.num_pores() - pore_number +A))\n",
      "\n",
      "        Fickian_alg.set_boundary_conditions(bctype='Dirichlet', bcvalue=0.6, pores=bottom_boundary)\n",
      "        Fickian_alg.set_boundary_conditions(bctype='Dirichlet', bcvalue=0.2, pores=top_boundary)\n",
      "\n",
      "        Fickian_alg.setup(conductance = 'diffusive_conductance',fluid=air)\n",
      "        Fickian_alg.run()\n",
      "\n",
      "        effective_diffusivity = Fickian_alg.calc_eff_diffusivity(clean = False) \n",
      "        bulk_diffusivity = air.get_pore_data(prop = 'diffusivity')\n",
      "\n",
      "        y_2_values.append((effective_diffusivity/bulk_diffusivity)[0])"
     ],
     "language": "python",
     "metadata": {},
     "outputs": [],
     "prompt_number": 21
    },
    {
     "cell_type": "markdown",
     "metadata": {},
     "source": [
      "Now we plot n_values versus y_values, so that we get a graph of N versus f(epsilon).  we can use plt.axis(x_min, x_max, y_min, y_max) to control the axis on the graph, to make it more clear that f(epsilon) should not change with N.  The graph should also make clear that the standard deviation of f(epsilon) decreases as N increases (if you generate more than one data point per n value).  This makes sense, as increasing N also increases the number of throats.\n",
      "\n",
      "The plot axis has been adjusted to make it more obvious that F(epsilon) barely changes with N.  "
     ]
    },
    {
     "cell_type": "code",
     "collapsed": false,
     "input": [
      "plt.plot(n_values + n_values + n_values + n_values + n_values, y_2_values, 'ro')\n",
      "plt.title('F(epsilon) versus N')\n",
      "plt.xlabel('N')\n",
      "plt.ylabel('F(epsilon)')\n",
      "plt.axis(xmin = 6,xmax = 22,ymin= 0,ymax = .2)\n",
      "plt.show()"
     ],
     "language": "python",
     "metadata": {},
     "outputs": [
      {
       "metadata": {},
       "output_type": "display_data",
       "png": "[encoded data removed]",
       "text": [
        "<matplotlib.figure.Figure at 0x108279630>"
       ]
      }
     ],
     "prompt_number": 22
    },
    {
     "cell_type": "markdown",
     "metadata": {},
     "source": [
      "This graph should match the one below: "
     ]
    },
    {
     "cell_type": "code",
     "collapsed": false,
     "input": [
      "i = Image(url = 'http://i.imgur.com/ktQTci6.png')\n",
      "display(i)"
     ],
     "language": "python",
     "metadata": {},
     "outputs": [
      {
       "html": [
        "<img src=\"http://i.imgur.com/ktQTci6.png\"/>"
       ],
       "metadata": {},
       "output_type": "display_data",
       "text": [
        "<IPython.core.display.Image at 0x105efb978>"
       ]
      }
     ],
     "prompt_number": 23
    },
    {
     "cell_type": "heading",
     "level": 2,
     "metadata": {},
     "source": [
      "Generating a graph of saturation versus g(s)"
     ]
    },
    {
     "cell_type": "markdown",
     "metadata": {},
     "source": [
      "Wu's third graph plots saturation versus g(s).  g(s)f(epsilon) = normalized_diffusivity, so g(s) = normalized_diffusivity/f(epsilon).  To make this second graph, we should normalize each of the curves to the first value (when saturation is 0).    "
     ]
    },
    {
     "cell_type": "code",
     "collapsed": false,
     "input": [
      "normalize_factor = y_values[0]\n",
      "g_values = list(range(len(y_values)))\n",
      "for x in range(1000):\n",
      "    if x%50 == 0:\n",
      "        normalize_factor = y_values[x]\n",
      "    g_values[x] = y_values[x]/normalize_factor\n",
      "    \n",
      "wu_saturation = [0.004, 0.066, 0.0930, .119, 0.14, 0.175, 0.209, 0.24, 0.282, 0.32, 0.371, 0.413,\n",
      "    0.464, 0.517, 0.605, 0.672, 0.761, 0.831, 0.898, 0.948, 0.996]\n",
      "wu_g_values = [0.986, 0.838, 0.758, 0.701, 0.651, 0.576, 0.516, 0.456, 0.39, 0.335, 0.268, 0.221,\n",
      "    0.171, 0.111, 0.067, 0.04, 0.019, 0.007, 0.003, 0.003, 0.003]\n",
      "    \n",
      "p1, = plt.plot(x_values, g_values, 'wo')\n",
      "p2, = plt.plot(wu_saturation, wu_g_values, 'ro')\n",
      "plt.title('g(s) versus saturation')\n",
      "plt.xlabel('saturation')\n",
      "plt.ylabel('g(s)')\n",
      "plt.legend([p1, p2],\n",
      "           [\"our values\", \"Wu's values (fitted curve)\"], loc='center left', bbox_to_anchor=(1, 0.5), prop = fontP)\n",
      "plt.show()"
     ],
     "language": "python",
     "metadata": {},
     "outputs": [
      {
       "metadata": {},
       "output_type": "display_data",
       "png": "[encoded data removed]",
       "text": [
        "<matplotlib.figure.Figure at 0x108ddcda0>"
       ]
      }
     ],
     "prompt_number": 24
    },
    {
     "cell_type": "markdown",
     "metadata": {},
     "source": [
      "The graph generated should mimic the one below.  Note that if the data go above 1 on the g(s) axis this is because we sped up this process by generating less data than Wu."
     ]
    },
    {
     "cell_type": "code",
     "collapsed": false,
     "input": [
      "i = Image(url = 'http://i.imgur.com/gnn0KpL.png')\n",
      "display(i)"
     ],
     "language": "python",
     "metadata": {},
     "outputs": [
      {
       "html": [
        "<img src=\"http://i.imgur.com/gnn0KpL.png\"/>"
       ],
       "metadata": {},
       "output_type": "display_data",
       "text": [
        "<IPython.core.display.Image at 0x108500b70>"
       ]
      }
     ],
     "prompt_number": 34
    },
    {
     "cell_type": "heading",
     "level": 2,
     "metadata": {},
     "source": [
      "Discrepencies between our data and Wu's data"
     ]
    },
    {
     "cell_type": "markdown",
     "metadata": {},
     "source": [
      "There are several differences between our simulation and that of Wu et al-\n",
      "\n",
      "1) the effective diffusivity calculations done by OpenPNM assume a binary system.  Our code finds diffusion of oxygen through nitrogen, while Wu et al find diffusion for oxygen alone.  Being able to completely copy Wu's equations would require much editing to OpenPNM, and it has been decided that maintaining only a binary system way of calculating effective diffusivity is preferable.\n",
      "\n",
      "2) There are some assumptions that had to be made that we cannot be sure matched perfectly with Wu's assumptions.  One example of this is temperature.  We have assumed the oxygen Wu was running through the network was at 273 degrees Kelvin, but we cannot be certain that this is the value he was using.\n",
      "\n",
      "3) There are some slight calculation differences Wu uses because his throats are circular instead of square in cross-section and his pores are spherical instead of cubic.  This mostly effects fluid dynamics calculations including diffusive conductance, hydraulic conductance, and capillary pressure."
     ]
    }
   ],
   "metadata": {}
  }
 ]
}